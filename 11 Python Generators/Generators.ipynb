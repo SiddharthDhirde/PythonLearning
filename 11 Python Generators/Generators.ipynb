{
 "cells": [
  {
   "cell_type": "markdown",
   "id": "b2001c6d",
   "metadata": {},
   "source": [
    "## Generators\n",
    "### Generators are a type of iterable, like lists or tuples, but they generate values on-the-fly using a special syntax. They are iterators themselves and can be iterated over using a loop, similar to how you would iterate over a list.\n",
    "\n",
    "### Generators are defined using a function with one or more yield statements. When called, a generator function returns a generator object that can be iterated over. Each time the yield statement is encountered in the generator function, the function's state is saved, and the value is returned to the caller. The generator function then pauses until the next value is requested."
   ]
  },
  {
   "cell_type": "code",
   "execution_count": 1,
   "id": "a6329cd0",
   "metadata": {},
   "outputs": [
    {
     "name": "stdout",
     "output_type": "stream",
     "text": [
      "5\n",
      "4\n",
      "3\n",
      "2\n",
      "1\n"
     ]
    }
   ],
   "source": [
    "# simple example of a generator function:\n",
    "def countdown(n):\n",
    "    while n > 0:\n",
    "        yield n\n",
    "        n -= 1\n",
    "\n",
    "# Using the generator function\n",
    "for i in countdown(5):\n",
    "    print(i)\n",
    "    \n",
    "# In this example, countdown is a generator function that yields values from n down to 1. \n",
    "# When you call countdown(5), it returns a generator object. The for loop then iterates over the generator object, \n",
    "# calling it each time to get the next value until the generator is exhausted."
   ]
  },
  {
   "cell_type": "markdown",
   "id": "ba1c4a87",
   "metadata": {},
   "source": [
    "### Generators are memory efficient because they generate values on-the-fly rather than storing them all in memory at once. This makes them particularly useful for working with large datasets or when dealing with operations that produce a large number of values.\n",
    "\n",
    "### Generators are also versatile. They can be used in conjunction with other Python features like list comprehensions, generator expressions, and built-in functions such as sum(), min(), max(), etc."
   ]
  },
  {
   "cell_type": "code",
   "execution_count": 2,
   "id": "5c13d619",
   "metadata": {},
   "outputs": [
    {
     "name": "stdout",
     "output_type": "stream",
     "text": [
      "squares = <generator object <genexpr> at 0x000002A6C6A82340>\n",
      "55\n"
     ]
    }
   ],
   "source": [
    "# Generator expression to generate squares of numbers\n",
    "squares = (x**2 for x in range(1, 6))\n",
    "print(f'{squares = }')\n",
    "\n",
    "# Calculate sum of squares using the generator expression\n",
    "sum_of_squares = sum(squares)\n",
    "print(sum_of_squares)  # Output: 55"
   ]
  },
  {
   "cell_type": "code",
   "execution_count": 3,
   "id": "048b6f06",
   "metadata": {},
   "outputs": [
    {
     "name": "stdout",
     "output_type": "stream",
     "text": [
      "squares = [1, 4, 9, 16, 25]\n",
      "55\n"
     ]
    }
   ],
   "source": [
    "squares = [x**2 for x in range(1, 6)]\n",
    "print(f'{squares = }')\n",
    "print(sum(squares))"
   ]
  },
  {
   "cell_type": "code",
   "execution_count": 4,
   "id": "c120da44",
   "metadata": {},
   "outputs": [
    {
     "name": "stdout",
     "output_type": "stream",
     "text": [
      "squares = {1: 1, 2: 4, 3: 9, 4: 16, 5: 25}\n",
      "55\n"
     ]
    }
   ],
   "source": [
    "squares = {x:x**2 for x in range(1, 6)}\n",
    "print(f'{squares = }')\n",
    "print(sum(squares.values()))"
   ]
  },
  {
   "cell_type": "markdown",
   "id": "b64ed364",
   "metadata": {},
   "source": [
    "### Generators are a powerful tool in Python for handling data streams and generating sequences of values efficiently. They are often used in scenarios where memory efficiency and lazy evaluation are important."
   ]
  },
  {
   "cell_type": "code",
   "execution_count": null,
   "id": "7adf8d4f",
   "metadata": {},
   "outputs": [],
   "source": []
  },
  {
   "cell_type": "code",
   "execution_count": 5,
   "id": "23e7ae01",
   "metadata": {},
   "outputs": [],
   "source": [
    "def cubes(n):\n",
    "    result = []\n",
    "    \n",
    "    for i in range(n):\n",
    "        result.append(i**3)\n",
    "    \n",
    "    return result"
   ]
  },
  {
   "cell_type": "code",
   "execution_count": 6,
   "id": "d4d431c2",
   "metadata": {},
   "outputs": [
    {
     "data": {
      "text/plain": [
       "[0, 1, 8, 27, 64, 125, 216, 343, 512, 729]"
      ]
     },
     "execution_count": 6,
     "metadata": {},
     "output_type": "execute_result"
    }
   ],
   "source": [
    "cubes(10)"
   ]
  },
  {
   "cell_type": "code",
   "execution_count": 7,
   "id": "7d253f64",
   "metadata": {},
   "outputs": [
    {
     "name": "stdout",
     "output_type": "stream",
     "text": [
      "0\n",
      "1\n",
      "8\n",
      "27\n",
      "64\n",
      "125\n",
      "216\n",
      "343\n",
      "512\n",
      "729\n"
     ]
    }
   ],
   "source": [
    "for x in cubes(10):\n",
    "    print(x) "
   ]
  },
  {
   "cell_type": "code",
   "execution_count": 8,
   "id": "fa450410",
   "metadata": {},
   "outputs": [],
   "source": [
    "def create_cubes(n):\n",
    "\n",
    "    for i in range(n):\n",
    "        yield (i**3)    # generator (memory efficient)"
   ]
  },
  {
   "cell_type": "code",
   "execution_count": 9,
   "id": "fb8fec6f",
   "metadata": {},
   "outputs": [
    {
     "name": "stdout",
     "output_type": "stream",
     "text": [
      "0\n",
      "1\n",
      "8\n",
      "27\n",
      "64\n",
      "125\n",
      "216\n",
      "343\n",
      "512\n",
      "729\n"
     ]
    }
   ],
   "source": [
    "for x in create_cubes(10):\n",
    "    print(x) "
   ]
  },
  {
   "cell_type": "code",
   "execution_count": 10,
   "id": "99e3cd4a",
   "metadata": {},
   "outputs": [
    {
     "data": {
      "text/plain": [
       "<generator object create_cubes at 0x000002A6C6A82EA0>"
      ]
     },
     "execution_count": 10,
     "metadata": {},
     "output_type": "execute_result"
    }
   ],
   "source": [
    "create_cubes(10)"
   ]
  },
  {
   "cell_type": "code",
   "execution_count": 11,
   "id": "79a2bf69",
   "metadata": {},
   "outputs": [
    {
     "data": {
      "text/plain": [
       "[0, 1, 8, 27, 64, 125, 216, 343, 512, 729]"
      ]
     },
     "execution_count": 11,
     "metadata": {},
     "output_type": "execute_result"
    }
   ],
   "source": [
    "list(create_cubes(10)) # generator ---> list"
   ]
  },
  {
   "cell_type": "code",
   "execution_count": null,
   "id": "2c4a343d",
   "metadata": {},
   "outputs": [],
   "source": []
  },
  {
   "cell_type": "code",
   "execution_count": 12,
   "id": "9995e94d",
   "metadata": {},
   "outputs": [],
   "source": [
    "def gen_fibon(n):\n",
    "    \n",
    "    a = 0\n",
    "    b = 1\n",
    "    \n",
    "    for i in range(n):\n",
    "        yield a\n",
    "        a,b = b,a+b"
   ]
  },
  {
   "cell_type": "code",
   "execution_count": 13,
   "id": "a906d6cf",
   "metadata": {},
   "outputs": [
    {
     "data": {
      "text/plain": [
       "<generator object gen_fibon at 0x000002A6C6A830D0>"
      ]
     },
     "execution_count": 13,
     "metadata": {},
     "output_type": "execute_result"
    }
   ],
   "source": [
    "gen_fibon(10)"
   ]
  },
  {
   "cell_type": "code",
   "execution_count": 14,
   "id": "aaabddfc",
   "metadata": {},
   "outputs": [
    {
     "name": "stdout",
     "output_type": "stream",
     "text": [
      "0\n",
      "1\n",
      "1\n",
      "2\n",
      "3\n",
      "5\n",
      "8\n",
      "13\n",
      "21\n",
      "34\n"
     ]
    }
   ],
   "source": [
    "for number in gen_fibon(10):\n",
    "    print(number)"
   ]
  },
  {
   "cell_type": "code",
   "execution_count": null,
   "id": "32a56994",
   "metadata": {},
   "outputs": [],
   "source": []
  },
  {
   "cell_type": "code",
   "execution_count": 15,
   "id": "8307d441",
   "metadata": {},
   "outputs": [],
   "source": [
    "def gen_fibon(n):\n",
    "    \n",
    "    a = 0\n",
    "    b = 1\n",
    "    output = []\n",
    "    for i in range(n):\n",
    "        output.append(a)\n",
    "        a,b = b,a+b\n",
    "    return output"
   ]
  },
  {
   "cell_type": "code",
   "execution_count": 16,
   "id": "8e2c18d0",
   "metadata": {},
   "outputs": [
    {
     "data": {
      "text/plain": [
       "[0, 1, 1, 2, 3, 5, 8, 13, 21, 34]"
      ]
     },
     "execution_count": 16,
     "metadata": {},
     "output_type": "execute_result"
    }
   ],
   "source": [
    "gen_fibon(10)"
   ]
  },
  {
   "cell_type": "code",
   "execution_count": 17,
   "id": "4500ea6f",
   "metadata": {},
   "outputs": [
    {
     "name": "stdout",
     "output_type": "stream",
     "text": [
      "0\n",
      "1\n",
      "1\n",
      "2\n",
      "3\n",
      "5\n",
      "8\n",
      "13\n",
      "21\n",
      "34\n"
     ]
    }
   ],
   "source": [
    "for i in gen_fibon(10):\n",
    "    print(i)"
   ]
  },
  {
   "cell_type": "code",
   "execution_count": null,
   "id": "bbabad82",
   "metadata": {},
   "outputs": [],
   "source": []
  },
  {
   "cell_type": "code",
   "execution_count": 18,
   "id": "e1041cf4",
   "metadata": {},
   "outputs": [],
   "source": [
    "def simple_gen():\n",
    "    for i in range(3):\n",
    "        yield i"
   ]
  },
  {
   "cell_type": "code",
   "execution_count": 19,
   "id": "ab274163",
   "metadata": {},
   "outputs": [
    {
     "name": "stdout",
     "output_type": "stream",
     "text": [
      "0\n",
      "1\n",
      "2\n"
     ]
    }
   ],
   "source": [
    "for number in simple_gen():\n",
    "    print(number)"
   ]
  },
  {
   "cell_type": "code",
   "execution_count": 20,
   "id": "2ae6d6aa",
   "metadata": {},
   "outputs": [],
   "source": [
    "g = simple_gen()"
   ]
  },
  {
   "cell_type": "code",
   "execution_count": 21,
   "id": "a920516a",
   "metadata": {},
   "outputs": [
    {
     "data": {
      "text/plain": [
       "<generator object simple_gen at 0x000002A6C6A838B0>"
      ]
     },
     "execution_count": 21,
     "metadata": {},
     "output_type": "execute_result"
    }
   ],
   "source": [
    "g"
   ]
  },
  {
   "cell_type": "code",
   "execution_count": 22,
   "id": "2c356539",
   "metadata": {},
   "outputs": [
    {
     "name": "stdout",
     "output_type": "stream",
     "text": [
      "<generator object simple_gen at 0x000002A6C6A838B0>\n"
     ]
    }
   ],
   "source": [
    "print(g)"
   ]
  },
  {
   "cell_type": "code",
   "execution_count": 23,
   "id": "98c7c4b3",
   "metadata": {},
   "outputs": [
    {
     "data": {
      "text/plain": [
       "0"
      ]
     },
     "execution_count": 23,
     "metadata": {},
     "output_type": "execute_result"
    }
   ],
   "source": [
    "next(g)"
   ]
  },
  {
   "cell_type": "code",
   "execution_count": 24,
   "id": "91e6b594",
   "metadata": {},
   "outputs": [
    {
     "name": "stdout",
     "output_type": "stream",
     "text": [
      "1\n"
     ]
    }
   ],
   "source": [
    "print(next(g)) # its not holding in memory like list --> memory efficient"
   ]
  },
  {
   "cell_type": "code",
   "execution_count": 25,
   "id": "0765f92b",
   "metadata": {},
   "outputs": [
    {
     "name": "stdout",
     "output_type": "stream",
     "text": [
      "2\n"
     ]
    }
   ],
   "source": [
    "print(next(g)) # its not holding in memory like list --> memory efficient"
   ]
  },
  {
   "cell_type": "code",
   "execution_count": 26,
   "id": "18a5b2ef",
   "metadata": {},
   "outputs": [],
   "source": [
    "# print(next(g)) \n",
    "# ---------------------------------------------------------------------------\n",
    "# StopIteration                             Traceback (most recent call last)\n",
    "# Input In [41], in <module>\n",
    "# ----> 1 print(next(g))\n",
    "\n",
    "# StopIteration: "
   ]
  },
  {
   "cell_type": "code",
   "execution_count": null,
   "id": "f6a18d93",
   "metadata": {},
   "outputs": [],
   "source": []
  },
  {
   "cell_type": "code",
   "execution_count": 27,
   "id": "a61eacae",
   "metadata": {},
   "outputs": [],
   "source": [
    "s = 'Hello'"
   ]
  },
  {
   "cell_type": "code",
   "execution_count": 28,
   "id": "4c035e51",
   "metadata": {},
   "outputs": [
    {
     "name": "stdout",
     "output_type": "stream",
     "text": [
      "H\n",
      "e\n",
      "l\n",
      "l\n",
      "o\n"
     ]
    }
   ],
   "source": [
    "for letter in s: # string object support iteration but its not iterator like generator\n",
    "    print(letter)"
   ]
  },
  {
   "cell_type": "code",
   "execution_count": 29,
   "id": "690a95b7",
   "metadata": {},
   "outputs": [],
   "source": [
    "# next(s)\n",
    "\n",
    "# ---------------------------------------------------------------------------\n",
    "# TypeError                                 Traceback (most recent call last)\n",
    "# Input In [46], in <module>\n",
    "# ----> 1 next(s)\n",
    "\n",
    "# TypeError: 'str' object is not an iterator"
   ]
  },
  {
   "cell_type": "code",
   "execution_count": null,
   "id": "46864c71",
   "metadata": {},
   "outputs": [],
   "source": []
  },
  {
   "cell_type": "code",
   "execution_count": 30,
   "id": "03cb559f",
   "metadata": {},
   "outputs": [],
   "source": [
    "s_iter = iter(s)"
   ]
  },
  {
   "cell_type": "code",
   "execution_count": 31,
   "id": "cfcd0cd8",
   "metadata": {},
   "outputs": [
    {
     "data": {
      "text/plain": [
       "'H'"
      ]
     },
     "execution_count": 31,
     "metadata": {},
     "output_type": "execute_result"
    }
   ],
   "source": [
    "next(s_iter)"
   ]
  },
  {
   "cell_type": "code",
   "execution_count": 32,
   "id": "bd46acee",
   "metadata": {},
   "outputs": [
    {
     "data": {
      "text/plain": [
       "'e'"
      ]
     },
     "execution_count": 32,
     "metadata": {},
     "output_type": "execute_result"
    }
   ],
   "source": [
    "next(s_iter)"
   ]
  },
  {
   "cell_type": "code",
   "execution_count": 33,
   "id": "72cd9d81",
   "metadata": {},
   "outputs": [
    {
     "data": {
      "text/plain": [
       "'l'"
      ]
     },
     "execution_count": 33,
     "metadata": {},
     "output_type": "execute_result"
    }
   ],
   "source": [
    "next(s_iter)"
   ]
  },
  {
   "cell_type": "code",
   "execution_count": 34,
   "id": "e2a97d38",
   "metadata": {},
   "outputs": [
    {
     "data": {
      "text/plain": [
       "<str_iterator at 0x2a6c6717a00>"
      ]
     },
     "execution_count": 34,
     "metadata": {},
     "output_type": "execute_result"
    }
   ],
   "source": [
    "s_iter"
   ]
  },
  {
   "cell_type": "code",
   "execution_count": 35,
   "id": "759d7d79",
   "metadata": {},
   "outputs": [],
   "source": [
    "# s_iter()\n",
    "\n",
    "# ---------------------------------------------------------------------------\n",
    "# TypeError                                 Traceback (most recent call last)\n",
    "# Input In [58], in <module>\n",
    "# ----> 1 s_iter()\n",
    "\n",
    "# TypeError: 'str_iterator' object is not callable\n"
   ]
  },
  {
   "cell_type": "code",
   "execution_count": null,
   "id": "f8df8161",
   "metadata": {},
   "outputs": [],
   "source": []
  },
  {
   "cell_type": "code",
   "execution_count": 36,
   "id": "748c9eda",
   "metadata": {},
   "outputs": [],
   "source": [
    "# Generators practice"
   ]
  },
  {
   "cell_type": "code",
   "execution_count": 37,
   "id": "bfdaa55b",
   "metadata": {},
   "outputs": [],
   "source": [
    "def gen_square(n):\n",
    "    \n",
    "    for i in range(n):\n",
    "        yield i**2"
   ]
  },
  {
   "cell_type": "code",
   "execution_count": 38,
   "id": "f4fb7ede",
   "metadata": {},
   "outputs": [
    {
     "name": "stdout",
     "output_type": "stream",
     "text": [
      "0\n",
      "1\n",
      "4\n",
      "9\n",
      "16\n",
      "25\n",
      "36\n",
      "49\n",
      "64\n",
      "81\n"
     ]
    }
   ],
   "source": [
    "for x in gen_square(10):\n",
    "    print(x)"
   ]
  },
  {
   "cell_type": "code",
   "execution_count": null,
   "id": "652c5d7b",
   "metadata": {},
   "outputs": [],
   "source": []
  },
  {
   "cell_type": "code",
   "execution_count": 39,
   "id": "d55f97a1",
   "metadata": {},
   "outputs": [],
   "source": [
    "#2"
   ]
  },
  {
   "cell_type": "code",
   "execution_count": 40,
   "id": "8ff21f95",
   "metadata": {},
   "outputs": [
    {
     "data": {
      "text/plain": [
       "10"
      ]
     },
     "execution_count": 40,
     "metadata": {},
     "output_type": "execute_result"
    }
   ],
   "source": [
    "import random\n",
    "random.randint(1,10)"
   ]
  },
  {
   "cell_type": "code",
   "execution_count": 41,
   "id": "9a96228c",
   "metadata": {},
   "outputs": [],
   "source": [
    "def rand_int(low,high,n):\n",
    "    \n",
    "    for i in range(n):\n",
    "        yield random.randint(low,high)"
   ]
  },
  {
   "cell_type": "code",
   "execution_count": 42,
   "id": "a718c3f8",
   "metadata": {},
   "outputs": [
    {
     "name": "stdout",
     "output_type": "stream",
     "text": [
      "8\n",
      "7\n",
      "3\n",
      "8\n",
      "4\n",
      "9\n",
      "7\n",
      "4\n",
      "1\n",
      "7\n",
      "8\n",
      "4\n"
     ]
    }
   ],
   "source": [
    "for num in rand_int(1,10,12):\n",
    "    print(num)"
   ]
  },
  {
   "cell_type": "code",
   "execution_count": 43,
   "id": "34fb2c78",
   "metadata": {},
   "outputs": [],
   "source": [
    "#3"
   ]
  },
  {
   "cell_type": "code",
   "execution_count": 44,
   "id": "23a40f67",
   "metadata": {},
   "outputs": [
    {
     "name": "stdout",
     "output_type": "stream",
     "text": [
      "<str_iterator object at 0x000002A6C67B0640>\n"
     ]
    }
   ],
   "source": [
    "s = 'hello'\n",
    "\n",
    "s = iter(s)\n",
    "\n",
    "print(s)"
   ]
  },
  {
   "cell_type": "code",
   "execution_count": 45,
   "id": "42c75942",
   "metadata": {},
   "outputs": [
    {
     "name": "stdout",
     "output_type": "stream",
     "text": [
      "h\n"
     ]
    }
   ],
   "source": [
    "print(next(s))"
   ]
  },
  {
   "cell_type": "code",
   "execution_count": 46,
   "id": "fbc39463",
   "metadata": {},
   "outputs": [
    {
     "name": "stdout",
     "output_type": "stream",
     "text": [
      "e\n"
     ]
    }
   ],
   "source": [
    "print(next(s))"
   ]
  },
  {
   "cell_type": "code",
   "execution_count": 47,
   "id": "27f1c75a",
   "metadata": {},
   "outputs": [],
   "source": [
    "#4"
   ]
  },
  {
   "cell_type": "code",
   "execution_count": 48,
   "id": "c14507a9",
   "metadata": {},
   "outputs": [
    {
     "name": "stdout",
     "output_type": "stream",
     "text": [
      "4\n",
      "5\n"
     ]
    }
   ],
   "source": [
    "my_list = [1,2,3,4,5]\n",
    "gencomp = (item for item in my_list if item > 3)\n",
    "\n",
    "for item in gencomp:\n",
    "    print(item)"
   ]
  },
  {
   "cell_type": "code",
   "execution_count": 49,
   "id": "eb536b69",
   "metadata": {},
   "outputs": [
    {
     "data": {
      "text/plain": [
       "<generator object <genexpr> at 0x000002A6C6BAD460>"
      ]
     },
     "execution_count": 49,
     "metadata": {},
     "output_type": "execute_result"
    }
   ],
   "source": [
    "gencomp # list comprehension to generator comprehension"
   ]
  },
  {
   "cell_type": "code",
   "execution_count": 50,
   "id": "c7bfa328",
   "metadata": {},
   "outputs": [
    {
     "name": "stdout",
     "output_type": "stream",
     "text": [
      "[4, 5]\n",
      "[]\n"
     ]
    }
   ],
   "source": [
    "my_list = [1,2,3,4,5]\n",
    "gencomp = (item for item in my_list if item > 3)\n",
    "print(list(gencomp))\n",
    "print(list(gencomp))"
   ]
  },
  {
   "cell_type": "code",
   "execution_count": 51,
   "id": "6568672d",
   "metadata": {},
   "outputs": [
    {
     "name": "stdout",
     "output_type": "stream",
     "text": [
      "4\n",
      "5\n"
     ]
    }
   ],
   "source": [
    "my_list = [1,2,3,4,5]\n",
    "gencomp = [] \n",
    "\n",
    "for item in my_list:\n",
    "    if item > 3:\n",
    "        gencomp.append(item)        \n",
    "\n",
    "for item in gencomp:\n",
    "    print(item)"
   ]
  },
  {
   "cell_type": "code",
   "execution_count": 52,
   "id": "feeccbcb",
   "metadata": {},
   "outputs": [
    {
     "data": {
      "text/plain": [
       "[4, 5]"
      ]
     },
     "execution_count": 52,
     "metadata": {},
     "output_type": "execute_result"
    }
   ],
   "source": [
    "gencomp"
   ]
  },
  {
   "cell_type": "markdown",
   "id": "8c52c0e7",
   "metadata": {},
   "source": [
    "# Thank You"
   ]
  }
 ],
 "metadata": {
  "kernelspec": {
   "display_name": "Python 3 (ipykernel)",
   "language": "python",
   "name": "python3"
  },
  "language_info": {
   "codemirror_mode": {
    "name": "ipython",
    "version": 3
   },
   "file_extension": ".py",
   "mimetype": "text/x-python",
   "name": "python",
   "nbconvert_exporter": "python",
   "pygments_lexer": "ipython3",
   "version": "3.10.9"
  }
 },
 "nbformat": 4,
 "nbformat_minor": 5
}
