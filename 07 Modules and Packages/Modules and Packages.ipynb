{
 "cells": [
  {
   "cell_type": "markdown",
   "id": "d887b3d3",
   "metadata": {},
   "source": [
    "## Modules and Packages"
   ]
  },
  {
   "cell_type": "code",
   "execution_count": 3,
   "id": "0380b557",
   "metadata": {},
   "outputs": [],
   "source": [
    "# import request"
   ]
  },
  {
   "cell_type": "code",
   "execution_count": 1,
   "id": "4a6c9ec1",
   "metadata": {},
   "outputs": [],
   "source": [
    "from colorama import init"
   ]
  },
  {
   "cell_type": "code",
   "execution_count": 2,
   "id": "ed947cf3",
   "metadata": {},
   "outputs": [],
   "source": [
    "init()"
   ]
  },
  {
   "cell_type": "code",
   "execution_count": 3,
   "id": "eb1eb742",
   "metadata": {},
   "outputs": [],
   "source": [
    "from colorama import Fore"
   ]
  },
  {
   "cell_type": "code",
   "execution_count": 4,
   "id": "fe6ee8f4",
   "metadata": {},
   "outputs": [
    {
     "name": "stdout",
     "output_type": "stream",
     "text": [
      " some red text\n"
     ]
    }
   ],
   "source": [
    "print(Fore.RED + \" some red text\")"
   ]
  },
  {
   "cell_type": "code",
   "execution_count": 5,
   "id": "95bffc5b",
   "metadata": {},
   "outputs": [
    {
     "name": "stdout",
     "output_type": "stream",
     "text": [
      "switch to green\n"
     ]
    }
   ],
   "source": [
    "print(Fore.GREEN + \"switch to green\")"
   ]
  },
  {
   "cell_type": "code",
   "execution_count": 12,
   "id": "6b4249eb",
   "metadata": {},
   "outputs": [],
   "source": [
    "# import openpyxl"
   ]
  },
  {
   "cell_type": "code",
   "execution_count": 13,
   "id": "d80b4144",
   "metadata": {},
   "outputs": [],
   "source": [
    "# Use Visual Studio"
   ]
  },
  {
   "cell_type": "code",
   "execution_count": null,
   "id": "c41b0ba8",
   "metadata": {},
   "outputs": [],
   "source": []
  }
 ],
 "metadata": {
  "kernelspec": {
   "display_name": "Python 3 (ipykernel)",
   "language": "python",
   "name": "python3"
  },
  "language_info": {
   "codemirror_mode": {
    "name": "ipython",
    "version": 3
   },
   "file_extension": ".py",
   "mimetype": "text/x-python",
   "name": "python",
   "nbconvert_exporter": "python",
   "pygments_lexer": "ipython3",
   "version": "3.10.9"
  }
 },
 "nbformat": 4,
 "nbformat_minor": 5
}
