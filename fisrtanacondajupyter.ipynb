{
 "cells": [
  {
   "cell_type": "code",
   "execution_count": 1,
   "id": "09604e3c",
   "metadata": {},
   "outputs": [
    {
     "name": "stdout",
     "output_type": "stream",
     "text": [
      "OM NAMAH SHIVAY\n"
     ]
    }
   ],
   "source": [
    "print(\"OM NAMAH SHIVAY\")"
   ]
  },
  {
   "cell_type": "code",
   "execution_count": 3,
   "id": "c9d73e9f",
   "metadata": {},
   "outputs": [
    {
     "data": {
      "text/plain": [
       "'I AM THE BEST'"
      ]
     },
     "execution_count": 3,
     "metadata": {},
     "output_type": "execute_result"
    }
   ],
   "source": [
    "'I AM THE BEST'\n"
   ]
  },
  {
   "cell_type": "code",
   "execution_count": 5,
   "id": "07313e6c",
   "metadata": {},
   "outputs": [
    {
     "name": "stdout",
     "output_type": "stream",
     "text": [
      "I am Iron Man\n"
     ]
    }
   ],
   "source": [
    "print(\"I am Iron Man\")"
   ]
  },
  {
   "cell_type": "markdown",
   "id": "472a4148",
   "metadata": {},
   "source": [
    "this is the first python code on jupyter in anaconda python and second on this pc\n"
   ]
  },
  {
   "cell_type": "code",
   "execution_count": 7,
   "id": "6c954fe0",
   "metadata": {},
   "outputs": [],
   "source": [
    "#this is the first python code on jupyter in anaconda python and second on this pc\n"
   ]
  },
  {
   "cell_type": "code",
   "execution_count": 9,
   "id": "0e2e52da",
   "metadata": {},
   "outputs": [
    {
     "data": {
      "text/plain": [
       "'\\nlets start\\nHows that for ultimate?!\\n'"
      ]
     },
     "execution_count": 9,
     "metadata": {},
     "output_type": "execute_result"
    }
   ],
   "source": [
    "'''\n",
    "lets start\n",
    "Hows that for ultimate?!\n",
    "'''\n"
   ]
  },
  {
   "cell_type": "code",
   "execution_count": null,
   "id": "a01df15d",
   "metadata": {},
   "outputs": [],
   "source": []
  }
 ],
 "metadata": {
  "kernelspec": {
   "display_name": "Python 3 (ipykernel)",
   "language": "python",
   "name": "python3"
  },
  "language_info": {
   "codemirror_mode": {
    "name": "ipython",
    "version": 3
   },
   "file_extension": ".py",
   "mimetype": "text/x-python",
   "name": "python",
   "nbconvert_exporter": "python",
   "pygments_lexer": "ipython3",
   "version": "3.7.3"
  }
 },
 "nbformat": 4,
 "nbformat_minor": 5
}
