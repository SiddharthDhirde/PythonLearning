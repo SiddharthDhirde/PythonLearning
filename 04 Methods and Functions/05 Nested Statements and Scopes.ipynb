{
 "cells": [
  {
   "cell_type": "markdown",
   "id": "d92f67e0",
   "metadata": {},
   "source": [
    "# Nested Statements and Scope"
   ]
  },
  {
   "cell_type": "markdown",
   "id": "e625a599",
   "metadata": {},
   "source": [
    "## LEGB rule\n",
    "L :- local\n",
    "\n",
    "E :- enclosing function\n",
    "\n",
    "G :- global \n",
    "\n",
    "B :- built-in function"
   ]
  },
  {
   "cell_type": "code",
   "execution_count": 1,
   "id": "9a443dfc",
   "metadata": {},
   "outputs": [],
   "source": [
    "x = 5\n",
    "\n",
    "def printer():\n",
    "    x = 10\n",
    "    return x"
   ]
  },
  {
   "cell_type": "code",
   "execution_count": 2,
   "id": "29624cee",
   "metadata": {},
   "outputs": [
    {
     "name": "stdout",
     "output_type": "stream",
     "text": [
      "5\n"
     ]
    }
   ],
   "source": [
    "print(x)"
   ]
  },
  {
   "cell_type": "code",
   "execution_count": 3,
   "id": "8e6a5b69",
   "metadata": {},
   "outputs": [
    {
     "data": {
      "text/plain": [
       "10"
      ]
     },
     "execution_count": 3,
     "metadata": {},
     "output_type": "execute_result"
    }
   ],
   "source": [
    "printer()"
   ]
  },
  {
   "cell_type": "code",
   "execution_count": null,
   "id": "417538ed",
   "metadata": {},
   "outputs": [],
   "source": []
  },
  {
   "cell_type": "code",
   "execution_count": 4,
   "id": "6c59fa4d",
   "metadata": {},
   "outputs": [],
   "source": [
    "# lambda num: num**2"
   ]
  },
  {
   "cell_type": "code",
   "execution_count": 5,
   "id": "bcc36478",
   "metadata": {},
   "outputs": [
    {
     "name": "stdout",
     "output_type": "stream",
     "text": [
      "Hello Peter\n"
     ]
    }
   ],
   "source": [
    "x = 'This is a global string'\n",
    "\n",
    "def greet():\n",
    "    x = 'Peter'\n",
    "    \n",
    "    def hello():\n",
    "        print(\"Hello \"+x)\n",
    "        \n",
    "    hello()\n",
    "\n",
    "greet()"
   ]
  },
  {
   "cell_type": "code",
   "execution_count": 6,
   "id": "fea3d9f1",
   "metadata": {},
   "outputs": [
    {
     "name": "stdout",
     "output_type": "stream",
     "text": [
      "Hello Peter\n"
     ]
    }
   ],
   "source": [
    "greet()"
   ]
  },
  {
   "cell_type": "code",
   "execution_count": 7,
   "id": "bcce1065",
   "metadata": {},
   "outputs": [],
   "source": [
    "# hello() \n",
    "# NameError: name 'hello' is not defined\n",
    "# (since it is defined in another function)"
   ]
  },
  {
   "cell_type": "code",
   "execution_count": null,
   "id": "04b1102b",
   "metadata": {},
   "outputs": [],
   "source": []
  },
  {
   "cell_type": "code",
   "execution_count": 8,
   "id": "0fd7e296",
   "metadata": {},
   "outputs": [],
   "source": [
    "x = 'This is a global string'\n",
    "\n",
    "def greet():\n",
    "    x = 'Peter'\n",
    "    \n",
    "    def hello():\n",
    "        print(\"Hello \"+x)\n",
    "        \n",
    "    hello()"
   ]
  },
  {
   "cell_type": "code",
   "execution_count": 9,
   "id": "cb0013b1",
   "metadata": {},
   "outputs": [
    {
     "name": "stdout",
     "output_type": "stream",
     "text": [
      "Hello Peter\n"
     ]
    }
   ],
   "source": [
    "greet()"
   ]
  },
  {
   "cell_type": "code",
   "execution_count": null,
   "id": "dd7b4735",
   "metadata": {},
   "outputs": [],
   "source": []
  },
  {
   "cell_type": "code",
   "execution_count": 10,
   "id": "d57847db",
   "metadata": {},
   "outputs": [
    {
     "name": "stdout",
     "output_type": "stream",
     "text": [
      "Hello Peter\n"
     ]
    }
   ],
   "source": [
    "# global variable\n",
    "x = 'This is a global string'\n",
    "\n",
    "def greet():\n",
    "    # enclosing function \n",
    "    x = 'Peter'\n",
    "    \n",
    "    def hello():\n",
    "        # local variable\n",
    "        print(\"Hello \"+x)\n",
    "        \n",
    "    hello()\n",
    "    \n",
    "greet()"
   ]
  },
  {
   "cell_type": "code",
   "execution_count": 11,
   "id": "da14cdcc",
   "metadata": {},
   "outputs": [
    {
     "name": "stdout",
     "output_type": "stream",
     "text": [
      "Hello This is a local string\n"
     ]
    }
   ],
   "source": [
    "# global variable\n",
    "x = 'This is a global string'\n",
    "\n",
    "def greet():\n",
    "    # enclosing function \n",
    "    x = 'Peter'\n",
    "    \n",
    "    def hello():\n",
    "        # local variable\n",
    "        x = 'This is a local string'\n",
    "        print(\"Hello \"+x)\n",
    "        \n",
    "    hello()\n",
    "    \n",
    "greet()"
   ]
  },
  {
   "cell_type": "code",
   "execution_count": 12,
   "id": "dca24f82",
   "metadata": {},
   "outputs": [
    {
     "name": "stdout",
     "output_type": "stream",
     "text": [
      "Hello Peter\n"
     ]
    }
   ],
   "source": [
    "# global variable\n",
    "x = 'This is a global string'\n",
    "\n",
    "def greet():\n",
    "    # enclosing function \n",
    "    x = 'Peter'\n",
    "    \n",
    "    def hello():\n",
    "        # local variable\n",
    "#         x = 'This is a local string'\n",
    "        print(\"Hello \"+x)\n",
    "        \n",
    "    hello()\n",
    "    \n",
    "greet()"
   ]
  },
  {
   "cell_type": "code",
   "execution_count": 13,
   "id": "e117d5ff",
   "metadata": {},
   "outputs": [
    {
     "name": "stdout",
     "output_type": "stream",
     "text": [
      "Hello This is a global string\n"
     ]
    }
   ],
   "source": [
    "# global variable\n",
    "x = 'This is a global string'\n",
    "\n",
    "def greet():\n",
    "    # enclosing function \n",
    "#     x = 'Peter'\n",
    "    \n",
    "    def hello():\n",
    "        # local variable\n",
    "#         x = 'This is a local string'\n",
    "        print(\"Hello \"+x)\n",
    "        \n",
    "    hello()\n",
    "    \n",
    "greet()"
   ]
  },
  {
   "cell_type": "code",
   "execution_count": 14,
   "id": "a25b89e4",
   "metadata": {},
   "outputs": [],
   "source": [
    "# global variable\n",
    "x = 'This is a global string'\n",
    "\n",
    "def greet():\n",
    "    # enclosing function \n",
    "#     x = 'Peter'\n",
    "    \n",
    "    def hello():\n",
    "        # local variable\n",
    "#         x = 'This is a local string'\n",
    "        print(\"Hello \"+x)\n",
    "        \n",
    "    hello()"
   ]
  },
  {
   "cell_type": "code",
   "execution_count": 15,
   "id": "537c7f23",
   "metadata": {},
   "outputs": [
    {
     "name": "stdout",
     "output_type": "stream",
     "text": [
      "Hello This is a global string\n"
     ]
    }
   ],
   "source": [
    "greet()"
   ]
  },
  {
   "cell_type": "markdown",
   "id": "adcd5f9e",
   "metadata": {},
   "source": [
    " \n",
    " \n",
    " \n",
    " \n",
    " \n",
    " \n",
    " "
   ]
  },
  {
   "cell_type": "code",
   "execution_count": null,
   "id": "5de429a3",
   "metadata": {},
   "outputs": [],
   "source": []
  },
  {
   "cell_type": "markdown",
   "id": "da26adac",
   "metadata": {},
   "source": [
    "\n",
    "\n",
    "\n",
    "\n"
   ]
  },
  {
   "cell_type": "code",
   "execution_count": 16,
   "id": "e07f35b0",
   "metadata": {},
   "outputs": [],
   "source": [
    "# global variable\n",
    "x = 'This is a global string'\n",
    "\n",
    "def greet():\n",
    "    # enclosing function \n",
    "    x = 'Peter'\n",
    "    \n",
    "    def hello():\n",
    "        # local variable\n",
    "        x = 'This is a local string'\n",
    "        print(\"Hello \"+x)\n",
    "        \n",
    "        def namaste():\n",
    "            x = 'greet-hello-namste'\n",
    "            print(\"Namaste! \"+x)\n",
    "        namaste()\n",
    "        \n",
    "    hello()"
   ]
  },
  {
   "cell_type": "code",
   "execution_count": 17,
   "id": "5f2d933a",
   "metadata": {},
   "outputs": [
    {
     "name": "stdout",
     "output_type": "stream",
     "text": [
      "Hello This is a local string\n",
      "Namaste! greet-hello-namste\n"
     ]
    }
   ],
   "source": [
    "greet()"
   ]
  },
  {
   "cell_type": "code",
   "execution_count": null,
   "id": "048035ef",
   "metadata": {},
   "outputs": [],
   "source": []
  },
  {
   "cell_type": "code",
   "execution_count": 18,
   "id": "2a47633e",
   "metadata": {},
   "outputs": [
    {
     "name": "stdout",
     "output_type": "stream",
     "text": [
      "Hello This is a local string\n",
      "Namaste! greet-hello-namste\n"
     ]
    }
   ],
   "source": [
    "# global variable\n",
    "x = 'This is a global string'\n",
    "\n",
    "def greet():\n",
    "    # enclosing function \n",
    "    x = 'Peter'\n",
    "    \n",
    "    def hello():\n",
    "        # local variable\n",
    "        x = 'This is a local string'\n",
    "        print(\"Hello \"+x)\n",
    "        \n",
    "        def namaste():\n",
    "            x = 'greet-hello-namste'\n",
    "            print(\"Namaste! \"+x)\n",
    "        namaste()\n",
    "        \n",
    "    hello()\n",
    "    \n",
    "greet()"
   ]
  },
  {
   "cell_type": "code",
   "execution_count": null,
   "id": "690cc9a5",
   "metadata": {},
   "outputs": [],
   "source": []
  },
  {
   "cell_type": "code",
   "execution_count": 19,
   "id": "ad28ee5e",
   "metadata": {},
   "outputs": [],
   "source": [
    "# global variable\n",
    "x = 'This is a global string'\n",
    "\n",
    "def greet():\n",
    "    # enclosing function \n",
    "    x = 'Peter'\n",
    "    \n",
    "    def hello():\n",
    "        # local variable\n",
    "        x = 'This is a local string'\n",
    "        print(\"Hello \"+x)\n",
    "        \n",
    "        def namaste():\n",
    "            x = 'greet-hello-namste'\n",
    "            print(\"Namaste! \"+x)\n",
    "        namaste()"
   ]
  },
  {
   "cell_type": "code",
   "execution_count": 20,
   "id": "39221637",
   "metadata": {},
   "outputs": [],
   "source": [
    "greet() #it will not print anything since it need to call hello() first\n",
    "# namaste() is in hello()"
   ]
  },
  {
   "cell_type": "code",
   "execution_count": null,
   "id": "fde57d6c",
   "metadata": {},
   "outputs": [],
   "source": []
  },
  {
   "cell_type": "code",
   "execution_count": 21,
   "id": "12614e55",
   "metadata": {},
   "outputs": [],
   "source": [
    "x = 10\n",
    "def func(x):\n",
    "    print(f\"x is {x}\");"
   ]
  },
  {
   "cell_type": "code",
   "execution_count": 22,
   "id": "a877c32e",
   "metadata": {},
   "outputs": [
    {
     "name": "stdout",
     "output_type": "stream",
     "text": [
      "x is 10\n"
     ]
    }
   ],
   "source": [
    "func(x)"
   ]
  },
  {
   "cell_type": "code",
   "execution_count": 23,
   "id": "61ec37f6",
   "metadata": {},
   "outputs": [],
   "source": [
    "x = 10\n",
    "def func(x):\n",
    "    print(f\"x is {x}\")\n",
    "    \n",
    "#     Local assignment\n",
    "    x = 20\n",
    "    print(f\"I just LOCALLY chenged x to {x}\")"
   ]
  },
  {
   "cell_type": "code",
   "execution_count": 24,
   "id": "ea4ffbdb",
   "metadata": {},
   "outputs": [
    {
     "name": "stdout",
     "output_type": "stream",
     "text": [
      "x is 10\n",
      "I just LOCALLY chenged x to 20\n"
     ]
    }
   ],
   "source": [
    "func(x)"
   ]
  },
  {
   "cell_type": "markdown",
   "id": "e343e918",
   "metadata": {},
   "source": [
    "## global"
   ]
  },
  {
   "cell_type": "code",
   "execution_count": 25,
   "id": "f092e503",
   "metadata": {},
   "outputs": [],
   "source": [
    "x = 10\n",
    "def func():\n",
    "    global x\n",
    "    print(f\"x is {x}\")\n",
    "    \n",
    "#     Local reassignment on a global variable!\n",
    "    x = \"New Value\"\n",
    "    print(f\"I just LOCALLY chenged global x to {x}\")"
   ]
  },
  {
   "cell_type": "code",
   "execution_count": 26,
   "id": "a1e2b970",
   "metadata": {},
   "outputs": [
    {
     "name": "stdout",
     "output_type": "stream",
     "text": [
      "x is 10\n",
      "I just LOCALLY chenged global x to New Value\n"
     ]
    }
   ],
   "source": [
    "func()"
   ]
  },
  {
   "cell_type": "code",
   "execution_count": 27,
   "id": "8ddd8339",
   "metadata": {},
   "outputs": [
    {
     "name": "stdout",
     "output_type": "stream",
     "text": [
      "New Value\n"
     ]
    }
   ],
   "source": [
    "print(x)"
   ]
  },
  {
   "cell_type": "code",
   "execution_count": null,
   "id": "fe2f24e6",
   "metadata": {},
   "outputs": [],
   "source": []
  },
  {
   "cell_type": "code",
   "execution_count": null,
   "id": "886d3782",
   "metadata": {},
   "outputs": [],
   "source": []
  },
  {
   "cell_type": "code",
   "execution_count": 28,
   "id": "e96e3466",
   "metadata": {},
   "outputs": [],
   "source": [
    "x = 10\n",
    "def func(x):\n",
    "    print(f\"x is {x}\")\n",
    "    \n",
    "#     Local reassignment on a global variable!\n",
    "    x = \"New Value\"\n",
    "    print(f\"I just LOCALLY chenged x to {x}\")\n",
    "    return x"
   ]
  },
  {
   "cell_type": "code",
   "execution_count": 29,
   "id": "0ff951cb",
   "metadata": {},
   "outputs": [
    {
     "name": "stdout",
     "output_type": "stream",
     "text": [
      "10\n"
     ]
    }
   ],
   "source": [
    "print(x)"
   ]
  },
  {
   "cell_type": "code",
   "execution_count": 30,
   "id": "6ae47a6e",
   "metadata": {},
   "outputs": [
    {
     "data": {
      "text/plain": [
       "10"
      ]
     },
     "execution_count": 30,
     "metadata": {},
     "output_type": "execute_result"
    }
   ],
   "source": [
    "x"
   ]
  },
  {
   "cell_type": "code",
   "execution_count": 31,
   "id": "eab840f8",
   "metadata": {},
   "outputs": [
    {
     "name": "stdout",
     "output_type": "stream",
     "text": [
      "x is 10\n",
      "I just LOCALLY chenged x to New Value\n"
     ]
    },
    {
     "data": {
      "text/plain": [
       "'New Value'"
      ]
     },
     "execution_count": 31,
     "metadata": {},
     "output_type": "execute_result"
    }
   ],
   "source": [
    "func(x)"
   ]
  },
  {
   "cell_type": "code",
   "execution_count": 32,
   "id": "c9f67018",
   "metadata": {},
   "outputs": [
    {
     "name": "stdout",
     "output_type": "stream",
     "text": [
      "x is 10\n",
      "I just LOCALLY chenged x to New Value\n"
     ]
    }
   ],
   "source": [
    "x = func(x)"
   ]
  },
  {
   "cell_type": "code",
   "execution_count": 33,
   "id": "a42e487f",
   "metadata": {},
   "outputs": [
    {
     "data": {
      "text/plain": [
       "'New Value'"
      ]
     },
     "execution_count": 33,
     "metadata": {},
     "output_type": "execute_result"
    }
   ],
   "source": [
    "x"
   ]
  },
  {
   "cell_type": "markdown",
   "id": "67e20278",
   "metadata": {},
   "source": [
    "# Thank You"
   ]
  }
 ],
 "metadata": {
  "kernelspec": {
   "display_name": "Python 3 (ipykernel)",
   "language": "python",
   "name": "python3"
  },
  "language_info": {
   "codemirror_mode": {
    "name": "ipython",
    "version": 3
   },
   "file_extension": ".py",
   "mimetype": "text/x-python",
   "name": "python",
   "nbconvert_exporter": "python",
   "pygments_lexer": "ipython3",
   "version": "3.10.9"
  }
 },
 "nbformat": 4,
 "nbformat_minor": 5
}
