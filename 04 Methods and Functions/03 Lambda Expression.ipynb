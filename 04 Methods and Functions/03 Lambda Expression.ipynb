{
 "cells": [
  {
   "cell_type": "markdown",
   "id": "e7967817",
   "metadata": {},
   "source": [
    "# Lambda Expression or Lambda Function\n",
    "\n",
    "## map and filter"
   ]
  },
  {
   "cell_type": "code",
   "execution_count": 1,
   "id": "42ee1a41",
   "metadata": {},
   "outputs": [],
   "source": [
    "def square(num):\n",
    "    return num**2"
   ]
  },
  {
   "cell_type": "code",
   "execution_count": 2,
   "id": "eb1bbc42",
   "metadata": {},
   "outputs": [],
   "source": [
    "num_list= [1,2,3,4,5]"
   ]
  },
  {
   "cell_type": "code",
   "execution_count": 3,
   "id": "f7107fd9",
   "metadata": {},
   "outputs": [
    {
     "data": {
      "text/plain": [
       "<map at 0x1ec33a33a30>"
      ]
     },
     "execution_count": 3,
     "metadata": {},
     "output_type": "execute_result"
    }
   ],
   "source": [
    "map(square,num_list)"
   ]
  },
  {
   "cell_type": "code",
   "execution_count": 4,
   "id": "c93f2db4",
   "metadata": {},
   "outputs": [
    {
     "name": "stdout",
     "output_type": "stream",
     "text": [
      "<map object at 0x000001EC33A92410>\n"
     ]
    }
   ],
   "source": [
    "print(map(square,num_list))"
   ]
  },
  {
   "cell_type": "code",
   "execution_count": 5,
   "id": "e68d5ea9",
   "metadata": {},
   "outputs": [
    {
     "name": "stdout",
     "output_type": "stream",
     "text": [
      "1\n",
      "4\n",
      "9\n",
      "16\n",
      "25\n"
     ]
    }
   ],
   "source": [
    "for item in map(square,num_list):\n",
    "    print(item)"
   ]
  },
  {
   "cell_type": "code",
   "execution_count": 6,
   "id": "324c5baa",
   "metadata": {},
   "outputs": [
    {
     "name": "stdout",
     "output_type": "stream",
     "text": [
      "1, 4, 9, 16, 25, "
     ]
    }
   ],
   "source": [
    "for item in map(square,num_list):\n",
    "    print(item,end=', ')"
   ]
  },
  {
   "cell_type": "code",
   "execution_count": 7,
   "id": "7a34f391",
   "metadata": {},
   "outputs": [
    {
     "data": {
      "text/plain": [
       "[1, 4, 9, 16, 25]"
      ]
     },
     "execution_count": 7,
     "metadata": {},
     "output_type": "execute_result"
    }
   ],
   "source": [
    "list(map(square,num_list))"
   ]
  },
  {
   "cell_type": "code",
   "execution_count": 8,
   "id": "cdf891c0",
   "metadata": {},
   "outputs": [
    {
     "name": "stdout",
     "output_type": "stream",
     "text": [
      "[1, 4, 9, 16, 25]\n"
     ]
    }
   ],
   "source": [
    "print(list(map(square,num_list)))"
   ]
  },
  {
   "cell_type": "code",
   "execution_count": null,
   "id": "7b994a22",
   "metadata": {},
   "outputs": [],
   "source": []
  },
  {
   "cell_type": "code",
   "execution_count": 9,
   "id": "cb8fd37a",
   "metadata": {},
   "outputs": [
    {
     "name": "stdout",
     "output_type": "stream",
     "text": [
      "{1, 4, 9, 16, 25}\n"
     ]
    }
   ],
   "source": [
    "print(set(map(square,num_list)))"
   ]
  },
  {
   "cell_type": "code",
   "execution_count": 10,
   "id": "b3d4b876",
   "metadata": {},
   "outputs": [],
   "source": [
    "set_of_sqr = set(map(square,num_list))"
   ]
  },
  {
   "cell_type": "code",
   "execution_count": 11,
   "id": "8634e9f0",
   "metadata": {},
   "outputs": [
    {
     "data": {
      "text/plain": [
       "{1, 4, 9, 16, 25}"
      ]
     },
     "execution_count": 11,
     "metadata": {},
     "output_type": "execute_result"
    }
   ],
   "source": [
    "set_of_sqr"
   ]
  },
  {
   "cell_type": "code",
   "execution_count": 12,
   "id": "6dbeca81",
   "metadata": {},
   "outputs": [
    {
     "name": "stdout",
     "output_type": "stream",
     "text": [
      "{1, 4, 9, 16, 25}\n"
     ]
    }
   ],
   "source": [
    "print(set_of_sqr)"
   ]
  },
  {
   "cell_type": "code",
   "execution_count": null,
   "id": "288bca54",
   "metadata": {},
   "outputs": [],
   "source": []
  },
  {
   "cell_type": "code",
   "execution_count": 13,
   "id": "78409712",
   "metadata": {},
   "outputs": [],
   "source": [
    "def square(num):\n",
    "    return num**2"
   ]
  },
  {
   "cell_type": "code",
   "execution_count": 14,
   "id": "a4464eae",
   "metadata": {},
   "outputs": [],
   "source": [
    "num_list= [1,2,3,4,5]"
   ]
  },
  {
   "cell_type": "code",
   "execution_count": 15,
   "id": "a5c9d03b",
   "metadata": {},
   "outputs": [
    {
     "name": "stdout",
     "output_type": "stream",
     "text": [
      "(1, 4, 9, 16, 25)\n"
     ]
    }
   ],
   "source": [
    "print(tuple(map(square,num_list)))"
   ]
  },
  {
   "cell_type": "code",
   "execution_count": 16,
   "id": "c46ee5af",
   "metadata": {},
   "outputs": [
    {
     "name": "stdout",
     "output_type": "stream",
     "text": [
      "(1, 4, 9, 16, 25)\n"
     ]
    }
   ],
   "source": [
    "tuple_of_sqr = print(tuple(map(square,num_list))) "
   ]
  },
  {
   "cell_type": "code",
   "execution_count": 17,
   "id": "cc0923bf",
   "metadata": {},
   "outputs": [],
   "source": [
    "tuple_of_sqr"
   ]
  },
  {
   "cell_type": "code",
   "execution_count": 18,
   "id": "f96ad0bc",
   "metadata": {},
   "outputs": [],
   "source": [
    "tuple_of_sqr = tuple(map(square,num_list))"
   ]
  },
  {
   "cell_type": "code",
   "execution_count": 19,
   "id": "d0c80019",
   "metadata": {},
   "outputs": [
    {
     "data": {
      "text/plain": [
       "(1, 4, 9, 16, 25)"
      ]
     },
     "execution_count": 19,
     "metadata": {},
     "output_type": "execute_result"
    }
   ],
   "source": [
    "tuple_of_sqr"
   ]
  },
  {
   "cell_type": "code",
   "execution_count": null,
   "id": "e10bf994",
   "metadata": {},
   "outputs": [],
   "source": []
  },
  {
   "cell_type": "code",
   "execution_count": 20,
   "id": "7107b5b8",
   "metadata": {},
   "outputs": [
    {
     "data": {
      "text/plain": [
       "'<map object at 0x000001EC33AAD990>'"
      ]
     },
     "execution_count": 20,
     "metadata": {},
     "output_type": "execute_result"
    }
   ],
   "source": [
    "str(map(square,num_list))"
   ]
  },
  {
   "cell_type": "code",
   "execution_count": 21,
   "id": "9994682e",
   "metadata": {},
   "outputs": [
    {
     "name": "stdout",
     "output_type": "stream",
     "text": [
      "<map object at 0x000001EC33AAC6A0>"
     ]
    }
   ],
   "source": [
    "for item in str(map(square,num_list)):\n",
    "    print(item,end='')"
   ]
  },
  {
   "cell_type": "code",
   "execution_count": null,
   "id": "560c3b5a",
   "metadata": {},
   "outputs": [],
   "source": []
  },
  {
   "cell_type": "code",
   "execution_count": 22,
   "id": "ad0f42bc",
   "metadata": {},
   "outputs": [],
   "source": [
    "def splicer(mystring):\n",
    "    if len(mystring)%2 == 0:\n",
    "        return \"Even\" \n",
    "    else:\n",
    "        return mystring[0]"
   ]
  },
  {
   "cell_type": "code",
   "execution_count": 23,
   "id": "af01ae64",
   "metadata": {},
   "outputs": [
    {
     "data": {
      "text/plain": [
       "'Even'"
      ]
     },
     "execution_count": 23,
     "metadata": {},
     "output_type": "execute_result"
    }
   ],
   "source": [
    "splicer(\"This is string\")"
   ]
  },
  {
   "cell_type": "code",
   "execution_count": 24,
   "id": "1cd51e03",
   "metadata": {},
   "outputs": [],
   "source": [
    "names = [\"Peter Parker\", 'Tony', 'Thor','Steve']"
   ]
  },
  {
   "cell_type": "code",
   "execution_count": 25,
   "id": "8db84d76",
   "metadata": {},
   "outputs": [
    {
     "data": {
      "text/plain": [
       "['Even', 'Even', 'Even', 'S']"
      ]
     },
     "execution_count": 25,
     "metadata": {},
     "output_type": "execute_result"
    }
   ],
   "source": [
    "list(map(splicer,names))"
   ]
  },
  {
   "cell_type": "code",
   "execution_count": 26,
   "id": "5f629508",
   "metadata": {},
   "outputs": [
    {
     "name": "stdout",
     "output_type": "stream",
     "text": [
      "Even\n",
      "Even\n",
      "Even\n",
      "S\n"
     ]
    }
   ],
   "source": [
    "for item in map(splicer,names):\n",
    "    print(item)"
   ]
  },
  {
   "cell_type": "code",
   "execution_count": 27,
   "id": "c5bde5c4",
   "metadata": {},
   "outputs": [
    {
     "name": "stdout",
     "output_type": "stream",
     "text": [
      "<function splicer at 0x000001EC33F4A680>\n",
      "<function splicer at 0x000001EC33F4A680>\n",
      "<function splicer at 0x000001EC33F4A680>\n",
      "<function splicer at 0x000001EC33F4A680>\n"
     ]
    }
   ],
   "source": [
    "for item in map(splicer,names):\n",
    "    print(splicer)"
   ]
  },
  {
   "cell_type": "code",
   "execution_count": 28,
   "id": "d2025ff1",
   "metadata": {},
   "outputs": [
    {
     "name": "stdout",
     "output_type": "stream",
     "text": [
      "['Peter Parker', 'Tony', 'Thor', 'Steve']\n",
      "['Peter Parker', 'Tony', 'Thor', 'Steve']\n",
      "['Peter Parker', 'Tony', 'Thor', 'Steve']\n",
      "['Peter Parker', 'Tony', 'Thor', 'Steve']\n"
     ]
    }
   ],
   "source": [
    "for item in map(splicer,names):\n",
    "    print(names)"
   ]
  },
  {
   "cell_type": "code",
   "execution_count": null,
   "id": "f4134db5",
   "metadata": {},
   "outputs": [],
   "source": []
  },
  {
   "cell_type": "markdown",
   "id": "547a9454",
   "metadata": {},
   "source": [
    "## filter"
   ]
  },
  {
   "cell_type": "code",
   "execution_count": 29,
   "id": "7e2f6907",
   "metadata": {},
   "outputs": [],
   "source": [
    "def check_even(num):\n",
    "    return num % 2 == 0"
   ]
  },
  {
   "cell_type": "code",
   "execution_count": 30,
   "id": "036cc9b1",
   "metadata": {},
   "outputs": [
    {
     "data": {
      "text/plain": [
       "False"
      ]
     },
     "execution_count": 30,
     "metadata": {},
     "output_type": "execute_result"
    }
   ],
   "source": [
    "check_even(9)"
   ]
  },
  {
   "cell_type": "code",
   "execution_count": 31,
   "id": "91730eff",
   "metadata": {},
   "outputs": [],
   "source": [
    "mynum=[1,2,3,4,5]"
   ]
  },
  {
   "cell_type": "code",
   "execution_count": 32,
   "id": "a723eb21",
   "metadata": {},
   "outputs": [
    {
     "data": {
      "text/plain": [
       "[False, True, False, True, False]"
      ]
     },
     "execution_count": 32,
     "metadata": {},
     "output_type": "execute_result"
    }
   ],
   "source": [
    "list(map(check_even,mynum))"
   ]
  },
  {
   "cell_type": "code",
   "execution_count": 33,
   "id": "f2197c99",
   "metadata": {},
   "outputs": [
    {
     "data": {
      "text/plain": [
       "<filter at 0x1ec33b61390>"
      ]
     },
     "execution_count": 33,
     "metadata": {},
     "output_type": "execute_result"
    }
   ],
   "source": [
    "filter(check_even,mynum)"
   ]
  },
  {
   "cell_type": "code",
   "execution_count": 34,
   "id": "cca36c12",
   "metadata": {},
   "outputs": [
    {
     "data": {
      "text/plain": [
       "[2, 4]"
      ]
     },
     "execution_count": 34,
     "metadata": {},
     "output_type": "execute_result"
    }
   ],
   "source": [
    "list(filter(check_even,mynum))"
   ]
  },
  {
   "cell_type": "code",
   "execution_count": 35,
   "id": "c3ab0a85",
   "metadata": {
    "scrolled": false
   },
   "outputs": [
    {
     "name": "stdout",
     "output_type": "stream",
     "text": [
      "2\n",
      "4\n"
     ]
    }
   ],
   "source": [
    "for item in filter(check_even,mynum):\n",
    "    print(item)"
   ]
  },
  {
   "cell_type": "markdown",
   "id": "966ad0ab",
   "metadata": {},
   "source": [
    "### filter"
   ]
  },
  {
   "cell_type": "code",
   "execution_count": 36,
   "id": "0b98f169",
   "metadata": {},
   "outputs": [],
   "source": [
    "my_num = [1,2,3,4,5,6,7,8,9,10]"
   ]
  },
  {
   "cell_type": "code",
   "execution_count": 37,
   "id": "1cb0d385",
   "metadata": {},
   "outputs": [],
   "source": [
    "list_of_even = list(filter(check_even,my_num))"
   ]
  },
  {
   "cell_type": "code",
   "execution_count": 38,
   "id": "b4e759f0",
   "metadata": {
    "scrolled": true
   },
   "outputs": [
    {
     "data": {
      "text/plain": [
       "[2, 4, 6, 8, 10]"
      ]
     },
     "execution_count": 38,
     "metadata": {},
     "output_type": "execute_result"
    }
   ],
   "source": [
    "list_of_even"
   ]
  },
  {
   "cell_type": "markdown",
   "id": "6ddcc923",
   "metadata": {},
   "source": [
    "### map"
   ]
  },
  {
   "cell_type": "code",
   "execution_count": 39,
   "id": "7c63e5df",
   "metadata": {},
   "outputs": [],
   "source": [
    "list_of_even = list(map(check_even,my_num))"
   ]
  },
  {
   "cell_type": "code",
   "execution_count": 40,
   "id": "4b010643",
   "metadata": {},
   "outputs": [
    {
     "data": {
      "text/plain": [
       "[False, True, False, True, False, True, False, True, False, True]"
      ]
     },
     "execution_count": 40,
     "metadata": {},
     "output_type": "execute_result"
    }
   ],
   "source": [
    "list_of_even "
   ]
  },
  {
   "cell_type": "code",
   "execution_count": null,
   "id": "c22f5f94",
   "metadata": {},
   "outputs": [],
   "source": []
  },
  {
   "cell_type": "code",
   "execution_count": null,
   "id": "4d9b4f94",
   "metadata": {},
   "outputs": [],
   "source": []
  },
  {
   "cell_type": "code",
   "execution_count": null,
   "id": "40c822b9",
   "metadata": {},
   "outputs": [],
   "source": []
  },
  {
   "cell_type": "markdown",
   "id": "664344d3",
   "metadata": {},
   "source": [
    "# lambda function"
   ]
  },
  {
   "cell_type": "code",
   "execution_count": 41,
   "id": "e31582d5",
   "metadata": {},
   "outputs": [
    {
     "name": "stdout",
     "output_type": "stream",
     "text": [
      "8\n"
     ]
    }
   ],
   "source": [
    "add = lambda x, y: x + y\n",
    "print(add(3, 5))  # Output: 8"
   ]
  },
  {
   "cell_type": "code",
   "execution_count": 42,
   "id": "410b78ce",
   "metadata": {},
   "outputs": [
    {
     "data": {
      "text/plain": [
       "function"
      ]
     },
     "execution_count": 42,
     "metadata": {},
     "output_type": "execute_result"
    }
   ],
   "source": [
    "type(add)"
   ]
  },
  {
   "cell_type": "code",
   "execution_count": 43,
   "id": "f99fbd33",
   "metadata": {},
   "outputs": [],
   "source": [
    "def square(n):\n",
    "    return n**2"
   ]
  },
  {
   "cell_type": "code",
   "execution_count": 44,
   "id": "9dcff8cf",
   "metadata": {},
   "outputs": [
    {
     "data": {
      "text/plain": [
       "81"
      ]
     },
     "execution_count": 44,
     "metadata": {},
     "output_type": "execute_result"
    }
   ],
   "source": [
    "square(9)"
   ]
  },
  {
   "cell_type": "code",
   "execution_count": 45,
   "id": "b218e575",
   "metadata": {},
   "outputs": [],
   "source": [
    "def square(n):    return n**2"
   ]
  },
  {
   "cell_type": "code",
   "execution_count": 46,
   "id": "0a6a3cce",
   "metadata": {},
   "outputs": [
    {
     "data": {
      "text/plain": [
       "81"
      ]
     },
     "execution_count": 46,
     "metadata": {},
     "output_type": "execute_result"
    }
   ],
   "source": [
    "square(9)"
   ]
  },
  {
   "cell_type": "code",
   "execution_count": 47,
   "id": "14eee4d2",
   "metadata": {},
   "outputs": [
    {
     "data": {
      "text/plain": [
       "<function __main__.<lambda>(num)>"
      ]
     },
     "execution_count": 47,
     "metadata": {},
     "output_type": "execute_result"
    }
   ],
   "source": [
    "lambda num: num**2"
   ]
  },
  {
   "cell_type": "code",
   "execution_count": 48,
   "id": "4e2835b1",
   "metadata": {},
   "outputs": [
    {
     "name": "stdout",
     "output_type": "stream",
     "text": [
      "<function <lambda> at 0x000001EC33F69F30>\n"
     ]
    }
   ],
   "source": [
    "print(lambda num: num**2)"
   ]
  },
  {
   "cell_type": "code",
   "execution_count": 49,
   "id": "8527dab9",
   "metadata": {},
   "outputs": [],
   "source": [
    "sqr = lambda num: num**2"
   ]
  },
  {
   "cell_type": "code",
   "execution_count": 50,
   "id": "775c382f",
   "metadata": {},
   "outputs": [
    {
     "data": {
      "text/plain": [
       "<function __main__.<lambda>(num)>"
      ]
     },
     "execution_count": 50,
     "metadata": {},
     "output_type": "execute_result"
    }
   ],
   "source": [
    "sqr"
   ]
  },
  {
   "cell_type": "code",
   "execution_count": 51,
   "id": "fa5b9fc5",
   "metadata": {},
   "outputs": [
    {
     "data": {
      "text/plain": [
       "81"
      ]
     },
     "execution_count": 51,
     "metadata": {},
     "output_type": "execute_result"
    }
   ],
   "source": [
    "sqr(9)"
   ]
  },
  {
   "cell_type": "code",
   "execution_count": 52,
   "id": "c8e4a868",
   "metadata": {},
   "outputs": [
    {
     "data": {
      "text/plain": [
       "25"
      ]
     },
     "execution_count": 52,
     "metadata": {},
     "output_type": "execute_result"
    }
   ],
   "source": [
    "sqr(5)"
   ]
  },
  {
   "cell_type": "code",
   "execution_count": 53,
   "id": "58b942cc",
   "metadata": {},
   "outputs": [
    {
     "data": {
      "text/plain": [
       "4"
      ]
     },
     "execution_count": 53,
     "metadata": {},
     "output_type": "execute_result"
    }
   ],
   "source": [
    "square(2)"
   ]
  },
  {
   "cell_type": "code",
   "execution_count": null,
   "id": "a4b62b64",
   "metadata": {},
   "outputs": [],
   "source": []
  },
  {
   "cell_type": "code",
   "execution_count": 54,
   "id": "1b9e37fa",
   "metadata": {},
   "outputs": [],
   "source": [
    "my_nums=[1,2,3,4,5]"
   ]
  },
  {
   "cell_type": "code",
   "execution_count": 55,
   "id": "a88edf08",
   "metadata": {},
   "outputs": [
    {
     "data": {
      "text/plain": [
       "<map at 0x1ec33b63280>"
      ]
     },
     "execution_count": 55,
     "metadata": {},
     "output_type": "execute_result"
    }
   ],
   "source": [
    "map(lambda num : num**2,my_nums)"
   ]
  },
  {
   "cell_type": "code",
   "execution_count": 56,
   "id": "d497fd39",
   "metadata": {},
   "outputs": [
    {
     "data": {
      "text/plain": [
       "[1, 4, 9, 16, 25]"
      ]
     },
     "execution_count": 56,
     "metadata": {},
     "output_type": "execute_result"
    }
   ],
   "source": [
    "list(map(lambda num : num**2,my_nums))"
   ]
  },
  {
   "cell_type": "code",
   "execution_count": null,
   "id": "77c3c788",
   "metadata": {},
   "outputs": [],
   "source": []
  },
  {
   "cell_type": "code",
   "execution_count": 57,
   "id": "a37b248e",
   "metadata": {},
   "outputs": [],
   "source": [
    "my_nums = [0, 1,2,3,4,5]"
   ]
  },
  {
   "cell_type": "code",
   "execution_count": 58,
   "id": "2f4df2fe",
   "metadata": {},
   "outputs": [
    {
     "data": {
      "text/plain": [
       "[1, 2, 3, 4, 5]"
      ]
     },
     "execution_count": 58,
     "metadata": {},
     "output_type": "execute_result"
    }
   ],
   "source": [
    "list(filter(lambda num : num**2,my_nums))"
   ]
  },
  {
   "cell_type": "code",
   "execution_count": null,
   "id": "37d9d327",
   "metadata": {},
   "outputs": [],
   "source": []
  },
  {
   "cell_type": "code",
   "execution_count": 59,
   "id": "f8b62f5f",
   "metadata": {
    "scrolled": true
   },
   "outputs": [
    {
     "data": {
      "text/plain": [
       "[0, 2, 4]"
      ]
     },
     "execution_count": 59,
     "metadata": {},
     "output_type": "execute_result"
    }
   ],
   "source": [
    "# list of even no\n",
    "list(filter(lambda num : num%2 == 0,my_nums))"
   ]
  },
  {
   "cell_type": "markdown",
   "id": "0057a12e",
   "metadata": {},
   "source": [
    " "
   ]
  },
  {
   "cell_type": "code",
   "execution_count": 60,
   "id": "f933b457",
   "metadata": {},
   "outputs": [],
   "source": [
    "names = ['peter parker','tony','thor','steve']"
   ]
  },
  {
   "cell_type": "code",
   "execution_count": 61,
   "id": "ea827a9a",
   "metadata": {},
   "outputs": [
    {
     "data": {
      "text/plain": [
       "['p', 't', 't', 's']"
      ]
     },
     "execution_count": 61,
     "metadata": {},
     "output_type": "execute_result"
    }
   ],
   "source": [
    "list(map(lambda names: names[0],names))"
   ]
  },
  {
   "cell_type": "code",
   "execution_count": 62,
   "id": "1d7232ff",
   "metadata": {},
   "outputs": [
    {
     "data": {
      "text/plain": [
       "['p', 't', 't', 's']"
      ]
     },
     "execution_count": 62,
     "metadata": {},
     "output_type": "execute_result"
    }
   ],
   "source": [
    "list(map(lambda x: x[0],names))"
   ]
  },
  {
   "cell_type": "code",
   "execution_count": 63,
   "id": "3bd44a9c",
   "metadata": {},
   "outputs": [
    {
     "data": {
      "text/plain": [
       "{'p', 's', 't'}"
      ]
     },
     "execution_count": 63,
     "metadata": {},
     "output_type": "execute_result"
    }
   ],
   "source": [
    "set(map(lambda names: names[0],names))"
   ]
  },
  {
   "cell_type": "code",
   "execution_count": 64,
   "id": "56547382",
   "metadata": {},
   "outputs": [
    {
     "data": {
      "text/plain": [
       "('p', 't', 't', 's')"
      ]
     },
     "execution_count": 64,
     "metadata": {},
     "output_type": "execute_result"
    }
   ],
   "source": [
    "tuple(map(lambda names: names[0],names))"
   ]
  },
  {
   "cell_type": "code",
   "execution_count": 65,
   "id": "fe283eb6",
   "metadata": {},
   "outputs": [
    {
     "data": {
      "text/plain": [
       "('rekrap retep', 'ynot', 'roht', 'evets')"
      ]
     },
     "execution_count": 65,
     "metadata": {},
     "output_type": "execute_result"
    }
   ],
   "source": [
    "tuple(map(lambda names: names[::-1],names))"
   ]
  },
  {
   "cell_type": "markdown",
   "id": "5216957c",
   "metadata": {},
   "source": [
    "# Thank You"
   ]
  }
 ],
 "metadata": {
  "kernelspec": {
   "display_name": "Python 3 (ipykernel)",
   "language": "python",
   "name": "python3"
  },
  "language_info": {
   "codemirror_mode": {
    "name": "ipython",
    "version": 3
   },
   "file_extension": ".py",
   "mimetype": "text/x-python",
   "name": "python",
   "nbconvert_exporter": "python",
   "pygments_lexer": "ipython3",
   "version": "3.10.9"
  }
 },
 "nbformat": 4,
 "nbformat_minor": 5
}
