{
 "cells": [
  {
   "cell_type": "code",
   "execution_count": 1,
   "id": "5aa11a7d",
   "metadata": {},
   "outputs": [],
   "source": [
    "# Om Namah Shivay"
   ]
  },
  {
   "cell_type": "code",
   "execution_count": 2,
   "id": "849a9638",
   "metadata": {},
   "outputs": [],
   "source": [
    "# 06_folder Methods and Functions\n",
    "# PYTHON BOOTCAMP\n",
    "\n",
    "## LET'S BEGIN THE ULTIMATE JOURNEY"
   ]
  },
  {
   "cell_type": "code",
   "execution_count": 3,
   "id": "1cd3afb5",
   "metadata": {},
   "outputs": [],
   "source": [
    "# 041 METHODS AND THE PYTHON DOCUMENTATION"
   ]
  },
  {
   "cell_type": "markdown",
   "id": "4126cdeb",
   "metadata": {},
   "source": [
    "NEXT FILE:- PyJUPYTER8th (045 FUNCTION PRACTICE)"
   ]
  },
  {
   "cell_type": "markdown",
   "id": "32fcb84a",
   "metadata": {},
   "source": [
    "# 041 METHODS AND THE PYTHON DOCUMENTATION\n",
    "# 25 JAN 2022"
   ]
  },
  {
   "cell_type": "code",
   "execution_count": 5,
   "id": "23942838",
   "metadata": {},
   "outputs": [],
   "source": [
    "mylist= [1,2,3,4]"
   ]
  },
  {
   "cell_type": "code",
   "execution_count": 6,
   "id": "755be502",
   "metadata": {},
   "outputs": [],
   "source": [
    "mylist.append(5)"
   ]
  },
  {
   "cell_type": "code",
   "execution_count": 7,
   "id": "7c35f42e",
   "metadata": {},
   "outputs": [
    {
     "data": {
      "text/plain": [
       "[1, 2, 3, 4, 5]"
      ]
     },
     "execution_count": 7,
     "metadata": {},
     "output_type": "execute_result"
    }
   ],
   "source": [
    "mylist"
   ]
  },
  {
   "cell_type": "code",
   "execution_count": 8,
   "id": "57fe05cb",
   "metadata": {},
   "outputs": [
    {
     "data": {
      "text/plain": [
       "5"
      ]
     },
     "execution_count": 8,
     "metadata": {},
     "output_type": "execute_result"
    }
   ],
   "source": [
    "mylist.pop()"
   ]
  },
  {
   "cell_type": "code",
   "execution_count": 9,
   "id": "6b4819d6",
   "metadata": {},
   "outputs": [
    {
     "data": {
      "text/plain": [
       "[1, 2, 3, 4]"
      ]
     },
     "execution_count": 9,
     "metadata": {},
     "output_type": "execute_result"
    }
   ],
   "source": [
    "mylist"
   ]
  },
  {
   "cell_type": "code",
   "execution_count": 10,
   "id": "3180ab0e",
   "metadata": {},
   "outputs": [],
   "source": [
    "mylist.append(9)"
   ]
  },
  {
   "cell_type": "code",
   "execution_count": 11,
   "id": "3e237b51",
   "metadata": {},
   "outputs": [
    {
     "data": {
      "text/plain": [
       "[1, 2, 3, 4, 9]"
      ]
     },
     "execution_count": 11,
     "metadata": {},
     "output_type": "execute_result"
    }
   ],
   "source": [
    "mylist"
   ]
  },
  {
   "cell_type": "code",
   "execution_count": 12,
   "id": "a3813b97",
   "metadata": {},
   "outputs": [],
   "source": [
    "mylist.append(4)"
   ]
  },
  {
   "cell_type": "code",
   "execution_count": 13,
   "id": "4b119c0e",
   "metadata": {},
   "outputs": [
    {
     "data": {
      "text/plain": [
       "[1, 2, 3, 4, 9, 4]"
      ]
     },
     "execution_count": 13,
     "metadata": {},
     "output_type": "execute_result"
    }
   ],
   "source": [
    "mylist"
   ]
  },
  {
   "cell_type": "code",
   "execution_count": 15,
   "id": "c30b4653",
   "metadata": {},
   "outputs": [
    {
     "data": {
      "text/plain": [
       "9"
      ]
     },
     "execution_count": 15,
     "metadata": {},
     "output_type": "execute_result"
    }
   ],
   "source": [
    "mylist.pop(4)"
   ]
  },
  {
   "cell_type": "code",
   "execution_count": 16,
   "id": "1121bda6",
   "metadata": {},
   "outputs": [
    {
     "data": {
      "text/plain": [
       "[1, 2, 3, 4, 4]"
      ]
     },
     "execution_count": 16,
     "metadata": {},
     "output_type": "execute_result"
    }
   ],
   "source": [
    "mylist"
   ]
  },
  {
   "cell_type": "code",
   "execution_count": 17,
   "id": "0285b946",
   "metadata": {},
   "outputs": [
    {
     "data": {
      "text/plain": [
       "[1, 2, 3, 4]"
      ]
     },
     "execution_count": 17,
     "metadata": {},
     "output_type": "execute_result"
    }
   ],
   "source": [
    "mylist.pop(4)\n",
    "mylist"
   ]
  },
  {
   "cell_type": "code",
   "execution_count": null,
   "id": "bdb34f57",
   "metadata": {},
   "outputs": [],
   "source": []
  },
  {
   "cell_type": "code",
   "execution_count": 18,
   "id": "c96e7603",
   "metadata": {},
   "outputs": [
    {
     "data": {
      "text/plain": [
       "[]"
      ]
     },
     "execution_count": 18,
     "metadata": {},
     "output_type": "execute_result"
    }
   ],
   "source": [
    "mylist.clear()\n",
    "mylist"
   ]
  },
  {
   "cell_type": "code",
   "execution_count": 22,
   "id": "40d3e1bd",
   "metadata": {},
   "outputs": [
    {
     "data": {
      "text/plain": [
       "[5]"
      ]
     },
     "execution_count": 22,
     "metadata": {},
     "output_type": "execute_result"
    }
   ],
   "source": [
    "mylist.insert(2,5)\n",
    "mylist"
   ]
  },
  {
   "cell_type": "code",
   "execution_count": 23,
   "id": "de237ce6",
   "metadata": {},
   "outputs": [
    {
     "name": "stdout",
     "output_type": "stream",
     "text": [
      "[5]\n"
     ]
    }
   ],
   "source": [
    "print(mylist)"
   ]
  },
  {
   "cell_type": "code",
   "execution_count": 53,
   "id": "d8823de2",
   "metadata": {},
   "outputs": [],
   "source": [
    "mylist= [1,2,3,4,5]"
   ]
  },
  {
   "cell_type": "code",
   "execution_count": 54,
   "id": "31a36e34",
   "metadata": {},
   "outputs": [
    {
     "name": "stdout",
     "output_type": "stream",
     "text": [
      "[1, 2, 3, 4, 5]\n"
     ]
    }
   ],
   "source": [
    "print(mylist.copy())"
   ]
  },
  {
   "cell_type": "code",
   "execution_count": 55,
   "id": "dc32cf5c",
   "metadata": {},
   "outputs": [
    {
     "name": "stdout",
     "output_type": "stream",
     "text": [
      "1\n"
     ]
    },
    {
     "data": {
      "text/plain": [
       "[1, 2, 3, 4, 5]"
      ]
     },
     "execution_count": 55,
     "metadata": {},
     "output_type": "execute_result"
    }
   ],
   "source": [
    "print(mylist.count(3))\n",
    "mylist"
   ]
  },
  {
   "cell_type": "code",
   "execution_count": 34,
   "id": "a09c111e",
   "metadata": {},
   "outputs": [
    {
     "data": {
      "text/plain": [
       "[1, 2, 3, 4, 5, '6']"
      ]
     },
     "execution_count": 34,
     "metadata": {},
     "output_type": "execute_result"
    }
   ],
   "source": [
    "mylist.extend(\"6\")\n",
    "mylist"
   ]
  },
  {
   "cell_type": "code",
   "execution_count": 76,
   "id": "d56af9c0",
   "metadata": {},
   "outputs": [
    {
     "name": "stdout",
     "output_type": "stream",
     "text": [
      "4\n"
     ]
    },
    {
     "data": {
      "text/plain": [
       "[1, 2, 4, 4, 3, 8, 3, 4, 5]"
      ]
     },
     "execution_count": 76,
     "metadata": {},
     "output_type": "execute_result"
    }
   ],
   "source": [
    "print(mylist.index(3) )\n",
    "mylist"
   ]
  },
  {
   "cell_type": "code",
   "execution_count": 78,
   "id": "5672646b",
   "metadata": {},
   "outputs": [
    {
     "data": {
      "text/plain": [
       "[1, 2, 4, 4, 4, 3, 8, 3, 4]"
      ]
     },
     "execution_count": 78,
     "metadata": {},
     "output_type": "execute_result"
    }
   ],
   "source": [
    "mylist.pop()\n",
    "mylist"
   ]
  },
  {
   "cell_type": "code",
   "execution_count": 79,
   "id": "f0af44eb",
   "metadata": {},
   "outputs": [
    {
     "data": {
      "text/plain": [
       "[4, 3, 4, 2, 8, 3, 4, 4, 1]"
      ]
     },
     "execution_count": 79,
     "metadata": {},
     "output_type": "execute_result"
    }
   ],
   "source": [
    "from random import shuffle\n",
    "shuffle(mylist)\n",
    "mylist"
   ]
  },
  {
   "cell_type": "code",
   "execution_count": 80,
   "id": "2f75a454",
   "metadata": {},
   "outputs": [
    {
     "data": {
      "text/plain": [
       "[1, 2, 3, 3, 4, 4, 4, 4, 8]"
      ]
     },
     "execution_count": 80,
     "metadata": {},
     "output_type": "execute_result"
    }
   ],
   "source": [
    "mylist.sort()\n",
    "mylist"
   ]
  },
  {
   "cell_type": "code",
   "execution_count": 81,
   "id": "c06d8f29",
   "metadata": {},
   "outputs": [
    {
     "data": {
      "text/plain": [
       "[8, 4, 4, 4, 4, 3, 3, 2, 1]"
      ]
     },
     "execution_count": 81,
     "metadata": {},
     "output_type": "execute_result"
    }
   ],
   "source": [
    "mylist.reverse()\n",
    "mylist"
   ]
  },
  {
   "cell_type": "code",
   "execution_count": 82,
   "id": "e344dcd0",
   "metadata": {},
   "outputs": [
    {
     "data": {
      "text/plain": [
       "[8, 4, 4, 4, 3, 3, 2, 1]"
      ]
     },
     "execution_count": 82,
     "metadata": {},
     "output_type": "execute_result"
    }
   ],
   "source": [
    "mylist.remove(4)\n",
    "mylist"
   ]
  },
  {
   "cell_type": "code",
   "execution_count": 84,
   "id": "1343ab2b",
   "metadata": {},
   "outputs": [
    {
     "name": "stdout",
     "output_type": "stream",
     "text": [
      "Help on list object:\n",
      "\n",
      "class list(object)\n",
      " |  list(iterable=(), /)\n",
      " |  \n",
      " |  Built-in mutable sequence.\n",
      " |  \n",
      " |  If no argument is given, the constructor creates a new empty list.\n",
      " |  The argument must be an iterable if specified.\n",
      " |  \n",
      " |  Methods defined here:\n",
      " |  \n",
      " |  __add__(self, value, /)\n",
      " |      Return self+value.\n",
      " |  \n",
      " |  __contains__(self, key, /)\n",
      " |      Return key in self.\n",
      " |  \n",
      " |  __delitem__(self, key, /)\n",
      " |      Delete self[key].\n",
      " |  \n",
      " |  __eq__(self, value, /)\n",
      " |      Return self==value.\n",
      " |  \n",
      " |  __ge__(self, value, /)\n",
      " |      Return self>=value.\n",
      " |  \n",
      " |  __getattribute__(self, name, /)\n",
      " |      Return getattr(self, name).\n",
      " |  \n",
      " |  __getitem__(...)\n",
      " |      x.__getitem__(y) <==> x[y]\n",
      " |  \n",
      " |  __gt__(self, value, /)\n",
      " |      Return self>value.\n",
      " |  \n",
      " |  __iadd__(self, value, /)\n",
      " |      Implement self+=value.\n",
      " |  \n",
      " |  __imul__(self, value, /)\n",
      " |      Implement self*=value.\n",
      " |  \n",
      " |  __init__(self, /, *args, **kwargs)\n",
      " |      Initialize self.  See help(type(self)) for accurate signature.\n",
      " |  \n",
      " |  __iter__(self, /)\n",
      " |      Implement iter(self).\n",
      " |  \n",
      " |  __le__(self, value, /)\n",
      " |      Return self<=value.\n",
      " |  \n",
      " |  __len__(self, /)\n",
      " |      Return len(self).\n",
      " |  \n",
      " |  __lt__(self, value, /)\n",
      " |      Return self<value.\n",
      " |  \n",
      " |  __mul__(self, value, /)\n",
      " |      Return self*value.\n",
      " |  \n",
      " |  __ne__(self, value, /)\n",
      " |      Return self!=value.\n",
      " |  \n",
      " |  __repr__(self, /)\n",
      " |      Return repr(self).\n",
      " |  \n",
      " |  __reversed__(self, /)\n",
      " |      Return a reverse iterator over the list.\n",
      " |  \n",
      " |  __rmul__(self, value, /)\n",
      " |      Return value*self.\n",
      " |  \n",
      " |  __setitem__(self, key, value, /)\n",
      " |      Set self[key] to value.\n",
      " |  \n",
      " |  __sizeof__(self, /)\n",
      " |      Return the size of the list in memory, in bytes.\n",
      " |  \n",
      " |  append(self, object, /)\n",
      " |      Append object to the end of the list.\n",
      " |  \n",
      " |  clear(self, /)\n",
      " |      Remove all items from list.\n",
      " |  \n",
      " |  copy(self, /)\n",
      " |      Return a shallow copy of the list.\n",
      " |  \n",
      " |  count(self, value, /)\n",
      " |      Return number of occurrences of value.\n",
      " |  \n",
      " |  extend(self, iterable, /)\n",
      " |      Extend list by appending elements from the iterable.\n",
      " |  \n",
      " |  index(self, value, start=0, stop=2147483647, /)\n",
      " |      Return first index of value.\n",
      " |      \n",
      " |      Raises ValueError if the value is not present.\n",
      " |  \n",
      " |  insert(self, index, object, /)\n",
      " |      Insert object before index.\n",
      " |  \n",
      " |  pop(self, index=-1, /)\n",
      " |      Remove and return item at index (default last).\n",
      " |      \n",
      " |      Raises IndexError if list is empty or index is out of range.\n",
      " |  \n",
      " |  remove(self, value, /)\n",
      " |      Remove first occurrence of value.\n",
      " |      \n",
      " |      Raises ValueError if the value is not present.\n",
      " |  \n",
      " |  reverse(self, /)\n",
      " |      Reverse *IN PLACE*.\n",
      " |  \n",
      " |  sort(self, /, *, key=None, reverse=False)\n",
      " |      Sort the list in ascending order and return None.\n",
      " |      \n",
      " |      The sort is in-place (i.e. the list itself is modified) and stable (i.e. the\n",
      " |      order of two equal elements is maintained).\n",
      " |      \n",
      " |      If a key function is given, apply it once to each list item and sort them,\n",
      " |      ascending or descending, according to their function values.\n",
      " |      \n",
      " |      The reverse flag can be set to sort in descending order.\n",
      " |  \n",
      " |  ----------------------------------------------------------------------\n",
      " |  Static methods defined here:\n",
      " |  \n",
      " |  __new__(*args, **kwargs) from builtins.type\n",
      " |      Create and return a new object.  See help(type) for accurate signature.\n",
      " |  \n",
      " |  ----------------------------------------------------------------------\n",
      " |  Data and other attributes defined here:\n",
      " |  \n",
      " |  __hash__ = None\n",
      "\n"
     ]
    }
   ],
   "source": [
    "help(mylist.copy())"
   ]
  },
  {
   "cell_type": "code",
   "execution_count": 89,
   "id": "b3b506af",
   "metadata": {},
   "outputs": [
    {
     "data": {
      "text/plain": [
       "[8, 4, 4, 4, 3, 3, 2, 1]"
      ]
     },
     "execution_count": 89,
     "metadata": {},
     "output_type": "execute_result"
    }
   ],
   "source": [
    "mylist.copy()"
   ]
  },
  {
   "cell_type": "code",
   "execution_count": null,
   "id": "fe754604",
   "metadata": {},
   "outputs": [],
   "source": []
  },
  {
   "cell_type": "code",
   "execution_count": 1,
   "id": "6cd98f8d",
   "metadata": {},
   "outputs": [],
   "source": [
    "# Documentation\n",
    "# website :--> \n",
    "# docs.python.org"
   ]
  },
  {
   "cell_type": "code",
   "execution_count": null,
   "id": "182e5755",
   "metadata": {},
   "outputs": [],
   "source": []
  },
  {
   "cell_type": "code",
   "execution_count": null,
   "id": "01752c84",
   "metadata": {},
   "outputs": [],
   "source": []
  },
  {
   "cell_type": "code",
   "execution_count": null,
   "id": "c6d4789f",
   "metadata": {},
   "outputs": [],
   "source": []
  },
  {
   "cell_type": "markdown",
   "id": "7b0e90cb",
   "metadata": {},
   "source": [
    "# 042 FUNCTIONS IN PYTHON\n",
    "# 26 JAN 2022"
   ]
  },
  {
   "cell_type": "markdown",
   "id": "2bbb9fda",
   "metadata": {},
   "source": [
    "## Deep Learning\n",
    "\n",
    "    def name_of_function(): #name_of_function should all lower-case\n",
    "    '''\n",
    "    Docstring explains function\n",
    "    '''\n",
    "    print(\"Namaste\")\n",
    "    \n",
    "    \n",
    ">> name_of_function\n",
    "\n",
    ">> Namaste\n",
    "    "
   ]
  },
  {
   "cell_type": "markdown",
   "id": "2cbb6783",
   "metadata": {},
   "source": [
    "## Functions can take in parameters \n",
    "\n",
    "    def name_of_function(name): #name_of_function should all lower-case\n",
    "    '''\n",
    "    Docstring explains function\n",
    "    '''\n",
    "    print(\"Namaste\"+name)\n",
    "    \n",
    "    \n",
    ">> name_of_function(\"Aryan\")\n",
    "\n",
    ">> Namaste Aryan\n",
    "    "
   ]
  },
  {
   "cell_type": "code",
   "execution_count": 3,
   "id": "868437d8",
   "metadata": {},
   "outputs": [],
   "source": [
    "def name_function():\n",
    "    print('Breath')"
   ]
  },
  {
   "cell_type": "code",
   "execution_count": 4,
   "id": "9cfe2572",
   "metadata": {},
   "outputs": [
    {
     "data": {
      "text/plain": [
       "<function __main__.name_function()>"
      ]
     },
     "execution_count": 4,
     "metadata": {},
     "output_type": "execute_result"
    }
   ],
   "source": [
    "name_function"
   ]
  },
  {
   "cell_type": "code",
   "execution_count": 5,
   "id": "d06387e8",
   "metadata": {},
   "outputs": [
    {
     "name": "stdout",
     "output_type": "stream",
     "text": [
      "Breath\n"
     ]
    }
   ],
   "source": [
    "name_function()"
   ]
  },
  {
   "cell_type": "code",
   "execution_count": 6,
   "id": "4653265c",
   "metadata": {},
   "outputs": [
    {
     "data": {
      "text/plain": [
       "function"
      ]
     },
     "execution_count": 6,
     "metadata": {},
     "output_type": "execute_result"
    }
   ],
   "source": [
    "type(name_function)"
   ]
  },
  {
   "cell_type": "code",
   "execution_count": 7,
   "id": "cad25395",
   "metadata": {},
   "outputs": [
    {
     "name": "stdout",
     "output_type": "stream",
     "text": [
      "Breath\n"
     ]
    },
    {
     "data": {
      "text/plain": [
       "NoneType"
      ]
     },
     "execution_count": 7,
     "metadata": {},
     "output_type": "execute_result"
    }
   ],
   "source": [
    "type(name_function())"
   ]
  },
  {
   "cell_type": "code",
   "execution_count": 8,
   "id": "bb5d4518",
   "metadata": {},
   "outputs": [
    {
     "name": "stdout",
     "output_type": "stream",
     "text": [
      "Breath\n"
     ]
    },
    {
     "data": {
      "text/plain": [
       "NoneType"
      ]
     },
     "execution_count": 8,
     "metadata": {},
     "output_type": "execute_result"
    }
   ],
   "source": [
    "type(name_function())"
   ]
  },
  {
   "cell_type": "code",
   "execution_count": 9,
   "id": "923ca3ea",
   "metadata": {},
   "outputs": [
    {
     "name": "stdout",
     "output_type": "stream",
     "text": [
      "Help on function name_function in module __main__:\n",
      "\n",
      "name_function()\n",
      "\n"
     ]
    }
   ],
   "source": [
    "help(name_function)"
   ]
  },
  {
   "cell_type": "code",
   "execution_count": 10,
   "id": "7ad13d31",
   "metadata": {},
   "outputs": [
    {
     "name": "stdout",
     "output_type": "stream",
     "text": [
      "Breath\n",
      "Help on NoneType object:\n",
      "\n",
      "class NoneType(object)\n",
      " |  Methods defined here:\n",
      " |  \n",
      " |  __bool__(self, /)\n",
      " |      self != 0\n",
      " |  \n",
      " |  __repr__(self, /)\n",
      " |      Return repr(self).\n",
      " |  \n",
      " |  ----------------------------------------------------------------------\n",
      " |  Static methods defined here:\n",
      " |  \n",
      " |  __new__(*args, **kwargs) from builtins.type\n",
      " |      Create and return a new object.  See help(type) for accurate signature.\n",
      "\n"
     ]
    }
   ],
   "source": [
    "help(name_function())"
   ]
  },
  {
   "cell_type": "code",
   "execution_count": null,
   "id": "915b8fdf",
   "metadata": {},
   "outputs": [],
   "source": []
  },
  {
   "cell_type": "code",
   "execution_count": 12,
   "id": "1491b11e",
   "metadata": {},
   "outputs": [],
   "source": [
    "def name_function():\n",
    "    '''\n",
    "    DOCSTRING: Information about the function\n",
    "    INPUT: no input...\n",
    "    OUTPUT: Breath...\n",
    "    \n",
    "    '''\n",
    "    print('Breath')"
   ]
  },
  {
   "cell_type": "code",
   "execution_count": 13,
   "id": "f9caa9db",
   "metadata": {},
   "outputs": [
    {
     "name": "stdout",
     "output_type": "stream",
     "text": [
      "Help on function name_function in module __main__:\n",
      "\n",
      "name_function()\n",
      "    DOCSTRING: Information about the function\n",
      "    INPUT: no input...\n",
      "    OUTPUT: Breath...\n",
      "\n"
     ]
    }
   ],
   "source": [
    "help(name_function)"
   ]
  },
  {
   "cell_type": "code",
   "execution_count": null,
   "id": "85a7cb83",
   "metadata": {},
   "outputs": [],
   "source": []
  },
  {
   "cell_type": "code",
   "execution_count": 18,
   "id": "0522b489",
   "metadata": {},
   "outputs": [],
   "source": [
    "def say_hello():\n",
    "    print(\"Hello\")"
   ]
  },
  {
   "cell_type": "code",
   "execution_count": 19,
   "id": "deb35cc7",
   "metadata": {},
   "outputs": [
    {
     "name": "stdout",
     "output_type": "stream",
     "text": [
      "Hello\n"
     ]
    }
   ],
   "source": [
    "say_hello()"
   ]
  },
  {
   "cell_type": "code",
   "execution_count": 20,
   "id": "832e6070",
   "metadata": {},
   "outputs": [],
   "source": [
    "def say_hello(name):\n",
    "    print(\"Hello \" +name )"
   ]
  },
  {
   "cell_type": "code",
   "execution_count": 22,
   "id": "a2fc2b9e",
   "metadata": {},
   "outputs": [
    {
     "name": "stdout",
     "output_type": "stream",
     "text": [
      "Hello Peter\n"
     ]
    }
   ],
   "source": [
    "say_hello('Peter')"
   ]
  },
  {
   "cell_type": "code",
   "execution_count": 25,
   "id": "352c2920",
   "metadata": {},
   "outputs": [],
   "source": [
    "def say_hello(name=\"Peter\"):\n",
    "    print(\"Hello \"+ name)"
   ]
  },
  {
   "cell_type": "code",
   "execution_count": 26,
   "id": "337ceffd",
   "metadata": {},
   "outputs": [
    {
     "name": "stdout",
     "output_type": "stream",
     "text": [
      "Hello Peter\n"
     ]
    }
   ],
   "source": [
    "say_hello()#if not provide anything into the func. it will go default"
   ]
  },
  {
   "cell_type": "code",
   "execution_count": 29,
   "id": "d0af6c4d",
   "metadata": {},
   "outputs": [
    {
     "name": "stdout",
     "output_type": "stream",
     "text": [
      "Hello Spidey\n"
     ]
    }
   ],
   "source": [
    "say_hello(\"Spidey\")#here i/you have provide a name"
   ]
  },
  {
   "cell_type": "code",
   "execution_count": 27,
   "id": "69ff00ae",
   "metadata": {},
   "outputs": [
    {
     "data": {
      "text/plain": [
       "<function __main__.say_hello(name='Peter')>"
      ]
     },
     "execution_count": 27,
     "metadata": {},
     "output_type": "execute_result"
    }
   ],
   "source": [
    "say_hello"
   ]
  },
  {
   "cell_type": "code",
   "execution_count": null,
   "id": "1ef451a3",
   "metadata": {},
   "outputs": [],
   "source": []
  },
  {
   "cell_type": "code",
   "execution_count": 34,
   "id": "5b01a52d",
   "metadata": {},
   "outputs": [
    {
     "name": "stdout",
     "output_type": "stream",
     "text": [
      "Hello Peter\n"
     ]
    }
   ],
   "source": [
    "# lets save to this to the variable\n",
    "def say_hello(name=\"Peter\"):\n",
    "    print(\"Hello \"+ name)\n",
    "    \n",
    "    \n",
    "result = say_hello(\"Peter\")"
   ]
  },
  {
   "cell_type": "code",
   "execution_count": 35,
   "id": "84e79e17",
   "metadata": {},
   "outputs": [
    {
     "name": "stdout",
     "output_type": "stream",
     "text": [
      "None\n"
     ]
    }
   ],
   "source": [
    "print(result)\n",
    "# it will show nonetype \n",
    "# because this function is just printing something out \n",
    "# it is not returning anything to a sign to a variable\n",
    "# we have to use return keyword"
   ]
  },
  {
   "cell_type": "code",
   "execution_count": 36,
   "id": "c7dd21b9",
   "metadata": {},
   "outputs": [
    {
     "name": "stdout",
     "output_type": "stream",
     "text": [
      "Hello Peter\n"
     ]
    }
   ],
   "source": [
    "result = say_hello()"
   ]
  },
  {
   "cell_type": "code",
   "execution_count": 37,
   "id": "211274f4",
   "metadata": {},
   "outputs": [],
   "source": [
    "# we have to use return keyword\n",
    "\n",
    "def say_hello(name=\"Peter\"):\n",
    "    return(\"Hello \"+ name)\n",
    "    "
   ]
  },
  {
   "cell_type": "code",
   "execution_count": 38,
   "id": "912d5193",
   "metadata": {},
   "outputs": [],
   "source": [
    "result = say_hello(\"Tony Stark\")"
   ]
  },
  {
   "cell_type": "code",
   "execution_count": 41,
   "id": "bafc7a0a",
   "metadata": {},
   "outputs": [
    {
     "data": {
      "text/plain": [
       "'Hello Tony Stark'"
      ]
     },
     "execution_count": 41,
     "metadata": {},
     "output_type": "execute_result"
    }
   ],
   "source": [
    "result # Now you are sparking"
   ]
  },
  {
   "cell_type": "code",
   "execution_count": 42,
   "id": "6a67389b",
   "metadata": {},
   "outputs": [],
   "source": [
    "def add(n1,n2):\n",
    "    return n1+n2"
   ]
  },
  {
   "cell_type": "code",
   "execution_count": 43,
   "id": "a004459e",
   "metadata": {},
   "outputs": [],
   "source": [
    "result = add(10,80)"
   ]
  },
  {
   "cell_type": "code",
   "execution_count": 44,
   "id": "ce07727d",
   "metadata": {},
   "outputs": [
    {
     "data": {
      "text/plain": [
       "90"
      ]
     },
     "execution_count": 44,
     "metadata": {},
     "output_type": "execute_result"
    }
   ],
   "source": [
    "result"
   ]
  },
  {
   "cell_type": "code",
   "execution_count": 48,
   "id": "561d08e4",
   "metadata": {},
   "outputs": [
    {
     "name": "stdout",
     "output_type": "stream",
     "text": [
      "Help on int object:\n",
      "\n",
      "class int(object)\n",
      " |  int([x]) -> integer\n",
      " |  int(x, base=10) -> integer\n",
      " |  \n",
      " |  Convert a number or string to an integer, or return 0 if no arguments\n",
      " |  are given.  If x is a number, return x.__int__().  For floating point\n",
      " |  numbers, this truncates towards zero.\n",
      " |  \n",
      " |  If x is not a number or if base is given, then x must be a string,\n",
      " |  bytes, or bytearray instance representing an integer literal in the\n",
      " |  given base.  The literal can be preceded by '+' or '-' and be surrounded\n",
      " |  by whitespace.  The base defaults to 10.  Valid bases are 0 and 2-36.\n",
      " |  Base 0 means to interpret the base from the string as an integer literal.\n",
      " |  >>> int('0b100', base=0)\n",
      " |  4\n",
      " |  \n",
      " |  Built-in subclasses:\n",
      " |      bool\n",
      " |  \n",
      " |  Methods defined here:\n",
      " |  \n",
      " |  __abs__(self, /)\n",
      " |      abs(self)\n",
      " |  \n",
      " |  __add__(self, value, /)\n",
      " |      Return self+value.\n",
      " |  \n",
      " |  __and__(self, value, /)\n",
      " |      Return self&value.\n",
      " |  \n",
      " |  __bool__(self, /)\n",
      " |      self != 0\n",
      " |  \n",
      " |  __ceil__(...)\n",
      " |      Ceiling of an Integral returns itself.\n",
      " |  \n",
      " |  __divmod__(self, value, /)\n",
      " |      Return divmod(self, value).\n",
      " |  \n",
      " |  __eq__(self, value, /)\n",
      " |      Return self==value.\n",
      " |  \n",
      " |  __float__(self, /)\n",
      " |      float(self)\n",
      " |  \n",
      " |  __floor__(...)\n",
      " |      Flooring an Integral returns itself.\n",
      " |  \n",
      " |  __floordiv__(self, value, /)\n",
      " |      Return self//value.\n",
      " |  \n",
      " |  __format__(self, format_spec, /)\n",
      " |      Default object formatter.\n",
      " |  \n",
      " |  __ge__(self, value, /)\n",
      " |      Return self>=value.\n",
      " |  \n",
      " |  __getattribute__(self, name, /)\n",
      " |      Return getattr(self, name).\n",
      " |  \n",
      " |  __getnewargs__(self, /)\n",
      " |  \n",
      " |  __gt__(self, value, /)\n",
      " |      Return self>value.\n",
      " |  \n",
      " |  __hash__(self, /)\n",
      " |      Return hash(self).\n",
      " |  \n",
      " |  __index__(self, /)\n",
      " |      Return self converted to an integer, if self is suitable for use as an index into a list.\n",
      " |  \n",
      " |  __int__(self, /)\n",
      " |      int(self)\n",
      " |  \n",
      " |  __invert__(self, /)\n",
      " |      ~self\n",
      " |  \n",
      " |  __le__(self, value, /)\n",
      " |      Return self<=value.\n",
      " |  \n",
      " |  __lshift__(self, value, /)\n",
      " |      Return self<<value.\n",
      " |  \n",
      " |  __lt__(self, value, /)\n",
      " |      Return self<value.\n",
      " |  \n",
      " |  __mod__(self, value, /)\n",
      " |      Return self%value.\n",
      " |  \n",
      " |  __mul__(self, value, /)\n",
      " |      Return self*value.\n",
      " |  \n",
      " |  __ne__(self, value, /)\n",
      " |      Return self!=value.\n",
      " |  \n",
      " |  __neg__(self, /)\n",
      " |      -self\n",
      " |  \n",
      " |  __or__(self, value, /)\n",
      " |      Return self|value.\n",
      " |  \n",
      " |  __pos__(self, /)\n",
      " |      +self\n",
      " |  \n",
      " |  __pow__(self, value, mod=None, /)\n",
      " |      Return pow(self, value, mod).\n",
      " |  \n",
      " |  __radd__(self, value, /)\n",
      " |      Return value+self.\n",
      " |  \n",
      " |  __rand__(self, value, /)\n",
      " |      Return value&self.\n",
      " |  \n",
      " |  __rdivmod__(self, value, /)\n",
      " |      Return divmod(value, self).\n",
      " |  \n",
      " |  __repr__(self, /)\n",
      " |      Return repr(self).\n",
      " |  \n",
      " |  __rfloordiv__(self, value, /)\n",
      " |      Return value//self.\n",
      " |  \n",
      " |  __rlshift__(self, value, /)\n",
      " |      Return value<<self.\n",
      " |  \n",
      " |  __rmod__(self, value, /)\n",
      " |      Return value%self.\n",
      " |  \n",
      " |  __rmul__(self, value, /)\n",
      " |      Return value*self.\n",
      " |  \n",
      " |  __ror__(self, value, /)\n",
      " |      Return value|self.\n",
      " |  \n",
      " |  __round__(...)\n",
      " |      Rounding an Integral returns itself.\n",
      " |      Rounding with an ndigits argument also returns an integer.\n",
      " |  \n",
      " |  __rpow__(self, value, mod=None, /)\n",
      " |      Return pow(value, self, mod).\n",
      " |  \n",
      " |  __rrshift__(self, value, /)\n",
      " |      Return value>>self.\n",
      " |  \n",
      " |  __rshift__(self, value, /)\n",
      " |      Return self>>value.\n",
      " |  \n",
      " |  __rsub__(self, value, /)\n",
      " |      Return value-self.\n",
      " |  \n",
      " |  __rtruediv__(self, value, /)\n",
      " |      Return value/self.\n",
      " |  \n",
      " |  __rxor__(self, value, /)\n",
      " |      Return value^self.\n",
      " |  \n",
      " |  __sizeof__(self, /)\n",
      " |      Returns size in memory, in bytes.\n",
      " |  \n",
      " |  __sub__(self, value, /)\n",
      " |      Return self-value.\n",
      " |  \n",
      " |  __truediv__(self, value, /)\n",
      " |      Return self/value.\n",
      " |  \n",
      " |  __trunc__(...)\n",
      " |      Truncating an Integral returns itself.\n",
      " |  \n",
      " |  __xor__(self, value, /)\n",
      " |      Return self^value.\n",
      " |  \n",
      " |  as_integer_ratio(self, /)\n",
      " |      Return integer ratio.\n",
      " |      \n",
      " |      Return a pair of integers, whose ratio is exactly equal to the original int\n",
      " |      and with a positive denominator.\n",
      " |      \n",
      " |      >>> (10).as_integer_ratio()\n",
      " |      (10, 1)\n",
      " |      >>> (-10).as_integer_ratio()\n",
      " |      (-10, 1)\n",
      " |      >>> (0).as_integer_ratio()\n",
      " |      (0, 1)\n",
      " |  \n",
      " |  bit_length(self, /)\n",
      " |      Number of bits necessary to represent self in binary.\n",
      " |      \n",
      " |      >>> bin(37)\n",
      " |      '0b100101'\n",
      " |      >>> (37).bit_length()\n",
      " |      6\n",
      " |  \n",
      " |  conjugate(...)\n",
      " |      Returns self, the complex conjugate of any int.\n",
      " |  \n",
      " |  to_bytes(self, /, length, byteorder, *, signed=False)\n",
      " |      Return an array of bytes representing an integer.\n",
      " |      \n",
      " |      length\n",
      " |        Length of bytes object to use.  An OverflowError is raised if the\n",
      " |        integer is not representable with the given number of bytes.\n",
      " |      byteorder\n",
      " |        The byte order used to represent the integer.  If byteorder is 'big',\n",
      " |        the most significant byte is at the beginning of the byte array.  If\n",
      " |        byteorder is 'little', the most significant byte is at the end of the\n",
      " |        byte array.  To request the native byte order of the host system, use\n",
      " |        `sys.byteorder' as the byte order value.\n",
      " |      signed\n",
      " |        Determines whether two's complement is used to represent the integer.\n",
      " |        If signed is False and a negative integer is given, an OverflowError\n",
      " |        is raised.\n",
      " |  \n",
      " |  ----------------------------------------------------------------------\n",
      " |  Class methods defined here:\n",
      " |  \n",
      " |  from_bytes(bytes, byteorder, *, signed=False) from builtins.type\n",
      " |      Return the integer represented by the given array of bytes.\n",
      " |      \n",
      " |      bytes\n",
      " |        Holds the array of bytes to convert.  The argument must either\n",
      " |        support the buffer protocol or be an iterable object producing bytes.\n",
      " |        Bytes and bytearray are examples of built-in objects that support the\n",
      " |        buffer protocol.\n",
      " |      byteorder\n",
      " |        The byte order used to represent the integer.  If byteorder is 'big',\n",
      " |        the most significant byte is at the beginning of the byte array.  If\n",
      " |        byteorder is 'little', the most significant byte is at the end of the\n",
      " |        byte array.  To request the native byte order of the host system, use\n",
      " |        `sys.byteorder' as the byte order value.\n",
      " |      signed\n",
      " |        Indicates whether two's complement is used to represent the integer.\n",
      " |  \n",
      " |  ----------------------------------------------------------------------\n",
      " |  Static methods defined here:\n",
      " |  \n",
      " |  __new__(*args, **kwargs) from builtins.type\n",
      " |      Create and return a new object.  See help(type) for accurate signature.\n",
      " |  \n",
      " |  ----------------------------------------------------------------------\n",
      " |  Data descriptors defined here:\n",
      " |  \n",
      " |  denominator\n",
      " |      the denominator of a rational number in lowest terms\n",
      " |  \n",
      " |  imag\n",
      " |      the imaginary part of a complex number\n",
      " |  \n",
      " |  numerator\n",
      " |      the numerator of a rational number in lowest terms\n",
      " |  \n",
      " |  real\n",
      " |      the real part of a complex number\n",
      "\n"
     ]
    }
   ],
   "source": [
    "help(add(5,5))\n"
   ]
  },
  {
   "cell_type": "code",
   "execution_count": null,
   "id": "1ab2158b",
   "metadata": {},
   "outputs": [],
   "source": [
    "\n",
    "\n",
    "\n",
    "\n",
    "\n",
    "\n"
   ]
  },
  {
   "cell_type": "code",
   "execution_count": null,
   "id": "73cb502e",
   "metadata": {},
   "outputs": [],
   "source": []
  },
  {
   "cell_type": "code",
   "execution_count": 3,
   "id": "1219d948",
   "metadata": {},
   "outputs": [],
   "source": [
    "# find out if the word 'dog' is in string"
   ]
  },
  {
   "cell_type": "code",
   "execution_count": 10,
   "id": "4736da4a",
   "metadata": {},
   "outputs": [],
   "source": [
    "def dog_check(mystring):\n",
    "    if \"dog\" in mystring:\n",
    "        return True\n",
    "    else:\n",
    "        return False"
   ]
  },
  {
   "cell_type": "code",
   "execution_count": 11,
   "id": "70cf9d90",
   "metadata": {},
   "outputs": [
    {
     "data": {
      "text/plain": [
       "True"
      ]
     },
     "execution_count": 11,
     "metadata": {},
     "output_type": "execute_result"
    }
   ],
   "source": [
    "dog_check(\"My dog ran away\")"
   ]
  },
  {
   "cell_type": "code",
   "execution_count": 12,
   "id": "a74d77e2",
   "metadata": {},
   "outputs": [
    {
     "data": {
      "text/plain": [
       "False"
      ]
     },
     "execution_count": 12,
     "metadata": {},
     "output_type": "execute_result"
    }
   ],
   "source": [
    "dog_check(\"big Dog is false\")"
   ]
  },
  {
   "cell_type": "code",
   "execution_count": 13,
   "id": "f6bacbbe",
   "metadata": {},
   "outputs": [
    {
     "data": {
      "text/plain": [
       "False"
      ]
     },
     "execution_count": 13,
     "metadata": {},
     "output_type": "execute_result"
    }
   ],
   "source": [
    "dog_check(\"My cat climbs\")"
   ]
  },
  {
   "cell_type": "code",
   "execution_count": 14,
   "id": "4b1bd392",
   "metadata": {},
   "outputs": [],
   "source": [
    "def dog_check(mystring):\n",
    "    if \"dog\" in mystring.lower():\n",
    "        return True\n",
    "    else:\n",
    "        return False"
   ]
  },
  {
   "cell_type": "code",
   "execution_count": 15,
   "id": "b067cd1c",
   "metadata": {},
   "outputs": [
    {
     "data": {
      "text/plain": [
       "True"
      ]
     },
     "execution_count": 15,
     "metadata": {},
     "output_type": "execute_result"
    }
   ],
   "source": [
    "dog_check(\"Big Dog is cool\")"
   ]
  },
  {
   "cell_type": "code",
   "execution_count": 17,
   "id": "d17a9644",
   "metadata": {},
   "outputs": [
    {
     "data": {
      "text/plain": [
       "True"
      ]
     },
     "execution_count": 17,
     "metadata": {},
     "output_type": "execute_result"
    }
   ],
   "source": [
    "dog_check(\"Big DOg is cool\")"
   ]
  },
  {
   "cell_type": "code",
   "execution_count": 18,
   "id": "aeb159eb",
   "metadata": {},
   "outputs": [
    {
     "data": {
      "text/plain": [
       "True"
      ]
     },
     "execution_count": 18,
     "metadata": {},
     "output_type": "execute_result"
    }
   ],
   "source": [
    "dog_check(\"Big DoG is cool\")"
   ]
  },
  {
   "cell_type": "code",
   "execution_count": 19,
   "id": "7d6ab0d2",
   "metadata": {},
   "outputs": [
    {
     "data": {
      "text/plain": [
       "True"
      ]
     },
     "execution_count": 19,
     "metadata": {},
     "output_type": "execute_result"
    }
   ],
   "source": [
    "dog_check(\"Big DOG is cool\")"
   ]
  },
  {
   "cell_type": "code",
   "execution_count": null,
   "id": "c0c0427e",
   "metadata": {},
   "outputs": [],
   "source": []
  },
  {
   "cell_type": "code",
   "execution_count": 22,
   "id": "f8aa9ee5",
   "metadata": {},
   "outputs": [
    {
     "data": {
      "text/plain": [
       "True"
      ]
     },
     "execution_count": 22,
     "metadata": {},
     "output_type": "execute_result"
    }
   ],
   "source": [
    "\"dog\" in \"dog ran away\""
   ]
  },
  {
   "cell_type": "code",
   "execution_count": null,
   "id": "da154b57",
   "metadata": {},
   "outputs": [],
   "source": []
  },
  {
   "cell_type": "code",
   "execution_count": 1,
   "id": "f9c49449",
   "metadata": {},
   "outputs": [],
   "source": [
    "def dog_check(mystring):\n",
    "    if \"dog\" in mystring.lower():\n",
    "        return True"
   ]
  },
  {
   "cell_type": "code",
   "execution_count": 3,
   "id": "032c9419",
   "metadata": {},
   "outputs": [],
   "source": [
    "dog_check('''its not present and it will not written false because\n",
    "its not mention in the above code ''')"
   ]
  },
  {
   "cell_type": "code",
   "execution_count": 9,
   "id": "c672d28d",
   "metadata": {},
   "outputs": [],
   "source": [
    "var2=dog_check('''its not present and it will not written false because\n",
    "its not mention in the above code ''')"
   ]
  },
  {
   "cell_type": "code",
   "execution_count": 10,
   "id": "cdcda300",
   "metadata": {},
   "outputs": [
    {
     "data": {
      "text/plain": [
       "False"
      ]
     },
     "execution_count": 10,
     "metadata": {},
     "output_type": "execute_result"
    }
   ],
   "source": [
    "var2"
   ]
  },
  {
   "cell_type": "code",
   "execution_count": 25,
   "id": "6d3cbc80",
   "metadata": {},
   "outputs": [],
   "source": [
    "# the above code isnt the perfect code"
   ]
  },
  {
   "cell_type": "code",
   "execution_count": 4,
   "id": "740a7fe8",
   "metadata": {},
   "outputs": [],
   "source": [
    "def dog_check(mystring):\n",
    "    return \"dog\" in mystring.lower()"
   ]
  },
  {
   "cell_type": "code",
   "execution_count": 5,
   "id": "18ee0002",
   "metadata": {},
   "outputs": [
    {
     "data": {
      "text/plain": [
       "True"
      ]
     },
     "execution_count": 5,
     "metadata": {},
     "output_type": "execute_result"
    }
   ],
   "source": [
    "dog_check(\"Dog ran away\")"
   ]
  },
  {
   "cell_type": "code",
   "execution_count": 7,
   "id": "33e1a04a",
   "metadata": {},
   "outputs": [],
   "source": [
    "var1= dog_check(\"dog is present\")"
   ]
  },
  {
   "cell_type": "code",
   "execution_count": 8,
   "id": "8416c9d9",
   "metadata": {},
   "outputs": [
    {
     "data": {
      "text/plain": [
       "True"
      ]
     },
     "execution_count": 8,
     "metadata": {},
     "output_type": "execute_result"
    }
   ],
   "source": [
    "var1"
   ]
  },
  {
   "cell_type": "code",
   "execution_count": null,
   "id": "99c7cb0d",
   "metadata": {},
   "outputs": [],
   "source": []
  },
  {
   "cell_type": "markdown",
   "id": "b5a1d13e",
   "metadata": {},
   "source": [
    "## PIG LATIN (normal word to secret)\n",
    "\n",
    "   - If word starts with vowel, add \"ay\" to end\n",
    "   - If word doesnt starts with vovel, put first letter to end and add \"ay\"\n",
    "\n",
    "     - word   -->ordway\n",
    "     \n",
    "     - apple  -->appleay"
   ]
  },
  {
   "cell_type": "code",
   "execution_count": 11,
   "id": "66b75698",
   "metadata": {},
   "outputs": [],
   "source": [
    "def pig_latin(word):\n",
    "    \n",
    "    first_letter = word[0]\n",
    "    \n",
    "    # check if vowel\n",
    "    if first_letter in \"aeiou\":\n",
    "        pig_word = word + \"ay\"\n",
    "    else:\n",
    "        pig_word = word[1:] + first_letter + \"ay\"\n",
    "        \n",
    "    return pig_word"
   ]
  },
  {
   "cell_type": "code",
   "execution_count": 15,
   "id": "b7809211",
   "metadata": {},
   "outputs": [
    {
     "name": "stdout",
     "output_type": "stream",
     "text": [
      "ordway\n"
     ]
    }
   ],
   "source": [
    "print(pig_latin(\"word\"))"
   ]
  },
  {
   "cell_type": "code",
   "execution_count": 16,
   "id": "1ad7f642",
   "metadata": {},
   "outputs": [
    {
     "name": "stdout",
     "output_type": "stream",
     "text": [
      "iddharthSay\n"
     ]
    }
   ],
   "source": [
    "print(pig_latin(\"Siddharth\"))"
   ]
  },
  {
   "cell_type": "code",
   "execution_count": 14,
   "id": "5379623c",
   "metadata": {},
   "outputs": [
    {
     "data": {
      "text/plain": [
       "'ron ManIay'"
      ]
     },
     "execution_count": 14,
     "metadata": {},
     "output_type": "execute_result"
    }
   ],
   "source": [
    "pig_latin(\"Iron Man\")"
   ]
  },
  {
   "cell_type": "code",
   "execution_count": 17,
   "id": "39d00ec2",
   "metadata": {},
   "outputs": [],
   "source": [
    "def pig_latin(word):\n",
    "    \n",
    "    first_letter = word[0]\n",
    "    \n",
    "    # check if vowel\n",
    "    if first_letter in \"aeiou\":\n",
    "        pig_word = word + \"ay\"\n",
    "    else:\n",
    "        pig_word = word[1:] + first_letter + \"ay\"\n",
    "        return pig_word"
   ]
  },
  {
   "cell_type": "code",
   "execution_count": 18,
   "id": "9b79be10",
   "metadata": {},
   "outputs": [
    {
     "name": "stdout",
     "output_type": "stream",
     "text": [
      "ordway\n"
     ]
    }
   ],
   "source": [
    "print(pig_latin(\"word\"))"
   ]
  },
  {
   "cell_type": "code",
   "execution_count": 19,
   "id": "826be043",
   "metadata": {},
   "outputs": [
    {
     "name": "stdout",
     "output_type": "stream",
     "text": [
      "iddharthSay\n"
     ]
    }
   ],
   "source": [
    "print(pig_latin(\"Siddharth\"))"
   ]
  },
  {
   "cell_type": "code",
   "execution_count": 20,
   "id": "a44e15d2",
   "metadata": {},
   "outputs": [
    {
     "data": {
      "text/plain": [
       "'ron ManIay'"
      ]
     },
     "execution_count": 20,
     "metadata": {},
     "output_type": "execute_result"
    }
   ],
   "source": [
    "pig_latin(\"Iron Man\")"
   ]
  },
  {
   "cell_type": "code",
   "execution_count": 21,
   "id": "54e84804",
   "metadata": {},
   "outputs": [],
   "source": [
    "def pig_latin(word):\n",
    "    \n",
    "    first_letter = word[0]\n",
    "    \n",
    "    # check if vowel\n",
    "    if first_letter in \"aeiou\":\n",
    "        pig_word = word + \"ay\"\n",
    "        return pig_word\n",
    "    else:\n",
    "        pig_word = word[1:] + first_letter + \"ay\""
   ]
  },
  {
   "cell_type": "code",
   "execution_count": 22,
   "id": "07451ca9",
   "metadata": {},
   "outputs": [
    {
     "name": "stdout",
     "output_type": "stream",
     "text": [
      "None\n"
     ]
    }
   ],
   "source": [
    "print(pig_latin(\"word\"))"
   ]
  },
  {
   "cell_type": "code",
   "execution_count": 23,
   "id": "e5ec41a4",
   "metadata": {
    "scrolled": true
   },
   "outputs": [
    {
     "name": "stdout",
     "output_type": "stream",
     "text": [
      "None\n"
     ]
    }
   ],
   "source": [
    "print(pig_latin(\"Siddharth\"))"
   ]
  },
  {
   "cell_type": "code",
   "execution_count": 31,
   "id": "792f5d1f",
   "metadata": {},
   "outputs": [],
   "source": [
    "pig_latin(\"Iron Man\")"
   ]
  },
  {
   "cell_type": "code",
   "execution_count": 28,
   "id": "2bf86a49",
   "metadata": {},
   "outputs": [],
   "source": [
    "# error beacuse of indentation at no. 10 (return pig_wordabs)\n",
    "\n",
    "# def pig_latin(word):\n",
    "    \n",
    "#     first_letter = word[0]\n",
    "    \n",
    "#     # check if vowel\n",
    "#     if first_letter in \"aeiou\":\n",
    "#         pig_word = word + \"ay\"\n",
    "#     return pig_word\n",
    "#     else:\n",
    "#         pig_word = word[1:] + first_letter + \"ay\""
   ]
  },
  {
   "cell_type": "code",
   "execution_count": 30,
   "id": "bbaa3368",
   "metadata": {},
   "outputs": [],
   "source": [
    "# error because of indentation at no.13 (return pig_word)\n",
    "\n",
    "# def pig_latin(word):\n",
    "    \n",
    "#     first_letter = word[0]\n",
    "    \n",
    "#     # check if vowel\n",
    "#     if first_letter in \"aeiou\":\n",
    "#         pig_word = word + \"ay\"\n",
    "#     else:\n",
    "#         pig_word = word[1:] + first_letter + \"ay\"\n",
    "        \n",
    "# return pig_word"
   ]
  },
  {
   "cell_type": "code",
   "execution_count": 32,
   "id": "79ea8995",
   "metadata": {},
   "outputs": [],
   "source": [
    "def pig_latin(word):\n",
    "    \n",
    "    first_letter = word[0]\n",
    "    \n",
    "    # check if vowel\n",
    "    if first_letter in \"aeiou\":\n",
    "        pig_word = word + \"ay\"\n",
    "    else:\n",
    "        pig_word = word[1:] + word[0] + \"ay\"# word[0]\n",
    "        return pig_word"
   ]
  },
  {
   "cell_type": "code",
   "execution_count": 33,
   "id": "8d0b00bd",
   "metadata": {},
   "outputs": [
    {
     "name": "stdout",
     "output_type": "stream",
     "text": [
      "ordway\n"
     ]
    }
   ],
   "source": [
    "print(pig_latin(\"word\"))"
   ]
  },
  {
   "cell_type": "code",
   "execution_count": 34,
   "id": "cb1e8414",
   "metadata": {},
   "outputs": [
    {
     "name": "stdout",
     "output_type": "stream",
     "text": [
      "iddharthSay\n"
     ]
    }
   ],
   "source": [
    "print(pig_latin(\"Siddharth\"))"
   ]
  },
  {
   "cell_type": "code",
   "execution_count": null,
   "id": "8b0d6c1e",
   "metadata": {},
   "outputs": [],
   "source": []
  },
  {
   "cell_type": "code",
   "execution_count": null,
   "id": "c02dbf39",
   "metadata": {},
   "outputs": [],
   "source": []
  },
  {
   "cell_type": "code",
   "execution_count": null,
   "id": "a419deb4",
   "metadata": {},
   "outputs": [],
   "source": []
  },
  {
   "cell_type": "code",
   "execution_count": 157,
   "id": "e3f27cae",
   "metadata": {},
   "outputs": [],
   "source": [
    "def oden():\n",
    "    if num%2 == 0:\n",
    "        print(f\"{num} is even number\")\n",
    "    else:\n",
    "        print(f\"{num} is odd number\")"
   ]
  },
  {
   "cell_type": "code",
   "execution_count": 158,
   "id": "0cb9fe86",
   "metadata": {},
   "outputs": [
    {
     "data": {
      "text/plain": [
       "4"
      ]
     },
     "execution_count": 158,
     "metadata": {},
     "output_type": "execute_result"
    }
   ],
   "source": [
    "4"
   ]
  },
  {
   "cell_type": "code",
   "execution_count": 159,
   "id": "b8adec31",
   "metadata": {},
   "outputs": [
    {
     "name": "stdout",
     "output_type": "stream",
     "text": [
      "3 is odd number\n"
     ]
    }
   ],
   "source": [
    "num = 3\n",
    "oden()"
   ]
  },
  {
   "cell_type": "code",
   "execution_count": 160,
   "id": "d1e8dd8f",
   "metadata": {},
   "outputs": [
    {
     "name": "stdout",
     "output_type": "stream",
     "text": [
      "4 is even number\n"
     ]
    }
   ],
   "source": [
    "num = 4\n",
    "oden()"
   ]
  },
  {
   "cell_type": "code",
   "execution_count": 162,
   "id": "60cf46c3",
   "metadata": {},
   "outputs": [],
   "source": [
    "def oden(num):\n",
    "    for n in range (-num,num):\n",
    "        if (num%2) == 0:\n",
    "            print(f\"{num} is an even number\")\n",
    "            break\n",
    "        else:\n",
    "            print(f\"{num} is an odd number\")\n",
    "            break"
   ]
  },
  {
   "cell_type": "code",
   "execution_count": 163,
   "id": "b67a083b",
   "metadata": {},
   "outputs": [
    {
     "name": "stdout",
     "output_type": "stream",
     "text": [
      "5 is an odd number\n"
     ]
    }
   ],
   "source": [
    "oden(5)"
   ]
  },
  {
   "cell_type": "code",
   "execution_count": 164,
   "id": "d1ca6c08",
   "metadata": {},
   "outputs": [
    {
     "name": "stdout",
     "output_type": "stream",
     "text": [
      "14 is an even number\n"
     ]
    }
   ],
   "source": [
    "oden(14)"
   ]
  },
  {
   "cell_type": "code",
   "execution_count": 165,
   "id": "c9a96d24",
   "metadata": {},
   "outputs": [],
   "source": [
    "# oden(54.4) # this will not work cause of float data type\n",
    "# TypeError: 'float' object cannot be interpreted as an integer\n"
   ]
  },
  {
   "cell_type": "code",
   "execution_count": 168,
   "id": "4d982c14",
   "metadata": {},
   "outputs": [],
   "source": [
    "# oden(-4) this will not display any output"
   ]
  },
  {
   "cell_type": "code",
   "execution_count": null,
   "id": "cea1a02a",
   "metadata": {},
   "outputs": [],
   "source": []
  },
  {
   "cell_type": "code",
   "execution_count": null,
   "id": "be4ca61d",
   "metadata": {},
   "outputs": [],
   "source": []
  },
  {
   "cell_type": "code",
   "execution_count": 170,
   "id": "0282ac91",
   "metadata": {},
   "outputs": [],
   "source": [
    "def is_prime(num):\n",
    "    '''\n",
    "    Naive method of checking for primes. \n",
    "    '''\n",
    "    for n in range(2,num):\n",
    "        if num % n == 0:\n",
    "            print(num,'is not prime')\n",
    "            break\n",
    "    else: # If never mod zero, then prime\n",
    "        print(num,'is prime!')"
   ]
  },
  {
   "cell_type": "code",
   "execution_count": 171,
   "id": "d64d1094",
   "metadata": {},
   "outputs": [
    {
     "name": "stdout",
     "output_type": "stream",
     "text": [
      "54 is not prime\n"
     ]
    }
   ],
   "source": [
    "is_prime(54)"
   ]
  },
  {
   "cell_type": "code",
   "execution_count": 172,
   "id": "ef27282d",
   "metadata": {},
   "outputs": [
    {
     "name": "stdout",
     "output_type": "stream",
     "text": [
      "7 is prime!\n"
     ]
    }
   ],
   "source": [
    "is_prime(7)"
   ]
  },
  {
   "cell_type": "code",
   "execution_count": 173,
   "id": "cd92b571",
   "metadata": {},
   "outputs": [
    {
     "name": "stdout",
     "output_type": "stream",
     "text": [
      "-42 is prime!\n"
     ]
    }
   ],
   "source": [
    "is_prime(-42) # WRONG ANSWER (Code isnt perfect)"
   ]
  },
  {
   "cell_type": "code",
   "execution_count": null,
   "id": "b9feca2f",
   "metadata": {},
   "outputs": [],
   "source": []
  },
  {
   "cell_type": "code",
   "execution_count": 174,
   "id": "88cb66a1",
   "metadata": {},
   "outputs": [],
   "source": [
    "import math\n",
    "\n",
    "def is_prime2(num):\n",
    "    '''\n",
    "    Better method of checking for primes. \n",
    "    '''\n",
    "    if num % 2 == 0 and num > 2: \n",
    "        return False\n",
    "    for i in range(3, int(math.sqrt(num)) + 1, 2):\n",
    "        if num % i == 0:\n",
    "            return False\n",
    "    return True"
   ]
  },
  {
   "cell_type": "code",
   "execution_count": 175,
   "id": "0c1fb33f",
   "metadata": {},
   "outputs": [
    {
     "data": {
      "text/plain": [
       "False"
      ]
     },
     "execution_count": 175,
     "metadata": {},
     "output_type": "execute_result"
    }
   ],
   "source": [
    "is_prime2(4)"
   ]
  },
  {
   "cell_type": "code",
   "execution_count": 176,
   "id": "4cbeeb5b",
   "metadata": {},
   "outputs": [
    {
     "data": {
      "text/plain": [
       "True"
      ]
     },
     "execution_count": 176,
     "metadata": {},
     "output_type": "execute_result"
    }
   ],
   "source": [
    "is_prime2(89)"
   ]
  },
  {
   "cell_type": "code",
   "execution_count": 181,
   "id": "8cf9fc89",
   "metadata": {},
   "outputs": [
    {
     "data": {
      "text/plain": [
       "True"
      ]
     },
     "execution_count": 181,
     "metadata": {},
     "output_type": "execute_result"
    }
   ],
   "source": [
    "is_prime2(4.5) #still not the perfect code but better than previous"
   ]
  },
  {
   "cell_type": "code",
   "execution_count": 113,
   "id": "dec5dc64",
   "metadata": {},
   "outputs": [],
   "source": [
    "def is_prime2(num):\n",
    "    '''\n",
    "    Better method of checking for primes. \n",
    "    '''\n",
    "    if num % 2 == 0 and num > 2: \n",
    "        return False\n",
    "    i=3\n",
    "    if i<num:\n",
    "        if num % i == 0:\n",
    "            return False\n",
    "        i+=2\n",
    "    if num<0:\n",
    "        print(\"enter a positive no.\")\n",
    "    else:\n",
    "        return True"
   ]
  },
  {
   "cell_type": "code",
   "execution_count": 114,
   "id": "fbf4af3a",
   "metadata": {},
   "outputs": [
    {
     "data": {
      "text/plain": [
       "False"
      ]
     },
     "execution_count": 114,
     "metadata": {},
     "output_type": "execute_result"
    }
   ],
   "source": [
    "is_prime2(4)"
   ]
  },
  {
   "cell_type": "code",
   "execution_count": 115,
   "id": "23b9bb59",
   "metadata": {},
   "outputs": [
    {
     "data": {
      "text/plain": [
       "True"
      ]
     },
     "execution_count": 115,
     "metadata": {},
     "output_type": "execute_result"
    }
   ],
   "source": [
    "is_prime2(1)"
   ]
  },
  {
   "cell_type": "code",
   "execution_count": 116,
   "id": "ea4aa5f6",
   "metadata": {},
   "outputs": [
    {
     "data": {
      "text/plain": [
       "True"
      ]
     },
     "execution_count": 116,
     "metadata": {},
     "output_type": "execute_result"
    }
   ],
   "source": [
    "is_prime2(2)"
   ]
  },
  {
   "cell_type": "code",
   "execution_count": 117,
   "id": "525f8889",
   "metadata": {},
   "outputs": [
    {
     "data": {
      "text/plain": [
       "True"
      ]
     },
     "execution_count": 117,
     "metadata": {},
     "output_type": "execute_result"
    }
   ],
   "source": [
    "is_prime2(3)"
   ]
  },
  {
   "cell_type": "code",
   "execution_count": 118,
   "id": "757c776c",
   "metadata": {},
   "outputs": [
    {
     "data": {
      "text/plain": [
       "True"
      ]
     },
     "execution_count": 118,
     "metadata": {},
     "output_type": "execute_result"
    }
   ],
   "source": [
    "is_prime2(5)"
   ]
  },
  {
   "cell_type": "code",
   "execution_count": 119,
   "id": "246f919b",
   "metadata": {},
   "outputs": [
    {
     "data": {
      "text/plain": [
       "True"
      ]
     },
     "execution_count": 119,
     "metadata": {},
     "output_type": "execute_result"
    }
   ],
   "source": [
    "is_prime2(7)"
   ]
  },
  {
   "cell_type": "code",
   "execution_count": 120,
   "id": "f46f4d95",
   "metadata": {},
   "outputs": [
    {
     "name": "stdout",
     "output_type": "stream",
     "text": [
      "enter a positive no.\n"
     ]
    }
   ],
   "source": [
    "is_prime2(-9)"
   ]
  },
  {
   "cell_type": "code",
   "execution_count": 121,
   "id": "3fdc7f2f",
   "metadata": {},
   "outputs": [
    {
     "data": {
      "text/plain": [
       "True"
      ]
     },
     "execution_count": 121,
     "metadata": {},
     "output_type": "execute_result"
    }
   ],
   "source": [
    "is_prime2(5.4)"
   ]
  },
  {
   "cell_type": "code",
   "execution_count": null,
   "id": "0362e711",
   "metadata": {},
   "outputs": [],
   "source": []
  },
  {
   "cell_type": "code",
   "execution_count": 227,
   "id": "dcb26238",
   "metadata": {},
   "outputs": [],
   "source": [
    "# THE TRUTH IS I AM THE BEST \n",
    "\n",
    "# SPECIAL THANKS TO GANESH PAI\n",
    "\n",
    "# REMAINDER:-\n",
    "# according to modern mathematicians --> number is prime if it is divided\n",
    "# by exactly two numbers \n",
    "\n",
    "# so 1 cant be prime\n",
    "# 0 cant be prime number because there are infinite numbers which gives\n",
    "# zero after dividing the number 0(0/1 = 0/1 = 0/4235 = 0)\n",
    "\n",
    "\n",
    "\n",
    "\n",
    "\n",
    "\n",
    "\n",
    "\n",
    "\n",
    "\n",
    "\n",
    "\n",
    "# THE ULTIMATE MAGIC OF NUMBER '24' JUST LIKE RAMANUJAN NUMBER '1729'"
   ]
  },
  {
   "cell_type": "code",
   "execution_count": 258,
   "id": "f8fed30a",
   "metadata": {},
   "outputs": [],
   "source": [
    "def primecheck(num):\n",
    "    if num<=0:\n",
    "        print(\"Enter a natural number\")\n",
    "    if (num**2 - 1) % 24 == 0 or num==2 or num==3:\n",
    "        return (f\"{num} is a prime no.\")\n",
    "    else:\n",
    "        return (f\"{num} is NOT a prime no.\")"
   ]
  },
  {
   "cell_type": "code",
   "execution_count": 259,
   "id": "f7076a2c",
   "metadata": {},
   "outputs": [
    {
     "data": {
      "text/plain": [
       "'5 is a prime no.'"
      ]
     },
     "execution_count": 259,
     "metadata": {},
     "output_type": "execute_result"
    }
   ],
   "source": [
    "primecheck(5)"
   ]
  },
  {
   "cell_type": "code",
   "execution_count": 260,
   "id": "75551861",
   "metadata": {},
   "outputs": [
    {
     "name": "stdout",
     "output_type": "stream",
     "text": [
      "5 is a prime no.\n"
     ]
    }
   ],
   "source": [
    "print(primecheck(5))"
   ]
  },
  {
   "cell_type": "code",
   "execution_count": 261,
   "id": "74a87234",
   "metadata": {},
   "outputs": [
    {
     "name": "stdout",
     "output_type": "stream",
     "text": [
      "8 is NOT a prime no.\n"
     ]
    }
   ],
   "source": [
    "print(primecheck(8))"
   ]
  },
  {
   "cell_type": "code",
   "execution_count": 262,
   "id": "780e3ffd",
   "metadata": {},
   "outputs": [
    {
     "data": {
      "text/plain": [
       "'8 is NOT a prime no.'"
      ]
     },
     "execution_count": 262,
     "metadata": {},
     "output_type": "execute_result"
    }
   ],
   "source": [
    "primecheck(8)"
   ]
  },
  {
   "cell_type": "code",
   "execution_count": 263,
   "id": "d508058c",
   "metadata": {},
   "outputs": [
    {
     "name": "stdout",
     "output_type": "stream",
     "text": [
      "10 is NOT a prime no.\n"
     ]
    }
   ],
   "source": [
    "print(primecheck(10))"
   ]
  },
  {
   "cell_type": "code",
   "execution_count": 264,
   "id": "83d875ca",
   "metadata": {},
   "outputs": [
    {
     "data": {
      "text/plain": [
       "'2 is a prime no.'"
      ]
     },
     "execution_count": 264,
     "metadata": {},
     "output_type": "execute_result"
    }
   ],
   "source": [
    "primecheck(2)"
   ]
  },
  {
   "cell_type": "code",
   "execution_count": 265,
   "id": "43681936",
   "metadata": {},
   "outputs": [
    {
     "data": {
      "text/plain": [
       "'4 is NOT a prime no.'"
      ]
     },
     "execution_count": 265,
     "metadata": {},
     "output_type": "execute_result"
    }
   ],
   "source": [
    "primecheck(4)"
   ]
  },
  {
   "cell_type": "code",
   "execution_count": 266,
   "id": "2a75a5d9",
   "metadata": {},
   "outputs": [
    {
     "data": {
      "text/plain": [
       "'3 is a prime no.'"
      ]
     },
     "execution_count": 266,
     "metadata": {},
     "output_type": "execute_result"
    }
   ],
   "source": [
    "primecheck(3)"
   ]
  },
  {
   "cell_type": "code",
   "execution_count": 267,
   "id": "eb86d83c",
   "metadata": {},
   "outputs": [
    {
     "data": {
      "text/plain": [
       "'1 is a prime no.'"
      ]
     },
     "execution_count": 267,
     "metadata": {},
     "output_type": "execute_result"
    }
   ],
   "source": [
    "primecheck(1)"
   ]
  },
  {
   "cell_type": "code",
   "execution_count": 268,
   "id": "42f25ffb",
   "metadata": {},
   "outputs": [
    {
     "name": "stdout",
     "output_type": "stream",
     "text": [
      "Enter a natural number\n"
     ]
    },
    {
     "data": {
      "text/plain": [
       "'0 is NOT a prime no.'"
      ]
     },
     "execution_count": 268,
     "metadata": {},
     "output_type": "execute_result"
    }
   ],
   "source": [
    "primecheck(0)"
   ]
  },
  {
   "cell_type": "code",
   "execution_count": 269,
   "id": "8c715f45",
   "metadata": {},
   "outputs": [
    {
     "data": {
      "text/plain": [
       "'54.4 is NOT a prime no.'"
      ]
     },
     "execution_count": 269,
     "metadata": {},
     "output_type": "execute_result"
    }
   ],
   "source": [
    "primecheck(54.4)"
   ]
  },
  {
   "cell_type": "code",
   "execution_count": 270,
   "id": "575a441a",
   "metadata": {},
   "outputs": [
    {
     "name": "stdout",
     "output_type": "stream",
     "text": [
      "Enter a natural number\n"
     ]
    },
    {
     "data": {
      "text/plain": [
       "'-4 is NOT a prime no.'"
      ]
     },
     "execution_count": 270,
     "metadata": {},
     "output_type": "execute_result"
    }
   ],
   "source": [
    "primecheck(-4)"
   ]
  },
  {
   "cell_type": "code",
   "execution_count": 271,
   "id": "c59c4f5f",
   "metadata": {},
   "outputs": [
    {
     "data": {
      "text/plain": [
       "'11 is a prime no.'"
      ]
     },
     "execution_count": 271,
     "metadata": {},
     "output_type": "execute_result"
    }
   ],
   "source": [
    "primecheck(11)"
   ]
  },
  {
   "cell_type": "code",
   "execution_count": null,
   "id": "038437de",
   "metadata": {},
   "outputs": [],
   "source": []
  },
  {
   "cell_type": "code",
   "execution_count": null,
   "id": "1e8c0426",
   "metadata": {},
   "outputs": [],
   "source": []
  },
  {
   "cell_type": "code",
   "execution_count": null,
   "id": "0ceb2e24",
   "metadata": {},
   "outputs": [],
   "source": []
  },
  {
   "cell_type": "code",
   "execution_count": null,
   "id": "4db8691b",
   "metadata": {},
   "outputs": [],
   "source": []
  },
  {
   "cell_type": "code",
   "execution_count": null,
   "id": "e1ca3a20",
   "metadata": {},
   "outputs": [],
   "source": []
  },
  {
   "cell_type": "code",
   "execution_count": null,
   "id": "9fae43a4",
   "metadata": {},
   "outputs": [],
   "source": []
  },
  {
   "cell_type": "code",
   "execution_count": 182,
   "id": "8c981b1f",
   "metadata": {},
   "outputs": [],
   "source": [
    "# these followings belongs to the code before the above\n",
    "\n",
    "# is_prime2(-54) \n",
    "# this time it will show error\n",
    "#  domain error: math domain error"
   ]
  },
  {
   "cell_type": "code",
   "execution_count": 183,
   "id": "8460eff9",
   "metadata": {},
   "outputs": [
    {
     "data": {
      "text/plain": [
       "True"
      ]
     },
     "execution_count": 183,
     "metadata": {},
     "output_type": "execute_result"
    }
   ],
   "source": [
    "is_prime2(1)"
   ]
  },
  {
   "cell_type": "code",
   "execution_count": 184,
   "id": "ca260f82",
   "metadata": {},
   "outputs": [
    {
     "data": {
      "text/plain": [
       "True"
      ]
     },
     "execution_count": 184,
     "metadata": {},
     "output_type": "execute_result"
    }
   ],
   "source": [
    "is_prime2(0)"
   ]
  },
  {
   "cell_type": "code",
   "execution_count": 185,
   "id": "8b1483b9",
   "metadata": {},
   "outputs": [
    {
     "data": {
      "text/plain": [
       "True"
      ]
     },
     "execution_count": 185,
     "metadata": {},
     "output_type": "execute_result"
    }
   ],
   "source": [
    "is_prime2(2)"
   ]
  },
  {
   "cell_type": "code",
   "execution_count": 186,
   "id": "b65c238d",
   "metadata": {},
   "outputs": [
    {
     "data": {
      "text/plain": [
       "False"
      ]
     },
     "execution_count": 186,
     "metadata": {},
     "output_type": "execute_result"
    }
   ],
   "source": [
    "is_prime2(4)"
   ]
  },
  {
   "cell_type": "code",
   "execution_count": 188,
   "id": "3df9f796",
   "metadata": {},
   "outputs": [
    {
     "data": {
      "text/plain": [
       "False"
      ]
     },
     "execution_count": 188,
     "metadata": {},
     "output_type": "execute_result"
    }
   ],
   "source": [
    "is_prime2(4.0)"
   ]
  },
  {
   "cell_type": "code",
   "execution_count": 189,
   "id": "deafdb27",
   "metadata": {},
   "outputs": [
    {
     "data": {
      "text/plain": [
       "True"
      ]
     },
     "execution_count": 189,
     "metadata": {},
     "output_type": "execute_result"
    }
   ],
   "source": [
    "is_prime2(4.4)"
   ]
  },
  {
   "cell_type": "code",
   "execution_count": null,
   "id": "dec3a612",
   "metadata": {},
   "outputs": [],
   "source": [
    "\n",
    "\n",
    "\n",
    "\n",
    "\n",
    "\n",
    "\n",
    "\n",
    "\n"
   ]
  },
  {
   "cell_type": "markdown",
   "id": "b56694bc",
   "metadata": {},
   "source": [
    "# 044 args and kwargs in Python\n",
    "# Functional Parameters :- ARGUMENTS AND KEYWORDARGUMENTS\n",
    "\n",
    "\n",
    "# 28 JAN 2022"
   ]
  },
  {
   "cell_type": "code",
   "execution_count": 194,
   "id": "dee215ff",
   "metadata": {},
   "outputs": [],
   "source": [
    "def myfunc(a,b):\n",
    "    ''' returns 5% of the sum a and b '''\n",
    "    return sum((a,b))* 0.05"
   ]
  },
  {
   "cell_type": "code",
   "execution_count": 195,
   "id": "a1a6c66e",
   "metadata": {},
   "outputs": [
    {
     "data": {
      "text/plain": [
       "0.45"
      ]
     },
     "execution_count": 195,
     "metadata": {},
     "output_type": "execute_result"
    }
   ],
   "source": [
    "myfunc(5,4)"
   ]
  },
  {
   "cell_type": "code",
   "execution_count": 196,
   "id": "8b5c0f54",
   "metadata": {},
   "outputs": [
    {
     "data": {
      "text/plain": [
       "5.0"
      ]
     },
     "execution_count": 196,
     "metadata": {},
     "output_type": "execute_result"
    }
   ],
   "source": [
    "myfunc(40,60)"
   ]
  },
  {
   "cell_type": "code",
   "execution_count": 198,
   "id": "9497b1f2",
   "metadata": {},
   "outputs": [
    {
     "data": {
      "text/plain": [
       "5.0"
      ]
     },
     "execution_count": 198,
     "metadata": {},
     "output_type": "execute_result"
    }
   ],
   "source": [
    "myfunc(40.5,59.5)"
   ]
  },
  {
   "cell_type": "code",
   "execution_count": 200,
   "id": "b883410e",
   "metadata": {},
   "outputs": [],
   "source": [
    "# myfunc(1,2,3)\n",
    "# TypeError: myfunc() takes 2 positional arguments but 3 were given\n"
   ]
  },
  {
   "cell_type": "code",
   "execution_count": 201,
   "id": "5cd47dd4",
   "metadata": {},
   "outputs": [],
   "source": [
    "# lets solve above problem by assigining alot of parameters"
   ]
  },
  {
   "cell_type": "code",
   "execution_count": 202,
   "id": "b02e71be",
   "metadata": {},
   "outputs": [],
   "source": [
    "def myfunc(a,b,c=0,d=0,e=0,f=0,g=0,h=0,i=0):\n",
    "    ''' returns 5% of the sum a and b '''\n",
    "    return sum((a,b,c,d,e,f,g,h,i))* 0.05"
   ]
  },
  {
   "cell_type": "code",
   "execution_count": 205,
   "id": "bce77e89",
   "metadata": {},
   "outputs": [
    {
     "data": {
      "text/plain": [
       "5.0"
      ]
     },
     "execution_count": 205,
     "metadata": {},
     "output_type": "execute_result"
    }
   ],
   "source": [
    "myfunc(5,10,20,30,15,20)\n",
    "# but eventually we are going to hit a limit"
   ]
  },
  {
   "cell_type": "code",
   "execution_count": 211,
   "id": "627f2ad2",
   "metadata": {},
   "outputs": [],
   "source": [
    "def myfuncadd(*args):\n",
    "    return sum(args) * 0.05"
   ]
  },
  {
   "cell_type": "code",
   "execution_count": 212,
   "id": "14bd1b48",
   "metadata": {
    "scrolled": true
   },
   "outputs": [
    {
     "data": {
      "text/plain": [
       "81.75"
      ]
     },
     "execution_count": 212,
     "metadata": {},
     "output_type": "execute_result"
    }
   ],
   "source": [
    "myfuncadd(32,433,2,3,4,5,2,4,65,4,0,0,0,0,3,3,465,3,42,4,24,65,465,4,3)"
   ]
  },
  {
   "cell_type": "code",
   "execution_count": 286,
   "id": "20dd4ea2",
   "metadata": {},
   "outputs": [],
   "source": [
    "def myfuncadd(*args):\n",
    "    ' returns 5% of the sum '\n",
    "    return sum(args) * 0.05"
   ]
  },
  {
   "cell_type": "code",
   "execution_count": 287,
   "id": "4d9961e9",
   "metadata": {},
   "outputs": [
    {
     "data": {
      "text/plain": [
       "5.0"
      ]
     },
     "execution_count": 287,
     "metadata": {},
     "output_type": "execute_result"
    }
   ],
   "source": [
    "myfuncadd(33,67)"
   ]
  },
  {
   "cell_type": "code",
   "execution_count": 288,
   "id": "0b7f7b74",
   "metadata": {},
   "outputs": [
    {
     "data": {
      "text/plain": [
       "0.5"
      ]
     },
     "execution_count": 288,
     "metadata": {},
     "output_type": "execute_result"
    }
   ],
   "source": [
    "myfuncadd(10)"
   ]
  },
  {
   "cell_type": "code",
   "execution_count": 289,
   "id": "4473d904",
   "metadata": {},
   "outputs": [
    {
     "name": "stdout",
     "output_type": "stream",
     "text": [
      "Help on function myfuncadd in module __main__:\n",
      "\n",
      "myfuncadd(*args)\n",
      "    returns 5% of the sum\n",
      "\n"
     ]
    }
   ],
   "source": [
    "help(myfuncadd)"
   ]
  },
  {
   "cell_type": "code",
   "execution_count": 290,
   "id": "a3459a07",
   "metadata": {},
   "outputs": [
    {
     "data": {
      "text/plain": [
       "<function __main__.myfuncadd(*args)>"
      ]
     },
     "execution_count": 290,
     "metadata": {},
     "output_type": "execute_result"
    }
   ],
   "source": [
    "myfuncadd"
   ]
  },
  {
   "cell_type": "code",
   "execution_count": 291,
   "id": "bd68d04e",
   "metadata": {},
   "outputs": [
    {
     "data": {
      "text/plain": [
       "0.0"
      ]
     },
     "execution_count": 291,
     "metadata": {},
     "output_type": "execute_result"
    }
   ],
   "source": [
    "myfuncadd()"
   ]
  },
  {
   "cell_type": "code",
   "execution_count": 292,
   "id": "54d20e89",
   "metadata": {},
   "outputs": [
    {
     "data": {
      "text/plain": [
       "-0.5"
      ]
     },
     "execution_count": 292,
     "metadata": {},
     "output_type": "execute_result"
    }
   ],
   "source": [
    "myfuncadd(-10)"
   ]
  },
  {
   "cell_type": "code",
   "execution_count": 293,
   "id": "ca7af0a7",
   "metadata": {},
   "outputs": [
    {
     "data": {
      "text/plain": [
       "-2.5"
      ]
     },
     "execution_count": 293,
     "metadata": {},
     "output_type": "execute_result"
    }
   ],
   "source": [
    "myfuncadd(-10,-40)# addition=50"
   ]
  },
  {
   "cell_type": "code",
   "execution_count": 294,
   "id": "45576f34",
   "metadata": {},
   "outputs": [
    {
     "data": {
      "text/plain": [
       "1.5"
      ]
     },
     "execution_count": 294,
     "metadata": {},
     "output_type": "execute_result"
    }
   ],
   "source": [
    "myfuncadd(-10,40)# addition=30"
   ]
  },
  {
   "cell_type": "code",
   "execution_count": 295,
   "id": "4722a74a",
   "metadata": {},
   "outputs": [
    {
     "name": "stdout",
     "output_type": "stream",
     "text": [
      "Help on float object:\n",
      "\n",
      "class float(object)\n",
      " |  float(x=0, /)\n",
      " |  \n",
      " |  Convert a string or number to a floating point number, if possible.\n",
      " |  \n",
      " |  Methods defined here:\n",
      " |  \n",
      " |  __abs__(self, /)\n",
      " |      abs(self)\n",
      " |  \n",
      " |  __add__(self, value, /)\n",
      " |      Return self+value.\n",
      " |  \n",
      " |  __bool__(self, /)\n",
      " |      self != 0\n",
      " |  \n",
      " |  __divmod__(self, value, /)\n",
      " |      Return divmod(self, value).\n",
      " |  \n",
      " |  __eq__(self, value, /)\n",
      " |      Return self==value.\n",
      " |  \n",
      " |  __float__(self, /)\n",
      " |      float(self)\n",
      " |  \n",
      " |  __floordiv__(self, value, /)\n",
      " |      Return self//value.\n",
      " |  \n",
      " |  __format__(self, format_spec, /)\n",
      " |      Formats the float according to format_spec.\n",
      " |  \n",
      " |  __ge__(self, value, /)\n",
      " |      Return self>=value.\n",
      " |  \n",
      " |  __getattribute__(self, name, /)\n",
      " |      Return getattr(self, name).\n",
      " |  \n",
      " |  __getnewargs__(self, /)\n",
      " |  \n",
      " |  __gt__(self, value, /)\n",
      " |      Return self>value.\n",
      " |  \n",
      " |  __hash__(self, /)\n",
      " |      Return hash(self).\n",
      " |  \n",
      " |  __int__(self, /)\n",
      " |      int(self)\n",
      " |  \n",
      " |  __le__(self, value, /)\n",
      " |      Return self<=value.\n",
      " |  \n",
      " |  __lt__(self, value, /)\n",
      " |      Return self<value.\n",
      " |  \n",
      " |  __mod__(self, value, /)\n",
      " |      Return self%value.\n",
      " |  \n",
      " |  __mul__(self, value, /)\n",
      " |      Return self*value.\n",
      " |  \n",
      " |  __ne__(self, value, /)\n",
      " |      Return self!=value.\n",
      " |  \n",
      " |  __neg__(self, /)\n",
      " |      -self\n",
      " |  \n",
      " |  __pos__(self, /)\n",
      " |      +self\n",
      " |  \n",
      " |  __pow__(self, value, mod=None, /)\n",
      " |      Return pow(self, value, mod).\n",
      " |  \n",
      " |  __radd__(self, value, /)\n",
      " |      Return value+self.\n",
      " |  \n",
      " |  __rdivmod__(self, value, /)\n",
      " |      Return divmod(value, self).\n",
      " |  \n",
      " |  __repr__(self, /)\n",
      " |      Return repr(self).\n",
      " |  \n",
      " |  __rfloordiv__(self, value, /)\n",
      " |      Return value//self.\n",
      " |  \n",
      " |  __rmod__(self, value, /)\n",
      " |      Return value%self.\n",
      " |  \n",
      " |  __rmul__(self, value, /)\n",
      " |      Return value*self.\n",
      " |  \n",
      " |  __round__(self, ndigits=None, /)\n",
      " |      Return the Integral closest to x, rounding half toward even.\n",
      " |      \n",
      " |      When an argument is passed, work like built-in round(x, ndigits).\n",
      " |  \n",
      " |  __rpow__(self, value, mod=None, /)\n",
      " |      Return pow(value, self, mod).\n",
      " |  \n",
      " |  __rsub__(self, value, /)\n",
      " |      Return value-self.\n",
      " |  \n",
      " |  __rtruediv__(self, value, /)\n",
      " |      Return value/self.\n",
      " |  \n",
      " |  __sub__(self, value, /)\n",
      " |      Return self-value.\n",
      " |  \n",
      " |  __truediv__(self, value, /)\n",
      " |      Return self/value.\n",
      " |  \n",
      " |  __trunc__(self, /)\n",
      " |      Return the Integral closest to x between 0 and x.\n",
      " |  \n",
      " |  as_integer_ratio(self, /)\n",
      " |      Return integer ratio.\n",
      " |      \n",
      " |      Return a pair of integers, whose ratio is exactly equal to the original float\n",
      " |      and with a positive denominator.\n",
      " |      \n",
      " |      Raise OverflowError on infinities and a ValueError on NaNs.\n",
      " |      \n",
      " |      >>> (10.0).as_integer_ratio()\n",
      " |      (10, 1)\n",
      " |      >>> (0.0).as_integer_ratio()\n",
      " |      (0, 1)\n",
      " |      >>> (-.25).as_integer_ratio()\n",
      " |      (-1, 4)\n",
      " |  \n",
      " |  conjugate(self, /)\n",
      " |      Return self, the complex conjugate of any float.\n",
      " |  \n",
      " |  hex(self, /)\n",
      " |      Return a hexadecimal representation of a floating-point number.\n",
      " |      \n",
      " |      >>> (-0.1).hex()\n",
      " |      '-0x1.999999999999ap-4'\n",
      " |      >>> 3.14159.hex()\n",
      " |      '0x1.921f9f01b866ep+1'\n",
      " |  \n",
      " |  is_integer(self, /)\n",
      " |      Return True if the float is an integer.\n",
      " |  \n",
      " |  ----------------------------------------------------------------------\n",
      " |  Class methods defined here:\n",
      " |  \n",
      " |  __getformat__(typestr, /) from builtins.type\n",
      " |      You probably don't want to use this function.\n",
      " |      \n",
      " |        typestr\n",
      " |          Must be 'double' or 'float'.\n",
      " |      \n",
      " |      It exists mainly to be used in Python's test suite.\n",
      " |      \n",
      " |      This function returns whichever of 'unknown', 'IEEE, big-endian' or 'IEEE,\n",
      " |      little-endian' best describes the format of floating point numbers used by the\n",
      " |      C type named by typestr.\n",
      " |  \n",
      " |  __set_format__(typestr, fmt, /) from builtins.type\n",
      " |      You probably don't want to use this function.\n",
      " |      \n",
      " |        typestr\n",
      " |          Must be 'double' or 'float'.\n",
      " |        fmt\n",
      " |          Must be one of 'unknown', 'IEEE, big-endian' or 'IEEE, little-endian',\n",
      " |          and in addition can only be one of the latter two if it appears to\n",
      " |          match the underlying C reality.\n",
      " |      \n",
      " |      It exists mainly to be used in Python's test suite.\n",
      " |      \n",
      " |      Override the automatic determination of C-level floating point type.\n",
      " |      This affects how floats are converted to and from binary strings.\n",
      " |  \n",
      " |  fromhex(string, /) from builtins.type\n",
      " |      Create a floating-point number from a hexadecimal string.\n",
      " |      \n",
      " |      >>> float.fromhex('0x1.ffffp10')\n",
      " |      2047.984375\n",
      " |      >>> float.fromhex('-0x1p-1074')\n",
      " |      -5e-324\n",
      " |  \n",
      " |  ----------------------------------------------------------------------\n",
      " |  Static methods defined here:\n",
      " |  \n",
      " |  __new__(*args, **kwargs) from builtins.type\n",
      " |      Create and return a new object.  See help(type) for accurate signature.\n",
      " |  \n",
      " |  ----------------------------------------------------------------------\n",
      " |  Data descriptors defined here:\n",
      " |  \n",
      " |  imag\n",
      " |      the imaginary part of a complex number\n",
      " |  \n",
      " |  real\n",
      " |      the real part of a complex number\n",
      "\n"
     ]
    }
   ],
   "source": [
    "help(myfuncadd())"
   ]
  },
  {
   "cell_type": "code",
   "execution_count": 296,
   "id": "8d53695f",
   "metadata": {},
   "outputs": [
    {
     "name": "stdout",
     "output_type": "stream",
     "text": [
      "Help on float object:\n",
      "\n",
      "class float(object)\n",
      " |  float(x=0, /)\n",
      " |  \n",
      " |  Convert a string or number to a floating point number, if possible.\n",
      " |  \n",
      " |  Methods defined here:\n",
      " |  \n",
      " |  __abs__(self, /)\n",
      " |      abs(self)\n",
      " |  \n",
      " |  __add__(self, value, /)\n",
      " |      Return self+value.\n",
      " |  \n",
      " |  __bool__(self, /)\n",
      " |      self != 0\n",
      " |  \n",
      " |  __divmod__(self, value, /)\n",
      " |      Return divmod(self, value).\n",
      " |  \n",
      " |  __eq__(self, value, /)\n",
      " |      Return self==value.\n",
      " |  \n",
      " |  __float__(self, /)\n",
      " |      float(self)\n",
      " |  \n",
      " |  __floordiv__(self, value, /)\n",
      " |      Return self//value.\n",
      " |  \n",
      " |  __format__(self, format_spec, /)\n",
      " |      Formats the float according to format_spec.\n",
      " |  \n",
      " |  __ge__(self, value, /)\n",
      " |      Return self>=value.\n",
      " |  \n",
      " |  __getattribute__(self, name, /)\n",
      " |      Return getattr(self, name).\n",
      " |  \n",
      " |  __getnewargs__(self, /)\n",
      " |  \n",
      " |  __gt__(self, value, /)\n",
      " |      Return self>value.\n",
      " |  \n",
      " |  __hash__(self, /)\n",
      " |      Return hash(self).\n",
      " |  \n",
      " |  __int__(self, /)\n",
      " |      int(self)\n",
      " |  \n",
      " |  __le__(self, value, /)\n",
      " |      Return self<=value.\n",
      " |  \n",
      " |  __lt__(self, value, /)\n",
      " |      Return self<value.\n",
      " |  \n",
      " |  __mod__(self, value, /)\n",
      " |      Return self%value.\n",
      " |  \n",
      " |  __mul__(self, value, /)\n",
      " |      Return self*value.\n",
      " |  \n",
      " |  __ne__(self, value, /)\n",
      " |      Return self!=value.\n",
      " |  \n",
      " |  __neg__(self, /)\n",
      " |      -self\n",
      " |  \n",
      " |  __pos__(self, /)\n",
      " |      +self\n",
      " |  \n",
      " |  __pow__(self, value, mod=None, /)\n",
      " |      Return pow(self, value, mod).\n",
      " |  \n",
      " |  __radd__(self, value, /)\n",
      " |      Return value+self.\n",
      " |  \n",
      " |  __rdivmod__(self, value, /)\n",
      " |      Return divmod(value, self).\n",
      " |  \n",
      " |  __repr__(self, /)\n",
      " |      Return repr(self).\n",
      " |  \n",
      " |  __rfloordiv__(self, value, /)\n",
      " |      Return value//self.\n",
      " |  \n",
      " |  __rmod__(self, value, /)\n",
      " |      Return value%self.\n",
      " |  \n",
      " |  __rmul__(self, value, /)\n",
      " |      Return value*self.\n",
      " |  \n",
      " |  __round__(self, ndigits=None, /)\n",
      " |      Return the Integral closest to x, rounding half toward even.\n",
      " |      \n",
      " |      When an argument is passed, work like built-in round(x, ndigits).\n",
      " |  \n",
      " |  __rpow__(self, value, mod=None, /)\n",
      " |      Return pow(value, self, mod).\n",
      " |  \n",
      " |  __rsub__(self, value, /)\n",
      " |      Return value-self.\n",
      " |  \n",
      " |  __rtruediv__(self, value, /)\n",
      " |      Return value/self.\n",
      " |  \n",
      " |  __sub__(self, value, /)\n",
      " |      Return self-value.\n",
      " |  \n",
      " |  __truediv__(self, value, /)\n",
      " |      Return self/value.\n",
      " |  \n",
      " |  __trunc__(self, /)\n",
      " |      Return the Integral closest to x between 0 and x.\n",
      " |  \n",
      " |  as_integer_ratio(self, /)\n",
      " |      Return integer ratio.\n",
      " |      \n",
      " |      Return a pair of integers, whose ratio is exactly equal to the original float\n",
      " |      and with a positive denominator.\n",
      " |      \n",
      " |      Raise OverflowError on infinities and a ValueError on NaNs.\n",
      " |      \n",
      " |      >>> (10.0).as_integer_ratio()\n",
      " |      (10, 1)\n",
      " |      >>> (0.0).as_integer_ratio()\n",
      " |      (0, 1)\n",
      " |      >>> (-.25).as_integer_ratio()\n",
      " |      (-1, 4)\n",
      " |  \n",
      " |  conjugate(self, /)\n",
      " |      Return self, the complex conjugate of any float.\n",
      " |  \n",
      " |  hex(self, /)\n",
      " |      Return a hexadecimal representation of a floating-point number.\n",
      " |      \n",
      " |      >>> (-0.1).hex()\n",
      " |      '-0x1.999999999999ap-4'\n",
      " |      >>> 3.14159.hex()\n",
      " |      '0x1.921f9f01b866ep+1'\n",
      " |  \n",
      " |  is_integer(self, /)\n",
      " |      Return True if the float is an integer.\n",
      " |  \n",
      " |  ----------------------------------------------------------------------\n",
      " |  Class methods defined here:\n",
      " |  \n",
      " |  __getformat__(typestr, /) from builtins.type\n",
      " |      You probably don't want to use this function.\n",
      " |      \n",
      " |        typestr\n",
      " |          Must be 'double' or 'float'.\n",
      " |      \n",
      " |      It exists mainly to be used in Python's test suite.\n",
      " |      \n",
      " |      This function returns whichever of 'unknown', 'IEEE, big-endian' or 'IEEE,\n",
      " |      little-endian' best describes the format of floating point numbers used by the\n",
      " |      C type named by typestr.\n",
      " |  \n",
      " |  __set_format__(typestr, fmt, /) from builtins.type\n",
      " |      You probably don't want to use this function.\n",
      " |      \n",
      " |        typestr\n",
      " |          Must be 'double' or 'float'.\n",
      " |        fmt\n",
      " |          Must be one of 'unknown', 'IEEE, big-endian' or 'IEEE, little-endian',\n",
      " |          and in addition can only be one of the latter two if it appears to\n",
      " |          match the underlying C reality.\n",
      " |      \n",
      " |      It exists mainly to be used in Python's test suite.\n",
      " |      \n",
      " |      Override the automatic determination of C-level floating point type.\n",
      " |      This affects how floats are converted to and from binary strings.\n",
      " |  \n",
      " |  fromhex(string, /) from builtins.type\n",
      " |      Create a floating-point number from a hexadecimal string.\n",
      " |      \n",
      " |      >>> float.fromhex('0x1.ffffp10')\n",
      " |      2047.984375\n",
      " |      >>> float.fromhex('-0x1p-1074')\n",
      " |      -5e-324\n",
      " |  \n",
      " |  ----------------------------------------------------------------------\n",
      " |  Static methods defined here:\n",
      " |  \n",
      " |  __new__(*args, **kwargs) from builtins.type\n",
      " |      Create and return a new object.  See help(type) for accurate signature.\n",
      " |  \n",
      " |  ----------------------------------------------------------------------\n",
      " |  Data descriptors defined here:\n",
      " |  \n",
      " |  imag\n",
      " |      the imaginary part of a complex number\n",
      " |  \n",
      " |  real\n",
      " |      the real part of a complex number\n",
      "\n"
     ]
    }
   ],
   "source": [
    "help(myfuncadd(10))"
   ]
  },
  {
   "cell_type": "code",
   "execution_count": null,
   "id": "0ba531e1",
   "metadata": {},
   "outputs": [],
   "source": []
  },
  {
   "cell_type": "code",
   "execution_count": 297,
   "id": "ce3fc6ca",
   "metadata": {},
   "outputs": [],
   "source": [
    "def myfuncadd(*args):\n",
    "    print(args)"
   ]
  },
  {
   "cell_type": "code",
   "execution_count": 299,
   "id": "5950c394",
   "metadata": {},
   "outputs": [
    {
     "name": "stdout",
     "output_type": "stream",
     "text": [
      "(10, 20, 30, 50)\n"
     ]
    }
   ],
   "source": [
    "myfuncadd(10,20,30,50)#like tuples ---> will be display"
   ]
  },
  {
   "cell_type": "code",
   "execution_count": null,
   "id": "b87ba747",
   "metadata": {},
   "outputs": [],
   "source": []
  },
  {
   "cell_type": "code",
   "execution_count": null,
   "id": "55e56cca",
   "metadata": {},
   "outputs": [],
   "source": []
  },
  {
   "cell_type": "code",
   "execution_count": null,
   "id": "72a392bf",
   "metadata": {},
   "outputs": [],
   "source": []
  },
  {
   "cell_type": "code",
   "execution_count": 213,
   "id": "0d34c079",
   "metadata": {},
   "outputs": [],
   "source": [
    "# I am the BEST"
   ]
  },
  {
   "cell_type": "code",
   "execution_count": 221,
   "id": "8dc01ecb",
   "metadata": {},
   "outputs": [],
   "source": [
    "def myfuncadd(*args):\n",
    "    print(args)\n",
    "#by convention we should always use *args\n",
    "#though anything is allowed after asterisk(*) (like *kuchbhi)"
   ]
  },
  {
   "cell_type": "code",
   "execution_count": 222,
   "id": "9f5385c8",
   "metadata": {},
   "outputs": [
    {
     "name": "stdout",
     "output_type": "stream",
     "text": [
      "()\n"
     ]
    }
   ],
   "source": [
    "myfuncadd()"
   ]
  },
  {
   "cell_type": "code",
   "execution_count": 223,
   "id": "3f387642",
   "metadata": {},
   "outputs": [
    {
     "name": "stdout",
     "output_type": "stream",
     "text": [
      "(1, 9, 10, 80)\n"
     ]
    }
   ],
   "source": [
    "myfuncadd(1,9,10,80) #looks like tuple "
   ]
  },
  {
   "cell_type": "code",
   "execution_count": null,
   "id": "c63dacc7",
   "metadata": {},
   "outputs": [],
   "source": []
  },
  {
   "cell_type": "markdown",
   "id": "8546da6c",
   "metadata": {},
   "source": [
    "\n",
    "# 30 JAN 2022"
   ]
  },
  {
   "cell_type": "code",
   "execution_count": 302,
   "id": "20201514",
   "metadata": {},
   "outputs": [],
   "source": [
    "#tuple of values\n",
    "def myfunc(*args):\n",
    "    for item in args:\n",
    "        print(item)\n",
    "    print(args)"
   ]
  },
  {
   "cell_type": "code",
   "execution_count": 303,
   "id": "9430f143",
   "metadata": {},
   "outputs": [
    {
     "name": "stdout",
     "output_type": "stream",
     "text": [
      "1\n",
      "5\n",
      "35\n",
      "2\n",
      "3\n",
      "5\n",
      "99\n",
      "(1, 5, 35, 2, 3, 5, 99)\n"
     ]
    }
   ],
   "source": [
    "myfunc(1,5,35,2,3,5,99)"
   ]
  },
  {
   "cell_type": "code",
   "execution_count": 304,
   "id": "072182c1",
   "metadata": {},
   "outputs": [
    {
     "name": "stdout",
     "output_type": "stream",
     "text": [
      "1\n",
      "5\n",
      "35\n",
      "2\n",
      "3\n",
      "4.5\n",
      "99\n",
      "(1, 5, 35, 2, 3, 4.5, 99)\n"
     ]
    }
   ],
   "source": [
    "myfunc(1,5,35,2,3,4.5,99)"
   ]
  },
  {
   "cell_type": "code",
   "execution_count": 305,
   "id": "250ce5be",
   "metadata": {},
   "outputs": [
    {
     "name": "stdout",
     "output_type": "stream",
     "text": [
      "1\n",
      "5\n",
      "35\n",
      "2\n",
      "string\n",
      "5\n",
      "99\n",
      "(1, 5, 35, 2, 'string', 5, 99)\n"
     ]
    }
   ],
   "source": [
    "myfunc(1,5,35,2,\"string\",5,99)"
   ]
  },
  {
   "cell_type": "code",
   "execution_count": 306,
   "id": "915fe270",
   "metadata": {},
   "outputs": [
    {
     "name": "stdout",
     "output_type": "stream",
     "text": [
      "1\n",
      "5\n",
      "35\n",
      "2\n",
      "string\n",
      "4.5\n",
      "[44]\n",
      "99\n",
      "(1, 5, 35, 2, 'string', 4.5, [44], 99)\n"
     ]
    }
   ],
   "source": [
    "myfunc(1,5,35,2,\"string\",4.5,[44],99)"
   ]
  },
  {
   "cell_type": "code",
   "execution_count": 307,
   "id": "32ccfe41",
   "metadata": {
    "scrolled": true
   },
   "outputs": [
    {
     "name": "stdout",
     "output_type": "stream",
     "text": [
      "1\n",
      "5\n",
      "35\n",
      "2\n",
      "string\n",
      "4.5\n",
      "[44]\n",
      "5\n",
      "5\n",
      "99\n",
      "(1, 5, 35, 2, 'string', 4.5, [44], 5, 5, 99)\n"
     ]
    }
   ],
   "source": [
    "myfunc(1,5,35,2,\"string\",4.5,[44],(5),((5)),99)"
   ]
  },
  {
   "cell_type": "code",
   "execution_count": null,
   "id": "463ea34a",
   "metadata": {},
   "outputs": [],
   "source": []
  },
  {
   "cell_type": "code",
   "execution_count": null,
   "id": "a2771513",
   "metadata": {},
   "outputs": [],
   "source": []
  },
  {
   "cell_type": "code",
   "execution_count": null,
   "id": "561c68a7",
   "metadata": {},
   "outputs": [],
   "source": []
  },
  {
   "cell_type": "code",
   "execution_count": null,
   "id": "bccd9470",
   "metadata": {},
   "outputs": [],
   "source": []
  },
  {
   "cell_type": "code",
   "execution_count": null,
   "id": "b82f94b2",
   "metadata": {},
   "outputs": [],
   "source": []
  },
  {
   "cell_type": "code",
   "execution_count": 309,
   "id": "e09a8fa3",
   "metadata": {},
   "outputs": [],
   "source": [
    "# dictionaries of key-value pair\n",
    "def myfunc(**kwargs):\n",
    "    if \"fruit\" in kwargs:\n",
    "        print(\"My fruit of choice {}\".format(kwargs['fruit']))\n",
    "    else:\n",
    "        print(\"I did not find any fruits here\")"
   ]
  },
  {
   "cell_type": "code",
   "execution_count": 310,
   "id": "112d2a8d",
   "metadata": {},
   "outputs": [
    {
     "name": "stdout",
     "output_type": "stream",
     "text": [
      "I did not find any fruits here\n"
     ]
    }
   ],
   "source": [
    "myfunc()"
   ]
  },
  {
   "cell_type": "code",
   "execution_count": 311,
   "id": "cf5fafd9",
   "metadata": {},
   "outputs": [
    {
     "data": {
      "text/plain": [
       "<function __main__.myfunc(**kwargs)>"
      ]
     },
     "execution_count": 311,
     "metadata": {},
     "output_type": "execute_result"
    }
   ],
   "source": [
    "myfunc"
   ]
  },
  {
   "cell_type": "code",
   "execution_count": 312,
   "id": "3d1d98b4",
   "metadata": {
    "scrolled": true
   },
   "outputs": [
    {
     "name": "stdout",
     "output_type": "stream",
     "text": [
      "My fruit of choice Apple\n"
     ]
    }
   ],
   "source": [
    "myfunc(fruit=\"Apple\")"
   ]
  },
  {
   "cell_type": "code",
   "execution_count": 314,
   "id": "39910201",
   "metadata": {},
   "outputs": [],
   "source": [
    "# myfunc(\"Apple\") \n",
    "# error TypeError: myfunc() takes 0 positional arguments but 1 was given"
   ]
  },
  {
   "cell_type": "code",
   "execution_count": null,
   "id": "77d8c542",
   "metadata": {},
   "outputs": [],
   "source": []
  },
  {
   "cell_type": "code",
   "execution_count": null,
   "id": "5cbc723c",
   "metadata": {},
   "outputs": [],
   "source": []
  },
  {
   "cell_type": "code",
   "execution_count": null,
   "id": "04633f12",
   "metadata": {},
   "outputs": [],
   "source": []
  },
  {
   "cell_type": "code",
   "execution_count": 16,
   "id": "3e2ad1e9",
   "metadata": {},
   "outputs": [],
   "source": [
    "# dictionaries of key-value pair\n",
    "def myfunc(**kwargs):\n",
    "    print(kwargs)\n",
    "    if \"fruit\" in kwargs:\n",
    "        print(\"My fruit of choice {}\".format(kwargs['fruit']))\n",
    "    else:\n",
    "        print(\"I did not find any fruits here\")"
   ]
  },
  {
   "cell_type": "code",
   "execution_count": 19,
   "id": "014365d0",
   "metadata": {},
   "outputs": [
    {
     "name": "stdout",
     "output_type": "stream",
     "text": [
      "{'fruit': 'Apple', 'Company': 'Apple Inc'}\n",
      "My fruit of choice Apple\n"
     ]
    }
   ],
   "source": [
    "myfunc(fruit=\"Apple\",  Company=\"Apple Inc\")"
   ]
  },
  {
   "cell_type": "code",
   "execution_count": 315,
   "id": "daf4cb9b",
   "metadata": {
    "scrolled": true
   },
   "outputs": [
    {
     "name": "stdout",
     "output_type": "stream",
     "text": [
      "My fruit of choice Apple\n",
      "None\n"
     ]
    }
   ],
   "source": [
    "print(myfunc(fruit=\"Apple\",  Company=\"Apple Inc\"))"
   ]
  },
  {
   "cell_type": "code",
   "execution_count": null,
   "id": "873dd192",
   "metadata": {},
   "outputs": [],
   "source": []
  },
  {
   "cell_type": "code",
   "execution_count": null,
   "id": "b1398f62",
   "metadata": {},
   "outputs": [],
   "source": []
  },
  {
   "cell_type": "code",
   "execution_count": null,
   "id": "a69e7646",
   "metadata": {},
   "outputs": [],
   "source": []
  },
  {
   "cell_type": "code",
   "execution_count": 35,
   "id": "3dda03e1",
   "metadata": {},
   "outputs": [],
   "source": [
    "def myfunc(*args,**kwargs):\n",
    "    \n",
    "    print(\"I would like {} {}\".format(args[0],kwargs['food']))"
   ]
  },
  {
   "cell_type": "code",
   "execution_count": 36,
   "id": "97ca61c1",
   "metadata": {},
   "outputs": [
    {
     "data": {
      "text/plain": [
       "<function __main__.myfunc(*args, **kwargs)>"
      ]
     },
     "execution_count": 36,
     "metadata": {},
     "output_type": "execute_result"
    }
   ],
   "source": [
    "myfunc"
   ]
  },
  {
   "cell_type": "code",
   "execution_count": 37,
   "id": "a4f6581c",
   "metadata": {},
   "outputs": [
    {
     "name": "stdout",
     "output_type": "stream",
     "text": [
      "I would like 10 Mushroom\n"
     ]
    }
   ],
   "source": [
    "myfunc(10,20,30,fruit=\"Orange\",food='Mushroom',Bird=\"Owl\")"
   ]
  },
  {
   "cell_type": "code",
   "execution_count": null,
   "id": "c9588a29",
   "metadata": {},
   "outputs": [],
   "source": []
  },
  {
   "cell_type": "code",
   "execution_count": 38,
   "id": "60c9fbee",
   "metadata": {},
   "outputs": [],
   "source": [
    "def my_func(*args,**kwargs):\n",
    "    print(args)\n",
    "    print(kwargs)\n",
    "    print('I would like {} {}'.format(args[0],kwargs['food']))"
   ]
  },
  {
   "cell_type": "code",
   "execution_count": 39,
   "id": "e734b57d",
   "metadata": {},
   "outputs": [
    {
     "name": "stdout",
     "output_type": "stream",
     "text": [
      "(10, 20, 30)\n",
      "{'fruit': 'orange', 'food': 'mushroom', 'animal': 'dog'}\n",
      "I would like 10 mushroom\n"
     ]
    }
   ],
   "source": [
    "my_func(10,20,30,fruit='orange',food=\"mushroom\",animal='dog')"
   ]
  },
  {
   "cell_type": "code",
   "execution_count": 40,
   "id": "0b668d70",
   "metadata": {},
   "outputs": [],
   "source": [
    "def my_func(*args,**kwargs):#OBSERVE the order (*args followed by **kwargs)\n",
    "    print(args)\n",
    "    print(kwargs)\n",
    "    print('I would like {} {}'.format(args[2],kwargs['fruit']))"
   ]
  },
  {
   "cell_type": "code",
   "execution_count": 41,
   "id": "0ac8c43c",
   "metadata": {},
   "outputs": [
    {
     "name": "stdout",
     "output_type": "stream",
     "text": [
      "(10, 20, 30)\n",
      "{'fruit': 'orange', 'food': 'mushroom', 'animal': 'dog'}\n",
      "I would like 30 orange\n"
     ]
    }
   ],
   "source": [
    "my_func(10,20,30,fruit='orange',food=\"mushroom\",animal='dog')"
   ]
  },
  {
   "cell_type": "code",
   "execution_count": null,
   "id": "a42cdc6d",
   "metadata": {},
   "outputs": [],
   "source": []
  },
  {
   "cell_type": "markdown",
   "id": "f960b922",
   "metadata": {},
   "source": [
    "# 31 JAN 2022"
   ]
  },
  {
   "cell_type": "code",
   "execution_count": 318,
   "id": "8b985870",
   "metadata": {},
   "outputs": [
    {
     "name": "stdout",
     "output_type": "stream",
     "text": [
      "java2point\n"
     ]
    }
   ],
   "source": [
    "print(\"java\",'point',sep='2')"
   ]
  },
  {
   "cell_type": "code",
   "execution_count": 319,
   "id": "819ce0fc",
   "metadata": {},
   "outputs": [
    {
     "name": "stdout",
     "output_type": "stream",
     "text": [
      "java\n"
     ]
    }
   ],
   "source": [
    "print(\"java\",sep='2')"
   ]
  },
  {
   "cell_type": "code",
   "execution_count": 321,
   "id": "25b068b0",
   "metadata": {},
   "outputs": [
    {
     "name": "stdout",
     "output_type": "stream",
     "text": [
      "java2point2sep is used to separate\n"
     ]
    }
   ],
   "source": [
    "print(\"java\",'point','sep is used to separate',sep='2')"
   ]
  },
  {
   "cell_type": "code",
   "execution_count": null,
   "id": "dc2eaf1d",
   "metadata": {},
   "outputs": [],
   "source": []
  },
  {
   "cell_type": "code",
   "execution_count": null,
   "id": "bf9070b0",
   "metadata": {},
   "outputs": [],
   "source": []
  },
  {
   "cell_type": "code",
   "execution_count": null,
   "id": "832e8140",
   "metadata": {},
   "outputs": [],
   "source": []
  }
 ],
 "metadata": {
  "kernelspec": {
   "display_name": "Python 3 (ipykernel)",
   "language": "python",
   "name": "python3"
  },
  "language_info": {
   "codemirror_mode": {
    "name": "ipython",
    "version": 3
   },
   "file_extension": ".py",
   "mimetype": "text/x-python",
   "name": "python",
   "nbconvert_exporter": "python",
   "pygments_lexer": "ipython3",
   "version": "3.8.6"
  }
 },
 "nbformat": 4,
 "nbformat_minor": 5
}
