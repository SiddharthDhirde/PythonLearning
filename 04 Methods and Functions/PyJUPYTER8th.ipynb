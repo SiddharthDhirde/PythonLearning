{
 "cells": [
  {
   "cell_type": "code",
   "execution_count": 1,
   "id": "1755d7f3",
   "metadata": {},
   "outputs": [],
   "source": [
    "# Om Namah Shivay"
   ]
  },
  {
   "cell_type": "code",
   "execution_count": 2,
   "id": "3ec1c6a3",
   "metadata": {},
   "outputs": [],
   "source": [
    "# 06_folder Methods and Functions\n",
    "# PYTHON BOOTCAMP\n",
    "\n",
    "## LET'S BEGIN THE ULTIMATE JOURNEY"
   ]
  },
  {
   "cell_type": "code",
   "execution_count": 3,
   "id": "23533166",
   "metadata": {},
   "outputs": [],
   "source": [
    "# 045-046 FUNCTION PRACTICE EXERCISES PROBLEMS-SOLUTIONS"
   ]
  },
  {
   "cell_type": "markdown",
   "id": "4ee99e59",
   "metadata": {},
   "source": [
    "# 045-046 FUNCTION PRACTICE EXERCISES PROBLEMS-SOLUTIONS\n",
    "# 31 JAN 2022"
   ]
  },
  {
   "cell_type": "code",
   "execution_count": null,
   "id": "96dee705",
   "metadata": {},
   "outputs": [],
   "source": []
  },
  {
   "cell_type": "code",
   "execution_count": null,
   "id": "317cb57c",
   "metadata": {},
   "outputs": [],
   "source": []
  },
  {
   "cell_type": "code",
   "execution_count": null,
   "id": "ee5059a8",
   "metadata": {},
   "outputs": [],
   "source": []
  },
  {
   "cell_type": "code",
   "execution_count": null,
   "id": "958f2a24",
   "metadata": {},
   "outputs": [],
   "source": []
  },
  {
   "cell_type": "markdown",
   "id": "08074086",
   "metadata": {},
   "source": [
    "# 03 FEB 2022"
   ]
  },
  {
   "cell_type": "code",
   "execution_count": 2,
   "id": "3522f387",
   "metadata": {},
   "outputs": [],
   "source": [
    "def add(n1,n2):\n",
    "    return n1+n2"
   ]
  },
  {
   "cell_type": "code",
   "execution_count": 3,
   "id": "a74318f0",
   "metadata": {},
   "outputs": [
    {
     "data": {
      "text/plain": [
       "9"
      ]
     },
     "execution_count": 3,
     "metadata": {},
     "output_type": "execute_result"
    }
   ],
   "source": [
    "add(5,4)"
   ]
  },
  {
   "cell_type": "code",
   "execution_count": 4,
   "id": "b4581c7d",
   "metadata": {},
   "outputs": [
    {
     "data": {
      "text/plain": [
       "11"
      ]
     },
     "execution_count": 4,
     "metadata": {},
     "output_type": "execute_result"
    }
   ],
   "source": [
    "add(5,6)"
   ]
  },
  {
   "cell_type": "code",
   "execution_count": 5,
   "id": "e1b84fa3",
   "metadata": {},
   "outputs": [
    {
     "data": {
      "text/plain": [
       "4"
      ]
     },
     "execution_count": 5,
     "metadata": {},
     "output_type": "execute_result"
    }
   ],
   "source": [
    "add(-6,10)"
   ]
  },
  {
   "cell_type": "code",
   "execution_count": null,
   "id": "84f9a671",
   "metadata": {},
   "outputs": [],
   "source": []
  },
  {
   "cell_type": "markdown",
   "id": "bdf6707e",
   "metadata": {},
   "source": [
    "# function practice"
   ]
  },
  {
   "cell_type": "code",
   "execution_count": 13,
   "id": "6316436d",
   "metadata": {},
   "outputs": [],
   "source": [
    "# if both even --> display lesser even\n",
    "# if one or both are odd --> display greater between them"
   ]
  },
  {
   "cell_type": "code",
   "execution_count": 5,
   "id": "3fdf20eb",
   "metadata": {},
   "outputs": [],
   "source": [
    "def lesser_of_two_evens(a,b):\n",
    "    if a%2==0 and b%2==0:\n",
    "        if a<b:\n",
    "            return a\n",
    "        else:\n",
    "            return b\n",
    "    else:\n",
    "        if a>b:\n",
    "            return a\n",
    "        else:\n",
    "            return b"
   ]
  },
  {
   "cell_type": "code",
   "execution_count": 6,
   "id": "918acce3",
   "metadata": {},
   "outputs": [
    {
     "data": {
      "text/plain": [
       "2"
      ]
     },
     "execution_count": 6,
     "metadata": {},
     "output_type": "execute_result"
    }
   ],
   "source": [
    "lesser_of_two_evens(2,4)"
   ]
  },
  {
   "cell_type": "code",
   "execution_count": 7,
   "id": "96d3ad63",
   "metadata": {},
   "outputs": [
    {
     "data": {
      "text/plain": [
       "5"
      ]
     },
     "execution_count": 7,
     "metadata": {},
     "output_type": "execute_result"
    }
   ],
   "source": [
    "lesser_of_two_evens(2,5)"
   ]
  },
  {
   "cell_type": "code",
   "execution_count": 8,
   "id": "5c4e7970",
   "metadata": {},
   "outputs": [
    {
     "data": {
      "text/plain": [
       "5"
      ]
     },
     "execution_count": 8,
     "metadata": {},
     "output_type": "execute_result"
    }
   ],
   "source": [
    "lesser_of_two_evens(5,4)"
   ]
  },
  {
   "cell_type": "code",
   "execution_count": 9,
   "id": "e2ecb3e1",
   "metadata": {},
   "outputs": [
    {
     "data": {
      "text/plain": [
       "4"
      ]
     },
     "execution_count": 9,
     "metadata": {},
     "output_type": "execute_result"
    }
   ],
   "source": [
    "lesser_of_two_evens(8,4)"
   ]
  },
  {
   "cell_type": "code",
   "execution_count": 10,
   "id": "bf14c2c3",
   "metadata": {},
   "outputs": [
    {
     "data": {
      "text/plain": [
       "0"
      ]
     },
     "execution_count": 10,
     "metadata": {},
     "output_type": "execute_result"
    }
   ],
   "source": [
    "lesser_of_two_evens(0,0)"
   ]
  },
  {
   "cell_type": "code",
   "execution_count": 11,
   "id": "0c35de15",
   "metadata": {},
   "outputs": [
    {
     "data": {
      "text/plain": [
       "0"
      ]
     },
     "execution_count": 11,
     "metadata": {},
     "output_type": "execute_result"
    }
   ],
   "source": [
    "lesser_of_two_evens(2,0)"
   ]
  },
  {
   "cell_type": "code",
   "execution_count": 12,
   "id": "84d324c8",
   "metadata": {},
   "outputs": [
    {
     "data": {
      "text/plain": [
       "9"
      ]
     },
     "execution_count": 12,
     "metadata": {},
     "output_type": "execute_result"
    }
   ],
   "source": [
    "lesser_of_two_evens(0,9)"
   ]
  },
  {
   "cell_type": "code",
   "execution_count": 32,
   "id": "7ca532f3",
   "metadata": {},
   "outputs": [
    {
     "data": {
      "text/plain": [
       "3"
      ]
     },
     "execution_count": 32,
     "metadata": {},
     "output_type": "execute_result"
    }
   ],
   "source": [
    "min(54,3)"
   ]
  },
  {
   "cell_type": "code",
   "execution_count": 33,
   "id": "e5035b67",
   "metadata": {},
   "outputs": [
    {
     "data": {
      "text/plain": [
       "3"
      ]
     },
     "execution_count": 33,
     "metadata": {},
     "output_type": "execute_result"
    }
   ],
   "source": [
    "min(54,3,4,6,5)"
   ]
  },
  {
   "cell_type": "code",
   "execution_count": 34,
   "id": "98e34d84",
   "metadata": {},
   "outputs": [
    {
     "data": {
      "text/plain": [
       "53"
      ]
     },
     "execution_count": 34,
     "metadata": {},
     "output_type": "execute_result"
    }
   ],
   "source": [
    "max(53,5)"
   ]
  },
  {
   "cell_type": "code",
   "execution_count": null,
   "id": "ea393c27",
   "metadata": {},
   "outputs": [],
   "source": []
  },
  {
   "cell_type": "code",
   "execution_count": 35,
   "id": "90ce7344",
   "metadata": {},
   "outputs": [],
   "source": [
    "def lesser_of_two_evens(a,b):\n",
    "    if a%2 ==0 and b%2==0:\n",
    "        return min(a,b)\n",
    "    else:\n",
    "        return max(a,b)    "
   ]
  },
  {
   "cell_type": "code",
   "execution_count": 36,
   "id": "657e80e0",
   "metadata": {},
   "outputs": [
    {
     "data": {
      "text/plain": [
       "55"
      ]
     },
     "execution_count": 36,
     "metadata": {},
     "output_type": "execute_result"
    }
   ],
   "source": [
    "lesser_of_two_evens(54,55)"
   ]
  },
  {
   "cell_type": "code",
   "execution_count": 37,
   "id": "c9c20bd2",
   "metadata": {},
   "outputs": [
    {
     "data": {
      "text/plain": [
       "3"
      ]
     },
     "execution_count": 37,
     "metadata": {},
     "output_type": "execute_result"
    }
   ],
   "source": [
    "lesser_of_two_evens(3,3)"
   ]
  },
  {
   "cell_type": "code",
   "execution_count": 38,
   "id": "328f50b2",
   "metadata": {},
   "outputs": [
    {
     "data": {
      "text/plain": [
       "4"
      ]
     },
     "execution_count": 38,
     "metadata": {},
     "output_type": "execute_result"
    }
   ],
   "source": [
    "lesser_of_two_evens(4,8)"
   ]
  },
  {
   "cell_type": "code",
   "execution_count": 39,
   "id": "dbcf6abb",
   "metadata": {},
   "outputs": [
    {
     "data": {
      "text/plain": [
       "0"
      ]
     },
     "execution_count": 39,
     "metadata": {},
     "output_type": "execute_result"
    }
   ],
   "source": [
    "lesser_of_two_evens(0,0)"
   ]
  },
  {
   "cell_type": "code",
   "execution_count": 40,
   "id": "5f8ade3a",
   "metadata": {},
   "outputs": [
    {
     "data": {
      "text/plain": [
       "0"
      ]
     },
     "execution_count": 40,
     "metadata": {},
     "output_type": "execute_result"
    }
   ],
   "source": [
    "lesser_of_two_evens(0,4)"
   ]
  },
  {
   "cell_type": "code",
   "execution_count": 41,
   "id": "0ec5a10d",
   "metadata": {},
   "outputs": [
    {
     "data": {
      "text/plain": [
       "-4"
      ]
     },
     "execution_count": 41,
     "metadata": {},
     "output_type": "execute_result"
    }
   ],
   "source": [
    "lesser_of_two_evens(-4,4)"
   ]
  },
  {
   "cell_type": "code",
   "execution_count": 42,
   "id": "f08602bc",
   "metadata": {},
   "outputs": [
    {
     "data": {
      "text/plain": [
       "-24"
      ]
     },
     "execution_count": 42,
     "metadata": {},
     "output_type": "execute_result"
    }
   ],
   "source": [
    "lesser_of_two_evens(-8,-24)"
   ]
  },
  {
   "cell_type": "code",
   "execution_count": 43,
   "id": "af0de182",
   "metadata": {},
   "outputs": [
    {
     "data": {
      "text/plain": [
       "-8"
      ]
     },
     "execution_count": 43,
     "metadata": {},
     "output_type": "execute_result"
    }
   ],
   "source": [
    "lesser_of_two_evens(-8,-25)"
   ]
  },
  {
   "cell_type": "code",
   "execution_count": 44,
   "id": "2583aff8",
   "metadata": {},
   "outputs": [
    {
     "data": {
      "text/plain": [
       "-8.6"
      ]
     },
     "execution_count": 44,
     "metadata": {},
     "output_type": "execute_result"
    }
   ],
   "source": [
    "lesser_of_two_evens(-8.6,-25)"
   ]
  },
  {
   "cell_type": "code",
   "execution_count": 45,
   "id": "f0457820",
   "metadata": {},
   "outputs": [
    {
     "data": {
      "text/plain": [
       "-8"
      ]
     },
     "execution_count": 45,
     "metadata": {},
     "output_type": "execute_result"
    }
   ],
   "source": [
    "lesser_of_two_evens(-8,-24.654)"
   ]
  },
  {
   "cell_type": "code",
   "execution_count": 46,
   "id": "d5693dc2",
   "metadata": {},
   "outputs": [
    {
     "data": {
      "text/plain": [
       "-8"
      ]
     },
     "execution_count": 46,
     "metadata": {},
     "output_type": "execute_result"
    }
   ],
   "source": [
    "lesser_of_two_evens(-8,-25.654)"
   ]
  },
  {
   "cell_type": "code",
   "execution_count": null,
   "id": "fc21d962",
   "metadata": {},
   "outputs": [],
   "source": [
    "\n",
    "\n",
    "\n",
    "\n",
    "\n",
    "\n",
    "\n",
    "\n"
   ]
  },
  {
   "cell_type": "code",
   "execution_count": 52,
   "id": "6d105506",
   "metadata": {},
   "outputs": [],
   "source": [
    "def animal_crackers(text):\n",
    "    first_w_l = text[0][0]\n",
    "    second_w_l = text[1][0]\n",
    "    if first_w_l==second_w_l:\n",
    "        return True\n",
    "    else:\n",
    "        return False\n",
    "#incomplete code"
   ]
  },
  {
   "cell_type": "code",
   "execution_count": 53,
   "id": "7d7d6c21",
   "metadata": {},
   "outputs": [
    {
     "data": {
      "text/plain": [
       "False"
      ]
     },
     "execution_count": 53,
     "metadata": {},
     "output_type": "execute_result"
    }
   ],
   "source": [
    "animal_crackers('Levelheaded Llama')"
   ]
  },
  {
   "cell_type": "code",
   "execution_count": 54,
   "id": "a86c952e",
   "metadata": {},
   "outputs": [
    {
     "data": {
      "text/plain": [
       "False"
      ]
     },
     "execution_count": 54,
     "metadata": {},
     "output_type": "execute_result"
    }
   ],
   "source": [
    "animal_crackers(\"Crazy Kangaroo\")"
   ]
  },
  {
   "cell_type": "code",
   "execution_count": null,
   "id": "a80569c1",
   "metadata": {},
   "outputs": [],
   "source": []
  },
  {
   "cell_type": "code",
   "execution_count": 19,
   "id": "6425385a",
   "metadata": {},
   "outputs": [],
   "source": [
    "def animal_crackers(text):\n",
    "    print(text)\n",
    "    wordlist = text.split()\n",
    "    print(wordlist)\n",
    "    \n",
    "#     if wordlist[0][0]==wordlist[1][0]:#Double indexing\n",
    "#         return True\n",
    "#     else:\n",
    "#         return False"
   ]
  },
  {
   "cell_type": "code",
   "execution_count": 20,
   "id": "29370e17",
   "metadata": {},
   "outputs": [
    {
     "name": "stdout",
     "output_type": "stream",
     "text": [
      "Crazy Kangaroo\n",
      "['Crazy', 'Kangaroo']\n"
     ]
    }
   ],
   "source": [
    "animal_crackers(\"Crazy Kangaroo\")"
   ]
  },
  {
   "cell_type": "code",
   "execution_count": 21,
   "id": "3243289a",
   "metadata": {},
   "outputs": [],
   "source": [
    "def animal_crackers(text):\n",
    "    print(text)\n",
    "    wordlist = text.split()\n",
    "    print(wordlist)\n",
    "    \n",
    "    if wordlist[0][0]==wordlist[1][0]:#Double indexing\n",
    "        return True\n",
    "    else:\n",
    "        return False"
   ]
  },
  {
   "cell_type": "code",
   "execution_count": 22,
   "id": "5f02a238",
   "metadata": {},
   "outputs": [
    {
     "name": "stdout",
     "output_type": "stream",
     "text": [
      "Crazy Kangaroo\n",
      "['Crazy', 'Kangaroo']\n"
     ]
    },
    {
     "data": {
      "text/plain": [
       "False"
      ]
     },
     "execution_count": 22,
     "metadata": {},
     "output_type": "execute_result"
    }
   ],
   "source": [
    "animal_crackers(\"Crazy Kangaroo\")"
   ]
  },
  {
   "cell_type": "code",
   "execution_count": 23,
   "id": "914c2c53",
   "metadata": {
    "scrolled": true
   },
   "outputs": [
    {
     "name": "stdout",
     "output_type": "stream",
     "text": [
      "Levelheaded Llama\n",
      "['Levelheaded', 'Llama']\n"
     ]
    },
    {
     "data": {
      "text/plain": [
       "True"
      ]
     },
     "execution_count": 23,
     "metadata": {},
     "output_type": "execute_result"
    }
   ],
   "source": [
    "animal_crackers('Levelheaded Llama')"
   ]
  },
  {
   "cell_type": "code",
   "execution_count": 16,
   "id": "04d1653a",
   "metadata": {},
   "outputs": [],
   "source": [
    "def animal_crackers(text):\n",
    "    print(text)\n",
    "    wordlist = text.upper().split()\n",
    "    print(wordlist)\n",
    "    \n",
    "    if wordlist[0][0]==wordlist[1][0]:#Double indexing\n",
    "        return print(\"True\")\n",
    "    else:\n",
    "        return False"
   ]
  },
  {
   "cell_type": "code",
   "execution_count": 18,
   "id": "b3503aab",
   "metadata": {},
   "outputs": [
    {
     "name": "stdout",
     "output_type": "stream",
     "text": [
      "Tony tnd\n",
      "['TONY', 'TND']\n",
      "True\n"
     ]
    }
   ],
   "source": [
    "animal_crackers(\"Tony tnd\")"
   ]
  },
  {
   "cell_type": "code",
   "execution_count": 20,
   "id": "46e49275",
   "metadata": {},
   "outputs": [],
   "source": [
    "def animal_crackers(text):\n",
    "    print(text)\n",
    "    wordlist = text.capitalize().split()\n",
    "    print(wordlist)\n",
    "    \n",
    "    if wordlist[0][0]==wordlist[1][0]:#Double indexing\n",
    "        return print(\"True\")\n",
    "    else:\n",
    "        return False"
   ]
  },
  {
   "cell_type": "code",
   "execution_count": 21,
   "id": "4f2089fb",
   "metadata": {},
   "outputs": [
    {
     "name": "stdout",
     "output_type": "stream",
     "text": [
      "Peter parker\n",
      "['Peter', 'parker']\n"
     ]
    },
    {
     "data": {
      "text/plain": [
       "False"
      ]
     },
     "execution_count": 21,
     "metadata": {},
     "output_type": "execute_result"
    }
   ],
   "source": [
    "animal_crackers(\"Peter parker\")"
   ]
  },
  {
   "cell_type": "code",
   "execution_count": 23,
   "id": "6bd6e9eb",
   "metadata": {},
   "outputs": [
    {
     "name": "stdout",
     "output_type": "stream",
     "text": [
      "peter Parker\n",
      "['Peter', 'parker']\n"
     ]
    },
    {
     "data": {
      "text/plain": [
       "False"
      ]
     },
     "execution_count": 23,
     "metadata": {},
     "output_type": "execute_result"
    }
   ],
   "source": [
    "animal_crackers(\"peter Parker\")"
   ]
  },
  {
   "cell_type": "code",
   "execution_count": 45,
   "id": "e349bff4",
   "metadata": {},
   "outputs": [],
   "source": [
    "def animal_crackers(text):\n",
    "    print(text)\n",
    "    wordlist = text.capitalize().split()\n",
    "    print(wordlist)\n",
    "    \n",
    "    if wordlist[0][0]==wordlist[1][0]:#Double indexing\n",
    "        print(\"True\")\n",
    "    else:\n",
    "        return False"
   ]
  },
  {
   "cell_type": "code",
   "execution_count": 46,
   "id": "a693c39b",
   "metadata": {},
   "outputs": [
    {
     "name": "stdout",
     "output_type": "stream",
     "text": [
      "peter parker\n",
      "['Peter', 'parker']\n"
     ]
    },
    {
     "data": {
      "text/plain": [
       "False"
      ]
     },
     "execution_count": 46,
     "metadata": {},
     "output_type": "execute_result"
    }
   ],
   "source": [
    "animal_crackers(\"peter parker\")"
   ]
  },
  {
   "cell_type": "code",
   "execution_count": 54,
   "id": "f703ef0a",
   "metadata": {},
   "outputs": [],
   "source": [
    "def animal_crackers(text):\n",
    "    print(text)\n",
    "    wordlist = text.split()\n",
    "    print(wordlist)\n",
    "    \n",
    "    if wordlist[0][0]==wordlist[1][0]:#Double indexing\n",
    "        return True\n",
    "    else:\n",
    "        print(False)"
   ]
  },
  {
   "cell_type": "code",
   "execution_count": 56,
   "id": "a20efd46",
   "metadata": {
    "scrolled": false
   },
   "outputs": [
    {
     "name": "stdout",
     "output_type": "stream",
     "text": [
      "Peter parker\n",
      "['Peter', 'parker']\n",
      "False\n"
     ]
    }
   ],
   "source": [
    "animal_crackers(\"Peter parker\")"
   ]
  },
  {
   "cell_type": "code",
   "execution_count": 61,
   "id": "d329f5f7",
   "metadata": {},
   "outputs": [],
   "source": [
    "def animal_crackers(text):\n",
    "    print(text)\n",
    "    wordlist = text.split()\n",
    "    print(wordlist)\n",
    "    \n",
    "    if wordlist[0][0]==wordlist[1][0]:#Double indexing\n",
    "        return True\n",
    "    else:\n",
    "        print(\"False\")"
   ]
  },
  {
   "cell_type": "code",
   "execution_count": 62,
   "id": "33a45538",
   "metadata": {},
   "outputs": [
    {
     "name": "stdout",
     "output_type": "stream",
     "text": [
      "Spidey spy\n",
      "['Spidey', 'spy']\n",
      "False\n"
     ]
    }
   ],
   "source": [
    "animal_crackers(\"Spidey spy\")"
   ]
  },
  {
   "cell_type": "code",
   "execution_count": 63,
   "id": "84434189",
   "metadata": {},
   "outputs": [],
   "source": [
    "def animal_crackers(text):\n",
    "    print(text)\n",
    "    wordlist = text.split()\n",
    "    print(wordlist)\n",
    "    \n",
    "    if wordlist[0][0]==wordlist[1][0]:#Double indexing\n",
    "        return True\n",
    "    else:\n",
    "        return print(\"False\")"
   ]
  },
  {
   "cell_type": "code",
   "execution_count": 64,
   "id": "cdca7f65",
   "metadata": {},
   "outputs": [
    {
     "name": "stdout",
     "output_type": "stream",
     "text": [
      "Spi spy\n",
      "['Spi', 'spy']\n",
      "False\n"
     ]
    }
   ],
   "source": [
    "animal_crackers(\"Spi spy\")"
   ]
  },
  {
   "cell_type": "markdown",
   "id": "5c3c7dee",
   "metadata": {},
   "source": []
  },
  {
   "cell_type": "code",
   "execution_count": null,
   "id": "81d0ca85",
   "metadata": {},
   "outputs": [],
   "source": []
  },
  {
   "cell_type": "code",
   "execution_count": null,
   "id": "4cc60a2f",
   "metadata": {},
   "outputs": [],
   "source": []
  },
  {
   "cell_type": "code",
   "execution_count": 47,
   "id": "b39785af",
   "metadata": {},
   "outputs": [],
   "source": [
    "def animal_crackers(text):\n",
    "    wordlist = text.split()\n",
    "    if wordlist[0][0]==wordlist[1][0]:#Double indexing\n",
    "        return True\n",
    "    else:\n",
    "        return False"
   ]
  },
  {
   "cell_type": "code",
   "execution_count": 48,
   "id": "d96ffe63",
   "metadata": {},
   "outputs": [
    {
     "data": {
      "text/plain": [
       "True"
      ]
     },
     "execution_count": 48,
     "metadata": {},
     "output_type": "execute_result"
    }
   ],
   "source": [
    "animal_crackers('Levelheaded Llama')"
   ]
  },
  {
   "cell_type": "code",
   "execution_count": 49,
   "id": "497867e5",
   "metadata": {},
   "outputs": [
    {
     "data": {
      "text/plain": [
       "False"
      ]
     },
     "execution_count": 49,
     "metadata": {},
     "output_type": "execute_result"
    }
   ],
   "source": [
    "animal_crackers(\"Crazy Kangaroo\")"
   ]
  },
  {
   "cell_type": "code",
   "execution_count": 51,
   "id": "96baed6f",
   "metadata": {},
   "outputs": [],
   "source": [
    "def animal_crackers(text):\n",
    "    wordlist = text.split()\n",
    "    return wordlist[0][0]==wordlist[1][0]#Double indexing"
   ]
  },
  {
   "cell_type": "code",
   "execution_count": 52,
   "id": "e304c7ce",
   "metadata": {},
   "outputs": [
    {
     "data": {
      "text/plain": [
       "False"
      ]
     },
     "execution_count": 52,
     "metadata": {},
     "output_type": "execute_result"
    }
   ],
   "source": [
    "animal_crackers(\"Crazy Kangaroo\")"
   ]
  },
  {
   "cell_type": "code",
   "execution_count": 53,
   "id": "1fc61b7d",
   "metadata": {},
   "outputs": [
    {
     "data": {
      "text/plain": [
       "True"
      ]
     },
     "execution_count": 53,
     "metadata": {},
     "output_type": "execute_result"
    }
   ],
   "source": [
    "animal_crackers('Levelheaded Llama')"
   ]
  },
  {
   "cell_type": "code",
   "execution_count": 54,
   "id": "88bbbbc4",
   "metadata": {},
   "outputs": [
    {
     "data": {
      "text/plain": [
       "True"
      ]
     },
     "execution_count": 54,
     "metadata": {},
     "output_type": "execute_result"
    }
   ],
   "source": [
    "animal_crackers(\"The Thor\")"
   ]
  },
  {
   "cell_type": "code",
   "execution_count": 56,
   "id": "c940b18e",
   "metadata": {},
   "outputs": [
    {
     "data": {
      "text/plain": [
       "False"
      ]
     },
     "execution_count": 56,
     "metadata": {},
     "output_type": "execute_result"
    }
   ],
   "source": [
    "animal_crackers(\"The thor\") #case sensitive"
   ]
  },
  {
   "cell_type": "code",
   "execution_count": 59,
   "id": "c6b366af",
   "metadata": {},
   "outputs": [],
   "source": [
    "def animal_crackers(text):\n",
    "    wordlist = text.lower().split()\n",
    "    return wordlist[0][0]==wordlist[1][0]#Double indexing"
   ]
  },
  {
   "cell_type": "code",
   "execution_count": 60,
   "id": "f8b8d579",
   "metadata": {},
   "outputs": [
    {
     "data": {
      "text/plain": [
       "True"
      ]
     },
     "execution_count": 60,
     "metadata": {},
     "output_type": "execute_result"
    }
   ],
   "source": [
    "animal_crackers(\"The thor\") #case sensitive"
   ]
  },
  {
   "cell_type": "code",
   "execution_count": 61,
   "id": "678f1596",
   "metadata": {},
   "outputs": [],
   "source": [
    "#I am the Best"
   ]
  },
  {
   "cell_type": "code",
   "execution_count": 62,
   "id": "5684993b",
   "metadata": {},
   "outputs": [],
   "source": [
    "def animal_crackers(text):\n",
    "    wordlist = text.lower().split()\n",
    "    print(wordlist)\n",
    "    return wordlist[0][0]==wordlist[1][0]#Double indexing"
   ]
  },
  {
   "cell_type": "code",
   "execution_count": 63,
   "id": "6bbe6f2e",
   "metadata": {},
   "outputs": [
    {
     "name": "stdout",
     "output_type": "stream",
     "text": [
      "['spidey', 'spiderman']\n"
     ]
    },
    {
     "data": {
      "text/plain": [
       "True"
      ]
     },
     "execution_count": 63,
     "metadata": {},
     "output_type": "execute_result"
    }
   ],
   "source": [
    "animal_crackers(\"Spidey spiderman\")"
   ]
  },
  {
   "cell_type": "code",
   "execution_count": 64,
   "id": "5ee001e2",
   "metadata": {},
   "outputs": [],
   "source": [
    "def animal_crackers(text):\n",
    "    wordlist = text.upper().split()\n",
    "    print(wordlist)\n",
    "    return wordlist[0][0]==wordlist[1][0]#Double indexing"
   ]
  },
  {
   "cell_type": "code",
   "execution_count": 65,
   "id": "a5b5f54b",
   "metadata": {},
   "outputs": [
    {
     "name": "stdout",
     "output_type": "stream",
     "text": [
      "['SPIDEY', 'SPIDERMAN']\n"
     ]
    },
    {
     "data": {
      "text/plain": [
       "True"
      ]
     },
     "execution_count": 65,
     "metadata": {},
     "output_type": "execute_result"
    }
   ],
   "source": [
    "animal_crackers(\"Spidey spiderman\")"
   ]
  },
  {
   "cell_type": "code",
   "execution_count": 66,
   "id": "0bdcc204",
   "metadata": {},
   "outputs": [],
   "source": [
    "def animal_crackers(text):\n",
    "    wordlist = text.upper().split()\n",
    "    return wordlist[0][0]==wordlist[1][0]#Double indexing"
   ]
  },
  {
   "cell_type": "code",
   "execution_count": 67,
   "id": "fa007438",
   "metadata": {},
   "outputs": [
    {
     "data": {
      "text/plain": [
       "True"
      ]
     },
     "execution_count": 67,
     "metadata": {},
     "output_type": "execute_result"
    }
   ],
   "source": [
    "animal_crackers(\"Spidey spiderman\")"
   ]
  },
  {
   "cell_type": "code",
   "execution_count": null,
   "id": "83b2d19c",
   "metadata": {},
   "outputs": [],
   "source": []
  },
  {
   "cell_type": "markdown",
   "id": "df27b7f9",
   "metadata": {},
   "source": [
    "# 10 FEB 2022"
   ]
  },
  {
   "cell_type": "code",
   "execution_count": 1,
   "id": "f525baa3",
   "metadata": {},
   "outputs": [],
   "source": [
    "def add(n1,n2):\n",
    "    return n1+n2"
   ]
  },
  {
   "cell_type": "code",
   "execution_count": 3,
   "id": "3c2f0b38",
   "metadata": {},
   "outputs": [
    {
     "name": "stdout",
     "output_type": "stream",
     "text": [
      "9\n"
     ]
    }
   ],
   "source": [
    "n1=5\n",
    "n2=4\n",
    "add(n1,n2)"
   ]
  },
  {
   "cell_type": "code",
   "execution_count": 4,
   "id": "09ed612a",
   "metadata": {},
   "outputs": [
    {
     "name": "stdout",
     "output_type": "stream",
     "text": [
      "9\n"
     ]
    }
   ],
   "source": [
    "print(add(n1,n2))"
   ]
  },
  {
   "cell_type": "code",
   "execution_count": 5,
   "id": "169d8f9b",
   "metadata": {},
   "outputs": [
    {
     "name": "stdout",
     "output_type": "stream",
     "text": [
      "15\n"
     ]
    }
   ],
   "source": [
    "print(add(n1,10))"
   ]
  },
  {
   "cell_type": "code",
   "execution_count": 26,
   "id": "65f2e931",
   "metadata": {},
   "outputs": [],
   "source": [
    "def add(n1,n2):\n",
    "    return n1+n2"
   ]
  },
  {
   "cell_type": "code",
   "execution_count": 27,
   "id": "4d0182a6",
   "metadata": {},
   "outputs": [],
   "source": [
    "a = add(4,3)"
   ]
  },
  {
   "cell_type": "code",
   "execution_count": 28,
   "id": "e1a10180",
   "metadata": {},
   "outputs": [
    {
     "data": {
      "text/plain": [
       "7"
      ]
     },
     "execution_count": 28,
     "metadata": {},
     "output_type": "execute_result"
    }
   ],
   "source": [
    "a"
   ]
  },
  {
   "cell_type": "code",
   "execution_count": 34,
   "id": "f3129ada",
   "metadata": {},
   "outputs": [],
   "source": [
    "def add(num1,num2):\n",
    "    print(n1+n2)"
   ]
  },
  {
   "cell_type": "code",
   "execution_count": 36,
   "id": "0d229bfb",
   "metadata": {},
   "outputs": [
    {
     "name": "stdout",
     "output_type": "stream",
     "text": [
      "9\n"
     ]
    }
   ],
   "source": [
    "add(6,5)"
   ]
  },
  {
   "cell_type": "code",
   "execution_count": 37,
   "id": "528df6ec",
   "metadata": {},
   "outputs": [
    {
     "name": "stdout",
     "output_type": "stream",
     "text": [
      "9\n"
     ]
    }
   ],
   "source": [
    "a = add(4,3)"
   ]
  },
  {
   "cell_type": "code",
   "execution_count": 39,
   "id": "d3a065d3",
   "metadata": {},
   "outputs": [],
   "source": [
    "a #will not return anything since we have used print() and not return"
   ]
  },
  {
   "cell_type": "code",
   "execution_count": null,
   "id": "3547437d",
   "metadata": {},
   "outputs": [],
   "source": []
  },
  {
   "cell_type": "code",
   "execution_count": 65,
   "id": "1f28c36f",
   "metadata": {},
   "outputs": [],
   "source": [
    "def add(num1,num2):\n",
    "    return print(n1+n2)"
   ]
  },
  {
   "cell_type": "code",
   "execution_count": 66,
   "id": "fa5df736",
   "metadata": {},
   "outputs": [
    {
     "name": "stdout",
     "output_type": "stream",
     "text": [
      "9\n"
     ]
    }
   ],
   "source": [
    "add(6,5)"
   ]
  },
  {
   "cell_type": "code",
   "execution_count": 67,
   "id": "7eacfed9",
   "metadata": {},
   "outputs": [
    {
     "name": "stdout",
     "output_type": "stream",
     "text": [
      "9\n"
     ]
    }
   ],
   "source": [
    "a = add(4,3)"
   ]
  },
  {
   "cell_type": "code",
   "execution_count": 69,
   "id": "5d5dd39d",
   "metadata": {},
   "outputs": [],
   "source": [
    "a # will not return anything 'cause we have use print() in return"
   ]
  },
  {
   "cell_type": "code",
   "execution_count": null,
   "id": "7b436955",
   "metadata": {},
   "outputs": [],
   "source": []
  },
  {
   "cell_type": "code",
   "execution_count": 71,
   "id": "f622b6f6",
   "metadata": {},
   "outputs": [],
   "source": [
    "# def add(a,b):\n",
    "#     print(return a+b)\n",
    "# SyntaxError: invalid syntax"
   ]
  },
  {
   "cell_type": "code",
   "execution_count": 83,
   "id": "be590ea2",
   "metadata": {},
   "outputs": [],
   "source": [
    "def add(a,b):\n",
    "    print(\"return a+b\",a+b,\"a-b\",a-b)\n",
    "# SyntaxError: invalid syntax"
   ]
  },
  {
   "cell_type": "code",
   "execution_count": 85,
   "id": "e91d03df",
   "metadata": {},
   "outputs": [
    {
     "name": "stdout",
     "output_type": "stream",
     "text": [
      "return a+b 11 a-b 1\n"
     ]
    }
   ],
   "source": [
    "add(6,5)#yes that's it"
   ]
  },
  {
   "cell_type": "code",
   "execution_count": 94,
   "id": "ea97e3e9",
   "metadata": {},
   "outputs": [],
   "source": [
    "def add(a,b):\n",
    "    return sum((a,b))#sum((a,b)) and not sum(a,b)"
   ]
  },
  {
   "cell_type": "code",
   "execution_count": 95,
   "id": "bf57c917",
   "metadata": {},
   "outputs": [
    {
     "data": {
      "text/plain": [
       "9"
      ]
     },
     "execution_count": 95,
     "metadata": {},
     "output_type": "execute_result"
    }
   ],
   "source": [
    "add(5,4)"
   ]
  },
  {
   "cell_type": "code",
   "execution_count": 98,
   "id": "2a09f45f",
   "metadata": {},
   "outputs": [],
   "source": [
    "def add(a,b):\n",
    "    print(a,b)"
   ]
  },
  {
   "cell_type": "code",
   "execution_count": 99,
   "id": "8dc044d7",
   "metadata": {},
   "outputs": [
    {
     "name": "stdout",
     "output_type": "stream",
     "text": [
      "6 4\n"
     ]
    }
   ],
   "source": [
    "add(6,4)"
   ]
  },
  {
   "cell_type": "code",
   "execution_count": 103,
   "id": "625db832",
   "metadata": {},
   "outputs": [
    {
     "name": "stdout",
     "output_type": "stream",
     "text": [
      "af,fsf gd\n"
     ]
    }
   ],
   "source": [
    "add(\"af,fsf\",'gd')"
   ]
  },
  {
   "cell_type": "code",
   "execution_count": null,
   "id": "70e3bc78",
   "metadata": {},
   "outputs": [],
   "source": []
  },
  {
   "cell_type": "code",
   "execution_count": 113,
   "id": "310a607b",
   "metadata": {},
   "outputs": [],
   "source": [
    "def add(a=0,b=0):\n",
    "    print(a,b)"
   ]
  },
  {
   "cell_type": "code",
   "execution_count": 114,
   "id": "43f4ef74",
   "metadata": {},
   "outputs": [
    {
     "name": "stdout",
     "output_type": "stream",
     "text": [
      "af,fsf 0\n"
     ]
    }
   ],
   "source": [
    "add(\"af,fsf\")"
   ]
  },
  {
   "cell_type": "code",
   "execution_count": 121,
   "id": "33f59b72",
   "metadata": {},
   "outputs": [],
   "source": [
    "def add(*args):#Tuples (as many as provided)\n",
    "    print(args)"
   ]
  },
  {
   "cell_type": "code",
   "execution_count": 122,
   "id": "f7184c4f",
   "metadata": {},
   "outputs": [
    {
     "name": "stdout",
     "output_type": "stream",
     "text": [
      "()\n"
     ]
    }
   ],
   "source": [
    "add()"
   ]
  },
  {
   "cell_type": "code",
   "execution_count": 123,
   "id": "d8fcbc17",
   "metadata": {},
   "outputs": [
    {
     "name": "stdout",
     "output_type": "stream",
     "text": [
      "(54,)\n"
     ]
    }
   ],
   "source": [
    "add(54)"
   ]
  },
  {
   "cell_type": "code",
   "execution_count": 124,
   "id": "95d1994b",
   "metadata": {},
   "outputs": [
    {
     "name": "stdout",
     "output_type": "stream",
     "text": [
      "(4, 3)\n"
     ]
    }
   ],
   "source": [
    "add(4,3)"
   ]
  },
  {
   "cell_type": "code",
   "execution_count": 125,
   "id": "015e0cf6",
   "metadata": {},
   "outputs": [
    {
     "name": "stdout",
     "output_type": "stream",
     "text": [
      "(54, 5, 3, 5, 2)\n"
     ]
    }
   ],
   "source": [
    "add(54,5,3,5,2)"
   ]
  },
  {
   "cell_type": "code",
   "execution_count": 126,
   "id": "e2a88194",
   "metadata": {},
   "outputs": [],
   "source": [
    "def add(*args):\n",
    "    print(*args)#not Tuple"
   ]
  },
  {
   "cell_type": "code",
   "execution_count": 127,
   "id": "a9f9f6e0",
   "metadata": {},
   "outputs": [
    {
     "name": "stdout",
     "output_type": "stream",
     "text": [
      "\n"
     ]
    }
   ],
   "source": [
    "add()"
   ]
  },
  {
   "cell_type": "code",
   "execution_count": 128,
   "id": "02bc6b50",
   "metadata": {},
   "outputs": [
    {
     "name": "stdout",
     "output_type": "stream",
     "text": [
      "5\n"
     ]
    }
   ],
   "source": [
    "add(5)"
   ]
  },
  {
   "cell_type": "code",
   "execution_count": 129,
   "id": "188b4cc6",
   "metadata": {},
   "outputs": [
    {
     "name": "stdout",
     "output_type": "stream",
     "text": [
      "5 4 3 6\n"
     ]
    }
   ],
   "source": [
    "add(5,4,3,6)"
   ]
  },
  {
   "cell_type": "code",
   "execution_count": 130,
   "id": "bff4845f",
   "metadata": {},
   "outputs": [
    {
     "name": "stdout",
     "output_type": "stream",
     "text": [
      "5 10 6\n"
     ]
    }
   ],
   "source": [
    "add(5,5+5,6)"
   ]
  },
  {
   "cell_type": "code",
   "execution_count": null,
   "id": "a9d90c92",
   "metadata": {},
   "outputs": [],
   "source": []
  },
  {
   "cell_type": "code",
   "execution_count": 133,
   "id": "ed3c2ecb",
   "metadata": {},
   "outputs": [],
   "source": [
    "def add(*args):\n",
    "    return sum(args)"
   ]
  },
  {
   "cell_type": "code",
   "execution_count": 134,
   "id": "cd971aba",
   "metadata": {},
   "outputs": [
    {
     "data": {
      "text/plain": [
       "9"
      ]
     },
     "execution_count": 134,
     "metadata": {},
     "output_type": "execute_result"
    }
   ],
   "source": [
    "add(5,4)"
   ]
  },
  {
   "cell_type": "code",
   "execution_count": 135,
   "id": "8800f60c",
   "metadata": {},
   "outputs": [
    {
     "data": {
      "text/plain": [
       "0"
      ]
     },
     "execution_count": 135,
     "metadata": {},
     "output_type": "execute_result"
    }
   ],
   "source": [
    "add()"
   ]
  },
  {
   "cell_type": "code",
   "execution_count": 136,
   "id": "d2e6afc2",
   "metadata": {},
   "outputs": [
    {
     "data": {
      "text/plain": [
       "70"
      ]
     },
     "execution_count": 136,
     "metadata": {},
     "output_type": "execute_result"
    }
   ],
   "source": [
    "add(65,5)"
   ]
  },
  {
   "cell_type": "code",
   "execution_count": 137,
   "id": "47e99480",
   "metadata": {},
   "outputs": [
    {
     "data": {
      "text/plain": [
       "9"
      ]
     },
     "execution_count": 137,
     "metadata": {},
     "output_type": "execute_result"
    }
   ],
   "source": [
    "add(9)"
   ]
  },
  {
   "cell_type": "code",
   "execution_count": 138,
   "id": "6ffdafee",
   "metadata": {},
   "outputs": [],
   "source": [
    "def add(*args):\n",
    "    return sum((args))"
   ]
  },
  {
   "cell_type": "code",
   "execution_count": 139,
   "id": "e93870e6",
   "metadata": {},
   "outputs": [
    {
     "data": {
      "text/plain": [
       "58"
      ]
     },
     "execution_count": 139,
     "metadata": {},
     "output_type": "execute_result"
    }
   ],
   "source": [
    "add(54,4)"
   ]
  },
  {
   "cell_type": "code",
   "execution_count": 140,
   "id": "ace6b80d",
   "metadata": {},
   "outputs": [],
   "source": [
    "def add(*args):\n",
    "    return sum(((args)))"
   ]
  },
  {
   "cell_type": "code",
   "execution_count": 141,
   "id": "a67b08f5",
   "metadata": {},
   "outputs": [
    {
     "data": {
      "text/plain": [
       "7"
      ]
     },
     "execution_count": 141,
     "metadata": {},
     "output_type": "execute_result"
    }
   ],
   "source": [
    "add(3,4)"
   ]
  },
  {
   "cell_type": "code",
   "execution_count": 172,
   "id": "13007aa5",
   "metadata": {},
   "outputs": [],
   "source": [
    "def my_func(*args):\n",
    "    for item in args:\n",
    "        return item"
   ]
  },
  {
   "cell_type": "code",
   "execution_count": 173,
   "id": "aa6c6412",
   "metadata": {},
   "outputs": [],
   "source": [
    "my_func()"
   ]
  },
  {
   "cell_type": "code",
   "execution_count": 174,
   "id": "8c8904e3",
   "metadata": {},
   "outputs": [
    {
     "data": {
      "text/plain": [
       "5"
      ]
     },
     "execution_count": 174,
     "metadata": {},
     "output_type": "execute_result"
    }
   ],
   "source": [
    "my_func(5)"
   ]
  },
  {
   "cell_type": "code",
   "execution_count": 175,
   "id": "7bbe2269",
   "metadata": {},
   "outputs": [
    {
     "data": {
      "text/plain": [
       "5"
      ]
     },
     "execution_count": 175,
     "metadata": {},
     "output_type": "execute_result"
    }
   ],
   "source": [
    "my_func(5,4,3)"
   ]
  },
  {
   "cell_type": "code",
   "execution_count": 176,
   "id": "57176761",
   "metadata": {},
   "outputs": [
    {
     "data": {
      "text/plain": [
       "'fS'"
      ]
     },
     "execution_count": 176,
     "metadata": {},
     "output_type": "execute_result"
    }
   ],
   "source": [
    "my_func(\"fS\")"
   ]
  },
  {
   "cell_type": "code",
   "execution_count": 177,
   "id": "0e4afaf6",
   "metadata": {},
   "outputs": [
    {
     "data": {
      "text/plain": [
       "'String'"
      ]
     },
     "execution_count": 177,
     "metadata": {},
     "output_type": "execute_result"
    }
   ],
   "source": [
    "my_func(\"String\",\"str1\")# since we have used return and not print()"
   ]
  },
  {
   "cell_type": "code",
   "execution_count": null,
   "id": "731dd102",
   "metadata": {},
   "outputs": [],
   "source": []
  },
  {
   "cell_type": "code",
   "execution_count": null,
   "id": "c2e58994",
   "metadata": {},
   "outputs": [],
   "source": []
  },
  {
   "cell_type": "code",
   "execution_count": 157,
   "id": "288ae312",
   "metadata": {},
   "outputs": [],
   "source": [
    "def my_func(*args):\n",
    "    for item in args:\n",
    "        print(item)"
   ]
  },
  {
   "cell_type": "code",
   "execution_count": 158,
   "id": "f3d2aa54",
   "metadata": {},
   "outputs": [],
   "source": [
    "my_func()"
   ]
  },
  {
   "cell_type": "code",
   "execution_count": 159,
   "id": "6f5c0c52",
   "metadata": {},
   "outputs": [
    {
     "name": "stdout",
     "output_type": "stream",
     "text": [
      "5\n",
      "43\n",
      "3\n"
     ]
    }
   ],
   "source": [
    "my_func(5,43,3)"
   ]
  },
  {
   "cell_type": "code",
   "execution_count": 160,
   "id": "719ca87e",
   "metadata": {},
   "outputs": [
    {
     "name": "stdout",
     "output_type": "stream",
     "text": [
      "4\n",
      "3\n",
      "6\n"
     ]
    }
   ],
   "source": [
    "my_func(4,3,2+4)"
   ]
  },
  {
   "cell_type": "code",
   "execution_count": 167,
   "id": "648b0e81",
   "metadata": {},
   "outputs": [
    {
     "name": "stdout",
     "output_type": "stream",
     "text": [
      "4\n",
      "3\n",
      "9\n"
     ]
    }
   ],
   "source": [
    "my_func(4,3,2+0o7) #(0o7) SyntaxError: invalid digit '8' in octal literal"
   ]
  },
  {
   "cell_type": "code",
   "execution_count": 170,
   "id": "22e5f31c",
   "metadata": {},
   "outputs": [
    {
     "name": "stdout",
     "output_type": "stream",
     "text": [
      "4\n",
      "3\n",
      "6\n",
      "Tony\n",
      "Stark\n"
     ]
    }
   ],
   "source": [
    "my_func(4,3,2+4,\"Tony\",\"Stark\")"
   ]
  },
  {
   "cell_type": "code",
   "execution_count": 178,
   "id": "c9cbf584",
   "metadata": {},
   "outputs": [],
   "source": [
    "def my_func(*args):\n",
    "    for item in args:\n",
    "        print(args)"
   ]
  },
  {
   "cell_type": "code",
   "execution_count": 179,
   "id": "883d602c",
   "metadata": {},
   "outputs": [
    {
     "name": "stdout",
     "output_type": "stream",
     "text": [
      "(5, 3)\n",
      "(5, 3)\n"
     ]
    }
   ],
   "source": [
    "my_func(5,3)"
   ]
  },
  {
   "cell_type": "code",
   "execution_count": 180,
   "id": "552d56e8",
   "metadata": {},
   "outputs": [],
   "source": [
    "my_func()"
   ]
  },
  {
   "cell_type": "code",
   "execution_count": 181,
   "id": "e3939e7c",
   "metadata": {},
   "outputs": [
    {
     "name": "stdout",
     "output_type": "stream",
     "text": [
      "(5,)\n"
     ]
    }
   ],
   "source": [
    "my_func(5)"
   ]
  },
  {
   "cell_type": "code",
   "execution_count": 182,
   "id": "c2506153",
   "metadata": {},
   "outputs": [
    {
     "name": "stdout",
     "output_type": "stream",
     "text": [
      "(5, 4, 9)\n",
      "(5, 4, 9)\n",
      "(5, 4, 9)\n"
     ]
    }
   ],
   "source": [
    "my_func(5,4,4+5)"
   ]
  },
  {
   "cell_type": "code",
   "execution_count": null,
   "id": "20d71dbd",
   "metadata": {},
   "outputs": [],
   "source": []
  },
  {
   "cell_type": "markdown",
   "id": "79f95953",
   "metadata": {},
   "source": [
    "# 11 FEB 2022"
   ]
  },
  {
   "cell_type": "code",
   "execution_count": 3,
   "id": "24e53126",
   "metadata": {},
   "outputs": [],
   "source": [
    "def makes_twenty(n1,n2):\n",
    "    if n1+n2==20:\n",
    "        return True\n",
    "    elif n1== 20:\n",
    "        return True\n",
    "    elif n2== 20:\n",
    "        return True\n",
    "    else :\n",
    "        return False"
   ]
  },
  {
   "cell_type": "code",
   "execution_count": 4,
   "id": "76175349",
   "metadata": {},
   "outputs": [
    {
     "data": {
      "text/plain": [
       "True"
      ]
     },
     "execution_count": 4,
     "metadata": {},
     "output_type": "execute_result"
    }
   ],
   "source": [
    "makes_twenty(2,18)"
   ]
  },
  {
   "cell_type": "code",
   "execution_count": 5,
   "id": "57f3348d",
   "metadata": {},
   "outputs": [
    {
     "data": {
      "text/plain": [
       "True"
      ]
     },
     "execution_count": 5,
     "metadata": {},
     "output_type": "execute_result"
    }
   ],
   "source": [
    "makes_twenty(20,4)"
   ]
  },
  {
   "cell_type": "code",
   "execution_count": 6,
   "id": "39bf10ab",
   "metadata": {},
   "outputs": [
    {
     "data": {
      "text/plain": [
       "False"
      ]
     },
     "execution_count": 6,
     "metadata": {},
     "output_type": "execute_result"
    }
   ],
   "source": [
    "makes_twenty(19,5)"
   ]
  },
  {
   "cell_type": "code",
   "execution_count": 7,
   "id": "e52f6a98",
   "metadata": {},
   "outputs": [
    {
     "data": {
      "text/plain": [
       "True"
      ]
     },
     "execution_count": 7,
     "metadata": {},
     "output_type": "execute_result"
    }
   ],
   "source": [
    "makes_twenty(19,1)"
   ]
  },
  {
   "cell_type": "code",
   "execution_count": 8,
   "id": "e5df46e4",
   "metadata": {},
   "outputs": [],
   "source": [
    "## same as above code but yeah that!"
   ]
  },
  {
   "cell_type": "code",
   "execution_count": 10,
   "id": "e8015cfb",
   "metadata": {},
   "outputs": [],
   "source": [
    "def makes_twenty(n1,n2):\n",
    "    return n1+n2==20 or n1==20 or n2==20"
   ]
  },
  {
   "cell_type": "code",
   "execution_count": 11,
   "id": "a28a1d1d",
   "metadata": {},
   "outputs": [
    {
     "data": {
      "text/plain": [
       "True"
      ]
     },
     "execution_count": 11,
     "metadata": {},
     "output_type": "execute_result"
    }
   ],
   "source": [
    "makes_twenty(5,15)"
   ]
  },
  {
   "cell_type": "code",
   "execution_count": 12,
   "id": "ce9a1961",
   "metadata": {},
   "outputs": [
    {
     "data": {
      "text/plain": [
       "True"
      ]
     },
     "execution_count": 12,
     "metadata": {},
     "output_type": "execute_result"
    }
   ],
   "source": [
    "makes_twenty(20,9)"
   ]
  },
  {
   "cell_type": "code",
   "execution_count": 13,
   "id": "669161ef",
   "metadata": {},
   "outputs": [
    {
     "data": {
      "text/plain": [
       "False"
      ]
     },
     "execution_count": 13,
     "metadata": {},
     "output_type": "execute_result"
    }
   ],
   "source": [
    "makes_twenty(5,3)"
   ]
  },
  {
   "cell_type": "code",
   "execution_count": null,
   "id": "cb0e832e",
   "metadata": {},
   "outputs": [],
   "source": []
  },
  {
   "cell_type": "code",
   "execution_count": null,
   "id": "31e102fa",
   "metadata": {},
   "outputs": [],
   "source": []
  },
  {
   "cell_type": "code",
   "execution_count": 26,
   "id": "811b949d",
   "metadata": {},
   "outputs": [],
   "source": [
    "# macdonald  --> MacDonald\n",
    "def old_macdonald(name):\n",
    "    first_letter = name[0]    \n",
    "    middle_part = name[1:3]\n",
    "    fourth_letter = name[3]\n",
    "    rest = name[4:]\n",
    "    \n",
    "    return first_letter.upper()+middle_part+fourth_letter.upper()+rest"
   ]
  },
  {
   "cell_type": "code",
   "execution_count": 27,
   "id": "17a92dcf",
   "metadata": {},
   "outputs": [
    {
     "data": {
      "text/plain": [
       "'MacDonald'"
      ]
     },
     "execution_count": 27,
     "metadata": {},
     "output_type": "execute_result"
    }
   ],
   "source": [
    "old_macdonald(\"macdonald\")"
   ]
  },
  {
   "cell_type": "code",
   "execution_count": 30,
   "id": "fb0d3333",
   "metadata": {},
   "outputs": [],
   "source": [
    "# macdonald  --> MacDonald\n",
    "def old_macdonald(name):\n",
    "    first_half = name[0:3]    \n",
    "    second_half = name[3:]    \n",
    "    return first_half.capitalize() + second_half.capitalize()"
   ]
  },
  {
   "cell_type": "code",
   "execution_count": 31,
   "id": "d5fea645",
   "metadata": {},
   "outputs": [
    {
     "data": {
      "text/plain": [
       "'MacDonald'"
      ]
     },
     "execution_count": 31,
     "metadata": {},
     "output_type": "execute_result"
    }
   ],
   "source": [
    "old_macdonald(\"macdonald\")"
   ]
  },
  {
   "cell_type": "code",
   "execution_count": null,
   "id": "d65831e7",
   "metadata": {},
   "outputs": [],
   "source": []
  },
  {
   "cell_type": "code",
   "execution_count": 35,
   "id": "521bd827",
   "metadata": {},
   "outputs": [
    {
     "data": {
      "text/plain": [
       "'Dfs'"
      ]
     },
     "execution_count": 35,
     "metadata": {},
     "output_type": "execute_result"
    }
   ],
   "source": [
    "a = \"dfs\"\n",
    "a.capitalize()"
   ]
  },
  {
   "cell_type": "code",
   "execution_count": null,
   "id": "6da1f90e",
   "metadata": {},
   "outputs": [],
   "source": []
  },
  {
   "cell_type": "code",
   "execution_count": 36,
   "id": "02d4b3c6",
   "metadata": {},
   "outputs": [],
   "source": [
    "# reverse the sentence\n",
    "\n",
    "def master_yoda(text):\n",
    "    word_list = text.split()\n",
    "    reverse_list = word_list[::-1]\n",
    "    return word_list"
   ]
  },
  {
   "cell_type": "code",
   "execution_count": 37,
   "id": "d81097fa",
   "metadata": {},
   "outputs": [
    {
     "data": {
      "text/plain": [
       "['We', 'are', 'ready']"
      ]
     },
     "execution_count": 37,
     "metadata": {},
     "output_type": "execute_result"
    }
   ],
   "source": [
    "master_yoda(\"We are ready\")"
   ]
  },
  {
   "cell_type": "code",
   "execution_count": 40,
   "id": "01be7813",
   "metadata": {},
   "outputs": [],
   "source": [
    "# reverse the sentence\n",
    "\n",
    "def master_yoda(text):\n",
    "    word_list = text.split()\n",
    "    reverse_list = word_list[::-1]\n",
    "    return ' '.join(word_list)"
   ]
  },
  {
   "cell_type": "code",
   "execution_count": 41,
   "id": "79a8f61f",
   "metadata": {},
   "outputs": [
    {
     "data": {
      "text/plain": [
       "'We are ready'"
      ]
     },
     "execution_count": 41,
     "metadata": {},
     "output_type": "execute_result"
    }
   ],
   "source": [
    "master_yoda(\"We are ready\")"
   ]
  },
  {
   "cell_type": "code",
   "execution_count": 42,
   "id": "c5dbd645",
   "metadata": {},
   "outputs": [
    {
     "data": {
      "text/plain": [
       "'Are you paying attention?'"
      ]
     },
     "execution_count": 42,
     "metadata": {},
     "output_type": "execute_result"
    }
   ],
   "source": [
    "master_yoda(\"Are you paying attention?\")"
   ]
  },
  {
   "cell_type": "code",
   "execution_count": 43,
   "id": "1036ebb9",
   "metadata": {},
   "outputs": [],
   "source": [
    "# reverse the sentence\n",
    "\n",
    "def master_yoda(text):\n",
    "    word_list = text.split()\n",
    "    reverse_list = word_list[::-1]\n",
    "    return ' '.join(reverse_list)"
   ]
  },
  {
   "cell_type": "code",
   "execution_count": 44,
   "id": "bd0a0bf5",
   "metadata": {},
   "outputs": [
    {
     "data": {
      "text/plain": [
       "'ready are We'"
      ]
     },
     "execution_count": 44,
     "metadata": {},
     "output_type": "execute_result"
    }
   ],
   "source": [
    "master_yoda(\"We are ready\")"
   ]
  },
  {
   "cell_type": "code",
   "execution_count": 45,
   "id": "e6b57f45",
   "metadata": {},
   "outputs": [
    {
     "data": {
      "text/plain": [
       "'attention? paying you Are'"
      ]
     },
     "execution_count": 45,
     "metadata": {},
     "output_type": "execute_result"
    }
   ],
   "source": [
    "master_yoda(\"Are you paying attention?\")"
   ]
  },
  {
   "cell_type": "code",
   "execution_count": 46,
   "id": "eee97d75",
   "metadata": {},
   "outputs": [
    {
     "data": {
      "text/plain": [
       "'? attention paying you Are'"
      ]
     },
     "execution_count": 46,
     "metadata": {},
     "output_type": "execute_result"
    }
   ],
   "source": [
    "master_yoda(\"Are you paying attention ?\")"
   ]
  },
  {
   "cell_type": "code",
   "execution_count": null,
   "id": "8a7ea16b",
   "metadata": {},
   "outputs": [],
   "source": []
  },
  {
   "cell_type": "code",
   "execution_count": 47,
   "id": "f3993356",
   "metadata": {},
   "outputs": [],
   "source": [
    "# Absolute Value"
   ]
  },
  {
   "cell_type": "code",
   "execution_count": 48,
   "id": "927f6a23",
   "metadata": {},
   "outputs": [
    {
     "data": {
      "text/plain": [
       "4"
      ]
     },
     "execution_count": 48,
     "metadata": {},
     "output_type": "execute_result"
    }
   ],
   "source": [
    "abs(4)"
   ]
  },
  {
   "cell_type": "code",
   "execution_count": 49,
   "id": "e11c4ef6",
   "metadata": {},
   "outputs": [
    {
     "data": {
      "text/plain": [
       "45"
      ]
     },
     "execution_count": 49,
     "metadata": {},
     "output_type": "execute_result"
    }
   ],
   "source": [
    "abs(-45)"
   ]
  },
  {
   "cell_type": "code",
   "execution_count": 50,
   "id": "efb8d892",
   "metadata": {},
   "outputs": [
    {
     "data": {
      "text/plain": [
       "5.3"
      ]
     },
     "execution_count": 50,
     "metadata": {},
     "output_type": "execute_result"
    }
   ],
   "source": [
    "abs(5.3)"
   ]
  },
  {
   "cell_type": "code",
   "execution_count": 51,
   "id": "547e3325",
   "metadata": {},
   "outputs": [
    {
     "data": {
      "text/plain": [
       "5.2"
      ]
     },
     "execution_count": 51,
     "metadata": {},
     "output_type": "execute_result"
    }
   ],
   "source": [
    "abs(-5.2)"
   ]
  },
  {
   "cell_type": "code",
   "execution_count": 52,
   "id": "8cf366b4",
   "metadata": {},
   "outputs": [
    {
     "data": {
      "text/plain": [
       "0"
      ]
     },
     "execution_count": 52,
     "metadata": {},
     "output_type": "execute_result"
    }
   ],
   "source": [
    "abs(0)"
   ]
  },
  {
   "cell_type": "code",
   "execution_count": 53,
   "id": "b8108c8e",
   "metadata": {},
   "outputs": [
    {
     "data": {
      "text/plain": [
       "90"
      ]
     },
     "execution_count": 53,
     "metadata": {},
     "output_type": "execute_result"
    }
   ],
   "source": [
    "abs(100-10)"
   ]
  },
  {
   "cell_type": "code",
   "execution_count": 54,
   "id": "fa9f2c7d",
   "metadata": {},
   "outputs": [
    {
     "data": {
      "text/plain": [
       "110"
      ]
     },
     "execution_count": 54,
     "metadata": {},
     "output_type": "execute_result"
    }
   ],
   "source": [
    "abs(100--10)"
   ]
  },
  {
   "cell_type": "code",
   "execution_count": 55,
   "id": "376cd10a",
   "metadata": {},
   "outputs": [
    {
     "data": {
      "text/plain": [
       "90"
      ]
     },
     "execution_count": 55,
     "metadata": {},
     "output_type": "execute_result"
    }
   ],
   "source": [
    "abs(10-100)"
   ]
  },
  {
   "cell_type": "code",
   "execution_count": 57,
   "id": "6fda60f5",
   "metadata": {},
   "outputs": [
    {
     "data": {
      "text/plain": [
       "110"
      ]
     },
     "execution_count": 57,
     "metadata": {},
     "output_type": "execute_result"
    }
   ],
   "source": [
    "abs(10--100)"
   ]
  },
  {
   "cell_type": "code",
   "execution_count": 78,
   "id": "802a9f8e",
   "metadata": {},
   "outputs": [],
   "source": [
    "# 90-110-->TRUE 190-210-->TRUE ELSE FALSE"
   ]
  },
  {
   "cell_type": "code",
   "execution_count": 72,
   "id": "5e4f84fb",
   "metadata": {},
   "outputs": [],
   "source": [
    "def almost_there(n):\n",
    "    return (abs(100-n))<=10 or (abs(200-n))<=10"
   ]
  },
  {
   "cell_type": "code",
   "execution_count": 73,
   "id": "62d0d2e1",
   "metadata": {},
   "outputs": [
    {
     "data": {
      "text/plain": [
       "False"
      ]
     },
     "execution_count": 73,
     "metadata": {},
     "output_type": "execute_result"
    }
   ],
   "source": [
    "almost_there(5)"
   ]
  },
  {
   "cell_type": "code",
   "execution_count": 74,
   "id": "c68a91f5",
   "metadata": {},
   "outputs": [
    {
     "data": {
      "text/plain": [
       "True"
      ]
     },
     "execution_count": 74,
     "metadata": {},
     "output_type": "execute_result"
    }
   ],
   "source": [
    "almost_there(90)"
   ]
  },
  {
   "cell_type": "code",
   "execution_count": 75,
   "id": "29c8abcf",
   "metadata": {},
   "outputs": [
    {
     "data": {
      "text/plain": [
       "True"
      ]
     },
     "execution_count": 75,
     "metadata": {},
     "output_type": "execute_result"
    }
   ],
   "source": [
    "almost_there(100)"
   ]
  },
  {
   "cell_type": "code",
   "execution_count": 76,
   "id": "6288d50d",
   "metadata": {},
   "outputs": [
    {
     "data": {
      "text/plain": [
       "True"
      ]
     },
     "execution_count": 76,
     "metadata": {},
     "output_type": "execute_result"
    }
   ],
   "source": [
    "almost_there(200)"
   ]
  },
  {
   "cell_type": "code",
   "execution_count": 77,
   "id": "93a49e67",
   "metadata": {},
   "outputs": [
    {
     "data": {
      "text/plain": [
       "False"
      ]
     },
     "execution_count": 77,
     "metadata": {},
     "output_type": "execute_result"
    }
   ],
   "source": [
    "almost_there(150)"
   ]
  },
  {
   "cell_type": "code",
   "execution_count": 79,
   "id": "4e408366",
   "metadata": {},
   "outputs": [
    {
     "data": {
      "text/plain": [
       "True"
      ]
     },
     "execution_count": 79,
     "metadata": {},
     "output_type": "execute_result"
    }
   ],
   "source": [
    "almost_there(209)"
   ]
  },
  {
   "cell_type": "code",
   "execution_count": 80,
   "id": "95672053",
   "metadata": {},
   "outputs": [
    {
     "data": {
      "text/plain": [
       "False"
      ]
     },
     "execution_count": 80,
     "metadata": {},
     "output_type": "execute_result"
    }
   ],
   "source": [
    "almost_there(211)"
   ]
  },
  {
   "cell_type": "code",
   "execution_count": 81,
   "id": "5fbf7650",
   "metadata": {},
   "outputs": [
    {
     "data": {
      "text/plain": [
       "False"
      ]
     },
     "execution_count": 81,
     "metadata": {},
     "output_type": "execute_result"
    }
   ],
   "source": [
    "almost_there(89)"
   ]
  },
  {
   "cell_type": "code",
   "execution_count": 82,
   "id": "31705a67",
   "metadata": {},
   "outputs": [
    {
     "data": {
      "text/plain": [
       "True"
      ]
     },
     "execution_count": 82,
     "metadata": {},
     "output_type": "execute_result"
    }
   ],
   "source": [
    "almost_there(90)"
   ]
  },
  {
   "cell_type": "code",
   "execution_count": 1,
   "id": "a6f4458c",
   "metadata": {},
   "outputs": [],
   "source": [
    "#  has33([3,4,3,3,5,5]) ---> True"
   ]
  },
  {
   "cell_type": "code",
   "execution_count": 29,
   "id": "02f2f533",
   "metadata": {},
   "outputs": [],
   "source": [
    "def has_33(num):\n",
    "    print(num)\n",
    "    for i in range(0,len(num)-1):\n",
    "        if num[i] == 3 and num[i+1] == 3:\n",
    "            return True\n",
    "    return False"
   ]
  },
  {
   "cell_type": "code",
   "execution_count": 30,
   "id": "b8248067",
   "metadata": {},
   "outputs": [
    {
     "name": "stdout",
     "output_type": "stream",
     "text": [
      "[1, 3, 3]\n"
     ]
    },
    {
     "data": {
      "text/plain": [
       "True"
      ]
     },
     "execution_count": 30,
     "metadata": {},
     "output_type": "execute_result"
    }
   ],
   "source": [
    "has_33([1,3,3])"
   ]
  },
  {
   "cell_type": "code",
   "execution_count": 37,
   "id": "aac0aa48",
   "metadata": {},
   "outputs": [
    {
     "name": "stdout",
     "output_type": "stream",
     "text": [
      "[4, 43, 6, 8, 3]\n"
     ]
    },
    {
     "data": {
      "text/plain": [
       "False"
      ]
     },
     "execution_count": 37,
     "metadata": {},
     "output_type": "execute_result"
    }
   ],
   "source": [
    "has_33([4,43,6,8,3])"
   ]
  },
  {
   "cell_type": "code",
   "execution_count": 38,
   "id": "c34b2e04",
   "metadata": {},
   "outputs": [
    {
     "name": "stdout",
     "output_type": "stream",
     "text": [
      "[5, 6, 7]\n"
     ]
    },
    {
     "data": {
      "text/plain": [
       "False"
      ]
     },
     "execution_count": 38,
     "metadata": {},
     "output_type": "execute_result"
    }
   ],
   "source": [
    "has_33([5,6,7])"
   ]
  },
  {
   "cell_type": "code",
   "execution_count": null,
   "id": "71066fda",
   "metadata": {},
   "outputs": [],
   "source": []
  },
  {
   "cell_type": "code",
   "execution_count": 39,
   "id": "f7d2c418",
   "metadata": {},
   "outputs": [],
   "source": [
    "# 3times"
   ]
  },
  {
   "cell_type": "code",
   "execution_count": 70,
   "id": "2f9c4b35",
   "metadata": {},
   "outputs": [],
   "source": [
    "def  paper(text):\n",
    "    result = \"\"\n",
    "    \n",
    "    for char in text:\n",
    "        result += char*3\n",
    "    return result"
   ]
  },
  {
   "cell_type": "code",
   "execution_count": 71,
   "id": "b835b315",
   "metadata": {},
   "outputs": [
    {
     "data": {
      "text/plain": [
       "'NNNaaammmaaasssttteee'"
      ]
     },
     "execution_count": 71,
     "metadata": {},
     "output_type": "execute_result"
    }
   ],
   "source": [
    "paper(\"Namaste\")"
   ]
  },
  {
   "cell_type": "code",
   "execution_count": 74,
   "id": "67176b6d",
   "metadata": {},
   "outputs": [
    {
     "name": "stdout",
     "output_type": "stream",
     "text": [
      "[[[444222,,,444,,,333]]]\n"
     ]
    }
   ],
   "source": [
    "print(paper(\"[42,4,3]\"))"
   ]
  },
  {
   "cell_type": "code",
   "execution_count": null,
   "id": "ff368dcf",
   "metadata": {},
   "outputs": [],
   "source": []
  },
  {
   "cell_type": "code",
   "execution_count": null,
   "id": "ee3ef225",
   "metadata": {},
   "outputs": [],
   "source": []
  },
  {
   "cell_type": "code",
   "execution_count": 75,
   "id": "8496252f",
   "metadata": {},
   "outputs": [],
   "source": [
    "# Black_Jack"
   ]
  },
  {
   "cell_type": "code",
   "execution_count": 99,
   "id": "a3792173",
   "metadata": {},
   "outputs": [],
   "source": [
    "def black_jack(a,b,c):\n",
    "    if a <=11 and b<=11 and c <=11:\n",
    "\n",
    "        if a+b+c<=21:\n",
    "            return a+b+c\n",
    "        elif a==11 or b ==11 or c==11:\n",
    "            tb = (a+b+c) - 10\n",
    "            if tb<=21:\n",
    "                return tb\n",
    "            else:\n",
    "                return \"Bust\"\n",
    "        else :\n",
    "            return \"Bust\"\n",
    "        \n",
    "    else:\n",
    "        return \"Bust\""
   ]
  },
  {
   "cell_type": "code",
   "execution_count": 100,
   "id": "dc5afd98",
   "metadata": {},
   "outputs": [
    {
     "data": {
      "text/plain": [
       "'Bust'"
      ]
     },
     "execution_count": 100,
     "metadata": {},
     "output_type": "execute_result"
    }
   ],
   "source": [
    "black_jack(53,2,4)"
   ]
  },
  {
   "cell_type": "code",
   "execution_count": 101,
   "id": "ddd291ae",
   "metadata": {},
   "outputs": [
    {
     "data": {
      "text/plain": [
       "14"
      ]
     },
     "execution_count": 101,
     "metadata": {},
     "output_type": "execute_result"
    }
   ],
   "source": [
    "black_jack(5,4,5)"
   ]
  },
  {
   "cell_type": "code",
   "execution_count": 102,
   "id": "411e4bce",
   "metadata": {},
   "outputs": [
    {
     "data": {
      "text/plain": [
       "'Bust'"
      ]
     },
     "execution_count": 102,
     "metadata": {},
     "output_type": "execute_result"
    }
   ],
   "source": [
    "black_jack(10,1,12)"
   ]
  },
  {
   "cell_type": "code",
   "execution_count": 103,
   "id": "fcee3002",
   "metadata": {},
   "outputs": [
    {
     "data": {
      "text/plain": [
       "'Bust'"
      ]
     },
     "execution_count": 103,
     "metadata": {},
     "output_type": "execute_result"
    }
   ],
   "source": [
    "black_jack(14,2,1)"
   ]
  },
  {
   "cell_type": "code",
   "execution_count": null,
   "id": "a73718e4",
   "metadata": {},
   "outputs": [],
   "source": []
  },
  {
   "cell_type": "code",
   "execution_count": 108,
   "id": "d5e4094d",
   "metadata": {},
   "outputs": [],
   "source": [
    "# number between 1 And 11 "
   ]
  },
  {
   "cell_type": "code",
   "execution_count": 105,
   "id": "877e1109",
   "metadata": {},
   "outputs": [],
   "source": [
    "def black_jack(a,b,c):\n",
    "    if 0<a<=11 and 0<b<=11 and 0<c <=11:\n",
    "\n",
    "        if a+b+c<=21:\n",
    "            return a+b+c\n",
    "        elif a==11 or b ==11 or c==11:\n",
    "            tb = (a+b+c) - 10\n",
    "            if tb<=21:\n",
    "                return tb\n",
    "            else:\n",
    "                return \"Bust\"\n",
    "        else :\n",
    "            return \"Bust\"\n",
    "        \n",
    "    else:\n",
    "        return \"Bust\""
   ]
  },
  {
   "cell_type": "code",
   "execution_count": 106,
   "id": "92a6e17a",
   "metadata": {},
   "outputs": [
    {
     "data": {
      "text/plain": [
       "11"
      ]
     },
     "execution_count": 106,
     "metadata": {},
     "output_type": "execute_result"
    }
   ],
   "source": [
    "black_jack(3,5,3)"
   ]
  },
  {
   "cell_type": "code",
   "execution_count": 107,
   "id": "734e05a9",
   "metadata": {},
   "outputs": [
    {
     "data": {
      "text/plain": [
       "'Bust'"
      ]
     },
     "execution_count": 107,
     "metadata": {},
     "output_type": "execute_result"
    }
   ],
   "source": [
    "black_jack(0,0,4)"
   ]
  },
  {
   "cell_type": "code",
   "execution_count": 109,
   "id": "92e0d4cf",
   "metadata": {},
   "outputs": [
    {
     "data": {
      "text/plain": [
       "'Bust'"
      ]
     },
     "execution_count": 109,
     "metadata": {},
     "output_type": "execute_result"
    }
   ],
   "source": [
    "black_jack(-1,-3,6)"
   ]
  },
  {
   "cell_type": "code",
   "execution_count": null,
   "id": "7bc45034",
   "metadata": {},
   "outputs": [],
   "source": []
  },
  {
   "cell_type": "code",
   "execution_count": null,
   "id": "082ee5f5",
   "metadata": {},
   "outputs": [],
   "source": []
  },
  {
   "cell_type": "code",
   "execution_count": 110,
   "id": "214a151d",
   "metadata": {},
   "outputs": [],
   "source": [
    "# Efficient program than previous"
   ]
  },
  {
   "cell_type": "code",
   "execution_count": 111,
   "id": "bbd8227b",
   "metadata": {},
   "outputs": [],
   "source": [
    "def black_jack(a,b,c):\n",
    "        sum1 = sum([a,b,c])    \n",
    "        if sum1<=21:\n",
    "            return sum1\n",
    "        elif 11 in [a,b,c] and sum1<=31:\n",
    "            return sum1-10\n",
    "        else:\n",
    "            return \"Bust\""
   ]
  },
  {
   "cell_type": "code",
   "execution_count": 112,
   "id": "8748ab26",
   "metadata": {},
   "outputs": [
    {
     "data": {
      "text/plain": [
       "'Bust'"
      ]
     },
     "execution_count": 112,
     "metadata": {},
     "output_type": "execute_result"
    }
   ],
   "source": [
    "black_jack(43,5,2)"
   ]
  },
  {
   "cell_type": "code",
   "execution_count": 113,
   "id": "808ab32d",
   "metadata": {},
   "outputs": [
    {
     "data": {
      "text/plain": [
       "'Bust'"
      ]
     },
     "execution_count": 113,
     "metadata": {},
     "output_type": "execute_result"
    }
   ],
   "source": [
    "black_jack(9,8,5)"
   ]
  },
  {
   "cell_type": "code",
   "execution_count": 114,
   "id": "d12a1f44",
   "metadata": {},
   "outputs": [
    {
     "data": {
      "text/plain": [
       "18"
      ]
     },
     "execution_count": 114,
     "metadata": {},
     "output_type": "execute_result"
    }
   ],
   "source": [
    "black_jack(9,8,11)"
   ]
  },
  {
   "cell_type": "code",
   "execution_count": 115,
   "id": "55538f3b",
   "metadata": {},
   "outputs": [
    {
     "data": {
      "text/plain": [
       "'Bust'"
      ]
     },
     "execution_count": 115,
     "metadata": {},
     "output_type": "execute_result"
    }
   ],
   "source": [
    "black_jack(29,1,1)"
   ]
  },
  {
   "cell_type": "code",
   "execution_count": 116,
   "id": "50a42c82",
   "metadata": {},
   "outputs": [
    {
     "data": {
      "text/plain": [
       "21"
      ]
     },
     "execution_count": 116,
     "metadata": {},
     "output_type": "execute_result"
    }
   ],
   "source": [
    "black_jack(19,1,11)"
   ]
  },
  {
   "cell_type": "code",
   "execution_count": null,
   "id": "cf96a1a3",
   "metadata": {},
   "outputs": [],
   "source": []
  },
  {
   "cell_type": "code",
   "execution_count": 37,
   "id": "48d2f63e",
   "metadata": {},
   "outputs": [],
   "source": [
    "def black_jack(*args):\n",
    "        sum1 = sum(args)\n",
    "        if sum1<=21:\n",
    "            return sum1\n",
    "        elif 11 in args and sum1<=31:\n",
    "            return sum1-10\n",
    "        else:\n",
    "            return \"Bust\""
   ]
  },
  {
   "cell_type": "code",
   "execution_count": 38,
   "id": "eb334624",
   "metadata": {},
   "outputs": [
    {
     "data": {
      "text/plain": [
       "16"
      ]
     },
     "execution_count": 38,
     "metadata": {},
     "output_type": "execute_result"
    }
   ],
   "source": [
    "black_jack(3,11,2)"
   ]
  },
  {
   "cell_type": "code",
   "execution_count": 39,
   "id": "21c6c54c",
   "metadata": {},
   "outputs": [
    {
     "data": {
      "text/plain": [
       "20"
      ]
     },
     "execution_count": 39,
     "metadata": {},
     "output_type": "execute_result"
    }
   ],
   "source": [
    "black_jack(11,10,9)"
   ]
  },
  {
   "cell_type": "code",
   "execution_count": 40,
   "id": "f8d487a0",
   "metadata": {},
   "outputs": [
    {
     "data": {
      "text/plain": [
       "'Bust'"
      ]
     },
     "execution_count": 40,
     "metadata": {},
     "output_type": "execute_result"
    }
   ],
   "source": [
    "black_jack(11,10,11)"
   ]
  },
  {
   "cell_type": "code",
   "execution_count": 41,
   "id": "5457ed25",
   "metadata": {},
   "outputs": [
    {
     "data": {
      "text/plain": [
       "15"
      ]
     },
     "execution_count": 41,
     "metadata": {},
     "output_type": "execute_result"
    }
   ],
   "source": [
    "black_jack(2,3,4,1,5)"
   ]
  },
  {
   "cell_type": "code",
   "execution_count": 42,
   "id": "95a45115",
   "metadata": {},
   "outputs": [
    {
     "data": {
      "text/plain": [
       "21"
      ]
     },
     "execution_count": 42,
     "metadata": {},
     "output_type": "execute_result"
    }
   ],
   "source": [
    "black_jack(11,2,5,2,1,10,0)"
   ]
  },
  {
   "cell_type": "code",
   "execution_count": 43,
   "id": "78c93d53",
   "metadata": {},
   "outputs": [
    {
     "data": {
      "text/plain": [
       "21"
      ]
     },
     "execution_count": 43,
     "metadata": {},
     "output_type": "execute_result"
    }
   ],
   "source": [
    "black_jack(11,2,5,2,1,10,-10)"
   ]
  },
  {
   "cell_type": "code",
   "execution_count": 44,
   "id": "4f379a43",
   "metadata": {},
   "outputs": [
    {
     "data": {
      "text/plain": [
       "19"
      ]
     },
     "execution_count": 44,
     "metadata": {},
     "output_type": "execute_result"
    }
   ],
   "source": [
    "black_jack(11,2,5,2,-1,10,0)"
   ]
  },
  {
   "cell_type": "code",
   "execution_count": 45,
   "id": "affbfd91",
   "metadata": {},
   "outputs": [
    {
     "data": {
      "text/plain": [
       "-11"
      ]
     },
     "execution_count": 45,
     "metadata": {},
     "output_type": "execute_result"
    }
   ],
   "source": [
    "black_jack(-11,-2,-5,-2,-1,10,0)"
   ]
  },
  {
   "cell_type": "code",
   "execution_count": null,
   "id": "75e6bd2c",
   "metadata": {},
   "outputs": [],
   "source": []
  },
  {
   "cell_type": "code",
   "execution_count": null,
   "id": "106ed0c5",
   "metadata": {},
   "outputs": [],
   "source": []
  },
  {
   "cell_type": "code",
   "execution_count": null,
   "id": "7a47d3cd",
   "metadata": {},
   "outputs": [],
   "source": []
  },
  {
   "cell_type": "code",
   "execution_count": null,
   "id": "8a7dc5bd",
   "metadata": {},
   "outputs": [],
   "source": []
  },
  {
   "cell_type": "code",
   "execution_count": null,
   "id": "5e8e6831",
   "metadata": {},
   "outputs": [],
   "source": []
  },
  {
   "cell_type": "code",
   "execution_count": 23,
   "id": "862edd3c",
   "metadata": {},
   "outputs": [],
   "source": [
    "def eg(*args):\n",
    "    print(*args)"
   ]
  },
  {
   "cell_type": "code",
   "execution_count": 24,
   "id": "1b2c3fc7",
   "metadata": {},
   "outputs": [
    {
     "name": "stdout",
     "output_type": "stream",
     "text": [
      "4 5 2\n"
     ]
    }
   ],
   "source": [
    "eg(4,5,2)"
   ]
  },
  {
   "cell_type": "code",
   "execution_count": 25,
   "id": "a6bc6e4b",
   "metadata": {},
   "outputs": [],
   "source": [
    "def eg(*args):\n",
    "    print(args)"
   ]
  },
  {
   "cell_type": "code",
   "execution_count": 26,
   "id": "ff671c30",
   "metadata": {},
   "outputs": [
    {
     "name": "stdout",
     "output_type": "stream",
     "text": [
      "(4, 5, 2)\n"
     ]
    }
   ],
   "source": [
    "eg(4,5,2)"
   ]
  },
  {
   "cell_type": "code",
   "execution_count": null,
   "id": "7022ef9c",
   "metadata": {},
   "outputs": [],
   "source": []
  },
  {
   "cell_type": "code",
   "execution_count": null,
   "id": "e1c3d73d",
   "metadata": {},
   "outputs": [],
   "source": []
  },
  {
   "cell_type": "code",
   "execution_count": 50,
   "id": "bfe7775f",
   "metadata": {},
   "outputs": [],
   "source": [
    "# dont add num between 6 and 9"
   ]
  },
  {
   "cell_type": "code",
   "execution_count": 5,
   "id": "f91b95d2",
   "metadata": {},
   "outputs": [],
   "source": [
    "def summer_69(array):\n",
    "    \n",
    "    total =0\n",
    "    add = True\n",
    "    \n",
    "    for num in array:\n",
    "        while add:\n",
    "            if num !=6:\n",
    "                total+=num\n",
    "                break\n",
    "            else:\n",
    "                add = False\n",
    "        \n",
    "        while not add:\n",
    "            if num !=9:\n",
    "                break\n",
    "            else:\n",
    "                add = True\n",
    "    return total"
   ]
  },
  {
   "cell_type": "code",
   "execution_count": 8,
   "id": "21db9145",
   "metadata": {},
   "outputs": [
    {
     "name": "stdout",
     "output_type": "stream",
     "text": [
      "18\n"
     ]
    }
   ],
   "source": [
    "array=[5,3,5,6,4,9,5]\n",
    "total = 0\n",
    "add = True\n",
    "for num in array:\n",
    "    while add:\n",
    "        if num !=6:\n",
    "            total+=num\n",
    "            break\n",
    "        else:\n",
    "            add = False\n",
    "            \n",
    "    while not add:\n",
    "        if num !=9:\n",
    "            break\n",
    "        else:\n",
    "            add = True    \n",
    "print(total)"
   ]
  },
  {
   "cell_type": "code",
   "execution_count": 35,
   "id": "0e5110a7",
   "metadata": {},
   "outputs": [
    {
     "name": "stdout",
     "output_type": "stream",
     "text": [
      "5\n",
      "8\n",
      "13\n",
      "18\n",
      "18\n"
     ]
    }
   ],
   "source": [
    "array=[5,3,5,6,4,9,5]\n",
    "total = 0\n",
    "add = True\n",
    "\n",
    "for num in array:\n",
    "    while add:\n",
    "        if num !=6:\n",
    "            total+=num\n",
    "            print(total)\n",
    "            break\n",
    "        else:\n",
    "            add = False\n",
    "            \n",
    "    while not add:\n",
    "        if num !=9:\n",
    "            break\n",
    "        else:\n",
    "            add = True  \n",
    "            \n",
    "print(total)"
   ]
  },
  {
   "cell_type": "code",
   "execution_count": null,
   "id": "1165ea2c",
   "metadata": {},
   "outputs": [],
   "source": []
  },
  {
   "cell_type": "code",
   "execution_count": null,
   "id": "e4c7874c",
   "metadata": {},
   "outputs": [],
   "source": []
  },
  {
   "cell_type": "code",
   "execution_count": 7,
   "id": "e6d1cb08",
   "metadata": {
    "scrolled": false
   },
   "outputs": [
    {
     "data": {
      "text/plain": [
       "18"
      ]
     },
     "execution_count": 7,
     "metadata": {},
     "output_type": "execute_result"
    }
   ],
   "source": [
    "summer_69([5,3,5,6,4,9,5])"
   ]
  },
  {
   "cell_type": "code",
   "execution_count": 53,
   "id": "0e6765e2",
   "metadata": {
    "scrolled": true
   },
   "outputs": [
    {
     "data": {
      "text/plain": [
       "15"
      ]
     },
     "execution_count": 53,
     "metadata": {},
     "output_type": "execute_result"
    }
   ],
   "source": [
    "summer_69([5,3,4,6,8,9,3])"
   ]
  },
  {
   "cell_type": "code",
   "execution_count": 54,
   "id": "89e2e3da",
   "metadata": {},
   "outputs": [
    {
     "data": {
      "text/plain": [
       "1"
      ]
     },
     "execution_count": 54,
     "metadata": {},
     "output_type": "execute_result"
    }
   ],
   "source": [
    "summer_69([1,6,9])"
   ]
  },
  {
   "cell_type": "code",
   "execution_count": 55,
   "id": "35aa464d",
   "metadata": {},
   "outputs": [
    {
     "data": {
      "text/plain": [
       "0"
      ]
     },
     "execution_count": 55,
     "metadata": {},
     "output_type": "execute_result"
    }
   ],
   "source": [
    "summer_69([6,9])"
   ]
  },
  {
   "cell_type": "code",
   "execution_count": 58,
   "id": "5e87c614",
   "metadata": {},
   "outputs": [
    {
     "data": {
      "text/plain": [
       "0"
      ]
     },
     "execution_count": 58,
     "metadata": {},
     "output_type": "execute_result"
    }
   ],
   "source": [
    "summer_69([6,34,2,4,5,9])"
   ]
  },
  {
   "cell_type": "code",
   "execution_count": 59,
   "id": "e8a6b274",
   "metadata": {},
   "outputs": [
    {
     "data": {
      "text/plain": [
       "9"
      ]
     },
     "execution_count": 59,
     "metadata": {},
     "output_type": "execute_result"
    }
   ],
   "source": [
    "summer_69([6,4,6,6,9,9,6])"
   ]
  },
  {
   "cell_type": "code",
   "execution_count": 60,
   "id": "4541fb43",
   "metadata": {},
   "outputs": [
    {
     "data": {
      "text/plain": [
       "0"
      ]
     },
     "execution_count": 60,
     "metadata": {},
     "output_type": "execute_result"
    }
   ],
   "source": [
    "summer_69([6,4,6,6,9,6,9,6])"
   ]
  },
  {
   "cell_type": "code",
   "execution_count": null,
   "id": "a04730be",
   "metadata": {},
   "outputs": [],
   "source": []
  },
  {
   "cell_type": "code",
   "execution_count": null,
   "id": "c3993721",
   "metadata": {},
   "outputs": [],
   "source": []
  },
  {
   "cell_type": "code",
   "execution_count": 68,
   "id": "68562d24",
   "metadata": {},
   "outputs": [],
   "source": [
    "def summer_69(array):\n",
    "    \n",
    "    total =0\n",
    "    add = True\n",
    "\n",
    "    for num in array:\n",
    "        while add:\n",
    "            if num !=6:\n",
    "                total+=num\n",
    "                break\n",
    "            else :\n",
    "                add = False\n",
    "        \n",
    "        while not add:\n",
    "            if num !=9:\n",
    "                break\n",
    "            else:\n",
    "                add = True\n",
    "    return total"
   ]
  },
  {
   "cell_type": "code",
   "execution_count": 69,
   "id": "5f8c6aec",
   "metadata": {},
   "outputs": [
    {
     "data": {
      "text/plain": [
       "10"
      ]
     },
     "execution_count": 69,
     "metadata": {},
     "output_type": "execute_result"
    }
   ],
   "source": [
    "summer_69([2,1,4,3])"
   ]
  },
  {
   "cell_type": "code",
   "execution_count": null,
   "id": "4cbc61a1",
   "metadata": {},
   "outputs": [],
   "source": []
  },
  {
   "cell_type": "markdown",
   "id": "45ab204a",
   "metadata": {},
   "source": [
    "# 15 FEB 2022"
   ]
  },
  {
   "cell_type": "code",
   "execution_count": 165,
   "id": "07098c43",
   "metadata": {},
   "outputs": [],
   "source": [
    "# SPY GAME\n",
    "# 007 -->True"
   ]
  },
  {
   "cell_type": "code",
   "execution_count": null,
   "id": "0334a07a",
   "metadata": {},
   "outputs": [],
   "source": []
  },
  {
   "cell_type": "markdown",
   "id": "ce59f51a",
   "metadata": {},
   "source": [
    "# 27 FEB 2022"
   ]
  },
  {
   "cell_type": "code",
   "execution_count": 47,
   "id": "9cb78c9c",
   "metadata": {},
   "outputs": [],
   "source": [
    "def spy_game(nums):\n",
    "    \n",
    "    code = [0,0,7,'x']\n",
    "    # [0,7,'x']\n",
    "    #[7,'x']\n",
    "    #['x'] #lenght = 1\n",
    "    \n",
    "    for num in nums:\n",
    "        if num == code[0]:\n",
    "            code.pop(0)\n",
    "        \n",
    "    return len(code) == 1"
   ]
  },
  {
   "cell_type": "code",
   "execution_count": 48,
   "id": "b256fa7c",
   "metadata": {},
   "outputs": [
    {
     "data": {
      "text/plain": [
       "False"
      ]
     },
     "execution_count": 48,
     "metadata": {},
     "output_type": "execute_result"
    }
   ],
   "source": [
    "list1=[2,1,4,3]\n",
    "spy_game(list1)"
   ]
  },
  {
   "cell_type": "code",
   "execution_count": 49,
   "id": "858931ae",
   "metadata": {},
   "outputs": [
    {
     "data": {
      "text/plain": [
       "False"
      ]
     },
     "execution_count": 49,
     "metadata": {},
     "output_type": "execute_result"
    }
   ],
   "source": [
    "spy_game([1,3,2,5])"
   ]
  },
  {
   "cell_type": "code",
   "execution_count": 50,
   "id": "df0ef893",
   "metadata": {},
   "outputs": [
    {
     "data": {
      "text/plain": [
       "True"
      ]
     },
     "execution_count": 50,
     "metadata": {},
     "output_type": "execute_result"
    }
   ],
   "source": [
    "spy_game([1,3,0,0,7])"
   ]
  },
  {
   "cell_type": "code",
   "execution_count": 51,
   "id": "45f949d5",
   "metadata": {},
   "outputs": [
    {
     "data": {
      "text/plain": [
       "True"
      ]
     },
     "execution_count": 51,
     "metadata": {},
     "output_type": "execute_result"
    }
   ],
   "source": [
    "spy_game([1,0,5,0,7])"
   ]
  },
  {
   "cell_type": "code",
   "execution_count": null,
   "id": "faef07d5",
   "metadata": {},
   "outputs": [],
   "source": []
  },
  {
   "cell_type": "code",
   "execution_count": 64,
   "id": "9d967408",
   "metadata": {},
   "outputs": [],
   "source": [
    "## Fasle Everytime ##\n",
    "\n",
    "def spy_game(nums):\n",
    "    \n",
    "    code = [0,0,7,'x']\n",
    "    # [0,7,'x']\n",
    "    #[7,'x']\n",
    "    #['x'] #lenght = 1\n",
    "    \n",
    "    for num in nums:\n",
    "        if num == code[1]:       # code[0]\n",
    "            code.pop(0)\n",
    "        \n",
    "    return len(code) == 1 ## never will be 1"
   ]
  },
  {
   "cell_type": "code",
   "execution_count": 65,
   "id": "b84b5bba",
   "metadata": {},
   "outputs": [
    {
     "data": {
      "text/plain": [
       "True"
      ]
     },
     "execution_count": 65,
     "metadata": {},
     "output_type": "execute_result"
    }
   ],
   "source": [
    "spy_game([1,0,5,0,7])"
   ]
  },
  {
   "cell_type": "code",
   "execution_count": 66,
   "id": "36e0b22b",
   "metadata": {},
   "outputs": [
    {
     "data": {
      "text/plain": [
       "True"
      ]
     },
     "execution_count": 66,
     "metadata": {},
     "output_type": "execute_result"
    }
   ],
   "source": [
    "spy_game([1,3,0,0,7])"
   ]
  },
  {
   "cell_type": "code",
   "execution_count": 67,
   "id": "2fac3790",
   "metadata": {},
   "outputs": [
    {
     "data": {
      "text/plain": [
       "False"
      ]
     },
     "execution_count": 67,
     "metadata": {},
     "output_type": "execute_result"
    }
   ],
   "source": [
    "spy_game([1,3,2,5])"
   ]
  },
  {
   "cell_type": "code",
   "execution_count": null,
   "id": "c0097b8e",
   "metadata": {},
   "outputs": [],
   "source": []
  },
  {
   "cell_type": "code",
   "execution_count": 74,
   "id": "737b2b67",
   "metadata": {},
   "outputs": [],
   "source": [
    "## Pay Attention ##\n",
    "\n",
    "def spy_game(nums):\n",
    "    \n",
    "    code = [0,0,7,'x']\n",
    "    # [0,7,'x']\n",
    "    #[0,'x'] #lenght=2 #since code[1] is string & it will never = no.\n",
    "    \n",
    "    for num in nums:\n",
    "        if num == code[1]:       # code[0]\n",
    "            code.pop(0)\n",
    "        \n",
    "    return len(code) == 2"
   ]
  },
  {
   "cell_type": "code",
   "execution_count": 75,
   "id": "28d6328a",
   "metadata": {},
   "outputs": [
    {
     "data": {
      "text/plain": [
       "False"
      ]
     },
     "execution_count": 75,
     "metadata": {},
     "output_type": "execute_result"
    }
   ],
   "source": [
    "spy_game([1,3,2,5])"
   ]
  },
  {
   "cell_type": "code",
   "execution_count": 76,
   "id": "b473157c",
   "metadata": {},
   "outputs": [
    {
     "data": {
      "text/plain": [
       "True"
      ]
     },
     "execution_count": 76,
     "metadata": {},
     "output_type": "execute_result"
    }
   ],
   "source": [
    "spy_game([1,3,0,0,7])"
   ]
  },
  {
   "cell_type": "code",
   "execution_count": 77,
   "id": "c28ad2f8",
   "metadata": {},
   "outputs": [
    {
     "data": {
      "text/plain": [
       "True"
      ]
     },
     "execution_count": 77,
     "metadata": {},
     "output_type": "execute_result"
    }
   ],
   "source": [
    "spy_game([1,3,0,0,7])"
   ]
  },
  {
   "cell_type": "code",
   "execution_count": 78,
   "id": "3a543b9f",
   "metadata": {},
   "outputs": [
    {
     "data": {
      "text/plain": [
       "True"
      ]
     },
     "execution_count": 78,
     "metadata": {},
     "output_type": "execute_result"
    }
   ],
   "source": [
    "spy_game([1,3,0,7])# 0,7 -->True ## and not 0,0,7---> True"
   ]
  },
  {
   "cell_type": "code",
   "execution_count": null,
   "id": "33fe36fa",
   "metadata": {},
   "outputs": [],
   "source": []
  },
  {
   "cell_type": "code",
   "execution_count": null,
   "id": "c807a672",
   "metadata": {},
   "outputs": [],
   "source": []
  },
  {
   "cell_type": "code",
   "execution_count": 60,
   "id": "b19afb8b",
   "metadata": {},
   "outputs": [],
   "source": [
    "def spy_game(nums):\n",
    "    \n",
    "    code = [0,0,7,'x']\n",
    "    # [0,7,'x']\n",
    "    #[7,'x']\n",
    "    #['x'] #lenght = 1\n",
    "    \n",
    "    for num in nums:\n",
    "        if num == code[0]:\n",
    "            code.pop(0)\n",
    "        \n",
    "    return len(code) == 1"
   ]
  },
  {
   "cell_type": "code",
   "execution_count": null,
   "id": "abf25524",
   "metadata": {},
   "outputs": [],
   "source": []
  },
  {
   "cell_type": "markdown",
   "id": "b9f0ef83",
   "metadata": {},
   "source": [
    "\n",
    "# 07-03-2022"
   ]
  },
  {
   "cell_type": "markdown",
   "id": "093cf3be",
   "metadata": {},
   "source": [
    "# 07 Mar 2022"
   ]
  },
  {
   "cell_type": "code",
   "execution_count": 2,
   "id": "ce5ae76c",
   "metadata": {},
   "outputs": [],
   "source": [
    "# Check/count prime"
   ]
  },
  {
   "cell_type": "code",
   "execution_count": 11,
   "id": "7eab8f54",
   "metadata": {},
   "outputs": [],
   "source": [
    "def count_prime(num):\n",
    "    if num<2:\n",
    "        return 0\n",
    "    ### 2 or greater ###\n",
    "    \n",
    "    # store prime no.\n",
    "    primes = [2]\n",
    "    # counter  going upto the input num\n",
    "    x = 3\n",
    "    \n",
    "    # x is going through every num upto input num\n",
    "    while x<=num:\n",
    "        for y in range(3,x,2):\n",
    "            if x%y == 0:\n",
    "                x += 2\n",
    "                break\n",
    "        else :\n",
    "            primes.append(x)\n",
    "            x += 2\n",
    "        \n",
    "    print(primes)\n",
    "    return len(primes)"
   ]
  },
  {
   "cell_type": "code",
   "execution_count": 12,
   "id": "0bfeca3d",
   "metadata": {},
   "outputs": [
    {
     "name": "stdout",
     "output_type": "stream",
     "text": [
      "[2, 3, 5, 7, 11, 13, 17, 19, 23, 29, 31, 37, 41, 43, 47, 53, 59, 61, 67, 71, 73, 79, 83, 89, 97]\n"
     ]
    },
    {
     "data": {
      "text/plain": [
       "25"
      ]
     },
     "execution_count": 12,
     "metadata": {},
     "output_type": "execute_result"
    }
   ],
   "source": [
    "count_prime(100)"
   ]
  },
  {
   "cell_type": "code",
   "execution_count": 13,
   "id": "745b4bdb",
   "metadata": {},
   "outputs": [
    {
     "name": "stdout",
     "output_type": "stream",
     "text": [
      "[2, 3, 5, 7]\n"
     ]
    },
    {
     "data": {
      "text/plain": [
       "4"
      ]
     },
     "execution_count": 13,
     "metadata": {},
     "output_type": "execute_result"
    }
   ],
   "source": [
    "count_prime(9)"
   ]
  },
  {
   "cell_type": "code",
   "execution_count": null,
   "id": "878585db",
   "metadata": {},
   "outputs": [],
   "source": []
  },
  {
   "cell_type": "code",
   "execution_count": 17,
   "id": "b64be664",
   "metadata": {},
   "outputs": [],
   "source": [
    "def count_prime(num):\n",
    "    if num<2:\n",
    "        return 0\n",
    "    ### 2 or greater ###\n",
    "    \n",
    "    # store prime no.\n",
    "    primes = [2]\n",
    "    # counter  going upto the input num\n",
    "    x = 3\n",
    "    \n",
    "    # x is going through every num upto input num\n",
    "    while x<=num:\n",
    "        for y in primes:\n",
    "            if x%y == 0:\n",
    "                x += 2\n",
    "                break\n",
    "        else :\n",
    "            primes.append(x)\n",
    "            x += 2\n",
    "        \n",
    "    print(primes)\n",
    "    return len(primes)"
   ]
  },
  {
   "cell_type": "code",
   "execution_count": 18,
   "id": "659f1156",
   "metadata": {},
   "outputs": [
    {
     "name": "stdout",
     "output_type": "stream",
     "text": [
      "[2, 3, 5, 7]\n"
     ]
    },
    {
     "data": {
      "text/plain": [
       "4"
      ]
     },
     "execution_count": 18,
     "metadata": {},
     "output_type": "execute_result"
    }
   ],
   "source": [
    "count_prime(9)"
   ]
  },
  {
   "cell_type": "code",
   "execution_count": 19,
   "id": "6cb3fc9e",
   "metadata": {},
   "outputs": [
    {
     "name": "stdout",
     "output_type": "stream",
     "text": [
      "[2, 3, 5, 7, 11, 13, 17, 19, 23, 29, 31, 37, 41, 43, 47, 53, 59, 61, 67, 71, 73, 79, 83, 89, 97]\n"
     ]
    },
    {
     "data": {
      "text/plain": [
       "25"
      ]
     },
     "execution_count": 19,
     "metadata": {},
     "output_type": "execute_result"
    }
   ],
   "source": [
    "count_prime(100)"
   ]
  },
  {
   "cell_type": "code",
   "execution_count": 20,
   "id": "a62f5a4f",
   "metadata": {},
   "outputs": [
    {
     "name": "stdout",
     "output_type": "stream",
     "text": [
      "[2, 3, 5, 7, 11, 13, 17, 19, 23, 29, 31, 37, 41, 43, 47, 53, 59, 61, 67, 71, 73, 79, 83, 89, 97, 101, 103, 107, 109, 113, 127, 131, 137, 139, 149, 151, 157, 163, 167, 173, 179, 181, 191, 193, 197, 199, 211, 223, 227, 229, 233, 239, 241, 251, 257, 263, 269, 271, 277, 281, 283, 293, 307, 311, 313, 317, 331, 337, 347, 349, 353, 359, 367, 373, 379, 383, 389, 397, 401, 409, 419, 421, 431, 433, 439, 443, 449, 457, 461, 463, 467, 479, 487, 491, 499, 503, 509, 521, 523, 541, 547, 557, 563, 569, 571, 577, 587, 593, 599, 601, 607, 613, 617, 619, 631, 641, 643, 647, 653, 659, 661, 673, 677, 683, 691, 701, 709, 719, 727, 733, 739, 743, 751, 757, 761, 769, 773, 787, 797, 809, 811, 821, 823, 827, 829, 839, 853, 857, 859, 863, 877, 881, 883, 887, 907, 911, 919, 929, 937, 941, 947, 953, 967, 971, 977, 983, 991, 997]\n"
     ]
    },
    {
     "data": {
      "text/plain": [
       "168"
      ]
     },
     "execution_count": 20,
     "metadata": {},
     "output_type": "execute_result"
    }
   ],
   "source": [
    "count_prime(1000)"
   ]
  },
  {
   "cell_type": "code",
   "execution_count": 23,
   "id": "896fe0f6",
   "metadata": {
    "scrolled": false
   },
   "outputs": [
    {
     "name": "stdout",
     "output_type": "stream",
     "text": [
      "[2, 3, 5, 7, 11, 13, 17, 19, 23, 29, 31, 37, 41, 43, 47, 53, 59, 61, 67, 71, 73, 79, 83, 89, 97, 101, 103, 107, 109, 113, 127, 131, 137, 139, 149, 151, 157, 163, 167, 173, 179, 181, 191, 193, 197, 199, 211, 223, 227, 229, 233, 239, 241, 251, 257, 263, 269, 271, 277, 281, 283, 293, 307, 311, 313, 317, 331, 337, 347, 349, 353, 359, 367, 373, 379, 383, 389, 397, 401, 409, 419, 421, 431, 433, 439, 443, 449, 457, 461, 463, 467, 479, 487, 491, 499, 503, 509, 521, 523, 541, 547, 557, 563, 569, 571, 577, 587, 593, 599, 601, 607, 613, 617, 619, 631, 641, 643, 647, 653, 659, 661, 673, 677, 683, 691, 701, 709, 719, 727, 733, 739, 743, 751, 757, 761, 769, 773, 787, 797, 809, 811, 821, 823, 827, 829, 839, 853, 857, 859, 863, 877, 881, 883, 887, 907, 911, 919, 929, 937, 941, 947, 953, 967, 971, 977, 983, 991, 997, 1009, 1013, 1019, 1021, 1031, 1033, 1039, 1049, 1051, 1061, 1063, 1069, 1087, 1091, 1093, 1097, 1103, 1109, 1117, 1123, 1129, 1151, 1153, 1163, 1171, 1181, 1187, 1193, 1201, 1213, 1217, 1223, 1229, 1231, 1237, 1249, 1259, 1277, 1279, 1283, 1289, 1291, 1297, 1301, 1303, 1307, 1319, 1321, 1327, 1361, 1367, 1373, 1381, 1399, 1409, 1423, 1427, 1429, 1433, 1439, 1447, 1451, 1453, 1459, 1471, 1481, 1483, 1487, 1489, 1493, 1499, 1511, 1523, 1531, 1543, 1549, 1553, 1559, 1567, 1571, 1579, 1583, 1597, 1601, 1607, 1609, 1613, 1619, 1621, 1627, 1637, 1657, 1663, 1667, 1669, 1693, 1697, 1699, 1709, 1721, 1723, 1733, 1741, 1747, 1753, 1759, 1777, 1783, 1787, 1789, 1801, 1811, 1823, 1831, 1847, 1861, 1867, 1871, 1873, 1877, 1879, 1889, 1901, 1907, 1913, 1931, 1933, 1949, 1951, 1973, 1979, 1987, 1993, 1997, 1999, 2003, 2011, 2017, 2027, 2029, 2039, 2053, 2063, 2069, 2081, 2083, 2087, 2089, 2099, 2111, 2113, 2129, 2131, 2137, 2141, 2143, 2153, 2161, 2179, 2203, 2207, 2213, 2221, 2237, 2239, 2243, 2251, 2267, 2269, 2273, 2281, 2287, 2293, 2297, 2309, 2311, 2333, 2339, 2341, 2347, 2351, 2357, 2371, 2377, 2381, 2383, 2389, 2393, 2399, 2411, 2417, 2423, 2437, 2441, 2447, 2459, 2467, 2473, 2477, 2503, 2521, 2531, 2539, 2543, 2549, 2551, 2557, 2579, 2591, 2593, 2609, 2617, 2621, 2633, 2647, 2657, 2659, 2663, 2671, 2677, 2683, 2687, 2689, 2693, 2699, 2707, 2711, 2713, 2719, 2729, 2731, 2741, 2749, 2753, 2767, 2777, 2789, 2791, 2797, 2801, 2803, 2819, 2833, 2837, 2843, 2851, 2857, 2861, 2879, 2887, 2897, 2903, 2909, 2917, 2927, 2939, 2953, 2957, 2963, 2969, 2971, 2999, 3001, 3011, 3019, 3023, 3037, 3041, 3049, 3061, 3067, 3079, 3083, 3089, 3109, 3119, 3121, 3137, 3163, 3167, 3169, 3181, 3187, 3191, 3203, 3209, 3217, 3221, 3229, 3251, 3253, 3257, 3259, 3271, 3299, 3301, 3307, 3313, 3319, 3323, 3329, 3331, 3343, 3347, 3359, 3361, 3371, 3373, 3389, 3391, 3407, 3413, 3433, 3449, 3457, 3461, 3463, 3467, 3469, 3491, 3499, 3511, 3517, 3527, 3529, 3533, 3539, 3541, 3547, 3557, 3559, 3571, 3581, 3583, 3593, 3607, 3613, 3617, 3623, 3631, 3637, 3643, 3659, 3671, 3673, 3677, 3691, 3697, 3701, 3709, 3719, 3727, 3733, 3739, 3761, 3767, 3769, 3779, 3793, 3797, 3803, 3821, 3823, 3833, 3847, 3851, 3853, 3863, 3877, 3881, 3889, 3907, 3911, 3917, 3919, 3923, 3929, 3931, 3943, 3947, 3967, 3989, 4001, 4003, 4007, 4013, 4019, 4021, 4027, 4049, 4051, 4057, 4073, 4079, 4091, 4093, 4099, 4111, 4127, 4129, 4133, 4139, 4153, 4157, 4159, 4177, 4201, 4211, 4217, 4219, 4229, 4231, 4241, 4243, 4253, 4259, 4261, 4271, 4273, 4283, 4289, 4297, 4327, 4337, 4339, 4349, 4357, 4363, 4373, 4391, 4397, 4409, 4421, 4423, 4441, 4447, 4451, 4457, 4463, 4481, 4483, 4493, 4507, 4513, 4517, 4519, 4523, 4547, 4549, 4561, 4567, 4583, 4591, 4597, 4603, 4621, 4637, 4639, 4643, 4649, 4651, 4657, 4663, 4673, 4679, 4691, 4703, 4721, 4723, 4729, 4733, 4751, 4759, 4783, 4787, 4789, 4793, 4799, 4801, 4813, 4817, 4831, 4861, 4871, 4877, 4889, 4903, 4909, 4919, 4931, 4933, 4937, 4943, 4951, 4957, 4967, 4969, 4973, 4987, 4993, 4999, 5003, 5009, 5011, 5021, 5023, 5039, 5051, 5059, 5077, 5081, 5087, 5099, 5101, 5107, 5113, 5119, 5147, 5153, 5167, 5171, 5179, 5189, 5197, 5209, 5227, 5231, 5233, 5237, 5261, 5273, 5279, 5281, 5297, 5303, 5309, 5323, 5333, 5347, 5351, 5381, 5387, 5393, 5399, 5407, 5413, 5417, 5419, 5431, 5437, 5441, 5443, 5449, 5471, 5477, 5479, 5483, 5501, 5503, 5507, 5519, 5521, 5527, 5531, 5557, 5563, 5569, 5573, 5581, 5591, 5623, 5639, 5641, 5647, 5651, 5653, 5657, 5659, 5669, 5683, 5689, 5693, 5701, 5711, 5717, 5737, 5741, 5743, 5749, 5779, 5783, 5791, 5801, 5807, 5813, 5821, 5827, 5839, 5843, 5849, 5851, 5857, 5861, 5867, 5869, 5879, 5881, 5897, 5903, 5923, 5927, 5939, 5953, 5981, 5987, 6007, 6011, 6029, 6037, 6043, 6047, 6053, 6067, 6073, 6079, 6089, 6091, 6101, 6113, 6121, 6131, 6133, 6143, 6151, 6163, 6173, 6197, 6199, 6203, 6211, 6217, 6221, 6229, 6247, 6257, 6263, 6269, 6271, 6277, 6287, 6299, 6301, 6311, 6317, 6323, 6329, 6337, 6343, 6353, 6359, 6361, 6367, 6373, 6379, 6389, 6397, 6421, 6427, 6449, 6451, 6469, 6473, 6481, 6491, 6521, 6529, 6547, 6551, 6553, 6563, 6569, 6571, 6577, 6581, 6599, 6607, 6619, 6637, 6653, 6659, 6661, 6673, 6679, 6689, 6691, 6701, 6703, 6709, 6719, 6733, 6737, 6761, 6763, 6779, 6781, 6791, 6793, 6803, 6823, 6827, 6829, 6833, 6841, 6857, 6863, 6869, 6871, 6883, 6899, 6907, 6911, 6917, 6947, 6949, 6959, 6961, 6967, 6971, 6977, 6983, 6991, 6997, 7001, 7013, 7019, 7027, 7039, 7043, 7057, 7069, 7079, 7103, 7109, 7121, 7127, 7129, 7151, 7159, 7177, 7187, 7193, 7207, 7211, 7213, 7219, 7229, 7237, 7243, 7247, 7253, 7283, 7297, 7307, 7309, 7321, 7331, 7333, 7349, 7351, 7369, 7393, 7411, 7417, 7433, 7451, 7457, 7459, 7477, 7481, 7487, 7489, 7499, 7507, 7517, 7523, 7529, 7537, 7541, 7547, 7549, 7559, 7561, 7573, 7577, 7583, 7589, 7591, 7603, 7607, 7621, 7639, 7643, 7649, 7669, 7673, 7681, 7687, 7691, 7699, 7703, 7717, 7723, 7727, 7741, 7753, 7757, 7759, 7789, 7793, 7817, 7823, 7829, 7841, 7853, 7867, 7873, 7877, 7879, 7883, 7901, 7907, 7919, 7927, 7933, 7937, 7949, 7951, 7963, 7993, 8009, 8011, 8017, 8039, 8053, 8059, 8069, 8081, 8087, 8089, 8093, 8101, 8111, 8117, 8123, 8147, 8161, 8167, 8171, 8179, 8191, 8209, 8219, 8221, 8231, 8233, 8237, 8243, 8263, 8269, 8273, 8287, 8291, 8293, 8297, 8311, 8317, 8329, 8353, 8363, 8369, 8377, 8387, 8389, 8419, 8423, 8429, 8431, 8443, 8447, 8461, 8467, 8501, 8513, 8521, 8527, 8537, 8539, 8543, 8563, 8573, 8581, 8597, 8599, 8609, 8623, 8627, 8629, 8641, 8647, 8663, 8669, 8677, 8681, 8689, 8693, 8699, 8707, 8713, 8719, 8731, 8737, 8741, 8747, 8753, 8761, 8779, 8783, 8803, 8807, 8819, 8821, 8831, 8837, 8839, 8849, 8861, 8863, 8867, 8887, 8893, 8923, 8929, 8933, 8941, 8951, 8963, 8969, 8971, 8999, 9001, 9007, 9011, 9013, 9029, 9041, 9043, 9049, 9059, 9067, 9091, 9103, 9109, 9127, 9133, 9137, 9151, 9157, 9161, 9173, 9181, 9187, 9199, 9203, 9209, 9221, 9227, 9239, 9241, 9257, 9277, 9281, 9283, 9293, 9311, 9319, 9323, 9337, 9341, 9343, 9349, 9371, 9377, 9391, 9397, 9403, 9413, 9419, 9421, 9431, 9433, 9437, 9439, 9461, 9463, 9467, 9473, 9479, 9491, 9497, 9511, 9521, 9533, 9539, 9547, 9551, 9587, 9601, 9613, 9619, 9623, 9629, 9631, 9643, 9649, 9661, 9677, 9679, 9689, 9697, 9719, 9721, 9733, 9739, 9743, 9749, 9767, 9769, 9781, 9787, 9791, 9803, 9811, 9817, 9829, 9833, 9839, 9851, 9857, 9859, 9871, 9883, 9887, 9901, 9907, 9923, 9929, 9931, 9941, 9949, 9967, 9973]\n"
     ]
    },
    {
     "data": {
      "text/plain": [
       "1229"
      ]
     },
     "execution_count": 23,
     "metadata": {},
     "output_type": "execute_result"
    }
   ],
   "source": [
    "count_prime(10000)"
   ]
  },
  {
   "cell_type": "code",
   "execution_count": null,
   "id": "edd092ff",
   "metadata": {},
   "outputs": [],
   "source": []
  },
  {
   "cell_type": "markdown",
   "id": "52e1a7e3",
   "metadata": {},
   "source": [
    "# 050 Lambda Expressions Map and Filter Functions"
   ]
  },
  {
   "cell_type": "markdown",
   "id": "e7967817",
   "metadata": {},
   "source": [
    "# Lambda Expression\n",
    "\n",
    "## map and filter"
   ]
  },
  {
   "cell_type": "code",
   "execution_count": 1,
   "id": "42ee1a41",
   "metadata": {},
   "outputs": [],
   "source": [
    "def square(num):\n",
    "    return num**2"
   ]
  },
  {
   "cell_type": "code",
   "execution_count": 2,
   "id": "eb1bbc42",
   "metadata": {},
   "outputs": [],
   "source": [
    "num_list= [1,2,3,4,5]"
   ]
  },
  {
   "cell_type": "code",
   "execution_count": 4,
   "id": "f7107fd9",
   "metadata": {},
   "outputs": [
    {
     "data": {
      "text/plain": [
       "<map at 0x6538220>"
      ]
     },
     "execution_count": 4,
     "metadata": {},
     "output_type": "execute_result"
    }
   ],
   "source": [
    "map(square,num_list)"
   ]
  },
  {
   "cell_type": "code",
   "execution_count": 8,
   "id": "c93f2db4",
   "metadata": {},
   "outputs": [
    {
     "name": "stdout",
     "output_type": "stream",
     "text": [
      "<map object at 0x065350E8>\n"
     ]
    }
   ],
   "source": [
    "print(map(square,num_list))"
   ]
  },
  {
   "cell_type": "code",
   "execution_count": 9,
   "id": "e68d5ea9",
   "metadata": {},
   "outputs": [
    {
     "name": "stdout",
     "output_type": "stream",
     "text": [
      "1\n",
      "4\n",
      "9\n",
      "16\n",
      "25\n"
     ]
    }
   ],
   "source": [
    "for item in map(square,num_list):\n",
    "    print(item)"
   ]
  },
  {
   "cell_type": "code",
   "execution_count": 11,
   "id": "324c5baa",
   "metadata": {},
   "outputs": [
    {
     "name": "stdout",
     "output_type": "stream",
     "text": [
      "1,4,9,16,25,"
     ]
    }
   ],
   "source": [
    "for item in map(square,num_list):\n",
    "    print(item,end=',')"
   ]
  },
  {
   "cell_type": "code",
   "execution_count": 16,
   "id": "7a34f391",
   "metadata": {},
   "outputs": [
    {
     "data": {
      "text/plain": [
       "[1, 4, 9, 16, 25]"
      ]
     },
     "execution_count": 16,
     "metadata": {},
     "output_type": "execute_result"
    }
   ],
   "source": [
    "list(map(square,num_list))"
   ]
  },
  {
   "cell_type": "code",
   "execution_count": 17,
   "id": "cdf891c0",
   "metadata": {},
   "outputs": [
    {
     "name": "stdout",
     "output_type": "stream",
     "text": [
      "[1, 4, 9, 16, 25]\n"
     ]
    }
   ],
   "source": [
    "print(list(map(square,num_list)))"
   ]
  },
  {
   "cell_type": "code",
   "execution_count": null,
   "id": "7b994a22",
   "metadata": {},
   "outputs": [],
   "source": []
  },
  {
   "cell_type": "code",
   "execution_count": 19,
   "id": "f0115698",
   "metadata": {},
   "outputs": [
    {
     "data": {
      "text/plain": [
       "{1, 4, 9, 16, 25}"
      ]
     },
     "execution_count": 19,
     "metadata": {},
     "output_type": "execute_result"
    }
   ],
   "source": [
    "set(map(square,num_list))"
   ]
  },
  {
   "cell_type": "code",
   "execution_count": 20,
   "id": "cb8fd37a",
   "metadata": {},
   "outputs": [
    {
     "name": "stdout",
     "output_type": "stream",
     "text": [
      "{1, 4, 9, 16, 25}\n"
     ]
    }
   ],
   "source": [
    "print(set(map(square,num_list)))"
   ]
  },
  {
   "cell_type": "code",
   "execution_count": 11,
   "id": "b3d4b876",
   "metadata": {},
   "outputs": [],
   "source": [
    "set_of_sqr = set(map(square,num_list))"
   ]
  },
  {
   "cell_type": "code",
   "execution_count": 12,
   "id": "8634e9f0",
   "metadata": {},
   "outputs": [
    {
     "data": {
      "text/plain": [
       "{1, 4, 9, 16, 25}"
      ]
     },
     "execution_count": 12,
     "metadata": {},
     "output_type": "execute_result"
    }
   ],
   "source": [
    "set_of_sqr"
   ]
  },
  {
   "cell_type": "code",
   "execution_count": 13,
   "id": "6dbeca81",
   "metadata": {},
   "outputs": [
    {
     "name": "stdout",
     "output_type": "stream",
     "text": [
      "{1, 4, 9, 16, 25}\n"
     ]
    }
   ],
   "source": [
    "print(set_of_sqr)"
   ]
  },
  {
   "cell_type": "code",
   "execution_count": null,
   "id": "288bca54",
   "metadata": {},
   "outputs": [],
   "source": []
  },
  {
   "cell_type": "code",
   "execution_count": 2,
   "id": "78409712",
   "metadata": {},
   "outputs": [],
   "source": [
    "def square(num):\n",
    "    return num**2"
   ]
  },
  {
   "cell_type": "code",
   "execution_count": 4,
   "id": "a4464eae",
   "metadata": {},
   "outputs": [],
   "source": [
    "num_list= [1,2,3,4,5]"
   ]
  },
  {
   "cell_type": "code",
   "execution_count": 5,
   "id": "a5c9d03b",
   "metadata": {},
   "outputs": [
    {
     "name": "stdout",
     "output_type": "stream",
     "text": [
      "(1, 4, 9, 16, 25)\n"
     ]
    }
   ],
   "source": [
    "print(tuple(map(square,num_list)))"
   ]
  },
  {
   "cell_type": "code",
   "execution_count": 6,
   "id": "c46ee5af",
   "metadata": {},
   "outputs": [
    {
     "name": "stdout",
     "output_type": "stream",
     "text": [
      "(1, 4, 9, 16, 25)\n"
     ]
    }
   ],
   "source": [
    "tuple_of_sqr = print(tuple(map(square,num_list))) "
   ]
  },
  {
   "cell_type": "code",
   "execution_count": 7,
   "id": "cc0923bf",
   "metadata": {},
   "outputs": [],
   "source": [
    "tuple_of_sqr"
   ]
  },
  {
   "cell_type": "code",
   "execution_count": 8,
   "id": "f96ad0bc",
   "metadata": {},
   "outputs": [],
   "source": [
    "tuple_of_sqr = tuple(map(square,num_list))"
   ]
  },
  {
   "cell_type": "code",
   "execution_count": 9,
   "id": "d0c80019",
   "metadata": {},
   "outputs": [
    {
     "data": {
      "text/plain": [
       "(1, 4, 9, 16, 25)"
      ]
     },
     "execution_count": 9,
     "metadata": {},
     "output_type": "execute_result"
    }
   ],
   "source": [
    "tuple_of_sqr"
   ]
  },
  {
   "cell_type": "code",
   "execution_count": null,
   "id": "e10bf994",
   "metadata": {},
   "outputs": [],
   "source": []
  },
  {
   "cell_type": "code",
   "execution_count": 14,
   "id": "7107b5b8",
   "metadata": {},
   "outputs": [
    {
     "data": {
      "text/plain": [
       "'<map object at 0x04BEC778>'"
      ]
     },
     "execution_count": 14,
     "metadata": {},
     "output_type": "execute_result"
    }
   ],
   "source": [
    "str(map(square,num_list))"
   ]
  },
  {
   "cell_type": "code",
   "execution_count": 16,
   "id": "9994682e",
   "metadata": {},
   "outputs": [
    {
     "name": "stdout",
     "output_type": "stream",
     "text": [
      "<map object at 0x03B04568>"
     ]
    }
   ],
   "source": [
    "for item in str(map(square,num_list)):\n",
    "    print(item,end='')"
   ]
  },
  {
   "cell_type": "code",
   "execution_count": null,
   "id": "5ffccb2a",
   "metadata": {},
   "outputs": [],
   "source": []
  },
  {
   "cell_type": "code",
   "execution_count": null,
   "id": "f35d831b",
   "metadata": {},
   "outputs": [],
   "source": []
  },
  {
   "cell_type": "code",
   "execution_count": null,
   "id": "23d1a27a",
   "metadata": {},
   "outputs": [],
   "source": []
  },
  {
   "cell_type": "code",
   "execution_count": null,
   "id": "d242c1e8",
   "metadata": {},
   "outputs": [],
   "source": []
  },
  {
   "cell_type": "code",
   "execution_count": null,
   "id": "560c3b5a",
   "metadata": {},
   "outputs": [],
   "source": []
  },
  {
   "cell_type": "code",
   "execution_count": 29,
   "id": "ad0f42bc",
   "metadata": {},
   "outputs": [],
   "source": [
    "def splicer(mystring):\n",
    "    if len(mystring)%2 == 0:\n",
    "        return \"Even\" \n",
    "    else:\n",
    "        return mystring[0]"
   ]
  },
  {
   "cell_type": "code",
   "execution_count": 30,
   "id": "af01ae64",
   "metadata": {},
   "outputs": [
    {
     "data": {
      "text/plain": [
       "'Even'"
      ]
     },
     "execution_count": 30,
     "metadata": {},
     "output_type": "execute_result"
    }
   ],
   "source": [
    "splicer(\"This is string\")"
   ]
  },
  {
   "cell_type": "code",
   "execution_count": 37,
   "id": "1cd51e03",
   "metadata": {},
   "outputs": [],
   "source": [
    "names = [\"Peter Parker\", 'Tony', 'Thor','Steve']"
   ]
  },
  {
   "cell_type": "code",
   "execution_count": 46,
   "id": "8db84d76",
   "metadata": {},
   "outputs": [
    {
     "data": {
      "text/plain": [
       "['Even', 'Even', 'Even', 'S']"
      ]
     },
     "execution_count": 46,
     "metadata": {},
     "output_type": "execute_result"
    }
   ],
   "source": [
    "list(map(splicer,names))"
   ]
  },
  {
   "cell_type": "code",
   "execution_count": 38,
   "id": "5f629508",
   "metadata": {},
   "outputs": [
    {
     "name": "stdout",
     "output_type": "stream",
     "text": [
      "Even\n",
      "Even\n",
      "Even\n",
      "S\n"
     ]
    }
   ],
   "source": [
    "for item in map(splicer,names):\n",
    "    print(item)"
   ]
  },
  {
   "cell_type": "code",
   "execution_count": 42,
   "id": "c5bde5c4",
   "metadata": {},
   "outputs": [
    {
     "name": "stdout",
     "output_type": "stream",
     "text": [
      "<function splicer at 0x05A89DA8>\n",
      "<function splicer at 0x05A89DA8>\n",
      "<function splicer at 0x05A89DA8>\n",
      "<function splicer at 0x05A89DA8>\n"
     ]
    }
   ],
   "source": [
    "for item in map(splicer,names):\n",
    "    print(splicer)"
   ]
  },
  {
   "cell_type": "code",
   "execution_count": 43,
   "id": "d2025ff1",
   "metadata": {},
   "outputs": [
    {
     "name": "stdout",
     "output_type": "stream",
     "text": [
      "['Peter Parker', 'Tony', 'Thor', 'Steve']\n",
      "['Peter Parker', 'Tony', 'Thor', 'Steve']\n",
      "['Peter Parker', 'Tony', 'Thor', 'Steve']\n",
      "['Peter Parker', 'Tony', 'Thor', 'Steve']\n"
     ]
    }
   ],
   "source": [
    "for item in map(splicer,names):\n",
    "    print(names)"
   ]
  },
  {
   "cell_type": "code",
   "execution_count": null,
   "id": "d3c4beda",
   "metadata": {},
   "outputs": [],
   "source": []
  },
  {
   "cell_type": "code",
   "execution_count": null,
   "id": "f4134db5",
   "metadata": {},
   "outputs": [],
   "source": []
  },
  {
   "cell_type": "markdown",
   "id": "547a9454",
   "metadata": {},
   "source": [
    "## filter"
   ]
  },
  {
   "cell_type": "code",
   "execution_count": 51,
   "id": "7e2f6907",
   "metadata": {},
   "outputs": [],
   "source": [
    "def check_even(num):\n",
    "    return num % 2 == 0"
   ]
  },
  {
   "cell_type": "code",
   "execution_count": 52,
   "id": "036cc9b1",
   "metadata": {},
   "outputs": [
    {
     "data": {
      "text/plain": [
       "False"
      ]
     },
     "execution_count": 52,
     "metadata": {},
     "output_type": "execute_result"
    }
   ],
   "source": [
    "check_even(9)"
   ]
  },
  {
   "cell_type": "code",
   "execution_count": 53,
   "id": "91730eff",
   "metadata": {},
   "outputs": [],
   "source": [
    "mynum=[1,2,3,4,5]"
   ]
  },
  {
   "cell_type": "code",
   "execution_count": 54,
   "id": "a723eb21",
   "metadata": {},
   "outputs": [
    {
     "data": {
      "text/plain": [
       "[False, True, False, True, False]"
      ]
     },
     "execution_count": 54,
     "metadata": {},
     "output_type": "execute_result"
    }
   ],
   "source": [
    "list(map(check_even,mynum))"
   ]
  },
  {
   "cell_type": "code",
   "execution_count": 55,
   "id": "f2197c99",
   "metadata": {},
   "outputs": [
    {
     "data": {
      "text/plain": [
       "<filter at 0x4c2a5f8>"
      ]
     },
     "execution_count": 55,
     "metadata": {},
     "output_type": "execute_result"
    }
   ],
   "source": [
    "filter(check_even,mynum)"
   ]
  },
  {
   "cell_type": "code",
   "execution_count": 56,
   "id": "cca36c12",
   "metadata": {},
   "outputs": [
    {
     "data": {
      "text/plain": [
       "[2, 4]"
      ]
     },
     "execution_count": 56,
     "metadata": {},
     "output_type": "execute_result"
    }
   ],
   "source": [
    "list(filter(check_even,mynum))"
   ]
  },
  {
   "cell_type": "code",
   "execution_count": 57,
   "id": "c3ab0a85",
   "metadata": {
    "scrolled": false
   },
   "outputs": [
    {
     "name": "stdout",
     "output_type": "stream",
     "text": [
      "2\n",
      "4\n"
     ]
    }
   ],
   "source": [
    "for item in filter(check_even,mynum):\n",
    "    print(item)"
   ]
  },
  {
   "cell_type": "code",
   "execution_count": null,
   "id": "c42c47e2",
   "metadata": {},
   "outputs": [],
   "source": []
  },
  {
   "cell_type": "markdown",
   "id": "966ad0ab",
   "metadata": {},
   "source": [
    "### filter"
   ]
  },
  {
   "cell_type": "code",
   "execution_count": 59,
   "id": "0b98f169",
   "metadata": {},
   "outputs": [],
   "source": [
    "my_num = [1,2,3,4,5,6,7,8,9,10]"
   ]
  },
  {
   "cell_type": "code",
   "execution_count": 60,
   "id": "1cb0d385",
   "metadata": {},
   "outputs": [],
   "source": [
    "list_of_even = list(filter(check_even,my_num))"
   ]
  },
  {
   "cell_type": "code",
   "execution_count": 61,
   "id": "b4e759f0",
   "metadata": {
    "scrolled": true
   },
   "outputs": [
    {
     "data": {
      "text/plain": [
       "[2, 4, 6, 8, 10]"
      ]
     },
     "execution_count": 61,
     "metadata": {},
     "output_type": "execute_result"
    }
   ],
   "source": [
    "list_of_even"
   ]
  },
  {
   "cell_type": "markdown",
   "id": "6ddcc923",
   "metadata": {},
   "source": [
    "### map"
   ]
  },
  {
   "cell_type": "code",
   "execution_count": 62,
   "id": "7c63e5df",
   "metadata": {},
   "outputs": [],
   "source": [
    "list_of_even = list(map(check_even,my_num))"
   ]
  },
  {
   "cell_type": "code",
   "execution_count": 63,
   "id": "4b010643",
   "metadata": {},
   "outputs": [
    {
     "data": {
      "text/plain": [
       "[False, True, False, True, False, True, False, True, False, True]"
      ]
     },
     "execution_count": 63,
     "metadata": {},
     "output_type": "execute_result"
    }
   ],
   "source": [
    "list_of_even "
   ]
  },
  {
   "cell_type": "code",
   "execution_count": null,
   "id": "c22f5f94",
   "metadata": {},
   "outputs": [],
   "source": []
  },
  {
   "cell_type": "code",
   "execution_count": null,
   "id": "4d9b4f94",
   "metadata": {},
   "outputs": [],
   "source": []
  },
  {
   "cell_type": "code",
   "execution_count": null,
   "id": "40c822b9",
   "metadata": {},
   "outputs": [],
   "source": []
  },
  {
   "cell_type": "markdown",
   "id": "664344d3",
   "metadata": {},
   "source": [
    "# lambda"
   ]
  },
  {
   "cell_type": "code",
   "execution_count": 95,
   "id": "f99fbd33",
   "metadata": {},
   "outputs": [],
   "source": [
    "def square(n):\n",
    "    return n**2"
   ]
  },
  {
   "cell_type": "code",
   "execution_count": 96,
   "id": "9dcff8cf",
   "metadata": {},
   "outputs": [
    {
     "data": {
      "text/plain": [
       "81"
      ]
     },
     "execution_count": 96,
     "metadata": {},
     "output_type": "execute_result"
    }
   ],
   "source": [
    "square(9)"
   ]
  },
  {
   "cell_type": "code",
   "execution_count": 107,
   "id": "b218e575",
   "metadata": {},
   "outputs": [],
   "source": [
    "def square(n):    return n**2"
   ]
  },
  {
   "cell_type": "code",
   "execution_count": 108,
   "id": "0a6a3cce",
   "metadata": {},
   "outputs": [
    {
     "data": {
      "text/plain": [
       "81"
      ]
     },
     "execution_count": 108,
     "metadata": {},
     "output_type": "execute_result"
    }
   ],
   "source": [
    "square(9)"
   ]
  },
  {
   "cell_type": "code",
   "execution_count": 109,
   "id": "14eee4d2",
   "metadata": {},
   "outputs": [
    {
     "data": {
      "text/plain": [
       "<function __main__.<lambda>(num)>"
      ]
     },
     "execution_count": 109,
     "metadata": {},
     "output_type": "execute_result"
    }
   ],
   "source": [
    "lambda num: num**2"
   ]
  },
  {
   "cell_type": "code",
   "execution_count": 110,
   "id": "4e2835b1",
   "metadata": {},
   "outputs": [
    {
     "name": "stdout",
     "output_type": "stream",
     "text": [
      "<function <lambda> at 0x05A14DA8>\n"
     ]
    }
   ],
   "source": [
    "print(lambda num: num**2)"
   ]
  },
  {
   "cell_type": "code",
   "execution_count": 111,
   "id": "8527dab9",
   "metadata": {},
   "outputs": [],
   "source": [
    "sqr = lambda num: num**2"
   ]
  },
  {
   "cell_type": "code",
   "execution_count": 112,
   "id": "775c382f",
   "metadata": {},
   "outputs": [
    {
     "data": {
      "text/plain": [
       "<function __main__.<lambda>(num)>"
      ]
     },
     "execution_count": 112,
     "metadata": {},
     "output_type": "execute_result"
    }
   ],
   "source": [
    "sqr"
   ]
  },
  {
   "cell_type": "code",
   "execution_count": 113,
   "id": "fa5b9fc5",
   "metadata": {},
   "outputs": [
    {
     "data": {
      "text/plain": [
       "81"
      ]
     },
     "execution_count": 113,
     "metadata": {},
     "output_type": "execute_result"
    }
   ],
   "source": [
    "sqr(9)"
   ]
  },
  {
   "cell_type": "code",
   "execution_count": 114,
   "id": "c8e4a868",
   "metadata": {},
   "outputs": [
    {
     "data": {
      "text/plain": [
       "25"
      ]
     },
     "execution_count": 114,
     "metadata": {},
     "output_type": "execute_result"
    }
   ],
   "source": [
    "sqr(5)"
   ]
  },
  {
   "cell_type": "code",
   "execution_count": 115,
   "id": "58b942cc",
   "metadata": {},
   "outputs": [
    {
     "data": {
      "text/plain": [
       "4"
      ]
     },
     "execution_count": 115,
     "metadata": {},
     "output_type": "execute_result"
    }
   ],
   "source": [
    "square(2)"
   ]
  },
  {
   "cell_type": "code",
   "execution_count": null,
   "id": "a4b62b64",
   "metadata": {},
   "outputs": [],
   "source": []
  },
  {
   "cell_type": "code",
   "execution_count": 20,
   "id": "1b9e37fa",
   "metadata": {},
   "outputs": [],
   "source": [
    "my_nums=[1,2,3,4,5]"
   ]
  },
  {
   "cell_type": "code",
   "execution_count": 122,
   "id": "a88edf08",
   "metadata": {},
   "outputs": [
    {
     "data": {
      "text/plain": [
       "<map at 0x51c23e8>"
      ]
     },
     "execution_count": 122,
     "metadata": {},
     "output_type": "execute_result"
    }
   ],
   "source": [
    "map(lambda num : num**2,my_nums)"
   ]
  },
  {
   "cell_type": "code",
   "execution_count": 123,
   "id": "d497fd39",
   "metadata": {},
   "outputs": [
    {
     "data": {
      "text/plain": [
       "[1, 4, 9, 16, 25]"
      ]
     },
     "execution_count": 123,
     "metadata": {},
     "output_type": "execute_result"
    }
   ],
   "source": [
    "list(map(lambda num : num**2,my_nums))"
   ]
  },
  {
   "cell_type": "code",
   "execution_count": null,
   "id": "4e7fef92",
   "metadata": {},
   "outputs": [],
   "source": []
  },
  {
   "cell_type": "code",
   "execution_count": null,
   "id": "77c3c788",
   "metadata": {},
   "outputs": [],
   "source": []
  },
  {
   "cell_type": "code",
   "execution_count": 26,
   "id": "a37b248e",
   "metadata": {},
   "outputs": [],
   "source": [
    "my_nums = [1,2,3,4,5]"
   ]
  },
  {
   "cell_type": "code",
   "execution_count": 27,
   "id": "2f4df2fe",
   "metadata": {},
   "outputs": [
    {
     "data": {
      "text/plain": [
       "[1, 2, 3, 4, 5]"
      ]
     },
     "execution_count": 27,
     "metadata": {},
     "output_type": "execute_result"
    }
   ],
   "source": [
    "list(filter(lambda num : num**2,my_nums))"
   ]
  },
  {
   "cell_type": "code",
   "execution_count": null,
   "id": "37d9d327",
   "metadata": {},
   "outputs": [],
   "source": []
  },
  {
   "cell_type": "code",
   "execution_count": 124,
   "id": "f8b62f5f",
   "metadata": {
    "scrolled": true
   },
   "outputs": [
    {
     "data": {
      "text/plain": [
       "[2, 4]"
      ]
     },
     "execution_count": 124,
     "metadata": {},
     "output_type": "execute_result"
    }
   ],
   "source": [
    "list(filter(lambda num : num%2 == 0,my_nums))"
   ]
  },
  {
   "cell_type": "markdown",
   "id": "0057a12e",
   "metadata": {},
   "source": [
    " "
   ]
  },
  {
   "cell_type": "code",
   "execution_count": 29,
   "id": "f933b457",
   "metadata": {},
   "outputs": [],
   "source": [
    "names = ['peter parker','tony','thor','steve']"
   ]
  },
  {
   "cell_type": "code",
   "execution_count": 128,
   "id": "ea827a9a",
   "metadata": {},
   "outputs": [
    {
     "data": {
      "text/plain": [
       "['P', 'T', 'T', 'S']"
      ]
     },
     "execution_count": 128,
     "metadata": {},
     "output_type": "execute_result"
    }
   ],
   "source": [
    "list(map(lambda names: names[0],names))"
   ]
  },
  {
   "cell_type": "code",
   "execution_count": 129,
   "id": "1d7232ff",
   "metadata": {},
   "outputs": [
    {
     "data": {
      "text/plain": [
       "['P', 'T', 'T', 'S']"
      ]
     },
     "execution_count": 129,
     "metadata": {},
     "output_type": "execute_result"
    }
   ],
   "source": [
    "list(map(lambda x: x[0],names))"
   ]
  },
  {
   "cell_type": "code",
   "execution_count": 130,
   "id": "3bd44a9c",
   "metadata": {},
   "outputs": [
    {
     "data": {
      "text/plain": [
       "{'P', 'S', 'T'}"
      ]
     },
     "execution_count": 130,
     "metadata": {},
     "output_type": "execute_result"
    }
   ],
   "source": [
    "set(map(lambda names: names[0],names))"
   ]
  },
  {
   "cell_type": "code",
   "execution_count": 131,
   "id": "56547382",
   "metadata": {},
   "outputs": [
    {
     "data": {
      "text/plain": [
       "('P', 'T', 'T', 'S')"
      ]
     },
     "execution_count": 131,
     "metadata": {},
     "output_type": "execute_result"
    }
   ],
   "source": [
    "tuple(map(lambda names: names[0],names))"
   ]
  },
  {
   "cell_type": "code",
   "execution_count": 30,
   "id": "fe283eb6",
   "metadata": {},
   "outputs": [
    {
     "data": {
      "text/plain": [
       "('rekrap retep', 'ynot', 'roht', 'evets')"
      ]
     },
     "execution_count": 30,
     "metadata": {},
     "output_type": "execute_result"
    }
   ],
   "source": [
    "tuple(map(lambda names: names[::-1],names))"
   ]
  },
  {
   "cell_type": "code",
   "execution_count": null,
   "id": "dbac20c7",
   "metadata": {},
   "outputs": [],
   "source": []
  },
  {
   "cell_type": "code",
   "execution_count": null,
   "id": "c62cf7d1",
   "metadata": {},
   "outputs": [],
   "source": []
  },
  {
   "cell_type": "markdown",
   "id": "73a40c8d",
   "metadata": {},
   "source": [
    "# 08 MAR 2022"
   ]
  },
  {
   "cell_type": "markdown",
   "id": "d92f67e0",
   "metadata": {},
   "source": [
    "# 051 Nested Statements and Scope"
   ]
  },
  {
   "cell_type": "markdown",
   "id": "e625a599",
   "metadata": {},
   "source": [
    "## LEGB rule\n",
    "L :- local\n",
    "\n",
    "E :- enclosing function\n",
    "\n",
    "G :- global \n",
    "\n",
    "B :- built-in function"
   ]
  },
  {
   "cell_type": "code",
   "execution_count": 1,
   "id": "9a443dfc",
   "metadata": {},
   "outputs": [],
   "source": [
    "x = 5\n",
    "\n",
    "def printer():\n",
    "    x = 10\n",
    "    return x"
   ]
  },
  {
   "cell_type": "code",
   "execution_count": 2,
   "id": "29624cee",
   "metadata": {},
   "outputs": [
    {
     "name": "stdout",
     "output_type": "stream",
     "text": [
      "5\n"
     ]
    }
   ],
   "source": [
    "print(x)"
   ]
  },
  {
   "cell_type": "code",
   "execution_count": 3,
   "id": "8e6a5b69",
   "metadata": {},
   "outputs": [
    {
     "data": {
      "text/plain": [
       "10"
      ]
     },
     "execution_count": 3,
     "metadata": {},
     "output_type": "execute_result"
    }
   ],
   "source": [
    "printer()"
   ]
  },
  {
   "cell_type": "code",
   "execution_count": null,
   "id": "417538ed",
   "metadata": {},
   "outputs": [],
   "source": []
  },
  {
   "cell_type": "code",
   "execution_count": 4,
   "id": "6c59fa4d",
   "metadata": {},
   "outputs": [
    {
     "data": {
      "text/plain": [
       "<function __main__.<lambda>(num)>"
      ]
     },
     "execution_count": 4,
     "metadata": {},
     "output_type": "execute_result"
    }
   ],
   "source": [
    "# lambda num: num**2"
   ]
  },
  {
   "cell_type": "code",
   "execution_count": 6,
   "id": "bcc36478",
   "metadata": {},
   "outputs": [
    {
     "name": "stdout",
     "output_type": "stream",
     "text": [
      "Hello Peter\n"
     ]
    }
   ],
   "source": [
    "x = 'This is a global string'\n",
    "\n",
    "def greet():\n",
    "    x = 'Peter'\n",
    "    \n",
    "    def hello():\n",
    "        print(\"Hello \"+x)\n",
    "        \n",
    "    hello()\n",
    "\n",
    "greet()"
   ]
  },
  {
   "cell_type": "code",
   "execution_count": 7,
   "id": "fea3d9f1",
   "metadata": {},
   "outputs": [
    {
     "name": "stdout",
     "output_type": "stream",
     "text": [
      "Hello Peter\n"
     ]
    }
   ],
   "source": [
    "greet()"
   ]
  },
  {
   "cell_type": "code",
   "execution_count": 9,
   "id": "bcce1065",
   "metadata": {},
   "outputs": [],
   "source": [
    "# hello() \n",
    "# NameError: name 'hello' is not defined\n",
    "# (since it is defined in another function)"
   ]
  },
  {
   "cell_type": "code",
   "execution_count": null,
   "id": "04b1102b",
   "metadata": {},
   "outputs": [],
   "source": []
  },
  {
   "cell_type": "code",
   "execution_count": 11,
   "id": "0fd7e296",
   "metadata": {},
   "outputs": [],
   "source": [
    "x = 'This is a global string'\n",
    "\n",
    "def greet():\n",
    "    x = 'Peter'\n",
    "    \n",
    "    def hello():\n",
    "        print(\"Hello \"+x)\n",
    "        \n",
    "    hello()"
   ]
  },
  {
   "cell_type": "code",
   "execution_count": 12,
   "id": "cb0013b1",
   "metadata": {},
   "outputs": [
    {
     "name": "stdout",
     "output_type": "stream",
     "text": [
      "Hello Peter\n"
     ]
    }
   ],
   "source": [
    "greet()"
   ]
  },
  {
   "cell_type": "code",
   "execution_count": null,
   "id": "dd7b4735",
   "metadata": {},
   "outputs": [],
   "source": []
  },
  {
   "cell_type": "code",
   "execution_count": 13,
   "id": "d57847db",
   "metadata": {},
   "outputs": [
    {
     "name": "stdout",
     "output_type": "stream",
     "text": [
      "Hello Peter\n"
     ]
    }
   ],
   "source": [
    "# global variable\n",
    "x = 'This is a global string'\n",
    "\n",
    "def greet():\n",
    "    # enclosing function \n",
    "    x = 'Peter'\n",
    "    \n",
    "    def hello():\n",
    "        # local variable\n",
    "        print(\"Hello \"+x)\n",
    "        \n",
    "    hello()\n",
    "    \n",
    "greet()"
   ]
  },
  {
   "cell_type": "code",
   "execution_count": 14,
   "id": "da14cdcc",
   "metadata": {},
   "outputs": [
    {
     "name": "stdout",
     "output_type": "stream",
     "text": [
      "Hello This is a local string\n"
     ]
    }
   ],
   "source": [
    "# global variable\n",
    "x = 'This is a global string'\n",
    "\n",
    "def greet():\n",
    "    # enclosing function \n",
    "    x = 'Peter'\n",
    "    \n",
    "    def hello():\n",
    "        # local variable\n",
    "        x = 'This is a local string'\n",
    "        print(\"Hello \"+x)\n",
    "        \n",
    "    hello()\n",
    "    \n",
    "greet()"
   ]
  },
  {
   "cell_type": "code",
   "execution_count": 15,
   "id": "dca24f82",
   "metadata": {},
   "outputs": [
    {
     "name": "stdout",
     "output_type": "stream",
     "text": [
      "Hello Peter\n"
     ]
    }
   ],
   "source": [
    "# global variable\n",
    "x = 'This is a global string'\n",
    "\n",
    "def greet():\n",
    "    # enclosing function \n",
    "    x = 'Peter'\n",
    "    \n",
    "    def hello():\n",
    "        # local variable\n",
    "#         x = 'This is a local string'\n",
    "        print(\"Hello \"+x)\n",
    "        \n",
    "    hello()\n",
    "    \n",
    "greet()"
   ]
  },
  {
   "cell_type": "code",
   "execution_count": 16,
   "id": "e117d5ff",
   "metadata": {},
   "outputs": [
    {
     "name": "stdout",
     "output_type": "stream",
     "text": [
      "Hello This is a global string\n"
     ]
    }
   ],
   "source": [
    "# global variable\n",
    "x = 'This is a global string'\n",
    "\n",
    "def greet():\n",
    "    # enclosing function \n",
    "#     x = 'Peter'\n",
    "    \n",
    "    def hello():\n",
    "        # local variable\n",
    "#         x = 'This is a local string'\n",
    "        print(\"Hello \"+x)\n",
    "        \n",
    "    hello()\n",
    "    \n",
    "greet()"
   ]
  },
  {
   "cell_type": "code",
   "execution_count": 17,
   "id": "a25b89e4",
   "metadata": {},
   "outputs": [],
   "source": [
    "# global variable\n",
    "x = 'This is a global string'\n",
    "\n",
    "def greet():\n",
    "    # enclosing function \n",
    "#     x = 'Peter'\n",
    "    \n",
    "    def hello():\n",
    "        # local variable\n",
    "#         x = 'This is a local string'\n",
    "        print(\"Hello \"+x)\n",
    "        \n",
    "    hello()"
   ]
  },
  {
   "cell_type": "code",
   "execution_count": 18,
   "id": "537c7f23",
   "metadata": {},
   "outputs": [
    {
     "name": "stdout",
     "output_type": "stream",
     "text": [
      "Hello This is a global string\n"
     ]
    }
   ],
   "source": [
    "greet()"
   ]
  },
  {
   "cell_type": "markdown",
   "id": "adcd5f9e",
   "metadata": {},
   "source": [
    " \n",
    " \n",
    " \n",
    " \n",
    " \n",
    " \n",
    " "
   ]
  },
  {
   "cell_type": "code",
   "execution_count": null,
   "id": "5de429a3",
   "metadata": {},
   "outputs": [],
   "source": []
  },
  {
   "cell_type": "markdown",
   "id": "da26adac",
   "metadata": {},
   "source": [
    "\n",
    "\n",
    "\n",
    "\n"
   ]
  },
  {
   "cell_type": "code",
   "execution_count": 36,
   "id": "e07f35b0",
   "metadata": {},
   "outputs": [],
   "source": [
    "# global variable\n",
    "x = 'This is a global string'\n",
    "\n",
    "def greet():\n",
    "    # enclosing function \n",
    "    x = 'Peter'\n",
    "    \n",
    "    def hello():\n",
    "        # local variable\n",
    "        x = 'This is a local string'\n",
    "        print(\"Hello \"+x)\n",
    "        \n",
    "        def namaste():\n",
    "            x = 'greet-hello-namste'\n",
    "            print(\"Namaste! \"+x)\n",
    "        namaste()\n",
    "        \n",
    "    hello()"
   ]
  },
  {
   "cell_type": "code",
   "execution_count": 37,
   "id": "5f2d933a",
   "metadata": {},
   "outputs": [
    {
     "name": "stdout",
     "output_type": "stream",
     "text": [
      "Hello This is a local string\n",
      "Namaste! greet-hello-namste\n"
     ]
    }
   ],
   "source": [
    "greet()"
   ]
  },
  {
   "cell_type": "code",
   "execution_count": null,
   "id": "048035ef",
   "metadata": {},
   "outputs": [],
   "source": []
  },
  {
   "cell_type": "code",
   "execution_count": 38,
   "id": "2a47633e",
   "metadata": {},
   "outputs": [
    {
     "name": "stdout",
     "output_type": "stream",
     "text": [
      "Hello This is a local string\n",
      "Namaste! greet-hello-namste\n"
     ]
    }
   ],
   "source": [
    "# global variable\n",
    "x = 'This is a global string'\n",
    "\n",
    "def greet():\n",
    "    # enclosing function \n",
    "    x = 'Peter'\n",
    "    \n",
    "    def hello():\n",
    "        # local variable\n",
    "        x = 'This is a local string'\n",
    "        print(\"Hello \"+x)\n",
    "        \n",
    "        def namaste():\n",
    "            x = 'greet-hello-namste'\n",
    "            print(\"Namaste! \"+x)\n",
    "        namaste()\n",
    "        \n",
    "    hello()\n",
    "    \n",
    "greet()"
   ]
  },
  {
   "cell_type": "code",
   "execution_count": null,
   "id": "690cc9a5",
   "metadata": {},
   "outputs": [],
   "source": []
  },
  {
   "cell_type": "code",
   "execution_count": 43,
   "id": "ad28ee5e",
   "metadata": {},
   "outputs": [],
   "source": [
    "# global variable\n",
    "x = 'This is a global string'\n",
    "\n",
    "def greet():\n",
    "    # enclosing function \n",
    "    x = 'Peter'\n",
    "    \n",
    "    def hello():\n",
    "        # local variable\n",
    "        x = 'This is a local string'\n",
    "        print(\"Hello \"+x)\n",
    "        \n",
    "        def namaste():\n",
    "            x = 'greet-hello-namste'\n",
    "            print(\"Namaste! \"+x)\n",
    "        namaste()"
   ]
  },
  {
   "cell_type": "code",
   "execution_count": 45,
   "id": "39221637",
   "metadata": {},
   "outputs": [],
   "source": [
    "greet() #it will not print anything since it need to call hello() first\n",
    "# namaste() is in hello()"
   ]
  },
  {
   "cell_type": "code",
   "execution_count": null,
   "id": "fde57d6c",
   "metadata": {},
   "outputs": [],
   "source": []
  },
  {
   "cell_type": "markdown",
   "id": "6646a18f",
   "metadata": {},
   "source": [
    "# 10 MAR 2022"
   ]
  },
  {
   "cell_type": "code",
   "execution_count": 1,
   "id": "12614e55",
   "metadata": {},
   "outputs": [],
   "source": [
    "x = 10\n",
    "def func(x):\n",
    "    print(f\"x is {x}\");"
   ]
  },
  {
   "cell_type": "code",
   "execution_count": 2,
   "id": "a877c32e",
   "metadata": {},
   "outputs": [
    {
     "name": "stdout",
     "output_type": "stream",
     "text": [
      "x is 10\n"
     ]
    }
   ],
   "source": [
    "func(x)"
   ]
  },
  {
   "cell_type": "code",
   "execution_count": 6,
   "id": "61ec37f6",
   "metadata": {},
   "outputs": [],
   "source": [
    "x = 10\n",
    "def func(x):\n",
    "    print(f\"x is {x}\")\n",
    "    \n",
    "#     Local assignment\n",
    "    x = 20\n",
    "    print(f\"I just LOCALLY chenged x to {x}\")"
   ]
  },
  {
   "cell_type": "code",
   "execution_count": 7,
   "id": "ea4ffbdb",
   "metadata": {},
   "outputs": [
    {
     "name": "stdout",
     "output_type": "stream",
     "text": [
      "x is 10\n",
      "I just LOCALLY chenged x to 20\n"
     ]
    }
   ],
   "source": [
    "func(x)"
   ]
  },
  {
   "cell_type": "markdown",
   "id": "e343e918",
   "metadata": {},
   "source": [
    "## global"
   ]
  },
  {
   "cell_type": "code",
   "execution_count": 10,
   "id": "f092e503",
   "metadata": {},
   "outputs": [],
   "source": [
    "x = 10\n",
    "def func():\n",
    "    global x\n",
    "    print(f\"x is {x}\")\n",
    "    \n",
    "#     Local reassignment on a global variable!\n",
    "    x = \"New Value\"\n",
    "    print(f\"I just LOCALLY chenged global x to {x}\")"
   ]
  },
  {
   "cell_type": "code",
   "execution_count": 11,
   "id": "a1e2b970",
   "metadata": {},
   "outputs": [
    {
     "name": "stdout",
     "output_type": "stream",
     "text": [
      "x is 10\n",
      "I just LOCALLY chenged global x to New Value\n"
     ]
    }
   ],
   "source": [
    "func()"
   ]
  },
  {
   "cell_type": "code",
   "execution_count": 12,
   "id": "8ddd8339",
   "metadata": {},
   "outputs": [
    {
     "name": "stdout",
     "output_type": "stream",
     "text": [
      "New Value\n"
     ]
    }
   ],
   "source": [
    "print(x)"
   ]
  },
  {
   "cell_type": "code",
   "execution_count": null,
   "id": "fe2f24e6",
   "metadata": {},
   "outputs": [],
   "source": []
  },
  {
   "cell_type": "code",
   "execution_count": null,
   "id": "886d3782",
   "metadata": {},
   "outputs": [],
   "source": []
  },
  {
   "cell_type": "code",
   "execution_count": 23,
   "id": "e96e3466",
   "metadata": {},
   "outputs": [],
   "source": [
    "x = 10\n",
    "def func(x):\n",
    "    print(f\"x is {x}\")\n",
    "    \n",
    "#     Local reassignment on a global variable!\n",
    "    x = \"New Value\"\n",
    "    print(f\"I just LOCALLY chenged x to {x}\")\n",
    "    return x"
   ]
  },
  {
   "cell_type": "code",
   "execution_count": 24,
   "id": "0ff951cb",
   "metadata": {},
   "outputs": [
    {
     "name": "stdout",
     "output_type": "stream",
     "text": [
      "10\n"
     ]
    }
   ],
   "source": [
    "print(x)"
   ]
  },
  {
   "cell_type": "code",
   "execution_count": 25,
   "id": "6ae47a6e",
   "metadata": {},
   "outputs": [
    {
     "data": {
      "text/plain": [
       "10"
      ]
     },
     "execution_count": 25,
     "metadata": {},
     "output_type": "execute_result"
    }
   ],
   "source": [
    "x"
   ]
  },
  {
   "cell_type": "code",
   "execution_count": 26,
   "id": "eab840f8",
   "metadata": {},
   "outputs": [
    {
     "name": "stdout",
     "output_type": "stream",
     "text": [
      "x is 10\n",
      "I just LOCALLY chenged x to New Value\n"
     ]
    },
    {
     "data": {
      "text/plain": [
       "'New Value'"
      ]
     },
     "execution_count": 26,
     "metadata": {},
     "output_type": "execute_result"
    }
   ],
   "source": [
    "func(x)"
   ]
  },
  {
   "cell_type": "code",
   "execution_count": 27,
   "id": "c9f67018",
   "metadata": {},
   "outputs": [
    {
     "name": "stdout",
     "output_type": "stream",
     "text": [
      "x is 10\n",
      "I just LOCALLY chenged x to New Value\n"
     ]
    }
   ],
   "source": [
    "x = func(x)"
   ]
  },
  {
   "cell_type": "code",
   "execution_count": 28,
   "id": "a42e487f",
   "metadata": {},
   "outputs": [
    {
     "data": {
      "text/plain": [
       "'New Value'"
      ]
     },
     "execution_count": 28,
     "metadata": {},
     "output_type": "execute_result"
    }
   ],
   "source": [
    "x"
   ]
  },
  {
   "cell_type": "code",
   "execution_count": null,
   "id": "95be68ed",
   "metadata": {},
   "outputs": [],
   "source": []
  },
  {
   "cell_type": "markdown",
   "id": "a22f3653",
   "metadata": {},
   "source": [
    "# 052 - 054 METHODS AND FUNCTIONS H.W. ASSIGNMENT"
   ]
  },
  {
   "cell_type": "code",
   "execution_count": 1,
   "id": "f7e58dab",
   "metadata": {},
   "outputs": [],
   "source": [
    "# VOLUME OF GIVEN SPHERE"
   ]
  },
  {
   "cell_type": "code",
   "execution_count": 2,
   "id": "eb5def44",
   "metadata": {},
   "outputs": [],
   "source": [
    "def vol_sphere(r):\n",
    "    from math import pi\n",
    "    volume_sphere = (4/3) * pi * (r**3)\n",
    "    return volume_sphere"
   ]
  },
  {
   "cell_type": "code",
   "execution_count": 3,
   "id": "6650fb1a",
   "metadata": {},
   "outputs": [
    {
     "data": {
      "text/plain": [
       "268.082573106329"
      ]
     },
     "execution_count": 3,
     "metadata": {},
     "output_type": "execute_result"
    }
   ],
   "source": [
    "vol_sphere(4)"
   ]
  },
  {
   "cell_type": "code",
   "execution_count": null,
   "id": "f6588be5",
   "metadata": {},
   "outputs": [],
   "source": []
  },
  {
   "cell_type": "code",
   "execution_count": null,
   "id": "f64e8d88",
   "metadata": {},
   "outputs": [],
   "source": []
  },
  {
   "cell_type": "code",
   "execution_count": 16,
   "id": "16d822ed",
   "metadata": {},
   "outputs": [],
   "source": [
    "def vol_sphere(r):\n",
    "    from math import pi\n",
    "    print(pi)\n",
    "    volume_sphere = (4/3) * pi * (r**3)\n",
    "    return volume_sphere"
   ]
  },
  {
   "cell_type": "code",
   "execution_count": 17,
   "id": "3eb8b39a",
   "metadata": {},
   "outputs": [
    {
     "name": "stdout",
     "output_type": "stream",
     "text": [
      "3.141592653589793\n"
     ]
    },
    {
     "data": {
      "text/plain": [
       "523.5987755982989"
      ]
     },
     "execution_count": 17,
     "metadata": {},
     "output_type": "execute_result"
    }
   ],
   "source": [
    "vol_sphere(5)"
   ]
  },
  {
   "cell_type": "code",
   "execution_count": 19,
   "id": "ac75ef3d",
   "metadata": {},
   "outputs": [
    {
     "name": "stdout",
     "output_type": "stream",
     "text": [
      "3.141592653589793\n"
     ]
    },
    {
     "data": {
      "text/plain": [
       "4.1887902047863905"
      ]
     },
     "execution_count": 19,
     "metadata": {},
     "output_type": "execute_result"
    }
   ],
   "source": [
    "vol_sphere(1)"
   ]
  },
  {
   "cell_type": "code",
   "execution_count": 20,
   "id": "a44a1c86",
   "metadata": {},
   "outputs": [
    {
     "name": "stdout",
     "output_type": "stream",
     "text": [
      "3.141592653589793\n"
     ]
    },
    {
     "data": {
      "text/plain": [
       "113.09733552923254"
      ]
     },
     "execution_count": 20,
     "metadata": {},
     "output_type": "execute_result"
    }
   ],
   "source": [
    "vol_sphere(3)"
   ]
  },
  {
   "cell_type": "code",
   "execution_count": null,
   "id": "b33642d8",
   "metadata": {},
   "outputs": [],
   "source": []
  },
  {
   "cell_type": "code",
   "execution_count": 41,
   "id": "2ccfaa4c",
   "metadata": {},
   "outputs": [],
   "source": [
    "def vol_sphere(r):\n",
    "    from math import pi\n",
    "    volume_sphere = (4/3) * pi * (r**3)\n",
    "    return volume_sphere"
   ]
  },
  {
   "cell_type": "code",
   "execution_count": 42,
   "id": "4597ecfd",
   "metadata": {},
   "outputs": [
    {
     "data": {
      "text/plain": [
       "33.510321638291124"
      ]
     },
     "execution_count": 42,
     "metadata": {},
     "output_type": "execute_result"
    }
   ],
   "source": [
    "vol_sphere(2)"
   ]
  },
  {
   "cell_type": "code",
   "execution_count": null,
   "id": "b7a2413e",
   "metadata": {},
   "outputs": [],
   "source": []
  },
  {
   "cell_type": "code",
   "execution_count": 99,
   "id": "8a969052",
   "metadata": {},
   "outputs": [],
   "source": [
    "def up_low(s):\n",
    "    up,low=0,0\n",
    "    for char in s:\n",
    "        if(' ' == char):\n",
    "            up = up-1\n",
    "            \n",
    "        if (char == char.upper()):\n",
    "            up = up + 1\n",
    "        else:\n",
    "            low = low + 1\n",
    "    print('uppercase:',up,'\\nlowercase:',low)"
   ]
  },
  {
   "cell_type": "code",
   "execution_count": 100,
   "id": "b91ec8d2",
   "metadata": {},
   "outputs": [
    {
     "name": "stdout",
     "output_type": "stream",
     "text": [
      "uppercase: 9 \n",
      "lowercase: 9\n"
     ]
    }
   ],
   "source": [
    "up_low('lowercase UPPERCASE')"
   ]
  },
  {
   "cell_type": "code",
   "execution_count": null,
   "id": "54c8dd1e",
   "metadata": {},
   "outputs": [],
   "source": []
  },
  {
   "cell_type": "code",
   "execution_count": null,
   "id": "ecabd951",
   "metadata": {},
   "outputs": [],
   "source": []
  },
  {
   "cell_type": "code",
   "execution_count": null,
   "id": "ed524797",
   "metadata": {},
   "outputs": [],
   "source": []
  },
  {
   "cell_type": "code",
   "execution_count": null,
   "id": "bf10384b",
   "metadata": {},
   "outputs": [],
   "source": []
  },
  {
   "cell_type": "code",
   "execution_count": null,
   "id": "35170fef",
   "metadata": {},
   "outputs": [],
   "source": []
  },
  {
   "cell_type": "code",
   "execution_count": null,
   "id": "b2ccc022",
   "metadata": {},
   "outputs": [],
   "source": []
  },
  {
   "cell_type": "code",
   "execution_count": null,
   "id": "94a64262",
   "metadata": {},
   "outputs": [],
   "source": []
  },
  {
   "cell_type": "code",
   "execution_count": 101,
   "id": "4c2d7019",
   "metadata": {},
   "outputs": [],
   "source": [
    "# pangram"
   ]
  },
  {
   "cell_type": "code",
   "execution_count": 109,
   "id": "734fa2a8",
   "metadata": {},
   "outputs": [
    {
     "name": "stdout",
     "output_type": "stream",
     "text": [
      "abcdefghijklmnopqrstuvwxyz\n"
     ]
    }
   ],
   "source": [
    "print(string.ascii_lowercase)"
   ]
  },
  {
   "cell_type": "code",
   "execution_count": 113,
   "id": "d752f06c",
   "metadata": {},
   "outputs": [
    {
     "name": "stdout",
     "output_type": "stream",
     "text": [
      "['a', 'b', 'c', 'd', 'e', 'f', 'g', 'h', 'i', 'j', 'k', 'l', 'm', 'n', 'o', 'p', 'q', 'r', 's', 't', 'u', 'v', 'w', 'x', 'y', 'z']\n"
     ]
    }
   ],
   "source": [
    "print(list(string.ascii_lowercase))"
   ]
  },
  {
   "cell_type": "code",
   "execution_count": 127,
   "id": "f480a538",
   "metadata": {},
   "outputs": [],
   "source": [
    "import string\n",
    "def ispangram(str1,alphabet=string.ascii_lowercase):\n",
    "    alp_list = list(string.ascii_lowercase)\n",
    "    for char in str1:\n",
    "        if char in alp_list:\n",
    "            alp_list.remove(char)\n",
    "    return len(alp_list) == 0"
   ]
  },
  {
   "cell_type": "code",
   "execution_count": 134,
   "id": "329b58bf",
   "metadata": {
    "scrolled": true
   },
   "outputs": [
    {
     "data": {
      "text/plain": [
       "True"
      ]
     },
     "execution_count": 134,
     "metadata": {},
     "output_type": "execute_result"
    }
   ],
   "source": [
    "ispangram('the quick brown fox jumps over the lazy dog')"
   ]
  },
  {
   "cell_type": "code",
   "execution_count": 135,
   "id": "374d32b8",
   "metadata": {},
   "outputs": [
    {
     "data": {
      "text/plain": [
       "True"
      ]
     },
     "execution_count": 135,
     "metadata": {},
     "output_type": "execute_result"
    }
   ],
   "source": [
    "ispangram('The quick brown fox jumps over the lazy dog')"
   ]
  },
  {
   "cell_type": "code",
   "execution_count": 133,
   "id": "1b57af09",
   "metadata": {},
   "outputs": [
    {
     "data": {
      "text/plain": [
       "False"
      ]
     },
     "execution_count": 133,
     "metadata": {},
     "output_type": "execute_result"
    }
   ],
   "source": [
    "ispangram(\"pangram --> consist of all letters in sentences\")"
   ]
  },
  {
   "cell_type": "code",
   "execution_count": 1,
   "id": "9bb10479",
   "metadata": {},
   "outputs": [],
   "source": [
    "import string\n",
    "def ispangram(str1):\n",
    "    alp_list = list(string.ascii_lowercase)\n",
    "    for char in str1:\n",
    "        if char in alp_list:\n",
    "            alp_list.remove(char)\n",
    "    return len(alp_list) == 0"
   ]
  },
  {
   "cell_type": "code",
   "execution_count": 2,
   "id": "aeed4b77",
   "metadata": {},
   "outputs": [
    {
     "data": {
      "text/plain": [
       "True"
      ]
     },
     "execution_count": 2,
     "metadata": {},
     "output_type": "execute_result"
    }
   ],
   "source": [
    "ispangram('The quick brown fox jumps over the lazy dog')"
   ]
  },
  {
   "cell_type": "code",
   "execution_count": 3,
   "id": "85a67851",
   "metadata": {},
   "outputs": [
    {
     "data": {
      "text/plain": [
       "False"
      ]
     },
     "execution_count": 3,
     "metadata": {},
     "output_type": "execute_result"
    }
   ],
   "source": [
    "ispangram(\"pangram --> consist of all letters in sentences\")"
   ]
  },
  {
   "cell_type": "code",
   "execution_count": 4,
   "id": "7cf359a9",
   "metadata": {},
   "outputs": [
    {
     "data": {
      "text/plain": [
       "True"
      ]
     },
     "execution_count": 4,
     "metadata": {},
     "output_type": "execute_result"
    }
   ],
   "source": [
    "ispangram('|||The quick brown fox jumps over the lazy dog|||')"
   ]
  },
  {
   "cell_type": "code",
   "execution_count": null,
   "id": "eb66c60a",
   "metadata": {},
   "outputs": [],
   "source": []
  },
  {
   "cell_type": "markdown",
   "id": "23ab7b96",
   "metadata": {},
   "source": [
    "# 13 MAR 2022"
   ]
  },
  {
   "cell_type": "code",
   "execution_count": 18,
   "id": "a861f348",
   "metadata": {},
   "outputs": [],
   "source": [
    "import string"
   ]
  },
  {
   "cell_type": "code",
   "execution_count": 19,
   "id": "a00af7ff",
   "metadata": {},
   "outputs": [],
   "source": [
    "def up_low(s):\n",
    "    d={'upper':0,'lower':0}\n",
    "    \n",
    "    for c in s:\n",
    "        if c.isupper():\n",
    "            d['upper']+=1\n",
    "        elif c.islower():\n",
    "            s['lower']+=1\n",
    "        else:\n",
    "            pass\n",
    "        \n",
    "    print(\"Original string:\",s)\n",
    "    print(\"No. of uppercase:\",d['upper'])\n",
    "    print(\"No. of lowercase:\",d['lower'])"
   ]
  },
  {
   "cell_type": "code",
   "execution_count": null,
   "id": "87a3f970",
   "metadata": {},
   "outputs": [],
   "source": []
  },
  {
   "cell_type": "code",
   "execution_count": null,
   "id": "99f3d69d",
   "metadata": {},
   "outputs": [],
   "source": []
  },
  {
   "cell_type": "code",
   "execution_count": 21,
   "id": "f9f0c772",
   "metadata": {},
   "outputs": [],
   "source": [
    "def unique_list(s):\n",
    "    x = []\n",
    "    \n",
    "    for c in s:\n",
    "        if c not in x:\n",
    "            x.append(c)\n",
    "\n",
    "    return x "
   ]
  },
  {
   "cell_type": "code",
   "execution_count": 22,
   "id": "2a9b15fa",
   "metadata": {},
   "outputs": [
    {
     "data": {
      "text/plain": [
       "[1, 2, 3, 4, 5, 6, 7, 8, 99, 9]"
      ]
     },
     "execution_count": 22,
     "metadata": {},
     "output_type": "execute_result"
    }
   ],
   "source": [
    "unique_list([1,2,3,2,4,3,2,5,5,5,6,7,8,99,9])"
   ]
  },
  {
   "cell_type": "code",
   "execution_count": null,
   "id": "8ffe1df0",
   "metadata": {},
   "outputs": [],
   "source": []
  },
  {
   "cell_type": "code",
   "execution_count": 27,
   "id": "2c6bc50d",
   "metadata": {},
   "outputs": [],
   "source": [
    "def multiply(numbers):\n",
    "    tot = numbers[0]\n",
    "    for x in numbers:\n",
    "        tot *= x\n",
    "    return tot"
   ]
  },
  {
   "cell_type": "code",
   "execution_count": 33,
   "id": "e51d4f32",
   "metadata": {},
   "outputs": [
    {
     "data": {
      "text/plain": [
       "18"
      ]
     },
     "execution_count": 33,
     "metadata": {},
     "output_type": "execute_result"
    }
   ],
   "source": [
    "multiply([1,2,3,3])"
   ]
  },
  {
   "cell_type": "code",
   "execution_count": null,
   "id": "d27064e5",
   "metadata": {},
   "outputs": [],
   "source": []
  },
  {
   "cell_type": "code",
   "execution_count": 34,
   "id": "700880d2",
   "metadata": {},
   "outputs": [],
   "source": [
    "def palindrome(s):\n",
    "    return s == s[::-1]"
   ]
  },
  {
   "cell_type": "code",
   "execution_count": 35,
   "id": "0fc111ea",
   "metadata": {},
   "outputs": [
    {
     "data": {
      "text/plain": [
       "False"
      ]
     },
     "execution_count": 35,
     "metadata": {},
     "output_type": "execute_result"
    }
   ],
   "source": [
    "palindrome(\"Peter\")"
   ]
  },
  {
   "cell_type": "code",
   "execution_count": 40,
   "id": "af0d403a",
   "metadata": {},
   "outputs": [
    {
     "data": {
      "text/plain": [
       "True"
      ]
     },
     "execution_count": 40,
     "metadata": {},
     "output_type": "execute_result"
    }
   ],
   "source": [
    "palindrome(\"abccba\")"
   ]
  },
  {
   "cell_type": "code",
   "execution_count": null,
   "id": "8851fd65",
   "metadata": {},
   "outputs": [],
   "source": []
  },
  {
   "cell_type": "code",
   "execution_count": 44,
   "id": "91adebc9",
   "metadata": {},
   "outputs": [],
   "source": [
    "import string\n",
    "\n",
    "def ispangram(s,alphabet = string.ascii_lowercase):\n",
    "    alphaset = set(alphabet)\n",
    "    return alphaset <= set(s.lower())"
   ]
  },
  {
   "cell_type": "code",
   "execution_count": 45,
   "id": "33bc4e5b",
   "metadata": {},
   "outputs": [
    {
     "data": {
      "text/plain": [
       "False"
      ]
     },
     "execution_count": 45,
     "metadata": {},
     "output_type": "execute_result"
    }
   ],
   "source": [
    "ispangram(\"df\")"
   ]
  },
  {
   "cell_type": "code",
   "execution_count": 46,
   "id": "a671ec88",
   "metadata": {},
   "outputs": [
    {
     "data": {
      "text/plain": [
       "True"
      ]
     },
     "execution_count": 46,
     "metadata": {},
     "output_type": "execute_result"
    }
   ],
   "source": [
    "ispangram('The quick brown fox jumps over the lazy dog')"
   ]
  },
  {
   "cell_type": "code",
   "execution_count": null,
   "id": "6655f91e",
   "metadata": {},
   "outputs": [],
   "source": []
  },
  {
   "cell_type": "code",
   "execution_count": 47,
   "id": "f0ccba5e",
   "metadata": {},
   "outputs": [],
   "source": [
    "import string\n",
    "\n",
    "def ispangram(s):\n",
    "    alphaset = set(string.ascii_lowercase)\n",
    "    return alphaset <= set(s.lower())"
   ]
  },
  {
   "cell_type": "code",
   "execution_count": 48,
   "id": "16d10aa1",
   "metadata": {},
   "outputs": [
    {
     "data": {
      "text/plain": [
       "False"
      ]
     },
     "execution_count": 48,
     "metadata": {},
     "output_type": "execute_result"
    }
   ],
   "source": [
    "ispangram('The quick ')"
   ]
  },
  {
   "cell_type": "code",
   "execution_count": 49,
   "id": "b2684cc2",
   "metadata": {},
   "outputs": [
    {
     "data": {
      "text/plain": [
       "True"
      ]
     },
     "execution_count": 49,
     "metadata": {},
     "output_type": "execute_result"
    }
   ],
   "source": [
    "ispangram('The quick brown fox jumps over the lazy dog')"
   ]
  },
  {
   "cell_type": "code",
   "execution_count": 50,
   "id": "981e4eeb",
   "metadata": {},
   "outputs": [
    {
     "data": {
      "text/plain": [
       "True"
      ]
     },
     "execution_count": 50,
     "metadata": {},
     "output_type": "execute_result"
    }
   ],
   "source": [
    "ispangram('The quick brown fox jumps over the lazy dog jgdskjhdsgkj#@%')"
   ]
  },
  {
   "cell_type": "code",
   "execution_count": null,
   "id": "59f5e698",
   "metadata": {},
   "outputs": [],
   "source": []
  }
 ],
 "metadata": {
  "kernelspec": {
   "display_name": "Python 3 (ipykernel)",
   "language": "python",
   "name": "python3"
  },
  "language_info": {
   "codemirror_mode": {
    "name": "ipython",
    "version": 3
   },
   "file_extension": ".py",
   "mimetype": "text/x-python",
   "name": "python",
   "nbconvert_exporter": "python",
   "pygments_lexer": "ipython3",
   "version": "3.8.6"
  }
 },
 "nbformat": 4,
 "nbformat_minor": 5
}
