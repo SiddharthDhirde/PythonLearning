{
 "cells": [
  {
   "cell_type": "code",
   "execution_count": 1,
   "id": "76bc80f4",
   "metadata": {},
   "outputs": [],
   "source": [
    "#Om namah shivay\n"
   ]
  },
  {
   "cell_type": "markdown",
   "id": "d2b80eff",
   "metadata": {},
   "source": [
    "# PYTHON BOOTCAMP\n",
    "# BY JOSE PORTILLA (PIERIAN DATA)\n",
    "## DATE:- 13TH JAN 2022\n",
    "\n",
    "## LET'S BEGIN THE ULTIMATE JOURNEY\n",
    "\n",
    "\n",
    "# 03rd_Folder PYTHON OBJECTS AND DATA STRUCTURES BASICS\n",
    "\n",
    "# PYTHON OBJECTS AND DATA STRUCTURES BASICS\n"
   ]
  },
  {
   "cell_type": "markdown",
   "id": "d473fe04",
   "metadata": {},
   "source": [
    "#  IN THIS FILE :-\n",
    "# 012 NUMBERS - 027 BOOLEANS  \n",
    "# NEXT FILE :- PyJOSE2nd"
   ]
  },
  {
   "cell_type": "markdown",
   "id": "27ce4e86",
   "metadata": {},
   "source": [
    "## 012.NUMBERS"
   ]
  },
  {
   "cell_type": "code",
   "execution_count": 2,
   "id": "08f026b2",
   "metadata": {},
   "outputs": [
    {
     "data": {
      "text/plain": [
       "6"
      ]
     },
     "execution_count": 2,
     "metadata": {},
     "output_type": "execute_result"
    }
   ],
   "source": [
    "3*2"
   ]
  },
  {
   "cell_type": "code",
   "execution_count": 3,
   "id": "14a0915d",
   "metadata": {},
   "outputs": [
    {
     "data": {
      "text/plain": [
       "7"
      ]
     },
     "execution_count": 3,
     "metadata": {},
     "output_type": "execute_result"
    }
   ],
   "source": [
    "4+3\n"
   ]
  },
  {
   "cell_type": "code",
   "execution_count": 4,
   "id": "be959024",
   "metadata": {},
   "outputs": [
    {
     "data": {
      "text/plain": [
       "1.0"
      ]
     },
     "execution_count": 4,
     "metadata": {},
     "output_type": "execute_result"
    }
   ],
   "source": [
    "3/3\n"
   ]
  },
  {
   "cell_type": "code",
   "execution_count": 5,
   "id": "07148a93",
   "metadata": {},
   "outputs": [
    {
     "data": {
      "text/plain": [
       "2.5"
      ]
     },
     "execution_count": 5,
     "metadata": {},
     "output_type": "execute_result"
    }
   ],
   "source": [
    "5/2"
   ]
  },
  {
   "cell_type": "markdown",
   "id": "7e96b8af",
   "metadata": {},
   "source": [
    "# modulo or \"Mod\" operator"
   ]
  },
  {
   "cell_type": "code",
   "execution_count": 6,
   "id": "eec47a84",
   "metadata": {},
   "outputs": [
    {
     "data": {
      "text/plain": [
       "1.25"
      ]
     },
     "execution_count": 6,
     "metadata": {},
     "output_type": "execute_result"
    }
   ],
   "source": [
    "5/4\n"
   ]
  },
  {
   "cell_type": "code",
   "execution_count": 7,
   "id": "1d4e4431",
   "metadata": {},
   "outputs": [
    {
     "data": {
      "text/plain": [
       "1"
      ]
     },
     "execution_count": 7,
     "metadata": {},
     "output_type": "execute_result"
    }
   ],
   "source": [
    "5%4 ''' % is mod operator \n",
    "        and it just return remainder'''"
   ]
  },
  {
   "cell_type": "code",
   "execution_count": 8,
   "id": "e1581a25",
   "metadata": {
    "scrolled": true
   },
   "outputs": [
    {
     "data": {
      "text/plain": [
       "0"
      ]
     },
     "execution_count": 8,
     "metadata": {},
     "output_type": "execute_result"
    }
   ],
   "source": [
    "6%2"
   ]
  },
  {
   "cell_type": "code",
   "execution_count": 9,
   "id": "d17a376c",
   "metadata": {},
   "outputs": [
    {
     "data": {
      "text/plain": [
       "8"
      ]
     },
     "execution_count": 9,
     "metadata": {},
     "output_type": "execute_result"
    }
   ],
   "source": [
    "2**3 #two times ** is just represents power of 2"
   ]
  },
  {
   "cell_type": "code",
   "execution_count": 10,
   "id": "3527c851",
   "metadata": {},
   "outputs": [
    {
     "data": {
      "text/plain": [
       "16"
      ]
     },
     "execution_count": 10,
     "metadata": {},
     "output_type": "execute_result"
    }
   ],
   "source": [
    "2**4\n"
   ]
  },
  {
   "cell_type": "code",
   "execution_count": 11,
   "id": "7fa72ce7",
   "metadata": {},
   "outputs": [
    {
     "data": {
      "text/plain": [
       "125"
      ]
     },
     "execution_count": 11,
     "metadata": {},
     "output_type": "execute_result"
    }
   ],
   "source": [
    "5**3\n"
   ]
  },
  {
   "cell_type": "code",
   "execution_count": 12,
   "id": "83e5c36a",
   "metadata": {},
   "outputs": [
    {
     "data": {
      "text/plain": [
       "1"
      ]
     },
     "execution_count": 12,
     "metadata": {},
     "output_type": "execute_result"
    }
   ],
   "source": [
    "5**0"
   ]
  },
  {
   "cell_type": "code",
   "execution_count": 13,
   "id": "d3eaafad",
   "metadata": {},
   "outputs": [
    {
     "data": {
      "text/plain": [
       "0"
      ]
     },
     "execution_count": 13,
     "metadata": {},
     "output_type": "execute_result"
    }
   ],
   "source": [
    "0**4"
   ]
  },
  {
   "cell_type": "code",
   "execution_count": 14,
   "id": "6bb9bae4",
   "metadata": {},
   "outputs": [
    {
     "data": {
      "text/plain": [
       "1"
      ]
     },
     "execution_count": 14,
     "metadata": {},
     "output_type": "execute_result"
    }
   ],
   "source": [
    "0**0"
   ]
  },
  {
   "cell_type": "code",
   "execution_count": 16,
   "id": "5223bae1",
   "metadata": {},
   "outputs": [
    {
     "data": {
      "text/plain": [
       "20"
      ]
     },
     "execution_count": 16,
     "metadata": {},
     "output_type": "execute_result"
    }
   ],
   "source": [
    "2**3 + 3*4 # python is following bodmas rule"
   ]
  },
  {
   "cell_type": "code",
   "execution_count": 17,
   "id": "64d251cc",
   "metadata": {},
   "outputs": [
    {
     "data": {
      "text/plain": [
       "44"
      ]
     },
     "execution_count": 17,
     "metadata": {},
     "output_type": "execute_result"
    }
   ],
   "source": [
    "(2**3 + 3)*4 "
   ]
  },
  {
   "cell_type": "code",
   "execution_count": 1,
   "id": "09a2d622",
   "metadata": {},
   "outputs": [
    {
     "data": {
      "text/plain": [
       "14641"
      ]
     },
     "execution_count": 1,
     "metadata": {},
     "output_type": "execute_result"
    }
   ],
   "source": [
    "(2**3 + 3)**4"
   ]
  },
  {
   "cell_type": "markdown",
   "id": "72eef294",
   "metadata": {},
   "source": [
    "## 014. VARIABLE ASSIGNMENTS"
   ]
  },
  {
   "cell_type": "code",
   "execution_count": 2,
   "id": "d629e414",
   "metadata": {},
   "outputs": [],
   "source": [
    "# python supports dynamic typing"
   ]
  },
  {
   "cell_type": "code",
   "execution_count": 3,
   "id": "5374002e",
   "metadata": {},
   "outputs": [],
   "source": [
    "a=5"
   ]
  },
  {
   "cell_type": "code",
   "execution_count": 4,
   "id": "a4cb548b",
   "metadata": {},
   "outputs": [
    {
     "data": {
      "text/plain": [
       "5"
      ]
     },
     "execution_count": 4,
     "metadata": {},
     "output_type": "execute_result"
    }
   ],
   "source": [
    "a"
   ]
  },
  {
   "cell_type": "code",
   "execution_count": null,
   "id": "eccb8ea7",
   "metadata": {},
   "outputs": [],
   "source": [
    "a"
   ]
  },
  {
   "cell_type": "code",
   "execution_count": 1,
   "id": "6d35c823",
   "metadata": {},
   "outputs": [],
   "source": [
    "a=10"
   ]
  },
  {
   "cell_type": "code",
   "execution_count": 2,
   "id": "264ba04d",
   "metadata": {},
   "outputs": [
    {
     "data": {
      "text/plain": [
       "10"
      ]
     },
     "execution_count": 2,
     "metadata": {},
     "output_type": "execute_result"
    }
   ],
   "source": [
    "a"
   ]
  },
  {
   "cell_type": "code",
   "execution_count": 3,
   "id": "a3ab190b",
   "metadata": {},
   "outputs": [
    {
     "data": {
      "text/plain": [
       "20"
      ]
     },
     "execution_count": 3,
     "metadata": {},
     "output_type": "execute_result"
    }
   ],
   "source": [
    "a+a"
   ]
  },
  {
   "cell_type": "code",
   "execution_count": 10,
   "id": "adcbc7f2",
   "metadata": {},
   "outputs": [],
   "source": [
    "a=a+a#run cell over and over"
   ]
  },
  {
   "cell_type": "code",
   "execution_count": 11,
   "id": "84f08d0b",
   "metadata": {},
   "outputs": [
    {
     "data": {
      "text/plain": [
       "160"
      ]
     },
     "execution_count": 11,
     "metadata": {},
     "output_type": "execute_result"
    }
   ],
   "source": [
    "a\n"
   ]
  },
  {
   "cell_type": "code",
   "execution_count": 14,
   "id": "b257a7fb",
   "metadata": {},
   "outputs": [
    {
     "data": {
      "text/plain": [
       "160"
      ]
     },
     "execution_count": 14,
     "metadata": {},
     "output_type": "execute_result"
    }
   ],
   "source": [
    "a"
   ]
  },
  {
   "cell_type": "code",
   "execution_count": 15,
   "id": "a61c6bf0",
   "metadata": {},
   "outputs": [
    {
     "data": {
      "text/plain": [
       "int"
      ]
     },
     "execution_count": 15,
     "metadata": {},
     "output_type": "execute_result"
    }
   ],
   "source": [
    "type(a)"
   ]
  },
  {
   "cell_type": "code",
   "execution_count": 19,
   "id": "b7466662",
   "metadata": {},
   "outputs": [],
   "source": [
    "a=32.3"
   ]
  },
  {
   "cell_type": "code",
   "execution_count": 20,
   "id": "4df4fed1",
   "metadata": {},
   "outputs": [
    {
     "data": {
      "text/plain": [
       "float"
      ]
     },
     "execution_count": 20,
     "metadata": {},
     "output_type": "execute_result"
    }
   ],
   "source": [
    "type(a)"
   ]
  },
  {
   "cell_type": "code",
   "execution_count": 21,
   "id": "0253d795",
   "metadata": {},
   "outputs": [
    {
     "data": {
      "text/plain": [
       "float"
      ]
     },
     "execution_count": 21,
     "metadata": {},
     "output_type": "execute_result"
    }
   ],
   "source": [
    "type(a)"
   ]
  },
  {
   "cell_type": "code",
   "execution_count": 22,
   "id": "2420bc14",
   "metadata": {},
   "outputs": [],
   "source": [
    "int = 3# int is a special keyword so avoid using it"
   ]
  },
  {
   "cell_type": "code",
   "execution_count": 23,
   "id": "19f1e187",
   "metadata": {},
   "outputs": [
    {
     "data": {
      "text/plain": [
       "3"
      ]
     },
     "execution_count": 23,
     "metadata": {},
     "output_type": "execute_result"
    }
   ],
   "source": [
    "int"
   ]
  },
  {
   "cell_type": "code",
   "execution_count": 24,
   "id": "e370f817",
   "metadata": {},
   "outputs": [
    {
     "data": {
      "text/plain": [
       "int"
      ]
     },
     "execution_count": 24,
     "metadata": {},
     "output_type": "execute_result"
    }
   ],
   "source": [
    "type(int)"
   ]
  },
  {
   "cell_type": "code",
   "execution_count": 26,
   "id": "f884a99e",
   "metadata": {},
   "outputs": [],
   "source": [
    "my_income = 100\n",
    "\n",
    "tax_rate=0.1\n",
    "\n",
    "tax=my_income * tax_rate"
   ]
  },
  {
   "cell_type": "code",
   "execution_count": 27,
   "id": "e822bc48",
   "metadata": {},
   "outputs": [
    {
     "data": {
      "text/plain": [
       "10.0"
      ]
     },
     "execution_count": 27,
     "metadata": {},
     "output_type": "execute_result"
    }
   ],
   "source": [
    "tax"
   ]
  },
  {
   "cell_type": "markdown",
   "id": "f3319e06",
   "metadata": {},
   "source": [
    "# 015 STRINGS (indexing and slicing) 16th Jan 2022"
   ]
  },
  {
   "cell_type": "code",
   "execution_count": 31,
   "id": "536e0455",
   "metadata": {},
   "outputs": [
    {
     "data": {
      "text/plain": [
       "'hello'"
      ]
     },
     "execution_count": 31,
     "metadata": {},
     "output_type": "execute_result"
    }
   ],
   "source": [
    "\"hello\""
   ]
  },
  {
   "cell_type": "code",
   "execution_count": 32,
   "id": "323cb599",
   "metadata": {},
   "outputs": [
    {
     "data": {
      "text/plain": [
       "'hello'"
      ]
     },
     "execution_count": 32,
     "metadata": {},
     "output_type": "execute_result"
    }
   ],
   "source": [
    "'hello'"
   ]
  },
  {
   "cell_type": "code",
   "execution_count": 33,
   "id": "55fa042f",
   "metadata": {},
   "outputs": [
    {
     "name": "stdout",
     "output_type": "stream",
     "text": [
      "hello\n"
     ]
    }
   ],
   "source": [
    "print(\"hello\")"
   ]
  },
  {
   "cell_type": "code",
   "execution_count": 34,
   "id": "fef0947e",
   "metadata": {},
   "outputs": [],
   "source": [
    "a=\"I am Iron Man\""
   ]
  },
  {
   "cell_type": "code",
   "execution_count": 35,
   "id": "3c44e31b",
   "metadata": {},
   "outputs": [
    {
     "name": "stdout",
     "output_type": "stream",
     "text": [
      "I am Iron Man\n"
     ]
    }
   ],
   "source": [
    "print(a)"
   ]
  },
  {
   "cell_type": "code",
   "execution_count": 36,
   "id": "6e8a798e",
   "metadata": {},
   "outputs": [
    {
     "data": {
      "text/plain": [
       "str"
      ]
     },
     "execution_count": 36,
     "metadata": {},
     "output_type": "execute_result"
    }
   ],
   "source": [
    "type(a)"
   ]
  },
  {
   "cell_type": "code",
   "execution_count": 37,
   "id": "a776f7de",
   "metadata": {},
   "outputs": [
    {
     "data": {
      "text/plain": [
       "'peter parker'"
      ]
     },
     "execution_count": 37,
     "metadata": {},
     "output_type": "execute_result"
    }
   ],
   "source": [
    "\"spidey\"\n",
    "\"peter parker\""
   ]
  },
  {
   "cell_type": "code",
   "execution_count": 38,
   "id": "cedaf545",
   "metadata": {},
   "outputs": [
    {
     "name": "stdout",
     "output_type": "stream",
     "text": [
      "spidey\n",
      "peter parker\n"
     ]
    }
   ],
   "source": [
    "print(\"spidey\")\n",
    "print('peter parker')"
   ]
  },
  {
   "cell_type": "code",
   "execution_count": 39,
   "id": "e16b8d51",
   "metadata": {},
   "outputs": [
    {
     "name": "stdout",
     "output_type": "stream",
     "text": [
      "peter \n",
      "parker\n"
     ]
    }
   ],
   "source": [
    "print(\"peter \\nparker\")"
   ]
  },
  {
   "cell_type": "code",
   "execution_count": 40,
   "id": "1e4a0e80",
   "metadata": {},
   "outputs": [
    {
     "name": "stdout",
     "output_type": "stream",
     "text": [
      "peter \tparker\n"
     ]
    }
   ],
   "source": [
    "print('peter \\tparker')"
   ]
  },
  {
   "cell_type": "code",
   "execution_count": 41,
   "id": "576bc932",
   "metadata": {},
   "outputs": [
    {
     "data": {
      "text/plain": [
       "12"
      ]
     },
     "execution_count": 41,
     "metadata": {},
     "output_type": "execute_result"
    }
   ],
   "source": [
    "len(\"peter parker\")"
   ]
  },
  {
   "cell_type": "code",
   "execution_count": 42,
   "id": "7d921350",
   "metadata": {},
   "outputs": [
    {
     "data": {
      "text/plain": [
       "6"
      ]
     },
     "execution_count": 42,
     "metadata": {},
     "output_type": "execute_result"
    }
   ],
   "source": [
    "len(\"spidey\")"
   ]
  },
  {
   "cell_type": "code",
   "execution_count": 43,
   "id": "18fcd224",
   "metadata": {},
   "outputs": [
    {
     "data": {
      "text/plain": [
       "13"
      ]
     },
     "execution_count": 43,
     "metadata": {},
     "output_type": "execute_result"
    }
   ],
   "source": [
    "len(a)"
   ]
  },
  {
   "cell_type": "code",
   "execution_count": 44,
   "id": "9652aa9f",
   "metadata": {},
   "outputs": [],
   "source": [
    "# lets start string indexing\n",
    "mystring=\"peter spidey\""
   ]
  },
  {
   "cell_type": "code",
   "execution_count": 45,
   "id": "ae19609d",
   "metadata": {},
   "outputs": [
    {
     "data": {
      "text/plain": [
       "'p'"
      ]
     },
     "execution_count": 45,
     "metadata": {},
     "output_type": "execute_result"
    }
   ],
   "source": [
    "mystring[0]"
   ]
  },
  {
   "cell_type": "code",
   "execution_count": 46,
   "id": "7dc0e64c",
   "metadata": {},
   "outputs": [
    {
     "data": {
      "text/plain": [
       "'d'"
      ]
     },
     "execution_count": 46,
     "metadata": {},
     "output_type": "execute_result"
    }
   ],
   "source": [
    "mystring[9]"
   ]
  },
  {
   "cell_type": "code",
   "execution_count": 47,
   "id": "a60b3ac3",
   "metadata": {},
   "outputs": [
    {
     "data": {
      "text/plain": [
       "'y'"
      ]
     },
     "execution_count": 47,
     "metadata": {},
     "output_type": "execute_result"
    }
   ],
   "source": [
    "mystring[11]"
   ]
  },
  {
   "cell_type": "code",
   "execution_count": 48,
   "id": "11137302",
   "metadata": {},
   "outputs": [
    {
     "data": {
      "text/plain": [
       "'y'"
      ]
     },
     "execution_count": 48,
     "metadata": {},
     "output_type": "execute_result"
    }
   ],
   "source": [
    "mystring[-1]"
   ]
  },
  {
   "cell_type": "code",
   "execution_count": 49,
   "id": "d976081f",
   "metadata": {},
   "outputs": [
    {
     "data": {
      "text/plain": [
       "'e'"
      ]
     },
     "execution_count": 49,
     "metadata": {},
     "output_type": "execute_result"
    }
   ],
   "source": [
    "mystring[-11]"
   ]
  },
  {
   "cell_type": "code",
   "execution_count": 50,
   "id": "7b083b3e",
   "metadata": {},
   "outputs": [
    {
     "data": {
      "text/plain": [
       "'p'"
      ]
     },
     "execution_count": 50,
     "metadata": {},
     "output_type": "execute_result"
    }
   ],
   "source": [
    "mystring[-12]"
   ]
  },
  {
   "cell_type": "code",
   "execution_count": 54,
   "id": "7657c3a3",
   "metadata": {},
   "outputs": [],
   "source": [
    "#mystring[-13] #string index out of range so errror will occur "
   ]
  },
  {
   "cell_type": "code",
   "execution_count": 56,
   "id": "9336e51e",
   "metadata": {},
   "outputs": [],
   "source": [
    "#mystring[13]"
   ]
  },
  {
   "cell_type": "code",
   "execution_count": 1,
   "id": "d3c70d59",
   "metadata": {},
   "outputs": [],
   "source": [
    "ms=\"hello world\""
   ]
  },
  {
   "cell_type": "code",
   "execution_count": 2,
   "id": "c25b9e4e",
   "metadata": {},
   "outputs": [
    {
     "data": {
      "text/plain": [
       "'hello world'"
      ]
     },
     "execution_count": 2,
     "metadata": {},
     "output_type": "execute_result"
    }
   ],
   "source": [
    "ms"
   ]
  },
  {
   "cell_type": "code",
   "execution_count": 5,
   "id": "831d8ef5",
   "metadata": {},
   "outputs": [
    {
     "data": {
      "text/plain": [
       "'ello world'"
      ]
     },
     "execution_count": 5,
     "metadata": {},
     "output_type": "execute_result"
    }
   ],
   "source": [
    "#SLICING\n",
    "ms[1:]"
   ]
  },
  {
   "cell_type": "code",
   "execution_count": 6,
   "id": "7dceb26b",
   "metadata": {},
   "outputs": [
    {
     "data": {
      "text/plain": [
       "'hello worl'"
      ]
     },
     "execution_count": 6,
     "metadata": {},
     "output_type": "execute_result"
    }
   ],
   "source": [
    "ms[:-1]"
   ]
  },
  {
   "cell_type": "code",
   "execution_count": 7,
   "id": "b7c3b450",
   "metadata": {},
   "outputs": [
    {
     "data": {
      "text/plain": [
       "'hello world'"
      ]
     },
     "execution_count": 7,
     "metadata": {},
     "output_type": "execute_result"
    }
   ],
   "source": [
    "ms"
   ]
  },
  {
   "cell_type": "code",
   "execution_count": 9,
   "id": "4d13272d",
   "metadata": {},
   "outputs": [
    {
     "data": {
      "text/plain": [
       "'hello world'"
      ]
     },
     "execution_count": 9,
     "metadata": {},
     "output_type": "execute_result"
    }
   ],
   "source": [
    "ms[:]"
   ]
  },
  {
   "cell_type": "code",
   "execution_count": 13,
   "id": "5d8fa0c9",
   "metadata": {},
   "outputs": [
    {
     "name": "stdout",
     "output_type": "stream",
     "text": [
      "\n"
     ]
    }
   ],
   "source": [
    "print(ms[:0])"
   ]
  },
  {
   "cell_type": "code",
   "execution_count": 14,
   "id": "d7630aa2",
   "metadata": {},
   "outputs": [
    {
     "name": "stdout",
     "output_type": "stream",
     "text": [
      "d\n"
     ]
    }
   ],
   "source": [
    "print(ms[-1:])"
   ]
  },
  {
   "cell_type": "code",
   "execution_count": 15,
   "id": "a25c11b2",
   "metadata": {},
   "outputs": [],
   "source": [
    "s=\"abcdefghijk\""
   ]
  },
  {
   "cell_type": "code",
   "execution_count": 16,
   "id": "a292af76",
   "metadata": {},
   "outputs": [
    {
     "data": {
      "text/plain": [
       "'abcdefghijk'"
      ]
     },
     "execution_count": 16,
     "metadata": {},
     "output_type": "execute_result"
    }
   ],
   "source": [
    "s"
   ]
  },
  {
   "cell_type": "code",
   "execution_count": 17,
   "id": "50b566bc",
   "metadata": {},
   "outputs": [
    {
     "name": "stdout",
     "output_type": "stream",
     "text": [
      "abc\n"
     ]
    }
   ],
   "source": [
    "print(s[:3])"
   ]
  },
  {
   "cell_type": "code",
   "execution_count": 19,
   "id": "6a164bfc",
   "metadata": {},
   "outputs": [
    {
     "name": "stdout",
     "output_type": "stream",
     "text": [
      "defghijk\n"
     ]
    }
   ],
   "source": [
    "print(s[3:])"
   ]
  },
  {
   "cell_type": "code",
   "execution_count": 22,
   "id": "e65346c2",
   "metadata": {},
   "outputs": [
    {
     "name": "stdout",
     "output_type": "stream",
     "text": [
      "c\n"
     ]
    }
   ],
   "source": [
    "print(s[2])"
   ]
  },
  {
   "cell_type": "code",
   "execution_count": 23,
   "id": "d067bca9",
   "metadata": {},
   "outputs": [
    {
     "data": {
      "text/plain": [
       "'def'"
      ]
     },
     "execution_count": 23,
     "metadata": {},
     "output_type": "execute_result"
    }
   ],
   "source": [
    "s[3:6]"
   ]
  },
  {
   "cell_type": "code",
   "execution_count": 24,
   "id": "d88fa18d",
   "metadata": {},
   "outputs": [
    {
     "data": {
      "text/plain": [
       "''"
      ]
     },
     "execution_count": 24,
     "metadata": {},
     "output_type": "execute_result"
    }
   ],
   "source": [
    "s[-3:3]"
   ]
  },
  {
   "cell_type": "code",
   "execution_count": 25,
   "id": "8d9e2fa2",
   "metadata": {},
   "outputs": [
    {
     "data": {
      "text/plain": [
       "''"
      ]
     },
     "execution_count": 25,
     "metadata": {},
     "output_type": "execute_result"
    }
   ],
   "source": [
    "s[-1:1]"
   ]
  },
  {
   "cell_type": "code",
   "execution_count": 26,
   "id": "7182a1fd",
   "metadata": {},
   "outputs": [
    {
     "data": {
      "text/plain": [
       "'bcdefghij'"
      ]
     },
     "execution_count": 26,
     "metadata": {},
     "output_type": "execute_result"
    }
   ],
   "source": [
    "s[1:-1]"
   ]
  },
  {
   "cell_type": "code",
   "execution_count": 27,
   "id": "dedeb0b2",
   "metadata": {},
   "outputs": [
    {
     "data": {
      "text/plain": [
       "''"
      ]
     },
     "execution_count": 27,
     "metadata": {},
     "output_type": "execute_result"
    }
   ],
   "source": [
    "s[1:0]"
   ]
  },
  {
   "cell_type": "code",
   "execution_count": 28,
   "id": "24b6bdaf",
   "metadata": {},
   "outputs": [
    {
     "data": {
      "text/plain": [
       "'a'"
      ]
     },
     "execution_count": 28,
     "metadata": {},
     "output_type": "execute_result"
    }
   ],
   "source": [
    "s[0:1]"
   ]
  },
  {
   "cell_type": "code",
   "execution_count": 30,
   "id": "62ac06e0",
   "metadata": {},
   "outputs": [
    {
     "data": {
      "text/plain": [
       "''"
      ]
     },
     "execution_count": 30,
     "metadata": {},
     "output_type": "execute_result"
    }
   ],
   "source": [
    "s[0:0]"
   ]
  },
  {
   "cell_type": "code",
   "execution_count": 31,
   "id": "b59897ee",
   "metadata": {},
   "outputs": [
    {
     "data": {
      "text/plain": [
       "'abcdefghijk'"
      ]
     },
     "execution_count": 31,
     "metadata": {},
     "output_type": "execute_result"
    }
   ],
   "source": [
    "s"
   ]
  },
  {
   "cell_type": "code",
   "execution_count": 32,
   "id": "5a789dfb",
   "metadata": {},
   "outputs": [
    {
     "data": {
      "text/plain": [
       "'abcdefghij'"
      ]
     },
     "execution_count": 32,
     "metadata": {},
     "output_type": "execute_result"
    }
   ],
   "source": [
    "s[0:-1]"
   ]
  },
  {
   "cell_type": "code",
   "execution_count": 33,
   "id": "7e331bdd",
   "metadata": {},
   "outputs": [
    {
     "data": {
      "text/plain": [
       "'ghij'"
      ]
     },
     "execution_count": 33,
     "metadata": {},
     "output_type": "execute_result"
    }
   ],
   "source": [
    "s[-5:-1]"
   ]
  },
  {
   "cell_type": "code",
   "execution_count": 34,
   "id": "a19d5470",
   "metadata": {},
   "outputs": [],
   "source": [
    "## lets see step size"
   ]
  },
  {
   "cell_type": "code",
   "execution_count": 35,
   "id": "8e2cee5c",
   "metadata": {},
   "outputs": [
    {
     "data": {
      "text/plain": [
       "'abcdefghijk'"
      ]
     },
     "execution_count": 35,
     "metadata": {},
     "output_type": "execute_result"
    }
   ],
   "source": [
    "s[::]"
   ]
  },
  {
   "cell_type": "code",
   "execution_count": 36,
   "id": "4049436d",
   "metadata": {},
   "outputs": [
    {
     "data": {
      "text/plain": [
       "'abcdefghijk'"
      ]
     },
     "execution_count": 36,
     "metadata": {},
     "output_type": "execute_result"
    }
   ],
   "source": [
    "s[:]"
   ]
  },
  {
   "cell_type": "code",
   "execution_count": 37,
   "id": "83ff00c5",
   "metadata": {},
   "outputs": [
    {
     "data": {
      "text/plain": [
       "'acegik'"
      ]
     },
     "execution_count": 37,
     "metadata": {},
     "output_type": "execute_result"
    }
   ],
   "source": [
    "s[::2]"
   ]
  },
  {
   "cell_type": "code",
   "execution_count": 38,
   "id": "cfd732c0",
   "metadata": {},
   "outputs": [
    {
     "data": {
      "text/plain": [
       "'abc'"
      ]
     },
     "execution_count": 38,
     "metadata": {},
     "output_type": "execute_result"
    }
   ],
   "source": [
    "s[-0:3]"
   ]
  },
  {
   "cell_type": "code",
   "execution_count": 39,
   "id": "6f5377f9",
   "metadata": {},
   "outputs": [
    {
     "data": {
      "text/plain": [
       "'abcdefghijk'"
      ]
     },
     "execution_count": 39,
     "metadata": {},
     "output_type": "execute_result"
    }
   ],
   "source": [
    "s"
   ]
  },
  {
   "cell_type": "code",
   "execution_count": 40,
   "id": "284dbaf9",
   "metadata": {},
   "outputs": [
    {
     "data": {
      "text/plain": [
       "'ceg'"
      ]
     },
     "execution_count": 40,
     "metadata": {},
     "output_type": "execute_result"
    }
   ],
   "source": [
    "s[2:7:2]"
   ]
  },
  {
   "cell_type": "code",
   "execution_count": 41,
   "id": "a3216a7e",
   "metadata": {},
   "outputs": [
    {
     "data": {
      "text/plain": [
       "'cf'"
      ]
     },
     "execution_count": 41,
     "metadata": {},
     "output_type": "execute_result"
    }
   ],
   "source": [
    "s[2:8:3]"
   ]
  },
  {
   "cell_type": "code",
   "execution_count": 42,
   "id": "b921241b",
   "metadata": {},
   "outputs": [
    {
     "data": {
      "text/plain": [
       "'kjihgfedcba'"
      ]
     },
     "execution_count": 42,
     "metadata": {},
     "output_type": "execute_result"
    }
   ],
   "source": [
    "s[::-1]"
   ]
  },
  {
   "cell_type": "code",
   "execution_count": 44,
   "id": "823a403e",
   "metadata": {},
   "outputs": [
    {
     "data": {
      "text/plain": [
       "'kigeca'"
      ]
     },
     "execution_count": 44,
     "metadata": {},
     "output_type": "execute_result"
    }
   ],
   "source": [
    "s[::-2]"
   ]
  },
  {
   "cell_type": "code",
   "execution_count": 47,
   "id": "4a701924",
   "metadata": {},
   "outputs": [
    {
     "data": {
      "text/plain": [
       "''"
      ]
     },
     "execution_count": 47,
     "metadata": {},
     "output_type": "execute_result"
    }
   ],
   "source": [
    "s[2:8:-1]"
   ]
  },
  {
   "cell_type": "code",
   "execution_count": 48,
   "id": "d5bd551a",
   "metadata": {},
   "outputs": [
    {
     "data": {
      "text/plain": [
       "'ihgfed'"
      ]
     },
     "execution_count": 48,
     "metadata": {},
     "output_type": "execute_result"
    }
   ],
   "source": [
    "s[8:2:-1]"
   ]
  },
  {
   "cell_type": "code",
   "execution_count": 49,
   "id": "d1d36773",
   "metadata": {},
   "outputs": [
    {
     "data": {
      "text/plain": [
       "'ige'"
      ]
     },
     "execution_count": 49,
     "metadata": {},
     "output_type": "execute_result"
    }
   ],
   "source": [
    "s[8:2:-2]"
   ]
  },
  {
   "cell_type": "code",
   "execution_count": 50,
   "id": "e1e482d5",
   "metadata": {},
   "outputs": [
    {
     "data": {
      "text/plain": [
       "'abcdefghijk'"
      ]
     },
     "execution_count": 50,
     "metadata": {},
     "output_type": "execute_result"
    }
   ],
   "source": [
    "s"
   ]
  },
  {
   "cell_type": "markdown",
   "id": "9094ed7c",
   "metadata": {},
   "source": [
    "# 017 STRING PROPERTIES AND METHODS"
   ]
  },
  {
   "cell_type": "markdown",
   "id": "04611c1d",
   "metadata": {},
   "source": [
    "## IMMUTABILITY"
   ]
  },
  {
   "cell_type": "code",
   "execution_count": 53,
   "id": "b17bf90f",
   "metadata": {},
   "outputs": [],
   "source": [
    "name=\"Sam\""
   ]
  },
  {
   "cell_type": "markdown",
   "id": "73dc775b",
   "metadata": {},
   "source": [
    "### Concatenation"
   ]
  },
  {
   "cell_type": "code",
   "execution_count": 57,
   "id": "5bcbd116",
   "metadata": {},
   "outputs": [],
   "source": [
    "#replacing s with p"
   ]
  },
  {
   "cell_type": "code",
   "execution_count": 67,
   "id": "c7352c4f",
   "metadata": {},
   "outputs": [],
   "source": [
    "last_letters=name[1:]"
   ]
  },
  {
   "cell_type": "code",
   "execution_count": 68,
   "id": "61be54bd",
   "metadata": {},
   "outputs": [
    {
     "data": {
      "text/plain": [
       "'am'"
      ]
     },
     "execution_count": 68,
     "metadata": {},
     "output_type": "execute_result"
    }
   ],
   "source": [
    "last_letters"
   ]
  },
  {
   "cell_type": "code",
   "execution_count": 69,
   "id": "13b441e8",
   "metadata": {},
   "outputs": [
    {
     "name": "stdout",
     "output_type": "stream",
     "text": [
      "am\n"
     ]
    }
   ],
   "source": [
    "print(last_letters)"
   ]
  },
  {
   "cell_type": "code",
   "execution_count": 71,
   "id": "61e96f91",
   "metadata": {},
   "outputs": [
    {
     "data": {
      "text/plain": [
       "'Pam'"
      ]
     },
     "execution_count": 71,
     "metadata": {},
     "output_type": "execute_result"
    }
   ],
   "source": [
    "\"P\"+last_letters"
   ]
  },
  {
   "cell_type": "code",
   "execution_count": 72,
   "id": "cb42b961",
   "metadata": {},
   "outputs": [],
   "source": [
    "new='P'+last_letters"
   ]
  },
  {
   "cell_type": "code",
   "execution_count": 73,
   "id": "ecf2e04e",
   "metadata": {},
   "outputs": [
    {
     "name": "stdout",
     "output_type": "stream",
     "text": [
      "Pam\n"
     ]
    }
   ],
   "source": [
    "print(new)"
   ]
  },
  {
   "cell_type": "code",
   "execution_count": 74,
   "id": "4f5b7992",
   "metadata": {},
   "outputs": [],
   "source": [
    "#now next example"
   ]
  },
  {
   "cell_type": "code",
   "execution_count": 85,
   "id": "471d0e5a",
   "metadata": {},
   "outputs": [],
   "source": [
    "x=\"Hello World\""
   ]
  },
  {
   "cell_type": "code",
   "execution_count": 90,
   "id": "51d64dbf",
   "metadata": {},
   "outputs": [],
   "source": [
    "y=\" it is a Beautiful outside!\""
   ]
  },
  {
   "cell_type": "code",
   "execution_count": 91,
   "id": "3d4eb577",
   "metadata": {},
   "outputs": [
    {
     "data": {
      "text/plain": [
       "'Hello World'"
      ]
     },
     "execution_count": 91,
     "metadata": {},
     "output_type": "execute_result"
    }
   ],
   "source": [
    "x"
   ]
  },
  {
   "cell_type": "code",
   "execution_count": 88,
   "id": "7a358ea3",
   "metadata": {},
   "outputs": [
    {
     "data": {
      "text/plain": [
       "' it is a Beautiful outside!'"
      ]
     },
     "execution_count": 88,
     "metadata": {},
     "output_type": "execute_result"
    }
   ],
   "source": [
    "y"
   ]
  },
  {
   "cell_type": "code",
   "execution_count": 89,
   "id": "8f31efa6",
   "metadata": {},
   "outputs": [
    {
     "data": {
      "text/plain": [
       "'Hello World it is a Beautiful outside!'"
      ]
     },
     "execution_count": 89,
     "metadata": {},
     "output_type": "execute_result"
    }
   ],
   "source": [
    "x+y"
   ]
  },
  {
   "cell_type": "code",
   "execution_count": 92,
   "id": "9d82f6b2",
   "metadata": {},
   "outputs": [
    {
     "name": "stdout",
     "output_type": "stream",
     "text": [
      "Hello World it is a Beautiful outside!\n"
     ]
    }
   ],
   "source": [
    "print(x+y)"
   ]
  },
  {
   "cell_type": "code",
   "execution_count": 93,
   "id": "fad76a77",
   "metadata": {},
   "outputs": [],
   "source": [
    "z=x+y"
   ]
  },
  {
   "cell_type": "code",
   "execution_count": 94,
   "id": "21574514",
   "metadata": {},
   "outputs": [
    {
     "data": {
      "text/plain": [
       "'Hello World it is a Beautiful outside!'"
      ]
     },
     "execution_count": 94,
     "metadata": {},
     "output_type": "execute_result"
    }
   ],
   "source": [
    "z"
   ]
  },
  {
   "cell_type": "code",
   "execution_count": 95,
   "id": "14a98900",
   "metadata": {},
   "outputs": [
    {
     "name": "stdout",
     "output_type": "stream",
     "text": [
      "Hello World it is a Beautiful outside!\n"
     ]
    }
   ],
   "source": [
    "print(z)"
   ]
  },
  {
   "cell_type": "code",
   "execution_count": 96,
   "id": "3519ea9f",
   "metadata": {},
   "outputs": [],
   "source": [
    "letter = \"z\""
   ]
  },
  {
   "cell_type": "code",
   "execution_count": 97,
   "id": "e314497c",
   "metadata": {},
   "outputs": [
    {
     "data": {
      "text/plain": [
       "'Hello World it is a Beautiful outside!'"
      ]
     },
     "execution_count": 97,
     "metadata": {},
     "output_type": "execute_result"
    }
   ],
   "source": [
    "z"
   ]
  },
  {
   "cell_type": "code",
   "execution_count": 98,
   "id": "f3adb56e",
   "metadata": {},
   "outputs": [
    {
     "data": {
      "text/plain": [
       "'z'"
      ]
     },
     "execution_count": 98,
     "metadata": {},
     "output_type": "execute_result"
    }
   ],
   "source": [
    "letter"
   ]
  },
  {
   "cell_type": "code",
   "execution_count": 99,
   "id": "c76ad0bb",
   "metadata": {},
   "outputs": [],
   "source": [
    "let=\"s\""
   ]
  },
  {
   "cell_type": "code",
   "execution_count": 107,
   "id": "28219467",
   "metadata": {},
   "outputs": [
    {
     "data": {
      "text/plain": [
       "'ssssssssss'"
      ]
     },
     "execution_count": 107,
     "metadata": {},
     "output_type": "execute_result"
    }
   ],
   "source": [
    "let*10 #multiplications with letters OR string multiplications"
   ]
  },
  {
   "cell_type": "code",
   "execution_count": 108,
   "id": "23ddf525",
   "metadata": {},
   "outputs": [],
   "source": [
    "a=\"Sid\""
   ]
  },
  {
   "cell_type": "code",
   "execution_count": 109,
   "id": "46fec922",
   "metadata": {},
   "outputs": [
    {
     "data": {
      "text/plain": [
       "'SidSidSid'"
      ]
     },
     "execution_count": 109,
     "metadata": {},
     "output_type": "execute_result"
    }
   ],
   "source": [
    "a * 3"
   ]
  },
  {
   "cell_type": "code",
   "execution_count": 110,
   "id": "7715a1d2",
   "metadata": {},
   "outputs": [],
   "source": [
    "a=\" Sid d\""
   ]
  },
  {
   "cell_type": "code",
   "execution_count": 111,
   "id": "f0a9baad",
   "metadata": {},
   "outputs": [
    {
     "data": {
      "text/plain": [
       "' Sid d Sid d Sid d'"
      ]
     },
     "execution_count": 111,
     "metadata": {},
     "output_type": "execute_result"
    }
   ],
   "source": [
    "a*3"
   ]
  },
  {
   "cell_type": "code",
   "execution_count": 112,
   "id": "66ca6c02",
   "metadata": {},
   "outputs": [],
   "source": [
    "a=\"Sid9\""
   ]
  },
  {
   "cell_type": "code",
   "execution_count": 114,
   "id": "919723e5",
   "metadata": {},
   "outputs": [
    {
     "data": {
      "text/plain": [
       "'Sid9Sid9'"
      ]
     },
     "execution_count": 114,
     "metadata": {},
     "output_type": "execute_result"
    }
   ],
   "source": [
    "a*2"
   ]
  },
  {
   "cell_type": "code",
   "execution_count": 115,
   "id": "22810bed",
   "metadata": {},
   "outputs": [
    {
     "data": {
      "text/plain": [
       "''"
      ]
     },
     "execution_count": 115,
     "metadata": {},
     "output_type": "execute_result"
    }
   ],
   "source": [
    "a * 0"
   ]
  },
  {
   "cell_type": "code",
   "execution_count": 116,
   "id": "9ec1051f",
   "metadata": {},
   "outputs": [
    {
     "name": "stdout",
     "output_type": "stream",
     "text": [
      "Sid9Sid9\n"
     ]
    }
   ],
   "source": [
    "print(a*2)"
   ]
  },
  {
   "cell_type": "code",
   "execution_count": 117,
   "id": "c9e9095f",
   "metadata": {},
   "outputs": [
    {
     "name": "stdout",
     "output_type": "stream",
     "text": [
      "\n"
     ]
    }
   ],
   "source": [
    "print(a*0)"
   ]
  },
  {
   "cell_type": "code",
   "execution_count": 118,
   "id": "0720da3e",
   "metadata": {},
   "outputs": [
    {
     "data": {
      "text/plain": [
       "''"
      ]
     },
     "execution_count": 118,
     "metadata": {},
     "output_type": "execute_result"
    }
   ],
   "source": [
    "a*-1"
   ]
  },
  {
   "cell_type": "code",
   "execution_count": 120,
   "id": "9101c6d6",
   "metadata": {},
   "outputs": [
    {
     "name": "stdout",
     "output_type": "stream",
     "text": [
      "\n"
     ]
    }
   ],
   "source": [
    "print(a*-3)"
   ]
  },
  {
   "cell_type": "code",
   "execution_count": 124,
   "id": "de6df6ca",
   "metadata": {},
   "outputs": [],
   "source": [
    "b=a*4"
   ]
  },
  {
   "cell_type": "code",
   "execution_count": 125,
   "id": "a38137da",
   "metadata": {},
   "outputs": [
    {
     "data": {
      "text/plain": [
       "'Sid9Sid9Sid9Sid9'"
      ]
     },
     "execution_count": 125,
     "metadata": {},
     "output_type": "execute_result"
    }
   ],
   "source": [
    "b"
   ]
  },
  {
   "cell_type": "code",
   "execution_count": 126,
   "id": "eb5ba600",
   "metadata": {},
   "outputs": [
    {
     "name": "stdout",
     "output_type": "stream",
     "text": [
      "Sid9Sid9Sid9Sid9\n"
     ]
    }
   ],
   "source": [
    "print(b)"
   ]
  },
  {
   "cell_type": "code",
   "execution_count": 134,
   "id": "88666362",
   "metadata": {},
   "outputs": [
    {
     "name": "stdout",
     "output_type": "stream",
     "text": [
      "5\n",
      "23\n"
     ]
    }
   ],
   "source": [
    "'''When we are performing concatenatiom or multiplication\n",
    "we are going to get error when we try to concatenate a number with a string'''\n",
    "\n",
    "print(2+3) # this makes sense \n",
    "print(\"2\" + '3') #here, its not going to add, its going to concatenate these two strings\n",
    "# this is a call back to dynamic typing\n",
    "# We had to be very careful to data types"
   ]
  },
  {
   "cell_type": "markdown",
   "id": "d13c489a",
   "metadata": {},
   "source": [
    "### built-in string methods/function"
   ]
  },
  {
   "cell_type": "code",
   "execution_count": 12,
   "id": "2b5159e1",
   "metadata": {},
   "outputs": [],
   "source": [
    "x =\"hello world\""
   ]
  },
  {
   "cell_type": "code",
   "execution_count": 25,
   "id": "1d4329a1",
   "metadata": {},
   "outputs": [
    {
     "data": {
      "text/plain": [
       "'HELLO WORLD'"
      ]
     },
     "execution_count": 25,
     "metadata": {},
     "output_type": "execute_result"
    }
   ],
   "source": [
    "x.upper() #press x. and hit tab button, you will see yeah that"
   ]
  },
  {
   "cell_type": "code",
   "execution_count": 26,
   "id": "3fa45080",
   "metadata": {},
   "outputs": [
    {
     "data": {
      "text/plain": [
       "'hello world'"
      ]
     },
     "execution_count": 26,
     "metadata": {},
     "output_type": "execute_result"
    }
   ],
   "source": [
    "x"
   ]
  },
  {
   "cell_type": "code",
   "execution_count": 27,
   "id": "11c89ff6",
   "metadata": {},
   "outputs": [],
   "source": [
    "s=x.upper()"
   ]
  },
  {
   "cell_type": "code",
   "execution_count": 28,
   "id": "56665c4d",
   "metadata": {},
   "outputs": [
    {
     "name": "stdout",
     "output_type": "stream",
     "text": [
      "hello world\n"
     ]
    }
   ],
   "source": [
    "print(x)"
   ]
  },
  {
   "cell_type": "code",
   "execution_count": 29,
   "id": "50de12fd",
   "metadata": {},
   "outputs": [
    {
     "name": "stdout",
     "output_type": "stream",
     "text": [
      "HELLO WORLD\n"
     ]
    }
   ],
   "source": [
    "print(s)"
   ]
  },
  {
   "cell_type": "code",
   "execution_count": 30,
   "id": "e8a5b18c",
   "metadata": {},
   "outputs": [
    {
     "data": {
      "text/plain": [
       "'hello world'"
      ]
     },
     "execution_count": 30,
     "metadata": {},
     "output_type": "execute_result"
    }
   ],
   "source": [
    "x"
   ]
  },
  {
   "cell_type": "code",
   "execution_count": 31,
   "id": "97d2805f",
   "metadata": {},
   "outputs": [
    {
     "data": {
      "text/plain": [
       "str"
      ]
     },
     "execution_count": 31,
     "metadata": {},
     "output_type": "execute_result"
    }
   ],
   "source": [
    "type(x)"
   ]
  },
  {
   "cell_type": "code",
   "execution_count": 32,
   "id": "cb6734ab",
   "metadata": {},
   "outputs": [
    {
     "data": {
      "text/plain": [
       "str"
      ]
     },
     "execution_count": 32,
     "metadata": {},
     "output_type": "execute_result"
    }
   ],
   "source": [
    "type(s)"
   ]
  },
  {
   "cell_type": "code",
   "execution_count": 33,
   "id": "58f22540",
   "metadata": {},
   "outputs": [
    {
     "data": {
      "text/plain": [
       "'hello world'"
      ]
     },
     "execution_count": 33,
     "metadata": {},
     "output_type": "execute_result"
    }
   ],
   "source": [
    "s.lower()"
   ]
  },
  {
   "cell_type": "code",
   "execution_count": 34,
   "id": "aba12498",
   "metadata": {},
   "outputs": [
    {
     "data": {
      "text/plain": [
       "['hello', 'world']"
      ]
     },
     "execution_count": 34,
     "metadata": {},
     "output_type": "execute_result"
    }
   ],
   "source": [
    "x.split() "
   ]
  },
  {
   "cell_type": "code",
   "execution_count": 172,
   "id": "5b5427eb",
   "metadata": {},
   "outputs": [],
   "source": [
    "x= \"this is a String\""
   ]
  },
  {
   "cell_type": "code",
   "execution_count": 173,
   "id": "db16bfbc",
   "metadata": {},
   "outputs": [
    {
     "data": {
      "text/plain": [
       "['this', 'is', 'a', 'String']"
      ]
     },
     "execution_count": 173,
     "metadata": {},
     "output_type": "execute_result"
    }
   ],
   "source": [
    "x.split()\n",
    "# this split method will create a list of a string "
   ]
  },
  {
   "cell_type": "code",
   "execution_count": 177,
   "id": "5c7112a8",
   "metadata": {},
   "outputs": [
    {
     "data": {
      "text/plain": [
       "['th', 's ', 's a Str', 'ng']"
      ]
     },
     "execution_count": 177,
     "metadata": {},
     "output_type": "execute_result"
    }
   ],
   "source": [
    "x.split(\"i\") #this code will split on 'i' and white space will be included"
   ]
  },
  {
   "cell_type": "code",
   "execution_count": 179,
   "id": "0d92bcec",
   "metadata": {},
   "outputs": [
    {
     "name": "stdout",
     "output_type": "stream",
     "text": [
      "['this', 'is', 'a', 'String']\n"
     ]
    }
   ],
   "source": [
    "print(x.split())"
   ]
  },
  {
   "cell_type": "code",
   "execution_count": 181,
   "id": "47018590",
   "metadata": {},
   "outputs": [
    {
     "name": "stdout",
     "output_type": "stream",
     "text": [
      "x.split()\n"
     ]
    }
   ],
   "source": [
    "print(\"x.split()\") # this is a string "
   ]
  },
  {
   "cell_type": "code",
   "execution_count": 185,
   "id": "c8bd08fd",
   "metadata": {},
   "outputs": [
    {
     "name": "stdout",
     "output_type": "stream",
     "text": [
      "['th', 's ', 's a Str', 'ng']\n"
     ]
    }
   ],
   "source": [
    "print(x.split('i')) # and not print(x.split(i)) "
   ]
  },
  {
   "cell_type": "code",
   "execution_count": 189,
   "id": "65954a56",
   "metadata": {},
   "outputs": [
    {
     "data": {
      "text/plain": [
       "3"
      ]
     },
     "execution_count": 189,
     "metadata": {},
     "output_type": "execute_result"
    }
   ],
   "source": [
    "x.count(\"i\")"
   ]
  },
  {
   "cell_type": "code",
   "execution_count": 193,
   "id": "3bec0bd8",
   "metadata": {},
   "outputs": [
    {
     "data": {
      "text/plain": [
       "'this is a string'"
      ]
     },
     "execution_count": 193,
     "metadata": {},
     "output_type": "execute_result"
    }
   ],
   "source": [
    "x.casefold()"
   ]
  },
  {
   "cell_type": "code",
   "execution_count": 200,
   "id": "b7681bb5",
   "metadata": {},
   "outputs": [
    {
     "name": "stdout",
     "output_type": "stream",
     "text": [
      "              this is a String             \n"
     ]
    }
   ],
   "source": [
    "print(x.center(43))"
   ]
  },
  {
   "cell_type": "code",
   "execution_count": 204,
   "id": "657d2da4",
   "metadata": {},
   "outputs": [
    {
     "data": {
      "text/plain": [
       "False"
      ]
     },
     "execution_count": 204,
     "metadata": {},
     "output_type": "execute_result"
    }
   ],
   "source": [
    "x.endswith(\"f\")"
   ]
  },
  {
   "cell_type": "code",
   "execution_count": 205,
   "id": "301a6e98",
   "metadata": {},
   "outputs": [
    {
     "data": {
      "text/plain": [
       "True"
      ]
     },
     "execution_count": 205,
     "metadata": {},
     "output_type": "execute_result"
    }
   ],
   "source": [
    "x.endswith(\"g\")"
   ]
  },
  {
   "cell_type": "code",
   "execution_count": 213,
   "id": "8424f9ce",
   "metadata": {},
   "outputs": [
    {
     "data": {
      "text/plain": [
       "2"
      ]
     },
     "execution_count": 213,
     "metadata": {},
     "output_type": "execute_result"
    }
   ],
   "source": [
    "x.find(\"i\")"
   ]
  },
  {
   "cell_type": "code",
   "execution_count": 218,
   "id": "a73d02bb",
   "metadata": {},
   "outputs": [
    {
     "data": {
      "text/plain": [
       "15"
      ]
     },
     "execution_count": 218,
     "metadata": {},
     "output_type": "execute_result"
    }
   ],
   "source": [
    "x.index(\"g\")"
   ]
  },
  {
   "cell_type": "code",
   "execution_count": 223,
   "id": "019288f2",
   "metadata": {},
   "outputs": [
    {
     "data": {
      "text/plain": [
       "'This Is A String'"
      ]
     },
     "execution_count": 223,
     "metadata": {},
     "output_type": "execute_result"
    }
   ],
   "source": [
    "x.title()"
   ]
  },
  {
   "cell_type": "markdown",
   "id": "4e22e354",
   "metadata": {},
   "source": [
    "## 019 PRINT FORMATTING WITH STRINGS "
   ]
  },
  {
   "cell_type": "markdown",
   "id": "9c332f71",
   "metadata": {},
   "source": [
    "### Formatting with the .format() Method\n",
    "### A good way to format objects into your strings for print statements is with the string .format() method. \n",
    "### The syntax is :- \n",
    "### 'String here {} then also{}'.format('something1','something2')"
   ]
  },
  {
   "cell_type": "code",
   "execution_count": 250,
   "id": "075ff3ec",
   "metadata": {},
   "outputs": [
    {
     "name": "stdout",
     "output_type": "stream",
     "text": [
      "this is a string Inserted\n"
     ]
    }
   ],
   "source": [
    "print(\"this is a string {}\".format(\"Inserted\") )"
   ]
  },
  {
   "cell_type": "code",
   "execution_count": 251,
   "id": "3b10be90",
   "metadata": {},
   "outputs": [
    {
     "name": "stdout",
     "output_type": "stream",
     "text": [
      "The fox brown quick\n"
     ]
    }
   ],
   "source": [
    "print(\"The {} {} {}\".format('fox',\"brown\",'quick'))"
   ]
  },
  {
   "cell_type": "code",
   "execution_count": 252,
   "id": "3cd1d990",
   "metadata": {},
   "outputs": [
    {
     "name": "stdout",
     "output_type": "stream",
     "text": [
      "The quick brown fox\n"
     ]
    }
   ],
   "source": [
    "print(\"The {2} {1} {0}\".format('fox',\"brown\",'quick'))"
   ]
  },
  {
   "cell_type": "code",
   "execution_count": 256,
   "id": "3841d1b1",
   "metadata": {},
   "outputs": [
    {
     "name": "stdout",
     "output_type": "stream",
     "text": [
      "The fox fox fox\n"
     ]
    }
   ],
   "source": [
    "print(\"The {0} {0} {0}\".format('fox',\"brown\",'quick'))"
   ]
  },
  {
   "cell_type": "code",
   "execution_count": 264,
   "id": "8e647bdc",
   "metadata": {},
   "outputs": [
    {
     "name": "stdout",
     "output_type": "stream",
     "text": [
      "The quick a brown fox\n"
     ]
    }
   ],
   "source": [
    "print(\"The {2} a {1} {0}\".format('fox',\"brown\",'quick'))"
   ]
  },
  {
   "cell_type": "code",
   "execution_count": 272,
   "id": "1f6266fe",
   "metadata": {},
   "outputs": [
    {
     "name": "stdout",
     "output_type": "stream",
     "text": [
      "The quick brown fox\n"
     ]
    }
   ],
   "source": [
    "print(\"The {q} {b} {f}\".format(f='fox',b=\"brown\",q='quick')) #prefer this instead of below code(i.e index posoition)"
   ]
  },
  {
   "cell_type": "code",
   "execution_count": 35,
   "id": "2677e2d3",
   "metadata": {},
   "outputs": [
    {
     "name": "stdout",
     "output_type": "stream",
     "text": [
      "The quick brown fox\n"
     ]
    }
   ],
   "source": [
    "print(\"The {2} {1} {0}\".format('fox',\"brown\",'quick'))"
   ]
  },
  {
   "cell_type": "code",
   "execution_count": 38,
   "id": "1c5a4309",
   "metadata": {},
   "outputs": [
    {
     "name": "stdout",
     "output_type": "stream",
     "text": [
      "The fox fox fox\n"
     ]
    }
   ],
   "source": [
    "print(\"The {f} {f} {f}\".format(f='fox',b=\"brown\",q='quick')) #inserted objects can be assigned keywords"
   ]
  },
  {
   "cell_type": "markdown",
   "id": "00db34ad",
   "metadata": {},
   "source": [
    "## Float Formating follows \"{value:width.precision f}\" (no space between precision and f)"
   ]
  },
  {
   "cell_type": "code",
   "execution_count": 39,
   "id": "10a0e15f",
   "metadata": {},
   "outputs": [],
   "source": [
    "result=100/777"
   ]
  },
  {
   "cell_type": "code",
   "execution_count": 40,
   "id": "013a006e",
   "metadata": {},
   "outputs": [
    {
     "name": "stdout",
     "output_type": "stream",
     "text": [
      "0.1287001287001287\n"
     ]
    },
    {
     "data": {
      "text/plain": [
       "float"
      ]
     },
     "execution_count": 40,
     "metadata": {},
     "output_type": "execute_result"
    }
   ],
   "source": [
    "print(result)\n",
    "type(result)"
   ]
  },
  {
   "cell_type": "code",
   "execution_count": 44,
   "id": "4a455fac",
   "metadata": {},
   "outputs": [
    {
     "name": "stdout",
     "output_type": "stream",
     "text": [
      "The result is 0.1287001287001287\n",
      "The result is 0.1287001287001287\n"
     ]
    }
   ],
   "source": [
    "print(\"The result is {}\".format(result))\n",
    "print(f'The result is {result}')"
   ]
  },
  {
   "cell_type": "code",
   "execution_count": 100,
   "id": "955577c6",
   "metadata": {},
   "outputs": [
    {
     "name": "stdout",
     "output_type": "stream",
     "text": [
      "The result is 0.1287001287001287 \n",
      "0.1287001287001287 is of type float\n"
     ]
    }
   ],
   "source": [
    "print(\"The result is {r} \\n{r} is of type float\".format(r=result)) \n",
    "# advantage of .format is we dont have to repeat(doubling) everything after assigning a keyword\n",
    "# we dont need to write too much of code and eventually this will save time\n",
    " \n",
    "    \n",
    "# INSERTED OBJECTS CAN BE REUSED, AVOIDING DUPLICATION \n",
    "\n",
    "    \n",
    "    # though .format method is old but it's gold itself\n",
    "    # also Formatted String Method (f-strings) is also a new gold"
   ]
  },
  {
   "cell_type": "code",
   "execution_count": 302,
   "id": "2549ffe8",
   "metadata": {},
   "outputs": [
    {
     "name": "stdout",
     "output_type": "stream",
     "text": [
      "The result is      0.129\n"
     ]
    }
   ],
   "source": [
    "print(\"The result is {r:10.3f}\".format(r=result))\n",
    "#not allowed :- {r:10.3 f} i.e is no spaces is allowed\n",
    "#here, 10 defines width(white spaces)"
   ]
  },
  {
   "cell_type": "code",
   "execution_count": 303,
   "id": "8381d8c1",
   "metadata": {},
   "outputs": [],
   "source": [
    "result1=100.12345"
   ]
  },
  {
   "cell_type": "code",
   "execution_count": 305,
   "id": "49fa36b2",
   "metadata": {},
   "outputs": [
    {
     "name": "stdout",
     "output_type": "stream",
     "text": [
      "The result1 is 100.12\n"
     ]
    }
   ],
   "source": [
    "print(\"The result1 is {r:1.2f}\".format(r=result1))"
   ]
  },
  {
   "cell_type": "code",
   "execution_count": 83,
   "id": "76049d98",
   "metadata": {},
   "outputs": [
    {
     "name": "stdout",
     "output_type": "stream",
     "text": [
      "Fruit    | Quantity \n",
      "Apples   |       3.0\n",
      "Oranges  |        10\n"
     ]
    }
   ],
   "source": [
    "# ALIGNMENT PADDING  PRECISION\n",
    "\n",
    "# within curley braces :- assign field length, left/right alignment,etc\n",
    "\n",
    "print(\"{0:8} | {1:9}\".format('Fruit','Quantity'))\n",
    "print(\"{0:8} | {1:9}\".format('Apples', 3.))\n",
    "print(\"{0:8} | {1:9}\".format('Oranges',10))"
   ]
  },
  {
   "cell_type": "code",
   "execution_count": 85,
   "id": "a555a5be",
   "metadata": {},
   "outputs": [
    {
     "name": "stdout",
     "output_type": "stream",
     "text": [
      "left     |  centre  |    right\n",
      "11       |    22    |       33\n"
     ]
    }
   ],
   "source": [
    "\n",
    "print(\"{0:<8} | {1:^8} | {2:>8}\".format('left',\"centre\",'right'))\n",
    "print(\"{0:<8} | {1:^8} | {2:>8}\".format(11,22,33))"
   ]
  },
  {
   "cell_type": "code",
   "execution_count": 98,
   "id": "84e861d8",
   "metadata": {},
   "outputs": [
    {
     "name": "stdout",
     "output_type": "stream",
     "text": [
      "left==== | -centre- | ...right\n",
      "11====== | ---22--- | ......33\n"
     ]
    }
   ],
   "source": [
    "## We can PRECEDE th Alignment operator with padding character\n",
    "\n",
    "print(\"{0:=<8} | {1:-^8} | {2:.>8}\".format('left',\"centre\",'right'))\n",
    "print(\"{0:=<8} | {1:-^8} | {2:.>8}\".format(11,22,33))"
   ]
  },
  {
   "cell_type": "code",
   "execution_count": 99,
   "id": "ef941536",
   "metadata": {},
   "outputs": [
    {
     "name": "stdout",
     "output_type": "stream",
     "text": [
      "left9999 | ScentreS | %%%right\n",
      "11(((((( | !!!22!!! | ))))))33\n"
     ]
    }
   ],
   "source": [
    "print(\"{0:9<8} | {1:S^8} | {2:%>8}\".format('left',\"centre\",'right'))\n",
    "print(\"{0:(<8} | {1:!^8} | {2:)>8}\".format(11,22,33))"
   ]
  },
  {
   "cell_type": "code",
   "execution_count": null,
   "id": "953a7bec",
   "metadata": {},
   "outputs": [],
   "source": []
  },
  {
   "cell_type": "code",
   "execution_count": null,
   "id": "c9935d50",
   "metadata": {},
   "outputs": [],
   "source": []
  },
  {
   "cell_type": "code",
   "execution_count": null,
   "id": "655b62f6",
   "metadata": {},
   "outputs": [],
   "source": []
  },
  {
   "cell_type": "code",
   "execution_count": null,
   "id": "33a19c8c",
   "metadata": {},
   "outputs": [],
   "source": []
  },
  {
   "cell_type": "code",
   "execution_count": null,
   "id": "974140b1",
   "metadata": {},
   "outputs": [],
   "source": []
  },
  {
   "cell_type": "code",
   "execution_count": null,
   "id": "a3fcaac9",
   "metadata": {},
   "outputs": [],
   "source": []
  },
  {
   "cell_type": "code",
   "execution_count": null,
   "id": "a84eb626",
   "metadata": {},
   "outputs": [],
   "source": []
  },
  {
   "cell_type": "code",
   "execution_count": null,
   "id": "b7386078",
   "metadata": {},
   "outputs": [],
   "source": []
  },
  {
   "cell_type": "code",
   "execution_count": null,
   "id": "74b622ac",
   "metadata": {},
   "outputs": [],
   "source": []
  },
  {
   "cell_type": "code",
   "execution_count": null,
   "id": "9a6234ad",
   "metadata": {},
   "outputs": [],
   "source": []
  },
  {
   "cell_type": "code",
   "execution_count": 347,
   "id": "a6c18207",
   "metadata": {},
   "outputs": [],
   "source": [
    "name=\"Siddharth\""
   ]
  },
  {
   "cell_type": "code",
   "execution_count": 348,
   "id": "af964303",
   "metadata": {},
   "outputs": [
    {
     "name": "stdout",
     "output_type": "stream",
     "text": [
      "Hello, I am Siddharth\n"
     ]
    }
   ],
   "source": [
    "print(\"Hello, I am {}\".format(name))"
   ]
  },
  {
   "cell_type": "code",
   "execution_count": 349,
   "id": "11c85552",
   "metadata": {},
   "outputs": [
    {
     "name": "stdout",
     "output_type": "stream",
     "text": [
      "Hello, I am Siddharth\n"
     ]
    }
   ],
   "source": [
    "print(f\"Hello, I am {name}\") \n",
    "# f-strings literals\n",
    "#Dont forget f in the begining"
   ]
  },
  {
   "cell_type": "code",
   "execution_count": 350,
   "id": "87fe52e8",
   "metadata": {},
   "outputs": [],
   "source": [
    "name=\"Spidey\"\n",
    "age=9"
   ]
  },
  {
   "cell_type": "code",
   "execution_count": 351,
   "id": "c0324c62",
   "metadata": {},
   "outputs": [
    {
     "name": "stdout",
     "output_type": "stream",
     "text": [
      "Spidey is 9 years old.\n"
     ]
    }
   ],
   "source": [
    "print(f\"{name} is {age} years old.\")"
   ]
  },
  {
   "cell_type": "code",
   "execution_count": null,
   "id": "fc732fa5",
   "metadata": {},
   "outputs": [],
   "source": []
  },
  {
   "cell_type": "code",
   "execution_count": 50,
   "id": "f5466cc9",
   "metadata": {},
   "outputs": [],
   "source": [
    "player=\"Thomas\""
   ]
  },
  {
   "cell_type": "code",
   "execution_count": 51,
   "id": "c3372143",
   "metadata": {},
   "outputs": [],
   "source": [
    "point=\"43\""
   ]
  },
  {
   "cell_type": "code",
   "execution_count": 52,
   "id": "8536a2e0",
   "metadata": {},
   "outputs": [
    {
     "name": "stdout",
     "output_type": "stream",
     "text": [
      "last night Thomas scored 43 points \n"
     ]
    }
   ],
   "source": [
    "print(\"last night \"+player+\" scored \"+point+\" points \")\n",
    "# Concatenation"
   ]
  },
  {
   "cell_type": "code",
   "execution_count": 53,
   "id": "6263f593",
   "metadata": {},
   "outputs": [
    {
     "name": "stdout",
     "output_type": "stream",
     "text": [
      "last night Thomas scored 43 points \n"
     ]
    }
   ],
   "source": [
    "print(f\"last night {player} scored {point} points \")\n",
    "# String Formatting"
   ]
  },
  {
   "cell_type": "code",
   "execution_count": 61,
   "id": "9e2ffa1c",
   "metadata": {},
   "outputs": [
    {
     "name": "stdout",
     "output_type": "stream",
     "text": [
      "last night Thomas scored 43 points \n"
     ]
    }
   ],
   "source": [
    "print(\"last night {p} scored {pt} points \".format(p=player, pt=point))#not p=\"player\""
   ]
  },
  {
   "cell_type": "code",
   "execution_count": 362,
   "id": "b66e0794",
   "metadata": {},
   "outputs": [],
   "source": [
    "#Since I will likely encounter many versions in someone else's code in future so I need to learn all"
   ]
  },
  {
   "cell_type": "code",
   "execution_count": 363,
   "id": "8c1ab10a",
   "metadata": {},
   "outputs": [],
   "source": [
    "#I am the Best"
   ]
  },
  {
   "cell_type": "markdown",
   "id": "3c495860",
   "metadata": {},
   "source": [
    "## Formating with Placeholders"
   ]
  },
  {
   "cell_type": "code",
   "execution_count": 65,
   "id": "7a7bec67",
   "metadata": {},
   "outputs": [
    {
     "name": "stdout",
     "output_type": "stream",
     "text": [
      "I am Iron Man\n",
      "I am Iron Man\n",
      "I am the Best\n"
     ]
    }
   ],
   "source": [
    "print(\"I %s Iron Man\" %'am')\n",
    "print(\"I %s Iron Man\\nI %s the Best\" %('am','am')) #heve to repeat every time thats why .format is the best\n",
    "#modulo % is reffered as string formatting operator"
   ]
  },
  {
   "cell_type": "code",
   "execution_count": 371,
   "id": "5bdf5eee",
   "metadata": {},
   "outputs": [
    {
     "name": "stdout",
     "output_type": "stream",
     "text": [
      "I am Iron Man\n"
     ]
    }
   ],
   "source": [
    "print(\"I %s Iron %s\" %('am',\"Man\")) #passing multiple items"
   ]
  },
  {
   "cell_type": "code",
   "execution_count": 375,
   "id": "3cba98c1",
   "metadata": {},
   "outputs": [
    {
     "name": "stdout",
     "output_type": "stream",
     "text": [
      "I am Iron Man\n"
     ]
    }
   ],
   "source": [
    "x,y= \"am\",\"Man\"\n",
    "\n",
    "print(\"I %s Iron %s\" %(x,y)) #Passing Variable names"
   ]
  },
  {
   "cell_type": "code",
   "execution_count": null,
   "id": "4fccf60f",
   "metadata": {},
   "outputs": [],
   "source": []
  },
  {
   "cell_type": "code",
   "execution_count": 378,
   "id": "2594f66b",
   "metadata": {},
   "outputs": [],
   "source": [
    "#Padding and Precision of floating point numbers"
   ]
  },
  {
   "cell_type": "code",
   "execution_count": 380,
   "id": "381d5531",
   "metadata": {},
   "outputs": [
    {
     "name": "stdout",
     "output_type": "stream",
     "text": [
      "Floating point no. : 13.54\n"
     ]
    }
   ],
   "source": [
    "print(\"Floating point no. : %5.2f\" %(13.544))"
   ]
  },
  {
   "cell_type": "code",
   "execution_count": 381,
   "id": "866db651",
   "metadata": {},
   "outputs": [
    {
     "name": "stdout",
     "output_type": "stream",
     "text": [
      "Floating point no. : 14\n"
     ]
    }
   ],
   "source": [
    "print(\"Floating point no. : %1.0f\" %(13.544)) #will take approximate due to '.5'"
   ]
  },
  {
   "cell_type": "code",
   "execution_count": 387,
   "id": "2d6890f4",
   "metadata": {},
   "outputs": [
    {
     "name": "stdout",
     "output_type": "stream",
     "text": [
      "Floating point no. :   13.54400\n"
     ]
    }
   ],
   "source": [
    "print(\"Floating point no. : %10.5f\" %(13.544))"
   ]
  },
  {
   "cell_type": "code",
   "execution_count": 388,
   "id": "9154521c",
   "metadata": {},
   "outputs": [
    {
     "name": "stdout",
     "output_type": "stream",
     "text": [
      "Floating point no. :                                         13.54\n"
     ]
    }
   ],
   "source": [
    "print(\"Floating point no. : %45.2f\" %(13.544))"
   ]
  },
  {
   "cell_type": "code",
   "execution_count": 389,
   "id": "c8dc284b",
   "metadata": {},
   "outputs": [],
   "source": [
    "\n",
    "##Multiple Formatting"
   ]
  },
  {
   "cell_type": "code",
   "execution_count": 394,
   "id": "9c02ab2c",
   "metadata": {},
   "outputs": [
    {
     "name": "stdout",
     "output_type": "stream",
     "text": [
      "First: hi, Second: 3.14, Third:'bye!'\n"
     ]
    }
   ],
   "source": [
    "print(\"First: %s, Second:%5.2f, Third:%r\" %('hi',3.1415,'bye!')  )"
   ]
  },
  {
   "cell_type": "code",
   "execution_count": 399,
   "id": "282446cd",
   "metadata": {},
   "outputs": [
    {
     "name": "stdout",
     "output_type": "stream",
     "text": [
      "First: hi, Second:     3.142, Third:'bye!'\n"
     ]
    }
   ],
   "source": [
    "print(\"First: %s, Second:%10.3f, Third:%r\" %('hi',3.1415,'bye!')  ) # %r and %s "
   ]
  },
  {
   "cell_type": "code",
   "execution_count": null,
   "id": "4511b529",
   "metadata": {},
   "outputs": [],
   "source": []
  },
  {
   "cell_type": "code",
   "execution_count": null,
   "id": "c59b3523",
   "metadata": {},
   "outputs": [],
   "source": []
  },
  {
   "cell_type": "code",
   "execution_count": null,
   "id": "fd5cec15",
   "metadata": {},
   "outputs": [],
   "source": []
  },
  {
   "cell_type": "markdown",
   "id": "7907cfd6",
   "metadata": {},
   "source": [
    "# 021 LISTS IN PYTHON"
   ]
  },
  {
   "cell_type": "code",
   "execution_count": 400,
   "id": "b147eb63",
   "metadata": {},
   "outputs": [],
   "source": [
    "my_list= [1,2,3,4]"
   ]
  },
  {
   "cell_type": "code",
   "execution_count": 401,
   "id": "68430540",
   "metadata": {},
   "outputs": [
    {
     "data": {
      "text/plain": [
       "4"
      ]
     },
     "execution_count": 401,
     "metadata": {},
     "output_type": "execute_result"
    }
   ],
   "source": [
    "len(my_list)"
   ]
  },
  {
   "cell_type": "code",
   "execution_count": 404,
   "id": "ce77ecd9",
   "metadata": {},
   "outputs": [],
   "source": [
    "my_list=[\"String\" ,100,5.5]"
   ]
  },
  {
   "cell_type": "code",
   "execution_count": 405,
   "id": "10d8440f",
   "metadata": {},
   "outputs": [
    {
     "data": {
      "text/plain": [
       "3"
      ]
     },
     "execution_count": 405,
     "metadata": {},
     "output_type": "execute_result"
    }
   ],
   "source": [
    "len(my_list)"
   ]
  },
  {
   "cell_type": "code",
   "execution_count": 408,
   "id": "51af61d3",
   "metadata": {},
   "outputs": [],
   "source": [
    "mylist= ['one','two','three',4]"
   ]
  },
  {
   "cell_type": "code",
   "execution_count": 409,
   "id": "2611c8ca",
   "metadata": {},
   "outputs": [
    {
     "name": "stdout",
     "output_type": "stream",
     "text": [
      "['one', 'two', 'three', 4]\n"
     ]
    }
   ],
   "source": [
    "print(mylist)"
   ]
  },
  {
   "cell_type": "code",
   "execution_count": 410,
   "id": "ea04e685",
   "metadata": {},
   "outputs": [
    {
     "data": {
      "text/plain": [
       "list"
      ]
     },
     "execution_count": 410,
     "metadata": {},
     "output_type": "execute_result"
    }
   ],
   "source": [
    "type(mylist)"
   ]
  },
  {
   "cell_type": "code",
   "execution_count": 411,
   "id": "d8a0eb00",
   "metadata": {},
   "outputs": [
    {
     "data": {
      "text/plain": [
       "['one', 'two', 'three', 4]"
      ]
     },
     "execution_count": 411,
     "metadata": {},
     "output_type": "execute_result"
    }
   ],
   "source": [
    "mylist"
   ]
  },
  {
   "cell_type": "code",
   "execution_count": 412,
   "id": "b1a94497",
   "metadata": {},
   "outputs": [
    {
     "data": {
      "text/plain": [
       "['one', 'two', 'three', 4]"
      ]
     },
     "execution_count": 412,
     "metadata": {},
     "output_type": "execute_result"
    }
   ],
   "source": [
    "mylist"
   ]
  },
  {
   "cell_type": "code",
   "execution_count": 413,
   "id": "d9d42745",
   "metadata": {},
   "outputs": [
    {
     "data": {
      "text/plain": [
       "'one'"
      ]
     },
     "execution_count": 413,
     "metadata": {},
     "output_type": "execute_result"
    }
   ],
   "source": [
    "mylist[0]"
   ]
  },
  {
   "cell_type": "code",
   "execution_count": 414,
   "id": "614ecdca",
   "metadata": {},
   "outputs": [
    {
     "name": "stdout",
     "output_type": "stream",
     "text": [
      "one\n"
     ]
    }
   ],
   "source": [
    "print(mylist[0])"
   ]
  },
  {
   "cell_type": "code",
   "execution_count": 415,
   "id": "dafaaf21",
   "metadata": {},
   "outputs": [
    {
     "data": {
      "text/plain": [
       "str"
      ]
     },
     "execution_count": 415,
     "metadata": {},
     "output_type": "execute_result"
    }
   ],
   "source": [
    "type(mylist[0])"
   ]
  },
  {
   "cell_type": "code",
   "execution_count": 416,
   "id": "21fb1928",
   "metadata": {},
   "outputs": [
    {
     "name": "stdout",
     "output_type": "stream",
     "text": [
      "4\n"
     ]
    }
   ],
   "source": [
    "print(mylist[3])"
   ]
  },
  {
   "cell_type": "code",
   "execution_count": 417,
   "id": "e090af40",
   "metadata": {},
   "outputs": [
    {
     "data": {
      "text/plain": [
       "int"
      ]
     },
     "execution_count": 417,
     "metadata": {},
     "output_type": "execute_result"
    }
   ],
   "source": [
    "type(mylist[3])"
   ]
  },
  {
   "cell_type": "code",
   "execution_count": null,
   "id": "4660b50c",
   "metadata": {},
   "outputs": [],
   "source": []
  },
  {
   "cell_type": "code",
   "execution_count": 418,
   "id": "e71daa16",
   "metadata": {},
   "outputs": [
    {
     "name": "stdout",
     "output_type": "stream",
     "text": [
      "['one', 'two', 'three', 4]\n"
     ]
    }
   ],
   "source": [
    "print(mylist)"
   ]
  },
  {
   "cell_type": "code",
   "execution_count": 425,
   "id": "f13e0d96",
   "metadata": {},
   "outputs": [
    {
     "data": {
      "text/plain": [
       "['two', 'three', 4]"
      ]
     },
     "execution_count": 425,
     "metadata": {},
     "output_type": "execute_result"
    }
   ],
   "source": [
    "mylist[1:]"
   ]
  },
  {
   "cell_type": "code",
   "execution_count": 426,
   "id": "ced99061",
   "metadata": {},
   "outputs": [
    {
     "data": {
      "text/plain": [
       "['one', 'two', 'three', 4]"
      ]
     },
     "execution_count": 426,
     "metadata": {},
     "output_type": "execute_result"
    }
   ],
   "source": [
    "mylist"
   ]
  },
  {
   "cell_type": "code",
   "execution_count": 435,
   "id": "8ae88f38",
   "metadata": {},
   "outputs": [],
   "source": [
    "anotherlist=[5,'Six']"
   ]
  },
  {
   "cell_type": "code",
   "execution_count": 436,
   "id": "3702e1bd",
   "metadata": {},
   "outputs": [
    {
     "data": {
      "text/plain": [
       "[5, 'Six']"
      ]
     },
     "execution_count": 436,
     "metadata": {},
     "output_type": "execute_result"
    }
   ],
   "source": [
    "anotherlist"
   ]
  },
  {
   "cell_type": "code",
   "execution_count": 442,
   "id": "77288ca0",
   "metadata": {},
   "outputs": [
    {
     "data": {
      "text/plain": [
       "['one', 'two', 'three', 4, 5, 'Six']"
      ]
     },
     "execution_count": 442,
     "metadata": {},
     "output_type": "execute_result"
    }
   ],
   "source": [
    "mylist    +  anotherlist # spaces dont matters here\n",
    "# CONCATENATION "
   ]
  },
  {
   "cell_type": "code",
   "execution_count": 443,
   "id": "fcbf756e",
   "metadata": {},
   "outputs": [],
   "source": [
    "newlist = mylist+ anotherlist"
   ]
  },
  {
   "cell_type": "code",
   "execution_count": 448,
   "id": "956c5efa",
   "metadata": {},
   "outputs": [
    {
     "name": "stdout",
     "output_type": "stream",
     "text": [
      "['one', 'two', 'three', 4, 5, 'Six']\n"
     ]
    }
   ],
   "source": [
    "print(       newlist)"
   ]
  },
  {
   "cell_type": "code",
   "execution_count": 449,
   "id": "e248778b",
   "metadata": {},
   "outputs": [
    {
     "data": {
      "text/plain": [
       "['one', 'two', 'three', 4, 5, 'Six']"
      ]
     },
     "execution_count": 449,
     "metadata": {},
     "output_type": "execute_result"
    }
   ],
   "source": [
    "newlist"
   ]
  },
  {
   "cell_type": "code",
   "execution_count": 450,
   "id": "0b77b484",
   "metadata": {},
   "outputs": [],
   "source": [
    "newlist[0]='ONE ALL CAPS'"
   ]
  },
  {
   "cell_type": "code",
   "execution_count": 451,
   "id": "534e0595",
   "metadata": {},
   "outputs": [
    {
     "data": {
      "text/plain": [
       "['ONE ALL CAPS', 'two', 'three', 4, 5, 'Six']"
      ]
     },
     "execution_count": 451,
     "metadata": {},
     "output_type": "execute_result"
    }
   ],
   "source": [
    "newlist"
   ]
  },
  {
   "cell_type": "code",
   "execution_count": 463,
   "id": "8d22c64e",
   "metadata": {},
   "outputs": [],
   "source": [
    "newlist.append(\"Seven\")"
   ]
  },
  {
   "cell_type": "code",
   "execution_count": 466,
   "id": "4ac66234",
   "metadata": {},
   "outputs": [
    {
     "name": "stdout",
     "output_type": "stream",
     "text": [
      "['ONE ALL CAPS', 'two', 'three', 4, 5, 'Six', 'Seven', 'Seven', 'seven', 'Seven']\n"
     ]
    }
   ],
   "source": [
    "print(newlist)"
   ]
  },
  {
   "cell_type": "code",
   "execution_count": 474,
   "id": "b6bf6217",
   "metadata": {},
   "outputs": [],
   "source": [
    "newlist.reverse()"
   ]
  },
  {
   "cell_type": "code",
   "execution_count": 475,
   "id": "30a6ee61",
   "metadata": {},
   "outputs": [
    {
     "data": {
      "text/plain": [
       "['ONE ALL CAPS',\n",
       " 'two',\n",
       " 'three',\n",
       " 4,\n",
       " 5,\n",
       " 'Six',\n",
       " 'Seven',\n",
       " 'Seven',\n",
       " 'seven',\n",
       " 'Seven']"
      ]
     },
     "execution_count": 475,
     "metadata": {},
     "output_type": "execute_result"
    }
   ],
   "source": [
    "newlist"
   ]
  },
  {
   "cell_type": "code",
   "execution_count": 476,
   "id": "848bd1b0",
   "metadata": {},
   "outputs": [
    {
     "data": {
      "text/plain": [
       "'Seven'"
      ]
     },
     "execution_count": 476,
     "metadata": {},
     "output_type": "execute_result"
    }
   ],
   "source": [
    "newlist.pop()"
   ]
  },
  {
   "cell_type": "code",
   "execution_count": 477,
   "id": "f84f7214",
   "metadata": {},
   "outputs": [
    {
     "data": {
      "text/plain": [
       "['ONE ALL CAPS', 'two', 'three', 4, 5, 'Six', 'Seven', 'Seven', 'seven']"
      ]
     },
     "execution_count": 477,
     "metadata": {},
     "output_type": "execute_result"
    }
   ],
   "source": [
    "newlist"
   ]
  },
  {
   "cell_type": "code",
   "execution_count": 482,
   "id": "3dd1c80f",
   "metadata": {},
   "outputs": [
    {
     "data": {
      "text/plain": [
       "'Seven'"
      ]
     },
     "execution_count": 482,
     "metadata": {},
     "output_type": "execute_result"
    }
   ],
   "source": [
    "newlist.pop()"
   ]
  },
  {
   "cell_type": "code",
   "execution_count": 483,
   "id": "33cfd847",
   "metadata": {},
   "outputs": [
    {
     "data": {
      "text/plain": [
       "['ONE ALL CAPS', 'two', 'three', 4, 5, 'Six']"
      ]
     },
     "execution_count": 483,
     "metadata": {},
     "output_type": "execute_result"
    }
   ],
   "source": [
    "newlist"
   ]
  },
  {
   "cell_type": "code",
   "execution_count": 486,
   "id": "abd8cd81",
   "metadata": {},
   "outputs": [],
   "source": [
    "popped_item = newlist.pop()"
   ]
  },
  {
   "cell_type": "code",
   "execution_count": 487,
   "id": "9812ff8d",
   "metadata": {},
   "outputs": [
    {
     "data": {
      "text/plain": [
       "5"
      ]
     },
     "execution_count": 487,
     "metadata": {},
     "output_type": "execute_result"
    }
   ],
   "source": [
    "popped_item"
   ]
  },
  {
   "cell_type": "code",
   "execution_count": 488,
   "id": "0b4a9ab6",
   "metadata": {},
   "outputs": [
    {
     "data": {
      "text/plain": [
       "['ONE ALL CAPS', 'two', 'three', 4]"
      ]
     },
     "execution_count": 488,
     "metadata": {},
     "output_type": "execute_result"
    }
   ],
   "source": [
    "newlist"
   ]
  },
  {
   "cell_type": "code",
   "execution_count": 496,
   "id": "f9f52dd3",
   "metadata": {},
   "outputs": [],
   "source": [
    "newlist.append(\"Five\")"
   ]
  },
  {
   "cell_type": "code",
   "execution_count": 497,
   "id": "82ab368c",
   "metadata": {},
   "outputs": [
    {
     "data": {
      "text/plain": [
       "['ONE ALL CAPS', 'two', 'three', 4, 'Five']"
      ]
     },
     "execution_count": 497,
     "metadata": {},
     "output_type": "execute_result"
    }
   ],
   "source": [
    "newlist"
   ]
  },
  {
   "cell_type": "code",
   "execution_count": 498,
   "id": "906298fc",
   "metadata": {},
   "outputs": [
    {
     "data": {
      "text/plain": [
       "'ONE ALL CAPS'"
      ]
     },
     "execution_count": 498,
     "metadata": {},
     "output_type": "execute_result"
    }
   ],
   "source": [
    "newlist.pop(0)"
   ]
  },
  {
   "cell_type": "code",
   "execution_count": 499,
   "id": "94ba2271",
   "metadata": {},
   "outputs": [
    {
     "data": {
      "text/plain": [
       "['two', 'three', 4, 'Five']"
      ]
     },
     "execution_count": 499,
     "metadata": {},
     "output_type": "execute_result"
    }
   ],
   "source": [
    "newlist"
   ]
  },
  {
   "cell_type": "code",
   "execution_count": 500,
   "id": "fca7e686",
   "metadata": {},
   "outputs": [
    {
     "data": {
      "text/plain": [
       "'Five'"
      ]
     },
     "execution_count": 500,
     "metadata": {},
     "output_type": "execute_result"
    }
   ],
   "source": [
    "newlist.pop(-1)"
   ]
  },
  {
   "cell_type": "code",
   "execution_count": 501,
   "id": "31700340",
   "metadata": {},
   "outputs": [
    {
     "data": {
      "text/plain": [
       "['two', 'three', 4]"
      ]
     },
     "execution_count": 501,
     "metadata": {},
     "output_type": "execute_result"
    }
   ],
   "source": [
    "newlist"
   ]
  },
  {
   "cell_type": "code",
   "execution_count": null,
   "id": "37a8d89c",
   "metadata": {},
   "outputs": [],
   "source": [
    "\n",
    "\n",
    "\n"
   ]
  },
  {
   "cell_type": "code",
   "execution_count": 502,
   "id": "5a06a485",
   "metadata": {},
   "outputs": [],
   "source": [
    "new_list=[\"a\",'e','x',\"b\",\"c\"]\n",
    "num_list=[4,1,8,3]"
   ]
  },
  {
   "cell_type": "code",
   "execution_count": 503,
   "id": "dd238c4f",
   "metadata": {},
   "outputs": [],
   "source": [
    "new_list.sort()"
   ]
  },
  {
   "cell_type": "code",
   "execution_count": 504,
   "id": "22cc8e7e",
   "metadata": {},
   "outputs": [
    {
     "data": {
      "text/plain": [
       "['a', 'b', 'c', 'e', 'x']"
      ]
     },
     "execution_count": 504,
     "metadata": {},
     "output_type": "execute_result"
    }
   ],
   "source": [
    "new_list"
   ]
  },
  {
   "cell_type": "code",
   "execution_count": 505,
   "id": "d3fbf41e",
   "metadata": {},
   "outputs": [
    {
     "data": {
      "text/plain": [
       "[4, 1, 8, 3]"
      ]
     },
     "execution_count": 505,
     "metadata": {},
     "output_type": "execute_result"
    }
   ],
   "source": [
    "num_list"
   ]
  },
  {
   "cell_type": "code",
   "execution_count": 506,
   "id": "7956fee2",
   "metadata": {},
   "outputs": [],
   "source": [
    "num_list.sort()"
   ]
  },
  {
   "cell_type": "code",
   "execution_count": 507,
   "id": "0b003d0f",
   "metadata": {},
   "outputs": [
    {
     "data": {
      "text/plain": [
       "[1, 3, 4, 8]"
      ]
     },
     "execution_count": 507,
     "metadata": {},
     "output_type": "execute_result"
    }
   ],
   "source": [
    "num_list"
   ]
  },
  {
   "cell_type": "code",
   "execution_count": 508,
   "id": "77dc0c4d",
   "metadata": {},
   "outputs": [],
   "source": [
    "num_list.reverse()"
   ]
  },
  {
   "cell_type": "code",
   "execution_count": 509,
   "id": "4a04d272",
   "metadata": {},
   "outputs": [
    {
     "data": {
      "text/plain": [
       "[8, 4, 3, 1]"
      ]
     },
     "execution_count": 509,
     "metadata": {},
     "output_type": "execute_result"
    }
   ],
   "source": [
    "num_list"
   ]
  },
  {
   "cell_type": "code",
   "execution_count": 510,
   "id": "0ed7230e",
   "metadata": {},
   "outputs": [
    {
     "data": {
      "text/plain": [
       "[8, 4, 3, 1]"
      ]
     },
     "execution_count": 510,
     "metadata": {},
     "output_type": "execute_result"
    }
   ],
   "source": [
    "num_list"
   ]
  },
  {
   "cell_type": "code",
   "execution_count": 13,
   "id": "74f33696",
   "metadata": {},
   "outputs": [],
   "source": [
    "\n",
    "#OM NAMAH SHIVAY\n",
    "#ABSOLUTE ZERO\n",
    "# NOTHING\n"
   ]
  },
  {
   "cell_type": "code",
   "execution_count": 72,
   "id": "feee7b96",
   "metadata": {},
   "outputs": [
    {
     "name": "stdout",
     "output_type": "stream",
     "text": [
      "I AM Iron Man\n",
      "hello, Iron Man!\n",
      "Hello, Iron Man \n",
      "Iron Man is the Best\n"
     ]
    }
   ],
   "source": [
    "person=input(\"I AM \")\n",
    "message=\"hello, {}!\".format(person)#if we use more than once '{}' in this code it will show error\n",
    "message1=\"Hello, {p} \\n{p} is the Best\".format(p=person)#but here it wont\n",
    "print(message)\n",
    "print(message1)"
   ]
  },
  {
   "cell_type": "code",
   "execution_count": 3,
   "id": "73ef74ff",
   "metadata": {},
   "outputs": [
    {
     "name": "stdout",
     "output_type": "stream",
     "text": [
      "iron\n"
     ]
    }
   ],
   "source": [
    "print(\"iron\")"
   ]
  },
  {
   "cell_type": "code",
   "execution_count": 55,
   "id": "570bd617",
   "metadata": {},
   "outputs": [
    {
     "name": "stdout",
     "output_type": "stream",
     "text": [
      "0  1  2  3  4  5  6  7  8  9  10  11  12  13  14  15  16  17  18  19  20  21  22  23  24  25  26  27  28  29  30  31  32  33  34  35  36  37  38  39  40  41  42  43  44  45  46  47  48  49  50  51  52  53  54  55  56  57  58  59  60  61  62  63  64  65  66  67  68  69  70  71  72  73  74  75  76  77  78  79  80  81  82  83  84  85  86  87  88  89  90  91  92  93  94  95  96  97  98  99  "
     ]
    }
   ],
   "source": [
    "import time\n",
    "\n",
    "for i in range (100): # 100 times will execute i.e. from 0 to 99\n",
    "    print(i,end='  ') # spaces\n",
    "    time.sleep(1) # \"1\" means 1 second; if we use '0.5' second it will work\n",
    "#to stop press \"cntrl+c\" OR interrupt the kernel"
   ]
  },
  {
   "cell_type": "code",
   "execution_count": null,
   "id": "37314420",
   "metadata": {},
   "outputs": [],
   "source": []
  },
  {
   "cell_type": "code",
   "execution_count": null,
   "id": "2e192674",
   "metadata": {},
   "outputs": [],
   "source": []
  },
  {
   "cell_type": "code",
   "execution_count": null,
   "id": "7a464f5d",
   "metadata": {},
   "outputs": [],
   "source": []
  },
  {
   "cell_type": "markdown",
   "id": "4d0d90aa",
   "metadata": {},
   "source": [
    "# 023 DICTIONARIES IN PYTHON\n",
    "# 18th JAN 2022"
   ]
  },
  {
   "cell_type": "code",
   "execution_count": 1,
   "id": "2441040a",
   "metadata": {},
   "outputs": [],
   "source": [
    "my_dict = {\"key1\":\"VALUE1\", 'key2':'value2'}"
   ]
  },
  {
   "cell_type": "code",
   "execution_count": 2,
   "id": "0fb0f7bf",
   "metadata": {},
   "outputs": [
    {
     "data": {
      "text/plain": [
       "{'key1': 'VALUE1', 'key2': 'value2'}"
      ]
     },
     "execution_count": 2,
     "metadata": {},
     "output_type": "execute_result"
    }
   ],
   "source": [
    "my_dict"
   ]
  },
  {
   "cell_type": "code",
   "execution_count": 3,
   "id": "0b162588",
   "metadata": {},
   "outputs": [
    {
     "data": {
      "text/plain": [
       "'VALUE1'"
      ]
     },
     "execution_count": 3,
     "metadata": {},
     "output_type": "execute_result"
    }
   ],
   "source": [
    "my_dict['key1']"
   ]
  },
  {
   "cell_type": "code",
   "execution_count": 4,
   "id": "487d8c94",
   "metadata": {},
   "outputs": [],
   "source": [
    "prices_lookup={'apple':2.99,\"oranges\":1.99, 'milk':5.80}"
   ]
  },
  {
   "cell_type": "code",
   "execution_count": 5,
   "id": "9ee2a7f9",
   "metadata": {},
   "outputs": [
    {
     "data": {
      "text/plain": [
       "2.99"
      ]
     },
     "execution_count": 5,
     "metadata": {},
     "output_type": "execute_result"
    }
   ],
   "source": [
    "prices_lookup['apple'] "
   ]
  },
  {
   "cell_type": "code",
   "execution_count": 6,
   "id": "c6258b22",
   "metadata": {},
   "outputs": [],
   "source": [
    "d= {'k1':123 ,  'k2':[0,1,2], 'k3':{\"insidekey\":100}}"
   ]
  },
  {
   "cell_type": "code",
   "execution_count": 7,
   "id": "353b6240",
   "metadata": {},
   "outputs": [
    {
     "data": {
      "text/plain": [
       "[0, 1, 2]"
      ]
     },
     "execution_count": 7,
     "metadata": {},
     "output_type": "execute_result"
    }
   ],
   "source": [
    "d['k2']"
   ]
  },
  {
   "cell_type": "code",
   "execution_count": 8,
   "id": "95681c42",
   "metadata": {},
   "outputs": [
    {
     "data": {
      "text/plain": [
       "{'insidekey': 100}"
      ]
     },
     "execution_count": 8,
     "metadata": {},
     "output_type": "execute_result"
    }
   ],
   "source": [
    "d['k3']"
   ]
  },
  {
   "cell_type": "code",
   "execution_count": 9,
   "id": "049189ed",
   "metadata": {},
   "outputs": [
    {
     "data": {
      "text/plain": [
       "100"
      ]
     },
     "execution_count": 9,
     "metadata": {},
     "output_type": "execute_result"
    }
   ],
   "source": [
    "d['k3'][\"insidekey\"]"
   ]
  },
  {
   "cell_type": "code",
   "execution_count": 10,
   "id": "52aa6c16",
   "metadata": {},
   "outputs": [
    {
     "name": "stdout",
     "output_type": "stream",
     "text": [
      "{'k1': 123, 'k2': [0, 1, 2], 'k3': {'insidekey': 100}}\n"
     ]
    }
   ],
   "source": [
    "print(d)"
   ]
  },
  {
   "cell_type": "code",
   "execution_count": 11,
   "id": "730468c0",
   "metadata": {},
   "outputs": [
    {
     "name": "stdout",
     "output_type": "stream",
     "text": [
      "<class 'dict'>\n"
     ]
    }
   ],
   "source": [
    "print(type(d))"
   ]
  },
  {
   "cell_type": "code",
   "execution_count": 12,
   "id": "002ff336",
   "metadata": {},
   "outputs": [
    {
     "name": "stdout",
     "output_type": "stream",
     "text": [
      "<class 'int'>\n"
     ]
    }
   ],
   "source": [
    "print(type(d['k1']))"
   ]
  },
  {
   "cell_type": "code",
   "execution_count": 13,
   "id": "27737655",
   "metadata": {},
   "outputs": [
    {
     "name": "stdout",
     "output_type": "stream",
     "text": [
      "<class 'list'>\n"
     ]
    }
   ],
   "source": [
    "print(type(d['k2']))"
   ]
  },
  {
   "cell_type": "code",
   "execution_count": 14,
   "id": "77b11321",
   "metadata": {},
   "outputs": [
    {
     "name": "stdout",
     "output_type": "stream",
     "text": [
      "<class 'dict'>\n"
     ]
    }
   ],
   "source": [
    "print(type(d['k3']))"
   ]
  },
  {
   "cell_type": "code",
   "execution_count": 15,
   "id": "dacd22a1",
   "metadata": {},
   "outputs": [
    {
     "name": "stdout",
     "output_type": "stream",
     "text": [
      "<class 'int'>\n"
     ]
    }
   ],
   "source": [
    "print(type(d['k3']['insidekey']))"
   ]
  },
  {
   "cell_type": "code",
   "execution_count": 16,
   "id": "6e5974c4",
   "metadata": {},
   "outputs": [],
   "source": [
    "# in Dictionaries we can add another dictionary inside it\n",
    "# also we can add list in it\n",
    "#\n",
    "\n"
   ]
  },
  {
   "cell_type": "code",
   "execution_count": 17,
   "id": "e3263db5",
   "metadata": {},
   "outputs": [],
   "source": [
    "d2= {'k1':123 ,  'k2':[0,1,2], 'k3':{\"insidekey\":{\"innerinsidekey\":9}}}"
   ]
  },
  {
   "cell_type": "code",
   "execution_count": 18,
   "id": "141d149e",
   "metadata": {},
   "outputs": [
    {
     "name": "stdout",
     "output_type": "stream",
     "text": [
      "{'k1': 123, 'k2': [0, 1, 2], 'k3': {'insidekey': {'innerinsidekey': 9}}}\n"
     ]
    }
   ],
   "source": [
    "print(d2)"
   ]
  },
  {
   "cell_type": "code",
   "execution_count": 19,
   "id": "583202b8",
   "metadata": {},
   "outputs": [
    {
     "data": {
      "text/plain": [
       "dict"
      ]
     },
     "execution_count": 19,
     "metadata": {},
     "output_type": "execute_result"
    }
   ],
   "source": [
    "type(d2)"
   ]
  },
  {
   "cell_type": "code",
   "execution_count": 20,
   "id": "4844f67a",
   "metadata": {},
   "outputs": [
    {
     "name": "stdout",
     "output_type": "stream",
     "text": [
      "<class 'dict'>\n"
     ]
    }
   ],
   "source": [
    "print(type(d2['k3']['insidekey']))"
   ]
  },
  {
   "cell_type": "code",
   "execution_count": 21,
   "id": "5830b962",
   "metadata": {},
   "outputs": [
    {
     "name": "stdout",
     "output_type": "stream",
     "text": [
      "<class 'int'>\n"
     ]
    }
   ],
   "source": [
    "print(type(d2['k3']['insidekey']['innerinsidekey']))"
   ]
  },
  {
   "cell_type": "code",
   "execution_count": 22,
   "id": "c360eff2",
   "metadata": {},
   "outputs": [
    {
     "name": "stdout",
     "output_type": "stream",
     "text": [
      "{'insidekey': {'innerinsidekey': 9}}\n"
     ]
    }
   ],
   "source": [
    "print(d2[\"k3\"])"
   ]
  },
  {
   "cell_type": "code",
   "execution_count": null,
   "id": "364f178c",
   "metadata": {},
   "outputs": [],
   "source": []
  },
  {
   "cell_type": "code",
   "execution_count": 23,
   "id": "f48dbfbe",
   "metadata": {},
   "outputs": [
    {
     "name": "stdout",
     "output_type": "stream",
     "text": [
      "9\n"
     ]
    }
   ],
   "source": [
    "print(d2[\"k3\"]['insidekey']['innerinsidekey'])\n",
    "#print(d2[\"k3\"]['innerinsidekey'])this is'nt allowed; above code should use\n"
   ]
  },
  {
   "cell_type": "code",
   "execution_count": null,
   "id": "8a4a5a7d",
   "metadata": {},
   "outputs": [],
   "source": []
  },
  {
   "cell_type": "code",
   "execution_count": 24,
   "id": "a64bdcb5",
   "metadata": {},
   "outputs": [
    {
     "name": "stdout",
     "output_type": "stream",
     "text": [
      "{'k1': 123, 'k2': [0, 1, 2], 'k3': {'insidekey': 100}}\n"
     ]
    }
   ],
   "source": [
    "print(d)"
   ]
  },
  {
   "cell_type": "code",
   "execution_count": 25,
   "id": "6110cd1c",
   "metadata": {},
   "outputs": [
    {
     "data": {
      "text/plain": [
       "[0, 1, 2]"
      ]
     },
     "execution_count": 25,
     "metadata": {},
     "output_type": "execute_result"
    }
   ],
   "source": [
    "d['k2']"
   ]
  },
  {
   "cell_type": "code",
   "execution_count": 26,
   "id": "abc6c09c",
   "metadata": {},
   "outputs": [
    {
     "data": {
      "text/plain": [
       "0"
      ]
     },
     "execution_count": 26,
     "metadata": {},
     "output_type": "execute_result"
    }
   ],
   "source": [
    "d['k2'][0] \n",
    "# grabbing no.'0' from list of dictionary \n",
    "# which is in second key having zero position/index location "
   ]
  },
  {
   "cell_type": "code",
   "execution_count": 27,
   "id": "771df32a",
   "metadata": {},
   "outputs": [
    {
     "data": {
      "text/plain": [
       "{'k1': 123, 'k2': [0, 1, 2], 'k3': {'insidekey': 100}}"
      ]
     },
     "execution_count": 27,
     "metadata": {},
     "output_type": "execute_result"
    }
   ],
   "source": [
    "d"
   ]
  },
  {
   "cell_type": "code",
   "execution_count": null,
   "id": "4668dd2b",
   "metadata": {},
   "outputs": [],
   "source": []
  },
  {
   "cell_type": "code",
   "execution_count": 28,
   "id": "1edff56a",
   "metadata": {},
   "outputs": [],
   "source": [
    "d={'key1':['a','b','c']}"
   ]
  },
  {
   "cell_type": "code",
   "execution_count": 29,
   "id": "7ca07c61",
   "metadata": {},
   "outputs": [
    {
     "data": {
      "text/plain": [
       "{'key1': ['a', 'b', 'c']}"
      ]
     },
     "execution_count": 29,
     "metadata": {},
     "output_type": "execute_result"
    }
   ],
   "source": [
    "d"
   ]
  },
  {
   "cell_type": "code",
   "execution_count": 34,
   "id": "8a32b525",
   "metadata": {},
   "outputs": [
    {
     "name": "stdout",
     "output_type": "stream",
     "text": [
      "['a', 'b', 'c']\n"
     ]
    }
   ],
   "source": [
    "#lets grab 'c'\n",
    "print(d['key1'])\n",
    "mylist=d['key1']"
   ]
  },
  {
   "cell_type": "code",
   "execution_count": 35,
   "id": "95da4223",
   "metadata": {},
   "outputs": [
    {
     "data": {
      "text/plain": [
       "['a', 'b', 'c']"
      ]
     },
     "execution_count": 35,
     "metadata": {},
     "output_type": "execute_result"
    }
   ],
   "source": [
    "mylist\n"
   ]
  },
  {
   "cell_type": "code",
   "execution_count": 36,
   "id": "7d34afd4",
   "metadata": {},
   "outputs": [],
   "source": [
    "letter= mylist[2]"
   ]
  },
  {
   "cell_type": "code",
   "execution_count": 37,
   "id": "710057be",
   "metadata": {},
   "outputs": [
    {
     "data": {
      "text/plain": [
       "'c'"
      ]
     },
     "execution_count": 37,
     "metadata": {},
     "output_type": "execute_result"
    }
   ],
   "source": [
    "letter"
   ]
  },
  {
   "cell_type": "code",
   "execution_count": 42,
   "id": "243d9aa6",
   "metadata": {},
   "outputs": [
    {
     "name": "stdout",
     "output_type": "stream",
     "text": [
      "C\n"
     ]
    }
   ],
   "source": [
    "print(letter.upper()) "
   ]
  },
  {
   "cell_type": "code",
   "execution_count": 40,
   "id": "c38c8ae1",
   "metadata": {},
   "outputs": [
    {
     "data": {
      "text/plain": [
       "'c'"
      ]
     },
     "execution_count": 40,
     "metadata": {},
     "output_type": "execute_result"
    }
   ],
   "source": [
    "d['key1'][2] #both way we can grab"
   ]
  },
  {
   "cell_type": "code",
   "execution_count": 45,
   "id": "cd7ef11f",
   "metadata": {},
   "outputs": [
    {
     "name": "stdout",
     "output_type": "stream",
     "text": [
      "C\n"
     ]
    }
   ],
   "source": [
    "print(d['key1'][2].upper()) # both way we can do this cool things\n",
    "# python is soo flexible"
   ]
  },
  {
   "cell_type": "code",
   "execution_count": null,
   "id": "3d6d6f1e",
   "metadata": {},
   "outputs": [],
   "source": []
  },
  {
   "cell_type": "code",
   "execution_count": 50,
   "id": "225c535a",
   "metadata": {},
   "outputs": [],
   "source": [
    "# lets add new key-value pair to the dictionaries\n",
    "d={\"k1\":100, 'k2':200}"
   ]
  },
  {
   "cell_type": "code",
   "execution_count": 51,
   "id": "3ab7cf6b",
   "metadata": {},
   "outputs": [
    {
     "data": {
      "text/plain": [
       "{'k1': 100, 'k2': 200}"
      ]
     },
     "execution_count": 51,
     "metadata": {},
     "output_type": "execute_result"
    }
   ],
   "source": [
    "d"
   ]
  },
  {
   "cell_type": "code",
   "execution_count": 52,
   "id": "9582e574",
   "metadata": {},
   "outputs": [],
   "source": [
    "d['k3']=300"
   ]
  },
  {
   "cell_type": "code",
   "execution_count": 53,
   "id": "cf579c0d",
   "metadata": {},
   "outputs": [
    {
     "data": {
      "text/plain": [
       "{'k1': 100, 'k2': 200, 'k3': 300}"
      ]
     },
     "execution_count": 53,
     "metadata": {},
     "output_type": "execute_result"
    }
   ],
   "source": [
    "d "
   ]
  },
  {
   "cell_type": "code",
   "execution_count": 55,
   "id": "a50d3678",
   "metadata": {},
   "outputs": [
    {
     "name": "stdout",
     "output_type": "stream",
     "text": [
      "{'k1': 'new value', 'k2': 200, 'k3': 300}\n"
     ]
    }
   ],
   "source": [
    "#lets change the value of key 'k1' i.e to assign new value to it\n",
    "d['k1']= \"new value\"\n",
    "print(d)"
   ]
  },
  {
   "cell_type": "code",
   "execution_count": null,
   "id": "7e9e3a99",
   "metadata": {},
   "outputs": [],
   "source": []
  },
  {
   "cell_type": "code",
   "execution_count": null,
   "id": "cdbfeb68",
   "metadata": {},
   "outputs": [],
   "source": []
  },
  {
   "cell_type": "code",
   "execution_count": null,
   "id": "9f7c125a",
   "metadata": {},
   "outputs": [],
   "source": [
    "#Lets learn some useful dictionary methods"
   ]
  },
  {
   "cell_type": "code",
   "execution_count": 56,
   "id": "7e600d25",
   "metadata": {},
   "outputs": [],
   "source": [
    "d={'k1': 100, 'k2': 200, 'k3': 300}"
   ]
  },
  {
   "cell_type": "code",
   "execution_count": 60,
   "id": "f1c6ca39",
   "metadata": {},
   "outputs": [
    {
     "name": "stdout",
     "output_type": "stream",
     "text": [
      "dict_keys(['k1', 'k2', 'k3'])\n"
     ]
    }
   ],
   "source": [
    "print(d.keys())"
   ]
  },
  {
   "cell_type": "code",
   "execution_count": 61,
   "id": "ceab5da1",
   "metadata": {},
   "outputs": [
    {
     "data": {
      "text/plain": [
       "dict_values([100, 200, 300])"
      ]
     },
     "execution_count": 61,
     "metadata": {},
     "output_type": "execute_result"
    }
   ],
   "source": [
    "d.values()"
   ]
  },
  {
   "cell_type": "code",
   "execution_count": 62,
   "id": "b9ee452d",
   "metadata": {},
   "outputs": [
    {
     "data": {
      "text/plain": [
       "dict_items([('k1', 100), ('k2', 200), ('k3', 300)])"
      ]
     },
     "execution_count": 62,
     "metadata": {},
     "output_type": "execute_result"
    }
   ],
   "source": [
    "d.items()"
   ]
  },
  {
   "cell_type": "code",
   "execution_count": 64,
   "id": "72eab863",
   "metadata": {},
   "outputs": [
    {
     "name": "stdout",
     "output_type": "stream",
     "text": [
      "dict_items([('k1', 100), ('k2', 200), ('k3', 300)])\n"
     ]
    }
   ],
   "source": [
    "print(d.items())"
   ]
  },
  {
   "cell_type": "code",
   "execution_count": 63,
   "id": "2a43fa21",
   "metadata": {},
   "outputs": [
    {
     "name": "stdout",
     "output_type": "stream",
     "text": [
      "<class 'dict_items'>\n"
     ]
    }
   ],
   "source": [
    "print(type(d.items()))"
   ]
  },
  {
   "cell_type": "code",
   "execution_count": 66,
   "id": "82a071d2",
   "metadata": {},
   "outputs": [
    {
     "name": "stdout",
     "output_type": "stream",
     "text": [
      "<class 'dict_keys'>\n"
     ]
    }
   ],
   "source": [
    "print(type(d.keys()))"
   ]
  },
  {
   "cell_type": "code",
   "execution_count": null,
   "id": "e79ceaf7",
   "metadata": {},
   "outputs": [],
   "source": []
  },
  {
   "cell_type": "code",
   "execution_count": null,
   "id": "752b8300",
   "metadata": {},
   "outputs": [],
   "source": []
  },
  {
   "cell_type": "code",
   "execution_count": null,
   "id": "c53fde3a",
   "metadata": {},
   "outputs": [],
   "source": []
  },
  {
   "cell_type": "code",
   "execution_count": null,
   "id": "373041db",
   "metadata": {},
   "outputs": [],
   "source": []
  },
  {
   "cell_type": "markdown",
   "id": "588bc587",
   "metadata": {},
   "source": [
    "# 025 TUPLES \n",
    "# 18 JAN 2022\n"
   ]
  },
  {
   "cell_type": "code",
   "execution_count": 1,
   "id": "73258ee8",
   "metadata": {},
   "outputs": [],
   "source": [
    "t=(1,2,3)"
   ]
  },
  {
   "cell_type": "code",
   "execution_count": 2,
   "id": "7e542d18",
   "metadata": {},
   "outputs": [],
   "source": [
    "mylist=[1,2,3]"
   ]
  },
  {
   "cell_type": "code",
   "execution_count": 3,
   "id": "fab3ecae",
   "metadata": {},
   "outputs": [
    {
     "data": {
      "text/plain": [
       "tuple"
      ]
     },
     "execution_count": 3,
     "metadata": {},
     "output_type": "execute_result"
    }
   ],
   "source": [
    "type(t)"
   ]
  },
  {
   "cell_type": "code",
   "execution_count": 4,
   "id": "18bbfe06",
   "metadata": {},
   "outputs": [
    {
     "data": {
      "text/plain": [
       "list"
      ]
     },
     "execution_count": 4,
     "metadata": {},
     "output_type": "execute_result"
    }
   ],
   "source": [
    "type(mylist)"
   ]
  },
  {
   "cell_type": "code",
   "execution_count": 5,
   "id": "b950a29e",
   "metadata": {},
   "outputs": [
    {
     "data": {
      "text/plain": [
       "3"
      ]
     },
     "execution_count": 5,
     "metadata": {},
     "output_type": "execute_result"
    }
   ],
   "source": [
    "len(t)"
   ]
  },
  {
   "cell_type": "code",
   "execution_count": 6,
   "id": "53d21ec6",
   "metadata": {},
   "outputs": [],
   "source": [
    "t=('one',2)"
   ]
  },
  {
   "cell_type": "code",
   "execution_count": 7,
   "id": "5fe9af36",
   "metadata": {},
   "outputs": [
    {
     "data": {
      "text/plain": [
       "('one', 2)"
      ]
     },
     "execution_count": 7,
     "metadata": {},
     "output_type": "execute_result"
    }
   ],
   "source": [
    "t"
   ]
  },
  {
   "cell_type": "code",
   "execution_count": 8,
   "id": "d4df3bc5",
   "metadata": {},
   "outputs": [
    {
     "data": {
      "text/plain": [
       "'one'"
      ]
     },
     "execution_count": 8,
     "metadata": {},
     "output_type": "execute_result"
    }
   ],
   "source": [
    "t[0]"
   ]
  },
  {
   "cell_type": "code",
   "execution_count": 9,
   "id": "b6405984",
   "metadata": {},
   "outputs": [
    {
     "name": "stdout",
     "output_type": "stream",
     "text": [
      "2\n"
     ]
    }
   ],
   "source": [
    "print(t[-1])"
   ]
  },
  {
   "cell_type": "code",
   "execution_count": 11,
   "id": "14f49539",
   "metadata": {},
   "outputs": [
    {
     "data": {
      "text/plain": [
       "('one', 2)"
      ]
     },
     "execution_count": 11,
     "metadata": {},
     "output_type": "execute_result"
    }
   ],
   "source": [
    "t[:] # TUPLES Supports slicing and indexing"
   ]
  },
  {
   "cell_type": "code",
   "execution_count": 15,
   "id": "17b06400",
   "metadata": {},
   "outputs": [],
   "source": [
    "t=('one',\"one\",'one,one',2,2)"
   ]
  },
  {
   "cell_type": "code",
   "execution_count": 16,
   "id": "b40ddded",
   "metadata": {},
   "outputs": [
    {
     "data": {
      "text/plain": [
       "('one', 'one', 'one,one', 2, 2)"
      ]
     },
     "execution_count": 16,
     "metadata": {},
     "output_type": "execute_result"
    }
   ],
   "source": [
    "t"
   ]
  },
  {
   "cell_type": "code",
   "execution_count": 17,
   "id": "ceef0451",
   "metadata": {},
   "outputs": [
    {
     "data": {
      "text/plain": [
       "('one', 'one,one', 2)"
      ]
     },
     "execution_count": 17,
     "metadata": {},
     "output_type": "execute_result"
    }
   ],
   "source": [
    "t[::2]"
   ]
  },
  {
   "cell_type": "code",
   "execution_count": 18,
   "id": "adc47162",
   "metadata": {},
   "outputs": [
    {
     "data": {
      "text/plain": [
       "tuple"
      ]
     },
     "execution_count": 18,
     "metadata": {},
     "output_type": "execute_result"
    }
   ],
   "source": [
    "type(t)"
   ]
  },
  {
   "cell_type": "code",
   "execution_count": 19,
   "id": "74dffd89",
   "metadata": {},
   "outputs": [
    {
     "data": {
      "text/plain": [
       "str"
      ]
     },
     "execution_count": 19,
     "metadata": {},
     "output_type": "execute_result"
    }
   ],
   "source": [
    "type(t[0])"
   ]
  },
  {
   "cell_type": "code",
   "execution_count": 20,
   "id": "fb4b4140",
   "metadata": {},
   "outputs": [
    {
     "data": {
      "text/plain": [
       "int"
      ]
     },
     "execution_count": 20,
     "metadata": {},
     "output_type": "execute_result"
    }
   ],
   "source": [
    "type(t[4])"
   ]
  },
  {
   "cell_type": "code",
   "execution_count": 21,
   "id": "bbaa2598",
   "metadata": {},
   "outputs": [
    {
     "name": "stdout",
     "output_type": "stream",
     "text": [
      "('one', 'one', 'one,one', 2, 2)\n"
     ]
    }
   ],
   "source": [
    "print(t)"
   ]
  },
  {
   "cell_type": "code",
   "execution_count": 33,
   "id": "3c9e5080",
   "metadata": {},
   "outputs": [
    {
     "name": "stdout",
     "output_type": "stream",
     "text": [
      "2\n",
      "0\n",
      "2\n"
     ]
    }
   ],
   "source": [
    "# two basic built-in methods of tuple :- 1.count 2.index\n",
    "\n",
    "print(t.count('one'))\n",
    "\n",
    "print(t.count(\"nine\"))\n",
    "\n",
    "print(t.count(2))"
   ]
  },
  {
   "cell_type": "code",
   "execution_count": 36,
   "id": "2f086aa9",
   "metadata": {},
   "outputs": [
    {
     "name": "stdout",
     "output_type": "stream",
     "text": [
      "3\n",
      "0\n",
      "2\n"
     ]
    }
   ],
   "source": [
    "print(t.index(2))\n",
    "\n",
    "print(t.index(\"one\"))\n",
    "\n",
    "print(t.index(\"one,one\"))"
   ]
  },
  {
   "cell_type": "code",
   "execution_count": 38,
   "id": "82fc4587",
   "metadata": {},
   "outputs": [],
   "source": [
    "# Tuples are IMMUTABLE BUT list are'nt"
   ]
  },
  {
   "cell_type": "code",
   "execution_count": 39,
   "id": "4ab40129",
   "metadata": {},
   "outputs": [
    {
     "data": {
      "text/plain": [
       "('one', 'one', 'one,one', 2, 2)"
      ]
     },
     "execution_count": 39,
     "metadata": {},
     "output_type": "execute_result"
    }
   ],
   "source": [
    "t"
   ]
  },
  {
   "cell_type": "code",
   "execution_count": 41,
   "id": "c41fb3f2",
   "metadata": {},
   "outputs": [
    {
     "data": {
      "text/plain": [
       "[1, 2, 3]"
      ]
     },
     "execution_count": 41,
     "metadata": {},
     "output_type": "execute_result"
    }
   ],
   "source": [
    "mylist=[1,2,3]\n",
    "mylist"
   ]
  },
  {
   "cell_type": "code",
   "execution_count": 45,
   "id": "514c31eb",
   "metadata": {},
   "outputs": [
    {
     "data": {
      "text/plain": [
       "['New', 2, 3]"
      ]
     },
     "execution_count": 45,
     "metadata": {},
     "output_type": "execute_result"
    }
   ],
   "source": [
    "mylist[0]=\"New\" #lIST SUPPORTS ITEM ASSIGNMENT\n",
    "mylist"
   ]
  },
  {
   "cell_type": "code",
   "execution_count": 46,
   "id": "1baab9e9",
   "metadata": {},
   "outputs": [],
   "source": [
    "# t[0]=\"New\"  THIS WILL SHOW (AN ERROR)\n",
    "#'tuple' object does not support item assignment SINCE TUPLES ARE IMMUTABLE"
   ]
  },
  {
   "cell_type": "code",
   "execution_count": 53,
   "id": "c908b1f5",
   "metadata": {},
   "outputs": [],
   "source": [
    "# t=t+\"string\"[can only concatenate tuple (not \"str\") to tuple] shows error\n"
   ]
  },
  {
   "cell_type": "code",
   "execution_count": 64,
   "id": "74b8324d",
   "metadata": {},
   "outputs": [
    {
     "name": "stdout",
     "output_type": "stream",
     "text": [
      "5 <class 'tuple'> one\n"
     ]
    }
   ],
   "source": [
    "print(len(t) ,type(t), t[1])"
   ]
  },
  {
   "cell_type": "code",
   "execution_count": null,
   "id": "5e6b9526",
   "metadata": {},
   "outputs": [],
   "source": []
  },
  {
   "cell_type": "code",
   "execution_count": null,
   "id": "289cf7f7",
   "metadata": {},
   "outputs": [],
   "source": []
  },
  {
   "cell_type": "code",
   "execution_count": null,
   "id": "bab4b78e",
   "metadata": {},
   "outputs": [],
   "source": []
  },
  {
   "cell_type": "markdown",
   "id": "ccd62867",
   "metadata": {},
   "source": [
    "# 026 SETS"
   ]
  },
  {
   "cell_type": "code",
   "execution_count": 70,
   "id": "71c68509",
   "metadata": {},
   "outputs": [
    {
     "name": "stdout",
     "output_type": "stream",
     "text": [
      "set()\n"
     ]
    }
   ],
   "source": [
    "#sets are unorderd collectios of unique elements\n",
    "myset= set()\n",
    "print(myset)"
   ]
  },
  {
   "cell_type": "code",
   "execution_count": 82,
   "id": "2f1f0a78",
   "metadata": {},
   "outputs": [
    {
     "data": {
      "text/plain": [
       "{1}"
      ]
     },
     "execution_count": 82,
     "metadata": {},
     "output_type": "execute_result"
    }
   ],
   "source": [
    "myset.add(1)\n",
    "myset"
   ]
  },
  {
   "cell_type": "code",
   "execution_count": 88,
   "id": "d95a7041",
   "metadata": {},
   "outputs": [],
   "source": [
    "myset.add(2)"
   ]
  },
  {
   "cell_type": "code",
   "execution_count": 89,
   "id": "af9236ca",
   "metadata": {},
   "outputs": [
    {
     "data": {
      "text/plain": [
       "{1, 2, 'd'}"
      ]
     },
     "execution_count": 89,
     "metadata": {},
     "output_type": "execute_result"
    }
   ],
   "source": [
    "myset"
   ]
  },
  {
   "cell_type": "code",
   "execution_count": 93,
   "id": "f9548670",
   "metadata": {},
   "outputs": [
    {
     "data": {
      "text/plain": [
       "2"
      ]
     },
     "execution_count": 93,
     "metadata": {},
     "output_type": "execute_result"
    }
   ],
   "source": [
    "myset.pop()"
   ]
  },
  {
   "cell_type": "code",
   "execution_count": 94,
   "id": "1354cce6",
   "metadata": {},
   "outputs": [
    {
     "data": {
      "text/plain": [
       "{'d'}"
      ]
     },
     "execution_count": 94,
     "metadata": {},
     "output_type": "execute_result"
    }
   ],
   "source": [
    "myset"
   ]
  },
  {
   "cell_type": "code",
   "execution_count": 95,
   "id": "b7c82571",
   "metadata": {},
   "outputs": [],
   "source": [
    "myset=set()"
   ]
  },
  {
   "cell_type": "code",
   "execution_count": 96,
   "id": "ac524082",
   "metadata": {},
   "outputs": [
    {
     "data": {
      "text/plain": [
       "set()"
      ]
     },
     "execution_count": 96,
     "metadata": {},
     "output_type": "execute_result"
    }
   ],
   "source": [
    "myset"
   ]
  },
  {
   "cell_type": "code",
   "execution_count": 97,
   "id": "47355f41",
   "metadata": {},
   "outputs": [],
   "source": [
    "myset.add(1)"
   ]
  },
  {
   "cell_type": "code",
   "execution_count": 98,
   "id": "05ca5824",
   "metadata": {},
   "outputs": [
    {
     "data": {
      "text/plain": [
       "{1}"
      ]
     },
     "execution_count": 98,
     "metadata": {},
     "output_type": "execute_result"
    }
   ],
   "source": [
    "myset"
   ]
  },
  {
   "cell_type": "code",
   "execution_count": 99,
   "id": "693a38b0",
   "metadata": {},
   "outputs": [],
   "source": [
    "myset.add(2)"
   ]
  },
  {
   "cell_type": "code",
   "execution_count": 100,
   "id": "dcde18f4",
   "metadata": {},
   "outputs": [
    {
     "data": {
      "text/plain": [
       "{1, 2}"
      ]
     },
     "execution_count": 100,
     "metadata": {},
     "output_type": "execute_result"
    }
   ],
   "source": [
    "myset"
   ]
  },
  {
   "cell_type": "code",
   "execution_count": 103,
   "id": "7b231365",
   "metadata": {},
   "outputs": [],
   "source": [
    "myset.add(2)#it will not add this \"2\" 'cause its already present\n",
    "# SINCE sets are unorderd collectios of unique elements"
   ]
  },
  {
   "cell_type": "code",
   "execution_count": 104,
   "id": "f6bc69ff",
   "metadata": {},
   "outputs": [
    {
     "data": {
      "text/plain": [
       "{1, 2}"
      ]
     },
     "execution_count": 104,
     "metadata": {},
     "output_type": "execute_result"
    }
   ],
   "source": [
    "myset"
   ]
  },
  {
   "cell_type": "code",
   "execution_count": 113,
   "id": "d2274881",
   "metadata": {},
   "outputs": [],
   "source": [
    "mylist=[1,2,1,5,2,2,2,3,3,4,4,5,5,6,6,]"
   ]
  },
  {
   "cell_type": "code",
   "execution_count": 114,
   "id": "d466eb78",
   "metadata": {},
   "outputs": [
    {
     "data": {
      "text/plain": [
       "{1, 2, 3, 4, 5, 6}"
      ]
     },
     "execution_count": 114,
     "metadata": {},
     "output_type": "execute_result"
    }
   ],
   "source": [
    "set(mylist)"
   ]
  },
  {
   "cell_type": "code",
   "execution_count": null,
   "id": "fdd0ee92",
   "metadata": {},
   "outputs": [],
   "source": []
  },
  {
   "cell_type": "code",
   "execution_count": null,
   "id": "4ddd87d6",
   "metadata": {},
   "outputs": [],
   "source": []
  },
  {
   "cell_type": "code",
   "execution_count": null,
   "id": "acbeb613",
   "metadata": {},
   "outputs": [],
   "source": []
  },
  {
   "cell_type": "markdown",
   "id": "ff0ce387",
   "metadata": {},
   "source": [
    "# 027 BOOLEANS\n",
    "# 18 JAN 2022"
   ]
  },
  {
   "cell_type": "code",
   "execution_count": 118,
   "id": "1f4ddb58",
   "metadata": {},
   "outputs": [
    {
     "data": {
      "text/plain": [
       "True"
      ]
     },
     "execution_count": 118,
     "metadata": {},
     "output_type": "execute_result"
    }
   ],
   "source": [
    "True\n",
    "#true will wont work ; dont forget capital 'T'"
   ]
  },
  {
   "cell_type": "code",
   "execution_count": 124,
   "id": "93f3ee96",
   "metadata": {},
   "outputs": [
    {
     "data": {
      "text/plain": [
       "bool"
      ]
     },
     "execution_count": 124,
     "metadata": {},
     "output_type": "execute_result"
    }
   ],
   "source": [
    "type(True)"
   ]
  },
  {
   "cell_type": "code",
   "execution_count": 125,
   "id": "d90570e6",
   "metadata": {},
   "outputs": [
    {
     "data": {
      "text/plain": [
       "bool"
      ]
     },
     "execution_count": 125,
     "metadata": {},
     "output_type": "execute_result"
    }
   ],
   "source": [
    "type(False)"
   ]
  },
  {
   "cell_type": "code",
   "execution_count": 127,
   "id": "a7fbab30",
   "metadata": {},
   "outputs": [
    {
     "name": "stdout",
     "output_type": "stream",
     "text": [
      "False\n"
     ]
    }
   ],
   "source": [
    "print(1>3)"
   ]
  },
  {
   "cell_type": "code",
   "execution_count": 130,
   "id": "81b8ee4a",
   "metadata": {},
   "outputs": [
    {
     "name": "stdout",
     "output_type": "stream",
     "text": [
      "True\n",
      "False\n"
     ]
    }
   ],
   "source": [
    "print(1==1)\n",
    "print(1==3)"
   ]
  },
  {
   "cell_type": "code",
   "execution_count": 131,
   "id": "7fc0e741",
   "metadata": {},
   "outputs": [
    {
     "data": {
      "text/plain": [
       "True"
      ]
     },
     "execution_count": 131,
     "metadata": {},
     "output_type": "execute_result"
    }
   ],
   "source": [
    "0==0"
   ]
  },
  {
   "cell_type": "code",
   "execution_count": 133,
   "id": "e0336581",
   "metadata": {},
   "outputs": [
    {
     "name": "stdout",
     "output_type": "stream",
     "text": [
      "None\n"
     ]
    }
   ],
   "source": [
    "print(None)"
   ]
  },
  {
   "cell_type": "code",
   "execution_count": 134,
   "id": "b9c25f4b",
   "metadata": {},
   "outputs": [],
   "source": [
    "None"
   ]
  },
  {
   "cell_type": "code",
   "execution_count": 135,
   "id": "b23fd19e",
   "metadata": {},
   "outputs": [],
   "source": [
    "b=None"
   ]
  },
  {
   "cell_type": "code",
   "execution_count": 137,
   "id": "1aacb700",
   "metadata": {},
   "outputs": [
    {
     "name": "stdout",
     "output_type": "stream",
     "text": [
      "None\n"
     ]
    }
   ],
   "source": [
    "print(b)"
   ]
  },
  {
   "cell_type": "code",
   "execution_count": 138,
   "id": "9762c98e",
   "metadata": {},
   "outputs": [],
   "source": [
    "b"
   ]
  },
  {
   "cell_type": "code",
   "execution_count": null,
   "id": "4537ce99",
   "metadata": {},
   "outputs": [],
   "source": []
  },
  {
   "cell_type": "code",
   "execution_count": null,
   "id": "f78be363",
   "metadata": {},
   "outputs": [],
   "source": []
  },
  {
   "cell_type": "markdown",
   "id": "427665b2",
   "metadata": {},
   "source": [
    "# THANK YOU (18 JAN 2022)\n",
    "# VISIT NEXT FILE \"PyJOSE2nd\" \n",
    "# CHAK DE PHATTE\n",
    "\n",
    "# THE TRUTH IS I AM THE BEST"
   ]
  },
  {
   "cell_type": "code",
   "execution_count": null,
   "id": "aec55f72",
   "metadata": {},
   "outputs": [],
   "source": []
  }
 ],
 "metadata": {
  "kernelspec": {
   "display_name": "Python 3 (ipykernel)",
   "language": "python",
   "name": "python3"
  },
  "language_info": {
   "codemirror_mode": {
    "name": "ipython",
    "version": 3
   },
   "file_extension": ".py",
   "mimetype": "text/x-python",
   "name": "python",
   "nbconvert_exporter": "python",
   "pygments_lexer": "ipython3",
   "version": "3.8.6"
  }
 },
 "nbformat": 4,
 "nbformat_minor": 5
}
