{
 "cells": [
  {
   "cell_type": "markdown",
   "id": "cb600a05",
   "metadata": {},
   "source": [
    "## Errors and Exceptions Handling"
   ]
  },
  {
   "cell_type": "code",
   "execution_count": 1,
   "id": "e64987c3",
   "metadata": {},
   "outputs": [],
   "source": [
    "def add(n1,n2):\n",
    "    print(n1+n2)"
   ]
  },
  {
   "cell_type": "code",
   "execution_count": 2,
   "id": "cf5215b5",
   "metadata": {},
   "outputs": [
    {
     "name": "stdout",
     "output_type": "stream",
     "text": [
      "8\n"
     ]
    }
   ],
   "source": [
    "add(3,5)"
   ]
  },
  {
   "cell_type": "code",
   "execution_count": 3,
   "id": "b440fb38",
   "metadata": {},
   "outputs": [],
   "source": [
    "n1= 4"
   ]
  },
  {
   "cell_type": "code",
   "execution_count": 4,
   "id": "d41e29bd",
   "metadata": {},
   "outputs": [
    {
     "name": "stdout",
     "output_type": "stream",
     "text": [
      "please enter number: 9\n"
     ]
    }
   ],
   "source": [
    "n2 = input('please enter number: ')"
   ]
  },
  {
   "cell_type": "code",
   "execution_count": 5,
   "id": "1aade356",
   "metadata": {},
   "outputs": [],
   "source": [
    "# n2 is not a number, it is string \n",
    "\n",
    "# add(n1+n2)\n",
    "# ---------------------------------------------------------------------------\n",
    "# TypeError                                 Traceback (most recent call last)\n",
    "# Input In [6], in <module>\n",
    "# ----> 1 add(n1+n2)\n",
    "\n",
    "# TypeError: unsupported operand type(s) for +: 'int' and 'str'"
   ]
  },
  {
   "cell_type": "code",
   "execution_count": 6,
   "id": "1f7d9000",
   "metadata": {},
   "outputs": [
    {
     "name": "stdout",
     "output_type": "stream",
     "text": [
      "please enter no.:7\n"
     ]
    }
   ],
   "source": [
    "n2 = int(input('please enter no.:'))"
   ]
  },
  {
   "cell_type": "code",
   "execution_count": 7,
   "id": "412be99f",
   "metadata": {},
   "outputs": [
    {
     "name": "stdout",
     "output_type": "stream",
     "text": [
      "11\n"
     ]
    }
   ],
   "source": [
    "add(n1,n2)"
   ]
  },
  {
   "cell_type": "code",
   "execution_count": null,
   "id": "9f12491c",
   "metadata": {},
   "outputs": [],
   "source": []
  },
  {
   "cell_type": "code",
   "execution_count": 8,
   "id": "88093ad7",
   "metadata": {},
   "outputs": [
    {
     "name": "stdout",
     "output_type": "stream",
     "text": [
      "please enter no.:9\n"
     ]
    }
   ],
   "source": [
    "n2 = input('please enter no.:')"
   ]
  },
  {
   "cell_type": "code",
   "execution_count": 9,
   "id": "d6b28a45",
   "metadata": {},
   "outputs": [],
   "source": [
    "# print(\"Something Happened!\") after add(n1+n2) will not get printed because add(n1+n2) gives out error and the program stops.\n",
    "\n",
    "# add(n1+n2)\n",
    "# print(\"Something Happened!\")\n",
    "\n",
    "# ---------------------------------------------------------------------------\n",
    "# TypeError                                 Traceback (most recent call last)\n",
    "# Input In [13], in <module>\n",
    "# ----> 1 add(n1+n2)\n",
    "#       2 print(\"Something Happened!\")\n",
    "\n",
    "# TypeError: unsupported operand type(s) for +: 'int' and 'str'"
   ]
  },
  {
   "cell_type": "code",
   "execution_count": 10,
   "id": "42c39cc6",
   "metadata": {},
   "outputs": [],
   "source": [
    "try:\n",
    "    result = 10+10\n",
    "    \n",
    "except:\n",
    "    print(\"It looks like you are'nt adding correctly! \")"
   ]
  },
  {
   "cell_type": "code",
   "execution_count": 11,
   "id": "74388f74",
   "metadata": {},
   "outputs": [
    {
     "data": {
      "text/plain": [
       "20"
      ]
     },
     "execution_count": 11,
     "metadata": {},
     "output_type": "execute_result"
    }
   ],
   "source": [
    "result"
   ]
  },
  {
   "cell_type": "code",
   "execution_count": 12,
   "id": "4b12b499",
   "metadata": {},
   "outputs": [
    {
     "name": "stdout",
     "output_type": "stream",
     "text": [
      "It looks like you are'nt adding correctly! \n"
     ]
    }
   ],
   "source": [
    "try:\n",
    "    result = 10+'10'\n",
    "    \n",
    "except:\n",
    "    print(\"It looks like you are'nt adding correctly! \")\n",
    "    "
   ]
  },
  {
   "cell_type": "markdown",
   "id": "fb023a8b",
   "metadata": {},
   "source": [
    "### The try, except, and else blocks are used in Python for handling exceptions, allowing you to gracefully manage errors and unexpected situations in your code. Here's how they work:\n",
    "\n",
    "### try block: This block contains the code that you want to execute. It's the part of the code where you anticipate that an exception might occur.\n",
    "\n",
    "### except block: This block is executed if an exception occurs within the try block. You can specify the type of exception you want to catch, or you can catch all exceptions using a generic except block. Inside the except block, you can handle the exception, log the error, or take any necessary actions to recover from the exception.\n",
    "\n",
    "### else block (optional): This block is executed if no exceptions occur within the try block. It allows you to specify code that should only run if the try block completes successfully, without raising any exceptions"
   ]
  },
  {
   "cell_type": "code",
   "execution_count": 13,
   "id": "6f5a5e00",
   "metadata": {},
   "outputs": [
    {
     "name": "stdout",
     "output_type": "stream",
     "text": [
      "ADD went well!\n",
      "20\n"
     ]
    }
   ],
   "source": [
    "try:\n",
    "    result = 10+10\n",
    "    \n",
    "except:\n",
    "    print(\"It looks like you are'nt adding correctly! \")\n",
    "\n",
    "else: \n",
    "    print(\"ADD went well!\")\n",
    "    print(result)"
   ]
  },
  {
   "cell_type": "code",
   "execution_count": 14,
   "id": "2200a615",
   "metadata": {},
   "outputs": [
    {
     "name": "stdout",
     "output_type": "stream",
     "text": [
      "It looks like you are'nt adding correctly! \n"
     ]
    }
   ],
   "source": [
    "try:\n",
    "    result = '10'+10\n",
    "    \n",
    "except:\n",
    "    print(\"It looks like you are'nt adding correctly! \")\n",
    "\n",
    "else: \n",
    "    print(\"ADD went well!\")\n",
    "    print(result)"
   ]
  },
  {
   "cell_type": "code",
   "execution_count": null,
   "id": "dd07d7e5",
   "metadata": {},
   "outputs": [],
   "source": []
  },
  {
   "cell_type": "markdown",
   "id": "bce72ed2",
   "metadata": {},
   "source": [
    "\n",
    "### The finally block is another part of exception handling in Python that can be used in conjunction with try and except blocks. The finally block is always executed regardless of whether an exception occurs or not, and it's typically used for cleanup code that needs to be executed under all circumstances.\n",
    "\n"
   ]
  },
  {
   "cell_type": "code",
   "execution_count": 15,
   "id": "93bda925",
   "metadata": {},
   "outputs": [
    {
     "name": "stdout",
     "output_type": "stream",
     "text": [
      "I always Run\n"
     ]
    }
   ],
   "source": [
    "try:\n",
    "    f = open(\"testfile\",\"w\")\n",
    "    f.write(\"Write a test line\")\n",
    "    \n",
    "except TypeError:\n",
    "    print('There was a type error')\n",
    "    \n",
    "except OSError:\n",
    "    print(\"Hey you have an OSError\")\n",
    "    \n",
    "finally:\n",
    "    print(\"I always Run\")"
   ]
  },
  {
   "cell_type": "code",
   "execution_count": 16,
   "id": "e0340cfc",
   "metadata": {},
   "outputs": [
    {
     "name": "stdout",
     "output_type": "stream",
     "text": [
      "Hey you an OSError\n",
      "I always Run\n"
     ]
    }
   ],
   "source": [
    "try:\n",
    "    f = open(\"testfile\",\"r\")\n",
    "    f.write(\"Write a test line\")\n",
    "    \n",
    "except TypeError:\n",
    "    print('There was a typr error')\n",
    "    \n",
    "except OSError:\n",
    "    print(\"Hey you an OSError\")\n",
    "    \n",
    "finally:\n",
    "    print(\"I always Run\")"
   ]
  },
  {
   "cell_type": "code",
   "execution_count": 17,
   "id": "0ac77fe8",
   "metadata": {},
   "outputs": [
    {
     "name": "stdout",
     "output_type": "stream",
     "text": [
      "All other exceptions\n",
      "I always Run\n"
     ]
    }
   ],
   "source": [
    "try:\n",
    "    f = open(\"testfile\",\"r\")\n",
    "    f.write(\"Write a test line\")\n",
    "    \n",
    "except TypeError:\n",
    "    print('There was a typr error')\n",
    "    \n",
    "except:\n",
    "    print(\"All other exceptions\")\n",
    "    \n",
    "finally:\n",
    "    print(\"I always Run\")"
   ]
  },
  {
   "cell_type": "code",
   "execution_count": 18,
   "id": "c6858934",
   "metadata": {},
   "outputs": [
    {
     "name": "stdout",
     "output_type": "stream",
     "text": [
      "All other exceptions\n",
      "I always Run\n"
     ]
    }
   ],
   "source": [
    "try:\n",
    "    f = open(\"testfile\",\"r\")\n",
    "    f.write(\"Write a test line\")\n",
    "    \n",
    "except:\n",
    "    print(\"All other exceptions\")\n",
    "    \n",
    "finally:\n",
    "    print(\"I always Run\")"
   ]
  },
  {
   "cell_type": "code",
   "execution_count": 19,
   "id": "53b9abae",
   "metadata": {},
   "outputs": [
    {
     "name": "stdout",
     "output_type": "stream",
     "text": [
      "I always Run\n"
     ]
    }
   ],
   "source": [
    "try:\n",
    "    f = open(\"testfile\",\"w\")\n",
    "    f.write(\"Write a test line\")\n",
    "    \n",
    "except:\n",
    "    print(\"All other exceptions\")\n",
    "    \n",
    "finally:\n",
    "    print(\"I always Run\")"
   ]
  },
  {
   "cell_type": "code",
   "execution_count": 20,
   "id": "13a05d54",
   "metadata": {},
   "outputs": [],
   "source": [
    "def ask_for_int():\n",
    "    try:\n",
    "        result = int(input(\"Enter no.\"))\n",
    "        \n",
    "    except:\n",
    "        print(\"WHOOPS that's not a no.\")\n",
    "        \n",
    "    finally:\n",
    "        print(\"End of try/except/finally\")"
   ]
  },
  {
   "cell_type": "code",
   "execution_count": 21,
   "id": "7201f8b2",
   "metadata": {},
   "outputs": [
    {
     "name": "stdout",
     "output_type": "stream",
     "text": [
      "Enter no.James\n",
      "WHOOPS that's not a no.\n",
      "End of try/except/finally\n"
     ]
    }
   ],
   "source": [
    "ask_for_int()"
   ]
  },
  {
   "cell_type": "code",
   "execution_count": 22,
   "id": "5d1c7ede",
   "metadata": {
    "scrolled": true
   },
   "outputs": [
    {
     "name": "stdout",
     "output_type": "stream",
     "text": [
      "Enter no.7\n",
      "End of try/except/finally\n"
     ]
    }
   ],
   "source": [
    "ask_for_int()"
   ]
  },
  {
   "cell_type": "code",
   "execution_count": null,
   "id": "2db4d8ab",
   "metadata": {},
   "outputs": [],
   "source": []
  },
  {
   "cell_type": "code",
   "execution_count": 23,
   "id": "b84972e0",
   "metadata": {},
   "outputs": [],
   "source": [
    "def ask_for_int():\n",
    "    \n",
    "    while True:\n",
    "        try :\n",
    "            result = int(input (\"Enter no.\"))\n",
    "\n",
    "        except:\n",
    "            print(\"WHOOPS that's not a no.\")\n",
    "            continue\n",
    "            \n",
    "        else:\n",
    "            print(\"Yes, Thank You!\")\n",
    "            break\n",
    "\n",
    "        finally:\n",
    "            print(\"End of try/except/finally\")\n",
    "            print('I will always run at the end\\n')"
   ]
  },
  {
   "cell_type": "code",
   "execution_count": 24,
   "id": "5f8d03ca",
   "metadata": {
    "scrolled": true
   },
   "outputs": [
    {
     "data": {
      "text/plain": [
       "<function __main__.ask_for_int()>"
      ]
     },
     "execution_count": 24,
     "metadata": {},
     "output_type": "execute_result"
    }
   ],
   "source": [
    "ask_for_int"
   ]
  },
  {
   "cell_type": "code",
   "execution_count": 25,
   "id": "22cd460c",
   "metadata": {},
   "outputs": [
    {
     "name": "stdout",
     "output_type": "stream",
     "text": [
      "Enter no.James\n",
      "WHOOPS that's not a no.\n",
      "End of try/except/finally\n",
      "I will always run at the end\n",
      "\n",
      "Enter no.James Bond\n",
      "WHOOPS that's not a no.\n",
      "End of try/except/finally\n",
      "I will always run at the end\n",
      "\n",
      "Enter no.007\n",
      "Yes, Thank You!\n",
      "End of try/except/finally\n",
      "I will always run at the end\n",
      "\n"
     ]
    }
   ],
   "source": [
    "ask_for_int()"
   ]
  },
  {
   "cell_type": "code",
   "execution_count": 26,
   "id": "34c3dc5b",
   "metadata": {},
   "outputs": [
    {
     "name": "stdout",
     "output_type": "stream",
     "text": [
      "Enter no.7\n",
      "Yes, Thank You!\n",
      "End of try/except/finally\n",
      "I will always run at the end\n",
      "\n"
     ]
    }
   ],
   "source": [
    "ask_for_int()"
   ]
  },
  {
   "cell_type": "code",
   "execution_count": 27,
   "id": "2340f0e3",
   "metadata": {},
   "outputs": [],
   "source": [
    "def ask_for_int():\n",
    "    \n",
    "    while True:\n",
    "        try :\n",
    "            result = int(input (\"Enter no.\"))\n",
    "\n",
    "        except:\n",
    "            print(\"WHOOPS that's not a no.\")\n",
    "            continue\n",
    "            \n",
    "        else:\n",
    "            print(\"Yes Thank You!\")\n",
    "            break\n",
    "\n",
    "        finally:\n",
    "            print(\"I am going to ask you again! \\n\")"
   ]
  },
  {
   "cell_type": "code",
   "execution_count": 28,
   "id": "bbf98107",
   "metadata": {},
   "outputs": [
    {
     "name": "stdout",
     "output_type": "stream",
     "text": [
      "Enter no.James\n",
      "WHOOPS that's not a no.\n",
      "I am going to ask you again! \n",
      "\n",
      "Enter no.7\n",
      "Yes Thank You!\n",
      "I am going to ask you again! \n",
      "\n"
     ]
    }
   ],
   "source": [
    "ask_for_int()"
   ]
  },
  {
   "cell_type": "code",
   "execution_count": null,
   "id": "f145ad9a",
   "metadata": {},
   "outputs": [],
   "source": []
  },
  {
   "cell_type": "markdown",
   "id": "b46bf029",
   "metadata": {},
   "source": [
    "\n",
    "## Errors and Exceptions Handling Practice"
   ]
  },
  {
   "cell_type": "code",
   "execution_count": 29,
   "id": "40b2bcf1",
   "metadata": {},
   "outputs": [],
   "source": [
    "# 1"
   ]
  },
  {
   "cell_type": "code",
   "execution_count": 30,
   "id": "c0a4d0a4",
   "metadata": {},
   "outputs": [
    {
     "name": "stdout",
     "output_type": "stream",
     "text": [
      "An error occured!\n",
      "An error occured!\n",
      "An error occured!\n"
     ]
    }
   ],
   "source": [
    "for i in ['a','b','c']:\n",
    "    try:\n",
    "        print(i**2)\n",
    "        \n",
    "    except:\n",
    "        print(\"An error occured!\")\n",
    "        "
   ]
  },
  {
   "cell_type": "code",
   "execution_count": 31,
   "id": "56c7d448",
   "metadata": {},
   "outputs": [
    {
     "name": "stdout",
     "output_type": "stream",
     "text": [
      "An error occured!\n"
     ]
    }
   ],
   "source": [
    "try:\n",
    "    for i in ['a','b','c']:\n",
    "        print(i**2)\n",
    "        \n",
    "except:\n",
    "    print(\"An error occured!\")\n",
    "        "
   ]
  },
  {
   "cell_type": "code",
   "execution_count": 32,
   "id": "2e2f2a18",
   "metadata": {},
   "outputs": [],
   "source": [
    "# 2"
   ]
  },
  {
   "cell_type": "code",
   "execution_count": 33,
   "id": "76b546ed",
   "metadata": {},
   "outputs": [
    {
     "name": "stdout",
     "output_type": "stream",
     "text": [
      "An error occured\n",
      "All Done\n"
     ]
    }
   ],
   "source": [
    "try:\n",
    "    x=5\n",
    "    y=0\n",
    "    z=x/y\n",
    "    \n",
    "except:\n",
    "    print(\"An error occured\")\n",
    "    \n",
    "else:\n",
    "    print(f\"Answer is {z}\")\n",
    "    \n",
    "finally:\n",
    "    print('All Done')"
   ]
  },
  {
   "cell_type": "code",
   "execution_count": 34,
   "id": "375f2d4b",
   "metadata": {},
   "outputs": [],
   "source": [
    "# 3"
   ]
  },
  {
   "cell_type": "code",
   "execution_count": 35,
   "id": "12fa8729",
   "metadata": {},
   "outputs": [],
   "source": [
    "def num_square():\n",
    "    \n",
    "    while True:\n",
    "        \n",
    "        try:\n",
    "            n = int(input(\"Input an integer:\"))\n",
    "            \n",
    "        except:\n",
    "            print('Please enter number!')\n",
    "            continue\n",
    "            \n",
    "        else:\n",
    "            print(f\"Thank you, Your numbered squared is: {n**2}\")    \n",
    "            break\n",
    "            \n",
    "        finally:\n",
    "            print(\"End of try/except/finally\")\n",
    "            print('I will always run at the end\\n')"
   ]
  },
  {
   "cell_type": "code",
   "execution_count": 36,
   "id": "bcd9c550",
   "metadata": {},
   "outputs": [
    {
     "name": "stdout",
     "output_type": "stream",
     "text": [
      "Input an integer:Earth\n",
      "Please enter number!\n",
      "End of try/except/finally\n",
      "I will always run at the end\n",
      "\n",
      "Input an integer:3\n",
      "Thank you, Your numbered squared is: 9\n",
      "End of try/except/finally\n",
      "I will always run at the end\n",
      "\n"
     ]
    }
   ],
   "source": [
    "num_square()"
   ]
  },
  {
   "cell_type": "markdown",
   "id": "3f3b8103",
   "metadata": {},
   "source": [
    "## Thank You"
   ]
  }
 ],
 "metadata": {
  "kernelspec": {
   "display_name": "Python 3 (ipykernel)",
   "language": "python",
   "name": "python3"
  },
  "language_info": {
   "codemirror_mode": {
    "name": "ipython",
    "version": 3
   },
   "file_extension": ".py",
   "mimetype": "text/x-python",
   "name": "python",
   "nbconvert_exporter": "python",
   "pygments_lexer": "ipython3",
   "version": "3.10.9"
  }
 },
 "nbformat": 4,
 "nbformat_minor": 5
}
