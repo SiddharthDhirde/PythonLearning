{
 "cells": [
  {
   "cell_type": "code",
   "execution_count": 1,
   "id": "4fbbf9ca",
   "metadata": {},
   "outputs": [],
   "source": [
    "#  OM NAMAH SHIVAY"
   ]
  },
  {
   "cell_type": "code",
   "execution_count": 62,
   "id": "fcef7d7c",
   "metadata": {},
   "outputs": [],
   "source": [
    "# PYTHON BOOTCAMP\n",
    "# BY JOSE PORTILLA (PIERIAN DATA)\n",
    "## DATE:- 21ST JAN 2022\n",
    "\n",
    "## LET'S BEGIN THE ULTIMATE JOURNEY\n",
    "\n",
    "\n",
    "# 04_Folder Python Camparision Operators"
   ]
  },
  {
   "cell_type": "code",
   "execution_count": 6,
   "id": "664d0dbc",
   "metadata": {},
   "outputs": [],
   "source": [
    "# PREVIOUS FILE :- PyJOSE2nd"
   ]
  },
  {
   "cell_type": "markdown",
   "id": "08be1f7b",
   "metadata": {},
   "source": [
    "# In This file :- 032 Comparisons Operators in Python TO 033 Chaining Comparision Operators in Python with Logical Operators "
   ]
  },
  {
   "cell_type": "code",
   "execution_count": null,
   "id": "f3c7ba2d",
   "metadata": {},
   "outputs": [],
   "source": []
  },
  {
   "cell_type": "code",
   "execution_count": null,
   "id": "1da415eb",
   "metadata": {},
   "outputs": [],
   "source": []
  },
  {
   "cell_type": "code",
   "execution_count": null,
   "id": "5a580688",
   "metadata": {},
   "outputs": [],
   "source": []
  },
  {
   "cell_type": "markdown",
   "id": "31317804",
   "metadata": {},
   "source": [
    "# 032 Comparisons Operators in Python\n",
    "# 21 JAN 2022"
   ]
  },
  {
   "cell_type": "code",
   "execution_count": 10,
   "id": "ee2a498f",
   "metadata": {},
   "outputs": [
    {
     "data": {
      "text/plain": [
       "True"
      ]
     },
     "execution_count": 10,
     "metadata": {},
     "output_type": "execute_result"
    }
   ],
   "source": [
    "4==4"
   ]
  },
  {
   "cell_type": "code",
   "execution_count": 11,
   "id": "f3cdea23",
   "metadata": {},
   "outputs": [
    {
     "data": {
      "text/plain": [
       "False"
      ]
     },
     "execution_count": 11,
     "metadata": {},
     "output_type": "execute_result"
    }
   ],
   "source": [
    "4==6"
   ]
  },
  {
   "cell_type": "code",
   "execution_count": 12,
   "id": "42892864",
   "metadata": {},
   "outputs": [
    {
     "data": {
      "text/plain": [
       "False"
      ]
     },
     "execution_count": 12,
     "metadata": {},
     "output_type": "execute_result"
    }
   ],
   "source": [
    "'hello'=='abcde'"
   ]
  },
  {
   "cell_type": "code",
   "execution_count": 13,
   "id": "beedb145",
   "metadata": {},
   "outputs": [
    {
     "data": {
      "text/plain": [
       "False"
      ]
     },
     "execution_count": 13,
     "metadata": {},
     "output_type": "execute_result"
    }
   ],
   "source": [
    "'Iron Man'=='Iron man'"
   ]
  },
  {
   "cell_type": "code",
   "execution_count": 14,
   "id": "2f448a5d",
   "metadata": {},
   "outputs": [
    {
     "data": {
      "text/plain": [
       "True"
      ]
     },
     "execution_count": 14,
     "metadata": {},
     "output_type": "execute_result"
    }
   ],
   "source": [
    "'Iron Man'=='Iron Man'"
   ]
  },
  {
   "cell_type": "code",
   "execution_count": 15,
   "id": "d3be8125",
   "metadata": {},
   "outputs": [
    {
     "data": {
      "text/plain": [
       "False"
      ]
     },
     "execution_count": 15,
     "metadata": {},
     "output_type": "execute_result"
    }
   ],
   "source": [
    "'2'==2"
   ]
  },
  {
   "cell_type": "code",
   "execution_count": 21,
   "id": "f7503ae7",
   "metadata": {},
   "outputs": [
    {
     "data": {
      "text/plain": [
       "True"
      ]
     },
     "execution_count": 21,
     "metadata": {},
     "output_type": "execute_result"
    }
   ],
   "source": [
    "5.0==5"
   ]
  },
  {
   "cell_type": "code",
   "execution_count": 22,
   "id": "7201aa8e",
   "metadata": {},
   "outputs": [
    {
     "data": {
      "text/plain": [
       "False"
      ]
     },
     "execution_count": 22,
     "metadata": {},
     "output_type": "execute_result"
    }
   ],
   "source": [
    "4.9999==5"
   ]
  },
  {
   "cell_type": "code",
   "execution_count": null,
   "id": "f37099cf",
   "metadata": {},
   "outputs": [],
   "source": []
  },
  {
   "cell_type": "code",
   "execution_count": null,
   "id": "a29ad463",
   "metadata": {},
   "outputs": [],
   "source": []
  },
  {
   "cell_type": "code",
   "execution_count": null,
   "id": "473d1969",
   "metadata": {},
   "outputs": [],
   "source": []
  },
  {
   "cell_type": "code",
   "execution_count": 17,
   "id": "2699e652",
   "metadata": {},
   "outputs": [
    {
     "data": {
      "text/plain": [
       "False"
      ]
     },
     "execution_count": 17,
     "metadata": {},
     "output_type": "execute_result"
    }
   ],
   "source": [
    "4!=4"
   ]
  },
  {
   "cell_type": "code",
   "execution_count": 18,
   "id": "05c4d516",
   "metadata": {},
   "outputs": [
    {
     "data": {
      "text/plain": [
       "True"
      ]
     },
     "execution_count": 18,
     "metadata": {},
     "output_type": "execute_result"
    }
   ],
   "source": [
    "4!=5"
   ]
  },
  {
   "cell_type": "code",
   "execution_count": 19,
   "id": "fb1d5711",
   "metadata": {},
   "outputs": [
    {
     "data": {
      "text/plain": [
       "True"
      ]
     },
     "execution_count": 19,
     "metadata": {},
     "output_type": "execute_result"
    }
   ],
   "source": [
    "4!=4.999999999999999"
   ]
  },
  {
   "cell_type": "code",
   "execution_count": 20,
   "id": "d6cdb4e6",
   "metadata": {},
   "outputs": [
    {
     "data": {
      "text/plain": [
       "True"
      ]
     },
     "execution_count": 20,
     "metadata": {},
     "output_type": "execute_result"
    }
   ],
   "source": [
    "4.0!=4.9999999999"
   ]
  },
  {
   "cell_type": "code",
   "execution_count": 23,
   "id": "a977d5a8",
   "metadata": {},
   "outputs": [
    {
     "data": {
      "text/plain": [
       "False"
      ]
     },
     "execution_count": 23,
     "metadata": {},
     "output_type": "execute_result"
    }
   ],
   "source": [
    "3!=3"
   ]
  },
  {
   "cell_type": "code",
   "execution_count": null,
   "id": "6db3012c",
   "metadata": {},
   "outputs": [],
   "source": []
  },
  {
   "cell_type": "code",
   "execution_count": null,
   "id": "dc2a6af9",
   "metadata": {},
   "outputs": [],
   "source": []
  },
  {
   "cell_type": "code",
   "execution_count": null,
   "id": "9631b36e",
   "metadata": {},
   "outputs": [],
   "source": []
  },
  {
   "cell_type": "code",
   "execution_count": null,
   "id": "14395894",
   "metadata": {},
   "outputs": [],
   "source": []
  },
  {
   "cell_type": "code",
   "execution_count": null,
   "id": "ac224845",
   "metadata": {},
   "outputs": [],
   "source": []
  },
  {
   "cell_type": "code",
   "execution_count": 24,
   "id": "b3348463",
   "metadata": {},
   "outputs": [
    {
     "data": {
      "text/plain": [
       "False"
      ]
     },
     "execution_count": 24,
     "metadata": {},
     "output_type": "execute_result"
    }
   ],
   "source": [
    "1.>1"
   ]
  },
  {
   "cell_type": "code",
   "execution_count": 26,
   "id": "afaa1f1a",
   "metadata": {},
   "outputs": [
    {
     "data": {
      "text/plain": [
       "True"
      ]
     },
     "execution_count": 26,
     "metadata": {},
     "output_type": "execute_result"
    }
   ],
   "source": [
    "1.2>1"
   ]
  },
  {
   "cell_type": "code",
   "execution_count": 30,
   "id": "1e0865ea",
   "metadata": {},
   "outputs": [
    {
     "data": {
      "text/plain": [
       "True"
      ]
     },
     "execution_count": 30,
     "metadata": {},
     "output_type": "execute_result"
    }
   ],
   "source": [
    "3>2"
   ]
  },
  {
   "cell_type": "code",
   "execution_count": 31,
   "id": "d2ba733a",
   "metadata": {},
   "outputs": [
    {
     "data": {
      "text/plain": [
       "True"
      ]
     },
     "execution_count": 31,
     "metadata": {},
     "output_type": "execute_result"
    }
   ],
   "source": [
    "1.1>=1"
   ]
  },
  {
   "cell_type": "code",
   "execution_count": 32,
   "id": "68a6a77e",
   "metadata": {},
   "outputs": [
    {
     "data": {
      "text/plain": [
       "False"
      ]
     },
     "execution_count": 32,
     "metadata": {},
     "output_type": "execute_result"
    }
   ],
   "source": [
    "1.1>=1.2"
   ]
  },
  {
   "cell_type": "code",
   "execution_count": 33,
   "id": "d3f84a8a",
   "metadata": {},
   "outputs": [
    {
     "data": {
      "text/plain": [
       "False"
      ]
     },
     "execution_count": 33,
     "metadata": {},
     "output_type": "execute_result"
    }
   ],
   "source": [
    "1.1>=1.111111112"
   ]
  },
  {
   "cell_type": "code",
   "execution_count": 34,
   "id": "8deb2f9c",
   "metadata": {},
   "outputs": [
    {
     "data": {
      "text/plain": [
       "True"
      ]
     },
     "execution_count": 34,
     "metadata": {},
     "output_type": "execute_result"
    }
   ],
   "source": [
    "3<4"
   ]
  },
  {
   "cell_type": "code",
   "execution_count": 35,
   "id": "a8e51880",
   "metadata": {},
   "outputs": [
    {
     "data": {
      "text/plain": [
       "False"
      ]
     },
     "execution_count": 35,
     "metadata": {},
     "output_type": "execute_result"
    }
   ],
   "source": [
    "3<3"
   ]
  },
  {
   "cell_type": "code",
   "execution_count": 36,
   "id": "d1eb6bba",
   "metadata": {},
   "outputs": [
    {
     "data": {
      "text/plain": [
       "False"
      ]
     },
     "execution_count": 36,
     "metadata": {},
     "output_type": "execute_result"
    }
   ],
   "source": [
    "54<=53"
   ]
  },
  {
   "cell_type": "code",
   "execution_count": 37,
   "id": "0a56bafd",
   "metadata": {},
   "outputs": [
    {
     "data": {
      "text/plain": [
       "True"
      ]
     },
     "execution_count": 37,
     "metadata": {},
     "output_type": "execute_result"
    }
   ],
   "source": [
    "54<=54"
   ]
  },
  {
   "cell_type": "code",
   "execution_count": 38,
   "id": "4f031cba",
   "metadata": {},
   "outputs": [
    {
     "data": {
      "text/plain": [
       "True"
      ]
     },
     "execution_count": 38,
     "metadata": {},
     "output_type": "execute_result"
    }
   ],
   "source": [
    "54<=55"
   ]
  },
  {
   "cell_type": "code",
   "execution_count": 39,
   "id": "28fd90ba",
   "metadata": {},
   "outputs": [
    {
     "data": {
      "text/plain": [
       "True"
      ]
     },
     "execution_count": 39,
     "metadata": {},
     "output_type": "execute_result"
    }
   ],
   "source": [
    "0==0"
   ]
  },
  {
   "cell_type": "code",
   "execution_count": 49,
   "id": "8f9ad463",
   "metadata": {},
   "outputs": [
    {
     "name": "stdout",
     "output_type": "stream",
     "text": [
      "True\n",
      "True\n"
     ]
    }
   ],
   "source": [
    "print(0000==0000)\n",
    "print(0000==0)"
   ]
  },
  {
   "cell_type": "code",
   "execution_count": 53,
   "id": "e9970b70",
   "metadata": {},
   "outputs": [
    {
     "name": "stdout",
     "output_type": "stream",
     "text": [
      "False\n"
     ]
    }
   ],
   "source": [
    "print(0000==0.000000000000001)"
   ]
  },
  {
   "cell_type": "code",
   "execution_count": 54,
   "id": "9d55996a",
   "metadata": {},
   "outputs": [
    {
     "data": {
      "text/plain": [
       "False"
      ]
     },
     "execution_count": 54,
     "metadata": {},
     "output_type": "execute_result"
    }
   ],
   "source": [
    "0!=0"
   ]
  },
  {
   "cell_type": "code",
   "execution_count": 55,
   "id": "d3552e2d",
   "metadata": {},
   "outputs": [
    {
     "data": {
      "text/plain": [
       "False"
      ]
     },
     "execution_count": 55,
     "metadata": {},
     "output_type": "execute_result"
    }
   ],
   "source": [
    "0>0"
   ]
  },
  {
   "cell_type": "code",
   "execution_count": 56,
   "id": "71bceece",
   "metadata": {},
   "outputs": [
    {
     "data": {
      "text/plain": [
       "False"
      ]
     },
     "execution_count": 56,
     "metadata": {},
     "output_type": "execute_result"
    }
   ],
   "source": [
    "0<0"
   ]
  },
  {
   "cell_type": "code",
   "execution_count": 57,
   "id": "5ded183e",
   "metadata": {},
   "outputs": [
    {
     "data": {
      "text/plain": [
       "True"
      ]
     },
     "execution_count": 57,
     "metadata": {},
     "output_type": "execute_result"
    }
   ],
   "source": [
    "0<=0"
   ]
  },
  {
   "cell_type": "code",
   "execution_count": 58,
   "id": "42b32b03",
   "metadata": {},
   "outputs": [
    {
     "data": {
      "text/plain": [
       "True"
      ]
     },
     "execution_count": 58,
     "metadata": {},
     "output_type": "execute_result"
    }
   ],
   "source": [
    "0>=0"
   ]
  },
  {
   "cell_type": "code",
   "execution_count": 59,
   "id": "a5815ecd",
   "metadata": {},
   "outputs": [
    {
     "data": {
      "text/plain": [
       "True"
      ]
     },
     "execution_count": 59,
     "metadata": {},
     "output_type": "execute_result"
    }
   ],
   "source": [
    "-3>-32"
   ]
  },
  {
   "cell_type": "code",
   "execution_count": 61,
   "id": "df18aca8",
   "metadata": {},
   "outputs": [
    {
     "data": {
      "text/plain": [
       "False"
      ]
     },
     "execution_count": 61,
     "metadata": {},
     "output_type": "execute_result"
    }
   ],
   "source": [
    "-3323>-32"
   ]
  },
  {
   "cell_type": "code",
   "execution_count": null,
   "id": "fdf29d1e",
   "metadata": {},
   "outputs": [],
   "source": []
  },
  {
   "cell_type": "code",
   "execution_count": null,
   "id": "0277fb81",
   "metadata": {},
   "outputs": [],
   "source": []
  },
  {
   "cell_type": "code",
   "execution_count": null,
   "id": "93d6e9e2",
   "metadata": {},
   "outputs": [],
   "source": []
  },
  {
   "cell_type": "markdown",
   "id": "a6e9de67",
   "metadata": {},
   "source": [
    "# 033 Chaining Comparision Operators in Python with Logical Operators "
   ]
  },
  {
   "cell_type": "code",
   "execution_count": 70,
   "id": "0bc56927",
   "metadata": {},
   "outputs": [],
   "source": [
    "# lOGICAL KEYWORDS\n",
    "# and , or , not"
   ]
  },
  {
   "cell_type": "code",
   "execution_count": 64,
   "id": "6daae6a2",
   "metadata": {},
   "outputs": [
    {
     "data": {
      "text/plain": [
       "True"
      ]
     },
     "execution_count": 64,
     "metadata": {},
     "output_type": "execute_result"
    }
   ],
   "source": [
    "1<3"
   ]
  },
  {
   "cell_type": "code",
   "execution_count": 66,
   "id": "4497750a",
   "metadata": {},
   "outputs": [
    {
     "data": {
      "text/plain": [
       "True"
      ]
     },
     "execution_count": 66,
     "metadata": {},
     "output_type": "execute_result"
    }
   ],
   "source": [
    "3<4"
   ]
  },
  {
   "cell_type": "code",
   "execution_count": 67,
   "id": "8cad5128",
   "metadata": {},
   "outputs": [
    {
     "data": {
      "text/plain": [
       "True"
      ]
     },
     "execution_count": 67,
     "metadata": {},
     "output_type": "execute_result"
    }
   ],
   "source": [
    "1<2<3 "
   ]
  },
  {
   "cell_type": "code",
   "execution_count": 71,
   "id": "8fa58995",
   "metadata": {},
   "outputs": [
    {
     "data": {
      "text/plain": [
       "False"
      ]
     },
     "execution_count": 71,
     "metadata": {},
     "output_type": "execute_result"
    }
   ],
   "source": [
    "1<2>3 "
   ]
  },
  {
   "cell_type": "code",
   "execution_count": 72,
   "id": "be33e303",
   "metadata": {},
   "outputs": [
    {
     "data": {
      "text/plain": [
       "False"
      ]
     },
     "execution_count": 72,
     "metadata": {},
     "output_type": "execute_result"
    }
   ],
   "source": [
    "1<2 and 2>3"
   ]
  },
  {
   "cell_type": "code",
   "execution_count": 73,
   "id": "84342004",
   "metadata": {},
   "outputs": [
    {
     "data": {
      "text/plain": [
       "True"
      ]
     },
     "execution_count": 73,
     "metadata": {},
     "output_type": "execute_result"
    }
   ],
   "source": [
    "1<2 and 2>0"
   ]
  },
  {
   "cell_type": "code",
   "execution_count": 75,
   "id": "aef0b0d3",
   "metadata": {},
   "outputs": [
    {
     "data": {
      "text/plain": [
       "True"
      ]
     },
     "execution_count": 75,
     "metadata": {},
     "output_type": "execute_result"
    }
   ],
   "source": [
    "\"Namste\"==\"Namste\" and 3==3"
   ]
  },
  {
   "cell_type": "code",
   "execution_count": 77,
   "id": "20ebddc0",
   "metadata": {},
   "outputs": [
    {
     "data": {
      "text/plain": [
       "True"
      ]
     },
     "execution_count": 77,
     "metadata": {},
     "output_type": "execute_result"
    }
   ],
   "source": [
    "(\"Namste\"==\"Namste\") and (3==3)"
   ]
  },
  {
   "cell_type": "code",
   "execution_count": 69,
   "id": "275f842c",
   "metadata": {},
   "outputs": [
    {
     "data": {
      "text/plain": [
       "False"
      ]
     },
     "execution_count": 69,
     "metadata": {},
     "output_type": "execute_result"
    }
   ],
   "source": [
    "1>2>3 "
   ]
  },
  {
   "cell_type": "code",
   "execution_count": null,
   "id": "e8ca0694",
   "metadata": {},
   "outputs": [],
   "source": []
  },
  {
   "cell_type": "code",
   "execution_count": 78,
   "id": "071d470f",
   "metadata": {},
   "outputs": [
    {
     "data": {
      "text/plain": [
       "True"
      ]
     },
     "execution_count": 78,
     "metadata": {},
     "output_type": "execute_result"
    }
   ],
   "source": [
    "1==1 or 2==2"
   ]
  },
  {
   "cell_type": "code",
   "execution_count": 79,
   "id": "1a40ac2b",
   "metadata": {},
   "outputs": [
    {
     "data": {
      "text/plain": [
       "True"
      ]
     },
     "execution_count": 79,
     "metadata": {},
     "output_type": "execute_result"
    }
   ],
   "source": [
    "1==2 or 2==2"
   ]
  },
  {
   "cell_type": "code",
   "execution_count": 81,
   "id": "e022837c",
   "metadata": {},
   "outputs": [
    {
     "data": {
      "text/plain": [
       "False"
      ]
     },
     "execution_count": 81,
     "metadata": {},
     "output_type": "execute_result"
    }
   ],
   "source": [
    "(1>2) or (2>3)"
   ]
  },
  {
   "cell_type": "code",
   "execution_count": 82,
   "id": "907b8174",
   "metadata": {},
   "outputs": [
    {
     "data": {
      "text/plain": [
       "True"
      ]
     },
     "execution_count": 82,
     "metadata": {},
     "output_type": "execute_result"
    }
   ],
   "source": [
    "(1>2) or (2>3) or (3==3) or 3>43"
   ]
  },
  {
   "cell_type": "code",
   "execution_count": 87,
   "id": "bc1faa8d",
   "metadata": {},
   "outputs": [
    {
     "name": "stdout",
     "output_type": "stream",
     "text": [
      "False\n",
      "True\n",
      "False\n"
     ]
    }
   ],
   "source": [
    "print((1>2) or (2>3))\n",
    "print((3==3) or (3>43))\n",
    "\n",
    "print((1>2) or (2>3) and (3==3) or 3>43)"
   ]
  },
  {
   "cell_type": "code",
   "execution_count": 89,
   "id": "4d7adf64",
   "metadata": {},
   "outputs": [
    {
     "data": {
      "text/plain": [
       "True"
      ]
     },
     "execution_count": 89,
     "metadata": {},
     "output_type": "execute_result"
    }
   ],
   "source": [
    "(1>2) or (5>3) and (3==3)"
   ]
  },
  {
   "cell_type": "code",
   "execution_count": 90,
   "id": "277407b2",
   "metadata": {},
   "outputs": [
    {
     "data": {
      "text/plain": [
       "False"
      ]
     },
     "execution_count": 90,
     "metadata": {},
     "output_type": "execute_result"
    }
   ],
   "source": [
    "(1>2) or (2>3) and (3==3)"
   ]
  },
  {
   "cell_type": "code",
   "execution_count": 91,
   "id": "783fbeaf",
   "metadata": {},
   "outputs": [
    {
     "data": {
      "text/plain": [
       "True"
      ]
     },
     "execution_count": 91,
     "metadata": {},
     "output_type": "execute_result"
    }
   ],
   "source": [
    "((1>2) or (2>3)) or ((3==3) or 3>43)"
   ]
  },
  {
   "cell_type": "code",
   "execution_count": 92,
   "id": "58df25a0",
   "metadata": {},
   "outputs": [
    {
     "data": {
      "text/plain": [
       "False"
      ]
     },
     "execution_count": 92,
     "metadata": {},
     "output_type": "execute_result"
    }
   ],
   "source": [
    "((1>2) or (2>3)) and ((3==3) or 3>43)"
   ]
  },
  {
   "cell_type": "code",
   "execution_count": 93,
   "id": "3bc278e0",
   "metadata": {},
   "outputs": [
    {
     "data": {
      "text/plain": [
       "False"
      ]
     },
     "execution_count": 93,
     "metadata": {},
     "output_type": "execute_result"
    }
   ],
   "source": [
    "((1>2) and (2>3)) or ((3==3) and 3>43)"
   ]
  },
  {
   "cell_type": "code",
   "execution_count": 94,
   "id": "ada58479",
   "metadata": {},
   "outputs": [
    {
     "data": {
      "text/plain": [
       "False"
      ]
     },
     "execution_count": 94,
     "metadata": {},
     "output_type": "execute_result"
    }
   ],
   "source": [
    "(1>2) and (2>3) or (3==3) and 3>43"
   ]
  },
  {
   "cell_type": "code",
   "execution_count": 95,
   "id": "d7d31e99",
   "metadata": {},
   "outputs": [
    {
     "data": {
      "text/plain": [
       "True"
      ]
     },
     "execution_count": 95,
     "metadata": {},
     "output_type": "execute_result"
    }
   ],
   "source": [
    "(1>2) and (2>3) or (3==3) and 3>2"
   ]
  },
  {
   "cell_type": "code",
   "execution_count": 98,
   "id": "a4f4ef62",
   "metadata": {},
   "outputs": [
    {
     "data": {
      "text/plain": [
       "True"
      ]
     },
     "execution_count": 98,
     "metadata": {},
     "output_type": "execute_result"
    }
   ],
   "source": [
    "((1>2) and (2>3)) or ((3==3) and (3>1))"
   ]
  },
  {
   "cell_type": "code",
   "execution_count": 99,
   "id": "fd0225d6",
   "metadata": {},
   "outputs": [
    {
     "data": {
      "text/plain": [
       "True"
      ]
     },
     "execution_count": 99,
     "metadata": {},
     "output_type": "execute_result"
    }
   ],
   "source": [
    "(1>2) and (2>3) or (3==3) and (3>1)"
   ]
  },
  {
   "cell_type": "code",
   "execution_count": 100,
   "id": "913004f0",
   "metadata": {},
   "outputs": [
    {
     "data": {
      "text/plain": [
       "True"
      ]
     },
     "execution_count": 100,
     "metadata": {},
     "output_type": "execute_result"
    }
   ],
   "source": [
    "(1>2) and (2>3) or ((3==3) and (3>1))"
   ]
  },
  {
   "cell_type": "code",
   "execution_count": 101,
   "id": "7c937741",
   "metadata": {},
   "outputs": [
    {
     "data": {
      "text/plain": [
       "True"
      ]
     },
     "execution_count": 101,
     "metadata": {},
     "output_type": "execute_result"
    }
   ],
   "source": [
    "(1>2) and (2>3) or (((3==3) and (3>1)))"
   ]
  },
  {
   "cell_type": "code",
   "execution_count": 102,
   "id": "91730dac",
   "metadata": {},
   "outputs": [
    {
     "data": {
      "text/plain": [
       "False"
      ]
     },
     "execution_count": 102,
     "metadata": {},
     "output_type": "execute_result"
    }
   ],
   "source": [
    "1!=1"
   ]
  },
  {
   "cell_type": "code",
   "execution_count": 103,
   "id": "05c780d9",
   "metadata": {},
   "outputs": [
    {
     "data": {
      "text/plain": [
       "True"
      ]
     },
     "execution_count": 103,
     "metadata": {},
     "output_type": "execute_result"
    }
   ],
   "source": [
    "1!=2"
   ]
  },
  {
   "cell_type": "code",
   "execution_count": 111,
   "id": "c8ba05f7",
   "metadata": {},
   "outputs": [
    {
     "data": {
      "text/plain": [
       "False"
      ]
     },
     "execution_count": 111,
     "metadata": {},
     "output_type": "execute_result"
    }
   ],
   "source": [
    "not 2==2"
   ]
  },
  {
   "cell_type": "code",
   "execution_count": 112,
   "id": "41320833",
   "metadata": {},
   "outputs": [
    {
     "data": {
      "text/plain": [
       "True"
      ]
     },
     "execution_count": 112,
     "metadata": {},
     "output_type": "execute_result"
    }
   ],
   "source": [
    "not 2==1"
   ]
  },
  {
   "cell_type": "code",
   "execution_count": 113,
   "id": "b6b87b4d",
   "metadata": {},
   "outputs": [
    {
     "data": {
      "text/plain": [
       "False"
      ]
     },
     "execution_count": 113,
     "metadata": {},
     "output_type": "execute_result"
    }
   ],
   "source": [
    "400>5000"
   ]
  },
  {
   "cell_type": "code",
   "execution_count": 117,
   "id": "de66dcc3",
   "metadata": {},
   "outputs": [
    {
     "data": {
      "text/plain": [
       "True"
      ]
     },
     "execution_count": 117,
     "metadata": {},
     "output_type": "execute_result"
    }
   ],
   "source": [
    "not 400>5000"
   ]
  },
  {
   "cell_type": "code",
   "execution_count": 114,
   "id": "cc5544bf",
   "metadata": {},
   "outputs": [
    {
     "data": {
      "text/plain": [
       "True"
      ]
     },
     "execution_count": 114,
     "metadata": {},
     "output_type": "execute_result"
    }
   ],
   "source": [
    "(1>2) and (2>3) or (3==3) and (3>1)"
   ]
  },
  {
   "cell_type": "code",
   "execution_count": 115,
   "id": "47c25139",
   "metadata": {},
   "outputs": [
    {
     "data": {
      "text/plain": [
       "True"
      ]
     },
     "execution_count": 115,
     "metadata": {},
     "output_type": "execute_result"
    }
   ],
   "source": [
    "not (1>2) and (2>3) or (3==3) and (3>1)"
   ]
  },
  {
   "cell_type": "code",
   "execution_count": 116,
   "id": "2a6a04bf",
   "metadata": {},
   "outputs": [
    {
     "data": {
      "text/plain": [
       "False"
      ]
     },
     "execution_count": 116,
     "metadata": {},
     "output_type": "execute_result"
    }
   ],
   "source": [
    "not ((1>2) and (2>3) or (3==3) and (3>1))"
   ]
  },
  {
   "cell_type": "code",
   "execution_count": null,
   "id": "1a5bda9a",
   "metadata": {},
   "outputs": [],
   "source": []
  },
  {
   "cell_type": "code",
   "execution_count": null,
   "id": "f81650b1",
   "metadata": {},
   "outputs": [],
   "source": []
  },
  {
   "cell_type": "markdown",
   "id": "9196f74a",
   "metadata": {},
   "source": [
    "# Completed \n",
    "# Visit next file PyJOSE4th"
   ]
  },
  {
   "cell_type": "code",
   "execution_count": null,
   "id": "3eecff1c",
   "metadata": {},
   "outputs": [],
   "source": []
  }
 ],
 "metadata": {
  "kernelspec": {
   "display_name": "Python 3 (ipykernel)",
   "language": "python",
   "name": "python3"
  },
  "language_info": {
   "codemirror_mode": {
    "name": "ipython",
    "version": 3
   },
   "file_extension": ".py",
   "mimetype": "text/x-python",
   "name": "python",
   "nbconvert_exporter": "python",
   "pygments_lexer": "ipython3",
   "version": "3.8.6"
  }
 },
 "nbformat": 4,
 "nbformat_minor": 5
}
