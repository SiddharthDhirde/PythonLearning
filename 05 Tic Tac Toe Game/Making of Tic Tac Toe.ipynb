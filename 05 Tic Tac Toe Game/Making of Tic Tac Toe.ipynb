{
 "cells": [
  {
   "cell_type": "markdown",
   "id": "9e4d6469",
   "metadata": {},
   "source": [
    "## TIC TAC TOE BOARD"
   ]
  },
  {
   "cell_type": "markdown",
   "id": "77d5acca",
   "metadata": {},
   "source": [
    "## function to print out board. Set up board as a list\n",
    "## 3 by 3 representation"
   ]
  },
  {
   "cell_type": "code",
   "execution_count": 1,
   "id": "7bdc7b5e",
   "metadata": {},
   "outputs": [],
   "source": [
    "from IPython.display import clear_output\n",
    "\n",
    "def display_board(board):\n",
    "    print(board[9]+'|'+board[8]+'|'+board[7])\n",
    "    print(board[6]+'|'+board[5]+'|'+board[4])\n",
    "    print(board[3]+'|'+board[2]+'|'+board[1])    "
   ]
  },
  {
   "cell_type": "markdown",
   "id": "5a49360e",
   "metadata": {},
   "source": [
    "## test version"
   ]
  },
  {
   "cell_type": "code",
   "execution_count": 2,
   "id": "1068957a",
   "metadata": {},
   "outputs": [
    {
     "name": "stdout",
     "output_type": "stream",
     "text": [
      "X|O|X\n",
      "O|X|O\n",
      "X|O|X\n"
     ]
    }
   ],
   "source": [
    "test_board = ['#','X','O','X','O','X','O','X','O','X']\n",
    "display_board(test_board)"
   ]
  },
  {
   "cell_type": "code",
   "execution_count": null,
   "id": "e57573ff",
   "metadata": {},
   "outputs": [],
   "source": []
  },
  {
   "cell_type": "code",
   "execution_count": 3,
   "id": "1dc1e365",
   "metadata": {},
   "outputs": [],
   "source": [
    "from IPython.display import clear_output\n",
    "\n",
    "def display_board(board):\n",
    "\n",
    "    print(board[9]+'|'+board[8]+'|'+board[7])\n",
    "    print(\"-|-|-\")\n",
    "    print(board[6]+'|'+board[5]+'|'+board[4])\n",
    "    print(\"-|-|-\")\n",
    "    print(board[3]+'|'+board[2]+'|'+board[1])    "
   ]
  },
  {
   "cell_type": "code",
   "execution_count": 4,
   "id": "71b4f155",
   "metadata": {},
   "outputs": [
    {
     "name": "stdout",
     "output_type": "stream",
     "text": [
      "X|O|X\n",
      "-|-|-\n",
      "O|X|O\n",
      "-|-|-\n",
      "X|O|X\n"
     ]
    }
   ],
   "source": [
    "test_board = ['#','X','O','X','O','X','O','X','O','X']\n",
    "display_board(test_board)"
   ]
  },
  {
   "cell_type": "code",
   "execution_count": 5,
   "id": "dda6c7fa",
   "metadata": {},
   "outputs": [],
   "source": [
    "from IPython.display import clear_output\n",
    "\n",
    "def display_board(board):\n",
    "    \n",
    "    print(board[9]+'|'+board[8]+'|'+board[7])\n",
    "    print(\"-----\")\n",
    "    print(board[6]+'|'+board[5]+'|'+board[4])\n",
    "    print(\"-----\")\n",
    "    print(board[3]+'|'+board[2]+'|'+board[1])    "
   ]
  },
  {
   "cell_type": "code",
   "execution_count": 6,
   "id": "081404b6",
   "metadata": {},
   "outputs": [
    {
     "name": "stdout",
     "output_type": "stream",
     "text": [
      "X|O|X\n",
      "-----\n",
      "O|X|O\n",
      "-----\n",
      "X|O|X\n"
     ]
    }
   ],
   "source": [
    "test_board = ['#','X','O','X','O','X','O','X','O','X']\n",
    "display_board(test_board)"
   ]
  },
  {
   "cell_type": "code",
   "execution_count": 7,
   "id": "10bbcb17",
   "metadata": {},
   "outputs": [
    {
     "name": "stdout",
     "output_type": "stream",
     "text": [
      " | | \n",
      "-----\n",
      " | | \n",
      "-----\n",
      " | | \n"
     ]
    }
   ],
   "source": [
    "test_board = [' '] * 10\n",
    "display_board(test_board)"
   ]
  },
  {
   "cell_type": "code",
   "execution_count": 8,
   "id": "d009af0e",
   "metadata": {},
   "outputs": [],
   "source": [
    "from IPython.display import clear_output\n",
    "\n",
    "def display_board(board):\n",
    "    \n",
    "    clear_output()\n",
    "    \n",
    "    print(board[9]+'|'+board[8]+'|'+board[7])\n",
    "    print(\"-----\")\n",
    "    print(board[6]+'|'+board[5]+'|'+board[4])\n",
    "    print(\"-----\")\n",
    "    print(board[3]+'|'+board[2]+'|'+board[1])    "
   ]
  },
  {
   "cell_type": "code",
   "execution_count": 9,
   "id": "fe69a216",
   "metadata": {},
   "outputs": [
    {
     "name": "stdout",
     "output_type": "stream",
     "text": [
      "X|O|X\n",
      "-----\n",
      "O|X|O\n",
      "-----\n",
      "X|O|X\n"
     ]
    }
   ],
   "source": [
    "test_board = ['#','X','O','X','O','X','O','X','O','X']\n",
    "display_board(test_board)"
   ]
  },
  {
   "cell_type": "code",
   "execution_count": null,
   "id": "05d9c9c0",
   "metadata": {},
   "outputs": [],
   "source": []
  },
  {
   "cell_type": "markdown",
   "id": "fd4d037d",
   "metadata": {},
   "source": [
    "## function to take input & assign their marker as ---------------------  'X' or 'O'"
   ]
  },
  {
   "cell_type": "code",
   "execution_count": 10,
   "id": "66d3b1f4",
   "metadata": {},
   "outputs": [],
   "source": [
    "from IPython.display import clear_output\n",
    "\n",
    "def player_input():\n",
    "    \n",
    "    marker = ''\n",
    "    \n",
    "    # KoEEP ASKING PLAYER 1 TO CHOOSE X OR O \n",
    "    while marker != 'X' and marker != 'O':\n",
    "        marker = input(\"For Player 1 choose 'X' or 'O': \").upper()\n",
    "              \n",
    "    player1 = marker\n",
    "    \n",
    "    # ASSIGN PLAYER 2 , THE OPPOSITE MARKER    \n",
    "    if player1 == 'X':\n",
    "        player2 = 'O'\n",
    "    else:\n",
    "        player2 = 'X'\n",
    "        \n",
    "    return (player1,player2)"
   ]
  },
  {
   "cell_type": "code",
   "execution_count": 11,
   "id": "09c0670c",
   "metadata": {},
   "outputs": [
    {
     "name": "stdout",
     "output_type": "stream",
     "text": [
      "For Player 1 choose 'X' or 'O': x\n"
     ]
    },
    {
     "data": {
      "text/plain": [
       "('X', 'O')"
      ]
     },
     "execution_count": 11,
     "metadata": {},
     "output_type": "execute_result"
    }
   ],
   "source": [
    "player_input()"
   ]
  },
  {
   "cell_type": "code",
   "execution_count": 12,
   "id": "fbbddf22",
   "metadata": {},
   "outputs": [],
   "source": [
    "def player_input():\n",
    "    marker = ''\n",
    "    \n",
    "    while not (marker == 'X' or marker == 'O'):\n",
    "        marker = input('Player 1: Do you want to be X or O? ').upper()\n",
    "\n",
    "    if marker == 'X':\n",
    "        return ('X', 'O')\n",
    "    else:\n",
    "        return ('O', 'X')"
   ]
  },
  {
   "cell_type": "code",
   "execution_count": 13,
   "id": "7cc06816",
   "metadata": {},
   "outputs": [
    {
     "name": "stdout",
     "output_type": "stream",
     "text": [
      "Player 1: Do you want to be X or O? o\n"
     ]
    },
    {
     "data": {
      "text/plain": [
       "('O', 'X')"
      ]
     },
     "execution_count": 13,
     "metadata": {},
     "output_type": "execute_result"
    }
   ],
   "source": [
    "player_input()"
   ]
  },
  {
   "cell_type": "code",
   "execution_count": 14,
   "id": "d49c6738",
   "metadata": {},
   "outputs": [
    {
     "name": "stdout",
     "output_type": "stream",
     "text": [
      "Player 1: Do you want to be X or O? x\n"
     ]
    }
   ],
   "source": [
    "player1, player2 = player_input()"
   ]
  },
  {
   "cell_type": "code",
   "execution_count": 15,
   "id": "815db73c",
   "metadata": {
    "scrolled": true
   },
   "outputs": [
    {
     "data": {
      "text/plain": [
       "'X'"
      ]
     },
     "execution_count": 15,
     "metadata": {},
     "output_type": "execute_result"
    }
   ],
   "source": [
    "player1"
   ]
  },
  {
   "cell_type": "code",
   "execution_count": 16,
   "id": "8a17c59b",
   "metadata": {},
   "outputs": [
    {
     "data": {
      "text/plain": [
       "'O'"
      ]
     },
     "execution_count": 16,
     "metadata": {},
     "output_type": "execute_result"
    }
   ],
   "source": [
    "player2"
   ]
  },
  {
   "cell_type": "code",
   "execution_count": 17,
   "id": "280888d7",
   "metadata": {},
   "outputs": [],
   "source": [
    "from IPython.display import clear_output\n",
    "\n",
    "def player_input():\n",
    "    \n",
    "    marker = ''\n",
    "    \n",
    "    # KEEP ASKING PLAYER 1 TO CHOOSE X OR O \n",
    "    \n",
    "    while marker != 'X' and marker != 'O':\n",
    "        marker = input(\"For Player 1 choose 'X' or 'O': \").upper()\n",
    "              \n",
    "    player1 = marker   \n",
    "    # ASSIGN PLAYER 2 , THE OPPOSITE MARKER\n",
    "        \n",
    "    if player1 == 'X':\n",
    "        player2 = 'O'\n",
    "    else:\n",
    "        player2 = 'X'\n",
    "        \n",
    "    return (player1,player2)"
   ]
  },
  {
   "cell_type": "code",
   "execution_count": 18,
   "id": "509494d4",
   "metadata": {},
   "outputs": [],
   "source": [
    "from IPython.display import clear_output\n",
    "\n",
    "def display_board(board):\n",
    "    \n",
    "    print(board[9]+'|'+board[8]+'|'+board[7])\n",
    "    print(\"-|-|-\")\n",
    "    print(board[6]+'|'+board[5]+'|'+board[4])\n",
    "    print(\"-|-|-\")\n",
    "    print(board[3]+'|'+board[2]+'|'+board[1])    "
   ]
  },
  {
   "cell_type": "code",
   "execution_count": 19,
   "id": "2af64c54",
   "metadata": {},
   "outputs": [
    {
     "name": "stdout",
     "output_type": "stream",
     "text": [
      "X|O|X\n",
      "-|-|-\n",
      "O|X|O\n",
      "-|-|-\n",
      "X|O|X\n",
      "X|O|X\n",
      "-|-|-\n",
      "O|X|O\n",
      "-|-|-\n",
      "X|O|X\n"
     ]
    }
   ],
   "source": [
    "test_board = ['#','X','O','X','O','X','O','X','O','X']\n",
    "display_board(test_board)\n",
    "display_board(test_board)"
   ]
  },
  {
   "cell_type": "code",
   "execution_count": null,
   "id": "2c578b39",
   "metadata": {},
   "outputs": [],
   "source": []
  },
  {
   "cell_type": "code",
   "execution_count": 20,
   "id": "4d69f683",
   "metadata": {},
   "outputs": [
    {
     "name": "stdout",
     "output_type": "stream",
     "text": [
      "X|O|X\n",
      "-|-|-\n",
      "O|X|O\n",
      "-|-|-\n",
      "X|O|X\n",
      "\n",
      "\n",
      "\n",
      "\n",
      "\n",
      "\n",
      "X|O|X\n",
      "-|-|-\n",
      "O|X|O\n",
      "-|-|-\n",
      "X|O|X\n"
     ]
    }
   ],
   "source": [
    "test_board = ['#','X','O','X','O','X','O','X','O','X']\n",
    "display_board(test_board)\n",
    "print('\\n'*5)\n",
    "display_board(test_board)"
   ]
  },
  {
   "cell_type": "code",
   "execution_count": 21,
   "id": "05371f24",
   "metadata": {},
   "outputs": [
    {
     "name": "stdout",
     "output_type": "stream",
     "text": [
      "X|O|X\n",
      "-|-|-\n",
      "O|X|O\n",
      "-|-|-\n",
      "X|O|X\n"
     ]
    }
   ],
   "source": [
    "test_board = ['#','X','O','X','O','X','O','X','O','X']\n",
    "display_board(test_board)\n",
    "clear_output()\n",
    "display_board(test_board)"
   ]
  },
  {
   "cell_type": "code",
   "execution_count": null,
   "id": "cc6d7b71",
   "metadata": {},
   "outputs": [],
   "source": []
  },
  {
   "cell_type": "code",
   "execution_count": null,
   "id": "4030a57e",
   "metadata": {},
   "outputs": [],
   "source": []
  },
  {
   "cell_type": "code",
   "execution_count": 22,
   "id": "8ed03993",
   "metadata": {},
   "outputs": [],
   "source": [
    "from IPython.display import clear_output\n",
    "\n",
    "def display_board(board):\n",
    "    \n",
    "    print(board[9]+'|'+board[8]+'|'+board[7])\n",
    "    print(\"-|-|-\")\n",
    "    print(board[6]+'|'+board[5]+'|'+board[4])\n",
    "    print(\"-|-|-\")\n",
    "    print(board[3]+'|'+board[2]+'|'+board[1])    "
   ]
  },
  {
   "cell_type": "code",
   "execution_count": 23,
   "id": "86e96fd7",
   "metadata": {},
   "outputs": [
    {
     "name": "stdout",
     "output_type": "stream",
     "text": [
      "X|O|X\n",
      "-|-|-\n",
      "O|X|O\n",
      "-|-|-\n",
      "X|O|X\n"
     ]
    }
   ],
   "source": [
    "test_board = ['#','X','O','X','O','X','O','X','O','X']\n",
    "display_board(test_board)"
   ]
  },
  {
   "cell_type": "code",
   "execution_count": 24,
   "id": "686fc2d1",
   "metadata": {},
   "outputs": [
    {
     "name": "stdout",
     "output_type": "stream",
     "text": [
      "X|O|X\n",
      "-|-|-\n",
      "O|X|O\n",
      "-|-|-\n",
      "X|O|X\n",
      "X|O|X\n",
      "-|-|-\n",
      "O|X|O\n",
      "-|-|-\n",
      "X|O|X\n"
     ]
    }
   ],
   "source": [
    "test_board = ['#','X','O','X','O','X','O','X','O','X']\n",
    "display_board(test_board)\n",
    "display_board(test_board)"
   ]
  },
  {
   "cell_type": "code",
   "execution_count": null,
   "id": "f7fbe8e6",
   "metadata": {},
   "outputs": [],
   "source": []
  },
  {
   "cell_type": "code",
   "execution_count": 25,
   "id": "07990e1f",
   "metadata": {},
   "outputs": [],
   "source": [
    "from IPython.display import clear_output\n",
    "\n",
    "def display_board(board):\n",
    "    ''' clear_output() is used to clear previous output \n",
    "        Tic tac toe'''\n",
    "    \n",
    "    clear_output()    \n",
    "    \n",
    "    print(board[9]+'|'+board[8]+'|'+board[7])\n",
    "    print(\"-|-|-\")\n",
    "    print(board[6]+'|'+board[5]+'|'+board[4])\n",
    "    print(\"-|-|-\")\n",
    "    print(board[3]+'|'+board[2]+'|'+board[1])    "
   ]
  },
  {
   "cell_type": "code",
   "execution_count": 26,
   "id": "03bb7810",
   "metadata": {},
   "outputs": [
    {
     "name": "stdout",
     "output_type": "stream",
     "text": [
      "X|O|X\n",
      "-|-|-\n",
      "O|X|O\n",
      "-|-|-\n",
      "X|O|X\n"
     ]
    }
   ],
   "source": [
    "test_board = ['#','X','O','X','O','X','O','X','O','X']\n",
    "display_board(test_board)\n",
    "display_board(test_board)"
   ]
  },
  {
   "cell_type": "code",
   "execution_count": 27,
   "id": "df31c6a3",
   "metadata": {},
   "outputs": [
    {
     "name": "stdout",
     "output_type": "stream",
     "text": [
      "X|O|X\n",
      "-|-|-\n",
      "O|X|O\n",
      "-|-|-\n",
      "X|O|X\n",
      "Help on NoneType object:\n",
      "\n",
      "class NoneType(object)\n",
      " |  Methods defined here:\n",
      " |  \n",
      " |  __bool__(self, /)\n",
      " |      True if self else False\n",
      " |  \n",
      " |  __repr__(self, /)\n",
      " |      Return repr(self).\n",
      " |  \n",
      " |  ----------------------------------------------------------------------\n",
      " |  Static methods defined here:\n",
      " |  \n",
      " |  __new__(*args, **kwargs) from builtins.type\n",
      " |      Create and return a new object.  See help(type) for accurate signature.\n",
      "\n"
     ]
    }
   ],
   "source": [
    "help(display_board(test_board))"
   ]
  },
  {
   "cell_type": "code",
   "execution_count": null,
   "id": "da14df53",
   "metadata": {},
   "outputs": [],
   "source": []
  },
  {
   "cell_type": "code",
   "execution_count": 28,
   "id": "d0871cac",
   "metadata": {},
   "outputs": [],
   "source": [
    "from IPython.display import clear_output\n",
    "\n",
    "def display_board(board):\n",
    "    clear_output()\n",
    "    \n",
    "    print(board[7]+'|'+board[8]+'|'+board[9])\n",
    "    print('-----')\n",
    "    print(board[4]+'|'+board[5]+'|'+board[6])    \n",
    "    print('-----')\n",
    "    print(board[1]+'|'+board[2]+'|'+board[3])    "
   ]
  },
  {
   "cell_type": "code",
   "execution_count": 29,
   "id": "75ce8efd",
   "metadata": {},
   "outputs": [
    {
     "name": "stdout",
     "output_type": "stream",
     "text": [
      "X|O|X\n",
      "-----\n",
      "O|X|O\n",
      "-----\n",
      "X|O|X\n"
     ]
    }
   ],
   "source": [
    "board = ['x','X','O','X','O','X','O','X','O','X']\n",
    "display_board(board)"
   ]
  },
  {
   "cell_type": "code",
   "execution_count": 30,
   "id": "e9dbdfa3",
   "metadata": {},
   "outputs": [],
   "source": [
    "from IPython.display import clear_output\n",
    "\n",
    "def display_board(board):\n",
    "    clear_output()  \n",
    "    # Above line will clear the previous output\n",
    "    # Remember, this only works in jupyter nb!\n",
    "    \n",
    "    print('   |   |')\n",
    "    print(' ' + board[7] + ' | ' + board[8] + ' | ' + board[9])\n",
    "    print('   |   |')\n",
    "    print('-----------')\n",
    "    print('   |   |')\n",
    "    print(' ' + board[4] + ' | ' + board[5] + ' | ' + board[6])\n",
    "    print('   |   |')\n",
    "    print('-----------')\n",
    "    print('   |   |')\n",
    "    print(' ' + board[1] + ' | ' + board[2] + ' | ' + board[3])\n",
    "    print('   |   |')"
   ]
  },
  {
   "cell_type": "code",
   "execution_count": 31,
   "id": "4ec14951",
   "metadata": {},
   "outputs": [],
   "source": [
    "# FUNCTION FOR DESIRED POSITION"
   ]
  },
  {
   "cell_type": "code",
   "execution_count": 32,
   "id": "f55ea0e6",
   "metadata": {},
   "outputs": [],
   "source": [
    "# once player enters position, place player's marker at that position\n",
    "def place_marker(board,marker,position):\n",
    "    board[position]=marker"
   ]
  },
  {
   "cell_type": "code",
   "execution_count": 33,
   "id": "b89e7414",
   "metadata": {},
   "outputs": [
    {
     "data": {
      "text/plain": [
       "['#', 'X', 'O', 'X', 'O', 'X', 'O', 'X', 'O', 'X']"
      ]
     },
     "execution_count": 33,
     "metadata": {},
     "output_type": "execute_result"
    }
   ],
   "source": [
    "test_board"
   ]
  },
  {
   "cell_type": "code",
   "execution_count": 34,
   "id": "3bb6de76",
   "metadata": {},
   "outputs": [
    {
     "name": "stdout",
     "output_type": "stream",
     "text": [
      "   |   |\n",
      " X | $ | X\n",
      "   |   |\n",
      "-----------\n",
      "   |   |\n",
      " O | X | O\n",
      "   |   |\n",
      "-----------\n",
      "   |   |\n",
      " X | O | X\n",
      "   |   |\n"
     ]
    }
   ],
   "source": [
    "place_marker(test_board,\"$\",8)\n",
    "display_board(test_board)"
   ]
  },
  {
   "cell_type": "code",
   "execution_count": 35,
   "id": "ff4db7eb",
   "metadata": {},
   "outputs": [
    {
     "name": "stdout",
     "output_type": "stream",
     "text": [
      "   |   |\n",
      " X | $ | X\n",
      "   |   |\n",
      "-----------\n",
      "   |   |\n",
      " O | X | O\n",
      "   |   |\n",
      "-----------\n",
      "   |   |\n",
      " $ | O | X\n",
      "   |   |\n"
     ]
    }
   ],
   "source": [
    "place_marker(test_board,\"$\",1)\n",
    "display_board(test_board)"
   ]
  },
  {
   "cell_type": "code",
   "execution_count": 36,
   "id": "3b07d8cf",
   "metadata": {},
   "outputs": [
    {
     "name": "stdout",
     "output_type": "stream",
     "text": [
      "   |   |\n",
      " X | $ | X\n",
      "   |   |\n",
      "-----------\n",
      "   |   |\n",
      " $ | X | O\n",
      "   |   |\n",
      "-----------\n",
      "   |   |\n",
      " $ | O | X\n",
      "   |   |\n"
     ]
    }
   ],
   "source": [
    "place_marker(test_board,\"$\",4)\n",
    "display_board(test_board)"
   ]
  },
  {
   "cell_type": "code",
   "execution_count": null,
   "id": "6cbf1fae",
   "metadata": {},
   "outputs": [],
   "source": []
  },
  {
   "cell_type": "code",
   "execution_count": 37,
   "id": "3176372f",
   "metadata": {},
   "outputs": [],
   "source": [
    "def win_check(board, marker):\n",
    "    \n",
    "    # Win Tic Tac Toe?\n",
    "    \n",
    "    # All Rows,  and check to see if they share the same marker\n",
    "    return ((board[1]==marker and board[2]==marker and board[3]==marker) or\n",
    "    (board[4] == board[5]== board[6] == marker) or\n",
    "    (board[7] == board[8]== board[9] == marker) or\n",
    "    \n",
    "    # All Columns,  and check to see if they share the same marker\n",
    "    (board[1] == board[4]== board[7] == marker) or\n",
    "    (board[2] == board[5]== board[8] == marker) or\n",
    "    (board[3] == board[6]== board[9] == marker) or\n",
    "    \n",
    "    # 2 Diagonals,  and check to see if they share the same marker\n",
    "    (board[1] == board[5]== board[9] == marker) or\n",
    "    (board[3] == board[5]== board[7] == marker))"
   ]
  },
  {
   "cell_type": "code",
   "execution_count": 38,
   "id": "d1b0b869",
   "metadata": {},
   "outputs": [
    {
     "name": "stdout",
     "output_type": "stream",
     "text": [
      "   |   |\n",
      " X | $ | X\n",
      "   |   |\n",
      "-----------\n",
      "   |   |\n",
      " $ | X | O\n",
      "   |   |\n",
      "-----------\n",
      "   |   |\n",
      " $ | O | X\n",
      "   |   |\n"
     ]
    },
    {
     "data": {
      "text/plain": [
       "True"
      ]
     },
     "execution_count": 38,
     "metadata": {},
     "output_type": "execute_result"
    }
   ],
   "source": [
    "display_board(test_board)\n",
    "win_check(test_board,'X')"
   ]
  },
  {
   "cell_type": "code",
   "execution_count": 39,
   "id": "ea63d84a",
   "metadata": {},
   "outputs": [
    {
     "data": {
      "text/plain": [
       "False"
      ]
     },
     "execution_count": 39,
     "metadata": {},
     "output_type": "execute_result"
    }
   ],
   "source": [
    "win_check(test_board,'O')"
   ]
  },
  {
   "cell_type": "code",
   "execution_count": 40,
   "id": "6d6b3d0d",
   "metadata": {},
   "outputs": [],
   "source": [
    "# Who will play game first: player1 or player2\n",
    "\n",
    "from random import randint\n",
    "\n",
    "def choose_first():\n",
    "    \n",
    "    flip = randint(0,1)\n",
    "    \n",
    "    if flip == 0:\n",
    "        return \"Player 1\"\n",
    "    else:\n",
    "        return \"Player 2\""
   ]
  },
  {
   "cell_type": "code",
   "execution_count": 41,
   "id": "b8308860",
   "metadata": {},
   "outputs": [],
   "source": [
    "# check whether board's position is empty or not, if empty: \"True\", else: \"False\"\n",
    "def space_check(board,postion):\n",
    "    return board[postion]==' '"
   ]
  },
  {
   "cell_type": "code",
   "execution_count": 42,
   "id": "268f6f3e",
   "metadata": {},
   "outputs": [],
   "source": [
    "# check whether board is completely filled or not, if completely filled: \"True\", else: \"False\"\n",
    "def full_board_check(board):\n",
    "    for i in range(1,10):\n",
    "        if space_check(board,i):\n",
    "            return False\n",
    "    return True"
   ]
  },
  {
   "cell_type": "code",
   "execution_count": 43,
   "id": "7523c0ac",
   "metadata": {},
   "outputs": [
    {
     "name": "stdout",
     "output_type": "stream",
     "text": [
      "['x', 'X', ' ', 'X', 'O', 'X', 'O', 'X', 'O', 'X']\n",
      "False\n"
     ]
    }
   ],
   "source": [
    "# bord is not completely filled yet, therefore o/p: False\n",
    "board[2] = \" \"\n",
    "print(board)\n",
    "print(full_board_check(board))"
   ]
  },
  {
   "cell_type": "code",
   "execution_count": 44,
   "id": "130712fa",
   "metadata": {},
   "outputs": [
    {
     "name": "stdout",
     "output_type": "stream",
     "text": [
      "['x', 'X', 'O', 'X', 'O', 'X', 'O', 'X', 'O', 'X']\n",
      "True\n"
     ]
    }
   ],
   "source": [
    "# bord is completely filled, therefore o/p: True\n",
    "board[2] = \"O\"\n",
    "print(board)\n",
    "print(full_board_check(board))"
   ]
  },
  {
   "cell_type": "code",
   "execution_count": null,
   "id": "c12f84d3",
   "metadata": {},
   "outputs": [],
   "source": []
  },
  {
   "cell_type": "code",
   "execution_count": null,
   "id": "4d768469",
   "metadata": {},
   "outputs": [],
   "source": []
  },
  {
   "cell_type": "code",
   "execution_count": 45,
   "id": "3710e8d6",
   "metadata": {},
   "outputs": [],
   "source": [
    "# players choice for entering position on board\n",
    "def player_choice(board):\n",
    "    \n",
    "    # initialize the variable position to 0. It's initialized to 0 to enter the loop at least once.\n",
    "    position = 0\n",
    "    \n",
    "    # player should enter no. just between 1 to 9 \n",
    "    # and if player enter value which is in between 1 to 9 then next condition is that\n",
    "    # player should choose position such that the position on board should be available i.e empty (or space)\n",
    "    while position not in [1,2,3,4,5,6,7,8,9] or not space_check(board,position):\n",
    "        position = int(input(\"Enter the position: (1-9)\"))\n",
    "        \n",
    "    return position"
   ]
  },
  {
   "cell_type": "code",
   "execution_count": 46,
   "id": "3c355ceb",
   "metadata": {},
   "outputs": [],
   "source": [
    "# asking player to play again\n",
    "def replay():\n",
    "    choice = input(\"Play again: (Yes OR No)\").upper()    \n",
    "    return choice == 'YES'"
   ]
  },
  {
   "cell_type": "code",
   "execution_count": null,
   "id": "0cfc4d44",
   "metadata": {},
   "outputs": [],
   "source": []
  },
  {
   "cell_type": "markdown",
   "id": "d3e76379",
   "metadata": {},
   "source": [
    "# THE GREAT GAME"
   ]
  },
  {
   "cell_type": "code",
   "execution_count": 47,
   "id": "3a29dd2f",
   "metadata": {},
   "outputs": [
    {
     "name": "stdout",
     "output_type": "stream",
     "text": [
      "   |   |\n",
      " X |   |  \n",
      "   |   |\n",
      "-----------\n",
      "   |   |\n",
      " X | X | O\n",
      "   |   |\n",
      "-----------\n",
      "   |   |\n",
      " O | O | X\n",
      "   |   |\n",
      "Player 1 Has WON!!\n",
      "Play again: (Yes OR No)6\n"
     ]
    }
   ],
   "source": [
    "### WHILE LOOP TO KEEP RUNNING THE GAME\n",
    "print(\"Welcome to the Tic Tac Toe\")\n",
    "\n",
    "while True:\n",
    "    \n",
    "    # play the game\n",
    "    \n",
    "    # SET EVERYTHING UP (BOARD, WHOSE FIRST, CHOOSE MARKER X or O)\n",
    "    \n",
    "    the_board = [' ']*10\n",
    "    \n",
    "    player1_marker,player2_marker = player_input()\n",
    "    \n",
    "    turn = choose_first()\n",
    "    print(turn + \" will go first!\")\n",
    "    \n",
    "    play_game = input(\"Ready to Play?! y or n\").lower()\n",
    "    if play_game == 'y':\n",
    "        game_on = True\n",
    "    else:\n",
    "        game_on = False\n",
    "    \n",
    "    ## THE GAME PLAY\n",
    "    \n",
    "    while game_on:\n",
    "        \n",
    "        ### PLAYER 1 TURN \n",
    "        if turn == 'Player 1':\n",
    "            \n",
    "            # Show the Board \n",
    "            display_board(the_board)\n",
    "            \n",
    "            # choose a position\n",
    "            position = player_choice(the_board)\n",
    "            \n",
    "            # place the marker at that position\n",
    "            place_marker(the_board,player1_marker,position)\n",
    "            \n",
    "            # Check if player1 won\n",
    "            if win_check(the_board,player1_marker):\n",
    "                display_board(the_board)\n",
    "                print(\"Player 1 Has WON!!\")\n",
    "                game_on = False\n",
    "            \n",
    "            else:\n",
    "                # if board is completely filled then its a Tie\n",
    "                if full_board_check(the_board):\n",
    "                    display_board(the_board)\n",
    "                    print(\"Tie Game!!\")\n",
    "                    game_on = False\n",
    "                else:\n",
    "                    # No Win and NO Tie? Then next player's turn\n",
    "                    turn = \"Player 2\"\n",
    "        \n",
    "            \n",
    "            \n",
    "            \n",
    "        \n",
    "        ### PLAYER 2 TURN \n",
    "        else:\n",
    "            \n",
    "            # Show the Board \n",
    "            display_board(the_board)\n",
    "            \n",
    "            # choose a position\n",
    "            position = player_choice(the_board)\n",
    "            \n",
    "            # place the marker at that position\n",
    "            place_marker(the_board,player2_marker,position)\n",
    "            \n",
    "            # Check if player won\n",
    "            if win_check(the_board,player2_marker):\n",
    "                display_board(the_board)\n",
    "                print(\"Player 2 Has WON!!\")\n",
    "                game_on = False\n",
    "            \n",
    "            else:\n",
    "                # Or check there is a tie\n",
    "                if full_board_check(the_board):\n",
    "                    display_board(the_board)\n",
    "                    print(\"Tie Game!!\")\n",
    "                    game_on = False\n",
    "                else:\n",
    "                    # No Win and NO Tie? Then next player's turn\n",
    "                    turn = \"Player 1\"\n",
    "    \n",
    "    \n",
    "    if not replay():\n",
    "        break\n",
    "\n",
    "# BREAK OUT OF THE WHILE LOOP on replay()"
   ]
  },
  {
   "cell_type": "code",
   "execution_count": null,
   "id": "d76620fc",
   "metadata": {},
   "outputs": [],
   "source": []
  },
  {
   "cell_type": "code",
   "execution_count": 48,
   "id": "07b1ff3f",
   "metadata": {},
   "outputs": [
    {
     "name": "stdout",
     "output_type": "stream",
     "text": [
      "   |   |\n",
      " O | X | O\n",
      "   |   |\n",
      "-----------\n",
      "   |   |\n",
      " O | O | X\n",
      "   |   |\n",
      "-----------\n",
      "   |   |\n",
      " X | O | X\n",
      "   |   |\n",
      "Tie Game!!\n",
      "Play again: (Yes OR No)n\n"
     ]
    }
   ],
   "source": [
    "# WHILE LOOP TO KEEP RUNNING THE GAME\n",
    "print(\"Welcome to the Tic Tac Toe\")\n",
    "\n",
    "while True:\n",
    "    \n",
    "    # play the game\n",
    "    \n",
    "    # SET EVERYTHING UP (BOARD, WHOSE FIRST, CHOOSE MARKER X,O)\n",
    "    the_board = [' ']*10\n",
    "    player1_marker,player2_marker = player_input()\n",
    "    turn = choose_first()\n",
    "    print(turn + \" will go first! \\n\")\n",
    "    play_game = input(\"Ready to Play?! y or n \\n\").lower()\n",
    "    \n",
    "    if play_game == 'y':\n",
    "        game_on = True\n",
    "    else:\n",
    "        game_on = False\n",
    "    \n",
    "    ## THE GAME PLAY\n",
    "    while game_on:\n",
    "        if turn == 'Player 1':\n",
    "            # Show the Board \n",
    "            display_board(the_board)\n",
    "            # choose a position\n",
    "            position = player_choice(the_board)\n",
    "            # place the marker at that position\n",
    "            place_marker(the_board,player1_marker,position)\n",
    "\n",
    "            # Check if they won\n",
    "            if win_check(the_board,player1_marker):\n",
    "                display_board(the_board)\n",
    "                print(\"Player 1 Has WON!!\")\n",
    "                game_on = False\n",
    "            \n",
    "            else:\n",
    "                if full_board_check(the_board):\n",
    "                    display_board(the_board)\n",
    "                    print(\"Tie Game!!\")\n",
    "                    game_on = False\n",
    "                else:\n",
    "                    turn = \"Player 2\"\n",
    "                    \n",
    "            # Or check there is a tie           \n",
    "            # No Win and NO Tie? Then next player's turn\n",
    "        ### PLAYER 1 TURN \n",
    "        \n",
    "        else:\n",
    "            # Show the Board \n",
    "            display_board(the_board)\n",
    "            # choose a position\n",
    "            position = player_choice(the_board)\n",
    "            # place the marker at that position\n",
    "            place_marker(the_board,player2_marker,position)\n",
    "            \n",
    "            # Check if they won\n",
    "            if win_check(the_board,player2_marker):\n",
    "                display_board(the_board)\n",
    "                print(\"Player 2 Has WON!!\")\n",
    "                game_on = False\n",
    "            \n",
    "            else:\n",
    "                if full_board_check(the_board):\n",
    "                    display_board(the_board)\n",
    "                    print(\"Tie Game!!\")\n",
    "                    game_on = False\n",
    "                else:\n",
    "                    turn = \"Player 1\"\n",
    "                    \n",
    "            # Or check there is a tie\n",
    "            # No Win and NO Tie? Then next player's turn       \n",
    "        ### PLAYER 2 TURN \n",
    "       \n",
    "    if not replay():\n",
    "        break\n",
    "# BREAK OUT OF THE WHILE LOOP ON replay()"
   ]
  },
  {
   "cell_type": "markdown",
   "id": "790e06ef",
   "metadata": {},
   "source": [
    "# Thank You"
   ]
  }
 ],
 "metadata": {
  "kernelspec": {
   "display_name": "Python 3 (ipykernel)",
   "language": "python",
   "name": "python3"
  },
  "language_info": {
   "codemirror_mode": {
    "name": "ipython",
    "version": 3
   },
   "file_extension": ".py",
   "mimetype": "text/x-python",
   "name": "python",
   "nbconvert_exporter": "python",
   "pygments_lexer": "ipython3",
   "version": "3.10.9"
  }
 },
 "nbformat": 4,
 "nbformat_minor": 5
}
