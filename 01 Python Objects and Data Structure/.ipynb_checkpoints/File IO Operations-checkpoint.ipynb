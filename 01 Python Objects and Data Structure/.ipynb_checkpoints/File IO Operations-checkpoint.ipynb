{
 "cells": [
  {
   "cell_type": "markdown",
   "id": "281e900e",
   "metadata": {},
   "source": [
    "# I/O Operations with Files"
   ]
  },
  {
   "cell_type": "code",
   "execution_count": 1,
   "id": "5d04668c",
   "metadata": {},
   "outputs": [],
   "source": [
    "# lets create a text file\n",
    "# this only works in JUPYTER NB"
   ]
  },
  {
   "cell_type": "code",
   "execution_count": 2,
   "id": "a97d5e72",
   "metadata": {},
   "outputs": [
    {
     "name": "stdout",
     "output_type": "stream",
     "text": [
      "Writing myfile.txt\n"
     ]
    }
   ],
   "source": [
    "%%writefile myfile.txt\n",
    "NAMASTE, this is a text file\n",
    "This is a second line\n",
    "This is a third line"
   ]
  },
  {
   "cell_type": "code",
   "execution_count": 3,
   "id": "a10995c9",
   "metadata": {},
   "outputs": [],
   "source": [
    "myfile = open('myfile.txt')"
   ]
  },
  {
   "cell_type": "code",
   "execution_count": 4,
   "id": "effaf005",
   "metadata": {},
   "outputs": [
    {
     "data": {
      "text/plain": [
       "<_io.TextIOWrapper name='myfile.txt' mode='r' encoding='cp1252'>"
      ]
     },
     "execution_count": 4,
     "metadata": {},
     "output_type": "execute_result"
    }
   ],
   "source": [
    "myfile"
   ]
  },
  {
   "cell_type": "code",
   "execution_count": 5,
   "id": "09587213",
   "metadata": {},
   "outputs": [
    {
     "data": {
      "text/plain": [
       "_io.TextIOWrapper"
      ]
     },
     "execution_count": 5,
     "metadata": {},
     "output_type": "execute_result"
    }
   ],
   "source": [
    "type(myfile)"
   ]
  },
  {
   "cell_type": "code",
   "execution_count": 6,
   "id": "2ebbb6c5",
   "metadata": {},
   "outputs": [
    {
     "data": {
      "text/plain": [
       "'C:\\\\Siddharth Beast\\\\Anaconda Python\\\\GitHub Repo\\\\PythonLearning\\\\01 Python Objects and Data Structure'"
      ]
     },
     "execution_count": 6,
     "metadata": {},
     "output_type": "execute_result"
    }
   ],
   "source": [
    "pwd # to know where jupyter nb is (\"pwd\" will print working directory)"
   ]
  },
  {
   "cell_type": "code",
   "execution_count": 7,
   "id": "b54f35a4",
   "metadata": {},
   "outputs": [],
   "source": [
    "myfile = open('myfile.txt')"
   ]
  },
  {
   "cell_type": "code",
   "execution_count": 8,
   "id": "5ccc0ddd",
   "metadata": {},
   "outputs": [
    {
     "data": {
      "text/plain": [
       "'NAMASTE, this is a text file\\nThis is a second line\\nThis is a third line\\n'"
      ]
     },
     "execution_count": 8,
     "metadata": {},
     "output_type": "execute_result"
    }
   ],
   "source": [
    "myfile.read() # This will return the content stored in the text file we created earlier"
   ]
  },
  {
   "cell_type": "code",
   "execution_count": 9,
   "id": "6b2f7e82",
   "metadata": {},
   "outputs": [
    {
     "data": {
      "text/plain": [
       "''"
      ]
     },
     "execution_count": 9,
     "metadata": {},
     "output_type": "execute_result"
    }
   ],
   "source": [
    "myfile.read()\n",
    "# we will get empty output because there is a cursor at\n",
    "# beginning and after reading ; cursor goes all the way to the end of file\n",
    "# we need to reset cursor or seek it back to zero in order to read it again"
   ]
  },
  {
   "cell_type": "code",
   "execution_count": 10,
   "id": "0b468b76",
   "metadata": {},
   "outputs": [
    {
     "data": {
      "text/plain": [
       "0"
      ]
     },
     "execution_count": 10,
     "metadata": {},
     "output_type": "execute_result"
    }
   ],
   "source": [
    "myfile.seek(0)"
   ]
  },
  {
   "cell_type": "code",
   "execution_count": 11,
   "id": "d842a13e",
   "metadata": {},
   "outputs": [
    {
     "data": {
      "text/plain": [
       "'NAMASTE, this is a text file\\nThis is a second line\\nThis is a third line\\n'"
      ]
     },
     "execution_count": 11,
     "metadata": {},
     "output_type": "execute_result"
    }
   ],
   "source": [
    "myfile.read()"
   ]
  },
  {
   "cell_type": "code",
   "execution_count": 12,
   "id": "fbae3797",
   "metadata": {},
   "outputs": [
    {
     "name": "stdout",
     "output_type": "stream",
     "text": [
      "<_io.TextIOWrapper name='myfile.txt' mode='r' encoding='cp1252'>\n"
     ]
    }
   ],
   "source": [
    "print(myfile)"
   ]
  },
  {
   "cell_type": "code",
   "execution_count": 13,
   "id": "74bf02e9",
   "metadata": {},
   "outputs": [
    {
     "data": {
      "text/plain": [
       "3"
      ]
     },
     "execution_count": 13,
     "metadata": {},
     "output_type": "execute_result"
    }
   ],
   "source": [
    "myfile.seek(3)"
   ]
  },
  {
   "cell_type": "code",
   "execution_count": 14,
   "id": "c9331c90",
   "metadata": {},
   "outputs": [
    {
     "data": {
      "text/plain": [
       "'ASTE, this is a text file\\nThis is a second line\\nThis is a third line\\n'"
      ]
     },
     "execution_count": 14,
     "metadata": {},
     "output_type": "execute_result"
    }
   ],
   "source": [
    "myfile.read()"
   ]
  },
  {
   "cell_type": "code",
   "execution_count": 15,
   "id": "0fa8bc7e",
   "metadata": {},
   "outputs": [
    {
     "data": {
      "text/plain": [
       "''"
      ]
     },
     "execution_count": 15,
     "metadata": {},
     "output_type": "execute_result"
    }
   ],
   "source": [
    "myfile.read()"
   ]
  },
  {
   "cell_type": "code",
   "execution_count": 16,
   "id": "73c6de8f",
   "metadata": {},
   "outputs": [
    {
     "data": {
      "text/plain": [
       "8"
      ]
     },
     "execution_count": 16,
     "metadata": {},
     "output_type": "execute_result"
    }
   ],
   "source": [
    "myfile.seek(8)"
   ]
  },
  {
   "cell_type": "code",
   "execution_count": 17,
   "id": "4642e7da",
   "metadata": {},
   "outputs": [
    {
     "data": {
      "text/plain": [
       "' this is a text file\\nThis is a second line\\nThis is a third line\\n'"
      ]
     },
     "execution_count": 17,
     "metadata": {},
     "output_type": "execute_result"
    }
   ],
   "source": [
    "myfile.read()"
   ]
  },
  {
   "cell_type": "code",
   "execution_count": 18,
   "id": "eef3f33f",
   "metadata": {},
   "outputs": [
    {
     "data": {
      "text/plain": [
       "''"
      ]
     },
     "execution_count": 18,
     "metadata": {},
     "output_type": "execute_result"
    }
   ],
   "source": [
    "myfile.read()"
   ]
  },
  {
   "cell_type": "code",
   "execution_count": 19,
   "id": "2df5d7fa",
   "metadata": {},
   "outputs": [
    {
     "data": {
      "text/plain": [
       "0"
      ]
     },
     "execution_count": 19,
     "metadata": {},
     "output_type": "execute_result"
    }
   ],
   "source": [
    "myfile.seek(0)"
   ]
  },
  {
   "cell_type": "code",
   "execution_count": 20,
   "id": "787fd9e0",
   "metadata": {},
   "outputs": [],
   "source": [
    "# We can store the file data into variable to avoid above work\n",
    "contents = myfile.read()"
   ]
  },
  {
   "cell_type": "code",
   "execution_count": 21,
   "id": "d1587324",
   "metadata": {},
   "outputs": [
    {
     "data": {
      "text/plain": [
       "'NAMASTE, this is a text file\\nThis is a second line\\nThis is a third line\\n'"
      ]
     },
     "execution_count": 21,
     "metadata": {},
     "output_type": "execute_result"
    }
   ],
   "source": [
    "contents"
   ]
  },
  {
   "cell_type": "code",
   "execution_count": 22,
   "id": "ff9a823b",
   "metadata": {},
   "outputs": [
    {
     "data": {
      "text/plain": [
       "'NAMASTE, this is a text file\\nThis is a second line\\nThis is a third line\\n'"
      ]
     },
     "execution_count": 22,
     "metadata": {},
     "output_type": "execute_result"
    }
   ],
   "source": [
    "contents"
   ]
  },
  {
   "cell_type": "code",
   "execution_count": 23,
   "id": "0828145e",
   "metadata": {},
   "outputs": [
    {
     "name": "stdout",
     "output_type": "stream",
     "text": [
      "NAMASTE, this is a text file\n",
      "This is a second line\n",
      "This is a third line\n",
      "\n"
     ]
    }
   ],
   "source": [
    "print(contents) "
   ]
  },
  {
   "cell_type": "code",
   "execution_count": 24,
   "id": "9ff4a83f",
   "metadata": {},
   "outputs": [
    {
     "data": {
      "text/plain": [
       "0"
      ]
     },
     "execution_count": 24,
     "metadata": {},
     "output_type": "execute_result"
    }
   ],
   "source": [
    "myfile.seek(0)"
   ]
  },
  {
   "cell_type": "code",
   "execution_count": 25,
   "id": "70b9c87d",
   "metadata": {},
   "outputs": [
    {
     "data": {
      "text/plain": [
       "'NAMASTE, this is a text file\\n'"
      ]
     },
     "execution_count": 25,
     "metadata": {},
     "output_type": "execute_result"
    }
   ],
   "source": [
    "myfile.readline()"
   ]
  },
  {
   "cell_type": "code",
   "execution_count": 26,
   "id": "0a097b14",
   "metadata": {},
   "outputs": [
    {
     "data": {
      "text/plain": [
       "['This is a second line\\n', 'This is a third line\\n']"
      ]
     },
     "execution_count": 26,
     "metadata": {},
     "output_type": "execute_result"
    }
   ],
   "source": [
    "myfile.readlines()"
   ]
  },
  {
   "cell_type": "code",
   "execution_count": 27,
   "id": "82b30889",
   "metadata": {},
   "outputs": [
    {
     "data": {
      "text/plain": [
       "0"
      ]
     },
     "execution_count": 27,
     "metadata": {},
     "output_type": "execute_result"
    }
   ],
   "source": [
    "myfile.seek(0)"
   ]
  },
  {
   "cell_type": "code",
   "execution_count": 28,
   "id": "08989f68",
   "metadata": {},
   "outputs": [
    {
     "data": {
      "text/plain": [
       "['NAMASTE, this is a text file\\n',\n",
       " 'This is a second line\\n',\n",
       " 'This is a third line\\n']"
      ]
     },
     "execution_count": 28,
     "metadata": {},
     "output_type": "execute_result"
    }
   ],
   "source": [
    "myfile.readlines()"
   ]
  },
  {
   "cell_type": "code",
   "execution_count": 29,
   "id": "ae16ee31",
   "metadata": {},
   "outputs": [
    {
     "name": "stdout",
     "output_type": "stream",
     "text": [
      "[]\n"
     ]
    }
   ],
   "source": [
    "print(myfile.readlines()) "
   ]
  },
  {
   "cell_type": "code",
   "execution_count": 30,
   "id": "8540933d",
   "metadata": {},
   "outputs": [
    {
     "data": {
      "text/plain": [
       "[]"
      ]
     },
     "execution_count": 30,
     "metadata": {},
     "output_type": "execute_result"
    }
   ],
   "source": [
    "myfile.readlines()"
   ]
  },
  {
   "cell_type": "code",
   "execution_count": 31,
   "id": "3fe056d1",
   "metadata": {},
   "outputs": [
    {
     "data": {
      "text/plain": [
       "0"
      ]
     },
     "execution_count": 31,
     "metadata": {},
     "output_type": "execute_result"
    }
   ],
   "source": [
    "myfile.seek(0)"
   ]
  },
  {
   "cell_type": "code",
   "execution_count": 32,
   "id": "3b1f7afe",
   "metadata": {},
   "outputs": [
    {
     "name": "stdout",
     "output_type": "stream",
     "text": [
      "['NAMASTE, this is a text file\\n', 'This is a second line\\n', 'This is a third line\\n']\n"
     ]
    }
   ],
   "source": [
    "print(myfile.readlines()) "
   ]
  },
  {
   "cell_type": "code",
   "execution_count": 33,
   "id": "c76c43df",
   "metadata": {},
   "outputs": [
    {
     "data": {
      "text/plain": [
       "0"
      ]
     },
     "execution_count": 33,
     "metadata": {},
     "output_type": "execute_result"
    }
   ],
   "source": [
    "myfile.seek(0)\n"
   ]
  },
  {
   "cell_type": "code",
   "execution_count": 34,
   "id": "36748e44",
   "metadata": {},
   "outputs": [
    {
     "data": {
      "text/plain": [
       "['NAMASTE, this is a text file\\n',\n",
       " 'This is a second line\\n',\n",
       " 'This is a third line\\n']"
      ]
     },
     "execution_count": 34,
     "metadata": {},
     "output_type": "execute_result"
    }
   ],
   "source": [
    "myfile.readlines()"
   ]
  },
  {
   "cell_type": "code",
   "execution_count": 35,
   "id": "ac6fc456",
   "metadata": {},
   "outputs": [],
   "source": [
    "myfile.close()\n",
    "# we need to close file manually so to avoid error\n",
    "# without closing, if we try to delete this (text file); it will show \"python is using this file\""
   ]
  },
  {
   "cell_type": "code",
   "execution_count": 36,
   "id": "ad8223aa",
   "metadata": {},
   "outputs": [],
   "source": [
    "with open (\"myfile.txt\") as my_new_file:\n",
    "    contents= my_new_file.read() \n",
    "    \n",
    "#so now, no need to worry about closing the file"
   ]
  },
  {
   "cell_type": "code",
   "execution_count": 37,
   "id": "684fca93",
   "metadata": {},
   "outputs": [
    {
     "data": {
      "text/plain": [
       "<_io.TextIOWrapper name='myfile.txt' mode='r' encoding='cp1252'>"
      ]
     },
     "execution_count": 37,
     "metadata": {},
     "output_type": "execute_result"
    }
   ],
   "source": [
    "my_new_file"
   ]
  },
  {
   "cell_type": "code",
   "execution_count": 38,
   "id": "5f5e4d1c",
   "metadata": {},
   "outputs": [
    {
     "name": "stdout",
     "output_type": "stream",
     "text": [
      "<_io.TextIOWrapper name='myfile.txt' mode='r' encoding='cp1252'>\n"
     ]
    }
   ],
   "source": [
    "print(my_new_file)"
   ]
  },
  {
   "cell_type": "code",
   "execution_count": 39,
   "id": "ec236797",
   "metadata": {},
   "outputs": [
    {
     "data": {
      "text/plain": [
       "'NAMASTE, this is a text file\\nThis is a second line\\nThis is a third line\\n'"
      ]
     },
     "execution_count": 39,
     "metadata": {},
     "output_type": "execute_result"
    }
   ],
   "source": [
    "contents"
   ]
  },
  {
   "cell_type": "code",
   "execution_count": 40,
   "id": "b9b6011a",
   "metadata": {},
   "outputs": [
    {
     "name": "stdout",
     "output_type": "stream",
     "text": [
      "NAMASTE, this is a text file\n",
      "This is a second line\n",
      "This is a third line\n",
      "\n"
     ]
    }
   ],
   "source": [
    "print(contents)"
   ]
  },
  {
   "cell_type": "code",
   "execution_count": 41,
   "id": "d3a068b5",
   "metadata": {},
   "outputs": [
    {
     "data": {
      "text/plain": [
       "str"
      ]
     },
     "execution_count": 41,
     "metadata": {},
     "output_type": "execute_result"
    }
   ],
   "source": [
    "type(contents)"
   ]
  },
  {
   "cell_type": "code",
   "execution_count": 42,
   "id": "4a0ff437",
   "metadata": {},
   "outputs": [
    {
     "data": {
      "text/plain": [
       "72"
      ]
     },
     "execution_count": 42,
     "metadata": {},
     "output_type": "execute_result"
    }
   ],
   "source": [
    "len(contents)"
   ]
  },
  {
   "cell_type": "code",
   "execution_count": 43,
   "id": "0fe1ebea",
   "metadata": {},
   "outputs": [],
   "source": [
    "with open(\"myfile.txt\",mode='r') as myfile:\n",
    "    contents= myfile.read()"
   ]
  },
  {
   "cell_type": "code",
   "execution_count": 44,
   "id": "0e1de4fb",
   "metadata": {},
   "outputs": [
    {
     "data": {
      "text/plain": [
       "'NAMASTE, this is a text file\\nThis is a second line\\nThis is a third line\\n'"
      ]
     },
     "execution_count": 44,
     "metadata": {},
     "output_type": "execute_result"
    }
   ],
   "source": [
    "contents"
   ]
  },
  {
   "cell_type": "code",
   "execution_count": 45,
   "id": "20958cf4",
   "metadata": {},
   "outputs": [
    {
     "name": "stdout",
     "output_type": "stream",
     "text": [
      "NAMASTE, this is a text file\n",
      "This is a second line\n",
      "This is a third line\n",
      "\n"
     ]
    }
   ],
   "source": [
    "print(contents)"
   ]
  },
  {
   "cell_type": "markdown",
   "id": "b21fe15d",
   "metadata": {},
   "source": [
    "# Character Meaning\n",
    "--------- ---------------------------------------------------------------\n",
    "'r'       open for reading (default)\n",
    "\n",
    "'w'       open for writing, truncating the file first\n",
    "\n",
    "'x'       create a new file and open it for writing\n",
    "\n",
    "'a'       open for writing, appending to the end of the file if it exists\n",
    "\n",
    "'b'       binary mode\n",
    "\n",
    "'t'       text mode (default)\n",
    "\n",
    "'+'       open a disk file for updating (reading and writing)\n",
    "\n",
    "'U'       universal newline mode (deprecated)"
   ]
  },
  {
   "cell_type": "markdown",
   "id": "119ebff8",
   "metadata": {},
   "source": [
    "# READING, WRITING, APPENDING MODES\n",
    "\n",
    "## MODE='r'         read only\n",
    "## MODE='w'       write only(overwrite or create new)\n",
    "## MODE='a'        append only(add on to files)\n",
    "## MODE='r+'       reading and writing \n",
    "## MODE='w+'     writing or reading (Overwrites existing files or creates new file!)                 \n",
    "    "
   ]
  },
  {
   "cell_type": "code",
   "execution_count": 46,
   "id": "d6b1d5ea",
   "metadata": {},
   "outputs": [
    {
     "name": "stdout",
     "output_type": "stream",
     "text": [
      "Writing my_new_file.txt\n"
     ]
    }
   ],
   "source": [
    "%%writefile my_new_file.txt\n",
    "ONE ON FIRST\n",
    "TWO ON SECOND \n",
    "THREE ON THIRD"
   ]
  },
  {
   "cell_type": "code",
   "execution_count": 47,
   "id": "f4c49156",
   "metadata": {},
   "outputs": [
    {
     "name": "stdout",
     "output_type": "stream",
     "text": [
      "ONE ON FIRST\n",
      "TWO ON SECOND \n",
      "THREE ON THIRD\n",
      "\n"
     ]
    }
   ],
   "source": [
    "with open(\"my_new_file.txt\",mode=\"r\") as f:\n",
    "    print(f.read())"
   ]
  },
  {
   "cell_type": "code",
   "execution_count": 48,
   "id": "8ed05436",
   "metadata": {},
   "outputs": [],
   "source": [
    "with open(\"my_new_file.txt\",mode=\"a\") as f:\n",
    "    f.write('\\nFOUR ON FOURTH')"
   ]
  },
  {
   "cell_type": "code",
   "execution_count": 49,
   "id": "06109cf9",
   "metadata": {},
   "outputs": [
    {
     "data": {
      "text/plain": [
       "<_io.TextIOWrapper name='my_new_file.txt' mode='a' encoding='cp1252'>"
      ]
     },
     "execution_count": 49,
     "metadata": {},
     "output_type": "execute_result"
    }
   ],
   "source": [
    "f"
   ]
  },
  {
   "cell_type": "code",
   "execution_count": 50,
   "id": "6f41a745",
   "metadata": {},
   "outputs": [
    {
     "data": {
      "text/plain": [
       "_io.TextIOWrapper"
      ]
     },
     "execution_count": 50,
     "metadata": {},
     "output_type": "execute_result"
    }
   ],
   "source": [
    "type(f)"
   ]
  },
  {
   "cell_type": "code",
   "execution_count": 51,
   "id": "d829ca38",
   "metadata": {},
   "outputs": [
    {
     "name": "stdout",
     "output_type": "stream",
     "text": [
      "<_io.TextIOWrapper name='my_new_file.txt' mode='a' encoding='cp1252'>\n"
     ]
    }
   ],
   "source": [
    "print(f)"
   ]
  },
  {
   "cell_type": "code",
   "execution_count": 52,
   "id": "03406a65",
   "metadata": {},
   "outputs": [
    {
     "name": "stdout",
     "output_type": "stream",
     "text": [
      "ONE ON FIRST\n",
      "TWO ON SECOND \n",
      "THREE ON THIRD\n",
      "\n",
      "FOUR ON FOURTH\n"
     ]
    }
   ],
   "source": [
    "with open(\"my_new_file.txt\",mode=\"r\") as f:\n",
    "    print(f.read())"
   ]
  },
  {
   "cell_type": "code",
   "execution_count": 53,
   "id": "89b36cb3",
   "metadata": {},
   "outputs": [],
   "source": [
    "with open(\"kuchbhi.txt\", mode=\"w\") as f:\n",
    "    f.write('I created this File!')"
   ]
  },
  {
   "cell_type": "code",
   "execution_count": 54,
   "id": "82fe4f11",
   "metadata": {},
   "outputs": [
    {
     "name": "stdout",
     "output_type": "stream",
     "text": [
      "I created this File!\n"
     ]
    }
   ],
   "source": [
    "with open(\"kuchbhi.txt\",mode=\"r\") as f:\n",
    "    print(f.read())"
   ]
  },
  {
   "cell_type": "code",
   "execution_count": 55,
   "id": "e79bd34a",
   "metadata": {
    "scrolled": true
   },
   "outputs": [
    {
     "name": "stdout",
     "output_type": "stream",
     "text": [
      "<_io.TextIOWrapper name='kuchbhi.txt' mode='r' encoding='cp1252'>\n"
     ]
    }
   ],
   "source": [
    "print(f)"
   ]
  },
  {
   "cell_type": "markdown",
   "id": "cd42315d",
   "metadata": {},
   "source": [
    "# Thank You"
   ]
  }
 ],
 "metadata": {
  "kernelspec": {
   "display_name": "Python 3 (ipykernel)",
   "language": "python",
   "name": "python3"
  },
  "language_info": {
   "codemirror_mode": {
    "name": "ipython",
    "version": 3
   },
   "file_extension": ".py",
   "mimetype": "text/x-python",
   "name": "python",
   "nbconvert_exporter": "python",
   "pygments_lexer": "ipython3",
   "version": "3.10.9"
  }
 },
 "nbformat": 4,
 "nbformat_minor": 5
}
