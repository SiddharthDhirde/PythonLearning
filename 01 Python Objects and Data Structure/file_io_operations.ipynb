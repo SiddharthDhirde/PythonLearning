{
 "cells": [
  {
   "cell_type": "markdown",
   "id": "a53927f3",
   "metadata": {},
   "source": [
    "#  OM NAMAH SHIVAY"
   ]
  },
  {
   "cell_type": "markdown",
   "id": "78e92c8b",
   "metadata": {},
   "source": [
    "\n",
    "## LET'S BEGIN THE ULTIMATE JOURNEY\n",
    "\n",
    "\n",
    "# 03rd_Folder PYTHON OBJECTS AND DATA STRUCTURES BASICS"
   ]
  },
  {
   "cell_type": "markdown",
   "id": "910f9f1d",
   "metadata": {},
   "source": [
    "# In This file :- 028 I/O WITH BASIC FILES IN PYTHON TO 030 PYTHON OBJECTS AND DATA STRUCTURES ASSESMENT TEST OVERVIEW"
   ]
  },
  {
   "cell_type": "markdown",
   "id": "4662f62c",
   "metadata": {},
   "source": [
    "\n",
    "# VISIT NEXT FOLDER 04_Folder Python Camparision Operators\n",
    "# VISIT NEXT FILE PyJOSE3rd"
   ]
  },
  {
   "cell_type": "markdown",
   "id": "281e900e",
   "metadata": {},
   "source": [
    "# 028 I/O WITH BASIC FILES IN PYTHON "
   ]
  },
  {
   "cell_type": "code",
   "execution_count": 1,
   "id": "f8378817",
   "metadata": {},
   "outputs": [
    {
     "name": "stdout",
     "output_type": "stream",
     "text": [
      "Om Namah Shivay\n"
     ]
    }
   ],
   "source": [
    "print(\"Om Namah Shivay\")"
   ]
  },
  {
   "cell_type": "code",
   "execution_count": 2,
   "id": "e99f86c4",
   "metadata": {},
   "outputs": [
    {
     "name": "stdout",
     "output_type": "stream",
     "text": [
      "Om Namah Shivay\n"
     ]
    }
   ],
   "source": [
    "print(\"Om Namah Shivay\")"
   ]
  },
  {
   "cell_type": "code",
   "execution_count": null,
   "id": "cf588c2c",
   "metadata": {},
   "outputs": [],
   "source": []
  },
  {
   "cell_type": "code",
   "execution_count": 3,
   "id": "cf7c6374",
   "metadata": {},
   "outputs": [],
   "source": [
    "# Simple i/o with basic.txt files"
   ]
  },
  {
   "cell_type": "code",
   "execution_count": 4,
   "id": "5d04668c",
   "metadata": {},
   "outputs": [],
   "source": [
    "#lets create a text file\n",
    "# this only works in JUPYTER NB"
   ]
  },
  {
   "cell_type": "code",
   "execution_count": 9,
   "id": "a97d5e72",
   "metadata": {},
   "outputs": [
    {
     "name": "stdout",
     "output_type": "stream",
     "text": [
      "Overwriting myfile.txt\n"
     ]
    }
   ],
   "source": [
    "%%writefile myfile.txt\n",
    "NAMASTE, this is a text file\n",
    "This is a second line\n",
    "This is a third line"
   ]
  },
  {
   "cell_type": "code",
   "execution_count": 10,
   "id": "a10995c9",
   "metadata": {},
   "outputs": [],
   "source": [
    "myfile = open('myfile.txt')"
   ]
  },
  {
   "cell_type": "code",
   "execution_count": 11,
   "id": "effaf005",
   "metadata": {},
   "outputs": [
    {
     "data": {
      "text/plain": [
       "<_io.TextIOWrapper name='myfile.txt' mode='r' encoding='cp1252'>"
      ]
     },
     "execution_count": 11,
     "metadata": {},
     "output_type": "execute_result"
    }
   ],
   "source": [
    "myfile"
   ]
  },
  {
   "cell_type": "code",
   "execution_count": 12,
   "id": "09587213",
   "metadata": {},
   "outputs": [
    {
     "data": {
      "text/plain": [
       "_io.TextIOWrapper"
      ]
     },
     "execution_count": 12,
     "metadata": {},
     "output_type": "execute_result"
    }
   ],
   "source": [
    "type(myfile)"
   ]
  },
  {
   "cell_type": "code",
   "execution_count": 13,
   "id": "2ebbb6c5",
   "metadata": {},
   "outputs": [
    {
     "data": {
      "text/plain": [
       "'C:\\\\Users\\\\PC\\\\Desktop\\\\Anaconda Python\\\\Python Jose'"
      ]
     },
     "execution_count": 13,
     "metadata": {},
     "output_type": "execute_result"
    }
   ],
   "source": [
    "pwd# to know where jupyter nb is (\"pwd\" will print working directory)"
   ]
  },
  {
   "cell_type": "code",
   "execution_count": 14,
   "id": "b54f35a4",
   "metadata": {},
   "outputs": [],
   "source": [
    "myfile = open('myfile.txt')"
   ]
  },
  {
   "cell_type": "code",
   "execution_count": 15,
   "id": "5ccc0ddd",
   "metadata": {},
   "outputs": [
    {
     "data": {
      "text/plain": [
       "'NAMASTE, this is a text file\\nThis is a second line\\nThis is a third line\\n'"
      ]
     },
     "execution_count": 15,
     "metadata": {},
     "output_type": "execute_result"
    }
   ],
   "source": [
    "myfile.read()"
   ]
  },
  {
   "cell_type": "code",
   "execution_count": 16,
   "id": "6b2f7e82",
   "metadata": {},
   "outputs": [
    {
     "data": {
      "text/plain": [
       "''"
      ]
     },
     "execution_count": 16,
     "metadata": {},
     "output_type": "execute_result"
    }
   ],
   "source": [
    "myfile.read()# we will get empty output because there is a cursor at\n",
    "#beginning and after reading ; cursor goes all the way to the end of file\n",
    "# we need to reset cursor or seek it back to zero in order to read it again"
   ]
  },
  {
   "cell_type": "code",
   "execution_count": 17,
   "id": "0b468b76",
   "metadata": {},
   "outputs": [
    {
     "data": {
      "text/plain": [
       "0"
      ]
     },
     "execution_count": 17,
     "metadata": {},
     "output_type": "execute_result"
    }
   ],
   "source": [
    "myfile.seek(0)"
   ]
  },
  {
   "cell_type": "code",
   "execution_count": 18,
   "id": "d842a13e",
   "metadata": {},
   "outputs": [
    {
     "data": {
      "text/plain": [
       "'NAMASTE, this is a text file\\nThis is a second line\\nThis is a third line\\n'"
      ]
     },
     "execution_count": 18,
     "metadata": {},
     "output_type": "execute_result"
    }
   ],
   "source": [
    "myfile.read()"
   ]
  },
  {
   "cell_type": "code",
   "execution_count": 19,
   "id": "fbae3797",
   "metadata": {},
   "outputs": [
    {
     "name": "stdout",
     "output_type": "stream",
     "text": [
      "<_io.TextIOWrapper name='myfile.txt' mode='r' encoding='cp1252'>\n"
     ]
    }
   ],
   "source": [
    "print(myfile)"
   ]
  },
  {
   "cell_type": "code",
   "execution_count": 20,
   "id": "74bf02e9",
   "metadata": {},
   "outputs": [
    {
     "data": {
      "text/plain": [
       "3"
      ]
     },
     "execution_count": 20,
     "metadata": {},
     "output_type": "execute_result"
    }
   ],
   "source": [
    "myfile.seek(3)"
   ]
  },
  {
   "cell_type": "code",
   "execution_count": 21,
   "id": "c9331c90",
   "metadata": {},
   "outputs": [
    {
     "data": {
      "text/plain": [
       "'ASTE, this is a text file\\nThis is a second line\\nThis is a third line\\n'"
      ]
     },
     "execution_count": 21,
     "metadata": {},
     "output_type": "execute_result"
    }
   ],
   "source": [
    "myfile.read()"
   ]
  },
  {
   "cell_type": "code",
   "execution_count": 22,
   "id": "0fa8bc7e",
   "metadata": {},
   "outputs": [
    {
     "data": {
      "text/plain": [
       "''"
      ]
     },
     "execution_count": 22,
     "metadata": {},
     "output_type": "execute_result"
    }
   ],
   "source": [
    "myfile.read()"
   ]
  },
  {
   "cell_type": "code",
   "execution_count": 23,
   "id": "73c6de8f",
   "metadata": {},
   "outputs": [
    {
     "data": {
      "text/plain": [
       "8"
      ]
     },
     "execution_count": 23,
     "metadata": {},
     "output_type": "execute_result"
    }
   ],
   "source": [
    "myfile.seek(8)"
   ]
  },
  {
   "cell_type": "code",
   "execution_count": 24,
   "id": "4642e7da",
   "metadata": {},
   "outputs": [
    {
     "data": {
      "text/plain": [
       "' this is a text file\\nThis is a second line\\nThis is a third line\\n'"
      ]
     },
     "execution_count": 24,
     "metadata": {},
     "output_type": "execute_result"
    }
   ],
   "source": [
    "myfile.read()"
   ]
  },
  {
   "cell_type": "code",
   "execution_count": 25,
   "id": "eef3f33f",
   "metadata": {},
   "outputs": [
    {
     "data": {
      "text/plain": [
       "''"
      ]
     },
     "execution_count": 25,
     "metadata": {},
     "output_type": "execute_result"
    }
   ],
   "source": [
    "myfile.read()"
   ]
  },
  {
   "cell_type": "code",
   "execution_count": 26,
   "id": "2df5d7fa",
   "metadata": {},
   "outputs": [
    {
     "data": {
      "text/plain": [
       "0"
      ]
     },
     "execution_count": 26,
     "metadata": {},
     "output_type": "execute_result"
    }
   ],
   "source": [
    "myfile.seek(0)"
   ]
  },
  {
   "cell_type": "code",
   "execution_count": 27,
   "id": "787fd9e0",
   "metadata": {},
   "outputs": [],
   "source": [
    "contents=myfile.read()"
   ]
  },
  {
   "cell_type": "code",
   "execution_count": 28,
   "id": "d1587324",
   "metadata": {},
   "outputs": [
    {
     "data": {
      "text/plain": [
       "'NAMASTE, this is a text file\\nThis is a second line\\nThis is a third line\\n'"
      ]
     },
     "execution_count": 28,
     "metadata": {},
     "output_type": "execute_result"
    }
   ],
   "source": [
    "contents"
   ]
  },
  {
   "cell_type": "code",
   "execution_count": 29,
   "id": "ff9a823b",
   "metadata": {},
   "outputs": [
    {
     "data": {
      "text/plain": [
       "'NAMASTE, this is a text file\\nThis is a second line\\nThis is a third line\\n'"
      ]
     },
     "execution_count": 29,
     "metadata": {},
     "output_type": "execute_result"
    }
   ],
   "source": [
    "contents"
   ]
  },
  {
   "cell_type": "code",
   "execution_count": 30,
   "id": "0828145e",
   "metadata": {},
   "outputs": [
    {
     "name": "stdout",
     "output_type": "stream",
     "text": [
      "NAMASTE, this is a text file\n",
      "This is a second line\n",
      "This is a third line\n",
      "\n"
     ]
    }
   ],
   "source": [
    "print(contents)#Chak de phatte"
   ]
  },
  {
   "cell_type": "code",
   "execution_count": 31,
   "id": "9ff4a83f",
   "metadata": {},
   "outputs": [
    {
     "data": {
      "text/plain": [
       "0"
      ]
     },
     "execution_count": 31,
     "metadata": {},
     "output_type": "execute_result"
    }
   ],
   "source": [
    "myfile.seek(0)\n"
   ]
  },
  {
   "cell_type": "code",
   "execution_count": 32,
   "id": "70b9c87d",
   "metadata": {},
   "outputs": [
    {
     "data": {
      "text/plain": [
       "'NAMASTE, this is a text file\\n'"
      ]
     },
     "execution_count": 32,
     "metadata": {},
     "output_type": "execute_result"
    }
   ],
   "source": [
    "myfile.readline()"
   ]
  },
  {
   "cell_type": "code",
   "execution_count": 33,
   "id": "0a097b14",
   "metadata": {},
   "outputs": [
    {
     "data": {
      "text/plain": [
       "['This is a second line\\n', 'This is a third line\\n']"
      ]
     },
     "execution_count": 33,
     "metadata": {},
     "output_type": "execute_result"
    }
   ],
   "source": [
    "myfile.readlines()"
   ]
  },
  {
   "cell_type": "code",
   "execution_count": 34,
   "id": "82b30889",
   "metadata": {},
   "outputs": [
    {
     "data": {
      "text/plain": [
       "0"
      ]
     },
     "execution_count": 34,
     "metadata": {},
     "output_type": "execute_result"
    }
   ],
   "source": [
    "myfile.seek(0)"
   ]
  },
  {
   "cell_type": "code",
   "execution_count": 35,
   "id": "08989f68",
   "metadata": {},
   "outputs": [
    {
     "data": {
      "text/plain": [
       "['NAMASTE, this is a text file\\n',\n",
       " 'This is a second line\\n',\n",
       " 'This is a third line\\n']"
      ]
     },
     "execution_count": 35,
     "metadata": {},
     "output_type": "execute_result"
    }
   ],
   "source": [
    "myfile.readlines()"
   ]
  },
  {
   "cell_type": "code",
   "execution_count": 36,
   "id": "ae16ee31",
   "metadata": {},
   "outputs": [
    {
     "name": "stdout",
     "output_type": "stream",
     "text": [
      "[]\n"
     ]
    }
   ],
   "source": [
    "print(myfile.readlines()) "
   ]
  },
  {
   "cell_type": "code",
   "execution_count": 37,
   "id": "8540933d",
   "metadata": {},
   "outputs": [
    {
     "data": {
      "text/plain": [
       "[]"
      ]
     },
     "execution_count": 37,
     "metadata": {},
     "output_type": "execute_result"
    }
   ],
   "source": [
    "myfile.readlines()"
   ]
  },
  {
   "cell_type": "code",
   "execution_count": 38,
   "id": "3fe056d1",
   "metadata": {},
   "outputs": [
    {
     "data": {
      "text/plain": [
       "0"
      ]
     },
     "execution_count": 38,
     "metadata": {},
     "output_type": "execute_result"
    }
   ],
   "source": [
    "myfile.seek(0)"
   ]
  },
  {
   "cell_type": "code",
   "execution_count": 39,
   "id": "3b1f7afe",
   "metadata": {},
   "outputs": [
    {
     "name": "stdout",
     "output_type": "stream",
     "text": [
      "['NAMASTE, this is a text file\\n', 'This is a second line\\n', 'This is a third line\\n']\n"
     ]
    }
   ],
   "source": [
    "print(myfile.readlines()) "
   ]
  },
  {
   "cell_type": "code",
   "execution_count": 40,
   "id": "c76c43df",
   "metadata": {},
   "outputs": [
    {
     "data": {
      "text/plain": [
       "0"
      ]
     },
     "execution_count": 40,
     "metadata": {},
     "output_type": "execute_result"
    }
   ],
   "source": [
    "myfile.seek(0)\n"
   ]
  },
  {
   "cell_type": "code",
   "execution_count": 41,
   "id": "36748e44",
   "metadata": {},
   "outputs": [
    {
     "data": {
      "text/plain": [
       "['NAMASTE, this is a text file\\n',\n",
       " 'This is a second line\\n',\n",
       " 'This is a third line\\n']"
      ]
     },
     "execution_count": 41,
     "metadata": {},
     "output_type": "execute_result"
    }
   ],
   "source": [
    "myfile.readlines()"
   ]
  },
  {
   "cell_type": "code",
   "execution_count": 42,
   "id": "ac6fc456",
   "metadata": {},
   "outputs": [],
   "source": [
    "myfile.close()#we need to close file manually so to avoid error\n",
    "#if we try to delete this; it will show \"python is using this file\""
   ]
  },
  {
   "cell_type": "code",
   "execution_count": 43,
   "id": "ad8223aa",
   "metadata": {},
   "outputs": [],
   "source": [
    "with open (\"myfile.txt\") as my_new_file:\n",
    "    contents= my_new_file.read() \n",
    "    \n",
    "#so now, no need to worry about closing the file"
   ]
  },
  {
   "cell_type": "code",
   "execution_count": 44,
   "id": "684fca93",
   "metadata": {},
   "outputs": [
    {
     "data": {
      "text/plain": [
       "<_io.TextIOWrapper name='myfile.txt' mode='r' encoding='cp1252'>"
      ]
     },
     "execution_count": 44,
     "metadata": {},
     "output_type": "execute_result"
    }
   ],
   "source": [
    "my_new_file"
   ]
  },
  {
   "cell_type": "code",
   "execution_count": 45,
   "id": "5f5e4d1c",
   "metadata": {},
   "outputs": [
    {
     "name": "stdout",
     "output_type": "stream",
     "text": [
      "<_io.TextIOWrapper name='myfile.txt' mode='r' encoding='cp1252'>\n"
     ]
    }
   ],
   "source": [
    "print(my_new_file)"
   ]
  },
  {
   "cell_type": "code",
   "execution_count": 46,
   "id": "ec236797",
   "metadata": {},
   "outputs": [
    {
     "data": {
      "text/plain": [
       "'NAMASTE, this is a text file\\nThis is a second line\\nThis is a third line\\n'"
      ]
     },
     "execution_count": 46,
     "metadata": {},
     "output_type": "execute_result"
    }
   ],
   "source": [
    "contents"
   ]
  },
  {
   "cell_type": "code",
   "execution_count": 47,
   "id": "b9b6011a",
   "metadata": {},
   "outputs": [
    {
     "name": "stdout",
     "output_type": "stream",
     "text": [
      "NAMASTE, this is a text file\n",
      "This is a second line\n",
      "This is a third line\n",
      "\n"
     ]
    }
   ],
   "source": [
    "print(contents)"
   ]
  },
  {
   "cell_type": "code",
   "execution_count": 48,
   "id": "d3a068b5",
   "metadata": {},
   "outputs": [
    {
     "data": {
      "text/plain": [
       "str"
      ]
     },
     "execution_count": 48,
     "metadata": {},
     "output_type": "execute_result"
    }
   ],
   "source": [
    "type(contents)"
   ]
  },
  {
   "cell_type": "code",
   "execution_count": 49,
   "id": "4a0ff437",
   "metadata": {},
   "outputs": [
    {
     "data": {
      "text/plain": [
       "72"
      ]
     },
     "execution_count": 49,
     "metadata": {},
     "output_type": "execute_result"
    }
   ],
   "source": [
    "len(contents)"
   ]
  },
  {
   "cell_type": "code",
   "execution_count": 50,
   "id": "af2d4550",
   "metadata": {},
   "outputs": [],
   "source": [
    "\n",
    "\n",
    "# enough READING about a FILE\n",
    "\n",
    "# NOW LETS see WRITING a FILE\n",
    "\n",
    "\n"
   ]
  },
  {
   "cell_type": "code",
   "execution_count": 51,
   "id": "0fe1ebea",
   "metadata": {},
   "outputs": [],
   "source": [
    "with open(\"myfile.txt\",mode='r') as myfile:\n",
    "    contents= myfile.read()"
   ]
  },
  {
   "cell_type": "code",
   "execution_count": 52,
   "id": "0e1de4fb",
   "metadata": {},
   "outputs": [
    {
     "data": {
      "text/plain": [
       "'NAMASTE, this is a text file\\nThis is a second line\\nThis is a third line\\n'"
      ]
     },
     "execution_count": 52,
     "metadata": {},
     "output_type": "execute_result"
    }
   ],
   "source": [
    "contents"
   ]
  },
  {
   "cell_type": "code",
   "execution_count": 53,
   "id": "20958cf4",
   "metadata": {},
   "outputs": [
    {
     "name": "stdout",
     "output_type": "stream",
     "text": [
      "NAMASTE, this is a text file\n",
      "This is a second line\n",
      "This is a third line\n",
      "\n"
     ]
    }
   ],
   "source": [
    "print(contents)"
   ]
  },
  {
   "cell_type": "code",
   "execution_count": 54,
   "id": "e9e8a10a",
   "metadata": {},
   "outputs": [],
   "source": [
    "# with open(\"myfile.txt\",mode='w') as myfile:\n",
    "#      contents= myfile.read()\n",
    "### This file is not READABLE "
   ]
  },
  {
   "cell_type": "code",
   "execution_count": null,
   "id": "dd26d7fd",
   "metadata": {},
   "outputs": [],
   "source": []
  },
  {
   "cell_type": "code",
   "execution_count": null,
   "id": "e37565a7",
   "metadata": {},
   "outputs": [],
   "source": []
  },
  {
   "cell_type": "markdown",
   "id": "b21fe15d",
   "metadata": {},
   "source": [
    "# Character Meaning\n",
    "--------- ---------------------------------------------------------------\n",
    "'r'       open for reading (default)\n",
    "\n",
    "'w'       open for writing, truncating the file first\n",
    "\n",
    "'x'       create a new file and open it for writing\n",
    "\n",
    "'a'       open for writing, appending to the end of the file if it exists\n",
    "\n",
    "'b'       binary mode\n",
    "\n",
    "'t'       text mode (default)\n",
    "\n",
    "'+'       open a disk file for updating (reading and writing)\n",
    "\n",
    "'U'       universal newline mode (deprecated)"
   ]
  },
  {
   "cell_type": "markdown",
   "id": "119ebff8",
   "metadata": {},
   "source": [
    "# READING, WRITING, APPENDING MODES\n",
    "\n",
    "## MODE='r'         read only\n",
    "## MODE='w'       write only(overwrite or create new)\n",
    "## MODE='a'        append only(add on to files)\n",
    "## MODE='r+'       reading and writing \n",
    "## MODE='w +'     writing or reading (Overwrites    \n",
    "##                          existing files or creates new file!)                 \n",
    "    I am Iron Man"
   ]
  },
  {
   "cell_type": "code",
   "execution_count": 55,
   "id": "d6b1d5ea",
   "metadata": {},
   "outputs": [
    {
     "name": "stdout",
     "output_type": "stream",
     "text": [
      "Overwriting my_new_file.txt\n"
     ]
    }
   ],
   "source": [
    "%%writefile my_new_file.txt\n",
    "ONE ON FIRST\n",
    "TWO ON SECOND \n",
    "THREE ON THIRD\n",
    "\n",
    "\n"
   ]
  },
  {
   "cell_type": "code",
   "execution_count": 56,
   "id": "f4c49156",
   "metadata": {},
   "outputs": [
    {
     "name": "stdout",
     "output_type": "stream",
     "text": [
      "ONE ON FIRST\n",
      "TWO ON SECOND \n",
      "THREE ON THIRD\n",
      "\n",
      "\n",
      "\n"
     ]
    }
   ],
   "source": [
    "with open(\"my_new_file.txt\",mode=\"r\") as f:\n",
    "    print(f.read())"
   ]
  },
  {
   "cell_type": "code",
   "execution_count": 57,
   "id": "8ed05436",
   "metadata": {},
   "outputs": [],
   "source": [
    "with open(\"my_new_file.txt\",mode=\"a\") as f:\n",
    "    f.write('\\nFOUR ON FOURTH')"
   ]
  },
  {
   "cell_type": "code",
   "execution_count": 58,
   "id": "06109cf9",
   "metadata": {},
   "outputs": [
    {
     "data": {
      "text/plain": [
       "<_io.TextIOWrapper name='my_new_file.txt' mode='a' encoding='cp1252'>"
      ]
     },
     "execution_count": 58,
     "metadata": {},
     "output_type": "execute_result"
    }
   ],
   "source": [
    "f"
   ]
  },
  {
   "cell_type": "code",
   "execution_count": 59,
   "id": "6f41a745",
   "metadata": {},
   "outputs": [
    {
     "data": {
      "text/plain": [
       "_io.TextIOWrapper"
      ]
     },
     "execution_count": 59,
     "metadata": {},
     "output_type": "execute_result"
    }
   ],
   "source": [
    "type(f)"
   ]
  },
  {
   "cell_type": "code",
   "execution_count": 60,
   "id": "d829ca38",
   "metadata": {},
   "outputs": [
    {
     "name": "stdout",
     "output_type": "stream",
     "text": [
      "<_io.TextIOWrapper name='my_new_file.txt' mode='a' encoding='cp1252'>\n"
     ]
    }
   ],
   "source": [
    "print(f)"
   ]
  },
  {
   "cell_type": "code",
   "execution_count": 61,
   "id": "03406a65",
   "metadata": {},
   "outputs": [
    {
     "name": "stdout",
     "output_type": "stream",
     "text": [
      "ONE ON FIRST\n",
      "TWO ON SECOND \n",
      "THREE ON THIRD\n",
      "\n",
      "\n",
      "\n",
      "FOUR ON FOURTH\n"
     ]
    }
   ],
   "source": [
    "with open(\"my_new_file.txt\",mode=\"r\") as f:\n",
    "    print(f.read())"
   ]
  },
  {
   "cell_type": "code",
   "execution_count": 62,
   "id": "89b36cb3",
   "metadata": {},
   "outputs": [],
   "source": [
    "with open(\"kuchbhi.txt\",mode=\"w\") as f:\n",
    "    f.write('I created this File!')"
   ]
  },
  {
   "cell_type": "code",
   "execution_count": 63,
   "id": "82fe4f11",
   "metadata": {},
   "outputs": [
    {
     "name": "stdout",
     "output_type": "stream",
     "text": [
      "I created this File!\n"
     ]
    }
   ],
   "source": [
    "with open(\"kuchbhi.txt\",mode=\"r\") as f:\n",
    "    print(f.read())"
   ]
  },
  {
   "cell_type": "code",
   "execution_count": 64,
   "id": "e79bd34a",
   "metadata": {
    "scrolled": true
   },
   "outputs": [
    {
     "name": "stdout",
     "output_type": "stream",
     "text": [
      "<_io.TextIOWrapper name='kuchbhi.txt' mode='r' encoding='cp1252'>\n"
     ]
    }
   ],
   "source": [
    "print(f)"
   ]
  },
  {
   "cell_type": "code",
   "execution_count": null,
   "id": "46317250",
   "metadata": {},
   "outputs": [],
   "source": [
    "\n",
    "\n",
    "\n",
    "\n",
    "\n",
    "\n",
    "\n",
    "\n"
   ]
  },
  {
   "cell_type": "markdown",
   "id": "13329c9f",
   "metadata": {},
   "source": [
    "# 030 PYTHON OBJECTS AND DATA STRUCTURES ASSESMENT TEST OVERVIEW\n",
    "# 19 JAN 2022"
   ]
  },
  {
   "cell_type": "code",
   "execution_count": 66,
   "id": "da1744fc",
   "metadata": {},
   "outputs": [],
   "source": [
    "# 1st TEST\n",
    "# download the notebook from GitHub  or as a zip file \n",
    "# GitHub.com/Pierian-Data/Complete-Python-2-Bootcamp"
   ]
  },
  {
   "cell_type": "code",
   "execution_count": 68,
   "id": "77505eef",
   "metadata": {},
   "outputs": [
    {
     "name": "stdout",
     "output_type": "stream",
     "text": [
      "100.25\n"
     ]
    }
   ],
   "source": [
    "#Numbers\n",
    "a=(20*5 + 101 - 0.5 )/2\n",
    "print(a)"
   ]
  },
  {
   "cell_type": "code",
   "execution_count": 79,
   "id": "0b5bef1c",
   "metadata": {},
   "outputs": [
    {
     "name": "stdout",
     "output_type": "stream",
     "text": [
      "16\n",
      "2.0\n"
     ]
    }
   ],
   "source": [
    "square=4**2\n",
    "squareroot=4**1/2\n",
    "print(square)\n",
    "print(squareroot)"
   ]
  },
  {
   "cell_type": "code",
   "execution_count": null,
   "id": "cce5278e",
   "metadata": {},
   "outputs": [],
   "source": []
  },
  {
   "cell_type": "code",
   "execution_count": null,
   "id": "5ee746ff",
   "metadata": {},
   "outputs": [],
   "source": []
  },
  {
   "cell_type": "code",
   "execution_count": 85,
   "id": "c9df96d9",
   "metadata": {},
   "outputs": [
    {
     "name": "stdout",
     "output_type": "stream",
     "text": [
      "o\n",
      "o\n",
      "olleh\n"
     ]
    }
   ],
   "source": [
    "#strings\n",
    "s='hello'\n",
    "print(s[-1])\n",
    "print(s[4])\n",
    "\n",
    "print(s[::-1])\n",
    "\n",
    "\n"
   ]
  },
  {
   "cell_type": "code",
   "execution_count": null,
   "id": "81ea729c",
   "metadata": {},
   "outputs": [],
   "source": []
  },
  {
   "cell_type": "code",
   "execution_count": null,
   "id": "7d5e223d",
   "metadata": {},
   "outputs": [],
   "source": []
  },
  {
   "cell_type": "code",
   "execution_count": 103,
   "id": "55bf1b7c",
   "metadata": {},
   "outputs": [
    {
     "name": "stdout",
     "output_type": "stream",
     "text": [
      "[0, 0, 0]\n",
      "[0, 0, 0]\n",
      "[0, 0, 0]\n"
     ]
    }
   ],
   "source": [
    "#Lists\n",
    "\n",
    "# Build [0,0,0]\n",
    "list1=[0,0,0]\n",
    "print(list1)\n",
    "\n",
    "print(list1[::])\n",
    "\n",
    "list11=[0,0,0]\n",
    "list12=[]\n",
    "list2 = list1+list12\n",
    "print(list2)\n"
   ]
  },
  {
   "cell_type": "code",
   "execution_count": 131,
   "id": "d748882a",
   "metadata": {},
   "outputs": [
    {
     "name": "stdout",
     "output_type": "stream",
     "text": [
      "[1, 2, [3, 4, 'hello']]\n",
      "[3, 4, 'hello']\n",
      "[3, 4, 'hello']\n",
      "hello\n"
     ]
    }
   ],
   "source": [
    "# reassign \"hello\" in this nested list to say 'goodbye' instead\n",
    "\n",
    "list3=[1,2,[3,4,'hello']]\n",
    "print(list3)\n",
    "print(list3[2])\n",
    "\n",
    "\n",
    "\n",
    "list31=list3[2]\n",
    "print(list31)\n",
    "print(list31[2])\n"
   ]
  },
  {
   "cell_type": "code",
   "execution_count": 132,
   "id": "1d80797c",
   "metadata": {},
   "outputs": [
    {
     "name": "stdout",
     "output_type": "stream",
     "text": [
      "[3, 4, 'goodbye']\n",
      "[1, 2, [3, 4, 'goodbye']]\n"
     ]
    }
   ],
   "source": [
    "\n",
    "list31[2]=\"goodbye\"\n",
    "print(list31)\n",
    "print(list3)"
   ]
  },
  {
   "cell_type": "code",
   "execution_count": 135,
   "id": "166d6cfe",
   "metadata": {},
   "outputs": [
    {
     "name": "stdout",
     "output_type": "stream",
     "text": [
      "[5, 3, 4, 6, 1]\n",
      "[1, 3, 4, 5, 6]\n"
     ]
    }
   ],
   "source": [
    "\n",
    "#Sort\n",
    "list4=[5,3,4,6,1]\n",
    "print(list4)\n",
    "list4.sort()\n",
    "print(list4)"
   ]
  },
  {
   "cell_type": "code",
   "execution_count": null,
   "id": "8c713032",
   "metadata": {},
   "outputs": [],
   "source": []
  },
  {
   "cell_type": "code",
   "execution_count": null,
   "id": "67727f89",
   "metadata": {},
   "outputs": [],
   "source": []
  },
  {
   "cell_type": "code",
   "execution_count": 2,
   "id": "47b67295",
   "metadata": {},
   "outputs": [
    {
     "name": "stdout",
     "output_type": "stream",
     "text": [
      "hello\n"
     ]
    }
   ],
   "source": [
    "#DICTIONARIES\n",
    "#grab 'hello'\n",
    "d={\"simple_key\":'hello'}\n",
    "print(d['simple_key'])\n"
   ]
  },
  {
   "cell_type": "code",
   "execution_count": 5,
   "id": "b845ad41",
   "metadata": {},
   "outputs": [
    {
     "name": "stdout",
     "output_type": "stream",
     "text": [
      "hello\n"
     ]
    }
   ],
   "source": [
    "d={'k1':{\"k2\":'hello'}}\n",
    "print(d['k1']['k2'])\n"
   ]
  },
  {
   "cell_type": "code",
   "execution_count": 15,
   "id": "afb65957",
   "metadata": {},
   "outputs": [
    {
     "name": "stdout",
     "output_type": "stream",
     "text": [
      "['hello']\n",
      "hello\n"
     ]
    }
   ],
   "source": [
    "d={'k1':[{\"nest_key\":['this is deep',['hello']]}]}\n",
    "print(d['k1'][0]['nest_key'][1])\n",
    "\n",
    "print(d['k1'][0]['nest_key'][1][0])"
   ]
  },
  {
   "cell_type": "code",
   "execution_count": 1,
   "id": "b69e464f",
   "metadata": {},
   "outputs": [
    {
     "name": "stdout",
     "output_type": "stream",
     "text": [
      "hello\n",
      "{'tough': [1, 2, ['hello']]}\n",
      "dict_values([[1, 2, {'k2': ['this tricky', {'tough': [1, 2, ['hello']]}]}]])\n",
      "dict_keys(['k1'])\n"
     ]
    }
   ],
   "source": [
    "d={\"k1\" : [1,2,{'k2':[\"this tricky\",{'tough':[1,2,['hello']]}]}]}\n",
    "\n",
    "print(d['k1'][2]['k2'][1]['tough'][2][0])#GRABBED 'hello' IN JUST 1 ATTEMPT\n",
    "print(d['k1'][2]['k2'][1])\n",
    "\n",
    "print(d.values())\n",
    "print(d.keys())"
   ]
  },
  {
   "cell_type": "markdown",
   "id": "202be08a",
   "metadata": {},
   "source": [
    " # I am the BEST\n",
    " # NOW I AM SPARKING"
   ]
  },
  {
   "cell_type": "code",
   "execution_count": 2,
   "id": "d6668a8e",
   "metadata": {},
   "outputs": [
    {
     "name": "stdout",
     "output_type": "stream",
     "text": [
      "Lets see SETS\n"
     ]
    }
   ],
   "source": [
    "print(\"Lets see SETS\")"
   ]
  },
  {
   "cell_type": "code",
   "execution_count": 9,
   "id": "080d09c2",
   "metadata": {},
   "outputs": [
    {
     "name": "stdout",
     "output_type": "stream",
     "text": [
      "{1, 2, 3, 4, 33, 6, 8, 9, 42, 44, 45, 9936, 55}\n",
      "{1, 2, 3, 4, 33, 6, 8, 9, 42, 44, 45, 9936, 55}\n"
     ]
    },
    {
     "data": {
      "text/plain": [
       "{1, 2, 3, 4, 6, 8, 9, 33, 42, 44, 45, 55, 9936}"
      ]
     },
     "execution_count": 9,
     "metadata": {},
     "output_type": "execute_result"
    }
   ],
   "source": [
    "# SETS\n",
    "\n",
    "# Use Sets TO find unique value of given List\n",
    "\n",
    "list5=[1,2,3,4,2,44,45,44,33,55,2,4,6,4,2,6,8,9,9936,6,42,2]\n",
    "\n",
    "print(set(list5))\n",
    "\n",
    "set5=set(list5)\n",
    "\n",
    "print(set5)\n",
    "\n",
    "set(list5)"
   ]
  },
  {
   "cell_type": "code",
   "execution_count": 14,
   "id": "a412aa0d",
   "metadata": {},
   "outputs": [
    {
     "data": {
      "text/plain": [
       "{1, 2, 3, 4, 6, 8, 9, 33, 42, 44, 45, 55, 9936}"
      ]
     },
     "execution_count": 14,
     "metadata": {},
     "output_type": "execute_result"
    }
   ],
   "source": [
    "set(list5)\n",
    " "
   ]
  },
  {
   "cell_type": "code",
   "execution_count": null,
   "id": "972fae6f",
   "metadata": {},
   "outputs": [],
   "source": []
  },
  {
   "cell_type": "code",
   "execution_count": 36,
   "id": "8ce5250f",
   "metadata": {},
   "outputs": [
    {
     "data": {
      "text/plain": [
       "False"
      ]
     },
     "execution_count": 36,
     "metadata": {},
     "output_type": "execute_result"
    }
   ],
   "source": [
    "#BOOLEANS\n",
    "\n",
    "#two nested lists \n",
    "l1=[1,2,[3,4]]\n",
    "l2=[1,2,{'k1':4}]\n",
    "\n",
    "l1[2][0] >= l2[2]['k1'] \n",
    "\n",
    "#l1[2][0] >= l2[2]['k1']# --> this will show error 'cause of \"=>\""
   ]
  },
  {
   "cell_type": "code",
   "execution_count": 60,
   "id": "e5867ed8",
   "metadata": {},
   "outputs": [
    {
     "name": "stdout",
     "output_type": "stream",
     "text": [
      "True\n",
      "True\n",
      "True\n",
      "True\n",
      "True\n",
      "True\n"
     ]
    }
   ],
   "source": [
    "a=2\n",
    "print(bool(a))\n",
    "print(bool(2))\n",
    "print(bool(6566))\n",
    "print(bool(-a))\n",
    "print(bool(--a))\n",
    "print(bool(--------a))\n"
   ]
  },
  {
   "cell_type": "code",
   "execution_count": 62,
   "id": "0d00a104",
   "metadata": {},
   "outputs": [
    {
     "name": "stdout",
     "output_type": "stream",
     "text": [
      "True\n"
     ]
    }
   ],
   "source": [
    "print(bool(type(a)))\n"
   ]
  },
  {
   "cell_type": "code",
   "execution_count": 61,
   "id": "522a9189",
   "metadata": {},
   "outputs": [
    {
     "name": "stdout",
     "output_type": "stream",
     "text": [
      "2\n",
      "False\n"
     ]
    }
   ],
   "source": [
    "print(bool(print(a)))"
   ]
  },
  {
   "cell_type": "code",
   "execution_count": 63,
   "id": "eb65978c",
   "metadata": {},
   "outputs": [
    {
     "name": "stdout",
     "output_type": "stream",
     "text": [
      "False\n",
      "False\n",
      "2\n",
      "None\n"
     ]
    }
   ],
   "source": [
    "print(bool(0))\n",
    "print(bool())\n",
    "print(print(a))"
   ]
  },
  {
   "cell_type": "code",
   "execution_count": null,
   "id": "7fbc6807",
   "metadata": {},
   "outputs": [],
   "source": []
  },
  {
   "cell_type": "markdown",
   "id": "956ad0c5",
   "metadata": {},
   "source": [
    "# I AM THE BEST\n",
    "# HOW'S THAT FOR ULTIMATE ?!\n",
    "# "
   ]
  },
  {
   "cell_type": "markdown",
   "id": "5f632fb2",
   "metadata": {},
   "source": [
    "\n",
    "# ACCOMPLISHED FOLDER\n",
    "\n",
    "# VISIT NEXT FOLDER 04_Folder Python Camparision Operators\n",
    "# VISIT NEXT FILE PyJOSE3rd"
   ]
  },
  {
   "cell_type": "code",
   "execution_count": null,
   "id": "e43ba5f8",
   "metadata": {},
   "outputs": [],
   "source": []
  }
 ],
 "metadata": {
  "kernelspec": {
   "display_name": "Python 3 (ipykernel)",
   "language": "python",
   "name": "python3"
  },
  "language_info": {
   "codemirror_mode": {
    "name": "ipython",
    "version": 3
   },
   "file_extension": ".py",
   "mimetype": "text/x-python",
   "name": "python",
   "nbconvert_exporter": "python",
   "pygments_lexer": "ipython3",
   "version": "3.10.9"
  }
 },
 "nbformat": 4,
 "nbformat_minor": 5
}
