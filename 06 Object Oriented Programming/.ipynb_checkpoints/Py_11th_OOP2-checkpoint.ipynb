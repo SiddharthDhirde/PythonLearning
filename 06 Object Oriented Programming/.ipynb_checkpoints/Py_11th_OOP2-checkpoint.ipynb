{
 "cells": [
  {
   "cell_type": "code",
   "execution_count": 1,
   "id": "d0e0992c",
   "metadata": {},
   "outputs": [],
   "source": [
    "#OM NAMAH SHIVAY"
   ]
  },
  {
   "cell_type": "markdown",
   "id": "2232667f",
   "metadata": {},
   "source": [
    "# 28 JULY 2022\n",
    "\n",
    "# SHRAWAN 2022\n",
    "\n",
    "# 08 Object Oriented Programming Folder\n",
    "\n",
    "# 063 Object Oriented Programming - INHERITANCE AND POLYMORPHISM"
   ]
  },
  {
   "cell_type": "code",
   "execution_count": 2,
   "id": "80c1073a",
   "metadata": {},
   "outputs": [],
   "source": [
    "# POLYMORPHISM"
   ]
  },
  {
   "cell_type": "code",
   "execution_count": 13,
   "id": "6ab3591b",
   "metadata": {},
   "outputs": [],
   "source": [
    "class Dog():\n",
    "    \n",
    "    def __init__(self,name):\n",
    "        self.name = name\n",
    "        \n",
    "    def speak(self):\n",
    "        return self.name + \" says woof\""
   ]
  },
  {
   "cell_type": "code",
   "execution_count": 14,
   "id": "87ca60cf",
   "metadata": {},
   "outputs": [],
   "source": [
    "class Cat():\n",
    "    def __init__(self,name):\n",
    "        self.name = name\n",
    "        \n",
    "    def speak(self):\n",
    "        return self.name + \" says meow\""
   ]
  },
  {
   "cell_type": "code",
   "execution_count": 15,
   "id": "ce07af55",
   "metadata": {},
   "outputs": [],
   "source": [
    "Moti = Dog(\"Moti\")"
   ]
  },
  {
   "cell_type": "code",
   "execution_count": 16,
   "id": "9e3078a7",
   "metadata": {},
   "outputs": [],
   "source": [
    "Mani = Cat(\"Mani\")"
   ]
  },
  {
   "cell_type": "code",
   "execution_count": 17,
   "id": "f221922e",
   "metadata": {},
   "outputs": [
    {
     "name": "stdout",
     "output_type": "stream",
     "text": [
      "Moti says woof\n",
      "Mani says meow\n"
     ]
    }
   ],
   "source": [
    "print(Moti.speak())\n",
    "print(Mani.speak())"
   ]
  },
  {
   "cell_type": "code",
   "execution_count": 18,
   "id": "91786ecb",
   "metadata": {},
   "outputs": [
    {
     "name": "stdout",
     "output_type": "stream",
     "text": [
      "<class '__main__.Dog'>\n",
      "<__main__.Dog object at 0x04DF0130>\n",
      "<class '__main__.Cat'>\n",
      "<__main__.Cat object at 0x04DF0028>\n"
     ]
    }
   ],
   "source": [
    "for pet in [Moti,Mani]:\n",
    "    print(type(pet))\n",
    "    print(pet)"
   ]
  },
  {
   "cell_type": "code",
   "execution_count": 20,
   "id": "f4da1e87",
   "metadata": {},
   "outputs": [
    {
     "name": "stdout",
     "output_type": "stream",
     "text": [
      "<class '__main__.Dog'>\n",
      "Moti says woof\n",
      "<class '__main__.Cat'>\n",
      "Mani says meow\n"
     ]
    }
   ],
   "source": [
    "for pet in [Moti,Mani]:\n",
    "    print(type(pet))\n",
    "    print(pet.speak())"
   ]
  },
  {
   "cell_type": "code",
   "execution_count": 31,
   "id": "128a077f",
   "metadata": {},
   "outputs": [],
   "source": [
    "def pet_speak(pet):\n",
    "    print(pet.speak())"
   ]
  },
  {
   "cell_type": "code",
   "execution_count": 32,
   "id": "87675e57",
   "metadata": {},
   "outputs": [
    {
     "name": "stdout",
     "output_type": "stream",
     "text": [
      "Moti says woof\n"
     ]
    }
   ],
   "source": [
    "pet_speak(Moti)"
   ]
  },
  {
   "cell_type": "code",
   "execution_count": 33,
   "id": "b2b5d434",
   "metadata": {},
   "outputs": [
    {
     "name": "stdout",
     "output_type": "stream",
     "text": [
      "Mani says meow\n"
     ]
    }
   ],
   "source": [
    "pet_speak(Mani)"
   ]
  },
  {
   "cell_type": "markdown",
   "id": "84f9cd6e",
   "metadata": {},
   "source": [
    "# 29TH JULY 2022"
   ]
  },
  {
   "cell_type": "code",
   "execution_count": 1,
   "id": "b6807671",
   "metadata": {},
   "outputs": [],
   "source": [
    "class Animal(): # abstract classes\n",
    "    \n",
    "    def __init__(self,name):\n",
    "        self.name = name\n",
    "        \n",
    "    def speak(self):\n",
    "        raise NotImplementedError(\"sublass must implement this abstract method\")"
   ]
  },
  {
   "cell_type": "code",
   "execution_count": 2,
   "id": "b4a4fc35",
   "metadata": {},
   "outputs": [],
   "source": [
    "myanimal = Animal(\"fred\")"
   ]
  },
  {
   "cell_type": "code",
   "execution_count": 4,
   "id": "9db3ba25",
   "metadata": {},
   "outputs": [],
   "source": [
    "# myanimal.speak()\n",
    "# ---------------------------------------------------------------------------\n",
    "# NotImplementedError                       Traceback (most recent call last)\n",
    "# Input In [3], in <module>\n",
    "# ----> 1 myanimal.speak()\n",
    "\n",
    "# Input In [1], in Animal.speak(self)\n",
    "#       6 def speak(self):\n",
    "# ----> 7     raise NotImplementedError(\"sublass must implement this abstract method\")\n",
    "\n",
    "# NotImplementedError: sublass must implement this abstract method"
   ]
  },
  {
   "cell_type": "code",
   "execution_count": 5,
   "id": "1dc387b6",
   "metadata": {},
   "outputs": [],
   "source": [
    "class Dog(Animal):\n",
    "    \n",
    "    def speak(self):\n",
    "        return self.name + \" says woof!\""
   ]
  },
  {
   "cell_type": "code",
   "execution_count": 6,
   "id": "77d48722",
   "metadata": {},
   "outputs": [],
   "source": [
    "class Cat(Animal):\n",
    "    \n",
    "    def speak(self):\n",
    "        return self.name + \" says Meow!\""
   ]
  },
  {
   "cell_type": "code",
   "execution_count": 7,
   "id": "02604f63",
   "metadata": {},
   "outputs": [],
   "source": [
    "fido = Dog(\"Fido\")\n",
    "\n",
    "isis = Cat('Isis')"
   ]
  },
  {
   "cell_type": "code",
   "execution_count": 8,
   "id": "4ce0e3dd",
   "metadata": {},
   "outputs": [
    {
     "data": {
      "text/plain": [
       "<bound method Dog.speak of <__main__.Dog object at 0x057D4C40>>"
      ]
     },
     "execution_count": 8,
     "metadata": {},
     "output_type": "execute_result"
    }
   ],
   "source": [
    "fido.speak"
   ]
  },
  {
   "cell_type": "code",
   "execution_count": 9,
   "id": "85cdc18d",
   "metadata": {},
   "outputs": [
    {
     "data": {
      "text/plain": [
       "'Fido says woof!'"
      ]
     },
     "execution_count": 9,
     "metadata": {},
     "output_type": "execute_result"
    }
   ],
   "source": [
    "fido.speak()"
   ]
  },
  {
   "cell_type": "code",
   "execution_count": 10,
   "id": "06ff6c5d",
   "metadata": {},
   "outputs": [
    {
     "data": {
      "text/plain": [
       "'Isis says Meow!'"
      ]
     },
     "execution_count": 10,
     "metadata": {},
     "output_type": "execute_result"
    }
   ],
   "source": [
    "isis.speak()"
   ]
  },
  {
   "cell_type": "code",
   "execution_count": null,
   "id": "5658620e",
   "metadata": {},
   "outputs": [],
   "source": []
  },
  {
   "cell_type": "markdown",
   "id": "8b22a7ad",
   "metadata": {},
   "source": [
    "# 064 OOP Special (MagicDunder) Methods"
   ]
  },
  {
   "cell_type": "code",
   "execution_count": 22,
   "id": "b3cb54d8",
   "metadata": {},
   "outputs": [],
   "source": [
    "class Book():\n",
    "    \n",
    "    def __init__(self,name,author,pages):\n",
    "        self.name = name\n",
    "        self.author = author\n",
    "        self.pages = pages\n",
    "        \n",
    "    def __str__(self):\n",
    "        return f\"{self.name} by {self.author} \"\n",
    "    \n",
    "    def __len__(self):\n",
    "        return self.pages"
   ]
  },
  {
   "cell_type": "code",
   "execution_count": 23,
   "id": "4ecba8bd",
   "metadata": {},
   "outputs": [],
   "source": [
    "b = Book('Python rocks','Jose',100)"
   ]
  },
  {
   "cell_type": "code",
   "execution_count": 24,
   "id": "ef954f44",
   "metadata": {},
   "outputs": [
    {
     "name": "stdout",
     "output_type": "stream",
     "text": [
      "Python rocks by Jose \n"
     ]
    }
   ],
   "source": [
    "print(b)"
   ]
  },
  {
   "cell_type": "code",
   "execution_count": 25,
   "id": "feb081b2",
   "metadata": {},
   "outputs": [
    {
     "data": {
      "text/plain": [
       "'Python rocks by Jose '"
      ]
     },
     "execution_count": 25,
     "metadata": {},
     "output_type": "execute_result"
    }
   ],
   "source": [
    "str(b)"
   ]
  },
  {
   "cell_type": "code",
   "execution_count": 26,
   "id": "8e38dd19",
   "metadata": {},
   "outputs": [
    {
     "data": {
      "text/plain": [
       "100"
      ]
     },
     "execution_count": 26,
     "metadata": {},
     "output_type": "execute_result"
    }
   ],
   "source": [
    "len(b)"
   ]
  },
  {
   "cell_type": "code",
   "execution_count": 27,
   "id": "350ce73f",
   "metadata": {},
   "outputs": [],
   "source": [
    "del b # delete variable"
   ]
  },
  {
   "cell_type": "code",
   "execution_count": null,
   "id": "28a1c8c2",
   "metadata": {},
   "outputs": [],
   "source": []
  },
  {
   "cell_type": "code",
   "execution_count": 15,
   "id": "f69d69b6",
   "metadata": {},
   "outputs": [],
   "source": [
    "class Book():\n",
    "    \n",
    "    def __init__(self,name,author,pages):\n",
    "        self.name = name\n",
    "        self.author = author\n",
    "        self.pages = pages\n",
    "        \n",
    "    def __str__(self):\n",
    "        return f\"{self.name} by {self.author} \"\n",
    "    \n",
    "    def __len__(self):\n",
    "        return self.pages\n",
    "    \n",
    "    def __del__(self):\n",
    "        print(\"A Book object has been deleted\")"
   ]
  },
  {
   "cell_type": "code",
   "execution_count": 16,
   "id": "edfbed8a",
   "metadata": {},
   "outputs": [],
   "source": [
    "b = Book('Python rocks','Jose',100)"
   ]
  },
  {
   "cell_type": "code",
   "execution_count": 13,
   "id": "58e40e26",
   "metadata": {},
   "outputs": [],
   "source": []
  },
  {
   "cell_type": "code",
   "execution_count": 17,
   "id": "6438936a",
   "metadata": {},
   "outputs": [
    {
     "data": {
      "text/plain": [
       "<__main__.Book at 0x5b76da8>"
      ]
     },
     "execution_count": 17,
     "metadata": {},
     "output_type": "execute_result"
    }
   ],
   "source": [
    "b"
   ]
  },
  {
   "cell_type": "code",
   "execution_count": 18,
   "id": "d3589a71",
   "metadata": {},
   "outputs": [],
   "source": [
    "del(b)"
   ]
  },
  {
   "cell_type": "code",
   "execution_count": null,
   "id": "7636c802",
   "metadata": {},
   "outputs": [],
   "source": []
  },
  {
   "cell_type": "code",
   "execution_count": null,
   "id": "87e74434",
   "metadata": {},
   "outputs": [],
   "source": []
  },
  {
   "cell_type": "code",
   "execution_count": null,
   "id": "da0f8eaa",
   "metadata": {},
   "outputs": [],
   "source": []
  },
  {
   "cell_type": "code",
   "execution_count": 20,
   "id": "f24dac2c",
   "metadata": {},
   "outputs": [],
   "source": [
    "class Book():\n",
    "    \n",
    "    def __init__(self,name,author,pages,magicno):\n",
    "        self.name = name\n",
    "        self.author = author\n",
    "        self.pages = pages\n",
    "        self.magicno = magicno\n",
    "        \n",
    "    def __str__(self):\n",
    "        return f\"{self.name} by {self.author} \"\n",
    "    \n",
    "    def __len__(self):\n",
    "        return self.pages\n",
    "    \n",
    "    def __del__(self):\n",
    "        print(\"A Book object has been deleted\")\n",
    "        \n",
    "    def __magicno__(self):\n",
    "        return self.magicno"
   ]
  },
  {
   "cell_type": "code",
   "execution_count": 21,
   "id": "5eb46b56",
   "metadata": {},
   "outputs": [],
   "source": [
    "b = Book('Python rocks','Jose',100,3)"
   ]
  },
  {
   "cell_type": "code",
   "execution_count": 23,
   "id": "fe5b1dcd",
   "metadata": {},
   "outputs": [
    {
     "data": {
      "text/plain": [
       "3"
      ]
     },
     "execution_count": 23,
     "metadata": {},
     "output_type": "execute_result"
    }
   ],
   "source": [
    "b.magicno"
   ]
  },
  {
   "cell_type": "code",
   "execution_count": null,
   "id": "f0b27c05",
   "metadata": {},
   "outputs": [],
   "source": []
  },
  {
   "cell_type": "code",
   "execution_count": 24,
   "id": "c8f1ae82",
   "metadata": {},
   "outputs": [],
   "source": [
    "class Book():\n",
    "    \n",
    "    def __init__(self,name,author,pages,magicno=3):\n",
    "        self.name = name\n",
    "        self.author = author\n",
    "        self.pages = pages\n",
    "        self.magicno = magicno\n",
    "        \n",
    "    def __str__(self):\n",
    "        return f\"{self.name} by {self.author} \"\n",
    "    \n",
    "    def __len__(self):\n",
    "        return self.pages\n",
    "    \n",
    "    def __del__(self):\n",
    "        print(\"A Book object has been deleted\")\n",
    "        \n",
    "    def __magicno__(self):\n",
    "        return self.magicno"
   ]
  },
  {
   "cell_type": "code",
   "execution_count": 28,
   "id": "3e1cbc4f",
   "metadata": {},
   "outputs": [],
   "source": [
    "b = Book('Python rocks','Jose',100)"
   ]
  },
  {
   "cell_type": "code",
   "execution_count": 29,
   "id": "0bf3f3a6",
   "metadata": {},
   "outputs": [
    {
     "data": {
      "text/plain": [
       "<__main__.Book at 0x5ac1a60>"
      ]
     },
     "execution_count": 29,
     "metadata": {},
     "output_type": "execute_result"
    }
   ],
   "source": [
    "b"
   ]
  },
  {
   "cell_type": "code",
   "execution_count": 30,
   "id": "e1ce1fee",
   "metadata": {},
   "outputs": [
    {
     "name": "stdout",
     "output_type": "stream",
     "text": [
      "Python rocks by Jose \n"
     ]
    }
   ],
   "source": [
    "print(b)"
   ]
  },
  {
   "cell_type": "code",
   "execution_count": null,
   "id": "af196b3c",
   "metadata": {},
   "outputs": [],
   "source": []
  },
  {
   "cell_type": "code",
   "execution_count": null,
   "id": "931fa909",
   "metadata": {},
   "outputs": [],
   "source": []
  },
  {
   "cell_type": "markdown",
   "id": "05793996",
   "metadata": {},
   "source": [
    "# 065 - 066 OOP PRACTICE"
   ]
  },
  {
   "cell_type": "code",
   "execution_count": 46,
   "id": "6c72844b",
   "metadata": {},
   "outputs": [],
   "source": [
    "# 1\n",
    "class Cylinder:\n",
    "    \n",
    "    def __init__(self,height=1,radius=1):\n",
    "        self.height = height\n",
    "        self.radius = radius\n",
    "    \n",
    "    def volume(self):\n",
    "        return (3.14 * self.height * self.radius**2)\n",
    "    \n",
    "    def surface_area(self):\n",
    "        return (2*3.14*self.radius*self.height) + (2*3.14*self.radius**2)"
   ]
  },
  {
   "cell_type": "code",
   "execution_count": 47,
   "id": "36f0c02c",
   "metadata": {},
   "outputs": [],
   "source": [
    "#eg\n",
    "c = Cylinder(2,3)"
   ]
  },
  {
   "cell_type": "code",
   "execution_count": 48,
   "id": "e0ecb687",
   "metadata": {},
   "outputs": [
    {
     "data": {
      "text/plain": [
       "<bound method Cylinder.volume of <__main__.Cylinder object at 0x05B64EB0>>"
      ]
     },
     "execution_count": 48,
     "metadata": {},
     "output_type": "execute_result"
    }
   ],
   "source": [
    "c.volume"
   ]
  },
  {
   "cell_type": "code",
   "execution_count": 49,
   "id": "942038ed",
   "metadata": {},
   "outputs": [
    {
     "data": {
      "text/plain": [
       "56.52"
      ]
     },
     "execution_count": 49,
     "metadata": {},
     "output_type": "execute_result"
    }
   ],
   "source": [
    "c.volume()"
   ]
  },
  {
   "cell_type": "code",
   "execution_count": 50,
   "id": "e34fe411",
   "metadata": {},
   "outputs": [
    {
     "data": {
      "text/plain": [
       "94.2"
      ]
     },
     "execution_count": 50,
     "metadata": {},
     "output_type": "execute_result"
    }
   ],
   "source": [
    "c.surface_area()"
   ]
  },
  {
   "cell_type": "code",
   "execution_count": 44,
   "id": "141f7e45",
   "metadata": {},
   "outputs": [],
   "source": [
    "# MISSION  ACCOMPLISHED\n",
    "# I AM THE BEST\n",
    "# I AM STILL WORTHY"
   ]
  },
  {
   "cell_type": "code",
   "execution_count": null,
   "id": "49c67439",
   "metadata": {},
   "outputs": [],
   "source": [
    " "
   ]
  },
  {
   "cell_type": "code",
   "execution_count": null,
   "id": "ad185600",
   "metadata": {},
   "outputs": [],
   "source": []
  },
  {
   "cell_type": "code",
   "execution_count": null,
   "id": "24b5010c",
   "metadata": {},
   "outputs": [],
   "source": []
  },
  {
   "cell_type": "code",
   "execution_count": 54,
   "id": "9a655119",
   "metadata": {},
   "outputs": [],
   "source": [
    "# 2 \n",
    "class Line:\n",
    "    \n",
    "    def __init__(self,coor1,coor2):\n",
    "        self.coor1 = coor1\n",
    "        self.coor2 = coor2        \n",
    "        \n",
    "    def distance(self):\n",
    "        return ((self.coor2[0]-self.coor1[0])**2 + (self.coor2[1]-self.coor1[1])**2)**0.5\n",
    "        \n",
    "    def slope(self):\n",
    "        return (self.coor2[1]-self.coor1[1])/(self.coor2[0]-self.coor1[0])"
   ]
  },
  {
   "cell_type": "code",
   "execution_count": 55,
   "id": "049279fb",
   "metadata": {},
   "outputs": [],
   "source": [
    "coordinate1 = (3,2)\n",
    "coordinate2 = (8,10)"
   ]
  },
  {
   "cell_type": "code",
   "execution_count": 56,
   "id": "d6f45a76",
   "metadata": {},
   "outputs": [],
   "source": [
    "li = Line(coordinate1,coordinate2)"
   ]
  },
  {
   "cell_type": "code",
   "execution_count": 57,
   "id": "245feaba",
   "metadata": {},
   "outputs": [
    {
     "data": {
      "text/plain": [
       "9.433981132056603"
      ]
     },
     "execution_count": 57,
     "metadata": {},
     "output_type": "execute_result"
    }
   ],
   "source": [
    "li.distance()"
   ]
  },
  {
   "cell_type": "code",
   "execution_count": 58,
   "id": "841dbeff",
   "metadata": {},
   "outputs": [
    {
     "data": {
      "text/plain": [
       "1.6"
      ]
     },
     "execution_count": 58,
     "metadata": {},
     "output_type": "execute_result"
    }
   ],
   "source": [
    "li.slope()"
   ]
  },
  {
   "cell_type": "code",
   "execution_count": 59,
   "id": "2f9310e6",
   "metadata": {},
   "outputs": [],
   "source": [
    "# NOW I AM SPARKING \n",
    "# CRACKED THE CODE"
   ]
  },
  {
   "cell_type": "code",
   "execution_count": 60,
   "id": "6671d1be",
   "metadata": {},
   "outputs": [],
   "source": [
    "# 2 \n",
    "class Line:\n",
    "    \n",
    "    def __init__(self,coor1,coor2):\n",
    "        self.coor1 = coor1\n",
    "        self.coor2 = coor2        \n",
    "        \n",
    "    def distance(self):\n",
    "        x1,y1 = self.coor1\n",
    "        x2,y2 = self.coor2\n",
    "        \n",
    "        return ((x2-x1)**2 + (y2-y1)**2)**0.5\n",
    "        \n",
    "    def slope(self):\n",
    "        x1,y1 = self.coor1\n",
    "        x2,y2 = self.coor2\n",
    "        \n",
    "        return (y2-y1)/(x2-x1)"
   ]
  },
  {
   "cell_type": "code",
   "execution_count": 61,
   "id": "27c971d1",
   "metadata": {},
   "outputs": [],
   "source": [
    "coordinate1 = (3,2)\n",
    "coordinate2 = (8,10)\n",
    "li = Line(coordinate1,coordinate2)"
   ]
  },
  {
   "cell_type": "code",
   "execution_count": 62,
   "id": "4c9a6df6",
   "metadata": {},
   "outputs": [
    {
     "data": {
      "text/plain": [
       "9.433981132056603"
      ]
     },
     "execution_count": 62,
     "metadata": {},
     "output_type": "execute_result"
    }
   ],
   "source": [
    "li.distance()"
   ]
  },
  {
   "cell_type": "code",
   "execution_count": 63,
   "id": "d8b27144",
   "metadata": {},
   "outputs": [
    {
     "data": {
      "text/plain": [
       "1.6"
      ]
     },
     "execution_count": 63,
     "metadata": {},
     "output_type": "execute_result"
    }
   ],
   "source": [
    "li.slope()"
   ]
  },
  {
   "cell_type": "code",
   "execution_count": null,
   "id": "c3086d34",
   "metadata": {},
   "outputs": [],
   "source": []
  },
  {
   "cell_type": "code",
   "execution_count": null,
   "id": "9ed94665",
   "metadata": {},
   "outputs": [],
   "source": []
  },
  {
   "cell_type": "markdown",
   "id": "d45dde1f",
   "metadata": {},
   "source": [
    "# 067-068 OOP CHALLENGE"
   ]
  },
  {
   "cell_type": "code",
   "execution_count": 103,
   "id": "59621b7b",
   "metadata": {},
   "outputs": [],
   "source": [
    "class Account():\n",
    "    \n",
    "    def __init__(self,owner,balance):   \n",
    "        self.owner = owner\n",
    "        self.balance = balance\n",
    "\n",
    "    def deposit(self,amount):\n",
    "        self.balance = self.balance + amount\n",
    "        print(f'Amount ${amount} deposited to {self.owner} Account Successfully!')\n",
    "        \n",
    "    def withdraw(self,amount):\n",
    "        if((self.balance - amount)>=0):    # OR if(self.balance >= amount)\n",
    "            self.balance = self.balance - amount\n",
    "            print(f'Amount ${amount} withdraw from {self.owner} Account Successfully!')\n",
    "        else:\n",
    "            print(\"Funds Unavailable!\")\n",
    "            \n",
    "    def __str__(self):\n",
    "        return(f'Account Owner: {self.owner} \\nAccount Balance: ${self.balance} ')"
   ]
  },
  {
   "cell_type": "code",
   "execution_count": 104,
   "id": "bead3504",
   "metadata": {},
   "outputs": [],
   "source": [
    "a1 = Account(\"Sherlock Holmes\",100)"
   ]
  },
  {
   "cell_type": "code",
   "execution_count": 105,
   "id": "2a6c6f6f",
   "metadata": {},
   "outputs": [
    {
     "name": "stdout",
     "output_type": "stream",
     "text": [
      "Account Owner: Sherlock Holmes \n",
      "Account Balance: $100 \n"
     ]
    }
   ],
   "source": [
    "print(a1)"
   ]
  },
  {
   "cell_type": "code",
   "execution_count": 106,
   "id": "ba16cfc1",
   "metadata": {},
   "outputs": [
    {
     "data": {
      "text/plain": [
       "'Sherlock Holmes'"
      ]
     },
     "execution_count": 106,
     "metadata": {},
     "output_type": "execute_result"
    }
   ],
   "source": [
    "a1.owner"
   ]
  },
  {
   "cell_type": "code",
   "execution_count": 107,
   "id": "13c71782",
   "metadata": {},
   "outputs": [
    {
     "data": {
      "text/plain": [
       "100"
      ]
     },
     "execution_count": 107,
     "metadata": {},
     "output_type": "execute_result"
    }
   ],
   "source": [
    "a1.balance"
   ]
  },
  {
   "cell_type": "code",
   "execution_count": 108,
   "id": "7a2a5f1a",
   "metadata": {},
   "outputs": [
    {
     "name": "stdout",
     "output_type": "stream",
     "text": [
      "Amount $500 deposited to Sherlock Holmes Account Successfully!\n"
     ]
    }
   ],
   "source": [
    "a1.deposit(500)"
   ]
  },
  {
   "cell_type": "code",
   "execution_count": 109,
   "id": "bd89a437",
   "metadata": {},
   "outputs": [
    {
     "data": {
      "text/plain": [
       "600"
      ]
     },
     "execution_count": 109,
     "metadata": {},
     "output_type": "execute_result"
    }
   ],
   "source": [
    "a1.balance"
   ]
  },
  {
   "cell_type": "code",
   "execution_count": 110,
   "id": "4e39dfb3",
   "metadata": {},
   "outputs": [
    {
     "data": {
      "text/plain": [
       "<bound method Account.withdraw of <__main__.Account object at 0x0598F3A0>>"
      ]
     },
     "execution_count": 110,
     "metadata": {},
     "output_type": "execute_result"
    }
   ],
   "source": [
    "a1.withdraw"
   ]
  },
  {
   "cell_type": "code",
   "execution_count": 111,
   "id": "061cc173",
   "metadata": {},
   "outputs": [
    {
     "name": "stdout",
     "output_type": "stream",
     "text": [
      "Amount $300 withdraw from Sherlock Holmes Account Successfully!\n"
     ]
    }
   ],
   "source": [
    "a1.withdraw(300)"
   ]
  },
  {
   "cell_type": "code",
   "execution_count": 112,
   "id": "92932d4b",
   "metadata": {},
   "outputs": [
    {
     "data": {
      "text/plain": [
       "300"
      ]
     },
     "execution_count": 112,
     "metadata": {},
     "output_type": "execute_result"
    }
   ],
   "source": [
    "a1.balance"
   ]
  },
  {
   "cell_type": "code",
   "execution_count": 113,
   "id": "c1c57768",
   "metadata": {},
   "outputs": [
    {
     "name": "stdout",
     "output_type": "stream",
     "text": [
      "Funds Unavailable!\n"
     ]
    }
   ],
   "source": [
    "a1.withdraw(500)"
   ]
  },
  {
   "cell_type": "code",
   "execution_count": 114,
   "id": "8f96cd60",
   "metadata": {},
   "outputs": [
    {
     "data": {
      "text/plain": [
       "300"
      ]
     },
     "execution_count": 114,
     "metadata": {},
     "output_type": "execute_result"
    }
   ],
   "source": [
    "a1.balance"
   ]
  },
  {
   "cell_type": "code",
   "execution_count": 115,
   "id": "3c2146d1",
   "metadata": {},
   "outputs": [
    {
     "name": "stdout",
     "output_type": "stream",
     "text": [
      "Amount $300 withdraw from Sherlock Holmes Account Successfully!\n"
     ]
    }
   ],
   "source": [
    "a1.withdraw(300)"
   ]
  },
  {
   "cell_type": "code",
   "execution_count": 116,
   "id": "4e534f06",
   "metadata": {},
   "outputs": [
    {
     "data": {
      "text/plain": [
       "0"
      ]
     },
     "execution_count": 116,
     "metadata": {},
     "output_type": "execute_result"
    }
   ],
   "source": [
    "a1.balance"
   ]
  },
  {
   "cell_type": "code",
   "execution_count": 118,
   "id": "d7e07920",
   "metadata": {},
   "outputs": [
    {
     "name": "stdout",
     "output_type": "stream",
     "text": [
      "Account Owner: Sherlock Holmes \n",
      "Account Balance: $0 \n"
     ]
    }
   ],
   "source": [
    "print(a1)"
   ]
  },
  {
   "cell_type": "code",
   "execution_count": null,
   "id": "449e77f2",
   "metadata": {},
   "outputs": [],
   "source": []
  },
  {
   "cell_type": "markdown",
   "id": "b68d1a0e",
   "metadata": {},
   "source": [
    "# NOW I AM SPARKING LIGHTER THAN THUNDER"
   ]
  }
 ],
 "metadata": {
  "kernelspec": {
   "display_name": "Python 3 (ipykernel)",
   "language": "python",
   "name": "python3"
  },
  "language_info": {
   "codemirror_mode": {
    "name": "ipython",
    "version": 3
   },
   "file_extension": ".py",
   "mimetype": "text/x-python",
   "name": "python",
   "nbconvert_exporter": "python",
   "pygments_lexer": "ipython3",
   "version": "3.8.6"
  }
 },
 "nbformat": 4,
 "nbformat_minor": 5
}
