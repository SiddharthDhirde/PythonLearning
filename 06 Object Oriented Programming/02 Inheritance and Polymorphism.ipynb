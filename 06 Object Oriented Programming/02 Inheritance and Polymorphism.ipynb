{
 "cells": [
  {
   "cell_type": "markdown",
   "id": "4a573247",
   "metadata": {},
   "source": [
    "## OOP\n",
    "- Inheritance and Polymorphism\n",
    "- Dunder Methods"
   ]
  },
  {
   "cell_type": "markdown",
   "id": "14718c0c",
   "metadata": {},
   "source": [
    "### INHERITANCE"
   ]
  },
  {
   "cell_type": "code",
   "execution_count": 1,
   "id": "5a8d4b99",
   "metadata": {},
   "outputs": [],
   "source": [
    "# BASE CLASS\n",
    "\n",
    "class Animal():\n",
    "    \n",
    "    def __init__(self):\n",
    "        print(\"Animal Created\")\n",
    "        \n",
    "    def who_am_i(self):\n",
    "        print(\"I am an Animal\")\n",
    "        \n",
    "    def eat(self):\n",
    "        print(\"I am Eating\")"
   ]
  },
  {
   "cell_type": "code",
   "execution_count": 2,
   "id": "2fd8784f",
   "metadata": {},
   "outputs": [],
   "source": [
    "class Dog(Animal):\n",
    "    \n",
    "    def __init__(self):\n",
    "        Animal.__init__(self)\n",
    "        print(\"Dog Created\")\n",
    "        \n",
    "    def who_am_i(self):\n",
    "        print(\"I am a Dog!\")\n",
    "        \n",
    "    def bark(self):\n",
    "        print(\"WOOF!!\")"
   ]
  },
  {
   "cell_type": "code",
   "execution_count": 3,
   "id": "a530fd98",
   "metadata": {},
   "outputs": [
    {
     "name": "stdout",
     "output_type": "stream",
     "text": [
      "Animal Created\n",
      "Dog Created\n"
     ]
    }
   ],
   "source": [
    "my_dog = Dog()"
   ]
  },
  {
   "cell_type": "code",
   "execution_count": 4,
   "id": "2970b3aa",
   "metadata": {},
   "outputs": [
    {
     "data": {
      "text/plain": [
       "<bound method Animal.eat of <__main__.Dog object at 0x00000132C4382890>>"
      ]
     },
     "execution_count": 4,
     "metadata": {},
     "output_type": "execute_result"
    }
   ],
   "source": [
    "my_dog.eat"
   ]
  },
  {
   "cell_type": "code",
   "execution_count": 5,
   "id": "0ecf39ea",
   "metadata": {},
   "outputs": [
    {
     "name": "stdout",
     "output_type": "stream",
     "text": [
      "I am Eating\n"
     ]
    }
   ],
   "source": [
    "my_dog.eat() ## derived from base class"
   ]
  },
  {
   "cell_type": "code",
   "execution_count": 6,
   "id": "9f2e1bf0",
   "metadata": {},
   "outputs": [
    {
     "name": "stdout",
     "output_type": "stream",
     "text": [
      "I am a Dog!\n"
     ]
    }
   ],
   "source": [
    "my_dog.who_am_i()"
   ]
  },
  {
   "cell_type": "code",
   "execution_count": 7,
   "id": "2ec1693c",
   "metadata": {},
   "outputs": [
    {
     "data": {
      "text/plain": [
       "<bound method Dog.bark of <__main__.Dog object at 0x00000132C4382890>>"
      ]
     },
     "execution_count": 7,
     "metadata": {},
     "output_type": "execute_result"
    }
   ],
   "source": [
    "my_dog.bark"
   ]
  },
  {
   "cell_type": "code",
   "execution_count": 8,
   "id": "bd64091f",
   "metadata": {},
   "outputs": [
    {
     "name": "stdout",
     "output_type": "stream",
     "text": [
      "WOOF!!\n"
     ]
    }
   ],
   "source": [
    "my_dog.bark()"
   ]
  },
  {
   "cell_type": "markdown",
   "id": "bc95064d",
   "metadata": {},
   "source": [
    "## POLYMORPHISM"
   ]
  },
  {
   "cell_type": "code",
   "execution_count": 9,
   "id": "6ab3591b",
   "metadata": {},
   "outputs": [],
   "source": [
    "class Dog():\n",
    "    \n",
    "    def __init__(self,name):\n",
    "        self.name = name\n",
    "        \n",
    "    def speak(self):\n",
    "        return self.name + \" says woof\""
   ]
  },
  {
   "cell_type": "code",
   "execution_count": 10,
   "id": "87ca60cf",
   "metadata": {},
   "outputs": [],
   "source": [
    "class Cat():\n",
    "    def __init__(self,name):\n",
    "        self.name = name\n",
    "        \n",
    "    def speak(self):\n",
    "        return self.name + \" says meow\""
   ]
  },
  {
   "cell_type": "code",
   "execution_count": 11,
   "id": "ce07af55",
   "metadata": {},
   "outputs": [],
   "source": [
    "Moti = Dog(\"Moti\")"
   ]
  },
  {
   "cell_type": "code",
   "execution_count": 12,
   "id": "9e3078a7",
   "metadata": {},
   "outputs": [],
   "source": [
    "Mani = Cat(\"Mani\")"
   ]
  },
  {
   "cell_type": "code",
   "execution_count": 13,
   "id": "f221922e",
   "metadata": {},
   "outputs": [
    {
     "name": "stdout",
     "output_type": "stream",
     "text": [
      "Moti says woof\n",
      "Mani says meow\n"
     ]
    }
   ],
   "source": [
    "print(Moti.speak())\n",
    "print(Mani.speak())"
   ]
  },
  {
   "cell_type": "code",
   "execution_count": 14,
   "id": "91786ecb",
   "metadata": {},
   "outputs": [
    {
     "name": "stdout",
     "output_type": "stream",
     "text": [
      "<class '__main__.Dog'>\n",
      "<__main__.Dog object at 0x00000132C439D0C0>\n",
      "<class '__main__.Cat'>\n",
      "<__main__.Cat object at 0x00000132C439EB90>\n"
     ]
    }
   ],
   "source": [
    "for pet in [Moti,Mani]:\n",
    "    print(type(pet))\n",
    "    print(pet)"
   ]
  },
  {
   "cell_type": "code",
   "execution_count": 15,
   "id": "f4da1e87",
   "metadata": {},
   "outputs": [
    {
     "name": "stdout",
     "output_type": "stream",
     "text": [
      "<class '__main__.Dog'>\n",
      "Moti says woof\n",
      "<class '__main__.Cat'>\n",
      "Mani says meow\n"
     ]
    }
   ],
   "source": [
    "for pet in [Moti,Mani]:\n",
    "    print(type(pet))\n",
    "    print(pet.speak())"
   ]
  },
  {
   "cell_type": "code",
   "execution_count": 16,
   "id": "128a077f",
   "metadata": {},
   "outputs": [],
   "source": [
    "def pet_speak(pet):\n",
    "    print(pet.speak())"
   ]
  },
  {
   "cell_type": "code",
   "execution_count": 17,
   "id": "87675e57",
   "metadata": {},
   "outputs": [
    {
     "name": "stdout",
     "output_type": "stream",
     "text": [
      "Moti says woof\n"
     ]
    }
   ],
   "source": [
    "pet_speak(Moti)"
   ]
  },
  {
   "cell_type": "code",
   "execution_count": 18,
   "id": "b2b5d434",
   "metadata": {},
   "outputs": [
    {
     "name": "stdout",
     "output_type": "stream",
     "text": [
      "Mani says meow\n"
     ]
    }
   ],
   "source": [
    "pet_speak(Mani)"
   ]
  },
  {
   "cell_type": "code",
   "execution_count": 19,
   "id": "b6807671",
   "metadata": {},
   "outputs": [],
   "source": [
    "class Animal(): # abstract classes\n",
    "    \n",
    "    def __init__(self,name):\n",
    "        self.name = name\n",
    "        \n",
    "    def speak(self):\n",
    "        raise NotImplementedError(\"subclass must implement this abstract method\")"
   ]
  },
  {
   "cell_type": "code",
   "execution_count": 20,
   "id": "b4a4fc35",
   "metadata": {},
   "outputs": [],
   "source": [
    "myanimal = Animal(\"fred\")"
   ]
  },
  {
   "cell_type": "code",
   "execution_count": 21,
   "id": "2b523476",
   "metadata": {},
   "outputs": [
    {
     "data": {
      "text/plain": [
       "'fred'"
      ]
     },
     "execution_count": 21,
     "metadata": {},
     "output_type": "execute_result"
    }
   ],
   "source": [
    "myanimal.name"
   ]
  },
  {
   "cell_type": "code",
   "execution_count": 22,
   "id": "9db3ba25",
   "metadata": {},
   "outputs": [],
   "source": [
    "# myanimal.speak()\n",
    "# ---------------------------------------------------------------------------\n",
    "# NotImplementedError                       Traceback (most recent call last)\n",
    "# Input In [3], in <module>\n",
    "# ----> 1 myanimal.speak()\n",
    "\n",
    "# Input In [1], in Animal.speak(self)\n",
    "#       6 def speak(self):\n",
    "# ----> 7     raise NotImplementedError(\"sublass must implement this abstract method\")\n",
    "\n",
    "# NotImplementedError: sublass must implement this abstract method"
   ]
  },
  {
   "cell_type": "code",
   "execution_count": 23,
   "id": "1dc387b6",
   "metadata": {},
   "outputs": [],
   "source": [
    "class Dog(Animal):\n",
    "    \n",
    "    def speak(self):\n",
    "        return self.name + \" says woof!\""
   ]
  },
  {
   "cell_type": "code",
   "execution_count": 24,
   "id": "77d48722",
   "metadata": {},
   "outputs": [],
   "source": [
    "class Cat(Animal):\n",
    "    \n",
    "    def speak(self):\n",
    "        return self.name + \" says Meow!\""
   ]
  },
  {
   "cell_type": "code",
   "execution_count": 25,
   "id": "02604f63",
   "metadata": {},
   "outputs": [],
   "source": [
    "fido = Dog(\"Fido\")\n",
    "\n",
    "isis = Cat('Isis')"
   ]
  },
  {
   "cell_type": "code",
   "execution_count": 26,
   "id": "4ce0e3dd",
   "metadata": {},
   "outputs": [
    {
     "data": {
      "text/plain": [
       "<bound method Dog.speak of <__main__.Dog object at 0x00000132C44512A0>>"
      ]
     },
     "execution_count": 26,
     "metadata": {},
     "output_type": "execute_result"
    }
   ],
   "source": [
    "fido.speak"
   ]
  },
  {
   "cell_type": "code",
   "execution_count": 27,
   "id": "85cdc18d",
   "metadata": {},
   "outputs": [
    {
     "data": {
      "text/plain": [
       "'Fido says woof!'"
      ]
     },
     "execution_count": 27,
     "metadata": {},
     "output_type": "execute_result"
    }
   ],
   "source": [
    "fido.speak()"
   ]
  },
  {
   "cell_type": "code",
   "execution_count": 28,
   "id": "06ff6c5d",
   "metadata": {},
   "outputs": [
    {
     "data": {
      "text/plain": [
       "'Isis says Meow!'"
      ]
     },
     "execution_count": 28,
     "metadata": {},
     "output_type": "execute_result"
    }
   ],
   "source": [
    "isis.speak()"
   ]
  },
  {
   "cell_type": "code",
   "execution_count": null,
   "id": "5658620e",
   "metadata": {},
   "outputs": [],
   "source": []
  },
  {
   "cell_type": "markdown",
   "id": "8b22a7ad",
   "metadata": {},
   "source": [
    "### OOP Special (MagicDunder) Methods"
   ]
  },
  {
   "cell_type": "code",
   "execution_count": 29,
   "id": "b3cb54d8",
   "metadata": {},
   "outputs": [],
   "source": [
    "class Book():\n",
    "    \n",
    "    def __init__(self, name, author, pages):\n",
    "        self.name = name\n",
    "        self.author = author\n",
    "        self.pages = pages\n",
    "        \n",
    "    def __str__(self):\n",
    "        return f\"{self.name} by {self.author} \"\n",
    "    \n",
    "    def __len__(self):\n",
    "        return self.pages"
   ]
  },
  {
   "cell_type": "code",
   "execution_count": 30,
   "id": "4ecba8bd",
   "metadata": {},
   "outputs": [],
   "source": [
    "b = Book('Python rocks','Batmam',100)"
   ]
  },
  {
   "cell_type": "code",
   "execution_count": 31,
   "id": "8f318e4a",
   "metadata": {},
   "outputs": [
    {
     "data": {
      "text/plain": [
       "<__main__.Book at 0x132c4382410>"
      ]
     },
     "execution_count": 31,
     "metadata": {},
     "output_type": "execute_result"
    }
   ],
   "source": [
    "b"
   ]
  },
  {
   "cell_type": "code",
   "execution_count": 32,
   "id": "ef954f44",
   "metadata": {},
   "outputs": [
    {
     "name": "stdout",
     "output_type": "stream",
     "text": [
      "Python rocks by Batmam \n"
     ]
    }
   ],
   "source": [
    "print(b)"
   ]
  },
  {
   "cell_type": "code",
   "execution_count": 33,
   "id": "feb081b2",
   "metadata": {},
   "outputs": [
    {
     "data": {
      "text/plain": [
       "'Python rocks by Batmam '"
      ]
     },
     "execution_count": 33,
     "metadata": {},
     "output_type": "execute_result"
    }
   ],
   "source": [
    "str(b)"
   ]
  },
  {
   "cell_type": "code",
   "execution_count": 34,
   "id": "8e38dd19",
   "metadata": {},
   "outputs": [
    {
     "data": {
      "text/plain": [
       "100"
      ]
     },
     "execution_count": 34,
     "metadata": {},
     "output_type": "execute_result"
    }
   ],
   "source": [
    "len(b)"
   ]
  },
  {
   "cell_type": "code",
   "execution_count": 35,
   "id": "350ce73f",
   "metadata": {},
   "outputs": [],
   "source": [
    "del b # delete variable"
   ]
  },
  {
   "cell_type": "code",
   "execution_count": null,
   "id": "28a1c8c2",
   "metadata": {},
   "outputs": [],
   "source": []
  },
  {
   "cell_type": "code",
   "execution_count": 36,
   "id": "f69d69b6",
   "metadata": {},
   "outputs": [],
   "source": [
    "class Book():\n",
    "    \n",
    "    def __init__(self,name,author,pages):\n",
    "        self.name = name\n",
    "        self.author = author\n",
    "        self.pages = pages\n",
    "        \n",
    "    def __str__(self):\n",
    "        return f\"{self.name} by {self.author} \"\n",
    "    \n",
    "    def __len__(self):\n",
    "        return self.pages\n",
    "    \n",
    "    def __del__(self):\n",
    "        print(\"A Book object has been deleted\")"
   ]
  },
  {
   "cell_type": "code",
   "execution_count": 37,
   "id": "edfbed8a",
   "metadata": {},
   "outputs": [],
   "source": [
    "b = Book('Python rocks','Batman',100)"
   ]
  },
  {
   "cell_type": "code",
   "execution_count": 38,
   "id": "4226fb4a",
   "metadata": {},
   "outputs": [
    {
     "data": {
      "text/plain": [
       "<__main__.Book at 0x132c4452e60>"
      ]
     },
     "execution_count": 38,
     "metadata": {},
     "output_type": "execute_result"
    }
   ],
   "source": [
    "b"
   ]
  },
  {
   "cell_type": "code",
   "execution_count": 39,
   "id": "239c6de3",
   "metadata": {},
   "outputs": [
    {
     "data": {
      "text/plain": [
       "<bound method Book.__del__ of <__main__.Book object at 0x00000132C4452E60>>"
      ]
     },
     "execution_count": 39,
     "metadata": {},
     "output_type": "execute_result"
    }
   ],
   "source": [
    "b.__del__"
   ]
  },
  {
   "cell_type": "code",
   "execution_count": 40,
   "id": "60d644fd",
   "metadata": {},
   "outputs": [
    {
     "name": "stdout",
     "output_type": "stream",
     "text": [
      "A Book object has been deleted\n"
     ]
    }
   ],
   "source": [
    "b.__del__() # but its not actually deleted, this simply print the message and dont do any operation on objects"
   ]
  },
  {
   "cell_type": "code",
   "execution_count": 41,
   "id": "1b34eef5",
   "metadata": {},
   "outputs": [],
   "source": [
    "del(b)"
   ]
  },
  {
   "cell_type": "code",
   "execution_count": null,
   "id": "20d34272",
   "metadata": {},
   "outputs": [],
   "source": []
  },
  {
   "cell_type": "code",
   "execution_count": null,
   "id": "891f315a",
   "metadata": {},
   "outputs": [],
   "source": []
  },
  {
   "cell_type": "code",
   "execution_count": 42,
   "id": "6e4e8ef7",
   "metadata": {},
   "outputs": [],
   "source": [
    "class Book():\n",
    "    \n",
    "    def __init__(self,name,author,pages,magicno):\n",
    "        self.name = name\n",
    "        self.author = author\n",
    "        self.pages = pages\n",
    "        self.magicno = magicno\n",
    "        \n",
    "    def __str__(self):\n",
    "        return f\"{self.name} by {self.author} \"\n",
    "    \n",
    "    def __len__(self):\n",
    "        return self.pages\n",
    "    \n",
    "    def __del__(self):\n",
    "        print(\"A Book object has been deleted\")\n",
    "        \n",
    "    def __magicno__(self):\n",
    "        return self.magicno\n",
    "    \n",
    "    def __testinput__(self, num):\n",
    "        return num"
   ]
  },
  {
   "cell_type": "code",
   "execution_count": 43,
   "id": "c4eaec73",
   "metadata": {},
   "outputs": [],
   "source": [
    "b = Book('Python rocks','Jose',100,3)"
   ]
  },
  {
   "cell_type": "code",
   "execution_count": 44,
   "id": "3dee7771",
   "metadata": {},
   "outputs": [
    {
     "data": {
      "text/plain": [
       "3"
      ]
     },
     "execution_count": 44,
     "metadata": {},
     "output_type": "execute_result"
    }
   ],
   "source": [
    "b.magicno"
   ]
  },
  {
   "cell_type": "code",
   "execution_count": 45,
   "id": "79173dfa",
   "metadata": {},
   "outputs": [
    {
     "data": {
      "text/plain": [
       "<bound method Book.__magicno__ of <__main__.Book object at 0x00000132C4453970>>"
      ]
     },
     "execution_count": 45,
     "metadata": {},
     "output_type": "execute_result"
    }
   ],
   "source": [
    "b.__magicno__"
   ]
  },
  {
   "cell_type": "code",
   "execution_count": 46,
   "id": "3c7337df",
   "metadata": {},
   "outputs": [
    {
     "data": {
      "text/plain": [
       "3"
      ]
     },
     "execution_count": 46,
     "metadata": {},
     "output_type": "execute_result"
    }
   ],
   "source": [
    "b.__magicno__()"
   ]
  },
  {
   "cell_type": "code",
   "execution_count": 47,
   "id": "f7bb77f5",
   "metadata": {},
   "outputs": [
    {
     "data": {
      "text/plain": [
       "42"
      ]
     },
     "execution_count": 47,
     "metadata": {},
     "output_type": "execute_result"
    }
   ],
   "source": [
    "b.__testinput__(42)"
   ]
  },
  {
   "cell_type": "code",
   "execution_count": 48,
   "id": "69c72f77",
   "metadata": {},
   "outputs": [
    {
     "data": {
      "text/plain": [
       "'this is just test'"
      ]
     },
     "execution_count": 48,
     "metadata": {},
     "output_type": "execute_result"
    }
   ],
   "source": [
    "b.__testinput__(\"this is just test\")"
   ]
  },
  {
   "cell_type": "code",
   "execution_count": null,
   "id": "349d6b3b",
   "metadata": {},
   "outputs": [],
   "source": []
  },
  {
   "cell_type": "code",
   "execution_count": 49,
   "id": "b7c1ac4e",
   "metadata": {},
   "outputs": [],
   "source": [
    "class Book():\n",
    "    \n",
    "    def __init__(self,name,author,pages,magicno=3):\n",
    "        self.name = name\n",
    "        self.author = author\n",
    "        self.pages = pages\n",
    "        self.magicno = magicno\n",
    "        \n",
    "    def __str__(self):\n",
    "        return f\"{self.name} by {self.author} \"\n",
    "    \n",
    "    def __len__(self):\n",
    "        return self.pages\n",
    "    \n",
    "    def __del__(self):\n",
    "        print(\"A Book object has been deleted\")\n",
    "        \n",
    "    def __magicno__(self):\n",
    "        return self.magicno"
   ]
  },
  {
   "cell_type": "code",
   "execution_count": 50,
   "id": "e1b2c21e",
   "metadata": {},
   "outputs": [],
   "source": [
    "b = Book('Python rocks','Batman',100)"
   ]
  },
  {
   "cell_type": "code",
   "execution_count": 51,
   "id": "617a1eb9",
   "metadata": {},
   "outputs": [
    {
     "data": {
      "text/plain": [
       "<__main__.Book at 0x132c444af20>"
      ]
     },
     "execution_count": 51,
     "metadata": {},
     "output_type": "execute_result"
    }
   ],
   "source": [
    "b"
   ]
  },
  {
   "cell_type": "code",
   "execution_count": 52,
   "id": "519e32b8",
   "metadata": {},
   "outputs": [
    {
     "name": "stdout",
     "output_type": "stream",
     "text": [
      "Python rocks by Batman \n"
     ]
    }
   ],
   "source": [
    "print(b)"
   ]
  },
  {
   "cell_type": "markdown",
   "id": "2826bfc3",
   "metadata": {},
   "source": [
    "# Thank You"
   ]
  }
 ],
 "metadata": {
  "kernelspec": {
   "display_name": "Python 3 (ipykernel)",
   "language": "python",
   "name": "python3"
  },
  "language_info": {
   "codemirror_mode": {
    "name": "ipython",
    "version": 3
   },
   "file_extension": ".py",
   "mimetype": "text/x-python",
   "name": "python",
   "nbconvert_exporter": "python",
   "pygments_lexer": "ipython3",
   "version": "3.10.9"
  }
 },
 "nbformat": 4,
 "nbformat_minor": 5
}
