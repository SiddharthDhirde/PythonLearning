{
 "cells": [
  {
   "cell_type": "markdown",
   "id": "144c3a26",
   "metadata": {},
   "source": [
    "# Object Oriented Programming \n",
    "- Attributes and Class Keyword"
   ]
  },
  {
   "cell_type": "code",
   "execution_count": 1,
   "id": "ec045bd3",
   "metadata": {},
   "outputs": [],
   "source": [
    "class Sample():\n",
    "    pass"
   ]
  },
  {
   "cell_type": "code",
   "execution_count": 2,
   "id": "29d3c71f",
   "metadata": {},
   "outputs": [
    {
     "data": {
      "text/plain": [
       "__main__.Sample"
      ]
     },
     "execution_count": 2,
     "metadata": {},
     "output_type": "execute_result"
    }
   ],
   "source": [
    "Sample"
   ]
  },
  {
   "cell_type": "code",
   "execution_count": 3,
   "id": "0edff32e",
   "metadata": {},
   "outputs": [
    {
     "data": {
      "text/plain": [
       "type"
      ]
     },
     "execution_count": 3,
     "metadata": {},
     "output_type": "execute_result"
    }
   ],
   "source": [
    "type(Sample)"
   ]
  },
  {
   "cell_type": "code",
   "execution_count": 4,
   "id": "fa14f719",
   "metadata": {},
   "outputs": [
    {
     "name": "stdout",
     "output_type": "stream",
     "text": [
      "Help on class Sample in module __main__:\n",
      "\n",
      "class Sample(builtins.object)\n",
      " |  Data descriptors defined here:\n",
      " |  \n",
      " |  __dict__\n",
      " |      dictionary for instance variables (if defined)\n",
      " |  \n",
      " |  __weakref__\n",
      " |      list of weak references to the object (if defined)\n",
      "\n"
     ]
    }
   ],
   "source": [
    "help(Sample)"
   ]
  },
  {
   "cell_type": "code",
   "execution_count": 5,
   "id": "a6f545e3",
   "metadata": {},
   "outputs": [
    {
     "data": {
      "text/plain": [
       "<__main__.Sample at 0x1ba7d29d2a0>"
      ]
     },
     "execution_count": 5,
     "metadata": {},
     "output_type": "execute_result"
    }
   ],
   "source": [
    "my_sample = Sample()\n",
    "my_sample"
   ]
  },
  {
   "cell_type": "code",
   "execution_count": 6,
   "id": "2faca9c3",
   "metadata": {},
   "outputs": [
    {
     "data": {
      "text/plain": [
       "__main__.Sample"
      ]
     },
     "execution_count": 6,
     "metadata": {},
     "output_type": "execute_result"
    }
   ],
   "source": [
    "type(my_sample)"
   ]
  },
  {
   "cell_type": "code",
   "execution_count": 7,
   "id": "ae08a6cb",
   "metadata": {},
   "outputs": [],
   "source": [
    "# Dog    --> class\n",
    "# breed  --> attribute\n",
    "class Dog():\n",
    "    \n",
    "    def __init__(self,breed):\n",
    "        self.breed = breed\n",
    "        print(self)"
   ]
  },
  {
   "cell_type": "code",
   "execution_count": 8,
   "id": "916ae40a",
   "metadata": {},
   "outputs": [
    {
     "name": "stdout",
     "output_type": "stream",
     "text": [
      "<__main__.Dog object at 0x000001BA7D29EA10>\n"
     ]
    },
    {
     "data": {
      "text/plain": [
       "<__main__.Dog at 0x1ba7d29ea10>"
      ]
     },
     "execution_count": 8,
     "metadata": {},
     "output_type": "execute_result"
    }
   ],
   "source": [
    "Dog(breed=\"Lab\")"
   ]
  },
  {
   "cell_type": "code",
   "execution_count": 9,
   "id": "6eba1c42",
   "metadata": {},
   "outputs": [
    {
     "name": "stdout",
     "output_type": "stream",
     "text": [
      "<__main__.Dog object at 0x000001BA7D29E7A0>\n",
      "Help on Dog in module __main__ object:\n",
      "\n",
      "class Dog(builtins.object)\n",
      " |  Dog(breed)\n",
      " |  \n",
      " |  Methods defined here:\n",
      " |  \n",
      " |  __init__(self, breed)\n",
      " |      Initialize self.  See help(type(self)) for accurate signature.\n",
      " |  \n",
      " |  ----------------------------------------------------------------------\n",
      " |  Data descriptors defined here:\n",
      " |  \n",
      " |  __dict__\n",
      " |      dictionary for instance variables (if defined)\n",
      " |  \n",
      " |  __weakref__\n",
      " |      list of weak references to the object (if defined)\n",
      "\n"
     ]
    }
   ],
   "source": [
    "help(Dog(breed=\"Lab\"))"
   ]
  },
  {
   "cell_type": "code",
   "execution_count": 10,
   "id": "dcff3eb2",
   "metadata": {},
   "outputs": [
    {
     "name": "stdout",
     "output_type": "stream",
     "text": [
      "<__main__.Dog object at 0x000001BA7D29FEB0>\n"
     ]
    }
   ],
   "source": [
    "# my_dog is the object of class Dog and breed is the attribute of Dog\n",
    "# my_dog --> object\n",
    "# Dog    --> class\n",
    "# breed  --> attribute\n",
    "my_dog = Dog(breed=\"Lab\")"
   ]
  },
  {
   "cell_type": "code",
   "execution_count": 11,
   "id": "8c14a5cc",
   "metadata": {},
   "outputs": [
    {
     "data": {
      "text/plain": [
       "<__main__.Dog at 0x1ba7d29feb0>"
      ]
     },
     "execution_count": 11,
     "metadata": {},
     "output_type": "execute_result"
    }
   ],
   "source": [
    "my_dog"
   ]
  },
  {
   "cell_type": "code",
   "execution_count": 12,
   "id": "38b74c37",
   "metadata": {},
   "outputs": [
    {
     "name": "stdout",
     "output_type": "stream",
     "text": [
      "<__main__.Dog object at 0x000001BA7D29E140>\n"
     ]
    },
    {
     "data": {
      "text/plain": [
       "__main__.Dog"
      ]
     },
     "execution_count": 12,
     "metadata": {},
     "output_type": "execute_result"
    }
   ],
   "source": [
    "type(Dog(breed=\"Lab\"))"
   ]
  },
  {
   "cell_type": "code",
   "execution_count": 13,
   "id": "f869daa4",
   "metadata": {},
   "outputs": [
    {
     "data": {
      "text/plain": [
       "__main__.Dog"
      ]
     },
     "execution_count": 13,
     "metadata": {},
     "output_type": "execute_result"
    }
   ],
   "source": [
    "type(my_dog)"
   ]
  },
  {
   "cell_type": "code",
   "execution_count": 14,
   "id": "fcbc37c1",
   "metadata": {},
   "outputs": [
    {
     "data": {
      "text/plain": [
       "'Lab'"
      ]
     },
     "execution_count": 14,
     "metadata": {},
     "output_type": "execute_result"
    }
   ],
   "source": [
    "my_dog.breed"
   ]
  },
  {
   "cell_type": "code",
   "execution_count": 15,
   "id": "24bdb2fd",
   "metadata": {},
   "outputs": [
    {
     "data": {
      "text/plain": [
       "<function Dog.mro()>"
      ]
     },
     "execution_count": 15,
     "metadata": {},
     "output_type": "execute_result"
    }
   ],
   "source": [
    "Dog.mro"
   ]
  },
  {
   "cell_type": "code",
   "execution_count": 16,
   "id": "8fe05065",
   "metadata": {},
   "outputs": [
    {
     "data": {
      "text/plain": [
       "[__main__.Dog, object]"
      ]
     },
     "execution_count": 16,
     "metadata": {},
     "output_type": "execute_result"
    }
   ],
   "source": [
    "Dog.mro()"
   ]
  },
  {
   "cell_type": "code",
   "execution_count": null,
   "id": "31c9f120",
   "metadata": {},
   "outputs": [],
   "source": []
  },
  {
   "cell_type": "code",
   "execution_count": 17,
   "id": "0ace76c5",
   "metadata": {},
   "outputs": [],
   "source": [
    "class Dog():\n",
    "    \n",
    "    def __init__(self,my_breed):\n",
    "        \n",
    "        self.my_attribute = my_breed"
   ]
  },
  {
   "cell_type": "code",
   "execution_count": 18,
   "id": "c9f5c5ae",
   "metadata": {},
   "outputs": [],
   "source": [
    "my_new_dog = Dog(my_breed=\"Huskie\")"
   ]
  },
  {
   "cell_type": "code",
   "execution_count": 19,
   "id": "4b930197",
   "metadata": {},
   "outputs": [
    {
     "data": {
      "text/plain": [
       "<__main__.Dog at 0x1ba7d29f580>"
      ]
     },
     "execution_count": 19,
     "metadata": {},
     "output_type": "execute_result"
    }
   ],
   "source": [
    "my_new_dog"
   ]
  },
  {
   "cell_type": "code",
   "execution_count": 20,
   "id": "6cdb7c20",
   "metadata": {},
   "outputs": [
    {
     "data": {
      "text/plain": [
       "'Huskie'"
      ]
     },
     "execution_count": 20,
     "metadata": {},
     "output_type": "execute_result"
    }
   ],
   "source": [
    "my_new_dog.my_attribute # "
   ]
  },
  {
   "cell_type": "code",
   "execution_count": 21,
   "id": "0771acf7",
   "metadata": {},
   "outputs": [],
   "source": [
    "# my_new_dog.my_breed --> this is not valid\n",
    "# 'Dog' object has no attribute 'my_breed'"
   ]
  },
  {
   "cell_type": "code",
   "execution_count": 22,
   "id": "263b4678",
   "metadata": {},
   "outputs": [],
   "source": [
    "temp = my_new_dog.my_attribute"
   ]
  },
  {
   "cell_type": "code",
   "execution_count": 23,
   "id": "ed05446e",
   "metadata": {},
   "outputs": [
    {
     "data": {
      "text/plain": [
       "'Huskie'"
      ]
     },
     "execution_count": 23,
     "metadata": {},
     "output_type": "execute_result"
    }
   ],
   "source": [
    "temp"
   ]
  },
  {
   "cell_type": "code",
   "execution_count": null,
   "id": "ff6ac875",
   "metadata": {},
   "outputs": [],
   "source": []
  },
  {
   "cell_type": "code",
   "execution_count": 24,
   "id": "e24d4c3d",
   "metadata": {},
   "outputs": [],
   "source": [
    "class Dog():\n",
    "    \n",
    "    def __init__(self,breed,name,spot):\n",
    "        \n",
    "        self.breed = breed\n",
    "        self.name = name\n",
    "        \n",
    "        # Expect Boolean\n",
    "        self.spot = spot"
   ]
  },
  {
   "cell_type": "code",
   "execution_count": 25,
   "id": "92a63baa",
   "metadata": {},
   "outputs": [],
   "source": [
    "my_dog = Dog(\"Lab\",\"Ned\",True)"
   ]
  },
  {
   "cell_type": "code",
   "execution_count": 26,
   "id": "81ddaf2d",
   "metadata": {},
   "outputs": [
    {
     "data": {
      "text/plain": [
       "'Lab'"
      ]
     },
     "execution_count": 26,
     "metadata": {},
     "output_type": "execute_result"
    }
   ],
   "source": [
    "my_dog.breed"
   ]
  },
  {
   "cell_type": "code",
   "execution_count": 27,
   "id": "d7ef057f",
   "metadata": {},
   "outputs": [
    {
     "data": {
      "text/plain": [
       "'Ned'"
      ]
     },
     "execution_count": 27,
     "metadata": {},
     "output_type": "execute_result"
    }
   ],
   "source": [
    "my_dog.name"
   ]
  },
  {
   "cell_type": "code",
   "execution_count": 28,
   "id": "761ec6a2",
   "metadata": {},
   "outputs": [
    {
     "data": {
      "text/plain": [
       "True"
      ]
     },
     "execution_count": 28,
     "metadata": {},
     "output_type": "execute_result"
    }
   ],
   "source": [
    "my_dog.spot"
   ]
  },
  {
   "cell_type": "code",
   "execution_count": 29,
   "id": "377e6bbb",
   "metadata": {},
   "outputs": [],
   "source": [
    "my_dog = Dog(name=\"Ned\",spot=True,breed=\"Lab\")"
   ]
  },
  {
   "cell_type": "code",
   "execution_count": 30,
   "id": "89740286",
   "metadata": {},
   "outputs": [
    {
     "data": {
      "text/plain": [
       "'Lab'"
      ]
     },
     "execution_count": 30,
     "metadata": {},
     "output_type": "execute_result"
    }
   ],
   "source": [
    "my_dog.breed"
   ]
  },
  {
   "cell_type": "code",
   "execution_count": 31,
   "id": "878173fb",
   "metadata": {},
   "outputs": [
    {
     "data": {
      "text/plain": [
       "'Ned'"
      ]
     },
     "execution_count": 31,
     "metadata": {},
     "output_type": "execute_result"
    }
   ],
   "source": [
    "my_dog.name"
   ]
  },
  {
   "cell_type": "code",
   "execution_count": 32,
   "id": "b34edb2e",
   "metadata": {},
   "outputs": [
    {
     "data": {
      "text/plain": [
       "True"
      ]
     },
     "execution_count": 32,
     "metadata": {},
     "output_type": "execute_result"
    }
   ],
   "source": [
    "my_dog.spot"
   ]
  },
  {
   "cell_type": "code",
   "execution_count": 33,
   "id": "b0dcd6dd",
   "metadata": {},
   "outputs": [],
   "source": [
    "my_dog = Dog(name=\"Ned\",spot='No Spots',breed=\"Lab\")"
   ]
  },
  {
   "cell_type": "code",
   "execution_count": 34,
   "id": "f816f120",
   "metadata": {},
   "outputs": [
    {
     "data": {
      "text/plain": [
       "'No Spots'"
      ]
     },
     "execution_count": 34,
     "metadata": {},
     "output_type": "execute_result"
    }
   ],
   "source": [
    "my_dog.spot"
   ]
  },
  {
   "cell_type": "code",
   "execution_count": 35,
   "id": "aa1d4309",
   "metadata": {},
   "outputs": [],
   "source": [
    "class Dog():\n",
    "    \n",
    "    def __init__(self,breed=\"Lab\",name='Fedre',spot=False):\n",
    "        \n",
    "        self.breed = breed\n",
    "        self.name = name\n",
    "        \n",
    "        # Expect Boolean\n",
    "        self.spot = spot"
   ]
  },
  {
   "cell_type": "code",
   "execution_count": 36,
   "id": "98b7740a",
   "metadata": {},
   "outputs": [
    {
     "data": {
      "text/plain": [
       "__main__.Dog"
      ]
     },
     "execution_count": 36,
     "metadata": {},
     "output_type": "execute_result"
    }
   ],
   "source": [
    "type(Dog())"
   ]
  },
  {
   "cell_type": "code",
   "execution_count": 37,
   "id": "2edda29e",
   "metadata": {},
   "outputs": [],
   "source": [
    "my_dog = Dog()"
   ]
  },
  {
   "cell_type": "code",
   "execution_count": 38,
   "id": "0660b9cb",
   "metadata": {},
   "outputs": [
    {
     "data": {
      "text/plain": [
       "'Fedre'"
      ]
     },
     "execution_count": 38,
     "metadata": {},
     "output_type": "execute_result"
    }
   ],
   "source": [
    "my_dog.name"
   ]
  },
  {
   "cell_type": "code",
   "execution_count": 39,
   "id": "8201c772",
   "metadata": {},
   "outputs": [
    {
     "data": {
      "text/plain": [
       "'Lab'"
      ]
     },
     "execution_count": 39,
     "metadata": {},
     "output_type": "execute_result"
    }
   ],
   "source": [
    "my_dog.breed"
   ]
  },
  {
   "cell_type": "code",
   "execution_count": 40,
   "id": "0bd71ea2",
   "metadata": {},
   "outputs": [
    {
     "data": {
      "text/plain": [
       "False"
      ]
     },
     "execution_count": 40,
     "metadata": {},
     "output_type": "execute_result"
    }
   ],
   "source": [
    "my_dog.spot"
   ]
  },
  {
   "cell_type": "code",
   "execution_count": null,
   "id": "65e0ab5a",
   "metadata": {},
   "outputs": [],
   "source": []
  },
  {
   "cell_type": "markdown",
   "id": "763b1749",
   "metadata": {},
   "source": [
    "# OOP - Class Object Attributes and Methods"
   ]
  },
  {
   "cell_type": "code",
   "execution_count": 41,
   "id": "76abbda1",
   "metadata": {},
   "outputs": [],
   "source": [
    "class Dog():\n",
    "    \n",
    "    # CLass Object Atrribute\n",
    "    # Same for any instance of a class\n",
    "    species = \"Mammal\"\n",
    "    \n",
    "    def __init__(self,breed,name,spot):\n",
    "        \n",
    "        self.breed = breed\n",
    "        self.name = name\n",
    "        \n",
    "        # Expect Boolean\n",
    "        self.spot = spot"
   ]
  },
  {
   "cell_type": "code",
   "execution_count": 42,
   "id": "6f5382c1",
   "metadata": {},
   "outputs": [],
   "source": [
    "my_dog = Dog(breed=\"Lab\",name=\"Spera\",spot=False)"
   ]
  },
  {
   "cell_type": "code",
   "execution_count": 43,
   "id": "666b5bc8",
   "metadata": {},
   "outputs": [
    {
     "data": {
      "text/plain": [
       "'Spera'"
      ]
     },
     "execution_count": 43,
     "metadata": {},
     "output_type": "execute_result"
    }
   ],
   "source": [
    "my_dog.name"
   ]
  },
  {
   "cell_type": "code",
   "execution_count": 44,
   "id": "31247e93",
   "metadata": {},
   "outputs": [
    {
     "data": {
      "text/plain": [
       "'Mammal'"
      ]
     },
     "execution_count": 44,
     "metadata": {},
     "output_type": "execute_result"
    }
   ],
   "source": [
    "my_dog.species"
   ]
  },
  {
   "cell_type": "code",
   "execution_count": 45,
   "id": "e3368124",
   "metadata": {},
   "outputs": [],
   "source": [
    "class Dog():\n",
    "    \n",
    "    # CLass Object Atrribute\n",
    "    # Same for any instance of a class\n",
    "    species = \"Mammal\"\n",
    "    \n",
    "    def __init__(self,breed,name):\n",
    "        \n",
    "        self.breed = breed\n",
    "        self.name = name\n",
    "    \n",
    "    # OPERATIONS/ACTIONS ---> METHODS\n",
    "    def bark(self):\n",
    "        print(f\"WOOF! My Name is {self.name}\")"
   ]
  },
  {
   "cell_type": "code",
   "execution_count": 46,
   "id": "b1c9e863",
   "metadata": {},
   "outputs": [],
   "source": [
    "my_dog = Dog(breed=\"Lab\",name=\"Sam\")"
   ]
  },
  {
   "cell_type": "code",
   "execution_count": 47,
   "id": "1f5a50b7",
   "metadata": {},
   "outputs": [
    {
     "data": {
      "text/plain": [
       "'Sam'"
      ]
     },
     "execution_count": 47,
     "metadata": {},
     "output_type": "execute_result"
    }
   ],
   "source": [
    "my_dog.name"
   ]
  },
  {
   "cell_type": "code",
   "execution_count": 48,
   "id": "cfe35008",
   "metadata": {},
   "outputs": [
    {
     "data": {
      "text/plain": [
       "<bound method Dog.bark of <__main__.Dog object at 0x000001BA7D352C20>>"
      ]
     },
     "execution_count": 48,
     "metadata": {},
     "output_type": "execute_result"
    }
   ],
   "source": [
    "my_dog.bark"
   ]
  },
  {
   "cell_type": "code",
   "execution_count": 49,
   "id": "f568fe33",
   "metadata": {},
   "outputs": [
    {
     "name": "stdout",
     "output_type": "stream",
     "text": [
      "WOOF! My Name is Sam\n"
     ]
    }
   ],
   "source": [
    "my_dog.bark() #METHOD NEEDS () to execute "
   ]
  },
  {
   "cell_type": "code",
   "execution_count": 50,
   "id": "df59dc4a",
   "metadata": {},
   "outputs": [
    {
     "data": {
      "text/plain": [
       "'Mammal'"
      ]
     },
     "execution_count": 50,
     "metadata": {},
     "output_type": "execute_result"
    }
   ],
   "source": [
    "my_dog.species"
   ]
  },
  {
   "cell_type": "code",
   "execution_count": null,
   "id": "7f46e3a1",
   "metadata": {},
   "outputs": [],
   "source": []
  },
  {
   "cell_type": "code",
   "execution_count": 51,
   "id": "b5d2384e",
   "metadata": {},
   "outputs": [],
   "source": [
    "class Dog():\n",
    "    \n",
    "    # CLass Object Atrribute\n",
    "    # Same for any instance of a class\n",
    "    species = \"Mammal\"\n",
    "    \n",
    "    def __init__(self,breed,name):\n",
    "        \n",
    "        self.breed = breed\n",
    "        self.name = name\n",
    "    \n",
    "    # OPERATIONS/ACTIONS ---> METHODS\n",
    "    def bark(self):\n",
    "        print(f\"WOOF! My Name is {self.name}\")"
   ]
  },
  {
   "cell_type": "code",
   "execution_count": 52,
   "id": "f61c003a",
   "metadata": {},
   "outputs": [],
   "source": [
    "my_dog = Dog(breed=\"Lab\",name=\"Sopwe\")"
   ]
  },
  {
   "cell_type": "code",
   "execution_count": 53,
   "id": "240022db",
   "metadata": {},
   "outputs": [
    {
     "name": "stdout",
     "output_type": "stream",
     "text": [
      "WOOF! My Name is Sopwe\n"
     ]
    }
   ],
   "source": [
    "my_dog.bark()"
   ]
  },
  {
   "cell_type": "code",
   "execution_count": 54,
   "id": "1d3122da",
   "metadata": {},
   "outputs": [
    {
     "name": "stdout",
     "output_type": "stream",
     "text": [
      "WOOF! My Name is Sopwe\n"
     ]
    }
   ],
   "source": [
    "Dog(breed=\"Lab\",name=\"Sopwe\").bark()"
   ]
  },
  {
   "cell_type": "code",
   "execution_count": 55,
   "id": "18189542",
   "metadata": {},
   "outputs": [
    {
     "data": {
      "text/plain": [
       "'Mammal'"
      ]
     },
     "execution_count": 55,
     "metadata": {},
     "output_type": "execute_result"
    }
   ],
   "source": [
    "Dog(breed=\"Lab\",name=\"Sopwe\").species"
   ]
  },
  {
   "cell_type": "code",
   "execution_count": null,
   "id": "55b35b3a",
   "metadata": {},
   "outputs": [],
   "source": []
  },
  {
   "cell_type": "code",
   "execution_count": 56,
   "id": "e8841a7d",
   "metadata": {},
   "outputs": [],
   "source": [
    "class Dog():\n",
    "    \n",
    "    # CLass Object Atrribute\n",
    "    # Same for any instance of a class\n",
    "    species = \"Mammal\"\n",
    "    \n",
    "    def __init__(self,breed,name):\n",
    "        \n",
    "        self.breed = breed\n",
    "        self.name = name\n",
    "    \n",
    "    # OPERATIONS/ACTIONS ---> METHODS\n",
    "    def bark(self,number):\n",
    "        print(f\"WOOF! My Name is {self.name} and the no. is {number}\")"
   ]
  },
  {
   "cell_type": "code",
   "execution_count": 57,
   "id": "d5e17d68",
   "metadata": {},
   "outputs": [],
   "source": [
    "my_dog = Dog(breed=\"Lab\",name=\"Sopwe\")"
   ]
  },
  {
   "cell_type": "code",
   "execution_count": 58,
   "id": "ade218af",
   "metadata": {},
   "outputs": [
    {
     "name": "stdout",
     "output_type": "stream",
     "text": [
      "WOOF! My Name is Sopwe and the no. is 101\n"
     ]
    }
   ],
   "source": [
    "my_dog.bark(number=101)"
   ]
  },
  {
   "cell_type": "code",
   "execution_count": 59,
   "id": "ebc83c5f",
   "metadata": {},
   "outputs": [
    {
     "name": "stdout",
     "output_type": "stream",
     "text": [
      "WOOF! My Name is Sopwe and the no. is 101\n"
     ]
    }
   ],
   "source": [
    "my_dog.bark(101)"
   ]
  },
  {
   "cell_type": "code",
   "execution_count": null,
   "id": "52a81b84",
   "metadata": {},
   "outputs": [],
   "source": []
  },
  {
   "cell_type": "code",
   "execution_count": 60,
   "id": "d94bf804",
   "metadata": {},
   "outputs": [],
   "source": [
    "class Circle():\n",
    "    \n",
    "    pi = 3.14\n",
    "    \n",
    "    def __init__(self,radius=1):\n",
    "        self.radius = radius\n",
    "        self.area = radius * radius * Circle.pi # here we can use 'self.pi' as well. But not just 'pi'\n",
    "        \n",
    "    def get_cirumference(self):\n",
    "        return self.radius * self.pi * 2"
   ]
  },
  {
   "cell_type": "code",
   "execution_count": 61,
   "id": "8427438a",
   "metadata": {},
   "outputs": [],
   "source": [
    "my_circle = Circle(5)"
   ]
  },
  {
   "cell_type": "code",
   "execution_count": 62,
   "id": "64d02967",
   "metadata": {},
   "outputs": [
    {
     "data": {
      "text/plain": [
       "3.14"
      ]
     },
     "execution_count": 62,
     "metadata": {},
     "output_type": "execute_result"
    }
   ],
   "source": [
    "my_circle.pi"
   ]
  },
  {
   "cell_type": "code",
   "execution_count": 63,
   "id": "893265ba",
   "metadata": {},
   "outputs": [
    {
     "data": {
      "text/plain": [
       "5"
      ]
     },
     "execution_count": 63,
     "metadata": {},
     "output_type": "execute_result"
    }
   ],
   "source": [
    "my_circle.radius"
   ]
  },
  {
   "cell_type": "code",
   "execution_count": 64,
   "id": "584db505",
   "metadata": {},
   "outputs": [
    {
     "data": {
      "text/plain": [
       "31.400000000000002"
      ]
     },
     "execution_count": 64,
     "metadata": {},
     "output_type": "execute_result"
    }
   ],
   "source": [
    "my_circle.get_cirumference()"
   ]
  },
  {
   "cell_type": "code",
   "execution_count": 65,
   "id": "f43bac60",
   "metadata": {},
   "outputs": [
    {
     "data": {
      "text/plain": [
       "78.5"
      ]
     },
     "execution_count": 65,
     "metadata": {},
     "output_type": "execute_result"
    }
   ],
   "source": [
    "my_circle.area"
   ]
  },
  {
   "cell_type": "markdown",
   "id": "a0f8e322",
   "metadata": {},
   "source": [
    "# Thank You"
   ]
  }
 ],
 "metadata": {
  "kernelspec": {
   "display_name": "Python 3 (ipykernel)",
   "language": "python",
   "name": "python3"
  },
  "language_info": {
   "codemirror_mode": {
    "name": "ipython",
    "version": 3
   },
   "file_extension": ".py",
   "mimetype": "text/x-python",
   "name": "python",
   "nbconvert_exporter": "python",
   "pygments_lexer": "ipython3",
   "version": "3.10.9"
  }
 },
 "nbformat": 4,
 "nbformat_minor": 5
}
