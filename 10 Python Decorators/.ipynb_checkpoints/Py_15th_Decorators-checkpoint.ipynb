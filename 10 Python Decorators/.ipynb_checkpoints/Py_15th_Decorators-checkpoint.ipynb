{
 "cells": [
  {
   "cell_type": "code",
   "execution_count": 1,
   "id": "646a05aa",
   "metadata": {},
   "outputs": [],
   "source": [
    "# Om Namah Shivay"
   ]
  },
  {
   "cell_type": "markdown",
   "id": "46c6e1a8",
   "metadata": {},
   "source": [
    "# 02/08/2022\n",
    "# SHRAWAN 2022\n",
    "# 12 Python Decorators Folder\n",
    "# 082 - 083 Decorators with Python"
   ]
  },
  {
   "cell_type": "code",
   "execution_count": null,
   "id": "9da3cd61",
   "metadata": {},
   "outputs": [],
   "source": []
  },
  {
   "cell_type": "code",
   "execution_count": 6,
   "id": "50a59879",
   "metadata": {},
   "outputs": [],
   "source": [
    "def func():\n",
    "    return 1"
   ]
  },
  {
   "cell_type": "code",
   "execution_count": 7,
   "id": "6cdda020",
   "metadata": {},
   "outputs": [
    {
     "data": {
      "text/plain": [
       "1"
      ]
     },
     "execution_count": 7,
     "metadata": {},
     "output_type": "execute_result"
    }
   ],
   "source": [
    "func()"
   ]
  },
  {
   "cell_type": "code",
   "execution_count": 8,
   "id": "dffc2b50",
   "metadata": {},
   "outputs": [
    {
     "data": {
      "text/plain": [
       "<function __main__.func()>"
      ]
     },
     "execution_count": 8,
     "metadata": {},
     "output_type": "execute_result"
    }
   ],
   "source": [
    "func"
   ]
  },
  {
   "cell_type": "code",
   "execution_count": 9,
   "id": "5a9ea159",
   "metadata": {},
   "outputs": [],
   "source": [
    "def hello():\n",
    "    return 'Hello!'"
   ]
  },
  {
   "cell_type": "code",
   "execution_count": 10,
   "id": "b68772ab",
   "metadata": {},
   "outputs": [
    {
     "data": {
      "text/plain": [
       "'Hello!'"
      ]
     },
     "execution_count": 10,
     "metadata": {},
     "output_type": "execute_result"
    }
   ],
   "source": [
    "hello()"
   ]
  },
  {
   "cell_type": "code",
   "execution_count": 11,
   "id": "8ce43ea9",
   "metadata": {},
   "outputs": [
    {
     "data": {
      "text/plain": [
       "<function __main__.hello()>"
      ]
     },
     "execution_count": 11,
     "metadata": {},
     "output_type": "execute_result"
    }
   ],
   "source": [
    "hello"
   ]
  },
  {
   "cell_type": "code",
   "execution_count": 12,
   "id": "01766479",
   "metadata": {},
   "outputs": [],
   "source": [
    "greet = hello"
   ]
  },
  {
   "cell_type": "code",
   "execution_count": 13,
   "id": "662d369a",
   "metadata": {},
   "outputs": [
    {
     "data": {
      "text/plain": [
       "'Hello!'"
      ]
     },
     "execution_count": 13,
     "metadata": {},
     "output_type": "execute_result"
    }
   ],
   "source": [
    "greet()"
   ]
  },
  {
   "cell_type": "code",
   "execution_count": 14,
   "id": "a01d8da4",
   "metadata": {},
   "outputs": [
    {
     "data": {
      "text/plain": [
       "<function __main__.hello()>"
      ]
     },
     "execution_count": 14,
     "metadata": {},
     "output_type": "execute_result"
    }
   ],
   "source": [
    "greet"
   ]
  },
  {
   "cell_type": "code",
   "execution_count": 15,
   "id": "689767bc",
   "metadata": {},
   "outputs": [
    {
     "data": {
      "text/plain": [
       "'Hello!'"
      ]
     },
     "execution_count": 15,
     "metadata": {},
     "output_type": "execute_result"
    }
   ],
   "source": [
    "hello()"
   ]
  },
  {
   "cell_type": "code",
   "execution_count": 16,
   "id": "d8c06316",
   "metadata": {},
   "outputs": [],
   "source": [
    "del hello"
   ]
  },
  {
   "cell_type": "code",
   "execution_count": 18,
   "id": "51957a7a",
   "metadata": {},
   "outputs": [],
   "source": [
    "# hello()\n",
    "# ---------------------------------------------------------------------------\n",
    "# NameError                                 Traceback (most recent call last)\n",
    "# Input In [17], in <module>\n",
    "# ----> 1 hello()\n",
    "\n",
    "# NameError: name 'hello' is not defined\n"
   ]
  },
  {
   "cell_type": "code",
   "execution_count": 19,
   "id": "1b6b1228",
   "metadata": {},
   "outputs": [
    {
     "data": {
      "text/plain": [
       "<function __main__.hello()>"
      ]
     },
     "execution_count": 19,
     "metadata": {},
     "output_type": "execute_result"
    }
   ],
   "source": [
    "greet"
   ]
  },
  {
   "cell_type": "code",
   "execution_count": 21,
   "id": "0c53d626",
   "metadata": {},
   "outputs": [
    {
     "data": {
      "text/plain": [
       "'Hello!'"
      ]
     },
     "execution_count": 21,
     "metadata": {},
     "output_type": "execute_result"
    }
   ],
   "source": [
    "greet() # functions are objects that CAN be passed into other Object"
   ]
  },
  {
   "cell_type": "code",
   "execution_count": 22,
   "id": "5e142acd",
   "metadata": {},
   "outputs": [],
   "source": [
    "## lets passed func within another func\n",
    "## OR calling func within another func"
   ]
  },
  {
   "cell_type": "code",
   "execution_count": null,
   "id": "01f1cbe4",
   "metadata": {},
   "outputs": [],
   "source": []
  },
  {
   "cell_type": "code",
   "execution_count": null,
   "id": "e556093d",
   "metadata": {},
   "outputs": [],
   "source": []
  },
  {
   "cell_type": "code",
   "execution_count": null,
   "id": "0dd60143",
   "metadata": {},
   "outputs": [],
   "source": []
  },
  {
   "cell_type": "code",
   "execution_count": null,
   "id": "3b126043",
   "metadata": {},
   "outputs": [],
   "source": []
  },
  {
   "cell_type": "code",
   "execution_count": 25,
   "id": "bf8983c6",
   "metadata": {},
   "outputs": [],
   "source": [
    "def hello(name=\"Sherlock\"):\n",
    "    print(\"The Hello() func has been executed! \")\n",
    "    \n",
    "    def greet():\n",
    "        return '\\t This is greet() func inside hello()'"
   ]
  },
  {
   "cell_type": "code",
   "execution_count": 26,
   "id": "209adf68",
   "metadata": {},
   "outputs": [
    {
     "name": "stdout",
     "output_type": "stream",
     "text": [
      "The Hello() func has been executed! \n"
     ]
    }
   ],
   "source": [
    "hello()"
   ]
  },
  {
   "cell_type": "code",
   "execution_count": null,
   "id": "6d8a8669",
   "metadata": {},
   "outputs": [],
   "source": []
  },
  {
   "cell_type": "code",
   "execution_count": 27,
   "id": "b047f52c",
   "metadata": {},
   "outputs": [],
   "source": [
    "def hello(name=\"Sherlock\"):\n",
    "    print(\"The Hello() func has been executed! \")\n",
    "    \n",
    "    def greet():\n",
    "        return '\\t This is greet() func inside hello()'\n",
    "    \n",
    "    print(greet())"
   ]
  },
  {
   "cell_type": "code",
   "execution_count": 28,
   "id": "f1a36846",
   "metadata": {},
   "outputs": [
    {
     "name": "stdout",
     "output_type": "stream",
     "text": [
      "The Hello() func has been executed! \n",
      "\t This is greet() func inside hello()\n"
     ]
    }
   ],
   "source": [
    "hello()"
   ]
  },
  {
   "cell_type": "code",
   "execution_count": null,
   "id": "ade07763",
   "metadata": {},
   "outputs": [],
   "source": []
  },
  {
   "cell_type": "code",
   "execution_count": 29,
   "id": "ccc2a952",
   "metadata": {},
   "outputs": [],
   "source": [
    "def hello(name=\"Sherlock\"):\n",
    "    print(\"The Hello() func has been executed! \")\n",
    "    \n",
    "    def greet():\n",
    "        return '\\t This is greet() func inside hello()'\n",
    "    \n",
    "    greet()"
   ]
  },
  {
   "cell_type": "code",
   "execution_count": 30,
   "id": "d85a9785",
   "metadata": {},
   "outputs": [
    {
     "name": "stdout",
     "output_type": "stream",
     "text": [
      "The Hello() func has been executed! \n"
     ]
    }
   ],
   "source": [
    "hello()"
   ]
  },
  {
   "cell_type": "code",
   "execution_count": null,
   "id": "e0803a8d",
   "metadata": {},
   "outputs": [],
   "source": []
  },
  {
   "cell_type": "code",
   "execution_count": 41,
   "id": "812a8935",
   "metadata": {},
   "outputs": [],
   "source": [
    "def hello(name=\"Sherlock\"):\n",
    "    print(\"The Hello() func has been executed! \")\n",
    "    \n",
    "    def greet():\n",
    "        return '\\t This is greet() func inside hello()'\n",
    "    \n",
    "    def welcome():\n",
    "        return '\\t This is welcome() func inside hello()'\n",
    "    \n",
    "    print(greet())\n",
    "    print(welcome())   "
   ]
  },
  {
   "cell_type": "code",
   "execution_count": 42,
   "id": "9ef23b28",
   "metadata": {},
   "outputs": [
    {
     "name": "stdout",
     "output_type": "stream",
     "text": [
      "The Hello() func has been executed! \n",
      "\t This is greet() func inside hello()\n",
      "\t This is welcome() func inside hello()\n"
     ]
    }
   ],
   "source": [
    "hello()"
   ]
  },
  {
   "cell_type": "code",
   "execution_count": null,
   "id": "9f683272",
   "metadata": {},
   "outputs": [],
   "source": []
  },
  {
   "cell_type": "code",
   "execution_count": null,
   "id": "67f6f7a5",
   "metadata": {},
   "outputs": [],
   "source": []
  },
  {
   "cell_type": "code",
   "execution_count": null,
   "id": "ae6dc82f",
   "metadata": {},
   "outputs": [],
   "source": []
  },
  {
   "cell_type": "code",
   "execution_count": null,
   "id": "5b0a725b",
   "metadata": {},
   "outputs": [],
   "source": []
  },
  {
   "cell_type": "code",
   "execution_count": null,
   "id": "f2f004d4",
   "metadata": {},
   "outputs": [],
   "source": []
  },
  {
   "cell_type": "code",
   "execution_count": 45,
   "id": "d13459d3",
   "metadata": {},
   "outputs": [],
   "source": [
    "def hello(name=\"Sherlock\"):\n",
    "    print(\"The Hello() func has been executed! \")\n",
    "    \n",
    "    def greet():\n",
    "        return '\\t This is greet() func inside hello()'\n",
    "    \n",
    "    def welcome():\n",
    "        return '\\t This is welcome() func inside hello()'\n",
    "    \n",
    "    print(greet())\n",
    "    print(welcome())   \n",
    "    print(\"This is the end of the hello() function\")"
   ]
  },
  {
   "cell_type": "code",
   "execution_count": 46,
   "id": "4b73f0ce",
   "metadata": {},
   "outputs": [
    {
     "name": "stdout",
     "output_type": "stream",
     "text": [
      "The Hello() func has been executed! \n",
      "\t This is greet() func inside hello()\n",
      "\t This is welcome() func inside hello()\n",
      "This is the end of the hello() function\n"
     ]
    }
   ],
   "source": [
    "hello()"
   ]
  },
  {
   "cell_type": "code",
   "execution_count": 49,
   "id": "37603e80",
   "metadata": {},
   "outputs": [],
   "source": [
    "# ### CANT EXECUTE OUTSIDE hello() FUNC\n",
    "\n",
    "# welcome()\n",
    "# ---------------------------------------------------------------------------\n",
    "# NameError                                 Traceback (most recent call last)\n",
    "# Input In [47], in <module>\n",
    "# ----> 1 welcome()\n",
    "\n",
    "# NameError: name 'welcome' is not defined"
   ]
  },
  {
   "cell_type": "code",
   "execution_count": null,
   "id": "c4b48584",
   "metadata": {},
   "outputs": [],
   "source": []
  },
  {
   "cell_type": "code",
   "execution_count": null,
   "id": "a5422779",
   "metadata": {},
   "outputs": [],
   "source": []
  },
  {
   "cell_type": "code",
   "execution_count": null,
   "id": "d9bf06cf",
   "metadata": {},
   "outputs": [],
   "source": []
  },
  {
   "cell_type": "code",
   "execution_count": 50,
   "id": "68de9aec",
   "metadata": {},
   "outputs": [],
   "source": [
    "# lets access these func outside hello() FUNC"
   ]
  },
  {
   "cell_type": "code",
   "execution_count": 51,
   "id": "2fd44c31",
   "metadata": {},
   "outputs": [],
   "source": [
    "def hello(name=\"Sherlock\"):\n",
    "    print(\"The Hello() func has been executed! \")\n",
    "    \n",
    "    def greet():\n",
    "        return '\\t This is greet() func inside hello()'\n",
    "    \n",
    "    def welcome():\n",
    "        return '\\t This is welcome() func inside hello()'\n",
    "    \n",
    "    print(\"I am goint to return the func!!\")\n",
    "    \n",
    "    if name == 'Sherlock':\n",
    "        return greet\n",
    "    else:\n",
    "        return welcome"
   ]
  },
  {
   "cell_type": "code",
   "execution_count": 52,
   "id": "013bdd79",
   "metadata": {},
   "outputs": [
    {
     "name": "stdout",
     "output_type": "stream",
     "text": [
      "The Hello() func has been executed! \n",
      "I am goint to return the func!!\n"
     ]
    }
   ],
   "source": [
    "my_new_func = hello()"
   ]
  },
  {
   "cell_type": "code",
   "execution_count": 53,
   "id": "431b4c0d",
   "metadata": {},
   "outputs": [
    {
     "data": {
      "text/plain": [
       "<function __main__.hello.<locals>.greet()>"
      ]
     },
     "execution_count": 53,
     "metadata": {},
     "output_type": "execute_result"
    }
   ],
   "source": [
    "my_new_func"
   ]
  },
  {
   "cell_type": "code",
   "execution_count": 56,
   "id": "96ac6f87",
   "metadata": {},
   "outputs": [
    {
     "data": {
      "text/plain": [
       "'\\t This is greet() func inside hello()'"
      ]
     },
     "execution_count": 56,
     "metadata": {},
     "output_type": "execute_result"
    }
   ],
   "source": [
    "my_new_func()"
   ]
  },
  {
   "cell_type": "code",
   "execution_count": null,
   "id": "be21f23c",
   "metadata": {},
   "outputs": [],
   "source": []
  },
  {
   "cell_type": "code",
   "execution_count": 57,
   "id": "b1d9193a",
   "metadata": {},
   "outputs": [
    {
     "name": "stdout",
     "output_type": "stream",
     "text": [
      "The Hello() func has been executed! \n",
      "I am goint to return the func!!\n"
     ]
    }
   ],
   "source": [
    "my_new_func = hello(\"Iron Man\")"
   ]
  },
  {
   "cell_type": "code",
   "execution_count": 58,
   "id": "61c8a21c",
   "metadata": {},
   "outputs": [
    {
     "data": {
      "text/plain": [
       "<function __main__.hello.<locals>.welcome()>"
      ]
     },
     "execution_count": 58,
     "metadata": {},
     "output_type": "execute_result"
    }
   ],
   "source": [
    "my_new_func"
   ]
  },
  {
   "cell_type": "code",
   "execution_count": 59,
   "id": "14de2238",
   "metadata": {},
   "outputs": [
    {
     "data": {
      "text/plain": [
       "'\\t This is welcome() func inside hello()'"
      ]
     },
     "execution_count": 59,
     "metadata": {},
     "output_type": "execute_result"
    }
   ],
   "source": [
    "my_new_func()"
   ]
  },
  {
   "cell_type": "code",
   "execution_count": 62,
   "id": "1edff825",
   "metadata": {},
   "outputs": [
    {
     "name": "stdout",
     "output_type": "stream",
     "text": [
      "\t This is welcome() func inside hello()\n"
     ]
    }
   ],
   "source": [
    "print(my_new_func()) ## print for tab ##"
   ]
  },
  {
   "cell_type": "code",
   "execution_count": null,
   "id": "e5f2595f",
   "metadata": {},
   "outputs": [],
   "source": []
  },
  {
   "cell_type": "code",
   "execution_count": null,
   "id": "da19c8d5",
   "metadata": {},
   "outputs": [],
   "source": []
  },
  {
   "cell_type": "code",
   "execution_count": null,
   "id": "46a3ef5a",
   "metadata": {},
   "outputs": [],
   "source": []
  },
  {
   "cell_type": "code",
   "execution_count": null,
   "id": "7f20d701",
   "metadata": {},
   "outputs": [],
   "source": []
  },
  {
   "cell_type": "code",
   "execution_count": null,
   "id": "618b9148",
   "metadata": {},
   "outputs": [],
   "source": []
  },
  {
   "cell_type": "code",
   "execution_count": null,
   "id": "5bc83820",
   "metadata": {},
   "outputs": [],
   "source": []
  },
  {
   "cell_type": "code",
   "execution_count": null,
   "id": "d0a3b654",
   "metadata": {},
   "outputs": [],
   "source": []
  },
  {
   "cell_type": "code",
   "execution_count": null,
   "id": "d923b16c",
   "metadata": {},
   "outputs": [],
   "source": []
  },
  {
   "cell_type": "code",
   "execution_count": 63,
   "id": "3f015593",
   "metadata": {},
   "outputs": [],
   "source": [
    "def cool():\n",
    "    \n",
    "    def super_cool():\n",
    "        return \"I am very cool\"\n",
    "    \n",
    "    return super_cool"
   ]
  },
  {
   "cell_type": "code",
   "execution_count": 64,
   "id": "d82e9caf",
   "metadata": {},
   "outputs": [],
   "source": [
    "some_func = cool()"
   ]
  },
  {
   "cell_type": "code",
   "execution_count": 65,
   "id": "a7a33009",
   "metadata": {},
   "outputs": [
    {
     "data": {
      "text/plain": [
       "<function __main__.cool.<locals>.super_cool()>"
      ]
     },
     "execution_count": 65,
     "metadata": {},
     "output_type": "execute_result"
    }
   ],
   "source": [
    "some_func"
   ]
  },
  {
   "cell_type": "code",
   "execution_count": 66,
   "id": "3e826a85",
   "metadata": {},
   "outputs": [
    {
     "data": {
      "text/plain": [
       "'I am very cool'"
      ]
     },
     "execution_count": 66,
     "metadata": {},
     "output_type": "execute_result"
    }
   ],
   "source": [
    "some_func()"
   ]
  },
  {
   "cell_type": "code",
   "execution_count": 68,
   "id": "1da58ca2",
   "metadata": {},
   "outputs": [
    {
     "name": "stdout",
     "output_type": "stream",
     "text": [
      "<function cool.<locals>.super_cool at 0x03A12850>\n"
     ]
    }
   ],
   "source": [
    "print(some_func)"
   ]
  },
  {
   "cell_type": "code",
   "execution_count": 69,
   "id": "27d994e2",
   "metadata": {},
   "outputs": [
    {
     "name": "stdout",
     "output_type": "stream",
     "text": [
      "I am very cool\n"
     ]
    }
   ],
   "source": [
    "print(some_func())"
   ]
  },
  {
   "cell_type": "code",
   "execution_count": null,
   "id": "6a2cda9c",
   "metadata": {},
   "outputs": [],
   "source": []
  },
  {
   "cell_type": "code",
   "execution_count": null,
   "id": "ff1d3841",
   "metadata": {},
   "outputs": [],
   "source": []
  },
  {
   "cell_type": "code",
   "execution_count": null,
   "id": "90ebbc3f",
   "metadata": {},
   "outputs": [],
   "source": []
  },
  {
   "cell_type": "code",
   "execution_count": null,
   "id": "51ca46f0",
   "metadata": {},
   "outputs": [],
   "source": []
  },
  {
   "cell_type": "code",
   "execution_count": null,
   "id": "535d708b",
   "metadata": {},
   "outputs": [],
   "source": []
  },
  {
   "cell_type": "code",
   "execution_count": null,
   "id": "85d2449f",
   "metadata": {},
   "outputs": [],
   "source": []
  },
  {
   "cell_type": "code",
   "execution_count": null,
   "id": "9b218946",
   "metadata": {},
   "outputs": [],
   "source": []
  },
  {
   "cell_type": "code",
   "execution_count": null,
   "id": "8a6c5a00",
   "metadata": {},
   "outputs": [],
   "source": []
  },
  {
   "cell_type": "code",
   "execution_count": null,
   "id": "9d59f794",
   "metadata": {},
   "outputs": [],
   "source": []
  },
  {
   "cell_type": "code",
   "execution_count": 91,
   "id": "17880901",
   "metadata": {},
   "outputs": [],
   "source": [
    "## func arguments"
   ]
  },
  {
   "cell_type": "code",
   "execution_count": 92,
   "id": "52bffc0c",
   "metadata": {},
   "outputs": [],
   "source": [
    "def hello():\n",
    "    return 'Hi Sherlock'"
   ]
  },
  {
   "cell_type": "code",
   "execution_count": 93,
   "id": "cb741dc2",
   "metadata": {},
   "outputs": [],
   "source": [
    "def other(some_def_func):\n",
    "    print('Other func runs here!')\n",
    "    print(some_def_func())"
   ]
  },
  {
   "cell_type": "code",
   "execution_count": 94,
   "id": "9d8f8096",
   "metadata": {},
   "outputs": [
    {
     "data": {
      "text/plain": [
       "<function __main__.hello()>"
      ]
     },
     "execution_count": 94,
     "metadata": {},
     "output_type": "execute_result"
    }
   ],
   "source": [
    "hello"
   ]
  },
  {
   "cell_type": "code",
   "execution_count": 95,
   "id": "a707da97",
   "metadata": {},
   "outputs": [
    {
     "data": {
      "text/plain": [
       "'Hi Sherlock'"
      ]
     },
     "execution_count": 95,
     "metadata": {},
     "output_type": "execute_result"
    }
   ],
   "source": [
    "hello()"
   ]
  },
  {
   "cell_type": "code",
   "execution_count": 96,
   "id": "2ee8072b",
   "metadata": {},
   "outputs": [
    {
     "name": "stdout",
     "output_type": "stream",
     "text": [
      "Other func runs here!\n",
      "Hi Sherlock\n"
     ]
    }
   ],
   "source": [
    "## here we are providing RAW FUNCTION (HELLO FUNC IS GOING TO EXECUTE IN OTHER FUNC)\n",
    "other(hello) ## its not other(hello()) "
   ]
  },
  {
   "cell_type": "code",
   "execution_count": null,
   "id": "20b35129",
   "metadata": {},
   "outputs": [],
   "source": []
  },
  {
   "cell_type": "code",
   "execution_count": null,
   "id": "7d79d047",
   "metadata": {},
   "outputs": [],
   "source": []
  },
  {
   "cell_type": "code",
   "execution_count": null,
   "id": "74ab4399",
   "metadata": {},
   "outputs": [],
   "source": []
  },
  {
   "cell_type": "code",
   "execution_count": null,
   "id": "f6a609d4",
   "metadata": {},
   "outputs": [],
   "source": []
  },
  {
   "cell_type": "code",
   "execution_count": null,
   "id": "19bcf4c4",
   "metadata": {},
   "outputs": [],
   "source": []
  },
  {
   "cell_type": "code",
   "execution_count": null,
   "id": "6bc43523",
   "metadata": {},
   "outputs": [],
   "source": []
  },
  {
   "cell_type": "code",
   "execution_count": null,
   "id": "e89f5415",
   "metadata": {},
   "outputs": [],
   "source": []
  },
  {
   "cell_type": "code",
   "execution_count": null,
   "id": "7c01c038",
   "metadata": {},
   "outputs": [],
   "source": []
  },
  {
   "cell_type": "code",
   "execution_count": 97,
   "id": "7b594d48",
   "metadata": {},
   "outputs": [],
   "source": [
    "# lETS LEARN ABOUT DECORATORS"
   ]
  },
  {
   "cell_type": "code",
   "execution_count": 99,
   "id": "ad07393b",
   "metadata": {},
   "outputs": [],
   "source": [
    "def new_decorator(original_func):\n",
    "    \n",
    "    def wrap_func():\n",
    "        \n",
    "        print(\"Some extra code,before the original function!\")\n",
    "        \n",
    "        original_func()\n",
    "        \n",
    "        print(\"Some extra code,after the original function!\")\n",
    "        \n",
    "    return wrap_func # not wrap_func()"
   ]
  },
  {
   "cell_type": "code",
   "execution_count": 100,
   "id": "982ca86c",
   "metadata": {},
   "outputs": [],
   "source": [
    "def func_needs_decorator():\n",
    "    print('I want to be decorated!!!')"
   ]
  },
  {
   "cell_type": "code",
   "execution_count": 101,
   "id": "7c16ac93",
   "metadata": {},
   "outputs": [
    {
     "name": "stdout",
     "output_type": "stream",
     "text": [
      "I want to be decorated!!!\n"
     ]
    }
   ],
   "source": [
    "func_needs_decorator()"
   ]
  },
  {
   "cell_type": "code",
   "execution_count": 102,
   "id": "b666534b",
   "metadata": {},
   "outputs": [],
   "source": [
    "decorated_func = new_decorator(func_needs_decorator) # passing raw function"
   ]
  },
  {
   "cell_type": "code",
   "execution_count": 103,
   "id": "1e5caae7",
   "metadata": {},
   "outputs": [
    {
     "data": {
      "text/plain": [
       "<function __main__.new_decorator.<locals>.wrap_func()>"
      ]
     },
     "execution_count": 103,
     "metadata": {},
     "output_type": "execute_result"
    }
   ],
   "source": [
    "decorated_func"
   ]
  },
  {
   "cell_type": "code",
   "execution_count": 104,
   "id": "19512d4b",
   "metadata": {},
   "outputs": [
    {
     "name": "stdout",
     "output_type": "stream",
     "text": [
      "Some extra code,before the original function!\n",
      "I want to be decorated!!!\n",
      "Some extra code,after the original function!\n"
     ]
    }
   ],
   "source": [
    "decorated_func()"
   ]
  },
  {
   "cell_type": "code",
   "execution_count": null,
   "id": "1488ac7d",
   "metadata": {},
   "outputs": [],
   "source": []
  },
  {
   "cell_type": "code",
   "execution_count": 105,
   "id": "7cf3db84",
   "metadata": {},
   "outputs": [],
   "source": [
    "# Special Syntax"
   ]
  },
  {
   "cell_type": "code",
   "execution_count": 106,
   "id": "bfcc12ad",
   "metadata": {},
   "outputs": [],
   "source": [
    "@new_decorator\n",
    "def func_needs_decorator():\n",
    "    print('I want to be decorated!!!')"
   ]
  },
  {
   "cell_type": "code",
   "execution_count": 107,
   "id": "a5b71bfd",
   "metadata": {},
   "outputs": [
    {
     "data": {
      "text/plain": [
       "<function __main__.new_decorator.<locals>.wrap_func()>"
      ]
     },
     "execution_count": 107,
     "metadata": {},
     "output_type": "execute_result"
    }
   ],
   "source": [
    "func_needs_decorator"
   ]
  },
  {
   "cell_type": "code",
   "execution_count": 108,
   "id": "d8d303bf",
   "metadata": {},
   "outputs": [
    {
     "name": "stdout",
     "output_type": "stream",
     "text": [
      "Some extra code,before the original function!\n",
      "I want to be decorated!!!\n",
      "Some extra code,after the original function!\n"
     ]
    }
   ],
   "source": [
    "func_needs_decorator()"
   ]
  },
  {
   "cell_type": "code",
   "execution_count": null,
   "id": "9f90c9d6",
   "metadata": {},
   "outputs": [],
   "source": []
  },
  {
   "cell_type": "code",
   "execution_count": null,
   "id": "e468c11d",
   "metadata": {},
   "outputs": [],
   "source": []
  },
  {
   "cell_type": "code",
   "execution_count": 111,
   "id": "20cf3b91",
   "metadata": {},
   "outputs": [
    {
     "name": "stdout",
     "output_type": "stream",
     "text": [
      "Some extra code,before the original function!\n",
      "I want to be decorated!!!\n",
      "Some extra code,after the original function!\n"
     ]
    }
   ],
   "source": [
    "@new_decorator # you can turn this off by just commenting this line\n",
    "def func_needs_decorator():\n",
    "    print('I want to be decorated!!!')\n",
    "func_needs_decorator()"
   ]
  },
  {
   "cell_type": "code",
   "execution_count": null,
   "id": "d097e870",
   "metadata": {},
   "outputs": [],
   "source": []
  },
  {
   "cell_type": "code",
   "execution_count": 112,
   "id": "863bd044",
   "metadata": {},
   "outputs": [
    {
     "name": "stdout",
     "output_type": "stream",
     "text": [
      "I want to be decorated!!!\n"
     ]
    }
   ],
   "source": [
    "# @new_decorator # you can turn this off by just commenting this line\n",
    "def func_needs_decorator():\n",
    "    print('I want to be decorated!!!')\n",
    "func_needs_decorator()"
   ]
  },
  {
   "cell_type": "code",
   "execution_count": 113,
   "id": "b3d8f4f6",
   "metadata": {},
   "outputs": [
    {
     "name": "stdout",
     "output_type": "stream",
     "text": [
      "Some extra code,before the original function!\n",
      "I want to be decorated!!!\n",
      "Some extra code,after the original function!\n"
     ]
    }
   ],
   "source": [
    "@new_decorator # you can turn this off by just commenting this line\n",
    "def func_needs_decorator():\n",
    "    print('I want to be decorated!!!')\n",
    "func_needs_decorator()"
   ]
  },
  {
   "cell_type": "code",
   "execution_count": 114,
   "id": "f41154ee",
   "metadata": {},
   "outputs": [
    {
     "name": "stdout",
     "output_type": "stream",
     "text": [
      "I want to be decorated!!!\n"
     ]
    }
   ],
   "source": [
    "# @new_decorator # you can turn this off by just commenting this line\n",
    "def func_needs_decorator():\n",
    "    print('I want to be decorated!!!')\n",
    "func_needs_decorator()"
   ]
  },
  {
   "cell_type": "code",
   "execution_count": 115,
   "id": "106d2ee5",
   "metadata": {},
   "outputs": [
    {
     "name": "stdout",
     "output_type": "stream",
     "text": [
      "Some extra code,before the original function!\n",
      "I want to be decorated!!!\n",
      "Some extra code,after the original function!\n"
     ]
    }
   ],
   "source": [
    "@new_decorator # you can turn this off by just commenting this line\n",
    "def func_needs_decorator():\n",
    "    print('I want to be decorated!!!')\n",
    "func_needs_decorator()"
   ]
  },
  {
   "cell_type": "code",
   "execution_count": null,
   "id": "750377a1",
   "metadata": {},
   "outputs": [],
   "source": []
  }
 ],
 "metadata": {
  "kernelspec": {
   "display_name": "Python 3 (ipykernel)",
   "language": "python",
   "name": "python3"
  },
  "language_info": {
   "codemirror_mode": {
    "name": "ipython",
    "version": 3
   },
   "file_extension": ".py",
   "mimetype": "text/x-python",
   "name": "python",
   "nbconvert_exporter": "python",
   "pygments_lexer": "ipython3",
   "version": "3.8.6"
  }
 },
 "nbformat": 4,
 "nbformat_minor": 5
}
