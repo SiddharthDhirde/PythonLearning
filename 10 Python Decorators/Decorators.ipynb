{
 "cells": [
  {
   "cell_type": "markdown",
   "id": "46c6e1a8",
   "metadata": {},
   "source": [
    "## Decorators\n",
    "\n",
    "### In Python, decorators are a powerful tool used to modify or extend the behavior of functions or methods. They allow you to wrap another function or method in order to extend or modify its behavior without directly modifying the code of the original function. Decorators are heavily used in frameworks like Flask and Django for various purposes such as authentication, logging, caching, etc.\n",
    "\n",
    "### Decorators are defined using the \"@\" symbol followed by the name of the decorator function. Decorator functions take another function as an argument, typically referred to as the \"wrapped\" function, and return a new function or modify the wrapped function in some way."
   ]
  },
  {
   "cell_type": "code",
   "execution_count": 1,
   "id": "9da3cd61",
   "metadata": {},
   "outputs": [
    {
     "name": "stdout",
     "output_type": "stream",
     "text": [
      "Something is happening before the function is called.\n",
      "Hello!\n",
      "Something is happening after the function is called.\n"
     ]
    }
   ],
   "source": [
    "# Eg\n",
    "\n",
    "def my_decorator(func):\n",
    "    def wrapper():\n",
    "        print(\"Something is happening before the function is called.\")\n",
    "        func()\n",
    "        print(\"Something is happening after the function is called.\")\n",
    "    return wrapper\n",
    "\n",
    "@my_decorator\n",
    "def say_hello():\n",
    "    print(\"Hello!\")\n",
    "\n",
    "say_hello()"
   ]
  },
  {
   "cell_type": "code",
   "execution_count": 2,
   "id": "66d559e2",
   "metadata": {},
   "outputs": [
    {
     "data": {
      "text/plain": [
       "<function __main__.my_decorator.<locals>.wrapper()>"
      ]
     },
     "execution_count": 2,
     "metadata": {},
     "output_type": "execute_result"
    }
   ],
   "source": [
    "my_decorator(say_hello)"
   ]
  },
  {
   "cell_type": "code",
   "execution_count": 3,
   "id": "28d2f437",
   "metadata": {},
   "outputs": [
    {
     "name": "stdout",
     "output_type": "stream",
     "text": [
      "Something is happening before the function is called.\n",
      "Hello!\n",
      "Something is happening after the function is called.\n"
     ]
    },
    {
     "data": {
      "text/plain": [
       "<function __main__.my_decorator.<locals>.wrapper()>"
      ]
     },
     "execution_count": 3,
     "metadata": {},
     "output_type": "execute_result"
    }
   ],
   "source": [
    "my_decorator(say_hello())"
   ]
  },
  {
   "cell_type": "code",
   "execution_count": 4,
   "id": "d2b7c133",
   "metadata": {
    "scrolled": true
   },
   "outputs": [
    {
     "name": "stdout",
     "output_type": "stream",
     "text": [
      "Something is happening before the function is called.\n",
      "Something is happening before the function is called.\n",
      "Hello!\n",
      "Something is happening after the function is called.\n",
      "Something is happening after the function is called.\n"
     ]
    }
   ],
   "source": [
    "my_decorator(say_hello)()"
   ]
  },
  {
   "cell_type": "code",
   "execution_count": 5,
   "id": "19b4cc12",
   "metadata": {},
   "outputs": [
    {
     "name": "stdout",
     "output_type": "stream",
     "text": [
      "Something is happening before the function is called.\n",
      "Something is happening before the function is called.\n",
      "Hello!\n",
      "Something is happening after the function is called.\n",
      "Something is happening after the function is called.\n"
     ]
    }
   ],
   "source": [
    "say_hello = my_decorator(say_hello)\n",
    "say_hello()"
   ]
  },
  {
   "cell_type": "markdown",
   "id": "56389465",
   "metadata": {},
   "source": [
    "### In this example, my_decorator is a decorator function that takes another function (func) as its argument. It defines a nested function called wrapper that contains the code to be executed before and after calling the original function. Finally, the decorator returns the wrapper function.\n",
    "\n",
    "### When we apply @my_decorator above the say_hello function, it is equivalent to saying say_hello = my_decorator(say_hello), which means say_hello is now replaced with the wrapper function returned by the decorator.\n",
    "\n",
    "### So, when we call say_hello(), it actually invokes wrapper(), which prints the messages before and after calling the original say_hello function.\n",
    "\n",
    "### Decorators offer a clean and concise way to add functionality to functions or methods without cluttering their code, making code more modular and easier to maintain."
   ]
  },
  {
   "cell_type": "code",
   "execution_count": null,
   "id": "fa36cde3",
   "metadata": {},
   "outputs": [],
   "source": []
  },
  {
   "cell_type": "code",
   "execution_count": 6,
   "id": "50a59879",
   "metadata": {},
   "outputs": [],
   "source": [
    "def func():\n",
    "    return 1"
   ]
  },
  {
   "cell_type": "code",
   "execution_count": 7,
   "id": "6cdda020",
   "metadata": {},
   "outputs": [
    {
     "data": {
      "text/plain": [
       "1"
      ]
     },
     "execution_count": 7,
     "metadata": {},
     "output_type": "execute_result"
    }
   ],
   "source": [
    "func()"
   ]
  },
  {
   "cell_type": "code",
   "execution_count": 8,
   "id": "dffc2b50",
   "metadata": {},
   "outputs": [
    {
     "data": {
      "text/plain": [
       "<function __main__.func()>"
      ]
     },
     "execution_count": 8,
     "metadata": {},
     "output_type": "execute_result"
    }
   ],
   "source": [
    "func"
   ]
  },
  {
   "cell_type": "code",
   "execution_count": 9,
   "id": "5a9ea159",
   "metadata": {},
   "outputs": [],
   "source": [
    "def hello():\n",
    "    return 'Hello!'"
   ]
  },
  {
   "cell_type": "code",
   "execution_count": 10,
   "id": "b68772ab",
   "metadata": {},
   "outputs": [
    {
     "data": {
      "text/plain": [
       "'Hello!'"
      ]
     },
     "execution_count": 10,
     "metadata": {},
     "output_type": "execute_result"
    }
   ],
   "source": [
    "hello()"
   ]
  },
  {
   "cell_type": "code",
   "execution_count": 11,
   "id": "8ce43ea9",
   "metadata": {},
   "outputs": [
    {
     "data": {
      "text/plain": [
       "<function __main__.hello()>"
      ]
     },
     "execution_count": 11,
     "metadata": {},
     "output_type": "execute_result"
    }
   ],
   "source": [
    "hello"
   ]
  },
  {
   "cell_type": "code",
   "execution_count": 12,
   "id": "01766479",
   "metadata": {},
   "outputs": [],
   "source": [
    "greet = hello"
   ]
  },
  {
   "cell_type": "code",
   "execution_count": 13,
   "id": "662d369a",
   "metadata": {},
   "outputs": [
    {
     "data": {
      "text/plain": [
       "'Hello!'"
      ]
     },
     "execution_count": 13,
     "metadata": {},
     "output_type": "execute_result"
    }
   ],
   "source": [
    "greet()"
   ]
  },
  {
   "cell_type": "code",
   "execution_count": 14,
   "id": "a01d8da4",
   "metadata": {},
   "outputs": [
    {
     "data": {
      "text/plain": [
       "<function __main__.hello()>"
      ]
     },
     "execution_count": 14,
     "metadata": {},
     "output_type": "execute_result"
    }
   ],
   "source": [
    "greet"
   ]
  },
  {
   "cell_type": "code",
   "execution_count": 15,
   "id": "689767bc",
   "metadata": {},
   "outputs": [
    {
     "data": {
      "text/plain": [
       "'Hello!'"
      ]
     },
     "execution_count": 15,
     "metadata": {},
     "output_type": "execute_result"
    }
   ],
   "source": [
    "hello()"
   ]
  },
  {
   "cell_type": "code",
   "execution_count": 16,
   "id": "d8c06316",
   "metadata": {},
   "outputs": [],
   "source": [
    "del hello"
   ]
  },
  {
   "cell_type": "code",
   "execution_count": 17,
   "id": "51957a7a",
   "metadata": {},
   "outputs": [],
   "source": [
    "# hello()\n",
    "# ---------------------------------------------------------------------------\n",
    "# NameError                                 Traceback (most recent call last)\n",
    "# Input In [17], in <module>\n",
    "# ----> 1 hello()\n",
    "\n",
    "# NameError: name 'hello' is not defined\n"
   ]
  },
  {
   "cell_type": "code",
   "execution_count": 18,
   "id": "1b6b1228",
   "metadata": {},
   "outputs": [
    {
     "data": {
      "text/plain": [
       "<function __main__.hello()>"
      ]
     },
     "execution_count": 18,
     "metadata": {},
     "output_type": "execute_result"
    }
   ],
   "source": [
    "greet"
   ]
  },
  {
   "cell_type": "code",
   "execution_count": 19,
   "id": "0c53d626",
   "metadata": {},
   "outputs": [
    {
     "data": {
      "text/plain": [
       "'Hello!'"
      ]
     },
     "execution_count": 19,
     "metadata": {},
     "output_type": "execute_result"
    }
   ],
   "source": [
    "greet() # functions are objects that CAN be passed into other Object"
   ]
  },
  {
   "cell_type": "code",
   "execution_count": 20,
   "id": "5e142acd",
   "metadata": {},
   "outputs": [],
   "source": [
    "## lets passed func within another func\n",
    "## OR calling func within another func"
   ]
  },
  {
   "cell_type": "code",
   "execution_count": 21,
   "id": "bf8983c6",
   "metadata": {},
   "outputs": [],
   "source": [
    "def hello(name=\"Sherlock\"):\n",
    "    print(\"The Hello() func has been executed! \")\n",
    "    \n",
    "    def greet():\n",
    "        return '\\t This is greet() func inside hello()'"
   ]
  },
  {
   "cell_type": "code",
   "execution_count": 22,
   "id": "209adf68",
   "metadata": {},
   "outputs": [
    {
     "name": "stdout",
     "output_type": "stream",
     "text": [
      "The Hello() func has been executed! \n"
     ]
    }
   ],
   "source": [
    "hello()"
   ]
  },
  {
   "cell_type": "code",
   "execution_count": null,
   "id": "6d8a8669",
   "metadata": {},
   "outputs": [],
   "source": []
  },
  {
   "cell_type": "code",
   "execution_count": 23,
   "id": "b047f52c",
   "metadata": {},
   "outputs": [],
   "source": [
    "def hello(name=\"Sherlock\"):\n",
    "    print(\"The Hello() func has been executed! \")\n",
    "    \n",
    "    def greet():\n",
    "        return '\\t This is greet() func inside hello()'\n",
    "    \n",
    "    print(greet())"
   ]
  },
  {
   "cell_type": "code",
   "execution_count": 24,
   "id": "f1a36846",
   "metadata": {},
   "outputs": [
    {
     "name": "stdout",
     "output_type": "stream",
     "text": [
      "The Hello() func has been executed! \n",
      "\t This is greet() func inside hello()\n"
     ]
    }
   ],
   "source": [
    "hello()"
   ]
  },
  {
   "cell_type": "code",
   "execution_count": null,
   "id": "ade07763",
   "metadata": {},
   "outputs": [],
   "source": []
  },
  {
   "cell_type": "code",
   "execution_count": 25,
   "id": "ccc2a952",
   "metadata": {},
   "outputs": [],
   "source": [
    "def hello(name=\"Sherlock\"):\n",
    "    print(\"The Hello() func has been executed! \")\n",
    "    \n",
    "    def greet():\n",
    "        return '\\t This is greet() func inside hello()'\n",
    "    greet()"
   ]
  },
  {
   "cell_type": "code",
   "execution_count": 26,
   "id": "d85a9785",
   "metadata": {},
   "outputs": [
    {
     "name": "stdout",
     "output_type": "stream",
     "text": [
      "The Hello() func has been executed! \n"
     ]
    }
   ],
   "source": [
    "hello()"
   ]
  },
  {
   "cell_type": "code",
   "execution_count": null,
   "id": "e0803a8d",
   "metadata": {},
   "outputs": [],
   "source": []
  },
  {
   "cell_type": "code",
   "execution_count": 27,
   "id": "812a8935",
   "metadata": {},
   "outputs": [],
   "source": [
    "def hello(name=\"Sherlock\"):\n",
    "    print(\"The Hello() func has been executed! \")\n",
    "    \n",
    "    def greet():\n",
    "        return '\\t This is greet() func inside hello()'\n",
    "    \n",
    "    def welcome():\n",
    "        return '\\t This is welcome() func inside hello()'\n",
    "    \n",
    "    print(greet())\n",
    "    print(welcome())   "
   ]
  },
  {
   "cell_type": "code",
   "execution_count": 28,
   "id": "9ef23b28",
   "metadata": {},
   "outputs": [
    {
     "name": "stdout",
     "output_type": "stream",
     "text": [
      "The Hello() func has been executed! \n",
      "\t This is greet() func inside hello()\n",
      "\t This is welcome() func inside hello()\n"
     ]
    }
   ],
   "source": [
    "hello()"
   ]
  },
  {
   "cell_type": "code",
   "execution_count": null,
   "id": "f2f004d4",
   "metadata": {},
   "outputs": [],
   "source": []
  },
  {
   "cell_type": "code",
   "execution_count": 29,
   "id": "d13459d3",
   "metadata": {},
   "outputs": [],
   "source": [
    "def hello(name=\"Sherlock\"):\n",
    "    print(\"The Hello() func has been executed! \")\n",
    "    \n",
    "    def greet():\n",
    "        return '\\t This is greet() func inside hello()'\n",
    "    \n",
    "    def welcome():\n",
    "        return '\\t This is welcome() func inside hello()'\n",
    "    \n",
    "    print(greet())\n",
    "    print(welcome())   \n",
    "    print(\"This is the end of the hello() function\")"
   ]
  },
  {
   "cell_type": "code",
   "execution_count": 30,
   "id": "4b73f0ce",
   "metadata": {},
   "outputs": [
    {
     "name": "stdout",
     "output_type": "stream",
     "text": [
      "The Hello() func has been executed! \n",
      "\t This is greet() func inside hello()\n",
      "\t This is welcome() func inside hello()\n",
      "This is the end of the hello() function\n"
     ]
    }
   ],
   "source": [
    "hello()"
   ]
  },
  {
   "cell_type": "code",
   "execution_count": 31,
   "id": "37603e80",
   "metadata": {},
   "outputs": [],
   "source": [
    "# ### CANT EXECUTE OUTSIDE hello() FUNC\n",
    "\n",
    "# welcome()\n",
    "# ---------------------------------------------------------------------------\n",
    "# NameError                                 Traceback (most recent call last)\n",
    "# Input In [47], in <module>\n",
    "# ----> 1 welcome()\n",
    "\n",
    "# NameError: name 'welcome' is not defined"
   ]
  },
  {
   "cell_type": "code",
   "execution_count": 32,
   "id": "68de9aec",
   "metadata": {},
   "outputs": [],
   "source": [
    "# lets access these func outside hello() FUNC"
   ]
  },
  {
   "cell_type": "code",
   "execution_count": 33,
   "id": "2fd44c31",
   "metadata": {},
   "outputs": [],
   "source": [
    "def hello(name=\"Sherlock\"):\n",
    "    print(\"The Hello() func has been executed! \")\n",
    "    \n",
    "    def greet():\n",
    "        return '\\t This is greet() func inside hello()'\n",
    "    \n",
    "    def welcome():\n",
    "        return '\\t This is welcome() func inside hello()'\n",
    "    \n",
    "    print(\"I am going to return the func!!\")\n",
    "    \n",
    "    if name == 'Sherlock':\n",
    "        return greet\n",
    "    else:\n",
    "        return welcome"
   ]
  },
  {
   "cell_type": "code",
   "execution_count": 34,
   "id": "013bdd79",
   "metadata": {},
   "outputs": [
    {
     "name": "stdout",
     "output_type": "stream",
     "text": [
      "The Hello() func has been executed! \n",
      "I am going to return the func!!\n"
     ]
    }
   ],
   "source": [
    "my_new_func = hello()"
   ]
  },
  {
   "cell_type": "code",
   "execution_count": 35,
   "id": "431b4c0d",
   "metadata": {},
   "outputs": [
    {
     "data": {
      "text/plain": [
       "<function __main__.hello.<locals>.greet()>"
      ]
     },
     "execution_count": 35,
     "metadata": {},
     "output_type": "execute_result"
    }
   ],
   "source": [
    "my_new_func"
   ]
  },
  {
   "cell_type": "code",
   "execution_count": 36,
   "id": "96ac6f87",
   "metadata": {},
   "outputs": [
    {
     "data": {
      "text/plain": [
       "'\\t This is greet() func inside hello()'"
      ]
     },
     "execution_count": 36,
     "metadata": {},
     "output_type": "execute_result"
    }
   ],
   "source": [
    "my_new_func()"
   ]
  },
  {
   "cell_type": "code",
   "execution_count": null,
   "id": "be21f23c",
   "metadata": {},
   "outputs": [],
   "source": []
  },
  {
   "cell_type": "code",
   "execution_count": 37,
   "id": "b1d9193a",
   "metadata": {},
   "outputs": [
    {
     "name": "stdout",
     "output_type": "stream",
     "text": [
      "The Hello() func has been executed! \n",
      "I am going to return the func!!\n"
     ]
    }
   ],
   "source": [
    "my_new_func = hello(\"Iron Man\")"
   ]
  },
  {
   "cell_type": "code",
   "execution_count": 38,
   "id": "61c8a21c",
   "metadata": {},
   "outputs": [
    {
     "data": {
      "text/plain": [
       "<function __main__.hello.<locals>.welcome()>"
      ]
     },
     "execution_count": 38,
     "metadata": {},
     "output_type": "execute_result"
    }
   ],
   "source": [
    "my_new_func"
   ]
  },
  {
   "cell_type": "code",
   "execution_count": 39,
   "id": "14de2238",
   "metadata": {},
   "outputs": [
    {
     "data": {
      "text/plain": [
       "'\\t This is welcome() func inside hello()'"
      ]
     },
     "execution_count": 39,
     "metadata": {},
     "output_type": "execute_result"
    }
   ],
   "source": [
    "my_new_func()"
   ]
  },
  {
   "cell_type": "code",
   "execution_count": 40,
   "id": "1edff825",
   "metadata": {},
   "outputs": [
    {
     "name": "stdout",
     "output_type": "stream",
     "text": [
      "\t This is welcome() func inside hello()\n"
     ]
    }
   ],
   "source": [
    "print(my_new_func()) ## print for tab ##"
   ]
  },
  {
   "cell_type": "code",
   "execution_count": null,
   "id": "d923b16c",
   "metadata": {},
   "outputs": [],
   "source": []
  },
  {
   "cell_type": "code",
   "execution_count": 41,
   "id": "3f015593",
   "metadata": {},
   "outputs": [],
   "source": [
    "def cool():\n",
    "    \n",
    "    def super_cool():\n",
    "        return \"I am very cool\"\n",
    "    \n",
    "    return super_cool"
   ]
  },
  {
   "cell_type": "code",
   "execution_count": 42,
   "id": "d82e9caf",
   "metadata": {},
   "outputs": [],
   "source": [
    "some_func = cool()"
   ]
  },
  {
   "cell_type": "code",
   "execution_count": 43,
   "id": "a7a33009",
   "metadata": {},
   "outputs": [
    {
     "data": {
      "text/plain": [
       "<function __main__.cool.<locals>.super_cool()>"
      ]
     },
     "execution_count": 43,
     "metadata": {},
     "output_type": "execute_result"
    }
   ],
   "source": [
    "some_func"
   ]
  },
  {
   "cell_type": "code",
   "execution_count": 44,
   "id": "3e826a85",
   "metadata": {},
   "outputs": [
    {
     "data": {
      "text/plain": [
       "'I am very cool'"
      ]
     },
     "execution_count": 44,
     "metadata": {},
     "output_type": "execute_result"
    }
   ],
   "source": [
    "some_func()"
   ]
  },
  {
   "cell_type": "code",
   "execution_count": 45,
   "id": "1da58ca2",
   "metadata": {},
   "outputs": [
    {
     "name": "stdout",
     "output_type": "stream",
     "text": [
      "<function cool.<locals>.super_cool at 0x000002BB061AD7E0>\n"
     ]
    }
   ],
   "source": [
    "print(some_func)"
   ]
  },
  {
   "cell_type": "code",
   "execution_count": 46,
   "id": "27d994e2",
   "metadata": {},
   "outputs": [
    {
     "name": "stdout",
     "output_type": "stream",
     "text": [
      "I am very cool\n"
     ]
    }
   ],
   "source": [
    "print(some_func())"
   ]
  },
  {
   "cell_type": "code",
   "execution_count": null,
   "id": "9d59f794",
   "metadata": {},
   "outputs": [],
   "source": []
  },
  {
   "cell_type": "code",
   "execution_count": 47,
   "id": "17880901",
   "metadata": {},
   "outputs": [],
   "source": [
    "## func arguments"
   ]
  },
  {
   "cell_type": "code",
   "execution_count": 48,
   "id": "52bffc0c",
   "metadata": {},
   "outputs": [],
   "source": [
    "def hello():\n",
    "    return 'Hi Sherlock'"
   ]
  },
  {
   "cell_type": "code",
   "execution_count": 49,
   "id": "cb741dc2",
   "metadata": {},
   "outputs": [],
   "source": [
    "def other(some_def_func):\n",
    "    print('Other func runs here!')\n",
    "    print(some_def_func())"
   ]
  },
  {
   "cell_type": "code",
   "execution_count": 50,
   "id": "9d8f8096",
   "metadata": {},
   "outputs": [
    {
     "data": {
      "text/plain": [
       "<function __main__.hello()>"
      ]
     },
     "execution_count": 50,
     "metadata": {},
     "output_type": "execute_result"
    }
   ],
   "source": [
    "hello"
   ]
  },
  {
   "cell_type": "code",
   "execution_count": 51,
   "id": "a707da97",
   "metadata": {},
   "outputs": [
    {
     "data": {
      "text/plain": [
       "'Hi Sherlock'"
      ]
     },
     "execution_count": 51,
     "metadata": {},
     "output_type": "execute_result"
    }
   ],
   "source": [
    "hello()"
   ]
  },
  {
   "cell_type": "code",
   "execution_count": 52,
   "id": "2ee8072b",
   "metadata": {},
   "outputs": [
    {
     "name": "stdout",
     "output_type": "stream",
     "text": [
      "Other func runs here!\n",
      "Hi Sherlock\n"
     ]
    }
   ],
   "source": [
    "## here we are providing RAW FUNCTION (HELLO FUNC IS GOING TO EXECUTE IN OTHER FUNC)\n",
    "other(hello) ## its not as other(hello()) "
   ]
  },
  {
   "cell_type": "code",
   "execution_count": null,
   "id": "20b35129",
   "metadata": {},
   "outputs": [],
   "source": []
  },
  {
   "cell_type": "code",
   "execution_count": 53,
   "id": "7b594d48",
   "metadata": {},
   "outputs": [],
   "source": [
    "# lETS LEARN ABOUT DECORATORS"
   ]
  },
  {
   "cell_type": "code",
   "execution_count": 54,
   "id": "ad07393b",
   "metadata": {},
   "outputs": [],
   "source": [
    "def new_decorator(original_func):\n",
    "    \n",
    "    def wrap_func():\n",
    "        \n",
    "        print(\"Some extra code,before the original function!\")\n",
    "        \n",
    "        original_func()\n",
    "        \n",
    "        print(\"Some extra code,after the original function!\")\n",
    "        \n",
    "    return wrap_func # not wrap_func()"
   ]
  },
  {
   "cell_type": "code",
   "execution_count": 55,
   "id": "982ca86c",
   "metadata": {},
   "outputs": [],
   "source": [
    "def func_needs_decorator():\n",
    "    print('I want to be decorated!!!')"
   ]
  },
  {
   "cell_type": "code",
   "execution_count": 56,
   "id": "7c16ac93",
   "metadata": {},
   "outputs": [
    {
     "name": "stdout",
     "output_type": "stream",
     "text": [
      "I want to be decorated!!!\n"
     ]
    }
   ],
   "source": [
    "func_needs_decorator()"
   ]
  },
  {
   "cell_type": "code",
   "execution_count": 57,
   "id": "b666534b",
   "metadata": {},
   "outputs": [],
   "source": [
    "decorated_func = new_decorator(func_needs_decorator) # passing raw function"
   ]
  },
  {
   "cell_type": "code",
   "execution_count": 58,
   "id": "1e5caae7",
   "metadata": {},
   "outputs": [
    {
     "data": {
      "text/plain": [
       "<function __main__.new_decorator.<locals>.wrap_func()>"
      ]
     },
     "execution_count": 58,
     "metadata": {},
     "output_type": "execute_result"
    }
   ],
   "source": [
    "decorated_func"
   ]
  },
  {
   "cell_type": "code",
   "execution_count": 59,
   "id": "19512d4b",
   "metadata": {},
   "outputs": [
    {
     "name": "stdout",
     "output_type": "stream",
     "text": [
      "Some extra code,before the original function!\n",
      "I want to be decorated!!!\n",
      "Some extra code,after the original function!\n"
     ]
    }
   ],
   "source": [
    "decorated_func()"
   ]
  },
  {
   "cell_type": "code",
   "execution_count": 60,
   "id": "7cf3db84",
   "metadata": {},
   "outputs": [],
   "source": [
    "# Special Syntax"
   ]
  },
  {
   "cell_type": "code",
   "execution_count": 61,
   "id": "bfcc12ad",
   "metadata": {},
   "outputs": [],
   "source": [
    "@new_decorator\n",
    "def func_needs_decorator():\n",
    "    print('I want to be decorated!!!')"
   ]
  },
  {
   "cell_type": "code",
   "execution_count": 62,
   "id": "a5b71bfd",
   "metadata": {},
   "outputs": [
    {
     "data": {
      "text/plain": [
       "<function __main__.new_decorator.<locals>.wrap_func()>"
      ]
     },
     "execution_count": 62,
     "metadata": {},
     "output_type": "execute_result"
    }
   ],
   "source": [
    "func_needs_decorator"
   ]
  },
  {
   "cell_type": "code",
   "execution_count": 63,
   "id": "d8d303bf",
   "metadata": {},
   "outputs": [
    {
     "name": "stdout",
     "output_type": "stream",
     "text": [
      "Some extra code,before the original function!\n",
      "I want to be decorated!!!\n",
      "Some extra code,after the original function!\n"
     ]
    }
   ],
   "source": [
    "func_needs_decorator()"
   ]
  },
  {
   "cell_type": "code",
   "execution_count": null,
   "id": "9f90c9d6",
   "metadata": {},
   "outputs": [],
   "source": []
  },
  {
   "cell_type": "code",
   "execution_count": null,
   "id": "e468c11d",
   "metadata": {},
   "outputs": [],
   "source": []
  },
  {
   "cell_type": "code",
   "execution_count": 64,
   "id": "20cf3b91",
   "metadata": {},
   "outputs": [
    {
     "name": "stdout",
     "output_type": "stream",
     "text": [
      "Some extra code,before the original function!\n",
      "I want to be decorated!!!\n",
      "Some extra code,after the original function!\n"
     ]
    }
   ],
   "source": [
    "@new_decorator # you can turn this off by just commenting this line\n",
    "def func_needs_decorator():\n",
    "    print('I want to be decorated!!!')\n",
    "func_needs_decorator()"
   ]
  },
  {
   "cell_type": "code",
   "execution_count": null,
   "id": "d097e870",
   "metadata": {},
   "outputs": [],
   "source": []
  },
  {
   "cell_type": "code",
   "execution_count": 65,
   "id": "863bd044",
   "metadata": {},
   "outputs": [
    {
     "name": "stdout",
     "output_type": "stream",
     "text": [
      "I want to be decorated!!!\n"
     ]
    }
   ],
   "source": [
    "# @new_decorator # you can turn this off by just commenting this line\n",
    "def func_needs_decorator():\n",
    "    print('I want to be decorated!!!')\n",
    "func_needs_decorator()"
   ]
  },
  {
   "cell_type": "code",
   "execution_count": 66,
   "id": "b3d8f4f6",
   "metadata": {},
   "outputs": [
    {
     "name": "stdout",
     "output_type": "stream",
     "text": [
      "Some extra code,before the original function!\n",
      "I want to be decorated!!!\n",
      "Some extra code,after the original function!\n"
     ]
    }
   ],
   "source": [
    "@new_decorator # you can turn this off by just commenting this line\n",
    "def func_needs_decorator():\n",
    "    print('I want to be decorated!!!')\n",
    "func_needs_decorator()"
   ]
  },
  {
   "cell_type": "code",
   "execution_count": 67,
   "id": "f41154ee",
   "metadata": {},
   "outputs": [
    {
     "name": "stdout",
     "output_type": "stream",
     "text": [
      "I want to be decorated!!!\n"
     ]
    }
   ],
   "source": [
    "# @new_decorator # you can turn this off by just commenting this line\n",
    "def func_needs_decorator():\n",
    "    print('I want to be decorated!!!')\n",
    "func_needs_decorator()"
   ]
  },
  {
   "cell_type": "code",
   "execution_count": 68,
   "id": "106d2ee5",
   "metadata": {},
   "outputs": [
    {
     "name": "stdout",
     "output_type": "stream",
     "text": [
      "Some extra code,before the original function!\n",
      "I want to be decorated!!!\n",
      "Some extra code,after the original function!\n"
     ]
    }
   ],
   "source": [
    "@new_decorator # you can turn this off by just commenting this line\n",
    "def func_needs_decorator():\n",
    "    print('I want to be decorated!!!')\n",
    "func_needs_decorator()"
   ]
  },
  {
   "cell_type": "markdown",
   "id": "c79d3dac",
   "metadata": {},
   "source": [
    "## Thank You"
   ]
  }
 ],
 "metadata": {
  "kernelspec": {
   "display_name": "Python 3 (ipykernel)",
   "language": "python",
   "name": "python3"
  },
  "language_info": {
   "codemirror_mode": {
    "name": "ipython",
    "version": 3
   },
   "file_extension": ".py",
   "mimetype": "text/x-python",
   "name": "python",
   "nbconvert_exporter": "python",
   "pygments_lexer": "ipython3",
   "version": "3.10.9"
  }
 },
 "nbformat": 4,
 "nbformat_minor": 5
}
