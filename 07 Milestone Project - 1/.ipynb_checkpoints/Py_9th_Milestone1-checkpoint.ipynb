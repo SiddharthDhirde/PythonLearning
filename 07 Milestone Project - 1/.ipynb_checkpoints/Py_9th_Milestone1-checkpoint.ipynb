{
 "cells": [
  {
   "cell_type": "code",
   "execution_count": 2,
   "id": "49af5fd4",
   "metadata": {},
   "outputs": [],
   "source": [
    "# OM NAMAH SHIVAY"
   ]
  },
  {
   "cell_type": "markdown",
   "id": "eec5862b",
   "metadata": {},
   "source": [
    "# 14 MAR 2022"
   ]
  },
  {
   "cell_type": "markdown",
   "id": "ab364719",
   "metadata": {},
   "source": [
    "# FOLDER: 07 Milestone Project - 1"
   ]
  },
  {
   "cell_type": "markdown",
   "id": "ddaa1b40",
   "metadata": {},
   "source": [
    "# "
   ]
  },
  {
   "cell_type": "markdown",
   "id": "875d8ad8",
   "metadata": {},
   "source": [
    "# 055 First Python Milestone Project Overview"
   ]
  },
  {
   "cell_type": "markdown",
   "id": "9e4d6469",
   "metadata": {},
   "source": [
    "\n",
    "## TIC TAC TOE BOARD"
   ]
  },
  {
   "cell_type": "markdown",
   "id": "ed5071f8",
   "metadata": {},
   "source": [
    "# 18 MARCH 2022"
   ]
  },
  {
   "cell_type": "markdown",
   "id": "77d5acca",
   "metadata": {},
   "source": [
    "## function to print out board. Set up board as a list\n",
    "## 3 by 3 representation"
   ]
  },
  {
   "cell_type": "code",
   "execution_count": 3,
   "id": "7bdc7b5e",
   "metadata": {},
   "outputs": [],
   "source": [
    "from IPython.display import clear_output\n",
    "\n",
    "def display_board(board):\n",
    "    \n",
    "    print(board[9]+'|'+board[8]+'|'+board[7])\n",
    "    print(board[6]+'|'+board[5]+'|'+board[4])\n",
    "    print(board[3]+'|'+board[2]+'|'+board[1])    "
   ]
  },
  {
   "cell_type": "markdown",
   "id": "5a49360e",
   "metadata": {},
   "source": [
    "## test version"
   ]
  },
  {
   "cell_type": "code",
   "execution_count": 4,
   "id": "1068957a",
   "metadata": {},
   "outputs": [
    {
     "name": "stdout",
     "output_type": "stream",
     "text": [
      "X|O|X\n",
      "O|X|O\n",
      "X|O|X\n"
     ]
    }
   ],
   "source": [
    "test_board = ['#','X','O','X','O','X','O','X','O','X']\n",
    "display_board(test_board)"
   ]
  },
  {
   "cell_type": "code",
   "execution_count": null,
   "id": "e57573ff",
   "metadata": {},
   "outputs": [],
   "source": []
  },
  {
   "cell_type": "code",
   "execution_count": 5,
   "id": "1dc1e365",
   "metadata": {},
   "outputs": [],
   "source": [
    "from IPython.display import clear_output\n",
    "\n",
    "def display_board(board):\n",
    "    \n",
    "    print(board[9]+'|'+board[8]+'|'+board[7])\n",
    "    print(\"-|-|-\")\n",
    "    print(board[6]+'|'+board[5]+'|'+board[4])\n",
    "    print(\"-|-|-\")\n",
    "    print(board[3]+'|'+board[2]+'|'+board[1])    "
   ]
  },
  {
   "cell_type": "code",
   "execution_count": 6,
   "id": "71b4f155",
   "metadata": {},
   "outputs": [
    {
     "name": "stdout",
     "output_type": "stream",
     "text": [
      "X|O|X\n",
      "-|-|-\n",
      "O|X|O\n",
      "-|-|-\n",
      "X|O|X\n"
     ]
    }
   ],
   "source": [
    "test_board = ['#','X','O','X','O','X','O','X','O','X']\n",
    "display_board(test_board)"
   ]
  },
  {
   "cell_type": "code",
   "execution_count": 7,
   "id": "dda6c7fa",
   "metadata": {},
   "outputs": [],
   "source": [
    "from IPython.display import clear_output\n",
    "\n",
    "def display_board(board):\n",
    "    \n",
    "    print(board[9]+'|'+board[8]+'|'+board[7])\n",
    "    print(\"-----\")\n",
    "    print(board[6]+'|'+board[5]+'|'+board[4])\n",
    "    print(\"-----\")\n",
    "    print(board[3]+'|'+board[2]+'|'+board[1])    "
   ]
  },
  {
   "cell_type": "code",
   "execution_count": 8,
   "id": "081404b6",
   "metadata": {},
   "outputs": [
    {
     "name": "stdout",
     "output_type": "stream",
     "text": [
      "X|O|X\n",
      "-----\n",
      "O|X|O\n",
      "-----\n",
      "X|O|X\n"
     ]
    }
   ],
   "source": [
    "test_board = ['#','X','O','X','O','X','O','X','O','X']\n",
    "display_board(test_board)"
   ]
  },
  {
   "cell_type": "code",
   "execution_count": 9,
   "id": "10bbcb17",
   "metadata": {},
   "outputs": [
    {
     "name": "stdout",
     "output_type": "stream",
     "text": [
      " | | \n",
      "-----\n",
      " | | \n",
      "-----\n",
      " | | \n"
     ]
    }
   ],
   "source": [
    "test_board = [' '] * 10\n",
    "display_board(test_board)"
   ]
  },
  {
   "cell_type": "code",
   "execution_count": null,
   "id": "5445506c",
   "metadata": {},
   "outputs": [],
   "source": []
  },
  {
   "cell_type": "code",
   "execution_count": 10,
   "id": "d009af0e",
   "metadata": {},
   "outputs": [],
   "source": [
    "from IPython.display import clear_output\n",
    "\n",
    "def display_board(board):\n",
    "    \n",
    "    clear_output()\n",
    "    \n",
    "    print(board[9]+'|'+board[8]+'|'+board[7])\n",
    "    print(\"-----\")\n",
    "    print(board[6]+'|'+board[5]+'|'+board[4])\n",
    "    print(\"-----\")\n",
    "    print(board[3]+'|'+board[2]+'|'+board[1])    "
   ]
  },
  {
   "cell_type": "code",
   "execution_count": 11,
   "id": "fe69a216",
   "metadata": {},
   "outputs": [
    {
     "name": "stdout",
     "output_type": "stream",
     "text": [
      "X|O|X\n",
      "-----\n",
      "O|X|O\n",
      "-----\n",
      "X|O|X\n"
     ]
    }
   ],
   "source": [
    "test_board = ['#','X','O','X','O','X','O','X','O','X']\n",
    "display_board(test_board)"
   ]
  },
  {
   "cell_type": "code",
   "execution_count": null,
   "id": "05d9c9c0",
   "metadata": {},
   "outputs": [],
   "source": []
  },
  {
   "cell_type": "markdown",
   "id": "fd4d037d",
   "metadata": {},
   "source": [
    "## function to take input & assign their marker as ---------------------  'X' or 'O'"
   ]
  },
  {
   "cell_type": "code",
   "execution_count": 12,
   "id": "66d3b1f4",
   "metadata": {},
   "outputs": [],
   "source": [
    "from IPython.display import clear_output\n",
    "\n",
    "def player_input():\n",
    "    \n",
    "    marker = ''\n",
    "    \n",
    "    # KEEP ASKING PLAYER 1 TO CHOOSE X OR O \n",
    "    \n",
    "    while marker != 'X' and marker != 'O':\n",
    "        marker = input(\"For Player 1 choose 'X' or 'O': \") \n",
    "              \n",
    "    player1 = marker   \n",
    "    # ASSIGN PLAYER 2 , THE OPPOSITE MARKER\n",
    "        \n",
    "    if player1 == 'X':\n",
    "        player2 = 'O'\n",
    "    else:\n",
    "        player2 = 'X'\n",
    "        \n",
    "    return (player1,player2)"
   ]
  },
  {
   "cell_type": "code",
   "execution_count": 13,
   "id": "09c0670c",
   "metadata": {},
   "outputs": [
    {
     "name": "stdout",
     "output_type": "stream",
     "text": [
      "For Player 1 choose 'X' or 'O': X\n"
     ]
    },
    {
     "data": {
      "text/plain": [
       "('X', 'O')"
      ]
     },
     "execution_count": 13,
     "metadata": {},
     "output_type": "execute_result"
    }
   ],
   "source": [
    "player_input()"
   ]
  },
  {
   "cell_type": "code",
   "execution_count": 14,
   "id": "fbbddf22",
   "metadata": {},
   "outputs": [],
   "source": [
    "def player_input1():\n",
    "    marker = ''\n",
    "    \n",
    "    while not (marker == 'X' or marker == 'O'):\n",
    "        marker = input('Player 1: Do you want to be X or O?').upper()\n",
    "\n",
    "    if marker == 'X':\n",
    "        return ('X', 'O')\n",
    "    else:\n",
    "        return ('O', 'X')"
   ]
  },
  {
   "cell_type": "code",
   "execution_count": 15,
   "id": "7cc06816",
   "metadata": {},
   "outputs": [
    {
     "name": "stdout",
     "output_type": "stream",
     "text": [
      "For Player 1 choose 'X' or 'O': X\n"
     ]
    },
    {
     "data": {
      "text/plain": [
       "('X', 'O')"
      ]
     },
     "execution_count": 15,
     "metadata": {},
     "output_type": "execute_result"
    }
   ],
   "source": [
    "player_input()"
   ]
  },
  {
   "cell_type": "code",
   "execution_count": 16,
   "id": "d49c6738",
   "metadata": {},
   "outputs": [
    {
     "name": "stdout",
     "output_type": "stream",
     "text": [
      "For Player 1 choose 'X' or 'O': X\n"
     ]
    }
   ],
   "source": [
    "player1, player2 = player_input()"
   ]
  },
  {
   "cell_type": "code",
   "execution_count": 17,
   "id": "815db73c",
   "metadata": {
    "scrolled": true
   },
   "outputs": [
    {
     "data": {
      "text/plain": [
       "'X'"
      ]
     },
     "execution_count": 17,
     "metadata": {},
     "output_type": "execute_result"
    }
   ],
   "source": [
    "player1"
   ]
  },
  {
   "cell_type": "code",
   "execution_count": 18,
   "id": "8a17c59b",
   "metadata": {},
   "outputs": [
    {
     "data": {
      "text/plain": [
       "'O'"
      ]
     },
     "execution_count": 18,
     "metadata": {},
     "output_type": "execute_result"
    }
   ],
   "source": [
    "player2"
   ]
  },
  {
   "cell_type": "markdown",
   "id": "4f2889de",
   "metadata": {},
   "source": [
    "# 19 March 2022"
   ]
  },
  {
   "cell_type": "code",
   "execution_count": 19,
   "id": "dbbc14cf",
   "metadata": {},
   "outputs": [],
   "source": [
    "from IPython.display import clear_output\n",
    "\n",
    "def player_input():\n",
    "    \n",
    "    marker = ''\n",
    "    \n",
    "    # KEEP ASKING PLAYER 1 TO CHOOSE X OR O \n",
    "    \n",
    "    while marker != 'X' and marker != 'O':\n",
    "        marker = input(\"For Player 1 choose 'X' or 'O': \") \n",
    "              \n",
    "    player1 = marker   \n",
    "    # ASSIGN PLAYER 2 , THE OPPOSITE MARKER\n",
    "        \n",
    "    if player1 == 'X':\n",
    "        player2 = 'O'\n",
    "    else:\n",
    "        player2 = 'X'\n",
    "        \n",
    "    return (player1,player2)"
   ]
  },
  {
   "cell_type": "code",
   "execution_count": 20,
   "id": "509494d4",
   "metadata": {},
   "outputs": [],
   "source": [
    "from IPython.display import clear_output\n",
    "\n",
    "def display_board(board):\n",
    "    \n",
    "    print(board[9]+'|'+board[8]+'|'+board[7])\n",
    "    print(\"-|-|-\")\n",
    "    print(board[6]+'|'+board[5]+'|'+board[4])\n",
    "    print(\"-|-|-\")\n",
    "    print(board[3]+'|'+board[2]+'|'+board[1])    "
   ]
  },
  {
   "cell_type": "code",
   "execution_count": 21,
   "id": "2af64c54",
   "metadata": {},
   "outputs": [
    {
     "name": "stdout",
     "output_type": "stream",
     "text": [
      "X|O|X\n",
      "-|-|-\n",
      "O|X|O\n",
      "-|-|-\n",
      "X|O|X\n",
      "X|O|X\n",
      "-|-|-\n",
      "O|X|O\n",
      "-|-|-\n",
      "X|O|X\n"
     ]
    }
   ],
   "source": [
    "test_board = ['#','X','O','X','O','X','O','X','O','X']\n",
    "display_board(test_board)\n",
    "display_board(test_board)"
   ]
  },
  {
   "cell_type": "code",
   "execution_count": null,
   "id": "2c578b39",
   "metadata": {},
   "outputs": [],
   "source": []
  },
  {
   "cell_type": "code",
   "execution_count": 22,
   "id": "4d69f683",
   "metadata": {},
   "outputs": [
    {
     "name": "stdout",
     "output_type": "stream",
     "text": [
      "X|O|X\n",
      "-|-|-\n",
      "O|X|O\n",
      "-|-|-\n",
      "X|O|X\n",
      "\n",
      "\n",
      "\n",
      "\n",
      "\n",
      "\n",
      "X|O|X\n",
      "-|-|-\n",
      "O|X|O\n",
      "-|-|-\n",
      "X|O|X\n"
     ]
    }
   ],
   "source": [
    "test_board = ['#','X','O','X','O','X','O','X','O','X']\n",
    "display_board(test_board)\n",
    "print('\\n'*5)\n",
    "display_board(test_board)"
   ]
  },
  {
   "cell_type": "code",
   "execution_count": 23,
   "id": "05371f24",
   "metadata": {},
   "outputs": [
    {
     "name": "stdout",
     "output_type": "stream",
     "text": [
      "X|O|X\n",
      "-|-|-\n",
      "O|X|O\n",
      "-|-|-\n",
      "X|O|X\n"
     ]
    }
   ],
   "source": [
    "test_board = ['#','X','O','X','O','X','O','X','O','X']\n",
    "display_board(test_board)\n",
    "clear_output()\n",
    "display_board(test_board)"
   ]
  },
  {
   "cell_type": "code",
   "execution_count": null,
   "id": "cc6d7b71",
   "metadata": {},
   "outputs": [],
   "source": []
  },
  {
   "cell_type": "code",
   "execution_count": null,
   "id": "4030a57e",
   "metadata": {},
   "outputs": [],
   "source": []
  },
  {
   "cell_type": "code",
   "execution_count": 24,
   "id": "8ed03993",
   "metadata": {},
   "outputs": [],
   "source": [
    "from IPython.display import clear_output\n",
    "\n",
    "def display_board(board):\n",
    "    \n",
    "    print(board[9]+'|'+board[8]+'|'+board[7])\n",
    "    print(\"-|-|-\")\n",
    "    print(board[6]+'|'+board[5]+'|'+board[4])\n",
    "    print(\"-|-|-\")\n",
    "    print(board[3]+'|'+board[2]+'|'+board[1])    "
   ]
  },
  {
   "cell_type": "code",
   "execution_count": 25,
   "id": "86e96fd7",
   "metadata": {},
   "outputs": [
    {
     "name": "stdout",
     "output_type": "stream",
     "text": [
      "X|O|X\n",
      "-|-|-\n",
      "O|X|O\n",
      "-|-|-\n",
      "X|O|X\n"
     ]
    }
   ],
   "source": [
    "test_board = ['#','X','O','X','O','X','O','X','O','X']\n",
    "display_board(test_board)"
   ]
  },
  {
   "cell_type": "code",
   "execution_count": 26,
   "id": "686fc2d1",
   "metadata": {},
   "outputs": [
    {
     "name": "stdout",
     "output_type": "stream",
     "text": [
      "X|O|X\n",
      "-|-|-\n",
      "O|X|O\n",
      "-|-|-\n",
      "X|O|X\n",
      "X|O|X\n",
      "-|-|-\n",
      "O|X|O\n",
      "-|-|-\n",
      "X|O|X\n"
     ]
    }
   ],
   "source": [
    "test_board = ['#','X','O','X','O','X','O','X','O','X']\n",
    "display_board(test_board)\n",
    "display_board(test_board)"
   ]
  },
  {
   "cell_type": "code",
   "execution_count": null,
   "id": "f7fbe8e6",
   "metadata": {},
   "outputs": [],
   "source": []
  },
  {
   "cell_type": "code",
   "execution_count": 27,
   "id": "07990e1f",
   "metadata": {},
   "outputs": [],
   "source": [
    "from IPython.display import clear_output\n",
    "\n",
    "def display_board(board):\n",
    "    ''' clear_output() is used to clear previous output \n",
    "        Tic tac toe'''\n",
    "    \n",
    "    clear_output()    \n",
    "    \n",
    "    print(board[9]+'|'+board[8]+'|'+board[7])\n",
    "    print(\"-|-|-\")\n",
    "    print(board[6]+'|'+board[5]+'|'+board[4])\n",
    "    print(\"-|-|-\")\n",
    "    print(board[3]+'|'+board[2]+'|'+board[1])    "
   ]
  },
  {
   "cell_type": "code",
   "execution_count": 28,
   "id": "03bb7810",
   "metadata": {},
   "outputs": [
    {
     "name": "stdout",
     "output_type": "stream",
     "text": [
      "X|O|X\n",
      "-|-|-\n",
      "O|X|O\n",
      "-|-|-\n",
      "X|O|X\n"
     ]
    }
   ],
   "source": [
    "test_board = ['#','X','O','X','O','X','O','X','O','X']\n",
    "display_board(test_board)\n",
    "display_board(test_board)"
   ]
  },
  {
   "cell_type": "code",
   "execution_count": 29,
   "id": "df31c6a3",
   "metadata": {},
   "outputs": [
    {
     "name": "stdout",
     "output_type": "stream",
     "text": [
      "X|O|X\n",
      "-|-|-\n",
      "O|X|O\n",
      "-|-|-\n",
      "X|O|X\n",
      "Help on NoneType object:\n",
      "\n",
      "class NoneType(object)\n",
      " |  Methods defined here:\n",
      " |  \n",
      " |  __bool__(self, /)\n",
      " |      self != 0\n",
      " |  \n",
      " |  __repr__(self, /)\n",
      " |      Return repr(self).\n",
      " |  \n",
      " |  ----------------------------------------------------------------------\n",
      " |  Static methods defined here:\n",
      " |  \n",
      " |  __new__(*args, **kwargs) from builtins.type\n",
      " |      Create and return a new object.  See help(type) for accurate signature.\n",
      "\n"
     ]
    }
   ],
   "source": [
    "help(display_board(test_board))"
   ]
  },
  {
   "cell_type": "code",
   "execution_count": null,
   "id": "da14df53",
   "metadata": {},
   "outputs": [],
   "source": []
  },
  {
   "cell_type": "code",
   "execution_count": 30,
   "id": "d0871cac",
   "metadata": {},
   "outputs": [],
   "source": [
    "from IPython.display import clear_output\n",
    "\n",
    "def display_board(board):\n",
    "    clear_output()\n",
    "    \n",
    "    print(board[7]+'|'+board[8]+'|'+board[9])\n",
    "    print('-----')\n",
    "    print(board[4]+'|'+board[5]+'|'+board[6])    \n",
    "    print('-----')\n",
    "    print(board[1]+'|'+board[2]+'|'+board[3])    "
   ]
  },
  {
   "cell_type": "code",
   "execution_count": 31,
   "id": "75ce8efd",
   "metadata": {},
   "outputs": [
    {
     "name": "stdout",
     "output_type": "stream",
     "text": [
      "X|O|X\n",
      "-----\n",
      "O|X|O\n",
      "-----\n",
      "X|O|X\n"
     ]
    }
   ],
   "source": [
    "board = ['x','X','O','X','O','X','O','X','O','X']\n",
    "display_board(board)"
   ]
  },
  {
   "cell_type": "code",
   "execution_count": 32,
   "id": "daa90cef",
   "metadata": {},
   "outputs": [],
   "source": [
    "# OM NAMAH SHIVAY"
   ]
  },
  {
   "cell_type": "markdown",
   "id": "30163087",
   "metadata": {},
   "source": [
    "# 19 Apr 2022"
   ]
  },
  {
   "cell_type": "code",
   "execution_count": null,
   "id": "e9dbdfa3",
   "metadata": {},
   "outputs": [],
   "source": []
  }
 ],
 "metadata": {
  "kernelspec": {
   "display_name": "Python 3 (ipykernel)",
   "language": "python",
   "name": "python3"
  },
  "language_info": {
   "codemirror_mode": {
    "name": "ipython",
    "version": 3
   },
   "file_extension": ".py",
   "mimetype": "text/x-python",
   "name": "python",
   "nbconvert_exporter": "python",
   "pygments_lexer": "ipython3",
   "version": "3.8.6"
  }
 },
 "nbformat": 4,
 "nbformat_minor": 5
}
