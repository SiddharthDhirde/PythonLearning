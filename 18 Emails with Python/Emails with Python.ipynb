{
 "cells": [
  {
   "cell_type": "markdown",
   "id": "241c1997",
   "metadata": {},
   "source": [
    "## Emails with Python"
   ]
  },
  {
   "cell_type": "code",
   "execution_count": 1,
   "id": "9b05ecff",
   "metadata": {},
   "outputs": [],
   "source": [
    "# Sending Emails"
   ]
  },
  {
   "cell_type": "markdown",
   "id": "7848f78c",
   "metadata": {},
   "source": [
    "#### smtplib is a Python module that provides an SMTP (Simple Mail Transfer Protocol) client session object used to send email messages. It allows you to connect to an SMTP server and send emails programmatically from your Python code. With smtplib, you can send emails with text content, HTML content, attachments, and more."
   ]
  },
  {
   "cell_type": "markdown",
   "id": "1304cd34",
   "metadata": {},
   "source": [
    "# Code to send an email:\n",
    "---"
   ]
  },
  {
   "cell_type": "code",
   "execution_count": 2,
   "id": "15c9a0eb",
   "metadata": {},
   "outputs": [],
   "source": [
    "# import smtplib\n",
    "# from email.message import EmailMessage\n",
    "\n",
    "# #### Create a message object\n",
    "# msg = EmailMessage()\n",
    "# msg.set_content(\"This is a test email sent via Python!\")\n",
    "\n",
    "# msg['Subject'] = \"Test Email\"\n",
    "# msg['From'] = \"your_email@gmail.com\"  # Your Gmail address\n",
    "# msg['To'] = \"recipient@example.com\"\n",
    "\n",
    "# #### Connect to the Gmail SMTP server\n",
    "# server = smtplib.SMTP('smtp.gmail.com', 587)  # Gmail SMTP server address\n",
    "# server.starttls()  # Start TLS encryption\n",
    "# server.login(\"your_email@gmail.com\", \"your_password\")  # Your Gmail credentials\n",
    "\n",
    "# #### Send the email\n",
    "# server.send_message(msg)\n",
    "\n",
    "# #### Disconnect from the server\n",
    "# server.quit()"
   ]
  },
  {
   "cell_type": "markdown",
   "id": "725b9b1f",
   "metadata": {},
   "source": [
    "-----"
   ]
  },
  {
   "cell_type": "code",
   "execution_count": 3,
   "id": "ee7ccd2e",
   "metadata": {},
   "outputs": [],
   "source": [
    "import smtplib"
   ]
  },
  {
   "cell_type": "code",
   "execution_count": 4,
   "id": "2cd12ea0",
   "metadata": {},
   "outputs": [],
   "source": [
    "# Port 587 is the default port for the SMTP submission protocol. \n",
    "# It's commonly used for sending emails securely from an email client or application to an email server.\n",
    "\n",
    "smtp_object = smtplib.SMTP('smtp.gmail.com',587) # port=465"
   ]
  },
  {
   "cell_type": "code",
   "execution_count": 5,
   "id": "b10aa23b",
   "metadata": {},
   "outputs": [
    {
     "data": {
      "text/plain": [
       "(250,\n",
       " b'smtp.gmail.com at your service, [2401:4900:1c2c:7ad4:681d:88b6:2c5b:1fe9]\\nSIZE 35882577\\n8BITMIME\\nSTARTTLS\\nENHANCEDSTATUSCODES\\nPIPELINING\\nCHUNKING\\nSMTPUTF8')"
      ]
     },
     "execution_count": 5,
     "metadata": {},
     "output_type": "execute_result"
    }
   ],
   "source": [
    "smtp_object.ehlo()"
   ]
  },
  {
   "cell_type": "code",
   "execution_count": 6,
   "id": "fdfe6981",
   "metadata": {},
   "outputs": [
    {
     "data": {
      "text/plain": [
       "(220, b'2.0.0 Ready to start TLS')"
      ]
     },
     "execution_count": 6,
     "metadata": {},
     "output_type": "execute_result"
    }
   ],
   "source": [
    "smtp_object.starttls()"
   ]
  },
  {
   "cell_type": "code",
   "execution_count": 7,
   "id": "47deb4c8",
   "metadata": {},
   "outputs": [
    {
     "name": "stdout",
     "output_type": "stream",
     "text": [
      "What is your password: 123456789\n"
     ]
    }
   ],
   "source": [
    "# This is not a secure way to ask for password\n",
    "password = input('What is your password: ')"
   ]
  },
  {
   "cell_type": "code",
   "execution_count": null,
   "id": "aba53057",
   "metadata": {},
   "outputs": [],
   "source": []
  },
  {
   "cell_type": "code",
   "execution_count": 8,
   "id": "555778e3",
   "metadata": {},
   "outputs": [],
   "source": [
    "# Better way\n",
    "import getpass "
   ]
  },
  {
   "cell_type": "code",
   "execution_count": 9,
   "id": "01bc4dcf",
   "metadata": {},
   "outputs": [
    {
     "name": "stdout",
     "output_type": "stream",
     "text": [
      "Please Enter Password: ········\n"
     ]
    }
   ],
   "source": [
    "password = getpass.getpass(\"Please Enter Password: \")"
   ]
  },
  {
   "cell_type": "code",
   "execution_count": 10,
   "id": "8526edad",
   "metadata": {},
   "outputs": [
    {
     "name": "stdout",
     "output_type": "stream",
     "text": [
      "Email: ········\n",
      "Password: ········\n"
     ]
    },
    {
     "data": {
      "text/plain": [
       "(235, b'2.7.0 Accepted')"
      ]
     },
     "execution_count": 10,
     "metadata": {},
     "output_type": "execute_result"
    }
   ],
   "source": [
    "email = getpass.getpass('Email: ')\n",
    "password = getpass.getpass(\"Password: \")\n",
    "smtp_object.login(email,password)"
   ]
  },
  {
   "cell_type": "code",
   "execution_count": 11,
   "id": "5414b34a",
   "metadata": {},
   "outputs": [
    {
     "name": "stdout",
     "output_type": "stream",
     "text": [
      "Enter the Sunject line: Testing smtp (python) to send emails\n",
      "Enter the Body Message: Hello, Have a Great Day!\n"
     ]
    },
    {
     "data": {
      "text/plain": [
       "{}"
      ]
     },
     "execution_count": 11,
     "metadata": {},
     "output_type": "execute_result"
    }
   ],
   "source": [
    "from_address = email\n",
    "to_address = email\n",
    "subject = input(\"Enter the Sunject line: \")\n",
    "message = input(\"Enter the Body Message: \")\n",
    "msg = 'Subject: '+subject+'\\n'+message\n",
    "\n",
    "smtp_object.sendmail(from_address,to_address,msg)"
   ]
  },
  {
   "cell_type": "code",
   "execution_count": 12,
   "id": "0df0d03c",
   "metadata": {},
   "outputs": [
    {
     "data": {
      "text/plain": [
       "(221,\n",
       " b'2.0.0 closing connection i16-20020a17090332d000b001dcc8ea6247sm6774958plr.15 - gsmtp')"
      ]
     },
     "execution_count": 12,
     "metadata": {},
     "output_type": "execute_result"
    }
   ],
   "source": [
    "smtp_object.quit()"
   ]
  },
  {
   "cell_type": "code",
   "execution_count": null,
   "id": "69071c37",
   "metadata": {},
   "outputs": [],
   "source": []
  },
  {
   "cell_type": "markdown",
   "id": "f5441091",
   "metadata": {},
   "source": [
    "# Receiving Emails"
   ]
  },
  {
   "cell_type": "code",
   "execution_count": 13,
   "id": "33735de9",
   "metadata": {},
   "outputs": [
    {
     "name": "stdout",
     "output_type": "stream",
     "text": [
      "Email: ········\n",
      "Password: ········\n"
     ]
    }
   ],
   "source": [
    "email = getpass.getpass('Email: ')\n",
    "password = getpass.getpass('Password: ')"
   ]
  },
  {
   "cell_type": "code",
   "execution_count": 14,
   "id": "206ca6c0",
   "metadata": {
    "scrolled": false
   },
   "outputs": [
    {
     "name": "stdout",
     "output_type": "stream",
     "text": [
      "b'Delivered-To: realsherlockholmes9@gmail.com\\r\\nReceived: by 2002:a17:906:5c0a:0:0:0:0 with SMTP id e10csp157822ejq;\\r\\n        Fri, 14 Aug 2020 05:27:20 -0700 (PDT)\\r\\nX-Received: by 2002:a05:6602:2d43:: with SMTP id d3mr1982072iow.39.1597408040750;\\r\\n        Fri, 14 Aug 2020 05:27:20 -0700 (PDT)\\r\\nARC-Seal: i=1; a=rsa-sha256; t=1597408040; cv=none;\\r\\n        d=google.com; s=arc-20160816;\\r\\n        b=znhAyaH8LyzzIKZqJxt144QEB27Z8Bdz+/L632bYuIKbBsyb3kBBk8QrwxG3ZrsvDM\\r\\n         OOcwbQ3h8Ur+0rcuIsHZouRoWJypCULeCkolR4LoJgJg5CZfq7gmNwt2vXvHz77LlbtL\\r\\n         2pBRFD2lRDiUeqpZVZfHBcQTM61CRqq9V2vYll3rCuHU2Isodb6c+TTxTpOV771r6OB0\\r\\n         CSiXERRM1iSM+ANegPaWTtG2H8C2SIlLtHxS6aGapEWQllMwZt2PSdEH+COGqpFmiDra\\r\\n         312/zfEkPsSDx01VzkVV+gvP3xdwJkmMQ8zR1dGqv+Vll6u/6IT64yZa8j/4hFjEs/rU\\r\\n         dnbg==\\r\\nARC-Message-Signature: i=1; a=rsa-sha256; c=relaxed/relaxed; d=google.com; s=arc-20160816;\\r\\n        h=to:from:subject:message-id:feedback-id:reply-to:date:mime-version\\r\\n         :dkim-signature;\\r\\n        bh=H8+9HkXbSmsUUnPzEu2O+5yA2R+7y8womTylZEXVk+k=;\\r\\n        b=oHXKCULdsuexoqJS7UFhSkap6qcXx6b9Iie9rrg79CVqarTsg/GwFUycQay5D62WmM\\r\\n         1+yvNHBorPnw6ACxpp883K0Q59oodSgKGyOqLlS3n54x0c0Vq3YRHMDhWYKhbrgTYHtK\\r\\n         Mt65sepCtx8h8PDCB/KsG0GN/HMqv9CdJ8uKUSGExWREpyEbc3zElwEi0jxq7mAt+gyZ\\r\\n         LyztxYaiejP4YjYx+UL7js8qeeYUd9sTGfW2rsz2/azbatu2eMG13nLzO/l3oDpyRI6P\\r\\n         3obKRhf0UXhXNFEmNh3pNMYzNL4mRkIDXD0vSWPjE48mjqJ6ab5kMPvzBTEGd1v3pNpd\\r\\n         j7FA==\\r\\nARC-Authentication-Results: i=1; mx.google.com;\\r\\n       dkim=pass header.i=@google.com header.s=20161025 header.b=jzmNrq2B;\\r\\n       spf=pass (google.com: domain of 3hom2xxskap0lttlqjhtrrzsny3yjfr-stwjuq3lttlqj.htr@scoutcamp.bounces.google.com designates 209.85.220.69 as permitted sender) smtp.mailfrom=3HoM2XxsKAP0lttlqjhtrrzsny3yjfr-stwjuq3lttlqj.htr@scoutcamp.bounces.google.com;\\r\\n       dmarc=pass (p=REJECT sp=REJECT dis=NONE) header.from=google.com\\r\\nReturn-Path: <3HoM2XxsKAP0lttlqjhtrrzsny3yjfr-stwjuq3lttlqj.htr@scoutcamp.bounces.google.com>\\r\\nReceived: from mail-sor-f69.google.com (mail-sor-f69.google.com. [209.85.220.69])\\r\\n        by mx.google.com with SMTPS id h15sor6467007ilj.15.2020.08.14.05.27.11\\r\\n        for <realsherlockholmes9@gmail.com>\\r\\n        (Google Transport Security);\\r\\n        Fri, 14 Aug 2020 05:27:20 -0700 (PDT)\\r\\nReceived-SPF: pass (google.com: domain of 3hom2xxskap0lttlqjhtrrzsny3yjfr-stwjuq3lttlqj.htr@scoutcamp.bounces.google.com designates 209.85.220.69 as permitted sender) client-ip=209.85.220.69;\\r\\nAuthentication-Results: mx.google.com;\\r\\n       dkim=pass header.i=@google.com header.s=20161025 header.b=jzmNrq2B;\\r\\n       spf=pass (google.com: domain of 3hom2xxskap0lttlqjhtrrzsny3yjfr-stwjuq3lttlqj.htr@scoutcamp.bounces.google.com designates 209.85.220.69 as permitted sender) smtp.mailfrom=3HoM2XxsKAP0lttlqjhtrrzsny3yjfr-stwjuq3lttlqj.htr@scoutcamp.bounces.google.com;\\r\\n       dmarc=pass (p=REJECT sp=REJECT dis=NONE) header.from=google.com\\r\\nDKIM-Signature: v=1; a=rsa-sha256; c=relaxed/relaxed;\\r\\n        d=google.com; s=20161025;\\r\\n        h=mime-version:date:reply-to:feedback-id:message-id:subject:from:to;\\r\\n        bh=H8+9HkXbSmsUUnPzEu2O+5yA2R+7y8womTylZEXVk+k=;\\r\\n        b=jzmNrq2BweFP2WgCv2ynOrMpQlwZczdTJCH3+xAQRU2YeMmeLftb2stxyB9Fb3q9P9\\r\\n         qLpkg5zycWifXlhycXxUR5Z9MhG17DJiKKf9IMeKe8ZjShvf1mnkX6D7/ZAdbn+NRRFb\\r\\n         ZST36aA8nAgk1hqrupIttXGkw5pb36mcdwrV2Xd1RiyNDalODzV6icFWVhIFFz2kBA9v\\r\\n         w5voISzzAMdqxjbfn5aDt9bDROIgDEnKoCIWLznVwclNAGTJd771lj1P3bnKdvlsUwEs\\r\\n         PQogOFXq/Vd61rlh8AxYsjIqqoFBz7RXOQgFZVaBKEDLa8NF84uxJAhCrunBQ8FpU5sp\\r\\n         UonQ==\\r\\nX-Google-DKIM-Signature: v=1; a=rsa-sha256; c=relaxed/relaxed;\\r\\n        d=1e100.net; s=20161025;\\r\\n        h=x-gm-message-state:mime-version:date:reply-to:feedback-id\\r\\n         :message-id:subject:from:to;\\r\\n        bh=H8+9HkXbSmsUUnPzEu2O+5yA2R+7y8womTylZEXVk+k=;\\r\\n        b=Bk3YPPh2ALzUBUmA4/QnahDz1KrBGkixCVAyuG1yGc3os7l4BIjv+vRlMYKI1mZGXM\\r\\n         ZmE/zqkkZ7b4GNIjUxTZR0ekK0sN0cTGMcJDF3xdrNaK2veDwAQC2gkA18lKe6tgjHC8\\r\\n         /h75qGhZ48whLb3odabx4OVoMXfN3HGKj7O01C2HTuyMeeMGc1X9j8TMUd409qmkAIkU\\r\\n         79le37B1c1ymfSx2iwJifUAkCZ+0sn/z5JR13RHsQkQ6S6dfFHKskNZ3Kxl/H8Ppr9Pf\\r\\n         lGPmeY3BqCsEedHoc3mNzRKXYgiy4FHJpz8fZueuenmjlm8nHXVHwcp36k79BYk36L9b\\r\\n         ARtg==\\r\\nX-Gm-Message-State: AOAM531RPL2ofzJEysFoJq7yfK+eCFjKrfhjq6QR2N1Cg4/Gn4mCpXbG\\r\\n\\tBiCwJfUJ2xowBvA=\\r\\nX-Google-Smtp-Source: ABdhPJyigYoQFawGYDU/2zrOaAkgkDq7FRm8Ky6IIlGhAjPDpYLrqyHyNrhk64pxaqmrhU9Lbd5uvzM=\\r\\nMIME-Version: 1.0\\r\\nX-Received: by 2002:a05:6e02:8a4:: with SMTP id a4mr2218012ilt.92.1597408030948;\\r\\n Fri, 14 Aug 2020 05:27:10 -0700 (PDT)\\r\\nDate: Fri, 14 Aug 2020 05:27:10 -0700\\r\\nReply-To: Google Community Team <googlecommunityteam-noreply@google.com>\\r\\nX-Google-Id: 248176\\r\\nFeedback-ID: P-232-0:C20112788:M110292597-en:gamma\\r\\nX-Notifications: GAMMA:<1e84a5deea6c7cd3a22085750b75f282dcf079f4-20112788-110784096@google.com>\\r\\nMessage-ID: <1e84a5deea6c7cd3a22085750b75f282dcf079f4-20112788-110784096@google.com>\\r\\nSubject: \\r\\n Finish setting up your new Google Account\\r\\nFrom: Google Community Team <googlecommunityteam-noreply@google.com>\\r\\nTo: realsherlockholmes9@gmail.com\\r\\nContent-Type: multipart/alternative; boundary=\"0000000000003eff1605acd58abc\"\\r\\n\\r\\n--0000000000003eff1605acd58abc\\r\\nContent-Type: text/plain; charset=\"UTF-8\"; format=flowed; delsp=yes\\r\\nContent-Transfer-Encoding: base64\\r\\n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\\r\\n--0000000000003eff1605acd58abc\\r\\nContent-Type: text/html; charset=\"UTF-8\"\\r\\nContent-Transfer-Encoding: quoted-printable\\r\\n\\r\\n<!doctype html public \"- / /w3c / /dtd xhtml 1.0 transitional / /en\" \"http:=\\r\\n / /www.w3.org /tr /xhtml1 /dtd /xhtml1-transitional.dtd\">\\r\\n\\r\\n  <html xmlns=3Dhttp://www.w3.org/1999/xhtml xmlns:v=3Durn:schemas-microsof=\\r\\nt-com:vml xmlns:o=3Durn:schemas-microsoft-com:office:office>\\r\\n    <head>\\r\\n      <meta name=3Dformat-detection content=3Daddress=3Dno>\\r\\n      <meta name=3Dformat-detection content=3Dtelephone=3Dno>\\r\\n      <meta name=3Dx-apple-disable-message-reformatting>\\r\\n      <meta http-equiv=3DContent-Type content=3D\"text/html; charset=3Dutf-8=\\r\\n\">\\r\\n      <meta name=3Dviewport content=3D\"width=3Ddevice-width, initial-scale=\\r\\n=3D1, maximum-scale=3D1\">\\r\\n     =20\\r\\n      <link href=3D//fonts.googleapis.com/css?family=3DGoogle+Sans rel=3Dst=\\r\\nylesheet type=3Dtext/css>\\r\\n       =20\\r\\n      <style type=3Dtext/css>\\r\\n      body{text-decoration:none;}\\r\\n      </style>\\r\\n      <style type=3Dtext/css>\\r\\n           @media only screen and (max-width: 767px){\\r\\n             .body_wrapper{min-width:540px !important;}\\r\\n             .body_size{width: 320px !important;min-width:320px !important;=\\r\\n}\\r\\n             .subheadline{font-size:22px!important;line-height: 35px !impor=\\r\\ntant;}\\r\\n             .device_txt{font-size:26px!important;}\\r\\n             .greeting_name{font-size:32px!important;}\\r\\n             .google_mobile{width:135px !important; height:43px !important;=\\r\\n}\\r\\n             .bulb_mobile{width:22px !important; height:31px !important;pad=\\r\\nding-top:20px !important;}\\r\\n             .module_mobile{width:110px !important; height:110px !important=\\r\\n;}\\r\\n             .shield_mobile{width:24px !important; height:31px !important;}\\r\\n             .fmd_mobile{width:30px !important; height:24px !important;}\\r\\n             .fa_mobile{width:30px !important; height:30px !important;}\\r\\n            =20\\r\\n            =20\\r\\n             .btn_mod2_mobile1{min-width:175px !important;padding:9px 0px 1=\\r\\n1px 0px !important;}\\r\\n             .btn_mod2_mobile2{min-width:240px !important;padding:9px 0px 1=\\r\\n1px 0px !important;}\\r\\n             .btn_mod3_mobile{min-width:270px !important;padding:9px 0px 11=\\r\\npx 0px !important;}\\r\\n             .btn_mod4_mobile{min-width:210px !important;padding:9px 0px 11=\\r\\npx 0px !important;}\\r\\n\\r\\n             .space1{height:19px !important;}\\r\\n             .space2{padding:3px 35px 0 35px !important;}\\r\\n             .space3{padding-top: 22px !important;}\\r\\n             .space4{padding: 6px 0 0 0 !important;}\\r\\n             .space5{padding-top: 17px !important;}\\r\\n             .space6{padding:0 35px 0 35px !important;}\\r\\n             .space7{padding-right: 0px !important;}\\r\\n           }\\r\\n    =20\\r\\n           @media screen and (min-resolution: 288dpi) {\\r\\n             .device_txt{font-size:26px!important;}\\r\\n           }\\r\\n       </style>\\r\\n       =20\\r\\n       =20\\r\\n       =20\\r\\n       =20\\r\\n       =20\\r\\n       =20\\r\\n       =20\\r\\n    <!--[if gte mso 9]>\\r\\n<xml>\\r\\n    <o:OfficeDocumentSettings>\\r\\n    <o:AllowPNG/>\\r\\n    <o:PixelsPerInch>96</o:PixelsPerInch>\\r\\n    </o:OfficeDocumentSettings>\\r\\n</xml>\\r\\n<![endif]-->\\r\\n    </head>\\r\\n       =20\\r\\n      =20\\r\\n     =20\\r\\n   =20\\r\\n   =20\\r\\n<body bgcolor=3D#ffffff class=3Dbody_wrapper>\\r\\n =20\\r\\n      <style>\\r\\n          @media screen{@font-face{font-family:\\'Open Sans\\';font-style:norma=\\r\\nl;font-weight:normal;src:local(\\'Open Sans Light\\'),local(\\'OpenSans-Light\\'),u=\\r\\nrl(http://fonts.gstatic.com/s/opensans/v9/DXI1ORHCpsQm3Vp6mXoaTRampu5_7CjHW=\\r\\n5spxoeN3Vs.woff2) format(\\'woff2\\'),url(http://fonts.gstatic.com/s/opensans/v=\\r\\n9/DXI1ORHCpsQm3Vp6mXoaTaRDOzjiPcYnFooOUGCOsRk.woff) format(\\'woff\\')}}\\r\\n          /*body{padding:0;margin:0}@media only screen and (max-width:520px=\\r\\n){-webkit-text-size-adjust:100%}*/\\r\\n          body{text-decoration:none;}\\r\\n      </style>\\r\\n      <div style=3D\"display:none; white-space:nowrap; font:15px courier; li=\\r\\nne-height:0;\">\\r\\n        =C2=A0 =C2=A0 =C2=A0 =C2=A0 =C2=A0 =C2=A0=C2=A0 =C2=A0 =C2=A0 =C2=\\r\\n=A0 =C2=A0 =C2=A0 =C2=A0 =C2=A0 =C2=A0\\r\\n        =C2=A0 =C2=A0 =C2=A0 =C2=A0 =C2=A0 =C2=A0 =C2=A0 =C2=A0 =C2=A0 =C2=\\r\\n=A0 =C2=A0 =C2=A0 =C2=A0 =C2=A0 =C2=A0\\r\\n          =C2=A0 =C2=A0 =C2=A0 =C2=A0 =C2=A0 =C2=A0=C2=A0 =C2=A0 =C2=A0 =C2=\\r\\n=A0 =C2=A0 =C2=A0 =C2=A0 =C2=A0 =C2=A0\\r\\n        =C2=A0 =C2=A0 =C2=A0 =C2=A0 =C2=A0 =C2=A0 =C2=A0 =C2=A0 =C2=A0 =C2=\\r\\n=A0 =C2=A0 =C2=A0 =C2=A0 =C2=A0 =C2=A0\\r\\n              =C2=A0 =C2=A0 =C2=A0 =C2=A0 =C2=A0 =C2=A0 =C2=A0 =C2=A0 =C2=\\r\\n=A0 =C2=A0 =C2=A0 =C2=A0 =C2=A0 =C2=A0 =C2=A0\\r\\n          =C2=A0 =C2=A0 =C2=A0 =C2=A0 =C2=A0 =C2=A0=C2=A0 =C2=A0 =C2=A0 =C2=\\r\\n=A0 =C2=A0 =C2=A0 =C2=A0 =C2=A0 =C2=A0\\r\\n        =C2=A0 =C2=A0 =C2=A0 =C2=A0 =C2=A0 =C2=A0 =C2=A0 =C2=A0 =C2=A0 =C2=\\r\\n=A0 =C2=A0 =C2=A0 =C2=A0 =C2=A0 =C2=A0\\r\\n              =C2=A0 =C2=A0 =C2=A0 =C2=A0 =C2=A0 =C2=A0 =C2=A0 =C2=A0 =C2=\\r\\n=A0 =C2=A0 =C2=A0 =C2=A0 =C2=A0 =C2=A0 =C2=A0\\r\\n          =C2=A0 =C2=A0 =C2=A0 =C2=A0 =C2=A0 =C2=A0=C2=A0 =C2=A0 =C2=A0 =C2=\\r\\n=A0 =C2=A0 =C2=A0 =C2=A0 =C2=A0 =C2=A0\\r\\n        =C2=A0 =C2=A0 =C2=A0 =C2=A0 =C2=A0 =C2=A0 =C2=A0 =C2=A0 =C2=A0 =C2=\\r\\n=A0 =C2=A0 =C2=A0 =C2=A0 =C2=A0 =C2=A0\\r\\n       =20\\r\\n        </div>\\r\\n      <center>\\r\\n        <table class=3Dbody_size border=3D0 cellspacing=3D0 cellpadding=3D0=\\r\\n align=3Dcenter width=3D520 bgcolor=3D#ffffff style=3D\"background: #ffffff;=\\r\\n min-width: 520px; -webkit-font-smoothing: antialiased; -webkit-text-size-a=\\r\\ndjust: none; -ms-text-size-adjust: 100%;\">\\r\\n         =20\\r\\n         =20\\r\\n         =20\\r\\n          <tr><td align=3Dcenter style=3D\"padding-top: 20px;\"><a href=3Dhtt=\\r\\nps://www.google.com/appserve/mkt/p/AD-FnExPso0xJzmKT6DSbuhjgKx7KXSUxtu7xonR=\\r\\nydhQoqtxVsfpX3nT4PtjzVa90rbFxlx8nHLSCx1I5hKrE1jHVupM5tIhsyd2NQWMp84rCAgPgHX=\\r\\nNezkVh1dCGJSrrwKzNT3xy944DPEtPmL7hQ7b9VMRChNWZLjrBw target=3D_blank><img cl=\\r\\nass=3Dgoogle_mobile width=3D82 height=3D26 border=3D0 src=3Dhttps://service=\\r\\ns.google.com/fh/files/emails/google_logo_orig.png alt=3DGoogle style=3D\"wid=\\r\\nth: 82px; height:26px; text-align: center; border: none;\"></a></td></tr>\\r\\n          <tr><td class=3Dspace1 height=3D15></td></tr>\\r\\n          <tr>\\r\\n            <td width=3D480 style=3D\"-webkit-font-smoothing: antialiased; -=\\r\\nwebkit-text-size-adjust: none; -ms-text-size-adjust: 100%; border: 2px soli=\\r\\nd #E8EAED; border-radius: 16px;\">\\r\\n              <table border=3D0 cellspacing=3D0 cellpadding=3D0 width=3D100=\\r\\n%>\\r\\n                <tr>\\r\\n                  <td align=3Dcenter><a href=3D#><img class=3Dtop_img width=\\r\\n=3D100% height=3D109 border=3D0 src=3Dhttps://services.google.com/fh/files/=\\r\\nemails/topdesign.png alt=3Dbanner style=3D\"width: 100%; height: 109px; text=\\r\\n-align: center; border: none;\"></a>\\r\\n</td>\\r\\n                </tr>\\r\\n                <tr>\\r\\n                  <td>\\r\\n  \\t\\t\\t\\t    <table border=3D0 cellspacing=3D0 cellpadding=3D0 align=3Dcenter =\\r\\nwidth=3D100%>\\r\\n                      <tr>\\r\\n                        <!--[if mso]>\\r\\n                        <td align=3D\"center\" class=3D\"greeting_name space6\"=\\r\\n style=3D\\'color:#202124; font-family:Google Sans, \"Roboto\", Arial; font-siz=\\r\\ne:22px; font-weight:normal; line-height:45px; margin:0; padding:0 80px 20px=\\r\\n 80px; text-align:center;word-break:normal;direction:ltr;\\' dir=3D\"ltr\">Hi S=\\r\\nherlock,</td>\\r\\n                        <![endif]-->\\r\\n                        <!--[if !mso]><!-->\\r\\n                        <td align=3Dcenter class=3D\"greeting_name space6\" s=\\r\\ntyle=3D\"color:#202124; font-family:Google Sans, &quot;Roboto&quot;, Arial; =\\r\\nfont-size:22px; font-weight:normal; line-height:45px; margin:0; padding:0 8=\\r\\n0px 0 80px; text-align:center; word-break:normal;direction:ltr;\" dir=3Dltr>=\\r\\nHi Sherlock,</td>\\r\\n                        <!--<![endif]-->\\r\\n                      </tr>\\r\\n                      <!--[if !mso]><!-->\\r\\n                      <tr>\\r\\n                        <td height=3D15 style=3D\"line-height: 4px; font-siz=\\r\\ne: 4px;\"></td>\\r\\n                      </tr>\\r\\n                      <!--<![endif]-->\\r\\n                      <tr>\\r\\n                        <td class=3D\"subheadline space2\" align=3Dcenter sty=\\r\\nle=3D\"color:#3C4043; font-family:&quot;Roboto&quot;, OpenSans, &quot;Open S=\\r\\nans&quot;, Arial, sans-serif; font-size:16px; font-weight:normal; line-heig=\\r\\nht:24px; margin:0; padding:0 70px 0 70px; text-align:center; word-break:nor=\\r\\nmal;direction:ltr;\" dir=3Dltr> Welcome to Google. Your new account comes wi=\\r\\nth access to Google products, apps, and services.</td>\\r\\n                      </tr>\\r\\n                      <tr>\\r\\n                        <td class=3D\"subheadline space6\" align=3Dcenter sty=\\r\\nle=3D\"color:#3C4043; font-family:&quot;Roboto&quot;, OpenSans, &quot;Open S=\\r\\nans&quot;, Arial, sans-serif; font-size:16px; font-weight:normal; line-heig=\\r\\nht:24px; margin:0; padding:0 80px 0 80px; text-align:center; word-break:nor=\\r\\nmal;direction:ltr;\" dir=3Dltr> Here are a few tips to get you started.</td>\\r\\n                      </tr>\\r\\n                      <tr><td height=3D45></td></tr>\\r\\n                    </table>\\r\\n\\t\\t\\t\\t  </td>\\r\\n                </tr>\\r\\n               =20\\r\\n                <tr>\\r\\n                  <td>\\r\\n                    <table border=3D0 cellspacing=3D0 cellpadding=3D0 align=\\r\\n=3Dcenter width=3D100%>\\r\\n                      <tr><td height=3D45></td></tr>\\r\\n                      <tr>\\r\\n                          <td class=3Dspace3 align=3Dcenter><img class=3Dmo=\\r\\ndule_mobile width=3D64 height=3D64 border=3D0 src=3Dhttps://services.google=\\r\\n.com/fh/files/emails/g_logo1.png alt=3D\"Google Go\" style=3D\"width: 64px; he=\\r\\night:64px; text-align: center; border: none; font-size:9px;\">\\r\\n</td>\\r\\n                      </tr>\\r\\n                      <tr><td height=3D17></td></tr>\\r\\n                      <tr>\\r\\n\\r\\n                            <!--[if mso]>\\r\\n                            <td align=3D\"center\" class=3D\"device_txt space6=\\r\\n\" style=3D\\'color:#202124; font-family:Google Sans, \"Roboto\", Arial; font-si=\\r\\nze:18px; font-weight:normal; line-height:33px; margin:0; padding:0 80px 20p=\\r\\nx 80px; text-align:center; word-break:normal;direction:ltr;\\' dir=3D\"ltr\">Ge=\\r\\nt a lighter, faster way to search</td>\\r\\n                            <![endif]-->\\r\\n                            <!--[if !mso]><!-->\\r\\n                            <td align=3Dcenter class=3D\"device_txt space6\" =\\r\\nstyle=3D\"color:#202124; font-family:Google Sans, &quot;Roboto&quot;, Arial;=\\r\\n font-size:18px; font-weight:normal; line-height:33px; margin:0; padding:0 =\\r\\n80px 0 80px; text-align:center; word-break:normal;direction:ltr;\" dir=3Dltr=\\r\\n>Get a lighter, faster way to search</td>\\r\\n                            <!--<![endif]-->\\r\\n                  =20\\r\\n                      </tr>\\r\\n                      <!--[if !mso]><!-->\\r\\n                      <tr>\\r\\n                        <td height=3D15 style=3D\"line-height: 4px; font-siz=\\r\\ne: 4px;\"></td>\\r\\n                      </tr>\\r\\n                      <!--<![endif]-->\\r\\n                      <tr>\\r\\n                          <td class=3D\"subheadline space6\" align=3Dcenter s=\\r\\ntyle=3D\"color:#5F6368; font-family:&quot;Roboto&quot;, OpenSans, &quot;Open=\\r\\n Sans&quot;, Arial, sans-serif; font-size:16px; font-weight:normal; line-he=\\r\\night:24px; margin:0; padding:0 80px 0 80px; text-align:center; word-break:n=\\r\\normal;direction:ltr;\" dir=3Dltr>Search in a fast, fun, and easy way. Type l=\\r\\ness and save time by using your voice.</td>\\r\\n                         =20\\r\\n                      </tr>\\r\\n                      <tr><td height=3D30></td></tr>\\r\\n                      <tr>\\r\\n                        <td align=3Dcenter valign=3Dtop>\\r\\n                            <table border=3D0 cellspacing=3D0 cellpadding=\\r\\n=3D0 width=3D100%>\\r\\n                                <tr>\\r\\n                                    <td class=3Dspace4 style=3D\"text-align:=\\r\\n center; padding: 0;\">\\r\\n                                     =20\\r\\n                                        <div>\\r\\n                                            <!--[if mso]>\\r\\n                                              <v:roundrect xmlns:v=3D\"urn:s=\\r\\nchemas-microsoft-com:vml\" xmlns:w=3D\"urn:schemas-microsoft-com:office:word\"=\\r\\n href=3D\"https://www.google.com/appserve/mkt/p/AD-FnExJwJb1m49uklm9xAecseD3=\\r\\nJJ-tSAOAG2qBDaf2ejpEP4ojdmAVJc5ym5GnzcZlyM7RufKOpHhxGYbytBdGKUpD39Q9nsUjUfN=\\r\\nSmU-6dKvgvSTceDEM8uHlk8Gzl1THUBJVe5wj122wNglEAQNF4oO0cmph_kjgw1ltDTJIX4Kq2n=\\r\\n3vjY7xkL18uUYs_PSW3IrSIEQTSF9ucTluRWF-oVl8dsDaHvJcAY2popIyEqMJTu6WW7IBTMTJh=\\r\\nd-FXcQyJQp2lzxItaA2g2T2eNHiyjg0wgGDMNoeE4AsVjSz\" style=3D\"height:42px; v-te=\\r\\nxt-anchor:middle; width:200px;\" arcsize=3D\"20%\" strokecolor=3D\"#1A73E8\" fil=\\r\\nlcolor=3D\"#1A73E8;\">\\r\\n                                              <w:anchorlock/>\\r\\n                                              <center style=3D\"color:#fffff=\\r\\nf;font-family:Google Sans, Roboto, Arial; font-size:16px; font-weight:norma=\\r\\nl; word-break:normal;direction:ltr;\" dir=3D\"ltr\">Get Google Go</center>\\r\\n                                              </v:roundrect>\\r\\n                                            <![endif]-->\\r\\n\\t<a href=3Dhttps://www.google.com/appserve/mkt/p/AD-FnExJwJb1m49uklm9xAecse=\\r\\nD3JJ-tSAOAG2qBDaf2ejpEP4ojdmAVJc5ym5GnzcZlyM7RufKOpHhxGYbytBdGKUpD39Q9nsUjU=\\r\\nfNSmU-6dKvgvSTceDEM8uHlk8Gzl1THUBJVe5wj122wNglEAQNF4oO0cmph_kjgw1ltDTJIX4Kq=\\r\\n2n3vjY7xkL18uUYs_PSW3IrSIEQTSF9ucTluRWF-oVl8dsDaHvJcAY2popIyEqMJTu6WW7IBTMT=\\r\\nJhd-FXcQyJQp2lzxItaA2g2T2eNHiyjg0wgGDMNoeE4AsVjSz class=3D\"subheadline btn_=\\r\\nmod2_mobile2 tst2\" target=3D_blank style=3D\"background-color:#1A73E8;; bord=\\r\\ner:1px solid #1A73E8; border-radius:8px; color:#ffffff; display:inline-bloc=\\r\\nk; font-family:Google Sans, Roboto, Arial; font-size:16px; line-height:25px=\\r\\n; text-decoration:none; min-width:200px; padding:8px 0px 7px 0px; -webkit-t=\\r\\next-size-adjust:none; mso-hide:all; font-weight:500; text-align: center; wo=\\r\\nrd-break:normal;direction:ltr;\" dir=3Dltr>Get Google Go</a>\\r\\n                                        </div>\\r\\n                                    </td>\\r\\n                                </tr>\\r\\n                            </table>\\r\\n                        </td>\\r\\n                      </tr>\\r\\n                      <tr><td height=3D50></td></tr>\\r\\n                      <tr><td border=3D0><hr width=3D516 bgcolor=3D#F8F9FA =\\r\\nborder=3D0 style=3D\"margin:0; border-collapse: collapse; background-color: =\\r\\n#F8F9FA;color: #F8F9FA; height: 8px; border: none; width:516px;\"></td></tr>\\r\\n                    </table>\\r\\n                  </td>\\r\\n                </tr>\\r\\n\\r\\n\\r\\n                <tr>\\r\\n                  <td>\\r\\n                    <table border=3D0 cellspacing=3D0 cellpadding=3D0 align=\\r\\n=3Dcenter width=3D100%>\\r\\n\\t\\t\\t\\t\\t\\t<tr><td height=3D50></td></tr>\\r\\n                      <tr>\\r\\n                        <td align=3Dcenter><img class=3Dmodule_mobile width=\\r\\n=3D64 height=3D64 border=3D0 src=3Dhttps://services.google.com/fh/files/ema=\\r\\nils/gplay_logo.png alt=3D\"Google Play\" style=3D\"width: 64px; height:64px; t=\\r\\next-align: center; border: none; font-size:9px;\">\\r\\n</td>\\r\\n                      </tr>\\r\\n\\r\\n                      <tr><td height=3D15></td></tr>\\r\\n                      <tr>\\r\\n\\r\\n                        <!--[if mso]>\\r\\n                        <td align=3D\"center\" class=3D\"device_txt space6\" st=\\r\\nyle=3D\\'color:#202124; font-family:Google Sans, \"Roboto\", Arial; font-size:1=\\r\\n8px; font-weight:normal; line-height:33px; margin:0; padding:0 80px 20px 80=\\r\\npx; text-align:center; word-break:normal;direction:ltr;\\' dir=3D\"ltr\">Google=\\r\\n Play</td>\\r\\n                        <![endif]-->\\r\\n                        <!--[if !mso]><!-->\\r\\n                        <td align=3Dcenter class=3D\"device_txt space6\" styl=\\r\\ne=3D\"color:#202124; font-family:Google Sans, &quot;Roboto&quot;, Arial; fon=\\r\\nt-size:18px; font-weight:normal; line-height:33px; margin:0; padding:0 80px=\\r\\n 0 80px; text-align:center; word-break:normal;direction:ltr;\" dir=3Dltr>Goo=\\r\\ngle Play</td>\\r\\n                        <!--<![endif]-->\\r\\n\\r\\n                      </tr>\\r\\n                      <!--[if !mso]><!-->\\r\\n                      <tr>\\r\\n                        <td height=3D15 style=3D\"line-height: 4px; font-siz=\\r\\ne: 4px;\"></td>\\r\\n                      </tr>\\r\\n                      <!--<![endif]-->\\r\\n                      <tr>\\r\\n\\r\\n                          <td class=3D\"subheadline space6\" align=3Dcenter s=\\r\\ntyle=3D\"color:#5F6368; font-family:&quot;Roboto&quot;, OpenSans, &quot;Open=\\r\\n Sans&quot;, Arial, sans-serif; font-size:16px; font-weight:normal; line-he=\\r\\night:24px; margin:0; padding:0 80px 0 80px; text-align:center; word-break:n=\\r\\normal;direction:ltr;\" dir=3Dltr>Find apps and games you love.</td>\\r\\n                      </tr>\\r\\n                      <tr><td height=3D30></td></tr>\\r\\n                       <tr>\\r\\n                   <td align=3Dcenter valign=3Dtop>\\r\\n                              <table>\\r\\n                                  <tr>\\r\\n                        <td style=3D\"text-align: center; padding: 0;\">\\r\\n                                          <div>\\r\\n                                            <!--[if mso]>\\r\\n                                              <v:roundrect xmlns:v=3D\"urn:s=\\r\\nchemas-microsoft-com:vml\" xmlns:w=3D\"urn:schemas-microsoft-com:office:word\"=\\r\\n href=3D\"https://www.google.com/appserve/mkt/p/AD-FnEwWERpTXIQZUXhLSBLO5Idl=\\r\\nFgbYMKmcnxx5PuFRVJysEri53tJP_rnQmqDvARP9C8RYbCb9sbup10Bmrkm_mJ6jPXsMc0-cVXC=\\r\\nYfwVdsjaIketz19JPkJUAhMXvJ3qLuZsncehe2YLTozbx-YYu-LIT9E_ZRsGJJfLjOcsE4lIYJD=\\r\\n7Pea0qWsoQlTsjSspij3IFd-9c2Gm9sqzSbpIONx3AvXhUTDt-mmLBZz9w_WGwIkm169q2\" sty=\\r\\nle=3D\"height:42px; v-text-anchor:middle; width:205px;\" arcsize=3D\"20%\" stro=\\r\\nkecolor=3D\"#1A73E8\" fillcolor=3D\"#1A73E8;\">\\r\\n                                              <w:anchorlock/>\\r\\n                                              <center style=3D\"color:#fffff=\\r\\nf;font-family:Google Sans, Roboto, Arial; font-size:16px; font-weight:norma=\\r\\nl; word-break:normal;direction:ltr;\" dir=3D\"ltr\">Go to Google Play</center>\\r\\n                                              </v:roundrect>\\r\\n                                            <![endif]-->\\r\\n                                            <a href=3Dhttps://www.google.co=\\r\\nm/appserve/mkt/p/AD-FnEwWERpTXIQZUXhLSBLO5IdlFgbYMKmcnxx5PuFRVJysEri53tJP_r=\\r\\nnQmqDvARP9C8RYbCb9sbup10Bmrkm_mJ6jPXsMc0-cVXCYfwVdsjaIketz19JPkJUAhMXvJ3qLu=\\r\\nZsncehe2YLTozbx-YYu-LIT9E_ZRsGJJfLjOcsE4lIYJD7Pea0qWsoQlTsjSspij3IFd-9c2Gm9=\\r\\nsqzSbpIONx3AvXhUTDt-mmLBZz9w_WGwIkm169q2 class=3D\"subheadline btn_mod3_mobi=\\r\\nle\" target=3D_blank style=3D\"background-color:#1A73E8;; border:1px solid #1=\\r\\nA73E8; border-radius:8px; color:#ffffff; display:inline-block; font-family:=\\r\\nGoogle Sans, Roboto, Arial; font-size:16px; line-height:25px; text-decorati=\\r\\non:none; min-width:205px; padding:8px 0px 7px 0px; -webkit-text-size-adjust=\\r\\n:none; mso-hide:all; font-weight:500; text-align: center; word-break:normal=\\r\\n;direction:ltr;\" dir=3Dltr>Go to Google Play</a>\\r\\n                                          </div>\\r\\n                                      </td>\\r\\n   \\t\\t\\t\\t </tr>\\r\\n   \\t\\t\\t </table>\\r\\n        \\t</td>\\r\\n           </tr>\\r\\n                      <tr><td height=3D50></td></tr>\\r\\n                      <tr><td border=3D0><hr width=3D516 border=3D0 bgcolor=\\r\\n=3D#F8F9FA style=3D\"margin:0; border-collapse: collapse; background-color: =\\r\\n#F8F9FA;color: #F8F9FA; height: 8px; border: none; width:516px;\"></td></tr>\\r\\n                    </table>\\r\\n                  </td>\\r\\n                </tr>\\r\\n                 =20\\r\\n       =20\\r\\n              =20\\r\\n                <tr>\\r\\n                  <td>\\r\\n                    <table border=3D0 cellspacing=3D0 cellpadding=3D0 align=\\r\\n=3Dcenter width=3D100%>\\r\\n                      <tr><td height=3D40></td></tr>\\r\\n                      <tr>\\r\\n                        <td align=3Dcenter><img class=3Dmodule_mobile width=\\r\\n=3D64 height=3D64 border=3D0 src=3Dhttps://services.google.com/fh/files/ema=\\r\\nils/security_logo.png alt=3DSecurity style=3D\"width: 64px; height:64px; tex=\\r\\nt-align: center; border: none;\">\\r\\n</td>\\r\\n                      </tr>\\r\\n                      <tr><td height=3D15></td></tr>\\r\\n                      <tr>\\r\\n                        <!--[if mso]>\\r\\n                        <td align=3D\"center\" class=3D\"device_txt space6\" st=\\r\\nyle=3D\\'color:#202124; font-family:Google Sans, \"Roboto\", Arial; font-size:1=\\r\\n8px; font-weight:normal; line-height:33px; margin:0; padding:0 80px 20px 80=\\r\\npx; text-align:center; word-break:normal;direction:ltr;\\' dir=3D\"ltr\">Contro=\\r\\nl your account</td>\\r\\n                        <![endif]-->\\r\\n                        <!--[if !mso]><!-->\\r\\n                        <td align=3Dcenter class=3D\"device_txt space6\" styl=\\r\\ne=3D\"color:#202124; font-family:Google Sans, &quot;Roboto&quot;, Arial; fon=\\r\\nt-size:18px; font-weight:normal; line-height:33px; margin:0; padding:0 80px=\\r\\n 0 80px; text-align:center; word-break:normal;direction:ltr;\" dir=3Dltr>Con=\\r\\ntrol your account</td>\\r\\n                        <!--<![endif]-->\\r\\n                      </tr>\\r\\n                      <!--[if !mso]><!-->\\r\\n                      <tr>\\r\\n                        <td height=3D15 style=3D\"line-height: 4px; font-siz=\\r\\ne: 4px;\"></td>\\r\\n                      </tr>\\r\\n                      <!--<![endif]-->\\r\\n                      <tr>\\r\\n                        <td class=3D\"subheadline space6\" align=3Dcenter sty=\\r\\nle=3D\"color:#5F6368; font-family:&quot;Roboto&quot;, OpenSans, &quot;Open S=\\r\\nans&quot;, Arial, sans-serif; font-size:16px; font-weight:normal; line-heig=\\r\\nht:24px; margin:0; padding:0 80px 0 80px; text-align:center; word-break:nor=\\r\\nmal;direction:ltr;\" dir=3Dltr>Choose what&#39;s right for you. Review and a=\\r\\ndjust your privacy and security settings any time.</td>\\r\\n                      </tr>\\r\\n                     =20\\r\\n                     =20\\r\\n                      <tr><td height=3D30></td></tr>\\r\\n                    =20\\r\\n                      <tr>\\r\\n  <td align=3Dcenter valign=3Dtop>\\r\\n\\t  <table>\\r\\n\\t\\t  <tr>\\r\\n                        <td style=3D\"text-align: center; padding: 0;\">\\r\\n\\t\\t\\t\\t =20\\r\\n\\t\\t\\t\\t  <div>\\r\\n\\t\\t\\t\\t  <!--[if mso]>\\r\\n\\t\\t\\t\\t\\t\\t<v:roundrect xmlns:v=3D\"urn:schemas-microsoft-com:vml\" xmlns:w=3D\"urn=\\r\\n:schemas-microsoft-com:office:word\" href=3D\"https://www.google.com/appserve=\\r\\n/mkt/p/AD-FnEwu_DCvrZjGKEUmAHSolSsWOFpUNIfLMPRo7lOX5QLt5ALyJdY5hSw_imJwFcuV=\\r\\nwD50gTvYoNh_x8kpG9SLY4NMb5nt0eoyq3A49LYeWMr-Z5aotggy7l741WT2WJHGDmL8zE4WFA1=\\r\\nOCz0IKLUiipZfY8DkPwwjIHchA2A31NYCIm8C-ea0_g043QtRZunpUnuKzlY96eTp4DvghZcnQo=\\r\\nw\" style=3D\"height:42px; v-text-anchor:middle; width:165px;\" arcsize=3D\"20%=\\r\\n\" strokecolor=3D\"#1A73E8\" fillcolor=3D\"#1A73E8;\">\\r\\n\\t\\t\\t\\t\\t\\t<w:anchorlock/>\\r\\n\\t\\t\\t\\t\\t\\t<center style=3D\"color:#ffffff;font-family:Google Sans, Roboto, Arial=\\r\\n; font-size:16px; font-weight:normal; word-break:normal;direction:ltr;\" dir=\\r\\n=3D\"ltr\">My Account</center>\\r\\n\\t\\t\\t\\t\\t\\t</v:roundrect>\\r\\n\\t\\t\\t\\t\\t  <![endif]-->\\r\\n\\t\\t\\t\\t\\t  <a href=3Dhttps://www.google.com/appserve/mkt/p/AD-FnEwu_DCvrZjGKEUm=\\r\\nAHSolSsWOFpUNIfLMPRo7lOX5QLt5ALyJdY5hSw_imJwFcuVwD50gTvYoNh_x8kpG9SLY4NMb5n=\\r\\nt0eoyq3A49LYeWMr-Z5aotggy7l741WT2WJHGDmL8zE4WFA1OCz0IKLUiipZfY8DkPwwjIHchA2=\\r\\nA31NYCIm8C-ea0_g043QtRZunpUnuKzlY96eTp4DvghZcnQow class=3D\"subheadline btn_=\\r\\nmod4_mobile\" target=3D_blank style=3D\"background-color:#1A73E8;; border:1px=\\r\\n solid #1A73E8; border-radius:8px; color:#ffffff; display:inline-block; fon=\\r\\nt-family:Google Sans, Roboto, Arial; font-size:16px; line-height:25px; text=\\r\\n-decoration:none; min-width:145px; padding:8px 0px 7px 0px; -webkit-text-si=\\r\\nze-adjust:none; mso-hide:all; font-weight:500; text-align: center; word-bre=\\r\\nak:normal;direction:ltr;\" dir=3Dltr>My Account</a>\\r\\n\\t\\t\\t\\t\\t</div>\\r\\n\\r\\n\\t\\t\\t  </td>\\r\\n   \\t\\t\\t\\t </tr>\\r\\n   \\t\\t\\t </table>\\r\\n        \\t</td>\\r\\n           </tr>\\r\\n\\r\\n                   <tr><td height=3D48></td></tr>\\r\\n                    </table>\\r\\n                  </td>\\r\\n                </tr>\\r\\n\\r\\n             =20\\r\\n             =20\\r\\n              </table>\\r\\n\\t\\t        </td>\\r\\n          </tr>\\r\\n         =20\\r\\n        =20\\r\\n          <tr><td height=3D24></td></tr>\\r\\n          <tr>\\r\\n              <td width=3D480 style=3D\"-webkit-font-smoothing: antialiased;=\\r\\n -webkit-text-size-adjust: none; -ms-text-size-adjust: 100%; border: 2px so=\\r\\nlid #E8EAED; border-radius: 16px;\">\\r\\n                    <table border=3D0 cellspacing=3D0 cellpadding=3D0 width=\\r\\n=3D100%>\\r\\n                            <tr>\\r\\n                                <td style=3D\"font-size:0pt; line-height:0pt=\\r\\n; padding:0; margin:0;\" width=3D24></td>\\r\\n                                <!--[if mso]>\\r\\n                                <td style=3D\"margin-top:15px; padding: 40px=\\r\\n 25px 29px 20px;\" valign=3D\"top\"><img class=3D\"fmd_mobile\" width=3D\"24\" hei=\\r\\nght=3D\"18\" border=3D\"0\" src=3D\"https://services.google.com/fh/files/emails/=\\r\\nvibration_outline.png\" alt=3D\"Find My Device\" style=3D\"width: 24px; height:=\\r\\n18px; text-align: center; border: none; font-size:3px;\">\\r\\n</td>\\r\\n                                <![endif]-->\\r\\n                                <!--[if !mso]><!-->\\r\\n                                <td style=3D\"padding: 55px 10px 40px 20px;\"=\\r\\n valign=3Dtop><img class=3Dfmd_mobile width=3D24 height=3D18 border=3D0 src=\\r\\n=3Dhttps://services.google.com/fh/files/emails/vibration_outline.png alt=3D=\\r\\n\"Find My Device\" style=3D\"width: 24px; height:18px; text-align: center; bor=\\r\\nder: none; font-size:3px;\">\\r\\n</td>\\r\\n                                <!--<![endif]-->\\r\\n\\r\\n                                <td valign=3Dtop>\\r\\n                                  <!--[if mso]>\\r\\n                                  <div class=3D\"device_txt\" style=3D\"margin=\\r\\n-bottom:15px; padding-left: 20px; color:#202124; font-family:Google Sans, R=\\r\\noboto, Arial; font-size:18px; line-height:28px; text-align:left; padding-to=\\r\\np:30px; padding-bottom:12px; word-break:normal;direction:ltr;\" dir=3D\"ltr\" =\\r\\nvalign=3D\"top\">Find your phone</div>\\r\\n                                  <![endif]-->\\r\\n                                  <!--[if !mso]><!-->\\r\\n                                  <div class=3Ddevice_txt style=3D\"padding-=\\r\\nleft: 20px; color:#202124; font-family:Google Sans, Roboto, Arial; font-siz=\\r\\ne:18px; line-height:28px; text-align:left; padding-top:45px; padding-bottom=\\r\\n:12px; word-break:normal;direction:ltr;\" dir=3Dltr valign=3Dtop>Find your p=\\r\\nhone</div>\\r\\n                                  <!--<![endif]-->\\r\\n                                 =20\\r\\n                                  <!--[if mso]>\\r\\n                                  <div class=3D\"subheadline space7\" style=\\r\\n=3D\"padding-left: 20px; padding-right: 20px; color:#5F6368; font-family:Rob=\\r\\noto, OpenSans, Open Sans, Arial, sans-serif; font-weight: normal; font-size=\\r\\n:16px; line-height:24px; text-align:left; padding-bottom:24px; word-break:n=\\r\\normal;direction:ltr;\" dir=3D\"ltr\" valign=3D\"top\"><a href=3D\"https://www.goo=\\r\\ngle.com/appserve/mkt/p/AD-FnEz-5T5HOF5X6LfLhGpKQe4Y1bxNjTbD15alvE5FKmyjdeU2=\\r\\n0q-Fs8KtVbSuYBJxnpsl5hMMT_zcfaEspHAmY4Apip4bphsRTRvYVOuzTSyU4jyHaAnfQ9ugTAh=\\r\\n5FSC4sLRL6VmPogdbrrZih-zcn0l7hOWusc2KAH5XjewVblAslYnjPHW6aMgpE3TelA\" target=\\r\\n=3D\"_blank\" style=3D\"text-decoration:none; color:#1A73E8;\">Pinpoint your ph=\\r\\none\\'s location</a> and secure it with Find My Device.</div>\\r\\n                                  <![endif]-->\\r\\n                                  <!--[if !mso]><!-->\\r\\n                                  <div class=3D\"subheadline space7\" style=\\r\\n=3D\"padding-left: 20px; padding-right: 20px; color:#5F6368; font-family:Rob=\\r\\noto, OpenSans, Open Sans, Arial, sans-serif; font-weight: normal; font-size=\\r\\n:16px; line-height:24px; text-align:left; padding-bottom:35px; word-break:n=\\r\\normal;direction:ltr;\" dir=3Dltr valign=3Dtop><a href=3Dhttps://www.google.c=\\r\\nom/appserve/mkt/p/AD-FnEz-5T5HOF5X6LfLhGpKQe4Y1bxNjTbD15alvE5FKmyjdeU20q-Fs=\\r\\n8KtVbSuYBJxnpsl5hMMT_zcfaEspHAmY4Apip4bphsRTRvYVOuzTSyU4jyHaAnfQ9ugTAh5FSC4=\\r\\nsLRL6VmPogdbrrZih-zcn0l7hOWusc2KAH5XjewVblAslYnjPHW6aMgpE3TelA target=3D_bl=\\r\\nank style=3D\"text-decoration:none; color:#1A73E8;\">Pinpoint your phone&#39;=\\r\\ns location</a> and secure it with Find My Device.</div>\\r\\n                                  <!--<![endif]-->\\r\\n                                </td>\\r\\n                                <td style=3D\"font-size:0pt; line-height:0pt=\\r\\n; padding:0; margin:0;\" width=3D24></td>\\r\\n                            </tr>\\r\\n                      =20\\r\\n                            <tr>\\r\\n                                <td style=3D\"font-size:0pt; line-height:0pt=\\r\\n; padding:0; margin:0;\" width=3D24></td>\\r\\n                                <!--[if mso]>\\r\\n                                <td colspan=3D\"2\" width=3D\"468\" align=3D\"to=\\r\\np\" style=3D\"width:468px;\"><hr width=3D\"468\" style=3D\"background-color: #E8E=\\r\\nAED;color: #E8EAED; height: 2px; border: none;font-size:0pt; line-height:0p=\\r\\nt; padding:0; margin:0; width:468px;\"></td>\\r\\n                                <![endif]-->\\r\\n                                  <!--[if !mso]><!-->\\r\\n                                  <td colspan=3D2 align=3Dtop><hr width=3D4=\\r\\n68 class=3Dhr_support style=3D\"background-color: #E8EAED;color: #E8EAED; he=\\r\\night: 2px; border: none;font-size:0pt; line-height:0pt; padding:0; margin:0=\\r\\n;\"></td>\\r\\n                                  <!--<![endif]-->\\r\\n                                <td style=3D\"font-size:0pt; line-height:0pt=\\r\\n; padding:0; margin:0;\" width=3D24></td>\\r\\n                            </tr>\\r\\n                            <tr>\\r\\n                                <td style=3D\"font-size:0pt; line-height:0pt=\\r\\n; padding:0; margin:0;\" width=3D24></td>\\r\\n                                <!--[if mso]>\\r\\n                                <td style=3D\"margin-bottom:55px; padding: 2=\\r\\n6px 10px 35px 20px;\"><img class=3D\"fa_mobile\" width=3D\"24\" height=3D\"24\" bo=\\r\\nrder=3D\"0\" src=3D\"https://services.google.com/fh/files/emails/help_outline.=\\r\\npng\" alt=3D\"Find Answers\" style=3D\"width: 24px; height:24px; text-align: ce=\\r\\nnter; border: none; font-size:3px;\">\\r\\n</td>\\r\\n                                <![endif]-->\\r\\n                                <!--[if !mso]><!-->\\r\\n                                <td style=3D\"padding: 43px 10px 40px 20px;\"=\\r\\n valign=3Dtop><img class=3Dfa_mobile width=3D24 height=3D24 border=3D0 src=\\r\\n=3Dhttps://services.google.com/fh/files/emails/help_outline.png alt=3D\"Find=\\r\\n Answers\" style=3D\"width: 24px; height:24px; text-align: center; border: no=\\r\\nne; font-size:3px;\">\\r\\n</td>\\r\\n                                <!--<![endif]-->\\r\\n                               =20\\r\\n                                <td valign=3Dtop>\\r\\n                                    <!--[if mso]>\\r\\n                                    <div class=3D\"device_txt\" style=3D\"marg=\\r\\nin-bottom:15px; padding-left: 20px; color:#202124; font-family:Google Sans,=\\r\\n Roboto, Arial; font-size:18px; line-height:28px; text-align:left; padding-=\\r\\ntop:18px; padding-bottom:12px; word-break:normal;direction:ltr;\" dir=3D\"ltr=\\r\\n\" valign=3D\"top\">Find answers</div>\\r\\n                                    <![endif]-->\\r\\n                                    <!--[if !mso]><!-->\\r\\n                                    <div class=3Ddevice_txt style=3D\"paddin=\\r\\ng-left: 20px; color:#202124; font-family:Google Sans, Roboto, Arial; font-s=\\r\\nize:18px; line-height:28px; text-align:left; padding-top:35px; padding-bott=\\r\\nom:12px; word-break:normal;direction:ltr;\" dir=3Dltr valign=3Dtop>Find answ=\\r\\ners</div>\\r\\n                                    <!--<![endif]-->\\r\\n                                 =20\\r\\n                                    <!--[if mso]>\\r\\n                                    <div class=3D\"subheadline space7\" style=\\r\\n=3D\"margin-bottom:20px; padding-left: 20px; padding-right: 20px; color:#5F6=\\r\\n368; font-family:Roboto, OpenSans, Open Sans, Arial, sans-serif; font-weigh=\\r\\nt: normal; font-size:16px; line-height:24px; text-align:left; padding-botto=\\r\\nm:45px; word-break:normal;direction:ltr;\" dir=3D\"ltr\" valign=3D\"top\">Visit =\\r\\nthe <a href=3D\"https://www.google.com/appserve/mkt/p/AD-FnExx9-4gkE2N0GbJA2=\\r\\nyrSi4oO88KFcZMQ_RHaVcEhsA6UqfUj9QJd_Ve50TbYInWEJOeOwuSIoE-q_90R_QWnD7nhBYan=\\r\\n-hymv3lK-rvKRv4_dj9TdT-_ge7VQqj7sGGzbS6HFd3XzQWwwq5yTGkSENiu_s7RXV3ZLJ1Rg76=\\r\\nBZhFh6-VQHrRfQDmWwf8wg\" target=3D\"_blank\" style=3D\"text-decoration:none; co=\\r\\nlor:#1A73E8;\">Help Center</a> to learn all about your new Google Account.</=\\r\\ndiv>\\r\\n                                    <![endif]-->\\r\\n                                    <!--[if !mso]><!-->\\r\\n                                    <div class=3D\"subheadline space7\" style=\\r\\n=3D\"padding-left: 20px; padding-right: 20px; color:#5F6368; font-family:Rob=\\r\\noto, OpenSans, Open Sans, Arial, sans-serif; font-weight: normal; font-size=\\r\\n:16px; line-height:24px; text-align:left; padding-bottom:50px; word-break:n=\\r\\normal;direction:ltr;\" dir=3Dltr valign=3Dtop>Visit the <a href=3Dhttps://ww=\\r\\nw.google.com/appserve/mkt/p/AD-FnExx9-4gkE2N0GbJA2yrSi4oO88KFcZMQ_RHaVcEhsA=\\r\\n6UqfUj9QJd_Ve50TbYInWEJOeOwuSIoE-q_90R_QWnD7nhBYan-hymv3lK-rvKRv4_dj9TdT-_g=\\r\\ne7VQqj7sGGzbS6HFd3XzQWwwq5yTGkSENiu_s7RXV3ZLJ1Rg76BZhFh6-VQHrRfQDmWwf8wg ta=\\r\\nrget=3D_blank style=3D\"text-decoration:none; color:#1A73E8;\">Help Center</a=\\r\\n> to learn all about your new Google Account.</div>\\r\\n                                    <!--<![endif]-->\\r\\n                                </td>\\r\\n                                <td style=3D\"font-size:0pt; line-height:0pt=\\r\\n; padding:0; margin:0;\" width=3D24></td>\\r\\n                            </tr>\\r\\n                    </table>\\r\\n              </td>\\r\\n          </tr>\\r\\n         =20\\r\\n                  <tr>\\r\\n                      <td style=3D\"-webkit-font-smoothing: antialiased; -we=\\r\\nbkit-text-size-adjust: none; -ms-text-size-adjust: 100%;\">\\r\\n                        <table border=3D0 cellspacing=3D0 cellpadding=3D0 a=\\r\\nlign=3Dcenter width=3D100%>\\r\\n                          <tr><td height=3D32></td></tr>\\r\\n                          <tr>\\r\\n                            <td class=3Dspace6 align=3Dcenter style=3D\"colo=\\r\\nr:#5F6368; font-family:&quot;Roboto&quot;, OpenSans, &quot;Open Sans&quot;,=\\r\\n Arial, sans-serif; font-size:12px; line-height:17px; margin:0; padding:0 8=\\r\\n0px 0 80px; text-align:center; word-break:normal;direction:ltr;\" dir=3Dltr>=\\r\\nWe hope you enjoy your new Android device,</td>\\r\\n                          </tr>\\r\\n                          <tr>\\r\\n                            <td class=3Dspace6 align=3Dcenter style=3D\"colo=\\r\\nr:#5F6368; font-family:&quot;Roboto&quot;, OpenSans, &quot;Open Sans&quot;,=\\r\\n Arial, sans-serif; font-size:12px; line-height:17px; margin:0; padding:0 8=\\r\\n0px 0 80px; text-align:center; word-break:normal;direction:ltr;\" dir=3Dltr>=\\r\\nGoogle Community Team</td>\\r\\n                          </tr>\\r\\n\\r\\n                          <tr><td height=3D30></td></tr>\\r\\n                          <tr>\\r\\n                            <td width=3D134 height=3D46 align=3Dcenter styl=\\r\\ne=3D\"font-size:8px; word-break:normal;direction:ltr;\" dir=3Dltr>    <img cl=\\r\\nass=3Dgoogle_mobile width=3D82 height=3D26 border=3D0 src=3Dhttps://service=\\r\\ns.google.com/fh/files/emails/google_logo2.png alt=3D\"Google Logo\" style=3D\"=\\r\\nwidth: 82px; height:26px; text-align: center; border: none;\">\\r\\n</td>\\r\\n                          </tr>\\r\\n                          <tr><td height=3D19></td></tr>\\r\\n                          <tr>\\r\\n                           =20\\r\\n                            <td class=3Dspace6 align=3Dcenter style=3D\"colo=\\r\\nr:#5F6368; font-family:&quot;Roboto&quot;, OpenSans, &quot;Open Sans&quot;,=\\r\\n Arial, sans-serif; font-size:12px; line-height:17px; margin:0; padding:0 8=\\r\\n0px 0 80px; text-align:center; word-break:normal;direction:ltr;\" dir=3Dltr>=\\r\\nReplies to this email aren&#39;t monitored. If you have a question about yo=\\r\\nur new account, the <a href=3Dhttps://www.google.com/appserve/mkt/p/AD-FnEz=\\r\\nVyANVFOHWOp5s17a0A8E7m97e9KHEbty6E6J8iLo878hM-fGNtZMlGe3B3xhSi6BNU7muAwmje9=\\r\\ng3xFbj0isNoS30nrU5k4-E75Df5Q4iGDBFify2hDrMrNkWNs8D8qOvjjtZeU81n8Iby-w_pm3X7=\\r\\njKxjjL1S_FKU7vhvVXLkbi4YFYBr3hbPYVe-xE-ctsU0g target=3D_blank style=3D\"colo=\\r\\nr:#1A73E8; text-decoration:none; text-decoration:none !important; font-weig=\\r\\nht:normal; border:0; ; white-space: nowrap;\">Help Center</a> likely has the=\\r\\n answer you&#39;re looking for.</td>\\r\\n                          </tr>\\r\\n                          <tr><td height=3D19></td></tr>\\r\\n                          <tr>\\r\\n                            <td class=3Dspace6 valign=3Dmiddle style=3D\"col=\\r\\nor:#777; font-family:&quot;Roboto&quot;, OpenSans, &quot;Open Sans&quot;, A=\\r\\nrial, sans-serif; font-size:10px; line-height:14px; margin:0; padding:0 80p=\\r\\nx 0 80px; text-align:center\" align=3Dcenter>\\r\\n=20\\r\\n\\r\\n      <span style=3D\"font-size:inherit; color:inherit; font-weight:inherit;=\\r\\n line-height:inherit; font-family:inherit;\">Google LLC<br>1600 Amphitheatre=\\r\\n Parkway,<br>Mountain View, CA 94043</span>\\r\\n  =20\\r\\n  =20\\r\\n<br><br><span style=3Dword-break:normal;direction:ltr; dir=3Dltr>This email=\\r\\n was sent to you because you created a Google Account.</span></td>\\r\\n                          </tr>\\r\\n                        </table>\\r\\n                      </td>\\r\\n                  </tr>\\r\\n                  <tr><td height=3D18></td></tr>\\r\\n        </table>\\r\\n   =20\\r\\n      </center>\\r\\n    <img height=3D1 width=3D3 src=3Dhttps://www.google.com/appserve/mkt/img=\\r\\n/AD-FnExuwJ46R6Bhw9s_Di9XIlluhJcA5V6JCc4B6w0aA_qptAU.gif></body>\\r\\n  </html>\\r\\n\\r\\n\\r\\n--0000000000003eff1605acd58abc--\\r\\n'\n"
     ]
    },
    {
     "name": "stdout",
     "output_type": "stream",
     "text": [
      "b'Delivered-To: realsherlockholmes9@gmail.com\\r\\nReceived: by 2002:a17:906:3e17:0:0:0:0 with SMTP id k23csp91283eji;\\r\\n        Wed, 19 Aug 2020 00:01:56 -0700 (PDT)\\r\\nX-Received: by 2002:ae9:ef8d:: with SMTP id d135mr20638927qkg.477.1597820516446;\\r\\n        Wed, 19 Aug 2020 00:01:56 -0700 (PDT)\\r\\nARC-Seal: i=1; a=rsa-sha256; t=1597820516; cv=none;\\r\\n        d=google.com; s=arc-20160816;\\r\\n        b=PziXKiUwVXgCpgJdVi60UJVL9DDReSr+cP8Rv5wUnGNuUCn+1Pw9fwxCsTRYFF5mEs\\r\\n         c/AibukQ6mCc2d0SD3eG9n3n/kbv7YEZt+UQR9t7iDR4zWlKKGfKQxRa/5UI7L1BbRT4\\r\\n         Maf3Hckp0MeH3NbErTOn6RL8xbYBKT3ZECR3DVeiSg5zhRcXBLXLtOmcAMXseBGzIYUK\\r\\n         lGPV2v/OWcslM237NDut+vrQmmjwVVFnSm0rzJbDpRPQBu2NDT3UQedp0x4wXN7/6xF9\\r\\n         7D/DMNU/vdCsVJlWsbkdcZch4FyIOqCYOAz6NUswebplCLYpZu76l9ZPnPBqeNThS85s\\r\\n         lGxg==\\r\\nARC-Message-Signature: i=1; a=rsa-sha256; c=relaxed/relaxed; d=google.com; s=arc-20160816;\\r\\n        h=to:from:subject:message-id:feedback-id:date:mime-version\\r\\n         :dkim-signature;\\r\\n        bh=jwehl+Qs6DR9Mj98ATXA+zmc3mtwPk2aX+kqqXFpEfI=;\\r\\n        b=ma5MdNIBahyiYbzb1meeK+OohFsD3y0xHvALyhR5jtgIh4NGAEBmCc+qHq2yVLEKzy\\r\\n         qxQN/oRK+UgPIB6KGMGE/kg39XyzzVfDgpYAfwhSxashf257QQcbJAAEsFGBtSoN7rZe\\r\\n         66Sjuw8S/BR/Hhguy5U8+awvaXi9MumQEuZXIB61nNnZ8H0Kq1nxR0zZ22/5I3IA+WQF\\r\\n         jKDI+M2HeEcNpmBXRgmSYpicdmNk0ipqT0wdHQm3LHl6cBCspTWSEVPT/xI4ruekO0NC\\r\\n         XascKZV7cLE8OVYYFQdyzekmYwpdi1SN9Sl78HbxKqnGSlsAv+SRH4rHm5X6Bb7WT5FJ\\r\\n         C05g==\\r\\nARC-Authentication-Results: i=1; mx.google.com;\\r\\n       dkim=pass header.i=@accounts.google.com header.s=20161025 header.b=vhEnbyeQ;\\r\\n       spf=pass (google.com: domain of 3y848xwgtapihi-lyjfsuwwiohnm.aiiafy.wig@gaia.bounces.google.com designates 209.85.220.73 as permitted sender) smtp.mailfrom=3Y848XwgTAPIhi-lYjfsUWWiohnm.aiiafY.Wig@gaia.bounces.google.com;\\r\\n       dmarc=pass (p=REJECT sp=REJECT dis=NONE) header.from=accounts.google.com\\r\\nReturn-Path: <3Y848XwgTAPIhi-lYjfsUWWiohnm.aiiafY.Wig@gaia.bounces.google.com>\\r\\nReceived: from mail-sor-f73.google.com (mail-sor-f73.google.com. [209.85.220.73])\\r\\n        by mx.google.com with SMTPS id j8sor10934282qkk.50.2020.08.19.00.01.55\\r\\n        for <realsherlockholmes9@gmail.com>\\r\\n        (Google Transport Security);\\r\\n        Wed, 19 Aug 2020 00:01:56 -0700 (PDT)\\r\\nReceived-SPF: pass (google.com: domain of 3y848xwgtapihi-lyjfsuwwiohnm.aiiafy.wig@gaia.bounces.google.com designates 209.85.220.73 as permitted sender) client-ip=209.85.220.73;\\r\\nAuthentication-Results: mx.google.com;\\r\\n       dkim=pass header.i=@accounts.google.com header.s=20161025 header.b=vhEnbyeQ;\\r\\n       spf=pass (google.com: domain of 3y848xwgtapihi-lyjfsuwwiohnm.aiiafy.wig@gaia.bounces.google.com designates 209.85.220.73 as permitted sender) smtp.mailfrom=3Y848XwgTAPIhi-lYjfsUWWiohnm.aiiafY.Wig@gaia.bounces.google.com;\\r\\n       dmarc=pass (p=REJECT sp=REJECT dis=NONE) header.from=accounts.google.com\\r\\nDKIM-Signature: v=1; a=rsa-sha256; c=relaxed/relaxed;\\r\\n        d=accounts.google.com; s=20161025;\\r\\n        h=mime-version:date:feedback-id:message-id:subject:from:to;\\r\\n        bh=jwehl+Qs6DR9Mj98ATXA+zmc3mtwPk2aX+kqqXFpEfI=;\\r\\n        b=vhEnbyeQflDMJcrJv9shX/lu58GeTivHVTDTN8O5ysmfajKtYWQeHl3XxsFPgK1mGn\\r\\n         I5H0GXK3UZC/oRFtW4NlyUenznrvwQwJAJWQQf1u+poUSzGbc6MLeDr2ZqiGLjUZYgpU\\r\\n         iBF5H7OtXoq/FV4vZh1O5Ud8HMq6inGXJipI8GE61D+guGry3e1OQ+xQdLPtGbyl53kg\\r\\n         8N3kGyAsX9Pp/AHn3nBpsCuHaZpy86A9/wfyi08wXbX3n8GBAdgTLlCZgSsqdm//d1ut\\r\\n         WLxVEbjHs6/2ypmE8+eYN1+PzXWMjbMLBTsE4BeFBoCn+bd1d4qZHg6yyrae7LqyxHJa\\r\\n         +cYA==\\r\\nX-Google-DKIM-Signature: v=1; a=rsa-sha256; c=relaxed/relaxed;\\r\\n        d=1e100.net; s=20161025;\\r\\n        h=x-gm-message-state:mime-version:date:feedback-id:message-id:subject\\r\\n         :from:to;\\r\\n        bh=jwehl+Qs6DR9Mj98ATXA+zmc3mtwPk2aX+kqqXFpEfI=;\\r\\n        b=ZXLfKni97pmQJlAloR/F0jzYtv1+Wrl7PVKoi3Bez0/1WET+ApOs5mWa+F3xqqe/bL\\r\\n         ewmH1r8fM1tLTQf9SVenjj/zEXdYa2sBbIzuR57YAVO3GrTWUQpJzWyBzdkDMWlbb3fk\\r\\n         rGgHYbXtijSZtghgnznryjQbOFrF071Hu7QlhkGFMPzpYx6/tcUyS4mOT2WM+VJ/0jiX\\r\\n         2/vU6h/sfObhtNouY9mVLBGsmAr2lwiBmZ7mYgl4V7mWW+3mQ+MpNPljFU8eTXBYzDXS\\r\\n         E0TOl7nVBD8GihQYz1aGnV4QbeTyZWJErxsMP2HBX8WQcZqapE9UQGpG8j6pE83PH6/z\\r\\n         Nqaw==\\r\\nX-Gm-Message-State: AOAM532FsrIC4iRonsCsjPE6Gwaw9W5pVs2m3Vfqt7x1OmKJnptvgFW2\\r\\n\\t5EERPpMnAecGYiZzdTMvNph/5nIwAT18\\r\\nX-Google-Smtp-Source: ABdhPJyxv8CCSyagPw2njSWvyNpvVHVdbRHJGohHGJmHDC0b1qUb9Rl78wySLYoP1ZYX7eDamqrKRI08D0nmNUEYTNTFTQ==\\r\\nMIME-Version: 1.0\\r\\nX-Received: by 2002:a05:620a:2230:: with SMTP id n16mr19934156qkh.226.1597820515488;\\r\\n Wed, 19 Aug 2020 00:01:55 -0700 (PDT)\\r\\nDate: Wed, 19 Aug 2020 01:43:13 GMT\\r\\nX-Account-Notification-Type: 188-anexp#sapef-a1--saprf-original--saprfsm-const--saphpraf-f1\\r\\nFeedback-ID: 188-anexp#sapef-a1--saprf-original--saprfsm-const--saphpraf-f1:account-notifier\\r\\nX-Notifications: 8ae781cfb1800000\\r\\nMessage-ID: <cetUgF0BaFvxmMQcFc4Bcw.0@notifications.google.com>\\r\\nSubject: Help strengthen the security of your Google Account\\r\\nFrom: Google <no-reply@accounts.google.com>\\r\\nTo: realsherlockholmes9@gmail.com\\r\\nContent-Type: multipart/alternative; boundary=\"0000000000003d930005ad359469\"\\r\\n\\r\\n--0000000000003d930005ad359469\\r\\nContent-Type: text/plain; charset=\"UTF-8\"; format=flowed; delsp=yes\\r\\nContent-Transfer-Encoding: base64\\r\\n\\r\\nW2ltYWdlOiBHb29nbGVdDQoNCg0KDQpBZGQgd2F5cyBmb3IgdXMgdG8gbWFrZSBzdXJlIGl0J3Mg\\r\\neW91DQoNCg0KcmVhbHNoZXJsb2NraG9sbWVzOUBnbWFpbC5jb20NCg0KDQpVc2VycyB3aXRoIGV4\\r\\ndHJhIHdheXMgdG8gdmVyaWZ5IHRoZWlyIGlkZW50aXR5IGFyZSBmYXIgbGVzcyBsaWtlbHkgdG8g\\r\\nYmUNCmhhY2tlZCBvciBsb2NrZWQgb3V0Lg0KQWRkIGFkZGl0aW9uYWwgd2F5cyB0byBwcm92ZSBp\\r\\ndCdzIHJlYWxseSB5b3UgYW5kIHNlZSBvdGhlciBwZXJzb25hbGl6ZWQNCnNlY3VyaXR5IHJlY29t\\r\\nbWVuZGF0aW9ucyBpbiB0aGUgU2VjdXJpdHkgQ2hlY2t1cA0KPGh0dHBzOi8vYWNjb3VudHMuZ29v\\r\\nZ2xlLmNvbS9BY2NvdW50Q2hvb3Nlcj9FbWFpbD1yZWFsc2hlcmxvY2tob2xtZXM5QGdtYWlsLmNv\\r\\nbSZjb250aW51ZT1odHRwczovL215YWNjb3VudC5nb29nbGUuY29tL3NlY3VyaXR5LWNoZWNrdXA/\\r\\ndXRtX3NvdXJjZSUzRGdvb2dsZSUyNnV0bV9tZWRpdW0lM0RlbWFpbCUyNnV0bV9jYW1wYWlnbiUz\\r\\nRHNhcCUyNmFuZWlkJTNEMzE1OTkzOTc0ODI0MTMzMTUwOSUyNnNlYSUzRDE4JTI2cmZuJTNEMTU5\\r\\nNzgwMTM5Mzk2MSUyNmFuZXhwJTNEc2FwZWYtYTEtLXNhcHJmLW9yaWdpbmFsLS1zYXByZnNtLWNv\\r\\nbnN0LS1zYXBocHJhZi1mMT4NCi4NClRha2UgYWN0aW9uDQo8aHR0cHM6Ly9hY2NvdW50cy5nb29n\\r\\nbGUuY29tL0FjY291bnRDaG9vc2VyP0VtYWlsPXJlYWxzaGVybG9ja2hvbG1lczlAZ21haWwuY29t\\r\\nJmNvbnRpbnVlPWh0dHBzOi8vbXlhY2NvdW50Lmdvb2dsZS5jb20vc2VjdXJpdHktY2hlY2t1cD91\\r\\ndG1fc291cmNlJTNEZ29vZ2xlJTI2dXRtX21lZGl1bSUzRGVtYWlsJTI2dXRtX2NhbXBhaWduJTNE\\r\\nc2FwJTI2YW5laWQlM0QzMTU5OTM5NzQ4MjQxMzMxNTA5JTI2c2VhJTNEMTglMjZyZm4lM0QxNTk3\\r\\nODAxMzkzOTYxJTI2YW5leHAlM0RzYXBlZi1hMS0tc2FwcmYtb3JpZ2luYWwtLXNhcHJmc20tY29u\\r\\nc3QtLXNhcGhwcmFmLWYxPg0KWW91IGNhbiBhbHNvIGdvIGRpcmVjdGx5IHRvOg0KaHR0cHM6Ly9t\\r\\neWFjY291bnQuZ29vZ2xlLmNvbS9zZWN1cml0eS1jaGVja3VwDQpZb3UgcmVjZWl2ZWQgdGhpcyBl\\r\\nbWFpbCB0byBsZXQgeW91IGtub3cgYWJvdXQgaW1wb3J0YW50IGNoYW5nZXMgdG8geW91cg0KR29v\\r\\nZ2xlIEFjY291bnQgYW5kIHNlcnZpY2VzLg0KwqkgMjAyMCBHb29nbGUgTExDLCAxNjAwIEFtcGhp\\r\\ndGhlYXRyZSBQYXJrd2F5LCBNb3VudGFpbiBWaWV3LCBDQSA5NDA0MywgVVNBDQo=\\r\\n--0000000000003d930005ad359469\\r\\nContent-Type: text/html; charset=\"UTF-8\"\\r\\nContent-Transfer-Encoding: quoted-printable\\r\\n\\r\\n<!DOCTYPE html><html lang=3D\"en\"><head><meta name=3D\"format-detection\" cont=\\r\\nent=3D\"email=3Dno\"/><meta name=3D\"format-detection\" content=3D\"date=3Dno\"/>=\\r\\n<style nonce=3D\"l4+EAdfFLlosPtiVZrVGHg\">.awl a {color: #FFFFFF; text-decora=\\r\\ntion: none;} .abml a {color: #000000; font-family: Roboto-Medium,Helvetica,=\\r\\nArial,sans-serif; font-weight: bold; text-decoration: none;} .adgl a {color=\\r\\n: rgba(0, 0, 0, 0.87); text-decoration: none;} .afal a {color: #b0b0b0; tex=\\r\\nt-decoration: none;} @media screen and (min-width: 600px) {.v2sp {padding: =\\r\\n6px 30px 0px;} .v2rsp {padding: 0px 10px;}} @media screen and (min-width: 6=\\r\\n00px) {.mdv2rw {padding: 40px 40px;}} </style><link href=3D\"//fonts.googlea=\\r\\npis.com/css?family=3DGoogle+Sans\" rel=3D\"stylesheet\" type=3D\"text/css\"/></h=\\r\\nead><body style=3D\"margin: 0; padding: 0;\" bgcolor=3D\"#FFFFFF\"><table width=\\r\\n=3D\"100%\" height=3D\"100%\" style=3D\"min-width: 348px;\" border=3D\"0\" cellspac=\\r\\ning=3D\"0\" cellpadding=3D\"0\" lang=3D\"en\"><tr height=3D\"32\" style=3D\"height: =\\r\\n32px;\"><td></td></tr><tr align=3D\"center\"><td><div itemscope itemtype=3D\"//=\\r\\nschema.org/EmailMessage\"><div itemprop=3D\"action\" itemscope itemtype=3D\"//s=\\r\\nchema.org/ViewAction\"><link itemprop=3D\"url\" href=3D\"https://accounts.googl=\\r\\ne.com/AccountChooser?Email=3Drealsherlockholmes9@gmail.com&amp;continue=3Dh=\\r\\nttps://myaccount.google.com/security-checkup?utm_source%3Dgoogle%26utm_medi=\\r\\num%3Demail%26utm_campaign%3Dsap%26aneid%3D3159939748241331509%26sea%3D18%26=\\r\\nrfn%3D1597801393961%26anexp%3Dsapef-a1--saprf-original--saprfsm-const--saph=\\r\\npraf-f1\"/><meta itemprop=3D\"name\" content=3D\"Review Activity\"/></div></div>=\\r\\n<table border=3D\"0\" cellspacing=3D\"0\" cellpadding=3D\"0\" style=3D\"padding-bo=\\r\\nttom: 20px; max-width: 516px; min-width: 220px;\"><tr><td width=3D\"8\" style=\\r\\n=3D\"width: 8px;\"></td><td><div style=3D\"border-style: solid; border-width: =\\r\\nthin; border-color:#dadce0; border-radius: 8px; padding: 40px 20px;\" align=\\r\\n=3D\"center\" class=3D\"mdv2rw\"><img src=3D\"https://www.gstatic.com/images/bra=\\r\\nnding/googlelogo/2x/googlelogo_color_74x24dp.png\" width=3D\"74\" height=3D\"24=\\r\\n\" aria-hidden=3D\"true\" style=3D\"margin-bottom: 16px;\" alt=3D\"Google\"><div s=\\r\\ntyle=3D\"font-family: &#39;Google Sans&#39;,Roboto,RobotoDraft,Helvetica,Ari=\\r\\nal,sans-serif;border-bottom: thin solid #dadce0; color: rgba(0,0,0,0.87); l=\\r\\nine-height: 32px; padding-bottom: 24px;padding-bottom: 32px;text-align: cen=\\r\\nter; word-break: break-word;\"><div style=3D\"font-size: 24px;\"><table style=\\r\\n=3D\"font-family: &#39;Google Sans&#39;,Roboto,RobotoDraft,Helvetica,Arial,s=\\r\\nans-serif;font-size: 24px; line-height: 28px; text-align: center; width: 10=\\r\\n0%;\"><tr><td><a><img width=3D\"103\" height=3D\"90\" src=3D\"https://www.gstatic=\\r\\n.com/accountalerts/email/sa_shield_yellow_161017_103x90@2.png\" style=3D\"wid=\\r\\nth: 103px; height: 90px;\" alt=3D\"\"/></a></td></tr><tr><td style=3D\"font-fam=\\r\\nily: inherit;\">Add ways for us to make sure it\\'s&nbsp;you</td></tr></table>=\\r\\n</div><table align=3D\"center\" style=3D\"margin-top:8px;\"><tr style=3D\"line-h=\\r\\neight: normal;\"><td align=3D\"right\" style=3D\"padding-right:8px;\"><img width=\\r\\n=3D\"20\" height=3D\"20\" style=3D\"width: 20px; height: 20px; vertical-align: s=\\r\\nub; border-radius: 50%;;\" src=3D\"https://lh3.googleusercontent.com/a-/AOh14=\\r\\nGhn3S91HgYobvHxzf1qGUfgi3vJ5EF6Q1laaN8_=3Ds96\" alt=3D\"\"></td><td><a style=\\r\\n=3D\"font-family: &#39;Google Sans&#39;,Roboto,RobotoDraft,Helvetica,Arial,s=\\r\\nans-serif;color: rgba(0,0,0,0.87); font-size: 14px; line-height: 20px;\">rea=\\r\\nlsherlockholmes9@gmail.com</a></td></tr></table></div><div style=3D\"font-fa=\\r\\nmily: Roboto-Regular,Helvetica,Arial,sans-serif; font-size: 14px; color: rg=\\r\\nba(0,0,0,0.87); line-height: 20px;padding-top: 20px; text-align: left;\"><ta=\\r\\nble style=3D\"font-size: 14px; letter-spacing: 0.2; line-height: 20px; text-=\\r\\nalign: center;\"><tr><td style=3D\"padding-bottom: 24px; text-align: start;\">=\\r\\nUsers with extra ways to verify their identity are far less likely to be ha=\\r\\ncked or locked&nbsp;out.<div style=3D\"height: 13px;\"></div>Add additional w=\\r\\nays to prove it\\'s really you and see other personalized security recommenda=\\r\\ntions in the <a href=3D\"https://accounts.google.com/AccountChooser?Email=3D=\\r\\nrealsherlockholmes9@gmail.com&amp;continue=3Dhttps://myaccount.google.com/s=\\r\\necurity-checkup?utm_source%3Dgoogle%26utm_medium%3Demail%26utm_campaign%3Ds=\\r\\nap%26aneid%3D3159939748241331509%26sea%3D18%26rfn%3D1597801393961%26anexp%3=\\r\\nDsapef-a1--saprf-original--saprfsm-const--saphpraf-f1\" target=3D\"_blank\" li=\\r\\nnk-id=3D\"content-main-link\">Security&nbsp;Checkup</a>.</td></tr><tr><td><a =\\r\\nhref=3D\"https://accounts.google.com/AccountChooser?Email=3Drealsherlockholm=\\r\\nes9@gmail.com&amp;continue=3Dhttps://myaccount.google.com/security-checkup?=\\r\\nutm_source%3Dgoogle%26utm_medium%3Demail%26utm_campaign%3Dsap%26aneid%3D315=\\r\\n9939748241331509%26sea%3D18%26rfn%3D1597801393961%26anexp%3Dsapef-a1--saprf=\\r\\n-original--saprfsm-const--saphpraf-f1\" target=3D\"_blank\" data-meta-key=3D\"g=\\r\\no-to-sa\" link-id=3D\"main-button-link\" style=3D\"font-family: &#39;Google San=\\r\\ns&#39;,Roboto,RobotoDraft,Helvetica,Arial,sans-serif; line-height: 16px; co=\\r\\nlor: #ffffff; font-weight: 400; text-decoration: none;font-size: 13px;displ=\\r\\nay:inline-block;padding: 6px 24px;background-color: #4184F3; border-radius:=\\r\\n 5px; min-width: 90px;\">Take action</a></td></tr><tr style=3D\"color: rgba(0=\\r\\n, 0, 0, 0.54); font-size: 12px; line-height: 150%; text-align: center;\"><td=\\r\\n style=3D\"padding-top: 12px\">You can also go directly to:<br><a class=3D\"ad=\\r\\ngl\" style=3D\"color: rgba(0, 0, 0, 0.87);text-decoration: inherit;\">https://=\\r\\nmyaccount.google.com/security-checkup</a></td></tr></table></div></div><div=\\r\\n style=3D\"text-align: center;\"><div style=3D\"font-family: Roboto-Regular,He=\\r\\nlvetica,Arial,sans-serif;color: rgba(0,0,0,0.54); font-size: 11px; line-hei=\\r\\nght: 18px; padding-top: 12px; text-align: center;\"><div>You received this e=\\r\\nmail to let you know about important changes to your Google Account and ser=\\r\\nvices.</div><div style=3D\"direction: ltr;\">&copy; 2020 Google LLC, <a class=\\r\\n=3D\"afal\" style=3D\"font-family: Roboto-Regular,Helvetica,Arial,sans-serif;c=\\r\\nolor: rgba(0,0,0,0.54); font-size: 11px; line-height: 18px; padding-top: 12=\\r\\npx; text-align: center;\">1600 Amphitheatre Parkway, Mountain View, CA 94043=\\r\\n, USA</a></div></div></div></td><td width=3D\"8\" style=3D\"width: 8px;\"></td>=\\r\\n</tr></table></td></tr><tr height=3D\"32\" style=3D\"height: 32px;\"><td></td><=\\r\\n/tr></table></body></html>\\r\\n--0000000000003d930005ad359469--\\r\\n'\n"
     ]
    },
    {
     "data": {
      "text/plain": [
       "('BYE', [b'LOGOUT Requested'])"
      ]
     },
     "execution_count": 14,
     "metadata": {},
     "output_type": "execute_result"
    }
   ],
   "source": [
    "import imaplib\n",
    "\n",
    "# Connect to the IMAP server\n",
    "imap_server = imaplib.IMAP4_SSL('imap.gmail.com')\n",
    "\n",
    "# Log in to your email account\n",
    "imap_server.login(email, password)\n",
    "\n",
    "# Select a mailbox (e.g., Inbox)\n",
    "imap_server.select('INBOX')\n",
    "\n",
    "# Search for emails\n",
    "status, email_ids = imap_server.search(None, 'ALL')\n",
    "\n",
    "# Fetch and print email details\n",
    "for email_id in email_ids[0][:3].split():\n",
    "    status, email_data = imap_server.fetch(email_id, '(RFC822)')\n",
    "    print(email_data[0][1])\n",
    "\n",
    "# Close the connection\n",
    "imap_server.close()\n",
    "imap_server.logout()"
   ]
  },
  {
   "cell_type": "markdown",
   "id": "4a90c2f4",
   "metadata": {},
   "source": [
    "## Thank You"
   ]
  }
 ],
 "metadata": {
  "kernelspec": {
   "display_name": "Python 3 (ipykernel)",
   "language": "python",
   "name": "python3"
  },
  "language_info": {
   "codemirror_mode": {
    "name": "ipython",
    "version": 3
   },
   "file_extension": ".py",
   "mimetype": "text/x-python",
   "name": "python",
   "nbconvert_exporter": "python",
   "pygments_lexer": "ipython3",
   "version": "3.10.9"
  },
  "widgets": {
   "application/vnd.jupyter.widget-state+json": {
    "state": {},
    "version_major": 2,
    "version_minor": 0
   }
  }
 },
 "nbformat": 4,
 "nbformat_minor": 5
}
