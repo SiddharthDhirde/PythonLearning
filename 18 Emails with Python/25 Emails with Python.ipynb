{
 "cells": [
  {
   "cell_type": "markdown",
   "id": "b12013d4",
   "metadata": {},
   "source": [
    "# Om Namah Shivay"
   ]
  },
  {
   "cell_type": "markdown",
   "id": "241c1997",
   "metadata": {},
   "source": [
    "# 24-10-2022\n",
    "# 134-135 Emails with Python"
   ]
  },
  {
   "cell_type": "code",
   "execution_count": 9,
   "id": "9b05ecff",
   "metadata": {},
   "outputs": [],
   "source": [
    "# Sending Emails"
   ]
  },
  {
   "cell_type": "code",
   "execution_count": 1,
   "id": "ee7ccd2e",
   "metadata": {},
   "outputs": [],
   "source": [
    "import smtplib"
   ]
  },
  {
   "cell_type": "code",
   "execution_count": 2,
   "id": "2cd12ea0",
   "metadata": {},
   "outputs": [],
   "source": [
    "smtp_object = smtplib.SMTP('smtp.gmail.com',587) # port=465"
   ]
  },
  {
   "cell_type": "code",
   "execution_count": 3,
   "id": "b10aa23b",
   "metadata": {},
   "outputs": [
    {
     "data": {
      "text/plain": [
       "(250,\n",
       " b'smtp.gmail.com at your service, [2401:4900:5032:e58b:a96f:5423:a811:7610]\\nSIZE 35882577\\n8BITMIME\\nSTARTTLS\\nENHANCEDSTATUSCODES\\nPIPELINING\\nCHUNKING\\nSMTPUTF8')"
      ]
     },
     "execution_count": 3,
     "metadata": {},
     "output_type": "execute_result"
    }
   ],
   "source": [
    "smtp_object.ehlo()"
   ]
  },
  {
   "cell_type": "code",
   "execution_count": 4,
   "id": "fdfe6981",
   "metadata": {},
   "outputs": [
    {
     "data": {
      "text/plain": [
       "(220, b'2.0.0 Ready to start TLS')"
      ]
     },
     "execution_count": 4,
     "metadata": {},
     "output_type": "execute_result"
    }
   ],
   "source": [
    "smtp_object.starttls()"
   ]
  },
  {
   "cell_type": "code",
   "execution_count": 6,
   "id": "47deb4c8",
   "metadata": {},
   "outputs": [
    {
     "name": "stdout",
     "output_type": "stream",
     "text": [
      "What is your password: visible pass\n"
     ]
    }
   ],
   "source": [
    "password = input('What is your password: ')"
   ]
  },
  {
   "cell_type": "code",
   "execution_count": null,
   "id": "aba53057",
   "metadata": {},
   "outputs": [],
   "source": []
  },
  {
   "cell_type": "code",
   "execution_count": 5,
   "id": "555778e3",
   "metadata": {},
   "outputs": [],
   "source": [
    "import getpass"
   ]
  },
  {
   "cell_type": "code",
   "execution_count": 8,
   "id": "01bc4dcf",
   "metadata": {},
   "outputs": [
    {
     "name": "stdout",
     "output_type": "stream",
     "text": [
      "Please Enter Password: ········\n"
     ]
    }
   ],
   "source": [
    "password = getpass.getpass(\"Please Enter Password: \")"
   ]
  },
  {
   "cell_type": "code",
   "execution_count": null,
   "id": "b2875069",
   "metadata": {},
   "outputs": [],
   "source": []
  },
  {
   "cell_type": "code",
   "execution_count": 6,
   "id": "8526edad",
   "metadata": {},
   "outputs": [
    {
     "name": "stdout",
     "output_type": "stream",
     "text": [
      "Email: ········\n",
      "Password: ········\n"
     ]
    },
    {
     "data": {
      "text/plain": [
       "(235, b'2.7.0 Accepted')"
      ]
     },
     "execution_count": 6,
     "metadata": {},
     "output_type": "execute_result"
    }
   ],
   "source": [
    "email = getpass.getpass('Email: ')\n",
    "password = getpass.getpass(\"Password: \")\n",
    "smtp_object.login(email,password)"
   ]
  },
  {
   "cell_type": "code",
   "execution_count": 7,
   "id": "5414b34a",
   "metadata": {},
   "outputs": [
    {
     "name": "stdout",
     "output_type": "stream",
     "text": [
      "Enter the Sunject line: New Test Python Email\n",
      "Enter the Body Message: Working with Emails on Diwali - 24-10-2022, Monday\n"
     ]
    },
    {
     "data": {
      "text/plain": [
       "{}"
      ]
     },
     "execution_count": 7,
     "metadata": {},
     "output_type": "execute_result"
    }
   ],
   "source": [
    "from_address = email\n",
    "to_address = email\n",
    "subject = input(\"Enter the Sunject line: \")\n",
    "message = input(\"Enter the Body Message: \")\n",
    "msg = 'Subject: '+subject+'\\n'+message\n",
    "\n",
    "smtp_object.sendmail(from_address,to_address,msg)"
   ]
  },
  {
   "cell_type": "code",
   "execution_count": 8,
   "id": "0df0d03c",
   "metadata": {},
   "outputs": [
    {
     "data": {
      "text/plain": [
       "(221,\n",
       " b'2.0.0 closing connection p65-20020a625b44000000b0053e4296e1d3sm19079721pfb.198 - gsmtp')"
      ]
     },
     "execution_count": 8,
     "metadata": {},
     "output_type": "execute_result"
    }
   ],
   "source": [
    "smtp_object.quit()"
   ]
  },
  {
   "cell_type": "code",
   "execution_count": null,
   "id": "1223695d",
   "metadata": {},
   "outputs": [],
   "source": []
  },
  {
   "cell_type": "code",
   "execution_count": null,
   "id": "310134ff",
   "metadata": {},
   "outputs": [],
   "source": []
  },
  {
   "cell_type": "code",
   "execution_count": null,
   "id": "d2492717",
   "metadata": {},
   "outputs": [],
   "source": []
  },
  {
   "cell_type": "code",
   "execution_count": null,
   "id": "69071c37",
   "metadata": {},
   "outputs": [],
   "source": []
  },
  {
   "cell_type": "code",
   "execution_count": 10,
   "id": "5417f69e",
   "metadata": {},
   "outputs": [],
   "source": [
    "# Receiving Emails"
   ]
  },
  {
   "cell_type": "code",
   "execution_count": 11,
   "id": "68ec126f",
   "metadata": {},
   "outputs": [],
   "source": [
    "import imaplib"
   ]
  },
  {
   "cell_type": "code",
   "execution_count": 12,
   "id": "f639a90f",
   "metadata": {},
   "outputs": [],
   "source": [
    "M = imaplib.IMAP4_SSL('imap.gmail.com')"
   ]
  },
  {
   "cell_type": "code",
   "execution_count": 13,
   "id": "fb4de54b",
   "metadata": {},
   "outputs": [],
   "source": [
    "import getpass"
   ]
  },
  {
   "cell_type": "code",
   "execution_count": 14,
   "id": "0106f11b",
   "metadata": {},
   "outputs": [
    {
     "name": "stdout",
     "output_type": "stream",
     "text": [
      "Email: ········\n",
      "Password: ········\n"
     ]
    }
   ],
   "source": [
    "email = getpass.getpass('Email: ')\n",
    "password = getpass.getpass('Password: ')"
   ]
  },
  {
   "cell_type": "code",
   "execution_count": 15,
   "id": "a350bf24",
   "metadata": {},
   "outputs": [],
   "source": [
    "# zsyggmbupljvjbek"
   ]
  },
  {
   "cell_type": "code",
   "execution_count": 16,
   "id": "e3a882a7",
   "metadata": {},
   "outputs": [
    {
     "data": {
      "text/plain": [
       "('OK', [b'iamthebestdesktop@gmail.com authenticated (Success)'])"
      ]
     },
     "execution_count": 16,
     "metadata": {},
     "output_type": "execute_result"
    }
   ],
   "source": [
    "M.login(email,password)"
   ]
  },
  {
   "cell_type": "code",
   "execution_count": 17,
   "id": "4501ca81",
   "metadata": {},
   "outputs": [
    {
     "data": {
      "text/plain": [
       "('OK',\n",
       " [b'(\\\\HasNoChildren) \"/\" \"INBOX\"',\n",
       "  b'(\\\\HasChildren \\\\Noselect) \"/\" \"[Gmail]\"',\n",
       "  b'(\\\\All \\\\HasNoChildren) \"/\" \"[Gmail]/All Mail\"',\n",
       "  b'(\\\\HasNoChildren \\\\Trash) \"/\" \"[Gmail]/Bin\"',\n",
       "  b'(\\\\Drafts \\\\HasNoChildren) \"/\" \"[Gmail]/Drafts\"',\n",
       "  b'(\\\\HasNoChildren \\\\Important) \"/\" \"[Gmail]/Important\"',\n",
       "  b'(\\\\HasNoChildren \\\\Sent) \"/\" \"[Gmail]/Sent Mail\"',\n",
       "  b'(\\\\HasNoChildren \\\\Junk) \"/\" \"[Gmail]/Spam\"',\n",
       "  b'(\\\\Flagged \\\\HasNoChildren) \"/\" \"[Gmail]/Starred\"'])"
      ]
     },
     "execution_count": 17,
     "metadata": {},
     "output_type": "execute_result"
    }
   ],
   "source": [
    "M.list()"
   ]
  },
  {
   "cell_type": "code",
   "execution_count": 18,
   "id": "03d43bea",
   "metadata": {},
   "outputs": [
    {
     "data": {
      "text/plain": [
       "('OK', [b'73'])"
      ]
     },
     "execution_count": 18,
     "metadata": {},
     "output_type": "execute_result"
    }
   ],
   "source": [
    "M.select('inbox')"
   ]
  },
  {
   "cell_type": "code",
   "execution_count": 19,
   "id": "1a7d6440",
   "metadata": {},
   "outputs": [
    {
     "data": {
      "text/plain": [
       "<function tuple.count(value, /)>"
      ]
     },
     "execution_count": 19,
     "metadata": {},
     "output_type": "execute_result"
    }
   ],
   "source": [
    "M.select('inbox').count"
   ]
  },
  {
   "cell_type": "code",
   "execution_count": 23,
   "id": "a280dea5",
   "metadata": {},
   "outputs": [
    {
     "data": {
      "text/plain": [
       "<function tuple.index(value, start=0, stop=2147483647, /)>"
      ]
     },
     "execution_count": 23,
     "metadata": {},
     "output_type": "execute_result"
    }
   ],
   "source": [
    "M.select('inbox').index"
   ]
  },
  {
   "cell_type": "code",
   "execution_count": 24,
   "id": "0910ef4a",
   "metadata": {},
   "outputs": [
    {
     "data": {
      "text/plain": [
       "tuple"
      ]
     },
     "execution_count": 24,
     "metadata": {},
     "output_type": "execute_result"
    }
   ],
   "source": [
    "type(M.select('inbox'))"
   ]
  },
  {
   "cell_type": "code",
   "execution_count": 25,
   "id": "fe379a28",
   "metadata": {},
   "outputs": [
    {
     "data": {
      "text/plain": [
       "imaplib.IMAP4_SSL"
      ]
     },
     "execution_count": 25,
     "metadata": {},
     "output_type": "execute_result"
    }
   ],
   "source": [
    "type(M)"
   ]
  },
  {
   "cell_type": "code",
   "execution_count": null,
   "id": "fbf67076",
   "metadata": {},
   "outputs": [],
   "source": []
  },
  {
   "cell_type": "code",
   "execution_count": null,
   "id": "3702f92b",
   "metadata": {},
   "outputs": [],
   "source": []
  },
  {
   "cell_type": "code",
   "execution_count": 26,
   "id": "2ab74091",
   "metadata": {},
   "outputs": [],
   "source": [
    "typ, data = M.search(None, 'BEFORE 01-Nov-2022')"
   ]
  },
  {
   "cell_type": "code",
   "execution_count": 27,
   "id": "ab4410da",
   "metadata": {},
   "outputs": [
    {
     "data": {
      "text/plain": [
       "'OK'"
      ]
     },
     "execution_count": 27,
     "metadata": {},
     "output_type": "execute_result"
    }
   ],
   "source": [
    "typ"
   ]
  },
  {
   "cell_type": "code",
   "execution_count": 28,
   "id": "9f19e120",
   "metadata": {
    "scrolled": true
   },
   "outputs": [
    {
     "data": {
      "text/plain": [
       "[b'1 2 3 4 5 6 7 8 9 10 11 12 13 14 15 16 17 18 19 20 21 22 23 24 25 26 27 28 29 30 31 32 33 34 35 36 37 38 39 40 41 42 43 44 45 46 47 48 49 50 51 52 53 54 55 56 57 58 59 60 61 62 63 64 65 66 67 68 69 70 71 72 73']"
      ]
     },
     "execution_count": 28,
     "metadata": {},
     "output_type": "execute_result"
    }
   ],
   "source": [
    "data"
   ]
  },
  {
   "cell_type": "code",
   "execution_count": 29,
   "id": "c6b282f9",
   "metadata": {},
   "outputs": [
    {
     "data": {
      "text/plain": [
       "list"
      ]
     },
     "execution_count": 29,
     "metadata": {},
     "output_type": "execute_result"
    }
   ],
   "source": [
    "type(data)"
   ]
  },
  {
   "cell_type": "code",
   "execution_count": null,
   "id": "0a73e376",
   "metadata": {},
   "outputs": [],
   "source": []
  },
  {
   "cell_type": "code",
   "execution_count": null,
   "id": "b1f0111f",
   "metadata": {},
   "outputs": [],
   "source": []
  },
  {
   "cell_type": "code",
   "execution_count": null,
   "id": "58b5f140",
   "metadata": {},
   "outputs": [],
   "source": []
  },
  {
   "cell_type": "code",
   "execution_count": 30,
   "id": "56dc6ea2",
   "metadata": {},
   "outputs": [],
   "source": [
    "typ, data = M.search(None, 'FROM iamthebestdesktop@gmail.com')"
   ]
  },
  {
   "cell_type": "code",
   "execution_count": 31,
   "id": "3d382b00",
   "metadata": {},
   "outputs": [
    {
     "data": {
      "text/plain": [
       "[b'72']"
      ]
     },
     "execution_count": 31,
     "metadata": {},
     "output_type": "execute_result"
    }
   ],
   "source": [
    "data"
   ]
  },
  {
   "cell_type": "code",
   "execution_count": 32,
   "id": "a59826af",
   "metadata": {},
   "outputs": [
    {
     "data": {
      "text/plain": [
       "'OK'"
      ]
     },
     "execution_count": 32,
     "metadata": {},
     "output_type": "execute_result"
    }
   ],
   "source": [
    "typ"
   ]
  },
  {
   "cell_type": "code",
   "execution_count": null,
   "id": "e437f4ac",
   "metadata": {},
   "outputs": [],
   "source": []
  },
  {
   "cell_type": "code",
   "execution_count": null,
   "id": "7bf97d1d",
   "metadata": {},
   "outputs": [],
   "source": []
  },
  {
   "cell_type": "code",
   "execution_count": 33,
   "id": "3e0cfc17",
   "metadata": {},
   "outputs": [],
   "source": [
    "typ, data = M.search(None, 'SUBJECT \"New Test Python Email\"')"
   ]
  },
  {
   "cell_type": "code",
   "execution_count": 34,
   "id": "7530b5cb",
   "metadata": {},
   "outputs": [
    {
     "data": {
      "text/plain": [
       "'OK'"
      ]
     },
     "execution_count": 34,
     "metadata": {},
     "output_type": "execute_result"
    }
   ],
   "source": [
    "typ"
   ]
  },
  {
   "cell_type": "code",
   "execution_count": 35,
   "id": "9c4e2f70",
   "metadata": {},
   "outputs": [
    {
     "data": {
      "text/plain": [
       "[b'72']"
      ]
     },
     "execution_count": 35,
     "metadata": {},
     "output_type": "execute_result"
    }
   ],
   "source": [
    "data"
   ]
  },
  {
   "cell_type": "code",
   "execution_count": 37,
   "id": "58166e8c",
   "metadata": {},
   "outputs": [],
   "source": [
    "typ, data = M.search(None, 'Subject \"New Test Python Email\"')"
   ]
  },
  {
   "cell_type": "code",
   "execution_count": 38,
   "id": "bfd516a4",
   "metadata": {},
   "outputs": [
    {
     "data": {
      "text/plain": [
       "[b'72']"
      ]
     },
     "execution_count": 38,
     "metadata": {},
     "output_type": "execute_result"
    }
   ],
   "source": [
    "data"
   ]
  },
  {
   "cell_type": "code",
   "execution_count": 39,
   "id": "a5c411fe",
   "metadata": {},
   "outputs": [
    {
     "data": {
      "text/plain": [
       "type"
      ]
     },
     "execution_count": 39,
     "metadata": {},
     "output_type": "execute_result"
    }
   ],
   "source": [
    "type"
   ]
  },
  {
   "cell_type": "code",
   "execution_count": null,
   "id": "824b6876",
   "metadata": {},
   "outputs": [],
   "source": []
  },
  {
   "cell_type": "code",
   "execution_count": 40,
   "id": "a378fcbf",
   "metadata": {},
   "outputs": [
    {
     "data": {
      "text/plain": [
       "b'72'"
      ]
     },
     "execution_count": 40,
     "metadata": {},
     "output_type": "execute_result"
    }
   ],
   "source": [
    "data[0]"
   ]
  },
  {
   "cell_type": "code",
   "execution_count": 41,
   "id": "9b59458d",
   "metadata": {},
   "outputs": [],
   "source": [
    "email_id = data[0]"
   ]
  },
  {
   "cell_type": "code",
   "execution_count": 42,
   "id": "fee26d48",
   "metadata": {},
   "outputs": [],
   "source": [
    "result, result_data = M.fetch(email_id,'(RFC822)')"
   ]
  },
  {
   "cell_type": "code",
   "execution_count": 43,
   "id": "59d499c0",
   "metadata": {},
   "outputs": [
    {
     "data": {
      "text/plain": [
       "'OK'"
      ]
     },
     "execution_count": 43,
     "metadata": {},
     "output_type": "execute_result"
    }
   ],
   "source": [
    "result"
   ]
  },
  {
   "cell_type": "code",
   "execution_count": 44,
   "id": "572001f7",
   "metadata": {},
   "outputs": [
    {
     "data": {
      "text/plain": [
       "[(b'72 (RFC822 {656}',\n",
       "  b'Bcc: iamthebestdesktop@gmail.com\\r\\nReturn-Path: <iamthebestdesktop@gmail.com>\\r\\nReceived: from [192.168.43.209] ([2401:4900:5032:e58b:a96f:5423:a811:7610])\\r\\n        by smtp.gmail.com with ESMTPSA id p65-20020a625b44000000b0053e4296e1d3sm19079721pfb.198.2022.10.23.22.25.57\\r\\n        for <iamthebestdesktop@gmail.com>\\r\\n        (version=TLS1_3 cipher=TLS_AES_256_GCM_SHA384 bits=256/256);\\r\\n        Sun, 23 Oct 2022 22:25:59 -0700 (PDT)\\r\\nMessage-ID: <635621e7.620a0220.99238.3f27@mx.google.com>\\r\\nDate: Sun, 23 Oct 2022 22:25:59 -0700 (PDT)\\r\\nFrom: iamthebestdesktop@gmail.com\\r\\nSubject: New Test Python Email\\r\\n\\r\\nWorking with Emails on Diwali - 24-10-2022, Monday\\r\\n'),\n",
       " b')']"
      ]
     },
     "execution_count": 44,
     "metadata": {},
     "output_type": "execute_result"
    }
   ],
   "source": [
    "result_data"
   ]
  },
  {
   "cell_type": "code",
   "execution_count": 45,
   "id": "149c53f0",
   "metadata": {},
   "outputs": [
    {
     "data": {
      "text/plain": [
       "(b'72 (RFC822 {656}',\n",
       " b'Bcc: iamthebestdesktop@gmail.com\\r\\nReturn-Path: <iamthebestdesktop@gmail.com>\\r\\nReceived: from [192.168.43.209] ([2401:4900:5032:e58b:a96f:5423:a811:7610])\\r\\n        by smtp.gmail.com with ESMTPSA id p65-20020a625b44000000b0053e4296e1d3sm19079721pfb.198.2022.10.23.22.25.57\\r\\n        for <iamthebestdesktop@gmail.com>\\r\\n        (version=TLS1_3 cipher=TLS_AES_256_GCM_SHA384 bits=256/256);\\r\\n        Sun, 23 Oct 2022 22:25:59 -0700 (PDT)\\r\\nMessage-ID: <635621e7.620a0220.99238.3f27@mx.google.com>\\r\\nDate: Sun, 23 Oct 2022 22:25:59 -0700 (PDT)\\r\\nFrom: iamthebestdesktop@gmail.com\\r\\nSubject: New Test Python Email\\r\\n\\r\\nWorking with Emails on Diwali - 24-10-2022, Monday\\r\\n')"
      ]
     },
     "execution_count": 45,
     "metadata": {},
     "output_type": "execute_result"
    }
   ],
   "source": [
    "result_data[0]"
   ]
  },
  {
   "cell_type": "code",
   "execution_count": 46,
   "id": "3abdda7b",
   "metadata": {},
   "outputs": [
    {
     "data": {
      "text/plain": [
       "list"
      ]
     },
     "execution_count": 46,
     "metadata": {},
     "output_type": "execute_result"
    }
   ],
   "source": [
    "type(result_data)"
   ]
  },
  {
   "cell_type": "code",
   "execution_count": 48,
   "id": "40f211a1",
   "metadata": {},
   "outputs": [
    {
     "data": {
      "text/plain": [
       "b')'"
      ]
     },
     "execution_count": 48,
     "metadata": {},
     "output_type": "execute_result"
    }
   ],
   "source": [
    "result_data[1]"
   ]
  },
  {
   "cell_type": "code",
   "execution_count": 54,
   "id": "d27cc22c",
   "metadata": {},
   "outputs": [
    {
     "name": "stdout",
     "output_type": "stream",
     "text": [
      "(b'72 (RFC822 {656}', b'Bcc: iamthebestdesktop@gmail.com\\r\\nReturn-Path: <iamthebestdesktop@gmail.com>\\r\\nReceived: from [192.168.43.209] ([2401:4900:5032:e58b:a96f:5423:a811:7610])\\r\\n        by smtp.gmail.com with ESMTPSA id p65-20020a625b44000000b0053e4296e1d3sm19079721pfb.198.2022.10.23.22.25.57\\r\\n        for <iamthebestdesktop@gmail.com>\\r\\n        (version=TLS1_3 cipher=TLS_AES_256_GCM_SHA384 bits=256/256);\\r\\n        Sun, 23 Oct 2022 22:25:59 -0700 (PDT)\\r\\nMessage-ID: <635621e7.620a0220.99238.3f27@mx.google.com>\\r\\nDate: Sun, 23 Oct 2022 22:25:59 -0700 (PDT)\\r\\nFrom: iamthebestdesktop@gmail.com\\r\\nSubject: New Test Python Email\\r\\n\\r\\nWorking with Emails on Diwali - 24-10-2022, Monday\\r\\n')\n"
     ]
    }
   ],
   "source": [
    "print(result_data[0])"
   ]
  },
  {
   "cell_type": "code",
   "execution_count": 61,
   "id": "ddcfb5df",
   "metadata": {},
   "outputs": [
    {
     "data": {
      "text/plain": [
       "b'Bcc: iamthebestdesktop@gmail.com\\r\\nReturn-Path: <iamthebestdesktop@gmail.com>\\r\\nReceived: from [192.168.43.209] ([2401:4900:5032:e58b:a96f:5423:a811:7610])\\r\\n        by smtp.gmail.com with ESMTPSA id p65-20020a625b44000000b0053e4296e1d3sm19079721pfb.198.2022.10.23.22.25.57\\r\\n        for <iamthebestdesktop@gmail.com>\\r\\n        (version=TLS1_3 cipher=TLS_AES_256_GCM_SHA384 bits=256/256);\\r\\n        Sun, 23 Oct 2022 22:25:59 -0700 (PDT)\\r\\nMessage-ID: <635621e7.620a0220.99238.3f27@mx.google.com>\\r\\nDate: Sun, 23 Oct 2022 22:25:59 -0700 (PDT)\\r\\nFrom: iamthebestdesktop@gmail.com\\r\\nSubject: New Test Python Email\\r\\n\\r\\nWorking with Emails on Diwali - 24-10-2022, Monday\\r\\n'"
      ]
     },
     "execution_count": 61,
     "metadata": {},
     "output_type": "execute_result"
    }
   ],
   "source": [
    "result_data[0][1]"
   ]
  },
  {
   "cell_type": "code",
   "execution_count": 62,
   "id": "abaee2a8",
   "metadata": {},
   "outputs": [],
   "source": [
    "raw_email = result_data[0][1]"
   ]
  },
  {
   "cell_type": "code",
   "execution_count": 63,
   "id": "c5ef115b",
   "metadata": {},
   "outputs": [],
   "source": [
    "raw_email_string = raw_email.decode('utf-8')"
   ]
  },
  {
   "cell_type": "code",
   "execution_count": 66,
   "id": "3202e976",
   "metadata": {},
   "outputs": [
    {
     "data": {
      "text/plain": [
       "b'Bcc: iamthebestdesktop@gmail.com\\r\\nReturn-Path: <iamthebestdesktop@gmail.com>\\r\\nReceived: from [192.168.43.209] ([2401:4900:5032:e58b:a96f:5423:a811:7610])\\r\\n        by smtp.gmail.com with ESMTPSA id p65-20020a625b44000000b0053e4296e1d3sm19079721pfb.198.2022.10.23.22.25.57\\r\\n        for <iamthebestdesktop@gmail.com>\\r\\n        (version=TLS1_3 cipher=TLS_AES_256_GCM_SHA384 bits=256/256);\\r\\n        Sun, 23 Oct 2022 22:25:59 -0700 (PDT)\\r\\nMessage-ID: <635621e7.620a0220.99238.3f27@mx.google.com>\\r\\nDate: Sun, 23 Oct 2022 22:25:59 -0700 (PDT)\\r\\nFrom: iamthebestdesktop@gmail.com\\r\\nSubject: New Test Python Email\\r\\n\\r\\nWorking with Emails on Diwali - 24-10-2022, Monday\\r\\n'"
      ]
     },
     "execution_count": 66,
     "metadata": {},
     "output_type": "execute_result"
    }
   ],
   "source": [
    "raw_email"
   ]
  },
  {
   "cell_type": "code",
   "execution_count": 67,
   "id": "cb656de9",
   "metadata": {},
   "outputs": [
    {
     "data": {
      "text/plain": [
       "'Bcc: iamthebestdesktop@gmail.com\\r\\nReturn-Path: <iamthebestdesktop@gmail.com>\\r\\nReceived: from [192.168.43.209] ([2401:4900:5032:e58b:a96f:5423:a811:7610])\\r\\n        by smtp.gmail.com with ESMTPSA id p65-20020a625b44000000b0053e4296e1d3sm19079721pfb.198.2022.10.23.22.25.57\\r\\n        for <iamthebestdesktop@gmail.com>\\r\\n        (version=TLS1_3 cipher=TLS_AES_256_GCM_SHA384 bits=256/256);\\r\\n        Sun, 23 Oct 2022 22:25:59 -0700 (PDT)\\r\\nMessage-ID: <635621e7.620a0220.99238.3f27@mx.google.com>\\r\\nDate: Sun, 23 Oct 2022 22:25:59 -0700 (PDT)\\r\\nFrom: iamthebestdesktop@gmail.com\\r\\nSubject: New Test Python Email\\r\\n\\r\\nWorking with Emails on Diwali - 24-10-2022, Monday\\r\\n'"
      ]
     },
     "execution_count": 67,
     "metadata": {},
     "output_type": "execute_result"
    }
   ],
   "source": [
    "raw_email_string"
   ]
  },
  {
   "cell_type": "code",
   "execution_count": 68,
   "id": "11f22e44",
   "metadata": {},
   "outputs": [
    {
     "data": {
      "text/plain": [
       "656"
      ]
     },
     "execution_count": 68,
     "metadata": {},
     "output_type": "execute_result"
    }
   ],
   "source": [
    "len(raw_email)"
   ]
  },
  {
   "cell_type": "code",
   "execution_count": 69,
   "id": "ec547654",
   "metadata": {
    "scrolled": true
   },
   "outputs": [
    {
     "data": {
      "text/plain": [
       "656"
      ]
     },
     "execution_count": 69,
     "metadata": {},
     "output_type": "execute_result"
    }
   ],
   "source": [
    "len(raw_email_string)"
   ]
  },
  {
   "cell_type": "code",
   "execution_count": 70,
   "id": "c33fd820",
   "metadata": {},
   "outputs": [],
   "source": [
    "import email"
   ]
  },
  {
   "cell_type": "code",
   "execution_count": 71,
   "id": "5561893d",
   "metadata": {},
   "outputs": [],
   "source": [
    "email_message = email.message_from_string(raw_email_string)"
   ]
  },
  {
   "cell_type": "code",
   "execution_count": 72,
   "id": "5a8595e8",
   "metadata": {},
   "outputs": [
    {
     "data": {
      "text/plain": [
       "<email.message.Message at 0x61d29d0>"
      ]
     },
     "execution_count": 72,
     "metadata": {},
     "output_type": "execute_result"
    }
   ],
   "source": [
    "email_message"
   ]
  },
  {
   "cell_type": "code",
   "execution_count": 74,
   "id": "5673f9c4",
   "metadata": {},
   "outputs": [
    {
     "name": "stdout",
     "output_type": "stream",
     "text": [
      "b'Working with Emails on Diwali - 24-10-2022, Monday\\r\\n'\n"
     ]
    }
   ],
   "source": [
    "for part in email_message.walk():\n",
    "    if part.get_content_type() == 'text/plain':\n",
    "        body = part.get_payload(decode=True)\n",
    "        print(body)"
   ]
  },
  {
   "cell_type": "code",
   "execution_count": null,
   "id": "55ae178d",
   "metadata": {},
   "outputs": [],
   "source": []
  }
 ],
 "metadata": {
  "kernelspec": {
   "display_name": "Python 3 (ipykernel)",
   "language": "python",
   "name": "python3"
  },
  "language_info": {
   "codemirror_mode": {
    "name": "ipython",
    "version": 3
   },
   "file_extension": ".py",
   "mimetype": "text/x-python",
   "name": "python",
   "nbconvert_exporter": "python",
   "pygments_lexer": "ipython3",
   "version": "3.8.6"
  },
  "widgets": {
   "application/vnd.jupyter.widget-state+json": {
    "state": {},
    "version_major": 2,
    "version_minor": 0
   }
  }
 },
 "nbformat": 4,
 "nbformat_minor": 5
}
