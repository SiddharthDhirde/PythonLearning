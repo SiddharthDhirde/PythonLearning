{
 "cells": [
  {
   "cell_type": "markdown",
   "id": "db02d155",
   "metadata": {},
   "source": [
    "## Zipping and Unzipping Files With Python"
   ]
  },
  {
   "cell_type": "markdown",
   "id": "1a2153a7",
   "metadata": {},
   "source": [
    "## Creating Files"
   ]
  },
  {
   "cell_type": "code",
   "execution_count": 1,
   "id": "3a831ff9",
   "metadata": {},
   "outputs": [],
   "source": [
    "f = open('file1.txt','w+')\n",
    "f.write('FILE no. 1')\n",
    "f.close()\n",
    "\n",
    "f = open('file2.txt','w+')\n",
    "f.write('FILE no. 2')\n",
    "f.close()"
   ]
  },
  {
   "cell_type": "markdown",
   "id": "fa2861d9",
   "metadata": {},
   "source": [
    "## Zipping Files"
   ]
  },
  {
   "cell_type": "code",
   "execution_count": 2,
   "id": "b61c71f2",
   "metadata": {},
   "outputs": [
    {
     "name": "stdout",
     "output_type": "stream",
     "text": [
      "<class 'zipfile.ZipFile'>\n",
      "<zipfile.ZipFile filename='comp_file.zip' mode='w'>\n"
     ]
    }
   ],
   "source": [
    "import zipfile\n",
    "\n",
    "comp_file = zipfile.ZipFile('comp_file.zip','w')\n",
    "print(type(comp_file))\n",
    "print(comp_file)"
   ]
  },
  {
   "cell_type": "code",
   "execution_count": 3,
   "id": "9af19238",
   "metadata": {},
   "outputs": [],
   "source": [
    "comp_file.write(\"file1.txt\",compress_type=zipfile.ZIP_DEFLATED)\n",
    "comp_file.write(\"file2.txt\",compress_type=zipfile.ZIP_DEFLATED)\n",
    "\n",
    "comp_file.close()"
   ]
  },
  {
   "cell_type": "markdown",
   "id": "ff4d52c4",
   "metadata": {},
   "source": [
    "##  Unzipping Files"
   ]
  },
  {
   "cell_type": "code",
   "execution_count": 4,
   "id": "fc7b3306",
   "metadata": {},
   "outputs": [],
   "source": [
    "zip_obj = zipfile.ZipFile('comp_file.zip','r')\n",
    "\n",
    "zip_obj.extractall('extracted_files')\n",
    "\n",
    "zip_obj.close()"
   ]
  },
  {
   "cell_type": "markdown",
   "id": "e8445671",
   "metadata": {},
   "source": [
    "## Thank You"
   ]
  }
 ],
 "metadata": {
  "kernelspec": {
   "display_name": "Python 3 (ipykernel)",
   "language": "python",
   "name": "python3"
  },
  "language_info": {
   "codemirror_mode": {
    "name": "ipython",
    "version": 3
   },
   "file_extension": ".py",
   "mimetype": "text/x-python",
   "name": "python",
   "nbconvert_exporter": "python",
   "pygments_lexer": "ipython3",
   "version": "3.10.9"
  }
 },
 "nbformat": 4,
 "nbformat_minor": 5
}
