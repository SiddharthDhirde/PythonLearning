{
 "cells": [
  {
   "cell_type": "code",
   "execution_count": 1,
   "id": "a40a3caa",
   "metadata": {},
   "outputs": [
    {
     "name": "stdout",
     "output_type": "stream",
     "text": [
      "Good work on unzipping the file!\n",
      "You should now see 5 folders, each with a lot of random .txt files.\n",
      "Within one of these text files is a telephone number formated ###-###-#### \n",
      "Use the Python os module and regular expressions to iterate through each file, open it, and search for a telephone number.\n",
      "Good luck!\n",
      "\n",
      "Found Number: 719-266-2837\n"
     ]
    }
   ],
   "source": [
    "import shutil  # Module for high-level file operations\n",
    "import re      # Module for regular expressions\n",
    "import os      # Module for operating system functionality\n",
    "\n",
    "# Extract the contents of the ZIP file 'unzip_me_for_instructions.zip'\n",
    "shutil.unpack_archive('unzip_me_for_instructions.zip', '', 'zip')\n",
    "\n",
    "# Read and print the content of the 'Instructions.txt' file\n",
    "with open('extracted_content/Instructions.txt') as f:\n",
    "    content = f.read()\n",
    "    print(content)\n",
    "\n",
    "# Define a function to search for a pattern in a file\n",
    "def search_pattern(file, pattern=r'\\d{3}-\\d{3}-\\d{4}'):\n",
    "    with open(file, 'r') as f:\n",
    "        text = f.read()\n",
    "        # Search for the specified pattern in the file's text\n",
    "        return re.search(pattern, text)  # Return the match or None if no match\n",
    "\n",
    "# Initialize a list to store search results\n",
    "results = []\n",
    "\n",
    "# Walk through the directory tree starting from 'extracted_content'\n",
    "for folder, sub_folders, files in os.walk(os.getcwd() + '\\\\extracted_content'):\n",
    "    for f in files:\n",
    "        # Construct the full path to the current file\n",
    "        full_path = folder + '\\\\' + f\n",
    "        # Search for the pattern in the current file and append the result to the results list\n",
    "        results.append(search_pattern(full_path))\n",
    "\n",
    "# Print any found numbers extracted from the files\n",
    "for r in results:\n",
    "    if r:\n",
    "        # If a match is found, print the found number\n",
    "        print(\"\\nFound Number: \" + r.group())  # Print the matched number"
   ]
  },
  {
   "cell_type": "code",
   "execution_count": 2,
   "id": "77704f3a",
   "metadata": {
    "scrolled": true
   },
   "outputs": [
    {
     "name": "stdout",
     "output_type": "stream",
     "text": [
      "[None, None, <re.Match object; span=(1062, 1074), match='719-266-2837'>, None, None]\n"
     ]
    }
   ],
   "source": [
    "print(results[25:30])"
   ]
  },
  {
   "cell_type": "markdown",
   "id": "2469c377",
   "metadata": {},
   "source": [
    "----"
   ]
  },
  {
   "cell_type": "code",
   "execution_count": 3,
   "id": "2e6a935b",
   "metadata": {},
   "outputs": [
    {
     "name": "stdout",
     "output_type": "stream",
     "text": [
      "Good work on unzipping the file!\n",
      "You should now see 5 folders, each with a lot of random .txt files.\n",
      "Within one of these text files is a telephone number formated ###-###-#### \n",
      "Use the Python os module and regular expressions to iterate through each file, open it, and search for a telephone number.\n",
      "Good luck!\n",
      "\n",
      "Found Number: 719-266-2837\n"
     ]
    }
   ],
   "source": [
    "# Optimize Code:\n",
    "\n",
    "import shutil  # Module for high-level file operations\n",
    "import re      # Module for regular expressions\n",
    "import os      # Module for operating system functionality\n",
    "\n",
    "# Define a function to extract and print the content of a file\n",
    "def extract_and_print_content(file_path):\n",
    "    with open(file_path) as file:\n",
    "        content = file.read()\n",
    "        print(content)\n",
    "\n",
    "# Define a function to search for a pattern in a file\n",
    "def search_pattern(file_path, pattern=r'\\d{3}-\\d{3}-\\d{4}'):\n",
    "    with open(file_path) as file:\n",
    "        return re.search(pattern, file.read())\n",
    "\n",
    "# Extract the contents of the ZIP file 'unzip_me_for_instructions.zip'\n",
    "shutil.unpack_archive('unzip_me_for_instructions.zip', '', 'zip')\n",
    "\n",
    "# Extract and print the content of the 'Instructions.txt' file\n",
    "extract_and_print_content('extracted_content/Instructions.txt')\n",
    "\n",
    "# Initialize a list to store search results\n",
    "results = []\n",
    "\n",
    "# Walk through the directory tree starting from 'extracted_content'\n",
    "for folder, _, files in os.walk('extracted_content'):\n",
    "    for file_name in files:\n",
    "        file_path = os.path.join(folder, file_name)\n",
    "        # Search for the pattern in the current file and append the result to the results list\n",
    "        results.append(search_pattern(file_path))\n",
    "\n",
    "# Print any found numbers extracted from the files\n",
    "for result in results:\n",
    "    if result:\n",
    "        # If a match is found, print the found number\n",
    "        print(\"\\nFound Number:\", result.group())  # Print the matched number"
   ]
  },
  {
   "cell_type": "markdown",
   "id": "e577048c",
   "metadata": {},
   "source": [
    "-----"
   ]
  },
  {
   "cell_type": "markdown",
   "id": "3d6f3661",
   "metadata": {},
   "source": [
    "### Testing out "
   ]
  },
  {
   "cell_type": "code",
   "execution_count": 4,
   "id": "925dd090",
   "metadata": {},
   "outputs": [
    {
     "name": "stdout",
     "output_type": "stream",
     "text": [
      "Good work on unzipping the file!\n",
      "You should now see 5 folders, each with a lot of random .txt files.\n",
      "Within one of these text files is a telephone number formated ###-###-#### \n",
      "Use the Python os module and regular expressions to iterate through each file, open it, and search for a telephone number.\n",
      "Good luck!\n"
     ]
    }
   ],
   "source": [
    "import shutil\n",
    "\n",
    "shutil.unpack_archive('unzip_me_for_instructions.zip','','zip')\n",
    "\n",
    "with open('extracted_content/Instructions.txt') as f:\n",
    "    content = f.read()\n",
    "    print(content)"
   ]
  },
  {
   "cell_type": "code",
   "execution_count": 5,
   "id": "acb1fec3",
   "metadata": {},
   "outputs": [],
   "source": [
    "import re"
   ]
  },
  {
   "cell_type": "code",
   "execution_count": 6,
   "id": "647753b3",
   "metadata": {},
   "outputs": [
    {
     "data": {
      "text/plain": [
       "['123-1234-1234', '123-1234-1234']"
      ]
     },
     "execution_count": 6,
     "metadata": {},
     "output_type": "execute_result"
    }
   ],
   "source": [
    "pattern = r'\\d{3}-\\d{4}-\\d{4}'\n",
    "# pattern = '\\\\d{3}-\\\\d{4}-\\\\d{4}' # Without using a raw string\n",
    "\n",
    "test_string = 'here is the phone number 123-1234-1234 123-1234-12345'\n",
    "\n",
    "re.findall(pattern,test_string)"
   ]
  },
  {
   "cell_type": "code",
   "execution_count": 7,
   "id": "cd4add78",
   "metadata": {},
   "outputs": [
    {
     "data": {
      "text/plain": [
       "<re.Match object; span=(25, 38), match='123-1234-1234'>"
      ]
     },
     "execution_count": 7,
     "metadata": {},
     "output_type": "execute_result"
    }
   ],
   "source": [
    "re.search(pattern,test_string)"
   ]
  },
  {
   "cell_type": "code",
   "execution_count": 8,
   "id": "77dd2ccd",
   "metadata": {},
   "outputs": [
    {
     "data": {
      "text/plain": [
       "'123-1234-1234 123-12'"
      ]
     },
     "execution_count": 8,
     "metadata": {},
     "output_type": "execute_result"
    }
   ],
   "source": [
    "test_string[25:45]"
   ]
  },
  {
   "cell_type": "code",
   "execution_count": null,
   "id": "db5e36cf",
   "metadata": {},
   "outputs": [],
   "source": []
  },
  {
   "cell_type": "code",
   "execution_count": 9,
   "id": "f4bdf455",
   "metadata": {},
   "outputs": [],
   "source": [
    "# not the better way to search patter\n",
    "def search_pattern(file, pattern= r'\\d{3}-\\d{3}-\\d{4}'):\n",
    "    f = open(file,'r')\n",
    "    text = f.read()\n",
    "    \n",
    "    if re.search(pattern,text):\n",
    "        return(re.search(pattern,text))\n",
    "    else:\n",
    "        return ''  # returns empty string"
   ]
  },
  {
   "cell_type": "code",
   "execution_count": 10,
   "id": "0f27b09a",
   "metadata": {},
   "outputs": [],
   "source": [
    "import os"
   ]
  },
  {
   "cell_type": "code",
   "execution_count": 11,
   "id": "4af164b4",
   "metadata": {},
   "outputs": [
    {
     "data": {
      "text/plain": [
       "'C:\\\\Siddharth Beast\\\\Anaconda Python\\\\GitHub Repo\\\\PythonLearning\\\\19 Zipping and Unzipping Files\\\\02 Find Number\\\\extracted_content'"
      ]
     },
     "execution_count": 11,
     "metadata": {},
     "output_type": "execute_result"
    }
   ],
   "source": [
    "os.getcwd()+'\\\\extracted_content'"
   ]
  },
  {
   "cell_type": "code",
   "execution_count": 12,
   "id": "25039fd1",
   "metadata": {
    "scrolled": true
   },
   "outputs": [
    {
     "name": "stdout",
     "output_type": "stream",
     "text": [
      "Folder:\n",
      "C:\\Siddharth Beast\\Anaconda Python\\GitHub Repo\\PythonLearning\\19 Zipping and Unzipping Files\\02 Find Number\\extracted_content\n",
      "Sub Folder:\n",
      "['Five', 'Four', 'One', 'Three', 'Two']\n",
      "Files:\n",
      "['Instructions.txt']\n",
      "\n",
      "\n",
      "\n",
      "Folder:\n",
      "C:\\Siddharth Beast\\Anaconda Python\\GitHub Repo\\PythonLearning\\19 Zipping and Unzipping Files\\02 Find Number\\extracted_content\\Five\n",
      "Sub Folder:\n",
      "[]\n",
      "Files:\n",
      "['AEITMYIRQLP.txt', 'APJKSRITGGX.txt', 'AQKATDFGXTS.txt', 'ARLKFCWIAJE.txt', 'AXJGVPVEFAS.txt', 'BNUQEHCFRTG.txt', 'BSKJDRNEZQM.txt', 'BTYWAHLHKBM.txt', 'BUGKBZWRRVI.txt', 'BVBURZZCAPR.txt', 'CAHBEVSVDDN.txt', 'COMGMZBJAYE.txt', 'CRFSDGYFSHA.txt', 'CSCLFZCDYYC.txt', 'CXBVCTRBBIE.txt', 'DDLASODUVPX.txt', 'DHZBAAYEADM.txt', 'DQPZQLBCJYP.txt', 'DYOPIIVMZOO.txt', 'DZUWWXYIAEL.txt', 'EAAOEPSAWMQ.txt', 'EIPWXMQZJKU.txt', 'ESIZWBHMGDP.txt', 'ETCUEXWNBCF.txt', 'EYTCGIOYWIW.txt']\n",
      "\n",
      "\n",
      "\n",
      "Folder:\n",
      "C:\\Siddharth Beast\\Anaconda Python\\GitHub Repo\\PythonLearning\\19 Zipping and Unzipping Files\\02 Find Number\\extracted_content\\Four\n",
      "Sub Folder:\n",
      "[]\n",
      "Files:\n",
      "['ECIOBYCDVFI.txt', 'EMTGPSXQEJX.txt', 'EPRNUHRSESC.txt', 'ESDIZXHYCVY.txt', 'EXVQSVBQQQH.txt', 'QCTCKDIBBVG.txt', 'QCWCFLKNZMN.txt', 'QDDETWBHJYC.txt', 'QTDYYIFPHAU.txt', 'QVNJULGXNUM.txt', 'REAXWSOIQDY.txt', 'ROICPTWKXDX.txt', 'RSXOTNGKBML.txt', 'RXDARIDGKBF.txt', 'RYNXFYXMKHG.txt', 'TAKNAVDMZKV.txt', 'THPNEGKTJWI.txt', 'TJFMLJODVAD.txt', 'TKCZSFQNJTX.txt', 'TWUOYFCCYBQ.txt', 'WFSKPTXPFCH.txt', 'WHTOHQUWXIN.txt', 'WNJISWPEBRS.txt', 'WXDJDOGZEHN.txt', 'WYDLGSGGXKV.txt']\n",
      "\n",
      "\n",
      "\n",
      "Folder:\n",
      "C:\\Siddharth Beast\\Anaconda Python\\GitHub Repo\\PythonLearning\\19 Zipping and Unzipping Files\\02 Find Number\\extracted_content\\One\n",
      "Sub Folder:\n",
      "[]\n",
      "Files:\n",
      "['HDOHZHFSTTK.txt', 'HFUTPPAXDIS.txt', 'HMNZTLIFGPD.txt', 'HRQFTHKVJTL.txt', 'HVUTZEVMSBW.txt', 'JDLRVFCXYLU.txt', 'JEHBLZPUPSP.txt', 'JLTXKIGCWDL.txt', 'JQUOBKFUACN.txt', 'JTHSNBNPQSE.txt', 'KCXGNQCZBLO.txt', 'KFIUZFERLET.txt', 'KMMLGJOWLGI.txt', 'KNBSKDREHQU.txt', 'KTXDHIOKAUI.txt', 'LDGOCUQJNNS.txt', 'LFEATJAAYDC.txt', 'LHODFIKVTQA.txt', 'LIFDHOFKWOI.txt', 'LPNDVDXPZIG.txt', 'PDJMSMNKIRM.txt', 'PHWAVPEKAER.txt', 'PLYCGPVEAWO.txt', 'PQNVCVJINAR.txt', 'PTOBBCJYURJ.txt']\n",
      "\n",
      "\n",
      "\n",
      "Folder:\n",
      "C:\\Siddharth Beast\\Anaconda Python\\GitHub Repo\\PythonLearning\\19 Zipping and Unzipping Files\\02 Find Number\\extracted_content\\Three\n",
      "Sub Folder:\n",
      "[]\n",
      "Files:\n",
      "['VAQIJTDOFUJ.txt', 'VCFJCGJFBIH.txt', 'VSXFSTABZDY.txt', 'VVHFVZUNLOO.txt', 'VVKGWLRMHLU.txt', 'XAJMCPEWFNI.txt', 'XFHJOTNPEJG.txt', 'XHZPVUQTXIO.txt', 'XJCWENFFGHB.txt', 'XVMPVSVYKFR.txt', 'YCESZHJDBXH.txt', 'YDQFMWXOUMW.txt', 'YQBIUHSUEVW.txt', 'YQRNCMNFFHW.txt', 'YYIZGBTQHZP.txt', 'ZEZKKRBIZEB.txt', 'ZKQJXAYKPVD.txt', 'ZOWVXWPOGWP.txt', 'ZXEZRQXZNPG.txt', 'ZXIBJMPROKW.txt']\n",
      "\n",
      "\n",
      "\n",
      "Folder:\n",
      "C:\\Siddharth Beast\\Anaconda Python\\GitHub Repo\\PythonLearning\\19 Zipping and Unzipping Files\\02 Find Number\\extracted_content\\Two\n",
      "Sub Folder:\n",
      "[]\n",
      "Files:\n",
      "['GKQBQRCTNNK.txt', 'GMMQQUBMJNR.txt', 'GQTJJORZBXY.txt', 'GTOTCIWMDBY.txt', 'GXYSEPAFRTP.txt', 'HARDNJGDRBC.txt', 'HEORIXOTANT.txt', 'HMUTDOVNYTV.txt', 'HMZXPBOPRAE.txt', 'HTOHSTYXTCO.txt', 'LCJZYDHBFRM.txt', 'LSQSTGPIGIY.txt', 'LULTNYAQEJG.txt', 'LVMBINRBJXL.txt', 'LYZEQCVYNEZ.txt', 'OHZOUOSFJQC.txt', 'OIHMLGMWTHL.txt', 'OKWFOOYTXFU.txt', 'OMWIMVRCMYM.txt', 'OYMAGXAGWHJ.txt', 'SIKFPPLCJDN.txt', 'SJMJLDGPBSJ.txt', 'SOFUJYXTIMK.txt', 'SPDZYGDHEWO.txt', 'SWOFXREEHWA.txt']\n",
      "\n",
      "\n",
      "\n"
     ]
    }
   ],
   "source": [
    "for folder,sub_folders,files in os.walk(os.getcwd()+'\\\\extracted_content'):\n",
    "    print(\"Folder:\")\n",
    "    print(folder)\n",
    "    print(\"Sub Folder:\")\n",
    "    print(sub_folders)\n",
    "    print(\"Files:\")\n",
    "    print(files)\n",
    "    print(\"\\n\"*2)"
   ]
  },
  {
   "cell_type": "code",
   "execution_count": 13,
   "id": "765b5189",
   "metadata": {},
   "outputs": [
    {
     "name": "stdout",
     "output_type": "stream",
     "text": [
      "C:\\Siddharth Beast\\Anaconda Python\\GitHub Repo\\PythonLearning\\19 Zipping and Unzipping Files\\02 Find Number\\extracted_content\\Instructions.txt\n",
      "C:\\Siddharth Beast\\Anaconda Python\\GitHub Repo\\PythonLearning\\19 Zipping and Unzipping Files\\02 Find Number\\extracted_content\\Five\\AEITMYIRQLP.txt\n",
      "C:\\Siddharth Beast\\Anaconda Python\\GitHub Repo\\PythonLearning\\19 Zipping and Unzipping Files\\02 Find Number\\extracted_content\\Five\\APJKSRITGGX.txt\n",
      "C:\\Siddharth Beast\\Anaconda Python\\GitHub Repo\\PythonLearning\\19 Zipping and Unzipping Files\\02 Find Number\\extracted_content\\Five\\AQKATDFGXTS.txt\n",
      "C:\\Siddharth Beast\\Anaconda Python\\GitHub Repo\\PythonLearning\\19 Zipping and Unzipping Files\\02 Find Number\\extracted_content\\Five\\ARLKFCWIAJE.txt\n",
      "C:\\Siddharth Beast\\Anaconda Python\\GitHub Repo\\PythonLearning\\19 Zipping and Unzipping Files\\02 Find Number\\extracted_content\\Five\\AXJGVPVEFAS.txt\n",
      "C:\\Siddharth Beast\\Anaconda Python\\GitHub Repo\\PythonLearning\\19 Zipping and Unzipping Files\\02 Find Number\\extracted_content\\Five\\BNUQEHCFRTG.txt\n",
      "C:\\Siddharth Beast\\Anaconda Python\\GitHub Repo\\PythonLearning\\19 Zipping and Unzipping Files\\02 Find Number\\extracted_content\\Five\\BSKJDRNEZQM.txt\n",
      "C:\\Siddharth Beast\\Anaconda Python\\GitHub Repo\\PythonLearning\\19 Zipping and Unzipping Files\\02 Find Number\\extracted_content\\Five\\BTYWAHLHKBM.txt\n",
      "C:\\Siddharth Beast\\Anaconda Python\\GitHub Repo\\PythonLearning\\19 Zipping and Unzipping Files\\02 Find Number\\extracted_content\\Five\\BUGKBZWRRVI.txt\n",
      "C:\\Siddharth Beast\\Anaconda Python\\GitHub Repo\\PythonLearning\\19 Zipping and Unzipping Files\\02 Find Number\\extracted_content\\Five\\BVBURZZCAPR.txt\n",
      "C:\\Siddharth Beast\\Anaconda Python\\GitHub Repo\\PythonLearning\\19 Zipping and Unzipping Files\\02 Find Number\\extracted_content\\Five\\CAHBEVSVDDN.txt\n",
      "C:\\Siddharth Beast\\Anaconda Python\\GitHub Repo\\PythonLearning\\19 Zipping and Unzipping Files\\02 Find Number\\extracted_content\\Five\\COMGMZBJAYE.txt\n",
      "C:\\Siddharth Beast\\Anaconda Python\\GitHub Repo\\PythonLearning\\19 Zipping and Unzipping Files\\02 Find Number\\extracted_content\\Five\\CRFSDGYFSHA.txt\n",
      "C:\\Siddharth Beast\\Anaconda Python\\GitHub Repo\\PythonLearning\\19 Zipping and Unzipping Files\\02 Find Number\\extracted_content\\Five\\CSCLFZCDYYC.txt\n",
      "C:\\Siddharth Beast\\Anaconda Python\\GitHub Repo\\PythonLearning\\19 Zipping and Unzipping Files\\02 Find Number\\extracted_content\\Five\\CXBVCTRBBIE.txt\n",
      "C:\\Siddharth Beast\\Anaconda Python\\GitHub Repo\\PythonLearning\\19 Zipping and Unzipping Files\\02 Find Number\\extracted_content\\Five\\DDLASODUVPX.txt\n",
      "C:\\Siddharth Beast\\Anaconda Python\\GitHub Repo\\PythonLearning\\19 Zipping and Unzipping Files\\02 Find Number\\extracted_content\\Five\\DHZBAAYEADM.txt\n",
      "C:\\Siddharth Beast\\Anaconda Python\\GitHub Repo\\PythonLearning\\19 Zipping and Unzipping Files\\02 Find Number\\extracted_content\\Five\\DQPZQLBCJYP.txt\n",
      "C:\\Siddharth Beast\\Anaconda Python\\GitHub Repo\\PythonLearning\\19 Zipping and Unzipping Files\\02 Find Number\\extracted_content\\Five\\DYOPIIVMZOO.txt\n",
      "C:\\Siddharth Beast\\Anaconda Python\\GitHub Repo\\PythonLearning\\19 Zipping and Unzipping Files\\02 Find Number\\extracted_content\\Five\\DZUWWXYIAEL.txt\n",
      "C:\\Siddharth Beast\\Anaconda Python\\GitHub Repo\\PythonLearning\\19 Zipping and Unzipping Files\\02 Find Number\\extracted_content\\Five\\EAAOEPSAWMQ.txt\n",
      "C:\\Siddharth Beast\\Anaconda Python\\GitHub Repo\\PythonLearning\\19 Zipping and Unzipping Files\\02 Find Number\\extracted_content\\Five\\EIPWXMQZJKU.txt\n",
      "C:\\Siddharth Beast\\Anaconda Python\\GitHub Repo\\PythonLearning\\19 Zipping and Unzipping Files\\02 Find Number\\extracted_content\\Five\\ESIZWBHMGDP.txt\n",
      "C:\\Siddharth Beast\\Anaconda Python\\GitHub Repo\\PythonLearning\\19 Zipping and Unzipping Files\\02 Find Number\\extracted_content\\Five\\ETCUEXWNBCF.txt\n",
      "C:\\Siddharth Beast\\Anaconda Python\\GitHub Repo\\PythonLearning\\19 Zipping and Unzipping Files\\02 Find Number\\extracted_content\\Five\\EYTCGIOYWIW.txt\n",
      "C:\\Siddharth Beast\\Anaconda Python\\GitHub Repo\\PythonLearning\\19 Zipping and Unzipping Files\\02 Find Number\\extracted_content\\Four\\ECIOBYCDVFI.txt\n",
      "C:\\Siddharth Beast\\Anaconda Python\\GitHub Repo\\PythonLearning\\19 Zipping and Unzipping Files\\02 Find Number\\extracted_content\\Four\\EMTGPSXQEJX.txt\n",
      "C:\\Siddharth Beast\\Anaconda Python\\GitHub Repo\\PythonLearning\\19 Zipping and Unzipping Files\\02 Find Number\\extracted_content\\Four\\EPRNUHRSESC.txt\n",
      "C:\\Siddharth Beast\\Anaconda Python\\GitHub Repo\\PythonLearning\\19 Zipping and Unzipping Files\\02 Find Number\\extracted_content\\Four\\ESDIZXHYCVY.txt\n",
      "C:\\Siddharth Beast\\Anaconda Python\\GitHub Repo\\PythonLearning\\19 Zipping and Unzipping Files\\02 Find Number\\extracted_content\\Four\\EXVQSVBQQQH.txt\n",
      "C:\\Siddharth Beast\\Anaconda Python\\GitHub Repo\\PythonLearning\\19 Zipping and Unzipping Files\\02 Find Number\\extracted_content\\Four\\QCTCKDIBBVG.txt\n",
      "C:\\Siddharth Beast\\Anaconda Python\\GitHub Repo\\PythonLearning\\19 Zipping and Unzipping Files\\02 Find Number\\extracted_content\\Four\\QCWCFLKNZMN.txt\n",
      "C:\\Siddharth Beast\\Anaconda Python\\GitHub Repo\\PythonLearning\\19 Zipping and Unzipping Files\\02 Find Number\\extracted_content\\Four\\QDDETWBHJYC.txt\n",
      "C:\\Siddharth Beast\\Anaconda Python\\GitHub Repo\\PythonLearning\\19 Zipping and Unzipping Files\\02 Find Number\\extracted_content\\Four\\QTDYYIFPHAU.txt\n",
      "C:\\Siddharth Beast\\Anaconda Python\\GitHub Repo\\PythonLearning\\19 Zipping and Unzipping Files\\02 Find Number\\extracted_content\\Four\\QVNJULGXNUM.txt\n",
      "C:\\Siddharth Beast\\Anaconda Python\\GitHub Repo\\PythonLearning\\19 Zipping and Unzipping Files\\02 Find Number\\extracted_content\\Four\\REAXWSOIQDY.txt\n",
      "C:\\Siddharth Beast\\Anaconda Python\\GitHub Repo\\PythonLearning\\19 Zipping and Unzipping Files\\02 Find Number\\extracted_content\\Four\\ROICPTWKXDX.txt\n",
      "C:\\Siddharth Beast\\Anaconda Python\\GitHub Repo\\PythonLearning\\19 Zipping and Unzipping Files\\02 Find Number\\extracted_content\\Four\\RSXOTNGKBML.txt\n",
      "C:\\Siddharth Beast\\Anaconda Python\\GitHub Repo\\PythonLearning\\19 Zipping and Unzipping Files\\02 Find Number\\extracted_content\\Four\\RXDARIDGKBF.txt\n",
      "C:\\Siddharth Beast\\Anaconda Python\\GitHub Repo\\PythonLearning\\19 Zipping and Unzipping Files\\02 Find Number\\extracted_content\\Four\\RYNXFYXMKHG.txt\n",
      "C:\\Siddharth Beast\\Anaconda Python\\GitHub Repo\\PythonLearning\\19 Zipping and Unzipping Files\\02 Find Number\\extracted_content\\Four\\TAKNAVDMZKV.txt\n",
      "C:\\Siddharth Beast\\Anaconda Python\\GitHub Repo\\PythonLearning\\19 Zipping and Unzipping Files\\02 Find Number\\extracted_content\\Four\\THPNEGKTJWI.txt\n",
      "C:\\Siddharth Beast\\Anaconda Python\\GitHub Repo\\PythonLearning\\19 Zipping and Unzipping Files\\02 Find Number\\extracted_content\\Four\\TJFMLJODVAD.txt\n",
      "C:\\Siddharth Beast\\Anaconda Python\\GitHub Repo\\PythonLearning\\19 Zipping and Unzipping Files\\02 Find Number\\extracted_content\\Four\\TKCZSFQNJTX.txt\n",
      "C:\\Siddharth Beast\\Anaconda Python\\GitHub Repo\\PythonLearning\\19 Zipping and Unzipping Files\\02 Find Number\\extracted_content\\Four\\TWUOYFCCYBQ.txt\n",
      "C:\\Siddharth Beast\\Anaconda Python\\GitHub Repo\\PythonLearning\\19 Zipping and Unzipping Files\\02 Find Number\\extracted_content\\Four\\WFSKPTXPFCH.txt\n",
      "C:\\Siddharth Beast\\Anaconda Python\\GitHub Repo\\PythonLearning\\19 Zipping and Unzipping Files\\02 Find Number\\extracted_content\\Four\\WHTOHQUWXIN.txt\n",
      "C:\\Siddharth Beast\\Anaconda Python\\GitHub Repo\\PythonLearning\\19 Zipping and Unzipping Files\\02 Find Number\\extracted_content\\Four\\WNJISWPEBRS.txt\n",
      "C:\\Siddharth Beast\\Anaconda Python\\GitHub Repo\\PythonLearning\\19 Zipping and Unzipping Files\\02 Find Number\\extracted_content\\Four\\WXDJDOGZEHN.txt\n",
      "C:\\Siddharth Beast\\Anaconda Python\\GitHub Repo\\PythonLearning\\19 Zipping and Unzipping Files\\02 Find Number\\extracted_content\\Four\\WYDLGSGGXKV.txt\n",
      "C:\\Siddharth Beast\\Anaconda Python\\GitHub Repo\\PythonLearning\\19 Zipping and Unzipping Files\\02 Find Number\\extracted_content\\One\\HDOHZHFSTTK.txt\n",
      "C:\\Siddharth Beast\\Anaconda Python\\GitHub Repo\\PythonLearning\\19 Zipping and Unzipping Files\\02 Find Number\\extracted_content\\One\\HFUTPPAXDIS.txt\n",
      "C:\\Siddharth Beast\\Anaconda Python\\GitHub Repo\\PythonLearning\\19 Zipping and Unzipping Files\\02 Find Number\\extracted_content\\One\\HMNZTLIFGPD.txt\n",
      "C:\\Siddharth Beast\\Anaconda Python\\GitHub Repo\\PythonLearning\\19 Zipping and Unzipping Files\\02 Find Number\\extracted_content\\One\\HRQFTHKVJTL.txt\n",
      "C:\\Siddharth Beast\\Anaconda Python\\GitHub Repo\\PythonLearning\\19 Zipping and Unzipping Files\\02 Find Number\\extracted_content\\One\\HVUTZEVMSBW.txt\n",
      "C:\\Siddharth Beast\\Anaconda Python\\GitHub Repo\\PythonLearning\\19 Zipping and Unzipping Files\\02 Find Number\\extracted_content\\One\\JDLRVFCXYLU.txt\n",
      "C:\\Siddharth Beast\\Anaconda Python\\GitHub Repo\\PythonLearning\\19 Zipping and Unzipping Files\\02 Find Number\\extracted_content\\One\\JEHBLZPUPSP.txt\n",
      "C:\\Siddharth Beast\\Anaconda Python\\GitHub Repo\\PythonLearning\\19 Zipping and Unzipping Files\\02 Find Number\\extracted_content\\One\\JLTXKIGCWDL.txt\n",
      "C:\\Siddharth Beast\\Anaconda Python\\GitHub Repo\\PythonLearning\\19 Zipping and Unzipping Files\\02 Find Number\\extracted_content\\One\\JQUOBKFUACN.txt\n",
      "C:\\Siddharth Beast\\Anaconda Python\\GitHub Repo\\PythonLearning\\19 Zipping and Unzipping Files\\02 Find Number\\extracted_content\\One\\JTHSNBNPQSE.txt\n",
      "C:\\Siddharth Beast\\Anaconda Python\\GitHub Repo\\PythonLearning\\19 Zipping and Unzipping Files\\02 Find Number\\extracted_content\\One\\KCXGNQCZBLO.txt\n",
      "C:\\Siddharth Beast\\Anaconda Python\\GitHub Repo\\PythonLearning\\19 Zipping and Unzipping Files\\02 Find Number\\extracted_content\\One\\KFIUZFERLET.txt\n",
      "C:\\Siddharth Beast\\Anaconda Python\\GitHub Repo\\PythonLearning\\19 Zipping and Unzipping Files\\02 Find Number\\extracted_content\\One\\KMMLGJOWLGI.txt\n",
      "C:\\Siddharth Beast\\Anaconda Python\\GitHub Repo\\PythonLearning\\19 Zipping and Unzipping Files\\02 Find Number\\extracted_content\\One\\KNBSKDREHQU.txt\n",
      "C:\\Siddharth Beast\\Anaconda Python\\GitHub Repo\\PythonLearning\\19 Zipping and Unzipping Files\\02 Find Number\\extracted_content\\One\\KTXDHIOKAUI.txt\n",
      "C:\\Siddharth Beast\\Anaconda Python\\GitHub Repo\\PythonLearning\\19 Zipping and Unzipping Files\\02 Find Number\\extracted_content\\One\\LDGOCUQJNNS.txt\n",
      "C:\\Siddharth Beast\\Anaconda Python\\GitHub Repo\\PythonLearning\\19 Zipping and Unzipping Files\\02 Find Number\\extracted_content\\One\\LFEATJAAYDC.txt\n",
      "C:\\Siddharth Beast\\Anaconda Python\\GitHub Repo\\PythonLearning\\19 Zipping and Unzipping Files\\02 Find Number\\extracted_content\\One\\LHODFIKVTQA.txt\n",
      "C:\\Siddharth Beast\\Anaconda Python\\GitHub Repo\\PythonLearning\\19 Zipping and Unzipping Files\\02 Find Number\\extracted_content\\One\\LIFDHOFKWOI.txt\n",
      "C:\\Siddharth Beast\\Anaconda Python\\GitHub Repo\\PythonLearning\\19 Zipping and Unzipping Files\\02 Find Number\\extracted_content\\One\\LPNDVDXPZIG.txt\n",
      "C:\\Siddharth Beast\\Anaconda Python\\GitHub Repo\\PythonLearning\\19 Zipping and Unzipping Files\\02 Find Number\\extracted_content\\One\\PDJMSMNKIRM.txt\n",
      "C:\\Siddharth Beast\\Anaconda Python\\GitHub Repo\\PythonLearning\\19 Zipping and Unzipping Files\\02 Find Number\\extracted_content\\One\\PHWAVPEKAER.txt\n",
      "C:\\Siddharth Beast\\Anaconda Python\\GitHub Repo\\PythonLearning\\19 Zipping and Unzipping Files\\02 Find Number\\extracted_content\\One\\PLYCGPVEAWO.txt\n",
      "C:\\Siddharth Beast\\Anaconda Python\\GitHub Repo\\PythonLearning\\19 Zipping and Unzipping Files\\02 Find Number\\extracted_content\\One\\PQNVCVJINAR.txt\n",
      "C:\\Siddharth Beast\\Anaconda Python\\GitHub Repo\\PythonLearning\\19 Zipping and Unzipping Files\\02 Find Number\\extracted_content\\One\\PTOBBCJYURJ.txt\n",
      "C:\\Siddharth Beast\\Anaconda Python\\GitHub Repo\\PythonLearning\\19 Zipping and Unzipping Files\\02 Find Number\\extracted_content\\Three\\VAQIJTDOFUJ.txt\n",
      "C:\\Siddharth Beast\\Anaconda Python\\GitHub Repo\\PythonLearning\\19 Zipping and Unzipping Files\\02 Find Number\\extracted_content\\Three\\VCFJCGJFBIH.txt\n",
      "C:\\Siddharth Beast\\Anaconda Python\\GitHub Repo\\PythonLearning\\19 Zipping and Unzipping Files\\02 Find Number\\extracted_content\\Three\\VSXFSTABZDY.txt\n",
      "C:\\Siddharth Beast\\Anaconda Python\\GitHub Repo\\PythonLearning\\19 Zipping and Unzipping Files\\02 Find Number\\extracted_content\\Three\\VVHFVZUNLOO.txt\n",
      "C:\\Siddharth Beast\\Anaconda Python\\GitHub Repo\\PythonLearning\\19 Zipping and Unzipping Files\\02 Find Number\\extracted_content\\Three\\VVKGWLRMHLU.txt\n",
      "C:\\Siddharth Beast\\Anaconda Python\\GitHub Repo\\PythonLearning\\19 Zipping and Unzipping Files\\02 Find Number\\extracted_content\\Three\\XAJMCPEWFNI.txt\n",
      "C:\\Siddharth Beast\\Anaconda Python\\GitHub Repo\\PythonLearning\\19 Zipping and Unzipping Files\\02 Find Number\\extracted_content\\Three\\XFHJOTNPEJG.txt\n",
      "C:\\Siddharth Beast\\Anaconda Python\\GitHub Repo\\PythonLearning\\19 Zipping and Unzipping Files\\02 Find Number\\extracted_content\\Three\\XHZPVUQTXIO.txt\n",
      "C:\\Siddharth Beast\\Anaconda Python\\GitHub Repo\\PythonLearning\\19 Zipping and Unzipping Files\\02 Find Number\\extracted_content\\Three\\XJCWENFFGHB.txt\n",
      "C:\\Siddharth Beast\\Anaconda Python\\GitHub Repo\\PythonLearning\\19 Zipping and Unzipping Files\\02 Find Number\\extracted_content\\Three\\XVMPVSVYKFR.txt\n",
      "C:\\Siddharth Beast\\Anaconda Python\\GitHub Repo\\PythonLearning\\19 Zipping and Unzipping Files\\02 Find Number\\extracted_content\\Three\\YCESZHJDBXH.txt\n",
      "C:\\Siddharth Beast\\Anaconda Python\\GitHub Repo\\PythonLearning\\19 Zipping and Unzipping Files\\02 Find Number\\extracted_content\\Three\\YDQFMWXOUMW.txt\n",
      "C:\\Siddharth Beast\\Anaconda Python\\GitHub Repo\\PythonLearning\\19 Zipping and Unzipping Files\\02 Find Number\\extracted_content\\Three\\YQBIUHSUEVW.txt\n",
      "C:\\Siddharth Beast\\Anaconda Python\\GitHub Repo\\PythonLearning\\19 Zipping and Unzipping Files\\02 Find Number\\extracted_content\\Three\\YQRNCMNFFHW.txt\n",
      "C:\\Siddharth Beast\\Anaconda Python\\GitHub Repo\\PythonLearning\\19 Zipping and Unzipping Files\\02 Find Number\\extracted_content\\Three\\YYIZGBTQHZP.txt\n",
      "C:\\Siddharth Beast\\Anaconda Python\\GitHub Repo\\PythonLearning\\19 Zipping and Unzipping Files\\02 Find Number\\extracted_content\\Three\\ZEZKKRBIZEB.txt\n",
      "C:\\Siddharth Beast\\Anaconda Python\\GitHub Repo\\PythonLearning\\19 Zipping and Unzipping Files\\02 Find Number\\extracted_content\\Three\\ZKQJXAYKPVD.txt\n",
      "C:\\Siddharth Beast\\Anaconda Python\\GitHub Repo\\PythonLearning\\19 Zipping and Unzipping Files\\02 Find Number\\extracted_content\\Three\\ZOWVXWPOGWP.txt\n",
      "C:\\Siddharth Beast\\Anaconda Python\\GitHub Repo\\PythonLearning\\19 Zipping and Unzipping Files\\02 Find Number\\extracted_content\\Three\\ZXEZRQXZNPG.txt\n",
      "C:\\Siddharth Beast\\Anaconda Python\\GitHub Repo\\PythonLearning\\19 Zipping and Unzipping Files\\02 Find Number\\extracted_content\\Three\\ZXIBJMPROKW.txt\n",
      "C:\\Siddharth Beast\\Anaconda Python\\GitHub Repo\\PythonLearning\\19 Zipping and Unzipping Files\\02 Find Number\\extracted_content\\Two\\GKQBQRCTNNK.txt\n",
      "C:\\Siddharth Beast\\Anaconda Python\\GitHub Repo\\PythonLearning\\19 Zipping and Unzipping Files\\02 Find Number\\extracted_content\\Two\\GMMQQUBMJNR.txt\n",
      "C:\\Siddharth Beast\\Anaconda Python\\GitHub Repo\\PythonLearning\\19 Zipping and Unzipping Files\\02 Find Number\\extracted_content\\Two\\GQTJJORZBXY.txt\n",
      "C:\\Siddharth Beast\\Anaconda Python\\GitHub Repo\\PythonLearning\\19 Zipping and Unzipping Files\\02 Find Number\\extracted_content\\Two\\GTOTCIWMDBY.txt\n",
      "C:\\Siddharth Beast\\Anaconda Python\\GitHub Repo\\PythonLearning\\19 Zipping and Unzipping Files\\02 Find Number\\extracted_content\\Two\\GXYSEPAFRTP.txt\n",
      "C:\\Siddharth Beast\\Anaconda Python\\GitHub Repo\\PythonLearning\\19 Zipping and Unzipping Files\\02 Find Number\\extracted_content\\Two\\HARDNJGDRBC.txt\n",
      "C:\\Siddharth Beast\\Anaconda Python\\GitHub Repo\\PythonLearning\\19 Zipping and Unzipping Files\\02 Find Number\\extracted_content\\Two\\HEORIXOTANT.txt\n",
      "C:\\Siddharth Beast\\Anaconda Python\\GitHub Repo\\PythonLearning\\19 Zipping and Unzipping Files\\02 Find Number\\extracted_content\\Two\\HMUTDOVNYTV.txt\n",
      "C:\\Siddharth Beast\\Anaconda Python\\GitHub Repo\\PythonLearning\\19 Zipping and Unzipping Files\\02 Find Number\\extracted_content\\Two\\HMZXPBOPRAE.txt\n",
      "C:\\Siddharth Beast\\Anaconda Python\\GitHub Repo\\PythonLearning\\19 Zipping and Unzipping Files\\02 Find Number\\extracted_content\\Two\\HTOHSTYXTCO.txt\n",
      "C:\\Siddharth Beast\\Anaconda Python\\GitHub Repo\\PythonLearning\\19 Zipping and Unzipping Files\\02 Find Number\\extracted_content\\Two\\LCJZYDHBFRM.txt\n",
      "C:\\Siddharth Beast\\Anaconda Python\\GitHub Repo\\PythonLearning\\19 Zipping and Unzipping Files\\02 Find Number\\extracted_content\\Two\\LSQSTGPIGIY.txt\n",
      "C:\\Siddharth Beast\\Anaconda Python\\GitHub Repo\\PythonLearning\\19 Zipping and Unzipping Files\\02 Find Number\\extracted_content\\Two\\LULTNYAQEJG.txt\n",
      "C:\\Siddharth Beast\\Anaconda Python\\GitHub Repo\\PythonLearning\\19 Zipping and Unzipping Files\\02 Find Number\\extracted_content\\Two\\LVMBINRBJXL.txt\n",
      "C:\\Siddharth Beast\\Anaconda Python\\GitHub Repo\\PythonLearning\\19 Zipping and Unzipping Files\\02 Find Number\\extracted_content\\Two\\LYZEQCVYNEZ.txt\n",
      "C:\\Siddharth Beast\\Anaconda Python\\GitHub Repo\\PythonLearning\\19 Zipping and Unzipping Files\\02 Find Number\\extracted_content\\Two\\OHZOUOSFJQC.txt\n",
      "C:\\Siddharth Beast\\Anaconda Python\\GitHub Repo\\PythonLearning\\19 Zipping and Unzipping Files\\02 Find Number\\extracted_content\\Two\\OIHMLGMWTHL.txt\n",
      "C:\\Siddharth Beast\\Anaconda Python\\GitHub Repo\\PythonLearning\\19 Zipping and Unzipping Files\\02 Find Number\\extracted_content\\Two\\OKWFOOYTXFU.txt\n",
      "C:\\Siddharth Beast\\Anaconda Python\\GitHub Repo\\PythonLearning\\19 Zipping and Unzipping Files\\02 Find Number\\extracted_content\\Two\\OMWIMVRCMYM.txt\n",
      "C:\\Siddharth Beast\\Anaconda Python\\GitHub Repo\\PythonLearning\\19 Zipping and Unzipping Files\\02 Find Number\\extracted_content\\Two\\OYMAGXAGWHJ.txt\n",
      "C:\\Siddharth Beast\\Anaconda Python\\GitHub Repo\\PythonLearning\\19 Zipping and Unzipping Files\\02 Find Number\\extracted_content\\Two\\SIKFPPLCJDN.txt\n",
      "C:\\Siddharth Beast\\Anaconda Python\\GitHub Repo\\PythonLearning\\19 Zipping and Unzipping Files\\02 Find Number\\extracted_content\\Two\\SJMJLDGPBSJ.txt\n",
      "C:\\Siddharth Beast\\Anaconda Python\\GitHub Repo\\PythonLearning\\19 Zipping and Unzipping Files\\02 Find Number\\extracted_content\\Two\\SOFUJYXTIMK.txt\n",
      "C:\\Siddharth Beast\\Anaconda Python\\GitHub Repo\\PythonLearning\\19 Zipping and Unzipping Files\\02 Find Number\\extracted_content\\Two\\SPDZYGDHEWO.txt\n",
      "C:\\Siddharth Beast\\Anaconda Python\\GitHub Repo\\PythonLearning\\19 Zipping and Unzipping Files\\02 Find Number\\extracted_content\\Two\\SWOFXREEHWA.txt\n"
     ]
    }
   ],
   "source": [
    "for folder,sub_folders,files in os.walk(os.getcwd()+'\\\\extracted_content'):\n",
    "    for f in files:\n",
    "        full_path = folder+'\\\\'+f\n",
    "        print(full_path) # full path of each file"
   ]
  },
  {
   "cell_type": "markdown",
   "id": "fabde32e",
   "metadata": {},
   "source": [
    "---"
   ]
  },
  {
   "cell_type": "code",
   "execution_count": 14,
   "id": "f9b74177",
   "metadata": {},
   "outputs": [],
   "source": [
    "results = []\n",
    "\n",
    "for folder,sub_folders,files in os.walk(os.getcwd()+'\\\\extracted_content'):\n",
    "    for f in files:\n",
    "        full_path = folder+'\\\\'+f\n",
    "        results.append(search_pattern(full_path))"
   ]
  },
  {
   "cell_type": "code",
   "execution_count": 15,
   "id": "beee6a67",
   "metadata": {},
   "outputs": [
    {
     "data": {
      "text/plain": [
       "['', '', <re.Match object; span=(1062, 1074), match='719-266-2837'>, '', '']"
      ]
     },
     "execution_count": 15,
     "metadata": {},
     "output_type": "execute_result"
    }
   ],
   "source": [
    "results[25:30]"
   ]
  },
  {
   "cell_type": "code",
   "execution_count": 16,
   "id": "5f0d364f",
   "metadata": {},
   "outputs": [
    {
     "data": {
      "text/plain": [
       "121"
      ]
     },
     "execution_count": 16,
     "metadata": {},
     "output_type": "execute_result"
    }
   ],
   "source": [
    "len(results)"
   ]
  },
  {
   "cell_type": "code",
   "execution_count": 17,
   "id": "32560f51",
   "metadata": {},
   "outputs": [
    {
     "name": "stdout",
     "output_type": "stream",
     "text": [
      "719-266-2837\n"
     ]
    }
   ],
   "source": [
    "for r in results:\n",
    "    if r!='':\n",
    "        print(r.group())"
   ]
  },
  {
   "cell_type": "code",
   "execution_count": null,
   "id": "ca061847",
   "metadata": {},
   "outputs": [],
   "source": []
  },
  {
   "cell_type": "code",
   "execution_count": 18,
   "id": "8d4c60ee",
   "metadata": {},
   "outputs": [
    {
     "name": "stdout",
     "output_type": "stream",
     "text": [
      "['719-266-2837']\n"
     ]
    }
   ],
   "source": [
    "results = []\n",
    "\n",
    "def search_pattern(file,pattern= r'\\d{3}-\\d{3}-\\d{4}'):\n",
    "    f = open(file,'r')\n",
    "    text = f.read()\n",
    "    if re.findall(pattern,text):\n",
    "        return(re.findall(pattern,text))\n",
    "    else:\n",
    "        pass\n",
    "    \n",
    "for folder,sub_folders,files in os.walk(os.getcwd()+'\\\\extracted_content'):\n",
    "    for f in files:\n",
    "        full_path = folder+'\\\\'+f\n",
    "        results.append(search_pattern(full_path))\n",
    "\n",
    "for r in results:\n",
    "    if r:\n",
    "        print(r)"
   ]
  },
  {
   "cell_type": "code",
   "execution_count": 19,
   "id": "3b69c3dc",
   "metadata": {},
   "outputs": [
    {
     "data": {
      "text/plain": [
       "121"
      ]
     },
     "execution_count": 19,
     "metadata": {},
     "output_type": "execute_result"
    }
   ],
   "source": [
    "len(results)"
   ]
  },
  {
   "cell_type": "code",
   "execution_count": 20,
   "id": "130ada66",
   "metadata": {},
   "outputs": [
    {
     "data": {
      "text/plain": [
       "[None, None, ['719-266-2837'], None, None]"
      ]
     },
     "execution_count": 20,
     "metadata": {},
     "output_type": "execute_result"
    }
   ],
   "source": [
    "results[25:30]"
   ]
  },
  {
   "cell_type": "markdown",
   "id": "5345b3ec",
   "metadata": {},
   "source": [
    "### Thank You"
   ]
  }
 ],
 "metadata": {
  "kernelspec": {
   "display_name": "Python 3 (ipykernel)",
   "language": "python",
   "name": "python3"
  },
  "language_info": {
   "codemirror_mode": {
    "name": "ipython",
    "version": 3
   },
   "file_extension": ".py",
   "mimetype": "text/x-python",
   "name": "python",
   "nbconvert_exporter": "python",
   "pygments_lexer": "ipython3",
   "version": "3.10.9"
  }
 },
 "nbformat": 4,
 "nbformat_minor": 5
}
