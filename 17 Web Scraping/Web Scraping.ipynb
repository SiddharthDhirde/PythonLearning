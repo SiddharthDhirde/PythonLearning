{
 "cells": [
  {
   "cell_type": "code",
   "execution_count": 1,
   "id": "08f57f6f",
   "metadata": {},
   "outputs": [],
   "source": [
    "# Om Namah Shivay"
   ]
  },
  {
   "cell_type": "markdown",
   "id": "9cb5311b",
   "metadata": {},
   "source": [
    "# 25-09-2022"
   ]
  },
  {
   "cell_type": "markdown",
   "id": "ead98055",
   "metadata": {},
   "source": [
    "# 116 Intro to Web Scraping (NEW / UPDATED)"
   ]
  },
  {
   "cell_type": "markdown",
   "id": "8d81a0d8",
   "metadata": {},
   "source": [
    "# 118 Grabbing a Title"
   ]
  },
  {
   "cell_type": "code",
   "execution_count": 2,
   "id": "f05b87a2",
   "metadata": {},
   "outputs": [],
   "source": [
    "import requests\n",
    "import bs4"
   ]
  },
  {
   "cell_type": "code",
   "execution_count": 3,
   "id": "c3663d86",
   "metadata": {},
   "outputs": [],
   "source": [
    "result = requests.get(\"http://www.example.com\")"
   ]
  },
  {
   "cell_type": "code",
   "execution_count": 4,
   "id": "ef6f6198",
   "metadata": {},
   "outputs": [
    {
     "data": {
      "text/plain": [
       "requests.models.Response"
      ]
     },
     "execution_count": 4,
     "metadata": {},
     "output_type": "execute_result"
    }
   ],
   "source": [
    "type(result)"
   ]
  },
  {
   "cell_type": "code",
   "execution_count": 5,
   "id": "e33129a5",
   "metadata": {
    "scrolled": true
   },
   "outputs": [
    {
     "data": {
      "text/plain": [
       "'<!doctype html>\\n<html>\\n<head>\\n    <title>Example Domain</title>\\n\\n    <meta charset=\"utf-8\" />\\n    <meta http-equiv=\"Content-type\" content=\"text/html; charset=utf-8\" />\\n    <meta name=\"viewport\" content=\"width=device-width, initial-scale=1\" />\\n    <style type=\"text/css\">\\n    body {\\n        background-color: #f0f0f2;\\n        margin: 0;\\n        padding: 0;\\n        font-family: -apple-system, system-ui, BlinkMacSystemFont, \"Segoe UI\", \"Open Sans\", \"Helvetica Neue\", Helvetica, Arial, sans-serif;\\n        \\n    }\\n    div {\\n        width: 600px;\\n        margin: 5em auto;\\n        padding: 2em;\\n        background-color: #fdfdff;\\n        border-radius: 0.5em;\\n        box-shadow: 2px 3px 7px 2px rgba(0,0,0,0.02);\\n    }\\n    a:link, a:visited {\\n        color: #38488f;\\n        text-decoration: none;\\n    }\\n    @media (max-width: 700px) {\\n        div {\\n            margin: 0 auto;\\n            width: auto;\\n        }\\n    }\\n    </style>    \\n</head>\\n\\n<body>\\n<div>\\n    <h1>Example Domain</h1>\\n    <p>This domain is for use in illustrative examples in documents. You may use this\\n    domain in literature without prior coordination or asking for permission.</p>\\n    <p><a href=\"https://www.iana.org/domains/example\">More information...</a></p>\\n</div>\\n</body>\\n</html>\\n'"
      ]
     },
     "execution_count": 5,
     "metadata": {},
     "output_type": "execute_result"
    }
   ],
   "source": [
    "result.text"
   ]
  },
  {
   "cell_type": "code",
   "execution_count": 6,
   "id": "4b4ab435",
   "metadata": {},
   "outputs": [
    {
     "name": "stdout",
     "output_type": "stream",
     "text": [
      "<!doctype html>\n",
      "<html>\n",
      "<head>\n",
      "    <title>Example Domain</title>\n",
      "\n",
      "    <meta charset=\"utf-8\" />\n",
      "    <meta http-equiv=\"Content-type\" content=\"text/html; charset=utf-8\" />\n",
      "    <meta name=\"viewport\" content=\"width=device-width, initial-scale=1\" />\n",
      "    <style type=\"text/css\">\n",
      "    body {\n",
      "        background-color: #f0f0f2;\n",
      "        margin: 0;\n",
      "        padding: 0;\n",
      "        font-family: -apple-system, system-ui, BlinkMacSystemFont, \"Segoe UI\", \"Open Sans\", \"Helvetica Neue\", Helvetica, Arial, sans-serif;\n",
      "        \n",
      "    }\n",
      "    div {\n",
      "        width: 600px;\n",
      "        margin: 5em auto;\n",
      "        padding: 2em;\n",
      "        background-color: #fdfdff;\n",
      "        border-radius: 0.5em;\n",
      "        box-shadow: 2px 3px 7px 2px rgba(0,0,0,0.02);\n",
      "    }\n",
      "    a:link, a:visited {\n",
      "        color: #38488f;\n",
      "        text-decoration: none;\n",
      "    }\n",
      "    @media (max-width: 700px) {\n",
      "        div {\n",
      "            margin: 0 auto;\n",
      "            width: auto;\n",
      "        }\n",
      "    }\n",
      "    </style>    \n",
      "</head>\n",
      "\n",
      "<body>\n",
      "<div>\n",
      "    <h1>Example Domain</h1>\n",
      "    <p>This domain is for use in illustrative examples in documents. You may use this\n",
      "    domain in literature without prior coordination or asking for permission.</p>\n",
      "    <p><a href=\"https://www.iana.org/domains/example\">More information...</a></p>\n",
      "</div>\n",
      "</body>\n",
      "</html>\n",
      "\n"
     ]
    }
   ],
   "source": [
    "print(result.text)"
   ]
  },
  {
   "cell_type": "code",
   "execution_count": 7,
   "id": "10e88c76",
   "metadata": {},
   "outputs": [
    {
     "data": {
      "text/plain": [
       "{'Content-Encoding': 'gzip', 'Accept-Ranges': 'bytes', 'Age': '523294', 'Cache-Control': 'max-age=604800', 'Content-Type': 'text/html; charset=UTF-8', 'Date': 'Sun, 16 Oct 2022 04:52:58 GMT', 'Etag': '\"3147526947+gzip\"', 'Expires': 'Sun, 23 Oct 2022 04:52:58 GMT', 'Last-Modified': 'Thu, 17 Oct 2019 07:18:26 GMT', 'Server': 'ECS (nyb/1D2A)', 'Vary': 'Accept-Encoding', 'X-Cache': 'HIT', 'Content-Length': '648'}"
      ]
     },
     "execution_count": 7,
     "metadata": {},
     "output_type": "execute_result"
    }
   ],
   "source": [
    "result.headers"
   ]
  },
  {
   "cell_type": "code",
   "execution_count": 8,
   "id": "7817492e",
   "metadata": {},
   "outputs": [
    {
     "data": {
      "text/plain": [
       "'http://www.example.com/'"
      ]
     },
     "execution_count": 8,
     "metadata": {},
     "output_type": "execute_result"
    }
   ],
   "source": [
    "result.url"
   ]
  },
  {
   "cell_type": "code",
   "execution_count": 9,
   "id": "8cc0bef2",
   "metadata": {},
   "outputs": [
    {
     "data": {
      "text/plain": [
       "<PreparedRequest [GET]>"
      ]
     },
     "execution_count": 9,
     "metadata": {},
     "output_type": "execute_result"
    }
   ],
   "source": [
    "result.request"
   ]
  },
  {
   "cell_type": "code",
   "execution_count": 10,
   "id": "6da67851",
   "metadata": {},
   "outputs": [
    {
     "data": {
      "text/plain": [
       "<requests.adapters.HTTPAdapter at 0x3c00e20>"
      ]
     },
     "execution_count": 10,
     "metadata": {},
     "output_type": "execute_result"
    }
   ],
   "source": [
    "result.connection"
   ]
  },
  {
   "cell_type": "code",
   "execution_count": 11,
   "id": "8608211c",
   "metadata": {},
   "outputs": [
    {
     "data": {
      "text/plain": [
       "<bound method Response.json of <Response [200]>>"
      ]
     },
     "execution_count": 11,
     "metadata": {},
     "output_type": "execute_result"
    }
   ],
   "source": [
    "result.json"
   ]
  },
  {
   "cell_type": "code",
   "execution_count": 12,
   "id": "28d354df",
   "metadata": {},
   "outputs": [
    {
     "data": {
      "text/plain": [
       "[]"
      ]
     },
     "execution_count": 12,
     "metadata": {},
     "output_type": "execute_result"
    }
   ],
   "source": [
    "result.history"
   ]
  },
  {
   "cell_type": "code",
   "execution_count": 13,
   "id": "f698eee8",
   "metadata": {},
   "outputs": [
    {
     "data": {
      "text/plain": [
       "True"
      ]
     },
     "execution_count": 13,
     "metadata": {},
     "output_type": "execute_result"
    }
   ],
   "source": [
    "result.ok"
   ]
  },
  {
   "cell_type": "code",
   "execution_count": 14,
   "id": "71c44ba6",
   "metadata": {},
   "outputs": [
    {
     "data": {
      "text/plain": [
       "<RequestsCookieJar[]>"
      ]
     },
     "execution_count": 14,
     "metadata": {},
     "output_type": "execute_result"
    }
   ],
   "source": [
    "result.cookies"
   ]
  },
  {
   "cell_type": "code",
   "execution_count": 15,
   "id": "acda8eb0",
   "metadata": {},
   "outputs": [
    {
     "data": {
      "text/plain": [
       "'OK'"
      ]
     },
     "execution_count": 15,
     "metadata": {},
     "output_type": "execute_result"
    }
   ],
   "source": [
    "result.reason"
   ]
  },
  {
   "cell_type": "code",
   "execution_count": 16,
   "id": "16ed978e",
   "metadata": {},
   "outputs": [
    {
     "data": {
      "text/plain": [
       "<urllib3.response.HTTPResponse at 0x45250d0>"
      ]
     },
     "execution_count": 16,
     "metadata": {},
     "output_type": "execute_result"
    }
   ],
   "source": [
    "result.raw"
   ]
  },
  {
   "cell_type": "code",
   "execution_count": 17,
   "id": "841d38c0",
   "metadata": {},
   "outputs": [
    {
     "data": {
      "text/plain": [
       "200"
      ]
     },
     "execution_count": 17,
     "metadata": {},
     "output_type": "execute_result"
    }
   ],
   "source": [
    "result.status_code"
   ]
  },
  {
   "cell_type": "code",
   "execution_count": 18,
   "id": "10208aeb",
   "metadata": {},
   "outputs": [
    {
     "data": {
      "text/plain": [
       "<bound method Response.raise_for_status of <Response [200]>>"
      ]
     },
     "execution_count": 18,
     "metadata": {},
     "output_type": "execute_result"
    }
   ],
   "source": [
    "result.raise_for_status"
   ]
  },
  {
   "cell_type": "code",
   "execution_count": 19,
   "id": "9e5e6591",
   "metadata": {},
   "outputs": [
    {
     "data": {
      "text/plain": [
       "False"
      ]
     },
     "execution_count": 19,
     "metadata": {},
     "output_type": "execute_result"
    }
   ],
   "source": [
    "result.is_permanent_redirect"
   ]
  },
  {
   "cell_type": "code",
   "execution_count": 20,
   "id": "31cd1906",
   "metadata": {},
   "outputs": [
    {
     "data": {
      "text/plain": [
       "'utf-8'"
      ]
     },
     "execution_count": 20,
     "metadata": {},
     "output_type": "execute_result"
    }
   ],
   "source": [
    "result.apparent_encoding"
   ]
  },
  {
   "cell_type": "code",
   "execution_count": 21,
   "id": "05cf06aa",
   "metadata": {},
   "outputs": [
    {
     "data": {
      "text/plain": [
       "<requests.adapters.HTTPAdapter at 0x3c00e20>"
      ]
     },
     "execution_count": 21,
     "metadata": {},
     "output_type": "execute_result"
    }
   ],
   "source": [
    "result.connection"
   ]
  },
  {
   "cell_type": "code",
   "execution_count": 22,
   "id": "249184d1",
   "metadata": {},
   "outputs": [
    {
     "data": {
      "text/plain": [
       "datetime.timedelta(microseconds=633645)"
      ]
     },
     "execution_count": 22,
     "metadata": {},
     "output_type": "execute_result"
    }
   ],
   "source": [
    "result.elapsed"
   ]
  },
  {
   "cell_type": "code",
   "execution_count": 23,
   "id": "d7fa5f28",
   "metadata": {},
   "outputs": [],
   "source": [
    "result.next"
   ]
  },
  {
   "cell_type": "code",
   "execution_count": 24,
   "id": "7af076d9",
   "metadata": {},
   "outputs": [
    {
     "data": {
      "text/plain": [
       "'UTF-8'"
      ]
     },
     "execution_count": 24,
     "metadata": {},
     "output_type": "execute_result"
    }
   ],
   "source": [
    "result.encoding"
   ]
  },
  {
   "cell_type": "code",
   "execution_count": null,
   "id": "5dc916a3",
   "metadata": {},
   "outputs": [],
   "source": []
  },
  {
   "cell_type": "code",
   "execution_count": null,
   "id": "f1921d28",
   "metadata": {},
   "outputs": [],
   "source": []
  },
  {
   "cell_type": "code",
   "execution_count": 25,
   "id": "d09547eb",
   "metadata": {},
   "outputs": [],
   "source": [
    "import lxml"
   ]
  },
  {
   "cell_type": "code",
   "execution_count": 26,
   "id": "02e675d5",
   "metadata": {},
   "outputs": [],
   "source": [
    "soup = bs4.BeautifulSoup(result.text,'lxml')"
   ]
  },
  {
   "cell_type": "code",
   "execution_count": 27,
   "id": "3b61010b",
   "metadata": {},
   "outputs": [
    {
     "data": {
      "text/plain": [
       "bs4.BeautifulSoup"
      ]
     },
     "execution_count": 27,
     "metadata": {},
     "output_type": "execute_result"
    }
   ],
   "source": [
    "type(soup)"
   ]
  },
  {
   "cell_type": "code",
   "execution_count": 28,
   "id": "8b71f5ad",
   "metadata": {},
   "outputs": [
    {
     "data": {
      "text/plain": [
       "<!DOCTYPE html>\n",
       "<html>\n",
       "<head>\n",
       "<title>Example Domain</title>\n",
       "<meta charset=\"utf-8\"/>\n",
       "<meta content=\"text/html; charset=utf-8\" http-equiv=\"Content-type\"/>\n",
       "<meta content=\"width=device-width, initial-scale=1\" name=\"viewport\"/>\n",
       "<style type=\"text/css\">\n",
       "    body {\n",
       "        background-color: #f0f0f2;\n",
       "        margin: 0;\n",
       "        padding: 0;\n",
       "        font-family: -apple-system, system-ui, BlinkMacSystemFont, \"Segoe UI\", \"Open Sans\", \"Helvetica Neue\", Helvetica, Arial, sans-serif;\n",
       "        \n",
       "    }\n",
       "    div {\n",
       "        width: 600px;\n",
       "        margin: 5em auto;\n",
       "        padding: 2em;\n",
       "        background-color: #fdfdff;\n",
       "        border-radius: 0.5em;\n",
       "        box-shadow: 2px 3px 7px 2px rgba(0,0,0,0.02);\n",
       "    }\n",
       "    a:link, a:visited {\n",
       "        color: #38488f;\n",
       "        text-decoration: none;\n",
       "    }\n",
       "    @media (max-width: 700px) {\n",
       "        div {\n",
       "            margin: 0 auto;\n",
       "            width: auto;\n",
       "        }\n",
       "    }\n",
       "    </style>\n",
       "</head>\n",
       "<body>\n",
       "<div>\n",
       "<h1>Example Domain</h1>\n",
       "<p>This domain is for use in illustrative examples in documents. You may use this\n",
       "    domain in literature without prior coordination or asking for permission.</p>\n",
       "<p><a href=\"https://www.iana.org/domains/example\">More information...</a></p>\n",
       "</div>\n",
       "</body>\n",
       "</html>"
      ]
     },
     "execution_count": 28,
     "metadata": {},
     "output_type": "execute_result"
    }
   ],
   "source": [
    "soup"
   ]
  },
  {
   "cell_type": "code",
   "execution_count": 29,
   "id": "e47d3c57",
   "metadata": {},
   "outputs": [
    {
     "data": {
      "text/plain": [
       "[<title>Example Domain</title>]"
      ]
     },
     "execution_count": 29,
     "metadata": {},
     "output_type": "execute_result"
    }
   ],
   "source": [
    "soup.select('title')"
   ]
  },
  {
   "cell_type": "code",
   "execution_count": 30,
   "id": "ac2e2dd3",
   "metadata": {},
   "outputs": [
    {
     "name": "stdout",
     "output_type": "stream",
     "text": [
      "[<title>Example Domain</title>]\n"
     ]
    }
   ],
   "source": [
    "print(soup.select('title'))"
   ]
  },
  {
   "cell_type": "code",
   "execution_count": 31,
   "id": "1d7e14a1",
   "metadata": {},
   "outputs": [
    {
     "data": {
      "text/plain": [
       "[<p>This domain is for use in illustrative examples in documents. You may use this\n",
       "     domain in literature without prior coordination or asking for permission.</p>,\n",
       " <p><a href=\"https://www.iana.org/domains/example\">More information...</a></p>]"
      ]
     },
     "execution_count": 31,
     "metadata": {},
     "output_type": "execute_result"
    }
   ],
   "source": [
    "soup.select('p')"
   ]
  },
  {
   "cell_type": "code",
   "execution_count": 32,
   "id": "cac5b207",
   "metadata": {},
   "outputs": [
    {
     "name": "stdout",
     "output_type": "stream",
     "text": [
      "[<p>This domain is for use in illustrative examples in documents. You may use this\n",
      "    domain in literature without prior coordination or asking for permission.</p>, <p><a href=\"https://www.iana.org/domains/example\">More information...</a></p>]\n"
     ]
    }
   ],
   "source": [
    "print(soup.select('p'))"
   ]
  },
  {
   "cell_type": "code",
   "execution_count": 33,
   "id": "48fd7486",
   "metadata": {},
   "outputs": [
    {
     "data": {
      "text/plain": [
       "[<h1>Example Domain</h1>]"
      ]
     },
     "execution_count": 33,
     "metadata": {},
     "output_type": "execute_result"
    }
   ],
   "source": [
    "soup.select('h1')"
   ]
  },
  {
   "cell_type": "code",
   "execution_count": 34,
   "id": "c01575f7",
   "metadata": {},
   "outputs": [
    {
     "data": {
      "text/plain": [
       "[<h1>Example Domain</h1>]"
      ]
     },
     "execution_count": 34,
     "metadata": {},
     "output_type": "execute_result"
    }
   ],
   "source": [
    "soup.select('H1')"
   ]
  },
  {
   "cell_type": "code",
   "execution_count": 35,
   "id": "aee06946",
   "metadata": {},
   "outputs": [
    {
     "data": {
      "text/plain": [
       "[<title>Example Domain</title>]"
      ]
     },
     "execution_count": 35,
     "metadata": {},
     "output_type": "execute_result"
    }
   ],
   "source": [
    "soup.select('title')"
   ]
  },
  {
   "cell_type": "code",
   "execution_count": 36,
   "id": "51416a42",
   "metadata": {},
   "outputs": [
    {
     "data": {
      "text/plain": [
       "<title>Example Domain</title>"
      ]
     },
     "execution_count": 36,
     "metadata": {},
     "output_type": "execute_result"
    }
   ],
   "source": [
    "soup.select('title')[0]"
   ]
  },
  {
   "cell_type": "code",
   "execution_count": 37,
   "id": "fc83abf3",
   "metadata": {},
   "outputs": [
    {
     "data": {
      "text/plain": [
       "'Example Domain'"
      ]
     },
     "execution_count": 37,
     "metadata": {},
     "output_type": "execute_result"
    }
   ],
   "source": [
    "soup.select('title')[0].getText()"
   ]
  },
  {
   "cell_type": "code",
   "execution_count": 38,
   "id": "03139515",
   "metadata": {},
   "outputs": [
    {
     "data": {
      "text/plain": [
       "'This domain is for use in illustrative examples in documents. You may use this\\n    domain in literature without prior coordination or asking for permission.'"
      ]
     },
     "execution_count": 38,
     "metadata": {},
     "output_type": "execute_result"
    }
   ],
   "source": [
    "soup.select('p')[0].getText()"
   ]
  },
  {
   "cell_type": "code",
   "execution_count": 39,
   "id": "85bb3b71",
   "metadata": {},
   "outputs": [
    {
     "data": {
      "text/plain": [
       "'More information...'"
      ]
     },
     "execution_count": 39,
     "metadata": {},
     "output_type": "execute_result"
    }
   ],
   "source": [
    "soup.select('p')[1].getText()"
   ]
  },
  {
   "cell_type": "code",
   "execution_count": 40,
   "id": "8e33c234",
   "metadata": {},
   "outputs": [],
   "source": [
    "site_paragraphs = soup.select('p')"
   ]
  },
  {
   "cell_type": "code",
   "execution_count": 41,
   "id": "ce0fa1f9",
   "metadata": {},
   "outputs": [
    {
     "data": {
      "text/plain": [
       "<p>This domain is for use in illustrative examples in documents. You may use this\n",
       "    domain in literature without prior coordination or asking for permission.</p>"
      ]
     },
     "execution_count": 41,
     "metadata": {},
     "output_type": "execute_result"
    }
   ],
   "source": [
    "site_paragraphs[0]"
   ]
  },
  {
   "cell_type": "code",
   "execution_count": 42,
   "id": "2bed4a38",
   "metadata": {},
   "outputs": [
    {
     "name": "stdout",
     "output_type": "stream",
     "text": [
      "[<p>This domain is for use in illustrative examples in documents. You may use this\n",
      "    domain in literature without prior coordination or asking for permission.</p>, <p><a href=\"https://www.iana.org/domains/example\">More information...</a></p>]\n"
     ]
    }
   ],
   "source": [
    "print(site_paragraphs)"
   ]
  },
  {
   "cell_type": "code",
   "execution_count": 43,
   "id": "4779cbd6",
   "metadata": {},
   "outputs": [
    {
     "data": {
      "text/plain": [
       "bs4.element.ResultSet"
      ]
     },
     "execution_count": 43,
     "metadata": {},
     "output_type": "execute_result"
    }
   ],
   "source": [
    "type(site_paragraphs)"
   ]
  },
  {
   "cell_type": "code",
   "execution_count": 44,
   "id": "271cb6d5",
   "metadata": {},
   "outputs": [
    {
     "data": {
      "text/plain": [
       "bs4.element.Tag"
      ]
     },
     "execution_count": 44,
     "metadata": {},
     "output_type": "execute_result"
    }
   ],
   "source": [
    "type(site_paragraphs[0])"
   ]
  },
  {
   "cell_type": "code",
   "execution_count": 45,
   "id": "a7b631a1",
   "metadata": {},
   "outputs": [
    {
     "data": {
      "text/plain": [
       "bs4.element.Tag"
      ]
     },
     "execution_count": 45,
     "metadata": {},
     "output_type": "execute_result"
    }
   ],
   "source": [
    "type(site_paragraphs[1])"
   ]
  },
  {
   "cell_type": "code",
   "execution_count": null,
   "id": "c2de6024",
   "metadata": {},
   "outputs": [],
   "source": []
  },
  {
   "cell_type": "code",
   "execution_count": 46,
   "id": "0bb137be",
   "metadata": {},
   "outputs": [
    {
     "data": {
      "text/plain": [
       "<p>This domain is for use in illustrative examples in documents. You may use this\n",
       "    domain in literature without prior coordination or asking for permission.</p>"
      ]
     },
     "execution_count": 46,
     "metadata": {},
     "output_type": "execute_result"
    }
   ],
   "source": [
    "site_paragraphs[0]"
   ]
  },
  {
   "cell_type": "code",
   "execution_count": 47,
   "id": "ed491572",
   "metadata": {},
   "outputs": [
    {
     "data": {
      "text/plain": [
       "'This domain is for use in illustrative examples in documents. You may use this\\n    domain in literature without prior coordination or asking for permission.'"
      ]
     },
     "execution_count": 47,
     "metadata": {},
     "output_type": "execute_result"
    }
   ],
   "source": [
    "site_paragraphs[0].getText()"
   ]
  },
  {
   "cell_type": "code",
   "execution_count": 48,
   "id": "b9eadaea",
   "metadata": {},
   "outputs": [
    {
     "name": "stdout",
     "output_type": "stream",
     "text": [
      "This domain is for use in illustrative examples in documents. You may use this\n",
      "    domain in literature without prior coordination or asking for permission.\n"
     ]
    }
   ],
   "source": [
    "print(site_paragraphs[0].getText())"
   ]
  },
  {
   "cell_type": "code",
   "execution_count": null,
   "id": "1c76a209",
   "metadata": {},
   "outputs": [],
   "source": [
    "\n",
    "\n",
    "\n",
    "\n",
    "\n",
    "\n",
    "\n",
    "\n",
    "\n",
    "\n",
    "\n",
    "\n",
    "\n",
    "\n",
    "\n",
    "\n",
    "\n",
    "\n",
    "\n",
    "\n",
    "\n",
    "\n",
    "\n",
    "\n",
    "\n",
    "\n",
    "\n",
    "\n",
    "\n",
    "\n",
    "\n",
    "\n",
    "\n",
    "\n",
    "\n",
    "\n",
    "\n",
    "\n",
    "\n",
    "\n",
    "\n",
    "\n",
    "\n",
    "\n"
   ]
  },
  {
   "cell_type": "markdown",
   "id": "ce179893",
   "metadata": {},
   "source": [
    "# 119 Grabbing a Class\n",
    "# 27/09/2022"
   ]
  },
  {
   "cell_type": "code",
   "execution_count": 105,
   "id": "4049d7f5",
   "metadata": {},
   "outputs": [],
   "source": [
    "res = requests.get('https://en.wikipedia.org/wiki/Grace_Hopper')"
   ]
  },
  {
   "cell_type": "code",
   "execution_count": 106,
   "id": "78c17f24",
   "metadata": {},
   "outputs": [],
   "source": [
    "soup = bs4.BeautifulSoup(res.text, 'lxml')"
   ]
  },
  {
   "cell_type": "code",
   "execution_count": 107,
   "id": "62e310e9",
   "metadata": {
    "scrolled": true
   },
   "outputs": [],
   "source": [
    "# soup"
   ]
  },
  {
   "cell_type": "code",
   "execution_count": 108,
   "id": "3cd2af89",
   "metadata": {},
   "outputs": [
    {
     "data": {
      "text/plain": [
       "[<span class=\"toctext\">Early life and education</span>,\n",
       " <span class=\"toctext\">Career</span>,\n",
       " <span class=\"toctext\">World War II</span>,\n",
       " <span class=\"toctext\">UNIVAC</span>,\n",
       " <span class=\"toctext\">COBOL</span>,\n",
       " <span class=\"toctext\">Standards</span>,\n",
       " <span class=\"toctext\">Retirement</span>,\n",
       " <span class=\"toctext\">Post-retirement</span>,\n",
       " <span class=\"toctext\">Anecdotes</span>,\n",
       " <span class=\"toctext\">Death</span>,\n",
       " <span class=\"toctext\">Dates of rank</span>,\n",
       " <span class=\"toctext\">Awards and honors</span>,\n",
       " <span class=\"toctext\">Military awards</span>,\n",
       " <span class=\"toctext\">Other awards</span>,\n",
       " <span class=\"toctext\">Legacy</span>,\n",
       " <span class=\"toctext\">Places</span>,\n",
       " <span class=\"toctext\">Programs</span>,\n",
       " <span class=\"toctext\">In popular culture</span>,\n",
       " <span class=\"toctext\">Grace Hopper Celebration of Women in Computing</span>,\n",
       " <span class=\"toctext\">See also</span>,\n",
       " <span class=\"toctext\">Notes</span>,\n",
       " <span class=\"toctext\">Obituary notices</span>,\n",
       " <span class=\"toctext\">References</span>,\n",
       " <span class=\"toctext\">Further reading</span>,\n",
       " <span class=\"toctext\">External links</span>]"
      ]
     },
     "execution_count": 108,
     "metadata": {},
     "output_type": "execute_result"
    }
   ],
   "source": [
    "soup.select('.toctext')"
   ]
  },
  {
   "cell_type": "code",
   "execution_count": 109,
   "id": "c8823421",
   "metadata": {},
   "outputs": [
    {
     "data": {
      "text/plain": [
       "<span class=\"toctext\">Early life and education</span>"
      ]
     },
     "execution_count": 109,
     "metadata": {},
     "output_type": "execute_result"
    }
   ],
   "source": [
    "soup.select('.toctext')[0]"
   ]
  },
  {
   "cell_type": "code",
   "execution_count": 110,
   "id": "c712fe1f",
   "metadata": {},
   "outputs": [
    {
     "name": "stdout",
     "output_type": "stream",
     "text": [
      "<span class=\"toctext\">Early life and education</span>\n"
     ]
    }
   ],
   "source": [
    "print(soup.select('.toctext')[0])"
   ]
  },
  {
   "cell_type": "code",
   "execution_count": 111,
   "id": "339bedc5",
   "metadata": {},
   "outputs": [
    {
     "data": {
      "text/plain": [
       "'Early life and education'"
      ]
     },
     "execution_count": 111,
     "metadata": {},
     "output_type": "execute_result"
    }
   ],
   "source": [
    "soup.select('.toctext')[0].getText()"
   ]
  },
  {
   "cell_type": "code",
   "execution_count": 112,
   "id": "f126b959",
   "metadata": {},
   "outputs": [
    {
     "name": "stdout",
     "output_type": "stream",
     "text": [
      "Early life and education\n"
     ]
    }
   ],
   "source": [
    "print(soup.select('.toctext')[0].getText())"
   ]
  },
  {
   "cell_type": "code",
   "execution_count": 113,
   "id": "9d88f409",
   "metadata": {},
   "outputs": [],
   "source": [
    "first_item = soup.select('.toctext')[0]"
   ]
  },
  {
   "cell_type": "code",
   "execution_count": 114,
   "id": "d7cce8aa",
   "metadata": {},
   "outputs": [
    {
     "data": {
      "text/plain": [
       "<span class=\"toctext\">Early life and education</span>"
      ]
     },
     "execution_count": 114,
     "metadata": {},
     "output_type": "execute_result"
    }
   ],
   "source": [
    "first_item"
   ]
  },
  {
   "cell_type": "code",
   "execution_count": 115,
   "id": "e7bcb862",
   "metadata": {},
   "outputs": [
    {
     "data": {
      "text/plain": [
       "'Early life and education'"
      ]
     },
     "execution_count": 115,
     "metadata": {},
     "output_type": "execute_result"
    }
   ],
   "source": [
    "first_item.text"
   ]
  },
  {
   "cell_type": "code",
   "execution_count": 116,
   "id": "8fb4ee59",
   "metadata": {},
   "outputs": [
    {
     "data": {
      "text/plain": [
       "'Early life and education'"
      ]
     },
     "execution_count": 116,
     "metadata": {},
     "output_type": "execute_result"
    }
   ],
   "source": [
    "soup.select('.toctext')[0].getText()"
   ]
  },
  {
   "cell_type": "code",
   "execution_count": 117,
   "id": "efa47403",
   "metadata": {},
   "outputs": [
    {
     "data": {
      "text/plain": [
       "'Early life and education'"
      ]
     },
     "execution_count": 117,
     "metadata": {},
     "output_type": "execute_result"
    }
   ],
   "source": [
    "soup.select('.toctext')[0].text"
   ]
  },
  {
   "cell_type": "code",
   "execution_count": 118,
   "id": "202e846c",
   "metadata": {},
   "outputs": [
    {
     "name": "stdout",
     "output_type": "stream",
     "text": [
      "Early life and education\n"
     ]
    }
   ],
   "source": [
    "print(first_item.text)"
   ]
  },
  {
   "cell_type": "code",
   "execution_count": 119,
   "id": "f6afb799",
   "metadata": {},
   "outputs": [
    {
     "name": "stdout",
     "output_type": "stream",
     "text": [
      "<span class=\"toctext\">Early life and education</span>\n",
      "<span class=\"toctext\">Career</span>\n",
      "<span class=\"toctext\">World War II</span>\n",
      "<span class=\"toctext\">UNIVAC</span>\n",
      "<span class=\"toctext\">COBOL</span>\n",
      "<span class=\"toctext\">Standards</span>\n",
      "<span class=\"toctext\">Retirement</span>\n",
      "<span class=\"toctext\">Post-retirement</span>\n",
      "<span class=\"toctext\">Anecdotes</span>\n",
      "<span class=\"toctext\">Death</span>\n",
      "<span class=\"toctext\">Dates of rank</span>\n",
      "<span class=\"toctext\">Awards and honors</span>\n",
      "<span class=\"toctext\">Military awards</span>\n",
      "<span class=\"toctext\">Other awards</span>\n",
      "<span class=\"toctext\">Legacy</span>\n",
      "<span class=\"toctext\">Places</span>\n",
      "<span class=\"toctext\">Programs</span>\n",
      "<span class=\"toctext\">In popular culture</span>\n",
      "<span class=\"toctext\">Grace Hopper Celebration of Women in Computing</span>\n",
      "<span class=\"toctext\">See also</span>\n",
      "<span class=\"toctext\">Notes</span>\n",
      "<span class=\"toctext\">Obituary notices</span>\n",
      "<span class=\"toctext\">References</span>\n",
      "<span class=\"toctext\">Further reading</span>\n",
      "<span class=\"toctext\">External links</span>\n"
     ]
    }
   ],
   "source": [
    "for text in soup.select('.toctext'):\n",
    "    print(text)    "
   ]
  },
  {
   "cell_type": "code",
   "execution_count": 120,
   "id": "02de373c",
   "metadata": {},
   "outputs": [
    {
     "name": "stdout",
     "output_type": "stream",
     "text": [
      "Early life and education\n",
      "Career\n",
      "World War II\n",
      "UNIVAC\n",
      "COBOL\n",
      "Standards\n",
      "Retirement\n",
      "Post-retirement\n",
      "Anecdotes\n",
      "Death\n",
      "Dates of rank\n",
      "Awards and honors\n",
      "Military awards\n",
      "Other awards\n",
      "Legacy\n",
      "Places\n",
      "Programs\n",
      "In popular culture\n",
      "Grace Hopper Celebration of Women in Computing\n",
      "See also\n",
      "Notes\n",
      "Obituary notices\n",
      "References\n",
      "Further reading\n",
      "External links\n"
     ]
    }
   ],
   "source": [
    "for item in soup.select('.toctext'):\n",
    "    print(item.text)    "
   ]
  },
  {
   "cell_type": "code",
   "execution_count": 121,
   "id": "10ad2574",
   "metadata": {},
   "outputs": [
    {
     "name": "stdout",
     "output_type": "stream",
     "text": [
      "Early life and education\n",
      "Career\n",
      "World War II\n",
      "UNIVAC\n",
      "COBOL\n",
      "Standards\n",
      "Retirement\n",
      "Post-retirement\n",
      "Anecdotes\n",
      "Death\n",
      "Dates of rank\n",
      "Awards and honors\n",
      "Military awards\n",
      "Other awards\n",
      "Legacy\n",
      "Places\n",
      "Programs\n",
      "In popular culture\n",
      "Grace Hopper Celebration of Women in Computing\n",
      "See also\n",
      "Notes\n",
      "Obituary notices\n",
      "References\n",
      "Further reading\n",
      "External links\n"
     ]
    }
   ],
   "source": [
    "for text in soup.select('.toctext'):\n",
    "    print(text.text)    "
   ]
  },
  {
   "cell_type": "code",
   "execution_count": null,
   "id": "654b2462",
   "metadata": {},
   "outputs": [],
   "source": []
  },
  {
   "cell_type": "code",
   "execution_count": null,
   "id": "49bc2154",
   "metadata": {},
   "outputs": [],
   "source": []
  },
  {
   "cell_type": "code",
   "execution_count": null,
   "id": "71ff3a99",
   "metadata": {},
   "outputs": [],
   "source": []
  },
  {
   "cell_type": "markdown",
   "id": "deaa9f69",
   "metadata": {},
   "source": [
    "# 120 Grabbing an Image"
   ]
  },
  {
   "cell_type": "code",
   "execution_count": 63,
   "id": "aacd452e",
   "metadata": {},
   "outputs": [],
   "source": [
    "res = requests.get('https://en.wikipedia.org/wiki/Deep_Blue_(chess_computer)')"
   ]
  },
  {
   "cell_type": "code",
   "execution_count": 64,
   "id": "3c81f80b",
   "metadata": {},
   "outputs": [],
   "source": [
    "soup = bs4.BeautifulSoup(res.text,'lxml')"
   ]
  },
  {
   "cell_type": "code",
   "execution_count": 65,
   "id": "1311cad6",
   "metadata": {},
   "outputs": [],
   "source": [
    "# soup"
   ]
  },
  {
   "cell_type": "code",
   "execution_count": 66,
   "id": "0aee3234",
   "metadata": {},
   "outputs": [],
   "source": [
    "# print(soup)"
   ]
  },
  {
   "cell_type": "code",
   "execution_count": null,
   "id": "442f6664",
   "metadata": {},
   "outputs": [],
   "source": []
  },
  {
   "cell_type": "code",
   "execution_count": 67,
   "id": "f6916619",
   "metadata": {},
   "outputs": [
    {
     "data": {
      "text/plain": [
       "[<img alt=\"This is a good article. Click here for more information.\" data-file-height=\"185\" data-file-width=\"180\" decoding=\"async\" height=\"20\" src=\"//upload.wikimedia.org/wikipedia/en/thumb/9/94/Symbol_support_vote.svg/19px-Symbol_support_vote.svg.png\" srcset=\"//upload.wikimedia.org/wikipedia/en/thumb/9/94/Symbol_support_vote.svg/29px-Symbol_support_vote.svg.png 1.5x, //upload.wikimedia.org/wikipedia/en/thumb/9/94/Symbol_support_vote.svg/39px-Symbol_support_vote.svg.png 2x\" width=\"19\"/>,\n",
       " <img alt=\"Deep Blue.jpg\" data-file-height=\"601\" data-file-width=\"400\" decoding=\"async\" height=\"331\" src=\"//upload.wikimedia.org/wikipedia/commons/thumb/b/be/Deep_Blue.jpg/220px-Deep_Blue.jpg\" srcset=\"//upload.wikimedia.org/wikipedia/commons/thumb/b/be/Deep_Blue.jpg/330px-Deep_Blue.jpg 1.5x, //upload.wikimedia.org/wikipedia/commons/b/be/Deep_Blue.jpg 2x\" width=\"220\"/>,\n",
       " <img alt=\"Chess Programming.svg\" data-file-height=\"64\" data-file-width=\"64\" decoding=\"async\" height=\"150\" src=\"//upload.wikimedia.org/wikipedia/commons/thumb/5/52/Chess_Programming.svg/150px-Chess_Programming.svg.png\" srcset=\"//upload.wikimedia.org/wikipedia/commons/thumb/5/52/Chess_Programming.svg/225px-Chess_Programming.svg.png 1.5x, //upload.wikimedia.org/wikipedia/commons/thumb/5/52/Chess_Programming.svg/300px-Chess_Programming.svg.png 2x\" width=\"150\"/>,\n",
       " <img alt=\"\" class=\"thumbimage\" data-file-height=\"600\" data-file-width=\"800\" decoding=\"async\" height=\"165\" src=\"//upload.wikimedia.org/wikipedia/commons/thumb/6/6f/Kasparov_Magath_1985_Hamburg-2.png/220px-Kasparov_Magath_1985_Hamburg-2.png\" srcset=\"//upload.wikimedia.org/wikipedia/commons/thumb/6/6f/Kasparov_Magath_1985_Hamburg-2.png/330px-Kasparov_Magath_1985_Hamburg-2.png 1.5x, //upload.wikimedia.org/wikipedia/commons/thumb/6/6f/Kasparov_Magath_1985_Hamburg-2.png/440px-Kasparov_Magath_1985_Hamburg-2.png 2x\" width=\"220\"/>,\n",
       " <img alt=\"\" class=\"thumbimage\" data-file-height=\"2756\" data-file-width=\"2067\" decoding=\"async\" height=\"293\" src=\"//upload.wikimedia.org/wikipedia/commons/thumb/8/83/One_of_Deep_Blue%27s_processors_%282586060990%29.jpg/220px-One_of_Deep_Blue%27s_processors_%282586060990%29.jpg\" srcset=\"//upload.wikimedia.org/wikipedia/commons/thumb/8/83/One_of_Deep_Blue%27s_processors_%282586060990%29.jpg/330px-One_of_Deep_Blue%27s_processors_%282586060990%29.jpg 1.5x, //upload.wikimedia.org/wikipedia/commons/thumb/8/83/One_of_Deep_Blue%27s_processors_%282586060990%29.jpg/440px-One_of_Deep_Blue%27s_processors_%282586060990%29.jpg 2x\" width=\"220\"/>,\n",
       " <img alt=\"icon\" class=\"noviewer\" data-file-height=\"128\" data-file-width=\"128\" decoding=\"async\" height=\"28\" src=\"//upload.wikimedia.org/wikipedia/commons/thumb/5/5e/Nuvola_apps_package_games_strategy.png/28px-Nuvola_apps_package_games_strategy.png\" srcset=\"//upload.wikimedia.org/wikipedia/commons/thumb/5/5e/Nuvola_apps_package_games_strategy.png/42px-Nuvola_apps_package_games_strategy.png 1.5x, //upload.wikimedia.org/wikipedia/commons/thumb/5/5e/Nuvola_apps_package_games_strategy.png/56px-Nuvola_apps_package_games_strategy.png 2x\" width=\"28\"/>,\n",
       " <img alt=\"IBM logo.svg\" data-file-height=\"401\" data-file-width=\"1000\" decoding=\"async\" height=\"48\" src=\"//upload.wikimedia.org/wikipedia/commons/thumb/5/51/IBM_logo.svg/120px-IBM_logo.svg.png\" srcset=\"//upload.wikimedia.org/wikipedia/commons/thumb/5/51/IBM_logo.svg/180px-IBM_logo.svg.png 1.5x, //upload.wikimedia.org/wikipedia/commons/thumb/5/51/IBM_logo.svg/240px-IBM_logo.svg.png 2x\" width=\"120\"/>,\n",
       " <img alt=\"Edit this at Wikidata\" class=\"noprint\" data-file-height=\"20\" data-file-width=\"20\" decoding=\"async\" height=\"10\" src=\"//upload.wikimedia.org/wikipedia/en/thumb/8/8a/OOjs_UI_icon_edit-ltr-progressive.svg/10px-OOjs_UI_icon_edit-ltr-progressive.svg.png\" srcset=\"//upload.wikimedia.org/wikipedia/en/thumb/8/8a/OOjs_UI_icon_edit-ltr-progressive.svg/15px-OOjs_UI_icon_edit-ltr-progressive.svg.png 1.5x, //upload.wikimedia.org/wikipedia/en/thumb/8/8a/OOjs_UI_icon_edit-ltr-progressive.svg/20px-OOjs_UI_icon_edit-ltr-progressive.svg.png 2x\" style=\"vertical-align: text-top\" width=\"10\"/>,\n",
       " <img alt=\"\" height=\"1\" src=\"//en.wikipedia.org/wiki/Special:CentralAutoLogin/start?type=1x1\" style=\"border: none; position: absolute;\" title=\"\" width=\"1\"/>,\n",
       " <img alt=\"Wikimedia Foundation\" height=\"31\" loading=\"lazy\" src=\"/static/images/footer/wikimedia-button.png\" srcset=\"/static/images/footer/wikimedia-button-1.5x.png 1.5x, /static/images/footer/wikimedia-button-2x.png 2x\" width=\"88\"/>,\n",
       " <img alt=\"Powered by MediaWiki\" height=\"31\" loading=\"lazy\" src=\"/static/images/footer/poweredby_mediawiki_88x31.png\" srcset=\"/static/images/footer/poweredby_mediawiki_132x47.png 1.5x, /static/images/footer/poweredby_mediawiki_176x62.png 2x\" width=\"88\"/>]"
      ]
     },
     "execution_count": 67,
     "metadata": {},
     "output_type": "execute_result"
    }
   ],
   "source": [
    "soup.select('img')"
   ]
  },
  {
   "cell_type": "code",
   "execution_count": 68,
   "id": "70f20a14",
   "metadata": {},
   "outputs": [
    {
     "name": "stdout",
     "output_type": "stream",
     "text": [
      "[<img alt=\"This is a good article. Click here for more information.\" data-file-height=\"185\" data-file-width=\"180\" decoding=\"async\" height=\"20\" src=\"//upload.wikimedia.org/wikipedia/en/thumb/9/94/Symbol_support_vote.svg/19px-Symbol_support_vote.svg.png\" srcset=\"//upload.wikimedia.org/wikipedia/en/thumb/9/94/Symbol_support_vote.svg/29px-Symbol_support_vote.svg.png 1.5x, //upload.wikimedia.org/wikipedia/en/thumb/9/94/Symbol_support_vote.svg/39px-Symbol_support_vote.svg.png 2x\" width=\"19\"/>, <img alt=\"Deep Blue.jpg\" data-file-height=\"601\" data-file-width=\"400\" decoding=\"async\" height=\"331\" src=\"//upload.wikimedia.org/wikipedia/commons/thumb/b/be/Deep_Blue.jpg/220px-Deep_Blue.jpg\" srcset=\"//upload.wikimedia.org/wikipedia/commons/thumb/b/be/Deep_Blue.jpg/330px-Deep_Blue.jpg 1.5x, //upload.wikimedia.org/wikipedia/commons/b/be/Deep_Blue.jpg 2x\" width=\"220\"/>, <img alt=\"Chess Programming.svg\" data-file-height=\"64\" data-file-width=\"64\" decoding=\"async\" height=\"150\" src=\"//upload.wikimedia.org/wikipedia/commons/thumb/5/52/Chess_Programming.svg/150px-Chess_Programming.svg.png\" srcset=\"//upload.wikimedia.org/wikipedia/commons/thumb/5/52/Chess_Programming.svg/225px-Chess_Programming.svg.png 1.5x, //upload.wikimedia.org/wikipedia/commons/thumb/5/52/Chess_Programming.svg/300px-Chess_Programming.svg.png 2x\" width=\"150\"/>, <img alt=\"\" class=\"thumbimage\" data-file-height=\"600\" data-file-width=\"800\" decoding=\"async\" height=\"165\" src=\"//upload.wikimedia.org/wikipedia/commons/thumb/6/6f/Kasparov_Magath_1985_Hamburg-2.png/220px-Kasparov_Magath_1985_Hamburg-2.png\" srcset=\"//upload.wikimedia.org/wikipedia/commons/thumb/6/6f/Kasparov_Magath_1985_Hamburg-2.png/330px-Kasparov_Magath_1985_Hamburg-2.png 1.5x, //upload.wikimedia.org/wikipedia/commons/thumb/6/6f/Kasparov_Magath_1985_Hamburg-2.png/440px-Kasparov_Magath_1985_Hamburg-2.png 2x\" width=\"220\"/>, <img alt=\"\" class=\"thumbimage\" data-file-height=\"2756\" data-file-width=\"2067\" decoding=\"async\" height=\"293\" src=\"//upload.wikimedia.org/wikipedia/commons/thumb/8/83/One_of_Deep_Blue%27s_processors_%282586060990%29.jpg/220px-One_of_Deep_Blue%27s_processors_%282586060990%29.jpg\" srcset=\"//upload.wikimedia.org/wikipedia/commons/thumb/8/83/One_of_Deep_Blue%27s_processors_%282586060990%29.jpg/330px-One_of_Deep_Blue%27s_processors_%282586060990%29.jpg 1.5x, //upload.wikimedia.org/wikipedia/commons/thumb/8/83/One_of_Deep_Blue%27s_processors_%282586060990%29.jpg/440px-One_of_Deep_Blue%27s_processors_%282586060990%29.jpg 2x\" width=\"220\"/>, <img alt=\"icon\" class=\"noviewer\" data-file-height=\"128\" data-file-width=\"128\" decoding=\"async\" height=\"28\" src=\"//upload.wikimedia.org/wikipedia/commons/thumb/5/5e/Nuvola_apps_package_games_strategy.png/28px-Nuvola_apps_package_games_strategy.png\" srcset=\"//upload.wikimedia.org/wikipedia/commons/thumb/5/5e/Nuvola_apps_package_games_strategy.png/42px-Nuvola_apps_package_games_strategy.png 1.5x, //upload.wikimedia.org/wikipedia/commons/thumb/5/5e/Nuvola_apps_package_games_strategy.png/56px-Nuvola_apps_package_games_strategy.png 2x\" width=\"28\"/>, <img alt=\"IBM logo.svg\" data-file-height=\"401\" data-file-width=\"1000\" decoding=\"async\" height=\"48\" src=\"//upload.wikimedia.org/wikipedia/commons/thumb/5/51/IBM_logo.svg/120px-IBM_logo.svg.png\" srcset=\"//upload.wikimedia.org/wikipedia/commons/thumb/5/51/IBM_logo.svg/180px-IBM_logo.svg.png 1.5x, //upload.wikimedia.org/wikipedia/commons/thumb/5/51/IBM_logo.svg/240px-IBM_logo.svg.png 2x\" width=\"120\"/>, <img alt=\"Edit this at Wikidata\" class=\"noprint\" data-file-height=\"20\" data-file-width=\"20\" decoding=\"async\" height=\"10\" src=\"//upload.wikimedia.org/wikipedia/en/thumb/8/8a/OOjs_UI_icon_edit-ltr-progressive.svg/10px-OOjs_UI_icon_edit-ltr-progressive.svg.png\" srcset=\"//upload.wikimedia.org/wikipedia/en/thumb/8/8a/OOjs_UI_icon_edit-ltr-progressive.svg/15px-OOjs_UI_icon_edit-ltr-progressive.svg.png 1.5x, //upload.wikimedia.org/wikipedia/en/thumb/8/8a/OOjs_UI_icon_edit-ltr-progressive.svg/20px-OOjs_UI_icon_edit-ltr-progressive.svg.png 2x\" style=\"vertical-align: text-top\" width=\"10\"/>, <img alt=\"\" height=\"1\" src=\"//en.wikipedia.org/wiki/Special:CentralAutoLogin/start?type=1x1\" style=\"border: none; position: absolute;\" title=\"\" width=\"1\"/>, <img alt=\"Wikimedia Foundation\" height=\"31\" loading=\"lazy\" src=\"/static/images/footer/wikimedia-button.png\" srcset=\"/static/images/footer/wikimedia-button-1.5x.png 1.5x, /static/images/footer/wikimedia-button-2x.png 2x\" width=\"88\"/>, <img alt=\"Powered by MediaWiki\" height=\"31\" loading=\"lazy\" src=\"/static/images/footer/poweredby_mediawiki_88x31.png\" srcset=\"/static/images/footer/poweredby_mediawiki_132x47.png 1.5x, /static/images/footer/poweredby_mediawiki_176x62.png 2x\" width=\"88\"/>]\n"
     ]
    }
   ],
   "source": [
    "print(soup.select('img'))"
   ]
  },
  {
   "cell_type": "code",
   "execution_count": null,
   "id": "be620a6c",
   "metadata": {},
   "outputs": [],
   "source": []
  },
  {
   "cell_type": "code",
   "execution_count": null,
   "id": "049135b2",
   "metadata": {},
   "outputs": [],
   "source": []
  },
  {
   "cell_type": "code",
   "execution_count": null,
   "id": "c4cc7a46",
   "metadata": {},
   "outputs": [],
   "source": []
  },
  {
   "cell_type": "code",
   "execution_count": null,
   "id": "9bdbb17b",
   "metadata": {},
   "outputs": [],
   "source": []
  },
  {
   "cell_type": "code",
   "execution_count": 69,
   "id": "b05de580",
   "metadata": {},
   "outputs": [
    {
     "data": {
      "text/plain": [
       "<img alt=\"This is a good article. Click here for more information.\" data-file-height=\"185\" data-file-width=\"180\" decoding=\"async\" height=\"20\" src=\"//upload.wikimedia.org/wikipedia/en/thumb/9/94/Symbol_support_vote.svg/19px-Symbol_support_vote.svg.png\" srcset=\"//upload.wikimedia.org/wikipedia/en/thumb/9/94/Symbol_support_vote.svg/29px-Symbol_support_vote.svg.png 1.5x, //upload.wikimedia.org/wikipedia/en/thumb/9/94/Symbol_support_vote.svg/39px-Symbol_support_vote.svg.png 2x\" width=\"19\"/>"
      ]
     },
     "execution_count": 69,
     "metadata": {},
     "output_type": "execute_result"
    }
   ],
   "source": [
    "soup.select('img')[0]"
   ]
  },
  {
   "cell_type": "code",
   "execution_count": 70,
   "id": "0f02e1bb",
   "metadata": {},
   "outputs": [],
   "source": [
    "# src=\"//upload.wikimedia.org/wikipedia/en/thumb/9/94/Symbol_support_vote.svg/19px-Symbol_support_vote.svg.png\""
   ]
  },
  {
   "cell_type": "code",
   "execution_count": 71,
   "id": "0b09f507",
   "metadata": {},
   "outputs": [
    {
     "data": {
      "text/plain": [
       "[<img alt=\"\" class=\"thumbimage\" data-file-height=\"600\" data-file-width=\"800\" decoding=\"async\" height=\"165\" src=\"//upload.wikimedia.org/wikipedia/commons/thumb/6/6f/Kasparov_Magath_1985_Hamburg-2.png/220px-Kasparov_Magath_1985_Hamburg-2.png\" srcset=\"//upload.wikimedia.org/wikipedia/commons/thumb/6/6f/Kasparov_Magath_1985_Hamburg-2.png/330px-Kasparov_Magath_1985_Hamburg-2.png 1.5x, //upload.wikimedia.org/wikipedia/commons/thumb/6/6f/Kasparov_Magath_1985_Hamburg-2.png/440px-Kasparov_Magath_1985_Hamburg-2.png 2x\" width=\"220\"/>,\n",
       " <img alt=\"\" class=\"thumbimage\" data-file-height=\"2756\" data-file-width=\"2067\" decoding=\"async\" height=\"293\" src=\"//upload.wikimedia.org/wikipedia/commons/thumb/8/83/One_of_Deep_Blue%27s_processors_%282586060990%29.jpg/220px-One_of_Deep_Blue%27s_processors_%282586060990%29.jpg\" srcset=\"//upload.wikimedia.org/wikipedia/commons/thumb/8/83/One_of_Deep_Blue%27s_processors_%282586060990%29.jpg/330px-One_of_Deep_Blue%27s_processors_%282586060990%29.jpg 1.5x, //upload.wikimedia.org/wikipedia/commons/thumb/8/83/One_of_Deep_Blue%27s_processors_%282586060990%29.jpg/440px-One_of_Deep_Blue%27s_processors_%282586060990%29.jpg 2x\" width=\"220\"/>]"
      ]
     },
     "execution_count": 71,
     "metadata": {},
     "output_type": "execute_result"
    }
   ],
   "source": [
    "soup.select('.thumbimage')"
   ]
  },
  {
   "cell_type": "code",
   "execution_count": 72,
   "id": "383c2145",
   "metadata": {},
   "outputs": [
    {
     "data": {
      "text/plain": [
       "<img alt=\"\" class=\"thumbimage\" data-file-height=\"600\" data-file-width=\"800\" decoding=\"async\" height=\"165\" src=\"//upload.wikimedia.org/wikipedia/commons/thumb/6/6f/Kasparov_Magath_1985_Hamburg-2.png/220px-Kasparov_Magath_1985_Hamburg-2.png\" srcset=\"//upload.wikimedia.org/wikipedia/commons/thumb/6/6f/Kasparov_Magath_1985_Hamburg-2.png/330px-Kasparov_Magath_1985_Hamburg-2.png 1.5x, //upload.wikimedia.org/wikipedia/commons/thumb/6/6f/Kasparov_Magath_1985_Hamburg-2.png/440px-Kasparov_Magath_1985_Hamburg-2.png 2x\" width=\"220\"/>"
      ]
     },
     "execution_count": 72,
     "metadata": {},
     "output_type": "execute_result"
    }
   ],
   "source": [
    "soup.select('.thumbimage')[0]"
   ]
  },
  {
   "cell_type": "code",
   "execution_count": 73,
   "id": "c924740b",
   "metadata": {},
   "outputs": [],
   "source": [
    "computer = soup.select('.thumbimage')[0]"
   ]
  },
  {
   "cell_type": "code",
   "execution_count": 74,
   "id": "c1540017",
   "metadata": {},
   "outputs": [
    {
     "data": {
      "text/plain": [
       "<img alt=\"\" class=\"thumbimage\" data-file-height=\"600\" data-file-width=\"800\" decoding=\"async\" height=\"165\" src=\"//upload.wikimedia.org/wikipedia/commons/thumb/6/6f/Kasparov_Magath_1985_Hamburg-2.png/220px-Kasparov_Magath_1985_Hamburg-2.png\" srcset=\"//upload.wikimedia.org/wikipedia/commons/thumb/6/6f/Kasparov_Magath_1985_Hamburg-2.png/330px-Kasparov_Magath_1985_Hamburg-2.png 1.5x, //upload.wikimedia.org/wikipedia/commons/thumb/6/6f/Kasparov_Magath_1985_Hamburg-2.png/440px-Kasparov_Magath_1985_Hamburg-2.png 2x\" width=\"220\"/>"
      ]
     },
     "execution_count": 74,
     "metadata": {},
     "output_type": "execute_result"
    }
   ],
   "source": [
    "computer"
   ]
  },
  {
   "cell_type": "code",
   "execution_count": 75,
   "id": "118936ce",
   "metadata": {},
   "outputs": [
    {
     "name": "stdout",
     "output_type": "stream",
     "text": [
      "<img alt=\"\" class=\"thumbimage\" data-file-height=\"600\" data-file-width=\"800\" decoding=\"async\" height=\"165\" src=\"//upload.wikimedia.org/wikipedia/commons/thumb/6/6f/Kasparov_Magath_1985_Hamburg-2.png/220px-Kasparov_Magath_1985_Hamburg-2.png\" srcset=\"//upload.wikimedia.org/wikipedia/commons/thumb/6/6f/Kasparov_Magath_1985_Hamburg-2.png/330px-Kasparov_Magath_1985_Hamburg-2.png 1.5x, //upload.wikimedia.org/wikipedia/commons/thumb/6/6f/Kasparov_Magath_1985_Hamburg-2.png/440px-Kasparov_Magath_1985_Hamburg-2.png 2x\" width=\"220\"/>\n"
     ]
    }
   ],
   "source": [
    "print(computer)"
   ]
  },
  {
   "cell_type": "code",
   "execution_count": 76,
   "id": "1ca3a5a5",
   "metadata": {},
   "outputs": [
    {
     "data": {
      "text/plain": [
       "bs4.element.Tag"
      ]
     },
     "execution_count": 76,
     "metadata": {},
     "output_type": "execute_result"
    }
   ],
   "source": [
    "type(computer) # its Tag and not string\n",
    "# so we can treat as a dict"
   ]
  },
  {
   "cell_type": "code",
   "execution_count": 77,
   "id": "7e44432d",
   "metadata": {},
   "outputs": [
    {
     "data": {
      "text/plain": [
       "'//upload.wikimedia.org/wikipedia/commons/thumb/6/6f/Kasparov_Magath_1985_Hamburg-2.png/220px-Kasparov_Magath_1985_Hamburg-2.png'"
      ]
     },
     "execution_count": 77,
     "metadata": {},
     "output_type": "execute_result"
    }
   ],
   "source": [
    "computer['src']"
   ]
  },
  {
   "cell_type": "code",
   "execution_count": 78,
   "id": "899e0fb2",
   "metadata": {},
   "outputs": [
    {
     "name": "stdout",
     "output_type": "stream",
     "text": [
      "//upload.wikimedia.org/wikipedia/commons/thumb/6/6f/Kasparov_Magath_1985_Hamburg-2.png/220px-Kasparov_Magath_1985_Hamburg-2.png\n"
     ]
    }
   ],
   "source": [
    "print(computer['src'])"
   ]
  },
  {
   "cell_type": "markdown",
   "id": "6e001d23",
   "metadata": {},
   "source": [
    "//upload.wikimedia.org/wikipedia/commons/thumb/6/6f/Kasparov_Magath_1985_Hamburg-2.png/220px-Kasparov_Magath_1985_Hamburg-2.png"
   ]
  },
  {
   "cell_type": "code",
   "execution_count": 79,
   "id": "4576875a",
   "metadata": {},
   "outputs": [],
   "source": [
    "# paste below code in markdown\n",
    "# <img src = //upload.wikimedia.org/wikipedia/commons/thumb/6/6f/Kasparov_Magath_1985_Hamburg-2.png/220px-Kasparov_Magath_1985_Hamburg-2.png >"
   ]
  },
  {
   "cell_type": "markdown",
   "id": "9b426d08",
   "metadata": {},
   "source": [
    "<img src = //upload.wikimedia.org/wikipedia/commons/thumb/6/6f/Kasparov_Magath_1985_Hamburg-2.png/220px-Kasparov_Magath_1985_Hamburg-2.png >"
   ]
  },
  {
   "cell_type": "code",
   "execution_count": null,
   "id": "c80ae00f",
   "metadata": {},
   "outputs": [],
   "source": []
  },
  {
   "cell_type": "code",
   "execution_count": null,
   "id": "12c55cf0",
   "metadata": {},
   "outputs": [],
   "source": []
  },
  {
   "cell_type": "code",
   "execution_count": null,
   "id": "f9b8f3f1",
   "metadata": {},
   "outputs": [],
   "source": []
  },
  {
   "cell_type": "code",
   "execution_count": 80,
   "id": "d4cc7c18",
   "metadata": {},
   "outputs": [],
   "source": [
    "computer = soup.select('.thumbimage')[1]"
   ]
  },
  {
   "cell_type": "code",
   "execution_count": 81,
   "id": "77a57f8e",
   "metadata": {},
   "outputs": [
    {
     "data": {
      "text/plain": [
       "'//upload.wikimedia.org/wikipedia/commons/thumb/8/83/One_of_Deep_Blue%27s_processors_%282586060990%29.jpg/220px-One_of_Deep_Blue%27s_processors_%282586060990%29.jpg'"
      ]
     },
     "execution_count": 81,
     "metadata": {},
     "output_type": "execute_result"
    }
   ],
   "source": [
    "computer['src']"
   ]
  },
  {
   "cell_type": "markdown",
   "id": "86e6b7c9",
   "metadata": {},
   "source": [
    "<img src='//upload.wikimedia.org/wikipedia/commons/thumb/8/83/One_of_Deep_Blue%27s_processors_%282586060990%29.jpg/220px-One_of_Deep_Blue%27s_processors_%282586060990%29.jpg'>"
   ]
  },
  {
   "cell_type": "code",
   "execution_count": 102,
   "id": "eaa5942e",
   "metadata": {},
   "outputs": [],
   "source": [
    "# if img url not present"
   ]
  },
  {
   "cell_type": "markdown",
   "id": "87daaa81",
   "metadata": {},
   "source": [
    "<img src = '//upload.wikimedia.org/wikipedia/commons/thumb/8/83/One_of_Deep_Blue%27s_processors_%282586060990%29.jpg/220px-One_of_Deep_Blue%27s_processors_%282586060990%29' >"
   ]
  },
  {
   "cell_type": "raw",
   "id": "e7948ed1",
   "metadata": {},
   "source": []
  },
  {
   "cell_type": "code",
   "execution_count": 83,
   "id": "b51969bd",
   "metadata": {},
   "outputs": [],
   "source": [
    "image_link = requests.get('https://upload.wikimedia.org/wikipedia/commons/thumb/8/83/One_of_Deep_Blue%27s_processors_%282586060990%29.jpg/220px-One_of_Deep_Blue%27s_processors_%282586060990%29.jpg')"
   ]
  },
  {
   "cell_type": "code",
   "execution_count": 84,
   "id": "ba90d891",
   "metadata": {},
   "outputs": [
    {
     "data": {
      "text/plain": [
       "<Response [200]>"
      ]
     },
     "execution_count": 84,
     "metadata": {},
     "output_type": "execute_result"
    }
   ],
   "source": [
    "image_link"
   ]
  },
  {
   "cell_type": "code",
   "execution_count": 85,
   "id": "53a7878f",
   "metadata": {},
   "outputs": [
    {
     "data": {
      "text/plain": [
       "requests.models.Response"
      ]
     },
     "execution_count": 85,
     "metadata": {},
     "output_type": "execute_result"
    }
   ],
   "source": [
    "type(image_link)"
   ]
  },
  {
   "cell_type": "code",
   "execution_count": 86,
   "id": "b26063b3",
   "metadata": {},
   "outputs": [
    {
     "data": {
      "text/plain": [
       "169"
      ]
     },
     "execution_count": 86,
     "metadata": {},
     "output_type": "execute_result"
    }
   ],
   "source": [
    "len(('https://upload.wikimedia.org/wikipedia/commons/thumb/8/83/One_of_Deep_Blue%27s_processors_%282586060990%29.jpg/220px-One_of_Deep_Blue%27s_processors_%282586060990%29.jpg'))"
   ]
  },
  {
   "cell_type": "code",
   "execution_count": 103,
   "id": "bd2511a3",
   "metadata": {},
   "outputs": [
    {
     "data": {
      "text/plain": [
       "b'\\xff\\xd8\\xff\\xdb\\x00C\\x00\\x04\\x03\\x03\\x04\\x03\\x03\\x04\\x04\\x03\\x04\\x05\\x04\\x04\\x05\\x06\\n\\x07\\x06\\x06\\x06\\x06\\r\\t\\n\\x08\\n\\x0f\\r\\x10\\x10\\x0f\\r\\x0f\\x0e\\x11\\x13\\x18\\x14\\x11\\x12\\x17\\x12\\x0e\\x0f\\x15\\x1c\\x15\\x17\\x19\\x19\\x1b\\x1b\\x1b\\x10\\x14\\x1d\\x1f\\x1d\\x1a\\x1f\\x18\\x1a\\x1b\\x1a\\xff\\xdb\\x00C\\x01\\x04\\x05\\x05\\x06\\x05\\x06\\x0c\\x07\\x07\\x0c\\x1a\\x11\\x0f\\x11\\x1a\\x1a\\x1a\\x1a\\x1a\\x1a\\x1a\\x1a\\x1a\\x1a\\x1a\\x1a\\x1a\\x1a\\x1a\\x1a\\x1a\\x1a\\x1a\\x1a\\x1a\\x1a\\x1a\\x1a\\x1a\\x1a\\x1a\\x1a\\x1a\\x1a\\x1a\\x1a\\x1a\\x1a\\x1a\\x1a\\x1a\\x1a\\x1a\\x1a\\x1a\\x1a\\x1a\\x1a\\x1a\\x1a\\x1a\\x1a\\x1a\\x1a\\xff\\xc0\\x00\\x11\\x08\\x01%\\x00\\xdc\\x03\\x01\"\\x00\\x02\\x11\\x01\\x03\\x11\\x01\\xff\\xc4\\x00\\x1d\\x00\\x00\\x00\\x07\\x01\\x01\\x01\\x00\\x00\\x00\\x00\\x00\\x00\\x00\\x00\\x00\\x00\\x02\\x03\\x04\\x05\\x06\\x07\\x08\\x00\\x01\\t\\xff\\xc4\\x00S\\x10\\x00\\x02\\x01\\x02\\x04\\x03\\x05\\x05\\x02\\t\\x07\\x08\\t\\x04\\x03\\x00\\x01\\x02\\x03\\x04\\x11\\x00\\x05\\x12!\\x061A\\x07\\x13\"Qa\\x142q\\x81\\x91#\\xa1\\x15$BRb\\x92\\xb1\\xc1\\xd1\\x08\\x16%3crs45CDS\\xa2\\xb2\\xc2\\x17ETt\\x82\\x83\\x93\\xd2\\xf0d\\x84\\xe1\\xe2\\xa3\\xc3\\xf1\\xff\\xc4\\x00\\x1a\\x01\\x00\\x02\\x03\\x01\\x01\\x00\\x00\\x00\\x00\\x00\\x00\\x00\\x00\\x00\\x00\\x00\\x02\\x04\\x01\\x03\\x05\\x00\\x06\\xff\\xc4\\x002\\x11\\x00\\x02\\x02\\x01\\x03\\x01\\x05\\x07\\x04\\x02\\x03\\x01\\x00\\x00\\x00\\x00\\x00\\x01\\x02\\x11\\x03\\x04!1\\x12\\x132AQ\\xf0\"aq\\x91\\xa1\\xb1\\xc1\\x05B\\x81\\xd1\\x143#4\\xe1\\xf1\\xff\\xda\\x00\\x0c\\x03\\x01\\x00\\x02\\x11\\x03\\x11\\x00?\\x00\\xc3\\xc0}0\\xe9\\x90m\\x9b\\xd1\\xff\\x00|\\xff\\x00\\xc2p\\xd80\\xe9\\x90\\x7f\\x9e(\\xbf\\xc4\\xfd\\xc7\\x15O\\xba\\xc3\\x8f(\\xbc8#\\x87\\xe8\\xf3\\xda\\xf3I\\x98\\t\\x04^\\xc8\\xafx\\xdfI\\xb8\\xb5\\xbfn,/\\xfa)\\xc8m\\xb4\\xb5\\x96\\xff\\x00\\x1a\\xff\\x00\\xf2\\xe2)\\xd9t_\\xd3FK\\x96-B\\x00\\xdf\\x90\\xf0\\xed\\x8b\\x9dT\\xe9\\xe4\\xff\\x00\\\\W\\xa7\\xc7\\x19\\xc2\\xda-\\xcb9FT\\x88\\x1bvU\\x92~L\\xb5\\xaa}%\\x1f\\xc3\\x1e\\x7f\\xd1^Q\\xd2\\xb6\\xbc\\x7f\\xe6\\x83\\xff\\x00.,~\\x0e\\xcd8r\\xb3\\x88k\\xf2^)DCV\\x86\\x96\\x86\\xaaiJ%=M\\xae\\xac\\xc4t,B\\xfa|\\xce!\\x14y\\xc4\\xd4\\xb9\\x94\\x11H\\xce\\xf0M?r\\xe8\\xcds\\x13\\x13ab\\x7fKb=qoF+\\xaa\\x03\\xaemr6K\\xd9\\x1eS:\\x85z\\xfc\\xc2\\xd7\\x07gQ\\xcb\\xff\\x00\\x0e=\\x8f\\xb2\\x1c\\xa26\\xd4\\xb5\\xd5\\xc5\\xbf8\\x946\\xfb\\xb1e\\xc7\\x01\\xb7)>\\x180S\\xb7\\x94\\x98>\\xc7\\x1f\\x90=\\xac\\xc2;&w\\xec\\x96\\xb37\\xa8\\xc9b\\\\\\xd9\\xb3H\\xe1IV\\xb1\\xb4\\xe8\\x11\\x97#IQ\\xd7Y\\xbf\\xc0b\\xc2\\xe2\\x1e\\xd53.&\\xe1\\xcc\\xdb&\\xae\\xc8\\xa8\\x12\\x1c\\xc2\\x8eZW\\x95frc\\x0e\\xa5u\\x00\\xcbbE\\xee7\\xe6\\x06!\\x0b\\x01\\x07q\\'\\xcc`}\\xcd\\xc1\\x16\\x7f\\xa6*zlV\\xdds\\xf1\\xfe\\xc9y$\\xf7d)x\\x05)V!\\xed\\x8c\\xd7@\\xde\\xe8\\xfb\\xf1\\xe5W\\x06KR\\x9d\\xdcy\\xa4\\x94\\xd0\\xda\\xc5\"\\x89n\\xdf\\x16\\xbd\\xfeX\\x9d\\xd4@Z@u3\\x10\\x8a.\\xa9\\xd0(\\xf3\\xc1b\\x0f\\xef\\xfe\\xa6;\\xfcl/\\xc0\\x9e\\xd6ek\\'f&K*f\\xef\\x1a\\x0ej \\x1b\\xfcM\\xf1\\xd1v_\\xdd\\xc8\\xae\\xd9\\x99\\x90/N\\xe4/\\xc2\\xdb\\xed\\x8b3\\xb86\\xfc\\xaf\\x9ac\\xde\\xe7\\xd4\\xfe\\xa6\\x05\\xe90?\\xdb\\xf7\\x0b\\xb7\\xc9\\xe6W\\x91\\xf6z\\xd1HdJ\\xf2\\xc6\\xf7\\n\\xf1\\x06P|\\xf1\\xed?\\x02\\xd6S\\xe60VI\\x98\\xa5K$\\xa1\\xdc\\xbcgS\\x01\\xd0t\\x18\\xb0\\xbb\\xa1\\xe6?S\\x01\\xee\\x96\\xfe\\xf2\\xfe\\xae+\\xff\\x00\\x03Ow\\xd3\\xf5d\\xff\\x00\\x93\\x91\\xf8\\x91\\xba\\x9c\\x9e\\xa2h\\xf4\\xa9@}o\\x88\\xc7\\xf3\\x06\\xa4\\xd6I<\\xef\\x04\\x81\\xf6\\x1e&\\x1a|\\x8d\\xadk\\xfcqe\\x18\\x85\\xb9\\xaf\\xd3\\x054`_t\\xbf\\xcf\\x04\\xf4XZ\\xaa\\xfa\\xb3\\x96\\xa2h\\xaf\\x7f\\x9a\\x99\\xa2G*\\xabS\\x8dAt\\x90\\xe7\\xa1\\xdf\\xa6\\x11\\x1e\\x10\\xcf&%]\\xa0\\x8e3\\xf91M\\xe2?\\x16\\xb7\\xec\\xb6,\\x87[r\\xd3\\xf58\\x82g\\x9d\\xa5\\xd2e\\x19\\x9bPPS~\\x10\\x96&+P\\xfd\\xee\\x84F\\x1c\\xd4\\x1b\\x1dG\\xcf\\xa0\\xc2\\xf2\\xfd7N\\xbc\\x18kU1\\xb2^\\x07\\xe2\\x16\\xd3\\r\\n\\xd3\\xd1S\\x8el\\xb3\\x82\\xcd\\xf5\\x18-\\xb8\\x177I;\\xc9\\x12\\x14\\x01\\x98\\xea\\xef6\\x8dy\\xf2\\xb9\\xfb\\xb1kQ\\xd4JV\\x9e:\\xf8=\\x8e\\xb2jd\\xa9\\xf6f\\x983\\xa27-C\\xa1\\xe4lw\\xb1\\x07\\xae\\r\\xab\\x04\\xc16\\x90I1\\xbd\\x86\\xbe~\\x13\\x80\\x7f\\xa7\\xe1\\xad\\x9b\\xfa\\x7fA\\xadL\\x9f\\x82*tZH\\xe2\\x87\\xb9-\\\\\\xda\\xe3\\xfbG\\x1aP\\xef\\xd0s?<(\\x95\\xa5\\x9b\\xdfm\\xba*\\x8b(\\xf9`4TO\\x15\\r\"\\xcb\\x13B\\xfa\\xe3\\x1a\\x18\\x82@\\x1f\\x0f\\x86\\x17\\x98\\x80\\xc7\\x95\\xb3Kq\\x9ed\\x96\\xd6\\x820O\\xe7\\xc8t\\xa0\\xfd\\xe7\\xe5\\xf5\\xc2\\x13\\x96\\xc6\\\\\\xc9W#\\xd6HA\\x16q\\xa60\\x0f\\x92\\x0e\\x7f3\\x89\\x14\\x91\\xf9\\xe1$\\x88<\\xb0j@\\xd0\\xd1,w\\x00\\x01e\\x1c\\x94\\x0b\\x01\\xf0\\x03\\t\\x9a-\\xf9a\\xd6T\\x1c\\xf0\\x91\\x97}\\xb1bg#)\\x01\\x87<\\x8b\\xfc\\xf1C\\xfe/\\xee8n\\x1ba\\xc7#\\xdb8\\xa1\\xeb\\xf6\\xc3\\xf6\\x1c{9\\xf7Y\\x89\\x1e\\xf24gf\\x11\\xc23XZ#9v\\xa1\\xf1\\x06Q\\xa7\\xf2y\\x11\\x8b\\x925\\x16\\x16V\\xc59\\xd9e2\\x8c\\xc5e,I4@(\\x1f\\x11\\x7f\\xdd\\x8b\\x9d\\x14[\\xf2\\xf1\\xda]\\xf1\\x85\\x9fi\\x11,\\xeb\\x87\\xcafRV\\x08%\\x96\\x96\\xa5\\x83\\xcb\\xdd\\xa1v\\x89\\xb9\\x1b\\xaf2\\r\\x81\\xb8\\xe4o\\x8b\\x03\\x8c\\xf2\\xcc\\xab\\x8a\\xd7\"\\xe2>\\x1f\\xa5\\x94GQ\"\\x8c\\xda^\\xeb\\xbaU\\xa9\\x8c^\\xc1\\x08\\rw\\xb6\\xab\\xda\\xdb\\x1d\\xeep\\xd9,\\xd0\\xc0~\\xd6N\\xe5\\x89\\xb0\\r\"\\x83\\xf4;\\xe0t\\xf9\\x859\\x1a}\\xa9\\n\\x96\\xe5\\xdf/?\\xaf<1\\xd2\\xb9)\\xebka\\xc5c\\xb0\\x07D\\xb681c\\x07\\xf2%;a2\\xd6S\\x15\\x1f\\x8c\\xa0\\xda\\xff\\x00\\xd6\\xaf\\xf1\\xc1\\x82\\xb2\\x98\\xff\\x00\\xac.\\xdb\\x7fZ\\xbf\\xc7\\x11gZ\\x0f\\xd0\\x07\\xe4\\xcc05U\\xbf)\\xb0\\x9f\\xdb)\\x87\\xfa\\xca\\x0f\\xfc\\xd5\\xfe8\\x12\\xd6@mj\\x95\\xff\\x00\\xd5_\\xe3\\x88\\xb4p\\xe7^\\x14\\x8aW\\xbc\\xba\\x9a\\x9d5Y4\\xda\\xd7\\x16\\xe5\\xbe\\xc0o\\xeb\\x84\\xa2\\xdf\\x9f0\\xc2\\x9a\\xfa\\xa8\\xfd\\x9f,\\xbdE5\\xbd\\x90i1H\\xba\\x80\\xd6\\xfb?\\xe9^\\xff\\x00+a \\xa8\\x8c\\x9b\\t\\xc1\\xff\\x00\\xc6?\\x8e:\\xd1/p\\xcb\\x806\\x92Q\\xeblz\\x1b\\xfbY\\x07\\xcb\\x01\\x13\\x03\\xcaS\\xf5\\xc0\\x83\\x9b\\xec\\xecq\\xd6\\x88;V\\xdf\\xd77\\xea\\xe0:\\xc7\\xfbc\\xf3\\\\\\x19w\\xfc\\xe7\\xfac\\xcf\\xb4<\\x8b~\\xa1\\xc7Z8,\\xb8\\xff\\x00j?W\\x04Ho\\xfe\\x95>k\\x85-\\xdez\\xfc\\xd3\\t\\xe4f\\xb9\\xdc|\\xd3\\x04\\x99\\xdb\\x89X\\x12\\xde\\x19#\\r\\xd0\\x95\\xeb\\x8a\\xa31\\xe0*^\\x17\\xc8_\\x883:\\x96\\xfc9$\\xc4\\xe5\\x94$\\x80\\xcaC\\\\\\xd4\\xca\\xa7\\xf2?5\\x7f(\\xde\\xfb\\x03{ZW\\'\\x99[\\x1f\\xd1\\xc2<\\xca\\x8e\\x93>\\xa8Iszzz\\xc9T\\x05\\xd4\\xeb\\xb9\\x00[\\x7f3\\xeb\\xd7\\x12\\xd5\\x9c\\x9d\\x15\\xb7f\\r\\x9ag<C]\\x9b\\xd7K-DK\\x13\\xa4\\xb3\\xccI\\xef\\xa6vRw\\xeaE\\x89?\\x11\\x8b^\\xa1~\\xc9\\xfc(|\\x07\\xf6`\\xdajH\\xe0\\x89c\\x82(\\xa2\\x89\\x05\\x95\\x10\\x05\\x03\\xe00Ni*Qe\\xf5\\xb5R\\xa6\\xa8\\xa9\\xa9\\xa5\\x9d\\xc2\\x91\\xa8\\xaa!ck\\xf5\\xb0\\xdb\\x14Il\\xe8\\xb25h\\x83K\\x16\\xd4\\xd6\\x1c\\xa5[\\xfd\\x0e<x\\xec1L\\x8f\\xe5)\\x97\\xcd[\\nI\\xc2\\xf5iF$\\r\\x1b\\xc7\\\\\\x8d3\\r${\\x85\\x00\\xbe\\xe3\\x91\\xc5\\xb3\\x95g\\x11\\xe7\\x99M&e\\r%e\\x0cu*Y`\\xad\\x88E2\\x80H\\xf1-\\xcf;\\\\o\\xb8 \\xe3\\xc3d\\xd3f\\xc0\\x97i\\x1a\\xbf^\\x06\\xd42\\xc3\\'u\\x86\\xc8\\xa2\\xd8I-\\xb0\\xa6Y\\x06\\x10M \\x18\\x08\\xa0\\x98\\x9el\"s\\xe2\\xc1\\xd3L7\\xdf\\x08\\xda]\\xf9\\xfd\\xf8\\xbe(\\x8b2\\xc0\\xf5\\xc3\\x86G\\xfex\\xa1\\xff\\x00\\x18~\\xfc7\\xfe\\xfc8d\\x7f\\xe7z\\x1f.\\xf8c\\xd9K\\xba\\xccH\\xf7\\x91\\xa6;+\\xa9+<\\x14\\xa6\\x12\\xba\\xe9u\\x99\\xb5\\x02\\x18\\x0bYm\\xcf\\x17\\x1al\\xbe\\xfb|\\xb1R\\xf6g\\x10\\x13\\xe5\\xcc\\xb6\\x04\\xd0\\xeem\\xf0\\xc5\\xc7\\x14d\\x80.\\r\\xcd\\xac:\\xe24\\x9f\\xeb\\xfeXY\\xfb\\xe5\\'\\xdb%\\x145\\x19\\xe6T\\xcf\\x14\\x9a\\xd2\\x96Pe\\x1e\\xf2x\\xb6\\x1f\\xbf\\xe4q_\\x1e\\x10\\xcd\\x970j8`\\x90\\xcd\\xde9\\x8f\\xc4W\\xbc\\nl\\xce\\xbbn\\x07S\\xd2\\xf6\\xc5\\xa7\\xda\\xf58\\x19\\xe6P\\xe5IcKP7o\\x10\\xb3\\xae\\xd6\\xf2\\xc2\\x0c\\xd2\\x91\\xe1\\x8ey\\xcdA\\x8d\\xd6\\xb2E\\x8d\\xd2ML\\xa0\\x9d\\xc6\\xc4i\\x07\\xe5\\x8dLX\\x96D\\xdb\\xf03s\\xe7xi%\\xc9\\x03\\x8b\\x82x\\x81\\xa3fZIQ\\x10i%\\xa4*\\x05\\xfao\\xb6\\xf8V8\\x0f\\x89\\xb5\\xa2w\\x0c\\xcd\"\\xeaP*\\x81\\x04*\\xea\\xbd\\xefm\\x87+\\xfc\\x06%\\x99\\x1eS\\x98\\xe7m4\\x14\\x15\\xb52\\x98\\x91^H\\xd9\\xdbu,\\x006-\\xbd\\x89\\xc3\\xf2p^{\\x1a\\xb1-R\\xa8\\x15\\x9a\\xe1\\xda\\xdbs\\x1e\\xf7<\\x17g\\x85*\\x93i\\x96bZ\\x9c\\xab\\xaa8\\xee%{O\\xd9\\xef\\x17I\\xa4\\xd3\\xd1\\xccH.@\\x15#\\x9d\\xbc]z\\xfd\\xf8\\xf5\\xf8\\x03\\x8b\\xe1\\x89\\xaf\\x97\\xd5wB0\\x1a\\xd2\\xa9\\x1a\\x01\\xb8\\x1c\\xf9_\\x16]7\\x0b\\xe7w\\x90$\\x95\\x8aR@\\x9f\\xd60\\xb9\\xf0\\xda\\xdb\\xfe\\x90\\xc1\\xc9\\x92gq\\xc8\\x9f\\x8c\\xd7BX3\\x02\\xd20\\x05A\\x00\\x9e~g\\x03\\xd3\\x81>\\xf7\\xaf\\x90\\xda\\xc3\\xa8\\xabx\\x8a\\xdc\\xf0\\x0f\\x1c\\xc5,\\x00\\xe55\\xfd\\xe4\\xe4M\\x1d\\x9a6\\xd4J\\xdfU\\xefnC\\x01~\\x08\\xe3\\x88\\x93A\\xca3\\r\\x1a\\n\\x80\\x11\\x1b\\xc2O,_\\\\W\\x96\\xcfK\\x0f\\x0f\\xc7D\\xd4\\x94\\xb4\\xd1Q\\x87\\xa6\\xa7\\x8e\\x06\\x11SM\\x1d\\xc0u][\\xd9\\x8e\\xab\\x1e\\xb7\\xc7\\xb3Pq%%Lp\\x8a\\xd9]\\x9d%toie\\r\\xa5\\x80\\x16\\xf8\\x83\\x7fNX\\xaf\\xa1E\\'&\\xfec+\\x04d\\xdaK\\x83?\\xff\\x007x\\xcbV\\xd9us3\\x10\\xc2\\xd0\\xa1\\xbe\\x93\\xa6\\xfbt\\x04\\x15>\\xbb\\x1c\\t\\xb8s\\x8d\\xd0\\\\\\xe4\\xd9\\x95\\x82\\xbb\\x92)\\x01\\xb2\\x9fx\\xed\\xd3\\xf6t\\xc6\\x8f|\\xbb=Jg\\xa9\\x92\\xb5\\x86\\x8bG~\\xfd\\x8b\\xd8\\xb5\\xec<<\\xb9\\x1b_\\x7f\\x96\\x12f\\x19g\\x12PBgL\\xc63\\xdcR=A\\xf6\\x89\\x1c\\x98\\x8d\\x80e\\xe4\\x05\\x88k\\x1cDz%\\xfb\\x98S\\xd2\\xa8\\xad\\xe3\\xf63\\xaf\\xb1q\\x9cD\\xa8\\xca\\xb3\\x00l\\xa2\\xde\\xc4n<\\xb9u\\xfd\\xb8\\xf4\\xcb\\xc6t\\xe6\\xef\\x95\\xd7\\x8f\\x1b\\x1b5\\x14\\xb6\\xe5\\xb8\\xd8\\xf4\\xfb\\xb1\\xa2\\xe8r\\x9c\\xf2\\xb6\\x1aZ\\x8a|\\xd2d.\\x81\\xd9\\x04WM \\x904\\xb1\\xe7\\xb0\\xeb\\x84\\xb4\\x99\\'hY\\xa5g\\xb3\\xd3\\xc9O\\x1d4\\xce\\xc2*\\x8a\\xaai\\x92;0\\xb8%\\xc0#}\\x81#\\xae9vrt\\xa4\\xc5r`\\x965}\\x1fc;\\xc9\\xc4\\x1cWN\\xbaf\\xa7\\xad\\x8c\\xf7kbb\\xa8Ck\\xec}\\xef\\xbf\\x1e?\\x19\\xf1<\\x0e\\xcb,UhVO\\x10\\xd7V\\x9aO\\x97\\xbf\\xf7cN\\xc9\\xd9ghRi\\r[\\xc3s\\xc7\\xa4+\\x16\\xa9\\x98Y|\\xacc\\xdc[\\xf6\\xe0\\xa6\\xec\\x9f\\x8f\\xea\\'c9\\xe1\\xf42HHX3\\t\\x02\\x9b\\xfah\\x16\\xe80}8_3\\xfb\\n\\xb8\\xe4\\\\C\\xea\\x8c\\xc2{C\\xe2\\x08\\x87\\x8d\\xea\\xc1\\xb7Z\\xca\\x91\\xbd\\xfdX\\xe2W\\xc1|k\\x9cf\\xd9\\xbc\\x10\\xd6\\xbdM=!\\xd4\\xe2SY#\\xea\\xd2\\x0e\\xc1X\\x1dCP\\xb1\\xdf\\xaf\\xa6,\\xaa%\\xcc\\x8dL\\x94\\xd5r@#\\xd4\"r\\x93\\xb9\\x06\\xd2Z\\xf6+\\xbd\\xb7\\xb1\\xbf_]\\xa1\\xf5\\x97<qD\\x8aQ\\xc2\\xc51V\\xd1\\xb9\\xbfx>\\x98\\xb3&\\x9dB7\\x7fB\\x8cy\\xa3\\x93j\\xfa\\x97TJJ\\x8b\\xaa\\x13\\xf1\\xc2L\\xde\\x96:\\x9c\\xb6\\xba\\t\\xe2\\r\\x0c\\xb4\\xd2\\xc7 \\x0fc\\xa1\\x90\\x86\\xb1\\x1c\\xb6\\'\\x0e\\x10\\xc7\\xe1\\xf7\\x0f\\xd7\\x08\\xb3\\xbf\\xb2\\xca\\xb3\\t\\n7\\x82\\x96V\\xbd\\xf9Y\\x0e3d\\xdd:4#\\xca*|\\x97#\\xc8x^\\x14^\\x1d\\xcah\\xb2\\xe2\\x14\\x0e\\xf68\\x81\\x94\\xed\\xd6F\\xbb}\\xf8>\\xa2\\xbf[3;\\x16c\\xcc\\x93|FNtY\\x16\\xc4\\xfb\\xa3\\t$\\xcc\\xd9\\xb9_\\x1e\\'\\xb2\\x94\\x9d\\xcbvnu\\x129kE\\xb9\\xe1\\xbej\\xc1\\xe7\\x86v\\xacv\\xf3\\xc1\\x0f;\\x1fL_\\x1c@9\\x0e2\\xd5o\\xcf\\t\\x1e\\xa3}\\xb0\\x8d\\xa5o<\\x00\\xc9ng\\x17(\\x10\\x99\\x9e\\xb0\\xe5\\x91\\x8b\\xe6\\xd4\\'\\xfbe\\xc3p\\xc3\\x96Hm\\x9a\\xd0\\x8f9\\xd7\\x1e\\x9a\\\\3\\x1e=\\xe4j\\x8e\\xccR\\xf2e}oA\\xd7\\xe5\\x8b\\x8a(\\xc9\\x00hS\\xe9\\x8a\\x8f\\xb2\\xf4\\xb9\\xcaH\\x17\\xfc@~\\xec\\\\q\\xc7p<\\x07\\x9f\\x9e#I\\xfe\\xaf\\xe5\\x87\\x9f\\xbeT\\x9d\\xad\\xc7\\xab6\\xc9\\x80\\xe6)\\xaav\\x03q\\xe3\\\\5fp(\\xa7\\xcd\\xca\\xa0\\n\\xd9\\x97\\x85\\xaf\\xe1#\\xf4\\x07O[\\xe2C\\xda\\xacls\\\\\\x9cia\\xf8\\xbc\\xf7\\x16\\xdb\\xde^\\xbe\\x7f\\xc7\\ts\\xb8\\x83d\\xf5L.\\xe5\\xb36\\xbd\\xd2\\xc5v;s\\xdf\\x1a\\xf8<L\\x9dRm*\\xf3\\x15vM\\x0cm\\x9c\\xe6\\x1e\\xd0\\x11\\x94\\xd1\\x805\\x0b\\xef\\xacb\\xe4\\xa2\\xca\\xe8\\xa5_\\x04J%.B\\x02\\xa7\\xe1\\xd7\\x15\\x8fcQ\\xdb?\\xac\\xb0\\x04{\\t6=l\\xe3\\x17\\xdcL;\\xb4\\x07pmm\\xf0\\xae\\xaeU#\\xd3~\\x9d\\xec\\xe9\"\\x97\\xbf\\xee3A\\xc3\\xf4\\x80\\xb00 \\x0e\\xb7\"\\xdc\\x8e\\xdf\\xfbp\\xd9\\xc4\\x99DP\\xc5O\\xdc\\x80\\xac\\xc1\\xa2\\x16]\\x88\\xd8\\xe2c\\x10\\x02\\xc2\\xda\\xbc=p\\x9b8@a\\xa4}7\\xb4\\xd6\\xf8\\x82,F\\x10\\x8c\\xf7V\\xc7\\x9c\\xdatW\\x1cVOq\\x93\\x1d\\xbf\\xc8\\xa5?\\xefb\\xc8\\x87&\\x8ahh\\xd9\\x90xPt\\xdbp\\xa7\\xf7b\\xb9\\xe2\\xb5\\x0f\\x16J\\xa8uZ\\x81\\x89#\\xd5\\xb9\\xe2\\xe5\\xa5\\x88\\xac0-\\xb9F\\x9f\\xf0\\xe3KZ\\xfa1\\xc7\\xe2\\xff\\x00\\x06>\\x9f,\\x94\\xa7^\\xef\\xb3\\x19g\\xca\\xd5\\xd2\\xaa0\\xa1u\\x80\\t\\xbf]6\\x07\\xd3\\x96\\x19\\xab(`\\x0bU\\x15\\\\\\x9d\\xdd\\xb2\\xa9V\\xe6\\xdb\\xae\\xa1sc\\xce\\xd6\\xc4\\xd1`\\xb9b\\x00\\xbe\\xad\\xf1\\x1c\\xcf \\x8b\\xdb\\xa4Ybk\\x9c\\xa2\\xa6\\xd2\\x03\\xee\\x8d[\\x8bc?O+\\xc9LzY\\x1c\\xa3CvEA\\x14|9\\x96\\x9d\\x11*\\xfe\\x0cY\\x19\\x9a.\\xb7$\\x13\\xf0\\x18dN6\\xe2|\\x9a\\x96:(xR\\xa2\\xba\\x8a\\x8e\\x9e6J\\xb8\\x9dt\\x15U\\x041\\xbb\\x0b\\x8b\\xdc\\x9fM\\xb9\\x8cN2:{\\xf0\\xceX\\xb7b_-\\x0bsb\\x0f\\x80\\x8f?3\\x86\\x0c\\x87\\x8b8/,\\xa6\\x82*\\xac\\xe1!\\xcd\\xb2\\xfad\\x15\\xa8\\xc6b\"!\\x14\\x1b\\xad\\xb4\\xf2#a\\xd4\\xf9\\xe2q\\xbb\\x93\\x02rR\\x8e\\xea\\xfd1\\xa6~\\xd7sjY\\xe9\\x85O\\x0f\\xc7KO)\\xd2\\xdd\\xfbx\\xef}\\xc2\\xe9{l\\xa5~g\\x0brn\\xd6j\\xab*Lu\\xb9u\\x1c\\x15\\x11J\\x01\\x08d s\\xd8\\xf3\\xb1\\xba\\x91\\x89`\\xed;\\x83\\x02\\xc7\\xaf\\x88(\\xad-\\xf4\\x06\\x85\\xf7\\xe5\\xbf\\xb9\\xb71\\xbf\\xf0\\xc2\\x95\\xe3\\x8e\\x12\\x9b\\xbc\\x8e,\\xe7..\\x8c\\x16@c+f7\\xb5\\xee\\xa2\\xfc\\x8e\\x18\\xa5]\\xd36N7\\xe4P\\xd4\\xd0\\xca\\xf5\\xb3\\x18\\xd5\\xa3\\xa8\\xef\\x84\\x90\\x86[\\x8dE\\xee\\xa1\\xad\\xb9]\\xc5\\xed\\xbd\\xb9b\\x05$2\\xff\\x00<\\xf2\\xf6\\x9c\\x8e\\xf8Q9~\\xec\\x10\\xb7,\\xf7\\xd3}\\xf4\\xdc\\x9e{\\xe2\\xe3\\xe2\\n\\xaaY\\xf8\\xc34\\xae\\xa0\\x929\\xe9Rh\\xe7^\\xe4\\x02Z\\x15\\nN\\x84\\x1b\\xb7-\\x94\\x0b\\xf9\\x0cU\\xb3\\x08\\xe5\\xe2\\xeaY\\xa3\\x0c\"z\\x12\\xea$R\\xa4\\x06rE\\xc1\\x17\\x07~F\\xdb\\xe3S4\\xba\\xb1\\xa6di\\xa3\\xd2\\xe4\\x97\\xbf\\xee[qF\\x00\\xf7Xa\\xaf\\x89\\x95W\\x87\\xf3v\\xf1\\x8bQM\\xcb\\xfb\\x87\\x0fq\\x80/r\\xc3|3qi\\t\\xc3\\x19\\xe3k\"\\xd9|\\xff\\x00?\\x01\\xdb\\x18\\xf2\\xe1\\x9a\\xb1\\xe5\\x19\\xb1=\\xc5\\xfe\\xe8\\xfd\\x98\\xe3\\x80\\xab\\xf8G\\xc0c\\xcdX\\xf2\\xf4k\\x06\\x9eX\\x01\\xc7\\xba\\xb6\\x18\\t\"\\xd8\\x94\\x889#\\x92i\\x12*ti\\xa6\\x95\\x82G\\x1a\\x0b\\x97bl\\x14\\x0f2qyd<1\\x91\\xf0\\xaeY\\x15\\x0eu\\x97R\\xe6\\xb9\\x99\\xfbZ\\xa9d\\xdc,\\x87\\x9a/\\xe8\\xa8\\x00z\\x9b\\x9e\\xb8\\x8e\\xf6o\\xc3\\xa3,\\xa3\\x1cQ\\x99\\'\\xe3\\x12\\x82\\xb9TL=\\xd1\\xc9\\xa7\\xb7\\xae\\xe1}.|\\xb1%x\\x8c\\x8c^V\\x05\\x9bsq\\x88\\x93\\xa2R\\xea\\xe7\\x83\\x02y_\\x0e\\x19/\\xf9\\xda\\x83\\xfct\\xc2\\x00=p\\xbf\\'\\x1f\\xd2\\xf4\\x1f\\xe3\\xa7\\xed\\xc7\\xa4\\x97\\x0c\\xca\\x8fy\\x1a\\x1f\\xb1\\\\\\xe2J\\xbe/\\\\\\xbd\\xeb\\xaaf\\x8a\\n\\x19@\\xa5x#\\t\\x19R\\xbb\\x87\\x1e#\\xcf\\x91\\xc6\\x8f\\x8d\\x06\\x9fu\\xbe\\x18\\xca\\xbd\\x83D\\xcb\\xda\\xadc2\\xb2\\xabPTY\\xad\\xb1\\xf1&5\\x84~\\xe8\\xb9?,3\\x8e*0T\\x04\\xdbor\\xb3\\xed:&l\\xd3(![G\\xb3\\xcf\\xcc\\xed}K\\xf7\\xff\\x00\\xf9\\xc2J\\xfaW\\xf6\\n\\xe1Y?uL\\xf9\\x81x\\x9cD\\\\\\xa3\\x0ej\\xc2\\xf7\\xdf\\x98\"\\xfe\\xb8p\\xed5o\\x9ae\\x16\\xb7\\xf9<\\xc2\\xe7\\x9e\\xec\\xbd=p^i\\xa1\\xb2Y\\xd21\\xe2\\x19\\x93_\\xedu\\xdfc\\xf4\\xc3X\\xf7B\\x99\\xb8$}\\x8cPR\\xfe\\x1f\\xafa^\\x1a\\xd4^\\xe8\\xa6a\\x7f\\x18\\xf3\\xc5\\xde\\xb4\\xd0\\\\\\x0fh\\x04\\x86\\x1f\\xe8[\\x9e)^\\xc5\\xd3F}]\\xb6\\xc6\\x87\\xe5\\xef\\x8c]\\xca\\xa0\\xd8\\xf3\\x04\\xe1=Sj[\\xeen\\xe8\\xad\\xe9\\xe3O\\xcf\\xee\\t(\\xa0\\xb8\"\\xa4{\\xbf\\xec\\xdb\\x00\\xad\\xa5\\x84\\xc5NML`\\x89\\x96\\xcc\\xc8\\xdb}\\xd8:5\\x17\\x02\\xfd9a\\x07\\x111\\x8e\\x86\\x07\\xf7\\x93\\xda\\x13U\\x87M\\xce3b\\xeeKa\\x97i\\xdd\\xfa\\xf9\\x10\\x1c\\xca,\\xbf0\\x83-\\xf6\\xdc\\xce\\xaa\\x86h\\xe8t\\xbcg-w\\xd1\\xe2\\x1c\\x88 \\x1b\\xfa\\xee1mC]B\\xa8\\x88\\\\\\xe9\\xee\\xd4j\\xee\\xdb\\xcb\\xcb\\x14\\x1fj\\\\9\\x9eq\\x1d5\\x04|7\\x9b>S2RT\\xd4\\xc8\\xb1T\\x8aY\\xea\\x08\\x0b\\xdd\\xc7\\x1b\\xb0\"\\xfa\\xb7\\xd2H\\xb8\\xeb\\xb5\\x8d\\xa5\\xc3\\x90\\xe7\\x10p\\xdeK\\x17\\x15O\\x15Ny\\x1d\\x0c+_4\\x02\\xc9$\\xe1\\x06\\xb2-\\xb7\\xc6\\xc2\\xd7\\xbd\\xb1\\xa1\\xaf\\x9dE/&\\xff\\x00\\x06^\\x9du9?\\x81(l\\xc6\\x89mk\\x8e\\xa0\\xee1\\x1e\\xcf\\xab\\xe8\\x1f3\\x82;\\xc8\\xc2Z9\\xe2)\\xa9\\x95\\x1e\\xe0\\xf3\\xe9\\x85\\x8e\\x86[\\x86\\xf7\\xbam\\xd7\\x14\\xb7\\x1apg\\x16\\xd4\\xf6\\xbd\\x93g\\x99ns\\\\\\x99Z\\xcb\\x1b\\x14\\x13i\\xa5\\xa4\\xa2T\\xd3<\\r\\x11\\xd9\\xe4\\x90\\x86mC\\xf3\\x85\\xed\\xa7\\x08\\xe9\\xe4\\xfbQ\\xa6\\x9a\\xaa.\\x8c\\xae!\\x0eA\\x95\\xa2\\xa8m4*5(\\xda\\xfaO\\xdd\\x88\\xad\\'h\\x19m!\\xaa\\x8b;\\xa3\\xef\\xc52\\xc7\\x1c\\xd1\\x0c\\x90\\xea\\xd6Y\\x00&R\\x08p77\\xf8yb[\\x951\\xfem\\xd0\\x86f\\x08\\xb4@{\\xbb[I\\xeb\\xfb\\xf0\\xd7O\\x16z\\xb1T\\x18x\\x16\\x86\\xaa.\\xf2&\\xa7\\x99\\xf3`}\\xa5nOzT\\x83\\xa1\\x86\\xcc\\x07\\x99\\xc38j\\xe4\\x1c\\xa9A_\\xdf\\xfb\\x11\\xcf\\xda\\x17\\x06\\x04\\xd5Q\\x93B\\xeab\\x1b6_\\x1d\\xc8\\xb9\\xf0X\\xafN{\\xed\\xbe\\x0f<]\\xc1\\x93\\xd5:6B\\x8e\\xfd\\xe9\\xbc\\x87*K1\\xb7\\xbf{u\\xe5\\xe7\\x8f*W955J;/\\xcb\\xea\\xa2`\\x13\\xbf\\\\\\xd20%\\x02\\xdc\\xc1\\x17\\xb5\\xd7o\\x80\\xc2\\\\\\xcb39UY\\x938\\xec\\xe6\\x92\\x99\\'\\xa92$\\xad\\x98\\xa9it\\xb5\\xfb\\xc2\\xa1v#U\\xed\\xe6m\\x86\\x94o\\x8f_Q\\x19\\xb8\\xc5x\\xfc\\xd0\\xdb\\xc4\\xd5Y>iSC\\x1eQH2\\xd51hr\\xb1\\x08$\\x8fQ\\x16\\x91\\x08\\xe4Tl\\x1b\\xa1\\x18\\xa8\\x9e\\x10\\x9cY\\x1a3I)J\\x1d:\\xdb\\xc6\\xcd\\xe2\\x02\\xe4\\xf9\\xf5\\'\\xe3\\x8bb|\\xcf-\\xa9j6\\xa2\\xc9\\xe9\\xf28\\xa9\\x18\\xbc\\xce\\xb2\\x87M<\\xfcD\\x81`,N\\xfbo\\x8a\\xd0F\\x1b\\x8b|\\x06\\xe0Q%\\x986\\xd6\\xef\\x17\\xee\\xdf\\xe7\\x87%\\xb6$\\x84\\xa3O$\\x9a\\xf5\\xc1f\\xc6\\x0e\\xfe3\\xf4\\xc4c\\xb4j\\xb6\\xcb\\xf8\\x03\\x8b*\\xd5\\x83\\x9a|\\x9e\\xaa@\\xa7mDFv\\xc4\\xb60t\\xed\\xa7\\xe9\\x88wj\\xfaW\\xb3.43m\\x18\\xc9\\xaa\\x03\\x95 0\\x1az_\\xae\\x10\\xe4ard\\xce\\x17\\xe2y3\\xe8\\xaaZ\\xa2\\x18\\xe00\\x90\\x00\\x8d\\x8b\\x024\\xdf\\xae\"\\xe7\\xb4|\\xd1\\xc5\\xd2\\x9a\\x8a0}\\x19\\xbf~\\x16pd\\x89\\xfd(\\xc9!x\\x85\\xf4\\x17p\\xc7N\\x93`H\\xda\\xf8\\x80\\xc6\\xea\\xd1\\xad\\x98\\x1b\\x81\\xd7\\x08b\\xc1\\x8d\\xcei\\xc7\\x8a.\\x9eI\\xa8E\\xdf\\x99<\\x8b\\x8c\\xf3:\\x9a`\\xfe\\xdbIK5\\x98\\x98\\xda\\x89\\x98\\x1b^\\xd6 \\x9d\\xce\\xdc\\xfc\\xf1`vQ\\x90\\xe6]\\xa1g\\xba\\xeb3W\\xfeo\\xe5\\x81&\\xcd\\x99h\\x84Z\\xaf\\xba\\xd3\\xab\\x1f\\xcak\\x1b\\x91\\xc9A>X\\xa82<\\x9b2\\xe2\\xee!\\xa3\\xc98yZ\\xab0\\xcc\\'\\xee\\xa0]d(\\x1c\\xcb\\xb1\\xe8\\x8a\\xa0\\xb1=\\x00\\xc6\\xd8\\xc88k/\\xe0\\x9e\\x1c\\xa2\\xe1l\\x81\\xbb\\xcaZ[\\xbdUI\\x16j\\xba\\x86\\xf7\\xe5o\\x89\\x16\\x03\\xa2\\x801F\\xab\\xb3\\xc3\\x1aI[\\x0f\\x17VGW\\xb0\\xe1WQ\\xed\\x93\\x19J\\xacP\\xa0\\t\\x14j,\\xaa\\xa3`\\x00\\xf2\\x03\\x11\\xcc\\xc7;\\x8a\\x9e\\xa4\\xa38SnD\\xdb\\x02\\xe2\\xbe\"\\xa4\\xe1\\xdc\\xaa\\xa2\\xb2\\xb6Q\\x154\\x08Y\\xdb\\xaf\\xc0\\x0e\\xa4\\xf2\\x03\\x19\\x17\\x88x\\xd70\\xe2L\\xd6z\\xfa\\x9auP\\xe6\\xd1FC\\xde8\\xc7%6;\\x9e\\xa7\\xd4\\x9c#\\xa7\\xd3\\xcb;o\\xc0nyV*DT\\r\\xb0\\xe1\\x93\\x8f\\xe9Z\\x0f\\xfb\\xc2\\xfe\\xdc!\\x03\\x0e\\x19@\\xfe\\x94\\xa0\\xff\\x00\\xbc\\'\\xed\\xc6\\xec\\xb8fl{\\xc8\\xd2\\xdd\\x8dP\\xca\\x99\\xfd-Y\\x80,ME*\\xf7\\x81\\x08\\xb96\\xeb\\xf2\\xc6\\x87\\x88Y}\\xe2\\xbf,R}\\x96\\xcdT\\xb3\\xf0\\xbd1\\x93E$\\xb9u\\\\\\xa5-\\xef\\xb2\\x14\\x03\\x7fMg\\x17\\x84b\\xca:|\\xb0\\x1a\\t\\xb9\\xe1m\\xf9\\xbf\\xa1~\\xb2\\x0b\\x1eD\\x97\\x92+\\x1e\\xd3\\xd4\\xfe\\x17\\xca\\xaeV\\xde\\xcf%\\xaf{\\xf3[\\xfc\\xb9_\\xe5\\x8e\\xcd\"S\\x92T2\\x85\\x07\\xf0\\x89\\xbd\\x87\\xa6\\r\\xedD\\x91\\x98\\xe5$\\x1b\\xfd\\x8c\\xb6\\x16\\xf5\\\\u\\\\Bl\\xb2X\\xfd\\xa6 \\xad\\\\\\xcc\\xce\\xea\\xc1c {\\xad`w<\\xc651\\xca\\x932\\xf3+H\\x91\\xf66\\x8d\\xf8z\\xb6\\xc0\\x7f\\x90\\xff\\x00\\xce1uG\\x19\\xf0\\x83\\xe2\\xb1\\xd8\\xdb\\x15\\x1fd\\x14j\\xb9\\xedQ\\x15\\xb4\\xcd\\xf8\\x91\\xf0\\xa35\\xfd\\xf1\\xe6\\xa3\\x17RS\\xad\\xd6\\xd5\\x11\\x0f\\x99\\xfe\\x18OU\\xedJ\\xcd\\xbd\\x0c\\xbat\\xe9|BV+\\x8e\\xb7\\xb6\\xdbr\\xc1U\\x99\\\\\\x19\\xb5\\x1f\\xb2Tk1\\xb3j\\xf0\\x9b\\x10w\\xeb\\x87\\x08\\xe9\\xd4[\\xf1\\x98v\\xf5?\\xc3\\nb\\x81\\x01S\\xdf\\xc3e\\x1f\\x9c\\x7f\\x8637N\\xd0\\xd4\\xa6\\x8a\\x9b\\x88\\xe9 \\x11\\xd0\\xcc\\x94\\xd5\\x90\\xda\\x8c*\\n\\x96b\\xcb\\xe2]\\x9a\\xfb\\xdc\\xdb{[|O\\xda.\\xe9\\x01o\\xc9\\xb1`\\xc3\\xc3kaEW\\x0bI\\x9d\\xe44\\x92\\xd1\\xc0\\xf3\\x8a\\xc8\\xa3bg\\x94+(\\xd4I\\xfa\\xed{a\\xeel\\xb0\\xd3\\xc6\\xa2X\\x11\\xa3V\\x8c\\xca\\n\\x86 )\\x1a\\x85\\x8f=\\xb7\\xb7\\xa64\\xb51\\xedc\\x15~\\xb63!.\\xceR\\xa24\\xa5$\\x16\\x8e\\xdc\\xef\\xb6\\xf6\\xf4\\xbe\\x1b31\\xdeUSF#R\\xec\\xb2o}\\xc7\\x85\\xaf\\xb7\\xc3\\x12\\xec\\xec\\xa9\\xad\\xa6zr\\x92S\\xa51[\\x18\\xf4\\x91!k\\xef\\xd0\\xec\\x00\\xf9b7V\\xc9%C\\xdc \\x9a8\\x19\\xe1r,A\\xb3_\\xee\\xc2\\x90\\xc6\\xa1\\x9a\\x93\\xbd\\x861\\xcd\\xce=MW\\xff\\x00A\\xd1\\xf7q\\xe4\\x14\\xf0\\x96eQ\\x96_C?\\x88\\r\\x07k[\\r\\xd0\\xf06mQ\\x11\\x9e\\x9f\\x89+\\x12\\x1a\\xc2\\x92\\xc7\\x0bG\\xb4jA!A\\x02\\xff\\x00\\x94\\x07\\xd7\\xd3\\x0b\\x9e9\\xa8h\\xa3G\\x9a6\\x8e\\x1a\"\\x92F!$\\x95\\x00\\x8ev\\xbe\\x1b[\\xb3\\xcaI\\x1e\\xaexx\\xc3>\\x87\\xda\\x1f\\xbcX\\xd2\\xb54S\\x92N\\xca\\xa7\\xa6\\xfa@?\\xb7\\x0c\\xe2\\xd9\\xb0\\xf2/a\\x13\\xaaeaO\\x187klI\\xe6w\\xc4\\x13\\xb5\\x02U\\xf2\\x91k}\\x9c\\xc7\\x7f\\x8a\\xe03\\xf6q]5l\\xd5)\\xc4o43\\x1b\\xeb\\x92%Y\\x1a\\xe3{\\xb2\\xad\\x88\\'\\xee8b\\xe2>\\x13\\xa8\\xc8(\\x16J\\x9a\\xf3Rt9\\x8d#>\\x15:\\xe3\\x05\\x8d\\xd4\\x1b\\xd8\\xdbm\\xb0\\xde\\x14\\x94\\xd1\\x9b\\x9e7\\x17Lh\\xca\\xf4\\xb4\\x869\\x14<R0W\\x8d\\x80*\\xeb\\xa5\\xae\\x08;\\x11\\xe8q\\x05\\x894\\xf1r\\xd9\\x15c4\\xe8\\xa9\\xb8\\x1b\\tc\\x16\\xb7\\xccm\\x89v_+\\xd3\\x89j\\x0cs\\xd5,^#\\x0c;\\xc8\\xf6\\r\\xee.\\xc4\\xb7\\xa5\\xf9\\x03\\x88n^K\\xf1\\xb3X\\xeei\\xe1\\xbd\\xe37>8o\\x7f#\\xe7\\xe5\\xbe\\x1d\\xcf\\xdc\\x15\\xd3\\xaa\\x89mF\\xbbr\\x18\\x86v\\xb5h\\xfb2\\xe2\\xf71$\\x81r\\xb9.\\t\\xe7\\xba\\x8f\\xdf\\x89\\xb4k\\xe1\\xf7q\\x08\\xed\\x7f\\xc3\\xd9\\x7f\\x17\\xf8X\\x13\\x970\\xbf\\xc5\\xd0c-\\x8d\\xc3\\xbc\\x8cy\\x15{\\xd1J\\xb0\\xaeW\\xa1\\xa4\\xb1\\x05J\\xa8 \\xf5>\\x98M\\x99\\x18\\xa4I\\x91\\xf2\\xf8b \\xef\"\\xb8a\\xb1\\xe9a\\x85<N\\xefC<SS*4\\xff\\x00g\\x14K \\xba\\x92^\\xdb\\xfdqjv;\\xc0\\xd9\\xa5]\\x7f\\xe1\\xee8\\xca\\xa8)\\xf2J\\x10\\xb2\\xd1\"\\xa0c]Q\\xa8\\xe9\\xb1\\x0c|\\x08WQ\\xb8\\xdc\\xe9\\x1dq\\x87\\xd6\\xa3\\x05\\x93m\\xfd\\xfb\\xff\\x00\\x1ef\\xac\\xb1\\xd3\\x94w\\xdb\\xdd\\xf7\\xf2\\'=\\x97ph\\xe0\\xbc\\x84f\\xb9\\x85\\x14t\\x9cG\\x9cB>\\xca\\xd7jJS\\xba\\xa16\\xd9\\xdbfo\\x90\\xf3\\xc4\\x96\\xb2\\xa5(`b\\xcdcm\\xc9\\xc2\\xba\\x9a\\xb6\\x95\\xe5\\xab\\xabmR9&\\xe7\\x147l\\\\yV\\x83\\xf0NG\\x19\\x94\\xb9\\xfcze\\x04\\x88\\xa3?\\x93\\xb6\\xfa\\x9b\\xee\\x1f\\x1c\\'\\x18\\xcb<\\xce\\xdb\\x1cH\\xe7\\x1cq\\xc0\\xe2\\\\\\xec\\xd2\\xc0\\xaa\\xf9m<\\x81Q\\xd9\\xec${\\xd8\\xb0\\x1dm\\xd3\\xeb\\x86\\x1c\\xc8\\xd1\\xd0V\\xcb\\x04\\xdd\\xf4l\\x87a\\xdc\\xf7\\x9b[m\\xd5\\xad\\x86\\x02\\xa1\\xe3B\\x00\\xd0\\xc3\\xc2G\\xec\\xc3\\x84\\x99u\\\\\\xc9\\x04\\xf4ys\\xcd\\x1c\\xd1\\x86\\xbc:c@E\\xd6\\xc0_\\xf4o\\x7f2q\\xa5\\xd3\\x18RN\\x91Lz\\xa7u\\xbb \\x83\\x0b\\xb2\\x93\\xfd)C\\x7f\\xfbB~\\xdc!\\xc2\\xdc\\xb2\\xe32\\xa1\\xff\\x00\\x1d?\\xe2\\x18\\xd0\\x97\\x0cF=\\xe4j\\xee\\xcb\\xaa\\xe0\\xa8\\xcc\\xf8>\\x9c2\\xbc\\xd0e\\xb5\\xc8T5\\xb4\\x13\\xa0\\xef\\xf2\\x1fx\\xc5\\xef\\x10\\xb2\\xfeZ\\xfc\\xaf\\x8c\\xdf\\xd8\\xc2\\xb3q~[\\xcc\\xa1\\xa6\\xa8]$\\xd8\\\\\\x8e\\x87\\x90\\xe5\\xf7cH\\xc6\\xc1W\\x9b\\xaf\\xaf<W\\xa0\\x8a\\x86\\x16\\x97\\x9b\\xfa\\xbb\\x18\\xd7I\\xcf\"~\\xe4W=\\xa6\\xad\\xeb2\\xb3g\\'D\\xc0\\x126\\xbf\\x87\\x05\\xd6@\\x13\\'\\xad\\x97@\\x0e\\xf5\\xca\\x1d\\xba\\xb8\\xd2y\\x9e\\xb6\\xc2\\x9e\\xd2\\xbcse,\\x84\\x96\\x02pKly\\'LyU\\x04\\x9f\\x80\\xeb\\xe4y5\\xc6\\xd5\\xa9\\xa2;\\x0f\\t\\xd3\\xb9\\xbf\\\\j\\xc1ree\\xe0\\x90\\xf6<O\\xf3\\x8a\\xae\\xc7\\xfdI\\xbf\\xe2\\\\]\\x8a\\xb7\"\\xd8\\xa4;%a\\x07\\x11T\\x17!T\\xd17[\\x0fxb\\xf1\\x8d\\x80*\\x0f^\\xb8OW\\x17\\xd4n\\xe8\\x7f\\xeb\\xaa\\xf7\\x83\\nI\\xdb\\xcb\\x0b\"[\\x009\\xed\\xc8\\xe14n.\\x06\\x9b\\xed\\xbe\\x14\\xa4\\x83\\xee;c)\\xc5\\x8dN\\xc7\\xca\\xa4\\xa1\\xca8o/\\x934\\xaf\\x83*JT\\x8c$\\xf5s\\xaca\\\\\\x8b\\x00X\\x90/\\xbd\\xbdp\\xae\\xaa\\xd0\\x9dR\\x14\\xbe\\xe0\\xa1\\x16\\x17\\xb7\\xf0\\xfb\\xb1\\n\\xed#\\xb3\\xfc\\xaf\\xb5.\\x16\\xca\\xb2\\xfc\\xdf7\\x93\\'\\x96\\x05\\xefU\\x9d#\\x940x\\xccl\\x19%\\x1aI\\xb3\\x1b\\x1d\\x88;\\xf9\\x82\\x1a\\xaa\\x8c\\xab\\x85\\xb2l\\x93\\x87\\xb2J\\xc5\\xa9\\xa4\\xca\\xe9\"\\xa3\\x81\\xe6\\x9cL\\xdaQDj]\\xef\\xce\\xc3s\\xb7<m;\\xa3\\x19G\\xaaoq\\xd33x\\xa7\\x95a\\x864\\x92Yn\\x91\\x82\\xd6\\n\\xc7\\x97\\xec?\\\\G\\xa4\\x9b*N!l\\xa2\\xb31\\xa1\\x8f8\\x14sI\\xec&\\xae?i1\\x84>1\\x1d\\xf5\\x15\\xe7\\xb8\\x1c\\x85\\xf9a\\x8b8\\xce\\xa2\\x8a9{\\xf9\\xe3H\\xa7\\x91\\x88,n\\xbbu\\xdb\\x9d\\xef\\x7f\\x96 \\xf9\\xaffy~\\x7f\\xc7\\xd4\\xbcw.s,\\xa2\\x9a\\xaa<\\xc2*\\x08\\xe9\\xd43TG\\n\\xc4\\x9fm\\xef\\xe8\\xb0\\x07E\\xbd/clV\\x95J\\xc7:Z\\x8aH\\xb7x\\x86a\\x13\\xe7.\\x1a%\\x10GP\\x02\\x829\\rD\\x0ba\\xae.\\x03\\x90G]\"\\xe6\\x95\\xc4\\xe6J\\x1a5ov\\x02[X u\\xb7/\\xbf\\x01\\xcck)\\x84\\xd5\\xae\\xaa\\x0b\\xba2=\\x89\\xb9\\x90\\x9f,4\\xa5\\x1f\\x03d\\xe9\\x99f\\x9d\\xe0h\\xeaA9\\xc2I[,\\xc9f{\\xd8\\xa1k/\\xda\\xf9[\\x97\\x96\\x06\\t\\xa6\\xcbd\\xfd\\x95C\\xfapm\\\\5\\x0b<|[\\x9fR\\x95\\x85\"h x\\xc4D-\\xf4\\xd9J\\xdcs\\xe9\\xd6\\xf8d\\xe3,\\x8e\\xab-\\xc8\\xa7\\x9e\\xb7\\x883,\\xe0\\xbc\\x89\\x1ckX\\xb1\\x81\\x08,\\t\\xd2T\\x02}\\xd1\\xcf\\x0ba\\xed\\x0f\\x85(\\x84t4R\\xba\\xc2\\x91\\xab\\'s\\x1d\\xd1\\x15\\xaf\\xce\\xe6\\xe3{\\xe1\\xb3\\x8c8\\xa7/\\xcf8}\\xe2\\xa1\\x15\\x11\\xb2M\\x1b\\xdax\\xc2\\xddok\\x82\\t\\xbe\\xf8g\\x15\\xb9\\xa3;*\\xa4\\xdb^\\x0f\\xecC\\xb2D\\x06\\xa4,\\x92\\x02\\xa4\\xb5\\x83.\\xc0\\x88\\xdc\\xdf\\x10\\xdc\\xa1\\t\\xe3YY\\x8c\\x9a;\\xb8\\x10\\x10<%\\x8bF@\\xbf\\xa8\\x07n\\xb6\\xc4\\xbf(s\\xed\\x0b\\xa5\\x88\\x91;\\xc6R\\xbb\\xff\\x00\\xa1|D\\xb8vg~2\\xa9\\x8fQXH\\x81\\xd9\\x04\\x86\\xc5\\xc6\\x80\\x0e\\x9eD\\xd8\\xb0\\x1e\\x87\\x0fj;\\x82:wq-\\xa4_\\x0f^X\\x81v\\xc8Bvc\\xc4\\xe4\\xea\\x17\\xa6\\x8cz\\x1b\\xcd\\x1e\\xd8\\x9f\\xc6F\\x9fx\\xe2\\xbe\\xed\\xb3Sva\\xc41S\\x87\\x9ai}\\x9a(\\xe2E\\xbbH\\xedS\\x10\\n\\x07\\x99\\'\\x19\\x12\\xe1\\x8e\\xc3\\xbc\\x8c\\xd1\\x95\\xf0\\xa5_\\x1bq\\x96O\\x96\\xd1\\xaf\\xd8\\xc7T\\x95u\\xb3j*\\xb0SD\\xc1\\x9d\\x8bt\\'e\\x1el\\xc3\\x1aR\\xaa\\xa6:\\x89c\\x8e\\x9c2P\\xd3\\r\\x10\\xab6\\xa3\\xa4r\\xb9\\xea}p\\xc9\\xc3|4\\x9c\\x17\\x93\\x1c\\xb2\\xe8\\xf9\\xbdY\\x12\\xe6\\xb3\\xae\\xf6o\\xc9\\x85O\\xe6\\xaf/Ss\\xe5\\x84\\\\M\\xc44\\xbc=\\x96\\xcfUU\\'w\\x04\\x08Y\\xad\\xcc\\xfa\\x0fS\\x8f-\\'\\xd7\\xd3\\x14\\xb86d\\xeeR\\x97\\x83\\x1bx\\xf3\\x8a\\x9b,\\xa1\\x98R#I>\\x93\\xa4*\\xdfO\\xa9\\xf4\\xc6q\\xcc\\xa5\\xccj\\xb3\\x0e\\xfe\\x976\\x81e#L\\xab)0\\x976\\xd9\\xecF\\xa1\\xbd\\xc5\\x8f\\x96=\\xce8\\x874\\xe2\\xac\\xf1\\xe54\\xef\\xdf\\xce\\xac\\xd0E\\xed\\x05\\x15UF\\xc3\\x98\\x04\\x8e{\\xe1\\xa2\\\\\\x9b0\\x870\\xa6l\\xd2\\ta54\\xe9*\\xb4\\x9a[Z\\x9d^+\\xa9?\\x9b\\x87\\xf0\\xe3X\\xe5\\xbbW\\\\\\x15\\xcd\\xb9b\\xb8\\xc5\\xd5\\xf3\\xbd|/\\x8f\\x148\\xd4AU\\x17p3\\n\\xd4\\xad\\x9d\\xa3\\xd5t\\x908A\\x7fv\\xe3\\xaf_\\x9e,~\\x19\\xcf8v\\x8b\"\\xa3\\xa7\\xae\\xa7\\xcce\\xa9\\x89-)JA\"\\xea\\xbd\\xec\\ta\\xb6\\xf8\\xae\\xe9h\\x82\\x9b\\\\\\x1b\\x91r\\x01\\xdb\\x17\\x9f\\x03\\xe7<\\x19\\xc3\\xb9\\x1bP\\xe6\\xf2duu\\x0bU9Y\\xaa\\xe2\\x90<\\x91\\xf7\\x84#[\\xba;\\x15\\x00\\x8b\\xef\\xe80\\x97\\xea9V<I\\xf4J{\\xf1\\x1d\\x9f\\x8e\\xfc=\\x86\\xb4Xrd\\xc9P\\x9c`\\xeb\\x99q\\xf7[\\xff\\x00&S=p\\xaf.6\\xcc(\\xcd\\xff\\x00\\xd3\\xa7\\xfcC\\t\\x86\\x14Qm[J\\x7f\\xb7\\x8f\\xfe!\\x8fF\\xf80\\x17(\\xd4\\xdd\\x87\\xbf\\x0e\\xcb\\x9a*UU\\xe6+\\xc50\\xd44t\\x94\\xaa\\xa3\\xd9%\\xa6d\\xbb\\x97b.\\xae<V \\xf9m\\xd4h8\\xdbH\\xf7\\xc8\\xfb\\xf1\\x95;\\x1d\\x9eh\\xbbP\\xcb`YH\\xa7\\x9b\\xbfg\\x88\\xdbK7tE\\xc9\\xe9\\xcb\\x1a\\xb1IP|A~\\xf1\\x8e\\xd1\\xc7\\xa3\\x1b\\xdf\\x97\\x7f`\\xb52\\xea\\x92~\\xe2\\xbd\\xed&A\\xdf\\xe5^=F\\xd3\\xfb\\xc3\\xc5\\xc99z`\\x0f_\\x04\\x99t\\xf9y(\\x952T\\xf7\\xa8\\xc6@\\x14\\x85]\\xf5\\x12|\\'}\\x87\\\\\\x13\\xda\\x94\\xda*r\\xab\\xb9`Vo\\xc9\\xe5\\xb2\\xe0\\xb8\\xaa\\x11!y\\xacKI]N\\x1d\\x98t\\x1azt\\xf9s\\xeb\\x8d\\x187\\xe0%4\\x9d&8\\xf0\\xedp\\xc9\\xe6\\x9aW\\x9a\\x98\\xf7\\x90wCMB\\x9ed\\x13\\xd7\\xc8b\\x7f\\x07i\\x11D\\x8a\\xbff\\xfb\\x1b\\x16\\x99y\\xf4\\xeb\\xbe\\x13=\\x14o$\\xfd\\xd2D\\x91\\xac\\x84xP\\x0b\\x0b\\x9czh\\x91^ \\x10\\x95w \\xaa\\xa8c`\\x07;\\xf9b2t\\xc9\\xfbF\\xbc0f\\xc0\\xbaa-\\xbe\\x02\\xf1\\xdaDp y{\\xa6\\xbc\\x80HD\\xc0\\x04\\x06\\xd6\\xf3\\xf2l\\x17/j\\x103\\x96\\x8ex\\x92%]\\x07\\xc5\\xba\\xb1;\\x1e^[\\xdb\\x11\\x8a\\x8a\\xa1\\x1eg\\x9bG%CE\\x12\\x84>\\x15\\x05\\x8f\\xb8\\x06\\xc7\\x9d\\xf5\\x11\\x86|\\xd2Q]K0\\x8ai%y*\\xa1WY\\x14/\\xe7\\x00m\\xf1\\xc2\\xd2\\x8c\"\\xf6D,\\x99\\x9a\\xa6\\xfc\\xcb#:\\xcf\\xdah*j2^\\'\\xcd\\xe2\\xa6Jzy\"A\\x984D\\x06E#\\xc0M\\xc1 \\xde\\xded\\xe2\\x1bO\\xc4\\xd9\\xb5ve\\x97\\xc3[\\xc4y\\xcct\\xf2*\\xf7\\xf3=t\\x80\\xa8<\\xf7\\xe5\\xb1\\x02\\xf8m\\xa7\\xad\\xa7\\xfc\\x1dY,\\xfd\\xe1a\\x05\\x02\\x8d\\x11\\x03n\\xe9b\\xdb\\x9867\\xe7\\xe9\\x84\\xf2U=D\\xd04+P\\xf2h.\\x84\\xc9\\x1a\\xb7?\\x8f\\x95\\xbe\\xfc^\\xaaKb\\x9c\\x8a\\xa7\\xbf\\xad\\xc2\\xf3\\x9e\\'\\xcd`\\xaf\\xaa\\xa4\\xa1\\xcfsY\\xe9c\\x94\\x88\\x99\\xab\\x1d\\xae<\\xf7\"\\xff\\x00LZ\\x9c\\x07W=o\\rS\\xces\\x9a\\x8a\\xba\\x82\\xb5\\x06\\xa1*j\\x9d\\x99$1\\xa8\\x0bkl\\x14\\xef\\xe9{\\x8cT\\xb3\\xd7T\\xb0\\xb0\\xa2\\x93\\xb92\\x01\\xefF@k\\x8e\\xa0\\x13\\x89Wg\\xfcCK\\x16O]\\x96L\\x1e\\n\\x99\\rc(\\x0e,\\xdaR5:z\\x13{\\xfe\\xecW\\xe3L\\xb7\\x02\\x8a\\x95\\xfa\\xe5\\x12,\\xae\\xaa\\xa9\\x16\\xa1\\xf3\\x1c\\xe2\\x92&\\xa7\\xa7Y\\xdf\\xbc\\xa9\\xbaH\\xe8\\x02\\x81\\xe2\\xeaw\\'\\xae\\x06\\x94\\x9c\\x0b\\x96\\xd6\\xc9_\\rm\\x1dO\\xb7\\x19\\x0ec\\x0cu\\x8b/\\x85\\xbczJ)\\xb9\\x01\\xc8\\xb5\\xf9i\\xc3^o\\x93\\xd3R\\xc8Z((\\xfb\\xa6[\\xaa\\xb4v\\x04\\xd8^\\xfedy`TyvW[[\\x93Q\\xe7\\x94tt\\xf4URT\\xb4\\xecH@4E\\xe0`\\xc7\\xdc:\\x8d\\xad\\x8a\\x96\\\\r\\x97\\xb2\\x86;<\\x90\\x83M\\xf0L$<\\x017\\xb15T\\xd9D2w\\x0b\\xec\\xf1\\xc9Q\\xdd\\xb6\\x8dLG\\x84\\x1f\\xce\\xd5\\xcf\\x11\\xee/\\x1c!\\x06N\\xcd\\xc2\\xf3\\xe5\\xd2V\\xbdTbqMRd}\\x001\\xdc\\x12l/l5\\xf1FK\\xc2\\xf4U\\x19,9\\x07\\xb2T\\xd2L\\x95R;GT\\xb3\\rI\\x19*5\\x03\\xb6\\xe0m\\xd7\\x11\\xa0\\xb4)\\x96\\xc5,T\\xf0GQ%(\\x04\\xa6\\xd7\\xb416\\xad7\\xd8\\xdd\\xce\\xf8c\\x0c\\xd7i\\x15\\xb9\\x9f\\xa8\\xc7\\'\\x8aN\\xd7\\x02\\x9a\\x17j\\x95\\xa8\\x86\\x96\\xa7\\xd9\\xaa\\xfb\\x99\\x0cs*\\xab\\xf7v\\x8c\\x93\\xe0;5\\xc5\\xc6\\xfc\\xafq\\xb8\\xc4k\\x84e\\x12\\xf1\\xc5I\\xba)\\xb4C`n9\\x1f\\xdd\\x87l\\xb5\\xd3\\xf1\\x82t\\xf8ij\\x0e\\xa29\\x1e\\xec\\x8b\\xfd\\xf8a\\xe0IL\\x9cuRu\\xd8\\xdd6\\xd0\\x00\\xb0S\\xe5\\xf0\\xc6\\x8e\\xa9TL\\xbd/t\\xbb\\xd0\\xf8G\\x8f\\xee\\xc3V}9\\xa6\\xcbf\\x94i\\x91\\xa3dd\\x0c/g\\xd44\\xb0\\xf5\\x07|<G\\xba\\xf3\\x07\\x0c\\x1ca7q\\x91T\\xc8t\\xd8<b\\xfd}\\xec`\\xe7u\\x8a_\\x07\\xf64\\xf1+\\x9a+\\xea\\xda\\xc1E\\x13\\xb4\\x8e\\x0b\\x9d\\xd9\\x89\\xc6R\\xed\\'\\xb4\\x81\\xc5Y\\xe8\\xa5\\xa2\\xaa\\x92\\x1c\\xa6\\x8d\\x9cw\\x88\\xfaD\\xf2r\\xd4\\x08\\xde\\xc3p>\\xb8\\xb0\\xbbU\\xe3G\\x99\\x1f+\\xa1\\x90\\x81/\\x86\\xa1\\xd4\\xf2_\\xcd\\x1e\\xa7\\xaf\\xa6)\\x86\\xa2\\xa66\\x1d\\xccv\\xf2\\xd21\\x99\\xa4\\xc5\\x18{r\\x1c\\xcf6\\xfd\\x947MW\\t\\x925\\x8a\\xbeG\\x88\\xabj\\x06K\\xef\\xd3s\\x87\\x1c\\xba\\x0e\\xf6\\xa6\\x85i%\\x92I&\\n\\x8c;\\xc2E\\xf9rQ\\x8f\\x1b-\\xa4m\\xda\\x04\\xfd\\\\\\x1fOKML\\xe9\\xaf\\xdbh\\x91WW\\x7fI\\tgO+\\x0c?9\\xa7\\x1d\\x85\\xa1\\x17\\xd4J)\"Zye\\x81\\xa4I\\x1e\"\\xc1\\x8a1\"\\xe0\\xfa\\xef\\x81\\xe6\\xd4\\xe5j#\\x1a\\x80\\xfb!\\xcc\\xfcp\\xc5\\x90R\\xc1\\x1a\\x97\\xa6i\\xa5\\x06f\\xfbi\\x94\\xab\\xb0\\'\\xa8\\xf5\\xc4\\xd6\\xa5)\\xe5pf\\x89$`\\xa0\\\\\\xe32o\\xa3%\\x9a\\xd1O&:E@\\x06\\xde\\xb8>\\x94Z\\xaa\\x03\\xe5*\\x1f\\xf7\\x86\\x0b\\x03\\xcb\\xae\\r\\x83i\\xa3?\\xa6\\xbf\\xb4ca\\x98\\x8b\\x92\\xf6\\xec\\xa9\\xb4v\\xad\\x92\\x01\\xa7\\xc4e\\x16nG\\xec\\xdb\\x1a\\xc6\\xc5Cl\\xab\\xbf!\\xb8\\x18\\xc9=\\x9b6\\x8e\\xd58|X\\x1b\\xca\\xe2\\xc7\\xad\\xd1\\xf1\\xad@\\xb2\\x9f\\n\\xaf\\xa5\\xee\\x06\\x0bK\\xfe\\xb4N~\\xf1V\\xf6\\xba\\xec\\x1f(\\xd2[~\\xf7\\xdd\\xd8r^xl\\x8a\\xae#M\\x13\\x131\\x02\\xb2\\x1e\\xf2&qc\\xee\\xd8\\xabZ\\xe3\\xd6\\xe3\\x0b;em2d\\x84\\xdb\\xfd7_E\\xc4^\\x9d\\x9b\\xd9Q\\x95U\\xcc\\xd3DbTpt\\xe8\\xb1f\\x16\\xb9;s\\xbf,9\\x0eX\\xbb\\xf0\\xf8\\x97\\xd5\\re8\\x9e\\xa1;\\xa6 \\xc8\\xc2\\xc6r|\\xff\\x00G\\n\\xe8\\xea\\xe9\\xd6\\xa62\\xb4\\xec\\x0e\\xb3\\xba\\xd4\\x13{\\x8b\\x1f\\xc9\\xc5\\x7f\\x07\\x13\\xe5bz\\xf6\\xfc)L\\x0c\\x92\\x16\\x8c\\xab\\xd8\\x1f;\\x93\\x80\\xd2\\xf1-0x\\xf4\\xd6E\"\\xdc\\xbd\\xd5\\xf5[\\xd7n\\xb8\\x9c\\x91R\\xe1\\x9e\\x8d8\\xb7w\\xb0\\xfb\\xc6\\x14?\\x83r\\xbal\\xff\\x00\\xbeH\\xbb\\xfa\\x91H\\xe0\\xdaO\\x00\\xf1\\x03b\\x05\\xc8\\xd1o=\\xf0\\xc1\\x04\\x15rEI$\\xd3\\xc0\\xc9Q_J\\xfa\\x966WmD\\x00,.,\\t\\xc1\\xfcg\\\\kx\\n7\\x8a\\xae)b\\xfc$%R&Pm\\xdd\\xc8\\x0e\\xd7\\xf3\\x18Y\\x99S\\xc5M\\x91p\\xd4\\xe9[#\\xbbV\\xe5\\xff\\x00d\\xc4\\xd8\\\\\\xa9?LT\\xe2\\xafqu\\x0bs\\xf0\\xe9W\\xf3\\x17\\xbe[IA\\x92\\xd7\\x12\\xd1\\xcc\\xe8c\\x8fK8@4\\xaa\\xf2\\xb5\\x8f\\xe4\\x8f\\xd9\\x86\\xec\\xb3\\x81\"\\xcf\\xa8\\xa9\\xeb)+\\x92\\x91\\xd5H\\xa8R\\x85\\xb5\\x1dL\\x17A\\x1c\\x85\\x86\\xe0\\xe1\\xb6\\xaeJ\\xba\\xec\\xbe\\xa2I*W]UTe\\x8b\\x96\\x00\\x1d\\n\\xc6\\xdbaE\\x17h\\xf4\\xbc)D\\x99EN_QQ]N]jJ\\xca\\xaa\\x80\\xf7\\x8c\\xcb\\xa4\\xef\\x7f\\x0b\\r\\xf6\\xc5\\xbb-\\xb8B\\x99\\xa9\\xbd\\xfdn:\\x1e\\xc8\\xa5]?\\xd3T\\xfa\\xac\\x05\\xc4\\x0e,\\xfe{\\x1eV\\xf9\\xe1\\xdb(\\xe1\\xeal\\x87,\\xae\\x8a8\\xa1\\x9azX\\xab\\x14\\xd4\\xd8\\xa9\\x0cJ\\x0f\\r\\xef\\xb1\\xd3\\xd7\\x95\\xb1\\x1e\\x9b\\xb6\\xda\\r\\xad\\x93\\xd51\\xe6\\x7f\\x19Q\\xbf\\x97,9/\\x105vCW_\\xa0\\xd2S\\xe6\\x14\\xf3L\\xb1<\\x81\\xdbL\\x85J\\x9d\\xbc\\xaczu\\xe9\\x8en\\x15\\xb0zZ\\xeb\\x7f\\x03\\xaa\\xa0\\xa9\\xae\\xcc\\\\\\xb32xu:\\x85e\\x1b\\x0bm\\xf5\\x18K\\xc4&\\x18\\xf8r\\x96\\x9a\\xba\\t*\\xe0\\x92\\xa4\\x18\\xe50\\xbd\\xd1\\x81\\x1a\\x81\\x03p\\x08\\xb7\\xa6\\xd8l\\x82\\xa6\\x8d\\xea\\xd0\\xcak\\x19f\\xd2\\xaaA%^\\xd6\\xd5o+\\x9b}1\"\\x93)\\xca\\xb8\\xb2\\x8d\\xb2\\xf9\\xb3|\\xc7&\\x8e)\\x92a,R$e\\x9bI\\xba\\xeaaf\\x1b\\x8f\\x98\\x18\\xcf\\xc6\\xbar\\'C\\x99\\x1fV&\\xaf\\xc0\\x84f\\x19u41W\\xb55+\\xa2A\\x95ES\\x00\\x89\\x99A\\x91\\xa7\\n[\\x9e\\xe7K}\\xc3\\xcb\\x0e\\xc6\\x96\\x18\\xeb$H\\xa3\\x96\\x15\\xfc.(\\xf4Z\\xe3\\xbaX\\x81\\xd3\\xca\\xf6\\x06\\xdb\\xe2B{\"\\xe1\\xf9\\xa2S?\\x1a\\xe6\\xccU\\xc4j\\xefYJJ\\xaa\\xaf\\xf5B\\xe3\\xd4\\x9f1o,+\\xa6\\xecF9&\\x8e\\xb7+\\xe2z\\xca\\xf8eU1TT\\xdab\\xef\\xf9Rk\\x8c\\x85 \\xda\\xdb}p\\xcb\\xb5+\\xea\\xa16\\x94\\xa3]\\t\\xfa\\xf8\\x10\\xac\\xa02AZ\\xca\\xcc\\xd6\\xa1\\xa97\\xb0\\'\\xddQ\\xfb\\xf0\\xc9\\xd9\\xb3w\\x9cq\\x98Z\\xfb8\\xbd\\xc8#\\xdd\\x7f\\xe1\\xfbp\\xf7S\\x1a\\xf0\\xfd_\\x10\\xd3\\xb9\\x9ejzd\\xa9\\xa5V\\x8a2\\xec\\x0e\\xa0\\xa0\\xe9\\x17`\\xb7\\x1b\\xb5\\x88^\\xa4b;\\xd94\\x8b\\'\\x1cf\\x83\\xec\\xd8\\xdc\\xdbN\\xfc\\x83\\xf5\\xc6\\x8e\\xa6W\\x14a\\xe9\\xd3\\x8ai\\x97\\xfa{\\x9d9b\\xb2\\xed\\xeb;\\x93\\x87\\xbb4\\xaf\\xad\\x81\\x15\\xa6j\\xcah#7\\xe4\\xce\\xe7s\\xe8-\\x8b5G\\x87\\x90\\xfa\\xe2\\x94\\xfeTO\\xdd\\xf6V\\xa0\\xa8\\x1d\\xe6wF\\xb7\\x07\\xc8H\\x7fv2$\\x94\\xa2\\xd34a\\xb4\\x91\\x93\\xe7\\x94\\xc9M\\x0b\\xce\\xc6Gvvfc}D\\x93s\\x84\\x87A#\\xc21\\xd23\\x8aZmNYN\\xad \\xf4\\x17\\xe9\\x825y\\xe14\\x86\\x9b\\xb0\\xdb\\x0f,\\x114\\xee\\xa1\\xc4r:\\x9e@\\x83\\xcb\\x1e\\t\\x91\\xdaTRuFB\\xb8\\xb7\"E\\xfex>js+\\xb3\\xb3\\x82\\xcd\\xb9\\xc1\\x15\\xb1\\x140\\xbdUD\\x1e\\xd3#J\\x01\\x07\\xc4\\xc4\\xec7\\xc4\\xc5jK\"\\x9b\\xf4\\x18\\x8e\\xd1G\\xdc\\xd4\\x9bib\\x0e\\x91~Gl/T\\x91\\x14\\x06q\\xf28\\xa7*\\xea\\x18\\xc3.\\x82*\\x06\\xdf\\x0c\\tve=u\\x03\\xf7\\xe3\\xd0\\xb8\\xf6\\xc4\\x02|\\xb0\\xe8\\x82.\\xae\\x02\\x82Q\\xda\\x7f\\rT\\x00\\xc6\\x11S\\xa5\\xac\\xbb^\\xce9\\xdf\\xd7\\xcb\\x1a\\xe1A\\nAM\\'\\xc8\\xf4\\xc6]\\xe08\\x8a\\xf16K!R\\nW\\x8f\\xbf\\xff\\x00\\xf7\\x1a\\x82%\\xbal\\xa7\\x13\\xa4w\\x8c<\\xeb\\xda*n\\xdb\\x1f@\\xc8\\xaf\\xa4\\x12\\xd3s\\x17\\xe8\\xb8\\x87e\\xd53\\xbd\\x14T\\xe9\\x03\\xe8\\x92_\\xb1u\\x85\\x8fx\\xcbb\\xca\\xb6S{\\x0e\\x7f\\x1d\\xf14\\xed\\xba\\x92\\xa6h\\xb2\\x03IMQ9\\x12Mq\\x14M%\\xb6[^\\xc3lU\\x9e\\xcd\\x9b\\x895\\n\\x1c\\xc2>\\x80\\ny,\\xbf\\r\\xb0\\xe2\\xc8\\xe0\\xd8\\xa3\\x82\\x9a\\xdc\\xb1)8\\x9e\\x0c\\xb6\\x8e\\x96\\x86\\xb7\"\"\\xa2\\x18\\xd4\\x16\\x99Q\\x0bopl\\xc9{z\\x9c9O\\xc4\\xb4\\x95Ye\\xa9\\xde\\x0c\\xa6\\xa0\\xbb\\'v\\x7f)N\\x96\\xd6\\x19\\x12\\xdf\\x93k\\x1cU~\\xcf\\x9a\\x16\\xf1Q\\xd7\\xbbZ\\xdb\\xd3;\\x1f\\xd9\\x85\\x10\\xa6u\\x02\\xafuGZ\\x80\\x1b\\xaf\\xe2\\x87\\x99\\xb7\\x9a\\xef\\xc8`\\x9et\\xd5\\x16\\xe2\\xbcR\\xeaD\\xfa\\xa6\\xa6\\xae\\xab%\\x92\\x86\\xaav\\x14\\xed0x\\x1a2\\x181e\\x92\\xcbn{\\x9fL*\\x9b\\x88\\xa3\\xaa\\xa4\\xc9h\\x1a\\xaa\\xa6\\xa1\\xa9\\xea)\\x1d\\x82Au\\x1a\\x08\\x06\\xc7H\"\\xdf\\x13\\xf3\\xc5|\\xbf\\x87u\\x17\\xf6:\\xb0\\xecI\\'\\xd8\\xed\\xb9\\x16?\\x93\\xb73\\xf5\\xc7\\xa8s\\xe8\\xf9R\\xd7.\\xdf\\xf6>\\x9f\\xab\\x80\\xeb\\x83\\xe6\\xcb{Y\\xdd\\xa6M\\xe7\\xcd)\\x97*\\xf6h\\xa7f\\x98U\\xc4\\x16\\xd1\\xb0YA\\x84(*\\xc7\\xc3\\xefr\\xf4\\xb7\\\\G\\xb3e\\x15Y\\x8deDR\\xac\\x01\\xe4\\xb8\\x85\\xa3\\x90\\xb2\\xf2\\x16$\\xaf;\\x8c #\\x89 \\xaa/&_]\\x1c\\xe8\\xd7\"L\\xbe\\xd66\\xdb\\xc2R\\xdc\\x8f\\x96<\\xd3\\xc4&\\xcah\\xea\\xfa\\x81z/\\xff\\x00_<s\\x9c%\\xb3\\xb0%\\'-\\xcf^\\x82\\xa4\\xa3:\\xb7\\x80sa\\x1b\\x10?\\xdd\\xc4\\x8eJ\\xe9\\xc5\\x040\\xd5S<\\x02\\x86\\x91)\\xa4bI:]\\xb43\\xe9\\xb0 ]-\\xf1\\xc4]\\x87\\x10\\x06WZJ\\xcdJ\\t\\xb8\\xa3\\xf3\\xd8\\xdf\\xc3\\xe80$\\x97\\x8acU\\x8a*J\\xe0\\x15\\xac\\x17\\xd8G09{\\xbb\\xe3\\x93\\x82\\xe2\\xc9\\x8c\\x9cw$\\'4\\xac\\x121\\x15\\x95\\x0e\\x05\\xc2\\x96\\xcb\\xda\\xe3\\xcf\\x93z`\\x13f\\x92\\xd4$QT\\xc9\\xed\\x11\\xc4\\x1fLre\\xeeF\\xa6\"\\xeew\\xe64\\x80>\\'\\x11\\xa7\\x9b\\x8a\\xf4\\x1bS\\xe6\\x00\\x14\\xb6\\xd4J6\\xbf?w\\xcf\\xae\\x00\\xf5\\x9cb\\x8du\\x19\\x8a6\\xb0v\\xa5Q\\xbd\\xb6\\xdbO\\x97L]\\x1c\\x98\\x97\\xed~\\xbf\\x90%<\\x8f\\xf7\\x12\\xc1\\x9d\\x05\\x86(\\xa5\\xa7\\x8e^\\xean\\xf4~\"\\xebv\"\\xdb\\xecw\\xb6\\xd7\\xc1r\\xd5\\xc4\\x0c!\\xe8\\xe4\\x85\\xfd\\x968\\xc6\\x9agP\\xd1\\xda\\xeam\\xd0\\x10A\\xb6!U\\x12\\xf1\\\\\\xc1;\\xe8\\xf3\\x06\\xd2\\xad\\xa4\\xfb8\\x1b\\x03s\\xd3\\xa6\\nv\\xe2\\xa6!\\x8cu\\xde\\x10\\xbc\\xa2U\\xd8\\xf2\\xe9\\xd7\\x0c\\xc3Q\\x86?\\xb1\\xfc\\xbf\\xf4C.<\\xd9?z\\xf5\\xfc\\x16nY^\\x92Sf\\x17{\\x97\\xa1\\xa9MGXh\\x98h\\xd9\\x85\\xac.,E\\xce\\xf8O\\xd8\\xa4\\x86n3\\xcd\\xce\\xcf\\xe1bl\\x81G_\\xa7>X\\xae\\xf4\\xf1\\x94\\x9a#\\t\\x980\\x8f\\xbcU](\\x00\\x07v\\x1c\\xbe\\xb8\\xb3;\\x0e\\xcb\\xf3Xx\\x970\\x977\\xa4\\x9e\\x16\\x96\\x97^\\xa7\\xe4\\xdb\\xad\\xb7\\xe9\\xcc\\xed\\xcf|Q\\x9f4rGd\\xd7\\xc4\\xb3\\x0e7\\x0e]\\xf0_\\xeb\\xee\\xec\\xbf~(\\xaf\\xe5VXvm\\x96\\xa2!\\xbc\\x99\\xf4\\x1c\\x8f;E1\\xc5\\xed\\xa2\\xcb\\xee\\x91\\xf3\\xc5\\x05\\xfc\\xabY\\x17\\x828u$\\x8fV\\xbc\\xf6\\xf6aq\\xe1\\xa7\\x90\\xdf\\xef\\xc6|\\xb8c\\xf0\\xdeFL\\xf6\\x99\\xa6D\\x82H\\x02%=\\xc2:\\xb6\\xadw=E\\xb68\\x0e\\xaf3\\x83\\xcbC\\xf9\\x85\\x7f\\xba\\xe4~\\xfc\\x01\\x99I\\xf0\\xbc\\xbf\\xad\\xab\\xf6\\x8c\\'~\\xe1\\xaa\\xf7\\x88\\xa9\\x9a\\xf3\\xd7\\x1f9\\xc0\\xfa(\\xc2\\x96\\xa8`M\\x8e\\x02c]\\xf4\\x10\\x0b\\x1b\\x9b\\xc67\\xfa[\\x05\\x18\\xd8[ea\\xe6\\t\\x18+\\xb2\\xba\\xa1BTi\\xb3_~\\x7f<\\x19\\xed\\x84\\xf3a\\x84!\\x19O\\xb8\\xc7\\xd00\\xc0\\xb5y\\xc7/\\xea\\x83\\xfb\\xf1\\xd4N\\xe0\\x02\\xf2\\xdb\\x02a\\xe1m\\xad\\xb1\\xc0\\x82\\xf4\\xb6\\x04G\\x81\\xbe\\x07\\x16\\x94\\x97\\xdf\\x03\\x12s<\\xb5\\xdbQ\\xb5tf\\xe0\\xf9\\x85\\xc6\\x9c\\x80\\xddy1\\xc6i\\xe0(\\xb55<\\xc4{\\xb5\\x10\\x92m\\xcb\\xc2\\x86\\xf8\\xd2\\x94\\xa0\\xb8\\xf0\\xebo\\x86#F\\xfd\\x96\\x16u\\xb8\\xad\\x03(:D\\x8b\\xf06\\xbe\\x05\\x1e\\xb0\\xc7yG\\xfe#\\x81$\\x0eG\\xf5R\\xe3\\x82i\\x90\\x86Y\\x14\\x8e\\x87\\x0e\\xd8\\xb5Q\\r\\xedR\\xba\\xb2\\x8b\\x85\\xe2\\x92\\x8a\\xae\\xaa\\x99\\xcdtH^)\\x99\\tR\\xaf\\xb5\\xc7NX\\xa7\\x7f\\x0e\\xe6\\x84\\x96|\\xd30\\'\\x95\\xfd\\xaeO\\xe3\\x8b\\x7f\\xb5\\xd4#\\x82L\\xa0\\x1d+\\x98S\\x8dG\\xa5\\xcb\\x0cQ=\\xf1\\xf3\\xc0\\xa0\\x90\\xf3\\xf8k2\\xd8\\x9c\\xce\\xbb\\xe2j\\xe4\\xdf\\xef\\xc0Fs\\\\E\\x8eaZ\\x7f\\xfb\\xa9?\\x8e\\x19\\xcc\\xc4\\xe3\\xce\\xf3\\x96\\xf8\\x9a${|\\xe6\\xbeG-&c\\\\\\xeey\\x97\\xab\\x91\\x89\\xf9\\x96\\xc1g2\\xab7\\xbd]O\\xce\\xa1\\xbf\\x8e\\x1a{\\xc3\\xe7\\x81\\x07\\xbe:\\x91\\xc3\\x99\\xaf\\xa9oz\\xa6\\xa0\\xff\\x00\\xe7\\xb7\\xf1\\xc1mW+\\x0b\\x19\\xe7?\\x19\\x9b\\xf8\\xe1\\t\\x93\\xcb\\x1ek\\xbe:\\x91\"\\xb6\\xa9\\x96\\xf7\\xef\\xa6\\xbf?\\xeb[\\xf8\\xe0\\xb3<\\xb7\\xfe\\xba_\\xfdV\\xfe8L_~{c\\xcdX\\xe3\\x83\\xcc\\xce\\x0e\\xd3K\\xff\\x00\\xaa\\xdf\\xc7\\x04\\xcd<\\xbd\\xcc\\x9fm/\\xba\\x7f\\xd2\\xb7\\x97\\xc7\\x01\\xbd\\xfd~8.s\\xf6\\x12\\x7ft\\xe3\\x8e4\\xfeL\\xb2\\x0c\\xb2\\x84^Cjh\\x87\\xbc\\x7f0a\\xf6\\x989[0\\x90\\x8fV\\'\\x0c\\xd9dv\\xa1\\xa5\\x1a\\x18\\xda\\x14\\xe5\\xfd\\xd1\\x87\\xaau\\x16\\xf7\\x1f\\xeb\\x88\\xf0+\\\\\\x8a\\x18X{\\x87\\xeb\\x8c\\xed\\xfc\\xacd\\x03\\x87xF\\x12\\xac\\xba\\xf3J\\x97\\xdf\\x97\\x86\\x006\\xfdlh\\x87\\x02\\xde\\xeb}q\\x9c\\x7f\\x95Tfj^\\x0e\\x89uYg\\xad\\x90\\x83\\xcb\\xdd\\x88b\\x99\\xec\\x8b\\xa1\\xc9\\x984\\xed\\xbe\\x02F\\xc4_\\x0bd\\xa3u\\xbf\\x80\\x9e\\\\\\xb0GpA7\\x05H\\xf3\\xf3\\xc2\\x96^\\'a\\xe4p\\x06\\x1eG\\xf7aIB.m\\xe4pQ[\\x92<\\xb1\\'\\x04\\x1b\\xef\\xcf\\x1el:\\x91\\x83\\x08\\x16=0\\x1b\\x11\\xc9\\xac1\\'X$[\\xe0z|\\x07\\xe0pb\\xa1\\xb6\\x06#\\x04\\x1f\\x86\\n\\xca\\xa8\\xbb\\xf8&n\\xe5i<EY\\xcd9\\x16<\\xef\\x1a\\x7f\\xf8\\xc6\\x9e\\xcbbY\\x85\\x9aX\\x97\\xfcI4\\xe3#\\xe5\\xf5B\\x8b/\\xc9\\xe5;\\x07\\x8a\\x9d\\xb6\\xb6\\xf6E\\xdb\\x7f\\x865}\\x14\\xfa\\x007\\r~\\x96\\xc4i-\\xa9QfjRVI\\xe1\\xca\\x95\\x80\\xb4\\xd4m\\x7f\\xfe\\xac\\xff\\x00\\x0c\"\\xaa\\x88R\\xd5\\xc9\\x16\\xbe@\\x7fV\\xfa\\xd7q\\xd0\\xe0\\xfa\\\\\\xe2\\x15\\x006_F\\xe7\\xceE\\'\\xf7`\\x8a\\xba\\x85\\x9e\\xad\\xe4\\x8dc\\xa6R\\xa3\\xec\\xe1\\x16A\\xb7NXj\\x1d}^\\xd1^N\\xcd\\xc5t\\xf3\\xeb\\xdcC\\xbb[\\xa72vi_P\\xa63\\xddf\\x14\\xbe\\xf3\\xd9\\xfd\\xf06\\x1dF\\xf8\\xce\\xa5\\xcf\\x9e4gj\\xd2\\xa1\\xec\\xc3<\\x88\\xc3\\x14\\x8f\\xdf\\xd3H&`u\\xa5\\xa6M\\x86\\xdf\\xbf\\xae3il\\x14/{\\xf3\\x01\\xd6\\xd48\\xd1\\xe5y\\x8ec\\x1c\\x92e\\xd4\\x15u\\x91\\xc4B\\xbbA\\tp\\xa7\\xc8\\xdb\\xae=\\xfc\\x15\\x99\\t\\xcc\\x1f\\x83\\xaa\\xc4\\xc1\\x0b\\x98\\xcc,\\x1bH\\xd3sn\\xbe\\xf2\\xec7\\xf1\\r\\xb7\\x18;&\\xcc#\\xa3\\xa6\\xa8\\xef\\xb8\\x830\\xc9\\x95\\xa4\\x16\\x8e\\x96\\x16`\\xc6\\xc2\\xcc\\xc4\\x10\\x07\\x97\\x9f\\xc7\\x96\\x16\\x9c\\xc6\\x8a*\\xc8\\xc1\\xe3|\\xc6HKTI$\\xd1SI\\xa9d`\\x9e%%\\xb7.T]\\xb6?f=\\x0e\\x0c\\x81\\xae,\\xb70\\xa8\\x9a(b\\xcb\\xeb\\x1aY[Lji\\xd9u5\\x89\\xb0\\xb8\\x1b\\xd9O\\xd0\\xe3\\xd3\\x97\\xe6\\x0b!\\x8d\\xb2\\xfa\\xc0\\xe1\\xfb\\xb2\\xbe\\xcc\\xe4\\xeb\\xb1:v\\x1c\\xec\\t\\xb7\\x96\\x1ef\\xceie\\x83\\xbc\\x9b\\x8f\\xb3Y\\xbd\\x9d\\xc4\\xb1\\xeb\\xa6}fBJ\\xdd.\\xfd\\x06\\xe7}\\x83y\\xe0\\xb93:\\t\\xe4\\x8e\\x17\\xe3,\\xeaxS\\\\\\x8b+\\xc4\\xe1bpUU\\xb4\\xea6\\xb8in\\xd7\\xdbo;c\\xb7:\\x86\\xe92\\x9c\\xce$w\\x97-\\xae\\x8d\\x11\\x0b\\xb353\\x80\\xabk\\x9b\\x926\\xe7\\xcb\\x9e\\x02\\xf9nc\\x19+.]X\\x8c\\x17Q\\rN\\xe0\\xe9\\xb9\\x17\\xb5\\xb9\\\\\\x11\\xf2\\xc2\\xe3\\x9b\\xd0\\xd4SI\\x1d_\\x12\\xe7\\xec@r\\xe0\\x03,s\\xdeF\\xb1\\x00\\xb8\\xd24,lo{\\x96#k`\\xd6\\xaf\\xcac\\xad\\xaa\\xef8\\xa3=\\x9aP\\xc3E\\\\\\x08He\\x08\\x18\\xdc\\x16\\r\\xb3j\\x1d,7\\xf50p\\x8b\\xf9\\xbf\\x9d\\x02A\\xc9\\xf3\\x1b\\x85,\\x7f\\x15}\\x86\\xfb\\x9d\\xb6\\xe4y\\xe3\\xd8x\\x7f9\\x9e\\x14\\x9a\\x9f\\'\\xcc&\\x89\\xd7R\\xbct\\xec\\xc2\\xdbo\\xb7.c\\x9e\\x0ez\\xcc\\xb2\\xa2)\\xc2q\\x16u=B\\x85x\\xe2\\x91\\r\\xa5m@\\x04\\x16bu\\x05\\'s\\xb6\\xdby\\x12\\xabk2\\xa1\\x13\\xb6M\\x9bg\\xab0\\n\\xab\\x15@\\x00YH\\xb0.\\x8d\\xd0\\x03am\\x8d\\xb1\\xc7\\x08* \\x9e\\x8ey)\\xeb!\\x92\\x9a\\xa2&\\xd3$R\\xae\\x96Ck\\xd8\\x83\\xcb\\x9f\\xdf\\x82%7\\x89\\xbe\\x18\\xf1\\xe5i\\x1c\\xbc\\x92<\\x8ey\\xb3\\xb1bv\\xeaN\\xe7\\x1e9\\xba\\x11\\xe7\\xb69\\x9cj\\xba \\x054\\x02\\xcel\\x8b\\xcb\\xe00\\xedL<>\\xeb\\x8c4S\\x8bG\\x18\\xbb\\x9b(\\x1b|0\\xebMm?\\x97\\xf3\\xc4x\\x01\\xe2(\\x7fw\\x93}q\\x9d\\xbf\\x94\\xc6][\\x99\\xd5\\xf0\\x92\\xe5\\xd2\\x95ha\\xac,\\xa4\\xf3\\xd4\\xd1\\x7f\\xed8\\xd0\\xf2\\x11\\xa7\\x9bb\\xad\\xed>\\x8f\\xdb\\xb3\\x1c\\xaf\\x9b\\x98\\xe9\\x9c\\x03\\xd5I{\\xfe\\xec-\\x96U\\x06]\\x0eL\\x93SG\\x9bR\\x02&\\xa7\\xd6/\\xcc/_\\x96\\x12\\x9a\\x9d?\\xe5\\x102\\x1b\\xf5\\xc5\\xeb>K\\x12\\xea\\xef\\x10\\xabj\\xbd\\xad\\xf2\\xe5\\xff\\x00\\xcexg\\xaa\\xe1\\x98\\'%^\\x18\\xdb\\xed\\x087K\\x1eW\\xe5\\xcf\\xaf\\xdd\\x84\\xba\\xfc\\xcb\\x8ax\\xad4\\xa0\\rzO[\\xed\\x82$\\xa0\\xb9\\xf0\\x11\\xb8\\xbe\\xdb\\xe2\\xc4\\xae\\xe0\\xaai\\x19\\x84jbb\\xc0\\x0b\\x8f1\\xd7\\xe9\\xcf\\x0cU|\\x174d\\x98\\x1c\\x9b7+\\x1d\\xba\\xef\\x83RG\\x10\\xf9)d\\x02\\xf6\\xbe\\xf8 \\xc6\\xc0\\xee\\xa7\\x12\\x19\\xf2Z\\xfa[]K\\x01\\xc8\\x9eXox\\xeaT\\xd8\\xd3\\x92|\\xd4m\\x83L\\x80\\xb1\\x1d\\x85\\xad\\x81G\\x1f\\x82\\xde\\xb8P#\\xdb\\x07C\\r\\xc69\\xb2(\\x92q\\x14\\xc6\\x8f\\x84x^\\xa0\\\\j\\x82+\\xd8_\\x92\\xb8\\xff\\x00\\x93\\x1b\\x07/\\x94=4N\\x1ff\\x8d[oP\\x0e2\\x17\\x1aB\\xcb\\xd9\\x97\\t\\xc89\\x98\\x82\\x9b\\x8f\\'\\xaa_\\xdc1\\xab\\xf8v\\xa3\\xbe\\xc9r\\xd9\\x0b\\xee\\xf4p\\xb7/8\\xd7\\x16\\xe8\\xb7R\\xf8\\xfeY\\xda\\x8eG\\xf4\\x93\\xfbF\\xfaaDo\\xbf\\xf5\\x87\\xe9\\x84i\\'\\xf6\\x8d\\xfa\\xb8Q\\x1c\\x9b\\x8f\\xb4?Lh129\\xda\\x89\\r\\xd9\\xc7\\x10\\x8d*\\xe4E\\x13\\x067\\xba\\xdad\\xe5\\x8c\\xd2[s\\xf1\\xc6\\x96\\xed/\\xc7\\xd9\\xf7\\x11\\x82o\\xf8\\x91<\\xbc\\x9dN3\\x19m\\xce+E\\x84\\x8f\\x87j\\xab\\xe1\\x8a\\xa9h3l\\xb7/\\x89\\xdd{\\xd8\\xeb\\xd8\\x15\\x92\\xca\\xd6:H \\x8b\\x12\\x0e\\xddp\\xf5\\x06a\\x98S\\x9e\\xf2>\\'\\xe1B\\x93\\xcedtx\\xd4+;\\x1dGR\\xe8\\xb8P\\\\\\x80v\\xb6\\xe3m\\xb1\\x1c\\xc8\\xa8\\xea+\\xa8\\xb3(\\xa8\\xf2\\x8a,\\xc1\\xd8\"{UL\\xe26\\xa5\\xbd\\xfd\\xcdL\\x05\\xcf\\x9d\\x8f!lHb\\x8f7l\\xc6\\xa8\\xc3\\xc2|=\\xafR\\xc0b\\x95\\xa3\\xd2\\x19\\x8bH\\xac58\\x05\\x8a\\xcc\\x05\\xf9\\x15\\x0b\\xb0#i\\x08$WT\\xa6f\\t\\xe2\\x1c\\x8d%\\x9d)\\xe0\\x9a\\xaa\\nD1\\x88\\xee\\xe3V\\xe0\\x0b\\xa0U\\xbd\\x80$8\\xf2\\xc0\\xa9\\xf3\\x1a\\xba\\xc8e\\x9a~,\\xc9h\\xde\\xa5\\xe3\\x9eH\\x96\\x9bO\\xda!M*\\xd6@4\\xfd\\x9a\\x12\\x05\\xc6\\xdb\\x83|\\x15\\x06W\\x9c\\xd5WQ\\xe64|7\\x93\\xafv\\xb2\\xa1\\x88M\\x18\\xa7\\x95\\x93R\\xb1d.\\x05\\xc6\\xf6\\xde\\xdb\\x0f,(\\x9a\\n\\xd7\\x9a\\x9a:\\xac\\x97\\x84\\x94O\\x190\\xc9\\xed\\n\\x10\\xaa)rn\\x8d\\x7f\\x99\\x02\\xe7n\\xb8\\x8f^\\xb6 1s\\xac\\xcaJ\\x96\\x89\\xf8\\xd7)\\x8d\\x8e\\x8d2\\x88-\\x18,X2\\x86\\x11\\xf8@\\x1c\\xc0\\x1al\\xc6\\xd8\\xea\\\\\\xc2\\xa6\\x9e8\\xc4|q\\x96@\\x16\\x98R\\xafwJ\\xda\\x84H\\xc4\\x85\\xf7\\x07V;\\xf3\"\\xff\\x00\\x0c\\x02A\\x99\\x1c\\xc2\\xa0Sd|5L\\x16\\x18\\xe14\\xe6x$TC\\xa6@\\xda\\xb5x\\x8f\\x9b\\r\\xc6\\xa2:\\x0b\\x05\\xd70\\xa1\\x86\\xa6\\xb8\\xd0\\xf0\\x93S\\xb5\\xa6\\x95\\x12X\\xda\\xe0Yt\\xaa\\xea\\xbe\\xe55xz\\xb9\\xe5r1\\xde\\xbdlH9\\xb3z\\xca\\x92\\x90Tq\\xc5\\x11\\x84\\xf7\\x929ZgUVM\\x0e\\xa3\\xc2\\x80\\x9dGe\\xe8\\n\\x1e\\x968\\rVs&d\\x92\\xd2f<w\\x0c\\xf4\\x8fN\\x85\\xfb\\xca\\'d\\x90\\x86$ \\x00_P\\xd8\\xdc\\xdbs\\xcfk\\xe3\\xd8\\xe9\\xebVz\\x8axS\\x83\\xd6v}e]\\x92\\xd1\\x99\\x0b\\x90\\xaa\\xcd\\xe1\\xd8\\'\\xcbR\\xdf\\x07\\x19\\xb3\\x19\\x90J\\xd2\\xf0B\\x03\\x1blV&\\xd4M\\xc5\\xc8 \\x9dW\\xf8Z\\xe3\\xe5\\xde\\xbdlq\\x0bb\\x9a\\xd8E \\x95\\x03\\x10\\xae6\\x0c/\\xb1\\xb7K\\x8d\\xfex\\xf4o\\xa0y\\xba\\x8f\\xbcavy\\x1c\\xcbZ\\xd5UUymT\\xb5l\\xee\\xfe\\xc1(tB\\x08R-a\\xa7\\xd3\\x98#\\xae\\x10A\\xe2\\x9e\\x9cy\\xcd\\x18\\xff\\x00|b_\\x04\\x1a\\xc21\\xd3\\xc5\\xf2\\xc3\\x95?\\xba7o\\x9e\\x1bT\\xf8\\xdb\\xde\\xd9\\x8f,9S\\x9f\\x08\\xdc\\xfc\\xf0/\\x80\\x17!\\xb2\\x11ox\\xe2\\x03\\xc6\\x90\\xfbNiIr\\xce\\xabMk\\xe8\\xdb\\xdf;\\x1cO$m\\xbd\\xecDx\\x92MU\\xbb+9\\x8e\\x04\\xf1\\xe9\\xd8\\rD\\xd8\\x8f;\\xdb\\tj\\x1d@b\\x1c\\x90\\xb7\\xa1#\\xb8T]K{r\\xb0#\\xa7\\xaf\\xff\\x00\\x06\\x12=\\x1co\\x1d\\xcc`#\\\\\\x83\\xb9\\x16=A\\xc3\\xd4\\xb2\\x05\\x90\\xeb\\xf0\\x95cv-\\xa0\\xdcu\\xb7Q\\xbf\\xdd\\x84\\xd2G![\\x15,\\x02j%mv;n\\xa4\\xfa[|gnZG\\xaa\\xb2\\x94]f\\xc8P\\x8d\\xacE\\x86\\xdc\\x87\\xff\\x00:\\xe1\\xa2\\xaf(\\x0f\\xde\\x1d\\x0e6\\xb9-\\xe2\\x03pzr\\xb8\\xc4\\xb9\\xe2_\\x08\\xd4\\xcey\\xbbi\\xe6-\\xcf\\xd0\\xdb\\xd7\\xcf\\t\\xda\\x9d\\r\\x99t\\x80\\x1bN\\xeaC\\x0fBO>\\x87\\x05g\\x10\\x1a\\xbc\\xa1\\x15\\xc5\\xe3\\x04\\x11c\\xd6\\xd7\\xf8~\\xd1\\x86yrT\\xd5\\xbch\\x18\\x80X0\\xdc\\x1f\\xa6,\\x99r\\xf1 m\\xd4i:\\x97}%\\x8f#k\\xfa\\x0c$|\\xb8D\\xc5I\\t\\xca\\xc1\\xacv\\xf8\\xe0\\xac\\xe4g\\xb5\\x8f`m\\xbf\\xc3\\n\\xa1M#\\xef\\xdb\\x05\\xc29\\xfaaTC\\x7f\\x86-l$\\x89G\\x1aS\\x96\\xeco\\x86d\\x00]e\\x96?\\x90\\xa9\\x9b\\xff\\x00x\\xc6\\x89\\xe0j\\xae\\xff\\x00\\x84r\\t5\\xdf^[Noo\\xec\\xd7\\x14\\x0f\\x12\\x8e\\xf7\\xb1\\x1c\\xa4\\x8b\\x1e\\xe70\\xaaR?\\xfb\\x98O\\xec|]]\\x99\\xd4\\xf7\\x9c\\x05\\xc3\\']\\xbf\\xa3\\xa2]\\x85\\xf9\\x0b~\\xec_\\xa1\\xe2_\\x16W\\xa8\\xfe\\x89\\xe4sr\\xfbC\\xf4\\xc2\\xa8\\xa5\\xdc}\\xa7\\xdd\\x88\\xfee\\x9cC\\x94\\xd0TV\\xd4\\xc9!\\x8e\\x15\\xbe\\x95]\\xdd\\x8e\\xc1G\\xa9$\\x0c6\\xe4\\x1c_U6I\\x9cg5\\xb5q\\xc0\\xd4\\xc1!\\xa7\\xa6\\xee\\x83#K!;\\x12w\\xb8P\\xc6\\xf8\\xd2rHI\\x0e\\xfd\\xa0\\x0e\\xf7\\x818\\x8dE\\x8d\\xf2\\xd9\\x8f\\xd0_\\xf7c,\\xeb\\xbf\\xcf\\x1ak7\\xcdb\\xe2.\\xcf3z\\xb8\\x00Q>YT\\xac\\xbeL\\x11\\xae>\\xece\\xe4\\x93R!\\xf3Pp\\x08:\\xdcy\\xcbiR\\xae\\x933v\\xc9j3W\\x86\\x9c\\xb0\\x967+\\x1d(\\xd2\\xdfh\\xe0s\\xb70\\t\\xe6\\xb8\\x7f\\x9f#X\\xe7\\x96\\x9an\\x03\\xcc\\x9b\\\\\\x92\\x98\\x1aZ\\xd6\\xefn\\x11N\\x82\\xe0ip\\xa09\\xb0\\xdf\\xc4\\x07M\\xe3YK\\xd1wu\\xa33\\x9b6\\x8e#\\x12\\xd9r\\xe5\\x0c\\xacnG\\xda\\xdc\\x81\\xa7qo\\x89\\xc2\\xfaS\\x93\\xc8\\xa0\\xd4\\xcd\\xc5\\x0e\\xdd\\xdaI\\x1fr\\x8au>\\x81\\xdf\\x11s\\xc8\\x1b\\xd9\\xbf7\\x9e\\'\\xd7\\xad\\xc2\\x17W\\xe4\\xd1\\xd8\\xc7\\xfc\\xc7\\xcc)&\\xa8VJs-K\\x94F\\x00\\rJ-\\xb9\\xb9[\\xdc\\xdb\\x96\\x0f\\x83&ye\\xaa\\x9a>\\x02\\xaa\\xa9\\xa5\\x90\\xd9tK\"\\x84\\x11\\xb6\\x99\\n\\xb2\\x8b_R\\x90N\\xe2\\xfd:a\\x04p\\xe4L\\xf2D\\xf4\\x9cY,\\x915\\x954-\\xe3\\x04j$\\x8e\\x8da}\\xac\\x08\\xdc\\xe0\\xb4l\\x95\\xa5\\x89i(\\xf8\\x9aU\\x01\\x9eT2\\x80\\xce,\\xa6\\xc3H\\xd9o\\xa8\\x93k\\xee\\x0e#\\xd7\\xad\\xce\\x1d\\x13 \\x92\\xa2\\x84\\x888\\x1e\\xa5\\x9edf\\xa5\\x9e:\\xc2l\\x1d\\x8bFJ\\x93\\xe2!\\x18\\x01\\xd4\\xe9\\x06\\xdc\\xf0\\xadxz\\xad\\xd8\\x98\\xfb>\\xd1\\xa5\\x8a\\xb15\\xb2\\x00\\x0e\\xde\\x13v\\xb8m\\xc0\\x1b\\xf3<\\xb0\\xc1\\xdc\\xe42\\xf7i\\x06[\\xc4\\xbd\\xf1\\x925%\\x9d\\x1cs]@\\x00\\x80\\x93mAG\\x99\\\\\\x1b\\x15>Nj\\xbb\\xa8\\xb2>$5(Y\\xc4b\\xa8,\\x80\\x0eM\\xee\\\\\\x10\\xc5I?\\xbf|w\\xaf[\\x9c;\\xc7\\x94\\xc9S\\x1fyG\\xc0Q\\x9aw\\'\\xbb\\xd7\\\\\\xf7\\xf0\\x92\\x1a\\xf7q\\xd5H\\xe49_\\x9e\\xe0U\\xd9d\\xb4\\xb4\\x95\\x12\\xcb\\xc1yE\\'t\\x8e\\xd21\\xcc\\x1aV\\x88\\x05\\x041]g\\xcf\\xc3\\xe6n9a\\xbe\\xaf!J\\xa8\\x9a,\\xb7\\x84\\xf8\\x8djYGtj&\\xefB\\x8b\\x92,\\x81E\\xc5\\xbfi>\\x98\\x8eTQIC0\\x8a\\xae\\x95\\xa9\\xa5\\xd2\\x1bC\\xa8\\x06\\xc7\\x91\\xb7\\xcb\\x11\\xb1\\xc0\\x97aoL*\\xa0\\x1a\\xb3\\n\\x15\\xfc\\xea\\xa8G\\xff\\x00\\xc80\\x8bW\\xae\\x17\\xe4\\x96l\\xef)\\x04\\xaa\\xde\\xbe\\x9c\\x12\\xc2\\xe0}\\xa2\\xf3\\x18\\xe9l\\x99(\\xd5\\xa9v\\x95\\x80\\x0e|G\\x97\\xc7\\x0eQ\\xa9D\\x1a\\x83/\\xc4b\\x1d\\xc4\\xdci\\x0f\\x05\\x8aj\\xa9cz\\x84\\xa9\\xa9h\\x9d\\x10\\xe82\\xc7\\xbe\\xa4R}\\xd2E\\xf7\\xe9lS\\xb9\\x97k\\xf9\\xff\\x00\\x0c\\xf1\\x1b=4\\xd4\\xd9\\x9eP\\xa3\\xbeXt\\x9b\\xcd\\x03\\x12G\\x8a\\xf7\\x0e\\x05\\xc7\\xa3\\x0b\\x1cD\\x9f\\x801F\\x93\\x91\\xb6\\xe7\\x88\\xd6t5T\\xca\\xcc\\x92\\xca\\xa2\\x10Y\\x96\\xe3\\x90\\xe4@\\xe7\\x87\\xaaz\\xc8\\xabi \\xa9\\xa7fhg\\x89%\\x8c\\xe9\\xb1\\xd2\\xc0\\x11\\xb7\\xc0\\xe05T\\x02b\\xb3\\n\\x99\\x04\\x97FP\\xb1\\xef\\xb0\\xf8|v\\xc2\\x1a\\x99{\\x08b\\x08\\x89\\x9ar\\xee\\x8c\\xae\\xcc\\nlT\\x01\\xb9\\xb9:\\xbanm\\xbf\\xc7\\xcf\\x08g\\xa4\\xd6\\x1bR\\x85`\\xa0wL\\xda\\x98]\\xb7+\\xe5\\xcb\\x97-\\x81\\xc4\\xcal\\x9e5V\\x8ez}\\xe4:\\x1c\\xe9\\xf7\\x94sS\\xbf\\x887\\xa6\\x13\\xb6_\\xefkD$_V\\x90\\x0b\\x11ce\\xb7\\x98\\xbe\\xf7=0\\x85\\x87D3\\xd9ffUHd\\x95\\xc1<\\xc0%\\x7f4\\x83\\xcb\\xad\\xff\\x00\\x86\\x01\\xf86p\\xecL%N\\xa1\\xa7\\xbcbt\\x8e\\xbb\\xfa\\xef\\xb5\\xfdw\\xc4\\xaez%k\\x05:\\x82\\xae\\x8b/\\x85\\xc7#\\xab\\xd0\\xf3?<#hP\\xf7\\xecU{\\xa5\\x90\\x86,\\xd6d\\xb6\\xc0\\\\\\xfb\\xddl|\\x88\\x18\\xeb8\\x8b\\xc9B\\xb1iy\\x8aE\\xa9\\x18\\x8b\\xaf=\\xefk\\xf9\\x93\\xf1\\xc0\\xd3*\\xbe\\xaf\\x1b\\x8b\\x1b\\\\\\xc7\\xaa\\xfe\\xbf\\xbb\\xe5\\x87YSD^\\tTL\\t[{\\xea\\xe0r\\x05\\x80\\xbe\\xfc\\xed\\xce\\xf8&D\\x8a\\x9d\\xb43+0\\xf7\\x9bM\\xcb\\x1f3e;\\xfd\\xf8-\\xceFJ\\x8f\\xa5\\xb0\\xa2#\\xf4\\xc2X\\xce\\xd8=\\r\\x89>g\\x17\\xb0\\xac\\x99f\\xb2w\\x9d\\x8c\\xca\\x97\\xde\\x0c\\xca\\xa4\\x8f\\x9b\\xd2\\x1b\\xfe\\xdc[\\x9d\\x91\\xcf\\xaf\\xb3\\xbe\\x1c\\xf1\\xfb\\xb4\\xba<\\xf9;\\x0cS\\xae{\\xde\\xca3\\x94;\\xacu\\xd3\\x1f\\xac\\x11\\xb7\\xff\\x00\\xd7\\x8bG\\xb1i\\x8bvw\\x94)v=\\xdbN\\x9e|\\xa5o\\xe3\\x8b\\xf4[9/x\\x1a\\x8f\\xe8\\x9cg\\xf4\\'8\\xca\\xa7\\xa4\\x8eb\\x92\\xb1W\\x8c\\x91a\\xa9M\\xc5\\xfd6\\xb7\\xcf\\x10\\xfc\\xd3\\x86L\\x19>[M\\x97,\\xd5U\\xd3<\\x93UF\\x84\\xd9X\\xd9QO\\xe4\\x82\\x00;\\xfe\\x96\\'\\xba\\xff\\x00I\\xfe\\x98\\x1a8\\xb8\\xf17\\xcdq\\xa4\\xe3\\xd4\"\\x9d\\r\\x94yC\\xe4\\xfc\\x01W\\x97N\\xf1\\xbc\\xde\\xc3Te+\\xcb[#\\x92\\x07\\xc2\\xf6\\xbe3$-x\"7\\xdf@\\xfd\\x98\\xd6u\\xa4I\\x96\\xd5%\\xc1\\xd5\\x04\\xab\\xcb}\\xd0\\xe3#S\\xb5\\xe9\\xa1?\\xa0\\xbf\\xb3\\x02\\xb6,\\xbbc\\x95\\x1eeY\\x97\\xb35\\x05T\\xd4\\xac\\xd6\\xd4\\xd1>\\x92m{o\\xe9s\\xf5>xU\\'\\x12g2\\xcd\\x1c\\xf2\\xe6\\xd5\\xaf<Z\\xb4;LI[\\xf3\\xb7\\x95\\xf0\\xcd\\xaf\\xcb\\x1e\\xea\\xc1\\x13c\\xa3gY\\x94\\x80\\x87\\xcc\\xabX\\x17/\\xbdCn\\xdat\\xdf\\x9f;m\\xf0\\xc1\\xf2q.s6\\x8e\\xfb8\\xcc\\\\\\xa3\\xb4\\x8a\\xc6\\xa9\\xee\\x19\\x88\\xb9\\xbd\\xef\\xbd\\x86\\x19\\xb5c\\xd0\\xd8\\xeb:\\xc7v\\xe2\\x0c\\xdaD\\x91%\\xcdk\\xddd\\xd3\\xac5K\\x9b\\xe9mC\\x99\\xda\\xc7}\\xb0\\\\\\x99\\xadt\\xe66\\x9e\\xbe\\xaef\\x8e\\xe26z\\x87b\\xbf\\x02M\\xc7!\\xf4\\xc3hm\\xf05o\\\\A\\xc2\\xf3\\x98\\xd65\\xf5WU\\xb5\\xfc\\xea_\\xf8\\xe0\\x96vf,\\xec\\xce\\xc7\\x9b3\\x12O\\xc4\\x9c\\x11\\xab}\\xf1\\xc1\\xf1\\xdc\\x92(\\x07\\x0e\\x9c8\\x03q\\x1eJ\\xa4\\x85\\x070\\xa7\\xdc\\x8b\\x81\\xe3\\x18f\\r\\xbe\\x1fx2\\xcd\\xc6<8\\x19\\xcck\\xf8N\\x0b\\xb8Mz|\\\\\\xf4\\xf5\\xf8`%\\xddd\\xc7\\x94^\\x9cq\\xc2k\\xc6\\x993Q\\t\\x8d5T\\x15\\x1d\\xfd%AR\\xca\\xae.\\x08`7\\xd2\\xc0\\x90m\\xb8\\xd8\\xf4\\xc4K\\x85\\xfb\\x1b\\xaf\\x96\\x92z\\x0e)\\xf6\\x08\\xa8^Q,rR\\xca\\xd2\\xca\\x0f&\\x03\\xc06`,o\\xc8\\x80qg\\xc65H\\xc7Ik\\xb97&\\xd7\\xdf\\xcb\\x12\\xfc\\xbd\\xca\\xd1\\xc0\\xab5z\\xd9\\x07\\x868\\x01Q\\xf06\\xdf\\x15\\xe6t\\x89\\xc5\\x15)n$XV8\\x95\"\\xba\\xc7\\x1a\\x05EHN\\xca\\x05\\x80\\x1by\\x0cY\\xf4]\\x9f\\xc3_\\x93PL\\x95o\\x1c\\xd2B\\x933\\x18\\xed\\xf6\\x9a|&\\xde\\x80\\x91c\\x88,\\x86F\\x8d\\xb7\\xce\\x1fc\\xb0\\x8c./j\\x05\\xd1CL\\xb7\\x91\\xb4\\xc4\\x82\\xf2\\x8b9\\xd8{\\xc3\\xcf\\xcf\\t\\xa8G4\\xbae\\xc2\\x18\\xc9\\xff\\x00\\x1aTTy\\xbf\\x04f\\x142w\\x86\\x95\\xaa\\x91o\\xe3\\x8c)\\x06\\xfdOQo\\x86\"u9z\\xa7|\\xf0\\xc5$r,\\x8cX\\x0bh\\x16\\x1e.{\\x0b\\xf9\\xeeN4\\x86\\x1as>\\x1b\\xcb\\xb3Q\\xf8\\xc4:$\\x1e\\xec\\x91\\xf8YO\\x9f\\xc4\\x1cW=$\\x97q\\xd9Z\\xca\\x9f&o\\xac\\xa4EP\\x01b$7YQ\\t\\xb1;\\xa9\\xb1\\xd8\\x829\\x9fQ\\xb7\\\\#\\xa9\\xb0YeA\\x1dD\\x8b\\x10Uf\\'\\xc3\\xa9\\xac\\x01\\xebk\\x8e{\\xdbsl[\\x99\\xe7g\\xd5t\\x10H\\xd9h\\xf6\\x9ah\\xe1\\x16\\xee\\xd0w\\xe0\\xdf{\\x0b\\xd9\\xbc\\xff\\x00`\\xc4;0\\xcb\\xa5\\x87ZJ\\xcd\\xde\\xa5\\x83\\'\\xb8\\xa3\\xa1\\xb6\\xfbo\\xbd\\x8d\\xf0\\x9b\\xb8:\\x92\\xa6X\\xa9\\xad\\x88$\\xf4r\\x95\\x91\\x1d\\x83\\xd3\\x80\\xab V\\xba\\x83{\\x8b\\x10y\\x10E\\xcf\\xa7,\\x05 \\x93\\xc7\\xde\\xd4\\xb4\\r\\xad\\xac\\x02\\xa8\\x0c/\\xce\\xc4a\\xf6\\xa6\\x90G\"\\xcdW\\x01\\x0e\\xa7\\xc2\\xccu\\x00\\xd7\\xf0\\xc6\\x02\\xf5\\xe7\\xccs\\xc1\\x0bJ\\xd0\\x8d\\x12\\xcc\\xf0\\x1eaX\\xc5{\\x1d\\xfd16JF\\x17V\\xb0\\xc1\\xf1\\xb6\\xf7\\xc24n\\x985[\\x0e4E\\x93\\x1a6\\xef\\xbb9\\xe2X\\x01\\x17\\x15\\x04\\x80O+\\xd1\\xcf\\xff\\x00\\xb3\\x167a5\\x05\\xf8\\x02\\x9du\\x13\\xa2\\xb6\\xa5v\\x1eo\\x7f\\xdf\\x8a\\xc3#\\x98I\\xc3Y\\xfd9*5\\xb4Gsnp\\xd4/\\xfc\\xc3\\x13\\xdf\\xe4\\xff\\x006\\xbe\\n\\xa8A\\xab\\xec\\xf3\\x19\\x06\\xc2\\xdc\\xd1\\x0e-\\xd2\\xed9\\x01\\x9bue\\xc6\\x1c\\xf9\\xc9\\x8f;\\xc2\\x087\\x98\\xe0\\xa5\\x04\\xefi?[\\x06wd\\x8fvO\\xd6\\xc6\\xb2\\x10h4\\xccY\\n\\x1e\\xf6\\xc4\\x11\\xcb\\xcc[\\x19\\xa98+\\x89cEF\\xc8s\\x0b\\xa8\\xb7\\xf5C\\xf8\\xe3I{9?\\x91!\\xff\\x00\\xc5\\x80{%\\xff\\x00\\xd1\\xbf\\xeb`Z%Y\\x9c\\xd7\\x82x\\x98\\xf2\\xc8k\\xbej\\xa3\\xf7\\xe0c\\x81x\\xa0\\xf2\\xc8\\xaa\\xfee\\x07\\xfc\\xd8\\xd1^\\xc7\\xb7\\xf5o\\xfa\\xd8\\xf4Qr\\xfb7\\xfdl\\r\\x05l\\xcf\\'\\xb3\\xfe*]7\\xc8\\xe7\\xf1(a\\xf6\\xb1\\x1d\\x8f\\xc1\\xf6\\xf8`k\\xd9\\xff\\x00\\x14\\x9f\\xfa\\x96P=f\\x8c\\x7f\\xcd\\x8d%\\x98\\xe5\\xbd\\xdcyki\\x07\\xbd\\xa2G\\xb2\\x8d6\\xf10\\xb1=N\\xdc\\xf0\\x8cP\\x9f\\xf6M\\xfa\\xd8\\x85\\xb9.\\xd1\\x9f\\x97\\xb3\\x9e)?\\xf5M\\xbe51\\x0f\\xf9\\xb0r\\xf6g\\xc5G\\xfe\\xad\\x89~5\\x91\\xff\\x00\\x1ch\\x05\\xa1\\xfe\\xc8\\xfe\\xb6\\x0cZ\\x13\\xfe\\xc8~\\xb6:\\xbd\\xe7[(\\x01\\xd9w\\x14\\x1f\\xf5ZE\\xf8\\xd6\\xaf\\xf0\\xc1\\x8b\\xd9_\\x13\\x1fy2\\xf5\\xf8\\xd6\\x7f\\xfa\\xe2\\xfc\\xf6\\x13\\xfe\\xc9\\x7f[\\x1e\\x1a\\x06\\xe9\\x12}q\\xdby\\x9dr(\\xa5\\xec\\xa3\\x88\\x8f9r\\xc4\\xf8\\xd4\\xb1\\xfd\\x8b\\x87\\xae\\x1a\\xec\\xd3;\\xca3\\xfc\\xab2\\x9b0\\xa0E\\xa2\\xaaI\\xc8\\x8aG\\xd7\\xe1\\xfc\\xd3\\xa4\\x0b\\xe2\\xda\\xf6\\x17\\xe9\\x14x92\\x9a\\xc6\\xdd)\\x96\\xde{\\x7f\\x1csQ\\xf1g.\\xb6\\xf6\\x07\\x01\\x1dDd\\xfa\\xb5\\xf16\\xa1\\x86v\\xa3\\xa7\\xd3O\\x9b2\\x98\\xd6\\xda%\\n\\x9c\\xbazb\\x07\\x03\\x81\\xd6?\\x92\\xe2e\\x05*\\xf7\\x11\\x16\\xcb\\xd0\\x92\\x8b\\xbb\\xe6\\x00_o.\\x9f\\x0c-\\xa8\\xf0\\xf5\\xf9CZk\\xb7\\xeb\\xf0\\xc7&\\xa2\\x96Ac\\x97\\xe6O}\\xac\\xd5\\xc1o\\x8b\\xea%\\xd3\\x12/\\x8be\\x03\\xc4n~g\\xcf\\x19\\xf2\\nH^x\\x93\\xf0~_\\xe2u\\x16|\\xc0\\xefr6\\xc6\\x86\\x1bb\\x8c\\x1b\\xc9\\xfa\\xfc\\xb2\\xcdO\\x87\\xaf\\xc2;\\x1d\\x8e\\xc7a\\xc13\\xb0\\xdf\\x98\\xe4yvm\\x13G\\x98Q\\xc3:\\xb72\\xcb\\xbf\\xd7\\x9e\\x1c1\\xd8\\x19F3U%d\\xa6\\xd7\\x05i\\x9e\\xf6qR4\\xc9\\x92\\xd4\\xf7\\x88\\x18\\x01\\x0bYLko\\xc9k\\x1b\\xfc\\xed\\xf1\\xc5}Y\\xc3\\x99\\x85\\x04\\xc6\\t#\\xa7\\xa3#q\\x13\\xd3\\x96#~w\\xf5\\xe7\\x8d\\x19\\x804H\\xe6\\xee\\x8a\\xc7\\xcc\\x8b\\xe1\\x19\\xe8\\xd7\\xecu\\xf5.\\x8e_4|aW\\xd8`k&\\xdeXH\\x1e\\xd8\\x17yn\\xb8*&\\xc4\\x1cI!1\\xd1\\xa8c\\xa5\\xa4`\\xe3\\xccX\\x10\\x0f\\xccb\\xef\\xfeN\\xb3_\\x86\\xb3\\x98\\xad\\xb2f`\\xf3\\xfc\\xe8\\x97\\xf8b\\x82\\xcd\\xea;\\xda\\x88c\\x1b\\xe9%\\x8f\\xd3\\x17g\\xf2t\\x97\\xf1\\x1e#\\x8bm\\xaa\\xa0~~h\\xc3\\xf7a\\xccJ\\x91L\\xb7l\\xbf\\x11\\xb9xG\\xebad[\\xdb\\xc1\\xfe\\xf6\\x1b\\x11\\xc6\\xde\\xe7\\xd7\\n\\xa3p-p\\x9f\\\\2T<Gm\\x07f\\xe9\\x81\\x01\\xfa\\'\\xeb\\x84\\xb1\\xb8\\xd0\\x7f\\x8e\\x0c\\x0e=>\\xb8\\xa80\\xfb\\x0f#\\xf5\\xc0\\xc5\\xbc\\x8f\\xd7\\t\\xf5\\xfc>\\xb8\\xf4?\\xc3\\xeb\\x888_;\\xa3\\xad2\\xa8\\x8e\\xe9\\x00S\\xa1t\\x9b\\xeac\\xe2\\xf3m\\xf9\\xfc0X\\x03\\xcb\\xef\\xc0\\xa7\\x9d\\x9e\\x86\\x8bT\\xda\\xf4kU\\x8fE\\x82\\x0b\\xde\\xfa\\xba\\x92o\\xb7\\xa6\\x13\\x87\\xf8}p(\\'\\xc8\\xa5m\\xf9\\xbf~\\x0c\\x16\\xf2\\xfb\\xf0\\x91_\\xca\\xd8\\x18a\\xe9\\x89 S{~O\\xdf\\x80\\xdcy\\x0f\\xd6\\xc1%\\xc7\\xe8\\xe3\\xcdc\\xf4~\\x98\\xe3\\x81\\xb9\\x03\\xa2\\xfdp\\x9d\\xda0|Q\\xc6\\xdf\\x1b\\xe3\\x9eO\">\\x98M$\\x87sv\\xf9\\x0c\\x128\\xf5$\\xdf\\xde\\x1c\\xbf7\\x12\\x8ay)\\xc2\\'\\x83&\\x06\\xc2\\xe5\\xb5\\x93\\xcb\\xae\"1\\xb9\\xbf7\\xfaa\\xf6\\x9e\\xad\\xd2\\xdae\"\\xdf\\xd8\\x83\\x8a\\xf2\\xabE\\x98\\x9a\\x8b$\\xd9d\\xb4\\xef\\x98\\xd1G\\xde\\xe4+\\xaa\\xa25\\xb7p\\xc4\\x1b\\xb0\\xd8\\xdf\\x1a#\\x19\\xc7\\x87\\xf3W\\\\\\xe7-2U\\xca\\x91\\xadTE\\x8f\\xb1\\xae\\x905\\x0b\\xdc\\x8eC\\xd7\\x1a4\\x10\\xc0\\x157\\x07pF\\x17\\xc2\\xaaR\\xbfw\\xe7\\xdc\\x8bs\\xbbJ\\x8fq\\xd8\\xecv\\x1a\\x15;\\x1d\\x8e\\xc7c\\x8e;\\x1d\\x8e\\xc7c\\x8e>\\'+\\xe02K\\xa5N\\xf8 =\\x86\\x12f\\x15=\\xcc\\x0eo\\xbd\\xb6\\x1e\\xb8U+-loy;\\xfa\\x89\\\\\\xee/\\xa4|\\xb1v\\xff\\x00\\'\\x89\\xb4\\xd4q${n\\xb4\\xcf\\xbf\\xc5\\xc6(\\xb8\\x01U\\xb73\\xd7\\x17\\'`2\\xe8\\xce\\xf3\\xd8\\xefmTp\\xb7\\xd2C\\xfcp\\xd4v)4bM\\xfaK\\xf4\\xc2\\x88\\xe5\\x17\\xf7\\x97\\xe9\\x86\\xd8\\xe56\\xf7\\x8f\\xd3\\n#\\x97}\\x98\\xfe\\xae-\\xb0G\\xa8\\xa5\\xf0\\x9b\\x95\\xc1\\xc2O\\xee\\xe1\\xbe)<<\\xfe\\xec\\x1e\\xb2z\\xfd\\xd8\\xad\\x84+\\xef6\\xbd\\xc6=\\x12|0\\x97\\xbc\\xf5\\xfb\\xb1\\xe8\\x7f_\\xbb\\x02\\x10\\xf3Q8\\xfc\\x11\\x97\\xc6%V\\xfbI\\x9fB\\xd8\\xe9\\xdc\\r\\xfa\\xdfm\\x81\\xda\\xdc\\xb9\\x9c#\\x12|>\\x98\\xf2\\xa2\\xb1\\xa5\\xa4\\xa0\\x89\\x9bWp\\x8e\\xab\\xe1\\xdc\\x02\\xe4\\xdb\\xe1\\xd7\\xe7\\x82\\x04\\x9e\\xa7\\xe9\\x88[\\x04\\xe9\\xb1X\\x93\\xd5G\\xcb\\x03\\x12\\x8bs\\x1f!\\x84\\x82C\\xe6\\xdfL\\x08Hz\\x16\\xfac\\x88\\x14\\xf7\\x96\\xe4~\\xecxe\\xf5?L\\x11\\xac\\xf9\\xb6\\x02d?\\xa5\\x8e89\\xe46\\xeb\\x84\\xb2\\xb9\\xb1\\xf0\\x9f\\xd6\\xc7H\\xfew\\xfa\\xe1\\x1c\\x92\\r\\xee\\x17\\xe6ph\\x86(\\x89\\xfcB\\xc0\\xfe\\xb6\\x1d\\xe3\\x90\\x85\\xfc\\xaf\\xae#\\xb1:\\xeb\\x16\\xd1\\xf28uG\\xb0\\xe4>\\xb8\\x19\\x85\\x01\\xc1k\\x1a\\rr\\xa3J\\xa5#v\\xb8{\\x01e<\\xc6\\x0f\\xec\\xf3\\xb5\\xec\\xd7\\x86\\xc2P\\xcfR3\\x1a\\x14\\x93\\xed\\x8c\\xect&\\xe3\\xc2\\x84\\x9f\\x01\\xd3o\\x08\\xf0\\x8ev\\xdf\\x11\\xcc\\xda\\xab\\xd9\\xf2\\x9c\\xd2m\"\\xf1QL\\xc3\\xc4O\\xe4\\x1e\\x83\\x9e+JL\\xec\\xa4P\\xc5!\\x8e\\xa2IA\\x96\\x04D\\x08\\r\\x87\\xe9\\x1d \\xdb\\xcf\\x19\\x99\\xedI47\\x1e)\\x9b\\xf3\\x85x\\xeb%\\xe3\\x08I\\xca*\\x94\\xd4 \\x06Zi\\x08Yc\\xf8\\x8e\\xa3\\xd4\\\\bI\\x8c#\\x90q\\x04\\xd4\\xb5\\x90\\x9a\\\\\\xc9\\xa2\\xaa\\x8ck\\x89@\\x08\\xd1\\xb7Cq\\xccs\\xd8m\\x8b\\xe7\\x80{w\\xf6\\xa8`\\x87\\x8b#!Z\\xea\\xd5Q\\rF&\\x06\\xc4H\\xa3\\xebp9t<\\xf1f=W\\x86O\\x99T\\xb0\\xf8\\xc4\\xbdq\\xd8\"\\x8e\\xb2\\x9f0\\xa6\\x8e\\xa6\\x8ad\\xa8\\x82Attk\\x820~\\x1fM5hY\\xaa;\\x1d\\x8e\\xc7bN>\\x1e\\xeb\"\\xde\\xb8i\\xcc\\xe4-$hy\\\\\\x93\\xf2\\xc7c\\xb1L9\\nAhz\\xe2\\xd6\\xec)\\xc8\\xe2\\x8c\\xcc\\x03`\\xd9v\\xff\\x00)W\\x1d\\x8e\\xc5\\xeb\\x92\\xb4htc\\xa7\\x99\\xc2\\x88\\xd8\\xdf\\x99\\xfa\\xe3\\xb1\\xd84r\\x1c!cc\\xb9\\xfa\\xe0\\xf5c\\xe6q\\xd8\\xecT\\xf9\\t\\x03\\x0el7?\\\\\\tX\\x9f?\\xae;\\x1d\\x88d\\xa1uXd\\xa0\\xcb\\x18\\xc8\\xec\\x1e)\\x08Rv_\\xb4\"\\xc3\\xe9|#\\xef,z\\xfdq\\xd8\\xec\\x02\\xe0\\xb5\\xa5\\x7f/\\xb0.\\xf7\\xe3\\xf5\\xc0\\x84\\x9e\\x87\\xeb\\x8e\\xc7b@=/\\xe9\\xf7\\xe0:\\xef}\\xb1\\xd8\\xecI\\x0c)\\xe4\\xdb\\x90\\xc2Y\\x1d\\x8f\\x97\\xd3\\x1d\\x8e\\xc1\\x90\\xcf!f\\xd4.o\\xf2\\xc3\\x82Jm\\xc8c\\xb1\\xd8\\x19\\x13\\x11\\xa7\\x8a\\x19\\xbf\\x9a\\xd9\\xf6\\x91\\x15\\xcd\\x04\\x8a5\\xc6\\x18\\x0b\\xd8^\\xddy\\xe2\\xa9\\x82\\xb2X\\x11<Z\\xc2\\xe9]\\xf9\\xdc\\x83s\\xe47\\xdf\\x96;\\x1d\\x8c\\xec\\xdc\\x8dG\\x81FSR_\\xd8\\xe8gE\\x9bG}yZ\\xfa\\x8b)\\xf7\\x87\\x91$\\xdc\\xfc6\\xb6%\\x10K=4\\xd4\\x92\\xd3\\xbca\\xeb\\x19\\x94\\xc8\\xf0+:\\x9d@\\x12Z\\xc3U\\xc0\\xb6\\xe3\\xae;\\x1d\\x85\\xa4\\x12\\xf5\\xf4,n\\r\\xe3\\x9c\\xe7\\x86\\x9eJ\\x9c\\x96\\xa4\\xc4%=\\xf4\\xf0JL\\x91I\\xe1\\xe4V\\xe2\\xdb\\x00\\x01\\x04\\x1f\\x8e5?\\x01q4\\xdc]\\xc3\\x14y\\xb5T\\tO,\\xc0\\xeaH\\xc9*\\x086\\xda\\xf8\\xecv\\x0fO9G2\\x8a{0r\\xa4\\xe1d\\x97\\x1d\\x8e\\xc7cdL\\xff\\xd9'"
      ]
     },
     "execution_count": 103,
     "metadata": {},
     "output_type": "execute_result"
    }
   ],
   "source": [
    "# image_link.content"
   ]
  },
  {
   "cell_type": "code",
   "execution_count": null,
   "id": "191bc890",
   "metadata": {},
   "outputs": [],
   "source": []
  },
  {
   "cell_type": "code",
   "execution_count": null,
   "id": "88d2e253",
   "metadata": {},
   "outputs": [],
   "source": []
  },
  {
   "cell_type": "code",
   "execution_count": null,
   "id": "d3c03910",
   "metadata": {},
   "outputs": [],
   "source": []
  },
  {
   "cell_type": "code",
   "execution_count": 88,
   "id": "c44ba404",
   "metadata": {},
   "outputs": [],
   "source": [
    "f = open('my_computer_image.jpg','wb') "
   ]
  },
  {
   "cell_type": "code",
   "execution_count": 89,
   "id": "cc503a8d",
   "metadata": {},
   "outputs": [
    {
     "data": {
      "text/plain": [
       "<_io.BufferedWriter name='my_computer_image.jpg'>"
      ]
     },
     "execution_count": 89,
     "metadata": {},
     "output_type": "execute_result"
    }
   ],
   "source": [
    "f"
   ]
  },
  {
   "cell_type": "code",
   "execution_count": 90,
   "id": "3e9649aa",
   "metadata": {},
   "outputs": [
    {
     "data": {
      "text/plain": [
       "_io.BufferedWriter"
      ]
     },
     "execution_count": 90,
     "metadata": {},
     "output_type": "execute_result"
    }
   ],
   "source": [
    "type(f)"
   ]
  },
  {
   "cell_type": "code",
   "execution_count": 91,
   "id": "24f60e34",
   "metadata": {},
   "outputs": [
    {
     "data": {
      "text/plain": [
       "<function BufferedWriter.read>"
      ]
     },
     "execution_count": 91,
     "metadata": {},
     "output_type": "execute_result"
    }
   ],
   "source": [
    "f.read"
   ]
  },
  {
   "cell_type": "code",
   "execution_count": null,
   "id": "21f1a91d",
   "metadata": {},
   "outputs": [],
   "source": []
  },
  {
   "cell_type": "code",
   "execution_count": 92,
   "id": "0705c638",
   "metadata": {},
   "outputs": [
    {
     "data": {
      "text/plain": [
       "17685"
      ]
     },
     "execution_count": 92,
     "metadata": {},
     "output_type": "execute_result"
    }
   ],
   "source": [
    "f.write(image_link.content)"
   ]
  },
  {
   "cell_type": "code",
   "execution_count": 93,
   "id": "3549c264",
   "metadata": {},
   "outputs": [],
   "source": [
    "f.close()"
   ]
  },
  {
   "cell_type": "code",
   "execution_count": 94,
   "id": "a22906f6",
   "metadata": {},
   "outputs": [],
   "source": [
    "f = open('C://Users/PC/Desktop/Temporary/my_comp_image.jpg','wb')"
   ]
  },
  {
   "cell_type": "code",
   "execution_count": 95,
   "id": "40b0e7bf",
   "metadata": {},
   "outputs": [
    {
     "data": {
      "text/plain": [
       "17685"
      ]
     },
     "execution_count": 95,
     "metadata": {},
     "output_type": "execute_result"
    }
   ],
   "source": [
    "f.write(image_link.content)"
   ]
  },
  {
   "cell_type": "code",
   "execution_count": 96,
   "id": "8e2f1679",
   "metadata": {},
   "outputs": [
    {
     "data": {
      "text/plain": [
       "<function BufferedWriter.read>"
      ]
     },
     "execution_count": 96,
     "metadata": {},
     "output_type": "execute_result"
    }
   ],
   "source": [
    "f.read"
   ]
  },
  {
   "cell_type": "code",
   "execution_count": 97,
   "id": "b17bb827",
   "metadata": {},
   "outputs": [],
   "source": [
    "f.close()"
   ]
  },
  {
   "cell_type": "code",
   "execution_count": 98,
   "id": "a824d3fc",
   "metadata": {},
   "outputs": [
    {
     "data": {
      "text/plain": [
       "<_io.BufferedWriter name='C://Users/PC/Desktop/Temporary/my_comp_image.jpg'>"
      ]
     },
     "execution_count": 98,
     "metadata": {},
     "output_type": "execute_result"
    }
   ],
   "source": [
    "f"
   ]
  },
  {
   "cell_type": "code",
   "execution_count": 99,
   "id": "e3d8607e",
   "metadata": {
    "scrolled": true
   },
   "outputs": [
    {
     "name": "stdout",
     "output_type": "stream",
     "text": [
      "<_io.BufferedWriter name='C://Users/PC/Desktop/Temporary/my_comp_image.jpg'>\n"
     ]
    }
   ],
   "source": [
    "print(f)"
   ]
  },
  {
   "cell_type": "code",
   "execution_count": 100,
   "id": "743c375e",
   "metadata": {},
   "outputs": [
    {
     "data": {
      "text/plain": [
       "_io.BufferedWriter"
      ]
     },
     "execution_count": 100,
     "metadata": {},
     "output_type": "execute_result"
    }
   ],
   "source": [
    "type(f)"
   ]
  },
  {
   "cell_type": "code",
   "execution_count": null,
   "id": "0a37a7d2",
   "metadata": {},
   "outputs": [],
   "source": []
  },
  {
   "cell_type": "code",
   "execution_count": null,
   "id": "6cef852e",
   "metadata": {},
   "outputs": [],
   "source": []
  },
  {
   "cell_type": "code",
   "execution_count": null,
   "id": "d867a295",
   "metadata": {},
   "outputs": [],
   "source": []
  },
  {
   "cell_type": "code",
   "execution_count": null,
   "id": "15bb1db0",
   "metadata": {},
   "outputs": [],
   "source": []
  },
  {
   "cell_type": "code",
   "execution_count": null,
   "id": "3cf87745",
   "metadata": {},
   "outputs": [],
   "source": []
  },
  {
   "cell_type": "code",
   "execution_count": null,
   "id": "ff384a44",
   "metadata": {},
   "outputs": [],
   "source": []
  },
  {
   "cell_type": "code",
   "execution_count": null,
   "id": "2f59637a",
   "metadata": {},
   "outputs": [],
   "source": []
  },
  {
   "cell_type": "code",
   "execution_count": null,
   "id": "9fca7f09",
   "metadata": {},
   "outputs": [],
   "source": []
  },
  {
   "cell_type": "code",
   "execution_count": null,
   "id": "8f871fe2",
   "metadata": {},
   "outputs": [],
   "source": []
  },
  {
   "cell_type": "code",
   "execution_count": null,
   "id": "4fd11577",
   "metadata": {},
   "outputs": [],
   "source": []
  },
  {
   "cell_type": "code",
   "execution_count": null,
   "id": "c14d95d1",
   "metadata": {},
   "outputs": [],
   "source": []
  },
  {
   "cell_type": "code",
   "execution_count": null,
   "id": "0b192af0",
   "metadata": {},
   "outputs": [],
   "source": []
  },
  {
   "cell_type": "code",
   "execution_count": null,
   "id": "2e0332ce",
   "metadata": {},
   "outputs": [],
   "source": []
  },
  {
   "cell_type": "code",
   "execution_count": null,
   "id": "9544ecf1",
   "metadata": {},
   "outputs": [],
   "source": []
  },
  {
   "cell_type": "code",
   "execution_count": null,
   "id": "85264b00",
   "metadata": {},
   "outputs": [],
   "source": []
  },
  {
   "cell_type": "code",
   "execution_count": null,
   "id": "d23a4acf",
   "metadata": {},
   "outputs": [],
   "source": []
  },
  {
   "cell_type": "code",
   "execution_count": null,
   "id": "a0c34a5b",
   "metadata": {},
   "outputs": [],
   "source": []
  },
  {
   "cell_type": "markdown",
   "id": "b0df198d",
   "metadata": {},
   "source": [
    "# 121 Book Examples Part One"
   ]
  },
  {
   "cell_type": "code",
   "execution_count": 101,
   "id": "42f4b8ad",
   "metadata": {},
   "outputs": [],
   "source": [
    "# Working with Multiple Pages and Items"
   ]
  },
  {
   "cell_type": "markdown",
   "id": "4ed82b4e",
   "metadata": {},
   "source": [
    "# OM NAMAH SHIVAY"
   ]
  },
  {
   "cell_type": "markdown",
   "id": "c5e76893",
   "metadata": {},
   "source": [
    "<h2> <i color='red'>I am The Best</i> </h2>"
   ]
  },
  {
   "cell_type": "markdown",
   "id": "ae9bf69f",
   "metadata": {},
   "source": [
    "<html>\n",
    "<head>\n",
    "    <title> WEB scraping </title>\n",
    "    <h2>Lets change the Laws of Casualty of QUANTUM MECHANICS</h2> \n",
    "</head>\n",
    "<body> \n",
    "    <p color=\"red\">I am The Best </p>\n",
    "</body>\n",
    "</html>"
   ]
  },
  {
   "cell_type": "markdown",
   "id": "9f50f01e",
   "metadata": {},
   "source": [
    "up\n",
    "___\n",
    "middle\n",
    "___\n",
    "down"
   ]
  },
  {
   "cell_type": "markdown",
   "id": "4e46808b",
   "metadata": {},
   "source": [
    "___\n",
    "___"
   ]
  },
  {
   "cell_type": "markdown",
   "id": "f14187de",
   "metadata": {},
   "source": [
    "`I am Iron Man`\n",
    "\n",
    "~~~I am Iron Man~~~"
   ]
  },
  {
   "cell_type": "markdown",
   "id": "c87a5f76",
   "metadata": {},
   "source": [
    "***I am Iron Man***"
   ]
  },
  {
   "cell_type": "markdown",
   "id": "523e2dd5",
   "metadata": {},
   "source": [
    "* I am Iron Man"
   ]
  },
  {
   "cell_type": "markdown",
   "id": "e6ea447a",
   "metadata": {},
   "source": [
    "---\n",
    "___\n",
    "___\n",
    "<!doctype html>\n",
    "<html>\n",
    "<head>\n",
    "    <title>Example Domain</title>\n",
    "\n",
    "    <meta charset=\"utf-8\" />\n",
    "    <meta http-equiv=\"Content-type\" content=\"text/html; charset=utf-8\" />\n",
    "    <meta name=\"viewport\" content=\"width=device-width, initial-scale=1\" />\n",
    "    <style type=\"text/css\">\n",
    "    body {\n",
    "        background-color: #f0f0f2;\n",
    "        margin: 0;\n",
    "        padding: 0;\n",
    "        font-family: -apple-system, system-ui, BlinkMacSystemFont, \"Segoe UI\", \"Open Sans\", \"Helvetica Neue\", Helvetica, Arial, sans-serif;\n",
    "        \n",
    "    }\n",
    "    div {\n",
    "        width: 600px;\n",
    "        margin: 5em auto;\n",
    "        padding: 2em;\n",
    "        background-color: #fdfdff;\n",
    "        border-radius: 0.5em;\n",
    "        box-shadow: 2px 3px 7px 2px rgba(0,0,0,0.02);\n",
    "    }\n",
    "    a:link, a:visited {\n",
    "        color: #38488f;\n",
    "        text-decoration: none;\n",
    "    }\n",
    "    @media (max-width: 700px) {\n",
    "        div {\n",
    "            margin: 0 auto;\n",
    "            width: auto;\n",
    "        }\n",
    "    }\n",
    "    </style>    \n",
    "</head>\n",
    "<body>\n",
    "<div>\n",
    "    <h1>Example Domain</h1>\n",
    "    <p>This domain is for use in illustrative examples in documents. You may use this\n",
    "    domain in literature without prior coordination or asking for permission.</p>\n",
    "    <p><a href=\"https://www.iana.org/domains/example\">More information...</a></p>\n",
    "</div>\n",
    "</body>\n",
    "</html>"
   ]
  },
  {
   "cell_type": "markdown",
   "id": "32853cf6",
   "metadata": {},
   "source": [
    "# 16-10-2022"
   ]
  },
  {
   "cell_type": "code",
   "execution_count": 1,
   "id": "dca07401",
   "metadata": {},
   "outputs": [],
   "source": [
    "# GOAL :- get title of every book with a 2 star rating"
   ]
  },
  {
   "cell_type": "code",
   "execution_count": 2,
   "id": "b2c40049",
   "metadata": {},
   "outputs": [],
   "source": [
    "import requests\n",
    "import bs4\n",
    "import lxml"
   ]
  },
  {
   "cell_type": "code",
   "execution_count": 3,
   "id": "d8acd342",
   "metadata": {},
   "outputs": [
    {
     "data": {
      "text/plain": [
       "'http://books.toscrape.com/catalogue/page-2.html'"
      ]
     },
     "execution_count": 3,
     "metadata": {},
     "output_type": "execute_result"
    }
   ],
   "source": [
    "'http://books.toscrape.com/catalogue/page-2.html'"
   ]
  },
  {
   "cell_type": "code",
   "execution_count": 4,
   "id": "dc783550",
   "metadata": {},
   "outputs": [
    {
     "data": {
      "text/plain": [
       "'http://books.toscrape.com/catalogue/page-3.html'"
      ]
     },
     "execution_count": 4,
     "metadata": {},
     "output_type": "execute_result"
    }
   ],
   "source": [
    "'http://books.toscrape.com/catalogue/page-3.html'"
   ]
  },
  {
   "cell_type": "code",
   "execution_count": 5,
   "id": "89d6696b",
   "metadata": {},
   "outputs": [
    {
     "data": {
      "text/plain": [
       "'http://books.toscrape.com/catalogue/page-1.html'"
      ]
     },
     "execution_count": 5,
     "metadata": {},
     "output_type": "execute_result"
    }
   ],
   "source": [
    "\"http://books.toscrape.com/catalogue/page-1.html\""
   ]
  },
  {
   "cell_type": "code",
   "execution_count": 6,
   "id": "a4266c1b",
   "metadata": {},
   "outputs": [],
   "source": [
    "base_url = 'http://books.toscrape.com/catalogue/page-{}.html'"
   ]
  },
  {
   "cell_type": "code",
   "execution_count": 7,
   "id": "411a837b",
   "metadata": {},
   "outputs": [
    {
     "data": {
      "text/plain": [
       "'http://books.toscrape.com/catalogue/page-18.html'"
      ]
     },
     "execution_count": 7,
     "metadata": {},
     "output_type": "execute_result"
    }
   ],
   "source": [
    "base_url.format(18)"
   ]
  },
  {
   "cell_type": "code",
   "execution_count": 8,
   "id": "4a0723aa",
   "metadata": {},
   "outputs": [
    {
     "data": {
      "text/plain": [
       "'http://books.toscrape.com/catalogue/page-36.html'"
      ]
     },
     "execution_count": 8,
     "metadata": {},
     "output_type": "execute_result"
    }
   ],
   "source": [
    "base_url.format(36)"
   ]
  },
  {
   "cell_type": "code",
   "execution_count": 9,
   "id": "2c8f61b2",
   "metadata": {},
   "outputs": [
    {
     "data": {
      "text/plain": [
       "'http://books.toscrape.com/catalogue/page-45.html'"
      ]
     },
     "execution_count": 9,
     "metadata": {},
     "output_type": "execute_result"
    }
   ],
   "source": [
    "page_num = 45\n",
    "base_url.format(page_num)"
   ]
  },
  {
   "cell_type": "code",
   "execution_count": 10,
   "id": "78cdcfe4",
   "metadata": {},
   "outputs": [],
   "source": [
    "req = requests.get(base_url.format(1))"
   ]
  },
  {
   "cell_type": "code",
   "execution_count": 11,
   "id": "b3006775",
   "metadata": {},
   "outputs": [],
   "source": [
    "soup = bs4.BeautifulSoup(req.text,\"lxml\")"
   ]
  },
  {
   "cell_type": "code",
   "execution_count": 12,
   "id": "976d2ad6",
   "metadata": {},
   "outputs": [
    {
     "data": {
      "text/plain": [
       "<!DOCTYPE html>\n",
       "<!--[if lt IE 7]>      <html lang=\"en-us\" class=\"no-js lt-ie9 lt-ie8 lt-ie7\"> <![endif]--><!--[if IE 7]>         <html lang=\"en-us\" class=\"no-js lt-ie9 lt-ie8\"> <![endif]--><!--[if IE 8]>         <html lang=\"en-us\" class=\"no-js lt-ie9\"> <![endif]--><!--[if gt IE 8]><!--><html class=\"no-js\" lang=\"en-us\"> <!--<![endif]-->\n",
       "<head>\n",
       "<title>\n",
       "    All products | Books to Scrape - Sandbox\n",
       "</title>\n",
       "<meta content=\"text/html; charset=utf-8\" http-equiv=\"content-type\"/>\n",
       "<meta content=\"24th Jun 2016 09:30\" name=\"created\"/>\n",
       "<meta content=\"\" name=\"description\"/>\n",
       "<meta content=\"width=device-width\" name=\"viewport\"/>\n",
       "<meta content=\"NOARCHIVE,NOCACHE\" name=\"robots\"/>\n",
       "<!-- Le HTML5 shim, for IE6-8 support of HTML elements -->\n",
       "<!--[if lt IE 9]>\n",
       "        <script src=\"//html5shim.googlecode.com/svn/trunk/html5.js\"></script>\n",
       "        <![endif]-->\n",
       "<link href=\"../static/oscar/favicon.ico\" rel=\"shortcut icon\"/>\n",
       "<link href=\"../static/oscar/css/styles.css\" rel=\"stylesheet\" type=\"text/css\"/>\n",
       "<link href=\"../static/oscar/js/bootstrap-datetimepicker/bootstrap-datetimepicker.css\" rel=\"stylesheet\"/>\n",
       "<link href=\"../static/oscar/css/datetimepicker.css\" rel=\"stylesheet\" type=\"text/css\"/>\n",
       "</head>\n",
       "<body class=\"default\" id=\"default\">\n",
       "<header class=\"header container-fluid\">\n",
       "<div class=\"page_inner\">\n",
       "<div class=\"row\">\n",
       "<div class=\"col-sm-8 h1\"><a href=\"../index.html\">Books to Scrape</a><small> We love being scraped!</small>\n",
       "</div>\n",
       "</div>\n",
       "</div>\n",
       "</header>\n",
       "<div class=\"container-fluid page\">\n",
       "<div class=\"page_inner\">\n",
       "<ul class=\"breadcrumb\">\n",
       "<li>\n",
       "<a href=\"../index.html\">Home</a>\n",
       "</li>\n",
       "<li class=\"active\">All products</li>\n",
       "</ul>\n",
       "<div class=\"row\">\n",
       "<aside class=\"sidebar col-sm-4 col-md-3\">\n",
       "<div id=\"promotions_left\">\n",
       "</div>\n",
       "<div class=\"side_categories\">\n",
       "<ul class=\"nav nav-list\">\n",
       "<li>\n",
       "<a href=\"category/books_1/index.html\">\n",
       "                            \n",
       "                                Books\n",
       "                            \n",
       "                        </a>\n",
       "<ul>\n",
       "<li>\n",
       "<a href=\"category/books/travel_2/index.html\">\n",
       "                            \n",
       "                                Travel\n",
       "                            \n",
       "                        </a>\n",
       "</li>\n",
       "<li>\n",
       "<a href=\"category/books/mystery_3/index.html\">\n",
       "                            \n",
       "                                Mystery\n",
       "                            \n",
       "                        </a>\n",
       "</li>\n",
       "<li>\n",
       "<a href=\"category/books/historical-fiction_4/index.html\">\n",
       "                            \n",
       "                                Historical Fiction\n",
       "                            \n",
       "                        </a>\n",
       "</li>\n",
       "<li>\n",
       "<a href=\"category/books/sequential-art_5/index.html\">\n",
       "                            \n",
       "                                Sequential Art\n",
       "                            \n",
       "                        </a>\n",
       "</li>\n",
       "<li>\n",
       "<a href=\"category/books/classics_6/index.html\">\n",
       "                            \n",
       "                                Classics\n",
       "                            \n",
       "                        </a>\n",
       "</li>\n",
       "<li>\n",
       "<a href=\"category/books/philosophy_7/index.html\">\n",
       "                            \n",
       "                                Philosophy\n",
       "                            \n",
       "                        </a>\n",
       "</li>\n",
       "<li>\n",
       "<a href=\"category/books/romance_8/index.html\">\n",
       "                            \n",
       "                                Romance\n",
       "                            \n",
       "                        </a>\n",
       "</li>\n",
       "<li>\n",
       "<a href=\"category/books/womens-fiction_9/index.html\">\n",
       "                            \n",
       "                                Womens Fiction\n",
       "                            \n",
       "                        </a>\n",
       "</li>\n",
       "<li>\n",
       "<a href=\"category/books/fiction_10/index.html\">\n",
       "                            \n",
       "                                Fiction\n",
       "                            \n",
       "                        </a>\n",
       "</li>\n",
       "<li>\n",
       "<a href=\"category/books/childrens_11/index.html\">\n",
       "                            \n",
       "                                Childrens\n",
       "                            \n",
       "                        </a>\n",
       "</li>\n",
       "<li>\n",
       "<a href=\"category/books/religion_12/index.html\">\n",
       "                            \n",
       "                                Religion\n",
       "                            \n",
       "                        </a>\n",
       "</li>\n",
       "<li>\n",
       "<a href=\"category/books/nonfiction_13/index.html\">\n",
       "                            \n",
       "                                Nonfiction\n",
       "                            \n",
       "                        </a>\n",
       "</li>\n",
       "<li>\n",
       "<a href=\"category/books/music_14/index.html\">\n",
       "                            \n",
       "                                Music\n",
       "                            \n",
       "                        </a>\n",
       "</li>\n",
       "<li>\n",
       "<a href=\"category/books/default_15/index.html\">\n",
       "                            \n",
       "                                Default\n",
       "                            \n",
       "                        </a>\n",
       "</li>\n",
       "<li>\n",
       "<a href=\"category/books/science-fiction_16/index.html\">\n",
       "                            \n",
       "                                Science Fiction\n",
       "                            \n",
       "                        </a>\n",
       "</li>\n",
       "<li>\n",
       "<a href=\"category/books/sports-and-games_17/index.html\">\n",
       "                            \n",
       "                                Sports and Games\n",
       "                            \n",
       "                        </a>\n",
       "</li>\n",
       "<li>\n",
       "<a href=\"category/books/add-a-comment_18/index.html\">\n",
       "                            \n",
       "                                Add a comment\n",
       "                            \n",
       "                        </a>\n",
       "</li>\n",
       "<li>\n",
       "<a href=\"category/books/fantasy_19/index.html\">\n",
       "                            \n",
       "                                Fantasy\n",
       "                            \n",
       "                        </a>\n",
       "</li>\n",
       "<li>\n",
       "<a href=\"category/books/new-adult_20/index.html\">\n",
       "                            \n",
       "                                New Adult\n",
       "                            \n",
       "                        </a>\n",
       "</li>\n",
       "<li>\n",
       "<a href=\"category/books/young-adult_21/index.html\">\n",
       "                            \n",
       "                                Young Adult\n",
       "                            \n",
       "                        </a>\n",
       "</li>\n",
       "<li>\n",
       "<a href=\"category/books/science_22/index.html\">\n",
       "                            \n",
       "                                Science\n",
       "                            \n",
       "                        </a>\n",
       "</li>\n",
       "<li>\n",
       "<a href=\"category/books/poetry_23/index.html\">\n",
       "                            \n",
       "                                Poetry\n",
       "                            \n",
       "                        </a>\n",
       "</li>\n",
       "<li>\n",
       "<a href=\"category/books/paranormal_24/index.html\">\n",
       "                            \n",
       "                                Paranormal\n",
       "                            \n",
       "                        </a>\n",
       "</li>\n",
       "<li>\n",
       "<a href=\"category/books/art_25/index.html\">\n",
       "                            \n",
       "                                Art\n",
       "                            \n",
       "                        </a>\n",
       "</li>\n",
       "<li>\n",
       "<a href=\"category/books/psychology_26/index.html\">\n",
       "                            \n",
       "                                Psychology\n",
       "                            \n",
       "                        </a>\n",
       "</li>\n",
       "<li>\n",
       "<a href=\"category/books/autobiography_27/index.html\">\n",
       "                            \n",
       "                                Autobiography\n",
       "                            \n",
       "                        </a>\n",
       "</li>\n",
       "<li>\n",
       "<a href=\"category/books/parenting_28/index.html\">\n",
       "                            \n",
       "                                Parenting\n",
       "                            \n",
       "                        </a>\n",
       "</li>\n",
       "<li>\n",
       "<a href=\"category/books/adult-fiction_29/index.html\">\n",
       "                            \n",
       "                                Adult Fiction\n",
       "                            \n",
       "                        </a>\n",
       "</li>\n",
       "<li>\n",
       "<a href=\"category/books/humor_30/index.html\">\n",
       "                            \n",
       "                                Humor\n",
       "                            \n",
       "                        </a>\n",
       "</li>\n",
       "<li>\n",
       "<a href=\"category/books/horror_31/index.html\">\n",
       "                            \n",
       "                                Horror\n",
       "                            \n",
       "                        </a>\n",
       "</li>\n",
       "<li>\n",
       "<a href=\"category/books/history_32/index.html\">\n",
       "                            \n",
       "                                History\n",
       "                            \n",
       "                        </a>\n",
       "</li>\n",
       "<li>\n",
       "<a href=\"category/books/food-and-drink_33/index.html\">\n",
       "                            \n",
       "                                Food and Drink\n",
       "                            \n",
       "                        </a>\n",
       "</li>\n",
       "<li>\n",
       "<a href=\"category/books/christian-fiction_34/index.html\">\n",
       "                            \n",
       "                                Christian Fiction\n",
       "                            \n",
       "                        </a>\n",
       "</li>\n",
       "<li>\n",
       "<a href=\"category/books/business_35/index.html\">\n",
       "                            \n",
       "                                Business\n",
       "                            \n",
       "                        </a>\n",
       "</li>\n",
       "<li>\n",
       "<a href=\"category/books/biography_36/index.html\">\n",
       "                            \n",
       "                                Biography\n",
       "                            \n",
       "                        </a>\n",
       "</li>\n",
       "<li>\n",
       "<a href=\"category/books/thriller_37/index.html\">\n",
       "                            \n",
       "                                Thriller\n",
       "                            \n",
       "                        </a>\n",
       "</li>\n",
       "<li>\n",
       "<a href=\"category/books/contemporary_38/index.html\">\n",
       "                            \n",
       "                                Contemporary\n",
       "                            \n",
       "                        </a>\n",
       "</li>\n",
       "<li>\n",
       "<a href=\"category/books/spirituality_39/index.html\">\n",
       "                            \n",
       "                                Spirituality\n",
       "                            \n",
       "                        </a>\n",
       "</li>\n",
       "<li>\n",
       "<a href=\"category/books/academic_40/index.html\">\n",
       "                            \n",
       "                                Academic\n",
       "                            \n",
       "                        </a>\n",
       "</li>\n",
       "<li>\n",
       "<a href=\"category/books/self-help_41/index.html\">\n",
       "                            \n",
       "                                Self Help\n",
       "                            \n",
       "                        </a>\n",
       "</li>\n",
       "<li>\n",
       "<a href=\"category/books/historical_42/index.html\">\n",
       "                            \n",
       "                                Historical\n",
       "                            \n",
       "                        </a>\n",
       "</li>\n",
       "<li>\n",
       "<a href=\"category/books/christian_43/index.html\">\n",
       "                            \n",
       "                                Christian\n",
       "                            \n",
       "                        </a>\n",
       "</li>\n",
       "<li>\n",
       "<a href=\"category/books/suspense_44/index.html\">\n",
       "                            \n",
       "                                Suspense\n",
       "                            \n",
       "                        </a>\n",
       "</li>\n",
       "<li>\n",
       "<a href=\"category/books/short-stories_45/index.html\">\n",
       "                            \n",
       "                                Short Stories\n",
       "                            \n",
       "                        </a>\n",
       "</li>\n",
       "<li>\n",
       "<a href=\"category/books/novels_46/index.html\">\n",
       "                            \n",
       "                                Novels\n",
       "                            \n",
       "                        </a>\n",
       "</li>\n",
       "<li>\n",
       "<a href=\"category/books/health_47/index.html\">\n",
       "                            \n",
       "                                Health\n",
       "                            \n",
       "                        </a>\n",
       "</li>\n",
       "<li>\n",
       "<a href=\"category/books/politics_48/index.html\">\n",
       "                            \n",
       "                                Politics\n",
       "                            \n",
       "                        </a>\n",
       "</li>\n",
       "<li>\n",
       "<a href=\"category/books/cultural_49/index.html\">\n",
       "                            \n",
       "                                Cultural\n",
       "                            \n",
       "                        </a>\n",
       "</li>\n",
       "<li>\n",
       "<a href=\"category/books/erotica_50/index.html\">\n",
       "                            \n",
       "                                Erotica\n",
       "                            \n",
       "                        </a>\n",
       "</li>\n",
       "<li>\n",
       "<a href=\"category/books/crime_51/index.html\">\n",
       "                            \n",
       "                                Crime\n",
       "                            \n",
       "                        </a>\n",
       "</li>\n",
       "</ul></li>\n",
       "</ul>\n",
       "</div>\n",
       "</aside>\n",
       "<div class=\"col-sm-8 col-md-9\">\n",
       "<div class=\"page-header action\">\n",
       "<h1>All products</h1>\n",
       "</div>\n",
       "<div id=\"messages\">\n",
       "</div>\n",
       "<div id=\"promotions\">\n",
       "</div>\n",
       "<form class=\"form-horizontal\" method=\"get\">\n",
       "<div style=\"display:none\">\n",
       "</div>\n",
       "<strong>1000</strong> results - showing <strong>1</strong> to <strong>20</strong>.\n",
       "                \n",
       "            \n",
       "            \n",
       "        \n",
       "    </form>\n",
       "<section>\n",
       "<div class=\"alert alert-warning\" role=\"alert\"><strong>Warning!</strong> This is a demo website for web scraping purposes. Prices and ratings here were randomly assigned and have no real meaning.</div>\n",
       "<div>\n",
       "<ol class=\"row\">\n",
       "<li class=\"col-xs-6 col-sm-4 col-md-3 col-lg-3\">\n",
       "<article class=\"product_pod\">\n",
       "<div class=\"image_container\">\n",
       "<a href=\"a-light-in-the-attic_1000/index.html\"><img alt=\"A Light in the Attic\" class=\"thumbnail\" src=\"../media/cache/2c/da/2cdad67c44b002e7ead0cc35693c0e8b.jpg\"/></a>\n",
       "</div>\n",
       "<p class=\"star-rating Three\">\n",
       "<i class=\"icon-star\"></i>\n",
       "<i class=\"icon-star\"></i>\n",
       "<i class=\"icon-star\"></i>\n",
       "<i class=\"icon-star\"></i>\n",
       "<i class=\"icon-star\"></i>\n",
       "</p>\n",
       "<h3><a href=\"a-light-in-the-attic_1000/index.html\" title=\"A Light in the Attic\">A Light in the ...</a></h3>\n",
       "<div class=\"product_price\">\n",
       "<p class=\"price_color\">Â£51.77</p>\n",
       "<p class=\"instock availability\">\n",
       "<i class=\"icon-ok\"></i>\n",
       "    \n",
       "        In stock\n",
       "    \n",
       "</p>\n",
       "<form>\n",
       "<button class=\"btn btn-primary btn-block\" data-loading-text=\"Adding...\" type=\"submit\">Add to basket</button>\n",
       "</form>\n",
       "</div>\n",
       "</article>\n",
       "</li>\n",
       "<li class=\"col-xs-6 col-sm-4 col-md-3 col-lg-3\">\n",
       "<article class=\"product_pod\">\n",
       "<div class=\"image_container\">\n",
       "<a href=\"tipping-the-velvet_999/index.html\"><img alt=\"Tipping the Velvet\" class=\"thumbnail\" src=\"../media/cache/26/0c/260c6ae16bce31c8f8c95daddd9f4a1c.jpg\"/></a>\n",
       "</div>\n",
       "<p class=\"star-rating One\">\n",
       "<i class=\"icon-star\"></i>\n",
       "<i class=\"icon-star\"></i>\n",
       "<i class=\"icon-star\"></i>\n",
       "<i class=\"icon-star\"></i>\n",
       "<i class=\"icon-star\"></i>\n",
       "</p>\n",
       "<h3><a href=\"tipping-the-velvet_999/index.html\" title=\"Tipping the Velvet\">Tipping the Velvet</a></h3>\n",
       "<div class=\"product_price\">\n",
       "<p class=\"price_color\">Â£53.74</p>\n",
       "<p class=\"instock availability\">\n",
       "<i class=\"icon-ok\"></i>\n",
       "    \n",
       "        In stock\n",
       "    \n",
       "</p>\n",
       "<form>\n",
       "<button class=\"btn btn-primary btn-block\" data-loading-text=\"Adding...\" type=\"submit\">Add to basket</button>\n",
       "</form>\n",
       "</div>\n",
       "</article>\n",
       "</li>\n",
       "<li class=\"col-xs-6 col-sm-4 col-md-3 col-lg-3\">\n",
       "<article class=\"product_pod\">\n",
       "<div class=\"image_container\">\n",
       "<a href=\"soumission_998/index.html\"><img alt=\"Soumission\" class=\"thumbnail\" src=\"../media/cache/3e/ef/3eef99c9d9adef34639f510662022830.jpg\"/></a>\n",
       "</div>\n",
       "<p class=\"star-rating One\">\n",
       "<i class=\"icon-star\"></i>\n",
       "<i class=\"icon-star\"></i>\n",
       "<i class=\"icon-star\"></i>\n",
       "<i class=\"icon-star\"></i>\n",
       "<i class=\"icon-star\"></i>\n",
       "</p>\n",
       "<h3><a href=\"soumission_998/index.html\" title=\"Soumission\">Soumission</a></h3>\n",
       "<div class=\"product_price\">\n",
       "<p class=\"price_color\">Â£50.10</p>\n",
       "<p class=\"instock availability\">\n",
       "<i class=\"icon-ok\"></i>\n",
       "    \n",
       "        In stock\n",
       "    \n",
       "</p>\n",
       "<form>\n",
       "<button class=\"btn btn-primary btn-block\" data-loading-text=\"Adding...\" type=\"submit\">Add to basket</button>\n",
       "</form>\n",
       "</div>\n",
       "</article>\n",
       "</li>\n",
       "<li class=\"col-xs-6 col-sm-4 col-md-3 col-lg-3\">\n",
       "<article class=\"product_pod\">\n",
       "<div class=\"image_container\">\n",
       "<a href=\"sharp-objects_997/index.html\"><img alt=\"Sharp Objects\" class=\"thumbnail\" src=\"../media/cache/32/51/3251cf3a3412f53f339e42cac2134093.jpg\"/></a>\n",
       "</div>\n",
       "<p class=\"star-rating Four\">\n",
       "<i class=\"icon-star\"></i>\n",
       "<i class=\"icon-star\"></i>\n",
       "<i class=\"icon-star\"></i>\n",
       "<i class=\"icon-star\"></i>\n",
       "<i class=\"icon-star\"></i>\n",
       "</p>\n",
       "<h3><a href=\"sharp-objects_997/index.html\" title=\"Sharp Objects\">Sharp Objects</a></h3>\n",
       "<div class=\"product_price\">\n",
       "<p class=\"price_color\">Â£47.82</p>\n",
       "<p class=\"instock availability\">\n",
       "<i class=\"icon-ok\"></i>\n",
       "    \n",
       "        In stock\n",
       "    \n",
       "</p>\n",
       "<form>\n",
       "<button class=\"btn btn-primary btn-block\" data-loading-text=\"Adding...\" type=\"submit\">Add to basket</button>\n",
       "</form>\n",
       "</div>\n",
       "</article>\n",
       "</li>\n",
       "<li class=\"col-xs-6 col-sm-4 col-md-3 col-lg-3\">\n",
       "<article class=\"product_pod\">\n",
       "<div class=\"image_container\">\n",
       "<a href=\"sapiens-a-brief-history-of-humankind_996/index.html\"><img alt=\"Sapiens: A Brief History of Humankind\" class=\"thumbnail\" src=\"../media/cache/be/a5/bea5697f2534a2f86a3ef27b5a8c12a6.jpg\"/></a>\n",
       "</div>\n",
       "<p class=\"star-rating Five\">\n",
       "<i class=\"icon-star\"></i>\n",
       "<i class=\"icon-star\"></i>\n",
       "<i class=\"icon-star\"></i>\n",
       "<i class=\"icon-star\"></i>\n",
       "<i class=\"icon-star\"></i>\n",
       "</p>\n",
       "<h3><a href=\"sapiens-a-brief-history-of-humankind_996/index.html\" title=\"Sapiens: A Brief History of Humankind\">Sapiens: A Brief History ...</a></h3>\n",
       "<div class=\"product_price\">\n",
       "<p class=\"price_color\">Â£54.23</p>\n",
       "<p class=\"instock availability\">\n",
       "<i class=\"icon-ok\"></i>\n",
       "    \n",
       "        In stock\n",
       "    \n",
       "</p>\n",
       "<form>\n",
       "<button class=\"btn btn-primary btn-block\" data-loading-text=\"Adding...\" type=\"submit\">Add to basket</button>\n",
       "</form>\n",
       "</div>\n",
       "</article>\n",
       "</li>\n",
       "<li class=\"col-xs-6 col-sm-4 col-md-3 col-lg-3\">\n",
       "<article class=\"product_pod\">\n",
       "<div class=\"image_container\">\n",
       "<a href=\"the-requiem-red_995/index.html\"><img alt=\"The Requiem Red\" class=\"thumbnail\" src=\"../media/cache/68/33/68339b4c9bc034267e1da611ab3b34f8.jpg\"/></a>\n",
       "</div>\n",
       "<p class=\"star-rating One\">\n",
       "<i class=\"icon-star\"></i>\n",
       "<i class=\"icon-star\"></i>\n",
       "<i class=\"icon-star\"></i>\n",
       "<i class=\"icon-star\"></i>\n",
       "<i class=\"icon-star\"></i>\n",
       "</p>\n",
       "<h3><a href=\"the-requiem-red_995/index.html\" title=\"The Requiem Red\">The Requiem Red</a></h3>\n",
       "<div class=\"product_price\">\n",
       "<p class=\"price_color\">Â£22.65</p>\n",
       "<p class=\"instock availability\">\n",
       "<i class=\"icon-ok\"></i>\n",
       "    \n",
       "        In stock\n",
       "    \n",
       "</p>\n",
       "<form>\n",
       "<button class=\"btn btn-primary btn-block\" data-loading-text=\"Adding...\" type=\"submit\">Add to basket</button>\n",
       "</form>\n",
       "</div>\n",
       "</article>\n",
       "</li>\n",
       "<li class=\"col-xs-6 col-sm-4 col-md-3 col-lg-3\">\n",
       "<article class=\"product_pod\">\n",
       "<div class=\"image_container\">\n",
       "<a href=\"the-dirty-little-secrets-of-getting-your-dream-job_994/index.html\"><img alt=\"The Dirty Little Secrets of Getting Your Dream Job\" class=\"thumbnail\" src=\"../media/cache/92/27/92274a95b7c251fea59a2b8a78275ab4.jpg\"/></a>\n",
       "</div>\n",
       "<p class=\"star-rating Four\">\n",
       "<i class=\"icon-star\"></i>\n",
       "<i class=\"icon-star\"></i>\n",
       "<i class=\"icon-star\"></i>\n",
       "<i class=\"icon-star\"></i>\n",
       "<i class=\"icon-star\"></i>\n",
       "</p>\n",
       "<h3><a href=\"the-dirty-little-secrets-of-getting-your-dream-job_994/index.html\" title=\"The Dirty Little Secrets of Getting Your Dream Job\">The Dirty Little Secrets ...</a></h3>\n",
       "<div class=\"product_price\">\n",
       "<p class=\"price_color\">Â£33.34</p>\n",
       "<p class=\"instock availability\">\n",
       "<i class=\"icon-ok\"></i>\n",
       "    \n",
       "        In stock\n",
       "    \n",
       "</p>\n",
       "<form>\n",
       "<button class=\"btn btn-primary btn-block\" data-loading-text=\"Adding...\" type=\"submit\">Add to basket</button>\n",
       "</form>\n",
       "</div>\n",
       "</article>\n",
       "</li>\n",
       "<li class=\"col-xs-6 col-sm-4 col-md-3 col-lg-3\">\n",
       "<article class=\"product_pod\">\n",
       "<div class=\"image_container\">\n",
       "<a href=\"the-coming-woman-a-novel-based-on-the-life-of-the-infamous-feminist-victoria-woodhull_993/index.html\"><img alt=\"The Coming Woman: A Novel Based on the Life of the Infamous Feminist, Victoria Woodhull\" class=\"thumbnail\" src=\"../media/cache/3d/54/3d54940e57e662c4dd1f3ff00c78cc64.jpg\"/></a>\n",
       "</div>\n",
       "<p class=\"star-rating Three\">\n",
       "<i class=\"icon-star\"></i>\n",
       "<i class=\"icon-star\"></i>\n",
       "<i class=\"icon-star\"></i>\n",
       "<i class=\"icon-star\"></i>\n",
       "<i class=\"icon-star\"></i>\n",
       "</p>\n",
       "<h3><a href=\"the-coming-woman-a-novel-based-on-the-life-of-the-infamous-feminist-victoria-woodhull_993/index.html\" title=\"The Coming Woman: A Novel Based on the Life of the Infamous Feminist, Victoria Woodhull\">The Coming Woman: A ...</a></h3>\n",
       "<div class=\"product_price\">\n",
       "<p class=\"price_color\">Â£17.93</p>\n",
       "<p class=\"instock availability\">\n",
       "<i class=\"icon-ok\"></i>\n",
       "    \n",
       "        In stock\n",
       "    \n",
       "</p>\n",
       "<form>\n",
       "<button class=\"btn btn-primary btn-block\" data-loading-text=\"Adding...\" type=\"submit\">Add to basket</button>\n",
       "</form>\n",
       "</div>\n",
       "</article>\n",
       "</li>\n",
       "<li class=\"col-xs-6 col-sm-4 col-md-3 col-lg-3\">\n",
       "<article class=\"product_pod\">\n",
       "<div class=\"image_container\">\n",
       "<a href=\"the-boys-in-the-boat-nine-americans-and-their-epic-quest-for-gold-at-the-1936-berlin-olympics_992/index.html\"><img alt=\"The Boys in the Boat: Nine Americans and Their Epic Quest for Gold at the 1936 Berlin Olympics\" class=\"thumbnail\" src=\"../media/cache/66/88/66883b91f6804b2323c8369331cb7dd1.jpg\"/></a>\n",
       "</div>\n",
       "<p class=\"star-rating Four\">\n",
       "<i class=\"icon-star\"></i>\n",
       "<i class=\"icon-star\"></i>\n",
       "<i class=\"icon-star\"></i>\n",
       "<i class=\"icon-star\"></i>\n",
       "<i class=\"icon-star\"></i>\n",
       "</p>\n",
       "<h3><a href=\"the-boys-in-the-boat-nine-americans-and-their-epic-quest-for-gold-at-the-1936-berlin-olympics_992/index.html\" title=\"The Boys in the Boat: Nine Americans and Their Epic Quest for Gold at the 1936 Berlin Olympics\">The Boys in the ...</a></h3>\n",
       "<div class=\"product_price\">\n",
       "<p class=\"price_color\">Â£22.60</p>\n",
       "<p class=\"instock availability\">\n",
       "<i class=\"icon-ok\"></i>\n",
       "    \n",
       "        In stock\n",
       "    \n",
       "</p>\n",
       "<form>\n",
       "<button class=\"btn btn-primary btn-block\" data-loading-text=\"Adding...\" type=\"submit\">Add to basket</button>\n",
       "</form>\n",
       "</div>\n",
       "</article>\n",
       "</li>\n",
       "<li class=\"col-xs-6 col-sm-4 col-md-3 col-lg-3\">\n",
       "<article class=\"product_pod\">\n",
       "<div class=\"image_container\">\n",
       "<a href=\"the-black-maria_991/index.html\"><img alt=\"The Black Maria\" class=\"thumbnail\" src=\"../media/cache/58/46/5846057e28022268153beff6d352b06c.jpg\"/></a>\n",
       "</div>\n",
       "<p class=\"star-rating One\">\n",
       "<i class=\"icon-star\"></i>\n",
       "<i class=\"icon-star\"></i>\n",
       "<i class=\"icon-star\"></i>\n",
       "<i class=\"icon-star\"></i>\n",
       "<i class=\"icon-star\"></i>\n",
       "</p>\n",
       "<h3><a href=\"the-black-maria_991/index.html\" title=\"The Black Maria\">The Black Maria</a></h3>\n",
       "<div class=\"product_price\">\n",
       "<p class=\"price_color\">Â£52.15</p>\n",
       "<p class=\"instock availability\">\n",
       "<i class=\"icon-ok\"></i>\n",
       "    \n",
       "        In stock\n",
       "    \n",
       "</p>\n",
       "<form>\n",
       "<button class=\"btn btn-primary btn-block\" data-loading-text=\"Adding...\" type=\"submit\">Add to basket</button>\n",
       "</form>\n",
       "</div>\n",
       "</article>\n",
       "</li>\n",
       "<li class=\"col-xs-6 col-sm-4 col-md-3 col-lg-3\">\n",
       "<article class=\"product_pod\">\n",
       "<div class=\"image_container\">\n",
       "<a href=\"starving-hearts-triangular-trade-trilogy-1_990/index.html\"><img alt=\"Starving Hearts (Triangular Trade Trilogy, #1)\" class=\"thumbnail\" src=\"../media/cache/be/f4/bef44da28c98f905a3ebec0b87be8530.jpg\"/></a>\n",
       "</div>\n",
       "<p class=\"star-rating Two\">\n",
       "<i class=\"icon-star\"></i>\n",
       "<i class=\"icon-star\"></i>\n",
       "<i class=\"icon-star\"></i>\n",
       "<i class=\"icon-star\"></i>\n",
       "<i class=\"icon-star\"></i>\n",
       "</p>\n",
       "<h3><a href=\"starving-hearts-triangular-trade-trilogy-1_990/index.html\" title=\"Starving Hearts (Triangular Trade Trilogy, #1)\">Starving Hearts (Triangular Trade ...</a></h3>\n",
       "<div class=\"product_price\">\n",
       "<p class=\"price_color\">Â£13.99</p>\n",
       "<p class=\"instock availability\">\n",
       "<i class=\"icon-ok\"></i>\n",
       "    \n",
       "        In stock\n",
       "    \n",
       "</p>\n",
       "<form>\n",
       "<button class=\"btn btn-primary btn-block\" data-loading-text=\"Adding...\" type=\"submit\">Add to basket</button>\n",
       "</form>\n",
       "</div>\n",
       "</article>\n",
       "</li>\n",
       "<li class=\"col-xs-6 col-sm-4 col-md-3 col-lg-3\">\n",
       "<article class=\"product_pod\">\n",
       "<div class=\"image_container\">\n",
       "<a href=\"shakespeares-sonnets_989/index.html\"><img alt=\"Shakespeare's Sonnets\" class=\"thumbnail\" src=\"../media/cache/10/48/1048f63d3b5061cd2f424d20b3f9b666.jpg\"/></a>\n",
       "</div>\n",
       "<p class=\"star-rating Four\">\n",
       "<i class=\"icon-star\"></i>\n",
       "<i class=\"icon-star\"></i>\n",
       "<i class=\"icon-star\"></i>\n",
       "<i class=\"icon-star\"></i>\n",
       "<i class=\"icon-star\"></i>\n",
       "</p>\n",
       "<h3><a href=\"shakespeares-sonnets_989/index.html\" title=\"Shakespeare's Sonnets\">Shakespeare's Sonnets</a></h3>\n",
       "<div class=\"product_price\">\n",
       "<p class=\"price_color\">Â£20.66</p>\n",
       "<p class=\"instock availability\">\n",
       "<i class=\"icon-ok\"></i>\n",
       "    \n",
       "        In stock\n",
       "    \n",
       "</p>\n",
       "<form>\n",
       "<button class=\"btn btn-primary btn-block\" data-loading-text=\"Adding...\" type=\"submit\">Add to basket</button>\n",
       "</form>\n",
       "</div>\n",
       "</article>\n",
       "</li>\n",
       "<li class=\"col-xs-6 col-sm-4 col-md-3 col-lg-3\">\n",
       "<article class=\"product_pod\">\n",
       "<div class=\"image_container\">\n",
       "<a href=\"set-me-free_988/index.html\"><img alt=\"Set Me Free\" class=\"thumbnail\" src=\"../media/cache/5b/88/5b88c52633f53cacf162c15f4f823153.jpg\"/></a>\n",
       "</div>\n",
       "<p class=\"star-rating Five\">\n",
       "<i class=\"icon-star\"></i>\n",
       "<i class=\"icon-star\"></i>\n",
       "<i class=\"icon-star\"></i>\n",
       "<i class=\"icon-star\"></i>\n",
       "<i class=\"icon-star\"></i>\n",
       "</p>\n",
       "<h3><a href=\"set-me-free_988/index.html\" title=\"Set Me Free\">Set Me Free</a></h3>\n",
       "<div class=\"product_price\">\n",
       "<p class=\"price_color\">Â£17.46</p>\n",
       "<p class=\"instock availability\">\n",
       "<i class=\"icon-ok\"></i>\n",
       "    \n",
       "        In stock\n",
       "    \n",
       "</p>\n",
       "<form>\n",
       "<button class=\"btn btn-primary btn-block\" data-loading-text=\"Adding...\" type=\"submit\">Add to basket</button>\n",
       "</form>\n",
       "</div>\n",
       "</article>\n",
       "</li>\n",
       "<li class=\"col-xs-6 col-sm-4 col-md-3 col-lg-3\">\n",
       "<article class=\"product_pod\">\n",
       "<div class=\"image_container\">\n",
       "<a href=\"scott-pilgrims-precious-little-life-scott-pilgrim-1_987/index.html\"><img alt=\"Scott Pilgrim's Precious Little Life (Scott Pilgrim #1)\" class=\"thumbnail\" src=\"../media/cache/94/b1/94b1b8b244bce9677c2f29ccc890d4d2.jpg\"/></a>\n",
       "</div>\n",
       "<p class=\"star-rating Five\">\n",
       "<i class=\"icon-star\"></i>\n",
       "<i class=\"icon-star\"></i>\n",
       "<i class=\"icon-star\"></i>\n",
       "<i class=\"icon-star\"></i>\n",
       "<i class=\"icon-star\"></i>\n",
       "</p>\n",
       "<h3><a href=\"scott-pilgrims-precious-little-life-scott-pilgrim-1_987/index.html\" title=\"Scott Pilgrim's Precious Little Life (Scott Pilgrim #1)\">Scott Pilgrim's Precious Little ...</a></h3>\n",
       "<div class=\"product_price\">\n",
       "<p class=\"price_color\">Â£52.29</p>\n",
       "<p class=\"instock availability\">\n",
       "<i class=\"icon-ok\"></i>\n",
       "    \n",
       "        In stock\n",
       "    \n",
       "</p>\n",
       "<form>\n",
       "<button class=\"btn btn-primary btn-block\" data-loading-text=\"Adding...\" type=\"submit\">Add to basket</button>\n",
       "</form>\n",
       "</div>\n",
       "</article>\n",
       "</li>\n",
       "<li class=\"col-xs-6 col-sm-4 col-md-3 col-lg-3\">\n",
       "<article class=\"product_pod\">\n",
       "<div class=\"image_container\">\n",
       "<a href=\"rip-it-up-and-start-again_986/index.html\"><img alt=\"Rip it Up and Start Again\" class=\"thumbnail\" src=\"../media/cache/81/c4/81c4a973364e17d01f217e1188253d5e.jpg\"/></a>\n",
       "</div>\n",
       "<p class=\"star-rating Five\">\n",
       "<i class=\"icon-star\"></i>\n",
       "<i class=\"icon-star\"></i>\n",
       "<i class=\"icon-star\"></i>\n",
       "<i class=\"icon-star\"></i>\n",
       "<i class=\"icon-star\"></i>\n",
       "</p>\n",
       "<h3><a href=\"rip-it-up-and-start-again_986/index.html\" title=\"Rip it Up and Start Again\">Rip it Up and ...</a></h3>\n",
       "<div class=\"product_price\">\n",
       "<p class=\"price_color\">Â£35.02</p>\n",
       "<p class=\"instock availability\">\n",
       "<i class=\"icon-ok\"></i>\n",
       "    \n",
       "        In stock\n",
       "    \n",
       "</p>\n",
       "<form>\n",
       "<button class=\"btn btn-primary btn-block\" data-loading-text=\"Adding...\" type=\"submit\">Add to basket</button>\n",
       "</form>\n",
       "</div>\n",
       "</article>\n",
       "</li>\n",
       "<li class=\"col-xs-6 col-sm-4 col-md-3 col-lg-3\">\n",
       "<article class=\"product_pod\">\n",
       "<div class=\"image_container\">\n",
       "<a href=\"our-band-could-be-your-life-scenes-from-the-american-indie-underground-1981-1991_985/index.html\"><img alt=\"Our Band Could Be Your Life: Scenes from the American Indie Underground, 1981-1991\" class=\"thumbnail\" src=\"../media/cache/54/60/54607fe8945897cdcced0044103b10b6.jpg\"/></a>\n",
       "</div>\n",
       "<p class=\"star-rating Three\">\n",
       "<i class=\"icon-star\"></i>\n",
       "<i class=\"icon-star\"></i>\n",
       "<i class=\"icon-star\"></i>\n",
       "<i class=\"icon-star\"></i>\n",
       "<i class=\"icon-star\"></i>\n",
       "</p>\n",
       "<h3><a href=\"our-band-could-be-your-life-scenes-from-the-american-indie-underground-1981-1991_985/index.html\" title=\"Our Band Could Be Your Life: Scenes from the American Indie Underground, 1981-1991\">Our Band Could Be ...</a></h3>\n",
       "<div class=\"product_price\">\n",
       "<p class=\"price_color\">Â£57.25</p>\n",
       "<p class=\"instock availability\">\n",
       "<i class=\"icon-ok\"></i>\n",
       "    \n",
       "        In stock\n",
       "    \n",
       "</p>\n",
       "<form>\n",
       "<button class=\"btn btn-primary btn-block\" data-loading-text=\"Adding...\" type=\"submit\">Add to basket</button>\n",
       "</form>\n",
       "</div>\n",
       "</article>\n",
       "</li>\n",
       "<li class=\"col-xs-6 col-sm-4 col-md-3 col-lg-3\">\n",
       "<article class=\"product_pod\">\n",
       "<div class=\"image_container\">\n",
       "<a href=\"olio_984/index.html\"><img alt=\"Olio\" class=\"thumbnail\" src=\"../media/cache/55/33/553310a7162dfbc2c6d19a84da0df9e1.jpg\"/></a>\n",
       "</div>\n",
       "<p class=\"star-rating One\">\n",
       "<i class=\"icon-star\"></i>\n",
       "<i class=\"icon-star\"></i>\n",
       "<i class=\"icon-star\"></i>\n",
       "<i class=\"icon-star\"></i>\n",
       "<i class=\"icon-star\"></i>\n",
       "</p>\n",
       "<h3><a href=\"olio_984/index.html\" title=\"Olio\">Olio</a></h3>\n",
       "<div class=\"product_price\">\n",
       "<p class=\"price_color\">Â£23.88</p>\n",
       "<p class=\"instock availability\">\n",
       "<i class=\"icon-ok\"></i>\n",
       "    \n",
       "        In stock\n",
       "    \n",
       "</p>\n",
       "<form>\n",
       "<button class=\"btn btn-primary btn-block\" data-loading-text=\"Adding...\" type=\"submit\">Add to basket</button>\n",
       "</form>\n",
       "</div>\n",
       "</article>\n",
       "</li>\n",
       "<li class=\"col-xs-6 col-sm-4 col-md-3 col-lg-3\">\n",
       "<article class=\"product_pod\">\n",
       "<div class=\"image_container\">\n",
       "<a href=\"mesaerion-the-best-science-fiction-stories-1800-1849_983/index.html\"><img alt=\"Mesaerion: The Best Science Fiction Stories 1800-1849\" class=\"thumbnail\" src=\"../media/cache/09/a3/09a3aef48557576e1a85ba7efea8ecb7.jpg\"/></a>\n",
       "</div>\n",
       "<p class=\"star-rating One\">\n",
       "<i class=\"icon-star\"></i>\n",
       "<i class=\"icon-star\"></i>\n",
       "<i class=\"icon-star\"></i>\n",
       "<i class=\"icon-star\"></i>\n",
       "<i class=\"icon-star\"></i>\n",
       "</p>\n",
       "<h3><a href=\"mesaerion-the-best-science-fiction-stories-1800-1849_983/index.html\" title=\"Mesaerion: The Best Science Fiction Stories 1800-1849\">Mesaerion: The Best Science ...</a></h3>\n",
       "<div class=\"product_price\">\n",
       "<p class=\"price_color\">Â£37.59</p>\n",
       "<p class=\"instock availability\">\n",
       "<i class=\"icon-ok\"></i>\n",
       "    \n",
       "        In stock\n",
       "    \n",
       "</p>\n",
       "<form>\n",
       "<button class=\"btn btn-primary btn-block\" data-loading-text=\"Adding...\" type=\"submit\">Add to basket</button>\n",
       "</form>\n",
       "</div>\n",
       "</article>\n",
       "</li>\n",
       "<li class=\"col-xs-6 col-sm-4 col-md-3 col-lg-3\">\n",
       "<article class=\"product_pod\">\n",
       "<div class=\"image_container\">\n",
       "<a href=\"libertarianism-for-beginners_982/index.html\"><img alt=\"Libertarianism for Beginners\" class=\"thumbnail\" src=\"../media/cache/0b/bc/0bbcd0a6f4bcd81ccb1049a52736406e.jpg\"/></a>\n",
       "</div>\n",
       "<p class=\"star-rating Two\">\n",
       "<i class=\"icon-star\"></i>\n",
       "<i class=\"icon-star\"></i>\n",
       "<i class=\"icon-star\"></i>\n",
       "<i class=\"icon-star\"></i>\n",
       "<i class=\"icon-star\"></i>\n",
       "</p>\n",
       "<h3><a href=\"libertarianism-for-beginners_982/index.html\" title=\"Libertarianism for Beginners\">Libertarianism for Beginners</a></h3>\n",
       "<div class=\"product_price\">\n",
       "<p class=\"price_color\">Â£51.33</p>\n",
       "<p class=\"instock availability\">\n",
       "<i class=\"icon-ok\"></i>\n",
       "    \n",
       "        In stock\n",
       "    \n",
       "</p>\n",
       "<form>\n",
       "<button class=\"btn btn-primary btn-block\" data-loading-text=\"Adding...\" type=\"submit\">Add to basket</button>\n",
       "</form>\n",
       "</div>\n",
       "</article>\n",
       "</li>\n",
       "<li class=\"col-xs-6 col-sm-4 col-md-3 col-lg-3\">\n",
       "<article class=\"product_pod\">\n",
       "<div class=\"image_container\">\n",
       "<a href=\"its-only-the-himalayas_981/index.html\"><img alt=\"It's Only the Himalayas\" class=\"thumbnail\" src=\"../media/cache/27/a5/27a53d0bb95bdd88288eaf66c9230d7e.jpg\"/></a>\n",
       "</div>\n",
       "<p class=\"star-rating Two\">\n",
       "<i class=\"icon-star\"></i>\n",
       "<i class=\"icon-star\"></i>\n",
       "<i class=\"icon-star\"></i>\n",
       "<i class=\"icon-star\"></i>\n",
       "<i class=\"icon-star\"></i>\n",
       "</p>\n",
       "<h3><a href=\"its-only-the-himalayas_981/index.html\" title=\"It's Only the Himalayas\">It's Only the Himalayas</a></h3>\n",
       "<div class=\"product_price\">\n",
       "<p class=\"price_color\">Â£45.17</p>\n",
       "<p class=\"instock availability\">\n",
       "<i class=\"icon-ok\"></i>\n",
       "    \n",
       "        In stock\n",
       "    \n",
       "</p>\n",
       "<form>\n",
       "<button class=\"btn btn-primary btn-block\" data-loading-text=\"Adding...\" type=\"submit\">Add to basket</button>\n",
       "</form>\n",
       "</div>\n",
       "</article>\n",
       "</li>\n",
       "</ol>\n",
       "<div>\n",
       "<ul class=\"pager\">\n",
       "<li class=\"current\">\n",
       "            \n",
       "                Page 1 of 50\n",
       "            \n",
       "            </li>\n",
       "<li class=\"next\"><a href=\"page-2.html\">next</a></li>\n",
       "</ul>\n",
       "</div>\n",
       "</div>\n",
       "</section>\n",
       "</div>\n",
       "</div><!-- /row -->\n",
       "</div><!-- /page_inner -->\n",
       "</div><!-- /container-fluid -->\n",
       "<footer class=\"footer container-fluid\">\n",
       "</footer>\n",
       "<!-- jQuery -->\n",
       "<script src=\"http://ajax.googleapis.com/ajax/libs/jquery/1.9.1/jquery.min.js\"></script>\n",
       "<script>window.jQuery || document.write('<script src=\"../static/oscar/js/jquery/jquery-1.9.1.min.js\"><\\/script>')</script>\n",
       "<!-- Twitter Bootstrap -->\n",
       "<script src=\"../static/oscar/js/bootstrap3/bootstrap.min.js\" type=\"text/javascript\"></script>\n",
       "<!-- Oscar -->\n",
       "<script charset=\"utf-8\" src=\"../static/oscar/js/oscar/ui.js\" type=\"text/javascript\"></script>\n",
       "<script charset=\"utf-8\" src=\"../static/oscar/js/bootstrap-datetimepicker/bootstrap-datetimepicker.js\" type=\"text/javascript\"></script>\n",
       "<script charset=\"utf-8\" src=\"../static/oscar/js/bootstrap-datetimepicker/locales/bootstrap-datetimepicker.all.js\" type=\"text/javascript\"></script>\n",
       "<script type=\"text/javascript\">\n",
       "            $(function() {\n",
       "                \n",
       "    \n",
       "    \n",
       "    oscar.init();\n",
       "\n",
       "    oscar.search.init();\n",
       "\n",
       "            });\n",
       "        </script>\n",
       "<!-- Version: N/A -->\n",
       "</body>\n",
       "</html>"
      ]
     },
     "execution_count": 12,
     "metadata": {},
     "output_type": "execute_result"
    }
   ],
   "source": [
    "soup"
   ]
  },
  {
   "cell_type": "code",
   "execution_count": 13,
   "id": "d29d1f5f",
   "metadata": {},
   "outputs": [
    {
     "data": {
      "text/plain": [
       "[]"
      ]
     },
     "execution_count": 13,
     "metadata": {},
     "output_type": "execute_result"
    }
   ],
   "source": [
    "soup.select('.productpod')"
   ]
  },
  {
   "cell_type": "code",
   "execution_count": 14,
   "id": "39c3ba36",
   "metadata": {},
   "outputs": [
    {
     "data": {
      "text/plain": [
       "[<article class=\"product_pod\">\n",
       " <div class=\"image_container\">\n",
       " <a href=\"a-light-in-the-attic_1000/index.html\"><img alt=\"A Light in the Attic\" class=\"thumbnail\" src=\"../media/cache/2c/da/2cdad67c44b002e7ead0cc35693c0e8b.jpg\"/></a>\n",
       " </div>\n",
       " <p class=\"star-rating Three\">\n",
       " <i class=\"icon-star\"></i>\n",
       " <i class=\"icon-star\"></i>\n",
       " <i class=\"icon-star\"></i>\n",
       " <i class=\"icon-star\"></i>\n",
       " <i class=\"icon-star\"></i>\n",
       " </p>\n",
       " <h3><a href=\"a-light-in-the-attic_1000/index.html\" title=\"A Light in the Attic\">A Light in the ...</a></h3>\n",
       " <div class=\"product_price\">\n",
       " <p class=\"price_color\">Â£51.77</p>\n",
       " <p class=\"instock availability\">\n",
       " <i class=\"icon-ok\"></i>\n",
       "     \n",
       "         In stock\n",
       "     \n",
       " </p>\n",
       " <form>\n",
       " <button class=\"btn btn-primary btn-block\" data-loading-text=\"Adding...\" type=\"submit\">Add to basket</button>\n",
       " </form>\n",
       " </div>\n",
       " </article>,\n",
       " <article class=\"product_pod\">\n",
       " <div class=\"image_container\">\n",
       " <a href=\"tipping-the-velvet_999/index.html\"><img alt=\"Tipping the Velvet\" class=\"thumbnail\" src=\"../media/cache/26/0c/260c6ae16bce31c8f8c95daddd9f4a1c.jpg\"/></a>\n",
       " </div>\n",
       " <p class=\"star-rating One\">\n",
       " <i class=\"icon-star\"></i>\n",
       " <i class=\"icon-star\"></i>\n",
       " <i class=\"icon-star\"></i>\n",
       " <i class=\"icon-star\"></i>\n",
       " <i class=\"icon-star\"></i>\n",
       " </p>\n",
       " <h3><a href=\"tipping-the-velvet_999/index.html\" title=\"Tipping the Velvet\">Tipping the Velvet</a></h3>\n",
       " <div class=\"product_price\">\n",
       " <p class=\"price_color\">Â£53.74</p>\n",
       " <p class=\"instock availability\">\n",
       " <i class=\"icon-ok\"></i>\n",
       "     \n",
       "         In stock\n",
       "     \n",
       " </p>\n",
       " <form>\n",
       " <button class=\"btn btn-primary btn-block\" data-loading-text=\"Adding...\" type=\"submit\">Add to basket</button>\n",
       " </form>\n",
       " </div>\n",
       " </article>,\n",
       " <article class=\"product_pod\">\n",
       " <div class=\"image_container\">\n",
       " <a href=\"soumission_998/index.html\"><img alt=\"Soumission\" class=\"thumbnail\" src=\"../media/cache/3e/ef/3eef99c9d9adef34639f510662022830.jpg\"/></a>\n",
       " </div>\n",
       " <p class=\"star-rating One\">\n",
       " <i class=\"icon-star\"></i>\n",
       " <i class=\"icon-star\"></i>\n",
       " <i class=\"icon-star\"></i>\n",
       " <i class=\"icon-star\"></i>\n",
       " <i class=\"icon-star\"></i>\n",
       " </p>\n",
       " <h3><a href=\"soumission_998/index.html\" title=\"Soumission\">Soumission</a></h3>\n",
       " <div class=\"product_price\">\n",
       " <p class=\"price_color\">Â£50.10</p>\n",
       " <p class=\"instock availability\">\n",
       " <i class=\"icon-ok\"></i>\n",
       "     \n",
       "         In stock\n",
       "     \n",
       " </p>\n",
       " <form>\n",
       " <button class=\"btn btn-primary btn-block\" data-loading-text=\"Adding...\" type=\"submit\">Add to basket</button>\n",
       " </form>\n",
       " </div>\n",
       " </article>,\n",
       " <article class=\"product_pod\">\n",
       " <div class=\"image_container\">\n",
       " <a href=\"sharp-objects_997/index.html\"><img alt=\"Sharp Objects\" class=\"thumbnail\" src=\"../media/cache/32/51/3251cf3a3412f53f339e42cac2134093.jpg\"/></a>\n",
       " </div>\n",
       " <p class=\"star-rating Four\">\n",
       " <i class=\"icon-star\"></i>\n",
       " <i class=\"icon-star\"></i>\n",
       " <i class=\"icon-star\"></i>\n",
       " <i class=\"icon-star\"></i>\n",
       " <i class=\"icon-star\"></i>\n",
       " </p>\n",
       " <h3><a href=\"sharp-objects_997/index.html\" title=\"Sharp Objects\">Sharp Objects</a></h3>\n",
       " <div class=\"product_price\">\n",
       " <p class=\"price_color\">Â£47.82</p>\n",
       " <p class=\"instock availability\">\n",
       " <i class=\"icon-ok\"></i>\n",
       "     \n",
       "         In stock\n",
       "     \n",
       " </p>\n",
       " <form>\n",
       " <button class=\"btn btn-primary btn-block\" data-loading-text=\"Adding...\" type=\"submit\">Add to basket</button>\n",
       " </form>\n",
       " </div>\n",
       " </article>,\n",
       " <article class=\"product_pod\">\n",
       " <div class=\"image_container\">\n",
       " <a href=\"sapiens-a-brief-history-of-humankind_996/index.html\"><img alt=\"Sapiens: A Brief History of Humankind\" class=\"thumbnail\" src=\"../media/cache/be/a5/bea5697f2534a2f86a3ef27b5a8c12a6.jpg\"/></a>\n",
       " </div>\n",
       " <p class=\"star-rating Five\">\n",
       " <i class=\"icon-star\"></i>\n",
       " <i class=\"icon-star\"></i>\n",
       " <i class=\"icon-star\"></i>\n",
       " <i class=\"icon-star\"></i>\n",
       " <i class=\"icon-star\"></i>\n",
       " </p>\n",
       " <h3><a href=\"sapiens-a-brief-history-of-humankind_996/index.html\" title=\"Sapiens: A Brief History of Humankind\">Sapiens: A Brief History ...</a></h3>\n",
       " <div class=\"product_price\">\n",
       " <p class=\"price_color\">Â£54.23</p>\n",
       " <p class=\"instock availability\">\n",
       " <i class=\"icon-ok\"></i>\n",
       "     \n",
       "         In stock\n",
       "     \n",
       " </p>\n",
       " <form>\n",
       " <button class=\"btn btn-primary btn-block\" data-loading-text=\"Adding...\" type=\"submit\">Add to basket</button>\n",
       " </form>\n",
       " </div>\n",
       " </article>,\n",
       " <article class=\"product_pod\">\n",
       " <div class=\"image_container\">\n",
       " <a href=\"the-requiem-red_995/index.html\"><img alt=\"The Requiem Red\" class=\"thumbnail\" src=\"../media/cache/68/33/68339b4c9bc034267e1da611ab3b34f8.jpg\"/></a>\n",
       " </div>\n",
       " <p class=\"star-rating One\">\n",
       " <i class=\"icon-star\"></i>\n",
       " <i class=\"icon-star\"></i>\n",
       " <i class=\"icon-star\"></i>\n",
       " <i class=\"icon-star\"></i>\n",
       " <i class=\"icon-star\"></i>\n",
       " </p>\n",
       " <h3><a href=\"the-requiem-red_995/index.html\" title=\"The Requiem Red\">The Requiem Red</a></h3>\n",
       " <div class=\"product_price\">\n",
       " <p class=\"price_color\">Â£22.65</p>\n",
       " <p class=\"instock availability\">\n",
       " <i class=\"icon-ok\"></i>\n",
       "     \n",
       "         In stock\n",
       "     \n",
       " </p>\n",
       " <form>\n",
       " <button class=\"btn btn-primary btn-block\" data-loading-text=\"Adding...\" type=\"submit\">Add to basket</button>\n",
       " </form>\n",
       " </div>\n",
       " </article>,\n",
       " <article class=\"product_pod\">\n",
       " <div class=\"image_container\">\n",
       " <a href=\"the-dirty-little-secrets-of-getting-your-dream-job_994/index.html\"><img alt=\"The Dirty Little Secrets of Getting Your Dream Job\" class=\"thumbnail\" src=\"../media/cache/92/27/92274a95b7c251fea59a2b8a78275ab4.jpg\"/></a>\n",
       " </div>\n",
       " <p class=\"star-rating Four\">\n",
       " <i class=\"icon-star\"></i>\n",
       " <i class=\"icon-star\"></i>\n",
       " <i class=\"icon-star\"></i>\n",
       " <i class=\"icon-star\"></i>\n",
       " <i class=\"icon-star\"></i>\n",
       " </p>\n",
       " <h3><a href=\"the-dirty-little-secrets-of-getting-your-dream-job_994/index.html\" title=\"The Dirty Little Secrets of Getting Your Dream Job\">The Dirty Little Secrets ...</a></h3>\n",
       " <div class=\"product_price\">\n",
       " <p class=\"price_color\">Â£33.34</p>\n",
       " <p class=\"instock availability\">\n",
       " <i class=\"icon-ok\"></i>\n",
       "     \n",
       "         In stock\n",
       "     \n",
       " </p>\n",
       " <form>\n",
       " <button class=\"btn btn-primary btn-block\" data-loading-text=\"Adding...\" type=\"submit\">Add to basket</button>\n",
       " </form>\n",
       " </div>\n",
       " </article>,\n",
       " <article class=\"product_pod\">\n",
       " <div class=\"image_container\">\n",
       " <a href=\"the-coming-woman-a-novel-based-on-the-life-of-the-infamous-feminist-victoria-woodhull_993/index.html\"><img alt=\"The Coming Woman: A Novel Based on the Life of the Infamous Feminist, Victoria Woodhull\" class=\"thumbnail\" src=\"../media/cache/3d/54/3d54940e57e662c4dd1f3ff00c78cc64.jpg\"/></a>\n",
       " </div>\n",
       " <p class=\"star-rating Three\">\n",
       " <i class=\"icon-star\"></i>\n",
       " <i class=\"icon-star\"></i>\n",
       " <i class=\"icon-star\"></i>\n",
       " <i class=\"icon-star\"></i>\n",
       " <i class=\"icon-star\"></i>\n",
       " </p>\n",
       " <h3><a href=\"the-coming-woman-a-novel-based-on-the-life-of-the-infamous-feminist-victoria-woodhull_993/index.html\" title=\"The Coming Woman: A Novel Based on the Life of the Infamous Feminist, Victoria Woodhull\">The Coming Woman: A ...</a></h3>\n",
       " <div class=\"product_price\">\n",
       " <p class=\"price_color\">Â£17.93</p>\n",
       " <p class=\"instock availability\">\n",
       " <i class=\"icon-ok\"></i>\n",
       "     \n",
       "         In stock\n",
       "     \n",
       " </p>\n",
       " <form>\n",
       " <button class=\"btn btn-primary btn-block\" data-loading-text=\"Adding...\" type=\"submit\">Add to basket</button>\n",
       " </form>\n",
       " </div>\n",
       " </article>,\n",
       " <article class=\"product_pod\">\n",
       " <div class=\"image_container\">\n",
       " <a href=\"the-boys-in-the-boat-nine-americans-and-their-epic-quest-for-gold-at-the-1936-berlin-olympics_992/index.html\"><img alt=\"The Boys in the Boat: Nine Americans and Their Epic Quest for Gold at the 1936 Berlin Olympics\" class=\"thumbnail\" src=\"../media/cache/66/88/66883b91f6804b2323c8369331cb7dd1.jpg\"/></a>\n",
       " </div>\n",
       " <p class=\"star-rating Four\">\n",
       " <i class=\"icon-star\"></i>\n",
       " <i class=\"icon-star\"></i>\n",
       " <i class=\"icon-star\"></i>\n",
       " <i class=\"icon-star\"></i>\n",
       " <i class=\"icon-star\"></i>\n",
       " </p>\n",
       " <h3><a href=\"the-boys-in-the-boat-nine-americans-and-their-epic-quest-for-gold-at-the-1936-berlin-olympics_992/index.html\" title=\"The Boys in the Boat: Nine Americans and Their Epic Quest for Gold at the 1936 Berlin Olympics\">The Boys in the ...</a></h3>\n",
       " <div class=\"product_price\">\n",
       " <p class=\"price_color\">Â£22.60</p>\n",
       " <p class=\"instock availability\">\n",
       " <i class=\"icon-ok\"></i>\n",
       "     \n",
       "         In stock\n",
       "     \n",
       " </p>\n",
       " <form>\n",
       " <button class=\"btn btn-primary btn-block\" data-loading-text=\"Adding...\" type=\"submit\">Add to basket</button>\n",
       " </form>\n",
       " </div>\n",
       " </article>,\n",
       " <article class=\"product_pod\">\n",
       " <div class=\"image_container\">\n",
       " <a href=\"the-black-maria_991/index.html\"><img alt=\"The Black Maria\" class=\"thumbnail\" src=\"../media/cache/58/46/5846057e28022268153beff6d352b06c.jpg\"/></a>\n",
       " </div>\n",
       " <p class=\"star-rating One\">\n",
       " <i class=\"icon-star\"></i>\n",
       " <i class=\"icon-star\"></i>\n",
       " <i class=\"icon-star\"></i>\n",
       " <i class=\"icon-star\"></i>\n",
       " <i class=\"icon-star\"></i>\n",
       " </p>\n",
       " <h3><a href=\"the-black-maria_991/index.html\" title=\"The Black Maria\">The Black Maria</a></h3>\n",
       " <div class=\"product_price\">\n",
       " <p class=\"price_color\">Â£52.15</p>\n",
       " <p class=\"instock availability\">\n",
       " <i class=\"icon-ok\"></i>\n",
       "     \n",
       "         In stock\n",
       "     \n",
       " </p>\n",
       " <form>\n",
       " <button class=\"btn btn-primary btn-block\" data-loading-text=\"Adding...\" type=\"submit\">Add to basket</button>\n",
       " </form>\n",
       " </div>\n",
       " </article>,\n",
       " <article class=\"product_pod\">\n",
       " <div class=\"image_container\">\n",
       " <a href=\"starving-hearts-triangular-trade-trilogy-1_990/index.html\"><img alt=\"Starving Hearts (Triangular Trade Trilogy, #1)\" class=\"thumbnail\" src=\"../media/cache/be/f4/bef44da28c98f905a3ebec0b87be8530.jpg\"/></a>\n",
       " </div>\n",
       " <p class=\"star-rating Two\">\n",
       " <i class=\"icon-star\"></i>\n",
       " <i class=\"icon-star\"></i>\n",
       " <i class=\"icon-star\"></i>\n",
       " <i class=\"icon-star\"></i>\n",
       " <i class=\"icon-star\"></i>\n",
       " </p>\n",
       " <h3><a href=\"starving-hearts-triangular-trade-trilogy-1_990/index.html\" title=\"Starving Hearts (Triangular Trade Trilogy, #1)\">Starving Hearts (Triangular Trade ...</a></h3>\n",
       " <div class=\"product_price\">\n",
       " <p class=\"price_color\">Â£13.99</p>\n",
       " <p class=\"instock availability\">\n",
       " <i class=\"icon-ok\"></i>\n",
       "     \n",
       "         In stock\n",
       "     \n",
       " </p>\n",
       " <form>\n",
       " <button class=\"btn btn-primary btn-block\" data-loading-text=\"Adding...\" type=\"submit\">Add to basket</button>\n",
       " </form>\n",
       " </div>\n",
       " </article>,\n",
       " <article class=\"product_pod\">\n",
       " <div class=\"image_container\">\n",
       " <a href=\"shakespeares-sonnets_989/index.html\"><img alt=\"Shakespeare's Sonnets\" class=\"thumbnail\" src=\"../media/cache/10/48/1048f63d3b5061cd2f424d20b3f9b666.jpg\"/></a>\n",
       " </div>\n",
       " <p class=\"star-rating Four\">\n",
       " <i class=\"icon-star\"></i>\n",
       " <i class=\"icon-star\"></i>\n",
       " <i class=\"icon-star\"></i>\n",
       " <i class=\"icon-star\"></i>\n",
       " <i class=\"icon-star\"></i>\n",
       " </p>\n",
       " <h3><a href=\"shakespeares-sonnets_989/index.html\" title=\"Shakespeare's Sonnets\">Shakespeare's Sonnets</a></h3>\n",
       " <div class=\"product_price\">\n",
       " <p class=\"price_color\">Â£20.66</p>\n",
       " <p class=\"instock availability\">\n",
       " <i class=\"icon-ok\"></i>\n",
       "     \n",
       "         In stock\n",
       "     \n",
       " </p>\n",
       " <form>\n",
       " <button class=\"btn btn-primary btn-block\" data-loading-text=\"Adding...\" type=\"submit\">Add to basket</button>\n",
       " </form>\n",
       " </div>\n",
       " </article>,\n",
       " <article class=\"product_pod\">\n",
       " <div class=\"image_container\">\n",
       " <a href=\"set-me-free_988/index.html\"><img alt=\"Set Me Free\" class=\"thumbnail\" src=\"../media/cache/5b/88/5b88c52633f53cacf162c15f4f823153.jpg\"/></a>\n",
       " </div>\n",
       " <p class=\"star-rating Five\">\n",
       " <i class=\"icon-star\"></i>\n",
       " <i class=\"icon-star\"></i>\n",
       " <i class=\"icon-star\"></i>\n",
       " <i class=\"icon-star\"></i>\n",
       " <i class=\"icon-star\"></i>\n",
       " </p>\n",
       " <h3><a href=\"set-me-free_988/index.html\" title=\"Set Me Free\">Set Me Free</a></h3>\n",
       " <div class=\"product_price\">\n",
       " <p class=\"price_color\">Â£17.46</p>\n",
       " <p class=\"instock availability\">\n",
       " <i class=\"icon-ok\"></i>\n",
       "     \n",
       "         In stock\n",
       "     \n",
       " </p>\n",
       " <form>\n",
       " <button class=\"btn btn-primary btn-block\" data-loading-text=\"Adding...\" type=\"submit\">Add to basket</button>\n",
       " </form>\n",
       " </div>\n",
       " </article>,\n",
       " <article class=\"product_pod\">\n",
       " <div class=\"image_container\">\n",
       " <a href=\"scott-pilgrims-precious-little-life-scott-pilgrim-1_987/index.html\"><img alt=\"Scott Pilgrim's Precious Little Life (Scott Pilgrim #1)\" class=\"thumbnail\" src=\"../media/cache/94/b1/94b1b8b244bce9677c2f29ccc890d4d2.jpg\"/></a>\n",
       " </div>\n",
       " <p class=\"star-rating Five\">\n",
       " <i class=\"icon-star\"></i>\n",
       " <i class=\"icon-star\"></i>\n",
       " <i class=\"icon-star\"></i>\n",
       " <i class=\"icon-star\"></i>\n",
       " <i class=\"icon-star\"></i>\n",
       " </p>\n",
       " <h3><a href=\"scott-pilgrims-precious-little-life-scott-pilgrim-1_987/index.html\" title=\"Scott Pilgrim's Precious Little Life (Scott Pilgrim #1)\">Scott Pilgrim's Precious Little ...</a></h3>\n",
       " <div class=\"product_price\">\n",
       " <p class=\"price_color\">Â£52.29</p>\n",
       " <p class=\"instock availability\">\n",
       " <i class=\"icon-ok\"></i>\n",
       "     \n",
       "         In stock\n",
       "     \n",
       " </p>\n",
       " <form>\n",
       " <button class=\"btn btn-primary btn-block\" data-loading-text=\"Adding...\" type=\"submit\">Add to basket</button>\n",
       " </form>\n",
       " </div>\n",
       " </article>,\n",
       " <article class=\"product_pod\">\n",
       " <div class=\"image_container\">\n",
       " <a href=\"rip-it-up-and-start-again_986/index.html\"><img alt=\"Rip it Up and Start Again\" class=\"thumbnail\" src=\"../media/cache/81/c4/81c4a973364e17d01f217e1188253d5e.jpg\"/></a>\n",
       " </div>\n",
       " <p class=\"star-rating Five\">\n",
       " <i class=\"icon-star\"></i>\n",
       " <i class=\"icon-star\"></i>\n",
       " <i class=\"icon-star\"></i>\n",
       " <i class=\"icon-star\"></i>\n",
       " <i class=\"icon-star\"></i>\n",
       " </p>\n",
       " <h3><a href=\"rip-it-up-and-start-again_986/index.html\" title=\"Rip it Up and Start Again\">Rip it Up and ...</a></h3>\n",
       " <div class=\"product_price\">\n",
       " <p class=\"price_color\">Â£35.02</p>\n",
       " <p class=\"instock availability\">\n",
       " <i class=\"icon-ok\"></i>\n",
       "     \n",
       "         In stock\n",
       "     \n",
       " </p>\n",
       " <form>\n",
       " <button class=\"btn btn-primary btn-block\" data-loading-text=\"Adding...\" type=\"submit\">Add to basket</button>\n",
       " </form>\n",
       " </div>\n",
       " </article>,\n",
       " <article class=\"product_pod\">\n",
       " <div class=\"image_container\">\n",
       " <a href=\"our-band-could-be-your-life-scenes-from-the-american-indie-underground-1981-1991_985/index.html\"><img alt=\"Our Band Could Be Your Life: Scenes from the American Indie Underground, 1981-1991\" class=\"thumbnail\" src=\"../media/cache/54/60/54607fe8945897cdcced0044103b10b6.jpg\"/></a>\n",
       " </div>\n",
       " <p class=\"star-rating Three\">\n",
       " <i class=\"icon-star\"></i>\n",
       " <i class=\"icon-star\"></i>\n",
       " <i class=\"icon-star\"></i>\n",
       " <i class=\"icon-star\"></i>\n",
       " <i class=\"icon-star\"></i>\n",
       " </p>\n",
       " <h3><a href=\"our-band-could-be-your-life-scenes-from-the-american-indie-underground-1981-1991_985/index.html\" title=\"Our Band Could Be Your Life: Scenes from the American Indie Underground, 1981-1991\">Our Band Could Be ...</a></h3>\n",
       " <div class=\"product_price\">\n",
       " <p class=\"price_color\">Â£57.25</p>\n",
       " <p class=\"instock availability\">\n",
       " <i class=\"icon-ok\"></i>\n",
       "     \n",
       "         In stock\n",
       "     \n",
       " </p>\n",
       " <form>\n",
       " <button class=\"btn btn-primary btn-block\" data-loading-text=\"Adding...\" type=\"submit\">Add to basket</button>\n",
       " </form>\n",
       " </div>\n",
       " </article>,\n",
       " <article class=\"product_pod\">\n",
       " <div class=\"image_container\">\n",
       " <a href=\"olio_984/index.html\"><img alt=\"Olio\" class=\"thumbnail\" src=\"../media/cache/55/33/553310a7162dfbc2c6d19a84da0df9e1.jpg\"/></a>\n",
       " </div>\n",
       " <p class=\"star-rating One\">\n",
       " <i class=\"icon-star\"></i>\n",
       " <i class=\"icon-star\"></i>\n",
       " <i class=\"icon-star\"></i>\n",
       " <i class=\"icon-star\"></i>\n",
       " <i class=\"icon-star\"></i>\n",
       " </p>\n",
       " <h3><a href=\"olio_984/index.html\" title=\"Olio\">Olio</a></h3>\n",
       " <div class=\"product_price\">\n",
       " <p class=\"price_color\">Â£23.88</p>\n",
       " <p class=\"instock availability\">\n",
       " <i class=\"icon-ok\"></i>\n",
       "     \n",
       "         In stock\n",
       "     \n",
       " </p>\n",
       " <form>\n",
       " <button class=\"btn btn-primary btn-block\" data-loading-text=\"Adding...\" type=\"submit\">Add to basket</button>\n",
       " </form>\n",
       " </div>\n",
       " </article>,\n",
       " <article class=\"product_pod\">\n",
       " <div class=\"image_container\">\n",
       " <a href=\"mesaerion-the-best-science-fiction-stories-1800-1849_983/index.html\"><img alt=\"Mesaerion: The Best Science Fiction Stories 1800-1849\" class=\"thumbnail\" src=\"../media/cache/09/a3/09a3aef48557576e1a85ba7efea8ecb7.jpg\"/></a>\n",
       " </div>\n",
       " <p class=\"star-rating One\">\n",
       " <i class=\"icon-star\"></i>\n",
       " <i class=\"icon-star\"></i>\n",
       " <i class=\"icon-star\"></i>\n",
       " <i class=\"icon-star\"></i>\n",
       " <i class=\"icon-star\"></i>\n",
       " </p>\n",
       " <h3><a href=\"mesaerion-the-best-science-fiction-stories-1800-1849_983/index.html\" title=\"Mesaerion: The Best Science Fiction Stories 1800-1849\">Mesaerion: The Best Science ...</a></h3>\n",
       " <div class=\"product_price\">\n",
       " <p class=\"price_color\">Â£37.59</p>\n",
       " <p class=\"instock availability\">\n",
       " <i class=\"icon-ok\"></i>\n",
       "     \n",
       "         In stock\n",
       "     \n",
       " </p>\n",
       " <form>\n",
       " <button class=\"btn btn-primary btn-block\" data-loading-text=\"Adding...\" type=\"submit\">Add to basket</button>\n",
       " </form>\n",
       " </div>\n",
       " </article>,\n",
       " <article class=\"product_pod\">\n",
       " <div class=\"image_container\">\n",
       " <a href=\"libertarianism-for-beginners_982/index.html\"><img alt=\"Libertarianism for Beginners\" class=\"thumbnail\" src=\"../media/cache/0b/bc/0bbcd0a6f4bcd81ccb1049a52736406e.jpg\"/></a>\n",
       " </div>\n",
       " <p class=\"star-rating Two\">\n",
       " <i class=\"icon-star\"></i>\n",
       " <i class=\"icon-star\"></i>\n",
       " <i class=\"icon-star\"></i>\n",
       " <i class=\"icon-star\"></i>\n",
       " <i class=\"icon-star\"></i>\n",
       " </p>\n",
       " <h3><a href=\"libertarianism-for-beginners_982/index.html\" title=\"Libertarianism for Beginners\">Libertarianism for Beginners</a></h3>\n",
       " <div class=\"product_price\">\n",
       " <p class=\"price_color\">Â£51.33</p>\n",
       " <p class=\"instock availability\">\n",
       " <i class=\"icon-ok\"></i>\n",
       "     \n",
       "         In stock\n",
       "     \n",
       " </p>\n",
       " <form>\n",
       " <button class=\"btn btn-primary btn-block\" data-loading-text=\"Adding...\" type=\"submit\">Add to basket</button>\n",
       " </form>\n",
       " </div>\n",
       " </article>,\n",
       " <article class=\"product_pod\">\n",
       " <div class=\"image_container\">\n",
       " <a href=\"its-only-the-himalayas_981/index.html\"><img alt=\"It's Only the Himalayas\" class=\"thumbnail\" src=\"../media/cache/27/a5/27a53d0bb95bdd88288eaf66c9230d7e.jpg\"/></a>\n",
       " </div>\n",
       " <p class=\"star-rating Two\">\n",
       " <i class=\"icon-star\"></i>\n",
       " <i class=\"icon-star\"></i>\n",
       " <i class=\"icon-star\"></i>\n",
       " <i class=\"icon-star\"></i>\n",
       " <i class=\"icon-star\"></i>\n",
       " </p>\n",
       " <h3><a href=\"its-only-the-himalayas_981/index.html\" title=\"It's Only the Himalayas\">It's Only the Himalayas</a></h3>\n",
       " <div class=\"product_price\">\n",
       " <p class=\"price_color\">Â£45.17</p>\n",
       " <p class=\"instock availability\">\n",
       " <i class=\"icon-ok\"></i>\n",
       "     \n",
       "         In stock\n",
       "     \n",
       " </p>\n",
       " <form>\n",
       " <button class=\"btn btn-primary btn-block\" data-loading-text=\"Adding...\" type=\"submit\">Add to basket</button>\n",
       " </form>\n",
       " </div>\n",
       " </article>]"
      ]
     },
     "execution_count": 14,
     "metadata": {},
     "output_type": "execute_result"
    }
   ],
   "source": [
    "soup.select('.product_pod')"
   ]
  },
  {
   "cell_type": "code",
   "execution_count": 15,
   "id": "8ca60097",
   "metadata": {},
   "outputs": [
    {
     "data": {
      "text/plain": [
       "20"
      ]
     },
     "execution_count": 15,
     "metadata": {},
     "output_type": "execute_result"
    }
   ],
   "source": [
    "len(soup.select('.product_pod'))\n",
    "# 20 books"
   ]
  },
  {
   "cell_type": "code",
   "execution_count": 16,
   "id": "2be11c7a",
   "metadata": {},
   "outputs": [],
   "source": [
    "products = soup.select('.product_pod')"
   ]
  },
  {
   "cell_type": "code",
   "execution_count": 17,
   "id": "10395a46",
   "metadata": {
    "scrolled": true
   },
   "outputs": [
    {
     "data": {
      "text/plain": [
       "[<article class=\"product_pod\">\n",
       " <div class=\"image_container\">\n",
       " <a href=\"a-light-in-the-attic_1000/index.html\"><img alt=\"A Light in the Attic\" class=\"thumbnail\" src=\"../media/cache/2c/da/2cdad67c44b002e7ead0cc35693c0e8b.jpg\"/></a>\n",
       " </div>\n",
       " <p class=\"star-rating Three\">\n",
       " <i class=\"icon-star\"></i>\n",
       " <i class=\"icon-star\"></i>\n",
       " <i class=\"icon-star\"></i>\n",
       " <i class=\"icon-star\"></i>\n",
       " <i class=\"icon-star\"></i>\n",
       " </p>\n",
       " <h3><a href=\"a-light-in-the-attic_1000/index.html\" title=\"A Light in the Attic\">A Light in the ...</a></h3>\n",
       " <div class=\"product_price\">\n",
       " <p class=\"price_color\">Â£51.77</p>\n",
       " <p class=\"instock availability\">\n",
       " <i class=\"icon-ok\"></i>\n",
       "     \n",
       "         In stock\n",
       "     \n",
       " </p>\n",
       " <form>\n",
       " <button class=\"btn btn-primary btn-block\" data-loading-text=\"Adding...\" type=\"submit\">Add to basket</button>\n",
       " </form>\n",
       " </div>\n",
       " </article>,\n",
       " <article class=\"product_pod\">\n",
       " <div class=\"image_container\">\n",
       " <a href=\"tipping-the-velvet_999/index.html\"><img alt=\"Tipping the Velvet\" class=\"thumbnail\" src=\"../media/cache/26/0c/260c6ae16bce31c8f8c95daddd9f4a1c.jpg\"/></a>\n",
       " </div>\n",
       " <p class=\"star-rating One\">\n",
       " <i class=\"icon-star\"></i>\n",
       " <i class=\"icon-star\"></i>\n",
       " <i class=\"icon-star\"></i>\n",
       " <i class=\"icon-star\"></i>\n",
       " <i class=\"icon-star\"></i>\n",
       " </p>\n",
       " <h3><a href=\"tipping-the-velvet_999/index.html\" title=\"Tipping the Velvet\">Tipping the Velvet</a></h3>\n",
       " <div class=\"product_price\">\n",
       " <p class=\"price_color\">Â£53.74</p>\n",
       " <p class=\"instock availability\">\n",
       " <i class=\"icon-ok\"></i>\n",
       "     \n",
       "         In stock\n",
       "     \n",
       " </p>\n",
       " <form>\n",
       " <button class=\"btn btn-primary btn-block\" data-loading-text=\"Adding...\" type=\"submit\">Add to basket</button>\n",
       " </form>\n",
       " </div>\n",
       " </article>,\n",
       " <article class=\"product_pod\">\n",
       " <div class=\"image_container\">\n",
       " <a href=\"soumission_998/index.html\"><img alt=\"Soumission\" class=\"thumbnail\" src=\"../media/cache/3e/ef/3eef99c9d9adef34639f510662022830.jpg\"/></a>\n",
       " </div>\n",
       " <p class=\"star-rating One\">\n",
       " <i class=\"icon-star\"></i>\n",
       " <i class=\"icon-star\"></i>\n",
       " <i class=\"icon-star\"></i>\n",
       " <i class=\"icon-star\"></i>\n",
       " <i class=\"icon-star\"></i>\n",
       " </p>\n",
       " <h3><a href=\"soumission_998/index.html\" title=\"Soumission\">Soumission</a></h3>\n",
       " <div class=\"product_price\">\n",
       " <p class=\"price_color\">Â£50.10</p>\n",
       " <p class=\"instock availability\">\n",
       " <i class=\"icon-ok\"></i>\n",
       "     \n",
       "         In stock\n",
       "     \n",
       " </p>\n",
       " <form>\n",
       " <button class=\"btn btn-primary btn-block\" data-loading-text=\"Adding...\" type=\"submit\">Add to basket</button>\n",
       " </form>\n",
       " </div>\n",
       " </article>,\n",
       " <article class=\"product_pod\">\n",
       " <div class=\"image_container\">\n",
       " <a href=\"sharp-objects_997/index.html\"><img alt=\"Sharp Objects\" class=\"thumbnail\" src=\"../media/cache/32/51/3251cf3a3412f53f339e42cac2134093.jpg\"/></a>\n",
       " </div>\n",
       " <p class=\"star-rating Four\">\n",
       " <i class=\"icon-star\"></i>\n",
       " <i class=\"icon-star\"></i>\n",
       " <i class=\"icon-star\"></i>\n",
       " <i class=\"icon-star\"></i>\n",
       " <i class=\"icon-star\"></i>\n",
       " </p>\n",
       " <h3><a href=\"sharp-objects_997/index.html\" title=\"Sharp Objects\">Sharp Objects</a></h3>\n",
       " <div class=\"product_price\">\n",
       " <p class=\"price_color\">Â£47.82</p>\n",
       " <p class=\"instock availability\">\n",
       " <i class=\"icon-ok\"></i>\n",
       "     \n",
       "         In stock\n",
       "     \n",
       " </p>\n",
       " <form>\n",
       " <button class=\"btn btn-primary btn-block\" data-loading-text=\"Adding...\" type=\"submit\">Add to basket</button>\n",
       " </form>\n",
       " </div>\n",
       " </article>,\n",
       " <article class=\"product_pod\">\n",
       " <div class=\"image_container\">\n",
       " <a href=\"sapiens-a-brief-history-of-humankind_996/index.html\"><img alt=\"Sapiens: A Brief History of Humankind\" class=\"thumbnail\" src=\"../media/cache/be/a5/bea5697f2534a2f86a3ef27b5a8c12a6.jpg\"/></a>\n",
       " </div>\n",
       " <p class=\"star-rating Five\">\n",
       " <i class=\"icon-star\"></i>\n",
       " <i class=\"icon-star\"></i>\n",
       " <i class=\"icon-star\"></i>\n",
       " <i class=\"icon-star\"></i>\n",
       " <i class=\"icon-star\"></i>\n",
       " </p>\n",
       " <h3><a href=\"sapiens-a-brief-history-of-humankind_996/index.html\" title=\"Sapiens: A Brief History of Humankind\">Sapiens: A Brief History ...</a></h3>\n",
       " <div class=\"product_price\">\n",
       " <p class=\"price_color\">Â£54.23</p>\n",
       " <p class=\"instock availability\">\n",
       " <i class=\"icon-ok\"></i>\n",
       "     \n",
       "         In stock\n",
       "     \n",
       " </p>\n",
       " <form>\n",
       " <button class=\"btn btn-primary btn-block\" data-loading-text=\"Adding...\" type=\"submit\">Add to basket</button>\n",
       " </form>\n",
       " </div>\n",
       " </article>,\n",
       " <article class=\"product_pod\">\n",
       " <div class=\"image_container\">\n",
       " <a href=\"the-requiem-red_995/index.html\"><img alt=\"The Requiem Red\" class=\"thumbnail\" src=\"../media/cache/68/33/68339b4c9bc034267e1da611ab3b34f8.jpg\"/></a>\n",
       " </div>\n",
       " <p class=\"star-rating One\">\n",
       " <i class=\"icon-star\"></i>\n",
       " <i class=\"icon-star\"></i>\n",
       " <i class=\"icon-star\"></i>\n",
       " <i class=\"icon-star\"></i>\n",
       " <i class=\"icon-star\"></i>\n",
       " </p>\n",
       " <h3><a href=\"the-requiem-red_995/index.html\" title=\"The Requiem Red\">The Requiem Red</a></h3>\n",
       " <div class=\"product_price\">\n",
       " <p class=\"price_color\">Â£22.65</p>\n",
       " <p class=\"instock availability\">\n",
       " <i class=\"icon-ok\"></i>\n",
       "     \n",
       "         In stock\n",
       "     \n",
       " </p>\n",
       " <form>\n",
       " <button class=\"btn btn-primary btn-block\" data-loading-text=\"Adding...\" type=\"submit\">Add to basket</button>\n",
       " </form>\n",
       " </div>\n",
       " </article>,\n",
       " <article class=\"product_pod\">\n",
       " <div class=\"image_container\">\n",
       " <a href=\"the-dirty-little-secrets-of-getting-your-dream-job_994/index.html\"><img alt=\"The Dirty Little Secrets of Getting Your Dream Job\" class=\"thumbnail\" src=\"../media/cache/92/27/92274a95b7c251fea59a2b8a78275ab4.jpg\"/></a>\n",
       " </div>\n",
       " <p class=\"star-rating Four\">\n",
       " <i class=\"icon-star\"></i>\n",
       " <i class=\"icon-star\"></i>\n",
       " <i class=\"icon-star\"></i>\n",
       " <i class=\"icon-star\"></i>\n",
       " <i class=\"icon-star\"></i>\n",
       " </p>\n",
       " <h3><a href=\"the-dirty-little-secrets-of-getting-your-dream-job_994/index.html\" title=\"The Dirty Little Secrets of Getting Your Dream Job\">The Dirty Little Secrets ...</a></h3>\n",
       " <div class=\"product_price\">\n",
       " <p class=\"price_color\">Â£33.34</p>\n",
       " <p class=\"instock availability\">\n",
       " <i class=\"icon-ok\"></i>\n",
       "     \n",
       "         In stock\n",
       "     \n",
       " </p>\n",
       " <form>\n",
       " <button class=\"btn btn-primary btn-block\" data-loading-text=\"Adding...\" type=\"submit\">Add to basket</button>\n",
       " </form>\n",
       " </div>\n",
       " </article>,\n",
       " <article class=\"product_pod\">\n",
       " <div class=\"image_container\">\n",
       " <a href=\"the-coming-woman-a-novel-based-on-the-life-of-the-infamous-feminist-victoria-woodhull_993/index.html\"><img alt=\"The Coming Woman: A Novel Based on the Life of the Infamous Feminist, Victoria Woodhull\" class=\"thumbnail\" src=\"../media/cache/3d/54/3d54940e57e662c4dd1f3ff00c78cc64.jpg\"/></a>\n",
       " </div>\n",
       " <p class=\"star-rating Three\">\n",
       " <i class=\"icon-star\"></i>\n",
       " <i class=\"icon-star\"></i>\n",
       " <i class=\"icon-star\"></i>\n",
       " <i class=\"icon-star\"></i>\n",
       " <i class=\"icon-star\"></i>\n",
       " </p>\n",
       " <h3><a href=\"the-coming-woman-a-novel-based-on-the-life-of-the-infamous-feminist-victoria-woodhull_993/index.html\" title=\"The Coming Woman: A Novel Based on the Life of the Infamous Feminist, Victoria Woodhull\">The Coming Woman: A ...</a></h3>\n",
       " <div class=\"product_price\">\n",
       " <p class=\"price_color\">Â£17.93</p>\n",
       " <p class=\"instock availability\">\n",
       " <i class=\"icon-ok\"></i>\n",
       "     \n",
       "         In stock\n",
       "     \n",
       " </p>\n",
       " <form>\n",
       " <button class=\"btn btn-primary btn-block\" data-loading-text=\"Adding...\" type=\"submit\">Add to basket</button>\n",
       " </form>\n",
       " </div>\n",
       " </article>,\n",
       " <article class=\"product_pod\">\n",
       " <div class=\"image_container\">\n",
       " <a href=\"the-boys-in-the-boat-nine-americans-and-their-epic-quest-for-gold-at-the-1936-berlin-olympics_992/index.html\"><img alt=\"The Boys in the Boat: Nine Americans and Their Epic Quest for Gold at the 1936 Berlin Olympics\" class=\"thumbnail\" src=\"../media/cache/66/88/66883b91f6804b2323c8369331cb7dd1.jpg\"/></a>\n",
       " </div>\n",
       " <p class=\"star-rating Four\">\n",
       " <i class=\"icon-star\"></i>\n",
       " <i class=\"icon-star\"></i>\n",
       " <i class=\"icon-star\"></i>\n",
       " <i class=\"icon-star\"></i>\n",
       " <i class=\"icon-star\"></i>\n",
       " </p>\n",
       " <h3><a href=\"the-boys-in-the-boat-nine-americans-and-their-epic-quest-for-gold-at-the-1936-berlin-olympics_992/index.html\" title=\"The Boys in the Boat: Nine Americans and Their Epic Quest for Gold at the 1936 Berlin Olympics\">The Boys in the ...</a></h3>\n",
       " <div class=\"product_price\">\n",
       " <p class=\"price_color\">Â£22.60</p>\n",
       " <p class=\"instock availability\">\n",
       " <i class=\"icon-ok\"></i>\n",
       "     \n",
       "         In stock\n",
       "     \n",
       " </p>\n",
       " <form>\n",
       " <button class=\"btn btn-primary btn-block\" data-loading-text=\"Adding...\" type=\"submit\">Add to basket</button>\n",
       " </form>\n",
       " </div>\n",
       " </article>,\n",
       " <article class=\"product_pod\">\n",
       " <div class=\"image_container\">\n",
       " <a href=\"the-black-maria_991/index.html\"><img alt=\"The Black Maria\" class=\"thumbnail\" src=\"../media/cache/58/46/5846057e28022268153beff6d352b06c.jpg\"/></a>\n",
       " </div>\n",
       " <p class=\"star-rating One\">\n",
       " <i class=\"icon-star\"></i>\n",
       " <i class=\"icon-star\"></i>\n",
       " <i class=\"icon-star\"></i>\n",
       " <i class=\"icon-star\"></i>\n",
       " <i class=\"icon-star\"></i>\n",
       " </p>\n",
       " <h3><a href=\"the-black-maria_991/index.html\" title=\"The Black Maria\">The Black Maria</a></h3>\n",
       " <div class=\"product_price\">\n",
       " <p class=\"price_color\">Â£52.15</p>\n",
       " <p class=\"instock availability\">\n",
       " <i class=\"icon-ok\"></i>\n",
       "     \n",
       "         In stock\n",
       "     \n",
       " </p>\n",
       " <form>\n",
       " <button class=\"btn btn-primary btn-block\" data-loading-text=\"Adding...\" type=\"submit\">Add to basket</button>\n",
       " </form>\n",
       " </div>\n",
       " </article>,\n",
       " <article class=\"product_pod\">\n",
       " <div class=\"image_container\">\n",
       " <a href=\"starving-hearts-triangular-trade-trilogy-1_990/index.html\"><img alt=\"Starving Hearts (Triangular Trade Trilogy, #1)\" class=\"thumbnail\" src=\"../media/cache/be/f4/bef44da28c98f905a3ebec0b87be8530.jpg\"/></a>\n",
       " </div>\n",
       " <p class=\"star-rating Two\">\n",
       " <i class=\"icon-star\"></i>\n",
       " <i class=\"icon-star\"></i>\n",
       " <i class=\"icon-star\"></i>\n",
       " <i class=\"icon-star\"></i>\n",
       " <i class=\"icon-star\"></i>\n",
       " </p>\n",
       " <h3><a href=\"starving-hearts-triangular-trade-trilogy-1_990/index.html\" title=\"Starving Hearts (Triangular Trade Trilogy, #1)\">Starving Hearts (Triangular Trade ...</a></h3>\n",
       " <div class=\"product_price\">\n",
       " <p class=\"price_color\">Â£13.99</p>\n",
       " <p class=\"instock availability\">\n",
       " <i class=\"icon-ok\"></i>\n",
       "     \n",
       "         In stock\n",
       "     \n",
       " </p>\n",
       " <form>\n",
       " <button class=\"btn btn-primary btn-block\" data-loading-text=\"Adding...\" type=\"submit\">Add to basket</button>\n",
       " </form>\n",
       " </div>\n",
       " </article>,\n",
       " <article class=\"product_pod\">\n",
       " <div class=\"image_container\">\n",
       " <a href=\"shakespeares-sonnets_989/index.html\"><img alt=\"Shakespeare's Sonnets\" class=\"thumbnail\" src=\"../media/cache/10/48/1048f63d3b5061cd2f424d20b3f9b666.jpg\"/></a>\n",
       " </div>\n",
       " <p class=\"star-rating Four\">\n",
       " <i class=\"icon-star\"></i>\n",
       " <i class=\"icon-star\"></i>\n",
       " <i class=\"icon-star\"></i>\n",
       " <i class=\"icon-star\"></i>\n",
       " <i class=\"icon-star\"></i>\n",
       " </p>\n",
       " <h3><a href=\"shakespeares-sonnets_989/index.html\" title=\"Shakespeare's Sonnets\">Shakespeare's Sonnets</a></h3>\n",
       " <div class=\"product_price\">\n",
       " <p class=\"price_color\">Â£20.66</p>\n",
       " <p class=\"instock availability\">\n",
       " <i class=\"icon-ok\"></i>\n",
       "     \n",
       "         In stock\n",
       "     \n",
       " </p>\n",
       " <form>\n",
       " <button class=\"btn btn-primary btn-block\" data-loading-text=\"Adding...\" type=\"submit\">Add to basket</button>\n",
       " </form>\n",
       " </div>\n",
       " </article>,\n",
       " <article class=\"product_pod\">\n",
       " <div class=\"image_container\">\n",
       " <a href=\"set-me-free_988/index.html\"><img alt=\"Set Me Free\" class=\"thumbnail\" src=\"../media/cache/5b/88/5b88c52633f53cacf162c15f4f823153.jpg\"/></a>\n",
       " </div>\n",
       " <p class=\"star-rating Five\">\n",
       " <i class=\"icon-star\"></i>\n",
       " <i class=\"icon-star\"></i>\n",
       " <i class=\"icon-star\"></i>\n",
       " <i class=\"icon-star\"></i>\n",
       " <i class=\"icon-star\"></i>\n",
       " </p>\n",
       " <h3><a href=\"set-me-free_988/index.html\" title=\"Set Me Free\">Set Me Free</a></h3>\n",
       " <div class=\"product_price\">\n",
       " <p class=\"price_color\">Â£17.46</p>\n",
       " <p class=\"instock availability\">\n",
       " <i class=\"icon-ok\"></i>\n",
       "     \n",
       "         In stock\n",
       "     \n",
       " </p>\n",
       " <form>\n",
       " <button class=\"btn btn-primary btn-block\" data-loading-text=\"Adding...\" type=\"submit\">Add to basket</button>\n",
       " </form>\n",
       " </div>\n",
       " </article>,\n",
       " <article class=\"product_pod\">\n",
       " <div class=\"image_container\">\n",
       " <a href=\"scott-pilgrims-precious-little-life-scott-pilgrim-1_987/index.html\"><img alt=\"Scott Pilgrim's Precious Little Life (Scott Pilgrim #1)\" class=\"thumbnail\" src=\"../media/cache/94/b1/94b1b8b244bce9677c2f29ccc890d4d2.jpg\"/></a>\n",
       " </div>\n",
       " <p class=\"star-rating Five\">\n",
       " <i class=\"icon-star\"></i>\n",
       " <i class=\"icon-star\"></i>\n",
       " <i class=\"icon-star\"></i>\n",
       " <i class=\"icon-star\"></i>\n",
       " <i class=\"icon-star\"></i>\n",
       " </p>\n",
       " <h3><a href=\"scott-pilgrims-precious-little-life-scott-pilgrim-1_987/index.html\" title=\"Scott Pilgrim's Precious Little Life (Scott Pilgrim #1)\">Scott Pilgrim's Precious Little ...</a></h3>\n",
       " <div class=\"product_price\">\n",
       " <p class=\"price_color\">Â£52.29</p>\n",
       " <p class=\"instock availability\">\n",
       " <i class=\"icon-ok\"></i>\n",
       "     \n",
       "         In stock\n",
       "     \n",
       " </p>\n",
       " <form>\n",
       " <button class=\"btn btn-primary btn-block\" data-loading-text=\"Adding...\" type=\"submit\">Add to basket</button>\n",
       " </form>\n",
       " </div>\n",
       " </article>,\n",
       " <article class=\"product_pod\">\n",
       " <div class=\"image_container\">\n",
       " <a href=\"rip-it-up-and-start-again_986/index.html\"><img alt=\"Rip it Up and Start Again\" class=\"thumbnail\" src=\"../media/cache/81/c4/81c4a973364e17d01f217e1188253d5e.jpg\"/></a>\n",
       " </div>\n",
       " <p class=\"star-rating Five\">\n",
       " <i class=\"icon-star\"></i>\n",
       " <i class=\"icon-star\"></i>\n",
       " <i class=\"icon-star\"></i>\n",
       " <i class=\"icon-star\"></i>\n",
       " <i class=\"icon-star\"></i>\n",
       " </p>\n",
       " <h3><a href=\"rip-it-up-and-start-again_986/index.html\" title=\"Rip it Up and Start Again\">Rip it Up and ...</a></h3>\n",
       " <div class=\"product_price\">\n",
       " <p class=\"price_color\">Â£35.02</p>\n",
       " <p class=\"instock availability\">\n",
       " <i class=\"icon-ok\"></i>\n",
       "     \n",
       "         In stock\n",
       "     \n",
       " </p>\n",
       " <form>\n",
       " <button class=\"btn btn-primary btn-block\" data-loading-text=\"Adding...\" type=\"submit\">Add to basket</button>\n",
       " </form>\n",
       " </div>\n",
       " </article>,\n",
       " <article class=\"product_pod\">\n",
       " <div class=\"image_container\">\n",
       " <a href=\"our-band-could-be-your-life-scenes-from-the-american-indie-underground-1981-1991_985/index.html\"><img alt=\"Our Band Could Be Your Life: Scenes from the American Indie Underground, 1981-1991\" class=\"thumbnail\" src=\"../media/cache/54/60/54607fe8945897cdcced0044103b10b6.jpg\"/></a>\n",
       " </div>\n",
       " <p class=\"star-rating Three\">\n",
       " <i class=\"icon-star\"></i>\n",
       " <i class=\"icon-star\"></i>\n",
       " <i class=\"icon-star\"></i>\n",
       " <i class=\"icon-star\"></i>\n",
       " <i class=\"icon-star\"></i>\n",
       " </p>\n",
       " <h3><a href=\"our-band-could-be-your-life-scenes-from-the-american-indie-underground-1981-1991_985/index.html\" title=\"Our Band Could Be Your Life: Scenes from the American Indie Underground, 1981-1991\">Our Band Could Be ...</a></h3>\n",
       " <div class=\"product_price\">\n",
       " <p class=\"price_color\">Â£57.25</p>\n",
       " <p class=\"instock availability\">\n",
       " <i class=\"icon-ok\"></i>\n",
       "     \n",
       "         In stock\n",
       "     \n",
       " </p>\n",
       " <form>\n",
       " <button class=\"btn btn-primary btn-block\" data-loading-text=\"Adding...\" type=\"submit\">Add to basket</button>\n",
       " </form>\n",
       " </div>\n",
       " </article>,\n",
       " <article class=\"product_pod\">\n",
       " <div class=\"image_container\">\n",
       " <a href=\"olio_984/index.html\"><img alt=\"Olio\" class=\"thumbnail\" src=\"../media/cache/55/33/553310a7162dfbc2c6d19a84da0df9e1.jpg\"/></a>\n",
       " </div>\n",
       " <p class=\"star-rating One\">\n",
       " <i class=\"icon-star\"></i>\n",
       " <i class=\"icon-star\"></i>\n",
       " <i class=\"icon-star\"></i>\n",
       " <i class=\"icon-star\"></i>\n",
       " <i class=\"icon-star\"></i>\n",
       " </p>\n",
       " <h3><a href=\"olio_984/index.html\" title=\"Olio\">Olio</a></h3>\n",
       " <div class=\"product_price\">\n",
       " <p class=\"price_color\">Â£23.88</p>\n",
       " <p class=\"instock availability\">\n",
       " <i class=\"icon-ok\"></i>\n",
       "     \n",
       "         In stock\n",
       "     \n",
       " </p>\n",
       " <form>\n",
       " <button class=\"btn btn-primary btn-block\" data-loading-text=\"Adding...\" type=\"submit\">Add to basket</button>\n",
       " </form>\n",
       " </div>\n",
       " </article>,\n",
       " <article class=\"product_pod\">\n",
       " <div class=\"image_container\">\n",
       " <a href=\"mesaerion-the-best-science-fiction-stories-1800-1849_983/index.html\"><img alt=\"Mesaerion: The Best Science Fiction Stories 1800-1849\" class=\"thumbnail\" src=\"../media/cache/09/a3/09a3aef48557576e1a85ba7efea8ecb7.jpg\"/></a>\n",
       " </div>\n",
       " <p class=\"star-rating One\">\n",
       " <i class=\"icon-star\"></i>\n",
       " <i class=\"icon-star\"></i>\n",
       " <i class=\"icon-star\"></i>\n",
       " <i class=\"icon-star\"></i>\n",
       " <i class=\"icon-star\"></i>\n",
       " </p>\n",
       " <h3><a href=\"mesaerion-the-best-science-fiction-stories-1800-1849_983/index.html\" title=\"Mesaerion: The Best Science Fiction Stories 1800-1849\">Mesaerion: The Best Science ...</a></h3>\n",
       " <div class=\"product_price\">\n",
       " <p class=\"price_color\">Â£37.59</p>\n",
       " <p class=\"instock availability\">\n",
       " <i class=\"icon-ok\"></i>\n",
       "     \n",
       "         In stock\n",
       "     \n",
       " </p>\n",
       " <form>\n",
       " <button class=\"btn btn-primary btn-block\" data-loading-text=\"Adding...\" type=\"submit\">Add to basket</button>\n",
       " </form>\n",
       " </div>\n",
       " </article>,\n",
       " <article class=\"product_pod\">\n",
       " <div class=\"image_container\">\n",
       " <a href=\"libertarianism-for-beginners_982/index.html\"><img alt=\"Libertarianism for Beginners\" class=\"thumbnail\" src=\"../media/cache/0b/bc/0bbcd0a6f4bcd81ccb1049a52736406e.jpg\"/></a>\n",
       " </div>\n",
       " <p class=\"star-rating Two\">\n",
       " <i class=\"icon-star\"></i>\n",
       " <i class=\"icon-star\"></i>\n",
       " <i class=\"icon-star\"></i>\n",
       " <i class=\"icon-star\"></i>\n",
       " <i class=\"icon-star\"></i>\n",
       " </p>\n",
       " <h3><a href=\"libertarianism-for-beginners_982/index.html\" title=\"Libertarianism for Beginners\">Libertarianism for Beginners</a></h3>\n",
       " <div class=\"product_price\">\n",
       " <p class=\"price_color\">Â£51.33</p>\n",
       " <p class=\"instock availability\">\n",
       " <i class=\"icon-ok\"></i>\n",
       "     \n",
       "         In stock\n",
       "     \n",
       " </p>\n",
       " <form>\n",
       " <button class=\"btn btn-primary btn-block\" data-loading-text=\"Adding...\" type=\"submit\">Add to basket</button>\n",
       " </form>\n",
       " </div>\n",
       " </article>,\n",
       " <article class=\"product_pod\">\n",
       " <div class=\"image_container\">\n",
       " <a href=\"its-only-the-himalayas_981/index.html\"><img alt=\"It's Only the Himalayas\" class=\"thumbnail\" src=\"../media/cache/27/a5/27a53d0bb95bdd88288eaf66c9230d7e.jpg\"/></a>\n",
       " </div>\n",
       " <p class=\"star-rating Two\">\n",
       " <i class=\"icon-star\"></i>\n",
       " <i class=\"icon-star\"></i>\n",
       " <i class=\"icon-star\"></i>\n",
       " <i class=\"icon-star\"></i>\n",
       " <i class=\"icon-star\"></i>\n",
       " </p>\n",
       " <h3><a href=\"its-only-the-himalayas_981/index.html\" title=\"It's Only the Himalayas\">It's Only the Himalayas</a></h3>\n",
       " <div class=\"product_price\">\n",
       " <p class=\"price_color\">Â£45.17</p>\n",
       " <p class=\"instock availability\">\n",
       " <i class=\"icon-ok\"></i>\n",
       "     \n",
       "         In stock\n",
       "     \n",
       " </p>\n",
       " <form>\n",
       " <button class=\"btn btn-primary btn-block\" data-loading-text=\"Adding...\" type=\"submit\">Add to basket</button>\n",
       " </form>\n",
       " </div>\n",
       " </article>]"
      ]
     },
     "execution_count": 17,
     "metadata": {},
     "output_type": "execute_result"
    }
   ],
   "source": [
    "products"
   ]
  },
  {
   "cell_type": "code",
   "execution_count": null,
   "id": "94bebae5",
   "metadata": {},
   "outputs": [],
   "source": []
  },
  {
   "cell_type": "code",
   "execution_count": 18,
   "id": "72d8dda9",
   "metadata": {},
   "outputs": [
    {
     "data": {
      "text/plain": [
       "<article class=\"product_pod\">\n",
       "<div class=\"image_container\">\n",
       "<a href=\"a-light-in-the-attic_1000/index.html\"><img alt=\"A Light in the Attic\" class=\"thumbnail\" src=\"../media/cache/2c/da/2cdad67c44b002e7ead0cc35693c0e8b.jpg\"/></a>\n",
       "</div>\n",
       "<p class=\"star-rating Three\">\n",
       "<i class=\"icon-star\"></i>\n",
       "<i class=\"icon-star\"></i>\n",
       "<i class=\"icon-star\"></i>\n",
       "<i class=\"icon-star\"></i>\n",
       "<i class=\"icon-star\"></i>\n",
       "</p>\n",
       "<h3><a href=\"a-light-in-the-attic_1000/index.html\" title=\"A Light in the Attic\">A Light in the ...</a></h3>\n",
       "<div class=\"product_price\">\n",
       "<p class=\"price_color\">Â£51.77</p>\n",
       "<p class=\"instock availability\">\n",
       "<i class=\"icon-ok\"></i>\n",
       "    \n",
       "        In stock\n",
       "    \n",
       "</p>\n",
       "<form>\n",
       "<button class=\"btn btn-primary btn-block\" data-loading-text=\"Adding...\" type=\"submit\">Add to basket</button>\n",
       "</form>\n",
       "</div>\n",
       "</article>"
      ]
     },
     "execution_count": 18,
     "metadata": {},
     "output_type": "execute_result"
    }
   ],
   "source": [
    "products[0]\n",
    "# <p class=\"star-rating Three\">"
   ]
  },
  {
   "cell_type": "code",
   "execution_count": 19,
   "id": "38a89dc8",
   "metadata": {},
   "outputs": [
    {
     "data": {
      "text/plain": [
       "bs4.element.Tag"
      ]
     },
     "execution_count": 19,
     "metadata": {},
     "output_type": "execute_result"
    }
   ],
   "source": [
    "# Not a Good Method -->>>\n",
    "example = products[0]\n",
    "str(example)\n",
    "type(example)"
   ]
  },
  {
   "cell_type": "code",
   "execution_count": null,
   "id": "6f16f124",
   "metadata": {},
   "outputs": [],
   "source": []
  },
  {
   "cell_type": "code",
   "execution_count": 20,
   "id": "24b64634",
   "metadata": {},
   "outputs": [
    {
     "data": {
      "text/plain": [
       "False"
      ]
     },
     "execution_count": 20,
     "metadata": {},
     "output_type": "execute_result"
    }
   ],
   "source": [
    "'star-rating Three' in example"
   ]
  },
  {
   "cell_type": "code",
   "execution_count": 21,
   "id": "3c5f9868",
   "metadata": {},
   "outputs": [
    {
     "data": {
      "text/plain": [
       "True"
      ]
     },
     "execution_count": 21,
     "metadata": {},
     "output_type": "execute_result"
    }
   ],
   "source": [
    "'star-rating Three' in str(example)"
   ]
  },
  {
   "cell_type": "code",
   "execution_count": 22,
   "id": "1e7847fd",
   "metadata": {},
   "outputs": [
    {
     "data": {
      "text/plain": [
       "False"
      ]
     },
     "execution_count": 22,
     "metadata": {},
     "output_type": "execute_result"
    }
   ],
   "source": [
    "'star-rating Two' in str(example)"
   ]
  },
  {
   "cell_type": "code",
   "execution_count": 23,
   "id": "ed405300",
   "metadata": {},
   "outputs": [],
   "source": [
    "## Good method -->\n",
    "# checking presence of class (here class=\"star-rating Two\")"
   ]
  },
  {
   "cell_type": "code",
   "execution_count": 24,
   "id": "66ea71c4",
   "metadata": {},
   "outputs": [
    {
     "data": {
      "text/plain": [
       "<article class=\"product_pod\">\n",
       "<div class=\"image_container\">\n",
       "<a href=\"a-light-in-the-attic_1000/index.html\"><img alt=\"A Light in the Attic\" class=\"thumbnail\" src=\"../media/cache/2c/da/2cdad67c44b002e7ead0cc35693c0e8b.jpg\"/></a>\n",
       "</div>\n",
       "<p class=\"star-rating Three\">\n",
       "<i class=\"icon-star\"></i>\n",
       "<i class=\"icon-star\"></i>\n",
       "<i class=\"icon-star\"></i>\n",
       "<i class=\"icon-star\"></i>\n",
       "<i class=\"icon-star\"></i>\n",
       "</p>\n",
       "<h3><a href=\"a-light-in-the-attic_1000/index.html\" title=\"A Light in the Attic\">A Light in the ...</a></h3>\n",
       "<div class=\"product_price\">\n",
       "<p class=\"price_color\">Â£51.77</p>\n",
       "<p class=\"instock availability\">\n",
       "<i class=\"icon-ok\"></i>\n",
       "    \n",
       "        In stock\n",
       "    \n",
       "</p>\n",
       "<form>\n",
       "<button class=\"btn btn-primary btn-block\" data-loading-text=\"Adding...\" type=\"submit\">Add to basket</button>\n",
       "</form>\n",
       "</div>\n",
       "</article>"
      ]
     },
     "execution_count": 24,
     "metadata": {},
     "output_type": "execute_result"
    }
   ],
   "source": [
    "example"
   ]
  },
  {
   "cell_type": "code",
   "execution_count": 25,
   "id": "aedcafa3",
   "metadata": {},
   "outputs": [
    {
     "name": "stdout",
     "output_type": "stream",
     "text": [
      "<class 'bs4.element.Tag'>\n"
     ]
    }
   ],
   "source": [
    "print(type(example))"
   ]
  },
  {
   "cell_type": "code",
   "execution_count": 26,
   "id": "7d805d1e",
   "metadata": {},
   "outputs": [
    {
     "data": {
      "text/plain": [
       "[]"
      ]
     },
     "execution_count": 26,
     "metadata": {},
     "output_type": "execute_result"
    }
   ],
   "source": [
    "example.select('.star-rating Three')"
   ]
  },
  {
   "cell_type": "code",
   "execution_count": 27,
   "id": "f8b1c637",
   "metadata": {},
   "outputs": [
    {
     "data": {
      "text/plain": [
       "[<p class=\"star-rating Three\">\n",
       " <i class=\"icon-star\"></i>\n",
       " <i class=\"icon-star\"></i>\n",
       " <i class=\"icon-star\"></i>\n",
       " <i class=\"icon-star\"></i>\n",
       " <i class=\"icon-star\"></i>\n",
       " </p>]"
      ]
     },
     "execution_count": 27,
     "metadata": {},
     "output_type": "execute_result"
    }
   ],
   "source": [
    "example.select('.star-rating.Three')"
   ]
  },
  {
   "cell_type": "code",
   "execution_count": 28,
   "id": "b5b2aa0a",
   "metadata": {},
   "outputs": [
    {
     "data": {
      "text/plain": [
       "[]"
      ]
     },
     "execution_count": 28,
     "metadata": {},
     "output_type": "execute_result"
    }
   ],
   "source": [
    "example.select('.star-rating.Two')"
   ]
  },
  {
   "cell_type": "code",
   "execution_count": 29,
   "id": "ff551c10",
   "metadata": {},
   "outputs": [
    {
     "data": {
      "text/plain": [
       "False"
      ]
     },
     "execution_count": 29,
     "metadata": {},
     "output_type": "execute_result"
    }
   ],
   "source": [
    "# not empty means its contains data --> and --> it ({in braces}) is present on webpage \n",
    "# --> Therefore its not empty --> therefore, False\n",
    "[] == example.select('.star-rating.Three')"
   ]
  },
  {
   "cell_type": "code",
   "execution_count": 30,
   "id": "8e7f94f0",
   "metadata": {},
   "outputs": [
    {
     "data": {
      "text/plain": [
       "True"
      ]
     },
     "execution_count": 30,
     "metadata": {},
     "output_type": "execute_result"
    }
   ],
   "source": [
    "[] == example.select('.star-rating.Two') \n",
    "# not present\n"
   ]
  },
  {
   "cell_type": "code",
   "execution_count": null,
   "id": "8566af6d",
   "metadata": {},
   "outputs": [],
   "source": []
  },
  {
   "cell_type": "code",
   "execution_count": 31,
   "id": "5f8a76b1",
   "metadata": {},
   "outputs": [
    {
     "data": {
      "text/plain": [
       "[<a href=\"a-light-in-the-attic_1000/index.html\"><img alt=\"A Light in the Attic\" class=\"thumbnail\" src=\"../media/cache/2c/da/2cdad67c44b002e7ead0cc35693c0e8b.jpg\"/></a>,\n",
       " <a href=\"a-light-in-the-attic_1000/index.html\" title=\"A Light in the Attic\">A Light in the ...</a>]"
      ]
     },
     "execution_count": 31,
     "metadata": {},
     "output_type": "execute_result"
    }
   ],
   "source": [
    "example.select('a')"
   ]
  },
  {
   "cell_type": "code",
   "execution_count": 32,
   "id": "bfc10b92",
   "metadata": {},
   "outputs": [
    {
     "data": {
      "text/plain": [
       "2"
      ]
     },
     "execution_count": 32,
     "metadata": {},
     "output_type": "execute_result"
    }
   ],
   "source": [
    "len(example.select('a'))"
   ]
  },
  {
   "cell_type": "code",
   "execution_count": 34,
   "id": "f74930df",
   "metadata": {},
   "outputs": [
    {
     "data": {
      "text/plain": [
       "<a href=\"a-light-in-the-attic_1000/index.html\" title=\"A Light in the Attic\">A Light in the ...</a>"
      ]
     },
     "execution_count": 34,
     "metadata": {},
     "output_type": "execute_result"
    }
   ],
   "source": [
    "example.select('a')[1]"
   ]
  },
  {
   "cell_type": "code",
   "execution_count": 35,
   "id": "63ff36b5",
   "metadata": {},
   "outputs": [
    {
     "data": {
      "text/plain": [
       "bs4.element.Tag"
      ]
     },
     "execution_count": 35,
     "metadata": {},
     "output_type": "execute_result"
    }
   ],
   "source": [
    "type(example.select('a')[1])"
   ]
  },
  {
   "cell_type": "code",
   "execution_count": 46,
   "id": "b986fae6",
   "metadata": {},
   "outputs": [
    {
     "data": {
      "text/plain": [
       "'A Light in the Attic'"
      ]
     },
     "execution_count": 46,
     "metadata": {},
     "output_type": "execute_result"
    }
   ],
   "source": [
    "example.select('a')[1]['title']"
   ]
  },
  {
   "cell_type": "code",
   "execution_count": 47,
   "id": "ee0745fc",
   "metadata": {},
   "outputs": [
    {
     "data": {
      "text/plain": [
       "<a href=\"a-light-in-the-attic_1000/index.html\" title=\"A Light in the Attic\">A Light in the ...</a>"
      ]
     },
     "execution_count": 47,
     "metadata": {},
     "output_type": "execute_result"
    }
   ],
   "source": [
    "example.select('a')[1]"
   ]
  },
  {
   "cell_type": "code",
   "execution_count": 48,
   "id": "6f3ff73c",
   "metadata": {},
   "outputs": [
    {
     "data": {
      "text/plain": [
       "'a-light-in-the-attic_1000/index.html'"
      ]
     },
     "execution_count": 48,
     "metadata": {},
     "output_type": "execute_result"
    }
   ],
   "source": [
    "example.select('a')[1]['href']"
   ]
  },
  {
   "cell_type": "code",
   "execution_count": null,
   "id": "ca636f22",
   "metadata": {},
   "outputs": [],
   "source": []
  },
  {
   "cell_type": "code",
   "execution_count": 49,
   "id": "ac32d75e",
   "metadata": {},
   "outputs": [
    {
     "data": {
      "text/plain": [
       "'A Light in the Attic'"
      ]
     },
     "execution_count": 49,
     "metadata": {},
     "output_type": "execute_result"
    }
   ],
   "source": [
    "# imp\n",
    "example.select('a')[1]['title']"
   ]
  },
  {
   "cell_type": "code",
   "execution_count": 52,
   "id": "95279ef4",
   "metadata": {},
   "outputs": [],
   "source": [
    "# MY LOGIC\n",
    "\n",
    "base_url = 'http://books.toscrape.com/catalogue/page-{}.html'\n",
    "two_star_titles = []\n",
    "\n",
    "for n in range(1,51):\n",
    "    \n",
    "    scrape_url = base_url.format(n)\n",
    "    \n",
    "    req = requests.get(scrape_url)\n",
    "    soup = bs4.BeautifulSoup(req.text,'lxml')\n",
    "    \n",
    "    products = soup.select('.product_pod')    \n",
    "    \n",
    "    for i in range(0,20):\n",
    "        example = products[i]\n",
    "\n",
    "        if [] != example.select('.star-rating.Two'):\n",
    "            title = example.select('a')[1]['title']\n",
    "            two_star_titles.append(title)"
   ]
  },
  {
   "cell_type": "code",
   "execution_count": 56,
   "id": "16ea8b13",
   "metadata": {},
   "outputs": [
    {
     "data": {
      "text/plain": [
       "['Starving Hearts (Triangular Trade Trilogy, #1)',\n",
       " 'Libertarianism for Beginners',\n",
       " \"It's Only the Himalayas\",\n",
       " 'How Music Works',\n",
       " 'Maude (1883-1993):She Grew Up with the country',\n",
       " \"You can't bury them all: Poems\",\n",
       " 'Reasons to Stay Alive',\n",
       " 'Without Borders (Wanderlove #1)',\n",
       " 'Soul Reader',\n",
       " 'Security',\n",
       " 'Saga, Volume 5 (Saga (Collected Editions) #5)',\n",
       " 'Reskilling America: Learning to Labor in the Twenty-First Century',\n",
       " 'Political Suicide: Missteps, Peccadilloes, Bad Calls, Backroom Hijinx, Sordid Pasts, Rotten Breaks, and Just Plain Dumb Mistakes in the Annals of American Politics',\n",
       " 'Obsidian (Lux #1)',\n",
       " 'My Paris Kitchen: Recipes and Stories',\n",
       " 'Masks and Shadows',\n",
       " 'Lumberjanes, Vol. 2: Friendship to the Max (Lumberjanes #5-8)',\n",
       " 'Lumberjanes Vol. 3: A Terrible Plan (Lumberjanes #9-12)',\n",
       " 'Judo: Seven Steps to Black Belt (an Introductory Guide for Beginners)',\n",
       " 'I Hate Fairyland, Vol. 1: Madly Ever After (I Hate Fairyland (Compilations) #1-5)',\n",
       " 'Giant Days, Vol. 2 (Giant Days #5-8)',\n",
       " 'Everydata: The Misinformation Hidden in the Little Data You Consume Every Day',\n",
       " \"Don't Be a Jerk: And Other Practical Advice from Dogen, Japan's Greatest Zen Master\",\n",
       " 'Bossypants',\n",
       " 'Bitch Planet, Vol. 1: Extraordinary Machine (Bitch Planet (Collected Editions))',\n",
       " 'Avatar: The Last Airbender: Smoke and Shadow, Part 3 (Smoke and Shadow #3)',\n",
       " 'Tuesday Nights in 1980',\n",
       " 'The Psychopath Test: A Journey Through the Madness Industry',\n",
       " 'The Power of Now: A Guide to Spiritual Enlightenment',\n",
       " \"The Omnivore's Dilemma: A Natural History of Four Meals\",\n",
       " 'The Love and Lemons Cookbook: An Apple-to-Zucchini Celebration of Impromptu Cooking',\n",
       " 'The Girl on the Train',\n",
       " 'The Emerald Mystery',\n",
       " 'The Argonauts',\n",
       " 'Suddenly in Love (Lake Haven #1)',\n",
       " 'Soft Apocalypse',\n",
       " \"So You've Been Publicly Shamed\",\n",
       " 'Shoe Dog: A Memoir by the Creator of NIKE',\n",
       " 'Louisa: The Extraordinary Life of Mrs. Adams',\n",
       " 'Large Print Heart of the Pride',\n",
       " 'Grumbles',\n",
       " 'Chasing Heaven: What Dying Taught Me About Living',\n",
       " 'Becoming Wise: An Inquiry into the Mystery and Art of Living',\n",
       " 'Beauty Restored (Riley Family Legacy Novellas #3)',\n",
       " 'Batman: The Long Halloween (Batman)',\n",
       " \"Ayumi's Violin\",\n",
       " 'Wild Swans',\n",
       " \"What's It Like in Space?: Stories from Astronauts Who've Been There\",\n",
       " 'Until Friday Night (The Field Party #1)',\n",
       " 'Unbroken: A World War II Story of Survival, Resilience, and Redemption',\n",
       " 'Twenty Yawns',\n",
       " 'Through the Woods',\n",
       " 'This Is Where It Ends',\n",
       " 'The Year of Magical Thinking',\n",
       " 'The Last Mile (Amos Decker #2)',\n",
       " 'The Immortal Life of Henrietta Lacks',\n",
       " 'The Hidden Oracle (The Trials of Apollo #1)',\n",
       " 'The Guilty (Will Robie #4)',\n",
       " 'Red Hood/Arsenal, Vol. 1: Open for Business (Red Hood/Arsenal #1)',\n",
       " 'Once Was a Time',\n",
       " 'No Dream Is Too High: Life Lessons From a Man Who Walked on the Moon',\n",
       " 'Naruto (3-in-1 Edition), Vol. 14: Includes Vols. 40, 41 & 42 (Naruto: Omnibus #14)',\n",
       " 'More Than Music (Chasing the Dream #1)',\n",
       " 'Lowriders to the Center of the Earth (Lowriders in Space #2)',\n",
       " 'Eat Fat, Get Thin',\n",
       " 'Doctor Sleep (The Shining #2)',\n",
       " 'Crazy Love: Overwhelmed by a Relentless God',\n",
       " 'Carrie',\n",
       " 'Batman: Europa',\n",
       " 'Angels Walking (Angels Walking #1)',\n",
       " 'Adulthood Is a Myth: A \"Sarah\\'s Scribbles\" Collection',\n",
       " 'A Study in Scarlet (Sherlock Holmes #1)',\n",
       " 'A Series of Catastrophes and Miracles: A True Story of Love, Science, and Cancer',\n",
       " \"A People's History of the United States\",\n",
       " 'My Kitchen Year: 136 Recipes That Saved My Life',\n",
       " 'The Lonely City: Adventures in the Art of Being Alone',\n",
       " 'The Dinner Party',\n",
       " 'Stars Above (The Lunar Chronicles #4.5)',\n",
       " 'Love, Lies and Spies',\n",
       " 'Troublemaker: Surviving Hollywood and Scientology',\n",
       " 'The Widow',\n",
       " 'Setting the World on Fire: The Brief, Astonishing Life of St. Catherine of Siena',\n",
       " 'Mothering Sunday',\n",
       " 'Lilac Girls',\n",
       " '10% Happier: How I Tamed the Voice in My Head, Reduced Stress Without Losing My Edge, and Found Self-Help That Actually Works',\n",
       " 'Underlying Notes',\n",
       " 'The Flowers Lied',\n",
       " 'Modern Day Fables',\n",
       " \"Chernobyl 01:23:40: The Incredible True Story of the World's Worst Nuclear Disaster\",\n",
       " '23 Degrees South: A Tropical Tale of Changing Whether...',\n",
       " 'When Breath Becomes Air',\n",
       " 'Vagabonding: An Uncommon Guide to the Art of Long-Term World Travel',\n",
       " 'The Martian (The Martian #1)',\n",
       " \"Miller's Valley\",\n",
       " \"Love That Boy: What Two Presidents, Eight Road Trips, and My Son Taught Me About a Parent's Expectations\",\n",
       " 'Left Behind (Left Behind #1)',\n",
       " 'Howl and Other Poems',\n",
       " \"Heaven is for Real: A Little Boy's Astounding Story of His Trip to Heaven and Back\",\n",
       " \"Brazen: The Courage to Find the You That's Been Hiding\",\n",
       " '32 Yolks',\n",
       " 'Wildlife of New York: A Five-Borough Coloring Book',\n",
       " 'Unreasonable Hope: Finding Faith in the God Who Brings Purpose to Your Pain',\n",
       " 'The Art Book',\n",
       " 'Steal Like an Artist: 10 Things Nobody Told You About Being Creative',\n",
       " 'Raymie Nightingale',\n",
       " 'Like Never Before (Walker Family #2)',\n",
       " 'How to Be a Domestic Goddess: Baking and the Art of Comfort Cooking',\n",
       " 'Finding God in the Ruins: How God Redeems Pain',\n",
       " 'Chronicles, Vol. 1',\n",
       " 'A Summer In Europe',\n",
       " 'The Rise and Fall of the Third Reich: A History of Nazi Germany',\n",
       " 'The Makings of a Fatherless Child',\n",
       " 'The Fellowship of the Ring (The Lord of the Rings #1)',\n",
       " \"Tell the Wolves I'm Home\",\n",
       " 'In the Woods (Dublin Murder Squad #1)',\n",
       " 'Give It Back',\n",
       " 'Why Save the Bankers?: And Other Essays on Our Economic and Political Crisis',\n",
       " 'The Raven King (The Raven Cycle #4)',\n",
       " 'The Expatriates',\n",
       " 'The 5th Wave (The 5th Wave #1)',\n",
       " 'Peak: Secrets from the New Science of Expertise',\n",
       " 'Logan Kade (Fallen Crest High #5.5)',\n",
       " \"I Know Why the Caged Bird Sings (Maya Angelou's Autobiography #1)\",\n",
       " 'Drama',\n",
       " \"America's War for the Greater Middle East: A Military History\",\n",
       " 'A Game of Thrones (A Song of Ice and Fire #1)',\n",
       " \"The Pilgrim's Progress\",\n",
       " 'The Hound of the Baskervilles (Sherlock Holmes #5)',\n",
       " \"The Geography of Bliss: One Grump's Search for the Happiest Places in the World\",\n",
       " 'The Demonists (Demonist #1)',\n",
       " 'The Demon Prince of Momochi House, Vol. 4 (The Demon Prince of Momochi House #4)',\n",
       " 'Misery',\n",
       " 'Far From True (Promise Falls Trilogy #2)',\n",
       " 'Confessions of a Shopaholic (Shopaholic #1)',\n",
       " 'Vegan Vegetarian Omnivore: Dinner for Everyone at the Table',\n",
       " 'Two Boys Kissing',\n",
       " 'Twilight (Twilight #1)',\n",
       " 'Twenties Girl',\n",
       " 'The Tipping Point: How Little Things Can Make a Big Difference',\n",
       " 'The Stand',\n",
       " 'The Picture of Dorian Gray',\n",
       " 'The Name of God is Mercy',\n",
       " \"The Lover's Dictionary\",\n",
       " 'The Last Painting of Sara de Vos',\n",
       " 'The Guns of August',\n",
       " 'The Girl Who Played with Fire (Millennium Trilogy #2)',\n",
       " 'The Da Vinci Code (Robert Langdon #2)',\n",
       " 'The Cat in the Hat (Beginner Books B-1)',\n",
       " 'The Book Thief',\n",
       " 'The Autobiography of Malcolm X',\n",
       " \"Surely You're Joking, Mr. Feynman!: Adventures of a Curious Character\",\n",
       " 'Soldier (Talon #3)',\n",
       " 'Shopaholic & Baby (Shopaholic #5)',\n",
       " 'Seven Days in the Art World',\n",
       " 'Rework',\n",
       " 'Packing for Mars: The Curious Science of Life in the Void',\n",
       " 'Orange Is the New Black',\n",
       " 'One for the Money (Stephanie Plum #1)',\n",
       " 'Midnight Riot (Peter Grant/ Rivers of London - books #1)',\n",
       " 'Me Talk Pretty One Day',\n",
       " 'Manuscript Found in Accra',\n",
       " 'Lust & Wonder',\n",
       " \"Life, the Universe and Everything (Hitchhiker's Guide to the Galaxy #3)\",\n",
       " 'Life After Life',\n",
       " 'I Am Malala: The Girl Who Stood Up for Education and Was Shot by the Taliban',\n",
       " 'House of Lost Worlds: Dinosaurs, Dynasties, and the Story of Life on Earth',\n",
       " 'Horrible Bear!',\n",
       " 'Holidays on Ice',\n",
       " 'Girl in the Blue Coat',\n",
       " 'Fruits Basket, Vol. 3 (Fruits Basket #3)',\n",
       " 'Cosmos',\n",
       " 'Civilization and Its Discontents',\n",
       " \"Catastrophic Happiness: Finding Joy in Childhood's Messy Years\",\n",
       " 'Career of Evil (Cormoran Strike #3)',\n",
       " 'Born to Run: A Hidden Tribe, Superathletes, and the Greatest Race the World Has Never Seen',\n",
       " \"Best of My Love (Fool's Gold #20)\",\n",
       " 'Beowulf',\n",
       " 'Awkward',\n",
       " 'And Then There Were None',\n",
       " 'A Storm of Swords (A Song of Ice and Fire #3)',\n",
       " 'The Suffragettes (Little Black Classics, #96)',\n",
       " 'Vampire Girl (Vampire Girl #1)',\n",
       " 'Three Wishes (River of Time: California #1)',\n",
       " 'The Wicked + The Divine, Vol. 1: The Faust Act (The Wicked + The Divine)',\n",
       " 'The Little Prince',\n",
       " 'The Last Girl (The Dominion Trilogy #1)',\n",
       " 'Taking Shots (Assassins #1)',\n",
       " 'Settling the Score (The Summer Games #1)',\n",
       " 'Rhythm, Chord & Malykhin',\n",
       " 'One Second (Seven #7)',\n",
       " \"Old Records Never Die: One Man's Quest for His Vinyl and His Past\",\n",
       " 'Of Mice and Men',\n",
       " 'My Perfect Mistake (Over the Top #1)',\n",
       " 'Meditations',\n",
       " 'Frankenstein',\n",
       " 'Emma']"
      ]
     },
     "execution_count": 56,
     "metadata": {},
     "output_type": "execute_result"
    }
   ],
   "source": [
    "two_star_titles"
   ]
  },
  {
   "cell_type": "code",
   "execution_count": 54,
   "id": "586ae327",
   "metadata": {},
   "outputs": [
    {
     "name": "stdout",
     "output_type": "stream",
     "text": [
      "196\n"
     ]
    }
   ],
   "source": [
    "print(len(two_star_titles))"
   ]
  },
  {
   "cell_type": "code",
   "execution_count": 55,
   "id": "a6bee850",
   "metadata": {},
   "outputs": [
    {
     "name": "stdout",
     "output_type": "stream",
     "text": [
      "0 Starving Hearts (Triangular Trade Trilogy, #1)\n",
      "1 Libertarianism for Beginners\n",
      "2 It's Only the Himalayas\n",
      "3 How Music Works\n",
      "4 Maude (1883-1993):She Grew Up with the country\n",
      "5 You can't bury them all: Poems\n",
      "6 Reasons to Stay Alive\n",
      "7 Without Borders (Wanderlove #1)\n",
      "8 Soul Reader\n",
      "9 Security\n",
      "10 Saga, Volume 5 (Saga (Collected Editions) #5)\n",
      "11 Reskilling America: Learning to Labor in the Twenty-First Century\n",
      "12 Political Suicide: Missteps, Peccadilloes, Bad Calls, Backroom Hijinx, Sordid Pasts, Rotten Breaks, and Just Plain Dumb Mistakes in the Annals of American Politics\n",
      "13 Obsidian (Lux #1)\n",
      "14 My Paris Kitchen: Recipes and Stories\n",
      "15 Masks and Shadows\n",
      "16 Lumberjanes, Vol. 2: Friendship to the Max (Lumberjanes #5-8)\n",
      "17 Lumberjanes Vol. 3: A Terrible Plan (Lumberjanes #9-12)\n",
      "18 Judo: Seven Steps to Black Belt (an Introductory Guide for Beginners)\n",
      "19 I Hate Fairyland, Vol. 1: Madly Ever After (I Hate Fairyland (Compilations) #1-5)\n",
      "20 Giant Days, Vol. 2 (Giant Days #5-8)\n",
      "21 Everydata: The Misinformation Hidden in the Little Data You Consume Every Day\n",
      "22 Don't Be a Jerk: And Other Practical Advice from Dogen, Japan's Greatest Zen Master\n",
      "23 Bossypants\n",
      "24 Bitch Planet, Vol. 1: Extraordinary Machine (Bitch Planet (Collected Editions))\n",
      "25 Avatar: The Last Airbender: Smoke and Shadow, Part 3 (Smoke and Shadow #3)\n",
      "26 Tuesday Nights in 1980\n",
      "27 The Psychopath Test: A Journey Through the Madness Industry\n",
      "28 The Power of Now: A Guide to Spiritual Enlightenment\n",
      "29 The Omnivore's Dilemma: A Natural History of Four Meals\n",
      "30 The Love and Lemons Cookbook: An Apple-to-Zucchini Celebration of Impromptu Cooking\n",
      "31 The Girl on the Train\n",
      "32 The Emerald Mystery\n",
      "33 The Argonauts\n",
      "34 Suddenly in Love (Lake Haven #1)\n",
      "35 Soft Apocalypse\n",
      "36 So You've Been Publicly Shamed\n",
      "37 Shoe Dog: A Memoir by the Creator of NIKE\n",
      "38 Louisa: The Extraordinary Life of Mrs. Adams\n",
      "39 Large Print Heart of the Pride\n",
      "40 Grumbles\n",
      "41 Chasing Heaven: What Dying Taught Me About Living\n",
      "42 Becoming Wise: An Inquiry into the Mystery and Art of Living\n",
      "43 Beauty Restored (Riley Family Legacy Novellas #3)\n",
      "44 Batman: The Long Halloween (Batman)\n",
      "45 Ayumi's Violin\n",
      "46 Wild Swans\n",
      "47 What's It Like in Space?: Stories from Astronauts Who've Been There\n",
      "48 Until Friday Night (The Field Party #1)\n",
      "49 Unbroken: A World War II Story of Survival, Resilience, and Redemption\n",
      "50 Twenty Yawns\n",
      "51 Through the Woods\n",
      "52 This Is Where It Ends\n",
      "53 The Year of Magical Thinking\n",
      "54 The Last Mile (Amos Decker #2)\n",
      "55 The Immortal Life of Henrietta Lacks\n",
      "56 The Hidden Oracle (The Trials of Apollo #1)\n",
      "57 The Guilty (Will Robie #4)\n",
      "58 Red Hood/Arsenal, Vol. 1: Open for Business (Red Hood/Arsenal #1)\n",
      "59 Once Was a Time\n",
      "60 No Dream Is Too High: Life Lessons From a Man Who Walked on the Moon\n",
      "61 Naruto (3-in-1 Edition), Vol. 14: Includes Vols. 40, 41 & 42 (Naruto: Omnibus #14)\n",
      "62 More Than Music (Chasing the Dream #1)\n",
      "63 Lowriders to the Center of the Earth (Lowriders in Space #2)\n",
      "64 Eat Fat, Get Thin\n",
      "65 Doctor Sleep (The Shining #2)\n",
      "66 Crazy Love: Overwhelmed by a Relentless God\n",
      "67 Carrie\n",
      "68 Batman: Europa\n",
      "69 Angels Walking (Angels Walking #1)\n",
      "70 Adulthood Is a Myth: A \"Sarah's Scribbles\" Collection\n",
      "71 A Study in Scarlet (Sherlock Holmes #1)\n",
      "72 A Series of Catastrophes and Miracles: A True Story of Love, Science, and Cancer\n",
      "73 A People's History of the United States\n",
      "74 My Kitchen Year: 136 Recipes That Saved My Life\n",
      "75 The Lonely City: Adventures in the Art of Being Alone\n",
      "76 The Dinner Party\n",
      "77 Stars Above (The Lunar Chronicles #4.5)\n",
      "78 Love, Lies and Spies\n",
      "79 Troublemaker: Surviving Hollywood and Scientology\n",
      "80 The Widow\n",
      "81 Setting the World on Fire: The Brief, Astonishing Life of St. Catherine of Siena\n",
      "82 Mothering Sunday\n",
      "83 Lilac Girls\n",
      "84 10% Happier: How I Tamed the Voice in My Head, Reduced Stress Without Losing My Edge, and Found Self-Help That Actually Works\n",
      "85 Underlying Notes\n",
      "86 The Flowers Lied\n",
      "87 Modern Day Fables\n",
      "88 Chernobyl 01:23:40: The Incredible True Story of the World's Worst Nuclear Disaster\n",
      "89 23 Degrees South: A Tropical Tale of Changing Whether...\n",
      "90 When Breath Becomes Air\n",
      "91 Vagabonding: An Uncommon Guide to the Art of Long-Term World Travel\n",
      "92 The Martian (The Martian #1)\n",
      "93 Miller's Valley\n",
      "94 Love That Boy: What Two Presidents, Eight Road Trips, and My Son Taught Me About a Parent's Expectations\n",
      "95 Left Behind (Left Behind #1)\n",
      "96 Howl and Other Poems\n",
      "97 Heaven is for Real: A Little Boy's Astounding Story of His Trip to Heaven and Back\n",
      "98 Brazen: The Courage to Find the You That's Been Hiding\n",
      "99 32 Yolks\n",
      "100 Wildlife of New York: A Five-Borough Coloring Book\n",
      "101 Unreasonable Hope: Finding Faith in the God Who Brings Purpose to Your Pain\n",
      "102 The Art Book\n",
      "103 Steal Like an Artist: 10 Things Nobody Told You About Being Creative\n",
      "104 Raymie Nightingale\n",
      "105 Like Never Before (Walker Family #2)\n",
      "106 How to Be a Domestic Goddess: Baking and the Art of Comfort Cooking\n",
      "107 Finding God in the Ruins: How God Redeems Pain\n",
      "108 Chronicles, Vol. 1\n",
      "109 A Summer In Europe\n",
      "110 The Rise and Fall of the Third Reich: A History of Nazi Germany\n",
      "111 The Makings of a Fatherless Child\n",
      "112 The Fellowship of the Ring (The Lord of the Rings #1)\n",
      "113 Tell the Wolves I'm Home\n",
      "114 In the Woods (Dublin Murder Squad #1)\n",
      "115 Give It Back\n",
      "116 Why Save the Bankers?: And Other Essays on Our Economic and Political Crisis\n",
      "117 The Raven King (The Raven Cycle #4)\n",
      "118 The Expatriates\n",
      "119 The 5th Wave (The 5th Wave #1)\n",
      "120 Peak: Secrets from the New Science of Expertise\n",
      "121 Logan Kade (Fallen Crest High #5.5)\n",
      "122 I Know Why the Caged Bird Sings (Maya Angelou's Autobiography #1)\n",
      "123 Drama\n",
      "124 America's War for the Greater Middle East: A Military History\n",
      "125 A Game of Thrones (A Song of Ice and Fire #1)\n",
      "126 The Pilgrim's Progress\n",
      "127 The Hound of the Baskervilles (Sherlock Holmes #5)\n",
      "128 The Geography of Bliss: One Grump's Search for the Happiest Places in the World\n",
      "129 The Demonists (Demonist #1)\n",
      "130 The Demon Prince of Momochi House, Vol. 4 (The Demon Prince of Momochi House #4)\n",
      "131 Misery\n",
      "132 Far From True (Promise Falls Trilogy #2)\n",
      "133 Confessions of a Shopaholic (Shopaholic #1)\n",
      "134 Vegan Vegetarian Omnivore: Dinner for Everyone at the Table\n",
      "135 Two Boys Kissing\n",
      "136 Twilight (Twilight #1)\n",
      "137 Twenties Girl\n",
      "138 The Tipping Point: How Little Things Can Make a Big Difference\n",
      "139 The Stand\n",
      "140 The Picture of Dorian Gray\n",
      "141 The Name of God is Mercy\n",
      "142 The Lover's Dictionary\n",
      "143 The Last Painting of Sara de Vos\n",
      "144 The Guns of August\n",
      "145 The Girl Who Played with Fire (Millennium Trilogy #2)\n",
      "146 The Da Vinci Code (Robert Langdon #2)\n",
      "147 The Cat in the Hat (Beginner Books B-1)\n",
      "148 The Book Thief\n",
      "149 The Autobiography of Malcolm X\n",
      "150 Surely You're Joking, Mr. Feynman!: Adventures of a Curious Character\n",
      "151 Soldier (Talon #3)\n",
      "152 Shopaholic & Baby (Shopaholic #5)\n",
      "153 Seven Days in the Art World\n",
      "154 Rework\n",
      "155 Packing for Mars: The Curious Science of Life in the Void\n",
      "156 Orange Is the New Black\n",
      "157 One for the Money (Stephanie Plum #1)\n",
      "158 Midnight Riot (Peter Grant/ Rivers of London - books #1)\n",
      "159 Me Talk Pretty One Day\n",
      "160 Manuscript Found in Accra\n",
      "161 Lust & Wonder\n",
      "162 Life, the Universe and Everything (Hitchhiker's Guide to the Galaxy #3)\n",
      "163 Life After Life\n",
      "164 I Am Malala: The Girl Who Stood Up for Education and Was Shot by the Taliban\n",
      "165 House of Lost Worlds: Dinosaurs, Dynasties, and the Story of Life on Earth\n",
      "166 Horrible Bear!\n",
      "167 Holidays on Ice\n",
      "168 Girl in the Blue Coat\n",
      "169 Fruits Basket, Vol. 3 (Fruits Basket #3)\n",
      "170 Cosmos\n",
      "171 Civilization and Its Discontents\n",
      "172 Catastrophic Happiness: Finding Joy in Childhood's Messy Years\n",
      "173 Career of Evil (Cormoran Strike #3)\n",
      "174 Born to Run: A Hidden Tribe, Superathletes, and the Greatest Race the World Has Never Seen\n",
      "175 Best of My Love (Fool's Gold #20)\n",
      "176 Beowulf\n",
      "177 Awkward\n",
      "178 And Then There Were None\n",
      "179 A Storm of Swords (A Song of Ice and Fire #3)\n",
      "180 The Suffragettes (Little Black Classics, #96)\n",
      "181 Vampire Girl (Vampire Girl #1)\n",
      "182 Three Wishes (River of Time: California #1)\n",
      "183 The Wicked + The Divine, Vol. 1: The Faust Act (The Wicked + The Divine)\n",
      "184 The Little Prince\n",
      "185 The Last Girl (The Dominion Trilogy #1)\n",
      "186 Taking Shots (Assassins #1)\n",
      "187 Settling the Score (The Summer Games #1)\n",
      "188 Rhythm, Chord & Malykhin\n",
      "189 One Second (Seven #7)\n",
      "190 Old Records Never Die: One Man's Quest for His Vinyl and His Past\n",
      "191 Of Mice and Men\n",
      "192 My Perfect Mistake (Over the Top #1)\n",
      "193 Meditations\n",
      "194 Frankenstein\n",
      "195 Emma\n"
     ]
    }
   ],
   "source": [
    "# GOAL ACCOMPLISHED\n",
    "for i,n in enumerate(two_star_titles):\n",
    "    print(i,n)"
   ]
  },
  {
   "cell_type": "code",
   "execution_count": 60,
   "id": "2209d84e",
   "metadata": {},
   "outputs": [],
   "source": [
    "# ADVANCED LOGIC\n",
    "\n",
    "base_url = 'http://books.toscrape.com/catalogue/page-{}.html'\n",
    "two_star_titles = []\n",
    "\n",
    "for n in range(1,51):\n",
    "    \n",
    "    scrape_url = base_url.format(n)\n",
    "    \n",
    "    req = requests.get(scrape_url)\n",
    "    soup = bs4.BeautifulSoup(req.text,'lxml')\n",
    "    \n",
    "    books = soup.select('.product_pod')\n",
    "    \n",
    "    for book in books:\n",
    "        \n",
    "        if len(book.select('.star-rating.Two')) != 0:\n",
    "            book_title = book.select('a')[1]['title']    \n",
    "            two_star_titles.append(book_title)"
   ]
  },
  {
   "cell_type": "code",
   "execution_count": 61,
   "id": "7e88ceb1",
   "metadata": {},
   "outputs": [
    {
     "data": {
      "text/plain": [
       "['Starving Hearts (Triangular Trade Trilogy, #1)',\n",
       " 'Libertarianism for Beginners',\n",
       " \"It's Only the Himalayas\",\n",
       " 'How Music Works',\n",
       " 'Maude (1883-1993):She Grew Up with the country',\n",
       " \"You can't bury them all: Poems\",\n",
       " 'Reasons to Stay Alive',\n",
       " 'Without Borders (Wanderlove #1)',\n",
       " 'Soul Reader',\n",
       " 'Security',\n",
       " 'Saga, Volume 5 (Saga (Collected Editions) #5)',\n",
       " 'Reskilling America: Learning to Labor in the Twenty-First Century',\n",
       " 'Political Suicide: Missteps, Peccadilloes, Bad Calls, Backroom Hijinx, Sordid Pasts, Rotten Breaks, and Just Plain Dumb Mistakes in the Annals of American Politics',\n",
       " 'Obsidian (Lux #1)',\n",
       " 'My Paris Kitchen: Recipes and Stories',\n",
       " 'Masks and Shadows',\n",
       " 'Lumberjanes, Vol. 2: Friendship to the Max (Lumberjanes #5-8)',\n",
       " 'Lumberjanes Vol. 3: A Terrible Plan (Lumberjanes #9-12)',\n",
       " 'Judo: Seven Steps to Black Belt (an Introductory Guide for Beginners)',\n",
       " 'I Hate Fairyland, Vol. 1: Madly Ever After (I Hate Fairyland (Compilations) #1-5)',\n",
       " 'Giant Days, Vol. 2 (Giant Days #5-8)',\n",
       " 'Everydata: The Misinformation Hidden in the Little Data You Consume Every Day',\n",
       " \"Don't Be a Jerk: And Other Practical Advice from Dogen, Japan's Greatest Zen Master\",\n",
       " 'Bossypants',\n",
       " 'Bitch Planet, Vol. 1: Extraordinary Machine (Bitch Planet (Collected Editions))',\n",
       " 'Avatar: The Last Airbender: Smoke and Shadow, Part 3 (Smoke and Shadow #3)',\n",
       " 'Tuesday Nights in 1980',\n",
       " 'The Psychopath Test: A Journey Through the Madness Industry',\n",
       " 'The Power of Now: A Guide to Spiritual Enlightenment',\n",
       " \"The Omnivore's Dilemma: A Natural History of Four Meals\",\n",
       " 'The Love and Lemons Cookbook: An Apple-to-Zucchini Celebration of Impromptu Cooking',\n",
       " 'The Girl on the Train',\n",
       " 'The Emerald Mystery',\n",
       " 'The Argonauts',\n",
       " 'Suddenly in Love (Lake Haven #1)',\n",
       " 'Soft Apocalypse',\n",
       " \"So You've Been Publicly Shamed\",\n",
       " 'Shoe Dog: A Memoir by the Creator of NIKE',\n",
       " 'Louisa: The Extraordinary Life of Mrs. Adams',\n",
       " 'Large Print Heart of the Pride',\n",
       " 'Grumbles',\n",
       " 'Chasing Heaven: What Dying Taught Me About Living',\n",
       " 'Becoming Wise: An Inquiry into the Mystery and Art of Living',\n",
       " 'Beauty Restored (Riley Family Legacy Novellas #3)',\n",
       " 'Batman: The Long Halloween (Batman)',\n",
       " \"Ayumi's Violin\",\n",
       " 'Wild Swans',\n",
       " \"What's It Like in Space?: Stories from Astronauts Who've Been There\",\n",
       " 'Until Friday Night (The Field Party #1)',\n",
       " 'Unbroken: A World War II Story of Survival, Resilience, and Redemption',\n",
       " 'Twenty Yawns',\n",
       " 'Through the Woods',\n",
       " 'This Is Where It Ends',\n",
       " 'The Year of Magical Thinking',\n",
       " 'The Last Mile (Amos Decker #2)',\n",
       " 'The Immortal Life of Henrietta Lacks',\n",
       " 'The Hidden Oracle (The Trials of Apollo #1)',\n",
       " 'The Guilty (Will Robie #4)',\n",
       " 'Red Hood/Arsenal, Vol. 1: Open for Business (Red Hood/Arsenal #1)',\n",
       " 'Once Was a Time',\n",
       " 'No Dream Is Too High: Life Lessons From a Man Who Walked on the Moon',\n",
       " 'Naruto (3-in-1 Edition), Vol. 14: Includes Vols. 40, 41 & 42 (Naruto: Omnibus #14)',\n",
       " 'More Than Music (Chasing the Dream #1)',\n",
       " 'Lowriders to the Center of the Earth (Lowriders in Space #2)',\n",
       " 'Eat Fat, Get Thin',\n",
       " 'Doctor Sleep (The Shining #2)',\n",
       " 'Crazy Love: Overwhelmed by a Relentless God',\n",
       " 'Carrie',\n",
       " 'Batman: Europa',\n",
       " 'Angels Walking (Angels Walking #1)',\n",
       " 'Adulthood Is a Myth: A \"Sarah\\'s Scribbles\" Collection',\n",
       " 'A Study in Scarlet (Sherlock Holmes #1)',\n",
       " 'A Series of Catastrophes and Miracles: A True Story of Love, Science, and Cancer',\n",
       " \"A People's History of the United States\",\n",
       " 'My Kitchen Year: 136 Recipes That Saved My Life',\n",
       " 'The Lonely City: Adventures in the Art of Being Alone',\n",
       " 'The Dinner Party',\n",
       " 'Stars Above (The Lunar Chronicles #4.5)',\n",
       " 'Love, Lies and Spies',\n",
       " 'Troublemaker: Surviving Hollywood and Scientology',\n",
       " 'The Widow',\n",
       " 'Setting the World on Fire: The Brief, Astonishing Life of St. Catherine of Siena',\n",
       " 'Mothering Sunday',\n",
       " 'Lilac Girls',\n",
       " '10% Happier: How I Tamed the Voice in My Head, Reduced Stress Without Losing My Edge, and Found Self-Help That Actually Works',\n",
       " 'Underlying Notes',\n",
       " 'The Flowers Lied',\n",
       " 'Modern Day Fables',\n",
       " \"Chernobyl 01:23:40: The Incredible True Story of the World's Worst Nuclear Disaster\",\n",
       " '23 Degrees South: A Tropical Tale of Changing Whether...',\n",
       " 'When Breath Becomes Air',\n",
       " 'Vagabonding: An Uncommon Guide to the Art of Long-Term World Travel',\n",
       " 'The Martian (The Martian #1)',\n",
       " \"Miller's Valley\",\n",
       " \"Love That Boy: What Two Presidents, Eight Road Trips, and My Son Taught Me About a Parent's Expectations\",\n",
       " 'Left Behind (Left Behind #1)',\n",
       " 'Howl and Other Poems',\n",
       " \"Heaven is for Real: A Little Boy's Astounding Story of His Trip to Heaven and Back\",\n",
       " \"Brazen: The Courage to Find the You That's Been Hiding\",\n",
       " '32 Yolks',\n",
       " 'Wildlife of New York: A Five-Borough Coloring Book',\n",
       " 'Unreasonable Hope: Finding Faith in the God Who Brings Purpose to Your Pain',\n",
       " 'The Art Book',\n",
       " 'Steal Like an Artist: 10 Things Nobody Told You About Being Creative',\n",
       " 'Raymie Nightingale',\n",
       " 'Like Never Before (Walker Family #2)',\n",
       " 'How to Be a Domestic Goddess: Baking and the Art of Comfort Cooking',\n",
       " 'Finding God in the Ruins: How God Redeems Pain',\n",
       " 'Chronicles, Vol. 1',\n",
       " 'A Summer In Europe',\n",
       " 'The Rise and Fall of the Third Reich: A History of Nazi Germany',\n",
       " 'The Makings of a Fatherless Child',\n",
       " 'The Fellowship of the Ring (The Lord of the Rings #1)',\n",
       " \"Tell the Wolves I'm Home\",\n",
       " 'In the Woods (Dublin Murder Squad #1)',\n",
       " 'Give It Back',\n",
       " 'Why Save the Bankers?: And Other Essays on Our Economic and Political Crisis',\n",
       " 'The Raven King (The Raven Cycle #4)',\n",
       " 'The Expatriates',\n",
       " 'The 5th Wave (The 5th Wave #1)',\n",
       " 'Peak: Secrets from the New Science of Expertise',\n",
       " 'Logan Kade (Fallen Crest High #5.5)',\n",
       " \"I Know Why the Caged Bird Sings (Maya Angelou's Autobiography #1)\",\n",
       " 'Drama',\n",
       " \"America's War for the Greater Middle East: A Military History\",\n",
       " 'A Game of Thrones (A Song of Ice and Fire #1)',\n",
       " \"The Pilgrim's Progress\",\n",
       " 'The Hound of the Baskervilles (Sherlock Holmes #5)',\n",
       " \"The Geography of Bliss: One Grump's Search for the Happiest Places in the World\",\n",
       " 'The Demonists (Demonist #1)',\n",
       " 'The Demon Prince of Momochi House, Vol. 4 (The Demon Prince of Momochi House #4)',\n",
       " 'Misery',\n",
       " 'Far From True (Promise Falls Trilogy #2)',\n",
       " 'Confessions of a Shopaholic (Shopaholic #1)',\n",
       " 'Vegan Vegetarian Omnivore: Dinner for Everyone at the Table',\n",
       " 'Two Boys Kissing',\n",
       " 'Twilight (Twilight #1)',\n",
       " 'Twenties Girl',\n",
       " 'The Tipping Point: How Little Things Can Make a Big Difference',\n",
       " 'The Stand',\n",
       " 'The Picture of Dorian Gray',\n",
       " 'The Name of God is Mercy',\n",
       " \"The Lover's Dictionary\",\n",
       " 'The Last Painting of Sara de Vos',\n",
       " 'The Guns of August',\n",
       " 'The Girl Who Played with Fire (Millennium Trilogy #2)',\n",
       " 'The Da Vinci Code (Robert Langdon #2)',\n",
       " 'The Cat in the Hat (Beginner Books B-1)',\n",
       " 'The Book Thief',\n",
       " 'The Autobiography of Malcolm X',\n",
       " \"Surely You're Joking, Mr. Feynman!: Adventures of a Curious Character\",\n",
       " 'Soldier (Talon #3)',\n",
       " 'Shopaholic & Baby (Shopaholic #5)',\n",
       " 'Seven Days in the Art World',\n",
       " 'Rework',\n",
       " 'Packing for Mars: The Curious Science of Life in the Void',\n",
       " 'Orange Is the New Black',\n",
       " 'One for the Money (Stephanie Plum #1)',\n",
       " 'Midnight Riot (Peter Grant/ Rivers of London - books #1)',\n",
       " 'Me Talk Pretty One Day',\n",
       " 'Manuscript Found in Accra',\n",
       " 'Lust & Wonder',\n",
       " \"Life, the Universe and Everything (Hitchhiker's Guide to the Galaxy #3)\",\n",
       " 'Life After Life',\n",
       " 'I Am Malala: The Girl Who Stood Up for Education and Was Shot by the Taliban',\n",
       " 'House of Lost Worlds: Dinosaurs, Dynasties, and the Story of Life on Earth',\n",
       " 'Horrible Bear!',\n",
       " 'Holidays on Ice',\n",
       " 'Girl in the Blue Coat',\n",
       " 'Fruits Basket, Vol. 3 (Fruits Basket #3)',\n",
       " 'Cosmos',\n",
       " 'Civilization and Its Discontents',\n",
       " \"Catastrophic Happiness: Finding Joy in Childhood's Messy Years\",\n",
       " 'Career of Evil (Cormoran Strike #3)',\n",
       " 'Born to Run: A Hidden Tribe, Superathletes, and the Greatest Race the World Has Never Seen',\n",
       " \"Best of My Love (Fool's Gold #20)\",\n",
       " 'Beowulf',\n",
       " 'Awkward',\n",
       " 'And Then There Were None',\n",
       " 'A Storm of Swords (A Song of Ice and Fire #3)',\n",
       " 'The Suffragettes (Little Black Classics, #96)',\n",
       " 'Vampire Girl (Vampire Girl #1)',\n",
       " 'Three Wishes (River of Time: California #1)',\n",
       " 'The Wicked + The Divine, Vol. 1: The Faust Act (The Wicked + The Divine)',\n",
       " 'The Little Prince',\n",
       " 'The Last Girl (The Dominion Trilogy #1)',\n",
       " 'Taking Shots (Assassins #1)',\n",
       " 'Settling the Score (The Summer Games #1)',\n",
       " 'Rhythm, Chord & Malykhin',\n",
       " 'One Second (Seven #7)',\n",
       " \"Old Records Never Die: One Man's Quest for His Vinyl and His Past\",\n",
       " 'Of Mice and Men',\n",
       " 'My Perfect Mistake (Over the Top #1)',\n",
       " 'Meditations',\n",
       " 'Frankenstein',\n",
       " 'Emma']"
      ]
     },
     "execution_count": 61,
     "metadata": {},
     "output_type": "execute_result"
    }
   ],
   "source": [
    "two_star_titles"
   ]
  },
  {
   "cell_type": "code",
   "execution_count": null,
   "id": "62dcbc83",
   "metadata": {},
   "outputs": [],
   "source": []
  },
  {
   "cell_type": "code",
   "execution_count": null,
   "id": "a5904686",
   "metadata": {},
   "outputs": [],
   "source": []
  },
  {
   "cell_type": "code",
   "execution_count": null,
   "id": "cd29666e",
   "metadata": {},
   "outputs": [],
   "source": []
  },
  {
   "cell_type": "code",
   "execution_count": null,
   "id": "34c3c565",
   "metadata": {},
   "outputs": [],
   "source": []
  },
  {
   "cell_type": "code",
   "execution_count": null,
   "id": "24b518b0",
   "metadata": {},
   "outputs": [],
   "source": []
  },
  {
   "cell_type": "code",
   "execution_count": null,
   "id": "b83b601b",
   "metadata": {},
   "outputs": [],
   "source": []
  },
  {
   "cell_type": "code",
   "execution_count": null,
   "id": "97545e56",
   "metadata": {},
   "outputs": [],
   "source": []
  },
  {
   "cell_type": "code",
   "execution_count": null,
   "id": "16800fc8",
   "metadata": {},
   "outputs": [],
   "source": []
  },
  {
   "cell_type": "code",
   "execution_count": null,
   "id": "1d8d4905",
   "metadata": {},
   "outputs": [],
   "source": []
  },
  {
   "cell_type": "code",
   "execution_count": null,
   "id": "cab76ea9",
   "metadata": {},
   "outputs": [],
   "source": []
  },
  {
   "cell_type": "code",
   "execution_count": null,
   "id": "8e7330df",
   "metadata": {},
   "outputs": [],
   "source": []
  },
  {
   "cell_type": "code",
   "execution_count": null,
   "id": "22e7a37e",
   "metadata": {},
   "outputs": [],
   "source": []
  },
  {
   "cell_type": "code",
   "execution_count": null,
   "id": "17c5e9a7",
   "metadata": {},
   "outputs": [],
   "source": []
  },
  {
   "cell_type": "code",
   "execution_count": null,
   "id": "68017bce",
   "metadata": {},
   "outputs": [],
   "source": []
  },
  {
   "cell_type": "code",
   "execution_count": null,
   "id": "4fc6db10",
   "metadata": {},
   "outputs": [],
   "source": []
  },
  {
   "cell_type": "code",
   "execution_count": null,
   "id": "547fc5ba",
   "metadata": {},
   "outputs": [],
   "source": []
  },
  {
   "cell_type": "code",
   "execution_count": null,
   "id": "73bd1f34",
   "metadata": {},
   "outputs": [],
   "source": []
  },
  {
   "cell_type": "markdown",
   "id": "cbb4dfa9",
   "metadata": {},
   "source": [
    "# 18-10-2022"
   ]
  },
  {
   "cell_type": "markdown",
   "id": "23920f31",
   "metadata": {},
   "source": [
    "# 123-124 Python Web Scraping Practice"
   ]
  },
  {
   "cell_type": "code",
   "execution_count": 1,
   "id": "48cf381d",
   "metadata": {},
   "outputs": [],
   "source": [
    "import requests\n",
    "import bs4\n",
    "import lxml"
   ]
  },
  {
   "cell_type": "code",
   "execution_count": null,
   "id": "0662db06",
   "metadata": {},
   "outputs": [],
   "source": [
    "# connect to http://qoutes.toscrape.com"
   ]
  },
  {
   "cell_type": "markdown",
   "id": "8ab62ee8",
   "metadata": {},
   "source": [
    "# 19-10-2022"
   ]
  },
  {
   "cell_type": "markdown",
   "id": "60dc571e",
   "metadata": {},
   "source": [
    "### TASK : get the html text from the homepage"
   ]
  },
  {
   "cell_type": "code",
   "execution_count": 83,
   "id": "ac7fdd34",
   "metadata": {},
   "outputs": [],
   "source": [
    "req = requests.get('http://quotes.toscrape.com')"
   ]
  },
  {
   "cell_type": "code",
   "execution_count": 84,
   "id": "c3f6b01f",
   "metadata": {},
   "outputs": [],
   "source": [
    "soup = bs4.BeautifulSoup(req.text,'lxml')"
   ]
  },
  {
   "cell_type": "code",
   "execution_count": 85,
   "id": "a75ec5f1",
   "metadata": {},
   "outputs": [
    {
     "data": {
      "text/plain": [
       "<!DOCTYPE html>\n",
       "<html lang=\"en\">\n",
       "<head>\n",
       "<meta charset=\"utf-8\"/>\n",
       "<title>Quotes to Scrape</title>\n",
       "<link href=\"/static/bootstrap.min.css\" rel=\"stylesheet\"/>\n",
       "<link href=\"/static/main.css\" rel=\"stylesheet\"/>\n",
       "</head>\n",
       "<body>\n",
       "<div class=\"container\">\n",
       "<div class=\"row header-box\">\n",
       "<div class=\"col-md-8\">\n",
       "<h1>\n",
       "<a href=\"/\" style=\"text-decoration: none\">Quotes to Scrape</a>\n",
       "</h1>\n",
       "</div>\n",
       "<div class=\"col-md-4\">\n",
       "<p>\n",
       "<a href=\"/login\">Login</a>\n",
       "</p>\n",
       "</div>\n",
       "</div>\n",
       "<div class=\"row\">\n",
       "<div class=\"col-md-8\">\n",
       "<div class=\"quote\" itemscope=\"\" itemtype=\"http://schema.org/CreativeWork\">\n",
       "<span class=\"text\" itemprop=\"text\">“The world as we have created it is a process of our thinking. It cannot be changed without changing our thinking.”</span>\n",
       "<span>by <small class=\"author\" itemprop=\"author\">Albert Einstein</small>\n",
       "<a href=\"/author/Albert-Einstein\">(about)</a>\n",
       "</span>\n",
       "<div class=\"tags\">\n",
       "            Tags:\n",
       "            <meta class=\"keywords\" content=\"change,deep-thoughts,thinking,world\" itemprop=\"keywords\"/>\n",
       "<a class=\"tag\" href=\"/tag/change/page/1/\">change</a>\n",
       "<a class=\"tag\" href=\"/tag/deep-thoughts/page/1/\">deep-thoughts</a>\n",
       "<a class=\"tag\" href=\"/tag/thinking/page/1/\">thinking</a>\n",
       "<a class=\"tag\" href=\"/tag/world/page/1/\">world</a>\n",
       "</div>\n",
       "</div>\n",
       "<div class=\"quote\" itemscope=\"\" itemtype=\"http://schema.org/CreativeWork\">\n",
       "<span class=\"text\" itemprop=\"text\">“It is our choices, Harry, that show what we truly are, far more than our abilities.”</span>\n",
       "<span>by <small class=\"author\" itemprop=\"author\">J.K. Rowling</small>\n",
       "<a href=\"/author/J-K-Rowling\">(about)</a>\n",
       "</span>\n",
       "<div class=\"tags\">\n",
       "            Tags:\n",
       "            <meta class=\"keywords\" content=\"abilities,choices\" itemprop=\"keywords\"/>\n",
       "<a class=\"tag\" href=\"/tag/abilities/page/1/\">abilities</a>\n",
       "<a class=\"tag\" href=\"/tag/choices/page/1/\">choices</a>\n",
       "</div>\n",
       "</div>\n",
       "<div class=\"quote\" itemscope=\"\" itemtype=\"http://schema.org/CreativeWork\">\n",
       "<span class=\"text\" itemprop=\"text\">“There are only two ways to live your life. One is as though nothing is a miracle. The other is as though everything is a miracle.”</span>\n",
       "<span>by <small class=\"author\" itemprop=\"author\">Albert Einstein</small>\n",
       "<a href=\"/author/Albert-Einstein\">(about)</a>\n",
       "</span>\n",
       "<div class=\"tags\">\n",
       "            Tags:\n",
       "            <meta class=\"keywords\" content=\"inspirational,life,live,miracle,miracles\" itemprop=\"keywords\"/>\n",
       "<a class=\"tag\" href=\"/tag/inspirational/page/1/\">inspirational</a>\n",
       "<a class=\"tag\" href=\"/tag/life/page/1/\">life</a>\n",
       "<a class=\"tag\" href=\"/tag/live/page/1/\">live</a>\n",
       "<a class=\"tag\" href=\"/tag/miracle/page/1/\">miracle</a>\n",
       "<a class=\"tag\" href=\"/tag/miracles/page/1/\">miracles</a>\n",
       "</div>\n",
       "</div>\n",
       "<div class=\"quote\" itemscope=\"\" itemtype=\"http://schema.org/CreativeWork\">\n",
       "<span class=\"text\" itemprop=\"text\">“The person, be it gentleman or lady, who has not pleasure in a good novel, must be intolerably stupid.”</span>\n",
       "<span>by <small class=\"author\" itemprop=\"author\">Jane Austen</small>\n",
       "<a href=\"/author/Jane-Austen\">(about)</a>\n",
       "</span>\n",
       "<div class=\"tags\">\n",
       "            Tags:\n",
       "            <meta class=\"keywords\" content=\"aliteracy,books,classic,humor\" itemprop=\"keywords\"/>\n",
       "<a class=\"tag\" href=\"/tag/aliteracy/page/1/\">aliteracy</a>\n",
       "<a class=\"tag\" href=\"/tag/books/page/1/\">books</a>\n",
       "<a class=\"tag\" href=\"/tag/classic/page/1/\">classic</a>\n",
       "<a class=\"tag\" href=\"/tag/humor/page/1/\">humor</a>\n",
       "</div>\n",
       "</div>\n",
       "<div class=\"quote\" itemscope=\"\" itemtype=\"http://schema.org/CreativeWork\">\n",
       "<span class=\"text\" itemprop=\"text\">“Imperfection is beauty, madness is genius and it's better to be absolutely ridiculous than absolutely boring.”</span>\n",
       "<span>by <small class=\"author\" itemprop=\"author\">Marilyn Monroe</small>\n",
       "<a href=\"/author/Marilyn-Monroe\">(about)</a>\n",
       "</span>\n",
       "<div class=\"tags\">\n",
       "            Tags:\n",
       "            <meta class=\"keywords\" content=\"be-yourself,inspirational\" itemprop=\"keywords\"/>\n",
       "<a class=\"tag\" href=\"/tag/be-yourself/page/1/\">be-yourself</a>\n",
       "<a class=\"tag\" href=\"/tag/inspirational/page/1/\">inspirational</a>\n",
       "</div>\n",
       "</div>\n",
       "<div class=\"quote\" itemscope=\"\" itemtype=\"http://schema.org/CreativeWork\">\n",
       "<span class=\"text\" itemprop=\"text\">“Try not to become a man of success. Rather become a man of value.”</span>\n",
       "<span>by <small class=\"author\" itemprop=\"author\">Albert Einstein</small>\n",
       "<a href=\"/author/Albert-Einstein\">(about)</a>\n",
       "</span>\n",
       "<div class=\"tags\">\n",
       "            Tags:\n",
       "            <meta class=\"keywords\" content=\"adulthood,success,value\" itemprop=\"keywords\"/>\n",
       "<a class=\"tag\" href=\"/tag/adulthood/page/1/\">adulthood</a>\n",
       "<a class=\"tag\" href=\"/tag/success/page/1/\">success</a>\n",
       "<a class=\"tag\" href=\"/tag/value/page/1/\">value</a>\n",
       "</div>\n",
       "</div>\n",
       "<div class=\"quote\" itemscope=\"\" itemtype=\"http://schema.org/CreativeWork\">\n",
       "<span class=\"text\" itemprop=\"text\">“It is better to be hated for what you are than to be loved for what you are not.”</span>\n",
       "<span>by <small class=\"author\" itemprop=\"author\">André Gide</small>\n",
       "<a href=\"/author/Andre-Gide\">(about)</a>\n",
       "</span>\n",
       "<div class=\"tags\">\n",
       "            Tags:\n",
       "            <meta class=\"keywords\" content=\"life,love\" itemprop=\"keywords\"/>\n",
       "<a class=\"tag\" href=\"/tag/life/page/1/\">life</a>\n",
       "<a class=\"tag\" href=\"/tag/love/page/1/\">love</a>\n",
       "</div>\n",
       "</div>\n",
       "<div class=\"quote\" itemscope=\"\" itemtype=\"http://schema.org/CreativeWork\">\n",
       "<span class=\"text\" itemprop=\"text\">“I have not failed. I've just found 10,000 ways that won't work.”</span>\n",
       "<span>by <small class=\"author\" itemprop=\"author\">Thomas A. Edison</small>\n",
       "<a href=\"/author/Thomas-A-Edison\">(about)</a>\n",
       "</span>\n",
       "<div class=\"tags\">\n",
       "            Tags:\n",
       "            <meta class=\"keywords\" content=\"edison,failure,inspirational,paraphrased\" itemprop=\"keywords\"/>\n",
       "<a class=\"tag\" href=\"/tag/edison/page/1/\">edison</a>\n",
       "<a class=\"tag\" href=\"/tag/failure/page/1/\">failure</a>\n",
       "<a class=\"tag\" href=\"/tag/inspirational/page/1/\">inspirational</a>\n",
       "<a class=\"tag\" href=\"/tag/paraphrased/page/1/\">paraphrased</a>\n",
       "</div>\n",
       "</div>\n",
       "<div class=\"quote\" itemscope=\"\" itemtype=\"http://schema.org/CreativeWork\">\n",
       "<span class=\"text\" itemprop=\"text\">“A woman is like a tea bag; you never know how strong it is until it's in hot water.”</span>\n",
       "<span>by <small class=\"author\" itemprop=\"author\">Eleanor Roosevelt</small>\n",
       "<a href=\"/author/Eleanor-Roosevelt\">(about)</a>\n",
       "</span>\n",
       "<div class=\"tags\">\n",
       "            Tags:\n",
       "            <meta class=\"keywords\" content=\"misattributed-eleanor-roosevelt\" itemprop=\"keywords\"/>\n",
       "<a class=\"tag\" href=\"/tag/misattributed-eleanor-roosevelt/page/1/\">misattributed-eleanor-roosevelt</a>\n",
       "</div>\n",
       "</div>\n",
       "<div class=\"quote\" itemscope=\"\" itemtype=\"http://schema.org/CreativeWork\">\n",
       "<span class=\"text\" itemprop=\"text\">“A day without sunshine is like, you know, night.”</span>\n",
       "<span>by <small class=\"author\" itemprop=\"author\">Steve Martin</small>\n",
       "<a href=\"/author/Steve-Martin\">(about)</a>\n",
       "</span>\n",
       "<div class=\"tags\">\n",
       "            Tags:\n",
       "            <meta class=\"keywords\" content=\"humor,obvious,simile\" itemprop=\"keywords\"/>\n",
       "<a class=\"tag\" href=\"/tag/humor/page/1/\">humor</a>\n",
       "<a class=\"tag\" href=\"/tag/obvious/page/1/\">obvious</a>\n",
       "<a class=\"tag\" href=\"/tag/simile/page/1/\">simile</a>\n",
       "</div>\n",
       "</div>\n",
       "<nav>\n",
       "<ul class=\"pager\">\n",
       "<li class=\"next\">\n",
       "<a href=\"/page/2/\">Next <span aria-hidden=\"true\">→</span></a>\n",
       "</li>\n",
       "</ul>\n",
       "</nav>\n",
       "</div>\n",
       "<div class=\"col-md-4 tags-box\">\n",
       "<h2>Top Ten tags</h2>\n",
       "<span class=\"tag-item\">\n",
       "<a class=\"tag\" href=\"/tag/love/\" style=\"font-size: 28px\">love</a>\n",
       "</span>\n",
       "<span class=\"tag-item\">\n",
       "<a class=\"tag\" href=\"/tag/inspirational/\" style=\"font-size: 26px\">inspirational</a>\n",
       "</span>\n",
       "<span class=\"tag-item\">\n",
       "<a class=\"tag\" href=\"/tag/life/\" style=\"font-size: 26px\">life</a>\n",
       "</span>\n",
       "<span class=\"tag-item\">\n",
       "<a class=\"tag\" href=\"/tag/humor/\" style=\"font-size: 24px\">humor</a>\n",
       "</span>\n",
       "<span class=\"tag-item\">\n",
       "<a class=\"tag\" href=\"/tag/books/\" style=\"font-size: 22px\">books</a>\n",
       "</span>\n",
       "<span class=\"tag-item\">\n",
       "<a class=\"tag\" href=\"/tag/reading/\" style=\"font-size: 14px\">reading</a>\n",
       "</span>\n",
       "<span class=\"tag-item\">\n",
       "<a class=\"tag\" href=\"/tag/friendship/\" style=\"font-size: 10px\">friendship</a>\n",
       "</span>\n",
       "<span class=\"tag-item\">\n",
       "<a class=\"tag\" href=\"/tag/friends/\" style=\"font-size: 8px\">friends</a>\n",
       "</span>\n",
       "<span class=\"tag-item\">\n",
       "<a class=\"tag\" href=\"/tag/truth/\" style=\"font-size: 8px\">truth</a>\n",
       "</span>\n",
       "<span class=\"tag-item\">\n",
       "<a class=\"tag\" href=\"/tag/simile/\" style=\"font-size: 6px\">simile</a>\n",
       "</span>\n",
       "</div>\n",
       "</div>\n",
       "</div>\n",
       "<footer class=\"footer\">\n",
       "<div class=\"container\">\n",
       "<p class=\"text-muted\">\n",
       "                Quotes by: <a href=\"https://www.goodreads.com/quotes\">GoodReads.com</a>\n",
       "</p>\n",
       "<p class=\"copyright\">\n",
       "                Made with <span class=\"sh-red\">❤</span> by <a href=\"https://scrapinghub.com\">Scrapinghub</a>\n",
       "</p>\n",
       "</div>\n",
       "</footer>\n",
       "</body>\n",
       "</html>"
      ]
     },
     "execution_count": 85,
     "metadata": {},
     "output_type": "execute_result"
    }
   ],
   "source": [
    "soup"
   ]
  },
  {
   "cell_type": "code",
   "execution_count": null,
   "id": "c15dfb30",
   "metadata": {},
   "outputs": [],
   "source": []
  },
  {
   "cell_type": "code",
   "execution_count": null,
   "id": "075ce9e3",
   "metadata": {},
   "outputs": [],
   "source": []
  },
  {
   "cell_type": "code",
   "execution_count": null,
   "id": "6b7d9a5b",
   "metadata": {},
   "outputs": [],
   "source": []
  },
  {
   "cell_type": "markdown",
   "id": "fcbb62ef",
   "metadata": {},
   "source": [
    "## TASK :- get names of all authors on the first page"
   ]
  },
  {
   "cell_type": "code",
   "execution_count": 86,
   "id": "7677bb89",
   "metadata": {},
   "outputs": [
    {
     "data": {
      "text/plain": [
       "[<small class=\"author\" itemprop=\"author\">Albert Einstein</small>,\n",
       " <small class=\"author\" itemprop=\"author\">J.K. Rowling</small>,\n",
       " <small class=\"author\" itemprop=\"author\">Albert Einstein</small>,\n",
       " <small class=\"author\" itemprop=\"author\">Jane Austen</small>,\n",
       " <small class=\"author\" itemprop=\"author\">Marilyn Monroe</small>,\n",
       " <small class=\"author\" itemprop=\"author\">Albert Einstein</small>,\n",
       " <small class=\"author\" itemprop=\"author\">André Gide</small>,\n",
       " <small class=\"author\" itemprop=\"author\">Thomas A. Edison</small>,\n",
       " <small class=\"author\" itemprop=\"author\">Eleanor Roosevelt</small>,\n",
       " <small class=\"author\" itemprop=\"author\">Steve Martin</small>]"
      ]
     },
     "execution_count": 86,
     "metadata": {},
     "output_type": "execute_result"
    }
   ],
   "source": [
    "soup.select('.author')"
   ]
  },
  {
   "cell_type": "code",
   "execution_count": 87,
   "id": "e2eb7263",
   "metadata": {},
   "outputs": [
    {
     "data": {
      "text/plain": [
       "bs4.element.ResultSet"
      ]
     },
     "execution_count": 87,
     "metadata": {},
     "output_type": "execute_result"
    }
   ],
   "source": [
    "type(soup.select('.author'))"
   ]
  },
  {
   "cell_type": "code",
   "execution_count": 88,
   "id": "511e9ad4",
   "metadata": {},
   "outputs": [
    {
     "data": {
      "text/plain": [
       "[<small class=\"author\" itemprop=\"author\">Albert Einstein</small>,\n",
       " <small class=\"author\" itemprop=\"author\">J.K. Rowling</small>,\n",
       " <small class=\"author\" itemprop=\"author\">Albert Einstein</small>,\n",
       " <small class=\"author\" itemprop=\"author\">Jane Austen</small>,\n",
       " <small class=\"author\" itemprop=\"author\">Marilyn Monroe</small>,\n",
       " <small class=\"author\" itemprop=\"author\">Albert Einstein</small>,\n",
       " <small class=\"author\" itemprop=\"author\">André Gide</small>,\n",
       " <small class=\"author\" itemprop=\"author\">Thomas A. Edison</small>,\n",
       " <small class=\"author\" itemprop=\"author\">Eleanor Roosevelt</small>,\n",
       " <small class=\"author\" itemprop=\"author\">Steve Martin</small>]"
      ]
     },
     "execution_count": 88,
     "metadata": {},
     "output_type": "execute_result"
    }
   ],
   "source": [
    "soup.select('.author')"
   ]
  },
  {
   "cell_type": "code",
   "execution_count": 89,
   "id": "0b9122a9",
   "metadata": {},
   "outputs": [
    {
     "data": {
      "text/plain": [
       "10"
      ]
     },
     "execution_count": 89,
     "metadata": {},
     "output_type": "execute_result"
    }
   ],
   "source": [
    "len(soup.select('.author'))"
   ]
  },
  {
   "cell_type": "code",
   "execution_count": 90,
   "id": "786ea731",
   "metadata": {},
   "outputs": [
    {
     "data": {
      "text/plain": [
       "<small class=\"author\" itemprop=\"author\">Albert Einstein</small>"
      ]
     },
     "execution_count": 90,
     "metadata": {},
     "output_type": "execute_result"
    }
   ],
   "source": [
    "soup.select('.author')[0]"
   ]
  },
  {
   "cell_type": "code",
   "execution_count": 91,
   "id": "4b4389ac",
   "metadata": {},
   "outputs": [
    {
     "data": {
      "text/plain": [
       "'Albert Einstein'"
      ]
     },
     "execution_count": 91,
     "metadata": {},
     "output_type": "execute_result"
    }
   ],
   "source": [
    "soup.select('.author')[0].text"
   ]
  },
  {
   "cell_type": "code",
   "execution_count": 92,
   "id": "7d9ea0ba",
   "metadata": {},
   "outputs": [],
   "source": [
    "authors = []\n",
    "\n",
    "for i in range(len(soup.select('.author'))):\n",
    "    authors.append(soup.select('.author')[i].text)"
   ]
  },
  {
   "cell_type": "code",
   "execution_count": 93,
   "id": "aead7142",
   "metadata": {},
   "outputs": [
    {
     "data": {
      "text/plain": [
       "['Albert Einstein',\n",
       " 'J.K. Rowling',\n",
       " 'Albert Einstein',\n",
       " 'Jane Austen',\n",
       " 'Marilyn Monroe',\n",
       " 'Albert Einstein',\n",
       " 'André Gide',\n",
       " 'Thomas A. Edison',\n",
       " 'Eleanor Roosevelt',\n",
       " 'Steve Martin']"
      ]
     },
     "execution_count": 93,
     "metadata": {},
     "output_type": "execute_result"
    }
   ],
   "source": [
    "authors"
   ]
  },
  {
   "cell_type": "code",
   "execution_count": 94,
   "id": "0213ac95",
   "metadata": {},
   "outputs": [],
   "source": [
    "authors = set(authors)"
   ]
  },
  {
   "cell_type": "code",
   "execution_count": 95,
   "id": "f3c690c9",
   "metadata": {},
   "outputs": [
    {
     "data": {
      "text/plain": [
       "{'Albert Einstein',\n",
       " 'André Gide',\n",
       " 'Eleanor Roosevelt',\n",
       " 'J.K. Rowling',\n",
       " 'Jane Austen',\n",
       " 'Marilyn Monroe',\n",
       " 'Steve Martin',\n",
       " 'Thomas A. Edison'}"
      ]
     },
     "execution_count": 95,
     "metadata": {},
     "output_type": "execute_result"
    }
   ],
   "source": [
    "authors"
   ]
  },
  {
   "cell_type": "code",
   "execution_count": 96,
   "id": "a3c72ed9",
   "metadata": {},
   "outputs": [],
   "source": [
    "# Another Way\n",
    "authors = set()\n",
    "for name in soup.select('.author'):\n",
    "    authors.add(name.text)"
   ]
  },
  {
   "cell_type": "code",
   "execution_count": 97,
   "id": "fc17d916",
   "metadata": {},
   "outputs": [
    {
     "data": {
      "text/plain": [
       "{'Albert Einstein',\n",
       " 'André Gide',\n",
       " 'Eleanor Roosevelt',\n",
       " 'J.K. Rowling',\n",
       " 'Jane Austen',\n",
       " 'Marilyn Monroe',\n",
       " 'Steve Martin',\n",
       " 'Thomas A. Edison'}"
      ]
     },
     "execution_count": 97,
     "metadata": {},
     "output_type": "execute_result"
    }
   ],
   "source": [
    "authors"
   ]
  },
  {
   "cell_type": "code",
   "execution_count": null,
   "id": "8a6e0c41",
   "metadata": {},
   "outputs": [],
   "source": []
  },
  {
   "cell_type": "code",
   "execution_count": null,
   "id": "8ce987dd",
   "metadata": {},
   "outputs": [],
   "source": []
  },
  {
   "cell_type": "code",
   "execution_count": null,
   "id": "6e2f9e79",
   "metadata": {},
   "outputs": [],
   "source": []
  },
  {
   "cell_type": "markdown",
   "id": "8227cc51",
   "metadata": {},
   "source": [
    "## TASK: Create a list of all quotes on the first page"
   ]
  },
  {
   "cell_type": "code",
   "execution_count": 50,
   "id": "8b6eeadd",
   "metadata": {},
   "outputs": [
    {
     "data": {
      "text/plain": [
       "10"
      ]
     },
     "execution_count": 50,
     "metadata": {},
     "output_type": "execute_result"
    }
   ],
   "source": [
    "n = len(soup.select('.text'))\n",
    "n"
   ]
  },
  {
   "cell_type": "code",
   "execution_count": 53,
   "id": "e1116cb4",
   "metadata": {},
   "outputs": [],
   "source": [
    "quotes = []\n",
    "\n",
    "for i in range(n):\n",
    "    quotes.append(soup.select('.text')[i].text)"
   ]
  },
  {
   "cell_type": "code",
   "execution_count": 54,
   "id": "9fb1cb3c",
   "metadata": {
    "scrolled": true
   },
   "outputs": [
    {
     "data": {
      "text/plain": [
       "['“The world as we have created it is a process of our thinking. It cannot be changed without changing our thinking.”',\n",
       " '“It is our choices, Harry, that show what we truly are, far more than our abilities.”',\n",
       " '“There are only two ways to live your life. One is as though nothing is a miracle. The other is as though everything is a miracle.”',\n",
       " '“The person, be it gentleman or lady, who has not pleasure in a good novel, must be intolerably stupid.”',\n",
       " \"“Imperfection is beauty, madness is genius and it's better to be absolutely ridiculous than absolutely boring.”\",\n",
       " '“Try not to become a man of success. Rather become a man of value.”',\n",
       " '“It is better to be hated for what you are than to be loved for what you are not.”',\n",
       " \"“I have not failed. I've just found 10,000 ways that won't work.”\",\n",
       " \"“A woman is like a tea bag; you never know how strong it is until it's in hot water.”\",\n",
       " '“A day without sunshine is like, you know, night.”']"
      ]
     },
     "execution_count": 54,
     "metadata": {},
     "output_type": "execute_result"
    }
   ],
   "source": [
    "quotes"
   ]
  },
  {
   "cell_type": "code",
   "execution_count": 100,
   "id": "48add68e",
   "metadata": {},
   "outputs": [],
   "source": [
    "# Another Way\n",
    "quotes = []\n",
    "\n",
    "for quote in soup.select('.text'):\n",
    "    quotes.append(quote.text)"
   ]
  },
  {
   "cell_type": "code",
   "execution_count": 99,
   "id": "0ed57051",
   "metadata": {},
   "outputs": [
    {
     "data": {
      "text/plain": [
       "['“The world as we have created it is a process of our thinking. It cannot be changed without changing our thinking.”',\n",
       " '“It is our choices, Harry, that show what we truly are, far more than our abilities.”',\n",
       " '“There are only two ways to live your life. One is as though nothing is a miracle. The other is as though everything is a miracle.”',\n",
       " '“The person, be it gentleman or lady, who has not pleasure in a good novel, must be intolerably stupid.”',\n",
       " \"“Imperfection is beauty, madness is genius and it's better to be absolutely ridiculous than absolutely boring.”\",\n",
       " '“Try not to become a man of success. Rather become a man of value.”',\n",
       " '“It is better to be hated for what you are than to be loved for what you are not.”',\n",
       " \"“I have not failed. I've just found 10,000 ways that won't work.”\",\n",
       " \"“A woman is like a tea bag; you never know how strong it is until it's in hot water.”\",\n",
       " '“A day without sunshine is like, you know, night.”']"
      ]
     },
     "execution_count": 99,
     "metadata": {},
     "output_type": "execute_result"
    }
   ],
   "source": [
    "quotes"
   ]
  },
  {
   "cell_type": "markdown",
   "id": "4b9aa400",
   "metadata": {},
   "source": []
  },
  {
   "cell_type": "code",
   "execution_count": null,
   "id": "ecf8950a",
   "metadata": {},
   "outputs": [],
   "source": []
  },
  {
   "cell_type": "code",
   "execution_count": null,
   "id": "0f8d4956",
   "metadata": {},
   "outputs": [],
   "source": []
  },
  {
   "cell_type": "markdown",
   "id": "ba974856",
   "metadata": {},
   "source": [
    "## Extract top ten tags"
   ]
  },
  {
   "cell_type": "code",
   "execution_count": 103,
   "id": "e7babb73",
   "metadata": {
    "scrolled": false
   },
   "outputs": [
    {
     "data": {
      "text/plain": [
       "[<span class=\"tag-item\">\n",
       " <a class=\"tag\" href=\"/tag/love/\" style=\"font-size: 28px\">love</a>\n",
       " </span>,\n",
       " <span class=\"tag-item\">\n",
       " <a class=\"tag\" href=\"/tag/inspirational/\" style=\"font-size: 26px\">inspirational</a>\n",
       " </span>,\n",
       " <span class=\"tag-item\">\n",
       " <a class=\"tag\" href=\"/tag/life/\" style=\"font-size: 26px\">life</a>\n",
       " </span>,\n",
       " <span class=\"tag-item\">\n",
       " <a class=\"tag\" href=\"/tag/humor/\" style=\"font-size: 24px\">humor</a>\n",
       " </span>,\n",
       " <span class=\"tag-item\">\n",
       " <a class=\"tag\" href=\"/tag/books/\" style=\"font-size: 22px\">books</a>\n",
       " </span>,\n",
       " <span class=\"tag-item\">\n",
       " <a class=\"tag\" href=\"/tag/reading/\" style=\"font-size: 14px\">reading</a>\n",
       " </span>,\n",
       " <span class=\"tag-item\">\n",
       " <a class=\"tag\" href=\"/tag/friendship/\" style=\"font-size: 10px\">friendship</a>\n",
       " </span>,\n",
       " <span class=\"tag-item\">\n",
       " <a class=\"tag\" href=\"/tag/friends/\" style=\"font-size: 8px\">friends</a>\n",
       " </span>,\n",
       " <span class=\"tag-item\">\n",
       " <a class=\"tag\" href=\"/tag/truth/\" style=\"font-size: 8px\">truth</a>\n",
       " </span>,\n",
       " <span class=\"tag-item\">\n",
       " <a class=\"tag\" href=\"/tag/simile/\" style=\"font-size: 6px\">simile</a>\n",
       " </span>]"
      ]
     },
     "execution_count": 103,
     "metadata": {},
     "output_type": "execute_result"
    }
   ],
   "source": [
    "soup.select('.tag-item')"
   ]
  },
  {
   "cell_type": "code",
   "execution_count": 58,
   "id": "1cad30ca",
   "metadata": {},
   "outputs": [
    {
     "data": {
      "text/plain": [
       "'\\nlove\\n'"
      ]
     },
     "execution_count": 58,
     "metadata": {},
     "output_type": "execute_result"
    }
   ],
   "source": [
    "soup.select('.tag-item')[0].text"
   ]
  },
  {
   "cell_type": "code",
   "execution_count": 59,
   "id": "9d0164e7",
   "metadata": {
    "scrolled": true
   },
   "outputs": [
    {
     "name": "stdout",
     "output_type": "stream",
     "text": [
      "\n",
      "love\n",
      "\n"
     ]
    }
   ],
   "source": [
    "print(soup.select('.tag-item')[0].text)"
   ]
  },
  {
   "cell_type": "code",
   "execution_count": 60,
   "id": "d23d0e26",
   "metadata": {},
   "outputs": [
    {
     "data": {
      "text/plain": [
       "10"
      ]
     },
     "execution_count": 60,
     "metadata": {},
     "output_type": "execute_result"
    }
   ],
   "source": [
    "n = len(soup.select('.tag-item'))\n",
    "n"
   ]
  },
  {
   "cell_type": "code",
   "execution_count": 61,
   "id": "162d42c1",
   "metadata": {},
   "outputs": [],
   "source": [
    "tags = []\n",
    "\n",
    "for i in range(n):\n",
    "    tags.append(soup.select('.tag-item')[i].text)"
   ]
  },
  {
   "cell_type": "code",
   "execution_count": 64,
   "id": "837de65c",
   "metadata": {},
   "outputs": [
    {
     "name": "stdout",
     "output_type": "stream",
     "text": [
      "\n",
      "love\n",
      "\n",
      "\n",
      "inspirational\n",
      "\n",
      "\n",
      "life\n",
      "\n",
      "\n",
      "humor\n",
      "\n",
      "\n",
      "books\n",
      "\n",
      "\n",
      "reading\n",
      "\n",
      "\n",
      "friendship\n",
      "\n",
      "\n",
      "friends\n",
      "\n",
      "\n",
      "truth\n",
      "\n",
      "\n",
      "simile\n",
      "\n"
     ]
    }
   ],
   "source": [
    "for tag in tags:\n",
    "    print(tag)"
   ]
  },
  {
   "cell_type": "code",
   "execution_count": 104,
   "id": "52a202d1",
   "metadata": {},
   "outputs": [
    {
     "name": "stdout",
     "output_type": "stream",
     "text": [
      "\n",
      "love\n",
      "\n",
      "\n",
      "inspirational\n",
      "\n",
      "\n",
      "life\n",
      "\n",
      "\n",
      "humor\n",
      "\n",
      "\n",
      "books\n",
      "\n",
      "\n",
      "reading\n",
      "\n",
      "\n",
      "friendship\n",
      "\n",
      "\n",
      "friends\n",
      "\n",
      "\n",
      "truth\n",
      "\n",
      "\n",
      "simile\n",
      "\n"
     ]
    }
   ],
   "source": [
    "# Another Way\n",
    "for item in soup.select('.tag-item'):\n",
    "    print(item.text)"
   ]
  },
  {
   "cell_type": "code",
   "execution_count": null,
   "id": "85428474",
   "metadata": {},
   "outputs": [],
   "source": []
  },
  {
   "cell_type": "code",
   "execution_count": null,
   "id": "93cb73f3",
   "metadata": {},
   "outputs": [],
   "source": []
  },
  {
   "cell_type": "code",
   "execution_count": null,
   "id": "c4664d12",
   "metadata": {},
   "outputs": [],
   "source": []
  },
  {
   "cell_type": "code",
   "execution_count": null,
   "id": "d6c24030",
   "metadata": {},
   "outputs": [],
   "source": []
  },
  {
   "cell_type": "markdown",
   "id": "f3a196a0",
   "metadata": {},
   "source": [
    "## Get all the unique authors on the Website"
   ]
  },
  {
   "cell_type": "code",
   "execution_count": 66,
   "id": "2382d5c6",
   "metadata": {},
   "outputs": [],
   "source": [
    "base_url = 'http://quotes.toscrape.com/page/{}/'"
   ]
  },
  {
   "cell_type": "code",
   "execution_count": 69,
   "id": "a8044942",
   "metadata": {},
   "outputs": [
    {
     "data": {
      "text/plain": [
       "'http://quotes.toscrape.com/page/3/'"
      ]
     },
     "execution_count": 69,
     "metadata": {},
     "output_type": "execute_result"
    }
   ],
   "source": [
    "page = base_url.format(3)\n",
    "page"
   ]
  },
  {
   "cell_type": "code",
   "execution_count": 73,
   "id": "1a25eb09",
   "metadata": {},
   "outputs": [
    {
     "data": {
      "text/plain": [
       "<!DOCTYPE html>\n",
       "<html lang=\"en\">\n",
       "<head>\n",
       "<meta charset=\"utf-8\"/>\n",
       "<title>Quotes to Scrape</title>\n",
       "<link href=\"/static/bootstrap.min.css\" rel=\"stylesheet\"/>\n",
       "<link href=\"/static/main.css\" rel=\"stylesheet\"/>\n",
       "</head>\n",
       "<body>\n",
       "<div class=\"container\">\n",
       "<div class=\"row header-box\">\n",
       "<div class=\"col-md-8\">\n",
       "<h1>\n",
       "<a href=\"/\" style=\"text-decoration: none\">Quotes to Scrape</a>\n",
       "</h1>\n",
       "</div>\n",
       "<div class=\"col-md-4\">\n",
       "<p>\n",
       "<a href=\"/login\">Login</a>\n",
       "</p>\n",
       "</div>\n",
       "</div>\n",
       "<div class=\"row\">\n",
       "<div class=\"col-md-8\">\n",
       "<div class=\"quote\" itemscope=\"\" itemtype=\"http://schema.org/CreativeWork\">\n",
       "<span class=\"text\" itemprop=\"text\">“I love you without knowing how, or when, or from where. I love you simply, without problems or pride: I love you in this way because I do not know any other way of loving but this, in which there is no I or you, so intimate that your hand upon my chest is my hand, so intimate that when I fall asleep your eyes close.”</span>\n",
       "<span>by <small class=\"author\" itemprop=\"author\">Pablo Neruda</small>\n",
       "<a href=\"/author/Pablo-Neruda\">(about)</a>\n",
       "</span>\n",
       "<div class=\"tags\">\n",
       "            Tags:\n",
       "            <meta class=\"keywords\" content=\"love,poetry\" itemprop=\"keywords\"/>\n",
       "<a class=\"tag\" href=\"/tag/love/page/1/\">love</a>\n",
       "<a class=\"tag\" href=\"/tag/poetry/page/1/\">poetry</a>\n",
       "</div>\n",
       "</div>\n",
       "<div class=\"quote\" itemscope=\"\" itemtype=\"http://schema.org/CreativeWork\">\n",
       "<span class=\"text\" itemprop=\"text\">“For every minute you are angry you lose sixty seconds of happiness.”</span>\n",
       "<span>by <small class=\"author\" itemprop=\"author\">Ralph Waldo Emerson</small>\n",
       "<a href=\"/author/Ralph-Waldo-Emerson\">(about)</a>\n",
       "</span>\n",
       "<div class=\"tags\">\n",
       "            Tags:\n",
       "            <meta class=\"keywords\" content=\"happiness\" itemprop=\"keywords\"/>\n",
       "<a class=\"tag\" href=\"/tag/happiness/page/1/\">happiness</a>\n",
       "</div>\n",
       "</div>\n",
       "<div class=\"quote\" itemscope=\"\" itemtype=\"http://schema.org/CreativeWork\">\n",
       "<span class=\"text\" itemprop=\"text\">“If you judge people, you have no time to love them.”</span>\n",
       "<span>by <small class=\"author\" itemprop=\"author\">Mother Teresa</small>\n",
       "<a href=\"/author/Mother-Teresa\">(about)</a>\n",
       "</span>\n",
       "<div class=\"tags\">\n",
       "            Tags:\n",
       "            <meta class=\"keywords\" content=\"attributed-no-source\" itemprop=\"keywords\"/>\n",
       "<a class=\"tag\" href=\"/tag/attributed-no-source/page/1/\">attributed-no-source</a>\n",
       "</div>\n",
       "</div>\n",
       "<div class=\"quote\" itemscope=\"\" itemtype=\"http://schema.org/CreativeWork\">\n",
       "<span class=\"text\" itemprop=\"text\">“Anyone who thinks sitting in church can make you a Christian must also think that sitting in a garage can make you a car.”</span>\n",
       "<span>by <small class=\"author\" itemprop=\"author\">Garrison Keillor</small>\n",
       "<a href=\"/author/Garrison-Keillor\">(about)</a>\n",
       "</span>\n",
       "<div class=\"tags\">\n",
       "            Tags:\n",
       "            <meta class=\"keywords\" content=\"humor,religion\" itemprop=\"keywords\"/>\n",
       "<a class=\"tag\" href=\"/tag/humor/page/1/\">humor</a>\n",
       "<a class=\"tag\" href=\"/tag/religion/page/1/\">religion</a>\n",
       "</div>\n",
       "</div>\n",
       "<div class=\"quote\" itemscope=\"\" itemtype=\"http://schema.org/CreativeWork\">\n",
       "<span class=\"text\" itemprop=\"text\">“Beauty is in the eye of the beholder and it may be necessary from time to time to give a stupid or misinformed beholder a black eye.”</span>\n",
       "<span>by <small class=\"author\" itemprop=\"author\">Jim Henson</small>\n",
       "<a href=\"/author/Jim-Henson\">(about)</a>\n",
       "</span>\n",
       "<div class=\"tags\">\n",
       "            Tags:\n",
       "            <meta class=\"keywords\" content=\"humor\" itemprop=\"keywords\"/>\n",
       "<a class=\"tag\" href=\"/tag/humor/page/1/\">humor</a>\n",
       "</div>\n",
       "</div>\n",
       "<div class=\"quote\" itemscope=\"\" itemtype=\"http://schema.org/CreativeWork\">\n",
       "<span class=\"text\" itemprop=\"text\">“Today you are You, that is truer than true. There is no one alive who is Youer than You.”</span>\n",
       "<span>by <small class=\"author\" itemprop=\"author\">Dr. Seuss</small>\n",
       "<a href=\"/author/Dr-Seuss\">(about)</a>\n",
       "</span>\n",
       "<div class=\"tags\">\n",
       "            Tags:\n",
       "            <meta class=\"keywords\" content=\"comedy,life,yourself\" itemprop=\"keywords\"/>\n",
       "<a class=\"tag\" href=\"/tag/comedy/page/1/\">comedy</a>\n",
       "<a class=\"tag\" href=\"/tag/life/page/1/\">life</a>\n",
       "<a class=\"tag\" href=\"/tag/yourself/page/1/\">yourself</a>\n",
       "</div>\n",
       "</div>\n",
       "<div class=\"quote\" itemscope=\"\" itemtype=\"http://schema.org/CreativeWork\">\n",
       "<span class=\"text\" itemprop=\"text\">“If you want your children to be intelligent, read them fairy tales. If you want them to be more intelligent, read them more fairy tales.”</span>\n",
       "<span>by <small class=\"author\" itemprop=\"author\">Albert Einstein</small>\n",
       "<a href=\"/author/Albert-Einstein\">(about)</a>\n",
       "</span>\n",
       "<div class=\"tags\">\n",
       "            Tags:\n",
       "            <meta class=\"keywords\" content=\"children,fairy-tales\" itemprop=\"keywords\"/>\n",
       "<a class=\"tag\" href=\"/tag/children/page/1/\">children</a>\n",
       "<a class=\"tag\" href=\"/tag/fairy-tales/page/1/\">fairy-tales</a>\n",
       "</div>\n",
       "</div>\n",
       "<div class=\"quote\" itemscope=\"\" itemtype=\"http://schema.org/CreativeWork\">\n",
       "<span class=\"text\" itemprop=\"text\">“It is impossible to live without failing at something, unless you live so cautiously that you might as well not have lived at all - in which case, you fail by default.”</span>\n",
       "<span>by <small class=\"author\" itemprop=\"author\">J.K. Rowling</small>\n",
       "<a href=\"/author/J-K-Rowling\">(about)</a>\n",
       "</span>\n",
       "<div class=\"tags\">\n",
       "<meta class=\"keywords\" content=\"\" itemprop=\"keywords\"/>\n",
       "</div>\n",
       "</div>\n",
       "<div class=\"quote\" itemscope=\"\" itemtype=\"http://schema.org/CreativeWork\">\n",
       "<span class=\"text\" itemprop=\"text\">“Logic will get you from A to Z; imagination will get you everywhere.”</span>\n",
       "<span>by <small class=\"author\" itemprop=\"author\">Albert Einstein</small>\n",
       "<a href=\"/author/Albert-Einstein\">(about)</a>\n",
       "</span>\n",
       "<div class=\"tags\">\n",
       "            Tags:\n",
       "            <meta class=\"keywords\" content=\"imagination\" itemprop=\"keywords\"/>\n",
       "<a class=\"tag\" href=\"/tag/imagination/page/1/\">imagination</a>\n",
       "</div>\n",
       "</div>\n",
       "<div class=\"quote\" itemscope=\"\" itemtype=\"http://schema.org/CreativeWork\">\n",
       "<span class=\"text\" itemprop=\"text\">“One good thing about music, when it hits you, you feel no pain.”</span>\n",
       "<span>by <small class=\"author\" itemprop=\"author\">Bob Marley</small>\n",
       "<a href=\"/author/Bob-Marley\">(about)</a>\n",
       "</span>\n",
       "<div class=\"tags\">\n",
       "            Tags:\n",
       "            <meta class=\"keywords\" content=\"music\" itemprop=\"keywords\"/>\n",
       "<a class=\"tag\" href=\"/tag/music/page/1/\">music</a>\n",
       "</div>\n",
       "</div>\n",
       "<nav>\n",
       "<ul class=\"pager\">\n",
       "<li class=\"previous\">\n",
       "<a href=\"/page/2/\"><span aria-hidden=\"true\">←</span> Previous</a>\n",
       "</li>\n",
       "<li class=\"next\">\n",
       "<a href=\"/page/4/\">Next <span aria-hidden=\"true\">→</span></a>\n",
       "</li>\n",
       "</ul>\n",
       "</nav>\n",
       "</div>\n",
       "<div class=\"col-md-4 tags-box\">\n",
       "<h2>Top Ten tags</h2>\n",
       "<span class=\"tag-item\">\n",
       "<a class=\"tag\" href=\"/tag/love/\" style=\"font-size: 28px\">love</a>\n",
       "</span>\n",
       "<span class=\"tag-item\">\n",
       "<a class=\"tag\" href=\"/tag/inspirational/\" style=\"font-size: 26px\">inspirational</a>\n",
       "</span>\n",
       "<span class=\"tag-item\">\n",
       "<a class=\"tag\" href=\"/tag/life/\" style=\"font-size: 26px\">life</a>\n",
       "</span>\n",
       "<span class=\"tag-item\">\n",
       "<a class=\"tag\" href=\"/tag/humor/\" style=\"font-size: 24px\">humor</a>\n",
       "</span>\n",
       "<span class=\"tag-item\">\n",
       "<a class=\"tag\" href=\"/tag/books/\" style=\"font-size: 22px\">books</a>\n",
       "</span>\n",
       "<span class=\"tag-item\">\n",
       "<a class=\"tag\" href=\"/tag/reading/\" style=\"font-size: 14px\">reading</a>\n",
       "</span>\n",
       "<span class=\"tag-item\">\n",
       "<a class=\"tag\" href=\"/tag/friendship/\" style=\"font-size: 10px\">friendship</a>\n",
       "</span>\n",
       "<span class=\"tag-item\">\n",
       "<a class=\"tag\" href=\"/tag/friends/\" style=\"font-size: 8px\">friends</a>\n",
       "</span>\n",
       "<span class=\"tag-item\">\n",
       "<a class=\"tag\" href=\"/tag/truth/\" style=\"font-size: 8px\">truth</a>\n",
       "</span>\n",
       "<span class=\"tag-item\">\n",
       "<a class=\"tag\" href=\"/tag/simile/\" style=\"font-size: 6px\">simile</a>\n",
       "</span>\n",
       "</div>\n",
       "</div>\n",
       "</div>\n",
       "<footer class=\"footer\">\n",
       "<div class=\"container\">\n",
       "<p class=\"text-muted\">\n",
       "                Quotes by: <a href=\"https://www.goodreads.com/quotes\">GoodReads.com</a>\n",
       "</p>\n",
       "<p class=\"copyright\">\n",
       "                Made with <span class=\"sh-red\">❤</span> by <a href=\"https://scrapinghub.com\">Scrapinghub</a>\n",
       "</p>\n",
       "</div>\n",
       "</footer>\n",
       "</body>\n",
       "</html>"
      ]
     },
     "execution_count": 73,
     "metadata": {},
     "output_type": "execute_result"
    }
   ],
   "source": [
    "req = requests.get(page)\n",
    "soup = bs4.BeautifulSoup(req.text,'lxml')\n",
    "soup"
   ]
  },
  {
   "cell_type": "code",
   "execution_count": 74,
   "id": "417e8f95",
   "metadata": {},
   "outputs": [
    {
     "data": {
      "text/plain": [
       "[<small class=\"author\" itemprop=\"author\">Pablo Neruda</small>,\n",
       " <small class=\"author\" itemprop=\"author\">Ralph Waldo Emerson</small>,\n",
       " <small class=\"author\" itemprop=\"author\">Mother Teresa</small>,\n",
       " <small class=\"author\" itemprop=\"author\">Garrison Keillor</small>,\n",
       " <small class=\"author\" itemprop=\"author\">Jim Henson</small>,\n",
       " <small class=\"author\" itemprop=\"author\">Dr. Seuss</small>,\n",
       " <small class=\"author\" itemprop=\"author\">Albert Einstein</small>,\n",
       " <small class=\"author\" itemprop=\"author\">J.K. Rowling</small>,\n",
       " <small class=\"author\" itemprop=\"author\">Albert Einstein</small>,\n",
       " <small class=\"author\" itemprop=\"author\">Bob Marley</small>]"
      ]
     },
     "execution_count": 74,
     "metadata": {},
     "output_type": "execute_result"
    }
   ],
   "source": [
    "soup.select('.author')"
   ]
  },
  {
   "cell_type": "code",
   "execution_count": null,
   "id": "50e820e7",
   "metadata": {},
   "outputs": [],
   "source": []
  },
  {
   "cell_type": "code",
   "execution_count": 75,
   "id": "57d5fb80",
   "metadata": {},
   "outputs": [
    {
     "data": {
      "text/plain": [
       "'Pablo Neruda'"
      ]
     },
     "execution_count": 75,
     "metadata": {},
     "output_type": "execute_result"
    }
   ],
   "source": [
    "soup.select('.author')[0].text"
   ]
  },
  {
   "cell_type": "code",
   "execution_count": 76,
   "id": "c6f06f60",
   "metadata": {},
   "outputs": [],
   "source": [
    "base_url = 'http://quotes.toscrape.com/page/{}/'"
   ]
  },
  {
   "cell_type": "code",
   "execution_count": 78,
   "id": "2e99bd60",
   "metadata": {},
   "outputs": [],
   "source": [
    "req = requests.get('http://quotes.toscrape.com/')\n",
    "soup = bs4.BeautifulSoup(req.text,'lxml')\n",
    "base_url = 'http://quotes.toscrape.com/page/{}/' \n",
    "authors = []\n",
    "\n",
    "for i in range(1,11):\n",
    "    page = base_url.format(i)\n",
    "    \n",
    "    req = requests.get(page)\n",
    "    soup = bs4.BeautifulSoup(req.text,'lxml')\n",
    "    \n",
    "    no_of_authors = len(soup.select('.author'))\n",
    "\n",
    "    for j in range(no_of_authors):\n",
    "        authors.append(soup.select('.author')[j].text)"
   ]
  },
  {
   "cell_type": "code",
   "execution_count": 80,
   "id": "ddf27564",
   "metadata": {},
   "outputs": [
    {
     "data": {
      "text/plain": [
       "{'Albert Einstein',\n",
       " 'Alexandre Dumas fils',\n",
       " 'Alfred Tennyson',\n",
       " 'Allen Saunders',\n",
       " 'André Gide',\n",
       " 'Ayn Rand',\n",
       " 'Bob Marley',\n",
       " 'C.S. Lewis',\n",
       " 'Charles Bukowski',\n",
       " 'Charles M. Schulz',\n",
       " 'Douglas Adams',\n",
       " 'Dr. Seuss',\n",
       " 'E.E. Cummings',\n",
       " 'Eleanor Roosevelt',\n",
       " 'Elie Wiesel',\n",
       " 'Ernest Hemingway',\n",
       " 'Friedrich Nietzsche',\n",
       " 'Garrison Keillor',\n",
       " 'George Bernard Shaw',\n",
       " 'George Carlin',\n",
       " 'George Eliot',\n",
       " 'George R.R. Martin',\n",
       " 'Harper Lee',\n",
       " 'Haruki Murakami',\n",
       " 'Helen Keller',\n",
       " 'J.D. Salinger',\n",
       " 'J.K. Rowling',\n",
       " 'J.M. Barrie',\n",
       " 'J.R.R. Tolkien',\n",
       " 'James Baldwin',\n",
       " 'Jane Austen',\n",
       " 'Jim Henson',\n",
       " 'Jimi Hendrix',\n",
       " 'John Lennon',\n",
       " 'Jorge Luis Borges',\n",
       " 'Khaled Hosseini',\n",
       " \"Madeleine L'Engle\",\n",
       " 'Marilyn Monroe',\n",
       " 'Mark Twain',\n",
       " 'Martin Luther King Jr.',\n",
       " 'Mother Teresa',\n",
       " 'Pablo Neruda',\n",
       " 'Ralph Waldo Emerson',\n",
       " 'Stephenie Meyer',\n",
       " 'Steve Martin',\n",
       " 'Suzanne Collins',\n",
       " 'Terry Pratchett',\n",
       " 'Thomas A. Edison',\n",
       " 'W.C. Fields',\n",
       " 'William Nicholson'}"
      ]
     },
     "execution_count": 80,
     "metadata": {},
     "output_type": "execute_result"
    }
   ],
   "source": [
    "# use set to avoid dublicates (instead of list)\n",
    "authors = set(authors)\n",
    "authors"
   ]
  },
  {
   "cell_type": "code",
   "execution_count": 81,
   "id": "e1120f6f",
   "metadata": {},
   "outputs": [
    {
     "data": {
      "text/plain": [
       "50"
      ]
     },
     "execution_count": 81,
     "metadata": {},
     "output_type": "execute_result"
    }
   ],
   "source": [
    "len(authors)"
   ]
  },
  {
   "cell_type": "code",
   "execution_count": 82,
   "id": "96fcff51",
   "metadata": {},
   "outputs": [
    {
     "name": "stdout",
     "output_type": "stream",
     "text": [
      "{'Steve Martin', 'E.E. Cummings', 'Eleanor Roosevelt', 'J.R.R. Tolkien', 'Bob Marley', 'Alexandre Dumas fils', 'Douglas Adams', 'George Eliot', 'Jimi Hendrix', 'Jane Austen', 'Mark Twain', 'Ralph Waldo Emerson', 'Alfred Tennyson', 'Haruki Murakami', 'Helen Keller', 'Marilyn Monroe', \"Madeleine L'Engle\", 'George R.R. Martin', 'André Gide', 'J.M. Barrie', 'John Lennon', 'Martin Luther King Jr.', 'Ernest Hemingway', 'Garrison Keillor', 'George Bernard Shaw', 'Stephenie Meyer', 'William Nicholson', 'Elie Wiesel', 'Suzanne Collins', 'Dr. Seuss', 'Friedrich Nietzsche', 'Khaled Hosseini', 'J.K. Rowling', 'Terry Pratchett', 'Harper Lee', 'W.C. Fields', 'Albert Einstein', 'C.S. Lewis', 'Jorge Luis Borges', 'George Carlin', 'J.D. Salinger', 'Charles Bukowski', 'Ayn Rand', 'Mother Teresa', 'Thomas A. Edison', 'Allen Saunders', 'Charles M. Schulz', 'James Baldwin', 'Pablo Neruda', 'Jim Henson'}\n"
     ]
    }
   ],
   "source": [
    "print(authors)"
   ]
  },
  {
   "cell_type": "code",
   "execution_count": null,
   "id": "6d2e09bf",
   "metadata": {},
   "outputs": [],
   "source": []
  },
  {
   "cell_type": "code",
   "execution_count": 105,
   "id": "93d31f80",
   "metadata": {},
   "outputs": [],
   "source": [
    "# LETS SEE WHAT IF WE DONT KNOW THE TOTAL NO. OF PAGES"
   ]
  },
  {
   "cell_type": "code",
   "execution_count": 106,
   "id": "7d822f20",
   "metadata": {},
   "outputs": [],
   "source": [
    "req = requests.get('http://quotes.toscrape.com')\n",
    "soup = bs4.BeautifulSoup(req.text,'lxml')"
   ]
  },
  {
   "cell_type": "code",
   "execution_count": 107,
   "id": "2abb182c",
   "metadata": {},
   "outputs": [
    {
     "data": {
      "text/plain": [
       "[<li class=\"next\">\n",
       " <a href=\"/page/2/\">Next <span aria-hidden=\"true\">→</span></a>\n",
       " </li>]"
      ]
     },
     "execution_count": 107,
     "metadata": {},
     "output_type": "execute_result"
    }
   ],
   "source": [
    "soup.select('.next')"
   ]
  },
  {
   "cell_type": "code",
   "execution_count": 108,
   "id": "c5ec602a",
   "metadata": {},
   "outputs": [
    {
     "data": {
      "text/plain": [
       "False"
      ]
     },
     "execution_count": 108,
     "metadata": {},
     "output_type": "execute_result"
    }
   ],
   "source": [
    "soup.select('.next') == []"
   ]
  },
  {
   "cell_type": "code",
   "execution_count": 111,
   "id": "66590111",
   "metadata": {},
   "outputs": [
    {
     "data": {
      "text/plain": [
       "True"
      ]
     },
     "execution_count": 111,
     "metadata": {},
     "output_type": "execute_result"
    }
   ],
   "source": [
    "# True means next button is present on the page and it is not the last page\n",
    "soup.select('.next') != [] "
   ]
  },
  {
   "cell_type": "code",
   "execution_count": 126,
   "id": "454bf128",
   "metadata": {},
   "outputs": [],
   "source": [
    "req = requests.get('http://quotes.toscrape.com/')\n",
    "soup = bs4.BeautifulSoup(req.text,'lxml')\n",
    "base_url = 'http://quotes.toscrape.com/page/{}/' \n",
    "authors = []\n",
    "i = 1\n",
    "\n",
    "while( soup.select('.next') != [] ):\n",
    "    page = base_url.format(i)\n",
    "    \n",
    "    req = requests.get(page)\n",
    "    soup = bs4.BeautifulSoup(req.text,'lxml')\n",
    "    \n",
    "    no_of_authors = len(soup.select('.author'))\n",
    "\n",
    "    for j in range(no_of_authors):\n",
    "        authors.append(soup.select('.author')[j].text)\n",
    "    \n",
    "    i +=1"
   ]
  },
  {
   "cell_type": "code",
   "execution_count": 127,
   "id": "ecd33aa3",
   "metadata": {},
   "outputs": [
    {
     "data": {
      "text/plain": [
       "100"
      ]
     },
     "execution_count": 127,
     "metadata": {},
     "output_type": "execute_result"
    }
   ],
   "source": [
    "len(authors)"
   ]
  },
  {
   "cell_type": "code",
   "execution_count": 128,
   "id": "2b638eae",
   "metadata": {},
   "outputs": [],
   "source": [
    "authors = set(authors)\n"
   ]
  },
  {
   "cell_type": "code",
   "execution_count": 129,
   "id": "a1edc271",
   "metadata": {},
   "outputs": [
    {
     "data": {
      "text/plain": [
       "50"
      ]
     },
     "execution_count": 129,
     "metadata": {},
     "output_type": "execute_result"
    }
   ],
   "source": [
    "len(authors)"
   ]
  },
  {
   "cell_type": "code",
   "execution_count": 130,
   "id": "2dfae7ba",
   "metadata": {},
   "outputs": [
    {
     "data": {
      "text/plain": [
       "{'Albert Einstein',\n",
       " 'Alexandre Dumas fils',\n",
       " 'Alfred Tennyson',\n",
       " 'Allen Saunders',\n",
       " 'André Gide',\n",
       " 'Ayn Rand',\n",
       " 'Bob Marley',\n",
       " 'C.S. Lewis',\n",
       " 'Charles Bukowski',\n",
       " 'Charles M. Schulz',\n",
       " 'Douglas Adams',\n",
       " 'Dr. Seuss',\n",
       " 'E.E. Cummings',\n",
       " 'Eleanor Roosevelt',\n",
       " 'Elie Wiesel',\n",
       " 'Ernest Hemingway',\n",
       " 'Friedrich Nietzsche',\n",
       " 'Garrison Keillor',\n",
       " 'George Bernard Shaw',\n",
       " 'George Carlin',\n",
       " 'George Eliot',\n",
       " 'George R.R. Martin',\n",
       " 'Harper Lee',\n",
       " 'Haruki Murakami',\n",
       " 'Helen Keller',\n",
       " 'J.D. Salinger',\n",
       " 'J.K. Rowling',\n",
       " 'J.M. Barrie',\n",
       " 'J.R.R. Tolkien',\n",
       " 'James Baldwin',\n",
       " 'Jane Austen',\n",
       " 'Jim Henson',\n",
       " 'Jimi Hendrix',\n",
       " 'John Lennon',\n",
       " 'Jorge Luis Borges',\n",
       " 'Khaled Hosseini',\n",
       " \"Madeleine L'Engle\",\n",
       " 'Marilyn Monroe',\n",
       " 'Mark Twain',\n",
       " 'Martin Luther King Jr.',\n",
       " 'Mother Teresa',\n",
       " 'Pablo Neruda',\n",
       " 'Ralph Waldo Emerson',\n",
       " 'Stephenie Meyer',\n",
       " 'Steve Martin',\n",
       " 'Suzanne Collins',\n",
       " 'Terry Pratchett',\n",
       " 'Thomas A. Edison',\n",
       " 'W.C. Fields',\n",
       " 'William Nicholson'}"
      ]
     },
     "execution_count": 130,
     "metadata": {},
     "output_type": "execute_result"
    }
   ],
   "source": [
    "authors"
   ]
  },
  {
   "cell_type": "code",
   "execution_count": null,
   "id": "2e84c876",
   "metadata": {},
   "outputs": [],
   "source": []
  },
  {
   "cell_type": "markdown",
   "id": "b5a0b39b",
   "metadata": {},
   "source": [
    "ALL TASKS SOLVE BY ME MYSELF"
   ]
  },
  {
   "cell_type": "markdown",
   "id": "4740da2f",
   "metadata": {},
   "source": [
    "# GREAT JOB "
   ]
  },
  {
   "cell_type": "code",
   "execution_count": null,
   "id": "8b4c3643",
   "metadata": {},
   "outputs": [],
   "source": []
  }
 ],
 "metadata": {
  "kernelspec": {
   "display_name": "Python 3 (ipykernel)",
   "language": "python",
   "name": "python3"
  },
  "language_info": {
   "codemirror_mode": {
    "name": "ipython",
    "version": 3
   },
   "file_extension": ".py",
   "mimetype": "text/x-python",
   "name": "python",
   "nbconvert_exporter": "python",
   "pygments_lexer": "ipython3",
   "version": "3.10.9"
  }
 },
 "nbformat": 4,
 "nbformat_minor": 5
}
