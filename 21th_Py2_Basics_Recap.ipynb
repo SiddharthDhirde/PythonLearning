{
 "cells": [
  {
   "cell_type": "code",
   "execution_count": 1,
   "id": "65a24cf1",
   "metadata": {},
   "outputs": [],
   "source": [
    "# Om Namah Shivay"
   ]
  },
  {
   "cell_type": "markdown",
   "id": "2070c2ee",
   "metadata": {},
   "source": [
    "# 14-08-2022\n",
    "# 114 - 125"
   ]
  },
  {
   "cell_type": "code",
   "execution_count": 1,
   "id": "4259ec92",
   "metadata": {},
   "outputs": [],
   "source": [
    "from __future__ import division"
   ]
  },
  {
   "cell_type": "code",
   "execution_count": 2,
   "id": "02f5590c",
   "metadata": {},
   "outputs": [
    {
     "data": {
      "text/plain": [
       "1.65"
      ]
     },
     "execution_count": 2,
     "metadata": {},
     "output_type": "execute_result"
    }
   ],
   "source": [
    "3.3/2"
   ]
  },
  {
   "cell_type": "code",
   "execution_count": 3,
   "id": "424bf1f0",
   "metadata": {},
   "outputs": [
    {
     "data": {
      "text/plain": [
       "70"
      ]
     },
     "execution_count": 3,
     "metadata": {},
     "output_type": "execute_result"
    }
   ],
   "source": [
    "4 + 32 * 2 + 2"
   ]
  },
  {
   "cell_type": "code",
   "execution_count": 4,
   "id": "af8fbd2c",
   "metadata": {},
   "outputs": [
    {
     "data": {
      "text/plain": [
       "74"
      ]
     },
     "execution_count": 4,
     "metadata": {},
     "output_type": "execute_result"
    }
   ],
   "source": [
    "(4 + 32 )* 2 + 2"
   ]
  },
  {
   "cell_type": "code",
   "execution_count": 1,
   "id": "706ae93b",
   "metadata": {},
   "outputs": [
    {
     "data": {
      "text/plain": [
       "'\\nlets start\\nHows that for ultimate?!\\n'"
      ]
     },
     "execution_count": 1,
     "metadata": {},
     "output_type": "execute_result"
    }
   ],
   "source": [
    "'''\n",
    "lets start\n",
    "Hows that for ultimate?!\n",
    "'''\n"
   ]
  },
  {
   "cell_type": "code",
   "execution_count": 8,
   "id": "8d5812ba",
   "metadata": {},
   "outputs": [],
   "source": [
    "a ='''\n",
    "lets start\n",
    "Hows that for ultimate?!\n",
    "'''"
   ]
  },
  {
   "cell_type": "code",
   "execution_count": 9,
   "id": "05383dea",
   "metadata": {},
   "outputs": [
    {
     "data": {
      "text/plain": [
       "'\\nlets start\\nHows that for ultimate?!\\n'"
      ]
     },
     "execution_count": 9,
     "metadata": {},
     "output_type": "execute_result"
    }
   ],
   "source": [
    "a"
   ]
  },
  {
   "cell_type": "code",
   "execution_count": 10,
   "id": "2e4cc6aa",
   "metadata": {},
   "outputs": [
    {
     "data": {
      "text/plain": [
       "'lets start Hows that for ultimate?!'"
      ]
     },
     "execution_count": 10,
     "metadata": {},
     "output_type": "execute_result"
    }
   ],
   "source": [
    "\"lets start Hows that for ultimate?!\"\n"
   ]
  },
  {
   "cell_type": "code",
   "execution_count": null,
   "id": "db465b89",
   "metadata": {},
   "outputs": [],
   "source": []
  },
  {
   "cell_type": "code",
   "execution_count": 11,
   "id": "543c4e4d",
   "metadata": {},
   "outputs": [],
   "source": [
    "a ='''\n",
    "lets start\n",
    "Hows that for ultimate?!\n",
    "'''"
   ]
  },
  {
   "cell_type": "code",
   "execution_count": 12,
   "id": "b9205d5c",
   "metadata": {},
   "outputs": [
    {
     "data": {
      "text/plain": [
       "'\\nlets start\\nHows that for ultimate?!\\n'"
      ]
     },
     "execution_count": 12,
     "metadata": {},
     "output_type": "execute_result"
    }
   ],
   "source": [
    "a"
   ]
  },
  {
   "cell_type": "code",
   "execution_count": 13,
   "id": "2b137d14",
   "metadata": {},
   "outputs": [
    {
     "name": "stdout",
     "output_type": "stream",
     "text": [
      "\n",
      "lets start\n",
      "Hows that for ultimate?!\n",
      "\n"
     ]
    }
   ],
   "source": [
    "print(a)"
   ]
  },
  {
   "cell_type": "code",
   "execution_count": 14,
   "id": "e181b868",
   "metadata": {},
   "outputs": [],
   "source": [
    "l1 = [1,2,3]\n",
    "l2 = [8,9,5]\n",
    "l3 = [4,6,7]"
   ]
  },
  {
   "cell_type": "code",
   "execution_count": 15,
   "id": "f21a7adf",
   "metadata": {},
   "outputs": [],
   "source": [
    "matrix = [l1,l2,l3]"
   ]
  },
  {
   "cell_type": "code",
   "execution_count": 16,
   "id": "3d32d0f9",
   "metadata": {},
   "outputs": [
    {
     "data": {
      "text/plain": [
       "[[1, 2, 3], [8, 9, 5], [4, 6, 7]]"
      ]
     },
     "execution_count": 16,
     "metadata": {},
     "output_type": "execute_result"
    }
   ],
   "source": [
    "matrix"
   ]
  },
  {
   "cell_type": "code",
   "execution_count": 17,
   "id": "a9913bdf",
   "metadata": {},
   "outputs": [
    {
     "name": "stdout",
     "output_type": "stream",
     "text": [
      "[[1, 2, 3], [8, 9, 5], [4, 6, 7]]\n"
     ]
    }
   ],
   "source": [
    "print(matrix)"
   ]
  },
  {
   "cell_type": "code",
   "execution_count": 20,
   "id": "04f9efad",
   "metadata": {},
   "outputs": [
    {
     "data": {
      "text/plain": [
       "4"
      ]
     },
     "execution_count": 20,
     "metadata": {},
     "output_type": "execute_result"
    }
   ],
   "source": [
    "matrix[2][0]"
   ]
  },
  {
   "cell_type": "code",
   "execution_count": 21,
   "id": "8da27eb2",
   "metadata": {},
   "outputs": [
    {
     "data": {
      "text/plain": [
       "[1, 8, 4]"
      ]
     },
     "execution_count": 21,
     "metadata": {},
     "output_type": "execute_result"
    }
   ],
   "source": [
    "[row[0] for row in matrix]"
   ]
  },
  {
   "cell_type": "code",
   "execution_count": 22,
   "id": "859be1fe",
   "metadata": {},
   "outputs": [],
   "source": [
    "first_col = [row[0] for row in matrix]"
   ]
  },
  {
   "cell_type": "code",
   "execution_count": 23,
   "id": "9132e8f9",
   "metadata": {},
   "outputs": [
    {
     "data": {
      "text/plain": [
       "[1, 8, 4]"
      ]
     },
     "execution_count": 23,
     "metadata": {},
     "output_type": "execute_result"
    }
   ],
   "source": [
    "first_col"
   ]
  },
  {
   "cell_type": "code",
   "execution_count": 24,
   "id": "03a16ad0",
   "metadata": {},
   "outputs": [
    {
     "data": {
      "text/plain": [
       "[3, 5, 7]"
      ]
     },
     "execution_count": 24,
     "metadata": {},
     "output_type": "execute_result"
    }
   ],
   "source": [
    "[row[2] for row in matrix]"
   ]
  },
  {
   "cell_type": "code",
   "execution_count": 25,
   "id": "896ee89a",
   "metadata": {},
   "outputs": [
    {
     "data": {
      "text/plain": [
       "[1, 8, 4]"
      ]
     },
     "execution_count": 25,
     "metadata": {},
     "output_type": "execute_result"
    }
   ],
   "source": [
    "[row[0] for row in matrix]"
   ]
  },
  {
   "cell_type": "code",
   "execution_count": null,
   "id": "61a643c5",
   "metadata": {},
   "outputs": [],
   "source": []
  },
  {
   "cell_type": "code",
   "execution_count": 27,
   "id": "562ba191",
   "metadata": {},
   "outputs": [],
   "source": [
    "my_dict = {'k1':1,'k2':2,'k3':3.4, 'k4':'string'}"
   ]
  },
  {
   "cell_type": "code",
   "execution_count": 28,
   "id": "e084b13b",
   "metadata": {},
   "outputs": [
    {
     "data": {
      "text/plain": [
       "{'k1': 1, 'k2': 2, 'k3': 3.4, 'k4': 'string'}"
      ]
     },
     "execution_count": 28,
     "metadata": {},
     "output_type": "execute_result"
    }
   ],
   "source": [
    "my_dict"
   ]
  },
  {
   "cell_type": "code",
   "execution_count": 29,
   "id": "874c736f",
   "metadata": {},
   "outputs": [
    {
     "name": "stdout",
     "output_type": "stream",
     "text": [
      "{'k1': 1, 'k2': 2, 'k3': 3.4, 'k4': 'string'}\n"
     ]
    }
   ],
   "source": [
    "print(my_dict)"
   ]
  },
  {
   "cell_type": "code",
   "execution_count": 33,
   "id": "c1e5d6c3",
   "metadata": {},
   "outputs": [
    {
     "data": {
      "text/plain": [
       "'string'"
      ]
     },
     "execution_count": 33,
     "metadata": {},
     "output_type": "execute_result"
    }
   ],
   "source": [
    "my_dict['k4']"
   ]
  },
  {
   "cell_type": "code",
   "execution_count": 34,
   "id": "c2168cff",
   "metadata": {},
   "outputs": [
    {
     "data": {
      "text/plain": [
       "'gnirts'"
      ]
     },
     "execution_count": 34,
     "metadata": {},
     "output_type": "execute_result"
    }
   ],
   "source": [
    "my_dict['k4'][::-1]"
   ]
  },
  {
   "cell_type": "code",
   "execution_count": 36,
   "id": "a9afeeec",
   "metadata": {},
   "outputs": [
    {
     "data": {
      "text/plain": [
       "'STRING'"
      ]
     },
     "execution_count": 36,
     "metadata": {},
     "output_type": "execute_result"
    }
   ],
   "source": [
    "my_dict['k4'].upper()"
   ]
  },
  {
   "cell_type": "code",
   "execution_count": 38,
   "id": "9f6af5e1",
   "metadata": {},
   "outputs": [
    {
     "data": {
      "text/plain": [
       "'string'"
      ]
     },
     "execution_count": 38,
     "metadata": {},
     "output_type": "execute_result"
    }
   ],
   "source": [
    "my_dict['k4'].lower()"
   ]
  },
  {
   "cell_type": "code",
   "execution_count": 39,
   "id": "74edcc33",
   "metadata": {},
   "outputs": [
    {
     "data": {
      "text/plain": [
       "'String'"
      ]
     },
     "execution_count": 39,
     "metadata": {},
     "output_type": "execute_result"
    }
   ],
   "source": [
    "my_dict['k4'].capitalize()"
   ]
  },
  {
   "cell_type": "code",
   "execution_count": 40,
   "id": "dc3478fb",
   "metadata": {},
   "outputs": [
    {
     "data": {
      "text/plain": [
       "False"
      ]
     },
     "execution_count": 40,
     "metadata": {},
     "output_type": "execute_result"
    }
   ],
   "source": [
    "my_dict['k4'].isupper()"
   ]
  },
  {
   "cell_type": "code",
   "execution_count": 41,
   "id": "7acc6886",
   "metadata": {},
   "outputs": [
    {
     "data": {
      "text/plain": [
       "2"
      ]
     },
     "execution_count": 41,
     "metadata": {},
     "output_type": "execute_result"
    }
   ],
   "source": [
    "my_dict['k2']"
   ]
  },
  {
   "cell_type": "code",
   "execution_count": 42,
   "id": "3b98ca41",
   "metadata": {},
   "outputs": [
    {
     "data": {
      "text/plain": [
       "0"
      ]
     },
     "execution_count": 42,
     "metadata": {},
     "output_type": "execute_result"
    }
   ],
   "source": [
    "my_dict['k2'] - 2"
   ]
  },
  {
   "cell_type": "code",
   "execution_count": 43,
   "id": "254d0ef6",
   "metadata": {},
   "outputs": [
    {
     "data": {
      "text/plain": [
       "{'k1': 1, 'k2': 2, 'k3': 3.4, 'k4': 'string'}"
      ]
     },
     "execution_count": 43,
     "metadata": {},
     "output_type": "execute_result"
    }
   ],
   "source": [
    "my_dict"
   ]
  },
  {
   "cell_type": "code",
   "execution_count": 46,
   "id": "c84a1e08",
   "metadata": {},
   "outputs": [],
   "source": [
    "my_dict['k2'] = my_dict['k2'] - 2"
   ]
  },
  {
   "cell_type": "code",
   "execution_count": 47,
   "id": "33ef566b",
   "metadata": {},
   "outputs": [
    {
     "data": {
      "text/plain": [
       "{'k1': 1, 'k2': 0, 'k3': 3.4, 'k4': 'string'}"
      ]
     },
     "execution_count": 47,
     "metadata": {},
     "output_type": "execute_result"
    }
   ],
   "source": [
    "my_dict"
   ]
  },
  {
   "cell_type": "code",
   "execution_count": null,
   "id": "27a44c3b",
   "metadata": {},
   "outputs": [],
   "source": []
  },
  {
   "cell_type": "code",
   "execution_count": 48,
   "id": "42ae94bb",
   "metadata": {},
   "outputs": [],
   "source": [
    "my_dict['k4'] = my_dict['k4'].upper()"
   ]
  },
  {
   "cell_type": "code",
   "execution_count": 49,
   "id": "55407ccf",
   "metadata": {},
   "outputs": [
    {
     "data": {
      "text/plain": [
       "{'k1': 1, 'k2': 0, 'k3': 3.4, 'k4': 'STRING'}"
      ]
     },
     "execution_count": 49,
     "metadata": {},
     "output_type": "execute_result"
    }
   ],
   "source": [
    "my_dict"
   ]
  },
  {
   "cell_type": "code",
   "execution_count": null,
   "id": "5982f619",
   "metadata": {},
   "outputs": [],
   "source": []
  },
  {
   "cell_type": "code",
   "execution_count": null,
   "id": "8b41289d",
   "metadata": {},
   "outputs": [],
   "source": []
  },
  {
   "cell_type": "code",
   "execution_count": null,
   "id": "582d3523",
   "metadata": {},
   "outputs": [],
   "source": []
  },
  {
   "cell_type": "code",
   "execution_count": 50,
   "id": "527a0590",
   "metadata": {},
   "outputs": [],
   "source": [
    "d = {}"
   ]
  },
  {
   "cell_type": "code",
   "execution_count": 51,
   "id": "8fac2225",
   "metadata": {},
   "outputs": [
    {
     "data": {
      "text/plain": [
       "{}"
      ]
     },
     "execution_count": 51,
     "metadata": {},
     "output_type": "execute_result"
    }
   ],
   "source": [
    "d"
   ]
  },
  {
   "cell_type": "code",
   "execution_count": 52,
   "id": "169ae115",
   "metadata": {},
   "outputs": [],
   "source": [
    "d['e'] = 2.7"
   ]
  },
  {
   "cell_type": "code",
   "execution_count": 53,
   "id": "8449f60b",
   "metadata": {},
   "outputs": [
    {
     "data": {
      "text/plain": [
       "{'e': 2.7}"
      ]
     },
     "execution_count": 53,
     "metadata": {},
     "output_type": "execute_result"
    }
   ],
   "source": [
    "d"
   ]
  },
  {
   "cell_type": "code",
   "execution_count": 54,
   "id": "9460dc1c",
   "metadata": {},
   "outputs": [],
   "source": [
    "d['pi'] = 3.142"
   ]
  },
  {
   "cell_type": "code",
   "execution_count": 55,
   "id": "2e33feab",
   "metadata": {},
   "outputs": [
    {
     "data": {
      "text/plain": [
       "{'e': 2.7, 'pi': 3.142}"
      ]
     },
     "execution_count": 55,
     "metadata": {},
     "output_type": "execute_result"
    }
   ],
   "source": [
    "d"
   ]
  },
  {
   "cell_type": "code",
   "execution_count": 56,
   "id": "ea9005d1",
   "metadata": {},
   "outputs": [],
   "source": [
    "d['planet'] = 'kerds'"
   ]
  },
  {
   "cell_type": "code",
   "execution_count": 57,
   "id": "7913d5ea",
   "metadata": {},
   "outputs": [
    {
     "data": {
      "text/plain": [
       "{'e': 2.7, 'pi': 3.142, 'planet': 'kerds'}"
      ]
     },
     "execution_count": 57,
     "metadata": {},
     "output_type": "execute_result"
    }
   ],
   "source": [
    "d"
   ]
  },
  {
   "cell_type": "code",
   "execution_count": 58,
   "id": "ab75a672",
   "metadata": {},
   "outputs": [],
   "source": [
    "d['abs']  = 'break'"
   ]
  },
  {
   "cell_type": "code",
   "execution_count": 60,
   "id": "024e3b5b",
   "metadata": {},
   "outputs": [
    {
     "data": {
      "text/plain": [
       "{'e': 2.7, 'pi': 3.142, 'planet': 'kerds', 'abs': 'break'}"
      ]
     },
     "execution_count": 60,
     "metadata": {},
     "output_type": "execute_result"
    }
   ],
   "source": [
    "d"
   ]
  },
  {
   "cell_type": "code",
   "execution_count": 61,
   "id": "7b1a2ac6",
   "metadata": {},
   "outputs": [],
   "source": [
    "d[4] = 3"
   ]
  },
  {
   "cell_type": "code",
   "execution_count": 62,
   "id": "c83c27d5",
   "metadata": {},
   "outputs": [
    {
     "data": {
      "text/plain": [
       "{'e': 2.7, 'pi': 3.142, 'planet': 'kerds', 'abs': 'break', 4: 3}"
      ]
     },
     "execution_count": 62,
     "metadata": {},
     "output_type": "execute_result"
    }
   ],
   "source": [
    "d"
   ]
  },
  {
   "cell_type": "code",
   "execution_count": 63,
   "id": "b9f8f30d",
   "metadata": {},
   "outputs": [
    {
     "data": {
      "text/plain": [
       "<function dict.clear>"
      ]
     },
     "execution_count": 63,
     "metadata": {},
     "output_type": "execute_result"
    }
   ],
   "source": [
    "d.clear"
   ]
  },
  {
   "cell_type": "code",
   "execution_count": 64,
   "id": "79d4c715",
   "metadata": {},
   "outputs": [
    {
     "data": {
      "text/plain": [
       "{'e': 2.7, 'pi': 3.142, 'planet': 'kerds', 'abs': 'break', 4: 3}"
      ]
     },
     "execution_count": 64,
     "metadata": {},
     "output_type": "execute_result"
    }
   ],
   "source": [
    "d"
   ]
  },
  {
   "cell_type": "code",
   "execution_count": 65,
   "id": "dca28d55",
   "metadata": {},
   "outputs": [],
   "source": [
    "d.clear()"
   ]
  },
  {
   "cell_type": "code",
   "execution_count": 66,
   "id": "8ff9b149",
   "metadata": {},
   "outputs": [
    {
     "data": {
      "text/plain": [
       "{}"
      ]
     },
     "execution_count": 66,
     "metadata": {},
     "output_type": "execute_result"
    }
   ],
   "source": [
    "d"
   ]
  },
  {
   "cell_type": "code",
   "execution_count": 67,
   "id": "946561e5",
   "metadata": {},
   "outputs": [
    {
     "data": {
      "text/plain": [
       "{}"
      ]
     },
     "execution_count": 67,
     "metadata": {},
     "output_type": "execute_result"
    }
   ],
   "source": [
    "d"
   ]
  },
  {
   "cell_type": "code",
   "execution_count": 68,
   "id": "7d6e8696",
   "metadata": {},
   "outputs": [
    {
     "data": {
      "text/plain": [
       "{'k1': 1, 'k2': 0, 'k3': 3.4, 'k4': 'STRING'}"
      ]
     },
     "execution_count": 68,
     "metadata": {},
     "output_type": "execute_result"
    }
   ],
   "source": [
    "my_dict"
   ]
  },
  {
   "cell_type": "code",
   "execution_count": 70,
   "id": "78c09558",
   "metadata": {},
   "outputs": [
    {
     "data": {
      "text/plain": [
       "dict_keys(['k1', 'k2', 'k3', 'k4'])"
      ]
     },
     "execution_count": 70,
     "metadata": {},
     "output_type": "execute_result"
    }
   ],
   "source": [
    "my_dict.keys()"
   ]
  },
  {
   "cell_type": "code",
   "execution_count": 72,
   "id": "97d42d7a",
   "metadata": {},
   "outputs": [
    {
     "data": {
      "text/plain": [
       "dict_values([1, 0, 3.4, 'STRING'])"
      ]
     },
     "execution_count": 72,
     "metadata": {},
     "output_type": "execute_result"
    }
   ],
   "source": [
    "my_dict.values()"
   ]
  },
  {
   "cell_type": "code",
   "execution_count": 73,
   "id": "28013549",
   "metadata": {},
   "outputs": [
    {
     "data": {
      "text/plain": [
       "dict_items([('k1', 1), ('k2', 0), ('k3', 3.4), ('k4', 'STRING')])"
      ]
     },
     "execution_count": 73,
     "metadata": {},
     "output_type": "execute_result"
    }
   ],
   "source": [
    "my_dict.items()"
   ]
  },
  {
   "cell_type": "code",
   "execution_count": null,
   "id": "df670721",
   "metadata": {},
   "outputs": [],
   "source": []
  },
  {
   "cell_type": "code",
   "execution_count": 1,
   "id": "5c91eab3",
   "metadata": {},
   "outputs": [],
   "source": [
    "l1 = []"
   ]
  },
  {
   "cell_type": "code",
   "execution_count": 5,
   "id": "3745581e",
   "metadata": {},
   "outputs": [],
   "source": [
    "l1 = range(0,12)"
   ]
  },
  {
   "cell_type": "code",
   "execution_count": 6,
   "id": "bd8e5e5d",
   "metadata": {},
   "outputs": [
    {
     "data": {
      "text/plain": [
       "range(0, 12)"
      ]
     },
     "execution_count": 6,
     "metadata": {},
     "output_type": "execute_result"
    }
   ],
   "source": [
    "l1"
   ]
  },
  {
   "cell_type": "code",
   "execution_count": 7,
   "id": "c1bc2ad3",
   "metadata": {},
   "outputs": [
    {
     "name": "stdout",
     "output_type": "stream",
     "text": [
      "range(0, 12)\n"
     ]
    }
   ],
   "source": [
    "print(l1)"
   ]
  },
  {
   "cell_type": "code",
   "execution_count": null,
   "id": "d0fc9e8b",
   "metadata": {},
   "outputs": [],
   "source": []
  },
  {
   "cell_type": "code",
   "execution_count": 2,
   "id": "ca126934",
   "metadata": {},
   "outputs": [
    {
     "data": {
      "text/plain": [
       "[0, 1, 2, 3, 4, 5, 6, 7, 8, 9]"
      ]
     },
     "execution_count": 2,
     "metadata": {},
     "output_type": "execute_result"
    }
   ],
   "source": [
    "list(range(10))"
   ]
  },
  {
   "cell_type": "code",
   "execution_count": 3,
   "id": "e91d7db8",
   "metadata": {},
   "outputs": [],
   "source": [
    "x= range(10)"
   ]
  },
  {
   "cell_type": "code",
   "execution_count": 4,
   "id": "e52ae597",
   "metadata": {},
   "outputs": [
    {
     "data": {
      "text/plain": [
       "range(0, 10)"
      ]
     },
     "execution_count": 4,
     "metadata": {},
     "output_type": "execute_result"
    }
   ],
   "source": [
    "x"
   ]
  },
  {
   "cell_type": "code",
   "execution_count": 5,
   "id": "78207062",
   "metadata": {},
   "outputs": [
    {
     "data": {
      "text/plain": [
       "range"
      ]
     },
     "execution_count": 5,
     "metadata": {},
     "output_type": "execute_result"
    }
   ],
   "source": [
    "type(x)"
   ]
  },
  {
   "cell_type": "code",
   "execution_count": 7,
   "id": "5b52c716",
   "metadata": {},
   "outputs": [],
   "source": [
    "lst = [x for x in 'word']"
   ]
  },
  {
   "cell_type": "code",
   "execution_count": 8,
   "id": "5cbbd703",
   "metadata": {},
   "outputs": [
    {
     "data": {
      "text/plain": [
       "['w', 'o', 'r', 'd']"
      ]
     },
     "execution_count": 8,
     "metadata": {},
     "output_type": "execute_result"
    }
   ],
   "source": [
    "lst"
   ]
  },
  {
   "cell_type": "code",
   "execution_count": 14,
   "id": "231b9af2",
   "metadata": {},
   "outputs": [],
   "source": [
    "# list comprehension\n",
    "l1 = [x**2 for x in range(10,21)]"
   ]
  },
  {
   "cell_type": "code",
   "execution_count": 15,
   "id": "a52f3a91",
   "metadata": {},
   "outputs": [
    {
     "data": {
      "text/plain": [
       "[100, 121, 144, 169, 196, 225, 256, 289, 324, 361, 400]"
      ]
     },
     "execution_count": 15,
     "metadata": {},
     "output_type": "execute_result"
    }
   ],
   "source": [
    "l1"
   ]
  },
  {
   "cell_type": "code",
   "execution_count": 16,
   "id": "27c621e7",
   "metadata": {},
   "outputs": [],
   "source": [
    "l2 = [x for x in range(20) if x%2==0]"
   ]
  },
  {
   "cell_type": "code",
   "execution_count": 17,
   "id": "6eafcf8b",
   "metadata": {},
   "outputs": [
    {
     "data": {
      "text/plain": [
       "[0, 2, 4, 6, 8, 10, 12, 14, 16, 18]"
      ]
     },
     "execution_count": 17,
     "metadata": {},
     "output_type": "execute_result"
    }
   ],
   "source": [
    "l2"
   ]
  },
  {
   "cell_type": "code",
   "execution_count": null,
   "id": "5c050054",
   "metadata": {},
   "outputs": [],
   "source": []
  },
  {
   "cell_type": "code",
   "execution_count": 25,
   "id": "fc75c2bf",
   "metadata": {},
   "outputs": [],
   "source": [
    "celsius = [0,10,20,33.3,36,100]"
   ]
  },
  {
   "cell_type": "code",
   "execution_count": 29,
   "id": "13fc6ea5",
   "metadata": {},
   "outputs": [],
   "source": [
    "fahrenheit = [(temp*9/5)+32 for temp in celsius]"
   ]
  },
  {
   "cell_type": "code",
   "execution_count": 30,
   "id": "7a9249c5",
   "metadata": {},
   "outputs": [
    {
     "data": {
      "text/plain": [
       "[0, 10, 20, 33.3, 36, 100]"
      ]
     },
     "execution_count": 30,
     "metadata": {},
     "output_type": "execute_result"
    }
   ],
   "source": [
    "celsius"
   ]
  },
  {
   "cell_type": "code",
   "execution_count": 31,
   "id": "aa2bf0a0",
   "metadata": {},
   "outputs": [
    {
     "data": {
      "text/plain": [
       "[32.0, 50.0, 68.0, 91.94, 96.8, 212.0]"
      ]
     },
     "execution_count": 31,
     "metadata": {},
     "output_type": "execute_result"
    }
   ],
   "source": [
    "fahrenheit"
   ]
  },
  {
   "cell_type": "code",
   "execution_count": null,
   "id": "0418b4d6",
   "metadata": {},
   "outputs": [],
   "source": []
  },
  {
   "cell_type": "code",
   "execution_count": null,
   "id": "8a010338",
   "metadata": {},
   "outputs": [],
   "source": []
  },
  {
   "cell_type": "code",
   "execution_count": 62,
   "id": "858a3a7c",
   "metadata": {},
   "outputs": [],
   "source": [
    "l1 = [x**2 for x in range(10,16)]"
   ]
  },
  {
   "cell_type": "code",
   "execution_count": 63,
   "id": "c8cac5c9",
   "metadata": {},
   "outputs": [
    {
     "data": {
      "text/plain": [
       "[100, 121, 144, 169, 196, 225]"
      ]
     },
     "execution_count": 63,
     "metadata": {},
     "output_type": "execute_result"
    }
   ],
   "source": [
    "l1"
   ]
  },
  {
   "cell_type": "code",
   "execution_count": 64,
   "id": "14d32123",
   "metadata": {},
   "outputs": [],
   "source": [
    "l2 =[x**2 for x in [x**2 for x in range(10,16)]] ### Final Result --> x**4"
   ]
  },
  {
   "cell_type": "code",
   "execution_count": 65,
   "id": "2f404bf3",
   "metadata": {},
   "outputs": [
    {
     "data": {
      "text/plain": [
       "[10000, 14641, 20736, 28561, 38416, 50625]"
      ]
     },
     "execution_count": 65,
     "metadata": {},
     "output_type": "execute_result"
    }
   ],
   "source": [
    "l2"
   ]
  },
  {
   "cell_type": "code",
   "execution_count": 66,
   "id": "bfa7ab15",
   "metadata": {},
   "outputs": [],
   "source": [
    "l2 =[x**2 for x in l1]"
   ]
  },
  {
   "cell_type": "code",
   "execution_count": 67,
   "id": "6dbd0507",
   "metadata": {},
   "outputs": [
    {
     "data": {
      "text/plain": [
       "[10000, 14641, 20736, 28561, 38416, 50625]"
      ]
     },
     "execution_count": 67,
     "metadata": {},
     "output_type": "execute_result"
    }
   ],
   "source": [
    "l2"
   ]
  },
  {
   "cell_type": "code",
   "execution_count": null,
   "id": "c97d38e2",
   "metadata": {},
   "outputs": [],
   "source": []
  },
  {
   "cell_type": "code",
   "execution_count": null,
   "id": "494da839",
   "metadata": {},
   "outputs": [],
   "source": []
  },
  {
   "cell_type": "code",
   "execution_count": null,
   "id": "66dae395",
   "metadata": {},
   "outputs": [],
   "source": []
  },
  {
   "cell_type": "markdown",
   "id": "d7a39c22",
   "metadata": {},
   "source": [
    "\n",
    "\n",
    "\n",
    "\n",
    "\n",
    "# 140 Lambda Expressions"
   ]
  },
  {
   "cell_type": "code",
   "execution_count": 1,
   "id": "47bd5b0a",
   "metadata": {},
   "outputs": [],
   "source": [
    "def square(n):\n",
    "    result  = n**2\n",
    "    return result"
   ]
  },
  {
   "cell_type": "code",
   "execution_count": 2,
   "id": "2bc15c0b",
   "metadata": {},
   "outputs": [
    {
     "data": {
      "text/plain": [
       "4"
      ]
     },
     "execution_count": 2,
     "metadata": {},
     "output_type": "execute_result"
    }
   ],
   "source": [
    "square(2)"
   ]
  },
  {
   "cell_type": "code",
   "execution_count": 3,
   "id": "f48fe719",
   "metadata": {},
   "outputs": [],
   "source": [
    "def square(n):\n",
    "    return n**2"
   ]
  },
  {
   "cell_type": "code",
   "execution_count": 4,
   "id": "9dd6769c",
   "metadata": {},
   "outputs": [
    {
     "data": {
      "text/plain": [
       "9"
      ]
     },
     "execution_count": 4,
     "metadata": {},
     "output_type": "execute_result"
    }
   ],
   "source": [
    "square(3)"
   ]
  },
  {
   "cell_type": "code",
   "execution_count": 7,
   "id": "3d1c70bb",
   "metadata": {},
   "outputs": [],
   "source": [
    "def square(n):return n**2"
   ]
  },
  {
   "cell_type": "code",
   "execution_count": 8,
   "id": "afb3f4b1",
   "metadata": {},
   "outputs": [
    {
     "data": {
      "text/plain": [
       "16"
      ]
     },
     "execution_count": 8,
     "metadata": {},
     "output_type": "execute_result"
    }
   ],
   "source": [
    "square(4)"
   ]
  },
  {
   "cell_type": "code",
   "execution_count": 9,
   "id": "d1860ac6",
   "metadata": {},
   "outputs": [],
   "source": [
    "def square(n):     return n**2"
   ]
  },
  {
   "cell_type": "code",
   "execution_count": 10,
   "id": "01b54592",
   "metadata": {},
   "outputs": [
    {
     "data": {
      "text/plain": [
       "4"
      ]
     },
     "execution_count": 10,
     "metadata": {},
     "output_type": "execute_result"
    }
   ],
   "source": [
    "square(2)"
   ]
  },
  {
   "cell_type": "code",
   "execution_count": 11,
   "id": "0a86b400",
   "metadata": {},
   "outputs": [
    {
     "data": {
      "text/plain": [
       "<function __main__.<lambda>(x)>"
      ]
     },
     "execution_count": 11,
     "metadata": {},
     "output_type": "execute_result"
    }
   ],
   "source": [
    "lambda x:x**2 "
   ]
  },
  {
   "cell_type": "code",
   "execution_count": 12,
   "id": "1c8cd719",
   "metadata": {},
   "outputs": [],
   "source": [
    "square2 = lambda x:x**2 "
   ]
  },
  {
   "cell_type": "code",
   "execution_count": 13,
   "id": "afaa74ab",
   "metadata": {},
   "outputs": [
    {
     "data": {
      "text/plain": [
       "25"
      ]
     },
     "execution_count": 13,
     "metadata": {},
     "output_type": "execute_result"
    }
   ],
   "source": [
    "square2(5)"
   ]
  },
  {
   "cell_type": "code",
   "execution_count": null,
   "id": "ab50ab96",
   "metadata": {},
   "outputs": [],
   "source": []
  },
  {
   "cell_type": "code",
   "execution_count": 15,
   "id": "73a9d65b",
   "metadata": {},
   "outputs": [],
   "source": [
    "check_even = lambda n : n%2==0"
   ]
  },
  {
   "cell_type": "code",
   "execution_count": 16,
   "id": "24de3d5e",
   "metadata": {},
   "outputs": [
    {
     "data": {
      "text/plain": [
       "False"
      ]
     },
     "execution_count": 16,
     "metadata": {},
     "output_type": "execute_result"
    }
   ],
   "source": [
    "check_even(3)"
   ]
  },
  {
   "cell_type": "code",
   "execution_count": 18,
   "id": "32ef1fad",
   "metadata": {},
   "outputs": [
    {
     "data": {
      "text/plain": [
       "True"
      ]
     },
     "execution_count": 18,
     "metadata": {},
     "output_type": "execute_result"
    }
   ],
   "source": [
    "check_even(4)"
   ]
  },
  {
   "cell_type": "code",
   "execution_count": 19,
   "id": "2680611a",
   "metadata": {},
   "outputs": [
    {
     "data": {
      "text/plain": [
       "True"
      ]
     },
     "execution_count": 19,
     "metadata": {},
     "output_type": "execute_result"
    }
   ],
   "source": [
    "check_even(0)"
   ]
  },
  {
   "cell_type": "code",
   "execution_count": 20,
   "id": "d6e0e661",
   "metadata": {},
   "outputs": [
    {
     "data": {
      "text/plain": [
       "False"
      ]
     },
     "execution_count": 20,
     "metadata": {},
     "output_type": "execute_result"
    }
   ],
   "source": [
    "check_even(1)"
   ]
  },
  {
   "cell_type": "code",
   "execution_count": 21,
   "id": "1467a705",
   "metadata": {},
   "outputs": [
    {
     "data": {
      "text/plain": [
       "False"
      ]
     },
     "execution_count": 21,
     "metadata": {},
     "output_type": "execute_result"
    }
   ],
   "source": [
    "check_even(-1)"
   ]
  },
  {
   "cell_type": "code",
   "execution_count": 22,
   "id": "555e247b",
   "metadata": {},
   "outputs": [
    {
     "data": {
      "text/plain": [
       "True"
      ]
     },
     "execution_count": 22,
     "metadata": {},
     "output_type": "execute_result"
    }
   ],
   "source": [
    "check_even(-0)"
   ]
  },
  {
   "cell_type": "code",
   "execution_count": null,
   "id": "56db45ba",
   "metadata": {},
   "outputs": [],
   "source": []
  },
  {
   "cell_type": "code",
   "execution_count": 23,
   "id": "b39675f6",
   "metadata": {},
   "outputs": [],
   "source": [
    "first_string = lambda s: s[0]"
   ]
  },
  {
   "cell_type": "code",
   "execution_count": 24,
   "id": "edbf0dd4",
   "metadata": {},
   "outputs": [
    {
     "data": {
      "text/plain": [
       "'I'"
      ]
     },
     "execution_count": 24,
     "metadata": {},
     "output_type": "execute_result"
    }
   ],
   "source": [
    "first_string('I am Iron Man')"
   ]
  },
  {
   "cell_type": "code",
   "execution_count": 25,
   "id": "64893eeb",
   "metadata": {},
   "outputs": [],
   "source": [
    "rev = lambda s: s[::-1]"
   ]
  },
  {
   "cell_type": "code",
   "execution_count": 26,
   "id": "335bed4a",
   "metadata": {},
   "outputs": [
    {
     "data": {
      "text/plain": [
       "function"
      ]
     },
     "execution_count": 26,
     "metadata": {},
     "output_type": "execute_result"
    }
   ],
   "source": [
    "type(rev)"
   ]
  },
  {
   "cell_type": "code",
   "execution_count": 27,
   "id": "d00eea5b",
   "metadata": {},
   "outputs": [
    {
     "data": {
      "text/plain": [
       "'etsamaN'"
      ]
     },
     "execution_count": 27,
     "metadata": {},
     "output_type": "execute_result"
    }
   ],
   "source": [
    "rev(\"Namaste\")"
   ]
  },
  {
   "cell_type": "code",
   "execution_count": null,
   "id": "86d87a60",
   "metadata": {},
   "outputs": [],
   "source": []
  },
  {
   "cell_type": "code",
   "execution_count": 28,
   "id": "3d3196b8",
   "metadata": {},
   "outputs": [],
   "source": [
    "def adder(x,y):\n",
    "    return x+y"
   ]
  },
  {
   "cell_type": "code",
   "execution_count": 29,
   "id": "db080072",
   "metadata": {},
   "outputs": [
    {
     "data": {
      "text/plain": [
       "434"
      ]
     },
     "execution_count": 29,
     "metadata": {},
     "output_type": "execute_result"
    }
   ],
   "source": [
    "adder(432,2)"
   ]
  },
  {
   "cell_type": "code",
   "execution_count": 30,
   "id": "0e6c4ec4",
   "metadata": {},
   "outputs": [],
   "source": [
    "add = lambda x,y : x+y"
   ]
  },
  {
   "cell_type": "code",
   "execution_count": 31,
   "id": "30626a8b",
   "metadata": {},
   "outputs": [
    {
     "data": {
      "text/plain": [
       "5"
      ]
     },
     "execution_count": 31,
     "metadata": {},
     "output_type": "execute_result"
    }
   ],
   "source": [
    "add(2,3)"
   ]
  },
  {
   "cell_type": "code",
   "execution_count": 32,
   "id": "b3c03d88",
   "metadata": {},
   "outputs": [],
   "source": [
    "# map()\n",
    "# filter()\n",
    "# reduce()"
   ]
  },
  {
   "cell_type": "code",
   "execution_count": null,
   "id": "c8e8ebaa",
   "metadata": {},
   "outputs": [],
   "source": []
  },
  {
   "cell_type": "markdown",
   "id": "d5e86662",
   "metadata": {},
   "source": [
    "# 148 OOP"
   ]
  },
  {
   "cell_type": "code",
   "execution_count": 34,
   "id": "e43e1716",
   "metadata": {},
   "outputs": [],
   "source": [
    "class Sample(object):\n",
    "    pass"
   ]
  },
  {
   "cell_type": "code",
   "execution_count": 35,
   "id": "0af5ad83",
   "metadata": {},
   "outputs": [
    {
     "data": {
      "text/plain": [
       "type"
      ]
     },
     "execution_count": 35,
     "metadata": {},
     "output_type": "execute_result"
    }
   ],
   "source": [
    "type(Sample)"
   ]
  },
  {
   "cell_type": "code",
   "execution_count": 36,
   "id": "21171522",
   "metadata": {},
   "outputs": [
    {
     "data": {
      "text/plain": [
       "__main__.Sample"
      ]
     },
     "execution_count": 36,
     "metadata": {},
     "output_type": "execute_result"
    }
   ],
   "source": [
    "type(Sample())"
   ]
  },
  {
   "cell_type": "code",
   "execution_count": 37,
   "id": "a37cb1b1",
   "metadata": {},
   "outputs": [],
   "source": [
    "x = Sample()"
   ]
  },
  {
   "cell_type": "code",
   "execution_count": 38,
   "id": "2d244b8b",
   "metadata": {},
   "outputs": [
    {
     "data": {
      "text/plain": [
       "<__main__.Sample at 0x44d01c0>"
      ]
     },
     "execution_count": 38,
     "metadata": {},
     "output_type": "execute_result"
    }
   ],
   "source": [
    "x"
   ]
  },
  {
   "cell_type": "code",
   "execution_count": 39,
   "id": "2edf3771",
   "metadata": {},
   "outputs": [
    {
     "name": "stdout",
     "output_type": "stream",
     "text": [
      "<__main__.Sample object at 0x044D01C0>\n"
     ]
    }
   ],
   "source": [
    "print(x)"
   ]
  },
  {
   "cell_type": "code",
   "execution_count": 40,
   "id": "634b4f8f",
   "metadata": {},
   "outputs": [
    {
     "data": {
      "text/plain": [
       "__main__.Sample"
      ]
     },
     "execution_count": 40,
     "metadata": {},
     "output_type": "execute_result"
    }
   ],
   "source": [
    "type(x)"
   ]
  },
  {
   "cell_type": "code",
   "execution_count": 41,
   "id": "3db120fe",
   "metadata": {},
   "outputs": [
    {
     "name": "stdout",
     "output_type": "stream",
     "text": [
      "<class '__main__.Sample'>\n"
     ]
    }
   ],
   "source": [
    "print(type(x))"
   ]
  },
  {
   "cell_type": "code",
   "execution_count": null,
   "id": "0a850fc4",
   "metadata": {},
   "outputs": [],
   "source": []
  },
  {
   "cell_type": "code",
   "execution_count": 47,
   "id": "8dac6e65",
   "metadata": {},
   "outputs": [],
   "source": [
    "# Attributes\n",
    "\n",
    "class Dog(object):\n",
    "    \n",
    "    def __init__(self,breed):\n",
    "        self.breed = breed"
   ]
  },
  {
   "cell_type": "code",
   "execution_count": 48,
   "id": "52c34e53",
   "metadata": {},
   "outputs": [],
   "source": [
    "sam = Dog(breed=\"Lab\")"
   ]
  },
  {
   "cell_type": "code",
   "execution_count": 49,
   "id": "c3bc4a59",
   "metadata": {},
   "outputs": [
    {
     "data": {
      "text/plain": [
       "<__main__.Dog at 0x4a38d60>"
      ]
     },
     "execution_count": 49,
     "metadata": {},
     "output_type": "execute_result"
    }
   ],
   "source": [
    "sam"
   ]
  },
  {
   "cell_type": "code",
   "execution_count": 50,
   "id": "f4393af5",
   "metadata": {},
   "outputs": [
    {
     "data": {
      "text/plain": [
       "'Lab'"
      ]
     },
     "execution_count": 50,
     "metadata": {},
     "output_type": "execute_result"
    }
   ],
   "source": [
    "sam.breed"
   ]
  },
  {
   "cell_type": "code",
   "execution_count": null,
   "id": "3ff63a8c",
   "metadata": {},
   "outputs": [],
   "source": []
  },
  {
   "cell_type": "code",
   "execution_count": 52,
   "id": "c57aaf59",
   "metadata": {},
   "outputs": [],
   "source": [
    "sam = Dog(\"Lab\")"
   ]
  },
  {
   "cell_type": "code",
   "execution_count": 53,
   "id": "3418d7aa",
   "metadata": {},
   "outputs": [
    {
     "data": {
      "text/plain": [
       "'Lab'"
      ]
     },
     "execution_count": 53,
     "metadata": {},
     "output_type": "execute_result"
    }
   ],
   "source": [
    "sam.breed"
   ]
  },
  {
   "cell_type": "code",
   "execution_count": 54,
   "id": "8f6b6a12",
   "metadata": {},
   "outputs": [
    {
     "data": {
      "text/plain": [
       "<__main__.Dog at 0x4a4eaa8>"
      ]
     },
     "execution_count": 54,
     "metadata": {},
     "output_type": "execute_result"
    }
   ],
   "source": [
    "sam"
   ]
  },
  {
   "cell_type": "code",
   "execution_count": null,
   "id": "41362399",
   "metadata": {},
   "outputs": [],
   "source": []
  },
  {
   "cell_type": "code",
   "execution_count": 56,
   "id": "b73ba555",
   "metadata": {},
   "outputs": [
    {
     "data": {
      "text/plain": [
       "__main__.Dog"
      ]
     },
     "execution_count": 56,
     "metadata": {},
     "output_type": "execute_result"
    }
   ],
   "source": [
    "type(sam)"
   ]
  },
  {
   "cell_type": "code",
   "execution_count": 57,
   "id": "f5f0a5c0",
   "metadata": {},
   "outputs": [
    {
     "data": {
      "text/plain": [
       "str"
      ]
     },
     "execution_count": 57,
     "metadata": {},
     "output_type": "execute_result"
    }
   ],
   "source": [
    "type(sam.breed)"
   ]
  },
  {
   "cell_type": "code",
   "execution_count": null,
   "id": "a5fd7280",
   "metadata": {},
   "outputs": [],
   "source": []
  },
  {
   "cell_type": "code",
   "execution_count": 60,
   "id": "44cbd434",
   "metadata": {},
   "outputs": [],
   "source": [
    "class Dog(object):\n",
    "    \n",
    "    # Class object Attributes\n",
    "    species = 'mammal'\n",
    "    \n",
    "    def __init__(self,breed):\n",
    "        self.breed = breed"
   ]
  },
  {
   "cell_type": "code",
   "execution_count": 61,
   "id": "cd9c19af",
   "metadata": {},
   "outputs": [],
   "source": [
    "sam = Dog(34)"
   ]
  },
  {
   "cell_type": "code",
   "execution_count": 62,
   "id": "7d9014b0",
   "metadata": {},
   "outputs": [
    {
     "data": {
      "text/plain": [
       "<__main__.Dog at 0x4a4ef88>"
      ]
     },
     "execution_count": 62,
     "metadata": {},
     "output_type": "execute_result"
    }
   ],
   "source": [
    "sam"
   ]
  },
  {
   "cell_type": "code",
   "execution_count": 63,
   "id": "07b1638e",
   "metadata": {},
   "outputs": [
    {
     "data": {
      "text/plain": [
       "34"
      ]
     },
     "execution_count": 63,
     "metadata": {},
     "output_type": "execute_result"
    }
   ],
   "source": [
    "sam.breed"
   ]
  },
  {
   "cell_type": "code",
   "execution_count": 66,
   "id": "dc0bb901",
   "metadata": {},
   "outputs": [
    {
     "data": {
      "text/plain": [
       "'mammal'"
      ]
     },
     "execution_count": 66,
     "metadata": {},
     "output_type": "execute_result"
    }
   ],
   "source": [
    "sam.species"
   ]
  },
  {
   "cell_type": "code",
   "execution_count": 67,
   "id": "04234f39",
   "metadata": {},
   "outputs": [],
   "source": [
    "class Dog(object):\n",
    "    \n",
    "    # Class object Attributes\n",
    "    species = 'mammal'\n",
    "    \n",
    "    def __init__(self,breed, fur = True):\n",
    "        self.breed = breed\n",
    "        self.fur = fur "
   ]
  },
  {
   "cell_type": "code",
   "execution_count": 68,
   "id": "0e255263",
   "metadata": {},
   "outputs": [
    {
     "data": {
      "text/plain": [
       "<__main__.Dog at 0x4f881a8>"
      ]
     },
     "execution_count": 68,
     "metadata": {},
     "output_type": "execute_result"
    }
   ],
   "source": [
    "Dog('Husky')"
   ]
  },
  {
   "cell_type": "code",
   "execution_count": 69,
   "id": "16be137b",
   "metadata": {},
   "outputs": [
    {
     "data": {
      "text/plain": [
       "'mammal'"
      ]
     },
     "execution_count": 69,
     "metadata": {},
     "output_type": "execute_result"
    }
   ],
   "source": [
    "Dog('Husky').species"
   ]
  },
  {
   "cell_type": "code",
   "execution_count": 72,
   "id": "36004d51",
   "metadata": {},
   "outputs": [],
   "source": [
    "a = Dog('Husky')"
   ]
  },
  {
   "cell_type": "code",
   "execution_count": 73,
   "id": "f3a00020",
   "metadata": {},
   "outputs": [
    {
     "data": {
      "text/plain": [
       "True"
      ]
     },
     "execution_count": 73,
     "metadata": {},
     "output_type": "execute_result"
    }
   ],
   "source": [
    "a.fur"
   ]
  },
  {
   "cell_type": "code",
   "execution_count": null,
   "id": "2c3b1a65",
   "metadata": {},
   "outputs": [],
   "source": []
  },
  {
   "cell_type": "code",
   "execution_count": 86,
   "id": "db1600db",
   "metadata": {},
   "outputs": [],
   "source": [
    "class Line:\n",
    "    \n",
    "    def __init__(self,coor1,coor2):        \n",
    "        self.coor1 = coor1\n",
    "        self.coor2 = coor2\n",
    "    \n",
    "    def __str__(self):\n",
    "        return(\"Enter Coordinates and get the distance and Slope\")\n",
    "        \n",
    "    def distance(self):\n",
    "        x1,x2 = self.coor1\n",
    "        y1,y2 = self.coor2 \n",
    "        \n",
    "        return((x2-x1)**2 + (y2 - y1)**2)**0.5\n",
    "    \n",
    "    def slope(self):\n",
    "        x1,x2 = self.coor1\n",
    "        y1,y2 = self.coor2\n",
    "        \n",
    "        return (y2-y1)/(x2-x1)"
   ]
  },
  {
   "cell_type": "code",
   "execution_count": 87,
   "id": "820ff4c2",
   "metadata": {},
   "outputs": [],
   "source": [
    "l = Line((4,3),(2,6))"
   ]
  },
  {
   "cell_type": "code",
   "execution_count": 88,
   "id": "5ed77ae9",
   "metadata": {},
   "outputs": [
    {
     "data": {
      "text/plain": [
       "<__main__.Line at 0x53f2f70>"
      ]
     },
     "execution_count": 88,
     "metadata": {},
     "output_type": "execute_result"
    }
   ],
   "source": [
    "l"
   ]
  },
  {
   "cell_type": "code",
   "execution_count": 89,
   "id": "e4749dcc",
   "metadata": {},
   "outputs": [
    {
     "name": "stdout",
     "output_type": "stream",
     "text": [
      "Enter Coordinates and get the distance and Slope\n"
     ]
    }
   ],
   "source": [
    "print(l)"
   ]
  },
  {
   "cell_type": "code",
   "execution_count": 90,
   "id": "0a5179ab",
   "metadata": {},
   "outputs": [
    {
     "data": {
      "text/plain": [
       "(4, 3)"
      ]
     },
     "execution_count": 90,
     "metadata": {},
     "output_type": "execute_result"
    }
   ],
   "source": [
    "l.coor1"
   ]
  },
  {
   "cell_type": "code",
   "execution_count": 91,
   "id": "4e6ec886",
   "metadata": {},
   "outputs": [
    {
     "data": {
      "text/plain": [
       "(2, 6)"
      ]
     },
     "execution_count": 91,
     "metadata": {},
     "output_type": "execute_result"
    }
   ],
   "source": [
    "l.coor2"
   ]
  },
  {
   "cell_type": "code",
   "execution_count": 93,
   "id": "eb7bbb83",
   "metadata": {},
   "outputs": [
    {
     "data": {
      "text/plain": [
       "<bound method Line.distance of <__main__.Line object at 0x053F2F70>>"
      ]
     },
     "execution_count": 93,
     "metadata": {},
     "output_type": "execute_result"
    }
   ],
   "source": [
    "l.distance"
   ]
  },
  {
   "cell_type": "code",
   "execution_count": 97,
   "id": "32cb1df7",
   "metadata": {},
   "outputs": [
    {
     "data": {
      "text/plain": [
       "4.123105625617661"
      ]
     },
     "execution_count": 97,
     "metadata": {},
     "output_type": "execute_result"
    }
   ],
   "source": [
    "l.distance()"
   ]
  },
  {
   "cell_type": "code",
   "execution_count": 103,
   "id": "7907b920",
   "metadata": {},
   "outputs": [
    {
     "data": {
      "text/plain": [
       "-4.0"
      ]
     },
     "execution_count": 103,
     "metadata": {},
     "output_type": "execute_result"
    }
   ],
   "source": [
    "l.slope()"
   ]
  },
  {
   "cell_type": "code",
   "execution_count": null,
   "id": "3737eb7a",
   "metadata": {},
   "outputs": [],
   "source": []
  },
  {
   "cell_type": "code",
   "execution_count": 104,
   "id": "1cce2f95",
   "metadata": {},
   "outputs": [],
   "source": [
    "import math"
   ]
  },
  {
   "cell_type": "code",
   "execution_count": 105,
   "id": "8db34841",
   "metadata": {},
   "outputs": [
    {
     "data": {
      "text/plain": [
       "2.718281828459045"
      ]
     },
     "execution_count": 105,
     "metadata": {},
     "output_type": "execute_result"
    }
   ],
   "source": [
    "math.e"
   ]
  },
  {
   "cell_type": "code",
   "execution_count": 106,
   "id": "6b863b48",
   "metadata": {},
   "outputs": [
    {
     "data": {
      "text/plain": [
       "<function math.log2(x, /)>"
      ]
     },
     "execution_count": 106,
     "metadata": {},
     "output_type": "execute_result"
    }
   ],
   "source": [
    "math.log2"
   ]
  },
  {
   "cell_type": "code",
   "execution_count": 107,
   "id": "5b87669c",
   "metadata": {},
   "outputs": [
    {
     "data": {
      "text/plain": [
       "1.0"
      ]
     },
     "execution_count": 107,
     "metadata": {},
     "output_type": "execute_result"
    }
   ],
   "source": [
    "math.log2(2)"
   ]
  },
  {
   "cell_type": "code",
   "execution_count": 108,
   "id": "0316ba3f",
   "metadata": {},
   "outputs": [
    {
     "data": {
      "text/plain": [
       "2.0"
      ]
     },
     "execution_count": 108,
     "metadata": {},
     "output_type": "execute_result"
    }
   ],
   "source": [
    "math.log2(4)"
   ]
  },
  {
   "cell_type": "code",
   "execution_count": 110,
   "id": "3e5ad26a",
   "metadata": {},
   "outputs": [
    {
     "data": {
      "text/plain": [
       "8.0"
      ]
     },
     "execution_count": 110,
     "metadata": {},
     "output_type": "execute_result"
    }
   ],
   "source": [
    "math.log2(256)"
   ]
  },
  {
   "cell_type": "code",
   "execution_count": 112,
   "id": "f4060ba1",
   "metadata": {},
   "outputs": [
    {
     "data": {
      "text/plain": [
       "<function math.ceil(x, /)>"
      ]
     },
     "execution_count": 112,
     "metadata": {},
     "output_type": "execute_result"
    }
   ],
   "source": [
    "math.ceil"
   ]
  },
  {
   "cell_type": "code",
   "execution_count": 113,
   "id": "4839da0e",
   "metadata": {},
   "outputs": [
    {
     "data": {
      "text/plain": [
       "4"
      ]
     },
     "execution_count": 113,
     "metadata": {},
     "output_type": "execute_result"
    }
   ],
   "source": [
    "math.ceil(4)"
   ]
  },
  {
   "cell_type": "code",
   "execution_count": 114,
   "id": "0df1be12",
   "metadata": {},
   "outputs": [
    {
     "data": {
      "text/plain": [
       "534"
      ]
     },
     "execution_count": 114,
     "metadata": {},
     "output_type": "execute_result"
    }
   ],
   "source": [
    "math.ceil(534)"
   ]
  },
  {
   "cell_type": "code",
   "execution_count": null,
   "id": "3f332343",
   "metadata": {},
   "outputs": [],
   "source": []
  },
  {
   "cell_type": "markdown",
   "id": "daa929df",
   "metadata": {},
   "source": [
    "# 164 map"
   ]
  },
  {
   "cell_type": "code",
   "execution_count": 14,
   "id": "03d44e5d",
   "metadata": {},
   "outputs": [],
   "source": [
    "def fahrenheit(T):\n",
    "    return (T*9/5 )+ 32"
   ]
  },
  {
   "cell_type": "code",
   "execution_count": 4,
   "id": "305a6543",
   "metadata": {},
   "outputs": [
    {
     "data": {
      "text/plain": [
       "89.6"
      ]
     },
     "execution_count": 4,
     "metadata": {},
     "output_type": "execute_result"
    }
   ],
   "source": [
    "fahrenheit(32)"
   ]
  },
  {
   "cell_type": "code",
   "execution_count": 6,
   "id": "297dd8ee",
   "metadata": {},
   "outputs": [
    {
     "data": {
      "text/plain": [
       "32.0"
      ]
     },
     "execution_count": 6,
     "metadata": {},
     "output_type": "execute_result"
    }
   ],
   "source": [
    "fahrenheit(0)"
   ]
  },
  {
   "cell_type": "code",
   "execution_count": 7,
   "id": "19ee3242",
   "metadata": {},
   "outputs": [
    {
     "data": {
      "text/plain": [
       "212.0"
      ]
     },
     "execution_count": 7,
     "metadata": {},
     "output_type": "execute_result"
    }
   ],
   "source": [
    "fahrenheit(100)"
   ]
  },
  {
   "cell_type": "code",
   "execution_count": 26,
   "id": "11dfe0cb",
   "metadata": {},
   "outputs": [],
   "source": [
    "temp = [42,42,1,2,542]"
   ]
  },
  {
   "cell_type": "code",
   "execution_count": 27,
   "id": "8fbf37a9",
   "metadata": {},
   "outputs": [
    {
     "data": {
      "text/plain": [
       "[42, 42, 1, 2, 542]"
      ]
     },
     "execution_count": 27,
     "metadata": {},
     "output_type": "execute_result"
    }
   ],
   "source": [
    "temp"
   ]
  },
  {
   "cell_type": "code",
   "execution_count": 28,
   "id": "8fd0bc6e",
   "metadata": {},
   "outputs": [
    {
     "data": {
      "text/plain": [
       "<map at 0x66efe80>"
      ]
     },
     "execution_count": 28,
     "metadata": {},
     "output_type": "execute_result"
    }
   ],
   "source": [
    "map(fahrenheit,temp)"
   ]
  },
  {
   "cell_type": "code",
   "execution_count": 29,
   "id": "ce0b192b",
   "metadata": {},
   "outputs": [
    {
     "data": {
      "text/plain": [
       "[42, 42, 1, 2, 542]"
      ]
     },
     "execution_count": 29,
     "metadata": {},
     "output_type": "execute_result"
    }
   ],
   "source": [
    "temp"
   ]
  },
  {
   "cell_type": "code",
   "execution_count": 35,
   "id": "12e9fba8",
   "metadata": {},
   "outputs": [
    {
     "data": {
      "text/plain": [
       "<map at 0x66ef2e0>"
      ]
     },
     "execution_count": 35,
     "metadata": {},
     "output_type": "execute_result"
    }
   ],
   "source": [
    "map(lambda T :(T*9/5 )+ 32,(4,23))"
   ]
  },
  {
   "cell_type": "code",
   "execution_count": 36,
   "id": "77d052e5",
   "metadata": {},
   "outputs": [],
   "source": [
    "a = [2,1,65,3]"
   ]
  },
  {
   "cell_type": "code",
   "execution_count": 37,
   "id": "63a5a3bd",
   "metadata": {},
   "outputs": [
    {
     "data": {
      "text/plain": [
       "<map at 0x66e7160>"
      ]
     },
     "execution_count": 37,
     "metadata": {},
     "output_type": "execute_result"
    }
   ],
   "source": [
    "map(lambda num: num*-1,a)"
   ]
  },
  {
   "cell_type": "code",
   "execution_count": 44,
   "id": "eba17d38",
   "metadata": {},
   "outputs": [
    {
     "name": "stdout",
     "output_type": "stream",
     "text": [
      "<map object at 0x0594DA18>\n"
     ]
    }
   ],
   "source": [
    "print(map(lambda num: num*-1,a))"
   ]
  },
  {
   "cell_type": "markdown",
   "id": "86c9f34c",
   "metadata": {},
   "source": []
  },
  {
   "cell_type": "code",
   "execution_count": null,
   "id": "19b20dea",
   "metadata": {},
   "outputs": [],
   "source": []
  },
  {
   "cell_type": "markdown",
   "id": "ae7bfd7d",
   "metadata": {},
   "source": [
    "# 165 reduce"
   ]
  },
  {
   "cell_type": "code",
   "execution_count": 43,
   "id": "6f838ef8",
   "metadata": {},
   "outputs": [
    {
     "data": {
      "text/plain": [
       "120"
      ]
     },
     "execution_count": 43,
     "metadata": {},
     "output_type": "execute_result"
    }
   ],
   "source": [
    "from functools import reduce\n",
    "\n",
    "lst = [2,54,64]\n",
    "reduce(lambda x,y: x+y, lst)"
   ]
  },
  {
   "cell_type": "code",
   "execution_count": 48,
   "id": "4f3e1d95",
   "metadata": {},
   "outputs": [],
   "source": [
    "max_num = lambda x,y: x if (x>y) else y"
   ]
  },
  {
   "cell_type": "code",
   "execution_count": 49,
   "id": "65b76a70",
   "metadata": {},
   "outputs": [
    {
     "data": {
      "text/plain": [
       "64"
      ]
     },
     "execution_count": 49,
     "metadata": {},
     "output_type": "execute_result"
    }
   ],
   "source": [
    "reduce(max_num,lst)"
   ]
  },
  {
   "cell_type": "code",
   "execution_count": null,
   "id": "77db6876",
   "metadata": {},
   "outputs": [],
   "source": []
  },
  {
   "cell_type": "code",
   "execution_count": null,
   "id": "b37554ad",
   "metadata": {},
   "outputs": [],
   "source": []
  },
  {
   "cell_type": "markdown",
   "id": "b39aaf37",
   "metadata": {},
   "source": [
    "# 166 Filter"
   ]
  },
  {
   "cell_type": "code",
   "execution_count": 50,
   "id": "85f6aac6",
   "metadata": {},
   "outputs": [],
   "source": [
    "def e(n):\n",
    "    if n%2 ==0:\n",
    "        return True\n",
    "    else:\n",
    "        return False"
   ]
  },
  {
   "cell_type": "code",
   "execution_count": 51,
   "id": "076e8f44",
   "metadata": {},
   "outputs": [
    {
     "data": {
      "text/plain": [
       "False"
      ]
     },
     "execution_count": 51,
     "metadata": {},
     "output_type": "execute_result"
    }
   ],
   "source": [
    "e(53)"
   ]
  },
  {
   "cell_type": "code",
   "execution_count": 54,
   "id": "e8aed60a",
   "metadata": {},
   "outputs": [],
   "source": [
    "lst = [2, 54, 64,2,5,4,3,336421,33,43]"
   ]
  },
  {
   "cell_type": "code",
   "execution_count": 55,
   "id": "10f8045a",
   "metadata": {},
   "outputs": [
    {
     "data": {
      "text/plain": [
       "<filter at 0x47c7970>"
      ]
     },
     "execution_count": 55,
     "metadata": {},
     "output_type": "execute_result"
    }
   ],
   "source": [
    "filter(e,lst)"
   ]
  },
  {
   "cell_type": "code",
   "execution_count": 57,
   "id": "0eae4f9e",
   "metadata": {},
   "outputs": [],
   "source": [
    "a = filter(lambda n :n%2==0 ,lst)"
   ]
  },
  {
   "cell_type": "code",
   "execution_count": 59,
   "id": "bab23410",
   "metadata": {},
   "outputs": [
    {
     "name": "stdout",
     "output_type": "stream",
     "text": [
      "<filter object at 0x047C7A18>\n"
     ]
    }
   ],
   "source": [
    "print(a)"
   ]
  },
  {
   "cell_type": "code",
   "execution_count": null,
   "id": "3b552834",
   "metadata": {},
   "outputs": [],
   "source": []
  },
  {
   "cell_type": "code",
   "execution_count": null,
   "id": "3d5e1ff9",
   "metadata": {},
   "outputs": [],
   "source": []
  },
  {
   "cell_type": "code",
   "execution_count": null,
   "id": "0acc4b60",
   "metadata": {},
   "outputs": [],
   "source": []
  },
  {
   "cell_type": "code",
   "execution_count": null,
   "id": "cd3e31dd",
   "metadata": {},
   "outputs": [],
   "source": []
  },
  {
   "cell_type": "markdown",
   "id": "ae104cdc",
   "metadata": {},
   "source": [
    "# 167 zip"
   ]
  },
  {
   "cell_type": "code",
   "execution_count": 60,
   "id": "3ceceb12",
   "metadata": {},
   "outputs": [
    {
     "data": {
      "text/plain": [
       "[2, 54, 64, 2, 5, 4, 3, 336421, 33, 43]"
      ]
     },
     "execution_count": 60,
     "metadata": {},
     "output_type": "execute_result"
    }
   ],
   "source": [
    "lst"
   ]
  },
  {
   "cell_type": "code",
   "execution_count": 62,
   "id": "c30aafb6",
   "metadata": {},
   "outputs": [],
   "source": [
    "l2 = [423,242,32,4,21,3,32]"
   ]
  },
  {
   "cell_type": "code",
   "execution_count": 64,
   "id": "a4744c54",
   "metadata": {},
   "outputs": [],
   "source": [
    "a=zip(lst,l2)"
   ]
  },
  {
   "cell_type": "code",
   "execution_count": 65,
   "id": "0c5d4037",
   "metadata": {},
   "outputs": [
    {
     "data": {
      "text/plain": [
       "<zip at 0x5695728>"
      ]
     },
     "execution_count": 65,
     "metadata": {},
     "output_type": "execute_result"
    }
   ],
   "source": [
    "a"
   ]
  },
  {
   "cell_type": "code",
   "execution_count": 68,
   "id": "cf5ce02c",
   "metadata": {},
   "outputs": [
    {
     "data": {
      "text/plain": [
       "<zip at 0x6650148>"
      ]
     },
     "execution_count": 68,
     "metadata": {},
     "output_type": "execute_result"
    }
   ],
   "source": [
    "zip(lst,l2)"
   ]
  },
  {
   "cell_type": "code",
   "execution_count": null,
   "id": "dae8e9b0",
   "metadata": {},
   "outputs": [],
   "source": []
  },
  {
   "cell_type": "code",
   "execution_count": null,
   "id": "fc48ecc8",
   "metadata": {},
   "outputs": [],
   "source": []
  },
  {
   "cell_type": "code",
   "execution_count": 70,
   "id": "dd2bae79",
   "metadata": {},
   "outputs": [],
   "source": [
    "a=[1,4,2,3]\n",
    "b=[11,42,243,2]"
   ]
  },
  {
   "cell_type": "code",
   "execution_count": 71,
   "id": "1b62307a",
   "metadata": {},
   "outputs": [
    {
     "data": {
      "text/plain": [
       "<map at 0x65cd268>"
      ]
     },
     "execution_count": 71,
     "metadata": {},
     "output_type": "execute_result"
    }
   ],
   "source": [
    "map(lambda pair: max(pair),zip(a,b))"
   ]
  },
  {
   "cell_type": "code",
   "execution_count": 72,
   "id": "3754b407",
   "metadata": {},
   "outputs": [
    {
     "name": "stdout",
     "output_type": "stream",
     "text": [
      "11\n",
      "42\n",
      "243\n",
      "3\n"
     ]
    }
   ],
   "source": [
    "for pair in zip(a,b):\n",
    "    print(max(pair))"
   ]
  },
  {
   "cell_type": "code",
   "execution_count": 76,
   "id": "fdcec341",
   "metadata": {},
   "outputs": [
    {
     "data": {
      "text/plain": [
       "map"
      ]
     },
     "execution_count": 76,
     "metadata": {},
     "output_type": "execute_result"
    }
   ],
   "source": [
    "type(map(lambda pair: max(pair),zip(a,b)))"
   ]
  },
  {
   "cell_type": "code",
   "execution_count": 77,
   "id": "9f1f3a44",
   "metadata": {},
   "outputs": [
    {
     "data": {
      "text/plain": [
       "[1, 4, 2, 3]"
      ]
     },
     "execution_count": 77,
     "metadata": {},
     "output_type": "execute_result"
    }
   ],
   "source": [
    "a"
   ]
  },
  {
   "cell_type": "code",
   "execution_count": 79,
   "id": "0dd644e4",
   "metadata": {},
   "outputs": [
    {
     "name": "stdout",
     "output_type": "stream",
     "text": [
      "0 1\n",
      "1 4\n",
      "2 2\n",
      "3 3\n"
     ]
    }
   ],
   "source": [
    "for count,item in enumerate(a):\n",
    "    print(count, item)"
   ]
  },
  {
   "cell_type": "code",
   "execution_count": 80,
   "id": "513aa395",
   "metadata": {},
   "outputs": [
    {
     "name": "stdout",
     "output_type": "stream",
     "text": [
      "(0, 1)\n",
      "(1, 4)\n",
      "(2, 2)\n",
      "(3, 3)\n"
     ]
    }
   ],
   "source": [
    "for count,item in enumerate(a):\n",
    "    print((count, item))"
   ]
  },
  {
   "cell_type": "code",
   "execution_count": 81,
   "id": "a6b93f3a",
   "metadata": {},
   "outputs": [
    {
     "name": "stdout",
     "output_type": "stream",
     "text": [
      "(0, 1)\n",
      "(1, 4)\n",
      "(2, 2)\n",
      "(3, 3)\n"
     ]
    }
   ],
   "source": [
    "for count,item in enumerate(a):\n",
    "    print(((count, item)))"
   ]
  },
  {
   "cell_type": "code",
   "execution_count": null,
   "id": "1fa09f7f",
   "metadata": {},
   "outputs": [],
   "source": []
  },
  {
   "cell_type": "markdown",
   "id": "19751068",
   "metadata": {},
   "source": [
    "# 169 all() and any()"
   ]
  },
  {
   "cell_type": "code",
   "execution_count": 94,
   "id": "42f82869",
   "metadata": {},
   "outputs": [],
   "source": [
    "l = [True]*5"
   ]
  },
  {
   "cell_type": "code",
   "execution_count": 95,
   "id": "a24a16c7",
   "metadata": {},
   "outputs": [
    {
     "data": {
      "text/plain": [
       "[True, True, True, True, True]"
      ]
     },
     "execution_count": 95,
     "metadata": {},
     "output_type": "execute_result"
    }
   ],
   "source": [
    "l"
   ]
  },
  {
   "cell_type": "code",
   "execution_count": 96,
   "id": "403c2f9f",
   "metadata": {},
   "outputs": [
    {
     "data": {
      "text/plain": [
       "True"
      ]
     },
     "execution_count": 96,
     "metadata": {},
     "output_type": "execute_result"
    }
   ],
   "source": [
    "all(l)"
   ]
  },
  {
   "cell_type": "code",
   "execution_count": 97,
   "id": "9bfb35d4",
   "metadata": {},
   "outputs": [
    {
     "data": {
      "text/plain": [
       "True"
      ]
     },
     "execution_count": 97,
     "metadata": {},
     "output_type": "execute_result"
    }
   ],
   "source": [
    "any(l)"
   ]
  },
  {
   "cell_type": "code",
   "execution_count": 98,
   "id": "a84701d8",
   "metadata": {},
   "outputs": [],
   "source": [
    "l2  = ['sd', True, True, True, True]"
   ]
  },
  {
   "cell_type": "code",
   "execution_count": 99,
   "id": "2058b26d",
   "metadata": {},
   "outputs": [
    {
     "data": {
      "text/plain": [
       "True"
      ]
     },
     "execution_count": 99,
     "metadata": {},
     "output_type": "execute_result"
    }
   ],
   "source": [
    "all(l2)"
   ]
  },
  {
   "cell_type": "code",
   "execution_count": 100,
   "id": "0b52a711",
   "metadata": {},
   "outputs": [
    {
     "data": {
      "text/plain": [
       "True"
      ]
     },
     "execution_count": 100,
     "metadata": {},
     "output_type": "execute_result"
    }
   ],
   "source": [
    "any(l2)"
   ]
  },
  {
   "cell_type": "code",
   "execution_count": 101,
   "id": "c45128f5",
   "metadata": {},
   "outputs": [],
   "source": [
    "l2  = ['sd', True, True, True, True,0]"
   ]
  },
  {
   "cell_type": "code",
   "execution_count": 102,
   "id": "2e8c4023",
   "metadata": {},
   "outputs": [
    {
     "data": {
      "text/plain": [
       "False"
      ]
     },
     "execution_count": 102,
     "metadata": {},
     "output_type": "execute_result"
    }
   ],
   "source": [
    "all(l2)"
   ]
  },
  {
   "cell_type": "code",
   "execution_count": 103,
   "id": "32ef3c90",
   "metadata": {},
   "outputs": [
    {
     "data": {
      "text/plain": [
       "True"
      ]
     },
     "execution_count": 103,
     "metadata": {},
     "output_type": "execute_result"
    }
   ],
   "source": [
    "any(l2)"
   ]
  },
  {
   "cell_type": "code",
   "execution_count": null,
   "id": "a86de347",
   "metadata": {},
   "outputs": [],
   "source": []
  },
  {
   "cell_type": "code",
   "execution_count": null,
   "id": "10008e67",
   "metadata": {},
   "outputs": [],
   "source": []
  },
  {
   "cell_type": "code",
   "execution_count": null,
   "id": "c97a74ab",
   "metadata": {},
   "outputs": [],
   "source": []
  },
  {
   "cell_type": "markdown",
   "id": "5c1b8522",
   "metadata": {},
   "source": [
    "# 170 complex()"
   ]
  },
  {
   "cell_type": "code",
   "execution_count": 104,
   "id": "399e05de",
   "metadata": {},
   "outputs": [
    {
     "data": {
      "text/plain": [
       "(3+1j)"
      ]
     },
     "execution_count": 104,
     "metadata": {},
     "output_type": "execute_result"
    }
   ],
   "source": [
    "complex(3,1)"
   ]
  },
  {
   "cell_type": "code",
   "execution_count": 106,
   "id": "80cbf4a8",
   "metadata": {
    "scrolled": false
   },
   "outputs": [
    {
     "name": "stdout",
     "output_type": "stream",
     "text": [
      "Help on class complex in module builtins:\n",
      "\n",
      "class complex(object)\n",
      " |  complex(real=0, imag=0)\n",
      " |  \n",
      " |  Create a complex number from a real part and an optional imaginary part.\n",
      " |  \n",
      " |  This is equivalent to (real + imag*1j) where imag defaults to 0.\n",
      " |  \n",
      " |  Methods defined here:\n",
      " |  \n",
      " |  __abs__(self, /)\n",
      " |      abs(self)\n",
      " |  \n",
      " |  __add__(self, value, /)\n",
      " |      Return self+value.\n",
      " |  \n",
      " |  __bool__(self, /)\n",
      " |      self != 0\n",
      " |  \n",
      " |  __divmod__(self, value, /)\n",
      " |      Return divmod(self, value).\n",
      " |  \n",
      " |  __eq__(self, value, /)\n",
      " |      Return self==value.\n",
      " |  \n",
      " |  __float__(self, /)\n",
      " |      float(self)\n",
      " |  \n",
      " |  __floordiv__(self, value, /)\n",
      " |      Return self//value.\n",
      " |  \n",
      " |  __format__(...)\n",
      " |      complex.__format__() -> str\n",
      " |      \n",
      " |      Convert to a string according to format_spec.\n",
      " |  \n",
      " |  __ge__(self, value, /)\n",
      " |      Return self>=value.\n",
      " |  \n",
      " |  __getattribute__(self, name, /)\n",
      " |      Return getattr(self, name).\n",
      " |  \n",
      " |  __getnewargs__(...)\n",
      " |  \n",
      " |  __gt__(self, value, /)\n",
      " |      Return self>value.\n",
      " |  \n",
      " |  __hash__(self, /)\n",
      " |      Return hash(self).\n",
      " |  \n",
      " |  __int__(self, /)\n",
      " |      int(self)\n",
      " |  \n",
      " |  __le__(self, value, /)\n",
      " |      Return self<=value.\n",
      " |  \n",
      " |  __lt__(self, value, /)\n",
      " |      Return self<value.\n",
      " |  \n",
      " |  __mod__(self, value, /)\n",
      " |      Return self%value.\n",
      " |  \n",
      " |  __mul__(self, value, /)\n",
      " |      Return self*value.\n",
      " |  \n",
      " |  __ne__(self, value, /)\n",
      " |      Return self!=value.\n",
      " |  \n",
      " |  __neg__(self, /)\n",
      " |      -self\n",
      " |  \n",
      " |  __pos__(self, /)\n",
      " |      +self\n",
      " |  \n",
      " |  __pow__(self, value, mod=None, /)\n",
      " |      Return pow(self, value, mod).\n",
      " |  \n",
      " |  __radd__(self, value, /)\n",
      " |      Return value+self.\n",
      " |  \n",
      " |  __rdivmod__(self, value, /)\n",
      " |      Return divmod(value, self).\n",
      " |  \n",
      " |  __repr__(self, /)\n",
      " |      Return repr(self).\n",
      " |  \n",
      " |  __rfloordiv__(self, value, /)\n",
      " |      Return value//self.\n",
      " |  \n",
      " |  __rmod__(self, value, /)\n",
      " |      Return value%self.\n",
      " |  \n",
      " |  __rmul__(self, value, /)\n",
      " |      Return value*self.\n",
      " |  \n",
      " |  __rpow__(self, value, mod=None, /)\n",
      " |      Return pow(value, self, mod).\n",
      " |  \n",
      " |  __rsub__(self, value, /)\n",
      " |      Return value-self.\n",
      " |  \n",
      " |  __rtruediv__(self, value, /)\n",
      " |      Return value/self.\n",
      " |  \n",
      " |  __sub__(self, value, /)\n",
      " |      Return self-value.\n",
      " |  \n",
      " |  __truediv__(self, value, /)\n",
      " |      Return self/value.\n",
      " |  \n",
      " |  conjugate(...)\n",
      " |      complex.conjugate() -> complex\n",
      " |      \n",
      " |      Return the complex conjugate of its argument. (3-4j).conjugate() == 3+4j.\n",
      " |  \n",
      " |  ----------------------------------------------------------------------\n",
      " |  Static methods defined here:\n",
      " |  \n",
      " |  __new__(*args, **kwargs) from builtins.type\n",
      " |      Create and return a new object.  See help(type) for accurate signature.\n",
      " |  \n",
      " |  ----------------------------------------------------------------------\n",
      " |  Data descriptors defined here:\n",
      " |  \n",
      " |  imag\n",
      " |      the imaginary part of a complex number\n",
      " |  \n",
      " |  real\n",
      " |      the real part of a complex number\n",
      "\n"
     ]
    }
   ],
   "source": [
    "help(complex)"
   ]
  },
  {
   "cell_type": "code",
   "execution_count": 108,
   "id": "d076ec03",
   "metadata": {},
   "outputs": [
    {
     "data": {
      "text/plain": [
       "(4+32j)"
      ]
     },
     "execution_count": 108,
     "metadata": {},
     "output_type": "execute_result"
    }
   ],
   "source": [
    "complex(4,32)"
   ]
  },
  {
   "cell_type": "code",
   "execution_count": 114,
   "id": "6bc90197",
   "metadata": {},
   "outputs": [
    {
     "data": {
      "text/plain": [
       "(4+32j)"
      ]
     },
     "execution_count": 114,
     "metadata": {},
     "output_type": "execute_result"
    }
   ],
   "source": [
    "complex('4+32j')"
   ]
  },
  {
   "cell_type": "code",
   "execution_count": null,
   "id": "b46d0590",
   "metadata": {},
   "outputs": [],
   "source": []
  },
  {
   "cell_type": "code",
   "execution_count": null,
   "id": "b4f476ab",
   "metadata": {},
   "outputs": [],
   "source": []
  },
  {
   "cell_type": "code",
   "execution_count": 124,
   "id": "ef1a08ac",
   "metadata": {},
   "outputs": [],
   "source": [
    "def word_length(phrase):\n",
    "    return list(map(len,phrase.split()))"
   ]
  },
  {
   "cell_type": "code",
   "execution_count": 125,
   "id": "506fa569",
   "metadata": {},
   "outputs": [
    {
     "data": {
      "text/plain": [
       "[3, 5, 2, 1, 1]"
      ]
     },
     "execution_count": 125,
     "metadata": {},
     "output_type": "execute_result"
    }
   ],
   "source": [
    "word_length('rwd rjhiq dw w w')"
   ]
  },
  {
   "cell_type": "code",
   "execution_count": null,
   "id": "a674a3c7",
   "metadata": {},
   "outputs": [],
   "source": []
  },
  {
   "cell_type": "code",
   "execution_count": 136,
   "id": "10cb8ec0",
   "metadata": {},
   "outputs": [],
   "source": [
    "def dig_to_num(digits):\n",
    "    return reduce(lambda x,y: x*10+y,digits)"
   ]
  },
  {
   "cell_type": "code",
   "execution_count": 137,
   "id": "463f9c17",
   "metadata": {},
   "outputs": [
    {
     "data": {
      "text/plain": [
       "35246"
      ]
     },
     "execution_count": 137,
     "metadata": {},
     "output_type": "execute_result"
    }
   ],
   "source": [
    "dig_to_num([3,5,2,4,6])"
   ]
  },
  {
   "cell_type": "code",
   "execution_count": null,
   "id": "18e96545",
   "metadata": {},
   "outputs": [],
   "source": []
  },
  {
   "cell_type": "code",
   "execution_count": 139,
   "id": "a9475212",
   "metadata": {},
   "outputs": [],
   "source": [
    "def filter_words(word_list,letter):\n",
    "    return filter(lambda word: word[0]==letter, word_list)"
   ]
  },
  {
   "cell_type": "code",
   "execution_count": 140,
   "id": "c921b897",
   "metadata": {},
   "outputs": [],
   "source": [
    "l = ['fsw','sssf','svetr','wwf','sssg4']"
   ]
  },
  {
   "cell_type": "code",
   "execution_count": 141,
   "id": "aa2e9482",
   "metadata": {},
   "outputs": [
    {
     "data": {
      "text/plain": [
       "<filter at 0x48e0d30>"
      ]
     },
     "execution_count": 141,
     "metadata": {},
     "output_type": "execute_result"
    }
   ],
   "source": [
    "filter_words(l,'s')"
   ]
  },
  {
   "cell_type": "code",
   "execution_count": 145,
   "id": "94793306",
   "metadata": {},
   "outputs": [],
   "source": [
    "def d_list(l):\n",
    "    return {key:value for value,key in enumerate(l)}"
   ]
  },
  {
   "cell_type": "code",
   "execution_count": 146,
   "id": "181823ea",
   "metadata": {},
   "outputs": [
    {
     "data": {
      "text/plain": [
       "{'a': 0, 'b': 1, 'fge': 2}"
      ]
     },
     "execution_count": 146,
     "metadata": {},
     "output_type": "execute_result"
    }
   ],
   "source": [
    "d_list(['a','b','fge'])"
   ]
  },
  {
   "cell_type": "code",
   "execution_count": null,
   "id": "014dadfa",
   "metadata": {},
   "outputs": [],
   "source": []
  },
  {
   "cell_type": "code",
   "execution_count": null,
   "id": "1aacd85a",
   "metadata": {},
   "outputs": [],
   "source": []
  },
  {
   "cell_type": "code",
   "execution_count": null,
   "id": "3eb48ee0",
   "metadata": {},
   "outputs": [],
   "source": []
  },
  {
   "cell_type": "code",
   "execution_count": null,
   "id": "8f770bbb",
   "metadata": {},
   "outputs": [],
   "source": []
  },
  {
   "cell_type": "code",
   "execution_count": null,
   "id": "a673f277",
   "metadata": {},
   "outputs": [],
   "source": []
  },
  {
   "cell_type": "code",
   "execution_count": 147,
   "id": "47177b63",
   "metadata": {
    "scrolled": false
   },
   "outputs": [
    {
     "name": "stdout",
     "output_type": "stream",
     "text": [
      "{'__name__': '__main__', '__doc__': 'Automatically created module for IPython interactive environment', '__package__': None, '__loader__': None, '__spec__': None, '__builtin__': <module 'builtins' (built-in)>, '__builtins__': <module 'builtins' (built-in)>, '_ih': ['', 'def fahrenheit(T):\\n    return (t*9/5 )+ 32', 'fahrenheit(32)', 'def fahrenheit(T):\\n    return (T*9/5 )+ 32', 'fahrenheit(32)', 'fahrenheit(0)', 'fahrenheit(0)', 'fahrenheit(100)', 'temp = list(range(11))', 'temp', 'map(fahrenheit,temp)', 's = map(fahrenheit,temp)', 's', 'print(s)', 'def fahrenheit(T):\\n    return (T*9/5 )+ 32', 'temp = [423,42,1,2,542,1]', 'temp', 's = map(fahrenheit,temp)', 'print(s)', 's = map(fahrenheit(),temp)', 'print(s)', 's = map(fahrenheit,temp)', 'map(fahrenheit,temp)', 'map(fahrenheit,temp)', 'temp', 'map(lambda T :(T*9/5 )+ 32,temp )', 'temp = [42,42,1,2,542]', 'temp', 'map(fahrenheit,temp)', 'temp', 'map(lambda T :(T*9/5 )+ 32,temp )', 'map(lambda T :(T*9/5 )+ 32,temp)', 'map(lambda T :(T*9/5 )+ 32,[2,42,2])', 'map(lambda T :(T*9/5 )+ 32,[2,42,21])', 'map(lambda T :(T*9/5 )+ 32,(4,23))', 'map(lambda T :(T*9/5 )+ 32,(4,23))', 'a = [2,1,65,3]', 'map(lambda num: num*-1,a)', 'print(map(lambda num: num*-1,a))', 'a', 'lst = [2,54,64]\\nreduce(lambda x,y: x+y, lst)', 'import reduce\\n\\nlst = [2,54,64]\\nreduce(lambda x,y: x+y, lst)', 'import functools\\n\\nlst = [2,54,64]\\nreduce(lambda x,y: x+y, lst)', 'from functools import reduce\\n\\nlst = [2,54,64]\\nreduce(lambda x,y: x+y, lst)', 'print(map(lambda num: num*-1,a))', 'max_num = lambda x,y; x if (x>y) else b', 'max_num = lambda x,y: x if (x>y) else b', 'reduce(max_num,lst)', 'max_num = lambda x,y: x if (x>y) else y', 'reduce(max_num,lst)', 'def e(n):\\n    if n%2 ==0:\\n        return True\\n    else:\\n        return False', 'e(53)', 'lst', 'filter(e,lst)', 'lst = [2, 54, 64,2,5,4,3,336421,33,43]', 'filter(e,lst)', 'filter(lambda n :n%2==0 ,lst)', 'a = filter(lambda n :n%2==0 ,lst)', 'a', 'print(a)', 'lst', 'l2 = [423,242,32,4,,21,3,32]', 'l2 = [423,242,32,4,21,3,32]', 'zip(lst,l2)', 'a=zip(lst,l2)', 'a', 'zip(2,lst,l2)', 'zip(lst,l2)', 'zip(lst,l2)', 'map(lambda pair: max(pair),zip(a,b))', 'a=[1,4,2,3]\\nb=[11,42,243,2]', 'map(lambda pair: max(pair),zip(a,b))', 'for pair in zip(a,b):\\n    print(max(pair))', 'type(map)', 'type(map())', 'type(map)', 'type(map(lambda pair: max(pair),zip(a,b)))', 'a', 'for count,item in enumerate(a):\\n    print(count, item)', 'for count,item in enumerate(a):\\n    print(count, item)', 'for count,item in enumerate(a):\\n    print((count, item))', 'for count,item in enumerate(a):\\n    print(((count, item)))', 'l = [True]*5', 'l', 'all(l)', 'l2  = \\n[True, True, True, True, True]', \"l2  = ['sd', True, True, True, True]\", 'all(l)', 'all(l2)', \"l2  = ['sd', True, True, True, True]\", 'all(l2)', \"l2  = ['sd', True, True, True, True,0]\", 'l2', 'all(l2)', 'l = [True]*5', 'l', 'all(l)', 'any(l)', \"l2  = ['sd', True, True, True, True]\", 'all(l2)', 'any(l2)', \"l2  = ['sd', True, True, True, True,0]\", 'all(l2)', 'any(l2)', 'complex(3,1)', 'help(compile)', 'help(complex)', 'complex(4,32)', 'complex(4,32)', 'complex(4,32,3)', \"complex('4,32')\", \"complex('4+32')\", \"complex('4+32i')\", \"complex('4+32j')\", \"complex('4+32j')\", \"complex('4j+32')\", 'def word_length(phrase):\\n    \\n    for word in phrase.split():\\n        return len(word)', \"word_length('fsd erj ewwww ljrlj')\", 'def word_length(phrase):\\n    \\n    for word in phrase.split():\\n        return len(word)', \"map(word_length,'fsd erj ewwww ljrlj')\", 'def word_length(phrase):\\n    return list(len,phrase.split())', \"map(word_length,'fsd erj ewwww ljrlj')\", \"word_length('rwd rjhiq dw w w')\", 'def word_length(phrase):\\n    return list(map(len,phrase.split())', 'def word_length(phrase):\\n    return list(map(len,phrase.split()))', \"word_length('rwd rjhiq dw w w')\", 'def dig_to_num(digits):\\n    reduce(lambda x,y: x+y,digits)', 'dig_to_num([3,5,2,4,6])', 'def dig_to_num(digits):\\n    return reduce(lambda x,y: x+y,digits)', 'dig_to_num([3,5,2,4,6])', 'def dig_to_num(digits):\\n    return reduce(lambda x,y: x,digits)', 'dig_to_num([3,5,2,4,6])', 'def dig_to_num(digits):\\n    return reduce(lambda x: x,digits)', 'dig_to_num([3,5,2,4,6])', 'def dig_to_num(digits):\\n    return reduce(lambda x,y: x+y,digits)', 'dig_to_num([3,5,2,4,6])', 'def dig_to_num(digits):\\n    return reduce(lambda x,y: x*10+y,digits)', 'dig_to_num([3,5,2,4,6])', 'def filter_words(word_list,letter):\\n    return filter(lambda x: x for x in word_list if x[0]== letter, word_list)', 'def filter_words(word_list,letter):\\n    return filter(lambda word: word[0]==letter, word_list)', \"l = ['fsw','sssf','svetr','wwf','sssg4']\", \"filter_words(l,'s')\", 'd_list(l):\\n    return {key:value for value,key in enumerateq(l)}', 'def d_list(l):\\n    return {key:value for value,key in enumerateq(l)}', \"d_list(['a','b','fge'])\", 'def d_list(l):\\n    return {key:value for value,key in enumerate(l)}', \"d_list(['a','b','fge'])\", 'print(globals())'], '_oh': {4: 89.6, 5: 32.0, 6: 32.0, 7: 212.0, 9: [0, 1, 2, 3, 4, 5, 6, 7, 8, 9, 10], 10: <map object at 0x056CC9D0>, 12: <map object at 0x056CCB80>, 16: [423, 42, 1, 2, 542, 1], 22: <map object at 0x047CF9A0>, 23: <map object at 0x056CC8C8>, 24: [423, 42, 1, 2, 542, 1], 25: <map object at 0x066EFFB8>, 27: [42, 42, 1, 2, 542], 28: <map object at 0x066EFE80>, 29: [42, 42, 1, 2, 542], 30: <map object at 0x066EF148>, 31: <map object at 0x066EFE68>, 32: <map object at 0x066EFE20>, 33: <map object at 0x066EF1A8>, 34: <map object at 0x066EF400>, 35: <map object at 0x066EF2E0>, 37: <map object at 0x066E7160>, 39: [2, 1, 65, 3], 43: 120, 49: 64, 51: False, 52: [2, 54, 64], 53: <filter object at 0x047C74F0>, 55: <filter object at 0x047C7970>, 56: <filter object at 0x047C7928>, 58: <filter object at 0x047C7A18>, 60: [2, 54, 64, 2, 5, 4, 3, 336421, 33, 43], 63: <zip object at 0x03A5F068>, 65: <zip object at 0x05695728>, 67: <zip object at 0x065E2B48>, 68: <zip object at 0x06650148>, 71: <map object at 0x065CD268>, 73: <class 'type'>, 75: <class 'type'>, 76: <class 'map'>, 77: [1, 4, 2, 3], 83: [True, True, True, True, True], 84: True, 87: True, 88: True, 90: True, 92: ['sd', True, True, True, True, 0], 93: False, 95: [True, True, True, True, True], 96: True, 97: True, 99: True, 100: True, 102: False, 103: True, 104: (3+1j), 107: (4+32j), 108: (4+32j), 113: (4+32j), 114: (4+32j), 117: 3, 119: <map object at 0x065B1520>, 121: <map object at 0x048DEB08>, 125: [3, 5, 2, 1, 1], 129: 20, 131: 3, 135: 20, 137: 35246, 141: <filter object at 0x048E0D30>, 146: {'a': 0, 'b': 1, 'fge': 2}}, '_dh': [WindowsPath('C:/Users/PC/Desktop/Anaconda Python/Python Jose/18 Appendix Older Python 2 Material')], 'In': ['', 'def fahrenheit(T):\\n    return (t*9/5 )+ 32', 'fahrenheit(32)', 'def fahrenheit(T):\\n    return (T*9/5 )+ 32', 'fahrenheit(32)', 'fahrenheit(0)', 'fahrenheit(0)', 'fahrenheit(100)', 'temp = list(range(11))', 'temp', 'map(fahrenheit,temp)', 's = map(fahrenheit,temp)', 's', 'print(s)', 'def fahrenheit(T):\\n    return (T*9/5 )+ 32', 'temp = [423,42,1,2,542,1]', 'temp', 's = map(fahrenheit,temp)', 'print(s)', 's = map(fahrenheit(),temp)', 'print(s)', 's = map(fahrenheit,temp)', 'map(fahrenheit,temp)', 'map(fahrenheit,temp)', 'temp', 'map(lambda T :(T*9/5 )+ 32,temp )', 'temp = [42,42,1,2,542]', 'temp', 'map(fahrenheit,temp)', 'temp', 'map(lambda T :(T*9/5 )+ 32,temp )', 'map(lambda T :(T*9/5 )+ 32,temp)', 'map(lambda T :(T*9/5 )+ 32,[2,42,2])', 'map(lambda T :(T*9/5 )+ 32,[2,42,21])', 'map(lambda T :(T*9/5 )+ 32,(4,23))', 'map(lambda T :(T*9/5 )+ 32,(4,23))', 'a = [2,1,65,3]', 'map(lambda num: num*-1,a)', 'print(map(lambda num: num*-1,a))', 'a', 'lst = [2,54,64]\\nreduce(lambda x,y: x+y, lst)', 'import reduce\\n\\nlst = [2,54,64]\\nreduce(lambda x,y: x+y, lst)', 'import functools\\n\\nlst = [2,54,64]\\nreduce(lambda x,y: x+y, lst)', 'from functools import reduce\\n\\nlst = [2,54,64]\\nreduce(lambda x,y: x+y, lst)', 'print(map(lambda num: num*-1,a))', 'max_num = lambda x,y; x if (x>y) else b', 'max_num = lambda x,y: x if (x>y) else b', 'reduce(max_num,lst)', 'max_num = lambda x,y: x if (x>y) else y', 'reduce(max_num,lst)', 'def e(n):\\n    if n%2 ==0:\\n        return True\\n    else:\\n        return False', 'e(53)', 'lst', 'filter(e,lst)', 'lst = [2, 54, 64,2,5,4,3,336421,33,43]', 'filter(e,lst)', 'filter(lambda n :n%2==0 ,lst)', 'a = filter(lambda n :n%2==0 ,lst)', 'a', 'print(a)', 'lst', 'l2 = [423,242,32,4,,21,3,32]', 'l2 = [423,242,32,4,21,3,32]', 'zip(lst,l2)', 'a=zip(lst,l2)', 'a', 'zip(2,lst,l2)', 'zip(lst,l2)', 'zip(lst,l2)', 'map(lambda pair: max(pair),zip(a,b))', 'a=[1,4,2,3]\\nb=[11,42,243,2]', 'map(lambda pair: max(pair),zip(a,b))', 'for pair in zip(a,b):\\n    print(max(pair))', 'type(map)', 'type(map())', 'type(map)', 'type(map(lambda pair: max(pair),zip(a,b)))', 'a', 'for count,item in enumerate(a):\\n    print(count, item)', 'for count,item in enumerate(a):\\n    print(count, item)', 'for count,item in enumerate(a):\\n    print((count, item))', 'for count,item in enumerate(a):\\n    print(((count, item)))', 'l = [True]*5', 'l', 'all(l)', 'l2  = \\n[True, True, True, True, True]', \"l2  = ['sd', True, True, True, True]\", 'all(l)', 'all(l2)', \"l2  = ['sd', True, True, True, True]\", 'all(l2)', \"l2  = ['sd', True, True, True, True,0]\", 'l2', 'all(l2)', 'l = [True]*5', 'l', 'all(l)', 'any(l)', \"l2  = ['sd', True, True, True, True]\", 'all(l2)', 'any(l2)', \"l2  = ['sd', True, True, True, True,0]\", 'all(l2)', 'any(l2)', 'complex(3,1)', 'help(compile)', 'help(complex)', 'complex(4,32)', 'complex(4,32)', 'complex(4,32,3)', \"complex('4,32')\", \"complex('4+32')\", \"complex('4+32i')\", \"complex('4+32j')\", \"complex('4+32j')\", \"complex('4j+32')\", 'def word_length(phrase):\\n    \\n    for word in phrase.split():\\n        return len(word)', \"word_length('fsd erj ewwww ljrlj')\", 'def word_length(phrase):\\n    \\n    for word in phrase.split():\\n        return len(word)', \"map(word_length,'fsd erj ewwww ljrlj')\", 'def word_length(phrase):\\n    return list(len,phrase.split())', \"map(word_length,'fsd erj ewwww ljrlj')\", \"word_length('rwd rjhiq dw w w')\", 'def word_length(phrase):\\n    return list(map(len,phrase.split())', 'def word_length(phrase):\\n    return list(map(len,phrase.split()))', \"word_length('rwd rjhiq dw w w')\", 'def dig_to_num(digits):\\n    reduce(lambda x,y: x+y,digits)', 'dig_to_num([3,5,2,4,6])', 'def dig_to_num(digits):\\n    return reduce(lambda x,y: x+y,digits)', 'dig_to_num([3,5,2,4,6])', 'def dig_to_num(digits):\\n    return reduce(lambda x,y: x,digits)', 'dig_to_num([3,5,2,4,6])', 'def dig_to_num(digits):\\n    return reduce(lambda x: x,digits)', 'dig_to_num([3,5,2,4,6])', 'def dig_to_num(digits):\\n    return reduce(lambda x,y: x+y,digits)', 'dig_to_num([3,5,2,4,6])', 'def dig_to_num(digits):\\n    return reduce(lambda x,y: x*10+y,digits)', 'dig_to_num([3,5,2,4,6])', 'def filter_words(word_list,letter):\\n    return filter(lambda x: x for x in word_list if x[0]== letter, word_list)', 'def filter_words(word_list,letter):\\n    return filter(lambda word: word[0]==letter, word_list)', \"l = ['fsw','sssf','svetr','wwf','sssg4']\", \"filter_words(l,'s')\", 'd_list(l):\\n    return {key:value for value,key in enumerateq(l)}', 'def d_list(l):\\n    return {key:value for value,key in enumerateq(l)}', \"d_list(['a','b','fge'])\", 'def d_list(l):\\n    return {key:value for value,key in enumerate(l)}', \"d_list(['a','b','fge'])\", 'print(globals())'], 'Out': {4: 89.6, 5: 32.0, 6: 32.0, 7: 212.0, 9: [0, 1, 2, 3, 4, 5, 6, 7, 8, 9, 10], 10: <map object at 0x056CC9D0>, 12: <map object at 0x056CCB80>, 16: [423, 42, 1, 2, 542, 1], 22: <map object at 0x047CF9A0>, 23: <map object at 0x056CC8C8>, 24: [423, 42, 1, 2, 542, 1], 25: <map object at 0x066EFFB8>, 27: [42, 42, 1, 2, 542], 28: <map object at 0x066EFE80>, 29: [42, 42, 1, 2, 542], 30: <map object at 0x066EF148>, 31: <map object at 0x066EFE68>, 32: <map object at 0x066EFE20>, 33: <map object at 0x066EF1A8>, 34: <map object at 0x066EF400>, 35: <map object at 0x066EF2E0>, 37: <map object at 0x066E7160>, 39: [2, 1, 65, 3], 43: 120, 49: 64, 51: False, 52: [2, 54, 64], 53: <filter object at 0x047C74F0>, 55: <filter object at 0x047C7970>, 56: <filter object at 0x047C7928>, 58: <filter object at 0x047C7A18>, 60: [2, 54, 64, 2, 5, 4, 3, 336421, 33, 43], 63: <zip object at 0x03A5F068>, 65: <zip object at 0x05695728>, 67: <zip object at 0x065E2B48>, 68: <zip object at 0x06650148>, 71: <map object at 0x065CD268>, 73: <class 'type'>, 75: <class 'type'>, 76: <class 'map'>, 77: [1, 4, 2, 3], 83: [True, True, True, True, True], 84: True, 87: True, 88: True, 90: True, 92: ['sd', True, True, True, True, 0], 93: False, 95: [True, True, True, True, True], 96: True, 97: True, 99: True, 100: True, 102: False, 103: True, 104: (3+1j), 107: (4+32j), 108: (4+32j), 113: (4+32j), 114: (4+32j), 117: 3, 119: <map object at 0x065B1520>, 121: <map object at 0x048DEB08>, 125: [3, 5, 2, 1, 1], 129: 20, 131: 3, 135: 20, 137: 35246, 141: <filter object at 0x048E0D30>, 146: {'a': 0, 'b': 1, 'fge': 2}}, 'get_ipython': <bound method InteractiveShell.get_ipython of <ipykernel.zmqshell.ZMQInteractiveShell object at 0x039B5F58>>, 'exit': <IPython.core.autocall.ZMQExitAutocall object at 0x03A1A5C8>, 'quit': <IPython.core.autocall.ZMQExitAutocall object at 0x03A1A5C8>, '_': {'a': 0, 'b': 1, 'fge': 2}, '__': <filter object at 0x048E0D30>, '___': 35246, '_i': \"d_list(['a','b','fge'])\", '_ii': 'def d_list(l):\\n    return {key:value for value,key in enumerate(l)}', '_iii': \"d_list(['a','b','fge'])\", '_i1': 'def fahrenheit(T):\\n    return (t*9/5 )+ 32', 'fahrenheit': <function fahrenheit at 0x055FEB20>, '_i2': 'fahrenheit(32)', '_i3': 'def fahrenheit(T):\\n    return (T*9/5 )+ 32', '_i4': 'fahrenheit(32)', '_4': 89.6, '_i5': 'fahrenheit(0)', '_5': 32.0, '_i6': 'fahrenheit(0)', '_6': 32.0, '_i7': 'fahrenheit(100)', '_7': 212.0, '_i8': 'temp = list(range(11))', 'temp': [42, 42, 1, 2, 542], '_i9': 'temp', '_9': [0, 1, 2, 3, 4, 5, 6, 7, 8, 9, 10], '_i10': 'map(fahrenheit,temp)', '_10': <map object at 0x056CC9D0>, '_i11': 's = map(fahrenheit,temp)', 's': <map object at 0x047CF790>, '_i12': 's', '_12': <map object at 0x056CCB80>, '_i13': 'print(s)', '_i14': 'def fahrenheit(T):\\n    return (T*9/5 )+ 32', '_i15': 'temp = [423,42,1,2,542,1]', '_i16': 'temp', '_16': [423, 42, 1, 2, 542, 1], '_i17': 's = map(fahrenheit,temp)', '_i18': 'print(s)', '_i19': 's = map(fahrenheit(),temp)', '_i20': 'print(s)', '_i21': 's = map(fahrenheit,temp)', '_i22': 'map(fahrenheit,temp)', '_22': <map object at 0x047CF9A0>, '_i23': 'map(fahrenheit,temp)', '_23': <map object at 0x056CC8C8>, '_i24': 'temp', '_24': [423, 42, 1, 2, 542, 1], '_i25': 'map(lambda T :(T*9/5 )+ 32,temp )', '_25': <map object at 0x066EFFB8>, '_i26': 'temp = [42,42,1,2,542]', '_i27': 'temp', '_27': [42, 42, 1, 2, 542], '_i28': 'map(fahrenheit,temp)', '_28': <map object at 0x066EFE80>, '_i29': 'temp', '_29': [42, 42, 1, 2, 542], '_i30': 'map(lambda T :(T*9/5 )+ 32,temp )', '_30': <map object at 0x066EF148>, '_i31': 'map(lambda T :(T*9/5 )+ 32,temp)', '_31': <map object at 0x066EFE68>, '_i32': 'map(lambda T :(T*9/5 )+ 32,[2,42,2])', '_32': <map object at 0x066EFE20>, '_i33': 'map(lambda T :(T*9/5 )+ 32,[2,42,21])', '_33': <map object at 0x066EF1A8>, '_i34': 'map(lambda T :(T*9/5 )+ 32,(4,23))', '_34': <map object at 0x066EF400>, '_i35': 'map(lambda T :(T*9/5 )+ 32,(4,23))', '_35': <map object at 0x066EF2E0>, '_i36': 'a = [2,1,65,3]', 'a': [1, 4, 2, 3], '_i37': 'map(lambda num: num*-1,a)', '_37': <map object at 0x066E7160>, '_i38': 'print(map(lambda num: num*-1,a))', '_i39': 'a', '_39': [2, 1, 65, 3], '_i40': 'lst = [2,54,64]\\nreduce(lambda x,y: x+y, lst)', 'lst': [2, 54, 64, 2, 5, 4, 3, 336421, 33, 43], '_i41': 'import reduce\\n\\nlst = [2,54,64]\\nreduce(lambda x,y: x+y, lst)', '_i42': 'import functools\\n\\nlst = [2,54,64]\\nreduce(lambda x,y: x+y, lst)', 'functools': <module 'functools' from 'C:\\\\Users\\\\PC\\\\AppData\\\\Local\\\\Programs\\\\Python\\\\Python38-32\\\\lib\\\\functools.py'>, '_i43': 'from functools import reduce\\n\\nlst = [2,54,64]\\nreduce(lambda x,y: x+y, lst)', 'reduce': <built-in function reduce>, '_43': 120, '_i44': 'print(map(lambda num: num*-1,a))', '_i45': 'max_num = lambda x,y; x if (x>y) else b', '_i46': 'max_num = lambda x,y: x if (x>y) else b', 'max_num': <function <lambda> at 0x055FE538>, '_i47': 'reduce(max_num,lst)', '_i48': 'max_num = lambda x,y: x if (x>y) else y', '_i49': 'reduce(max_num,lst)', '_49': 64, '_i50': 'def e(n):\\n    if n%2 ==0:\\n        return True\\n    else:\\n        return False', 'e': <function e at 0x059759B8>, '_i51': 'e(53)', '_51': False, '_i52': 'lst', '_52': [2, 54, 64], '_i53': 'filter(e,lst)', '_53': <filter object at 0x047C74F0>, '_i54': 'lst = [2, 54, 64,2,5,4,3,336421,33,43]', '_i55': 'filter(e,lst)', '_55': <filter object at 0x047C7970>, '_i56': 'filter(lambda n :n%2==0 ,lst)', '_56': <filter object at 0x047C7928>, '_i57': 'a = filter(lambda n :n%2==0 ,lst)', '_i58': 'a', '_58': <filter object at 0x047C7A18>, '_i59': 'print(a)', '_i60': 'lst', '_60': [2, 54, 64, 2, 5, 4, 3, 336421, 33, 43], '_i61': 'l2 = [423,242,32,4,,21,3,32]', '_i62': 'l2 = [423,242,32,4,21,3,32]', 'l2': ['sd', True, True, True, True, 0], '_i63': 'zip(lst,l2)', '_63': <zip object at 0x03A5F068>, '_i64': 'a=zip(lst,l2)', '_i65': 'a', '_65': <zip object at 0x05695728>, '_i66': 'zip(2,lst,l2)', '_i67': 'zip(lst,l2)', '_67': <zip object at 0x065E2B48>, '_i68': 'zip(lst,l2)', '_68': <zip object at 0x06650148>, '_i69': 'map(lambda pair: max(pair),zip(a,b))', '_i70': 'a=[1,4,2,3]\\nb=[11,42,243,2]', 'b': [11, 42, 243, 2], '_i71': 'map(lambda pair: max(pair),zip(a,b))', '_71': <map object at 0x065CD268>, '_i72': 'for pair in zip(a,b):\\n    print(max(pair))', 'pair': (3, 2), '_i73': 'type(map)', '_73': <class 'type'>, '_i74': 'type(map())', '_i75': 'type(map)', '_75': <class 'type'>, '_i76': 'type(map(lambda pair: max(pair),zip(a,b)))', '_76': <class 'map'>, '_i77': 'a', '_77': [1, 4, 2, 3], '_i78': 'for count,item in enumerate(a):\\n    print(count, item)', 'count': 3, 'item': 3, '_i79': 'for count,item in enumerate(a):\\n    print(count, item)', '_i80': 'for count,item in enumerate(a):\\n    print((count, item))', '_i81': 'for count,item in enumerate(a):\\n    print(((count, item)))', '_i82': 'l = [True]*5', 'l': ['fsw', 'sssf', 'svetr', 'wwf', 'sssg4'], '_i83': 'l', '_83': [True, True, True, True, True], '_i84': 'all(l)', '_84': True, '_i85': 'l2  = \\n[True, True, True, True, True]', '_i86': \"l2  = ['sd', True, True, True, True]\", '_i87': 'all(l)', '_87': True, '_i88': 'all(l2)', '_88': True, '_i89': \"l2  = ['sd', True, True, True, True]\", '_i90': 'all(l2)', '_90': True, '_i91': \"l2  = ['sd', True, True, True, True,0]\", '_i92': 'l2', '_92': ['sd', True, True, True, True, 0], '_i93': 'all(l2)', '_93': False, '_i94': 'l = [True]*5', '_i95': 'l', '_95': [True, True, True, True, True], '_i96': 'all(l)', '_96': True, '_i97': 'any(l)', '_97': True, '_i98': \"l2  = ['sd', True, True, True, True]\", '_i99': 'all(l2)', '_99': True, '_i100': 'any(l2)', '_100': True, '_i101': \"l2  = ['sd', True, True, True, True,0]\", '_i102': 'all(l2)', '_102': False, '_i103': 'any(l2)', '_103': True, '_i104': 'complex(3,1)', '_104': (3+1j), '_i105': 'help(compile)', '_i106': 'help(complex)', '_i107': 'complex(4,32)', '_107': (4+32j), '_i108': 'complex(4,32)', '_108': (4+32j), '_i109': 'complex(4,32,3)', '_i110': \"complex('4,32')\", '_i111': \"complex('4+32')\", '_i112': \"complex('4+32i')\", '_i113': \"complex('4+32j')\", '_113': (4+32j), '_i114': \"complex('4+32j')\", '_114': (4+32j), '_i115': \"complex('4j+32')\", '_i116': 'def word_length(phrase):\\n    \\n    for word in phrase.split():\\n        return len(word)', 'word_length': <function word_length at 0x04917928>, '_i117': \"word_length('fsd erj ewwww ljrlj')\", '_117': 3, '_i118': 'def word_length(phrase):\\n    \\n    for word in phrase.split():\\n        return len(word)', '_i119': \"map(word_length,'fsd erj ewwww ljrlj')\", '_119': <map object at 0x065B1520>, '_i120': 'def word_length(phrase):\\n    return list(len,phrase.split())', '_i121': \"map(word_length,'fsd erj ewwww ljrlj')\", '_121': <map object at 0x048DEB08>, '_i122': \"word_length('rwd rjhiq dw w w')\", '_i123': 'def word_length(phrase):\\n    return list(map(len,phrase.split())', '_i124': 'def word_length(phrase):\\n    return list(map(len,phrase.split()))', '_i125': \"word_length('rwd rjhiq dw w w')\", '_125': [3, 5, 2, 1, 1], '_i126': 'def dig_to_num(digits):\\n    reduce(lambda x,y: x+y,digits)', 'dig_to_num': <function dig_to_num at 0x049502B0>, '_i127': 'dig_to_num([3,5,2,4,6])', '_i128': 'def dig_to_num(digits):\\n    return reduce(lambda x,y: x+y,digits)', '_i129': 'dig_to_num([3,5,2,4,6])', '_129': 20, '_i130': 'def dig_to_num(digits):\\n    return reduce(lambda x,y: x,digits)', '_i131': 'dig_to_num([3,5,2,4,6])', '_131': 3, '_i132': 'def dig_to_num(digits):\\n    return reduce(lambda x: x,digits)', '_i133': 'dig_to_num([3,5,2,4,6])', '_i134': 'def dig_to_num(digits):\\n    return reduce(lambda x,y: x+y,digits)', '_i135': 'dig_to_num([3,5,2,4,6])', '_135': 20, '_i136': 'def dig_to_num(digits):\\n    return reduce(lambda x,y: x*10+y,digits)', '_i137': 'dig_to_num([3,5,2,4,6])', '_137': 35246, '_i138': 'def filter_words(word_list,letter):\\n    return filter(lambda x: x for x in word_list if x[0]== letter, word_list)', '_i139': 'def filter_words(word_list,letter):\\n    return filter(lambda word: word[0]==letter, word_list)', 'filter_words': <function filter_words at 0x04950BF8>, '_i140': \"l = ['fsw','sssf','svetr','wwf','sssg4']\", '_i141': \"filter_words(l,'s')\", '_141': <filter object at 0x048E0D30>, '_i142': 'd_list(l):\\n    return {key:value for value,key in enumerateq(l)}', '_i143': 'def d_list(l):\\n    return {key:value for value,key in enumerateq(l)}', 'd_list': <function d_list at 0x0491FA90>, '_i144': \"d_list(['a','b','fge'])\", '_i145': 'def d_list(l):\\n    return {key:value for value,key in enumerate(l)}', '_i146': \"d_list(['a','b','fge'])\", '_146': {'a': 0, 'b': 1, 'fge': 2}, '_i147': 'print(globals())'}\n"
     ]
    }
   ],
   "source": [
    "print(globals())"
   ]
  },
  {
   "cell_type": "code",
   "execution_count": 148,
   "id": "aec95404",
   "metadata": {},
   "outputs": [
    {
     "name": "stdout",
     "output_type": "stream",
     "text": [
      "<built-in function locals>\n"
     ]
    }
   ],
   "source": [
    "print(locals)"
   ]
  },
  {
   "cell_type": "code",
   "execution_count": 149,
   "id": "0dfcb75b",
   "metadata": {
    "scrolled": false
   },
   "outputs": [
    {
     "name": "stdout",
     "output_type": "stream",
     "text": [
      "{'__name__': '__main__', '__doc__': 'Automatically created module for IPython interactive environment', '__package__': None, '__loader__': None, '__spec__': None, '__builtin__': <module 'builtins' (built-in)>, '__builtins__': <module 'builtins' (built-in)>, '_ih': ['', 'def fahrenheit(T):\\n    return (t*9/5 )+ 32', 'fahrenheit(32)', 'def fahrenheit(T):\\n    return (T*9/5 )+ 32', 'fahrenheit(32)', 'fahrenheit(0)', 'fahrenheit(0)', 'fahrenheit(100)', 'temp = list(range(11))', 'temp', 'map(fahrenheit,temp)', 's = map(fahrenheit,temp)', 's', 'print(s)', 'def fahrenheit(T):\\n    return (T*9/5 )+ 32', 'temp = [423,42,1,2,542,1]', 'temp', 's = map(fahrenheit,temp)', 'print(s)', 's = map(fahrenheit(),temp)', 'print(s)', 's = map(fahrenheit,temp)', 'map(fahrenheit,temp)', 'map(fahrenheit,temp)', 'temp', 'map(lambda T :(T*9/5 )+ 32,temp )', 'temp = [42,42,1,2,542]', 'temp', 'map(fahrenheit,temp)', 'temp', 'map(lambda T :(T*9/5 )+ 32,temp )', 'map(lambda T :(T*9/5 )+ 32,temp)', 'map(lambda T :(T*9/5 )+ 32,[2,42,2])', 'map(lambda T :(T*9/5 )+ 32,[2,42,21])', 'map(lambda T :(T*9/5 )+ 32,(4,23))', 'map(lambda T :(T*9/5 )+ 32,(4,23))', 'a = [2,1,65,3]', 'map(lambda num: num*-1,a)', 'print(map(lambda num: num*-1,a))', 'a', 'lst = [2,54,64]\\nreduce(lambda x,y: x+y, lst)', 'import reduce\\n\\nlst = [2,54,64]\\nreduce(lambda x,y: x+y, lst)', 'import functools\\n\\nlst = [2,54,64]\\nreduce(lambda x,y: x+y, lst)', 'from functools import reduce\\n\\nlst = [2,54,64]\\nreduce(lambda x,y: x+y, lst)', 'print(map(lambda num: num*-1,a))', 'max_num = lambda x,y; x if (x>y) else b', 'max_num = lambda x,y: x if (x>y) else b', 'reduce(max_num,lst)', 'max_num = lambda x,y: x if (x>y) else y', 'reduce(max_num,lst)', 'def e(n):\\n    if n%2 ==0:\\n        return True\\n    else:\\n        return False', 'e(53)', 'lst', 'filter(e,lst)', 'lst = [2, 54, 64,2,5,4,3,336421,33,43]', 'filter(e,lst)', 'filter(lambda n :n%2==0 ,lst)', 'a = filter(lambda n :n%2==0 ,lst)', 'a', 'print(a)', 'lst', 'l2 = [423,242,32,4,,21,3,32]', 'l2 = [423,242,32,4,21,3,32]', 'zip(lst,l2)', 'a=zip(lst,l2)', 'a', 'zip(2,lst,l2)', 'zip(lst,l2)', 'zip(lst,l2)', 'map(lambda pair: max(pair),zip(a,b))', 'a=[1,4,2,3]\\nb=[11,42,243,2]', 'map(lambda pair: max(pair),zip(a,b))', 'for pair in zip(a,b):\\n    print(max(pair))', 'type(map)', 'type(map())', 'type(map)', 'type(map(lambda pair: max(pair),zip(a,b)))', 'a', 'for count,item in enumerate(a):\\n    print(count, item)', 'for count,item in enumerate(a):\\n    print(count, item)', 'for count,item in enumerate(a):\\n    print((count, item))', 'for count,item in enumerate(a):\\n    print(((count, item)))', 'l = [True]*5', 'l', 'all(l)', 'l2  = \\n[True, True, True, True, True]', \"l2  = ['sd', True, True, True, True]\", 'all(l)', 'all(l2)', \"l2  = ['sd', True, True, True, True]\", 'all(l2)', \"l2  = ['sd', True, True, True, True,0]\", 'l2', 'all(l2)', 'l = [True]*5', 'l', 'all(l)', 'any(l)', \"l2  = ['sd', True, True, True, True]\", 'all(l2)', 'any(l2)', \"l2  = ['sd', True, True, True, True,0]\", 'all(l2)', 'any(l2)', 'complex(3,1)', 'help(compile)', 'help(complex)', 'complex(4,32)', 'complex(4,32)', 'complex(4,32,3)', \"complex('4,32')\", \"complex('4+32')\", \"complex('4+32i')\", \"complex('4+32j')\", \"complex('4+32j')\", \"complex('4j+32')\", 'def word_length(phrase):\\n    \\n    for word in phrase.split():\\n        return len(word)', \"word_length('fsd erj ewwww ljrlj')\", 'def word_length(phrase):\\n    \\n    for word in phrase.split():\\n        return len(word)', \"map(word_length,'fsd erj ewwww ljrlj')\", 'def word_length(phrase):\\n    return list(len,phrase.split())', \"map(word_length,'fsd erj ewwww ljrlj')\", \"word_length('rwd rjhiq dw w w')\", 'def word_length(phrase):\\n    return list(map(len,phrase.split())', 'def word_length(phrase):\\n    return list(map(len,phrase.split()))', \"word_length('rwd rjhiq dw w w')\", 'def dig_to_num(digits):\\n    reduce(lambda x,y: x+y,digits)', 'dig_to_num([3,5,2,4,6])', 'def dig_to_num(digits):\\n    return reduce(lambda x,y: x+y,digits)', 'dig_to_num([3,5,2,4,6])', 'def dig_to_num(digits):\\n    return reduce(lambda x,y: x,digits)', 'dig_to_num([3,5,2,4,6])', 'def dig_to_num(digits):\\n    return reduce(lambda x: x,digits)', 'dig_to_num([3,5,2,4,6])', 'def dig_to_num(digits):\\n    return reduce(lambda x,y: x+y,digits)', 'dig_to_num([3,5,2,4,6])', 'def dig_to_num(digits):\\n    return reduce(lambda x,y: x*10+y,digits)', 'dig_to_num([3,5,2,4,6])', 'def filter_words(word_list,letter):\\n    return filter(lambda x: x for x in word_list if x[0]== letter, word_list)', 'def filter_words(word_list,letter):\\n    return filter(lambda word: word[0]==letter, word_list)', \"l = ['fsw','sssf','svetr','wwf','sssg4']\", \"filter_words(l,'s')\", 'd_list(l):\\n    return {key:value for value,key in enumerateq(l)}', 'def d_list(l):\\n    return {key:value for value,key in enumerateq(l)}', \"d_list(['a','b','fge'])\", 'def d_list(l):\\n    return {key:value for value,key in enumerate(l)}', \"d_list(['a','b','fge'])\", 'print(globals())', 'print(locals)', 'print(locals())'], '_oh': {4: 89.6, 5: 32.0, 6: 32.0, 7: 212.0, 9: [0, 1, 2, 3, 4, 5, 6, 7, 8, 9, 10], 10: <map object at 0x056CC9D0>, 12: <map object at 0x056CCB80>, 16: [423, 42, 1, 2, 542, 1], 22: <map object at 0x047CF9A0>, 23: <map object at 0x056CC8C8>, 24: [423, 42, 1, 2, 542, 1], 25: <map object at 0x066EFFB8>, 27: [42, 42, 1, 2, 542], 28: <map object at 0x066EFE80>, 29: [42, 42, 1, 2, 542], 30: <map object at 0x066EF148>, 31: <map object at 0x066EFE68>, 32: <map object at 0x066EFE20>, 33: <map object at 0x066EF1A8>, 34: <map object at 0x066EF400>, 35: <map object at 0x066EF2E0>, 37: <map object at 0x066E7160>, 39: [2, 1, 65, 3], 43: 120, 49: 64, 51: False, 52: [2, 54, 64], 53: <filter object at 0x047C74F0>, 55: <filter object at 0x047C7970>, 56: <filter object at 0x047C7928>, 58: <filter object at 0x047C7A18>, 60: [2, 54, 64, 2, 5, 4, 3, 336421, 33, 43], 63: <zip object at 0x03A5F068>, 65: <zip object at 0x05695728>, 67: <zip object at 0x065E2B48>, 68: <zip object at 0x06650148>, 71: <map object at 0x065CD268>, 73: <class 'type'>, 75: <class 'type'>, 76: <class 'map'>, 77: [1, 4, 2, 3], 83: [True, True, True, True, True], 84: True, 87: True, 88: True, 90: True, 92: ['sd', True, True, True, True, 0], 93: False, 95: [True, True, True, True, True], 96: True, 97: True, 99: True, 100: True, 102: False, 103: True, 104: (3+1j), 107: (4+32j), 108: (4+32j), 113: (4+32j), 114: (4+32j), 117: 3, 119: <map object at 0x065B1520>, 121: <map object at 0x048DEB08>, 125: [3, 5, 2, 1, 1], 129: 20, 131: 3, 135: 20, 137: 35246, 141: <filter object at 0x048E0D30>, 146: {'a': 0, 'b': 1, 'fge': 2}}, '_dh': [WindowsPath('C:/Users/PC/Desktop/Anaconda Python/Python Jose/18 Appendix Older Python 2 Material')], 'In': ['', 'def fahrenheit(T):\\n    return (t*9/5 )+ 32', 'fahrenheit(32)', 'def fahrenheit(T):\\n    return (T*9/5 )+ 32', 'fahrenheit(32)', 'fahrenheit(0)', 'fahrenheit(0)', 'fahrenheit(100)', 'temp = list(range(11))', 'temp', 'map(fahrenheit,temp)', 's = map(fahrenheit,temp)', 's', 'print(s)', 'def fahrenheit(T):\\n    return (T*9/5 )+ 32', 'temp = [423,42,1,2,542,1]', 'temp', 's = map(fahrenheit,temp)', 'print(s)', 's = map(fahrenheit(),temp)', 'print(s)', 's = map(fahrenheit,temp)', 'map(fahrenheit,temp)', 'map(fahrenheit,temp)', 'temp', 'map(lambda T :(T*9/5 )+ 32,temp )', 'temp = [42,42,1,2,542]', 'temp', 'map(fahrenheit,temp)', 'temp', 'map(lambda T :(T*9/5 )+ 32,temp )', 'map(lambda T :(T*9/5 )+ 32,temp)', 'map(lambda T :(T*9/5 )+ 32,[2,42,2])', 'map(lambda T :(T*9/5 )+ 32,[2,42,21])', 'map(lambda T :(T*9/5 )+ 32,(4,23))', 'map(lambda T :(T*9/5 )+ 32,(4,23))', 'a = [2,1,65,3]', 'map(lambda num: num*-1,a)', 'print(map(lambda num: num*-1,a))', 'a', 'lst = [2,54,64]\\nreduce(lambda x,y: x+y, lst)', 'import reduce\\n\\nlst = [2,54,64]\\nreduce(lambda x,y: x+y, lst)', 'import functools\\n\\nlst = [2,54,64]\\nreduce(lambda x,y: x+y, lst)', 'from functools import reduce\\n\\nlst = [2,54,64]\\nreduce(lambda x,y: x+y, lst)', 'print(map(lambda num: num*-1,a))', 'max_num = lambda x,y; x if (x>y) else b', 'max_num = lambda x,y: x if (x>y) else b', 'reduce(max_num,lst)', 'max_num = lambda x,y: x if (x>y) else y', 'reduce(max_num,lst)', 'def e(n):\\n    if n%2 ==0:\\n        return True\\n    else:\\n        return False', 'e(53)', 'lst', 'filter(e,lst)', 'lst = [2, 54, 64,2,5,4,3,336421,33,43]', 'filter(e,lst)', 'filter(lambda n :n%2==0 ,lst)', 'a = filter(lambda n :n%2==0 ,lst)', 'a', 'print(a)', 'lst', 'l2 = [423,242,32,4,,21,3,32]', 'l2 = [423,242,32,4,21,3,32]', 'zip(lst,l2)', 'a=zip(lst,l2)', 'a', 'zip(2,lst,l2)', 'zip(lst,l2)', 'zip(lst,l2)', 'map(lambda pair: max(pair),zip(a,b))', 'a=[1,4,2,3]\\nb=[11,42,243,2]', 'map(lambda pair: max(pair),zip(a,b))', 'for pair in zip(a,b):\\n    print(max(pair))', 'type(map)', 'type(map())', 'type(map)', 'type(map(lambda pair: max(pair),zip(a,b)))', 'a', 'for count,item in enumerate(a):\\n    print(count, item)', 'for count,item in enumerate(a):\\n    print(count, item)', 'for count,item in enumerate(a):\\n    print((count, item))', 'for count,item in enumerate(a):\\n    print(((count, item)))', 'l = [True]*5', 'l', 'all(l)', 'l2  = \\n[True, True, True, True, True]', \"l2  = ['sd', True, True, True, True]\", 'all(l)', 'all(l2)', \"l2  = ['sd', True, True, True, True]\", 'all(l2)', \"l2  = ['sd', True, True, True, True,0]\", 'l2', 'all(l2)', 'l = [True]*5', 'l', 'all(l)', 'any(l)', \"l2  = ['sd', True, True, True, True]\", 'all(l2)', 'any(l2)', \"l2  = ['sd', True, True, True, True,0]\", 'all(l2)', 'any(l2)', 'complex(3,1)', 'help(compile)', 'help(complex)', 'complex(4,32)', 'complex(4,32)', 'complex(4,32,3)', \"complex('4,32')\", \"complex('4+32')\", \"complex('4+32i')\", \"complex('4+32j')\", \"complex('4+32j')\", \"complex('4j+32')\", 'def word_length(phrase):\\n    \\n    for word in phrase.split():\\n        return len(word)', \"word_length('fsd erj ewwww ljrlj')\", 'def word_length(phrase):\\n    \\n    for word in phrase.split():\\n        return len(word)', \"map(word_length,'fsd erj ewwww ljrlj')\", 'def word_length(phrase):\\n    return list(len,phrase.split())', \"map(word_length,'fsd erj ewwww ljrlj')\", \"word_length('rwd rjhiq dw w w')\", 'def word_length(phrase):\\n    return list(map(len,phrase.split())', 'def word_length(phrase):\\n    return list(map(len,phrase.split()))', \"word_length('rwd rjhiq dw w w')\", 'def dig_to_num(digits):\\n    reduce(lambda x,y: x+y,digits)', 'dig_to_num([3,5,2,4,6])', 'def dig_to_num(digits):\\n    return reduce(lambda x,y: x+y,digits)', 'dig_to_num([3,5,2,4,6])', 'def dig_to_num(digits):\\n    return reduce(lambda x,y: x,digits)', 'dig_to_num([3,5,2,4,6])', 'def dig_to_num(digits):\\n    return reduce(lambda x: x,digits)', 'dig_to_num([3,5,2,4,6])', 'def dig_to_num(digits):\\n    return reduce(lambda x,y: x+y,digits)', 'dig_to_num([3,5,2,4,6])', 'def dig_to_num(digits):\\n    return reduce(lambda x,y: x*10+y,digits)', 'dig_to_num([3,5,2,4,6])', 'def filter_words(word_list,letter):\\n    return filter(lambda x: x for x in word_list if x[0]== letter, word_list)', 'def filter_words(word_list,letter):\\n    return filter(lambda word: word[0]==letter, word_list)', \"l = ['fsw','sssf','svetr','wwf','sssg4']\", \"filter_words(l,'s')\", 'd_list(l):\\n    return {key:value for value,key in enumerateq(l)}', 'def d_list(l):\\n    return {key:value for value,key in enumerateq(l)}', \"d_list(['a','b','fge'])\", 'def d_list(l):\\n    return {key:value for value,key in enumerate(l)}', \"d_list(['a','b','fge'])\", 'print(globals())', 'print(locals)', 'print(locals())'], 'Out': {4: 89.6, 5: 32.0, 6: 32.0, 7: 212.0, 9: [0, 1, 2, 3, 4, 5, 6, 7, 8, 9, 10], 10: <map object at 0x056CC9D0>, 12: <map object at 0x056CCB80>, 16: [423, 42, 1, 2, 542, 1], 22: <map object at 0x047CF9A0>, 23: <map object at 0x056CC8C8>, 24: [423, 42, 1, 2, 542, 1], 25: <map object at 0x066EFFB8>, 27: [42, 42, 1, 2, 542], 28: <map object at 0x066EFE80>, 29: [42, 42, 1, 2, 542], 30: <map object at 0x066EF148>, 31: <map object at 0x066EFE68>, 32: <map object at 0x066EFE20>, 33: <map object at 0x066EF1A8>, 34: <map object at 0x066EF400>, 35: <map object at 0x066EF2E0>, 37: <map object at 0x066E7160>, 39: [2, 1, 65, 3], 43: 120, 49: 64, 51: False, 52: [2, 54, 64], 53: <filter object at 0x047C74F0>, 55: <filter object at 0x047C7970>, 56: <filter object at 0x047C7928>, 58: <filter object at 0x047C7A18>, 60: [2, 54, 64, 2, 5, 4, 3, 336421, 33, 43], 63: <zip object at 0x03A5F068>, 65: <zip object at 0x05695728>, 67: <zip object at 0x065E2B48>, 68: <zip object at 0x06650148>, 71: <map object at 0x065CD268>, 73: <class 'type'>, 75: <class 'type'>, 76: <class 'map'>, 77: [1, 4, 2, 3], 83: [True, True, True, True, True], 84: True, 87: True, 88: True, 90: True, 92: ['sd', True, True, True, True, 0], 93: False, 95: [True, True, True, True, True], 96: True, 97: True, 99: True, 100: True, 102: False, 103: True, 104: (3+1j), 107: (4+32j), 108: (4+32j), 113: (4+32j), 114: (4+32j), 117: 3, 119: <map object at 0x065B1520>, 121: <map object at 0x048DEB08>, 125: [3, 5, 2, 1, 1], 129: 20, 131: 3, 135: 20, 137: 35246, 141: <filter object at 0x048E0D30>, 146: {'a': 0, 'b': 1, 'fge': 2}}, 'get_ipython': <bound method InteractiveShell.get_ipython of <ipykernel.zmqshell.ZMQInteractiveShell object at 0x039B5F58>>, 'exit': <IPython.core.autocall.ZMQExitAutocall object at 0x03A1A5C8>, 'quit': <IPython.core.autocall.ZMQExitAutocall object at 0x03A1A5C8>, '_': {'a': 0, 'b': 1, 'fge': 2}, '__': <filter object at 0x048E0D30>, '___': 35246, '_i': 'print(locals)', '_ii': 'print(globals())', '_iii': \"d_list(['a','b','fge'])\", '_i1': 'def fahrenheit(T):\\n    return (t*9/5 )+ 32', 'fahrenheit': <function fahrenheit at 0x055FEB20>, '_i2': 'fahrenheit(32)', '_i3': 'def fahrenheit(T):\\n    return (T*9/5 )+ 32', '_i4': 'fahrenheit(32)', '_4': 89.6, '_i5': 'fahrenheit(0)', '_5': 32.0, '_i6': 'fahrenheit(0)', '_6': 32.0, '_i7': 'fahrenheit(100)', '_7': 212.0, '_i8': 'temp = list(range(11))', 'temp': [42, 42, 1, 2, 542], '_i9': 'temp', '_9': [0, 1, 2, 3, 4, 5, 6, 7, 8, 9, 10], '_i10': 'map(fahrenheit,temp)', '_10': <map object at 0x056CC9D0>, '_i11': 's = map(fahrenheit,temp)', 's': <map object at 0x047CF790>, '_i12': 's', '_12': <map object at 0x056CCB80>, '_i13': 'print(s)', '_i14': 'def fahrenheit(T):\\n    return (T*9/5 )+ 32', '_i15': 'temp = [423,42,1,2,542,1]', '_i16': 'temp', '_16': [423, 42, 1, 2, 542, 1], '_i17': 's = map(fahrenheit,temp)', '_i18': 'print(s)', '_i19': 's = map(fahrenheit(),temp)', '_i20': 'print(s)', '_i21': 's = map(fahrenheit,temp)', '_i22': 'map(fahrenheit,temp)', '_22': <map object at 0x047CF9A0>, '_i23': 'map(fahrenheit,temp)', '_23': <map object at 0x056CC8C8>, '_i24': 'temp', '_24': [423, 42, 1, 2, 542, 1], '_i25': 'map(lambda T :(T*9/5 )+ 32,temp )', '_25': <map object at 0x066EFFB8>, '_i26': 'temp = [42,42,1,2,542]', '_i27': 'temp', '_27': [42, 42, 1, 2, 542], '_i28': 'map(fahrenheit,temp)', '_28': <map object at 0x066EFE80>, '_i29': 'temp', '_29': [42, 42, 1, 2, 542], '_i30': 'map(lambda T :(T*9/5 )+ 32,temp )', '_30': <map object at 0x066EF148>, '_i31': 'map(lambda T :(T*9/5 )+ 32,temp)', '_31': <map object at 0x066EFE68>, '_i32': 'map(lambda T :(T*9/5 )+ 32,[2,42,2])', '_32': <map object at 0x066EFE20>, '_i33': 'map(lambda T :(T*9/5 )+ 32,[2,42,21])', '_33': <map object at 0x066EF1A8>, '_i34': 'map(lambda T :(T*9/5 )+ 32,(4,23))', '_34': <map object at 0x066EF400>, '_i35': 'map(lambda T :(T*9/5 )+ 32,(4,23))', '_35': <map object at 0x066EF2E0>, '_i36': 'a = [2,1,65,3]', 'a': [1, 4, 2, 3], '_i37': 'map(lambda num: num*-1,a)', '_37': <map object at 0x066E7160>, '_i38': 'print(map(lambda num: num*-1,a))', '_i39': 'a', '_39': [2, 1, 65, 3], '_i40': 'lst = [2,54,64]\\nreduce(lambda x,y: x+y, lst)', 'lst': [2, 54, 64, 2, 5, 4, 3, 336421, 33, 43], '_i41': 'import reduce\\n\\nlst = [2,54,64]\\nreduce(lambda x,y: x+y, lst)', '_i42': 'import functools\\n\\nlst = [2,54,64]\\nreduce(lambda x,y: x+y, lst)', 'functools': <module 'functools' from 'C:\\\\Users\\\\PC\\\\AppData\\\\Local\\\\Programs\\\\Python\\\\Python38-32\\\\lib\\\\functools.py'>, '_i43': 'from functools import reduce\\n\\nlst = [2,54,64]\\nreduce(lambda x,y: x+y, lst)', 'reduce': <built-in function reduce>, '_43': 120, '_i44': 'print(map(lambda num: num*-1,a))', '_i45': 'max_num = lambda x,y; x if (x>y) else b', '_i46': 'max_num = lambda x,y: x if (x>y) else b', 'max_num': <function <lambda> at 0x055FE538>, '_i47': 'reduce(max_num,lst)', '_i48': 'max_num = lambda x,y: x if (x>y) else y', '_i49': 'reduce(max_num,lst)', '_49': 64, '_i50': 'def e(n):\\n    if n%2 ==0:\\n        return True\\n    else:\\n        return False', 'e': <function e at 0x059759B8>, '_i51': 'e(53)', '_51': False, '_i52': 'lst', '_52': [2, 54, 64], '_i53': 'filter(e,lst)', '_53': <filter object at 0x047C74F0>, '_i54': 'lst = [2, 54, 64,2,5,4,3,336421,33,43]', '_i55': 'filter(e,lst)', '_55': <filter object at 0x047C7970>, '_i56': 'filter(lambda n :n%2==0 ,lst)', '_56': <filter object at 0x047C7928>, '_i57': 'a = filter(lambda n :n%2==0 ,lst)', '_i58': 'a', '_58': <filter object at 0x047C7A18>, '_i59': 'print(a)', '_i60': 'lst', '_60': [2, 54, 64, 2, 5, 4, 3, 336421, 33, 43], '_i61': 'l2 = [423,242,32,4,,21,3,32]', '_i62': 'l2 = [423,242,32,4,21,3,32]', 'l2': ['sd', True, True, True, True, 0], '_i63': 'zip(lst,l2)', '_63': <zip object at 0x03A5F068>, '_i64': 'a=zip(lst,l2)', '_i65': 'a', '_65': <zip object at 0x05695728>, '_i66': 'zip(2,lst,l2)', '_i67': 'zip(lst,l2)', '_67': <zip object at 0x065E2B48>, '_i68': 'zip(lst,l2)', '_68': <zip object at 0x06650148>, '_i69': 'map(lambda pair: max(pair),zip(a,b))', '_i70': 'a=[1,4,2,3]\\nb=[11,42,243,2]', 'b': [11, 42, 243, 2], '_i71': 'map(lambda pair: max(pair),zip(a,b))', '_71': <map object at 0x065CD268>, '_i72': 'for pair in zip(a,b):\\n    print(max(pair))', 'pair': (3, 2), '_i73': 'type(map)', '_73': <class 'type'>, '_i74': 'type(map())', '_i75': 'type(map)', '_75': <class 'type'>, '_i76': 'type(map(lambda pair: max(pair),zip(a,b)))', '_76': <class 'map'>, '_i77': 'a', '_77': [1, 4, 2, 3], '_i78': 'for count,item in enumerate(a):\\n    print(count, item)', 'count': 3, 'item': 3, '_i79': 'for count,item in enumerate(a):\\n    print(count, item)', '_i80': 'for count,item in enumerate(a):\\n    print((count, item))', '_i81': 'for count,item in enumerate(a):\\n    print(((count, item)))', '_i82': 'l = [True]*5', 'l': ['fsw', 'sssf', 'svetr', 'wwf', 'sssg4'], '_i83': 'l', '_83': [True, True, True, True, True], '_i84': 'all(l)', '_84': True, '_i85': 'l2  = \\n[True, True, True, True, True]', '_i86': \"l2  = ['sd', True, True, True, True]\", '_i87': 'all(l)', '_87': True, '_i88': 'all(l2)', '_88': True, '_i89': \"l2  = ['sd', True, True, True, True]\", '_i90': 'all(l2)', '_90': True, '_i91': \"l2  = ['sd', True, True, True, True,0]\", '_i92': 'l2', '_92': ['sd', True, True, True, True, 0], '_i93': 'all(l2)', '_93': False, '_i94': 'l = [True]*5', '_i95': 'l', '_95': [True, True, True, True, True], '_i96': 'all(l)', '_96': True, '_i97': 'any(l)', '_97': True, '_i98': \"l2  = ['sd', True, True, True, True]\", '_i99': 'all(l2)', '_99': True, '_i100': 'any(l2)', '_100': True, '_i101': \"l2  = ['sd', True, True, True, True,0]\", '_i102': 'all(l2)', '_102': False, '_i103': 'any(l2)', '_103': True, '_i104': 'complex(3,1)', '_104': (3+1j), '_i105': 'help(compile)', '_i106': 'help(complex)', '_i107': 'complex(4,32)', '_107': (4+32j), '_i108': 'complex(4,32)', '_108': (4+32j), '_i109': 'complex(4,32,3)', '_i110': \"complex('4,32')\", '_i111': \"complex('4+32')\", '_i112': \"complex('4+32i')\", '_i113': \"complex('4+32j')\", '_113': (4+32j), '_i114': \"complex('4+32j')\", '_114': (4+32j), '_i115': \"complex('4j+32')\", '_i116': 'def word_length(phrase):\\n    \\n    for word in phrase.split():\\n        return len(word)', 'word_length': <function word_length at 0x04917928>, '_i117': \"word_length('fsd erj ewwww ljrlj')\", '_117': 3, '_i118': 'def word_length(phrase):\\n    \\n    for word in phrase.split():\\n        return len(word)', '_i119': \"map(word_length,'fsd erj ewwww ljrlj')\", '_119': <map object at 0x065B1520>, '_i120': 'def word_length(phrase):\\n    return list(len,phrase.split())', '_i121': \"map(word_length,'fsd erj ewwww ljrlj')\", '_121': <map object at 0x048DEB08>, '_i122': \"word_length('rwd rjhiq dw w w')\", '_i123': 'def word_length(phrase):\\n    return list(map(len,phrase.split())', '_i124': 'def word_length(phrase):\\n    return list(map(len,phrase.split()))', '_i125': \"word_length('rwd rjhiq dw w w')\", '_125': [3, 5, 2, 1, 1], '_i126': 'def dig_to_num(digits):\\n    reduce(lambda x,y: x+y,digits)', 'dig_to_num': <function dig_to_num at 0x049502B0>, '_i127': 'dig_to_num([3,5,2,4,6])', '_i128': 'def dig_to_num(digits):\\n    return reduce(lambda x,y: x+y,digits)', '_i129': 'dig_to_num([3,5,2,4,6])', '_129': 20, '_i130': 'def dig_to_num(digits):\\n    return reduce(lambda x,y: x,digits)', '_i131': 'dig_to_num([3,5,2,4,6])', '_131': 3, '_i132': 'def dig_to_num(digits):\\n    return reduce(lambda x: x,digits)', '_i133': 'dig_to_num([3,5,2,4,6])', '_i134': 'def dig_to_num(digits):\\n    return reduce(lambda x,y: x+y,digits)', '_i135': 'dig_to_num([3,5,2,4,6])', '_135': 20, '_i136': 'def dig_to_num(digits):\\n    return reduce(lambda x,y: x*10+y,digits)', '_i137': 'dig_to_num([3,5,2,4,6])', '_137': 35246, '_i138': 'def filter_words(word_list,letter):\\n    return filter(lambda x: x for x in word_list if x[0]== letter, word_list)', '_i139': 'def filter_words(word_list,letter):\\n    return filter(lambda word: word[0]==letter, word_list)', 'filter_words': <function filter_words at 0x04950BF8>, '_i140': \"l = ['fsw','sssf','svetr','wwf','sssg4']\", '_i141': \"filter_words(l,'s')\", '_141': <filter object at 0x048E0D30>, '_i142': 'd_list(l):\\n    return {key:value for value,key in enumerateq(l)}', '_i143': 'def d_list(l):\\n    return {key:value for value,key in enumerateq(l)}', 'd_list': <function d_list at 0x0491FA90>, '_i144': \"d_list(['a','b','fge'])\", '_i145': 'def d_list(l):\\n    return {key:value for value,key in enumerate(l)}', '_i146': \"d_list(['a','b','fge'])\", '_146': {'a': 0, 'b': 1, 'fge': 2}, '_i147': 'print(globals())', '_i148': 'print(locals)', '_i149': 'print(locals())'}\n"
     ]
    }
   ],
   "source": [
    "print(locals())"
   ]
  },
  {
   "cell_type": "code",
   "execution_count": 150,
   "id": "b675ee21",
   "metadata": {},
   "outputs": [
    {
     "data": {
      "text/plain": [
       "[1, 4, 2, 3]"
      ]
     },
     "execution_count": 150,
     "metadata": {},
     "output_type": "execute_result"
    }
   ],
   "source": [
    "a"
   ]
  },
  {
   "cell_type": "code",
   "execution_count": 152,
   "id": "90f941a9",
   "metadata": {},
   "outputs": [
    {
     "name": "stdout",
     "output_type": "stream",
     "text": [
      "<built-in function globals>\n"
     ]
    }
   ],
   "source": [
    "print(globals)"
   ]
  },
  {
   "cell_type": "code",
   "execution_count": 155,
   "id": "f9690f2e",
   "metadata": {},
   "outputs": [
    {
     "name": "stdout",
     "output_type": "stream",
     "text": [
      "[1, 4, 2, 3]\n"
     ]
    }
   ],
   "source": [
    "print(globals()['a'])"
   ]
  },
  {
   "cell_type": "code",
   "execution_count": null,
   "id": "73144ffd",
   "metadata": {},
   "outputs": [],
   "source": []
  },
  {
   "cell_type": "code",
   "execution_count": 156,
   "id": "aab3ef2f",
   "metadata": {},
   "outputs": [],
   "source": [
    "from ipywidgets import interact, interactive, fixed\n",
    "import ipywidgets as widgets"
   ]
  },
  {
   "cell_type": "code",
   "execution_count": 157,
   "id": "ce700cdb",
   "metadata": {},
   "outputs": [],
   "source": [
    "def f(x):\n",
    "    return x"
   ]
  },
  {
   "cell_type": "code",
   "execution_count": 159,
   "id": "5c097901",
   "metadata": {},
   "outputs": [
    {
     "data": {
      "application/vnd.jupyter.widget-view+json": {
       "model_id": "4cf77fe9bdac40da9523afc9a2e1c39a",
       "version_major": 2,
       "version_minor": 0
      },
      "text/plain": [
       "interactive(children=(IntSlider(value=10, description='x', max=30, min=-10), Output()), _dom_classes=('widget-…"
      ]
     },
     "metadata": {},
     "output_type": "display_data"
    },
    {
     "data": {
      "text/plain": [
       "<function __main__.f(x)>"
      ]
     },
     "execution_count": 159,
     "metadata": {},
     "output_type": "execute_result"
    }
   ],
   "source": [
    "interact(f,x=10)"
   ]
  },
  {
   "cell_type": "code",
   "execution_count": 160,
   "id": "1e6e4800",
   "metadata": {},
   "outputs": [
    {
     "data": {
      "application/vnd.jupyter.widget-view+json": {
       "model_id": "e2052070189d462a8ed696db739eb777",
       "version_major": 2,
       "version_minor": 0
      },
      "text/plain": [
       "interactive(children=(IntSlider(value=10, description='x', max=30, min=-10), Output()), _dom_classes=('widget-…"
      ]
     },
     "metadata": {},
     "output_type": "display_data"
    }
   ],
   "source": [
    "interact(f,x=10);"
   ]
  },
  {
   "cell_type": "code",
   "execution_count": null,
   "id": "9107d774",
   "metadata": {},
   "outputs": [],
   "source": []
  }
 ],
 "metadata": {
  "kernelspec": {
   "display_name": "Python 3 (ipykernel)",
   "language": "python",
   "name": "python3"
  },
  "language_info": {
   "codemirror_mode": {
    "name": "ipython",
    "version": 3
   },
   "file_extension": ".py",
   "mimetype": "text/x-python",
   "name": "python",
   "nbconvert_exporter": "python",
   "pygments_lexer": "ipython3",
   "version": "3.8.6"
  }
 },
 "nbformat": 4,
 "nbformat_minor": 5
}
