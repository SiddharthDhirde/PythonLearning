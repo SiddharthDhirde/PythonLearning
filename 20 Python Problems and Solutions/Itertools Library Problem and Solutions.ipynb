{
 "cells": [
  {
   "cell_type": "code",
   "execution_count": 1,
   "id": "f33e2ecf-750d-411d-b643-3e59e617e8e2",
   "metadata": {},
   "outputs": [
    {
     "name": "stdout",
     "output_type": "stream",
     "text": [
      "[(1, 'a', True), (2, 'b', False), (3, '-', None), ('-', '-', True)]\n"
     ]
    }
   ],
   "source": [
    "# Write a program for itertools.zip_longest()\n",
    "\n",
    "import itertools\n",
    "\n",
    "# Define three lists of different lengths\n",
    "list1 = [1, 2, 3]\n",
    "list2 = ['a', 'b']\n",
    "list3 = [True, False, None, True]\n",
    "\n",
    "# Use itertools.zip_longest to aggregate elements from the lists\n",
    "zipped = itertools.zip_longest(list1, list2, list3, fillvalue='-')\n",
    "\n",
    "# Convert the zipped object to a list and print it\n",
    "zipped_list = list(zipped)\n",
    "print(zipped_list)"
   ]
  },
  {
   "cell_type": "code",
   "execution_count": 2,
   "id": "807baa94-54b6-48e7-8d2a-6239f59f2780",
   "metadata": {},
   "outputs": [
    {
     "name": "stdout",
     "output_type": "stream",
     "text": [
      "1\n",
      "2\n",
      "3\n",
      "4\n",
      "1\n",
      "2\n",
      "3\n",
      "4\n",
      "1\n",
      "2\n"
     ]
    }
   ],
   "source": [
    "# Write a program for itertools.cycle()\n",
    "\n",
    "import itertools\n",
    "\n",
    "# Define a list\n",
    "numbers = [1, 2, 3, 4]\n",
    "\n",
    "# Create a cycle iterator\n",
    "number_cycle = itertools.cycle(numbers)\n",
    "\n",
    "# Print the next 10 elements from the cycle\n",
    "for _ in range(10):\n",
    "    print(next(number_cycle))"
   ]
  },
  {
   "cell_type": "code",
   "execution_count": 3,
   "id": "49990782-ae86-4d4f-9ee1-4ca2f6c3c8f6",
   "metadata": {},
   "outputs": [
    {
     "name": "stdout",
     "output_type": "stream",
     "text": [
      "1\n",
      "2\n",
      "3\n",
      "4\n",
      "5\n"
     ]
    }
   ],
   "source": [
    "# Write a program for itertools.count() to create counter and use next()\n",
    "\n",
    "import itertools\n",
    "\n",
    "# Create a counter starting from 1\n",
    "counter = itertools.count(1)\n",
    "\n",
    "# Print the next 5 numbers in the counter\n",
    "for _ in range(5):\n",
    "    print(next(counter))"
   ]
  },
  {
   "cell_type": "code",
   "execution_count": 4,
   "id": "61712e10-42ce-400d-b3dd-e2e2eef10e0f",
   "metadata": {},
   "outputs": [
    {
     "name": "stdout",
     "output_type": "stream",
     "text": [
      "keep silence\n",
      "keep silence\n",
      "keep silence\n",
      "keep silence\n",
      "keep silence\n"
     ]
    }
   ],
   "source": [
    "# Write a program for itertools.repeat() to display \"keep silence\" for five times.\n",
    "\n",
    "import itertools\n",
    "\n",
    "# Create an iterator that repeats \"keep silence\" five times\n",
    "repeater = itertools.repeat(\"keep silence\", times=5)\n",
    "\n",
    "# Print each repetition\n",
    "for repetition in repeater:\n",
    "    print(repetition)"
   ]
  }
 ],
 "metadata": {
  "kernelspec": {
   "display_name": "Python 3 (ipykernel)",
   "language": "python",
   "name": "python3"
  },
  "language_info": {
   "codemirror_mode": {
    "name": "ipython",
    "version": 3
   },
   "file_extension": ".py",
   "mimetype": "text/x-python",
   "name": "python",
   "nbconvert_exporter": "python",
   "pygments_lexer": "ipython3",
   "version": "3.11.7"
  }
 },
 "nbformat": 4,
 "nbformat_minor": 5
}
