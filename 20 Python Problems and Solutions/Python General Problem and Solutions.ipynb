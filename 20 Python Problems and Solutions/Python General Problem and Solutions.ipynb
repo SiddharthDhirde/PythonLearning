{
 "cells": [
  {
   "cell_type": "code",
   "execution_count": 1,
   "id": "0970d03b-8276-4665-b992-1cf55739b02f",
   "metadata": {},
   "outputs": [
    {
     "name": "stdout",
     "output_type": "stream",
     "text": [
      "{'apple inc': 9, 'banana': 6, 'cherry': 6, 'date': 4}\n"
     ]
    }
   ],
   "source": [
    "# Write a program taking list of string as an input and produce dictionary having keys as string and string length as value.\n",
    "\n",
    "def strings_to_length_dict(strings_list):\n",
    "    return {string: len(string) for string in strings_list}\n",
    "\n",
    "# Example usage\n",
    "input_strings = [\"apple inc\", \"banana\", \"cherry\", \"date\"]\n",
    "result_dict = strings_to_length_dict(input_strings)\n",
    "\n",
    "print(result_dict)"
   ]
  },
  {
   "cell_type": "code",
   "execution_count": 2,
   "id": "4c115183-05fc-4721-a18b-708254be7dc7",
   "metadata": {},
   "outputs": [
    {
     "name": "stdout",
     "output_type": "stream",
     "text": [
      "Positional arguments (*args):\n",
      "1\n",
      "2\n",
      "3\n",
      "a\n",
      "b\n",
      "\n",
      "Keyword arguments (**kwargs):\n",
      "name: John\n",
      "age: 30\n",
      "city: New York\n"
     ]
    }
   ],
   "source": [
    "# Write a program for *args and **kwargs\n",
    "\n",
    "def example_function(*args, **kwargs):\n",
    "    # Printing *args\n",
    "    print(\"Positional arguments (*args):\")\n",
    "    for arg in args:\n",
    "        print(arg)\n",
    "\n",
    "    # Printing **kwargs\n",
    "    print(\"\\nKeyword arguments (**kwargs):\")\n",
    "    for key, value in kwargs.items():\n",
    "        print(f\"{key}: {value}\")\n",
    "\n",
    "# Example usage\n",
    "example_function(1, 2, 3, \"a\", \"b\", name=\"John\", age=30, city=\"New York\")"
   ]
  },
  {
   "cell_type": "code",
   "execution_count": 3,
   "id": "a74c8914-b953-4fbd-a5bb-11053ed14b7f",
   "metadata": {},
   "outputs": [
    {
     "name": "stdout",
     "output_type": "stream",
     "text": [
      "Original dictionary: {'name': 'John', 'age': 30, 'city': 'New York'}\n",
      "After adding an item: {'name': 'John', 'age': 30, 'city': 'New York', 'job': 'Engineer'}\n",
      "After updating an item: {'name': 'John', 'age': 31, 'city': 'New York', 'job': 'Engineer'}\n",
      "After removing an item (city): {'name': 'John', 'age': 31, 'job': 'Engineer'}\n",
      "Removed item: New York\n",
      "Retrieved value (job): Engineer\n",
      "Iterating through dictionary:\n",
      "name: John\n",
      "age: 31\n",
      "job: Engineer\n",
      "Key 'name' exists in the dictionary.\n"
     ]
    }
   ],
   "source": [
    "# Write a program showing any six operations on dictionary\n",
    "\n",
    "def dictionary_operations():\n",
    "    # 1. Creating a dictionary\n",
    "    my_dict = {\"name\": \"John\", \"age\": 30, \"city\": \"New York\"}\n",
    "    print(\"Original dictionary:\", my_dict)\n",
    "\n",
    "    # 2. Adding an item\n",
    "    my_dict[\"job\"] = \"Engineer\"\n",
    "    print(\"After adding an item:\", my_dict)\n",
    "\n",
    "    # 3. Updating an item\n",
    "    my_dict[\"age\"] = 31\n",
    "    print(\"After updating an item:\", my_dict)\n",
    "\n",
    "    # 4. Removing an item\n",
    "    removed_item = my_dict.pop(\"city\")\n",
    "    print(\"After removing an item (city):\", my_dict)\n",
    "    print(\"Removed item:\", removed_item)\n",
    "\n",
    "    # 5. Retrieving a value\n",
    "    job = my_dict.get(\"job\")\n",
    "    print(\"Retrieved value (job):\", job)\n",
    "\n",
    "    # 6. Iterating through keys and values\n",
    "    print(\"Iterating through dictionary:\")\n",
    "    for key, value in my_dict.items():\n",
    "        print(f\"{key}: {value}\")\n",
    "\n",
    "    # 7. Checking if a key exists\n",
    "    key_to_check = \"name\"\n",
    "    if key_to_check in my_dict:\n",
    "        print(f\"Key '{key_to_check}' exists in the dictionary.\")\n",
    "    else:\n",
    "        print(f\"Key '{key_to_check}' does not exist in the dictionary.\")\n",
    "\n",
    "# Example usage\n",
    "dictionary_operations()"
   ]
  },
  {
   "cell_type": "code",
   "execution_count": 4,
   "id": "13fb4ce7-941c-4e24-960c-bce935677bd7",
   "metadata": {},
   "outputs": [
    {
     "name": "stdout",
     "output_type": "stream",
     "text": [
      "Sum of numbers (built-in function): 15\n",
      "Hello, Alice! This is a user-defined function.\n",
      "Square of 4 (lambda function): 16\n",
      "Factorial of 5 (recursive function): 120\n"
     ]
    }
   ],
   "source": [
    "# write a program for any four types of function\n",
    "\n",
    "# 1. Built-in Function\n",
    "def use_builtin_function():\n",
    "    numbers = [1, 2, 3, 4, 5]\n",
    "    total = sum(numbers)\n",
    "    print(\"Sum of numbers (built-in function):\", total)\n",
    "\n",
    "# 2. User-defined Function\n",
    "def user_defined_function(name):\n",
    "    print(f\"Hello, {name}! This is a user-defined function.\")\n",
    "\n",
    "# 3. Lambda Function\n",
    "def use_lambda_function():\n",
    "    square = lambda x: x * x\n",
    "    print(\"Square of 4 (lambda function):\", square(4))\n",
    "\n",
    "# 4. Recursive Function\n",
    "def recursive_function(n):\n",
    "    if n == 0:\n",
    "        return 1\n",
    "    else:\n",
    "        return n * recursive_function(n-1)\n",
    "\n",
    "def use_recursive_function():\n",
    "    number = 5\n",
    "    factorial = recursive_function(number)\n",
    "    print(f\"Factorial of {number} (recursive function):\", factorial)\n",
    "\n",
    "# Example usage\n",
    "use_builtin_function()\n",
    "user_defined_function(\"Alice\")\n",
    "use_lambda_function()\n",
    "use_recursive_function()"
   ]
  },
  {
   "cell_type": "code",
   "execution_count": 5,
   "id": "da70260d-7d1d-47bc-8a77-f8d96ba48719",
   "metadata": {},
   "outputs": [
    {
     "name": "stdout",
     "output_type": "stream",
     "text": [
      "Generated password: zM3:8<[Gk+98\n"
     ]
    }
   ],
   "source": [
    "# Write a program to generate password using random package\n",
    "\n",
    "import random\n",
    "import string\n",
    "\n",
    "def generate_password(length=12):\n",
    "    # Define the character sets\n",
    "    lowercase = string.ascii_lowercase\n",
    "    uppercase = string.ascii_uppercase\n",
    "    digits = string.digits\n",
    "    special_chars = string.punctuation\n",
    "    \n",
    "    # Combine all character sets\n",
    "    all_chars = lowercase + uppercase + digits + special_chars\n",
    "    \n",
    "    # Ensure the password has at least one character from each set\n",
    "    password = [\n",
    "        random.choice(lowercase),\n",
    "        random.choice(uppercase),\n",
    "        random.choice(digits),\n",
    "        random.choice(special_chars)\n",
    "    ]\n",
    "    \n",
    "    # Fill the rest of the password length with random choices from all character sets\n",
    "    if length > 4:\n",
    "        password += random.choices(all_chars, k=length-4)\n",
    "    \n",
    "    # Shuffle the generated password list to ensure randomness\n",
    "    random.shuffle(password)\n",
    "    \n",
    "    # Convert list to string\n",
    "    return ''.join(password)\n",
    "\n",
    "# Example usage\n",
    "password_length = 12\n",
    "generated_password = generate_password(password_length)\n",
    "print(f\"Generated password: {generated_password}\")"
   ]
  },
  {
   "cell_type": "code",
   "execution_count": 6,
   "id": "a0de703a-2786-4051-8f51-398a88b0dec0",
   "metadata": {},
   "outputs": [
    {
     "name": "stdin",
     "output_type": "stream",
     "text": [
      "Enter your height in meters:  1.75\n",
      "Enter your weight in kilograms:  57\n"
     ]
    },
    {
     "name": "stdout",
     "output_type": "stream",
     "text": [
      "Your BMI is: 18.61\n",
      "You are classified as: Normal weight\n"
     ]
    }
   ],
   "source": [
    "# Write a program for calculating body mass index. take input as your height in meters and your weight kilogram \n",
    "# depending on calculated value of BMI display whether your weight is under weight, normal, overweight or obese\n",
    "\n",
    "def calculate_bmi(height, weight):\n",
    "    # Calculate BMI\n",
    "    bmi = weight / (height ** 2)\n",
    "    return bmi\n",
    "\n",
    "def categorize_bmi(bmi):\n",
    "    # Categorize the BMI value\n",
    "    if bmi < 18.5:\n",
    "        return \"Underweight\"\n",
    "    elif 18.5 <= bmi < 24.9:\n",
    "        return \"Normal weight\"\n",
    "    elif 25 <= bmi < 29.9:\n",
    "        return \"Overweight\"\n",
    "    else:\n",
    "        return \"Obese\"\n",
    "\n",
    "def main():\n",
    "    # Take user input for height and weight\n",
    "    try:\n",
    "        height = float(input(\"Enter your height in meters: \"))\n",
    "        weight = float(input(\"Enter your weight in kilograms: \"))\n",
    "        \n",
    "        # Validate input values\n",
    "        if height <= 0 or weight <= 0:\n",
    "            print(\"Height and weight must be positive values.\")\n",
    "            return\n",
    "\n",
    "        # Calculate BMI\n",
    "        bmi = calculate_bmi(height, weight)\n",
    "        # Categorize BMI\n",
    "        category = categorize_bmi(bmi)\n",
    "\n",
    "        # Display the result\n",
    "        print(f\"Your BMI is: {bmi:.2f}\")\n",
    "        print(f\"You are classified as: {category}\")\n",
    "    except ValueError:\n",
    "        print(\"Invalid input. Please enter numerical values for height and weight.\")\n",
    "\n",
    "# Example usage\n",
    "if __name__ == \"__main__\":\n",
    "    main()"
   ]
  }
 ],
 "metadata": {
  "kernelspec": {
   "display_name": "Python 3 (ipykernel)",
   "language": "python",
   "name": "python3"
  },
  "language_info": {
   "codemirror_mode": {
    "name": "ipython",
    "version": 3
   },
   "file_extension": ".py",
   "mimetype": "text/x-python",
   "name": "python",
   "nbconvert_exporter": "python",
   "pygments_lexer": "ipython3",
   "version": "3.11.7"
  }
 },
 "nbformat": 4,
 "nbformat_minor": 5
}
