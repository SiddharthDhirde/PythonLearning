{
 "cells": [
  {
   "cell_type": "code",
   "execution_count": 1,
   "id": "6b90f352-8e23-42be-ade4-8c6fb72607ee",
   "metadata": {},
   "outputs": [
    {
     "name": "stdin",
     "output_type": "stream",
     "text": [
      "Enter the first number:  34\n",
      "Enter the second number:  sf\n"
     ]
    },
    {
     "name": "stdout",
     "output_type": "stream",
     "text": [
      "Error: Invalid input. Please enter numeric values.\n"
     ]
    }
   ],
   "source": [
    "# Write a program for exception handling having try block and else part.\n",
    "\n",
    "def divide_numbers():\n",
    "    try:\n",
    "        # Prompt user for input\n",
    "        num1 = float(input(\"Enter the first number: \"))\n",
    "        num2 = float(input(\"Enter the second number: \"))\n",
    "        \n",
    "        # Perform division\n",
    "        result = num1 / num2\n",
    "    \n",
    "    except ZeroDivisionError:\n",
    "        print(\"Error: Cannot divide by zero.\")\n",
    "    \n",
    "    except ValueError:\n",
    "        print(\"Error: Invalid input. Please enter numeric values.\")\n",
    "    \n",
    "    else:\n",
    "        # Print the result if no exception occurred\n",
    "        print(f\"The result of dividing {num1} by {num2} is {result}\")\n",
    "\n",
    "# Call the function\n",
    "divide_numbers()"
   ]
  },
  {
   "cell_type": "code",
   "execution_count": 2,
   "id": "5ea7cf69-07c4-4c98-a0ca-70180715dd50",
   "metadata": {},
   "outputs": [
    {
     "name": "stdin",
     "output_type": "stream",
     "text": [
      "Enter the first number:  88\n",
      "Enter the second number:  0\n"
     ]
    },
    {
     "name": "stdout",
     "output_type": "stream",
     "text": [
      "Error: Cannot divide by zero.\n",
      "Execution of the try-except block is complete.\n"
     ]
    }
   ],
   "source": [
    "# Write a program for implementation of 'finally' concept in exception handling\n",
    "# Write a program for 'try' and except block to show how exception caught and handled.\n",
    "# Write a program for value error and zero division error exception.\n",
    "\n",
    "def divide_numbers():\n",
    "    try:\n",
    "        # Prompt user for input\n",
    "        num1 = float(input(\"Enter the first number: \"))\n",
    "        num2 = float(input(\"Enter the second number: \"))\n",
    "        \n",
    "        # Perform division\n",
    "        result = num1 / num2\n",
    "        \n",
    "        # Print the result\n",
    "        print(f\"The result of dividing {num1} by {num2} is {result}\")\n",
    "    \n",
    "    except ZeroDivisionError:\n",
    "        print(\"Error: Cannot divide by zero.\")\n",
    "    \n",
    "    except ValueError:\n",
    "        print(\"Error: Invalid input. Please enter numeric values.\")\n",
    "    \n",
    "    finally:\n",
    "        print(\"Execution of the try-except block is complete.\")\n",
    "\n",
    "# Call the function\n",
    "divide_numbers()"
   ]
  },
  {
   "cell_type": "code",
   "execution_count": 3,
   "id": "f9515cfe-bf2b-45cd-ac06-5df89089e983",
   "metadata": {},
   "outputs": [
    {
     "name": "stdin",
     "output_type": "stream",
     "text": [
      "Enter the first number:  3\n",
      "Enter the second number:  2\n"
     ]
    },
    {
     "name": "stdout",
     "output_type": "stream",
     "text": [
      "The result of dividing 3.0 by 2.0 is 1.5\n",
      "Finally block is executed.\n"
     ]
    }
   ],
   "source": [
    "# Write a program showing difference between else and finally parts in exception handling.\n",
    "\n",
    "def divide_numbers():\n",
    "    try:\n",
    "        # Prompt user for input\n",
    "        num1 = float(input(\"Enter the first number: \"))\n",
    "        num2 = float(input(\"Enter the second number: \"))\n",
    "        \n",
    "        # Perform division\n",
    "        result = num1 / num2\n",
    "    \n",
    "    except ZeroDivisionError:\n",
    "        print(\"Error: Cannot divide by zero.\")\n",
    "    \n",
    "    except ValueError:\n",
    "        print(\"Error: Invalid input. Please enter numeric values.\")\n",
    "    \n",
    "    else:\n",
    "        # Print the result if no exception occurred\n",
    "        print(f\"The result of dividing {num1} by {num2} is {result}\")\n",
    "    \n",
    "    finally:\n",
    "        # This block always runs, regardless of exceptions\n",
    "        print(\"Finally block is executed.\")\n",
    "\n",
    "# Call the function\n",
    "divide_numbers()\n"
   ]
  }
 ],
 "metadata": {
  "kernelspec": {
   "display_name": "Python 3 (ipykernel)",
   "language": "python",
   "name": "python3"
  },
  "language_info": {
   "codemirror_mode": {
    "name": "ipython",
    "version": 3
   },
   "file_extension": ".py",
   "mimetype": "text/x-python",
   "name": "python",
   "nbconvert_exporter": "python",
   "pygments_lexer": "ipython3",
   "version": "3.11.7"
  }
 },
 "nbformat": 4,
 "nbformat_minor": 5
}
