{
 "cells": [
  {
   "cell_type": "code",
   "execution_count": 1,
   "id": "287e77fd-3f64-4fea-896c-e586cd4bb6c2",
   "metadata": {},
   "outputs": [
    {
     "name": "stdout",
     "output_type": "stream",
     "text": [
      "The square of the number is: 9\n",
      "The cube of the number is: 8\n",
      "The cube then square of the number is: 64\n"
     ]
    }
   ],
   "source": [
    "# Write decorators to create function that are calculating square and cubes.\n",
    "\n",
    "from functools import wraps\n",
    "\n",
    "# Decorator to calculate the square of a number\n",
    "def square_decorator(func):\n",
    "    @wraps(func)\n",
    "    def wrapper(*args, **kwargs):\n",
    "        result = func(*args, **kwargs)\n",
    "        squared_result = result ** 2\n",
    "        return squared_result\n",
    "    return wrapper\n",
    "\n",
    "# Decorator to calculate the cube of a number\n",
    "def cube_decorator(func):\n",
    "    @wraps(func)\n",
    "    def wrapper(*args, **kwargs):\n",
    "        result = func(*args, **kwargs)\n",
    "        cubed_result = result ** 3\n",
    "        return cubed_result\n",
    "    return wrapper\n",
    "\n",
    "# Applying the square_decorator to get_number\n",
    "@square_decorator\n",
    "def get_number():\n",
    "    return 3\n",
    "\n",
    "# Applying the cube_decorator to get_another_number\n",
    "@cube_decorator\n",
    "def get_another_number():\n",
    "    return 2\n",
    "\n",
    "# Applying both decorators to a function to see combined effect\n",
    "@square_decorator\n",
    "@cube_decorator\n",
    "def get_combined_number():\n",
    "    return 2\n",
    "\n",
    "if __name__ == \"__main__\":\n",
    "    number = get_number()\n",
    "    print(f\"The square of the number is: {number}\")  # Output should be 9\n",
    "\n",
    "    another_number = get_another_number()\n",
    "    print(f\"The cube of the number is: {another_number}\")  # Output should be 8\n",
    "\n",
    "    combined_number = get_combined_number()\n",
    "    print(f\"The cube then square of the number is: {combined_number}\")  # Output should be (2^3)^2 = 64"
   ]
  },
  {
   "cell_type": "code",
   "execution_count": null,
   "id": "8054208d-1286-46f5-977d-21b5a54737d2",
   "metadata": {},
   "outputs": [],
   "source": []
  },
  {
   "cell_type": "code",
   "execution_count": 2,
   "id": "9e4c5edb-10dc-44a8-bf00-ec08fedd0bf9",
   "metadata": {},
   "outputs": [
    {
     "name": "stdout",
     "output_type": "stream",
     "text": [
      "Split sentence: ['This', 'is', 'a', 'simple', 'sentence']\n",
      "Split CSV line: ['apple', 'banana', 'cherry', 'dates']\n"
     ]
    }
   ],
   "source": [
    "# Write decorators to split the text\n",
    "\n",
    "from functools import wraps\n",
    "\n",
    "def split_decorator(delimiter=' '):\n",
    "    def decorator(func):\n",
    "        @wraps(func)\n",
    "        def wrapper(*args, **kwargs):\n",
    "            result = func(*args, **kwargs)\n",
    "            return result.split(delimiter)\n",
    "        return wrapper\n",
    "    return decorator\n",
    "\n",
    "@split_decorator(delimiter=' ')\n",
    "def get_sentence():\n",
    "    return \"This is a simple sentence\"\n",
    "\n",
    "@split_decorator(delimiter=',')\n",
    "def get_csv_line():\n",
    "    return \"apple,banana,cherry,dates\"\n",
    "\n",
    "if __name__ == \"__main__\":\n",
    "    sentence = get_sentence()\n",
    "    print(f\"Split sentence: {sentence}\")  # Output should be ['This', 'is', 'a', 'simple', 'sentence']\n",
    "\n",
    "    csv_line = get_csv_line()\n",
    "    print(f\"Split CSV line: {csv_line}\")  # Output should be ['apple', 'banana', 'cherry', 'dates']"
   ]
  },
  {
   "cell_type": "code",
   "execution_count": null,
   "id": "c7d5e723-b2ab-494a-8d95-d8ae32984aa0",
   "metadata": {},
   "outputs": [],
   "source": []
  },
  {
   "cell_type": "code",
   "execution_count": 3,
   "id": "017e85c3-f578-4bba-b8ac-080562eab7b5",
   "metadata": {},
   "outputs": [
    {
     "name": "stdout",
     "output_type": "stream",
     "text": [
      "Task completed.\n",
      "Start Time: 2024-06-03 18:12:27.025637\n",
      "End Time: 2024-06-03 18:12:29.031040\n",
      "Duration: 0:00:02.005403\n"
     ]
    }
   ],
   "source": [
    "# Program for modular programming concept to calculate start and end time\n",
    "\n",
    "from datetime import datetime\n",
    "def start_time():\n",
    "    return datetime.now()\n",
    "def end_time():\n",
    "    return datetime.now()\n",
    "def duration(start, end):\n",
    "    return end - start\n",
    "\n",
    "from functools import wraps\n",
    "def time_decorator(func):\n",
    "    @wraps(func)\n",
    "    def wrapper(*args, **kwargs):\n",
    "        start = start_time()\n",
    "        result = func(*args, **kwargs)\n",
    "        end = end_time()\n",
    "        time_taken = duration(start, end)\n",
    "        print(f\"Start Time: {start}\")\n",
    "        print(f\"End Time: {end}\")\n",
    "        print(f\"Duration: {time_taken}\")\n",
    "        return result\n",
    "    return wrapper\n",
    "\n",
    "\n",
    "@time_decorator\n",
    "def sample_task():\n",
    "    # Simulate a task by sleeping for 2 seconds\n",
    "    import time\n",
    "    time.sleep(2)\n",
    "    print(\"Task completed.\")\n",
    "\n",
    "if __name__ == \"__main__\":\n",
    "    sample_task()"
   ]
  },
  {
   "cell_type": "code",
   "execution_count": null,
   "id": "b142fbb0-f2c0-4afc-81ef-052ee364e4cb",
   "metadata": {},
   "outputs": [],
   "source": []
  },
  {
   "cell_type": "code",
   "execution_count": 4,
   "id": "ef677004-6d05-44a5-bb9e-4207c09d004f",
   "metadata": {},
   "outputs": [
    {
     "name": "stdout",
     "output_type": "stream",
     "text": [
      "Sliced and Lowercased Text: hello\n"
     ]
    }
   ],
   "source": [
    "# Write decorators to slice and lower casing text make use of @.\n",
    "\n",
    "from functools import wraps\n",
    "\n",
    "def slice_decorator(start: int, end: int):\n",
    "    def decorator(func):\n",
    "        @wraps(func)\n",
    "        def wrapper(*args, **kwargs):\n",
    "            result = func(*args, **kwargs)\n",
    "            return result[start:end]\n",
    "        return wrapper\n",
    "    return decorator\n",
    "\n",
    "def lowercase_decorator(func):\n",
    "    @wraps(func)\n",
    "    def wrapper(*args, **kwargs):\n",
    "        result = func(*args, **kwargs)\n",
    "        return result.lower()\n",
    "    return wrapper\n",
    "\n",
    "# Define the function with decorators applied\n",
    "@lowercase_decorator\n",
    "@slice_decorator(0, 5)\n",
    "def get_text():\n",
    "    return \"Hello World\"\n",
    "\n",
    "if __name__ == \"__main__\":\n",
    "    sliced_text = get_text()\n",
    "    print(f\"Sliced and Lowercased Text: {sliced_text}\")"
   ]
  },
  {
   "cell_type": "code",
   "execution_count": null,
   "id": "d5dcacbe-55c5-4c6f-b09e-a09e1de37088",
   "metadata": {},
   "outputs": [],
   "source": []
  },
  {
   "cell_type": "code",
   "execution_count": 5,
   "id": "06fc77fa-c63d-4f81-8599-87f7d116e2a9",
   "metadata": {},
   "outputs": [
    {
     "name": "stdout",
     "output_type": "stream",
     "text": [
      "Uppercased Good Morning: GOOD MORNING\n",
      "Uppercased Hello: HELLO\n"
     ]
    }
   ],
   "source": [
    "# Write a program for application of decorators to modifying outputs of any two functions to \n",
    "# upper case good morning to GOOD MORNING and hello to HELLO\n",
    "\n",
    "from functools import wraps\n",
    "\n",
    "def uppercase_output(func):\n",
    "    @wraps(func)\n",
    "    def wrapper(*args, **kwargs):\n",
    "        result = func(*args, **kwargs)\n",
    "        return result.upper()\n",
    "    return wrapper\n",
    "\n",
    "@uppercase_output\n",
    "def say_good_morning():\n",
    "    return \"good morning\"\n",
    "\n",
    "@uppercase_output\n",
    "def say_hello():\n",
    "    return \"hello\"\n",
    "\n",
    "if __name__ == \"__main__\":\n",
    "    greeting1 = say_good_morning()\n",
    "    print(f\"Uppercased Good Morning: {greeting1}\")  # Output should be \"GOOD MORNING\"\n",
    "\n",
    "    greeting2 = say_hello()\n",
    "    print(f\"Uppercased Hello: {greeting2}\")  # Output should be \"HELLO\""
   ]
  },
  {
   "cell_type": "code",
   "execution_count": null,
   "id": "5af7b551-3f83-4c44-aa46-2d2ec4e5a383",
   "metadata": {},
   "outputs": [],
   "source": []
  },
  {
   "cell_type": "code",
   "execution_count": 6,
   "id": "3df47a0f-b787-44c9-a189-1cd7b28af488",
   "metadata": {},
   "outputs": [
    {
     "name": "stdout",
     "output_type": "stream",
     "text": [
      "Hello JOHN\n"
     ]
    }
   ],
   "source": [
    "# Write a program for multiple decorators using @.\n",
    "\n",
    "# Define the first decorator to add \"Hello\" to the output\n",
    "def add_hello(func):\n",
    "    def wrapper(*args, **kwargs):\n",
    "        return \"Hello \" + func(*args, **kwargs)\n",
    "    return wrapper\n",
    "\n",
    "# Define the second decorator to convert the output to uppercase\n",
    "def uppercase_output(func):\n",
    "    def wrapper(*args, **kwargs):\n",
    "        return func(*args, **kwargs).upper()\n",
    "    return wrapper\n",
    "\n",
    "# Apply both decorators to the function using the @ syntax\n",
    "@add_hello\n",
    "@uppercase_output\n",
    "def greet(name):\n",
    "    return name\n",
    "\n",
    "# Test the decorated function\n",
    "if __name__ == \"__main__\":\n",
    "    name = \"John\"\n",
    "    result = greet(name)\n",
    "    print(result)  # Output should be \"HELLO JOHN\""
   ]
  },
  {
   "cell_type": "code",
   "execution_count": null,
   "id": "2bb993f7-3aa6-4007-ac78-f4be79bef57f",
   "metadata": {},
   "outputs": [],
   "source": []
  }
 ],
 "metadata": {
  "kernelspec": {
   "display_name": "Python 3 (ipykernel)",
   "language": "python",
   "name": "python3"
  },
  "language_info": {
   "codemirror_mode": {
    "name": "ipython",
    "version": 3
   },
   "file_extension": ".py",
   "mimetype": "text/x-python",
   "name": "python",
   "nbconvert_exporter": "python",
   "pygments_lexer": "ipython3",
   "version": "3.11.7"
  }
 },
 "nbformat": 4,
 "nbformat_minor": 5
}
