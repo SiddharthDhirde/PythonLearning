{
 "cells": [
  {
   "cell_type": "markdown",
   "id": "8a03239e",
   "metadata": {},
   "source": [
    "## BlackJack Game"
   ]
  },
  {
   "cell_type": "code",
   "execution_count": 3,
   "id": "51b301d0",
   "metadata": {},
   "outputs": [],
   "source": [
    "#Step 1 : Global Variables "
   ]
  },
  {
   "cell_type": "code",
   "execution_count": 1,
   "id": "92e5f6dc",
   "metadata": {},
   "outputs": [],
   "source": [
    "import random\n",
    "\n",
    "suits = (\"Hearts\", 'Diamonds', 'Spades', 'Clubs')\n",
    "\n",
    "ranks = ('Two','Three','Four','Five','Six','Seven','Eight','Nine','Ten',\n",
    "         'Jack','Queen','King','Ace')\n",
    "\n",
    "values = {'Two':2,'Three':3,'Four':4,'Five':5,'Six':6,'Seven':7,'Eight':8,'Nine':9,'Ten':10,\n",
    "          'Jack':10,'Queen':10,'King':10,'Ace':11}\n",
    "\n",
    "playing = True"
   ]
  },
  {
   "cell_type": "code",
   "execution_count": 2,
   "id": "6be28367",
   "metadata": {},
   "outputs": [],
   "source": [
    "# Step 2 : Card"
   ]
  },
  {
   "cell_type": "code",
   "execution_count": 4,
   "id": "f24739a5",
   "metadata": {},
   "outputs": [],
   "source": [
    "class Card:\n",
    "    \n",
    "    def __init__(self,suit,rank):\n",
    "        \n",
    "        self.suit = suit\n",
    "        self.rank = rank\n",
    "        \n",
    "    def __str__(self):\n",
    "        return self.rank + ' of ' + self.suit"
   ]
  },
  {
   "cell_type": "code",
   "execution_count": 5,
   "id": "740c8df2",
   "metadata": {},
   "outputs": [],
   "source": [
    "# Step 3: Deck"
   ]
  },
  {
   "cell_type": "code",
   "execution_count": 6,
   "id": "8683b855",
   "metadata": {},
   "outputs": [],
   "source": [
    "class Deck:\n",
    "    \n",
    "    def __init__(self):\n",
    "        self.deck = []\n",
    "        \n",
    "        for suit in suits:\n",
    "            for rank in ranks:\n",
    "                self.deck.append(Card(suit,rank))\n",
    "                \n",
    "    def __str__(self):\n",
    "        deck_comp = ''\n",
    "        for card in self.deck:\n",
    "            deck_comp += '\\n' + card.__str__() \n",
    "        return \"The Deck has: \" + deck_comp\n",
    "        \n",
    "    def shuffle(self):\n",
    "        random.shuffle(self.deck)\n",
    "        \n",
    "    def deal(self):\n",
    "        single_card = self.deck.pop()\n",
    "        return single_card"
   ]
  },
  {
   "cell_type": "code",
   "execution_count": 7,
   "id": "104b1187",
   "metadata": {},
   "outputs": [],
   "source": [
    "# Lets see what our Deck looks like!"
   ]
  },
  {
   "cell_type": "code",
   "execution_count": 8,
   "id": "281a3b0e",
   "metadata": {},
   "outputs": [
    {
     "name": "stdout",
     "output_type": "stream",
     "text": [
      "The Deck has: \n",
      "Two of Hearts\n",
      "Three of Hearts\n",
      "Four of Hearts\n",
      "Five of Hearts\n",
      "Six of Hearts\n",
      "Seven of Hearts\n",
      "Eight of Hearts\n",
      "Nine of Hearts\n",
      "Ten of Hearts\n",
      "Jack of Hearts\n",
      "Queen of Hearts\n",
      "King of Hearts\n",
      "Ace of Hearts\n",
      "Two of Diamonds\n",
      "Three of Diamonds\n",
      "Four of Diamonds\n",
      "Five of Diamonds\n",
      "Six of Diamonds\n",
      "Seven of Diamonds\n",
      "Eight of Diamonds\n",
      "Nine of Diamonds\n",
      "Ten of Diamonds\n",
      "Jack of Diamonds\n",
      "Queen of Diamonds\n",
      "King of Diamonds\n",
      "Ace of Diamonds\n",
      "Two of Spades\n",
      "Three of Spades\n",
      "Four of Spades\n",
      "Five of Spades\n",
      "Six of Spades\n",
      "Seven of Spades\n",
      "Eight of Spades\n",
      "Nine of Spades\n",
      "Ten of Spades\n",
      "Jack of Spades\n",
      "Queen of Spades\n",
      "King of Spades\n",
      "Ace of Spades\n",
      "Two of Clubs\n",
      "Three of Clubs\n",
      "Four of Clubs\n",
      "Five of Clubs\n",
      "Six of Clubs\n",
      "Seven of Clubs\n",
      "Eight of Clubs\n",
      "Nine of Clubs\n",
      "Ten of Clubs\n",
      "Jack of Clubs\n",
      "Queen of Clubs\n",
      "King of Clubs\n",
      "Ace of Clubs\n"
     ]
    }
   ],
   "source": [
    "test_deck = Deck()\n",
    "print(test_deck)"
   ]
  },
  {
   "cell_type": "code",
   "execution_count": 9,
   "id": "86af3769",
   "metadata": {},
   "outputs": [],
   "source": [
    "# Lets Shuffle"
   ]
  },
  {
   "cell_type": "code",
   "execution_count": 12,
   "id": "8bff9cb1",
   "metadata": {},
   "outputs": [
    {
     "name": "stdout",
     "output_type": "stream",
     "text": [
      "The Deck has: \n",
      "Three of Diamonds\n",
      "Ten of Hearts\n",
      "King of Spades\n",
      "Three of Hearts\n",
      "Two of Spades\n",
      "Jack of Spades\n",
      "Six of Hearts\n",
      "Nine of Clubs\n",
      "Five of Hearts\n",
      "Five of Diamonds\n",
      "Four of Clubs\n",
      "Four of Hearts\n",
      "Ace of Hearts\n",
      "Two of Clubs\n",
      "King of Clubs\n",
      "Seven of Diamonds\n",
      "Six of Diamonds\n",
      "Eight of Clubs\n",
      "Four of Diamonds\n",
      "King of Diamonds\n",
      "Seven of Clubs\n",
      "Queen of Clubs\n",
      "Three of Spades\n",
      "Jack of Clubs\n",
      "Ten of Clubs\n",
      "Jack of Hearts\n",
      "Two of Diamonds\n",
      "Eight of Diamonds\n",
      "Seven of Spades\n",
      "Two of Hearts\n",
      "Six of Spades\n",
      "King of Hearts\n",
      "Five of Clubs\n",
      "Queen of Hearts\n",
      "Eight of Hearts\n",
      "Seven of Hearts\n",
      "Four of Spades\n",
      "Five of Spades\n",
      "Ace of Diamonds\n",
      "Six of Clubs\n",
      "Nine of Hearts\n",
      "Nine of Spades\n",
      "Eight of Spades\n",
      "Queen of Diamonds\n",
      "Three of Clubs\n",
      "Ten of Diamonds\n",
      "Ace of Spades\n",
      "Jack of Diamonds\n",
      "Queen of Spades\n",
      "Nine of Diamonds\n",
      "Ten of Spades\n",
      "Ace of Clubs\n"
     ]
    }
   ],
   "source": [
    "test_deck = Deck()\n",
    "test_deck.shuffle()\n",
    "print(test_deck)"
   ]
  },
  {
   "cell_type": "code",
   "execution_count": null,
   "id": "3bb4e21d",
   "metadata": {},
   "outputs": [],
   "source": []
  },
  {
   "cell_type": "code",
   "execution_count": 13,
   "id": "65cd63f4",
   "metadata": {},
   "outputs": [],
   "source": [
    "# Step 4: Hand"
   ]
  },
  {
   "cell_type": "code",
   "execution_count": 14,
   "id": "2aad61e9",
   "metadata": {},
   "outputs": [],
   "source": [
    "class Hand:\n",
    "    \n",
    "    def __init__(self): \n",
    "        self.cards = [] # start with an empty list as we did in Deck Class\n",
    "        self.value = 0  # start with zero\n",
    "        self.aces = 0   # add an attribute to keep track of aces\n",
    "        \n",
    "    def add_card(self,card):\n",
    "        # card passed-in from Deck.deal() --> single Card(suit,rank)\n",
    "        self.cards.append(card)\n",
    "        self.value += values[card.rank]\n",
    "        \n",
    "        # track aces\n",
    "        if card.rank == \"Ace\":\n",
    "            self.aces += 1\n",
    "        \n",
    "    def adjust_for_ace(self):\n",
    "        \n",
    "        # if total value > 21 and i still have an Ace\n",
    "        # then change my Ace to be a 1 instead of An 11\n",
    "        while self.value>21 and self.aces:   # zero(0) is False And other no. is True\n",
    "            self.value -= 10\n",
    "            self.aces -= 1"
   ]
  },
  {
   "cell_type": "code",
   "execution_count": null,
   "id": "cc91c57d",
   "metadata": {},
   "outputs": [],
   "source": []
  },
  {
   "cell_type": "code",
   "execution_count": 15,
   "id": "1d26ed6d",
   "metadata": {},
   "outputs": [
    {
     "name": "stdout",
     "output_type": "stream",
     "text": [
      "Queen of Diamonds\n",
      "10\n"
     ]
    }
   ],
   "source": [
    "# Some Basics\n",
    "\n",
    "test_deck = Deck()\n",
    "test_deck.shuffle()\n",
    "\n",
    "# Player\n",
    "test_player = Hand()\n",
    "\n",
    "# Deal 1 card from the Deck Card(suit,rank)\n",
    "pulled_card = test_deck.deal()\n",
    "print(pulled_card)\n",
    "\n",
    "test_player.add_card(pulled_card)\n",
    "print(test_player.value)"
   ]
  },
  {
   "cell_type": "code",
   "execution_count": 16,
   "id": "54d3880a",
   "metadata": {},
   "outputs": [],
   "source": [
    "test_player.add_card(test_deck.deal())"
   ]
  },
  {
   "cell_type": "code",
   "execution_count": 17,
   "id": "271a0377",
   "metadata": {},
   "outputs": [
    {
     "data": {
      "text/plain": [
       "20"
      ]
     },
     "execution_count": 17,
     "metadata": {},
     "output_type": "execute_result"
    }
   ],
   "source": [
    "test_player.value"
   ]
  },
  {
   "cell_type": "code",
   "execution_count": null,
   "id": "11d814f3",
   "metadata": {},
   "outputs": [],
   "source": []
  },
  {
   "cell_type": "code",
   "execution_count": 18,
   "id": "99ee4ebb",
   "metadata": {},
   "outputs": [],
   "source": [
    "# Step 5: Chips"
   ]
  },
  {
   "cell_type": "code",
   "execution_count": 19,
   "id": "4637960e",
   "metadata": {},
   "outputs": [],
   "source": [
    "class Chips:\n",
    "    \n",
    "    def __init__(self,total=100):\n",
    "        self.total = total # Set to Default value (it may be supplied by user input) \n",
    "        self.bet = 0\n",
    "        \n",
    "    def win_bet(self):\n",
    "        self.total += self.bet\n",
    "        \n",
    "    def loose_bet(self):\n",
    "        self.total -= self.bet"
   ]
  },
  {
   "cell_type": "code",
   "execution_count": null,
   "id": "ec421fa5",
   "metadata": {},
   "outputs": [],
   "source": []
  },
  {
   "cell_type": "code",
   "execution_count": 20,
   "id": "bcd730c4",
   "metadata": {},
   "outputs": [],
   "source": [
    "# Step 6: taking bet"
   ]
  },
  {
   "cell_type": "code",
   "execution_count": 21,
   "id": "e7ab4c03",
   "metadata": {},
   "outputs": [],
   "source": [
    "def take_bet(chips):\n",
    "    \n",
    "    while True:\n",
    "        \n",
    "        try:\n",
    "            chips.bet = int(input(\"How many chips would you like to bet?  \")) \n",
    "            \n",
    "        except:\n",
    "            print(\"Sorry please provide an integer value!\")\n",
    "            \n",
    "        else:\n",
    "            if chips.bet > chips.total:\n",
    "                print(f\"Sorry You dont have enough chips, You have: {chips.total}\")\n",
    "            else:\n",
    "                break"
   ]
  },
  {
   "cell_type": "code",
   "execution_count": null,
   "id": "cd2b2645",
   "metadata": {},
   "outputs": [],
   "source": []
  },
  {
   "cell_type": "code",
   "execution_count": 22,
   "id": "2aec9dbf",
   "metadata": {},
   "outputs": [],
   "source": [
    "# Step 7: Hits "
   ]
  },
  {
   "cell_type": "code",
   "execution_count": 23,
   "id": "df8eed5c",
   "metadata": {},
   "outputs": [],
   "source": [
    "def hit(deck,hand):\n",
    "    \n",
    "    single_card = deck.deal()\n",
    "    hand.add_card(single_card)\n",
    "    hand.adjust_for_ace()"
   ]
  },
  {
   "cell_type": "code",
   "execution_count": null,
   "id": "fb2c61a4",
   "metadata": {},
   "outputs": [],
   "source": []
  },
  {
   "cell_type": "code",
   "execution_count": 24,
   "id": "3592195f",
   "metadata": {},
   "outputs": [],
   "source": [
    "# Step 8: Hit or Stand"
   ]
  },
  {
   "cell_type": "code",
   "execution_count": 25,
   "id": "a96a28e7",
   "metadata": {},
   "outputs": [],
   "source": [
    "def hit_or_stand(deck,hand):\n",
    "    \n",
    "    global playing  # to control upcoming while loop\n",
    "    \n",
    "    while True:\n",
    "        x = input(\"Hit or Stand? Enter h or s: \")\n",
    "        \n",
    "        if x[0].lower()=='h':\n",
    "            hit(deck,hand)\n",
    "            \n",
    "        elif x[0].lower()=='s':\n",
    "            print(\"Player stand, dealers turn\\n\")\n",
    "            playing = False\n",
    "        \n",
    "        else:\n",
    "            print(\"Sorry I did not understand that, Please Enter h or s only \")\n",
    "            continue\n",
    "            \n",
    "        break        "
   ]
  },
  {
   "cell_type": "code",
   "execution_count": null,
   "id": "c6f00328",
   "metadata": {},
   "outputs": [],
   "source": []
  },
  {
   "cell_type": "code",
   "execution_count": 26,
   "id": "f9d5e700",
   "metadata": {},
   "outputs": [],
   "source": [
    "# Step 9: Display cards"
   ]
  },
  {
   "cell_type": "code",
   "execution_count": 27,
   "id": "ac771fdf",
   "metadata": {},
   "outputs": [],
   "source": [
    "def show_some(player,dealer):\n",
    "    print(\"\\nDealer Hand: \")\n",
    "    print(\"One Card Hidden! \")\n",
    "    print(dealer.cards[1])\n",
    "    print('\\n')\n",
    "    \n",
    "    print(\"Player Hand:\")\n",
    "    for card in player.cards:\n",
    "        print(card)\n",
    "    \n",
    "def show_all(player,dealer):\n",
    "    print(\"\\nDealer Hand: \")\n",
    "    for card in dealer.cards:\n",
    "        print(card)\n",
    "    print('\\n')\n",
    "    \n",
    "    print(\"Player Hand:\")\n",
    "    for card in player.cards:\n",
    "        print(card)"
   ]
  },
  {
   "cell_type": "code",
   "execution_count": null,
   "id": "adc48407",
   "metadata": {},
   "outputs": [],
   "source": []
  },
  {
   "cell_type": "code",
   "execution_count": 28,
   "id": "7ee12183",
   "metadata": {},
   "outputs": [],
   "source": [
    "# Step 10: Handle End of Game Scenarios"
   ]
  },
  {
   "cell_type": "code",
   "execution_count": 29,
   "id": "6960ff26",
   "metadata": {},
   "outputs": [],
   "source": [
    "def player_busts(player,dealer,chips):\n",
    "    print('Bust Player!')\n",
    "    chips.loose_bet()\n",
    "    \n",
    "def player_wins(player,dealer,chips):\n",
    "    print('Player Wins!')\n",
    "    chips.win_bet()\n",
    "    \n",
    "def dealer_busts(player,dealer,chips):\n",
    "    print('Player Wins! Dealer Bust!')\n",
    "    chips.win_bet()\n",
    "    \n",
    "def dealer_wins(player,dealer,chips):\n",
    "    print('Dealer Wins!')\n",
    "    chips.loose_bet()\n",
    "    \n",
    "def push(player,dealer):\n",
    "    print('Dealer and Player Tie! Push')"
   ]
  },
  {
   "cell_type": "code",
   "execution_count": null,
   "id": "135bc6b1",
   "metadata": {},
   "outputs": [],
   "source": []
  },
  {
   "cell_type": "markdown",
   "id": "2ab4b32b",
   "metadata": {},
   "source": [
    "# Now On To The Game!!"
   ]
  },
  {
   "cell_type": "markdown",
   "id": "df01259f",
   "metadata": {},
   "source": [
    "## Final Game Play Script"
   ]
  },
  {
   "cell_type": "code",
   "execution_count": 30,
   "id": "8fd44c2d",
   "metadata": {
    "scrolled": false
   },
   "outputs": [
    {
     "name": "stdout",
     "output_type": "stream",
     "text": [
      "\n",
      "Welcome to BLACKJACK GAME\n",
      "How many chips would you like to bet?  100\n",
      "\n",
      "Dealer Hand: \n",
      "One Card Hidden! \n",
      "Queen of Diamonds\n",
      "\n",
      "\n",
      "Player Hand:\n",
      "Jack of Diamonds\n",
      "King of Spades\n",
      "Hit or Stand? Enter h or s: s\n",
      "Player stand, dealers turn\n",
      "\n",
      "\n",
      "Dealer Hand: \n",
      "One Card Hidden! \n",
      "Queen of Diamonds\n",
      "\n",
      "\n",
      "Player Hand:\n",
      "Jack of Diamonds\n",
      "King of Spades\n",
      "\n",
      "Dealer Hand: \n",
      "Five of Hearts\n",
      "Queen of Diamonds\n",
      "Ace of Diamonds\n",
      "Three of Hearts\n",
      "\n",
      "\n",
      "Player Hand:\n",
      "Jack of Diamonds\n",
      "King of Spades\n",
      "Player Wins!\n",
      "\n",
      "Player total chips are at: 200\n",
      "Would you like to play another hand? y/n: y\n",
      "\n",
      "Welcome to BLACKJACK GAME\n",
      "How many chips would you like to bet?  100\n",
      "\n",
      "Dealer Hand: \n",
      "One Card Hidden! \n",
      "King of Diamonds\n",
      "\n",
      "\n",
      "Player Hand:\n",
      "Queen of Hearts\n",
      "Seven of Clubs\n",
      "Hit or Stand? Enter h or s: h\n",
      "\n",
      "Dealer Hand: \n",
      "One Card Hidden! \n",
      "King of Diamonds\n",
      "\n",
      "\n",
      "Player Hand:\n",
      "Queen of Hearts\n",
      "Seven of Clubs\n",
      "Two of Diamonds\n",
      "Hit or Stand? Enter h or s: s\n",
      "Player stand, dealers turn\n",
      "\n",
      "\n",
      "Dealer Hand: \n",
      "One Card Hidden! \n",
      "King of Diamonds\n",
      "\n",
      "\n",
      "Player Hand:\n",
      "Queen of Hearts\n",
      "Seven of Clubs\n",
      "Two of Diamonds\n",
      "\n",
      "Dealer Hand: \n",
      "Nine of Diamonds\n",
      "King of Diamonds\n",
      "\n",
      "\n",
      "Player Hand:\n",
      "Queen of Hearts\n",
      "Seven of Clubs\n",
      "Two of Diamonds\n",
      "Dealer and Player Tie! Push\n",
      "\n",
      "Player total chips are at: 100\n",
      "Would you like to play another hand? y/n: n\n",
      "Thank You for Playing!\n"
     ]
    }
   ],
   "source": [
    "while True:\n",
    "    \n",
    "    # Print an Opening Statement\n",
    "    \n",
    "    print(\"\\nWelcome to BLACKJACK GAME\")\n",
    "    \n",
    "    # Create And Shuffle the deck, deal two cards to each players\n",
    "    deck = Deck()\n",
    "    deck.shuffle()\n",
    "    \n",
    "    player_hand = Hand()\n",
    "    player_hand.add_card(deck.deal())\n",
    "    player_hand.add_card(deck.deal())\n",
    "    \n",
    "    dealer_hand = Hand()\n",
    "    dealer_hand.add_card(deck.deal())\n",
    "    dealer_hand.add_card(deck.deal())\n",
    "    \n",
    "    # Set up the Player's Chips\n",
    "    player_chips = Chips()\n",
    "    \n",
    "    # Prompt the Player for their bet\n",
    "    take_bet(player_chips)    \n",
    "    \n",
    "    # Show Cards (but keep one dealer card hidden)\n",
    "    show_some(player_hand,dealer_hand)\n",
    "    \n",
    "    while playing:       # recall this variable from our hit_or_stand func\n",
    "        \n",
    "        # Prompt for player to hit or stand\n",
    "        hit_or_stand(deck,player_hand)\n",
    "        \n",
    "        # Show cards (but keep one dealer card hidden)      \n",
    "        show_some(player_hand,dealer_hand)\n",
    "        \n",
    "        # If player's hand exceeds 21, run player_busts() and break out of loop\n",
    "        if player_hand.value > 21:\n",
    "            player_busts(player_hand, dealer_hand, player_chips)\n",
    "            \n",
    "            break\n",
    "        \n",
    "    # If player has'nt busted, play dealers hand untill dealer reaches 17\n",
    "    if player_hand.value <= 21:\n",
    "        \n",
    "        \n",
    "        while dealer_hand.value < 17:   #  dealer_hand.value < player_hand.value INSTEAD OF 17\n",
    "            hit(deck,dealer_hand)\n",
    "            \n",
    "        # Show all cards\n",
    "        show_all(player_hand,dealer_hand)\n",
    "        \n",
    "        # Run different winning scenarios\n",
    "        if dealer_hand.value > 21:\n",
    "            dealer_busts(player_hand,dealer_hand,player_chips)\n",
    "            \n",
    "        elif dealer_hand.value > player_hand.value:\n",
    "            dealer_wins(player_hand,dealer_hand,player_chips)\n",
    "            \n",
    "        elif dealer_hand.value < player_hand.value:\n",
    "            player_wins(player_hand,dealer_hand,player_chips)\n",
    "            \n",
    "        else:\n",
    "            push(player_hand,dealer_hand)\n",
    "            \n",
    "    \n",
    "    # Inform Player of their total chips\n",
    "    print(f\"\\nPlayer total chips are at: {player_chips.total}\")\n",
    "    \n",
    "    # Ask to play again  \n",
    "    new_game = input(\"Would you like to play another hand? y/n: \").lower()\n",
    "    \n",
    "    if new_game[0] == 'y':\n",
    "        playing = True\n",
    "        continue\n",
    "    \n",
    "    else:\n",
    "        print(\"Thank You for Playing!\")\n",
    "        break"
   ]
  }
 ],
 "metadata": {
  "kernelspec": {
   "display_name": "Python 3 (ipykernel)",
   "language": "python",
   "name": "python3"
  },
  "language_info": {
   "codemirror_mode": {
    "name": "ipython",
    "version": 3
   },
   "file_extension": ".py",
   "mimetype": "text/x-python",
   "name": "python",
   "nbconvert_exporter": "python",
   "pygments_lexer": "ipython3",
   "version": "3.10.9"
  }
 },
 "nbformat": 4,
 "nbformat_minor": 5
}
