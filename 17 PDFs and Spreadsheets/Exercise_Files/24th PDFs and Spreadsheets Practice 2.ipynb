{
 "cells": [
  {
   "cell_type": "code",
   "execution_count": 1,
   "id": "4f873412",
   "metadata": {},
   "outputs": [],
   "source": [
    "# OM NAMAH SHIVAY\n",
    "# 24-10-2022"
   ]
  },
  {
   "cell_type": "code",
   "execution_count": 5,
   "id": "35c14b9e",
   "metadata": {},
   "outputs": [],
   "source": [
    "import csv\n",
    "import PyPDF2"
   ]
  },
  {
   "cell_type": "code",
   "execution_count": 21,
   "id": "14fbfd35",
   "metadata": {},
   "outputs": [],
   "source": [
    "data = open(\"find_the_link.csv\",encoding='utf-8')"
   ]
  },
  {
   "cell_type": "code",
   "execution_count": 22,
   "id": "5e582ce8",
   "metadata": {},
   "outputs": [],
   "source": [
    "csv_data = csv.reader(data)"
   ]
  },
  {
   "cell_type": "code",
   "execution_count": 23,
   "id": "b8e48400",
   "metadata": {},
   "outputs": [
    {
     "data": {
      "text/plain": [
       "<_csv.reader at 0x6c9aaa8>"
      ]
     },
     "execution_count": 23,
     "metadata": {},
     "output_type": "execute_result"
    }
   ],
   "source": [
    "csv_data"
   ]
  },
  {
   "cell_type": "code",
   "execution_count": 24,
   "id": "023f86c8",
   "metadata": {},
   "outputs": [
    {
     "data": {
      "text/plain": [
       "<_csv.reader at 0x6c9aaa8>"
      ]
     },
     "execution_count": 24,
     "metadata": {},
     "output_type": "execute_result"
    }
   ],
   "source": [
    "csv_data"
   ]
  },
  {
   "cell_type": "code",
   "execution_count": 25,
   "id": "7e444fee",
   "metadata": {},
   "outputs": [],
   "source": [
    "data_lines = list(csv_data)"
   ]
  },
  {
   "cell_type": "code",
   "execution_count": 34,
   "id": "3a5dc80b",
   "metadata": {},
   "outputs": [
    {
     "data": {
      "text/plain": [
       "'h'"
      ]
     },
     "execution_count": 34,
     "metadata": {},
     "output_type": "execute_result"
    }
   ],
   "source": [
    "data_lines[0][0]"
   ]
  },
  {
   "cell_type": "code",
   "execution_count": 35,
   "id": "67ef032a",
   "metadata": {},
   "outputs": [
    {
     "data": {
      "text/plain": [
       "'t'"
      ]
     },
     "execution_count": 35,
     "metadata": {},
     "output_type": "execute_result"
    }
   ],
   "source": [
    "data_lines[1][1]"
   ]
  },
  {
   "cell_type": "code",
   "execution_count": 39,
   "id": "11843981",
   "metadata": {},
   "outputs": [],
   "source": [
    "drive_link = ''\n",
    "\n",
    "for i in range(len(data_lines)):\n",
    "    drive_link += data_lines[i][i]"
   ]
  },
  {
   "cell_type": "code",
   "execution_count": 40,
   "id": "bfcf33ce",
   "metadata": {},
   "outputs": [
    {
     "data": {
      "text/plain": [
       "'https://drive.google.com/open?id=1G6SEgg018UB4_4xsAJJ5TdzrhmXipr4Q'"
      ]
     },
     "execution_count": 40,
     "metadata": {},
     "output_type": "execute_result"
    }
   ],
   "source": [
    "drive_link"
   ]
  },
  {
   "cell_type": "code",
   "execution_count": null,
   "id": "359b56df",
   "metadata": {},
   "outputs": [],
   "source": []
  },
  {
   "cell_type": "code",
   "execution_count": null,
   "id": "115a68bd",
   "metadata": {},
   "outputs": [],
   "source": []
  },
  {
   "cell_type": "code",
   "execution_count": null,
   "id": "1bc4cc75",
   "metadata": {},
   "outputs": [],
   "source": []
  },
  {
   "cell_type": "code",
   "execution_count": null,
   "id": "87c02264",
   "metadata": {},
   "outputs": [],
   "source": []
  },
  {
   "cell_type": "code",
   "execution_count": null,
   "id": "d3252788",
   "metadata": {},
   "outputs": [],
   "source": []
  },
  {
   "cell_type": "code",
   "execution_count": 41,
   "id": "08c6cb05",
   "metadata": {},
   "outputs": [],
   "source": [
    "# 2 PDFs"
   ]
  },
  {
   "cell_type": "code",
   "execution_count": 42,
   "id": "80a65ab1",
   "metadata": {},
   "outputs": [],
   "source": [
    "import PyPDF2"
   ]
  },
  {
   "cell_type": "code",
   "execution_count": 43,
   "id": "3d4b947e",
   "metadata": {},
   "outputs": [],
   "source": [
    "f = open(\"Find_the_Phone_Number.pdf\",'rb')"
   ]
  },
  {
   "cell_type": "code",
   "execution_count": 44,
   "id": "c286c90d",
   "metadata": {},
   "outputs": [],
   "source": [
    "pdf_reader = PyPDF2.PdfFileReader(f)"
   ]
  },
  {
   "cell_type": "code",
   "execution_count": 47,
   "id": "acbd22f3",
   "metadata": {},
   "outputs": [
    {
     "data": {
      "text/plain": [
       "17"
      ]
     },
     "execution_count": 47,
     "metadata": {},
     "output_type": "execute_result"
    }
   ],
   "source": [
    "pdf_reader.getNumPages()"
   ]
  },
  {
   "cell_type": "code",
   "execution_count": 79,
   "id": "362d7bb0",
   "metadata": {},
   "outputs": [
    {
     "data": {
      "text/plain": [
       "17"
      ]
     },
     "execution_count": 79,
     "metadata": {},
     "output_type": "execute_result"
    }
   ],
   "source": [
    "pdf_reader.numPages"
   ]
  },
  {
   "cell_type": "code",
   "execution_count": 80,
   "id": "a38ca864",
   "metadata": {},
   "outputs": [],
   "source": [
    "import re\n",
    "pattern = r'\\d{3}'"
   ]
  },
  {
   "cell_type": "code",
   "execution_count": null,
   "id": "bf0974a3",
   "metadata": {},
   "outputs": [],
   "source": []
  },
  {
   "cell_type": "code",
   "execution_count": 81,
   "id": "a0d3adac",
   "metadata": {},
   "outputs": [],
   "source": [
    "pdf_text  = ''\n",
    "\n",
    "for i in range(pdf_reader.getNumPages()):    \n",
    "    page = pdf_reader.getPage(i)\n",
    "    page_text = page.extract_text()\n",
    "    pdf_text += ' '+page_text"
   ]
  },
  {
   "cell_type": "code",
   "execution_count": 82,
   "id": "3b25dea6",
   "metadata": {},
   "outputs": [
    {
     "data": {
      "text/plain": [
       "' Business Deliverables  \\n \\n \\nStaff engagement touch base yet can I just chime in on that one draw a line in the sand \\nthis proposal is a win -win situation which will cause a stellar paradigm shift, and \\nproduce a multi -fold increase in deliverables but future -proof. I dont care if you got some \\ncopy, why you dont use officeipsumcom or something like that ? low -hanging fruit beef \\nup, and optimize for search or we need to leverage our synergies. We need to make the \\nnew version clean and sexy bells and whist les, so meeting assassin, and execute . \\nBaseline the procedure and samepage your department push back yet strategic high -\\nlevel 30,000 ft view powerPointless, but deliverables nor circle back. Paddle on both \\nsides conversational content win -win-win nor pig in a python overcome key issues to \\nmeet key milestones. Personal development crisp ppt deep dive. Can we parallel path \\nblue sky and this proposal is a win -win situation which will cause a stellar paradigm \\nshift, and produce a multi -fold increase in deliver ables. Where the metal hits the meat \\nhorsehead offer. Onward and upward, productize the deliverables and focus on the \\nbottom line we’re starting to formalize flexible opinions around our foundations so \\nknowledge process outsourcing. Slow -walk our commitmen t synergize productive \\nmindfulness so high turnaround rate we need to harvest synergy effects. Who\\'s the goto \\non this job with the way forward tbrand terrorists. Your work on this project has been \\nreally impactful. Pushback quantity shoot me an email so si ngle wringable neck hit the \\nground running i’ve been doing some research this morning and we need to better. Roll \\nback strategy move the needle digitalize. Create spaces to explore what’s next. \\nPerformance review let\\'s not solutionize this right now parkin g lot it so win -win-win and \\nfast track gain traction. At the end of the day player -coach nor we need to leverage our \\nsynergies. Can we take this offline vec we\\'ve bootstrapped the model nor feature creep.  \\n \\n \\nChurning anomalies. Face time. Are we in agreeanc e 60% to 30% is a lot of persent no \\nscraps hit the floor, nor critical mass. Can you run this by clearance? hot johnny coming \\nthrough . This proposal is a win -win situation which will cause a stellar paradigm shift, \\nand produce a multi -fold increase in del iverables we need to aspirationalise our \\nofferings so this vendor is incompetent , nor organic growth. Dog and pony show. Turn \\nthe ship. If you want to motivate these clowns, try less carrot and more stick imagineer, \\nbut product market fit and we need to c rystallize a plan pro -sumer software for strategic \\nfit programmatically.  \\n \\n  Pushback it\\'s a simple lift and shift job. Hit the ground running zeitgeist hit the ground \\nrunning, but first -order optimal strategies. When does this sunset? bleeding edge, high \\nturnaround rate but agile. Ensure to follow requirements when developing solutions we \\nneed to dialog around your choice of work attire ping me optimize the fireball. When \\ndoes this sunset? strategic fit pushback. Helicopter view back of the net, for i am dea d \\ninside win -win-win yet service as core &innovations as power makes our brand. What \\ndo you feel you would bring to the table if you were hired for this position. Golden goose \\nwindow -licker what do you feel you would bring to the table if you were hired fo r this \\nposition, or build on a culture of contribution and inclusion horsehead offer, we don\\'t \\nneed to boil the ocean here. All hands on deck if you could do that, that would be great \\nUI quarterly sales are at an all -time low, yet sea change but re -inventi ng the wheel. Let\\'s \\nput a pin in that locked and loaded. Tribal knowledge get buy -in quick win, so disband \\nthe squad but rehydrate as needed, hit the ground running, nor we want to see more \\ncharts for technologically savvy. Gain traction nail jelly to the hothouse wall, and come \\nup with something buzzworthy. I don\\'t want to drain the whole swamp, i just want to \\nshoot some alligators optics. Product launch quantity can you slack it to me? \\ndownselect for fire up your browser streamline. Products need full res ourcing and \\nsupport from a cross -functional team in order to be built, maintained, and evolved come \\nup with something buzzworthy. Can you run this by clearance? hot johnny coming \\nthrough into the weeds, for goalposts. Quarterly sales are at an all -time low . Pivot \\nbaseline or customer centric, into the weeds innovation is hot right now we have to \\nleverage up the messaging.  \\n \\n \\nA tentative event rundown is attached for your reference, including other happenings on \\nthe day you are most welcome to join us beforeh and for a light lunch we would also like \\nto invite you to other activities on the day, including the interim and closing panel \\ndiscussions on the intersection of businesses and social innovation, and on building a \\nstronger social innovation eco -system resp ectively. We don\\'t need to boil the ocean \\nhere reach out what are the expectations nor land the plane. Talk to the slides make it \\nmore corporate please. Looks great, can we try it a different way cross functional teams \\nenable out of the box brainstorming a nd cross sabers sacred cow beef up. We should \\nleverage existing asserts that ladder up to the message radical candor and you better \\neat a reality sandwich before you walk back in that boardroom. Loop back core \\ncompetencies. The right info at the right time  to the right people can you put it on my \\ncalendar? so quick -win yet vertical integration. The horse is out of the barn are there \\nany leftovers in the kitchen? back of the net, this is not the hill i want to die on.  \\n \\n \\nAll hands on deck I just wanted to giv e you a heads -up, minimize backwards overflow \\nand it\\'s not hard guys we need to future -proof this, yet quick win, yet gage [sic] where  the industry is heading and give back to the community what we’ve learned. \\nTechnologically savvy can you slack it to me? drink from the firehose, synergestic \\nactionables. Obviously this is a no -brainer, so what about scaling components to a \\nglobal audience?, so dunder mifflin regroup. We need to get all stakeholders up to \\nspeed and in the right place knowledge is power circl e back around, yet horsehead offer \\nred flag we need this overall to be busier and more active hit the ground running. Can I \\njust chime in on that one bake it in, onward and upward, productize the deliverables and \\nfocus on the bottom line. Deploy. Window of  opportunity let\\'s schedule a standup during \\nthe sprint to review our kpis can we take this offline, or gain traction. Meeting assassin \\ntbrand terrorists put it on the parking lot or we\\'ve got to manage that low hanging fruit or \\nlow engagement. Meeting ass assin hire the best yet we need distributors to evangelize \\nthe new line to local markets, or corporate synergy nor face time. What do you feel you \\nwould bring to the table if you were hired for this position synergestic actionables yet \\nwork flows , nor mar keting computer development html roi feedback team website what \\ndo you feel you would bring to the table if you were hired for this position dear hiring \\nmanager:. Can you ballpark the cost per unit for me. Five -year strategic plan shotgun \\napproach, it just  needs more cowbell. Out of the loop player -coach. What\\'s our go to \\nmarket strategy?.  \\n \\n \\nNot the long pole in my tent beef up, or accountable talk yet bleeding edge, so sorry i \\ndidn\\'t get your email. All hands on deck we need to harvest synergy effects, big  data \\nwhat\\'s the status on the deliverables for eow? so horsehead offer. Talk to the slides no \\nscraps hit the floor window -licker. Nail it down who\\'s responsible for the ask for this \\nrequest? we need distributors to evangelize the new line to local markets  imagineer, or \\nensure to follow requirements when developing solutions nor make it a priority. Out of \\nscope drink from the firehose, or shoot me an email nor we don\\'t need to boil the ocean \\nhere strategic fit, nor prairie dogging. Bottleneck mice quick -win to be inspired is to \\nbecome creative, innovative and energized we want this philosophy to trickle down to all \\nour stakeholders or synergestic actionables. I don\\'t want to drain the whole swamp, i \\njust want to shoot some alligators cannibalize, and define the underlying principles that \\ndrive decisions and strategy for your design language so I just wanted to give you a \\nheads -up, or churning anomalies but ultimate measure of success yet first -order optimal \\nstrategies. If you want to motivate these clowns, tr y less carrot and more stick drill down \\nfocus on the customer journey feature creep after I ran into Helen at a restaurant, I \\nrealized she was just office pretty not a hill to die on yet pro -sumer software. Come up \\nwith something buzzworthy can you put it on my calendar? gage [sic] where the industry \\nis heading and give back to the community what we’ve learned where do we stand on \\nthe latest client ask, yet in this space so criticality horsehead offer. Gain traction onward \\nand upward, productize the deliver ables and focus on the bottom line for pro -sumer \\nsoftware, we just need to put these last issues to bed, and we have to leverage up the \\nmessaging forcing function yet we just need to put these last issues to bed. After I ran  into Helen at a restaurant, I r ealized she was just office pretty organic growth drink from \\nthe firehose. Incentivization. We need more paper make it more corporate please so \\nbottleneck mice yet what about scaling components to a global audience?. Manage \\nexpectations enough to wash your  face and flesh that out I have zero cycles for this not \\nenough bandwidth, but are we in agreeance. We need to leverage our synergies \\nusabiltiy, back -end of third quarter. Pull in ten extra bodies to help roll the tortoise get \\nbuy-in. \\n \\n \\nBake it in. Keep it  lean. I have zero cycles for this upstream selling but design thinking \\nlet\\'s unpack that later turd polishing. Horsehead offer timeframe, nor criticality or \\ncommitment to the cause push back. Make it more corporate please. I don\\'t want to \\ndrain the whole swamp, i just want to shoot some alligators productize but optimize the \\nfireball so tribal knowledge nor I just wanted to give you a heads -up, or time to open the \\nkimono and your work on this project has been really impactful. What about scaling \\ncomponents  to a global audience? teams were able to drive adoption and awareness, \\nthe right info at the right time to the right people so what\\'s the status on the deliverables \\nfor eow? but slow -walk our commitment slow -walk our commitment, or re -inventing the \\nwheel.  Back of the net not a hill to die on staff engagement, nor hire the best and how \\nmuch bandwidth do you have, hammer out. Teams were able to drive adoption and \\nawareness high turnaround rate. Proceduralize you better eat a reality sandwich before \\nyou walk back in that boardroom per my previous email. Close the loop we\\'ve got to \\nmanage that low hanging fruit please use \"solutionise\" instead of solution ideas! :) for \\ngoalposts. We need to get all stakeholders up to speed and in the right place. We need \\nto tou ch base off -line before we fire the new ux experience organic growth, or strategic \\nstaircase, nor crisp ppt commitment to the cause , we need to have a Come to Jesus \\nmeeting with Phil about his attitude throughput. Minimize backwards overflow organic \\ngrowt h, but scope creep. We need to crystallize a plan we need to get all stakeholders \\nup to speed and in the right place but service as core &innovations as power makes our \\nbrand yet three -martini lunch powerpoint Bunny, and it is all exactly as i said, but i don\\'t \\nlike it, baseline. Corporate synergy gain traction. Highlights vec table the discussion , \\nnor globalize. We have put the apim bol, temporarily so that we can later put the \\nmonitors on criticality c -suite and minimize backwards overflow. Downselect up sell or \\nwindow -licker.  \\n \\n \\nDisband the squad but rehydrate as needed let\\'s prioritize the low -hanging fruit, pig in a \\npython. Teams were able to drive adoption and awareness. Move the needle exposing \\nnew ways to evolve our design language optimize for search . Run it up the flagpole. \\nWhere the metal hits the meat we need to crystallize a plan time vampire and thinking \\noutside the box. Paddle on both sides we’re starting to formalize flexible opinions  around our foundations or radical candor. Quick -win we need to harvest synergy effects \\nso sorry i didn\\'t get your email for back to the drawing -board what the or this proposal is \\na win -win situation which will cause a stellar paradigm shift, and produce a multi -fold \\nincrease in deliverables. Time to open the kimono  regroup so diversify kpis. Race \\nwithout a finish line drill down, yet if you want to motivate these clowns, try less carrot \\nand more stick, yet prioritize these line items for pushback, for herding cats crank this \\nout. Pipeline guerrilla marketing, nor no t enough bandwidth player -coach for prioritize \\nthese line items. Synergestic actionables shotgun approach, nor eat our own dog food \\nbaseline the procedure and samepage your department. Push back crisp ppt nor tbrand \\nterrorists, and run it up the flagpole.  \\n \\n \\nClosing these latest prospects is like putting socks on an octopus no scraps hit the floor \\nthat\\'s not on the roadmap peel the onion run it up the flag pole service as core \\n&innovations as power makes our brand. Let me know if you need me to crack any \\nskulls. Focus on the customer journey cloud native container based, but you gotta \\nsmoke test your hypothesis. Wheelhouse don\\'t over think it and no scraps hit the floor \\nstrategic staircase. Your work on this project has been really impactful wheelhouse. \\nShoot  me an email sacred cow. Bottleneck mice that jerk from finance really threw me \\nunder the bus core competencies, nor organic growth, for turn the crank, so optimize \\nthe fireball herding cats. Back to the drawing -board workflow ecosystem for re -inventing \\nthe wheel please use \"solutionise\" instead of solution ideas! :), exposing new ways to \\nevolve our design language. Low -hanging fruit that ipo will be a game -changer. A set of \\ncertitudes based on deductions founded on false premise game plan, yet \\ntechnologica lly savvy for pro -sumer software. Driving the initiative forward if you want to \\nmotivate these clowns, try less carrot and more stick, gage [sic] where the industry is \\nheading and give back to the community what we’ve learned no scraps hit the floor, so \\nkilling it, circle back. We have to leverage up the messaging spinning our wheels \\ntechnologically savvy.  \\n \\n \\nShelfware that jerk from finance really threw me under the bus first -order optimal \\nstrategies collaboration through advanced technlogy nor disband the squad but \\nrehydrate as needed. Focus on the customer journey red flag, yet can you run this by \\nclearance? hot johnny coming through . That\\'s not on the roadmap to be inspired is to \\nbecome creative, innovative and energized we want this philosophy to trickl e down to all \\nour stakeholders but organic growth out of scope, for we just need to put these last \\nissues to bed. Social currency gain traction, and overcome key issues to meet key \\nmilestones, feature creep, and red flag synergize productive mindfulness de ploy to \\nproduction. Time vampire. Exposing new ways to evolve our design language curate \\nthose options are already baked in with this model, so eat our own dog food but draw a  line in the sand, for zeitgeist. Per my previous email we need to harvest synerg y effects. \\nDear hiring manager: you better eat a reality sandwich before you walk back in that \\nboardroom. Ladder up / ladder back to the strategy cloud native container based (let\\'s \\nnot try to) boil the ocean (here/there/everywhere), strategic fit. Game -plan target rich \\nenvironment for bench mark. Hammer out game -plan it\\'s a simple lift and shift job. Put \\nin in a deck for our standup today manage expectations nor baseline the procedure and \\nsamepage your department, but optimize the fireball. Viral engagemen t criticality \\nproceduralize going forward don\\'t over think it nor wheelhouse. Synergestic actionables \\ndrop-dead date, so collaboration through advanced technlogy horsehead offer. \\nRehydrate the team can we align on lunch orders, for goalposts show pony. Sor ry i \\ndidn\\'t get your email design thinking for turn the crank, for old boys club. Those options \\nare already baked in with this model loop back, and hammer out. Incentivization no \\nscraps hit the floor synergize productive mindfulness baseline yet not a hill  to die on \\ndrink the Kool -aid. Big boy pants marketing computer development html roi feedback \\nteam website paddle on both sides, and quick -win. This medium needs to be more \\ndynamic it is all exactly as i said, but i don\\'t like it churning anomalies ultimat e measure \\nof success nor parallel path. After I ran into Helen at a restaurant, I realized she was \\njust office pretty focus on the customer journey so pipeline. Who\\'s responsible for the \\nask for this request? minimize backwards overflow performance review but I just wanted \\nto give you a heads -up. Put it on the parking lot drive awareness to increase \\nengagement for that ipo will be a game -changer product market fit for your work on this \\nproject has been really impactful, nor critical mass going forward. Opti mize for search \\nlet\\'s put a pin in that overcome key issues to meet key milestones, focus on the \\ncustomer journey nor rehydrate the team. Close the loop.  \\n \\n \\nStaff engagement touch base yet can I just chime in on that one draw a line in the sand \\nthis proposa l is a win -win situation which will cause a stellar paradigm shift, and \\nproduce a multi -fold increase in deliverables but future -proof. I dont care if you got some \\ncopy, why you dont use officeipsumcom or something like that ? low -hanging fruit beef \\nup, an d optimize for search or we need to leverage our synergies. We need to make the \\nnew version clean and sexy bells and whistles, so meeting assassin, and execute . \\nBaseline the procedure and samepage your department push back yet strategic high -\\nlevel 30,000 ft view powerPointless, but deliverables nor circle back. Paddle on both \\nsides conversational content win -win-win nor pig in a python overcome key issues to \\nmeet key milestones. Personal development crisp ppt deep dive. Can we parallel path \\nblue sky and th is proposal is a win -win situation which will cause a stellar paradigm \\nshift, and produce a multi -fold increase in deliverables. Where the metal hits the meat \\nhorsehead offer. Onward and upward, productize the deliverables and focus on the \\nbottom line we’r e starting to formalize flexible opinions around our foundations so \\nknowledge process outsourcing. Slow -walk our commitment synergize productive \\nmindfulness so high turnaround rate we need to harvest synergy effects. Who\\'s the goto  on this job with the way  forward tbrand terrorists. Your work on this project has been \\nreally impactful. Pushback quantity shoot me an email so single wringable neck hit the \\nground running i’ve been doing some research this morning and we need to better. Roll \\nback strategy move t he needle digitalize. Create spaces to explore what’s next. \\nPerformance review let\\'s not solutionize this right now parking lot it so win -win-win and \\nfast track gain traction. At the end of the day player -coach nor we need to leverage our \\nsynergies. Can we  take this offline vec we\\'ve bootstrapped the model nor feature creep.  \\n \\n \\nChurning anomalies. Face time. Are we in agreeance 60% to 30% is a lot of persent no \\nscraps hit the floor, nor critical mass. Can you run this by clearance? hot johnny coming \\nthrough . This proposal is a win -win situation which will cause a stellar paradigm shift, \\nand produce a multi -fold increase in deliverables we need to aspirationalise our \\nofferings so this vendor is incompetent , nor organic growth. Dog and pony show. Turn \\nthe shi p. If you want to motivate these clowns, try less carrot and more stick imagineer, \\nbut product market fit and we need to crystallize a plan pro -sumer software for strategic \\nfit programmatically.  \\n \\n \\nPushback it\\'s a simple lift and shift job. Hit the ground r unning zeitgeist hit the ground \\nrunning, but first -order optimal strategies. When does this sunset? bleeding edge, high \\nturnaround rate but agile. Ensure to follow requirements when developing solutions we \\nneed to dialog around your choice of work attire p ing me optimize the fireball. When \\ndoes this sunset? strategic fit pushback. Helicopter view back of the net, for i am dead \\ninside win -win-win yet service as core &innovations as power makes our brand. What \\ndo you feel you would bring to the table if you w ere hired for this position. Golden goose \\nwindow -licker what do you feel you would bring to the table if you were hired for this \\nposition, or build on a culture of contribution and inclusion horsehead offer, we don\\'t \\nneed to boil the ocean here. All hands on deck if you could do that, that would be great \\nUI quarterly sales are at an all -time low, yet sea change but re -inventing the wheel. Let\\'s \\nput a pin in that locked and loaded. Tribal knowledge get buy -in quick win, so disband \\nthe squad but rehydrate as needed, hit the ground running, nor we want to see more \\ncharts for technologically savvy. Gain traction nail jelly to the hothouse wall, and come \\nup with something buzzworthy. I don\\'t want to drain the whole swamp, i just want to \\nshoot some alligators opti cs. Product launch quantity can you slack it to me? \\ndownselect for fire up your browser streamline. Products need full resourcing and \\nsupport from a cross -functional team in order to be built, maintained, and evolved come \\nup with something buzzworthy. Can you run this by clearance? hot johnny coming \\nthrough into the weeds, for goalposts. Quarterly sales are at an all -time low. Pivot \\nbaseline or customer centric, into the weeds innovation is hot right now we have to \\nleverage up the messaging.    \\n \\nA tentative event rundown is attached for your reference, including other happenings on \\nthe day you are most welcome to join us beforehand for a light lunch we would also like \\nto invite you to other activities on the day, including the interim and closing pa nel \\ndiscussions on the intersection of businesses and social innovation, and on building a \\nstronger social innovation eco -system respectively. We don\\'t need to boil the ocean \\nhere reach out what are the expectations nor land the plane. Talk to the slides m ake it \\nmore corporate please. Looks great, can we try it a different way cross functional teams \\nenable out of the box brainstorming and cross sabers sacred cow beef up. We should \\nleverage existing asserts that ladder up to the message radical candor and yo u better \\neat a reality sandwich before you walk back in that boardroom. Loop back core \\ncompetencies. The right info at the right time to the right people can you put it on my \\ncalendar? so quick -win yet vertical integration. The horse is out of the barn are  there \\nany leftovers in the kitchen? back of the net, this is not the hill i want to die on.  \\n \\n \\nAll hands on deck I just wanted to give you a heads -up, minimize backwards overflow \\nand it\\'s not hard guys we need to future -proof this, yet quick win, yet gage [sic] where \\nthe industry is heading and give back to the community what we’ve learned. \\nTechnologically savvy can you slack it to me? drink from the firehose, synergestic \\nactionables. Obviously this is a no -brainer, so what about scaling components to a \\nglobal audience?, so dunder mifflin regroup. We need to get all stakeholders up to \\nspeed and in the right place knowledge is power circle back around, yet horsehead offer \\nred flag we need this overall to be busier and more active hit the ground running. Can I  \\njust chime in on that one bake it in, onward and upward, productize the deliverables and \\nfocus on the bottom line. Deploy. Window of opportunity let\\'s schedule a standup during \\nthe sprint to review our kpis can we take this offline, or gain traction. Meet ing assassin \\ntbrand terrorists put it on the parking lot or we\\'ve got to manage that low hanging fruit or \\nlow engagement. Meeting assassin hire the best yet we need distributors to evangelize \\nthe new line to local markets, or corporate synergy nor face tim e. What do you feel you \\nwould bring to the table if you were hired for this position synergestic actionables yet \\nwork flows , nor marketing computer development html roi feedback team website what \\ndo you feel you would bring to the table if you were hired for this position dear hiring \\nmanager:. Can you ballpark the cost per unit for me. Five -year strategic plan shotgun \\napproach, it just needs more cowbell. Out of the loop player -coach. What\\'s our go to \\nmarket strategy?.  \\n \\n \\nNot the long pole in my tent beef u p, or accountable talk yet bleeding edge, so sorry i \\ndidn\\'t get your email. All hands on deck we need to harvest synergy effects, big data  what\\'s the status on the deliverables for eow? so horsehead offer. Talk to the slides no \\nscraps hit the floor window -licker. Nail it down who\\'s responsible for the ask for this \\nrequest? we need distributors to evangelize the new line to local markets imagineer, or \\nensure to follow requirements when developing solutions nor make it a priority. Out of \\nscope drink from the firehose, or shoot me an email nor we don\\'t need to boil the ocean \\nhere strategic fit, nor prairie dogging. Bottleneck mice quick -win to be inspired is to \\nbecome creative, innovative and energized we want this philosophy to trickle down to all \\nour stakehol ders or synergestic actionables. I don\\'t want to drain the whole swamp, i \\njust want to shoot some alligators cannibalize, and define the underlying principles that \\ndrive decisions and strategy for your design language so I just wanted to give you a \\nheads -up, or churning anomalies but ultimate measure of success yet first -order optimal \\nstrategies. If you want to motivate these clowns, try less carrot and more stick drill down \\nfocus on the customer journey feature creep after I ran into Helen at a restaurant,  I \\nrealized she was just office pretty not a hill to die on yet pro -sumer software. Come up \\nwith something buzzworthy can you put it on my calendar? gage [sic] where the industry \\nis heading and give back to the community what we’ve learned where do we stan d on \\nthe latest client ask, yet in this space so criticality horsehead offer. Gain traction onward \\nand upward, productize the deliverables and focus on the bottom line for pro -sumer \\nsoftware, we just need to put these last issues to bed, and we have to lev erage up the \\nmessaging forcing function yet we just need to put these last issues to bed. After I ran \\ninto Helen at a restaurant, I realized she was just office pretty organic growth drink from \\nthe firehose. Incentivization. We need more paper make it more  corporate please so \\nbottleneck mice yet what about scaling components to a global audience?. Manage \\nexpectations enough to wash your face and flesh that out I have zero cycles for this not \\nenough bandwidth, but are we in agreeance. We need to leverage our  synergies \\nusabiltiy, back -end of third quarter. Pull in ten extra bodies to help roll the tortoise get \\nbuy-in. \\n \\n \\nBake it in. Keep it lean. I have zero cycles for this upstream selling but design thinking \\nlet\\'s unpack that later turd polishing. Horsehead o ffer timeframe, nor criticality or \\ncommitment to the cause push back. Make it more corporate please. I don\\'t want to \\ndrain the whole swamp, i just want to shoot some alligators productize but optimize the \\nfireball so tribal knowledge nor I just wanted to g ive you a heads -up, or time to open the \\nkimono and your work on this project has been really impactful. What about scaling \\ncomponents to a global audience? teams were able to drive adoption and awareness, \\nthe right info at the right time to the right peopl e so what\\'s the status on the deliverables \\nfor eow? but slow -walk our commitment slow -walk our commitment, or re -inventing the \\nwheel. Back of the net not a hill to die on staff engagement, nor hire the best and how \\nmuch bandwidth do you have, hammer out. T eams were able to drive adoption and \\nawareness high turnaround rate. Proceduralize you better eat a reality sandwich before \\nyou walk back in that boardroom per my previous email. Close the loop we\\'ve got to  manage that low hanging fruit please use \"solutio nise\" instead of solution ideas! :) for \\ngoalposts. We need to get all stakeholders up to speed and in the right place. We need \\nto touch base off -line before we fire the new ux experience organic growth, or strategic \\nstaircase, nor crisp ppt commitment to t he cause , we need to have a Come to Jesus \\nmeeting with Phil about his attitude throughput. Minimize backwards overflow organic \\ngrowth, but scope creep. We need to crystallize a plan we need to get all stakeholders \\nup to speed and in the right place but se rvice as core &innovations as power makes our \\nbrand yet three -martini lunch powerpoint Bunny, and it is all exactly as i said, but i don\\'t \\nlike it, baseline. Corporate synergy gain traction. Highlights vec table the discussion , \\nnor globalize. We have put the apim bol, temporarily so that we can later put the \\nmonitors on criticality c -suite and minimize backwards overflow. Downselect upsell or \\nwindow -licker.  \\n \\n \\nDisband the squad but rehydrate as needed let\\'s prioritize the low -hanging fruit, pig in a \\npython.  Teams were able to drive adoption and awareness. Move the needle exposing \\nnew ways to evolve our design language optimize for search. Run it up the flagpole. \\nWhere the metal hits the meat we need to crystallize a plan time vampire and thinking \\noutside the  box. Paddle on both sides we’re starting to formalize flexible opinions \\naround our foundations or radical candor. Quick -win we need to harvest synergy effects \\nso sorry i didn\\'t get your email for back to the drawing -board what the or this proposal is \\na win-win situation which will cause a stellar paradigm shift, and produce a multi -fold \\nincrease in deliverables. Time to open the kimono regroup so diversify kpis. Race \\nwithout a finish line drill down, yet if you want to motivate these clowns, try less carro t \\nand more stick, yet prioritize these line items for pushback, for herding cats crank this \\nout. Pipeline guerrilla marketing, nor not enough bandwidth player -coach for prioritize \\nthese line items. Synergestic actionables shotgun approach, nor eat our own dog food \\nbaseline the procedure and samepage your department. Push back crisp ppt nor tbrand \\nterrorists, and run it up the flagpole.  \\n \\n \\nClosing these latest prospects is like putting socks on an octopus no scraps hit the floor \\nthat\\'s not on the roadmap peel the onion run it up the flag pole service as core \\n&innovations as power makes our brand. Let me know if you need me to crack any \\nskulls. Focus on the customer journey cloud native container based, but you gotta \\nsmoke test your hypothesis. Whee lhouse don\\'t over think it and no scraps hit the floor \\nstrategic staircase. Your work on this project has been really impactful wheelhouse. \\nShoot me an email sacred cow. Bottleneck mice that jerk from finance really threw me \\nunder the bus core competencies , nor organic growth, for turn the crank, so optimize \\nthe fireball herding cats. Back to the drawing -board workflow ecosystem for re -inventing \\nthe wheel please use \"solutionise\" instead of solution ideas! :), exposing new ways to  evolve our design language . Low -hanging fruit that ipo will be a game -changer. A set of \\ncertitudes based on deductions founded on false premise game plan, yet \\ntechnologically savvy for pro -sumer software. Driving the initiative forward if you want to \\nmotivate these clowns, try less  carrot and more stick, gage [sic] where the industry is \\nheading and give back to the community what we’ve learned no scraps hit the floor, so \\nkilling it, circle back. We have to leverage up the messaging spinning our wheels \\ntechnologically savvy.  \\n \\n \\nShelfw are that jerk from finance really threw me under the bus first -order optimal \\nstrategies collaboration through advanced technlogy nor disband the squad but \\nrehydrate as needed. Focus on the customer journey red flag, yet can you run this by \\nclearance? hot j ohnny coming through . That\\'s not on the roadmap to be inspired is to \\nbecome creative, innovative and energized we want this philosophy to trickle down to all \\nour stakeholders but organic growth out of scope, for we just need to put these last \\nissues to be d. Social currency gain traction, and overcome key issues to meet key \\nmilestones, feature creep, and red flag synergize productive mindfulness deploy to \\nproduction. Time vampire. Exposing new ways to evolve our design language curate \\nthose options are alre ady baked in with this model, so eat our own dog food but draw a \\nline in the sand, for zeitgeist. Per my previous email we need to harvest synergy effects. \\nDear hiring manager: you better eat a reality sandwich before you walk back in that \\nboardroom. Ladde r up / ladder back to the strategy cloud native container based (let\\'s \\nnot try to) boil the ocean (here/there/everywhere), strategic fit. Game -plan target rich \\nenvironment for bench mark. Hammer out game -plan it\\'s a simple lift and shift job. Put \\nin in a d eck for our standup today manage expectations nor baseline the procedure and \\nsamepage your department, but optimize the fireball. Viral engagement criticality \\nproceduralize going forward don\\'t over think it nor wheelhouse. Synergestic actionables \\ndrop-dead  date, so collaboration through advanced technlogy horsehead offer. \\nRehydrate the team can we align on lunch orders, for goalposts show pony. Sorry i \\ndidn\\'t get your email design thinking for turn the crank, for old boys club. Those options \\nare already bak ed in with this model loop back, and hammer out. Incentivization no \\nscraps hit the floor synergize productive mindfulness baseline yet not a hill to die on \\ndrink the Kool -aid. Big boy pants marketing computer development html roi feedback \\nteam website padd le on both sides, and quick -win. This medium needs to be more \\ndynamic it is all exactly as i said, but i don\\'t like it churning anomalies ultimate measure \\nof success nor parallel path. After I ran into Helen at a restaurant, I realized she was \\njust office pretty focus on the customer journey so pipeline. Who\\'s responsible for the \\nask for this request? minimize backwards overflow performance review but I just wanted \\nto give you a heads -up. Put it on the parking lot drive awareness to increase \\nengagement for that ipo will be a game -changer product market fit for your work on this \\nproject has been really impactful, nor critical mass going forward. Optimize for search  let\\'s put a pin in that overcome key issues to meet key milestones, focus on the \\ncustomer journ ey nor rehydrate the team. Close the loop.  \\n \\n \\nStaff engagement touch base yet can I just chime in on that one draw a line in the sand \\nthis proposal is a win -win situation which will cause a stellar paradigm shift, and \\nproduce a multi -fold increase in delive rables but future -proof. I dont care if you got some \\ncopy, why you dont use officeipsumcom or something like that ? low -hanging fruit beef \\nup, and optimize for search or we need to leverage our synergies. We need to make the \\nnew version clean and sexy bell s and whistles, so meeting assassin, and execute . \\nBaseline the procedure and samepage your department push back yet strategic high -\\nlevel 30,000 ft view powerPointless, but deliverables nor circle back. Paddle on both \\nsides conversational content win -win-win nor pig in a python overcome key issues to \\nmeet key milestones. Personal development crisp ppt deep dive. Can we parallel path \\nblue sky and this proposal is a win -win situation which will cause a stellar paradigm \\nshift, and produce a multi -fold increase  in deliverables. Where the metal hits the meat \\nhorsehead offer. Onward and upward, productize the deliverables and focus on the \\nbottom line we’re starting to formalize flexible opinions around our foundations so \\nknowledge process outsourcing. Slow -walk ou r commitment synergize productive \\nmindfulness so high turnaround rate we need to harvest synergy effects. Who\\'s the goto \\non this job with the way forward tbrand terrorists. Your work on this project has been \\nreally impactful. Pushback quantity shoot me an email so single wringable neck hit the \\nground running i’ve been doing some research this morning and we need to better. Roll \\nback strategy move the needle digitalize. Create spaces to explore what’s next. \\nPerformance review let\\'s not solutionize this right  now parking lot it so win -win-win and \\nfast track gain traction. At the end of the day player -coach nor we need to leverage our \\nsynergies. Can we take this offline vec we\\'ve bootstrapped the model nor feature creep.  \\n \\n \\nChurning anomalies. Face time. Are we in agreeance 60% to 30% is a lot of persent no \\nscraps hit the floor, nor critical mass. Can you run this by clearance? hot johnny coming \\nthrough . This proposal is a win -win situation which will cause a stellar paradigm shift, \\nand produce a multi -fold incr ease in deliverables we need to aspirationalise our \\nofferings so this vendor is incompetent , nor organic growth. Dog and pony show. Turn \\nthe ship. If you want to motivate these clowns, try less carrot and more stick imagineer, \\nbut product market fit and w e need to crystallize a plan pro -sumer software for strategic \\nfit programmatically.  \\n \\n  Pushback it\\'s a simple lift and shift job. Hit the ground running zeitgeist hit the ground \\nrunning, but first -order optimal strategies. When does this sunset? bleeding ed ge, high \\nturnaround rate but agile. Ensure to follow requirements when developing solutions we \\nneed to dialog around your choice of work attire ping me optimize the fireball. When \\ndoes this sunset? strategic fit pushback. Helicopter view back of the net, f or i am dead \\ninside win -win-win yet service as core &innovations as power makes our brand. What \\ndo you feel you would bring to the table if you were hired for this position. Golden goose \\nwindow -licker what do you feel you would bring to the table if you we re hired for this \\nposition, or build on a culture of contribution and inclusion horsehead offer, we don\\'t \\nneed to boil the ocean here. All hands on deck if you could do that, that would be great \\nUI quarterly sales are at an all -time low, yet sea change but  re-inventing the wheel. Let\\'s \\nput a pin in that locked and loaded. Tribal knowledge get buy -in quick win, so disband \\nthe squad but rehydrate as needed, hit the ground running, nor we want to see more \\ncharts for technologically savvy. Gain traction nail je lly to the hothouse wall, and come \\nup with something buzzworthy. I don\\'t want to drain the whole swamp, i just want to \\nshoot some alligators optics. Product launch quantity can you slack it to me? \\ndownselect for fire up your browser streamline. Products ne ed full resourcing and \\nsupport from a cross -functional team in order to be built, maintained, and evolved come \\nup with something buzzworthy. Can you run this by clearance? hot johnny coming \\nthrough into the weeds, for goalposts. Quarterly sales are at an a ll-time low. Pivot \\nbaseline or customer centric, into the weeds innovation is hot right now we have to \\nleverage up the messaging.  \\n \\n \\nA tentative event rundown is attached for your reference, including other happenings on \\nthe day you are most welcome to join  us beforehand for a light lunch we would also like \\nto invite you to other activities on the day, including the interim and closing panel \\ndiscussions on the intersection of businesses and social innovation, and on building a \\nstronger social innovation eco -system respectively. We don\\'t need to boil the ocean \\nhere reach out what are the expectations nor land the plane. Talk to the slides make it \\nmore corporate please. Looks great, can we try it a different way cross functional teams \\nenable out of the box brai nstorming and cross sabers sacred cow beef up. We should \\nleverage existing asserts that ladder up to the message radical candor and you better \\neat a reality sandwich before you walk back in that boardroom. Loop back core \\ncompetencies. The right info at the  right time to the right people can you put it on my \\ncalendar? so quick -win yet vertical integration. The horse is out of the barn are there \\nany leftovers in the kitchen? back of the net, this is not the hill i want to die on.  \\n \\n \\nAll hands on deck I just wa nted to give you a heads -up, minimize backwards overflow \\nand it\\'s not hard guys we need to future -proof this, yet quick win, yet gage [sic] where  the industry is heading and give back to the community what we’ve learned. \\nTechnologically savvy can you slack  it to me? drink from the firehose, synergestic \\nactionables. Obviously this is a no -brainer, so what about scaling components to a \\nglobal audience?, so dunder mifflin regroup. We need to get all stakeholders up to \\nspeed and in the right place knowledge is power circle back around, yet horsehead offer \\nred flag we need this overall to be busier and more active hit the ground running. Can I \\njust chime in on that one bake it in, onward and upward, productize the deliverables and \\nfocus on the bottom line. Deploy . Window of opportunity let\\'s schedule a standup during \\nthe sprint to review our kpis can we take this offline, or gain traction. Meeting assassin \\ntbrand terrorists put it on the parking lot or we\\'ve got to manage that low hanging fruit or \\nlow engagement. Meeting assassin hire the best yet we need distributors to evangelize \\nthe new line to local markets, or corporate synergy nor face time. What do you feel you \\nwould bring to the table if you were hired for this position synergestic actionables yet \\nwork flow s , nor marketing computer development html roi feedback team website what \\ndo you feel you would bring to the table if you were hired for this position dear hiring \\nmanager:. Can you ballpark the cost per unit for me. Five -year strategic plan shotgun \\napproa ch, it just needs more cowbell. Out of the loop player -coach. What\\'s our go to \\nmarket strategy?.  \\n \\n \\nNot the long pole in my tent beef up, or accountable talk yet bleeding edge, so sorry i \\ndidn\\'t get your email. All hands on deck we need to harvest synergy e ffects, big data \\nwhat\\'s the status on the deliverables for eow? Can you call Saul Goodman for me? His \\nphone number is 505.503.4455. So horsehead offer. Talk to the slides no scraps hit the \\nfloor window -licker. Nail it down who\\'s responsible for the ask for  this request? we need \\ndistributors to evangelize the new line to local markets imagineer, or ensure to follow \\nrequirements when developing solutions nor make it a priority. Out of scope drink from \\nthe firehose, or shoot me an email nor we don\\'t need to bo il the ocean here strategic fit, \\nnor prairie dogging. Bottleneck mice quick -win to be inspired is to become creative, \\ninnovative and energized we want this philosophy to trickle down to all our stakeholders \\nor synergestic actionables. I don\\'t want to drain  the whole swamp, i just want to shoot \\nsome alligators cannibalize, and define the underlying principles that drive decisions \\nand strategy for your design language so I just wanted to give you a heads -up, or \\nchurning anomalies but ultimate measure of succe ss yet first -order optimal strategies. If \\nyou want to motivate these clowns, try less carrot and more stick drill down focus on the \\ncustomer journey feature creep after I ran into Helen at a restaurant, I realized she was \\njust office pretty not a hill to d ie on yet pro -sumer software. Come up with something \\nbuzzworthy can you put it on my calendar? gage [sic] where the industry is heading and \\ngive back to the community what we’ve learned where do we stand on the latest client \\nask, yet in this space so criti cality horsehead offer. Gain traction onward and upward, \\nproductize the deliverables and focus on the bottom line for pro -sumer software, we just \\nneed to put these last issues to bed, and we have to leverage up the messaging forcing  function yet we just ne ed to put these last issues to bed. After I ran into Helen at a \\nrestaurant, I realized she was just office pretty organic growth drink from the firehose. \\nIncentivization. We need more paper make it more corporate please so bottleneck mice \\nyet what about sc aling components to a global audience?. Manage expectations \\nenough to wash your face and flesh that out I have zero cycles for this not enough \\nbandwidth, but are we in agreeance. We need to leverage our synergies usabiltiy, back -\\nend of third quarter. Pull in ten extra bodies to help roll the tortoise get buy -in. \\n \\n \\nBake it in. Keep it lean. I have zero cycles for this upstream selling but design thinking \\nlet\\'s unpack that later turd polishing. Horsehead offer timeframe, nor criticality or \\ncommitment to the c ause push back. Make it more corporate please. I don\\'t want to \\ndrain the whole swamp, i just want to shoot some alligators productize but optimize the \\nfireball so tribal knowledge nor I just wanted to give you a heads -up, or time to open the \\nkimono and you r work on this project has been really impactful. What about scaling \\ncomponents to a global audience? teams were able to drive adoption and awareness, \\nthe right info at the right time to the right people so what\\'s the status on the deliverables \\nfor eow? bu t slow -walk our commitment slow -walk our commitment, or re -inventing the \\nwheel. Back of the net not a hill to die on staff engagement, nor hire the best and how \\nmuch bandwidth do you have, hammer out. Teams were able to drive adoption and \\nawareness high tu rnaround rate. Proceduralize you better eat a reality sandwich before \\nyou walk back in that boardroom per my previous email. Close the loop we\\'ve got to \\nmanage that low hanging fruit please use \"solutionise\" instead of solution ideas! :) for \\ngoalposts. We need to get all stakeholders up to speed and in the right place. We need \\nto touch base off -line before we fire the new ux experience organic growth, or strategic \\nstaircase, nor crisp ppt commitment to the cause , we need to have a Come to Jesus \\nmeeting wit h Phil about his attitude throughput. Minimize backwards overflow organic \\ngrowth, but scope creep. We need to crystallize a plan we need to get all stakeholders \\nup to speed and in the right place but service as core &innovations as power makes our \\nbrand ye t three -martini lunch powerpoint Bunny, and it is all exactly as i said, but i don\\'t \\nlike it, baseline. Corporate synergy gain traction. Highlights vec table the discussion , \\nnor globalize. We have put the apim bol, temporarily so that we can later put the  \\nmonitors on criticality c -suite and minimize backwards overflow. Downselect upsell or \\nwindow -licker.  \\n \\n \\nDisband the squad but rehydrate as needed let\\'s prioritize the low -hanging fruit, pig in a \\npython. Teams were able to drive adoption and awareness. Move  the needle exposing \\nnew ways to evolve our design language optimize for search. Run it up the flagpole. \\nWhere the metal hits the meat we need to crystallize a plan time vampire and thinking \\noutside the box. Paddle on both sides we’re starting to formalize  flexible opinions  around our foundations or radical candor. Quick -win we need to harvest synergy effects \\nso sorry i didn\\'t get your email for back to the drawing -board what the or this proposal is \\na win -win situation which will cause a stellar paradigm sh ift, and produce a multi -fold \\nincrease in deliverables. Time to open the kimono regroup so diversify kpis. Race \\nwithout a finish line drill down, yet if you want to motivate these clowns, try less carrot \\nand more stick, yet prioritize these line items for pushback, for herding cats crank this \\nout. Pipeline guerrilla marketing, nor not enough bandwidth player -coach for prioritize \\nthese line items. Synergestic actionables shotgun approach, nor eat our own dog food \\nbaseline the procedure and samepage your depa rtment. Push back crisp ppt nor tbrand \\nterrorists, and run it up the flagpole.  \\n \\n \\nClosing these latest prospects is like putting socks on an octopus no scraps hit the floor \\nthat\\'s not on the roadmap peel the onion run it up the flag pole service as core \\n&innovations as power makes our brand. Let me know if you need me to crack any \\nskulls. Focus on the customer journey cloud native container based, but you gotta \\nsmoke test your hypothesis. Wheelhouse don\\'t over think it and no scraps hit the floor \\nstrategi c staircase. Your work on this project has been really impactful wheelhouse. \\nShoot me an email sacred cow. Bottleneck mice that jerk from finance really threw me \\nunder the bus core competencies, nor organic growth, for turn the crank, so optimize \\nthe fireb all herding cats. Back to the drawing -board workflow ecosystem for re -inventing \\nthe wheel please use \"solutionise\" instead of solution ideas! :), exposing new ways to \\nevolve our design language. Low -hanging fruit that ipo will be a game -changer. A set of \\ncertitudes based on deductions founded on false premise game plan, yet \\ntechnologically savvy for pro -sumer software. Driving the initiative forward if you want to \\nmotivate these clowns, try less carrot and more stick, gage [sic] where the industry is \\nheadin g and give back to the community what we’ve learned no scraps hit the floor, so \\nkilling it, circle back. We have to leverage up the messaging spinning our wheels \\ntechnologically savvy.  \\n \\n \\nShelfware that jerk from finance really threw me under the bus first -order optimal \\nstrategies collaboration through advanced technlogy nor disband the squad but \\nrehydrate as needed. Focus on the customer journey red flag, yet can you run this by \\nclearance? hot johnny coming through . That\\'s not on the roadmap to be inspired  is to \\nbecome creative, innovative and energized we want this philosophy to trickle down to all \\nour stakeholders but organic growth out of scope, for we just need to put these last \\nissues to bed. Social currency gain traction, and overcome key issues to me et key \\nmilestones, feature creep, and red flag synergize productive mindfulness deploy to \\nproduction. Time vampire. Exposing new ways to evolve our design language curate \\nthose options are already baked in with this model, so eat our own dog food but draw a  line in the sand, for zeitgeist. Per my previous email we need to harvest synergy effects. \\nDear hiring manager: you better eat a reality sandwich before you walk back in that \\nboardroom. Ladder up / ladder back to the strategy cloud native container based  (let\\'s \\nnot try to) boil the ocean (here/there/everywhere), strategic fit. Game -plan target rich \\nenvironment for bench mark. Hammer out game -plan it\\'s a simple lift and shift job. Put \\nin in a deck for our standup today manage expectations nor baseline the procedure and \\nsamepage your department, but optimize the fireball. Viral engagement criticality \\nproceduralize going forward don\\'t over think it nor wheelhouse. Synergestic actionables \\ndrop-dead date, so collaboration through advanced technlogy horsehead of fer. \\nRehydrate the team can we align on lunch orders, for goalposts show pony. Sorry i \\ndidn\\'t get your email design thinking for turn the crank, for old boys club. Those options \\nare already baked in with this model loop back, and hammer out. Incentivizatio n no \\nscraps hit the floor synergize productive mindfulness baseline yet not a hill to die on \\ndrink the Kool -aid. Big boy pants marketing computer development html roi feedback \\nteam website paddle on both sides, and quick -win. This medium needs to be more \\ndynamic it is all exactly as i said, but i don\\'t like it churning anomalies ultimate measure \\nof success nor parallel path. After I ran into Helen at a restaurant, I realized she was \\njust office pretty focus on the customer journey so pipeline. Who\\'s respons ible for the \\nask for this request? minimize backwards overflow performance review but I just wanted \\nto give you a heads -up. Put it on the parking lot drive awareness to increase \\nengagement for that ipo will be a game -changer product market fit for your wor k on this \\nproject has been really impactful, nor critical mass going forward. Optimize for search \\nlet\\'s put a pin in that overcome key issues to meet key milestones, focus on the \\ncustomer journey nor rehydrate the team. Close the loop.  \\n \\n '"
      ]
     },
     "execution_count": 82,
     "metadata": {},
     "output_type": "execute_result"
    }
   ],
   "source": [
    "pdf_text"
   ]
  },
  {
   "cell_type": "code",
   "execution_count": null,
   "id": "9c3fe845",
   "metadata": {},
   "outputs": [],
   "source": []
  },
  {
   "cell_type": "code",
   "execution_count": 83,
   "id": "beb24bb0",
   "metadata": {},
   "outputs": [
    {
     "data": {
      "text/plain": [
       "<re.Match object; span=(650, 653), match='000'>"
      ]
     },
     "execution_count": 83,
     "metadata": {},
     "output_type": "execute_result"
    }
   ],
   "source": [
    "re.search(pattern, pdf_text)"
   ]
  },
  {
   "cell_type": "code",
   "execution_count": 84,
   "id": "b5bf9c21",
   "metadata": {},
   "outputs": [
    {
     "data": {
      "text/plain": [
       "['000', '000', '000', '505', '503', '445']"
      ]
     },
     "execution_count": 84,
     "metadata": {},
     "output_type": "execute_result"
    }
   ],
   "source": [
    "re.findall(pattern, pdf_text)"
   ]
  },
  {
   "cell_type": "code",
   "execution_count": 87,
   "id": "d8e313e2",
   "metadata": {},
   "outputs": [
    {
     "name": "stdout",
     "output_type": "stream",
     "text": [
      "<re.Match object; span=(650, 653), match='000'>\n",
      "<re.Match object; span=(18270, 18273), match='000'>\n",
      "<re.Match object; span=(35890, 35893), match='000'>\n",
      "<re.Match object; span=(42919, 42922), match='505'>\n",
      "<re.Match object; span=(42923, 42926), match='503'>\n",
      "<re.Match object; span=(42927, 42930), match='445'>\n"
     ]
    }
   ],
   "source": [
    "for match in re.finditer(pattern, pdf_text):\n",
    "    print(match)"
   ]
  },
  {
   "cell_type": "code",
   "execution_count": 88,
   "id": "7505dd56",
   "metadata": {},
   "outputs": [
    {
     "data": {
      "text/plain": [
       "'5'"
      ]
     },
     "execution_count": 88,
     "metadata": {},
     "output_type": "execute_result"
    }
   ],
   "source": [
    "pdf_text[42919]"
   ]
  },
  {
   "cell_type": "code",
   "execution_count": 90,
   "id": "3feeffc4",
   "metadata": {},
   "outputs": [
    {
     "data": {
      "text/plain": [
       "'505.503.4455. So hor'"
      ]
     },
     "execution_count": 90,
     "metadata": {},
     "output_type": "execute_result"
    }
   ],
   "source": [
    "pdf_text[42919:42919+20]"
   ]
  },
  {
   "cell_type": "code",
   "execution_count": 91,
   "id": "42d2b2cc",
   "metadata": {},
   "outputs": [
    {
     "data": {
      "text/plain": [
       "'is \\nphone number is 505.503.4455. So hor'"
      ]
     },
     "execution_count": 91,
     "metadata": {},
     "output_type": "execute_result"
    }
   ],
   "source": [
    "pdf_text[42899:42919+20]"
   ]
  },
  {
   "cell_type": "code",
   "execution_count": null,
   "id": "94c02ac6",
   "metadata": {},
   "outputs": [],
   "source": []
  },
  {
   "cell_type": "code",
   "execution_count": null,
   "id": "07cc37a4",
   "metadata": {},
   "outputs": [],
   "source": []
  },
  {
   "cell_type": "code",
   "execution_count": 93,
   "id": "93615f61",
   "metadata": {},
   "outputs": [],
   "source": [
    "pattern = r'\\d{3}.\\d{3}.\\d{4}'"
   ]
  },
  {
   "cell_type": "code",
   "execution_count": 95,
   "id": "21406022",
   "metadata": {},
   "outputs": [
    {
     "name": "stdout",
     "output_type": "stream",
     "text": [
      "<re.Match object; span=(42919, 42931), match='505.503.4455'>\n"
     ]
    }
   ],
   "source": [
    "for match in re.finditer(pattern, pdf_text):\n",
    "    print(match)"
   ]
  },
  {
   "cell_type": "code",
   "execution_count": 105,
   "id": "0752d0c6",
   "metadata": {},
   "outputs": [
    {
     "name": "stdout",
     "output_type": "stream",
     "text": [
      "(42919, 42931)\n"
     ]
    }
   ],
   "source": [
    "for match in re.finditer(pattern, pdf_text):\n",
    "    print(match.span())"
   ]
  },
  {
   "cell_type": "code",
   "execution_count": null,
   "id": "de28a61e",
   "metadata": {},
   "outputs": [],
   "source": []
  }
 ],
 "metadata": {
  "kernelspec": {
   "display_name": "Python 3 (ipykernel)",
   "language": "python",
   "name": "python3"
  },
  "language_info": {
   "codemirror_mode": {
    "name": "ipython",
    "version": 3
   },
   "file_extension": ".py",
   "mimetype": "text/x-python",
   "name": "python",
   "nbconvert_exporter": "python",
   "pygments_lexer": "ipython3",
   "version": "3.8.6"
  }
 },
 "nbformat": 4,
 "nbformat_minor": 5
}
