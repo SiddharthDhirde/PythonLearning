{
 "cells": [
  {
   "cell_type": "code",
   "execution_count": 1,
   "id": "4e8a98aa",
   "metadata": {},
   "outputs": [],
   "source": [
    "#  OM NAMAH SHIVAY"
   ]
  },
  {
   "cell_type": "code",
   "execution_count": 2,
   "id": "13cbf70f",
   "metadata": {},
   "outputs": [],
   "source": [
    "# PYTHON BOOTCAMP\n",
    "# BY JOSE PORTILLA (PIERIAN DATA)\n",
    "## DATE:- 22nd JAN 2022\n",
    "\n",
    "## LET'S BEGIN THE ULTIMATE JOURNEY\n",
    "\n",
    "\n",
    "# 05_Folder Python Statements"
   ]
  },
  {
   "cell_type": "code",
   "execution_count": 3,
   "id": "a0e016c2",
   "metadata": {},
   "outputs": [],
   "source": [
    "# 037 USEFUL OPERATORS IN PYTHON"
   ]
  },
  {
   "cell_type": "code",
   "execution_count": null,
   "id": "067bb87b",
   "metadata": {},
   "outputs": [],
   "source": []
  },
  {
   "cell_type": "markdown",
   "id": "d54edefb",
   "metadata": {},
   "source": [
    "# 037 USEFUL OPERATORS IN PYTHON\n",
    "# 23 JAN 2022"
   ]
  },
  {
   "cell_type": "code",
   "execution_count": null,
   "id": "71e6356c",
   "metadata": {},
   "outputs": [],
   "source": []
  },
  {
   "cell_type": "code",
   "execution_count": 22,
   "id": "574ec0e9",
   "metadata": {},
   "outputs": [],
   "source": [
    "# Range function"
   ]
  },
  {
   "cell_type": "code",
   "execution_count": 23,
   "id": "19dcea91",
   "metadata": {},
   "outputs": [],
   "source": [
    "mylist=[1,2,3]"
   ]
  },
  {
   "cell_type": "code",
   "execution_count": 24,
   "id": "f32f7ced",
   "metadata": {},
   "outputs": [
    {
     "name": "stdout",
     "output_type": "stream",
     "text": [
      "0\n",
      "1\n",
      "2\n",
      "3\n",
      "4\n",
      "5\n",
      "6\n",
      "7\n",
      "8\n",
      "9\n"
     ]
    }
   ],
   "source": [
    "for num in range(10):\n",
    "    print(num)    "
   ]
  },
  {
   "cell_type": "code",
   "execution_count": 26,
   "id": "99480640",
   "metadata": {},
   "outputs": [
    {
     "name": "stdout",
     "output_type": "stream",
     "text": [
      "2\n",
      "3\n",
      "4\n",
      "5\n",
      "6\n",
      "7\n",
      "8\n",
      "9\n"
     ]
    }
   ],
   "source": [
    "for num in range(2,10):\n",
    "    print(num)    "
   ]
  },
  {
   "cell_type": "code",
   "execution_count": 27,
   "id": "16edd127",
   "metadata": {},
   "outputs": [
    {
     "name": "stdout",
     "output_type": "stream",
     "text": [
      "3\n",
      "5\n",
      "7\n",
      "9\n"
     ]
    }
   ],
   "source": [
    "for num in range(3,10,2):\n",
    "    print(num)    "
   ]
  },
  {
   "cell_type": "code",
   "execution_count": 28,
   "id": "38314384",
   "metadata": {},
   "outputs": [
    {
     "name": "stdout",
     "output_type": "stream",
     "text": [
      "0\n",
      "2\n",
      "4\n",
      "6\n",
      "8\n",
      "10\n"
     ]
    }
   ],
   "source": [
    "for num in range(0,11,2):\n",
    "    print(num)    "
   ]
  },
  {
   "cell_type": "code",
   "execution_count": 30,
   "id": "3cdd1c9f",
   "metadata": {},
   "outputs": [
    {
     "name": "stdout",
     "output_type": "stream",
     "text": [
      "9\n",
      "18\n",
      "27\n",
      "36\n",
      "45\n",
      "54\n",
      "63\n",
      "72\n",
      "81\n",
      "90\n"
     ]
    }
   ],
   "source": [
    "for num in range(9,91,9):\n",
    "    print(num)    "
   ]
  },
  {
   "cell_type": "code",
   "execution_count": 32,
   "id": "f55c71e3",
   "metadata": {},
   "outputs": [
    {
     "data": {
      "text/plain": [
       "range(9, 91, 9)"
      ]
     },
     "execution_count": 32,
     "metadata": {},
     "output_type": "execute_result"
    }
   ],
   "source": [
    "range(9,91,9) # range is a generator"
   ]
  },
  {
   "cell_type": "code",
   "execution_count": 33,
   "id": "6953963e",
   "metadata": {},
   "outputs": [
    {
     "data": {
      "text/plain": [
       "[9, 18, 27, 36, 45, 54, 63, 72, 81, 90]"
      ]
     },
     "execution_count": 33,
     "metadata": {},
     "output_type": "execute_result"
    }
   ],
   "source": [
    "list(range(9,91,9))"
   ]
  },
  {
   "cell_type": "code",
   "execution_count": 35,
   "id": "5c880815",
   "metadata": {},
   "outputs": [
    {
     "data": {
      "text/plain": [
       "[11, 22, 33, 44, 55, 66, 77, 88, 99, 110]"
      ]
     },
     "execution_count": 35,
     "metadata": {},
     "output_type": "execute_result"
    }
   ],
   "source": [
    "list(range(11,111,11)) #table of 11"
   ]
  },
  {
   "cell_type": "code",
   "execution_count": 39,
   "id": "eab60900",
   "metadata": {},
   "outputs": [
    {
     "data": {
      "text/plain": [
       "[9, 10, 11, 12, 13, 14, 15, 16, 17, 18]"
      ]
     },
     "execution_count": 39,
     "metadata": {},
     "output_type": "execute_result"
    }
   ],
   "source": [
    "list(range(9,19))"
   ]
  },
  {
   "cell_type": "code",
   "execution_count": 41,
   "id": "1a7c313c",
   "metadata": {},
   "outputs": [
    {
     "data": {
      "text/plain": [
       "[9,\n",
       " 10,\n",
       " 11,\n",
       " 12,\n",
       " 13,\n",
       " 14,\n",
       " 15,\n",
       " 16,\n",
       " 17,\n",
       " 18,\n",
       " 19,\n",
       " 20,\n",
       " 21,\n",
       " 22,\n",
       " 23,\n",
       " 24,\n",
       " 25,\n",
       " 26,\n",
       " 27,\n",
       " 28,\n",
       " 29,\n",
       " 30,\n",
       " 31,\n",
       " 32,\n",
       " 33,\n",
       " 34,\n",
       " 35]"
      ]
     },
     "execution_count": 41,
     "metadata": {},
     "output_type": "execute_result"
    }
   ],
   "source": [
    "list(range(9,36))"
   ]
  },
  {
   "cell_type": "code",
   "execution_count": 98,
   "id": "a37c805f",
   "metadata": {},
   "outputs": [
    {
     "data": {
      "text/plain": [
       "(9, 10, 11, 12, 13, 14, 15, 16, 17, 18, 19, 20, 21, 22, 23, 24, 25, 26)"
      ]
     },
     "execution_count": 98,
     "metadata": {},
     "output_type": "execute_result"
    }
   ],
   "source": [
    "tuple(range(9,27))"
   ]
  },
  {
   "cell_type": "code",
   "execution_count": 43,
   "id": "c6715c64",
   "metadata": {},
   "outputs": [
    {
     "name": "stdout",
     "output_type": "stream",
     "text": [
      "At index 0 the letter is a\n",
      "At index 1 the letter is b\n",
      "At index 2 the letter is c\n",
      "At index 3 the letter is d\n",
      "At index 4 the letter is e\n"
     ]
    }
   ],
   "source": [
    "index_count=0\n",
    "\n",
    "for letter in \"abcde\":\n",
    "    print(\"At index {} the letter is {}\".format(index_count,letter))\n",
    "    index_count +=1"
   ]
  },
  {
   "cell_type": "code",
   "execution_count": 1,
   "id": "4ac15be9",
   "metadata": {},
   "outputs": [
    {
     "name": "stdout",
     "output_type": "stream",
     "text": [
      "a\n",
      "b\n",
      "c\n",
      "d\n",
      "e\n"
     ]
    }
   ],
   "source": [
    "index_count=0\n",
    "\n",
    "for letter in \"abcde\":\n",
    "    print(letter)\n",
    "    index_count +=1"
   ]
  },
  {
   "cell_type": "code",
   "execution_count": 45,
   "id": "a7f051b3",
   "metadata": {},
   "outputs": [],
   "source": [
    "#Enemurate function \n",
    "# replicate"
   ]
  },
  {
   "cell_type": "code",
   "execution_count": 49,
   "id": "218d82b7",
   "metadata": {},
   "outputs": [
    {
     "name": "stdout",
     "output_type": "stream",
     "text": [
      "a\n",
      "b\n",
      "c\n",
      "d\n",
      "e\n"
     ]
    }
   ],
   "source": [
    "index_count=0\n",
    "word = \"abcde\"\n",
    "for letter in word:\n",
    "    print(word[index_count])\n",
    "    index_count += 1"
   ]
  },
  {
   "cell_type": "code",
   "execution_count": null,
   "id": "d6e4821e",
   "metadata": {},
   "outputs": [],
   "source": [
    "index_count=0\n",
    "word = \"abcde\"\n",
    "for letter in word:\n",
    "    print(word[index_count])\n",
    "    index_count += 1"
   ]
  },
  {
   "cell_type": "code",
   "execution_count": 51,
   "id": "8e6a3478",
   "metadata": {},
   "outputs": [
    {
     "name": "stdout",
     "output_type": "stream",
     "text": [
      "(0, 'a')\n",
      "(1, 'b')\n",
      "(2, 'c')\n",
      "(3, 'd')\n",
      "(4, 'e')\n"
     ]
    }
   ],
   "source": [
    "index_count=0\n",
    "word = \"abcde\"\n",
    "for item in enumerate(word):\n",
    "    print(item)\n",
    "    index_count += 1"
   ]
  },
  {
   "cell_type": "code",
   "execution_count": 65,
   "id": "2735b4bb",
   "metadata": {},
   "outputs": [
    {
     "name": "stdout",
     "output_type": "stream",
     "text": [
      "0 a\n",
      "1 b\n",
      "2 c\n",
      "3 d\n",
      "4 e\n"
     ]
    }
   ],
   "source": [
    "q = \"abcde\"\n",
    "for index,letter in enumerate(q):\n",
    "    print(index,letter)"
   ]
  },
  {
   "cell_type": "code",
   "execution_count": 66,
   "id": "affbb55d",
   "metadata": {},
   "outputs": [
    {
     "name": "stdout",
     "output_type": "stream",
     "text": [
      "0\n",
      "1\n",
      "2\n",
      "3\n",
      "4\n",
      "4\n"
     ]
    }
   ],
   "source": [
    "word = \"abcde\"\n",
    "for index,letter in enumerate(word):\n",
    "    print(index)\n",
    "print(index)"
   ]
  },
  {
   "cell_type": "code",
   "execution_count": 56,
   "id": "debad858",
   "metadata": {},
   "outputs": [
    {
     "name": "stdout",
     "output_type": "stream",
     "text": [
      "a\n",
      "b\n",
      "c\n",
      "d\n",
      "e\n"
     ]
    }
   ],
   "source": [
    "word = \"abcde\"\n",
    "for index,letter in enumerate(word):\n",
    "    print(letter)"
   ]
  },
  {
   "cell_type": "code",
   "execution_count": 58,
   "id": "db07c77b",
   "metadata": {},
   "outputs": [
    {
     "name": "stdout",
     "output_type": "stream",
     "text": [
      "0\n",
      "a\n",
      "1\n",
      "b\n",
      "2\n",
      "c\n",
      "3\n",
      "d\n",
      "4\n",
      "e\n"
     ]
    }
   ],
   "source": [
    "word = \"abcde\"\n",
    "for index,letter in enumerate(word):\n",
    "    print(index)\n",
    "    print(letter)"
   ]
  },
  {
   "cell_type": "code",
   "execution_count": 63,
   "id": "db032642",
   "metadata": {},
   "outputs": [
    {
     "name": "stdout",
     "output_type": "stream",
     "text": [
      "0\n",
      "a\n",
      "\n",
      "\n",
      "1\n",
      "b\n",
      "\n",
      "\n",
      "2\n",
      "c\n",
      "\n",
      "\n",
      "3\n",
      "d\n",
      "\n",
      "\n",
      "4\n",
      "e\n",
      "\n",
      "\n"
     ]
    }
   ],
   "source": [
    "word = \"abcde\"\n",
    "for index,letter in enumerate(word):\n",
    "    print(index)\n",
    "    print(letter)\n",
    "    print('\\n')"
   ]
  },
  {
   "cell_type": "code",
   "execution_count": null,
   "id": "7129accd",
   "metadata": {},
   "outputs": [],
   "source": []
  },
  {
   "cell_type": "code",
   "execution_count": 68,
   "id": "0c6e90f3",
   "metadata": {},
   "outputs": [],
   "source": [
    "\n",
    "# zip function (Opposite to enumerate function)\n"
   ]
  },
  {
   "cell_type": "code",
   "execution_count": 95,
   "id": "33c61167",
   "metadata": {},
   "outputs": [],
   "source": [
    "list1=[1,2,3,4,5]\n",
    "list2=['a','b','c','d','e']"
   ]
  },
  {
   "cell_type": "code",
   "execution_count": 72,
   "id": "f67fbae6",
   "metadata": {},
   "outputs": [
    {
     "data": {
      "text/plain": [
       "<zip at 0x56bfc48>"
      ]
     },
     "execution_count": 72,
     "metadata": {},
     "output_type": "execute_result"
    }
   ],
   "source": [
    "zip(list1,list2)"
   ]
  },
  {
   "cell_type": "code",
   "execution_count": 74,
   "id": "45d5a854",
   "metadata": {},
   "outputs": [
    {
     "name": "stdout",
     "output_type": "stream",
     "text": [
      "<zip object at 0x04043528>\n",
      "<zip object at 0x04043528>\n",
      "<zip object at 0x04043528>\n",
      "<zip object at 0x04043528>\n",
      "<zip object at 0x04043528>\n"
     ]
    }
   ],
   "source": [
    "for item in zip(list1,list2):\n",
    "    print(zip(list1,list2))"
   ]
  },
  {
   "cell_type": "code",
   "execution_count": 75,
   "id": "cc19258d",
   "metadata": {},
   "outputs": [
    {
     "name": "stdout",
     "output_type": "stream",
     "text": [
      "<zip object at 0x06585C08>\n",
      "<zip object at 0x06585C08>\n",
      "<zip object at 0x06585C08>\n",
      "<zip object at 0x06585C08>\n",
      "<zip object at 0x06585C08>\n"
     ]
    }
   ],
   "source": [
    "for item in zip(list1,list2):\n",
    "    print(zip(item))"
   ]
  },
  {
   "cell_type": "code",
   "execution_count": 91,
   "id": "145610e0",
   "metadata": {},
   "outputs": [
    {
     "name": "stdout",
     "output_type": "stream",
     "text": [
      "(1, 'a')\n",
      "(2, 'b')\n",
      "(3, 'c')\n",
      "(4, 'd')\n",
      "(5, 'e')\n"
     ]
    }
   ],
   "source": [
    "for item in zip(list1,list2):\n",
    "    print(item)# we will get tuples"
   ]
  },
  {
   "cell_type": "code",
   "execution_count": null,
   "id": "d97100e7",
   "metadata": {},
   "outputs": [],
   "source": []
  },
  {
   "cell_type": "code",
   "execution_count": null,
   "id": "6739f974",
   "metadata": {},
   "outputs": [],
   "source": []
  },
  {
   "cell_type": "code",
   "execution_count": 80,
   "id": "8a5ca040",
   "metadata": {},
   "outputs": [],
   "source": [
    "list1=[1,2,3,54,5,6,8,9,88]\n",
    "list2=['a','b','c','d','e']"
   ]
  },
  {
   "cell_type": "code",
   "execution_count": 81,
   "id": "d3b7c51d",
   "metadata": {},
   "outputs": [
    {
     "name": "stdout",
     "output_type": "stream",
     "text": [
      "(1, 'a')\n",
      "(2, 'b')\n",
      "(3, 'c')\n",
      "(54, 'd')\n",
      "(5, 'e')\n"
     ]
    }
   ],
   "source": [
    "for item in zip(list1,list2):\n",
    "    print(item)"
   ]
  },
  {
   "cell_type": "code",
   "execution_count": 83,
   "id": "ab5dbdd2",
   "metadata": {},
   "outputs": [
    {
     "name": "stdout",
     "output_type": "stream",
     "text": [
      "(1, 'a')\n",
      "(2, 'b')\n",
      "(3, 'c')\n"
     ]
    }
   ],
   "source": [
    "list1=[1,2,3]\n",
    "list2=['a','b','c','d','e']\n",
    "for item in zip(list1,list2):\n",
    "    print(item)"
   ]
  },
  {
   "cell_type": "code",
   "execution_count": 84,
   "id": "a863f550",
   "metadata": {},
   "outputs": [
    {
     "name": "stdout",
     "output_type": "stream",
     "text": [
      "(1, 'a')\n",
      "(2, 'b')\n",
      "(3, 'c')\n"
     ]
    }
   ],
   "source": [
    "list1=[1,2,3]\n",
    "list2=['a','b','c','d','e']\n",
    "list3=[100,200,300,400]\n",
    "for item in zip(list1,list2):\n",
    "    print(item)"
   ]
  },
  {
   "cell_type": "code",
   "execution_count": 99,
   "id": "6da7ebb5",
   "metadata": {},
   "outputs": [
    {
     "name": "stdout",
     "output_type": "stream",
     "text": [
      "(1, 'a', 100)\n",
      "(2, 'b', 200)\n",
      "(3, 'c', 300)\n"
     ]
    }
   ],
   "source": [
    "list1=[1,2,3]\n",
    "list2=['a','b','c','d','e']\n",
    "list3=[100,200,300,400]\n",
    "for item in zip(list1,list2,list3):\n",
    "    print(item)"
   ]
  },
  {
   "cell_type": "code",
   "execution_count": 6,
   "id": "4882e5ca",
   "metadata": {},
   "outputs": [
    {
     "name": "stdout",
     "output_type": "stream",
     "text": [
      "(1, 'a', 100)\n",
      "(2, 'b', 200)\n",
      "(3, 'c', 300)\n",
      "(3, 'c', 300)\n"
     ]
    }
   ],
   "source": [
    "list1=[1,2,3]\n",
    "list2=['a','b','c','d','e']\n",
    "list3=[100,200,300,400]\n",
    "for item in zip(list1,list2,list3):\n",
    "    print(item)\n",
    "print(item)"
   ]
  },
  {
   "cell_type": "code",
   "execution_count": 7,
   "id": "3d8961f2",
   "metadata": {},
   "outputs": [],
   "source": [
    "mylist1 = [1,2,3,4,5,6]\n",
    "mylist2 = ['a','b','c']\n",
    "mylist3 = [100,200,300]"
   ]
  },
  {
   "cell_type": "code",
   "execution_count": 8,
   "id": "a6817332",
   "metadata": {
    "scrolled": true
   },
   "outputs": [
    {
     "name": "stdout",
     "output_type": "stream",
     "text": [
      "(1, 'a', 100)\n",
      "(2, 'b', 200)\n",
      "(3, 'c', 300)\n"
     ]
    }
   ],
   "source": [
    "for item in zip(mylist1,list2,mylist3):\n",
    "    print(item)"
   ]
  },
  {
   "cell_type": "code",
   "execution_count": 9,
   "id": "bab416af",
   "metadata": {},
   "outputs": [
    {
     "data": {
      "text/plain": [
       "[(1, 'a'), (2, 'b'), (3, 'c')]"
      ]
     },
     "execution_count": 9,
     "metadata": {},
     "output_type": "execute_result"
    }
   ],
   "source": [
    "list(zip(mylist1,mylist2))"
   ]
  },
  {
   "cell_type": "code",
   "execution_count": 108,
   "id": "10b03e0e",
   "metadata": {},
   "outputs": [
    {
     "data": {
      "text/plain": [
       "((1, 'a'), (2, 'b'), (3, 'c'))"
      ]
     },
     "execution_count": 108,
     "metadata": {},
     "output_type": "execute_result"
    }
   ],
   "source": [
    "tuple(zip(mylist1,mylist2))"
   ]
  },
  {
   "cell_type": "code",
   "execution_count": 112,
   "id": "afa31f37",
   "metadata": {},
   "outputs": [],
   "source": [
    "# list(zip(mylist1,mylist2)) \n",
    "# this code will work but it's not"
   ]
  },
  {
   "cell_type": "code",
   "execution_count": 115,
   "id": "fb2231ca",
   "metadata": {},
   "outputs": [
    {
     "name": "stdout",
     "output_type": "stream",
     "text": [
      "1 a 100\n",
      "2 b 200\n",
      "3 c 300\n"
     ]
    }
   ],
   "source": [
    "for a,b,c in zip(mylist1,list2,mylist3):\n",
    "    print(a,b,c)"
   ]
  },
  {
   "cell_type": "code",
   "execution_count": 116,
   "id": "0981d4ee",
   "metadata": {},
   "outputs": [
    {
     "name": "stdout",
     "output_type": "stream",
     "text": [
      "1 100\n",
      "2 200\n",
      "3 300\n"
     ]
    }
   ],
   "source": [
    "for a,b,c in zip(mylist1,list2,mylist3):\n",
    "    print(a,c)"
   ]
  },
  {
   "cell_type": "code",
   "execution_count": 119,
   "id": "e71c8d92",
   "metadata": {},
   "outputs": [
    {
     "name": "stdout",
     "output_type": "stream",
     "text": [
      "100\n",
      "200\n",
      "300\n"
     ]
    }
   ],
   "source": [
    "for a,b,c in zip(mylist1,list2,mylist3):\n",
    "    print(c)"
   ]
  },
  {
   "cell_type": "code",
   "execution_count": null,
   "id": "89531db0",
   "metadata": {},
   "outputs": [],
   "source": []
  },
  {
   "cell_type": "code",
   "execution_count": 124,
   "id": "76cd6329",
   "metadata": {},
   "outputs": [
    {
     "data": {
      "text/plain": [
       "False"
      ]
     },
     "execution_count": 124,
     "metadata": {},
     "output_type": "execute_result"
    }
   ],
   "source": [
    "\"x\" in [1.3,3,4,5]"
   ]
  },
  {
   "cell_type": "code",
   "execution_count": 125,
   "id": "4394e6eb",
   "metadata": {},
   "outputs": [
    {
     "data": {
      "text/plain": [
       "False"
      ]
     },
     "execution_count": 125,
     "metadata": {},
     "output_type": "execute_result"
    }
   ],
   "source": [
    "\"x\" in [1.3,3,4,5,]"
   ]
  },
  {
   "cell_type": "code",
   "execution_count": 126,
   "id": "013feb11",
   "metadata": {},
   "outputs": [
    {
     "data": {
      "text/plain": [
       "True"
      ]
     },
     "execution_count": 126,
     "metadata": {},
     "output_type": "execute_result"
    }
   ],
   "source": [
    "\"x\" in [1.3,3,4,'x']"
   ]
  },
  {
   "cell_type": "code",
   "execution_count": 129,
   "id": "79f92648",
   "metadata": {},
   "outputs": [
    {
     "data": {
      "text/plain": [
       "True"
      ]
     },
     "execution_count": 129,
     "metadata": {},
     "output_type": "execute_result"
    }
   ],
   "source": [
    "\"x\" in ['sf','f','x']"
   ]
  },
  {
   "cell_type": "code",
   "execution_count": null,
   "id": "8a708f2b",
   "metadata": {},
   "outputs": [],
   "source": []
  },
  {
   "cell_type": "code",
   "execution_count": 130,
   "id": "f149f2f6",
   "metadata": {},
   "outputs": [
    {
     "data": {
      "text/plain": [
       "True"
      ]
     },
     "execution_count": 130,
     "metadata": {},
     "output_type": "execute_result"
    }
   ],
   "source": [
    "\"x\" in \"sdfsxz\""
   ]
  },
  {
   "cell_type": "code",
   "execution_count": 133,
   "id": "501bd523",
   "metadata": {},
   "outputs": [
    {
     "data": {
      "text/plain": [
       "True"
      ]
     },
     "execution_count": 133,
     "metadata": {},
     "output_type": "execute_result"
    }
   ],
   "source": [
    "'k' in'hkjhk fvjhk b '\n",
    "\n",
    "'a' in \"siddharth\""
   ]
  },
  {
   "cell_type": "code",
   "execution_count": 17,
   "id": "2f8e5e08",
   "metadata": {},
   "outputs": [
    {
     "name": "stdout",
     "output_type": "stream",
     "text": [
      "True\n",
      "False\n",
      "True\n"
     ]
    }
   ],
   "source": [
    "print('mykey' in {'mykey': 234})\n",
    "\n",
    "print(234 in {\"mykey\":234})#default works for keys in dictionaries\n",
    "\n",
    "\n",
    "\n",
    "d={'mykey': 534}\n",
    "print(534 in d.values())"
   ]
  },
  {
   "cell_type": "code",
   "execution_count": 18,
   "id": "f3677d7e",
   "metadata": {},
   "outputs": [
    {
     "data": {
      "text/plain": [
       "False"
      ]
     },
     "execution_count": 18,
     "metadata": {},
     "output_type": "execute_result"
    }
   ],
   "source": [
    "d={'mykey':      534}\n",
    "\n",
    "534 in d.keys()"
   ]
  },
  {
   "cell_type": "code",
   "execution_count": 24,
   "id": "25dfad2d",
   "metadata": {},
   "outputs": [
    {
     "name": "stdout",
     "output_type": "stream",
     "text": [
      "mykey2\n",
      "mykey\n"
     ]
    }
   ],
   "source": [
    "d={'mykey': 534, 'mykey2': 3}\n",
    "print(max(d))\n",
    "print(min(d))"
   ]
  },
  {
   "cell_type": "code",
   "execution_count": 142,
   "id": "dc7ed993",
   "metadata": {},
   "outputs": [
    {
     "data": {
      "text/plain": [
       "10"
      ]
     },
     "execution_count": 142,
     "metadata": {},
     "output_type": "execute_result"
    }
   ],
   "source": [
    "mylist= [10,20,30,40,50,60,100]\n",
    "\n",
    "min(mylist)"
   ]
  },
  {
   "cell_type": "code",
   "execution_count": 143,
   "id": "1f6b66a0",
   "metadata": {},
   "outputs": [
    {
     "data": {
      "text/plain": [
       "100"
      ]
     },
     "execution_count": 143,
     "metadata": {},
     "output_type": "execute_result"
    }
   ],
   "source": [
    "max(mylist)"
   ]
  },
  {
   "cell_type": "code",
   "execution_count": null,
   "id": "27e90c73",
   "metadata": {},
   "outputs": [],
   "source": []
  },
  {
   "cell_type": "code",
   "execution_count": 144,
   "id": "1ecf7bf8",
   "metadata": {},
   "outputs": [],
   "source": [
    "from random import shuffle"
   ]
  },
  {
   "cell_type": "code",
   "execution_count": 150,
   "id": "1992c41e",
   "metadata": {},
   "outputs": [],
   "source": [
    "mylist =  [1,2,3,4,5,6,7,8,9,10]"
   ]
  },
  {
   "cell_type": "code",
   "execution_count": 151,
   "id": "bb1b125c",
   "metadata": {},
   "outputs": [
    {
     "data": {
      "text/plain": [
       "[1, 2, 3, 4, 5, 6, 7, 8, 9, 10]"
      ]
     },
     "execution_count": 151,
     "metadata": {},
     "output_type": "execute_result"
    }
   ],
   "source": [
    "mylist"
   ]
  },
  {
   "cell_type": "code",
   "execution_count": 154,
   "id": "043efc65",
   "metadata": {},
   "outputs": [],
   "source": [
    "shuffle(mylist)"
   ]
  },
  {
   "cell_type": "code",
   "execution_count": 155,
   "id": "d902184b",
   "metadata": {},
   "outputs": [
    {
     "data": {
      "text/plain": [
       "[10, 1, 7, 5, 3, 8, 6, 9, 2, 4]"
      ]
     },
     "execution_count": 155,
     "metadata": {},
     "output_type": "execute_result"
    }
   ],
   "source": [
    "mylist"
   ]
  },
  {
   "cell_type": "code",
   "execution_count": 148,
   "id": "1e217543",
   "metadata": {},
   "outputs": [],
   "source": [
    "random_list = shuffle(mylist)"
   ]
  },
  {
   "cell_type": "code",
   "execution_count": 161,
   "id": "55da55ee",
   "metadata": {},
   "outputs": [],
   "source": [
    "random_list # this is not going to work because its random"
   ]
  },
  {
   "cell_type": "code",
   "execution_count": 157,
   "id": "a721bfdd",
   "metadata": {},
   "outputs": [
    {
     "data": {
      "text/plain": [
       "NoneType"
      ]
     },
     "execution_count": 157,
     "metadata": {},
     "output_type": "execute_result"
    }
   ],
   "source": [
    "type(random_list)"
   ]
  },
  {
   "cell_type": "code",
   "execution_count": 27,
   "id": "93b025c3",
   "metadata": {},
   "outputs": [],
   "source": [
    "from random import randint"
   ]
  },
  {
   "cell_type": "code",
   "execution_count": 162,
   "id": "c8722c3a",
   "metadata": {},
   "outputs": [
    {
     "data": {
      "text/plain": [
       "44"
      ]
     },
     "execution_count": 162,
     "metadata": {},
     "output_type": "execute_result"
    }
   ],
   "source": [
    "randint(1,100) # will display any no. from 1 to 100"
   ]
  },
  {
   "cell_type": "code",
   "execution_count": 163,
   "id": "e7d618e5",
   "metadata": {},
   "outputs": [
    {
     "data": {
      "text/plain": [
       "6"
      ]
     },
     "execution_count": 163,
     "metadata": {},
     "output_type": "execute_result"
    }
   ],
   "source": [
    "randint(1,100)"
   ]
  },
  {
   "cell_type": "code",
   "execution_count": 168,
   "id": "5df7d25e",
   "metadata": {},
   "outputs": [
    {
     "data": {
      "text/plain": [
       "34"
      ]
     },
     "execution_count": 168,
     "metadata": {},
     "output_type": "execute_result"
    }
   ],
   "source": [
    "randint(34,34)"
   ]
  },
  {
   "cell_type": "code",
   "execution_count": 170,
   "id": "4f42e025",
   "metadata": {},
   "outputs": [
    {
     "data": {
      "text/plain": [
       "1"
      ]
     },
     "execution_count": 170,
     "metadata": {},
     "output_type": "execute_result"
    }
   ],
   "source": [
    "randint(-2,4)"
   ]
  },
  {
   "cell_type": "code",
   "execution_count": 172,
   "id": "e4357776",
   "metadata": {},
   "outputs": [
    {
     "data": {
      "text/plain": [
       "-42"
      ]
     },
     "execution_count": 172,
     "metadata": {},
     "output_type": "execute_result"
    }
   ],
   "source": [
    "randint(-100,0)"
   ]
  },
  {
   "cell_type": "code",
   "execution_count": 173,
   "id": "49ac1308",
   "metadata": {},
   "outputs": [
    {
     "data": {
      "text/plain": [
       "9057927047657078684753519032066374121"
      ]
     },
     "execution_count": 173,
     "metadata": {},
     "output_type": "execute_result"
    }
   ],
   "source": [
    "randint(0,10000000000000000000000000000000000000)"
   ]
  },
  {
   "cell_type": "code",
   "execution_count": 174,
   "id": "25a87a37",
   "metadata": {},
   "outputs": [
    {
     "data": {
      "text/plain": [
       "178544467938230978848976005238288"
      ]
     },
     "execution_count": 174,
     "metadata": {},
     "output_type": "execute_result"
    }
   ],
   "source": [
    "randint(100000000000000,1000000000000000000000000000000000)"
   ]
  },
  {
   "cell_type": "code",
   "execution_count": 28,
   "id": "035f496f",
   "metadata": {},
   "outputs": [
    {
     "data": {
      "text/plain": [
       "611061419830434185410316589229487688468735035597841031516364228"
      ]
     },
     "execution_count": 28,
     "metadata": {},
     "output_type": "execute_result"
    }
   ],
   "source": [
    "randint(9999999999999999999999999999,999999999999999999999999999999999999999999999999999999999999999)"
   ]
  },
  {
   "cell_type": "code",
   "execution_count": 29,
   "id": "dcda257c",
   "metadata": {},
   "outputs": [
    {
     "data": {
      "text/plain": [
       "method"
      ]
     },
     "execution_count": 29,
     "metadata": {},
     "output_type": "execute_result"
    }
   ],
   "source": [
    "type(randint)"
   ]
  },
  {
   "cell_type": "code",
   "execution_count": 178,
   "id": "420f96c0",
   "metadata": {},
   "outputs": [],
   "source": [
    "mynum= randint(0,10)"
   ]
  },
  {
   "cell_type": "code",
   "execution_count": 179,
   "id": "e7c41b9c",
   "metadata": {},
   "outputs": [
    {
     "data": {
      "text/plain": [
       "6"
      ]
     },
     "execution_count": 179,
     "metadata": {},
     "output_type": "execute_result"
    }
   ],
   "source": [
    "mynum"
   ]
  },
  {
   "cell_type": "code",
   "execution_count": 180,
   "id": "411b197b",
   "metadata": {},
   "outputs": [
    {
     "data": {
      "text/plain": [
       "6"
      ]
     },
     "execution_count": 180,
     "metadata": {},
     "output_type": "execute_result"
    }
   ],
   "source": [
    "mynum"
   ]
  },
  {
   "cell_type": "code",
   "execution_count": 181,
   "id": "48e59f89",
   "metadata": {},
   "outputs": [
    {
     "data": {
      "text/plain": [
       "10"
      ]
     },
     "execution_count": 181,
     "metadata": {},
     "output_type": "execute_result"
    }
   ],
   "source": [
    "mynum+4"
   ]
  },
  {
   "cell_type": "code",
   "execution_count": 182,
   "id": "b9ad37b9",
   "metadata": {},
   "outputs": [],
   "source": [
    "addition1=mynum*10"
   ]
  },
  {
   "cell_type": "code",
   "execution_count": 183,
   "id": "ed0231b9",
   "metadata": {},
   "outputs": [
    {
     "data": {
      "text/plain": [
       "60"
      ]
     },
     "execution_count": 183,
     "metadata": {},
     "output_type": "execute_result"
    }
   ],
   "source": [
    "addition1"
   ]
  },
  {
   "cell_type": "code",
   "execution_count": 188,
   "id": "a3f3bc6e",
   "metadata": {},
   "outputs": [
    {
     "name": "stdout",
     "output_type": "stream",
     "text": [
      "Who are you?Sherlock\n"
     ]
    }
   ],
   "source": [
    "result = input(\"Who are you?\")"
   ]
  },
  {
   "cell_type": "code",
   "execution_count": 190,
   "id": "1e0b90fc",
   "metadata": {},
   "outputs": [
    {
     "name": "stdout",
     "output_type": "stream",
     "text": [
      "WHO?221\n"
     ]
    }
   ],
   "source": [
    "result1 = input(\"WHO?\")"
   ]
  },
  {
   "cell_type": "code",
   "execution_count": 191,
   "id": "ee578577",
   "metadata": {},
   "outputs": [
    {
     "data": {
      "text/plain": [
       "'Sherlock'"
      ]
     },
     "execution_count": 191,
     "metadata": {},
     "output_type": "execute_result"
    }
   ],
   "source": [
    "result"
   ]
  },
  {
   "cell_type": "code",
   "execution_count": 192,
   "id": "746aeaa7",
   "metadata": {},
   "outputs": [
    {
     "data": {
      "text/plain": [
       "'221'"
      ]
     },
     "execution_count": 192,
     "metadata": {},
     "output_type": "execute_result"
    }
   ],
   "source": [
    "result1"
   ]
  },
  {
   "cell_type": "code",
   "execution_count": 193,
   "id": "8d017181",
   "metadata": {},
   "outputs": [
    {
     "data": {
      "text/plain": [
       "str"
      ]
     },
     "execution_count": 193,
     "metadata": {},
     "output_type": "execute_result"
    }
   ],
   "source": [
    "type(result)"
   ]
  },
  {
   "cell_type": "code",
   "execution_count": 194,
   "id": "31dda28d",
   "metadata": {},
   "outputs": [
    {
     "data": {
      "text/plain": [
       "str"
      ]
     },
     "execution_count": 194,
     "metadata": {},
     "output_type": "execute_result"
    }
   ],
   "source": [
    "type(result1)"
   ]
  },
  {
   "cell_type": "code",
   "execution_count": 199,
   "id": "99a8a246",
   "metadata": {},
   "outputs": [
    {
     "data": {
      "text/plain": [
       "221.0"
      ]
     },
     "execution_count": 199,
     "metadata": {},
     "output_type": "execute_result"
    }
   ],
   "source": [
    "float(result1) # float(result) this wont work cause its string"
   ]
  },
  {
   "cell_type": "code",
   "execution_count": 200,
   "id": "7df631ea",
   "metadata": {},
   "outputs": [
    {
     "data": {
      "text/plain": [
       "221"
      ]
     },
     "execution_count": 200,
     "metadata": {},
     "output_type": "execute_result"
    }
   ],
   "source": [
    "int(result1)"
   ]
  },
  {
   "cell_type": "code",
   "execution_count": 207,
   "id": "a5692746",
   "metadata": {},
   "outputs": [
    {
     "name": "stdout",
     "output_type": "stream",
     "text": [
      "Fav no. :9\n"
     ]
    }
   ],
   "source": [
    "fav = int(input(\"Fav no. :\"))"
   ]
  },
  {
   "cell_type": "code",
   "execution_count": 209,
   "id": "d47e2751",
   "metadata": {},
   "outputs": [
    {
     "name": "stdout",
     "output_type": "stream",
     "text": [
      "Fav no. :9.0000\n"
     ]
    }
   ],
   "source": [
    "fav = float(input(\"Fav no. :\"))"
   ]
  },
  {
   "cell_type": "code",
   "execution_count": null,
   "id": "f4acb8ca",
   "metadata": {},
   "outputs": [],
   "source": [
    "\n",
    "\n",
    "\n",
    "\n",
    "\n",
    "\n",
    "\n",
    "\n",
    "\n",
    "\n",
    "\n",
    "\n",
    "\n",
    "\n",
    "\n"
   ]
  },
  {
   "cell_type": "markdown",
   "id": "e6b34799",
   "metadata": {},
   "source": [
    "# 038 LIST COMPREHENSIONS IN PYTHON"
   ]
  },
  {
   "cell_type": "code",
   "execution_count": 30,
   "id": "68ed2a26",
   "metadata": {},
   "outputs": [],
   "source": [
    "mystring=\"Namaste\""
   ]
  },
  {
   "cell_type": "code",
   "execution_count": 31,
   "id": "7e318789",
   "metadata": {},
   "outputs": [],
   "source": [
    "mylist=[]"
   ]
  },
  {
   "cell_type": "code",
   "execution_count": 213,
   "id": "3531f9d4",
   "metadata": {},
   "outputs": [],
   "source": [
    "for letter in mystring:\n",
    "    mylist.append(letter)"
   ]
  },
  {
   "cell_type": "code",
   "execution_count": 32,
   "id": "40125a19",
   "metadata": {},
   "outputs": [],
   "source": [
    "for letter in mystring:\n",
    "    mylist.append(letter)"
   ]
  },
  {
   "cell_type": "code",
   "execution_count": 214,
   "id": "1c93a63b",
   "metadata": {},
   "outputs": [
    {
     "data": {
      "text/plain": [
       "['N', 'a', 'm', 'a', 's', 't', 'e']"
      ]
     },
     "execution_count": 214,
     "metadata": {},
     "output_type": "execute_result"
    }
   ],
   "source": [
    "mylist"
   ]
  },
  {
   "cell_type": "code",
   "execution_count": 33,
   "id": "c33073a0",
   "metadata": {},
   "outputs": [],
   "source": [
    "for letter in mystring:\n",
    "    letter"
   ]
  },
  {
   "cell_type": "code",
   "execution_count": 34,
   "id": "ad80b8d8",
   "metadata": {},
   "outputs": [
    {
     "data": {
      "text/plain": [
       "'e'"
      ]
     },
     "execution_count": 34,
     "metadata": {},
     "output_type": "execute_result"
    }
   ],
   "source": [
    "letter"
   ]
  },
  {
   "cell_type": "code",
   "execution_count": 35,
   "id": "f2f79e63",
   "metadata": {},
   "outputs": [],
   "source": [
    "for letter in mystring:\n",
    "    mystring"
   ]
  },
  {
   "cell_type": "code",
   "execution_count": 36,
   "id": "ccf0500e",
   "metadata": {},
   "outputs": [
    {
     "data": {
      "text/plain": [
       "'Namaste'"
      ]
     },
     "execution_count": 36,
     "metadata": {},
     "output_type": "execute_result"
    }
   ],
   "source": [
    "mystring"
   ]
  },
  {
   "cell_type": "code",
   "execution_count": 215,
   "id": "02757f53",
   "metadata": {},
   "outputs": [
    {
     "name": "stdout",
     "output_type": "stream",
     "text": [
      "['N']\n",
      "['N', 'a']\n",
      "['N', 'a', 'm']\n",
      "['N', 'a', 'm', 'a']\n",
      "['N', 'a', 'm', 'a', 's']\n",
      "['N', 'a', 'm', 'a', 's', 't']\n",
      "['N', 'a', 'm', 'a', 's', 't', 'e']\n"
     ]
    }
   ],
   "source": [
    "mylist=[]\n",
    "for letter in mystring:\n",
    "    mylist.append(letter)\n",
    "    print(mylist)"
   ]
  },
  {
   "cell_type": "code",
   "execution_count": 218,
   "id": "4eea4ffc",
   "metadata": {},
   "outputs": [
    {
     "name": "stdout",
     "output_type": "stream",
     "text": [
      "['N', 'a', 'm', 'a', 's', 't', 'e']\n"
     ]
    }
   ],
   "source": [
    "mylist=[]\n",
    "for letter in mystring:\n",
    "    mylist.append(letter)\n",
    "print(mylist)\n"
   ]
  },
  {
   "cell_type": "code",
   "execution_count": 219,
   "id": "c1391e9a",
   "metadata": {},
   "outputs": [],
   "source": [
    "mylist=[letter for letter in mystring]"
   ]
  },
  {
   "cell_type": "code",
   "execution_count": 220,
   "id": "69de4db1",
   "metadata": {},
   "outputs": [
    {
     "data": {
      "text/plain": [
       "['N', 'a', 'm', 'a', 's', 't', 'e']"
      ]
     },
     "execution_count": 220,
     "metadata": {},
     "output_type": "execute_result"
    }
   ],
   "source": [
    "mylist"
   ]
  },
  {
   "cell_type": "code",
   "execution_count": 221,
   "id": "e466f2fc",
   "metadata": {},
   "outputs": [],
   "source": [
    "mstring=\"Sherlock Holmes\"\n",
    "\n",
    "mlist=[letter for letter in mstring]\n",
    "print(mlist)"
   ]
  },
  {
   "cell_type": "code",
   "execution_count": 226,
   "id": "0b77e19e",
   "metadata": {},
   "outputs": [
    {
     "name": "stdout",
     "output_type": "stream",
     "text": [
      "['5', '3', '4', '6', ' ', '5', ' ', ' ', ' ', ' ', '6', '4', '6']\n"
     ]
    }
   ],
   "source": [
    "mstring=\"5346 5    646\"\n",
    "mlist=[letter for letter in mstring]\n",
    "print(mlist)"
   ]
  },
  {
   "cell_type": "code",
   "execution_count": 38,
   "id": "e185b3a6",
   "metadata": {},
   "outputs": [
    {
     "name": "stdout",
     "output_type": "stream",
     "text": [
      "['S', 'i', 'd', 'd', 'h', 'a', 'r', 't', 'h']\n"
     ]
    }
   ],
   "source": [
    "x=[s for s in \"Siddharth\"]\n",
    "print(x)"
   ]
  },
  {
   "cell_type": "code",
   "execution_count": 228,
   "id": "c52507b3",
   "metadata": {},
   "outputs": [
    {
     "data": {
      "text/plain": [
       "['S', 'i', 'd', 'd', 'h', 'a', 'r', 't', 'h']"
      ]
     },
     "execution_count": 228,
     "metadata": {},
     "output_type": "execute_result"
    }
   ],
   "source": [
    "x"
   ]
  },
  {
   "cell_type": "code",
   "execution_count": null,
   "id": "2ea3624d",
   "metadata": {},
   "outputs": [],
   "source": []
  },
  {
   "cell_type": "code",
   "execution_count": 234,
   "id": "2711603b",
   "metadata": {},
   "outputs": [],
   "source": [
    "mylist = [n for n in range      (0,10)]"
   ]
  },
  {
   "cell_type": "code",
   "execution_count": 235,
   "id": "d8c4c892",
   "metadata": {},
   "outputs": [
    {
     "data": {
      "text/plain": [
       "[0, 1, 2, 3, 4, 5, 6, 7, 8, 9]"
      ]
     },
     "execution_count": 235,
     "metadata": {},
     "output_type": "execute_result"
    }
   ],
   "source": [
    "mylist"
   ]
  },
  {
   "cell_type": "code",
   "execution_count": 236,
   "id": "402bbeb7",
   "metadata": {},
   "outputs": [],
   "source": [
    "mylist = [n**2 for n in range(0,11)]"
   ]
  },
  {
   "cell_type": "code",
   "execution_count": 237,
   "id": "7edc39ba",
   "metadata": {},
   "outputs": [
    {
     "data": {
      "text/plain": [
       "[0, 1, 4, 9, 16, 25, 36, 49, 64, 81, 100]"
      ]
     },
     "execution_count": 237,
     "metadata": {},
     "output_type": "execute_result"
    }
   ],
   "source": [
    "mylist"
   ]
  },
  {
   "cell_type": "code",
   "execution_count": null,
   "id": "6725ded0",
   "metadata": {},
   "outputs": [],
   "source": []
  },
  {
   "cell_type": "code",
   "execution_count": 39,
   "id": "d54b6864",
   "metadata": {},
   "outputs": [
    {
     "name": "stdout",
     "output_type": "stream",
     "text": [
      "[1, 3, 5, 7, 9]\n"
     ]
    }
   ],
   "source": [
    "mylist = [x for x in range(0,11) if x%2]\n",
    "print(mylist)"
   ]
  },
  {
   "cell_type": "code",
   "execution_count": 241,
   "id": "6a7f5f0c",
   "metadata": {},
   "outputs": [
    {
     "name": "stdout",
     "output_type": "stream",
     "text": [
      "[0, 2, 4, 6, 8, 10]\n"
     ]
    }
   ],
   "source": [
    "mylist = [x for x in range(0,11) if x%2==0]\n",
    "print(mylist)"
   ]
  },
  {
   "cell_type": "code",
   "execution_count": 242,
   "id": "738f50b9",
   "metadata": {},
   "outputs": [
    {
     "name": "stdout",
     "output_type": "stream",
     "text": [
      "[1, 9, 25, 49, 81]\n"
     ]
    }
   ],
   "source": [
    "mylist = [x**2 for x in range(0,11) if x%2]\n",
    "print(mylist)"
   ]
  },
  {
   "cell_type": "code",
   "execution_count": 243,
   "id": "d415f6f6",
   "metadata": {},
   "outputs": [
    {
     "name": "stdout",
     "output_type": "stream",
     "text": [
      "[0, 4, 16, 36, 64, 100]\n"
     ]
    }
   ],
   "source": [
    "mylist = [x**2 for x in range(0,11) if x%2==0]\n",
    "print(mylist)"
   ]
  },
  {
   "cell_type": "code",
   "execution_count": 246,
   "id": "8572fc75",
   "metadata": {},
   "outputs": [
    {
     "name": "stdout",
     "output_type": "stream",
     "text": [
      "[100, 101, 102, 103, 104, 105, 106, 107, 108, 109, 110]\n"
     ]
    }
   ],
   "source": [
    "mylist = [x+100 for x in range(0,11)]\n",
    "print(mylist)"
   ]
  },
  {
   "cell_type": "code",
   "execution_count": null,
   "id": "bb3277ad",
   "metadata": {},
   "outputs": [],
   "source": []
  },
  {
   "cell_type": "code",
   "execution_count": null,
   "id": "06396a6c",
   "metadata": {},
   "outputs": [],
   "source": []
  },
  {
   "cell_type": "code",
   "execution_count": null,
   "id": "7e708e42",
   "metadata": {},
   "outputs": [],
   "source": []
  },
  {
   "cell_type": "code",
   "execution_count": 245,
   "id": "d4967091",
   "metadata": {},
   "outputs": [
    {
     "name": "stdout",
     "output_type": "stream",
     "text": [
      "[0, 10, 20, 34.5]\n",
      "[32.0, 50.0, 68.0, 94.1]\n"
     ]
    }
   ],
   "source": [
    "celcius = [0,10,20,34.5]\n",
    "\n",
    "fahrenheit = [( (9/5)*temp + 32 ) for temp in celcius]\n",
    "\n",
    "print(celcius)\n",
    "print(fahrenheit)"
   ]
  },
  {
   "cell_type": "code",
   "execution_count": 41,
   "id": "a889a409",
   "metadata": {},
   "outputs": [
    {
     "name": "stdout",
     "output_type": "stream",
     "text": [
      "[0, 273, 100, 35]\n",
      "[273.15, 546.15, 373.15, 308.15]\n"
     ]
    }
   ],
   "source": [
    "Celcius = [0,273,100,35]\n",
    "\n",
    "Kelvin = [( 273.15+temp ) for temp in Celcius]\n",
    "\n",
    "print(Celcius)\n",
    "print(Kelvin)"
   ]
  },
  {
   "cell_type": "code",
   "execution_count": 252,
   "id": "5d503a0e",
   "metadata": {},
   "outputs": [],
   "source": [
    "fahrenheit=[]\n",
    "\n",
    "for temp in celcius:\n",
    "    fahrenheit.append(celcius)"
   ]
  },
  {
   "cell_type": "code",
   "execution_count": 253,
   "id": "246646bb",
   "metadata": {},
   "outputs": [
    {
     "name": "stdout",
     "output_type": "stream",
     "text": [
      "[[0, 10, 20, 34.5], [0, 10, 20, 34.5], [0, 10, 20, 34.5], [0, 10, 20, 34.5]]\n"
     ]
    }
   ],
   "source": [
    "print(fahrenheit)"
   ]
  },
  {
   "cell_type": "code",
   "execution_count": 254,
   "id": "66b5f051",
   "metadata": {},
   "outputs": [],
   "source": [
    "fahrenheit=[]\n",
    "\n",
    "for temp in celcius:\n",
    "    fahrenheit.append(( (9/5)*temp +32 ) )"
   ]
  },
  {
   "cell_type": "code",
   "execution_count": 255,
   "id": "5dc4d945",
   "metadata": {},
   "outputs": [
    {
     "name": "stdout",
     "output_type": "stream",
     "text": [
      "[32.0, 50.0, 68.0, 94.1]\n"
     ]
    }
   ],
   "source": [
    "print(fahrenheit)"
   ]
  },
  {
   "cell_type": "code",
   "execution_count": null,
   "id": "eeb40a61",
   "metadata": {},
   "outputs": [],
   "source": []
  },
  {
   "cell_type": "code",
   "execution_count": null,
   "id": "c7d0c77c",
   "metadata": {},
   "outputs": [],
   "source": []
  },
  {
   "cell_type": "code",
   "execution_count": null,
   "id": "a88a656d",
   "metadata": {},
   "outputs": [],
   "source": []
  },
  {
   "cell_type": "code",
   "execution_count": 49,
   "id": "aed985af",
   "metadata": {},
   "outputs": [],
   "source": [
    "MYLIST = [x for x in range(0,11) if x%2==0]\n",
    "# if statement "
   ]
  },
  {
   "cell_type": "code",
   "execution_count": 47,
   "id": "a723584a",
   "metadata": {},
   "outputs": [
    {
     "data": {
      "text/plain": [
       "[0, 2, 4, 6, 8, 10]"
      ]
     },
     "execution_count": 47,
     "metadata": {},
     "output_type": "execute_result"
    }
   ],
   "source": [
    "MYLIST"
   ]
  },
  {
   "cell_type": "code",
   "execution_count": null,
   "id": "5e87c6fe",
   "metadata": {},
   "outputs": [],
   "source": []
  },
  {
   "cell_type": "code",
   "execution_count": null,
   "id": "3c8e3429",
   "metadata": {},
   "outputs": [],
   "source": []
  },
  {
   "cell_type": "code",
   "execution_count": 48,
   "id": "7b540577",
   "metadata": {},
   "outputs": [
    {
     "name": "stdout",
     "output_type": "stream",
     "text": [
      "[0, 'Odd no.', 2, 'Odd no.', 4, 'Odd no.', 6, 'Odd no.', 8, 'Odd no.', 10]\n"
     ]
    }
   ],
   "source": [
    "# if-else statement\n",
    "\n",
    "results = [x if x%2==0 else \"Odd no.\" for x in range(0,11)] \n",
    "\n",
    "print(results)"
   ]
  },
  {
   "cell_type": "code",
   "execution_count": 50,
   "id": "928b9904",
   "metadata": {},
   "outputs": [
    {
     "name": "stdout",
     "output_type": "stream",
     "text": [
      "[0, 99, 2, 99, 4, 99, 6, 99, 8, 99, 10]\n"
     ]
    }
   ],
   "source": [
    "# if-else statement\n",
    "\n",
    "results = [x if x%2==0 else 99 for x in range(0,11)] \n",
    "\n",
    "print(results)"
   ]
  },
  {
   "cell_type": "code",
   "execution_count": null,
   "id": "91335245",
   "metadata": {},
   "outputs": [],
   "source": []
  },
  {
   "cell_type": "code",
   "execution_count": 269,
   "id": "3fc7fe10",
   "metadata": {},
   "outputs": [
    {
     "name": "stdout",
     "output_type": "stream",
     "text": [
      "[2, 20, 200000, 1, 10, 100000, 6, 60, 600000]\n"
     ]
    }
   ],
   "source": [
    "nestedloop = []\n",
    "\n",
    "for x in [2,1,6]:\n",
    "    for y in [1,10,100000]:\n",
    "        nestedloop.append(x*y)\n",
    "        \n",
    "print(nestedloop)\n"
   ]
  },
  {
   "cell_type": "code",
   "execution_count": 271,
   "id": "11f245c7",
   "metadata": {},
   "outputs": [
    {
     "name": "stdout",
     "output_type": "stream",
     "text": [
      "[2, 20, 200000, 1, 10, 100000, 6, 60, 600000]\n"
     ]
    }
   ],
   "source": [
    "nestedloop = [x*y for x in [2,1,6] for y in [1,10,100000]]\n",
    "print(nestedloop)"
   ]
  },
  {
   "cell_type": "code",
   "execution_count": null,
   "id": "89bc25fc",
   "metadata": {},
   "outputs": [],
   "source": []
  },
  {
   "cell_type": "markdown",
   "id": "a772c3c3",
   "metadata": {},
   "source": [
    "# NEXT FILE PyJUPYTER6th"
   ]
  },
  {
   "cell_type": "code",
   "execution_count": null,
   "id": "cf9f1d9e",
   "metadata": {},
   "outputs": [],
   "source": []
  }
 ],
 "metadata": {
  "kernelspec": {
   "display_name": "Python 3 (ipykernel)",
   "language": "python",
   "name": "python3"
  },
  "language_info": {
   "codemirror_mode": {
    "name": "ipython",
    "version": 3
   },
   "file_extension": ".py",
   "mimetype": "text/x-python",
   "name": "python",
   "nbconvert_exporter": "python",
   "pygments_lexer": "ipython3",
   "version": "3.8.6"
  }
 },
 "nbformat": 4,
 "nbformat_minor": 5
}
