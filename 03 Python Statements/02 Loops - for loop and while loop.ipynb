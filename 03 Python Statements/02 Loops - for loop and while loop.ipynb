{
 "cells": [
  {
   "cell_type": "markdown",
   "id": "a7183331",
   "metadata": {},
   "source": [
    "- for loop\n",
    "- while loop"
   ]
  },
  {
   "cell_type": "markdown",
   "id": "ccf9b56b",
   "metadata": {},
   "source": [
    "# FOR LOOPS IN PYTHON"
   ]
  },
  {
   "cell_type": "code",
   "execution_count": 1,
   "id": "8d047bd4",
   "metadata": {},
   "outputs": [],
   "source": [
    "mylist = [1,2,3,4,5,6,7,8,9,10]"
   ]
  },
  {
   "cell_type": "code",
   "execution_count": 2,
   "id": "e7253a9e",
   "metadata": {},
   "outputs": [
    {
     "name": "stdout",
     "output_type": "stream",
     "text": [
      "1\n",
      "2\n",
      "3\n",
      "4\n",
      "5\n",
      "6\n",
      "7\n",
      "8\n",
      "9\n",
      "10\n"
     ]
    }
   ],
   "source": [
    "for num in mylist:\n",
    "    print(num)"
   ]
  },
  {
   "cell_type": "code",
   "execution_count": 3,
   "id": "6a2b688c",
   "metadata": {},
   "outputs": [
    {
     "name": "stdout",
     "output_type": "stream",
     "text": [
      "10\n",
      "10\n",
      "10\n",
      "10\n",
      "10\n",
      "10\n",
      "10\n",
      "10\n",
      "10\n",
      "10\n"
     ]
    }
   ],
   "source": [
    "for cadbury in mylist:\n",
    "    print(num)\n",
    "# it will give output as '10' 10 times 'cause num was set as 10 in previous loop\n",
    "# if wasnt then it would have shown error as num is not defined"
   ]
  },
  {
   "cell_type": "code",
   "execution_count": 4,
   "id": "8702b7eb",
   "metadata": {},
   "outputs": [],
   "source": [
    "# for num in mylist:\n",
    "#     print(num2)\n",
    "# error cause here num2 is not defined"
   ]
  },
  {
   "cell_type": "code",
   "execution_count": 5,
   "id": "d279cf22",
   "metadata": {},
   "outputs": [
    {
     "name": "stdout",
     "output_type": "stream",
     "text": [
      "10\n",
      "10\n",
      "10\n",
      "10\n",
      "10\n",
      "10\n",
      "10\n",
      "10\n",
      "10\n",
      "10\n"
     ]
    }
   ],
   "source": [
    "for sd in mylist:\n",
    "    print(num)"
   ]
  },
  {
   "cell_type": "code",
   "execution_count": 6,
   "id": "d09f5e9a",
   "metadata": {},
   "outputs": [
    {
     "name": "stdout",
     "output_type": "stream",
     "text": [
      "10\n",
      "10\n",
      "10\n",
      "10\n",
      "10\n",
      "10\n",
      "10\n",
      "10\n",
      "10\n",
      "10\n"
     ]
    }
   ],
   "source": [
    "for num in mylist:\n",
    "    print(cadbury)"
   ]
  },
  {
   "cell_type": "code",
   "execution_count": 7,
   "id": "101ca953",
   "metadata": {},
   "outputs": [
    {
     "name": "stdout",
     "output_type": "stream",
     "text": [
      "10\n",
      "10\n",
      "10\n",
      "10\n",
      "10\n",
      "10\n",
      "10\n",
      "10\n",
      "10\n",
      "10\n"
     ]
    }
   ],
   "source": [
    "for cadbury in mylist:\n",
    "    print(num)"
   ]
  },
  {
   "cell_type": "code",
   "execution_count": null,
   "id": "31d4c5b5",
   "metadata": {},
   "outputs": [],
   "source": []
  },
  {
   "cell_type": "code",
   "execution_count": 8,
   "id": "309cdf1f",
   "metadata": {},
   "outputs": [
    {
     "name": "stdout",
     "output_type": "stream",
     "text": [
      "1\n",
      "2\n",
      "3\n",
      "4\n",
      "5\n",
      "6\n",
      "7\n",
      "8\n",
      "9\n",
      "10\n",
      "string\n"
     ]
    }
   ],
   "source": [
    "mylist2 = [1,2,3,4,5,6,7,8,9,10,'string']\n",
    "\n",
    "for item in mylist2:\n",
    "    print(item)"
   ]
  },
  {
   "cell_type": "code",
   "execution_count": 9,
   "id": "b04e041a",
   "metadata": {},
   "outputs": [
    {
     "name": "stdout",
     "output_type": "stream",
     "text": [
      "The Consultive Detective\n",
      "The Consultive Detective\n",
      "The Consultive Detective\n",
      "The Consultive Detective\n",
      "The Consultive Detective\n",
      "The Consultive Detective\n",
      "The Consultive Detective\n",
      "The Consultive Detective\n",
      "The Consultive Detective\n",
      "The Consultive Detective\n",
      "The Consultive Detective\n"
     ]
    }
   ],
   "source": [
    "mylist2 = [1,2,3,4,5,6,7,8,9,10,'string']\n",
    "\n",
    "for detective in mylist2:\n",
    "    print(\"The Consultive Detective\")"
   ]
  },
  {
   "cell_type": "code",
   "execution_count": 10,
   "id": "d363e32e",
   "metadata": {},
   "outputs": [
    {
     "name": "stdout",
     "output_type": "stream",
     "text": [
      "2\n",
      "4\n",
      "6\n",
      "8\n",
      "10\n"
     ]
    }
   ],
   "source": [
    "mylist2 = [1,2,3,4,5,6,7,8,9,10]\n",
    "    #check for even\n",
    "for num in mylist2:\n",
    "    if num%2 ==0 :\n",
    "        print(num)"
   ]
  },
  {
   "cell_type": "code",
   "execution_count": 11,
   "id": "849fc67f",
   "metadata": {},
   "outputs": [],
   "source": [
    "# mylist2 = [1,2,3,4,5,6,7,8,9,10,'string']\n",
    "#     #check for even\n",
    "# for num in mylist2:\n",
    "#     if num%2 ==0 :\n",
    "#         print(num)\n",
    "        \n",
    "# # this code will WORK BUT show type error at last\n",
    "# #TypeError: not all arguments converted during string formatting\n",
    "# # SINCE THERE IS A STRING IN THE LIST"
   ]
  },
  {
   "cell_type": "code",
   "execution_count": 12,
   "id": "c14204b5",
   "metadata": {},
   "outputs": [
    {
     "name": "stdout",
     "output_type": "stream",
     "text": [
      "odd number\n",
      "2\n",
      "odd number\n",
      "4\n",
      "odd number\n",
      "6\n",
      "odd number\n",
      "8\n",
      "odd number\n",
      "10\n"
     ]
    }
   ],
   "source": [
    "mylist2 = [1,2,3,4,5,6,7,8,9,10]\n",
    "    #check for even\n",
    "for num in mylist2:\n",
    "    if num%2 ==0 :\n",
    "        print(num)\n",
    "    else :\n",
    "        print('odd number')"
   ]
  },
  {
   "cell_type": "code",
   "execution_count": 13,
   "id": "e30b5bbb",
   "metadata": {},
   "outputs": [
    {
     "name": "stdout",
     "output_type": "stream",
     "text": [
      "odd number: 1\n",
      "2 is even number\n",
      "odd number: 3\n",
      "4 is even number\n",
      "odd number: 5\n",
      "6 is even number\n",
      "odd number: 7\n",
      "8 is even number\n",
      "odd number: 9\n",
      "10 is even number\n"
     ]
    }
   ],
   "source": [
    "mylist2 = [1,2,3,4,5,6,7,8,9,10]\n",
    "    #check for even\n",
    "for num in mylist2:\n",
    "    if num%2 ==0 :\n",
    "        print(f\"{num} is even number\")\n",
    "    else :\n",
    "        print(f'odd number: {num}')"
   ]
  },
  {
   "cell_type": "code",
   "execution_count": 14,
   "id": "83b3c6c3",
   "metadata": {},
   "outputs": [
    {
     "name": "stdout",
     "output_type": "stream",
     "text": [
      "odd number:  1\n",
      "even number: 2\n",
      "odd number:  3\n",
      "even number: 4\n",
      "odd number:  5\n",
      "even number: 6\n",
      "odd number:  7\n",
      "even number: 8\n",
      "odd number:  9\n",
      "even number: 10\n"
     ]
    }
   ],
   "source": [
    "mylist2 = [1,2,3,4,5,6,7,8,9,10]\n",
    "#check for even and odd\n",
    "for num in mylist2:\n",
    "    if num%2 ==0 :\n",
    "        print(f\"even number: {num}\")\n",
    "    else :\n",
    "        print(f'odd number:  {num}')"
   ]
  },
  {
   "cell_type": "code",
   "execution_count": null,
   "id": "92c4a47b",
   "metadata": {},
   "outputs": [],
   "source": []
  },
  {
   "cell_type": "code",
   "execution_count": 15,
   "id": "a04c5f5d",
   "metadata": {},
   "outputs": [
    {
     "name": "stdout",
     "output_type": "stream",
     "text": [
      "J\n",
      "a\n",
      "p\n",
      "a\n",
      "n\n",
      "\n",
      "\n",
      "4\n",
      ",\n",
      "4\n",
      "3\n",
      "4\n",
      ",\n",
      "3\n",
      ";\n",
      "4\n",
      ",\n",
      "4\n",
      "\n",
      "\n",
      "\n",
      "\n",
      "\n",
      "\n",
      "\n",
      "\n"
     ]
    }
   ],
   "source": [
    "country=\"Japan\\n\"\n",
    "# in loop a is character  \n",
    "for a in country:        \n",
    "    print(a)\n",
    "b=\"4,434,3;4,4\\n\\n\\n\\n\"\n",
    "for item in b:\n",
    "    print(item)"
   ]
  },
  {
   "cell_type": "code",
   "execution_count": null,
   "id": "bf427158",
   "metadata": {},
   "outputs": [],
   "source": []
  },
  {
   "cell_type": "code",
   "execution_count": 16,
   "id": "72d7805d",
   "metadata": {},
   "outputs": [],
   "source": [
    "# a1= 1\n",
    "# b1= 0\n",
    "# s=0\n",
    "# while (9):\n",
    "#     s=s+1\n",
    "#     print(s)\n",
    "\n",
    "# the infinite no. will be printed"
   ]
  },
  {
   "cell_type": "code",
   "execution_count": null,
   "id": "d11ee825",
   "metadata": {},
   "outputs": [],
   "source": []
  },
  {
   "cell_type": "code",
   "execution_count": 17,
   "id": "3e596049",
   "metadata": {},
   "outputs": [
    {
     "name": "stdout",
     "output_type": "stream",
     "text": [
      "1\n",
      "2\n",
      "7\n",
      "4\n",
      "5\n",
      "6\n",
      "7\n",
      "8\n",
      "9\n",
      "10\n"
     ]
    }
   ],
   "source": [
    "list2 = [1,2,7,4,5,6,7,8,9,10]\n",
    "s=1\n",
    "for i in list2:    \n",
    "    print(i)"
   ]
  },
  {
   "cell_type": "code",
   "execution_count": 18,
   "id": "f818f260",
   "metadata": {
    "scrolled": false
   },
   "outputs": [
    {
     "name": "stdout",
     "output_type": "stream",
     "text": [
      "1\n",
      "3\n",
      "6\n",
      "10\n",
      "15\n",
      "21\n",
      "28\n",
      "36\n",
      "45\n",
      "55\n"
     ]
    }
   ],
   "source": [
    "list2 = [1,2,3,4,5,6,7,8,9,10]\n",
    "s=0\n",
    "for i in list2:\n",
    "    s = s + i\n",
    "    print(s)"
   ]
  },
  {
   "cell_type": "code",
   "execution_count": 19,
   "id": "26bf343e",
   "metadata": {},
   "outputs": [
    {
     "name": "stdout",
     "output_type": "stream",
     "text": [
      "1\n",
      "3\n",
      "6\n",
      "10\n",
      "15\n",
      "21\n",
      "28\n",
      "36\n",
      "45\n",
      "55\n",
      "LIST: [1, 2, 3, 4, 5, 6, 7, 8, 9, 10]\n",
      "55\n"
     ]
    }
   ],
   "source": [
    "mylist = [1,2,3,4,5,6,7,8,9,10]\n",
    "list_sum = 0\n",
    "\n",
    "for num in mylist:\n",
    "    list_sum = list_sum + num\n",
    "    print(list_sum)\n",
    "    \n",
    "    \n",
    "print('LIST:', mylist)\n",
    "print(list_sum)"
   ]
  },
  {
   "cell_type": "code",
   "execution_count": 20,
   "id": "9332eb08",
   "metadata": {},
   "outputs": [
    {
     "name": "stdout",
     "output_type": "stream",
     "text": [
      "1\n",
      "3\n",
      "6\n",
      "10\n",
      "15\n",
      "21\n",
      "28\n",
      "36\n",
      "45\n",
      "55\n",
      "[1, 2, 3, 4, 5, 6, 7, 8, 9, 10]\n",
      "55\n"
     ]
    }
   ],
   "source": [
    "mylist = [1,2,3,4,5,6,7,8,9,10]\n",
    "list_sum = 0\n",
    "for num in mylist:\n",
    "    list_sum += num\n",
    "    \n",
    "    print(list_sum)\n",
    "    \n",
    "    \n",
    "print(mylist)\n",
    "\n",
    "print(list_sum)"
   ]
  },
  {
   "cell_type": "code",
   "execution_count": 21,
   "id": "f677ad56",
   "metadata": {},
   "outputs": [
    {
     "name": "stdout",
     "output_type": "stream",
     "text": [
      "[1, 2, 3, 4, 5, 6, 7, 8, 9, 10]\n",
      "55\n"
     ]
    }
   ],
   "source": [
    "mylist = [1,2,3,4,5,6,7,8,9,10]\n",
    "list_sum = 0\n",
    "for num in mylist:\n",
    "    list_sum = list_sum + num\n",
    "    \n",
    "print(mylist)\n",
    "\n",
    "print(list_sum) ##### THE INDENTATION POWER"
   ]
  },
  {
   "cell_type": "code",
   "execution_count": 22,
   "id": "e06f6091",
   "metadata": {},
   "outputs": [
    {
     "name": "stdout",
     "output_type": "stream",
     "text": [
      "[1, 2, 3, 4, 5, 6, 7, 8, 9, 10]\n",
      "[1, 2, 3, 4, 5, 6, 7, 8, 9, 10]\n",
      "[1, 2, 3, 4, 5, 6, 7, 8, 9, 10]\n",
      "[1, 2, 3, 4, 5, 6, 7, 8, 9, 10]\n",
      "[1, 2, 3, 4, 5, 6, 7, 8, 9, 10]\n",
      "[1, 2, 3, 4, 5, 6, 7, 8, 9, 10]\n",
      "[1, 2, 3, 4, 5, 6, 7, 8, 9, 10]\n",
      "[1, 2, 3, 4, 5, 6, 7, 8, 9, 10]\n",
      "[1, 2, 3, 4, 5, 6, 7, 8, 9, 10]\n",
      "[1, 2, 3, 4, 5, 6, 7, 8, 9, 10]\n",
      "55\n"
     ]
    }
   ],
   "source": [
    "mylist = [1,2,3,4,5,6,7,8,9,10]\n",
    "list_sum = 0\n",
    "for num in mylist:\n",
    "    list_sum = list_sum + num\n",
    "    \n",
    "    print(mylist)\n",
    "\n",
    "print(list_sum)"
   ]
  },
  {
   "cell_type": "code",
   "execution_count": null,
   "id": "c6e6ac6d",
   "metadata": {},
   "outputs": [],
   "source": []
  },
  {
   "cell_type": "code",
   "execution_count": 23,
   "id": "1f78ca04",
   "metadata": {},
   "outputs": [
    {
     "name": "stdout",
     "output_type": "stream",
     "text": [
      "N\n",
      "e\n",
      "w\n",
      " \n",
      "Y\n",
      "o\n",
      "r\n",
      "k\n",
      " \n",
      "C\n",
      "i\n",
      "t\n",
      "y\n"
     ]
    }
   ],
   "source": [
    "mystring=\"New York City\"\n",
    "for letter in mystring:\n",
    "    print(letter)"
   ]
  },
  {
   "cell_type": "code",
   "execution_count": 24,
   "id": "a5381669",
   "metadata": {},
   "outputs": [
    {
     "name": "stdout",
     "output_type": "stream",
     "text": [
      "N\n",
      "e\n",
      "w\n",
      " \n",
      "Y\n",
      "o\n",
      "r\n",
      "k\n",
      " \n",
      "C\n",
      "i\n",
      "t\n",
      "y\n"
     ]
    }
   ],
   "source": [
    "for letter in \"New York City\": #No need to assign variable for string \n",
    "    print(letter)"
   ]
  },
  {
   "cell_type": "code",
   "execution_count": 25,
   "id": "84e0598c",
   "metadata": {},
   "outputs": [
    {
     "name": "stdout",
     "output_type": "stream",
     "text": [
      "N\n",
      "e\n",
      "w\n",
      " \n",
      "Y\n",
      "o\n",
      "r\n",
      "k\n",
      " \n",
      "C\n",
      "i\n",
      "t\n",
      "y\n"
     ]
    }
   ],
   "source": [
    "for dfdr in \"New York City\":\n",
    "    print(dfdr)"
   ]
  },
  {
   "cell_type": "code",
   "execution_count": 26,
   "id": "817edc60",
   "metadata": {},
   "outputs": [
    {
     "name": "stdout",
     "output_type": "stream",
     "text": [
      "Cool\n",
      "Cool\n",
      "Cool\n",
      "Cool\n",
      "Cool\n",
      "Cool\n",
      "Cool\n",
      "Cool\n",
      "Cool\n",
      "Cool\n",
      "Cool\n",
      "Cool\n",
      "Cool\n"
     ]
    }
   ],
   "source": [
    "for dfdr in \"New York City\":\n",
    "    print('Cool')"
   ]
  },
  {
   "cell_type": "code",
   "execution_count": 27,
   "id": "3c11e41f",
   "metadata": {},
   "outputs": [
    {
     "name": "stdout",
     "output_type": "stream",
     "text": [
      "N\n",
      "e\n",
      "w\n",
      " \n",
      "Y\n",
      "o\n",
      "r\n",
      "k\n"
     ]
    }
   ],
   "source": [
    "for _ in \"New York\":\n",
    "    print(_)"
   ]
  },
  {
   "cell_type": "code",
   "execution_count": 28,
   "id": "59f86808",
   "metadata": {
    "scrolled": true
   },
   "outputs": [
    {
     "name": "stdout",
     "output_type": "stream",
     "text": [
      "Only underscore is allowed\n",
      "Only underscore is allowed\n",
      "Only underscore is allowed\n",
      "Only underscore is allowed\n",
      "Only underscore is allowed\n",
      "Only underscore is allowed\n",
      "Only underscore is allowed\n",
      "Only underscore is allowed\n"
     ]
    }
   ],
   "source": [
    "for _ in \"New York\":\n",
    "    print('Only underscore is allowed')"
   ]
  },
  {
   "cell_type": "code",
   "execution_count": null,
   "id": "56b80431",
   "metadata": {},
   "outputs": [],
   "source": []
  },
  {
   "cell_type": "code",
   "execution_count": 29,
   "id": "5afc53f7",
   "metadata": {},
   "outputs": [
    {
     "name": "stdout",
     "output_type": "stream",
     "text": [
      "Sherlock\n",
      "Ravi\n",
      "Mumbai\n",
      "Las Vegas\n"
     ]
    }
   ],
   "source": [
    "list_of_words = [\"Sherlock\", \"Ravi\", \"Mumbai\", \"Las Vegas\"]\n",
    "\n",
    "for word in list_of_words:\n",
    "    print(word)"
   ]
  },
  {
   "cell_type": "code",
   "execution_count": 30,
   "id": "fa0b5e5b",
   "metadata": {},
   "outputs": [
    {
     "name": "stdout",
     "output_type": "stream",
     "text": [
      "S\n",
      "h\n",
      "e\n",
      "r\n",
      "l\n",
      "o\n",
      "c\n",
      "k\n",
      "R\n",
      "a\n",
      "v\n",
      "i\n",
      "M\n",
      "u\n",
      "m\n",
      "b\n",
      "a\n",
      "i\n",
      "L\n",
      "a\n",
      "s\n",
      " \n",
      "V\n",
      "e\n",
      "g\n",
      "a\n",
      "s\n"
     ]
    }
   ],
   "source": [
    "list_of_words = [\"Sherlock\", \"Ravi\", \"Mumbai\", \"Las Vegas\"]\n",
    "\n",
    "for word in list_of_words:\n",
    "    for letter in word:\n",
    "        print(letter)"
   ]
  },
  {
   "cell_type": "code",
   "execution_count": 31,
   "id": "718817b4",
   "metadata": {},
   "outputs": [
    {
     "name": "stdout",
     "output_type": "stream",
     "text": [
      "(1, 'a')\n",
      "(2, 'b')\n",
      "(3, 'c')\n"
     ]
    }
   ],
   "source": [
    "# zip() is a built-in Python function that takes iterables (such as lists, tuples, etc.) \n",
    "# as arguments and returns an iterator that produces tuples by aggregating elements \n",
    "# from each iterable passed into it. It stops when the shortest input iterable is exhausted.\n",
    "\n",
    "# simple example\n",
    "list1 = [1, 2, 3]\n",
    "list2 = ['a', 'b', 'c']\n",
    "\n",
    "zipped = zip(list1, list2)\n",
    "\n",
    "for item in zipped:\n",
    "    print(item)"
   ]
  },
  {
   "cell_type": "code",
   "execution_count": 32,
   "id": "d9bb4b64",
   "metadata": {},
   "outputs": [
    {
     "name": "stdout",
     "output_type": "stream",
     "text": [
      "word: Steve\n",
      "word[1:]: teve\n"
     ]
    }
   ],
   "source": [
    "word = \"Steve\"\n",
    "print(f\"word: {word}\")\n",
    "print(f\"word[1:]: {word[1:]}\")"
   ]
  },
  {
   "cell_type": "code",
   "execution_count": 33,
   "id": "4930ff16",
   "metadata": {},
   "outputs": [
    {
     "name": "stdout",
     "output_type": "stream",
     "text": [
      "S t\n",
      "t e\n",
      "e v\n",
      "v e\n"
     ]
    }
   ],
   "source": [
    "# print first two letter of same word iteratively\n",
    "for character1, character2 in zip(word, word[1:]) :\n",
    "        print(character1, character2)"
   ]
  },
  {
   "cell_type": "code",
   "execution_count": 34,
   "id": "a814a38a",
   "metadata": {},
   "outputs": [
    {
     "name": "stdout",
     "output_type": "stream",
     "text": [
      "S t e\n",
      "t e v\n",
      "e v e\n"
     ]
    }
   ],
   "source": [
    "# print first three letter of same word  iteratively\n",
    "for character1, character2, character3 in zip(word, word[1:], word[2:]) :\n",
    "        print(character1, character2, character3)"
   ]
  },
  {
   "cell_type": "code",
   "execution_count": 35,
   "id": "a9737510",
   "metadata": {},
   "outputs": [
    {
     "name": "stdout",
     "output_type": "stream",
     "text": [
      "S h\n",
      "h e\n",
      "e r\n",
      "r l\n",
      "l o\n",
      "o c\n",
      "c k\n"
     ]
    }
   ],
   "source": [
    "list_of_words = [\"Sherlock\", \"Ravi\", \"Mumbai\", \"Las Vegas\"]\n",
    "\n",
    "for word in list_of_words[:1]:\n",
    "    for character1, character2 in zip(word, word[1:]) :\n",
    "        print(character1, character2)"
   ]
  },
  {
   "cell_type": "code",
   "execution_count": 36,
   "id": "120f777d",
   "metadata": {},
   "outputs": [
    {
     "name": "stdout",
     "output_type": "stream",
     "text": [
      "S h\n",
      "h e\n",
      "e r\n",
      "r l\n",
      "l o\n",
      "o c\n",
      "c k\n",
      "R a\n",
      "a v\n",
      "v i\n",
      "M u\n",
      "u m\n",
      "m b\n",
      "b a\n",
      "a i\n",
      "L a\n",
      "a s\n",
      "s  \n",
      "  V\n",
      "V e\n",
      "e g\n",
      "g a\n",
      "a s\n"
     ]
    }
   ],
   "source": [
    "list_of_words = [\"Sherlock\", \"Ravi\", \"Mumbai\", \"Las Vegas\"]\n",
    "\n",
    "for word in list_of_words:\n",
    "    for character1, character2 in zip(word, word[1:]) :\n",
    "        print(character1, character2)"
   ]
  },
  {
   "cell_type": "code",
   "execution_count": null,
   "id": "98411412",
   "metadata": {},
   "outputs": [],
   "source": []
  },
  {
   "cell_type": "code",
   "execution_count": null,
   "id": "0fea2f2c",
   "metadata": {},
   "outputs": [],
   "source": []
  },
  {
   "cell_type": "code",
   "execution_count": null,
   "id": "3cf80381",
   "metadata": {},
   "outputs": [],
   "source": []
  },
  {
   "cell_type": "code",
   "execution_count": 37,
   "id": "a08fdde2",
   "metadata": {},
   "outputs": [
    {
     "name": "stdout",
     "output_type": "stream",
     "text": [
      "1\n",
      "2\n",
      "3\n"
     ]
    }
   ],
   "source": [
    "tup=(1,2,3)\n",
    "\n",
    "for item in tup:\n",
    "    print(item)"
   ]
  },
  {
   "cell_type": "code",
   "execution_count": null,
   "id": "14d7f749",
   "metadata": {},
   "outputs": [],
   "source": []
  },
  {
   "cell_type": "code",
   "execution_count": 38,
   "id": "0458399b",
   "metadata": {},
   "outputs": [],
   "source": [
    "#Tuple have special quality in 'for loop'\n",
    "## TUPLE UNPACKING"
   ]
  },
  {
   "cell_type": "code",
   "execution_count": 39,
   "id": "2396421c",
   "metadata": {},
   "outputs": [
    {
     "data": {
      "text/plain": [
       "4"
      ]
     },
     "execution_count": 39,
     "metadata": {},
     "output_type": "execute_result"
    }
   ],
   "source": [
    "mylist=[(1,2),(3,4),(5,6),(7,8)]\n",
    "len(mylist)"
   ]
  },
  {
   "cell_type": "code",
   "execution_count": 40,
   "id": "13b5d5ae",
   "metadata": {},
   "outputs": [
    {
     "name": "stdout",
     "output_type": "stream",
     "text": [
      "(1, 2)\n",
      "(3, 4)\n",
      "(5, 6)\n",
      "(7, 8)\n"
     ]
    }
   ],
   "source": [
    "for item  in mylist:\n",
    "    print(item)"
   ]
  },
  {
   "cell_type": "code",
   "execution_count": 41,
   "id": "e62952d8",
   "metadata": {},
   "outputs": [
    {
     "name": "stdout",
     "output_type": "stream",
     "text": [
      "(1, 2)\n",
      "(3, 4)\n",
      "(5, 6)\n",
      "(7, 8)\n"
     ]
    }
   ],
   "source": [
    "for (a,b)  in mylist:\n",
    "    print((a,b))"
   ]
  },
  {
   "cell_type": "code",
   "execution_count": 42,
   "id": "e81c8e93",
   "metadata": {
    "scrolled": true
   },
   "outputs": [
    {
     "name": "stdout",
     "output_type": "stream",
     "text": [
      "1 2\n",
      "3 4\n",
      "5 6\n",
      "7 8\n"
     ]
    }
   ],
   "source": [
    "for a,b  in mylist:\n",
    "    print(a,b)"
   ]
  },
  {
   "cell_type": "code",
   "execution_count": 43,
   "id": "b81b1f1a",
   "metadata": {},
   "outputs": [
    {
     "name": "stdout",
     "output_type": "stream",
     "text": [
      "[(1, 2), (3, 4), (5, 6), (7, 8)]\n"
     ]
    }
   ],
   "source": [
    "print(mylist)"
   ]
  },
  {
   "cell_type": "code",
   "execution_count": 44,
   "id": "525cbb03",
   "metadata": {},
   "outputs": [
    {
     "name": "stdout",
     "output_type": "stream",
     "text": [
      "1\n",
      "2\n",
      "3\n",
      "4\n",
      "5\n",
      "6\n",
      "7\n",
      "8\n"
     ]
    }
   ],
   "source": [
    "for a,b  in mylist:\n",
    "    print(a)\n",
    "    print(b)\n",
    "    \n",
    "### THIS IS KNOW AS TUPLE UNPACKING\n",
    "### WHERE WE CAN DUBLICATE THE STRUCTURE OF THE ITEM\n",
    "### (IN THIS CASE TUPLES INSIDE OF THE SEQUENCE AND \"UNPACKED\" THEM)\n",
    "### NOW WE HAVE ACCES TO INDIVIDUAL ITEMS"
   ]
  },
  {
   "cell_type": "code",
   "execution_count": 45,
   "id": "b470f5a3",
   "metadata": {},
   "outputs": [
    {
     "name": "stdout",
     "output_type": "stream",
     "text": [
      "1\n",
      "1\n",
      "2\n",
      "3\n",
      "3\n",
      "4\n",
      "5\n",
      "5\n",
      "6\n",
      "7\n",
      "7\n",
      "8\n"
     ]
    }
   ],
   "source": [
    "for a,b in mylist:\n",
    "    print(a)\n",
    "    print(a)\n",
    "    print(b)"
   ]
  },
  {
   "cell_type": "code",
   "execution_count": 46,
   "id": "be8790a1",
   "metadata": {},
   "outputs": [
    {
     "name": "stdout",
     "output_type": "stream",
     "text": [
      "2\n",
      "4\n",
      "6\n",
      "8\n"
     ]
    }
   ],
   "source": [
    "for (a,b)  in mylist:\n",
    "    print(b)\n",
    "    \n",
    "### THERE IS NO NEED OF PARENTHESIS IN THE FIRST LINE \n",
    "### WE CAN SIMPLY JUST WRITE ---> a,b"
   ]
  },
  {
   "cell_type": "code",
   "execution_count": 47,
   "id": "7e8b21e7",
   "metadata": {},
   "outputs": [
    {
     "name": "stdout",
     "output_type": "stream",
     "text": [
      "1\n",
      "3\n",
      "5\n",
      "7\n"
     ]
    }
   ],
   "source": [
    "for a,b  in mylist:\n",
    "    print(a)"
   ]
  },
  {
   "cell_type": "code",
   "execution_count": null,
   "id": "4379fd56",
   "metadata": {},
   "outputs": [],
   "source": []
  },
  {
   "cell_type": "code",
   "execution_count": null,
   "id": "981126f0",
   "metadata": {},
   "outputs": [],
   "source": []
  },
  {
   "cell_type": "code",
   "execution_count": 48,
   "id": "28a028c0",
   "metadata": {},
   "outputs": [],
   "source": [
    "mylist=[(1,2,3),(5,6,7),(8,9,10),(11,12,13)]"
   ]
  },
  {
   "cell_type": "code",
   "execution_count": 49,
   "id": "b8483062",
   "metadata": {},
   "outputs": [
    {
     "name": "stdout",
     "output_type": "stream",
     "text": [
      "(1, 2, 3)\n",
      "(5, 6, 7)\n",
      "(8, 9, 10)\n",
      "(11, 12, 13)\n"
     ]
    }
   ],
   "source": [
    "for item in mylist:\n",
    "    print(item)       # print tuple"
   ]
  },
  {
   "cell_type": "code",
   "execution_count": 50,
   "id": "c6941fcb",
   "metadata": {},
   "outputs": [
    {
     "name": "stdout",
     "output_type": "stream",
     "text": [
      "1 2 3\n",
      "5 6 7\n",
      "8 9 10\n",
      "11 12 13\n"
     ]
    }
   ],
   "source": [
    "for a,b,c in mylist:\n",
    "    print(a, b, c)     # print items of tuple"
   ]
  },
  {
   "cell_type": "code",
   "execution_count": 51,
   "id": "4893aba1",
   "metadata": {},
   "outputs": [
    {
     "name": "stdout",
     "output_type": "stream",
     "text": [
      "2\n",
      "6\n",
      "9\n",
      "12\n"
     ]
    }
   ],
   "source": [
    "for a,b,c in mylist:\n",
    "    print(b)"
   ]
  },
  {
   "cell_type": "code",
   "execution_count": 52,
   "id": "5afc36e0",
   "metadata": {},
   "outputs": [
    {
     "name": "stdout",
     "output_type": "stream",
     "text": [
      "1\n",
      "5\n",
      "8\n",
      "11\n"
     ]
    }
   ],
   "source": [
    "for a,b,c in mylist:\n",
    "    print(a)"
   ]
  },
  {
   "cell_type": "code",
   "execution_count": null,
   "id": "96b0b1d6",
   "metadata": {},
   "outputs": [],
   "source": []
  },
  {
   "cell_type": "code",
   "execution_count": 53,
   "id": "9b004c80",
   "metadata": {},
   "outputs": [
    {
     "data": {
      "text/plain": [
       "[0, 1, 2, 3, 4]"
      ]
     },
     "execution_count": 53,
     "metadata": {},
     "output_type": "execute_result"
    }
   ],
   "source": [
    "# list comprehension \n",
    "\n",
    "# List comprehension is a concise and efficient way of creating lists in Python.\n",
    "# It allows you to define a list based on an expression, along with an optional filtering condition, \n",
    "# all within a single line of code.\n",
    "\n",
    "[i for i in range(5)]"
   ]
  },
  {
   "cell_type": "code",
   "execution_count": 54,
   "id": "ec7dc603",
   "metadata": {},
   "outputs": [
    {
     "name": "stdout",
     "output_type": "stream",
     "text": [
      "[0, 2, 4, 6, 8]\n"
     ]
    }
   ],
   "source": [
    "l2 = [i for i in range(10) if i%2 == 0]\n",
    "print(l2)"
   ]
  },
  {
   "cell_type": "code",
   "execution_count": 55,
   "id": "84a3acca",
   "metadata": {},
   "outputs": [
    {
     "data": {
      "text/plain": [
       "[0, 2, 4, 6, 8]"
      ]
     },
     "execution_count": 55,
     "metadata": {},
     "output_type": "execute_result"
    }
   ],
   "source": [
    "[i for i in range(0,10,2)]"
   ]
  },
  {
   "cell_type": "code",
   "execution_count": 56,
   "id": "85850f4f",
   "metadata": {},
   "outputs": [
    {
     "name": "stdout",
     "output_type": "stream",
     "text": [
      "10 12 14 16 18 "
     ]
    }
   ],
   "source": [
    "for i in range(10, 20, 2):\n",
    "    print(i, end=' ')"
   ]
  },
  {
   "cell_type": "code",
   "execution_count": null,
   "id": "d66ab1ee",
   "metadata": {},
   "outputs": [],
   "source": []
  },
  {
   "cell_type": "code",
   "execution_count": 57,
   "id": "71ac1cfb",
   "metadata": {},
   "outputs": [
    {
     "data": {
      "text/plain": [
       "<generator object <genexpr> at 0x0000018A9E42A2D0>"
      ]
     },
     "execution_count": 57,
     "metadata": {},
     "output_type": "execute_result"
    }
   ],
   "source": [
    "(i for i in range(10))"
   ]
  },
  {
   "cell_type": "code",
   "execution_count": 58,
   "id": "60efdf8f",
   "metadata": {},
   "outputs": [
    {
     "data": {
      "text/plain": [
       "(0, 1, 2, 3, 4, 5, 6, 7, 8, 9)"
      ]
     },
     "execution_count": 58,
     "metadata": {},
     "output_type": "execute_result"
    }
   ],
   "source": [
    "tuple(i for i in range(10))"
   ]
  },
  {
   "cell_type": "code",
   "execution_count": null,
   "id": "45f975b7",
   "metadata": {},
   "outputs": [],
   "source": []
  },
  {
   "cell_type": "markdown",
   "id": "bf1c2f34",
   "metadata": {},
   "source": [
    "### for loop ---> dictionary"
   ]
  },
  {
   "cell_type": "code",
   "execution_count": 59,
   "id": "7e215c0e",
   "metadata": {},
   "outputs": [
    {
     "name": "stdout",
     "output_type": "stream",
     "text": [
      "{'k1': 1, 'k2': 2, 'k3': 3, 'k4': 4, 'k5': 5} \n",
      "\n",
      "k1\n",
      "k2\n",
      "k3\n",
      "k4\n",
      "k5\n"
     ]
    }
   ],
   "source": [
    "d={'k1':1,'k2':2,'k3':3,'k4':4,\"k5\":5}\n",
    "print(d, '\\n')\n",
    "for i in d:\n",
    "    print(i)\n",
    "    \n",
    "# by default it only iterate through the 'keys'"
   ]
  },
  {
   "cell_type": "code",
   "execution_count": 60,
   "id": "15dad8d9",
   "metadata": {},
   "outputs": [
    {
     "name": "stdout",
     "output_type": "stream",
     "text": [
      "('k1', 1)\n",
      "('k2', 2)\n",
      "('k3', 3)\n",
      "('k4', 4)\n",
      "('k5', 5)\n"
     ]
    }
   ],
   "source": [
    "d={'k1':1,'k2':2,'k3':3,'k4':4,\"k5\":5}\n",
    "\n",
    "# therefore use d.items() instead of d if you want values as well\n",
    "for i in d.items():\n",
    "    print(i)"
   ]
  },
  {
   "cell_type": "code",
   "execution_count": 61,
   "id": "e1763e6d",
   "metadata": {},
   "outputs": [
    {
     "name": "stdout",
     "output_type": "stream",
     "text": [
      "k1\n",
      "k2\n",
      "k3\n",
      "k4\n",
      "k5\n"
     ]
    }
   ],
   "source": [
    "d={'k1':1,'k2':2,'k3':3,'k4':4,\"k5\":5}\n",
    "\n",
    "for i in d.keys():\n",
    "    print(i)"
   ]
  },
  {
   "cell_type": "code",
   "execution_count": 62,
   "id": "17512f1e",
   "metadata": {},
   "outputs": [
    {
     "name": "stdout",
     "output_type": "stream",
     "text": [
      "k1 1\n",
      "k2 2\n",
      "k3 3\n",
      "k4 4\n",
      "k5 5\n"
     ]
    }
   ],
   "source": [
    "d={'k1':1,'k2':2,'k3':3,'k4':4,\"k5\":5}\n",
    "\n",
    "for key, value in d.items():\n",
    "    print(key,value)"
   ]
  },
  {
   "cell_type": "code",
   "execution_count": 63,
   "id": "fd58f2a0",
   "metadata": {},
   "outputs": [
    {
     "name": "stdout",
     "output_type": "stream",
     "text": [
      "('k1', 1)\n",
      "('k2', 2)\n",
      "('k3', 3)\n",
      "('k4', 4)\n",
      "('k5', 5)\n"
     ]
    }
   ],
   "source": [
    "d={'k1':1,'k2':2,'k3':3,'k4':4,\"k5\":5}\n",
    "\n",
    "for key,value in d.items():\n",
    "    print((key,value))"
   ]
  },
  {
   "cell_type": "code",
   "execution_count": 64,
   "id": "81c149dd",
   "metadata": {},
   "outputs": [
    {
     "name": "stdout",
     "output_type": "stream",
     "text": [
      "k1\n",
      "k2\n",
      "k3\n",
      "k4\n",
      "k5\n"
     ]
    }
   ],
   "source": [
    "d={'k1':1,'k2':2,'k3':3,'k4':4,\"k5\":5}\n",
    "\n",
    "for ((((key,value)))) in d.items():\n",
    "    print(key)"
   ]
  },
  {
   "cell_type": "code",
   "execution_count": 65,
   "id": "e0407d87",
   "metadata": {},
   "outputs": [
    {
     "name": "stdout",
     "output_type": "stream",
     "text": [
      "k1\n",
      "k2\n",
      "k3\n",
      "k4\n",
      "k5\n"
     ]
    }
   ],
   "source": [
    "d={'k1':1,'k2':2,'k3':3,'k4':4,\"k5\":5}\n",
    "\n",
    "for ((((key,value)))) in d.items():\n",
    "    print(((key)))"
   ]
  },
  {
   "cell_type": "code",
   "execution_count": 66,
   "id": "2c07762a",
   "metadata": {},
   "outputs": [
    {
     "name": "stdout",
     "output_type": "stream",
     "text": [
      "1\n",
      "2\n",
      "3\n",
      "4\n",
      "5\n"
     ]
    }
   ],
   "source": [
    "d={'k1':1,'k2':2,'k3':3,'k4':4,\"k5\":5}\n",
    "\n",
    "for key,value in d.items():\n",
    "    print((((value))))\n",
    "    \n",
    "## Technically Dictionaries are unordered \n",
    "## it will NOT be sorted everytime"
   ]
  },
  {
   "cell_type": "code",
   "execution_count": null,
   "id": "10034210",
   "metadata": {},
   "outputs": [],
   "source": [
    "\n",
    "\n",
    "\n",
    "\n",
    "\n",
    "\n",
    "\n",
    "\n"
   ]
  },
  {
   "cell_type": "markdown",
   "id": "4ad8e0f4",
   "metadata": {},
   "source": [
    "# WHILE LOOPS IN PYTHON"
   ]
  },
  {
   "cell_type": "code",
   "execution_count": 67,
   "id": "8c552a5d",
   "metadata": {},
   "outputs": [],
   "source": [
    "# SYNTAX:-\n",
    "# while some_boolean_condition:\n",
    "#     do something"
   ]
  },
  {
   "cell_type": "code",
   "execution_count": 68,
   "id": "8d053ef9",
   "metadata": {},
   "outputs": [],
   "source": [
    "# # SYNTAX:-\n",
    "# # while some_boolean_condition:\n",
    "# #     do something\n",
    "# # else:\n",
    "# #    do_something_differnt\n"
   ]
  },
  {
   "cell_type": "code",
   "execution_count": 69,
   "id": "2e114043",
   "metadata": {},
   "outputs": [
    {
     "name": "stdout",
     "output_type": "stream",
     "text": [
      "The current value of x is 0 \n",
      "The current value of x is 1 \n",
      "The current value of x is 2 \n",
      "The current value of x is 3 \n",
      "The current value of x is 4 \n"
     ]
    }
   ],
   "source": [
    "x=0\n",
    "while x<5:\n",
    "    print(f\"The current value of x is {x} \")\n",
    "    x=x+1 # x+=1 same \n",
    "    \n"
   ]
  },
  {
   "cell_type": "code",
   "execution_count": 70,
   "id": "a3f0a547",
   "metadata": {},
   "outputs": [
    {
     "name": "stdout",
     "output_type": "stream",
     "text": [
      "The current value of value of x is 0 \n",
      "The current value of value of x is 1 \n",
      "The current value of value of x is 2 \n",
      "The current value of value of x is 3 \n",
      "The current value of value of x is 4 \n",
      "6\n"
     ]
    }
   ],
   "source": [
    "x=0\n",
    "while x<5:\n",
    "    print(f\"The current value of value of x is {x} \")\n",
    "    x=x+1 # x+=1 same \n",
    "x+=1    \n",
    "print(x)\n",
    "#output will be 6 'cause x becomes 5 in while loop and 1 gets add in(x+=1) "
   ]
  },
  {
   "cell_type": "code",
   "execution_count": 71,
   "id": "d9b76668",
   "metadata": {},
   "outputs": [
    {
     "name": "stdout",
     "output_type": "stream",
     "text": [
      "The current value of value of x is 0 \n",
      "The current value of value of x is 1 \n",
      "The current value of value of x is 2 \n",
      "The current value of value of x is 3 \n",
      "The current value of value of x is 4 \n",
      "5\n"
     ]
    }
   ],
   "source": [
    "x=0\n",
    "while x<5:\n",
    "    print(f\"The current value of value of x is {x} \")\n",
    "    x=x+1 # x+=1 same \n",
    "    \n",
    "print(x)"
   ]
  },
  {
   "cell_type": "code",
   "execution_count": 72,
   "id": "cb973eb2",
   "metadata": {},
   "outputs": [
    {
     "name": "stdout",
     "output_type": "stream",
     "text": [
      "The current value of value of x is 0 \n",
      "The current value of value of x is 2 \n",
      "The current value of value of x is 4 \n"
     ]
    }
   ],
   "source": [
    "x=0\n",
    "while x<5:\n",
    "    print(f\"The current value of value of x is {x} \")\n",
    "    x=x+1 # x+=1 same \n",
    "    x+=1\n"
   ]
  },
  {
   "cell_type": "code",
   "execution_count": 73,
   "id": "ad4b980b",
   "metadata": {},
   "outputs": [
    {
     "name": "stdout",
     "output_type": "stream",
     "text": [
      "The current value of value of x is 0 \n",
      "The current value of value of x is 2 \n",
      "The current value of value of x is 4 \n",
      "6\n"
     ]
    }
   ],
   "source": [
    "x=0\n",
    "while (x<5):\n",
    "    print(f\"The current value of value of x is {x} \")\n",
    "    x=x+2\n",
    "print(x)"
   ]
  },
  {
   "cell_type": "code",
   "execution_count": null,
   "id": "996e6302",
   "metadata": {},
   "outputs": [],
   "source": []
  },
  {
   "cell_type": "code",
   "execution_count": 74,
   "id": "e189e9ba",
   "metadata": {},
   "outputs": [
    {
     "name": "stdout",
     "output_type": "stream",
     "text": [
      "The current value of value of x is 0 \n",
      "The current value of value of x is 1 \n",
      "The current value of value of x is 2 \n",
      "The current value of value of x is 3 \n",
      "The current value of value of x is 4 \n",
      "x is not less than 5\n"
     ]
    }
   ],
   "source": [
    "x=0\n",
    "while x<5:\n",
    "    print(f\"The current value of value of x is {x} \")\n",
    "    x=x+1 # x+=1 same \n",
    "else:\n",
    "    print(\"x is not less than 5\")"
   ]
  },
  {
   "cell_type": "code",
   "execution_count": 75,
   "id": "b1379414",
   "metadata": {},
   "outputs": [
    {
     "name": "stdout",
     "output_type": "stream",
     "text": [
      "x is not less than 5\n"
     ]
    }
   ],
   "source": [
    "x=0\n",
    "while x>5:\n",
    "    print(f\"The current value of value of x is {x} \")\n",
    "    x=x+1 # x+=1 same \n",
    "else:\n",
    "    print(\"x is not less than 5\")"
   ]
  },
  {
   "cell_type": "code",
   "execution_count": 76,
   "id": "a13e677d",
   "metadata": {},
   "outputs": [
    {
     "name": "stdout",
     "output_type": "stream",
     "text": [
      "0 is not less than 5\n"
     ]
    }
   ],
   "source": [
    "x=0\n",
    "while x>5:\n",
    "    print(f\"The current value of value of x is {x} \")\n",
    "    x=x+1 # x+=1 same \n",
    "else:\n",
    "    print(f\"{x} is not less than 5\")"
   ]
  },
  {
   "cell_type": "code",
   "execution_count": 77,
   "id": "3805265b",
   "metadata": {},
   "outputs": [
    {
     "name": "stdout",
     "output_type": "stream",
     "text": [
      "The current value of value of x is 10 \n",
      "The current value of value of x is 9 \n",
      "The current value of value of x is 8 \n",
      "The current value of value of x is 7 \n",
      "The current value of value of x is 6 \n",
      "5 is less than 5\n"
     ]
    }
   ],
   "source": [
    "x=10\n",
    "while x>5:\n",
    "    print(f\"The current value of value of x is {x} \")\n",
    "    x=x-1 # x-=1 same \n",
    "else:\n",
    "    print(f\"{x} is less than 5\")"
   ]
  },
  {
   "cell_type": "code",
   "execution_count": 78,
   "id": "013f8840",
   "metadata": {},
   "outputs": [
    {
     "name": "stdout",
     "output_type": "stream",
     "text": [
      "The current value of value of x is 10 \n",
      "The current value of value of x is 9 \n",
      "The current value of value of x is 8 \n",
      "The current value of value of x is 7 \n",
      "The current value of value of x is 6 \n",
      "The current value of value of x is 5 \n",
      "4 is less than 5\n"
     ]
    }
   ],
   "source": [
    "x=10\n",
    "while x>=5:\n",
    "    print(f\"The current value of value of x is {x} \")\n",
    "    x=x-1 # x-=1 same \n",
    "else:\n",
    "    print(f\"{x} is less than 5\")"
   ]
  },
  {
   "cell_type": "code",
   "execution_count": 79,
   "id": "d42d6aa1",
   "metadata": {},
   "outputs": [
    {
     "name": "stdout",
     "output_type": "stream",
     "text": [
      "0 is less than 5\n"
     ]
    }
   ],
   "source": [
    "x=0\n",
    "while x>=5:\n",
    "    print(f\"The current value of value of x is {x} \")\n",
    "    x-=1 \n",
    "else:\n",
    "    print(f\"{x} is less than 5\")"
   ]
  },
  {
   "cell_type": "code",
   "execution_count": 80,
   "id": "e55cbc5e",
   "metadata": {},
   "outputs": [
    {
     "name": "stdout",
     "output_type": "stream",
     "text": [
      "0 is less than 5\n"
     ]
    }
   ],
   "source": [
    "x=0\n",
    "while x>=5:\n",
    "    print(f\"The current value of value of x is {x} \")\n",
    "    x-=2\n",
    "else:\n",
    "    print(f\"{x} is less than 5\")"
   ]
  },
  {
   "cell_type": "code",
   "execution_count": 81,
   "id": "420f7874",
   "metadata": {},
   "outputs": [
    {
     "name": "stdout",
     "output_type": "stream",
     "text": [
      "The current value of value of x is 10 \n",
      "The current value of value of x is 8 \n",
      "The current value of value of x is 6 \n",
      "4 is less than 5\n"
     ]
    }
   ],
   "source": [
    "x=10\n",
    "while x>=5:\n",
    "    print(f\"The current value of value of x is {x} \")\n",
    "    x-=2\n",
    "else:\n",
    "    print(f\"{x} is less than 5\")"
   ]
  },
  {
   "cell_type": "code",
   "execution_count": 82,
   "id": "73dc0456",
   "metadata": {},
   "outputs": [
    {
     "name": "stdout",
     "output_type": "stream",
     "text": [
      "The current value of value of x is 8 \n",
      "The current value of value of x is 6 \n",
      "The current value of value of x is 4 \n",
      "4 is less than 5\n"
     ]
    }
   ],
   "source": [
    "x=10\n",
    "while x>=5:\n",
    "    x-=2\n",
    "    print(f\"The current value of value of x is {x} \")\n",
    "else:\n",
    "    print(f\"{x} is less than 5\")"
   ]
  },
  {
   "cell_type": "code",
   "execution_count": 83,
   "id": "d7b0142b",
   "metadata": {},
   "outputs": [
    {
     "name": "stdout",
     "output_type": "stream",
     "text": [
      "The current value of value of x is 8 \n",
      "The current value of value of x is 6 \n",
      "The current value of value of x is 4 \n",
      "4 is less than 5\n"
     ]
    }
   ],
   "source": [
    "x=10\n",
    "while x>5:\n",
    "    x-=2\n",
    "    print(f\"The current value of value of x is {x} \")\n",
    "else:\n",
    "    print(f\"{x} is less than 5\")"
   ]
  },
  {
   "cell_type": "code",
   "execution_count": 84,
   "id": "e618e54a",
   "metadata": {},
   "outputs": [
    {
     "name": "stdout",
     "output_type": "stream",
     "text": [
      "The current value of value of x is 9 \n",
      "The current value of value of x is 8 \n",
      "The current value of value of x is 7 \n",
      "The current value of value of x is 6 \n",
      "The current value of value of x is 5 \n",
      "The current value of value of x is 4 \n",
      "4 is less than 5\n"
     ]
    }
   ],
   "source": [
    "x=10\n",
    "while x>=5:\n",
    "    x-=1\n",
    "    print(f\"The current value of value of x is {x} \")\n",
    "else:\n",
    "    print(f\"{x} is less than 5\")"
   ]
  },
  {
   "cell_type": "code",
   "execution_count": 85,
   "id": "1750e29f",
   "metadata": {},
   "outputs": [
    {
     "name": "stdout",
     "output_type": "stream",
     "text": [
      "The current value of value of x is 9 \n",
      "The current value of value of x is 8 \n",
      "The current value of value of x is 7 \n",
      "The current value of value of x is 6 \n",
      "The current value of value of x is 5 \n",
      "5 is less than 5\n"
     ]
    }
   ],
   "source": [
    "x=10\n",
    "while x>5:\n",
    "    x-=1\n",
    "    print(f\"The current value of value of x is {x} \")\n",
    "else:\n",
    "    print(f\"{x} is less than 5\")"
   ]
  },
  {
   "cell_type": "code",
   "execution_count": 86,
   "id": "762471f9",
   "metadata": {},
   "outputs": [
    {
     "name": "stdout",
     "output_type": "stream",
     "text": [
      "The current value of value of x is 9 \n",
      "The current value of value of x is 7 \n",
      "The current value of value of x is 5 \n",
      "4 is less than 5\n"
     ]
    }
   ],
   "source": [
    "x=10\n",
    "while x>5:\n",
    "    x-=1\n",
    "    print(f\"The current value of value of x is {x} \")\n",
    "    x-=1\n",
    "else:\n",
    "    print(f\"{x} is less than 5\")"
   ]
  },
  {
   "cell_type": "code",
   "execution_count": 87,
   "id": "34767844",
   "metadata": {},
   "outputs": [
    {
     "name": "stdout",
     "output_type": "stream",
     "text": [
      "The current value of value of x is 9 \n",
      "The current value of value of x is 6 \n",
      "4 is less than 5\n"
     ]
    }
   ],
   "source": [
    "x=10\n",
    "while x>5:\n",
    "    x-=1\n",
    "    print(f\"The current value of value of x is {x} \")\n",
    "    x-=2\n",
    "else:\n",
    "    print(f\"{x} is less than 5\")"
   ]
  },
  {
   "cell_type": "code",
   "execution_count": 88,
   "id": "94ec758e",
   "metadata": {},
   "outputs": [
    {
     "name": "stdout",
     "output_type": "stream",
     "text": [
      "The current value of value of x is 9 \n",
      "The next value of value of x is 8 \n",
      "The current value of value of x is 7 \n",
      "The next value of value of x is 6 \n",
      "The current value of value of x is 5 \n",
      "The next value of value of x is 4 \n",
      "4 is less than 5\n"
     ]
    }
   ],
   "source": [
    "x=10\n",
    "while x>5:\n",
    "    x-=1\n",
    "    print(f\"The current value of value of x is {x} \")\n",
    "    x-=1\n",
    "    print(f\"The next value of value of x is {x} \")\n",
    "else:\n",
    "    print(f\"{x} is less than 5\")"
   ]
  },
  {
   "cell_type": "code",
   "execution_count": 89,
   "id": "3b586d22",
   "metadata": {},
   "outputs": [
    {
     "name": "stdout",
     "output_type": "stream",
     "text": [
      "The current value of value of x is 9 \n",
      "The next value of value of x is 7 \n",
      "The current value of value of x is 6 \n",
      "The next value of value of x is 4 \n",
      "4 is less than 5\n"
     ]
    }
   ],
   "source": [
    "x=10\n",
    "while x>5:\n",
    "    x-=1\n",
    "    print(f\"The current value of value of x is {x} \")\n",
    "    x-=2\n",
    "    print(f\"The next value of value of x is {x} \")\n",
    "else:\n",
    "    print(f\"{x} is less than 5\")"
   ]
  },
  {
   "cell_type": "code",
   "execution_count": 90,
   "id": "80798a56",
   "metadata": {},
   "outputs": [
    {
     "name": "stdout",
     "output_type": "stream",
     "text": [
      "The current value of value of x is 19 \n",
      "The next value of value of x is 17 \n",
      "The current value of value of x is 16 \n",
      "The next value of value of x is 14 \n",
      "The current value of value of x is 13 \n",
      "The next value of value of x is 11 \n",
      "The current value of value of x is 10 \n",
      "The next value of value of x is 8 \n",
      "The current value of value of x is 7 \n",
      "The next value of value of x is 5 \n",
      "5 is less than 5\n"
     ]
    }
   ],
   "source": [
    "x=20\n",
    "while x>5:\n",
    "    x-=1\n",
    "    print(f\"The current value of value of x is {x} \")\n",
    "    x-=2\n",
    "    print(f\"The next value of value of x is {x} \")\n",
    "else:\n",
    "    print(f\"{x} is less than 5\")"
   ]
  },
  {
   "cell_type": "code",
   "execution_count": 91,
   "id": "013f6a5e",
   "metadata": {},
   "outputs": [
    {
     "name": "stdout",
     "output_type": "stream",
     "text": [
      "The current value of value of x is 9 \n",
      "The current value of value of x is 8 \n",
      "The current value of value of x is 7 \n",
      "The current value of value of x is 6 \n",
      "The current value of value of x is 5 \n",
      "The current value of value of x is 4 \n",
      "4 is less than 5\n"
     ]
    }
   ],
   "source": [
    "x=10\n",
    "while x>5:\n",
    "    x-=1\n",
    "    print(f\"The current value of value of x is {x} \")\n",
    "    x-=1\n",
    "    print(f\"The current value of value of x is {x} \")\n",
    "else:\n",
    "    print(f\"{x} is less than 5\")"
   ]
  },
  {
   "cell_type": "markdown",
   "id": "83efee4b",
   "metadata": {},
   "source": [
    "## break, continue, pass\n",
    "### we can use  these keywords to add additional functionality\n",
    "\n",
    "## break : break out of the current  closest enclosing loop\n",
    "## continue : goes to top of the closet enclosing loop \n",
    "## pass : does nothing at all (e.g. 1 use :- to avoid syntax error)\n",
    "\n",
    "# current  closest enclosing LOOP and not STATEMENT "
   ]
  },
  {
   "cell_type": "code",
   "execution_count": 92,
   "id": "5c3cccaa",
   "metadata": {},
   "outputs": [],
   "source": [
    "x = [1,2,3]\n",
    "\n",
    "for i in x:\n",
    "    #comment := used pass keyword to avoid syntax error\n",
    "    pass"
   ]
  },
  {
   "cell_type": "code",
   "execution_count": 93,
   "id": "b6017859",
   "metadata": {},
   "outputs": [
    {
     "name": "stdout",
     "output_type": "stream",
     "text": [
      "end of my script\n"
     ]
    }
   ],
   "source": [
    "x = [1,2,3]\n",
    "\n",
    "for i in x:\n",
    "    #comment := used pass keyword to avoid syntax error\n",
    "    pass\n",
    "print(\"end of my script\")"
   ]
  },
  {
   "cell_type": "code",
   "execution_count": 94,
   "id": "eed8552d",
   "metadata": {},
   "outputs": [],
   "source": [
    "x = \"Sammy\"\n"
   ]
  },
  {
   "cell_type": "code",
   "execution_count": 95,
   "id": "28e413fd",
   "metadata": {},
   "outputs": [
    {
     "name": "stdout",
     "output_type": "stream",
     "text": [
      "S\n",
      "a\n",
      "m\n",
      "m\n",
      "y\n"
     ]
    }
   ],
   "source": [
    "for letter in x:\n",
    "    print(letter)"
   ]
  },
  {
   "cell_type": "code",
   "execution_count": 96,
   "id": "6d3a33fb",
   "metadata": {},
   "outputs": [
    {
     "name": "stdout",
     "output_type": "stream",
     "text": [
      "S\n",
      "m\n",
      "m\n",
      "y\n"
     ]
    }
   ],
   "source": [
    "for letter in x:\n",
    "    if letter ==\"a\":\n",
    "        continue\n",
    "    print(letter)"
   ]
  },
  {
   "cell_type": "code",
   "execution_count": 97,
   "id": "af2fec12",
   "metadata": {},
   "outputs": [
    {
     "name": "stdout",
     "output_type": "stream",
     "text": [
      "y\n"
     ]
    }
   ],
   "source": [
    "for letter in x:\n",
    "    if letter ==\"a\":\n",
    "        continue\n",
    "print(letter)# last item in the string"
   ]
  },
  {
   "cell_type": "code",
   "execution_count": 98,
   "id": "4c3bba49",
   "metadata": {},
   "outputs": [
    {
     "name": "stdout",
     "output_type": "stream",
     "text": [
      "S\n",
      "a\n",
      "m\n",
      "m\n",
      "y\n"
     ]
    }
   ],
   "source": [
    "for letter in x:\n",
    "    if letter ==\"mm\":\n",
    "        continue\n",
    "    print(letter)"
   ]
  },
  {
   "cell_type": "code",
   "execution_count": null,
   "id": "cb00c482",
   "metadata": {},
   "outputs": [],
   "source": []
  },
  {
   "cell_type": "code",
   "execution_count": null,
   "id": "27c8989e",
   "metadata": {},
   "outputs": [],
   "source": []
  },
  {
   "cell_type": "code",
   "execution_count": null,
   "id": "6cd06472",
   "metadata": {},
   "outputs": [],
   "source": []
  },
  {
   "cell_type": "code",
   "execution_count": 99,
   "id": "3b0e5fd4",
   "metadata": {},
   "outputs": [
    {
     "name": "stdout",
     "output_type": "stream",
     "text": [
      "S\n"
     ]
    }
   ],
   "source": [
    "for letter in x:\n",
    "    if letter ==\"a\":\n",
    "        break\n",
    "    print(letter)"
   ]
  },
  {
   "cell_type": "code",
   "execution_count": 100,
   "id": "dbfa088b",
   "metadata": {},
   "outputs": [
    {
     "name": "stdout",
     "output_type": "stream",
     "text": [
      "S\n",
      "a\n"
     ]
    }
   ],
   "source": [
    "for letter in x:\n",
    "    if letter ==\"m\":\n",
    "        break\n",
    "    print(letter)"
   ]
  },
  {
   "cell_type": "code",
   "execution_count": 101,
   "id": "61f3ed9e",
   "metadata": {},
   "outputs": [
    {
     "name": "stdout",
     "output_type": "stream",
     "text": [
      "S\n",
      "a\n",
      "m\n",
      "m\n",
      "y\n"
     ]
    }
   ],
   "source": [
    "for letter in x:\n",
    "    if letter ==\"mm\":\n",
    "        break\n",
    "    print(letter)"
   ]
  },
  {
   "cell_type": "code",
   "execution_count": 102,
   "id": "0f26b9fc",
   "metadata": {},
   "outputs": [
    {
     "name": "stdout",
     "output_type": "stream",
     "text": [
      "S\n",
      "a\n",
      "m\n",
      "m\n",
      "y\n"
     ]
    }
   ],
   "source": [
    "for letter in x:\n",
    "    if letter ==\"gfgd\":\n",
    "        break\n",
    "    print(letter)"
   ]
  },
  {
   "cell_type": "code",
   "execution_count": 103,
   "id": "22ff4bc0",
   "metadata": {},
   "outputs": [
    {
     "name": "stdout",
     "output_type": "stream",
     "text": [
      "S\n",
      "a\n",
      "m\n",
      "m\n"
     ]
    }
   ],
   "source": [
    "for letter in x:\n",
    "    if letter ==\"y\":\n",
    "        break\n",
    "    print(letter)"
   ]
  },
  {
   "cell_type": "code",
   "execution_count": null,
   "id": "dc3864fb",
   "metadata": {},
   "outputs": [],
   "source": []
  },
  {
   "cell_type": "code",
   "execution_count": 104,
   "id": "4c75a12e",
   "metadata": {},
   "outputs": [
    {
     "name": "stdout",
     "output_type": "stream",
     "text": [
      "0\n",
      "1\n",
      "2\n",
      "3\n",
      "4\n"
     ]
    }
   ],
   "source": [
    "x=0\n",
    "while x<5:\n",
    "    print(x)\n",
    "    x+=1"
   ]
  },
  {
   "cell_type": "code",
   "execution_count": 105,
   "id": "d4d03cba",
   "metadata": {},
   "outputs": [
    {
     "name": "stdout",
     "output_type": "stream",
     "text": [
      "0\n",
      "1\n"
     ]
    }
   ],
   "source": [
    "x=0\n",
    "while x<5:\n",
    "    if x==2:\n",
    "        break\n",
    "    print(x)\n",
    "    x+=1"
   ]
  },
  {
   "cell_type": "markdown",
   "id": "8e3bb592",
   "metadata": {},
   "source": [
    "# Thank You"
   ]
  }
 ],
 "metadata": {
  "kernelspec": {
   "display_name": "Python 3 (ipykernel)",
   "language": "python",
   "name": "python3"
  },
  "language_info": {
   "codemirror_mode": {
    "name": "ipython",
    "version": 3
   },
   "file_extension": ".py",
   "mimetype": "text/x-python",
   "name": "python",
   "nbconvert_exporter": "python",
   "pygments_lexer": "ipython3",
   "version": "3.10.9"
  }
 },
 "nbformat": 4,
 "nbformat_minor": 5
}
