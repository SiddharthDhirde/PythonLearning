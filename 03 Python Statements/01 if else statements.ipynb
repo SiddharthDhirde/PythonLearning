{
 "cells": [
  {
   "cell_type": "markdown",
   "id": "6ef59c1a",
   "metadata": {},
   "source": [
    "## if, elif and else Statements in Python "
   ]
  },
  {
   "cell_type": "code",
   "execution_count": 1,
   "id": "f2980a45",
   "metadata": {},
   "outputs": [],
   "source": [
    "# CONTROL FLOW\n",
    "\n",
    "# To controll flow we use \n",
    "# if, elif, else keywords\n",
    "\n",
    "# Dont forget COLON & INTENDATION (WHITESPACE)"
   ]
  },
  {
   "cell_type": "code",
   "execution_count": 2,
   "id": "69d96ff9",
   "metadata": {},
   "outputs": [
    {
     "name": "stdout",
     "output_type": "stream",
     "text": [
      "Its true!\n"
     ]
    }
   ],
   "source": [
    "if True:\n",
    "    print(\"Its true!\")"
   ]
  },
  {
   "cell_type": "code",
   "execution_count": 3,
   "id": "1e92b2ba",
   "metadata": {},
   "outputs": [],
   "source": [
    "if 3>6:\n",
    "    print(\"Its true!\")"
   ]
  },
  {
   "cell_type": "code",
   "execution_count": 4,
   "id": "d2ce5a73",
   "metadata": {},
   "outputs": [
    {
     "name": "stdout",
     "output_type": "stream",
     "text": [
      "I wanna Eat something!!!!!!!!!!!!!\n"
     ]
    }
   ],
   "source": [
    "hungry= True\n",
    "if hungry:\n",
    "    print(\"I wanna Eat something!!!!!!!!!!!!!\")"
   ]
  },
  {
   "cell_type": "code",
   "execution_count": 5,
   "id": "361e7729",
   "metadata": {},
   "outputs": [],
   "source": [
    "hungry= False\n",
    "if hungry:\n",
    "    print(\"I wanna Eat something!!!!!!!!!!!!!\")"
   ]
  },
  {
   "cell_type": "code",
   "execution_count": 6,
   "id": "933476e7",
   "metadata": {},
   "outputs": [
    {
     "name": "stdout",
     "output_type": "stream",
     "text": [
      "I wanna Eat something!!!!!!!!!!!!!\n"
     ]
    }
   ],
   "source": [
    "hungry= True\n",
    "if hungry:\n",
    "    print(\"I wanna Eat something!!!!!!!!!!!!!\")\n",
    "else:\n",
    "    print(\"Attach jevlo hoto\")"
   ]
  },
  {
   "cell_type": "code",
   "execution_count": 7,
   "id": "35ebcd11",
   "metadata": {},
   "outputs": [
    {
     "name": "stdout",
     "output_type": "stream",
     "text": [
      "Nako!! Attach jevlo hoto\n"
     ]
    }
   ],
   "source": [
    "hungry= False\n",
    "if hungry:\n",
    "    print(\"I wanna Eat something!!!!!!!!!!!!!\")\n",
    "else:\n",
    "    print(\"Nako!! Attach jevlo hoto\")"
   ]
  },
  {
   "cell_type": "code",
   "execution_count": 8,
   "id": "f5fc6223",
   "metadata": {},
   "outputs": [
    {
     "name": "stdout",
     "output_type": "stream",
     "text": [
      "I wanna Eat something!!!!!!!!!!!!!\n"
     ]
    }
   ],
   "source": [
    "hungry= 1\n",
    "if hungry:\n",
    "    print(\"I wanna Eat something!!!!!!!!!!!!!\")\n",
    "else:\n",
    "    print(\"Attach jevlo hoto\")"
   ]
  },
  {
   "cell_type": "code",
   "execution_count": 9,
   "id": "25b448cb",
   "metadata": {},
   "outputs": [
    {
     "name": "stdout",
     "output_type": "stream",
     "text": [
      "Attach jevlo hoto\n"
     ]
    }
   ],
   "source": [
    "hungry= 0\n",
    "if hungry:\n",
    "    print(\"I wanna Eat something!!!!!!!!!!!!!\")\n",
    "else:\n",
    "    print(\"Attach jevlo hoto\")"
   ]
  },
  {
   "cell_type": "code",
   "execution_count": 10,
   "id": "68e185f1",
   "metadata": {},
   "outputs": [
    {
     "name": "stdout",
     "output_type": "stream",
     "text": [
      "I wanna Eat something!!!!!!!!!!!!!\n"
     ]
    }
   ],
   "source": [
    "hungry= 43\n",
    "if hungry:\n",
    "    print(\"I wanna Eat something!!!!!!!!!!!!!\")\n",
    "else:\n",
    "    print(\"Attach jevlo hoto\")"
   ]
  },
  {
   "cell_type": "code",
   "execution_count": 11,
   "id": "30a6f716",
   "metadata": {},
   "outputs": [
    {
     "name": "stdout",
     "output_type": "stream",
     "text": [
      "I wanna Eat something!!!!!!!!!!!!!\n"
     ]
    }
   ],
   "source": [
    "hungry= -34\n",
    "if hungry:\n",
    "    print(\"I wanna Eat something!!!!!!!!!!!!!\")\n",
    "else:\n",
    "    print(\"Attach jevlo hoto\")"
   ]
  },
  {
   "cell_type": "code",
   "execution_count": 12,
   "id": "81dfb518",
   "metadata": {},
   "outputs": [
    {
     "name": "stdout",
     "output_type": "stream",
     "text": [
      "I wanna Eat something!!!!!!!!!!!!!\n"
     ]
    }
   ],
   "source": [
    "hungry= -1\n",
    "if hungry:\n",
    "    print(\"I wanna Eat something!!!!!!!!!!!!!\")\n",
    "else:\n",
    "    print(\"Attach jevlo hoto\")"
   ]
  },
  {
   "cell_type": "code",
   "execution_count": 13,
   "id": "b2352a7c",
   "metadata": {},
   "outputs": [
    {
     "name": "stdout",
     "output_type": "stream",
     "text": [
      "I wanna Eat something!!!!!!!!!!!!!\n"
     ]
    }
   ],
   "source": [
    "hungry= 'True'\n",
    "if hungry:\n",
    "    print(\"I wanna Eat something!!!!!!!!!!!!!\")\n",
    "else:\n",
    "    print(\"Attach jevlo hoto\")"
   ]
  },
  {
   "cell_type": "code",
   "execution_count": 14,
   "id": "8d3b3bef",
   "metadata": {},
   "outputs": [
    {
     "name": "stdout",
     "output_type": "stream",
     "text": [
      "I wanna Eat something!!!!!!!!!!!!!\n"
     ]
    }
   ],
   "source": [
    "hungry= \"False\"\n",
    "if hungry:\n",
    "    print(\"I wanna Eat something!!!!!!!!!!!!!\")\n",
    "else:\n",
    "    print(\"Attach jevlo hoto\")"
   ]
  },
  {
   "cell_type": "code",
   "execution_count": 15,
   "id": "47bee19b",
   "metadata": {},
   "outputs": [
    {
     "name": "stdout",
     "output_type": "stream",
     "text": [
      "I wanna Eat something!!!!!!!!!!!!!\n"
     ]
    }
   ],
   "source": [
    "hungry= '0'\n",
    "if hungry:\n",
    "    print(\"I wanna Eat something!!!!!!!!!!!!!\")\n",
    "else:\n",
    "    print(\"Attach jevlo hoto\")"
   ]
  },
  {
   "cell_type": "code",
   "execution_count": 16,
   "id": "5c2bd4e6",
   "metadata": {},
   "outputs": [
    {
     "name": "stdout",
     "output_type": "stream",
     "text": [
      "I wanna Eat something!!!!!!!!!!!!!\n"
     ]
    }
   ],
   "source": [
    "hungry= True\n",
    "if hungry==True:\n",
    "    print(\"I wanna Eat something!!!!!!!!!!!!!\")\n",
    "else:\n",
    "    print(\"Attach jevlo hoto\")"
   ]
  },
  {
   "cell_type": "code",
   "execution_count": 17,
   "id": "be0c4d03",
   "metadata": {},
   "outputs": [
    {
     "name": "stdout",
     "output_type": "stream",
     "text": [
      "Attach jevlo hoto\n"
     ]
    }
   ],
   "source": [
    "hungry= True\n",
    "if hungry==False:\n",
    "    print(\"I wanna Eat something!!!!!!!!!!!!!\")\n",
    "else:\n",
    "    print(\"Attach jevlo hoto\")"
   ]
  },
  {
   "cell_type": "code",
   "execution_count": 18,
   "id": "6207f13d",
   "metadata": {},
   "outputs": [
    {
     "name": "stdout",
     "output_type": "stream",
     "text": [
      "Attach jevlo hoto\n"
     ]
    }
   ],
   "source": [
    "hungry= True\n",
    "if hungry==3:\n",
    "    print(\"I wanna Eat something!!!!!!!!!!!!!\")\n",
    "else:\n",
    "    print(\"Attach jevlo hoto\")"
   ]
  },
  {
   "cell_type": "code",
   "execution_count": 19,
   "id": "077ef185",
   "metadata": {},
   "outputs": [
    {
     "name": "stdout",
     "output_type": "stream",
     "text": [
      "Attach jevlo hoto\n"
     ]
    }
   ],
   "source": [
    "hungry= True\n",
    "if hungry==0:\n",
    "    print(\"I wanna Eat something!!!!!!!!!!!!!\")\n",
    "else:\n",
    "    print(\"Attach jevlo hoto\")"
   ]
  },
  {
   "cell_type": "code",
   "execution_count": 20,
   "id": "832ed3a3",
   "metadata": {},
   "outputs": [
    {
     "name": "stdout",
     "output_type": "stream",
     "text": [
      "Attach jevlo hoto\n"
     ]
    }
   ],
   "source": [
    "hungry= True\n",
    "if hungry==-3:\n",
    "    print(\"I wanna Eat something!!!!!!!!!!!!!\")\n",
    "else:\n",
    "    print(\"Attach jevlo hoto\")"
   ]
  },
  {
   "cell_type": "code",
   "execution_count": 21,
   "id": "8680d006",
   "metadata": {},
   "outputs": [
    {
     "name": "stdout",
     "output_type": "stream",
     "text": [
      "I dont know much about location of icecream\n"
     ]
    }
   ],
   "source": [
    "loc = \"Bank\"\n",
    "if loc==\"Icecream Shop\":\n",
    "    print(\"I want icecream\")\n",
    "else:\n",
    "    print(\"I dont know much about location of icecream\")"
   ]
  },
  {
   "cell_type": "code",
   "execution_count": 22,
   "id": "59ae5351",
   "metadata": {},
   "outputs": [
    {
     "name": "stdout",
     "output_type": "stream",
     "text": [
      "Money is COOL\n"
     ]
    }
   ],
   "source": [
    "loc = \"Bank\"\n",
    "if loc==\"Bank\":\n",
    "    print(\"Money is COOL\")\n",
    "else:\n",
    "    print(\"I dont know much about location of icecream\")"
   ]
  },
  {
   "cell_type": "code",
   "execution_count": 23,
   "id": "ecdd61d0",
   "metadata": {},
   "outputs": [
    {
     "name": "stdout",
     "output_type": "stream",
     "text": [
      "I dont know much about location of icecream\n"
     ]
    }
   ],
   "source": [
    "loc = \"Bank\"\n",
    "if loc==\"Icecream Shop\":\n",
    "    print(\"I want icecream\")\n",
    "else:print(\"I dont know much about location of icecream\")"
   ]
  },
  {
   "cell_type": "code",
   "execution_count": 24,
   "id": "445163f7",
   "metadata": {},
   "outputs": [
    {
     "name": "stdout",
     "output_type": "stream",
     "text": [
      "Money is COOL\n"
     ]
    }
   ],
   "source": [
    "loc = \"Bank\"\n",
    "if loc==\"Icecream Shop\":\n",
    "    print(\"I want icream\")\n",
    "elif loc==\"Bank\":\n",
    "    print(\"Money is COOL\")\n",
    "else:\n",
    "    print(\"I dont know much about location of icream\")"
   ]
  },
  {
   "cell_type": "code",
   "execution_count": 25,
   "id": "eaa42083",
   "metadata": {},
   "outputs": [
    {
     "name": "stdout",
     "output_type": "stream",
     "text": [
      "Money is COOL\n"
     ]
    }
   ],
   "source": [
    "loc = \"Bank\"\n",
    "if loc==\"Icream Shop\":\n",
    "    print(\"I want icream\")\n",
    "elif loc==\"Bank\":\n",
    "    print(\"Money is COOL\")\n",
    "elif loc==\"Bank\":                #this will not get printed\n",
    "    print(\"Money Heist\")\n",
    "else:\n",
    "    print(\"I dont know much about location of icream\")"
   ]
  },
  {
   "cell_type": "code",
   "execution_count": 26,
   "id": "39fd5f16",
   "metadata": {},
   "outputs": [
    {
     "name": "stdout",
     "output_type": "stream",
     "text": [
      "Money is COOL\n"
     ]
    }
   ],
   "source": [
    "loc = \"Bank\"\n",
    "if loc==\"Icream Shop\":\n",
    "    print(\"I want icream\")\n",
    "elif loc==\"Bank\":\n",
    "    print(\"Money is COOL\")\n",
    "elif loc==\"Bank\":                #this will not get printed\n",
    "    print(\"Money Heist\")\n",
    "else:\n",
    "    print(\"I dont know much about location of icream\")"
   ]
  },
  {
   "cell_type": "code",
   "execution_count": 27,
   "id": "b874855c",
   "metadata": {},
   "outputs": [
    {
     "name": "stdout",
     "output_type": "stream",
     "text": [
      "Money is COOL\n",
      "Money Heist\n"
     ]
    }
   ],
   "source": [
    "loc = \"Bank\"\n",
    "if loc==\"Icream Shop\":\n",
    "    print(\"I want icream\")\n",
    "elif loc==\"Bank\":\n",
    "    print(\"Money is COOL\")\n",
    "    print(\"Money Heist\")\n",
    "else:\n",
    "    print(\"I dont know much\")"
   ]
  },
  {
   "cell_type": "code",
   "execution_count": 28,
   "id": "cfc5c445",
   "metadata": {},
   "outputs": [
    {
     "name": "stdout",
     "output_type": "stream",
     "text": [
      "Money Heist\n"
     ]
    }
   ],
   "source": [
    "loc = \"Bank\"\n",
    "if loc==\"Icream Shop\":\n",
    "    print(\"I want icream\")\n",
    "elif loc==\"Bank\":            \n",
    "    print(\"Money Heist\")\n",
    "elif loc == \"Bank\":\n",
    "    print(\"Money is COOL\")   #this will not get printed \n",
    "else:\n",
    "    print(\"I dont know much\")"
   ]
  },
  {
   "cell_type": "code",
   "execution_count": 29,
   "id": "48dd6e5a",
   "metadata": {},
   "outputs": [
    {
     "name": "stdout",
     "output_type": "stream",
     "text": [
      "Money Heist\n"
     ]
    }
   ],
   "source": [
    "loc = \"Bank\"\n",
    "if loc==\"Icream Shop\":\n",
    "    print(\"I want icream\")\n",
    "elif loc==\"Bank\":            \n",
    "    print(\"Money Heist\")\n",
    "elif loc == \"Store\":\n",
    "    print(\"Welcome to store\")\n",
    "else:\n",
    "    print(\"I dont know much\")"
   ]
  },
  {
   "cell_type": "code",
   "execution_count": 30,
   "id": "e0dcaeed",
   "metadata": {},
   "outputs": [
    {
     "name": "stdout",
     "output_type": "stream",
     "text": [
      "I want icream\n"
     ]
    }
   ],
   "source": [
    "loc = \"Iceream Shop\"\n",
    "if loc==\"Iceream Shop\":\n",
    "    print(\"I want icream\")\n",
    "elif loc==\"Bank\":            \n",
    "    print(\"Money Heist\")\n",
    "elif loc == \"Bank\":\n",
    "    print(\"Money is COOL\")   #this will not get printed \n",
    "else:\n",
    "    print(\"I dont know much\")"
   ]
  },
  {
   "cell_type": "code",
   "execution_count": 31,
   "id": "82811053",
   "metadata": {},
   "outputs": [
    {
     "name": "stdout",
     "output_type": "stream",
     "text": [
      "I dont know much\n"
     ]
    }
   ],
   "source": [
    "loc = \"Game\"\n",
    "if loc==\"Icream Shop\":\n",
    "    print(\"I want icream\")\n",
    "elif loc==\"Bank\":            \n",
    "    print(\"Money Heist\")\n",
    "elif loc == \"Bank\":\n",
    "    print(\"Money is COOL\")   #this will not get printed \n",
    "else:\n",
    "    print(\"I dont know much\")"
   ]
  },
  {
   "cell_type": "code",
   "execution_count": 32,
   "id": "6766dc37",
   "metadata": {},
   "outputs": [
    {
     "name": "stdout",
     "output_type": "stream",
     "text": [
      "Welcome to store\n"
     ]
    }
   ],
   "source": [
    "loc = \"Store\"\n",
    "if loc==\"Icream Shop\":\n",
    "    print(\"I want icream\")\n",
    "elif loc==\"Bank\":            \n",
    "    print(\"Money Heist\")\n",
    "elif loc == \"Store\":\n",
    "    print(\"Welcome to store\")\n",
    "else:\n",
    "    print(\"I dont know much\")"
   ]
  },
  {
   "cell_type": "code",
   "execution_count": 33,
   "id": "eb5dfd2c",
   "metadata": {},
   "outputs": [
    {
     "name": "stdout",
     "output_type": "stream",
     "text": [
      "I want icream\n"
     ]
    }
   ],
   "source": [
    "loc = \"Bank\"\n",
    "if loc!=\"Icream Shop\":\n",
    "    print(\"I want icream\")\n",
    "elif loc==\"Bank\":            \n",
    "    print(\"Money Heist\")\n",
    "elif loc != \"Store\":\n",
    "    print(\"Welcome to store\")\n",
    "else:\n",
    "    print(\"I dont know much\")"
   ]
  },
  {
   "cell_type": "code",
   "execution_count": 34,
   "id": "4ea5a42f",
   "metadata": {},
   "outputs": [
    {
     "name": "stdout",
     "output_type": "stream",
     "text": [
      "Siddharth is the Best\n"
     ]
    }
   ],
   "source": [
    "name = \"Siddharth\"\n",
    "if name == \"Sherlock\":\n",
    "    print(\"Hello Sherlock\")\n",
    "elif name == \"Siddharth\":\n",
    "    print(\"Siddharth is the Best\")\n",
    "else:\n",
    "    print(\"Who are you?!\")"
   ]
  },
  {
   "cell_type": "code",
   "execution_count": 35,
   "id": "45772695",
   "metadata": {},
   "outputs": [
    {
     "name": "stdout",
     "output_type": "stream",
     "text": [
      "Hello Sherlock\n"
     ]
    }
   ],
   "source": [
    "name = \"Sherlock\"\n",
    "if name == \"Sherlock\":\n",
    "    print(\"Hello Sherlock\")\n",
    "elif name == \"Siddharth\":\n",
    "    print(\"Siddharth is the Best\")\n",
    "else:\n",
    "    print(\"Who are you?!\")"
   ]
  },
  {
   "cell_type": "code",
   "execution_count": 36,
   "id": "946be273",
   "metadata": {},
   "outputs": [
    {
     "name": "stdout",
     "output_type": "stream",
     "text": [
      "Who are you?!\n"
     ]
    }
   ],
   "source": [
    "name = \"Peter\"\n",
    "if name == \"Sherlock\":\n",
    "    print(\"Hello Sherlock\")\n",
    "elif name == \"Siddharth\":\n",
    "    print(\"Siddharth is the Best\")\n",
    "else:\n",
    "    print(\"Who are you?!\")"
   ]
  },
  {
   "cell_type": "code",
   "execution_count": 37,
   "id": "b6018f5e",
   "metadata": {},
   "outputs": [
    {
     "name": "stdout",
     "output_type": "stream",
     "text": [
      "Who are you?!Tony Stark\n",
      "Tony Stark\n",
      "Hey Hello, I did'nt recognize you earlier\n"
     ]
    }
   ],
   "source": [
    "name = \"Peter\"\n",
    "if name == \"Sherlock\":\n",
    "    print(\"Hello Sherlock\")\n",
    "elif name == \"Siddharth\":\n",
    "    print(\"Siddharth is the Best\")\n",
    "else:\n",
    "    print(input(\"Who are you?!\"))\n",
    "    \n",
    "    print(\"Hey Hello, I did'nt recognize you earlier\")"
   ]
  },
  {
   "cell_type": "code",
   "execution_count": 38,
   "id": "48e2159d",
   "metadata": {},
   "outputs": [
    {
     "name": "stdout",
     "output_type": "stream",
     "text": [
      "Who are you?!Spidey\n",
      "Hey Hello Spidey, I did'nt recognize you earlier\n"
     ]
    }
   ],
   "source": [
    "name = \"Peter\"\n",
    "if name == \"Sherlock\":\n",
    "    print(\"Hello Sherlock\")\n",
    "elif name == \"Siddharth\":\n",
    "    print(\"Siddharth is the Best\")\n",
    "else:\n",
    "    a = (input(\"Who are you?!\"))\n",
    "    print(\"Hey Hello {}, I did'nt recognize you earlier\".format(a))"
   ]
  },
  {
   "cell_type": "code",
   "execution_count": 39,
   "id": "3ddeb70a",
   "metadata": {},
   "outputs": [
    {
     "name": "stdout",
     "output_type": "stream",
     "text": [
      "What's your name Sherlock\n",
      "Hello Sherlock\n"
     ]
    }
   ],
   "source": [
    "name = input (\"What's your name \")\n",
    "if name == \"Sherlock\":\n",
    "    print(\"Hello Sherlock\")\n",
    "elif name == \"Siddharth\":\n",
    "    print(\"Siddharth is the Best\")\n",
    "else:\n",
    "    a = (input(\"Who are you?!\"))\n",
    "    print(\"Hey Hello {}, I did'nt recognize you earlier\".format(a))"
   ]
  },
  {
   "cell_type": "code",
   "execution_count": 40,
   "id": "3618e762",
   "metadata": {},
   "outputs": [
    {
     "name": "stdout",
     "output_type": "stream",
     "text": [
      "What's your name: Siddharth\n",
      "Siddharth is the Best\n"
     ]
    }
   ],
   "source": [
    "name = input (\"What's your name: \")\n",
    "if name == \"Sherlock\":\n",
    "    print(\"Hello Sherlock\")\n",
    "elif name == \"Siddharth\":\n",
    "    print(\"Siddharth is the Best\")\n",
    "else:\n",
    "    a = (input(\"Who are you?!\"))\n",
    "    print(\"Hey Hello {}, I did'nt recognize you earlier\".format(a))"
   ]
  },
  {
   "cell_type": "code",
   "execution_count": 41,
   "id": "b039d3bd",
   "metadata": {},
   "outputs": [
    {
     "name": "stdout",
     "output_type": "stream",
     "text": [
      "What's your name Siddharth\n",
      "Siddharth is the Best\n"
     ]
    }
   ],
   "source": [
    "name = input (\"What's your name \")\n",
    "if name == \"Sherlock\":\n",
    "    print(\"Hello Sherlock\")\n",
    "elif name == \"Siddharth\":\n",
    "    print(\"Siddharth is the Best\")\n",
    "else:\n",
    "    a = (input(\"Who are you?! \"))\n",
    "    print(\"Hey Hello {}, I did'nt recognize you earlier\".format(a))"
   ]
  },
  {
   "cell_type": "code",
   "execution_count": 42,
   "id": "4aef2b7c",
   "metadata": {},
   "outputs": [
    {
     "name": "stdout",
     "output_type": "stream",
     "text": [
      "What's your name Sherlock\n",
      "Hello Sherlock\n"
     ]
    }
   ],
   "source": [
    "name = input (\"What's your name \")\n",
    "if name == \"Sherlock\":\n",
    "    print(\"Hello Sherlock\")\n",
    "elif name == \"Siddharth\":\n",
    "    print(\"Siddharth is the Best\")\n",
    "else:\n",
    "    a = (input(\"Who are you?!\"))\n",
    "    print(\"Hey Hello {0}, I did'nt recognize you earlier\".format(a))"
   ]
  },
  {
   "cell_type": "markdown",
   "id": "97d603bc",
   "metadata": {},
   "source": [
    "# Thank You"
   ]
  }
 ],
 "metadata": {
  "kernelspec": {
   "display_name": "Python 3 (ipykernel)",
   "language": "python",
   "name": "python3"
  },
  "language_info": {
   "codemirror_mode": {
    "name": "ipython",
    "version": 3
   },
   "file_extension": ".py",
   "mimetype": "text/x-python",
   "name": "python",
   "nbconvert_exporter": "python",
   "pygments_lexer": "ipython3",
   "version": "3.10.9"
  }
 },
 "nbformat": 4,
 "nbformat_minor": 5
}
