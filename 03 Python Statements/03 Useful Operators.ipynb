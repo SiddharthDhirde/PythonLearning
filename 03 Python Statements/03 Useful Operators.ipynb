{
 "cells": [
  {
   "cell_type": "markdown",
   "id": "37d7ef31",
   "metadata": {},
   "source": [
    "## USEFUL OPERATORS IN PYTHON"
   ]
  },
  {
   "cell_type": "code",
   "execution_count": 1,
   "id": "574ec0e9",
   "metadata": {},
   "outputs": [],
   "source": [
    "# Range function"
   ]
  },
  {
   "cell_type": "code",
   "execution_count": 2,
   "id": "19dcea91",
   "metadata": {},
   "outputs": [],
   "source": [
    "mylist=[1,2,3]"
   ]
  },
  {
   "cell_type": "code",
   "execution_count": 3,
   "id": "f32f7ced",
   "metadata": {},
   "outputs": [
    {
     "name": "stdout",
     "output_type": "stream",
     "text": [
      "0\n",
      "1\n",
      "2\n",
      "3\n",
      "4\n",
      "5\n",
      "6\n",
      "7\n",
      "8\n",
      "9\n"
     ]
    }
   ],
   "source": [
    "for num in range(10):\n",
    "    print(num)    "
   ]
  },
  {
   "cell_type": "code",
   "execution_count": 4,
   "id": "99480640",
   "metadata": {},
   "outputs": [
    {
     "name": "stdout",
     "output_type": "stream",
     "text": [
      "2\n",
      "3\n",
      "4\n",
      "5\n",
      "6\n",
      "7\n",
      "8\n",
      "9\n"
     ]
    }
   ],
   "source": [
    "for num in range(2,10):\n",
    "    print(num)    "
   ]
  },
  {
   "cell_type": "code",
   "execution_count": 5,
   "id": "16edd127",
   "metadata": {},
   "outputs": [
    {
     "name": "stdout",
     "output_type": "stream",
     "text": [
      "3\n",
      "5\n",
      "7\n",
      "9\n"
     ]
    }
   ],
   "source": [
    "for num in range(3,10,2):\n",
    "    print(num)    "
   ]
  },
  {
   "cell_type": "code",
   "execution_count": 6,
   "id": "38314384",
   "metadata": {},
   "outputs": [
    {
     "name": "stdout",
     "output_type": "stream",
     "text": [
      "0\n",
      "2\n",
      "4\n",
      "6\n",
      "8\n",
      "10\n"
     ]
    }
   ],
   "source": [
    "for num in range(0,11,2):\n",
    "    print(num)    "
   ]
  },
  {
   "cell_type": "code",
   "execution_count": 7,
   "id": "3cdd1c9f",
   "metadata": {},
   "outputs": [
    {
     "name": "stdout",
     "output_type": "stream",
     "text": [
      "9\n",
      "18\n",
      "27\n",
      "36\n",
      "45\n",
      "54\n",
      "63\n",
      "72\n",
      "81\n",
      "90\n"
     ]
    }
   ],
   "source": [
    "for num in range(9,91,9):\n",
    "    print(num)    "
   ]
  },
  {
   "cell_type": "code",
   "execution_count": 8,
   "id": "f55c71e3",
   "metadata": {},
   "outputs": [
    {
     "data": {
      "text/plain": [
       "range(9, 91, 9)"
      ]
     },
     "execution_count": 8,
     "metadata": {},
     "output_type": "execute_result"
    }
   ],
   "source": [
    "# range is a generator; it just generate and dont store anything\n",
    "range(9,91,9) "
   ]
  },
  {
   "cell_type": "code",
   "execution_count": 9,
   "id": "94c138c2",
   "metadata": {},
   "outputs": [
    {
     "name": "stdout",
     "output_type": "stream",
     "text": [
      "<class 'range'>\n"
     ]
    }
   ],
   "source": [
    "print(type(range(9,91,9)))"
   ]
  },
  {
   "cell_type": "code",
   "execution_count": 10,
   "id": "2a5d8d2d",
   "metadata": {},
   "outputs": [
    {
     "name": "stdout",
     "output_type": "stream",
     "text": [
      "[range(10, 100, 10)]\n",
      "<class 'list'>\n"
     ]
    }
   ],
   "source": [
    "print([range(10,100,10)])\n",
    "\n",
    "print(type([range(10,100,10)]))"
   ]
  },
  {
   "cell_type": "code",
   "execution_count": 11,
   "id": "0dd1cc48",
   "metadata": {},
   "outputs": [
    {
     "name": "stdout",
     "output_type": "stream",
     "text": [
      "[range(0, 10)]\n"
     ]
    }
   ],
   "source": [
    "l1 = [range(10)]\n",
    "print(l1)"
   ]
  },
  {
   "cell_type": "code",
   "execution_count": 12,
   "id": "6953963e",
   "metadata": {},
   "outputs": [
    {
     "data": {
      "text/plain": [
       "[9, 18, 27, 36, 45, 54, 63, 72, 81, 90]"
      ]
     },
     "execution_count": 12,
     "metadata": {},
     "output_type": "execute_result"
    }
   ],
   "source": [
    "list(range(9,91,9))"
   ]
  },
  {
   "cell_type": "code",
   "execution_count": 13,
   "id": "5c880815",
   "metadata": {},
   "outputs": [
    {
     "data": {
      "text/plain": [
       "[11, 22, 33, 44, 55, 66, 77, 88, 99, 110]"
      ]
     },
     "execution_count": 13,
     "metadata": {},
     "output_type": "execute_result"
    }
   ],
   "source": [
    "list(range(11,111,11)) #table of 11"
   ]
  },
  {
   "cell_type": "code",
   "execution_count": 14,
   "id": "eab60900",
   "metadata": {},
   "outputs": [
    {
     "data": {
      "text/plain": [
       "[9, 10, 11, 12, 13, 14, 15, 16, 17, 18]"
      ]
     },
     "execution_count": 14,
     "metadata": {},
     "output_type": "execute_result"
    }
   ],
   "source": [
    "list(range(9,19))"
   ]
  },
  {
   "cell_type": "code",
   "execution_count": 15,
   "id": "bf414ad0",
   "metadata": {},
   "outputs": [
    {
     "name": "stdout",
     "output_type": "stream",
     "text": [
      "[9, 18, 27, 36, 45, 54, 63, 72, 81, 90]\n"
     ]
    }
   ],
   "source": [
    "table_of_9 = list(range(9,91,9))\n",
    "print(table_of_9)"
   ]
  },
  {
   "cell_type": "code",
   "execution_count": 16,
   "id": "1a7c313c",
   "metadata": {},
   "outputs": [
    {
     "data": {
      "text/plain": [
       "[9, 10, 11, 12, 13, 14, 15, 16, 17, 18, 19, 20, 21, 22, 23, 24, 25, 26]"
      ]
     },
     "execution_count": 16,
     "metadata": {},
     "output_type": "execute_result"
    }
   ],
   "source": [
    "list(range(9,27))"
   ]
  },
  {
   "cell_type": "code",
   "execution_count": 17,
   "id": "a37c805f",
   "metadata": {},
   "outputs": [
    {
     "data": {
      "text/plain": [
       "(9, 10, 11, 12, 13, 14, 15, 16, 17, 18, 19, 20, 21, 22, 23, 24, 25, 26)"
      ]
     },
     "execution_count": 17,
     "metadata": {},
     "output_type": "execute_result"
    }
   ],
   "source": [
    "# tuple\n",
    "tuple(range(9,27))"
   ]
  },
  {
   "cell_type": "code",
   "execution_count": 18,
   "id": "c6715c64",
   "metadata": {},
   "outputs": [
    {
     "name": "stdout",
     "output_type": "stream",
     "text": [
      "At index 0 the letter is a\n",
      "At index 1 the letter is b\n",
      "At index 2 the letter is c\n",
      "At index 3 the letter is d\n",
      "At index 4 the letter is e\n"
     ]
    }
   ],
   "source": [
    "index_count=0\n",
    "\n",
    "for letter in \"abcde\":\n",
    "    print(\"At index {} the letter is {}\".format(index_count,letter))\n",
    "    index_count +=1"
   ]
  },
  {
   "cell_type": "code",
   "execution_count": 19,
   "id": "4ac15be9",
   "metadata": {},
   "outputs": [
    {
     "name": "stdout",
     "output_type": "stream",
     "text": [
      "a\n",
      "b\n",
      "c\n",
      "d\n",
      "e\n"
     ]
    }
   ],
   "source": [
    "index_count=0\n",
    "\n",
    "for letter in \"abcde\":\n",
    "    print(letter)\n",
    "    index_count +=1"
   ]
  },
  {
   "cell_type": "code",
   "execution_count": 20,
   "id": "a7f051b3",
   "metadata": {},
   "outputs": [],
   "source": [
    "# Enemurate function \n",
    "# replicate"
   ]
  },
  {
   "cell_type": "code",
   "execution_count": 21,
   "id": "218d82b7",
   "metadata": {},
   "outputs": [
    {
     "name": "stdout",
     "output_type": "stream",
     "text": [
      "a\n",
      "b\n",
      "c\n",
      "d\n",
      "e\n"
     ]
    }
   ],
   "source": [
    "index_count=0\n",
    "word = \"abcde\"\n",
    "for letter in word:\n",
    "    print(word[index_count])\n",
    "    index_count += 1"
   ]
  },
  {
   "cell_type": "code",
   "execution_count": 22,
   "id": "d6e4821e",
   "metadata": {},
   "outputs": [
    {
     "name": "stdout",
     "output_type": "stream",
     "text": [
      "0 a\n",
      "1 b\n",
      "2 c\n",
      "3 d\n",
      "4 e\n"
     ]
    }
   ],
   "source": [
    "index_count=0\n",
    "word = \"abcde\"\n",
    "for letter in word:\n",
    "    print(index_count, letter)\n",
    "    index_count += 1"
   ]
  },
  {
   "cell_type": "code",
   "execution_count": 23,
   "id": "181d87bd",
   "metadata": {},
   "outputs": [
    {
     "name": "stdout",
     "output_type": "stream",
     "text": [
      "(0, 'a')\n",
      "(1, 'b')\n",
      "(2, 'c')\n",
      "(3, 'd')\n",
      "(4, 'e')\n"
     ]
    }
   ],
   "source": [
    "index_count=0\n",
    "word = \"abcde\"\n",
    "for letter in word:\n",
    "    print((index_count, letter))\n",
    "    index_count += 1"
   ]
  },
  {
   "cell_type": "code",
   "execution_count": 24,
   "id": "8e6a3478",
   "metadata": {},
   "outputs": [
    {
     "name": "stdout",
     "output_type": "stream",
     "text": [
      "(0, 'a')\n",
      "(1, 'b')\n",
      "(2, 'c')\n",
      "(3, 'd')\n",
      "(4, 'e')\n"
     ]
    }
   ],
   "source": [
    "# we can generate above output simple with enumerate\n",
    "word = \"abcde\"\n",
    "for item in enumerate(word):\n",
    "    print(item)"
   ]
  },
  {
   "cell_type": "code",
   "execution_count": 25,
   "id": "2735b4bb",
   "metadata": {},
   "outputs": [
    {
     "name": "stdout",
     "output_type": "stream",
     "text": [
      "0 a\n",
      "1 b\n",
      "2 c\n",
      "3 d\n",
      "4 e\n"
     ]
    }
   ],
   "source": [
    "q = \"abcde\"\n",
    "# tuple unpacking\n",
    "for index,letter in enumerate(q):\n",
    "    print(index,letter)"
   ]
  },
  {
   "cell_type": "code",
   "execution_count": 26,
   "id": "affbb55d",
   "metadata": {},
   "outputs": [
    {
     "name": "stdout",
     "output_type": "stream",
     "text": [
      "0\n",
      "1\n",
      "2\n",
      "3\n",
      "4\n",
      "outside loop: 4\n"
     ]
    }
   ],
   "source": [
    "word = \"abcde\"\n",
    "for index,letter in enumerate(word):\n",
    "    print(index)\n",
    "print(\"outside loop:\", index)"
   ]
  },
  {
   "cell_type": "code",
   "execution_count": 27,
   "id": "debad858",
   "metadata": {},
   "outputs": [
    {
     "name": "stdout",
     "output_type": "stream",
     "text": [
      "a\n",
      "b\n",
      "c\n",
      "d\n",
      "e\n"
     ]
    }
   ],
   "source": [
    "word = \"abcde\"\n",
    "for index,letter in enumerate(word):\n",
    "    print(letter)"
   ]
  },
  {
   "cell_type": "code",
   "execution_count": 28,
   "id": "db07c77b",
   "metadata": {},
   "outputs": [
    {
     "name": "stdout",
     "output_type": "stream",
     "text": [
      "0\n",
      "a\n",
      "1\n",
      "b\n",
      "2\n",
      "c\n",
      "3\n",
      "d\n",
      "4\n",
      "e\n"
     ]
    }
   ],
   "source": [
    "word = \"abcde\"\n",
    "for index,letter in enumerate(word):\n",
    "    print(index)\n",
    "    print(letter)"
   ]
  },
  {
   "cell_type": "code",
   "execution_count": 29,
   "id": "db032642",
   "metadata": {},
   "outputs": [
    {
     "name": "stdout",
     "output_type": "stream",
     "text": [
      "0\n",
      "a\n",
      "\n",
      "\n",
      "1\n",
      "b\n",
      "\n",
      "\n",
      "2\n",
      "c\n",
      "\n",
      "\n",
      "3\n",
      "d\n",
      "\n",
      "\n",
      "4\n",
      "e\n",
      "\n",
      "\n"
     ]
    }
   ],
   "source": [
    "word = \"abcde\"\n",
    "for index,letter in enumerate(word):\n",
    "    print(index)\n",
    "    print(letter)\n",
    "    print('\\n')"
   ]
  },
  {
   "cell_type": "code",
   "execution_count": null,
   "id": "7129accd",
   "metadata": {},
   "outputs": [],
   "source": []
  },
  {
   "cell_type": "code",
   "execution_count": 30,
   "id": "0c6e90f3",
   "metadata": {},
   "outputs": [],
   "source": [
    "\n",
    "# zip function (Opposite to enumerate function)\n"
   ]
  },
  {
   "cell_type": "code",
   "execution_count": 31,
   "id": "33c61167",
   "metadata": {},
   "outputs": [],
   "source": [
    "list1=[1,2,3,4,5]\n",
    "list2=['a','b','c','d','e']"
   ]
  },
  {
   "cell_type": "code",
   "execution_count": 32,
   "id": "f67fbae6",
   "metadata": {},
   "outputs": [
    {
     "data": {
      "text/plain": [
       "<zip at 0x286a62060c0>"
      ]
     },
     "execution_count": 32,
     "metadata": {},
     "output_type": "execute_result"
    }
   ],
   "source": [
    "zip(list1,list2)"
   ]
  },
  {
   "cell_type": "code",
   "execution_count": 33,
   "id": "e763cd59",
   "metadata": {},
   "outputs": [
    {
     "name": "stdout",
     "output_type": "stream",
     "text": [
      "(1, 'a')\n",
      "(2, 'b')\n",
      "(3, 'c')\n",
      "(4, 'd')\n",
      "(5, 'e')\n"
     ]
    }
   ],
   "source": [
    "for item in zip(list1,list2):\n",
    "    print(item)               # we will get tuples"
   ]
  },
  {
   "cell_type": "code",
   "execution_count": 34,
   "id": "45d5a854",
   "metadata": {},
   "outputs": [
    {
     "name": "stdout",
     "output_type": "stream",
     "text": [
      "<zip object at 0x00000286A6206E00>\n",
      "<zip object at 0x00000286A61E3040>\n",
      "<zip object at 0x00000286A61E3040>\n",
      "<zip object at 0x00000286A61E3040>\n",
      "<zip object at 0x00000286A61E3040>\n"
     ]
    }
   ],
   "source": [
    "for item in zip(list1,list2):\n",
    "    print(zip(list1,list2))"
   ]
  },
  {
   "cell_type": "code",
   "execution_count": 35,
   "id": "cc19258d",
   "metadata": {
    "scrolled": true
   },
   "outputs": [
    {
     "name": "stdout",
     "output_type": "stream",
     "text": [
      "<zip object at 0x00000286A6207580>\n",
      "<zip object at 0x00000286A6207580>\n",
      "<zip object at 0x00000286A6207580>\n",
      "<zip object at 0x00000286A6207580>\n",
      "<zip object at 0x00000286A6207580>\n"
     ]
    }
   ],
   "source": [
    "for item in zip(list1,list2):\n",
    "    print(zip(item))"
   ]
  },
  {
   "cell_type": "code",
   "execution_count": null,
   "id": "46de7205",
   "metadata": {},
   "outputs": [],
   "source": []
  },
  {
   "cell_type": "code",
   "execution_count": 36,
   "id": "8a5ca040",
   "metadata": {},
   "outputs": [],
   "source": [
    "list1=[1,2,3,54,5,6,8,9,88]\n",
    "list2=['a','b','c','d','e']"
   ]
  },
  {
   "cell_type": "code",
   "execution_count": 37,
   "id": "d3b7c51d",
   "metadata": {},
   "outputs": [
    {
     "name": "stdout",
     "output_type": "stream",
     "text": [
      "(1, 'a')\n",
      "(2, 'b')\n",
      "(3, 'c')\n",
      "(54, 'd')\n",
      "(5, 'e')\n"
     ]
    }
   ],
   "source": [
    "for item in zip(list1,list2):\n",
    "    print(item)"
   ]
  },
  {
   "cell_type": "code",
   "execution_count": 38,
   "id": "ab5dbdd2",
   "metadata": {},
   "outputs": [
    {
     "name": "stdout",
     "output_type": "stream",
     "text": [
      "(1, 'a')\n",
      "(2, 'b')\n",
      "(3, 'c')\n"
     ]
    }
   ],
   "source": [
    "list1=[1,2,3]\n",
    "list2=['a','b','c','d','e']\n",
    "for item in zip(list1,list2):\n",
    "    print(item)"
   ]
  },
  {
   "cell_type": "code",
   "execution_count": 39,
   "id": "a863f550",
   "metadata": {},
   "outputs": [
    {
     "name": "stdout",
     "output_type": "stream",
     "text": [
      "(1, 'a')\n",
      "(2, 'b')\n",
      "(3, 'c')\n"
     ]
    }
   ],
   "source": [
    "list1=[1,2,3]\n",
    "list2=['a','b','c','d','e']\n",
    "list3=[100,200,300,400]\n",
    "for item in zip(list1,list2):\n",
    "    print(item)"
   ]
  },
  {
   "cell_type": "code",
   "execution_count": 40,
   "id": "6da7ebb5",
   "metadata": {},
   "outputs": [
    {
     "name": "stdout",
     "output_type": "stream",
     "text": [
      "(1, 'a', 100)\n",
      "(2, 'b', 200)\n",
      "(3, 'c', 300)\n"
     ]
    }
   ],
   "source": [
    "list1=[1,2,3]\n",
    "list2=['a','b','c','d','e']\n",
    "list3=[100,200,300,400]\n",
    "for item in zip(list1,list2,list3):\n",
    "    print(item)"
   ]
  },
  {
   "cell_type": "code",
   "execution_count": 41,
   "id": "4882e5ca",
   "metadata": {},
   "outputs": [
    {
     "name": "stdout",
     "output_type": "stream",
     "text": [
      "(1, 'a', 100)\n",
      "(2, 'b', 200)\n",
      "(3, 'c', 300)\n",
      "(3, 'c', 300)\n"
     ]
    }
   ],
   "source": [
    "list1=[1,2,3]\n",
    "list2=['a','b','c','d','e']\n",
    "list3=[100,200,300,400]\n",
    "for item in zip(list1,list2,list3):\n",
    "    print(item)\n",
    "print(item)"
   ]
  },
  {
   "cell_type": "code",
   "execution_count": 42,
   "id": "3d8961f2",
   "metadata": {},
   "outputs": [],
   "source": [
    "mylist1 = [1,2,3,4,5,6]\n",
    "mylist2 = ['a','b','c']\n",
    "mylist3 = [100,200,300]"
   ]
  },
  {
   "cell_type": "code",
   "execution_count": 43,
   "id": "a6817332",
   "metadata": {
    "scrolled": true
   },
   "outputs": [
    {
     "name": "stdout",
     "output_type": "stream",
     "text": [
      "(1, 'a', 100)\n",
      "(2, 'b', 200)\n",
      "(3, 'c', 300)\n"
     ]
    }
   ],
   "source": [
    "for item in zip(mylist1,list2,mylist3):\n",
    "    print(item)"
   ]
  },
  {
   "cell_type": "code",
   "execution_count": 44,
   "id": "bab416af",
   "metadata": {},
   "outputs": [
    {
     "data": {
      "text/plain": [
       "[(1, 'a'), (2, 'b'), (3, 'c')]"
      ]
     },
     "execution_count": 44,
     "metadata": {},
     "output_type": "execute_result"
    }
   ],
   "source": [
    "list(zip(mylist1,mylist2))"
   ]
  },
  {
   "cell_type": "code",
   "execution_count": 45,
   "id": "10b03e0e",
   "metadata": {},
   "outputs": [
    {
     "data": {
      "text/plain": [
       "((1, 'a'), (2, 'b'), (3, 'c'))"
      ]
     },
     "execution_count": 45,
     "metadata": {},
     "output_type": "execute_result"
    }
   ],
   "source": [
    "tuple(zip(mylist1,mylist2))"
   ]
  },
  {
   "cell_type": "code",
   "execution_count": null,
   "id": "afa31f37",
   "metadata": {},
   "outputs": [],
   "source": []
  },
  {
   "cell_type": "code",
   "execution_count": 46,
   "id": "fb2231ca",
   "metadata": {},
   "outputs": [
    {
     "name": "stdout",
     "output_type": "stream",
     "text": [
      "1 a 100\n",
      "2 b 200\n",
      "3 c 300\n"
     ]
    }
   ],
   "source": [
    "for a,b,c in zip(mylist1,list2,mylist3):\n",
    "    print(a,b,c)"
   ]
  },
  {
   "cell_type": "code",
   "execution_count": 47,
   "id": "0981d4ee",
   "metadata": {},
   "outputs": [
    {
     "name": "stdout",
     "output_type": "stream",
     "text": [
      "1 100\n",
      "2 200\n",
      "3 300\n"
     ]
    }
   ],
   "source": [
    "for a,b,c in zip(mylist1,list2,mylist3):\n",
    "    print(a,c)"
   ]
  },
  {
   "cell_type": "code",
   "execution_count": 48,
   "id": "e71c8d92",
   "metadata": {},
   "outputs": [
    {
     "name": "stdout",
     "output_type": "stream",
     "text": [
      "100\n",
      "200\n",
      "300\n"
     ]
    }
   ],
   "source": [
    "for a,b,c in zip(mylist1,list2,mylist3):\n",
    "    print(c)"
   ]
  },
  {
   "cell_type": "code",
   "execution_count": null,
   "id": "89531db0",
   "metadata": {},
   "outputs": [],
   "source": []
  },
  {
   "cell_type": "code",
   "execution_count": 49,
   "id": "76cd6329",
   "metadata": {},
   "outputs": [
    {
     "data": {
      "text/plain": [
       "False"
      ]
     },
     "execution_count": 49,
     "metadata": {},
     "output_type": "execute_result"
    }
   ],
   "source": [
    "# return boolean if left_part it is present in right_part (list, string, etc.)\n",
    "\"x\" in [1.3,3,4,5]"
   ]
  },
  {
   "cell_type": "code",
   "execution_count": 50,
   "id": "4394e6eb",
   "metadata": {},
   "outputs": [
    {
     "data": {
      "text/plain": [
       "False"
      ]
     },
     "execution_count": 50,
     "metadata": {},
     "output_type": "execute_result"
    }
   ],
   "source": [
    "\"x\" in [1.3,3,4,5,]"
   ]
  },
  {
   "cell_type": "code",
   "execution_count": 51,
   "id": "013feb11",
   "metadata": {},
   "outputs": [
    {
     "data": {
      "text/plain": [
       "True"
      ]
     },
     "execution_count": 51,
     "metadata": {},
     "output_type": "execute_result"
    }
   ],
   "source": [
    "\"x\" in [1.3,3,4,'x']"
   ]
  },
  {
   "cell_type": "code",
   "execution_count": 52,
   "id": "79f92648",
   "metadata": {},
   "outputs": [
    {
     "data": {
      "text/plain": [
       "True"
      ]
     },
     "execution_count": 52,
     "metadata": {},
     "output_type": "execute_result"
    }
   ],
   "source": [
    "\"x\" in ['sf','f','x']"
   ]
  },
  {
   "cell_type": "code",
   "execution_count": null,
   "id": "8a708f2b",
   "metadata": {},
   "outputs": [],
   "source": []
  },
  {
   "cell_type": "code",
   "execution_count": 53,
   "id": "f149f2f6",
   "metadata": {},
   "outputs": [
    {
     "data": {
      "text/plain": [
       "True"
      ]
     },
     "execution_count": 53,
     "metadata": {},
     "output_type": "execute_result"
    }
   ],
   "source": [
    "\"x\" in \"sdfsxz\""
   ]
  },
  {
   "cell_type": "code",
   "execution_count": 54,
   "id": "501bd523",
   "metadata": {},
   "outputs": [
    {
     "data": {
      "text/plain": [
       "True"
      ]
     },
     "execution_count": 54,
     "metadata": {},
     "output_type": "execute_result"
    }
   ],
   "source": [
    "'k' in'hkjhk fvjhk b '"
   ]
  },
  {
   "cell_type": "code",
   "execution_count": 55,
   "id": "300950fe",
   "metadata": {},
   "outputs": [
    {
     "data": {
      "text/plain": [
       "True"
      ]
     },
     "execution_count": 55,
     "metadata": {},
     "output_type": "execute_result"
    }
   ],
   "source": [
    "'a' in \"siddharth\""
   ]
  },
  {
   "cell_type": "code",
   "execution_count": 56,
   "id": "2f8e5e08",
   "metadata": {},
   "outputs": [
    {
     "name": "stdout",
     "output_type": "stream",
     "text": [
      "True\n",
      "False\n",
      "True\n"
     ]
    }
   ],
   "source": [
    "# For Dictionary by Default in keyword checks for just keys and not for their values\n",
    "print('mykey' in {'mykey': 234})\n",
    "\n",
    "print(234 in {\"mykey\":234}) #default works for keys in dictionaries, therefore o/p will be False\n",
    "\n",
    "\n",
    "d={'mykey': 534}\n",
    "print(534 in d.values())"
   ]
  },
  {
   "cell_type": "code",
   "execution_count": 57,
   "id": "f3677d7e",
   "metadata": {},
   "outputs": [
    {
     "data": {
      "text/plain": [
       "False"
      ]
     },
     "execution_count": 57,
     "metadata": {},
     "output_type": "execute_result"
    }
   ],
   "source": [
    "d={'mykey': 534}\n",
    "\n",
    "534 in d"
   ]
  },
  {
   "cell_type": "code",
   "execution_count": 58,
   "id": "93214a2c",
   "metadata": {},
   "outputs": [
    {
     "data": {
      "text/plain": [
       "False"
      ]
     },
     "execution_count": 58,
     "metadata": {},
     "output_type": "execute_result"
    }
   ],
   "source": [
    "534 in d.keys()"
   ]
  },
  {
   "cell_type": "code",
   "execution_count": 59,
   "id": "25dfad2d",
   "metadata": {},
   "outputs": [
    {
     "name": "stdout",
     "output_type": "stream",
     "text": [
      "mykey2\n",
      "mykey\n"
     ]
    }
   ],
   "source": [
    "d={'mykey': 534, 'mykey2': 3}\n",
    "print(max(d))\n",
    "print(min(d))"
   ]
  },
  {
   "cell_type": "code",
   "execution_count": 60,
   "id": "dc7ed993",
   "metadata": {},
   "outputs": [
    {
     "data": {
      "text/plain": [
       "10"
      ]
     },
     "execution_count": 60,
     "metadata": {},
     "output_type": "execute_result"
    }
   ],
   "source": [
    "mylist= [10,20,30,40,50,60,100]\n",
    "\n",
    "min(mylist)"
   ]
  },
  {
   "cell_type": "code",
   "execution_count": 61,
   "id": "1f6b66a0",
   "metadata": {},
   "outputs": [
    {
     "data": {
      "text/plain": [
       "100"
      ]
     },
     "execution_count": 61,
     "metadata": {},
     "output_type": "execute_result"
    }
   ],
   "source": [
    "max(mylist)"
   ]
  },
  {
   "cell_type": "code",
   "execution_count": null,
   "id": "27e90c73",
   "metadata": {},
   "outputs": [],
   "source": []
  },
  {
   "cell_type": "code",
   "execution_count": 62,
   "id": "1ecf7bf8",
   "metadata": {},
   "outputs": [],
   "source": [
    "from random import shuffle"
   ]
  },
  {
   "cell_type": "code",
   "execution_count": 63,
   "id": "1992c41e",
   "metadata": {},
   "outputs": [],
   "source": [
    "mylist =  [1,2,3,4,5,6,7,8,9,10]"
   ]
  },
  {
   "cell_type": "code",
   "execution_count": 64,
   "id": "bb1b125c",
   "metadata": {},
   "outputs": [
    {
     "data": {
      "text/plain": [
       "[1, 2, 3, 4, 5, 6, 7, 8, 9, 10]"
      ]
     },
     "execution_count": 64,
     "metadata": {},
     "output_type": "execute_result"
    }
   ],
   "source": [
    "mylist"
   ]
  },
  {
   "cell_type": "code",
   "execution_count": 65,
   "id": "043efc65",
   "metadata": {},
   "outputs": [],
   "source": [
    "shuffle(mylist)"
   ]
  },
  {
   "cell_type": "code",
   "execution_count": 66,
   "id": "d902184b",
   "metadata": {},
   "outputs": [
    {
     "data": {
      "text/plain": [
       "[9, 5, 6, 10, 8, 4, 3, 2, 1, 7]"
      ]
     },
     "execution_count": 66,
     "metadata": {},
     "output_type": "execute_result"
    }
   ],
   "source": [
    "mylist"
   ]
  },
  {
   "cell_type": "code",
   "execution_count": 67,
   "id": "1e217543",
   "metadata": {},
   "outputs": [],
   "source": [
    "random_list = shuffle(mylist)"
   ]
  },
  {
   "cell_type": "code",
   "execution_count": 68,
   "id": "55da55ee",
   "metadata": {},
   "outputs": [],
   "source": [
    "random_list # this is not going to work because its random"
   ]
  },
  {
   "cell_type": "code",
   "execution_count": 69,
   "id": "a721bfdd",
   "metadata": {},
   "outputs": [
    {
     "data": {
      "text/plain": [
       "NoneType"
      ]
     },
     "execution_count": 69,
     "metadata": {},
     "output_type": "execute_result"
    }
   ],
   "source": [
    "type(random_list)"
   ]
  },
  {
   "cell_type": "code",
   "execution_count": null,
   "id": "66e8e187",
   "metadata": {},
   "outputs": [],
   "source": []
  },
  {
   "cell_type": "code",
   "execution_count": 70,
   "id": "93b025c3",
   "metadata": {},
   "outputs": [],
   "source": [
    "from random import randint"
   ]
  },
  {
   "cell_type": "code",
   "execution_count": 71,
   "id": "c8722c3a",
   "metadata": {},
   "outputs": [
    {
     "data": {
      "text/plain": [
       "66"
      ]
     },
     "execution_count": 71,
     "metadata": {},
     "output_type": "execute_result"
    }
   ],
   "source": [
    "randint(1,100) # will display any no. from 1 to 100"
   ]
  },
  {
   "cell_type": "code",
   "execution_count": 72,
   "id": "e7d618e5",
   "metadata": {},
   "outputs": [
    {
     "data": {
      "text/plain": [
       "86"
      ]
     },
     "execution_count": 72,
     "metadata": {},
     "output_type": "execute_result"
    }
   ],
   "source": [
    "randint(1,100)"
   ]
  },
  {
   "cell_type": "code",
   "execution_count": 73,
   "id": "5df7d25e",
   "metadata": {},
   "outputs": [
    {
     "data": {
      "text/plain": [
       "34"
      ]
     },
     "execution_count": 73,
     "metadata": {},
     "output_type": "execute_result"
    }
   ],
   "source": [
    "randint(34,34)"
   ]
  },
  {
   "cell_type": "code",
   "execution_count": 74,
   "id": "4f42e025",
   "metadata": {},
   "outputs": [
    {
     "data": {
      "text/plain": [
       "0"
      ]
     },
     "execution_count": 74,
     "metadata": {},
     "output_type": "execute_result"
    }
   ],
   "source": [
    "randint(-2,4)"
   ]
  },
  {
   "cell_type": "code",
   "execution_count": 75,
   "id": "e4357776",
   "metadata": {},
   "outputs": [
    {
     "data": {
      "text/plain": [
       "-46"
      ]
     },
     "execution_count": 75,
     "metadata": {},
     "output_type": "execute_result"
    }
   ],
   "source": [
    "randint(-100,0)"
   ]
  },
  {
   "cell_type": "code",
   "execution_count": 76,
   "id": "49ac1308",
   "metadata": {},
   "outputs": [
    {
     "data": {
      "text/plain": [
       "3949771737796650297948732550178525424"
      ]
     },
     "execution_count": 76,
     "metadata": {},
     "output_type": "execute_result"
    }
   ],
   "source": [
    "randint(0,10000000000000000000000000000000000000)"
   ]
  },
  {
   "cell_type": "code",
   "execution_count": 77,
   "id": "25a87a37",
   "metadata": {},
   "outputs": [
    {
     "data": {
      "text/plain": [
       "317505056641653486176358079918102"
      ]
     },
     "execution_count": 77,
     "metadata": {},
     "output_type": "execute_result"
    }
   ],
   "source": [
    "randint(100000000000000,1000000000000000000000000000000000)"
   ]
  },
  {
   "cell_type": "code",
   "execution_count": 78,
   "id": "035f496f",
   "metadata": {},
   "outputs": [
    {
     "data": {
      "text/plain": [
       "786198135368607583476640465301338365907784782913423079110437201"
      ]
     },
     "execution_count": 78,
     "metadata": {},
     "output_type": "execute_result"
    }
   ],
   "source": [
    "randint(9999999999999999999999999999,999999999999999999999999999999999999999999999999999999999999999)"
   ]
  },
  {
   "cell_type": "code",
   "execution_count": 79,
   "id": "dcda257c",
   "metadata": {},
   "outputs": [
    {
     "data": {
      "text/plain": [
       "method"
      ]
     },
     "execution_count": 79,
     "metadata": {},
     "output_type": "execute_result"
    }
   ],
   "source": [
    "type(randint)"
   ]
  },
  {
   "cell_type": "code",
   "execution_count": 80,
   "id": "420f96c0",
   "metadata": {},
   "outputs": [],
   "source": [
    "mynum= randint(0,10)"
   ]
  },
  {
   "cell_type": "code",
   "execution_count": 81,
   "id": "e7c41b9c",
   "metadata": {},
   "outputs": [
    {
     "data": {
      "text/plain": [
       "2"
      ]
     },
     "execution_count": 81,
     "metadata": {},
     "output_type": "execute_result"
    }
   ],
   "source": [
    "mynum"
   ]
  },
  {
   "cell_type": "code",
   "execution_count": 82,
   "id": "411b197b",
   "metadata": {},
   "outputs": [
    {
     "data": {
      "text/plain": [
       "2"
      ]
     },
     "execution_count": 82,
     "metadata": {},
     "output_type": "execute_result"
    }
   ],
   "source": [
    "mynum"
   ]
  },
  {
   "cell_type": "code",
   "execution_count": 83,
   "id": "48e59f89",
   "metadata": {},
   "outputs": [
    {
     "data": {
      "text/plain": [
       "6"
      ]
     },
     "execution_count": 83,
     "metadata": {},
     "output_type": "execute_result"
    }
   ],
   "source": [
    "mynum+4"
   ]
  },
  {
   "cell_type": "code",
   "execution_count": 84,
   "id": "b9ad37b9",
   "metadata": {},
   "outputs": [],
   "source": [
    "addition1=mynum*10"
   ]
  },
  {
   "cell_type": "code",
   "execution_count": 85,
   "id": "ed0231b9",
   "metadata": {},
   "outputs": [
    {
     "data": {
      "text/plain": [
       "20"
      ]
     },
     "execution_count": 85,
     "metadata": {},
     "output_type": "execute_result"
    }
   ],
   "source": [
    "addition1"
   ]
  },
  {
   "cell_type": "code",
   "execution_count": 86,
   "id": "a3f3bc6e",
   "metadata": {},
   "outputs": [
    {
     "name": "stdout",
     "output_type": "stream",
     "text": [
      "Who are you?Tony Stark\n"
     ]
    }
   ],
   "source": [
    "result = input(\"Who are you?\")"
   ]
  },
  {
   "cell_type": "code",
   "execution_count": 87,
   "id": "1e0b90fc",
   "metadata": {},
   "outputs": [
    {
     "name": "stdout",
     "output_type": "stream",
     "text": [
      "WHO?108\n"
     ]
    }
   ],
   "source": [
    "result1 = input(\"WHO?\")"
   ]
  },
  {
   "cell_type": "code",
   "execution_count": 88,
   "id": "ee578577",
   "metadata": {},
   "outputs": [
    {
     "data": {
      "text/plain": [
       "'Tony Stark'"
      ]
     },
     "execution_count": 88,
     "metadata": {},
     "output_type": "execute_result"
    }
   ],
   "source": [
    "result"
   ]
  },
  {
   "cell_type": "code",
   "execution_count": 89,
   "id": "746aeaa7",
   "metadata": {},
   "outputs": [
    {
     "data": {
      "text/plain": [
       "'108'"
      ]
     },
     "execution_count": 89,
     "metadata": {},
     "output_type": "execute_result"
    }
   ],
   "source": [
    "result1"
   ]
  },
  {
   "cell_type": "code",
   "execution_count": 90,
   "id": "8d017181",
   "metadata": {},
   "outputs": [
    {
     "data": {
      "text/plain": [
       "str"
      ]
     },
     "execution_count": 90,
     "metadata": {},
     "output_type": "execute_result"
    }
   ],
   "source": [
    "type(result)"
   ]
  },
  {
   "cell_type": "code",
   "execution_count": 91,
   "id": "31dda28d",
   "metadata": {},
   "outputs": [
    {
     "data": {
      "text/plain": [
       "str"
      ]
     },
     "execution_count": 91,
     "metadata": {},
     "output_type": "execute_result"
    }
   ],
   "source": [
    "type(result1)"
   ]
  },
  {
   "cell_type": "code",
   "execution_count": 92,
   "id": "99a8a246",
   "metadata": {},
   "outputs": [
    {
     "data": {
      "text/plain": [
       "108.0"
      ]
     },
     "execution_count": 92,
     "metadata": {},
     "output_type": "execute_result"
    }
   ],
   "source": [
    "float(result1) # float(result) this wont work cause its string"
   ]
  },
  {
   "cell_type": "code",
   "execution_count": 93,
   "id": "7df631ea",
   "metadata": {},
   "outputs": [
    {
     "data": {
      "text/plain": [
       "108"
      ]
     },
     "execution_count": 93,
     "metadata": {},
     "output_type": "execute_result"
    }
   ],
   "source": [
    "int(result1)"
   ]
  },
  {
   "cell_type": "code",
   "execution_count": 94,
   "id": "a5692746",
   "metadata": {},
   "outputs": [
    {
     "name": "stdout",
     "output_type": "stream",
     "text": [
      "Fav no. :9\n"
     ]
    },
    {
     "data": {
      "text/plain": [
       "9"
      ]
     },
     "execution_count": 94,
     "metadata": {},
     "output_type": "execute_result"
    }
   ],
   "source": [
    "fav = int(input(\"Fav no. :\"))\n",
    "fav"
   ]
  },
  {
   "cell_type": "code",
   "execution_count": 95,
   "id": "d47e2751",
   "metadata": {},
   "outputs": [
    {
     "name": "stdout",
     "output_type": "stream",
     "text": [
      "Fav no. :9\n"
     ]
    },
    {
     "data": {
      "text/plain": [
       "9.0"
      ]
     },
     "execution_count": 95,
     "metadata": {},
     "output_type": "execute_result"
    }
   ],
   "source": [
    "fav = float(input(\"Fav no. :\"))\n",
    "fav"
   ]
  },
  {
   "cell_type": "markdown",
   "id": "e6b34799",
   "metadata": {},
   "source": [
    "# Thank You"
   ]
  }
 ],
 "metadata": {
  "kernelspec": {
   "display_name": "Python 3 (ipykernel)",
   "language": "python",
   "name": "python3"
  },
  "language_info": {
   "codemirror_mode": {
    "name": "ipython",
    "version": 3
   },
   "file_extension": ".py",
   "mimetype": "text/x-python",
   "name": "python",
   "nbconvert_exporter": "python",
   "pygments_lexer": "ipython3",
   "version": "3.10.9"
  }
 },
 "nbformat": 4,
 "nbformat_minor": 5
}
