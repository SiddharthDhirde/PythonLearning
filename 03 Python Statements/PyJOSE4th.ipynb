{
 "cells": [
  {
   "cell_type": "code",
   "execution_count": 1,
   "id": "b733204a",
   "metadata": {},
   "outputs": [],
   "source": [
    "#  OM NAMAH SHIVAY"
   ]
  },
  {
   "cell_type": "code",
   "execution_count": 2,
   "id": "2484c9ed",
   "metadata": {},
   "outputs": [],
   "source": [
    "# PYTHON BOOTCAMP\n",
    "# BY JOSE PORTILLA (PIERIAN DATA)\n",
    "## DATE:- 21ST JAN 2022\n",
    "\n",
    "## LET'S BEGIN THE ULTIMATE JOURNEY\n",
    "\n",
    "\n",
    "# 05_Folder Python Statements"
   ]
  },
  {
   "cell_type": "code",
   "execution_count": 3,
   "id": "5ee52b47",
   "metadata": {},
   "outputs": [],
   "source": [
    "# PREVIOUS FILE :- PyJOSE3rd"
   ]
  },
  {
   "cell_type": "markdown",
   "id": "e9f40d5d",
   "metadata": {},
   "source": [
    "# In This file :- 034 If elif Statements in Python to 036 WHILE LOOPS IN PYTHONM"
   ]
  },
  {
   "cell_type": "code",
   "execution_count": null,
   "id": "60253655",
   "metadata": {},
   "outputs": [],
   "source": []
  },
  {
   "cell_type": "code",
   "execution_count": null,
   "id": "c84d3a9b",
   "metadata": {},
   "outputs": [],
   "source": []
  },
  {
   "cell_type": "code",
   "execution_count": null,
   "id": "afea55ae",
   "metadata": {},
   "outputs": [],
   "source": []
  },
  {
   "cell_type": "markdown",
   "id": "6979e644",
   "metadata": {},
   "source": [
    "# 034 If elif Statements in Python \n",
    "# 21 JAN 2022"
   ]
  },
  {
   "cell_type": "code",
   "execution_count": 4,
   "id": "65f9003a",
   "metadata": {},
   "outputs": [],
   "source": [
    "# CONTROL FLOW"
   ]
  },
  {
   "cell_type": "code",
   "execution_count": 5,
   "id": "3acd0c6b",
   "metadata": {},
   "outputs": [],
   "source": [
    "# To controll flow we use \n",
    "# if, elif, else keywords"
   ]
  },
  {
   "cell_type": "code",
   "execution_count": 6,
   "id": "39cfca1b",
   "metadata": {},
   "outputs": [],
   "source": [
    "# Dont forget COLON & INTENDATION (WHITESPACE)"
   ]
  },
  {
   "cell_type": "code",
   "execution_count": 7,
   "id": "5476ebb5",
   "metadata": {},
   "outputs": [
    {
     "name": "stdout",
     "output_type": "stream",
     "text": [
      "Its true!\n"
     ]
    }
   ],
   "source": [
    "if True:\n",
    "    print(\"Its true!\")"
   ]
  },
  {
   "cell_type": "code",
   "execution_count": 8,
   "id": "8f537283",
   "metadata": {},
   "outputs": [
    {
     "name": "stdout",
     "output_type": "stream",
     "text": [
      "Its true!\n"
     ]
    }
   ],
   "source": [
    "if 2>1:\n",
    "    print(\"Its true!\")"
   ]
  },
  {
   "cell_type": "code",
   "execution_count": 9,
   "id": "52b34766",
   "metadata": {},
   "outputs": [],
   "source": [
    "if 3>6:\n",
    "    print(\"Its true!\")"
   ]
  },
  {
   "cell_type": "code",
   "execution_count": 10,
   "id": "89a22fc6",
   "metadata": {},
   "outputs": [
    {
     "name": "stdout",
     "output_type": "stream",
     "text": [
      "I wanna Eat something!!!!!!!!!!!!!\n"
     ]
    }
   ],
   "source": [
    "hungry= True\n",
    "if hungry:\n",
    "    print(\"I wanna Eat something!!!!!!!!!!!!!\")"
   ]
  },
  {
   "cell_type": "code",
   "execution_count": 11,
   "id": "ab95a6e4",
   "metadata": {},
   "outputs": [],
   "source": [
    "hungry= False\n",
    "if hungry:\n",
    "    print(\"I wanna Eat something!!!!!!!!!!!!!\")"
   ]
  },
  {
   "cell_type": "code",
   "execution_count": 12,
   "id": "dc98eb59",
   "metadata": {},
   "outputs": [
    {
     "name": "stdout",
     "output_type": "stream",
     "text": [
      "I wanna Eat something!!!!!!!!!!!!!\n"
     ]
    }
   ],
   "source": [
    "hungry= True\n",
    "if hungry:\n",
    "    print(\"I wanna Eat something!!!!!!!!!!!!!\")\n",
    "else:\n",
    "    print(\"Attach jevlo hoto\")"
   ]
  },
  {
   "cell_type": "code",
   "execution_count": 13,
   "id": "763fac12",
   "metadata": {},
   "outputs": [
    {
     "name": "stdout",
     "output_type": "stream",
     "text": [
      "Nako!! Attach jevlo hoto\n"
     ]
    }
   ],
   "source": [
    "hungry= False\n",
    "if hungry:\n",
    "    print(\"I wanna Eat something!!!!!!!!!!!!!\")\n",
    "else:\n",
    "    print(\"Nako!! Attach jevlo hoto\")"
   ]
  },
  {
   "cell_type": "code",
   "execution_count": 14,
   "id": "ca29b32d",
   "metadata": {},
   "outputs": [
    {
     "name": "stdout",
     "output_type": "stream",
     "text": [
      "I wanna Eat something!!!!!!!!!!!!!\n"
     ]
    }
   ],
   "source": [
    "hungry= 1\n",
    "if hungry:\n",
    "    print(\"I wanna Eat something!!!!!!!!!!!!!\")\n",
    "else:\n",
    "    print(\"Attach jevlo hoto\")"
   ]
  },
  {
   "cell_type": "code",
   "execution_count": 15,
   "id": "33fdcc5f",
   "metadata": {},
   "outputs": [
    {
     "name": "stdout",
     "output_type": "stream",
     "text": [
      "Attach jevlo hoto\n"
     ]
    }
   ],
   "source": [
    "hungry= 0\n",
    "if hungry:\n",
    "    print(\"I wanna Eat something!!!!!!!!!!!!!\")\n",
    "else:\n",
    "    print(\"Attach jevlo hoto\")"
   ]
  },
  {
   "cell_type": "code",
   "execution_count": 16,
   "id": "c8c90312",
   "metadata": {},
   "outputs": [
    {
     "name": "stdout",
     "output_type": "stream",
     "text": [
      "I wanna Eat something!!!!!!!!!!!!!\n"
     ]
    }
   ],
   "source": [
    "hungry= 43\n",
    "if hungry:\n",
    "    print(\"I wanna Eat something!!!!!!!!!!!!!\")\n",
    "else:\n",
    "    print(\"Attach jevlo hoto\")"
   ]
  },
  {
   "cell_type": "code",
   "execution_count": 17,
   "id": "19a1ca14",
   "metadata": {},
   "outputs": [
    {
     "name": "stdout",
     "output_type": "stream",
     "text": [
      "I wanna Eat something!!!!!!!!!!!!!\n"
     ]
    }
   ],
   "source": [
    "hungry= -34\n",
    "if hungry:\n",
    "    print(\"I wanna Eat something!!!!!!!!!!!!!\")\n",
    "else:\n",
    "    print(\"Attach jevlo hoto\")"
   ]
  },
  {
   "cell_type": "code",
   "execution_count": 18,
   "id": "c0af8f49",
   "metadata": {},
   "outputs": [
    {
     "name": "stdout",
     "output_type": "stream",
     "text": [
      "I wanna Eat something!!!!!!!!!!!!!\n"
     ]
    }
   ],
   "source": [
    "hungry= -1\n",
    "if hungry:\n",
    "    print(\"I wanna Eat something!!!!!!!!!!!!!\")\n",
    "else:\n",
    "    print(\"Attach jevlo hoto\")"
   ]
  },
  {
   "cell_type": "code",
   "execution_count": 19,
   "id": "5e50e4f6",
   "metadata": {},
   "outputs": [
    {
     "name": "stdout",
     "output_type": "stream",
     "text": [
      "I wanna Eat something!!!!!!!!!!!!!\n"
     ]
    }
   ],
   "source": [
    "hungry= 'True'\n",
    "if hungry:\n",
    "    print(\"I wanna Eat something!!!!!!!!!!!!!\")\n",
    "else:\n",
    "    print(\"Attach jevlo hoto\")"
   ]
  },
  {
   "cell_type": "code",
   "execution_count": 20,
   "id": "0486d471",
   "metadata": {},
   "outputs": [
    {
     "name": "stdout",
     "output_type": "stream",
     "text": [
      "I wanna Eat something!!!!!!!!!!!!!\n"
     ]
    }
   ],
   "source": [
    "hungry= \"False\"\n",
    "if hungry:\n",
    "    print(\"I wanna Eat something!!!!!!!!!!!!!\")\n",
    "else:\n",
    "    print(\"Attach jevlo hoto\")"
   ]
  },
  {
   "cell_type": "code",
   "execution_count": 21,
   "id": "92aea69b",
   "metadata": {},
   "outputs": [
    {
     "name": "stdout",
     "output_type": "stream",
     "text": [
      "I wanna Eat something!!!!!!!!!!!!!\n"
     ]
    }
   ],
   "source": [
    "hungry= '0'\n",
    "if hungry:\n",
    "    print(\"I wanna Eat something!!!!!!!!!!!!!\")\n",
    "else:\n",
    "    print(\"Attach jevlo hoto\")"
   ]
  },
  {
   "cell_type": "code",
   "execution_count": null,
   "id": "cc81a687",
   "metadata": {},
   "outputs": [],
   "source": []
  },
  {
   "cell_type": "code",
   "execution_count": null,
   "id": "ce47ddfc",
   "metadata": {},
   "outputs": [],
   "source": []
  },
  {
   "cell_type": "code",
   "execution_count": null,
   "id": "e7852f57",
   "metadata": {},
   "outputs": [],
   "source": []
  },
  {
   "cell_type": "code",
   "execution_count": 22,
   "id": "f5786763",
   "metadata": {},
   "outputs": [
    {
     "name": "stdout",
     "output_type": "stream",
     "text": [
      "I wanna Eat something!!!!!!!!!!!!!\n"
     ]
    }
   ],
   "source": [
    "hungry= True\n",
    "if hungry==True:\n",
    "    print(\"I wanna Eat something!!!!!!!!!!!!!\")\n",
    "else:\n",
    "    print(\"Attach jevlo hoto\")"
   ]
  },
  {
   "cell_type": "code",
   "execution_count": 23,
   "id": "c1d45c4d",
   "metadata": {},
   "outputs": [
    {
     "name": "stdout",
     "output_type": "stream",
     "text": [
      "Attach jevlo hoto\n"
     ]
    }
   ],
   "source": [
    "hungry= True\n",
    "if hungry==False:\n",
    "    print(\"I wanna Eat something!!!!!!!!!!!!!\")\n",
    "else:\n",
    "    print(\"Attach jevlo hoto\")"
   ]
  },
  {
   "cell_type": "code",
   "execution_count": 24,
   "id": "c4a825b8",
   "metadata": {},
   "outputs": [
    {
     "name": "stdout",
     "output_type": "stream",
     "text": [
      "Attach jevlo hoto\n"
     ]
    }
   ],
   "source": [
    "hungry= True\n",
    "if hungry==3:\n",
    "    print(\"I wanna Eat something!!!!!!!!!!!!!\")\n",
    "else:\n",
    "    print(\"Attach jevlo hoto\")"
   ]
  },
  {
   "cell_type": "code",
   "execution_count": 25,
   "id": "fd97e3b3",
   "metadata": {},
   "outputs": [
    {
     "name": "stdout",
     "output_type": "stream",
     "text": [
      "Attach jevlo hoto\n"
     ]
    }
   ],
   "source": [
    "hungry= True\n",
    "if hungry==0:\n",
    "    print(\"I wanna Eat something!!!!!!!!!!!!!\")\n",
    "else:\n",
    "    print(\"Attach jevlo hoto\")"
   ]
  },
  {
   "cell_type": "code",
   "execution_count": 26,
   "id": "d32d16cb",
   "metadata": {},
   "outputs": [
    {
     "name": "stdout",
     "output_type": "stream",
     "text": [
      "Attach jevlo hoto\n"
     ]
    }
   ],
   "source": [
    "hungry= True\n",
    "if hungry==-3:\n",
    "    print(\"I wanna Eat something!!!!!!!!!!!!!\")\n",
    "else:\n",
    "    print(\"Attach jevlo hoto\")"
   ]
  },
  {
   "cell_type": "code",
   "execution_count": null,
   "id": "96082a54",
   "metadata": {},
   "outputs": [],
   "source": []
  },
  {
   "cell_type": "code",
   "execution_count": null,
   "id": "1b701560",
   "metadata": {},
   "outputs": [],
   "source": []
  },
  {
   "cell_type": "code",
   "execution_count": null,
   "id": "c99c6260",
   "metadata": {},
   "outputs": [],
   "source": []
  },
  {
   "cell_type": "code",
   "execution_count": 27,
   "id": "0c1f0623",
   "metadata": {},
   "outputs": [
    {
     "name": "stdout",
     "output_type": "stream",
     "text": [
      "I dont know much about location of icream\n"
     ]
    }
   ],
   "source": [
    "loc = \"Bank\"\n",
    "if loc==\"Icream Shop\":\n",
    "    print(\"I want icream\")\n",
    "else:\n",
    "    print(\"I dont know much about location of icream\")"
   ]
  },
  {
   "cell_type": "code",
   "execution_count": 28,
   "id": "9ec34cb3",
   "metadata": {},
   "outputs": [
    {
     "name": "stdout",
     "output_type": "stream",
     "text": [
      "Money is COOL\n"
     ]
    }
   ],
   "source": [
    "loc = \"Bank\"\n",
    "if loc==\"Bank\":\n",
    "    print(\"Money is COOL\")\n",
    "else:\n",
    "    print(\"I dont know much about location of icream\")"
   ]
  },
  {
   "cell_type": "code",
   "execution_count": 29,
   "id": "c3c9bb16",
   "metadata": {},
   "outputs": [
    {
     "name": "stdout",
     "output_type": "stream",
     "text": [
      "I dont know much about location of icream\n"
     ]
    }
   ],
   "source": [
    "loc = \"Bank\"\n",
    "if loc==\"Icream Shop\":\n",
    "    print(\"I want icream\")\n",
    "else:print(\"I dont know much about location of icream\")"
   ]
  },
  {
   "cell_type": "code",
   "execution_count": null,
   "id": "ad1361ac",
   "metadata": {},
   "outputs": [],
   "source": []
  },
  {
   "cell_type": "code",
   "execution_count": 30,
   "id": "856e56bd",
   "metadata": {},
   "outputs": [
    {
     "name": "stdout",
     "output_type": "stream",
     "text": [
      "Money is COOL\n"
     ]
    }
   ],
   "source": [
    "loc = \"Bank\"\n",
    "if loc==\"Icream Shop\":\n",
    "    print(\"I want icream\")\n",
    "elif loc==\"Bank\":\n",
    "    print(\"Money is COOL\")\n",
    "else:\n",
    "    print(\"I dont know much about location of icream\")"
   ]
  },
  {
   "cell_type": "code",
   "execution_count": 31,
   "id": "f4d4e863",
   "metadata": {},
   "outputs": [
    {
     "name": "stdout",
     "output_type": "stream",
     "text": [
      "Money is COOL\n"
     ]
    }
   ],
   "source": [
    "loc = \"Bank\"\n",
    "if loc==\"Icream Shop\":\n",
    "    print(\"I want icream\")\n",
    "elif loc==\"Bank\":\n",
    "    print(\"Money is COOL\")\n",
    "elif loc==\"Bank\":                #this will not get printed\n",
    "    print(\"Money Heist\")\n",
    "else:\n",
    "    print(\"I dont know much about location of icream\")"
   ]
  },
  {
   "cell_type": "code",
   "execution_count": 32,
   "id": "a5161277",
   "metadata": {},
   "outputs": [
    {
     "name": "stdout",
     "output_type": "stream",
     "text": [
      "Money is COOL\n",
      "Money Heist\n"
     ]
    }
   ],
   "source": [
    "loc = \"Bank\"\n",
    "if loc==\"Icream Shop\":\n",
    "    print(\"I want icream\")\n",
    "elif loc==\"Bank\":\n",
    "    print(\"Money is COOL\")\n",
    "    print(\"Money Heist\")\n",
    "else:\n",
    "    print(\"I dont know much\")"
   ]
  },
  {
   "cell_type": "code",
   "execution_count": 33,
   "id": "5d89f9e0",
   "metadata": {},
   "outputs": [
    {
     "name": "stdout",
     "output_type": "stream",
     "text": [
      "Money Heist\n"
     ]
    }
   ],
   "source": [
    "loc = \"Bank\"\n",
    "if loc==\"Icream Shop\":\n",
    "    print(\"I want icream\")\n",
    "elif loc==\"Bank\":            \n",
    "    print(\"Money Heist\")\n",
    "elif loc == \"Bank\":\n",
    "    print(\"Money is COOL\")   #this will not get printed \n",
    "else:\n",
    "    print(\"I dont know much\")"
   ]
  },
  {
   "cell_type": "code",
   "execution_count": null,
   "id": "ebc0af9f",
   "metadata": {},
   "outputs": [],
   "source": []
  },
  {
   "cell_type": "code",
   "execution_count": 34,
   "id": "c1459838",
   "metadata": {},
   "outputs": [
    {
     "name": "stdout",
     "output_type": "stream",
     "text": [
      "Money Heist\n"
     ]
    }
   ],
   "source": [
    "loc = \"Bank\"\n",
    "if loc==\"Icream Shop\":\n",
    "    print(\"I want icream\")\n",
    "elif loc==\"Bank\":            \n",
    "    print(\"Money Heist\")\n",
    "elif loc == \"Store\":\n",
    "    print(\"Welcome to store\")\n",
    "else:\n",
    "    print(\"I dont know much\")"
   ]
  },
  {
   "cell_type": "code",
   "execution_count": 35,
   "id": "c3b5bab3",
   "metadata": {},
   "outputs": [
    {
     "name": "stdout",
     "output_type": "stream",
     "text": [
      "I want icream\n"
     ]
    }
   ],
   "source": [
    "loc = \"Iceream Shop\"\n",
    "if loc==\"Iceream Shop\":\n",
    "    print(\"I want icream\")\n",
    "elif loc==\"Bank\":            \n",
    "    print(\"Money Heist\")\n",
    "elif loc == \"Bank\":\n",
    "    print(\"Money is COOL\")   #this will not get printed \n",
    "else:\n",
    "    print(\"I dont know much\")"
   ]
  },
  {
   "cell_type": "code",
   "execution_count": 36,
   "id": "e70fce69",
   "metadata": {},
   "outputs": [
    {
     "name": "stdout",
     "output_type": "stream",
     "text": [
      "I dont know much\n"
     ]
    }
   ],
   "source": [
    "loc = \"Game\"\n",
    "if loc==\"Icream Shop\":\n",
    "    print(\"I want icream\")\n",
    "elif loc==\"Bank\":            \n",
    "    print(\"Money Heist\")\n",
    "elif loc == \"Bank\":\n",
    "    print(\"Money is COOL\")   #this will not get printed \n",
    "else:\n",
    "    print(\"I dont know much\")"
   ]
  },
  {
   "cell_type": "code",
   "execution_count": 37,
   "id": "8f6924b2",
   "metadata": {},
   "outputs": [
    {
     "name": "stdout",
     "output_type": "stream",
     "text": [
      "Welcome to store\n"
     ]
    }
   ],
   "source": [
    "loc = \"Store\"\n",
    "if loc==\"Icream Shop\":\n",
    "    print(\"I want icream\")\n",
    "elif loc==\"Bank\":            \n",
    "    print(\"Money Heist\")\n",
    "elif loc == \"Store\":\n",
    "    print(\"Welcome to store\")\n",
    "else:\n",
    "    print(\"I dont know much\")"
   ]
  },
  {
   "cell_type": "code",
   "execution_count": 38,
   "id": "8de360e6",
   "metadata": {},
   "outputs": [
    {
     "name": "stdout",
     "output_type": "stream",
     "text": [
      "I want icream\n"
     ]
    }
   ],
   "source": [
    "loc = \"Bank\"\n",
    "if loc!=\"Icream Shop\":\n",
    "    print(\"I want icream\")\n",
    "elif loc==\"Bank\":            \n",
    "    print(\"Money Heist\")\n",
    "elif loc != \"Store\":\n",
    "    print(\"Welcome to store\")\n",
    "else:\n",
    "    print(\"I dont know much\")"
   ]
  },
  {
   "cell_type": "code",
   "execution_count": 39,
   "id": "6d694c77",
   "metadata": {},
   "outputs": [
    {
     "name": "stdout",
     "output_type": "stream",
     "text": [
      "Siddharth is the Best\n"
     ]
    }
   ],
   "source": [
    "name = \"Siddharth\"\n",
    "if name == \"Sherlock\":\n",
    "    print(\"Hello Sherlock\")\n",
    "elif name == \"Siddharth\":\n",
    "    print(\"Siddharth is the Best\")\n",
    "else:\n",
    "    print(\"Who are you?!\")"
   ]
  },
  {
   "cell_type": "code",
   "execution_count": 40,
   "id": "03daf3d2",
   "metadata": {},
   "outputs": [
    {
     "name": "stdout",
     "output_type": "stream",
     "text": [
      "Hello Sherlock\n"
     ]
    }
   ],
   "source": [
    "name = \"Sherlock\"\n",
    "if name == \"Sherlock\":\n",
    "    print(\"Hello Sherlock\")\n",
    "elif name == \"Siddharth\":\n",
    "    print(\"Siddharth is the Best\")\n",
    "else:\n",
    "    print(\"Who are you?!\")"
   ]
  },
  {
   "cell_type": "code",
   "execution_count": 41,
   "id": "95834790",
   "metadata": {},
   "outputs": [
    {
     "name": "stdout",
     "output_type": "stream",
     "text": [
      "Who are you?!\n"
     ]
    }
   ],
   "source": [
    "name = \"Peter\"\n",
    "if name == \"Sherlock\":\n",
    "    print(\"Hello Sherlock\")\n",
    "elif name == \"Siddharth\":\n",
    "    print(\"Siddharth is the Best\")\n",
    "else:\n",
    "    print(\"Who are you?!\")"
   ]
  },
  {
   "cell_type": "code",
   "execution_count": 42,
   "id": "3a379415",
   "metadata": {},
   "outputs": [
    {
     "name": "stdout",
     "output_type": "stream",
     "text": [
      "Who are you?!Siddharth\n",
      "Siddharth\n",
      "Hey Hello, I did'nt recognize you earlier\n"
     ]
    }
   ],
   "source": [
    "name = \"Peter\"\n",
    "if name == \"Sherlock\":\n",
    "    print(\"Hello Sherlock\")\n",
    "elif name == \"Siddharth\":\n",
    "    print(\"Siddharth is the Best\")\n",
    "else:\n",
    "    print(input(\"Who are you?!\"))\n",
    "    \n",
    "    print(\"Hey Hello, I did'nt recognize you earlier\")"
   ]
  },
  {
   "cell_type": "code",
   "execution_count": 43,
   "id": "20cf5818",
   "metadata": {},
   "outputs": [
    {
     "name": "stdout",
     "output_type": "stream",
     "text": [
      "Who are you?!Peter\n",
      "Hey Hello Peter, I did'nt recognize you earlier\n"
     ]
    }
   ],
   "source": [
    "name = \"Peter\"\n",
    "if name == \"Sherlock\":\n",
    "    print(\"Hello Sherlock\")\n",
    "elif name == \"Siddharth\":\n",
    "    print(\"Siddharth is the Best\")\n",
    "else:\n",
    "    a = (input(\"Who are you?!\"))\n",
    "    print(\"Hey Hello {}, I did'nt recognize you earlier\".format(a))"
   ]
  },
  {
   "cell_type": "code",
   "execution_count": null,
   "id": "d4c91afa",
   "metadata": {},
   "outputs": [],
   "source": []
  },
  {
   "cell_type": "code",
   "execution_count": null,
   "id": "9aa4733a",
   "metadata": {},
   "outputs": [],
   "source": []
  },
  {
   "cell_type": "code",
   "execution_count": null,
   "id": "20e4e2c7",
   "metadata": {},
   "outputs": [],
   "source": []
  },
  {
   "cell_type": "code",
   "execution_count": null,
   "id": "f74d1cf5",
   "metadata": {},
   "outputs": [],
   "source": []
  },
  {
   "cell_type": "code",
   "execution_count": 44,
   "id": "8c9e3d80",
   "metadata": {},
   "outputs": [
    {
     "name": "stdout",
     "output_type": "stream",
     "text": [
      "What's your name Sherlock\n",
      "Hello Sherlock\n"
     ]
    }
   ],
   "source": [
    "name = input (\"What's your name \")\n",
    "if name == \"Sherlock\":\n",
    "    print(\"Hello Sherlock\")\n",
    "elif name == \"Siddharth\":\n",
    "    print(\"Siddharth is the Best\")\n",
    "else:\n",
    "    a = (input(\"Who are you?!\"))\n",
    "    print(\"Hey Hello {}, I did'nt recognize you earlier\".format(a))"
   ]
  },
  {
   "cell_type": "code",
   "execution_count": 45,
   "id": "2647f52a",
   "metadata": {},
   "outputs": [
    {
     "name": "stdout",
     "output_type": "stream",
     "text": [
      "What's your name Tony Stark\n",
      "Who are you?!Iron Man\n",
      "Hey Hello Iron Man, I did'nt recognize you earlier\n"
     ]
    }
   ],
   "source": [
    "name = input (\"What's your name \")\n",
    "if name == \"Sherlock\":\n",
    "    print(\"Hello Sherlock\")\n",
    "elif name == \"Siddharth\":\n",
    "    print(\"Siddharth is the Best\")\n",
    "else:\n",
    "    a = (input(\"Who are you?!\"))\n",
    "    print(\"Hey Hello {}, I did'nt recognize you earlier\".format(a))"
   ]
  },
  {
   "cell_type": "code",
   "execution_count": 46,
   "id": "f71de30a",
   "metadata": {},
   "outputs": [
    {
     "name": "stdout",
     "output_type": "stream",
     "text": [
      "What's your name Peter\n",
      "Who are you?! Spidey\n",
      "Hey Hello Spidey, I did'nt recognize you earlier\n"
     ]
    }
   ],
   "source": [
    "name = input (\"What's your name \")\n",
    "if name == \"Sherlock\":\n",
    "    print(\"Hello Sherlock\")\n",
    "elif name == \"Siddharth\":\n",
    "    print(\"Siddharth is the Best\")\n",
    "else:\n",
    "    a = (input(\"Who are you?! \"))\n",
    "    print(\"Hey Hello {}, I did'nt recognize you earlier\".format(a))"
   ]
  },
  {
   "cell_type": "code",
   "execution_count": 47,
   "id": "3a84fcf1",
   "metadata": {},
   "outputs": [
    {
     "name": "stdout",
     "output_type": "stream",
     "text": [
      "What's your name Siddharth\n",
      "Siddharth is the Best\n"
     ]
    }
   ],
   "source": [
    "name = input (\"What's your name \")\n",
    "if name == \"Sherlock\":\n",
    "    print(\"Hello Sherlock\")\n",
    "elif name == \"Siddharth\":\n",
    "    print(\"Siddharth is the Best\")\n",
    "else:\n",
    "    a = (input(\"Who are you?!\"))\n",
    "    print(\"Hey Hello {0}, I did'nt recognize you earlier\".format(a))"
   ]
  },
  {
   "cell_type": "code",
   "execution_count": null,
   "id": "cfc9aaac",
   "metadata": {},
   "outputs": [],
   "source": []
  },
  {
   "cell_type": "code",
   "execution_count": null,
   "id": "2002a076",
   "metadata": {},
   "outputs": [],
   "source": []
  },
  {
   "cell_type": "code",
   "execution_count": null,
   "id": "a681d5ad",
   "metadata": {},
   "outputs": [],
   "source": []
  },
  {
   "cell_type": "code",
   "execution_count": null,
   "id": "63972e34",
   "metadata": {},
   "outputs": [],
   "source": []
  },
  {
   "cell_type": "markdown",
   "id": "ccf9b56b",
   "metadata": {},
   "source": [
    "# 035 FOR LOOPS IN PYTHON\n",
    "# 22 JAN 2022"
   ]
  },
  {
   "cell_type": "code",
   "execution_count": 59,
   "id": "8d047bd4",
   "metadata": {},
   "outputs": [],
   "source": [
    "mylist = [1,2,3,4,5,6,7,8,9,10]"
   ]
  },
  {
   "cell_type": "code",
   "execution_count": 60,
   "id": "e7253a9e",
   "metadata": {},
   "outputs": [
    {
     "name": "stdout",
     "output_type": "stream",
     "text": [
      "1\n",
      "2\n",
      "3\n",
      "4\n",
      "5\n",
      "6\n",
      "7\n",
      "8\n",
      "9\n",
      "10\n"
     ]
    }
   ],
   "source": [
    "for num in mylist:\n",
    "    print(num)"
   ]
  },
  {
   "cell_type": "code",
   "execution_count": 61,
   "id": "6a2b688c",
   "metadata": {},
   "outputs": [
    {
     "name": "stdout",
     "output_type": "stream",
     "text": [
      "10\n",
      "10\n",
      "10\n",
      "10\n",
      "10\n",
      "10\n",
      "10\n",
      "10\n",
      "10\n",
      "10\n"
     ]
    }
   ],
   "source": [
    "for cadbury in mylist:\n",
    "    print(num)# it will give output as '10' 10 times 'cause last item is 10\n",
    "#which was executed in above code ; if wasnt then it would have shown error"
   ]
  },
  {
   "cell_type": "code",
   "execution_count": 62,
   "id": "8702b7eb",
   "metadata": {},
   "outputs": [],
   "source": [
    "# for num in mylist:\n",
    "#     print(num2)\n",
    "# error cause here num2 is not defined"
   ]
  },
  {
   "cell_type": "code",
   "execution_count": 63,
   "id": "d279cf22",
   "metadata": {},
   "outputs": [
    {
     "name": "stdout",
     "output_type": "stream",
     "text": [
      "10\n",
      "10\n",
      "10\n",
      "10\n",
      "10\n",
      "10\n",
      "10\n",
      "10\n",
      "10\n",
      "10\n"
     ]
    }
   ],
   "source": [
    "for sd in mylist:\n",
    "    print(num)"
   ]
  },
  {
   "cell_type": "code",
   "execution_count": 64,
   "id": "d09f5e9a",
   "metadata": {},
   "outputs": [
    {
     "name": "stdout",
     "output_type": "stream",
     "text": [
      "10\n",
      "10\n",
      "10\n",
      "10\n",
      "10\n",
      "10\n",
      "10\n",
      "10\n",
      "10\n",
      "10\n"
     ]
    }
   ],
   "source": [
    "for num in mylist:\n",
    "    print(cadbury)"
   ]
  },
  {
   "cell_type": "code",
   "execution_count": 65,
   "id": "101ca953",
   "metadata": {},
   "outputs": [
    {
     "name": "stdout",
     "output_type": "stream",
     "text": [
      "10\n",
      "10\n",
      "10\n",
      "10\n",
      "10\n",
      "10\n",
      "10\n",
      "10\n",
      "10\n",
      "10\n"
     ]
    }
   ],
   "source": [
    "for cadbury in mylist:\n",
    "    print(num)"
   ]
  },
  {
   "cell_type": "code",
   "execution_count": null,
   "id": "31d4c5b5",
   "metadata": {},
   "outputs": [],
   "source": []
  },
  {
   "cell_type": "code",
   "execution_count": 66,
   "id": "309cdf1f",
   "metadata": {},
   "outputs": [
    {
     "name": "stdout",
     "output_type": "stream",
     "text": [
      "1\n",
      "2\n",
      "3\n",
      "4\n",
      "5\n",
      "6\n",
      "7\n",
      "8\n",
      "9\n",
      "10\n",
      "string\n"
     ]
    }
   ],
   "source": [
    "mylist2 = [1,2,3,4,5,6,7,8,9,10,'string']\n",
    "\n",
    "for item in mylist2:\n",
    "    print(item)"
   ]
  },
  {
   "cell_type": "code",
   "execution_count": 67,
   "id": "b04e041a",
   "metadata": {},
   "outputs": [
    {
     "name": "stdout",
     "output_type": "stream",
     "text": [
      "The Consultive Detective\n",
      "The Consultive Detective\n",
      "The Consultive Detective\n",
      "The Consultive Detective\n",
      "The Consultive Detective\n",
      "The Consultive Detective\n",
      "The Consultive Detective\n",
      "The Consultive Detective\n",
      "The Consultive Detective\n",
      "The Consultive Detective\n",
      "The Consultive Detective\n"
     ]
    }
   ],
   "source": [
    "mylist2 = [1,2,3,4,5,6,7,8,9,10,'string']\n",
    "\n",
    "for detective in mylist2:\n",
    "    print(\"The Consultive Detective\")"
   ]
  },
  {
   "cell_type": "code",
   "execution_count": 68,
   "id": "d363e32e",
   "metadata": {},
   "outputs": [
    {
     "name": "stdout",
     "output_type": "stream",
     "text": [
      "2\n",
      "4\n",
      "6\n",
      "8\n",
      "10\n"
     ]
    }
   ],
   "source": [
    "mylist2 = [1,2,3,4,5,6,7,8,9,10]\n",
    "    #check for even\n",
    "for num in mylist2:\n",
    "    if num%2 ==0 :\n",
    "        print(num)"
   ]
  },
  {
   "cell_type": "code",
   "execution_count": 70,
   "id": "849fc67f",
   "metadata": {},
   "outputs": [],
   "source": [
    "# mylist2 = [1,2,3,4,5,6,7,8,9,10,'string']\n",
    "#     #check for even\n",
    "# for num in mylist2:\n",
    "#     if num%2 ==0 :\n",
    "#         print(num)\n",
    "        \n",
    "# # this code will WORK BUT show type error \n",
    "# #TypeError: not all arguments converted during string formatting\n",
    "# # SINCE THERE IS A STRING IN THE LIST"
   ]
  },
  {
   "cell_type": "code",
   "execution_count": 71,
   "id": "c14204b5",
   "metadata": {},
   "outputs": [
    {
     "name": "stdout",
     "output_type": "stream",
     "text": [
      "odd number\n",
      "2\n",
      "odd number\n",
      "4\n",
      "odd number\n",
      "6\n",
      "odd number\n",
      "8\n",
      "odd number\n",
      "10\n"
     ]
    }
   ],
   "source": [
    "mylist2 = [1,2,3,4,5,6,7,8,9,10]\n",
    "    #check for even\n",
    "for num in mylist2:\n",
    "    if num%2 ==0 :\n",
    "        print(num)\n",
    "    else :\n",
    "        print('odd number')"
   ]
  },
  {
   "cell_type": "code",
   "execution_count": 72,
   "id": "e30b5bbb",
   "metadata": {},
   "outputs": [
    {
     "name": "stdout",
     "output_type": "stream",
     "text": [
      "odd number: 1\n",
      "2 is even number\n",
      "odd number: 3\n",
      "4 is even number\n",
      "odd number: 5\n",
      "6 is even number\n",
      "odd number: 7\n",
      "8 is even number\n",
      "odd number: 9\n",
      "10 is even number\n"
     ]
    }
   ],
   "source": [
    "mylist2 = [1,2,3,4,5,6,7,8,9,10]\n",
    "    #check for even\n",
    "for num in mylist2:\n",
    "    if num%2 ==0 :\n",
    "        print(f\"{num} is even number\")\n",
    "    else :\n",
    "        print(f'odd number: {num}')"
   ]
  },
  {
   "cell_type": "code",
   "execution_count": 73,
   "id": "83b3c6c3",
   "metadata": {},
   "outputs": [
    {
     "name": "stdout",
     "output_type": "stream",
     "text": [
      "odd number:  1\n",
      "even number: 2\n",
      "odd number:  3\n",
      "even number: 4\n",
      "odd number:  5\n",
      "even number: 6\n",
      "odd number:  7\n",
      "even number: 8\n",
      "odd number:  9\n",
      "even number: 10\n"
     ]
    }
   ],
   "source": [
    "mylist2 = [1,2,3,4,5,6,7,8,9,10]\n",
    "    #check for even and odd\n",
    "for num in mylist2:\n",
    "    if num%2 ==0 :\n",
    "        print(f\"even number: {num}\")\n",
    "    else :\n",
    "        print(f'odd number:  {num}')"
   ]
  },
  {
   "cell_type": "code",
   "execution_count": null,
   "id": "92c4a47b",
   "metadata": {},
   "outputs": [],
   "source": []
  },
  {
   "cell_type": "code",
   "execution_count": 74,
   "id": "a04c5f5d",
   "metadata": {},
   "outputs": [
    {
     "name": "stdout",
     "output_type": "stream",
     "text": [
      "J\n",
      "a\n",
      "p\n",
      "a\n",
      "n\n",
      "\n",
      "\n",
      "4\n",
      ",\n",
      "4\n",
      "3\n",
      "4\n",
      ",\n",
      "3\n",
      ";\n",
      "4\n",
      ",\n",
      "4\n",
      "\n",
      "\n",
      "\n",
      "\n",
      "\n",
      "\n",
      "\n",
      "\n"
     ]
    }
   ],
   "source": [
    "a=\"Japan\\n\"\n",
    "for a in a:\n",
    "    print(a)\n",
    "b=\"4,434,3;4,4\\n\\n\\n\\n\"\n",
    "for item in b:\n",
    "    print(item)"
   ]
  },
  {
   "cell_type": "code",
   "execution_count": null,
   "id": "bf427158",
   "metadata": {},
   "outputs": [],
   "source": []
  },
  {
   "cell_type": "code",
   "execution_count": 75,
   "id": "72d7805d",
   "metadata": {},
   "outputs": [],
   "source": [
    "# a1= 1\n",
    "# b1= 0\n",
    "# s=0\n",
    "# while (9):\n",
    "#     s=s+1\n",
    "#     print(s)\n",
    "\n",
    "# the infinite no. will be printed"
   ]
  },
  {
   "cell_type": "code",
   "execution_count": null,
   "id": "3e596049",
   "metadata": {},
   "outputs": [],
   "source": []
  },
  {
   "cell_type": "code",
   "execution_count": 76,
   "id": "f818f260",
   "metadata": {
    "scrolled": false
   },
   "outputs": [
    {
     "name": "stdout",
     "output_type": "stream",
     "text": [
      "2\n",
      "4\n",
      "7\n",
      "11\n",
      "16\n",
      "22\n",
      "29\n",
      "37\n",
      "46\n",
      "56\n"
     ]
    }
   ],
   "source": [
    "#### DONT THINK ABOUT THIS CODE FOR NOW ####\n",
    "list2 = [1,2,3,4,5,6,7,8,9,10,'string']\n",
    "s=1\n",
    "for detective in mylist2:\n",
    "    s=s+detective\n",
    "    print(s)"
   ]
  },
  {
   "cell_type": "code",
   "execution_count": null,
   "id": "dcdd556a",
   "metadata": {},
   "outputs": [],
   "source": []
  },
  {
   "cell_type": "code",
   "execution_count": 77,
   "id": "26bf343e",
   "metadata": {},
   "outputs": [
    {
     "name": "stdout",
     "output_type": "stream",
     "text": [
      "1\n",
      "3\n",
      "6\n",
      "10\n",
      "15\n",
      "21\n",
      "28\n",
      "36\n",
      "45\n",
      "55\n",
      "[1, 2, 3, 4, 5, 6, 7, 8, 9, 10]\n",
      "55\n"
     ]
    }
   ],
   "source": [
    "mylist = [1,2,3,4,5,6,7,8,9,10]\n",
    "list_sum = 0\n",
    "for num in mylist:\n",
    "    list_sum = list_sum + num\n",
    "    \n",
    "    print(list_sum)\n",
    "    \n",
    "    \n",
    "print(mylist)\n",
    "\n",
    "print(list_sum)"
   ]
  },
  {
   "cell_type": "code",
   "execution_count": 78,
   "id": "9332eb08",
   "metadata": {},
   "outputs": [
    {
     "name": "stdout",
     "output_type": "stream",
     "text": [
      "1\n",
      "3\n",
      "6\n",
      "10\n",
      "15\n",
      "21\n",
      "28\n",
      "36\n",
      "45\n",
      "55\n",
      "[1, 2, 3, 4, 5, 6, 7, 8, 9, 10]\n",
      "55\n"
     ]
    }
   ],
   "source": [
    "mylist = [1,2,3,4,5,6,7,8,9,10]\n",
    "list_sum = 0\n",
    "for num in mylist:\n",
    "    list_sum += num\n",
    "    \n",
    "    print(list_sum)\n",
    "    \n",
    "    \n",
    "print(mylist)\n",
    "\n",
    "print(list_sum)"
   ]
  },
  {
   "cell_type": "code",
   "execution_count": 79,
   "id": "f677ad56",
   "metadata": {},
   "outputs": [
    {
     "name": "stdout",
     "output_type": "stream",
     "text": [
      "[1, 2, 3, 4, 5, 6, 7, 8, 9, 10]\n",
      "55\n"
     ]
    }
   ],
   "source": [
    "mylist = [1,2,3,4,5,6,7,8,9,10]\n",
    "list_sum = 0\n",
    "for num in mylist:\n",
    "    list_sum = list_sum + num\n",
    "    \n",
    "print(mylist)\n",
    "\n",
    "print(list_sum) ##### THE INDENTATION POWER"
   ]
  },
  {
   "cell_type": "code",
   "execution_count": 80,
   "id": "e06f6091",
   "metadata": {},
   "outputs": [
    {
     "name": "stdout",
     "output_type": "stream",
     "text": [
      "[1, 2, 3, 4, 5, 6, 7, 8, 9, 10]\n",
      "[1, 2, 3, 4, 5, 6, 7, 8, 9, 10]\n",
      "[1, 2, 3, 4, 5, 6, 7, 8, 9, 10]\n",
      "[1, 2, 3, 4, 5, 6, 7, 8, 9, 10]\n",
      "[1, 2, 3, 4, 5, 6, 7, 8, 9, 10]\n",
      "[1, 2, 3, 4, 5, 6, 7, 8, 9, 10]\n",
      "[1, 2, 3, 4, 5, 6, 7, 8, 9, 10]\n",
      "[1, 2, 3, 4, 5, 6, 7, 8, 9, 10]\n",
      "[1, 2, 3, 4, 5, 6, 7, 8, 9, 10]\n",
      "[1, 2, 3, 4, 5, 6, 7, 8, 9, 10]\n",
      "55\n"
     ]
    }
   ],
   "source": [
    "mylist = [1,2,3,4,5,6,7,8,9,10]\n",
    "list_sum = 0\n",
    "for num in mylist:\n",
    "    list_sum = list_sum + num\n",
    "    \n",
    "    print(mylist)\n",
    "\n",
    "print(list_sum)"
   ]
  },
  {
   "cell_type": "code",
   "execution_count": null,
   "id": "c6e6ac6d",
   "metadata": {},
   "outputs": [],
   "source": []
  },
  {
   "cell_type": "code",
   "execution_count": 81,
   "id": "1f78ca04",
   "metadata": {},
   "outputs": [
    {
     "name": "stdout",
     "output_type": "stream",
     "text": [
      "N\n",
      "e\n",
      "w\n",
      " \n",
      "Y\n",
      "o\n",
      "r\n",
      "k\n",
      " \n",
      "C\n",
      "i\n",
      "t\n",
      "y\n"
     ]
    }
   ],
   "source": [
    "mystring=\"New York City\"\n",
    "for letter in mystring:\n",
    "    print(letter)"
   ]
  },
  {
   "cell_type": "code",
   "execution_count": 82,
   "id": "a5381669",
   "metadata": {},
   "outputs": [
    {
     "name": "stdout",
     "output_type": "stream",
     "text": [
      "N\n",
      "e\n",
      "w\n",
      " \n",
      "Y\n",
      "o\n",
      "r\n",
      "k\n",
      " \n",
      "C\n",
      "i\n",
      "t\n",
      "y\n"
     ]
    }
   ],
   "source": [
    "for letter in \"New York City\": #No need to assign variable for string \n",
    "    print(letter)"
   ]
  },
  {
   "cell_type": "code",
   "execution_count": 83,
   "id": "84e0598c",
   "metadata": {},
   "outputs": [
    {
     "name": "stdout",
     "output_type": "stream",
     "text": [
      "N\n",
      "e\n",
      "w\n",
      " \n",
      "Y\n",
      "o\n",
      "r\n",
      "k\n",
      " \n",
      "C\n",
      "i\n",
      "t\n",
      "y\n"
     ]
    }
   ],
   "source": [
    "for dfdr in \"New York City\":\n",
    "    print(dfdr)"
   ]
  },
  {
   "cell_type": "code",
   "execution_count": 84,
   "id": "817edc60",
   "metadata": {},
   "outputs": [
    {
     "name": "stdout",
     "output_type": "stream",
     "text": [
      "Cool\n",
      "Cool\n",
      "Cool\n",
      "Cool\n",
      "Cool\n",
      "Cool\n",
      "Cool\n",
      "Cool\n",
      "Cool\n",
      "Cool\n",
      "Cool\n",
      "Cool\n",
      "Cool\n"
     ]
    }
   ],
   "source": [
    "for dfdr in \"New York City\":\n",
    "    print('Cool')"
   ]
  },
  {
   "cell_type": "code",
   "execution_count": 85,
   "id": "59f86808",
   "metadata": {},
   "outputs": [
    {
     "name": "stdout",
     "output_type": "stream",
     "text": [
      "Only underscore is allowed\n",
      "Only underscore is allowed\n",
      "Only underscore is allowed\n",
      "Only underscore is allowed\n",
      "Only underscore is allowed\n",
      "Only underscore is allowed\n",
      "Only underscore is allowed\n",
      "Only underscore is allowed\n"
     ]
    }
   ],
   "source": [
    "for _ in \"New York\":\n",
    "    print('Only underscore is allowed')"
   ]
  },
  {
   "cell_type": "code",
   "execution_count": null,
   "id": "5afc53f7",
   "metadata": {},
   "outputs": [],
   "source": []
  },
  {
   "cell_type": "code",
   "execution_count": null,
   "id": "ab2e45c5",
   "metadata": {},
   "outputs": [],
   "source": []
  },
  {
   "cell_type": "code",
   "execution_count": null,
   "id": "8bf49fbf",
   "metadata": {},
   "outputs": [],
   "source": []
  },
  {
   "cell_type": "code",
   "execution_count": 86,
   "id": "a08fdde2",
   "metadata": {},
   "outputs": [
    {
     "name": "stdout",
     "output_type": "stream",
     "text": [
      "1\n",
      "2\n",
      "3\n"
     ]
    }
   ],
   "source": [
    "tup=(1,2,3)\n",
    "\n",
    "for item in tup:\n",
    "    print(item)"
   ]
  },
  {
   "cell_type": "code",
   "execution_count": null,
   "id": "14d7f749",
   "metadata": {},
   "outputs": [],
   "source": []
  },
  {
   "cell_type": "code",
   "execution_count": 87,
   "id": "0458399b",
   "metadata": {},
   "outputs": [],
   "source": [
    "#Tuple have special quality in 'for loop'\n",
    "## TUPLE UNPACKING"
   ]
  },
  {
   "cell_type": "code",
   "execution_count": 88,
   "id": "2396421c",
   "metadata": {},
   "outputs": [
    {
     "data": {
      "text/plain": [
       "4"
      ]
     },
     "execution_count": 88,
     "metadata": {},
     "output_type": "execute_result"
    }
   ],
   "source": [
    "mylist=[(1,2),(3,4),(5,6),(7,8)]\n",
    "len(mylist)"
   ]
  },
  {
   "cell_type": "code",
   "execution_count": 89,
   "id": "13b5d5ae",
   "metadata": {},
   "outputs": [
    {
     "name": "stdout",
     "output_type": "stream",
     "text": [
      "(1, 2)\n",
      "(3, 4)\n",
      "(5, 6)\n",
      "(7, 8)\n"
     ]
    }
   ],
   "source": [
    "for item  in mylist:\n",
    "    print(item)"
   ]
  },
  {
   "cell_type": "code",
   "execution_count": 90,
   "id": "e62952d8",
   "metadata": {},
   "outputs": [
    {
     "name": "stdout",
     "output_type": "stream",
     "text": [
      "(1, 2)\n",
      "(3, 4)\n",
      "(5, 6)\n",
      "(7, 8)\n"
     ]
    }
   ],
   "source": [
    "for (a,b)  in mylist:\n",
    "    print((a,b))"
   ]
  },
  {
   "cell_type": "code",
   "execution_count": 91,
   "id": "e81c8e93",
   "metadata": {},
   "outputs": [
    {
     "name": "stdout",
     "output_type": "stream",
     "text": [
      "1 2\n",
      "3 4\n",
      "5 6\n",
      "7 8\n"
     ]
    }
   ],
   "source": [
    "for a,b  in mylist:\n",
    "    print(a,b)"
   ]
  },
  {
   "cell_type": "code",
   "execution_count": 92,
   "id": "525cbb03",
   "metadata": {},
   "outputs": [
    {
     "name": "stdout",
     "output_type": "stream",
     "text": [
      "1\n",
      "2\n",
      "3\n",
      "4\n",
      "5\n",
      "6\n",
      "7\n",
      "8\n"
     ]
    }
   ],
   "source": [
    "for a,b  in mylist:\n",
    "    print(a)\n",
    "    print(b)\n",
    "    \n",
    "### THIS IS KNOW AS TUPLE UNPACKING\n",
    "### WHERE WE CAN DUBLICATE THE STRUCTURE OF THE ITEM\n",
    "### (IN THIS CASE TUPLES INSIDE OF THE SEQUENCE AND \"UNPACKED\" THEM)\n",
    "### NOW WE HAVE ACCES TO INDIVIDUAL ITEMS"
   ]
  },
  {
   "cell_type": "code",
   "execution_count": 93,
   "id": "b470f5a3",
   "metadata": {},
   "outputs": [
    {
     "name": "stdout",
     "output_type": "stream",
     "text": [
      "1\n",
      "1\n",
      "2\n",
      "3\n",
      "3\n",
      "4\n",
      "5\n",
      "5\n",
      "6\n",
      "7\n",
      "7\n",
      "8\n"
     ]
    }
   ],
   "source": [
    "for a,b in mylist:\n",
    "    print(a)\n",
    "    print(a)\n",
    "    print(b)"
   ]
  },
  {
   "cell_type": "code",
   "execution_count": 94,
   "id": "be8790a1",
   "metadata": {},
   "outputs": [
    {
     "name": "stdout",
     "output_type": "stream",
     "text": [
      "2\n",
      "4\n",
      "6\n",
      "8\n"
     ]
    }
   ],
   "source": [
    "for (a,b)  in mylist:\n",
    "    print(b)\n",
    "    \n",
    "### THERE IS NO NEED OF PARENTHESIS IN THE FIRST LINE \n",
    "### WE CAN SIMPLY JUST WRITE ---> a,b"
   ]
  },
  {
   "cell_type": "code",
   "execution_count": 95,
   "id": "7e8b21e7",
   "metadata": {},
   "outputs": [
    {
     "name": "stdout",
     "output_type": "stream",
     "text": [
      "1\n",
      "3\n",
      "5\n",
      "7\n"
     ]
    }
   ],
   "source": [
    "for a,b  in mylist:\n",
    "    print(a)"
   ]
  },
  {
   "cell_type": "code",
   "execution_count": null,
   "id": "4379fd56",
   "metadata": {},
   "outputs": [],
   "source": []
  },
  {
   "cell_type": "code",
   "execution_count": null,
   "id": "981126f0",
   "metadata": {},
   "outputs": [],
   "source": []
  },
  {
   "cell_type": "code",
   "execution_count": 96,
   "id": "28a028c0",
   "metadata": {},
   "outputs": [],
   "source": [
    "mylist=[(1,2,3),(5,6,7),(8,9,10),(11,12,13)]"
   ]
  },
  {
   "cell_type": "code",
   "execution_count": 97,
   "id": "b8483062",
   "metadata": {},
   "outputs": [
    {
     "name": "stdout",
     "output_type": "stream",
     "text": [
      "(1, 2, 3)\n",
      "(5, 6, 7)\n",
      "(8, 9, 10)\n",
      "(11, 12, 13)\n"
     ]
    }
   ],
   "source": [
    "for item in mylist:\n",
    "    print(item)"
   ]
  },
  {
   "cell_type": "code",
   "execution_count": 98,
   "id": "c6941fcb",
   "metadata": {},
   "outputs": [
    {
     "name": "stdout",
     "output_type": "stream",
     "text": [
      "(11, 12, 13)\n",
      "(11, 12, 13)\n",
      "(11, 12, 13)\n",
      "(11, 12, 13)\n"
     ]
    }
   ],
   "source": [
    "for a,b,c in mylist:\n",
    "    print(item)"
   ]
  },
  {
   "cell_type": "code",
   "execution_count": 99,
   "id": "4893aba1",
   "metadata": {},
   "outputs": [
    {
     "name": "stdout",
     "output_type": "stream",
     "text": [
      "2\n",
      "6\n",
      "9\n",
      "12\n"
     ]
    }
   ],
   "source": [
    "for a,b,c in mylist:\n",
    "    print(b)"
   ]
  },
  {
   "cell_type": "code",
   "execution_count": 100,
   "id": "5afc36e0",
   "metadata": {},
   "outputs": [
    {
     "name": "stdout",
     "output_type": "stream",
     "text": [
      "1\n",
      "5\n",
      "8\n",
      "11\n"
     ]
    }
   ],
   "source": [
    "for a,b,c in mylist:\n",
    "    print(a)"
   ]
  },
  {
   "cell_type": "code",
   "execution_count": null,
   "id": "96b0b1d6",
   "metadata": {},
   "outputs": [],
   "source": []
  },
  {
   "cell_type": "code",
   "execution_count": null,
   "id": "9b004c80",
   "metadata": {},
   "outputs": [],
   "source": []
  },
  {
   "cell_type": "markdown",
   "id": "bf1c2f34",
   "metadata": {},
   "source": [
    "### for loop ---> dictionary"
   ]
  },
  {
   "cell_type": "code",
   "execution_count": 101,
   "id": "7e215c0e",
   "metadata": {},
   "outputs": [
    {
     "name": "stdout",
     "output_type": "stream",
     "text": [
      "k1\n",
      "k2\n",
      "k3\n",
      "k4\n",
      "k5\n"
     ]
    }
   ],
   "source": [
    "d={'k1':1,'k2':2,'k3':3,'k4':4,\"k5\":5}\n",
    "\n",
    "for i in d:\n",
    "    print(i)\n",
    "    \n",
    "# by default it only iterate through the 'keys'"
   ]
  },
  {
   "cell_type": "code",
   "execution_count": 102,
   "id": "15dad8d9",
   "metadata": {},
   "outputs": [
    {
     "name": "stdout",
     "output_type": "stream",
     "text": [
      "('k1', 1)\n",
      "('k2', 2)\n",
      "('k3', 3)\n",
      "('k4', 4)\n",
      "('k5', 5)\n"
     ]
    }
   ],
   "source": [
    "d={'k1':1,'k2':2,'k3':3,'k4':4,\"k5\":5}\n",
    "\n",
    "for i in d.items():\n",
    "    print(i)"
   ]
  },
  {
   "cell_type": "code",
   "execution_count": 103,
   "id": "e1763e6d",
   "metadata": {},
   "outputs": [
    {
     "name": "stdout",
     "output_type": "stream",
     "text": [
      "k1\n",
      "k2\n",
      "k3\n",
      "k4\n",
      "k5\n"
     ]
    }
   ],
   "source": [
    "d={'k1':1,'k2':2,'k3':3,'k4':4,\"k5\":5}\n",
    "\n",
    "for i in d.keys():\n",
    "    print(i)\n",
    "    "
   ]
  },
  {
   "cell_type": "code",
   "execution_count": 104,
   "id": "17512f1e",
   "metadata": {},
   "outputs": [
    {
     "name": "stdout",
     "output_type": "stream",
     "text": [
      "k1 1\n",
      "k2 2\n",
      "k3 3\n",
      "k4 4\n",
      "k5 5\n"
     ]
    }
   ],
   "source": [
    "d={'k1':1,'k2':2,'k3':3,'k4':4,\"k5\":5}\n",
    "\n",
    "for key,value in d.items():\n",
    "    print(key,value)"
   ]
  },
  {
   "cell_type": "code",
   "execution_count": 105,
   "id": "fd58f2a0",
   "metadata": {},
   "outputs": [
    {
     "name": "stdout",
     "output_type": "stream",
     "text": [
      "('k1', 1)\n",
      "('k2', 2)\n",
      "('k3', 3)\n",
      "('k4', 4)\n",
      "('k5', 5)\n"
     ]
    }
   ],
   "source": [
    "d={'k1':1,'k2':2,'k3':3,'k4':4,\"k5\":5}\n",
    "\n",
    "for key,value in d.items():\n",
    "    print((key,value))"
   ]
  },
  {
   "cell_type": "code",
   "execution_count": 106,
   "id": "81c149dd",
   "metadata": {},
   "outputs": [
    {
     "name": "stdout",
     "output_type": "stream",
     "text": [
      "k1\n",
      "k2\n",
      "k3\n",
      "k4\n",
      "k5\n"
     ]
    }
   ],
   "source": [
    "d={'k1':1,'k2':2,'k3':3,'k4':4,\"k5\":5}\n",
    "\n",
    "for ((((key,value)))) in d.items():\n",
    "    print(key)"
   ]
  },
  {
   "cell_type": "code",
   "execution_count": 107,
   "id": "e0407d87",
   "metadata": {},
   "outputs": [
    {
     "name": "stdout",
     "output_type": "stream",
     "text": [
      "k1\n",
      "k2\n",
      "k3\n",
      "k4\n",
      "k5\n"
     ]
    }
   ],
   "source": [
    "d={'k1':1,'k2':2,'k3':3,'k4':4,\"k5\":5}\n",
    "\n",
    "for ((((key,value)))) in d.items():\n",
    "    print(((key)))"
   ]
  },
  {
   "cell_type": "code",
   "execution_count": 108,
   "id": "2c07762a",
   "metadata": {},
   "outputs": [
    {
     "name": "stdout",
     "output_type": "stream",
     "text": [
      "1\n",
      "2\n",
      "3\n",
      "4\n",
      "5\n"
     ]
    }
   ],
   "source": [
    "d={'k1':1,'k2':2,'k3':3,'k4':4,\"k5\":5}\n",
    "\n",
    "for key,value in d.items():\n",
    "    print((((value))))\n",
    "    \n",
    "## Technically Dictionaries are unordered \n",
    "## it will NOT be sorted everytime"
   ]
  },
  {
   "cell_type": "code",
   "execution_count": null,
   "id": "b04c17fe",
   "metadata": {},
   "outputs": [],
   "source": []
  },
  {
   "cell_type": "code",
   "execution_count": null,
   "id": "10034210",
   "metadata": {},
   "outputs": [],
   "source": [
    "\n",
    "\n",
    "\n",
    "\n",
    "\n",
    "\n",
    "\n",
    "\n"
   ]
  },
  {
   "cell_type": "markdown",
   "id": "4ad8e0f4",
   "metadata": {},
   "source": [
    "# 036 WHILE LOOPS IN PYTHON"
   ]
  },
  {
   "cell_type": "code",
   "execution_count": 109,
   "id": "8c552a5d",
   "metadata": {},
   "outputs": [],
   "source": [
    "# SYNTAX:-\n",
    "# while some_boolean_condition:\n",
    "#     do something"
   ]
  },
  {
   "cell_type": "code",
   "execution_count": 110,
   "id": "8d053ef9",
   "metadata": {},
   "outputs": [],
   "source": [
    "# # SYNTAX:-\n",
    "# # while some_boolean_condition:\n",
    "# #     do something\n",
    "# # else:\n",
    "# #    do_something_differnt\n"
   ]
  },
  {
   "cell_type": "code",
   "execution_count": 111,
   "id": "2e114043",
   "metadata": {},
   "outputs": [
    {
     "name": "stdout",
     "output_type": "stream",
     "text": [
      "The current value of value of x is 0 \n",
      "The current value of value of x is 1 \n",
      "The current value of value of x is 2 \n",
      "The current value of value of x is 3 \n",
      "The current value of value of x is 4 \n"
     ]
    }
   ],
   "source": [
    "x=0\n",
    "while x<5:\n",
    "    print(f\"The current value of value of x is {x} \")\n",
    "    x=x+1 # x+=1 same \n",
    "    \n"
   ]
  },
  {
   "cell_type": "code",
   "execution_count": 112,
   "id": "a3f0a547",
   "metadata": {},
   "outputs": [
    {
     "name": "stdout",
     "output_type": "stream",
     "text": [
      "The current value of value of x is 0 \n",
      "The current value of value of x is 1 \n",
      "The current value of value of x is 2 \n",
      "The current value of value of x is 3 \n",
      "The current value of value of x is 4 \n",
      "6\n"
     ]
    }
   ],
   "source": [
    "x=0\n",
    "while x<5:\n",
    "    print(f\"The current value of value of x is {x} \")\n",
    "    x=x+1 # x+=1 same \n",
    "x+=1    \n",
    "print(x)\n",
    "#output will be 6 'cause x becomes 5 in while loop and 1 gets add in(x+=1) "
   ]
  },
  {
   "cell_type": "code",
   "execution_count": 113,
   "id": "d9b76668",
   "metadata": {},
   "outputs": [
    {
     "name": "stdout",
     "output_type": "stream",
     "text": [
      "The current value of value of x is 0 \n",
      "The current value of value of x is 1 \n",
      "The current value of value of x is 2 \n",
      "The current value of value of x is 3 \n",
      "The current value of value of x is 4 \n",
      "5\n"
     ]
    }
   ],
   "source": [
    "x=0\n",
    "while x<5:\n",
    "    print(f\"The current value of value of x is {x} \")\n",
    "    x=x+1 # x+=1 same \n",
    "    \n",
    "print(x)"
   ]
  },
  {
   "cell_type": "code",
   "execution_count": 114,
   "id": "cb973eb2",
   "metadata": {},
   "outputs": [
    {
     "name": "stdout",
     "output_type": "stream",
     "text": [
      "The current value of value of x is 0 \n",
      "The current value of value of x is 2 \n",
      "The current value of value of x is 4 \n"
     ]
    }
   ],
   "source": [
    "x=0\n",
    "while x<5:\n",
    "    print(f\"The current value of value of x is {x} \")\n",
    "    x=x+1 # x+=1 same \n",
    "    x+=1\n"
   ]
  },
  {
   "cell_type": "code",
   "execution_count": 115,
   "id": "ad4b980b",
   "metadata": {},
   "outputs": [
    {
     "name": "stdout",
     "output_type": "stream",
     "text": [
      "The current value of value of x is 0 \n",
      "The current value of value of x is 2 \n",
      "The current value of value of x is 4 \n",
      "6\n"
     ]
    }
   ],
   "source": [
    "x=0\n",
    "while (x<5):\n",
    "    print(f\"The current value of value of x is {x} \")\n",
    "    x=x+2\n",
    "print(x)"
   ]
  },
  {
   "cell_type": "code",
   "execution_count": null,
   "id": "996e6302",
   "metadata": {},
   "outputs": [],
   "source": []
  },
  {
   "cell_type": "code",
   "execution_count": 116,
   "id": "e189e9ba",
   "metadata": {},
   "outputs": [
    {
     "name": "stdout",
     "output_type": "stream",
     "text": [
      "The current value of value of x is 0 \n",
      "The current value of value of x is 1 \n",
      "The current value of value of x is 2 \n",
      "The current value of value of x is 3 \n",
      "The current value of value of x is 4 \n",
      "x is not less than 5\n"
     ]
    }
   ],
   "source": [
    "x=0\n",
    "while x<5:\n",
    "    print(f\"The current value of value of x is {x} \")\n",
    "    x=x+1 # x+=1 same \n",
    "else:\n",
    "    print(\"x is not less than 5\")"
   ]
  },
  {
   "cell_type": "code",
   "execution_count": 117,
   "id": "b1379414",
   "metadata": {},
   "outputs": [
    {
     "name": "stdout",
     "output_type": "stream",
     "text": [
      "x is not less than 5\n"
     ]
    }
   ],
   "source": [
    "x=0\n",
    "while x>5:\n",
    "    print(f\"The current value of value of x is {x} \")\n",
    "    x=x+1 # x+=1 same \n",
    "else:\n",
    "    print(\"x is not less than 5\")"
   ]
  },
  {
   "cell_type": "code",
   "execution_count": 118,
   "id": "a13e677d",
   "metadata": {},
   "outputs": [
    {
     "name": "stdout",
     "output_type": "stream",
     "text": [
      "0 is not less than 5\n"
     ]
    }
   ],
   "source": [
    "x=0\n",
    "while x>5:\n",
    "    print(f\"The current value of value of x is {x} \")\n",
    "    x=x+1 # x+=1 same \n",
    "else:\n",
    "    print(f\"{x} is not less than 5\")"
   ]
  },
  {
   "cell_type": "code",
   "execution_count": 119,
   "id": "3805265b",
   "metadata": {},
   "outputs": [
    {
     "name": "stdout",
     "output_type": "stream",
     "text": [
      "The current value of value of x is 10 \n",
      "The current value of value of x is 9 \n",
      "The current value of value of x is 8 \n",
      "The current value of value of x is 7 \n",
      "The current value of value of x is 6 \n",
      "5 is less than 5\n"
     ]
    }
   ],
   "source": [
    "x=10\n",
    "while x>5:\n",
    "    print(f\"The current value of value of x is {x} \")\n",
    "    x=x-1 # x-=1 same \n",
    "else:\n",
    "    print(f\"{x} is less than 5\")"
   ]
  },
  {
   "cell_type": "code",
   "execution_count": 120,
   "id": "013f8840",
   "metadata": {},
   "outputs": [
    {
     "name": "stdout",
     "output_type": "stream",
     "text": [
      "The current value of value of x is 10 \n",
      "The current value of value of x is 9 \n",
      "The current value of value of x is 8 \n",
      "The current value of value of x is 7 \n",
      "The current value of value of x is 6 \n",
      "The current value of value of x is 5 \n",
      "4 is less than 5\n"
     ]
    }
   ],
   "source": [
    "x=10\n",
    "while x>=5:\n",
    "    print(f\"The current value of value of x is {x} \")\n",
    "    x=x-1 # x-=1 same \n",
    "else:\n",
    "    print(f\"{x} is less than 5\")"
   ]
  },
  {
   "cell_type": "code",
   "execution_count": 121,
   "id": "d42d6aa1",
   "metadata": {},
   "outputs": [
    {
     "name": "stdout",
     "output_type": "stream",
     "text": [
      "0 is less than 5\n"
     ]
    }
   ],
   "source": [
    "x=0\n",
    "while x>=5:\n",
    "    print(f\"The current value of value of x is {x} \")\n",
    "    x-=1 \n",
    "else:\n",
    "    print(f\"{x} is less than 5\")"
   ]
  },
  {
   "cell_type": "code",
   "execution_count": 122,
   "id": "e55cbc5e",
   "metadata": {},
   "outputs": [
    {
     "name": "stdout",
     "output_type": "stream",
     "text": [
      "0 is less than 5\n"
     ]
    }
   ],
   "source": [
    "x=0\n",
    "while x>=5:\n",
    "    print(f\"The current value of value of x is {x} \")\n",
    "    x-=2\n",
    "else:\n",
    "    print(f\"{x} is less than 5\")"
   ]
  },
  {
   "cell_type": "code",
   "execution_count": 123,
   "id": "420f7874",
   "metadata": {},
   "outputs": [
    {
     "name": "stdout",
     "output_type": "stream",
     "text": [
      "The current value of value of x is 10 \n",
      "The current value of value of x is 8 \n",
      "The current value of value of x is 6 \n",
      "4 is less than 5\n"
     ]
    }
   ],
   "source": [
    "x=10\n",
    "while x>=5:\n",
    "    print(f\"The current value of value of x is {x} \")\n",
    "    x-=2\n",
    "else:\n",
    "    print(f\"{x} is less than 5\")"
   ]
  },
  {
   "cell_type": "code",
   "execution_count": 124,
   "id": "73dc0456",
   "metadata": {},
   "outputs": [
    {
     "name": "stdout",
     "output_type": "stream",
     "text": [
      "The current value of value of x is 8 \n",
      "The current value of value of x is 6 \n",
      "The current value of value of x is 4 \n",
      "4 is less than 5\n"
     ]
    }
   ],
   "source": [
    "x=10\n",
    "while x>=5:\n",
    "    x-=2\n",
    "    print(f\"The current value of value of x is {x} \")\n",
    "else:\n",
    "    print(f\"{x} is less than 5\")"
   ]
  },
  {
   "cell_type": "code",
   "execution_count": 125,
   "id": "d7b0142b",
   "metadata": {},
   "outputs": [
    {
     "name": "stdout",
     "output_type": "stream",
     "text": [
      "The current value of value of x is 8 \n",
      "The current value of value of x is 6 \n",
      "The current value of value of x is 4 \n",
      "4 is less than 5\n"
     ]
    }
   ],
   "source": [
    "x=10\n",
    "while x>5:\n",
    "    x-=2\n",
    "    print(f\"The current value of value of x is {x} \")\n",
    "else:\n",
    "    print(f\"{x} is less than 5\")"
   ]
  },
  {
   "cell_type": "code",
   "execution_count": 126,
   "id": "e618e54a",
   "metadata": {},
   "outputs": [
    {
     "name": "stdout",
     "output_type": "stream",
     "text": [
      "The current value of value of x is 9 \n",
      "The current value of value of x is 8 \n",
      "The current value of value of x is 7 \n",
      "The current value of value of x is 6 \n",
      "The current value of value of x is 5 \n",
      "The current value of value of x is 4 \n",
      "4 is less than 5\n"
     ]
    }
   ],
   "source": [
    "x=10\n",
    "while x>=5:\n",
    "    x-=1\n",
    "    print(f\"The current value of value of x is {x} \")\n",
    "else:\n",
    "    print(f\"{x} is less than 5\")"
   ]
  },
  {
   "cell_type": "code",
   "execution_count": 127,
   "id": "1750e29f",
   "metadata": {},
   "outputs": [
    {
     "name": "stdout",
     "output_type": "stream",
     "text": [
      "The current value of value of x is 9 \n",
      "The current value of value of x is 8 \n",
      "The current value of value of x is 7 \n",
      "The current value of value of x is 6 \n",
      "The current value of value of x is 5 \n",
      "5 is less than 5\n"
     ]
    }
   ],
   "source": [
    "x=10\n",
    "while x>5:\n",
    "    x-=1\n",
    "    print(f\"The current value of value of x is {x} \")\n",
    "else:\n",
    "    print(f\"{x} is less than 5\")"
   ]
  },
  {
   "cell_type": "code",
   "execution_count": 128,
   "id": "762471f9",
   "metadata": {},
   "outputs": [
    {
     "name": "stdout",
     "output_type": "stream",
     "text": [
      "The current value of value of x is 9 \n",
      "The current value of value of x is 7 \n",
      "The current value of value of x is 5 \n",
      "4 is less than 5\n"
     ]
    }
   ],
   "source": [
    "x=10\n",
    "while x>5:\n",
    "    x-=1\n",
    "    print(f\"The current value of value of x is {x} \")\n",
    "    x-=1\n",
    "else:\n",
    "    print(f\"{x} is less than 5\")"
   ]
  },
  {
   "cell_type": "code",
   "execution_count": 129,
   "id": "34767844",
   "metadata": {},
   "outputs": [
    {
     "name": "stdout",
     "output_type": "stream",
     "text": [
      "The current value of value of x is 9 \n",
      "The current value of value of x is 6 \n",
      "4 is less than 5\n"
     ]
    }
   ],
   "source": [
    "x=10\n",
    "while x>5:\n",
    "    x-=1\n",
    "    print(f\"The current value of value of x is {x} \")\n",
    "    x-=2\n",
    "else:\n",
    "    print(f\"{x} is less than 5\")"
   ]
  },
  {
   "cell_type": "code",
   "execution_count": 130,
   "id": "94ec758e",
   "metadata": {},
   "outputs": [
    {
     "name": "stdout",
     "output_type": "stream",
     "text": [
      "The current value of value of x is 9 \n",
      "The next value of value of x is 8 \n",
      "The current value of value of x is 7 \n",
      "The next value of value of x is 6 \n",
      "The current value of value of x is 5 \n",
      "The next value of value of x is 4 \n",
      "4 is less than 5\n"
     ]
    }
   ],
   "source": [
    "x=10\n",
    "while x>5:\n",
    "    x-=1\n",
    "    print(f\"The current value of value of x is {x} \")\n",
    "    x-=1\n",
    "    print(f\"The next value of value of x is {x} \")\n",
    "else:\n",
    "    print(f\"{x} is less than 5\")"
   ]
  },
  {
   "cell_type": "code",
   "execution_count": 131,
   "id": "3b586d22",
   "metadata": {},
   "outputs": [
    {
     "name": "stdout",
     "output_type": "stream",
     "text": [
      "The current value of value of x is 9 \n",
      "The next value of value of x is 7 \n",
      "The current value of value of x is 6 \n",
      "The next value of value of x is 4 \n",
      "4 is less than 5\n"
     ]
    }
   ],
   "source": [
    "x=10\n",
    "while x>5:\n",
    "    x-=1\n",
    "    print(f\"The current value of value of x is {x} \")\n",
    "    x-=2\n",
    "    print(f\"The next value of value of x is {x} \")\n",
    "else:\n",
    "    print(f\"{x} is less than 5\")"
   ]
  },
  {
   "cell_type": "code",
   "execution_count": 132,
   "id": "80798a56",
   "metadata": {},
   "outputs": [
    {
     "name": "stdout",
     "output_type": "stream",
     "text": [
      "The current value of value of x is 19 \n",
      "The next value of value of x is 17 \n",
      "The current value of value of x is 16 \n",
      "The next value of value of x is 14 \n",
      "The current value of value of x is 13 \n",
      "The next value of value of x is 11 \n",
      "The current value of value of x is 10 \n",
      "The next value of value of x is 8 \n",
      "The current value of value of x is 7 \n",
      "The next value of value of x is 5 \n",
      "5 is less than 5\n"
     ]
    }
   ],
   "source": [
    "x=20\n",
    "while x>5:\n",
    "    x-=1\n",
    "    print(f\"The current value of value of x is {x} \")\n",
    "    x-=2\n",
    "    print(f\"The next value of value of x is {x} \")\n",
    "else:\n",
    "    print(f\"{x} is less than 5\")"
   ]
  },
  {
   "cell_type": "code",
   "execution_count": 133,
   "id": "013f6a5e",
   "metadata": {},
   "outputs": [
    {
     "name": "stdout",
     "output_type": "stream",
     "text": [
      "The current value of value of x is 9 \n",
      "The current value of value of x is 8 \n",
      "The current value of value of x is 7 \n",
      "The current value of value of x is 6 \n",
      "The current value of value of x is 5 \n",
      "The current value of value of x is 4 \n",
      "4 is less than 5\n"
     ]
    }
   ],
   "source": [
    "x=10\n",
    "while x>5:\n",
    "    x-=1\n",
    "    print(f\"The current value of value of x is {x} \")\n",
    "    x-=1\n",
    "    print(f\"The current value of value of x is {x} \")\n",
    "else:\n",
    "    print(f\"{x} is less than 5\")"
   ]
  },
  {
   "cell_type": "code",
   "execution_count": null,
   "id": "aa55da88",
   "metadata": {},
   "outputs": [],
   "source": [
    "\n",
    "\n",
    "\n",
    "\n",
    "\n",
    "\n",
    "\n",
    "\n",
    "\n",
    "\n",
    "\n",
    "\n",
    "\n",
    "\n",
    "\n",
    "\n",
    "\n"
   ]
  },
  {
   "cell_type": "markdown",
   "id": "83efee4b",
   "metadata": {},
   "source": [
    "## break, continue, pass\n",
    "### we can use  these keywords to add additional functionality\n",
    "\n",
    "## break : break out of the current  closest enclosing loop\n",
    "## continue : goes to top of the closet enclosing loop \n",
    "## pass : does nothing at all (e.g. 1 use :- to avoid syntax error)\n",
    "\n",
    "# current  closest enclosing LOOP and not STATEMENT "
   ]
  },
  {
   "cell_type": "code",
   "execution_count": 134,
   "id": "5c3cccaa",
   "metadata": {},
   "outputs": [],
   "source": [
    "x = [1,2,3]\n",
    "\n",
    "for i in x:\n",
    "    #comment := used pass keyword to avoid syntax error\n",
    "    pass"
   ]
  },
  {
   "cell_type": "code",
   "execution_count": 135,
   "id": "b6017859",
   "metadata": {},
   "outputs": [
    {
     "name": "stdout",
     "output_type": "stream",
     "text": [
      "end of my script\n"
     ]
    }
   ],
   "source": [
    "x = [1,2,3]\n",
    "\n",
    "for i in x:\n",
    "    #comment := used pass keyword to avoid syntax error\n",
    "    pass\n",
    "print(\"end of my script\")"
   ]
  },
  {
   "cell_type": "code",
   "execution_count": 136,
   "id": "eed8552d",
   "metadata": {},
   "outputs": [],
   "source": [
    "x = \"Sammy\"\n"
   ]
  },
  {
   "cell_type": "code",
   "execution_count": 137,
   "id": "28e413fd",
   "metadata": {},
   "outputs": [
    {
     "name": "stdout",
     "output_type": "stream",
     "text": [
      "S\n",
      "a\n",
      "m\n",
      "m\n",
      "y\n"
     ]
    }
   ],
   "source": [
    "for letter in x:\n",
    "    print(letter)"
   ]
  },
  {
   "cell_type": "code",
   "execution_count": 138,
   "id": "6d3a33fb",
   "metadata": {},
   "outputs": [
    {
     "name": "stdout",
     "output_type": "stream",
     "text": [
      "S\n",
      "m\n",
      "m\n",
      "y\n"
     ]
    }
   ],
   "source": [
    "for letter in x:\n",
    "    if letter ==\"a\":\n",
    "        continue\n",
    "    print(letter)"
   ]
  },
  {
   "cell_type": "code",
   "execution_count": 139,
   "id": "af2fec12",
   "metadata": {},
   "outputs": [
    {
     "name": "stdout",
     "output_type": "stream",
     "text": [
      "y\n"
     ]
    }
   ],
   "source": [
    "for letter in x:\n",
    "    if letter ==\"a\":\n",
    "        continue\n",
    "print(letter)# last item in the string"
   ]
  },
  {
   "cell_type": "code",
   "execution_count": 140,
   "id": "4c3bba49",
   "metadata": {},
   "outputs": [
    {
     "name": "stdout",
     "output_type": "stream",
     "text": [
      "S\n",
      "a\n",
      "m\n",
      "m\n",
      "y\n"
     ]
    }
   ],
   "source": [
    "for letter in x:\n",
    "    if letter ==\"mm\":\n",
    "        continue\n",
    "    print(letter)"
   ]
  },
  {
   "cell_type": "code",
   "execution_count": null,
   "id": "cb00c482",
   "metadata": {},
   "outputs": [],
   "source": []
  },
  {
   "cell_type": "code",
   "execution_count": null,
   "id": "27c8989e",
   "metadata": {},
   "outputs": [],
   "source": []
  },
  {
   "cell_type": "code",
   "execution_count": null,
   "id": "6cd06472",
   "metadata": {},
   "outputs": [],
   "source": []
  },
  {
   "cell_type": "code",
   "execution_count": 141,
   "id": "3b0e5fd4",
   "metadata": {},
   "outputs": [
    {
     "name": "stdout",
     "output_type": "stream",
     "text": [
      "S\n"
     ]
    }
   ],
   "source": [
    "for letter in x:\n",
    "    if letter ==\"a\":\n",
    "        break\n",
    "    print(letter)"
   ]
  },
  {
   "cell_type": "code",
   "execution_count": 142,
   "id": "dbfa088b",
   "metadata": {},
   "outputs": [
    {
     "name": "stdout",
     "output_type": "stream",
     "text": [
      "S\n",
      "a\n"
     ]
    }
   ],
   "source": [
    "for letter in x:\n",
    "    if letter ==\"m\":\n",
    "        break\n",
    "    print(letter)"
   ]
  },
  {
   "cell_type": "code",
   "execution_count": 143,
   "id": "61f3ed9e",
   "metadata": {},
   "outputs": [
    {
     "name": "stdout",
     "output_type": "stream",
     "text": [
      "S\n",
      "a\n",
      "m\n",
      "m\n",
      "y\n"
     ]
    }
   ],
   "source": [
    "for letter in x:\n",
    "    if letter ==\"mm\":\n",
    "        break\n",
    "    print(letter)"
   ]
  },
  {
   "cell_type": "code",
   "execution_count": 144,
   "id": "0f26b9fc",
   "metadata": {},
   "outputs": [
    {
     "name": "stdout",
     "output_type": "stream",
     "text": [
      "S\n",
      "a\n",
      "m\n",
      "m\n",
      "y\n"
     ]
    }
   ],
   "source": [
    "for letter in x:\n",
    "    if letter ==\"gfgd\":\n",
    "        break\n",
    "    print(letter)"
   ]
  },
  {
   "cell_type": "code",
   "execution_count": 145,
   "id": "22ff4bc0",
   "metadata": {},
   "outputs": [
    {
     "name": "stdout",
     "output_type": "stream",
     "text": [
      "S\n",
      "a\n",
      "m\n",
      "m\n"
     ]
    }
   ],
   "source": [
    "for letter in x:\n",
    "    if letter ==\"y\":\n",
    "        break\n",
    "    print(letter)"
   ]
  },
  {
   "cell_type": "code",
   "execution_count": null,
   "id": "dc3864fb",
   "metadata": {},
   "outputs": [],
   "source": []
  },
  {
   "cell_type": "code",
   "execution_count": 146,
   "id": "4c75a12e",
   "metadata": {},
   "outputs": [
    {
     "name": "stdout",
     "output_type": "stream",
     "text": [
      "0\n",
      "1\n",
      "2\n",
      "3\n",
      "4\n"
     ]
    }
   ],
   "source": [
    "x=0\n",
    "while x<5:\n",
    "    print(x)\n",
    "    x+=1"
   ]
  },
  {
   "cell_type": "code",
   "execution_count": 147,
   "id": "d4d03cba",
   "metadata": {},
   "outputs": [
    {
     "name": "stdout",
     "output_type": "stream",
     "text": [
      "0\n",
      "1\n"
     ]
    }
   ],
   "source": [
    "x=0\n",
    "while x<5:\n",
    "    if x==2:\n",
    "        break\n",
    "    print(x)\n",
    "    x+=1"
   ]
  },
  {
   "cell_type": "code",
   "execution_count": null,
   "id": "1684de51",
   "metadata": {},
   "outputs": [],
   "source": []
  },
  {
   "cell_type": "code",
   "execution_count": null,
   "id": "4714ec78",
   "metadata": {},
   "outputs": [],
   "source": [
    "\n",
    "\n",
    "\n",
    "\n",
    "\n",
    "\n",
    "\n",
    "\n",
    "\n",
    "\n"
   ]
  },
  {
   "cell_type": "markdown",
   "id": "23fb3fae",
   "metadata": {},
   "source": [
    "# 037 USE OPERATORS IN PYTHON"
   ]
  },
  {
   "cell_type": "code",
   "execution_count": 148,
   "id": "c55e90fc",
   "metadata": {},
   "outputs": [
    {
     "data": {
      "text/plain": [
       "'0x36'"
      ]
     },
     "execution_count": 148,
     "metadata": {},
     "output_type": "execute_result"
    }
   ],
   "source": [
    " hex(54)"
   ]
  },
  {
   "cell_type": "code",
   "execution_count": null,
   "id": "74202ee9",
   "metadata": {},
   "outputs": [],
   "source": []
  },
  {
   "cell_type": "code",
   "execution_count": null,
   "id": "9f8754b3",
   "metadata": {},
   "outputs": [],
   "source": []
  }
 ],
 "metadata": {
  "kernelspec": {
   "display_name": "Python 3 (ipykernel)",
   "language": "python",
   "name": "python3"
  },
  "language_info": {
   "codemirror_mode": {
    "name": "ipython",
    "version": 3
   },
   "file_extension": ".py",
   "mimetype": "text/x-python",
   "name": "python",
   "nbconvert_exporter": "python",
   "pygments_lexer": "ipython3",
   "version": "3.8.6"
  }
 },
 "nbformat": 4,
 "nbformat_minor": 5
}
