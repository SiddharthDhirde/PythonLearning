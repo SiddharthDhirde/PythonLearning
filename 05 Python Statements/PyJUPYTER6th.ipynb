{
 "cells": [
  {
   "cell_type": "code",
   "execution_count": 1,
   "id": "eafea928",
   "metadata": {},
   "outputs": [],
   "source": [
    "#  OM NAMAH SHIVAY"
   ]
  },
  {
   "cell_type": "code",
   "execution_count": 2,
   "id": "1d453a6c",
   "metadata": {},
   "outputs": [],
   "source": [
    "# PYTHON BOOTCAMP\n",
    "\n",
    "\n",
    "## LET'S BEGIN THE ULTIMATE JOURNEY\n",
    "\n",
    "# 05_Folder Python Statements"
   ]
  },
  {
   "cell_type": "code",
   "execution_count": 5,
   "id": "fcc28e43",
   "metadata": {},
   "outputs": [],
   "source": [
    "# 039-040 Python Statements Test"
   ]
  },
  {
   "cell_type": "code",
   "execution_count": null,
   "id": "7b6f2c9b",
   "metadata": {},
   "outputs": [],
   "source": []
  },
  {
   "cell_type": "markdown",
   "id": "7f1af705",
   "metadata": {},
   "source": [
    "# 039-040 PYTHON STATEMENTS TEST\n",
    "\n",
    "# 25 JAN 2022"
   ]
  },
  {
   "cell_type": "code",
   "execution_count": 43,
   "id": "ad087a2a",
   "metadata": {},
   "outputs": [],
   "source": [
    "s = '''Sherlock, Print only the words that starts with s in this sentence \n",
    "( not capital S)'''"
   ]
  },
  {
   "cell_type": "code",
   "execution_count": 44,
   "id": "6ae4b82e",
   "metadata": {},
   "outputs": [
    {
     "data": {
      "text/plain": [
       "['Sherlock,',\n",
       " 'Print',\n",
       " 'only',\n",
       " 'the',\n",
       " 'words',\n",
       " 'that',\n",
       " 'starts',\n",
       " 'with',\n",
       " 's',\n",
       " 'in',\n",
       " 'this',\n",
       " 'sentence',\n",
       " '(',\n",
       " 'not',\n",
       " 'capital',\n",
       " 'S)']"
      ]
     },
     "execution_count": 44,
     "metadata": {},
     "output_type": "execute_result"
    }
   ],
   "source": [
    "s.split()"
   ]
  },
  {
   "cell_type": "code",
   "execution_count": 45,
   "id": "e36305fa",
   "metadata": {},
   "outputs": [
    {
     "name": "stdout",
     "output_type": "stream",
     "text": [
      "Sherlock,\n",
      "Print\n",
      "only\n",
      "the\n",
      "words\n",
      "that\n",
      "starts\n",
      "with\n",
      "s\n",
      "in\n",
      "this\n",
      "sentence\n",
      "(\n",
      "not\n",
      "capital\n",
      "S)\n"
     ]
    }
   ],
   "source": [
    "for word in s.split():\n",
    "    print(word)"
   ]
  },
  {
   "cell_type": "code",
   "execution_count": 46,
   "id": "1b3ced08",
   "metadata": {},
   "outputs": [
    {
     "name": "stdout",
     "output_type": "stream",
     "text": [
      "S\n",
      "Sherlock,\n",
      "P\n",
      "Print\n",
      "o\n",
      "only\n",
      "t\n",
      "the\n",
      "w\n",
      "words\n",
      "t\n",
      "that\n",
      "s\n",
      "starts\n",
      "w\n",
      "with\n",
      "s\n",
      "s\n",
      "i\n",
      "in\n",
      "t\n",
      "this\n",
      "s\n",
      "sentence\n",
      "(\n",
      "(\n",
      "n\n",
      "not\n",
      "c\n",
      "capital\n",
      "S\n",
      "S)\n"
     ]
    }
   ],
   "source": [
    "for word in s.split():\n",
    "    print(word[0])\n",
    "    print(word)"
   ]
  },
  {
   "cell_type": "code",
   "execution_count": 49,
   "id": "20ab4ef7",
   "metadata": {},
   "outputs": [
    {
     "name": "stdout",
     "output_type": "stream",
     "text": [
      "starts\n",
      "s\n",
      "sentence\n"
     ]
    }
   ],
   "source": [
    "for word in s.split():\n",
    "    if word[0]=='s':\n",
    "        print(word)"
   ]
  },
  {
   "cell_type": "code",
   "execution_count": 59,
   "id": "f5d12fe0",
   "metadata": {},
   "outputs": [
    {
     "name": "stdout",
     "output_type": "stream",
     "text": [
      "Sherlock,\n",
      "starts\n",
      "s\n",
      "sentence\n",
      "S)\n"
     ]
    }
   ],
   "source": [
    "s = '''Sherlock, Print only the words that starts with s in this sentence \n",
    "( not capital S)'''\n",
    "\n",
    "for word in s.split():\n",
    "    if word[0].lower()=='s':\n",
    "        print(word)"
   ]
  },
  {
   "cell_type": "code",
   "execution_count": 60,
   "id": "48e1257a",
   "metadata": {},
   "outputs": [
    {
     "name": "stdout",
     "output_type": "stream",
     "text": [
      "Sherlock,\n",
      "starts\n",
      "s\n",
      "sentence\n",
      "S)\n"
     ]
    }
   ],
   "source": [
    "s = '''Sherlock, Print only the words that starts with s in this sentence \n",
    "( not capital S)'''\n",
    "\n",
    "for word in s.split():\n",
    "    if word[0].upper()=='S':\n",
    "        print(word)"
   ]
  },
  {
   "cell_type": "code",
   "execution_count": 63,
   "id": "f4ee911a",
   "metadata": {},
   "outputs": [
    {
     "name": "stdout",
     "output_type": "stream",
     "text": [
      "Sherlock,\n",
      "starts\n",
      "s\n",
      "sentence\n",
      "S)\n"
     ]
    }
   ],
   "source": [
    "s = '''Sherlock, Print only the words that starts with s in this sentence \n",
    "( not capital S)'''\n",
    "\n",
    "for word in s.split():\n",
    "    if word[0]=='s' or word[0]==\"S\":\n",
    "        print(word)"
   ]
  },
  {
   "cell_type": "code",
   "execution_count": null,
   "id": "dc9755b3",
   "metadata": {},
   "outputs": [],
   "source": []
  },
  {
   "cell_type": "code",
   "execution_count": null,
   "id": "f2423d31",
   "metadata": {},
   "outputs": [],
   "source": []
  },
  {
   "cell_type": "code",
   "execution_count": null,
   "id": "a680d11b",
   "metadata": {},
   "outputs": [],
   "source": []
  },
  {
   "cell_type": "code",
   "execution_count": null,
   "id": "d2e173ad",
   "metadata": {},
   "outputs": [],
   "source": []
  },
  {
   "cell_type": "code",
   "execution_count": null,
   "id": "c7ed5885",
   "metadata": {},
   "outputs": [],
   "source": []
  },
  {
   "cell_type": "code",
   "execution_count": 70,
   "id": "4272998e",
   "metadata": {},
   "outputs": [
    {
     "name": "stdout",
     "output_type": "stream",
     "text": [
      "0\n",
      "2\n",
      "4\n",
      "6\n",
      "8\n",
      "10\n"
     ]
    }
   ],
   "source": [
    "for even in range(0,11):\n",
    "    if even%2==0:\n",
    "        print(even)\n",
    "#Even numbers from 0 to 10 are (there isnt just one method)\n",
    "######### OBSERVE ########"
   ]
  },
  {
   "cell_type": "code",
   "execution_count": 71,
   "id": "fcd50afa",
   "metadata": {},
   "outputs": [
    {
     "name": "stdout",
     "output_type": "stream",
     "text": [
      "0\n",
      "2\n",
      "4\n",
      "6\n",
      "8\n",
      "10\n"
     ]
    }
   ],
   "source": [
    "for even in range(0,11,2):\n",
    "    print(even)"
   ]
  },
  {
   "cell_type": "code",
   "execution_count": 72,
   "id": "f0ffcbee",
   "metadata": {},
   "outputs": [
    {
     "name": "stdout",
     "output_type": "stream",
     "text": [
      "[0, 2, 4, 6, 8, 10]\n"
     ]
    }
   ],
   "source": [
    "print(   list( range(0,11,2) )   )"
   ]
  },
  {
   "cell_type": "code",
   "execution_count": null,
   "id": "a84f8e4d",
   "metadata": {},
   "outputs": [],
   "source": []
  },
  {
   "cell_type": "code",
   "execution_count": null,
   "id": "fbadf042",
   "metadata": {},
   "outputs": [],
   "source": []
  },
  {
   "cell_type": "code",
   "execution_count": null,
   "id": "05b96c09",
   "metadata": {},
   "outputs": [],
   "source": []
  },
  {
   "cell_type": "code",
   "execution_count": null,
   "id": "994e4294",
   "metadata": {},
   "outputs": [],
   "source": []
  },
  {
   "cell_type": "code",
   "execution_count": null,
   "id": "380f9c75",
   "metadata": {},
   "outputs": [],
   "source": []
  },
  {
   "cell_type": "code",
   "execution_count": 14,
   "id": "32908f42",
   "metadata": {},
   "outputs": [
    {
     "name": "stdout",
     "output_type": "stream",
     "text": [
      "[3, 6, 9, 12, 15, 18, 21, 24, 27, 30, 33, 36, 39, 42, 45, 48]\n"
     ]
    }
   ],
   "source": [
    "#  List Comprehension ---> 1 to 50 ; divisible by 3\n",
    "evenst= [x for x in range(1,50) if x%3==0] \n",
    "\n",
    "print(evenst)"
   ]
  },
  {
   "cell_type": "code",
   "execution_count": 23,
   "id": "15e68966",
   "metadata": {},
   "outputs": [
    {
     "name": "stdout",
     "output_type": "stream",
     "text": [
      "['_', '_', 3, '_', '_', 6, '_', '_', 9, '_', '_', 12, '_', '_', 15, '_', '_', 18, '_', '_', 21, '_', '_', 24, '_', '_', 27, '_', '_', 30, '_', '_', 33, '_', '_', 36, '_', '_', 39, '_', '_', 42, '_', '_', 45, '_', '_', 48, '_']\n"
     ]
    }
   ],
   "source": [
    "evenstr = [x if x%3==0 else \"_\" for x in range(1,50)]\n",
    "print(evenstr)"
   ]
  },
  {
   "cell_type": "code",
   "execution_count": null,
   "id": "b0b83206",
   "metadata": {},
   "outputs": [],
   "source": []
  },
  {
   "cell_type": "code",
   "execution_count": null,
   "id": "61247cfc",
   "metadata": {},
   "outputs": [],
   "source": []
  },
  {
   "cell_type": "code",
   "execution_count": 73,
   "id": "b193be72",
   "metadata": {},
   "outputs": [],
   "source": [
    "st=\"Print evey word in this sentence that  has an even no. of letters\""
   ]
  },
  {
   "cell_type": "code",
   "execution_count": 80,
   "id": "2e3cdbd9",
   "metadata": {},
   "outputs": [
    {
     "name": "stdout",
     "output_type": "stream",
     "text": [
      "evey         is an even!!!\n",
      "word         is an even!!!\n",
      "in         is an even!!!\n",
      "this         is an even!!!\n",
      "sentence         is an even!!!\n",
      "that         is an even!!!\n",
      "an         is an even!!!\n",
      "even         is an even!!!\n",
      "of         is an even!!!\n"
     ]
    }
   ],
   "source": [
    "for word in st.split():\n",
    "    if len(word)%2==0:\n",
    "        print(word + \"         is an even!!!\")"
   ]
  },
  {
   "cell_type": "code",
   "execution_count": null,
   "id": "88734105",
   "metadata": {},
   "outputs": [],
   "source": []
  },
  {
   "cell_type": "code",
   "execution_count": null,
   "id": "73ca1eef",
   "metadata": {},
   "outputs": [],
   "source": []
  },
  {
   "cell_type": "code",
   "execution_count": null,
   "id": "3c44b3df",
   "metadata": {},
   "outputs": [],
   "source": []
  },
  {
   "cell_type": "code",
   "execution_count": null,
   "id": "d895389b",
   "metadata": {},
   "outputs": [],
   "source": []
  },
  {
   "cell_type": "code",
   "execution_count": 29,
   "id": "6324dbb3",
   "metadata": {},
   "outputs": [
    {
     "name": "stdout",
     "output_type": "stream",
     "text": [
      "1\n",
      "2\n",
      "Fizz\n",
      "4\n",
      "Buzz\n",
      "Fizz\n",
      "7\n",
      "8\n",
      "Fizz\n",
      "Buzz\n",
      "11\n",
      "Fizz\n",
      "13\n",
      "14\n",
      "FizzBuzz\n",
      "16\n",
      "17\n",
      "Fizz\n",
      "19\n",
      "Buzz\n",
      "Fizz\n",
      "22\n",
      "23\n",
      "Fizz\n",
      "Buzz\n",
      "26\n",
      "Fizz\n",
      "28\n",
      "29\n",
      "FizzBuzz\n",
      "31\n",
      "32\n",
      "Fizz\n",
      "34\n",
      "Buzz\n",
      "Fizz\n",
      "37\n",
      "38\n",
      "Fizz\n",
      "Buzz\n",
      "41\n",
      "Fizz\n",
      "43\n",
      "44\n",
      "FizzBuzz\n",
      "46\n",
      "47\n",
      "Fizz\n",
      "49\n",
      "Buzz\n",
      "Fizz\n",
      "52\n",
      "53\n",
      "Fizz\n",
      "Buzz\n",
      "56\n",
      "Fizz\n",
      "58\n",
      "59\n",
      "FizzBuzz\n",
      "61\n",
      "62\n",
      "Fizz\n",
      "64\n",
      "Buzz\n",
      "Fizz\n",
      "67\n",
      "68\n",
      "Fizz\n",
      "Buzz\n",
      "71\n",
      "Fizz\n",
      "73\n",
      "74\n",
      "FizzBuzz\n",
      "76\n",
      "77\n",
      "Fizz\n",
      "79\n",
      "Buzz\n",
      "Fizz\n",
      "82\n",
      "83\n",
      "Fizz\n",
      "Buzz\n",
      "86\n",
      "Fizz\n",
      "88\n",
      "89\n",
      "FizzBuzz\n",
      "91\n",
      "92\n",
      "Fizz\n",
      "94\n",
      "Buzz\n",
      "Fizz\n",
      "97\n",
      "98\n",
      "Fizz\n",
      "Buzz\n"
     ]
    }
   ],
   "source": [
    "for x in range(1,101):\n",
    "    if x%3==0 and x%5!=0:\n",
    "        print(\"Fizz\")\n",
    "    elif x%5==0 and x%3!=0:\n",
    "        print('Buzz')\n",
    "    elif x%5==0 and x%3==0:\n",
    "        print(\"FizzBuzz\")\n",
    "        # condition arrangment does'nt matters here\n",
    "        \n",
    "    else:\n",
    "        print(x)"
   ]
  },
  {
   "cell_type": "code",
   "execution_count": 84,
   "id": "47cd714c",
   "metadata": {},
   "outputs": [
    {
     "name": "stdout",
     "output_type": "stream",
     "text": [
      "1\n",
      "2\n",
      "Fizz\n",
      "4\n",
      "Buzz\n",
      "Fizz\n",
      "7\n",
      "8\n",
      "Fizz\n",
      "Buzz\n",
      "11\n",
      "Fizz\n",
      "13\n",
      "14\n",
      "FizzBuzz\n",
      "16\n",
      "17\n",
      "Fizz\n",
      "19\n",
      "Buzz\n",
      "Fizz\n",
      "22\n",
      "23\n",
      "Fizz\n",
      "Buzz\n",
      "26\n",
      "Fizz\n",
      "28\n",
      "29\n",
      "FizzBuzz\n",
      "31\n",
      "32\n",
      "Fizz\n",
      "34\n",
      "Buzz\n",
      "Fizz\n",
      "37\n",
      "38\n",
      "Fizz\n",
      "Buzz\n",
      "41\n",
      "Fizz\n",
      "43\n",
      "44\n",
      "FizzBuzz\n",
      "46\n",
      "47\n",
      "Fizz\n",
      "49\n",
      "Buzz\n",
      "Fizz\n",
      "52\n",
      "53\n",
      "Fizz\n",
      "Buzz\n",
      "56\n",
      "Fizz\n",
      "58\n",
      "59\n",
      "FizzBuzz\n",
      "61\n",
      "62\n",
      "Fizz\n",
      "64\n",
      "Buzz\n",
      "Fizz\n",
      "67\n",
      "68\n",
      "Fizz\n",
      "Buzz\n",
      "71\n",
      "Fizz\n",
      "73\n",
      "74\n",
      "FizzBuzz\n",
      "76\n",
      "77\n",
      "Fizz\n",
      "79\n",
      "Buzz\n",
      "Fizz\n",
      "82\n",
      "83\n",
      "Fizz\n",
      "Buzz\n",
      "86\n",
      "Fizz\n",
      "88\n",
      "89\n",
      "FizzBuzz\n",
      "91\n",
      "92\n",
      "Fizz\n",
      "94\n",
      "Buzz\n",
      "Fizz\n",
      "97\n",
      "98\n",
      "Fizz\n",
      "Buzz\n"
     ]
    }
   ],
   "source": [
    "# Has I said OBSERVE\n",
    "for x in range(1,101):\n",
    "    if x%5==0 and x%3==0: # this statement must here (in this case)\n",
    "        # condition arrangment matters here\n",
    "        print(\"FizzBuzz\")\n",
    "    elif x%5==0:\n",
    "        print('Buzz')\n",
    "    elif x%3==0 :\n",
    "        print(\"Fizz\")\n",
    "    else:\n",
    "        print(x)"
   ]
  },
  {
   "cell_type": "code",
   "execution_count": null,
   "id": "7f34aad5",
   "metadata": {},
   "outputs": [],
   "source": []
  },
  {
   "cell_type": "code",
   "execution_count": null,
   "id": "2610691e",
   "metadata": {},
   "outputs": [],
   "source": []
  },
  {
   "cell_type": "code",
   "execution_count": 85,
   "id": "9537bf20",
   "metadata": {},
   "outputs": [],
   "source": [
    "\n",
    "st = \"Create a list of the first letter of every word in this string\""
   ]
  },
  {
   "cell_type": "code",
   "execution_count": 94,
   "id": "377f2fe7",
   "metadata": {},
   "outputs": [
    {
     "data": {
      "text/plain": [
       "['Create',\n",
       " 'a',\n",
       " 'list',\n",
       " 'of',\n",
       " 'the',\n",
       " 'first',\n",
       " 'letter',\n",
       " 'of',\n",
       " 'every',\n",
       " 'word',\n",
       " 'in',\n",
       " 'this',\n",
       " 'string']"
      ]
     },
     "execution_count": 94,
     "metadata": {},
     "output_type": "execute_result"
    }
   ],
   "source": [
    "[word for word in st.split()]"
   ]
  },
  {
   "cell_type": "code",
   "execution_count": 96,
   "id": "35aefb23",
   "metadata": {},
   "outputs": [
    {
     "name": "stdout",
     "output_type": "stream",
     "text": [
      "['C', 'a', 'l', 'o', 't', 'f', 'l', 'o', 'e', 'w', 'i', 't', 's']\n"
     ]
    }
   ],
   "source": [
    "print([word[0] for word in st.split()])"
   ]
  },
  {
   "cell_type": "code",
   "execution_count": null,
   "id": "dd6c1a15",
   "metadata": {},
   "outputs": [],
   "source": []
  },
  {
   "cell_type": "code",
   "execution_count": 102,
   "id": "1799ee1d",
   "metadata": {},
   "outputs": [],
   "source": [
    "st2 = \"I am Iron Man\""
   ]
  },
  {
   "cell_type": "code",
   "execution_count": 103,
   "id": "7c7e9a4b",
   "metadata": {},
   "outputs": [
    {
     "name": "stdout",
     "output_type": "stream",
     "text": [
      "['I', 'a', 'I', 'M']\n"
     ]
    }
   ],
   "source": [
    "print([letter[0] for letter in st2.split()])"
   ]
  },
  {
   "cell_type": "code",
   "execution_count": null,
   "id": "66add785",
   "metadata": {},
   "outputs": [],
   "source": []
  }
 ],
 "metadata": {
  "kernelspec": {
   "display_name": "Python 3 (ipykernel)",
   "language": "python",
   "name": "python3"
  },
  "language_info": {
   "codemirror_mode": {
    "name": "ipython",
    "version": 3
   },
   "file_extension": ".py",
   "mimetype": "text/x-python",
   "name": "python",
   "nbconvert_exporter": "python",
   "pygments_lexer": "ipython3",
   "version": "3.8.6"
  }
 },
 "nbformat": 4,
 "nbformat_minor": 5
}
