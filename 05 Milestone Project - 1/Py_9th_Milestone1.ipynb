{
 "cells": [
  {
   "cell_type": "code",
   "execution_count": 122,
   "id": "49af5fd4",
   "metadata": {},
   "outputs": [],
   "source": [
    "# OM NAMAH SHIVAY"
   ]
  },
  {
   "cell_type": "markdown",
   "id": "eec5862b",
   "metadata": {},
   "source": [
    "# 14 MAR 2022"
   ]
  },
  {
   "cell_type": "markdown",
   "id": "ab364719",
   "metadata": {},
   "source": [
    "# FOLDER: 07 Milestone Project - 1"
   ]
  },
  {
   "cell_type": "markdown",
   "id": "ddaa1b40",
   "metadata": {},
   "source": [
    "# "
   ]
  },
  {
   "cell_type": "markdown",
   "id": "875d8ad8",
   "metadata": {},
   "source": [
    "# 055 First Python Milestone Project Overview"
   ]
  },
  {
   "cell_type": "markdown",
   "id": "9e4d6469",
   "metadata": {},
   "source": [
    "\n",
    "## TIC TAC TOE BOARD"
   ]
  },
  {
   "cell_type": "markdown",
   "id": "ed5071f8",
   "metadata": {},
   "source": [
    "# 18 MARCH 2022"
   ]
  },
  {
   "cell_type": "markdown",
   "id": "77d5acca",
   "metadata": {},
   "source": [
    "## function to print out board. Set up board as a list\n",
    "## 3 by 3 representation"
   ]
  },
  {
   "cell_type": "code",
   "execution_count": 123,
   "id": "7bdc7b5e",
   "metadata": {},
   "outputs": [],
   "source": [
    "from IPython.display import clear_output\n",
    "\n",
    "def display_board(board):\n",
    "    \n",
    "    print(board[9]+'|'+board[8]+'|'+board[7])\n",
    "    print(board[6]+'|'+board[5]+'|'+board[4])\n",
    "    print(board[3]+'|'+board[2]+'|'+board[1])    "
   ]
  },
  {
   "cell_type": "markdown",
   "id": "5a49360e",
   "metadata": {},
   "source": [
    "## test version"
   ]
  },
  {
   "cell_type": "code",
   "execution_count": 124,
   "id": "1068957a",
   "metadata": {},
   "outputs": [
    {
     "name": "stdout",
     "output_type": "stream",
     "text": [
      "X|O|X\n",
      "O|X|O\n",
      "X|O|X\n"
     ]
    }
   ],
   "source": [
    "test_board = ['#','X','O','X','O','X','O','X','O','X']\n",
    "display_board(test_board)"
   ]
  },
  {
   "cell_type": "code",
   "execution_count": null,
   "id": "e57573ff",
   "metadata": {},
   "outputs": [],
   "source": []
  },
  {
   "cell_type": "code",
   "execution_count": 125,
   "id": "1dc1e365",
   "metadata": {},
   "outputs": [],
   "source": [
    "from IPython.display import clear_output\n",
    "\n",
    "def display_board(board):\n",
    "    \n",
    "    print(board[9]+'|'+board[8]+'|'+board[7])\n",
    "    print(\"-|-|-\")\n",
    "    print(board[6]+'|'+board[5]+'|'+board[4])\n",
    "    print(\"-|-|-\")\n",
    "    print(board[3]+'|'+board[2]+'|'+board[1])    "
   ]
  },
  {
   "cell_type": "code",
   "execution_count": 126,
   "id": "71b4f155",
   "metadata": {},
   "outputs": [
    {
     "name": "stdout",
     "output_type": "stream",
     "text": [
      "X|O|X\n",
      "-|-|-\n",
      "O|X|O\n",
      "-|-|-\n",
      "X|O|X\n"
     ]
    }
   ],
   "source": [
    "test_board = ['#','X','O','X','O','X','O','X','O','X']\n",
    "display_board(test_board)"
   ]
  },
  {
   "cell_type": "code",
   "execution_count": 127,
   "id": "dda6c7fa",
   "metadata": {},
   "outputs": [],
   "source": [
    "from IPython.display import clear_output\n",
    "\n",
    "def display_board(board):\n",
    "    \n",
    "    print(board[9]+'|'+board[8]+'|'+board[7])\n",
    "    print(\"-----\")\n",
    "    print(board[6]+'|'+board[5]+'|'+board[4])\n",
    "    print(\"-----\")\n",
    "    print(board[3]+'|'+board[2]+'|'+board[1])    "
   ]
  },
  {
   "cell_type": "code",
   "execution_count": 128,
   "id": "081404b6",
   "metadata": {},
   "outputs": [
    {
     "name": "stdout",
     "output_type": "stream",
     "text": [
      "X|O|X\n",
      "-----\n",
      "O|X|O\n",
      "-----\n",
      "X|O|X\n"
     ]
    }
   ],
   "source": [
    "test_board = ['#','X','O','X','O','X','O','X','O','X']\n",
    "display_board(test_board)"
   ]
  },
  {
   "cell_type": "code",
   "execution_count": 129,
   "id": "10bbcb17",
   "metadata": {},
   "outputs": [
    {
     "name": "stdout",
     "output_type": "stream",
     "text": [
      " | | \n",
      "-----\n",
      " | | \n",
      "-----\n",
      " | | \n"
     ]
    }
   ],
   "source": [
    "test_board = [' '] * 10\n",
    "display_board(test_board)"
   ]
  },
  {
   "cell_type": "code",
   "execution_count": null,
   "id": "5445506c",
   "metadata": {},
   "outputs": [],
   "source": []
  },
  {
   "cell_type": "code",
   "execution_count": 130,
   "id": "d009af0e",
   "metadata": {},
   "outputs": [],
   "source": [
    "from IPython.display import clear_output\n",
    "\n",
    "def display_board(board):\n",
    "    \n",
    "    clear_output()\n",
    "    \n",
    "    print(board[9]+'|'+board[8]+'|'+board[7])\n",
    "    print(\"-----\")\n",
    "    print(board[6]+'|'+board[5]+'|'+board[4])\n",
    "    print(\"-----\")\n",
    "    print(board[3]+'|'+board[2]+'|'+board[1])    "
   ]
  },
  {
   "cell_type": "code",
   "execution_count": 131,
   "id": "fe69a216",
   "metadata": {},
   "outputs": [
    {
     "name": "stdout",
     "output_type": "stream",
     "text": [
      "X|O|X\n",
      "-----\n",
      "O|X|O\n",
      "-----\n",
      "X|O|X\n"
     ]
    }
   ],
   "source": [
    "test_board = ['#','X','O','X','O','X','O','X','O','X']\n",
    "display_board(test_board)"
   ]
  },
  {
   "cell_type": "code",
   "execution_count": null,
   "id": "05d9c9c0",
   "metadata": {},
   "outputs": [],
   "source": []
  },
  {
   "cell_type": "markdown",
   "id": "fd4d037d",
   "metadata": {},
   "source": [
    "## function to take input & assign their marker as ---------------------  'X' or 'O'"
   ]
  },
  {
   "cell_type": "code",
   "execution_count": 132,
   "id": "66d3b1f4",
   "metadata": {},
   "outputs": [],
   "source": [
    "from IPython.display import clear_output\n",
    "\n",
    "def player_input():\n",
    "    \n",
    "    marker = ''\n",
    "    \n",
    "    # KEEP ASKING PLAYER 1 TO CHOOSE X OR O \n",
    "    \n",
    "    while marker != 'X' and marker != 'O':\n",
    "        marker = input(\"For Player 1 choose 'X' or 'O': \") \n",
    "              \n",
    "    player1 = marker   \n",
    "    # ASSIGN PLAYER 2 , THE OPPOSITE MARKER\n",
    "        \n",
    "    if player1 == 'X':\n",
    "        player2 = 'O'\n",
    "    else:\n",
    "        player2 = 'X'\n",
    "        \n",
    "    return (player1,player2)"
   ]
  },
  {
   "cell_type": "code",
   "execution_count": 133,
   "id": "09c0670c",
   "metadata": {},
   "outputs": [
    {
     "name": "stdout",
     "output_type": "stream",
     "text": [
      "For Player 1 choose 'X' or 'O': x\n",
      "For Player 1 choose 'X' or 'O': X\n"
     ]
    },
    {
     "data": {
      "text/plain": [
       "('X', 'O')"
      ]
     },
     "execution_count": 133,
     "metadata": {},
     "output_type": "execute_result"
    }
   ],
   "source": [
    "player_input()"
   ]
  },
  {
   "cell_type": "code",
   "execution_count": 134,
   "id": "fbbddf22",
   "metadata": {},
   "outputs": [],
   "source": [
    "def player_input():\n",
    "    marker = ''\n",
    "    \n",
    "    while not (marker == 'X' or marker == 'O'):\n",
    "        marker = input('Player 1: Do you want to be X or O?').upper()\n",
    "\n",
    "    if marker == 'X':\n",
    "        return ('X', 'O')\n",
    "    else:\n",
    "        return ('O', 'X')"
   ]
  },
  {
   "cell_type": "code",
   "execution_count": 135,
   "id": "7cc06816",
   "metadata": {},
   "outputs": [
    {
     "name": "stdout",
     "output_type": "stream",
     "text": [
      "Player 1: Do you want to be X or O?x\n"
     ]
    },
    {
     "data": {
      "text/plain": [
       "('X', 'O')"
      ]
     },
     "execution_count": 135,
     "metadata": {},
     "output_type": "execute_result"
    }
   ],
   "source": [
    "player_input()"
   ]
  },
  {
   "cell_type": "code",
   "execution_count": 136,
   "id": "d49c6738",
   "metadata": {},
   "outputs": [
    {
     "name": "stdout",
     "output_type": "stream",
     "text": [
      "Player 1: Do you want to be X or O?x\n"
     ]
    }
   ],
   "source": [
    "player1, player2 = player_input()"
   ]
  },
  {
   "cell_type": "code",
   "execution_count": 137,
   "id": "815db73c",
   "metadata": {
    "scrolled": true
   },
   "outputs": [
    {
     "data": {
      "text/plain": [
       "'X'"
      ]
     },
     "execution_count": 137,
     "metadata": {},
     "output_type": "execute_result"
    }
   ],
   "source": [
    "player1"
   ]
  },
  {
   "cell_type": "code",
   "execution_count": 138,
   "id": "8a17c59b",
   "metadata": {},
   "outputs": [
    {
     "data": {
      "text/plain": [
       "'O'"
      ]
     },
     "execution_count": 138,
     "metadata": {},
     "output_type": "execute_result"
    }
   ],
   "source": [
    "player2"
   ]
  },
  {
   "cell_type": "markdown",
   "id": "4f2889de",
   "metadata": {},
   "source": [
    "# 19 March 2022"
   ]
  },
  {
   "cell_type": "code",
   "execution_count": 139,
   "id": "280888d7",
   "metadata": {},
   "outputs": [],
   "source": [
    "from IPython.display import clear_output\n",
    "\n",
    "def player_input():\n",
    "    \n",
    "    marker = ''\n",
    "    \n",
    "    # KEEP ASKING PLAYER 1 TO CHOOSE X OR O \n",
    "    \n",
    "    while marker != 'X' and marker != 'O':\n",
    "        marker = input(\"For Player 1 choose 'X' or 'O': \").upper()\n",
    "              \n",
    "    player1 = marker   \n",
    "    # ASSIGN PLAYER 2 , THE OPPOSITE MARKER\n",
    "        \n",
    "    if player1 == 'X':\n",
    "        player2 = 'O'\n",
    "    else:\n",
    "        player2 = 'X'\n",
    "        \n",
    "    return (player1,player2)"
   ]
  },
  {
   "cell_type": "code",
   "execution_count": 140,
   "id": "509494d4",
   "metadata": {},
   "outputs": [],
   "source": [
    "from IPython.display import clear_output\n",
    "\n",
    "def display_board(board):\n",
    "    \n",
    "    print(board[9]+'|'+board[8]+'|'+board[7])\n",
    "    print(\"-|-|-\")\n",
    "    print(board[6]+'|'+board[5]+'|'+board[4])\n",
    "    print(\"-|-|-\")\n",
    "    print(board[3]+'|'+board[2]+'|'+board[1])    "
   ]
  },
  {
   "cell_type": "code",
   "execution_count": 141,
   "id": "2af64c54",
   "metadata": {},
   "outputs": [
    {
     "name": "stdout",
     "output_type": "stream",
     "text": [
      "X|O|X\n",
      "-|-|-\n",
      "O|X|O\n",
      "-|-|-\n",
      "X|O|X\n",
      "X|O|X\n",
      "-|-|-\n",
      "O|X|O\n",
      "-|-|-\n",
      "X|O|X\n"
     ]
    }
   ],
   "source": [
    "test_board = ['#','X','O','X','O','X','O','X','O','X']\n",
    "display_board(test_board)\n",
    "display_board(test_board)"
   ]
  },
  {
   "cell_type": "code",
   "execution_count": null,
   "id": "2c578b39",
   "metadata": {},
   "outputs": [],
   "source": []
  },
  {
   "cell_type": "code",
   "execution_count": 142,
   "id": "4d69f683",
   "metadata": {},
   "outputs": [
    {
     "name": "stdout",
     "output_type": "stream",
     "text": [
      "X|O|X\n",
      "-|-|-\n",
      "O|X|O\n",
      "-|-|-\n",
      "X|O|X\n",
      "\n",
      "\n",
      "\n",
      "\n",
      "\n",
      "\n",
      "X|O|X\n",
      "-|-|-\n",
      "O|X|O\n",
      "-|-|-\n",
      "X|O|X\n"
     ]
    }
   ],
   "source": [
    "test_board = ['#','X','O','X','O','X','O','X','O','X']\n",
    "display_board(test_board)\n",
    "print('\\n'*5)\n",
    "display_board(test_board)"
   ]
  },
  {
   "cell_type": "code",
   "execution_count": 143,
   "id": "05371f24",
   "metadata": {},
   "outputs": [
    {
     "name": "stdout",
     "output_type": "stream",
     "text": [
      "X|O|X\n",
      "-|-|-\n",
      "O|X|O\n",
      "-|-|-\n",
      "X|O|X\n"
     ]
    }
   ],
   "source": [
    "test_board = ['#','X','O','X','O','X','O','X','O','X']\n",
    "display_board(test_board)\n",
    "clear_output()\n",
    "display_board(test_board)"
   ]
  },
  {
   "cell_type": "code",
   "execution_count": null,
   "id": "cc6d7b71",
   "metadata": {},
   "outputs": [],
   "source": []
  },
  {
   "cell_type": "code",
   "execution_count": null,
   "id": "4030a57e",
   "metadata": {},
   "outputs": [],
   "source": []
  },
  {
   "cell_type": "code",
   "execution_count": 144,
   "id": "8ed03993",
   "metadata": {},
   "outputs": [],
   "source": [
    "from IPython.display import clear_output\n",
    "\n",
    "def display_board(board):\n",
    "    \n",
    "    print(board[9]+'|'+board[8]+'|'+board[7])\n",
    "    print(\"-|-|-\")\n",
    "    print(board[6]+'|'+board[5]+'|'+board[4])\n",
    "    print(\"-|-|-\")\n",
    "    print(board[3]+'|'+board[2]+'|'+board[1])    "
   ]
  },
  {
   "cell_type": "code",
   "execution_count": 145,
   "id": "86e96fd7",
   "metadata": {},
   "outputs": [
    {
     "name": "stdout",
     "output_type": "stream",
     "text": [
      "X|O|X\n",
      "-|-|-\n",
      "O|X|O\n",
      "-|-|-\n",
      "X|O|X\n"
     ]
    }
   ],
   "source": [
    "test_board = ['#','X','O','X','O','X','O','X','O','X']\n",
    "display_board(test_board)"
   ]
  },
  {
   "cell_type": "code",
   "execution_count": 146,
   "id": "686fc2d1",
   "metadata": {},
   "outputs": [
    {
     "name": "stdout",
     "output_type": "stream",
     "text": [
      "X|O|X\n",
      "-|-|-\n",
      "O|X|O\n",
      "-|-|-\n",
      "X|O|X\n",
      "X|O|X\n",
      "-|-|-\n",
      "O|X|O\n",
      "-|-|-\n",
      "X|O|X\n"
     ]
    }
   ],
   "source": [
    "test_board = ['#','X','O','X','O','X','O','X','O','X']\n",
    "display_board(test_board)\n",
    "display_board(test_board)"
   ]
  },
  {
   "cell_type": "code",
   "execution_count": null,
   "id": "f7fbe8e6",
   "metadata": {},
   "outputs": [],
   "source": []
  },
  {
   "cell_type": "code",
   "execution_count": 147,
   "id": "07990e1f",
   "metadata": {},
   "outputs": [],
   "source": [
    "from IPython.display import clear_output\n",
    "\n",
    "def display_board(board):\n",
    "    ''' clear_output() is used to clear previous output \n",
    "        Tic tac toe'''\n",
    "    \n",
    "    clear_output()    \n",
    "    \n",
    "    print(board[9]+'|'+board[8]+'|'+board[7])\n",
    "    print(\"-|-|-\")\n",
    "    print(board[6]+'|'+board[5]+'|'+board[4])\n",
    "    print(\"-|-|-\")\n",
    "    print(board[3]+'|'+board[2]+'|'+board[1])    "
   ]
  },
  {
   "cell_type": "code",
   "execution_count": 148,
   "id": "03bb7810",
   "metadata": {},
   "outputs": [
    {
     "name": "stdout",
     "output_type": "stream",
     "text": [
      "X|O|X\n",
      "-|-|-\n",
      "O|X|O\n",
      "-|-|-\n",
      "X|O|X\n"
     ]
    }
   ],
   "source": [
    "test_board = ['#','X','O','X','O','X','O','X','O','X']\n",
    "display_board(test_board)\n",
    "display_board(test_board)"
   ]
  },
  {
   "cell_type": "code",
   "execution_count": 149,
   "id": "df31c6a3",
   "metadata": {},
   "outputs": [
    {
     "name": "stdout",
     "output_type": "stream",
     "text": [
      "X|O|X\n",
      "-|-|-\n",
      "O|X|O\n",
      "-|-|-\n",
      "X|O|X\n",
      "Help on NoneType object:\n",
      "\n",
      "class NoneType(object)\n",
      " |  Methods defined here:\n",
      " |  \n",
      " |  __bool__(self, /)\n",
      " |      self != 0\n",
      " |  \n",
      " |  __repr__(self, /)\n",
      " |      Return repr(self).\n",
      " |  \n",
      " |  ----------------------------------------------------------------------\n",
      " |  Static methods defined here:\n",
      " |  \n",
      " |  __new__(*args, **kwargs) from builtins.type\n",
      " |      Create and return a new object.  See help(type) for accurate signature.\n",
      "\n"
     ]
    }
   ],
   "source": [
    "help(display_board(test_board))"
   ]
  },
  {
   "cell_type": "code",
   "execution_count": null,
   "id": "da14df53",
   "metadata": {},
   "outputs": [],
   "source": []
  },
  {
   "cell_type": "code",
   "execution_count": 150,
   "id": "d0871cac",
   "metadata": {},
   "outputs": [],
   "source": [
    "from IPython.display import clear_output\n",
    "\n",
    "def display_board(board):\n",
    "    clear_output()\n",
    "    \n",
    "    print(board[7]+'|'+board[8]+'|'+board[9])\n",
    "    print('-----')\n",
    "    print(board[4]+'|'+board[5]+'|'+board[6])    \n",
    "    print('-----')\n",
    "    print(board[1]+'|'+board[2]+'|'+board[3])    "
   ]
  },
  {
   "cell_type": "code",
   "execution_count": 151,
   "id": "75ce8efd",
   "metadata": {},
   "outputs": [
    {
     "name": "stdout",
     "output_type": "stream",
     "text": [
      "X|O|X\n",
      "-----\n",
      "O|X|O\n",
      "-----\n",
      "X|O|X\n"
     ]
    }
   ],
   "source": [
    "board = ['x','X','O','X','O','X','O','X','O','X']\n",
    "display_board(board)"
   ]
  },
  {
   "cell_type": "code",
   "execution_count": 152,
   "id": "daa90cef",
   "metadata": {},
   "outputs": [],
   "source": [
    "# OM NAMAH SHIVAY"
   ]
  },
  {
   "cell_type": "markdown",
   "id": "30163087",
   "metadata": {},
   "source": [
    "# 19 Apr 2022"
   ]
  },
  {
   "cell_type": "code",
   "execution_count": 153,
   "id": "e9dbdfa3",
   "metadata": {},
   "outputs": [],
   "source": [
    "from IPython.display import clear_output\n",
    "\n",
    "def display_board(board):\n",
    "    clear_output()  # Remember, this only works in jupyter!\n",
    "    \n",
    "    print('   |   |')\n",
    "    print(' ' + board[7] + ' | ' + board[8] + ' | ' + board[9])\n",
    "    print('   |   |')\n",
    "    print('-----------')\n",
    "    print('   |   |')\n",
    "    print(' ' + board[4] + ' | ' + board[5] + ' | ' + board[6])\n",
    "    print('   |   |')\n",
    "    print('-----------')\n",
    "    print('   |   |')\n",
    "    print(' ' + board[1] + ' | ' + board[2] + ' | ' + board[3])\n",
    "    print('   |   |')"
   ]
  },
  {
   "cell_type": "code",
   "execution_count": 154,
   "id": "4ec14951",
   "metadata": {},
   "outputs": [],
   "source": [
    "# FUNCTION FOR DESIRED POSITION"
   ]
  },
  {
   "cell_type": "code",
   "execution_count": 155,
   "id": "f55ea0e6",
   "metadata": {},
   "outputs": [],
   "source": [
    "def place_marker(board,marker,position):\n",
    "    board[position]=marker"
   ]
  },
  {
   "cell_type": "code",
   "execution_count": 156,
   "id": "b89e7414",
   "metadata": {},
   "outputs": [
    {
     "data": {
      "text/plain": [
       "['#', 'X', 'O', 'X', 'O', 'X', 'O', 'X', 'O', 'X']"
      ]
     },
     "execution_count": 156,
     "metadata": {},
     "output_type": "execute_result"
    }
   ],
   "source": [
    "test_board"
   ]
  },
  {
   "cell_type": "code",
   "execution_count": 157,
   "id": "3bb6de76",
   "metadata": {},
   "outputs": [
    {
     "name": "stdout",
     "output_type": "stream",
     "text": [
      "   |   |\n",
      " X | $ | X\n",
      "   |   |\n",
      "-----------\n",
      "   |   |\n",
      " O | X | O\n",
      "   |   |\n",
      "-----------\n",
      "   |   |\n",
      " X | O | X\n",
      "   |   |\n"
     ]
    }
   ],
   "source": [
    "place_marker(test_board,\"$\",8)\n",
    "display_board(test_board)"
   ]
  },
  {
   "cell_type": "code",
   "execution_count": 158,
   "id": "ff4db7eb",
   "metadata": {},
   "outputs": [
    {
     "name": "stdout",
     "output_type": "stream",
     "text": [
      "   |   |\n",
      " X | $ | X\n",
      "   |   |\n",
      "-----------\n",
      "   |   |\n",
      " O | X | O\n",
      "   |   |\n",
      "-----------\n",
      "   |   |\n",
      " $ | O | X\n",
      "   |   |\n"
     ]
    }
   ],
   "source": [
    "place_marker(test_board,\"$\",1)\n",
    "display_board(test_board)"
   ]
  },
  {
   "cell_type": "code",
   "execution_count": 159,
   "id": "3b07d8cf",
   "metadata": {},
   "outputs": [
    {
     "name": "stdout",
     "output_type": "stream",
     "text": [
      "   |   |\n",
      " X | $ | X\n",
      "   |   |\n",
      "-----------\n",
      "   |   |\n",
      " $ | X | O\n",
      "   |   |\n",
      "-----------\n",
      "   |   |\n",
      " $ | O | X\n",
      "   |   |\n"
     ]
    }
   ],
   "source": [
    "place_marker(test_board,\"$\",4)\n",
    "display_board(test_board)"
   ]
  },
  {
   "cell_type": "code",
   "execution_count": null,
   "id": "6cbf1fae",
   "metadata": {},
   "outputs": [],
   "source": []
  },
  {
   "cell_type": "code",
   "execution_count": 160,
   "id": "3176372f",
   "metadata": {},
   "outputs": [],
   "source": [
    "def win_check(board,marker):\n",
    "    \n",
    "    # Win Tic Tac Toe?\n",
    "    \n",
    "    # All Rows,  and check to see if they share the same marker\n",
    "    return ((board[1]==marker and board[2]==marker and board[3]==marker) or\n",
    "    (board[4] == board[5]== board[6] == marker) or\n",
    "    (board[7] == board[8]== board[9] == marker) or\n",
    "    \n",
    "    # All Columns,  and check to see if they share the same marker\n",
    "    (board[1] == board[4]== board[7] == marker) or\n",
    "    (board[2] == board[5]== board[8] == marker) or\n",
    "    (board[3] == board[6]== board[9] == marker) or\n",
    "    \n",
    "    # 2 Diagonals,  and check to see if they share the same marker\n",
    "    (board[1] == board[5]== board[9] == marker) or\n",
    "    (board[3] == board[5]== board[7] == marker))"
   ]
  },
  {
   "cell_type": "code",
   "execution_count": 161,
   "id": "d1b0b869",
   "metadata": {},
   "outputs": [
    {
     "name": "stdout",
     "output_type": "stream",
     "text": [
      "   |   |\n",
      " X | $ | X\n",
      "   |   |\n",
      "-----------\n",
      "   |   |\n",
      " $ | X | O\n",
      "   |   |\n",
      "-----------\n",
      "   |   |\n",
      " $ | O | X\n",
      "   |   |\n"
     ]
    },
    {
     "data": {
      "text/plain": [
       "True"
      ]
     },
     "execution_count": 161,
     "metadata": {},
     "output_type": "execute_result"
    }
   ],
   "source": [
    "display_board(test_board)\n",
    "win_check(test_board,'X')"
   ]
  },
  {
   "cell_type": "code",
   "execution_count": 162,
   "id": "ea63d84a",
   "metadata": {},
   "outputs": [
    {
     "data": {
      "text/plain": [
       "False"
      ]
     },
     "execution_count": 162,
     "metadata": {},
     "output_type": "execute_result"
    }
   ],
   "source": [
    "win_check(test_board,'O')"
   ]
  },
  {
   "cell_type": "code",
   "execution_count": 163,
   "id": "6d6b3d0d",
   "metadata": {},
   "outputs": [],
   "source": [
    "import random\n",
    "\n",
    "def choose_first():\n",
    "    \n",
    "    flip = random.randint(0,1)\n",
    "    \n",
    "    if flip == 0:\n",
    "        return \"Player 1\"\n",
    "    else:\n",
    "        return \"Player 2\""
   ]
  },
  {
   "cell_type": "code",
   "execution_count": 164,
   "id": "b8308860",
   "metadata": {},
   "outputs": [],
   "source": [
    "def space_check(board,postion):\n",
    "    return board[postion]==' '"
   ]
  },
  {
   "cell_type": "code",
   "execution_count": 165,
   "id": "268f6f3e",
   "metadata": {},
   "outputs": [],
   "source": [
    "def full_board_check(board):\n",
    "    for i in range(1,10):\n",
    "        if space_check(board,i):\n",
    "            return False\n",
    "    return True"
   ]
  },
  {
   "cell_type": "code",
   "execution_count": null,
   "id": "bb79d836",
   "metadata": {},
   "outputs": [],
   "source": []
  },
  {
   "cell_type": "markdown",
   "id": "167d46f8",
   "metadata": {},
   "source": [
    "# 22 APR 2022"
   ]
  },
  {
   "cell_type": "code",
   "execution_count": 166,
   "id": "4d768469",
   "metadata": {},
   "outputs": [],
   "source": [
    "# players choice"
   ]
  },
  {
   "cell_type": "code",
   "execution_count": 167,
   "id": "3710e8d6",
   "metadata": {},
   "outputs": [],
   "source": [
    "def player_choice(board):\n",
    "    position = 0\n",
    "    \n",
    "    while position not in [1,2,3,4,5,6,7,8,9] or not space_check(board,position):\n",
    "        position = int(input(\"Enter the position: (1-9)\"))\n",
    "        \n",
    "    return position"
   ]
  },
  {
   "cell_type": "code",
   "execution_count": 168,
   "id": "3c355ceb",
   "metadata": {},
   "outputs": [],
   "source": [
    "def replay():\n",
    "    choice = input(\"Play again: (Yes OR No)\").upper()\n",
    "    \n",
    "    return choice == 'YES'"
   ]
  },
  {
   "cell_type": "code",
   "execution_count": null,
   "id": "6850308b",
   "metadata": {},
   "outputs": [],
   "source": []
  },
  {
   "cell_type": "markdown",
   "id": "dbad12c6",
   "metadata": {},
   "source": [
    "# THE GREAT GAME"
   ]
  },
  {
   "cell_type": "code",
   "execution_count": 169,
   "id": "2880a423",
   "metadata": {},
   "outputs": [
    {
     "name": "stdout",
     "output_type": "stream",
     "text": [
      "Welcome to the Tic Tac Toe\n"
     ]
    }
   ],
   "source": [
    "# WHILE LOOP TO KEEP RUNNING THE GAME\n",
    "print(\"Welcome to the Tic Tac Toe\")   \n",
    "\n",
    "\n",
    "# BREAK OUT OF THE WHILE LOOP ON replay()"
   ]
  },
  {
   "cell_type": "code",
   "execution_count": 170,
   "id": "71f489f7",
   "metadata": {},
   "outputs": [],
   "source": [
    "# OM NAMAH SHIVAY"
   ]
  },
  {
   "cell_type": "markdown",
   "id": "4378f690",
   "metadata": {},
   "source": [
    "# 07 MAY 2022"
   ]
  },
  {
   "cell_type": "markdown",
   "id": "27df431b",
   "metadata": {},
   "source": [
    "# OM NAMAH SHIVAY"
   ]
  },
  {
   "cell_type": "markdown",
   "id": "d3e76379",
   "metadata": {},
   "source": [
    "# THE GREAT GAME"
   ]
  },
  {
   "cell_type": "code",
   "execution_count": 174,
   "id": "7ff0ae3c",
   "metadata": {},
   "outputs": [
    {
     "name": "stdout",
     "output_type": "stream",
     "text": [
      "   |   |\n",
      " X | O | X\n",
      "   |   |\n",
      "-----------\n",
      "   |   |\n",
      " O | O | X\n",
      "   |   |\n",
      "-----------\n",
      "   |   |\n",
      " O | X | O\n",
      "   |   |\n",
      "Tie Game!!\n",
      "Play again: (Yes OR No)m\n"
     ]
    }
   ],
   "source": [
    "# WHILE LOOP TO KEEP RUNNING THE GAME\n",
    "print(\"Welcome to the Tic Tac Toe\")\n",
    "\n",
    "while True:\n",
    "    \n",
    "    # play the game\n",
    "    \n",
    "    # SET EVERYTHING UP (BOARD, WHOSE FIRST, CHOOSE MARKER X,O)\n",
    "    \n",
    "    the_board = [' ']*10\n",
    "    \n",
    "    player1_marker,player2_marker = player_input()\n",
    "    \n",
    "    turn = choose_first()\n",
    "    print(turn + \" will go first!\")\n",
    "    \n",
    "    play_game = input(\"Ready to Play?! y or n\").lower()\n",
    "    \n",
    "    if play_game == 'y':\n",
    "        game_on = True\n",
    "    else:\n",
    "        game_on = False\n",
    "    \n",
    "    ## THE GAME PLAY\n",
    "    \n",
    "    while game_on:\n",
    "        \n",
    "        if turn == 'Player 1':\n",
    "            \n",
    "            # Show the Board \n",
    "            display_board(the_board)\n",
    "            \n",
    "            # choose a position\n",
    "            position = player_choice(the_board)\n",
    "            \n",
    "            # place the marker at that position\n",
    "            place_marker(the_board,player1_marker,position)\n",
    "            \n",
    "            # Check if they won\n",
    "            if win_check(the_board,player1_marker):\n",
    "                display_board(the_board)\n",
    "                print(\"Player 1 Has WON!!\")\n",
    "                game_on = False\n",
    "            \n",
    "            else:\n",
    "                if full_board_check(the_board):\n",
    "                    display_board(the_board)\n",
    "                    print(\"Tie Game!!\")\n",
    "                    game_on = False\n",
    "                else:\n",
    "                    turn = \"Player 2\"\n",
    "                    \n",
    "            # Or check there is a tie\n",
    "            \n",
    "            \n",
    "            # No Win and NO Tie? Then next player's turn\n",
    "            \n",
    "            \n",
    "        ### PLAYER 1 TURN \n",
    "        \n",
    "        else:\n",
    "            \n",
    "            # Show the Board \n",
    "            display_board(the_board)\n",
    "            \n",
    "            # choose a position\n",
    "            position = player_choice(the_board)\n",
    "            \n",
    "            # place the marker at that position\n",
    "            place_marker(the_board,player2_marker,position)\n",
    "            \n",
    "            # Check if they won\n",
    "            if win_check(the_board,player2_marker):\n",
    "                display_board(the_board)\n",
    "                print(\"Player 2 Has WON!!\")\n",
    "                game_on = False\n",
    "            \n",
    "            else:\n",
    "                if full_board_check(the_board):\n",
    "                    display_board(the_board)\n",
    "                    print(\"Tie Game!!\")\n",
    "                    game_on = False\n",
    "                else:\n",
    "                    turn = \"Player 1\"\n",
    "                    \n",
    "            # Or check there is a tie\n",
    "            \n",
    "            \n",
    "            # No Win and NO Tie? Then next player's turn\n",
    "            \n",
    "        \n",
    "        ### PLAYER 2 TURN \n",
    "    \n",
    "    \n",
    "    \n",
    "    if not replay():\n",
    "        break\n",
    "\n",
    "# BREAK OUT OF THE WHILE LOOP ON replay()"
   ]
  },
  {
   "cell_type": "code",
   "execution_count": null,
   "id": "d76620fc",
   "metadata": {},
   "outputs": [],
   "source": []
  },
  {
   "cell_type": "code",
   "execution_count": 176,
   "id": "07b1ff3f",
   "metadata": {},
   "outputs": [
    {
     "name": "stdout",
     "output_type": "stream",
     "text": [
      "   |   |\n",
      " X | O |  \n",
      "   |   |\n",
      "-----------\n",
      "   |   |\n",
      " O | O | X\n",
      "   |   |\n",
      "-----------\n",
      "   |   |\n",
      " X | O | X\n",
      "   |   |\n",
      "Player 2 Has WON!!\n",
      "Play again: (Yes OR No)9\n"
     ]
    }
   ],
   "source": [
    "# WHILE LOOP TO KEEP RUNNING THE GAME\n",
    "print(\"Welcome to the Tic Tac Toe\")\n",
    "\n",
    "while True:\n",
    "    \n",
    "    # play the game\n",
    "    \n",
    "    # SET EVERYTHING UP (BOARD, WHOSE FIRST, CHOOSE MARKER X,O)\n",
    "    the_board = [' ']*10\n",
    "    player1_marker,player2_marker = player_input()\n",
    "    turn = choose_first()\n",
    "    print(turn + \" will go first! \\n\")\n",
    "    play_game = input(\"Ready to Play?! y or n \\n\").lower()\n",
    "    \n",
    "    if play_game == 'y':\n",
    "        game_on = True\n",
    "    else:\n",
    "        game_on = False\n",
    "    \n",
    "    ## THE GAME PLAY\n",
    "    while game_on:\n",
    "        if turn == 'Player 1':\n",
    "            # Show the Board \n",
    "            display_board(the_board)\n",
    "            # choose a position\n",
    "            position = player_choice(the_board)\n",
    "            # place the marker at that position\n",
    "            place_marker(the_board,player1_marker,position)\n",
    "\n",
    "            # Check if they won\n",
    "            if win_check(the_board,player1_marker):\n",
    "                display_board(the_board)\n",
    "                print(\"Player 1 Has WON!!\")\n",
    "                game_on = False\n",
    "            \n",
    "            else:\n",
    "                if full_board_check(the_board):\n",
    "                    display_board(the_board)\n",
    "                    print(\"Tie Game!!\")\n",
    "                    game_on = False\n",
    "                else:\n",
    "                    turn = \"Player 2\"\n",
    "                    \n",
    "            # Or check there is a tie           \n",
    "            # No Win and NO Tie? Then next player's turn\n",
    "        ### PLAYER 1 TURN \n",
    "        \n",
    "        else:\n",
    "            # Show the Board \n",
    "            display_board(the_board)\n",
    "            # choose a position\n",
    "            position = player_choice(the_board)\n",
    "            # place the marker at that position\n",
    "            place_marker(the_board,player2_marker,position)\n",
    "            \n",
    "            # Check if they won\n",
    "            if win_check(the_board,player2_marker):\n",
    "                display_board(the_board)\n",
    "                print(\"Player 2 Has WON!!\")\n",
    "                game_on = False\n",
    "            \n",
    "            else:\n",
    "                if full_board_check(the_board):\n",
    "                    display_board(the_board)\n",
    "                    print(\"Tie Game!!\")\n",
    "                    game_on = False\n",
    "                else:\n",
    "                    turn = \"Player 1\"\n",
    "                    \n",
    "            # Or check there is a tie\n",
    "            # No Win and NO Tie? Then next player's turn       \n",
    "        ### PLAYER 2 TURN \n",
    "       \n",
    "    if not replay():\n",
    "        break\n",
    "# BREAK OUT OF THE WHILE LOOP ON replay()"
   ]
  },
  {
   "cell_type": "code",
   "execution_count": null,
   "id": "9c57bec9",
   "metadata": {},
   "outputs": [],
   "source": []
  }
 ],
 "metadata": {
  "kernelspec": {
   "display_name": "Python 3 (ipykernel)",
   "language": "python",
   "name": "python3"
  },
  "language_info": {
   "codemirror_mode": {
    "name": "ipython",
    "version": 3
   },
   "file_extension": ".py",
   "mimetype": "text/x-python",
   "name": "python",
   "nbconvert_exporter": "python",
   "pygments_lexer": "ipython3",
   "version": "3.8.6"
  }
 },
 "nbformat": 4,
 "nbformat_minor": 5
}
